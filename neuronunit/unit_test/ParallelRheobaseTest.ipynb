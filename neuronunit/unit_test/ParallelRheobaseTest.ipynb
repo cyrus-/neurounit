{
 "cells": [
  {
   "cell_type": "code",
   "execution_count": 1,
   "metadata": {},
   "outputs": [
    {
     "name": "stdout",
     "output_type": "stream",
     "text": [
      "\n",
      "    Starting simulation in NEURON of 500.0ms generated from NeuroML2 model...\n",
      "\n",
      "Population RS_pop contains 1 instance(s) of component: RS of type: izhikevich2007Cell\n"
     ]
    },
    {
     "data": {
      "text/plain": [
       "<sciunit.scores.RatioScore at 0x7fb65442a550>"
      ]
     },
     "execution_count": 1,
     "metadata": {},
     "output_type": "execute_result"
    }
   ],
   "source": [
    "import os\n",
    "import quantities as pq\n",
    "from neuronunit.tests.fi import RheobaseTestP\n",
    "from neuronunit.models.reduced import ReducedModel\n",
    "model_path = os.path.join(os.environ['HOME'],'dev/scidash/neuronunit/neuronunit/models/NeuroML2/LEMS_2007One.xml')\n",
    "model = ReducedModel(model_path,backend='NEURON')\n",
    "test = RheobaseTestP(observation={'value':150*pq.pA})\n",
    "test.judge(model)"
   ]
  },
  {
   "cell_type": "code",
   "execution_count": 11,
   "metadata": {},
   "outputs": [
    {
     "data": {
      "text/plain": [
       "0.3819444444444444"
      ]
     },
     "execution_count": 11,
     "metadata": {},
     "output_type": "execute_result"
    }
   ],
   "source": [
    "Out[1].score"
   ]
  }
 ],
 "metadata": {
  "kernelspec": {
   "display_name": "Python 3",
   "language": "python",
   "name": "python3"
  },
  "language_info": {
   "codemirror_mode": {
    "name": "ipython",
    "version": 3
   },
   "file_extension": ".py",
   "mimetype": "text/x-python",
   "name": "python",
   "nbconvert_exporter": "python",
   "pygments_lexer": "ipython3",
   "version": "3.6.3"
  }
 },
 "nbformat": 4,
 "nbformat_minor": 2
}
