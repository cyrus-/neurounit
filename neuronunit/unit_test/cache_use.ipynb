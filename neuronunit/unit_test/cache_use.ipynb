{
 "cells": [
  {
   "cell_type": "markdown",
   "metadata": {},
   "source": [
    "# Demonstrate the model cache"
   ]
  },
  {
   "cell_type": "code",
   "execution_count": 1,
   "metadata": {},
   "outputs": [],
   "source": [
    "import os\n",
    "import neuronunit\n",
    "from neuronunit.models.reduced import ReducedModel"
   ]
  },
  {
   "cell_type": "code",
   "execution_count": 2,
   "metadata": {},
   "outputs": [],
   "source": [
    "model_path = os.path.join(neuronunit.DIR,'models/NeuroML2/LEMS_2007One.xml')\n",
    "model = ReducedModel(model_path, backend='jNeuroML')"
   ]
  },
  {
   "cell_type": "code",
   "execution_count": 3,
   "metadata": {},
   "outputs": [
    {
     "name": "stdout",
     "output_type": "stream",
     "text": [
      "pyNeuroML >>> Reloading data specified in LEMS file: /tmp/tmpuoilk3ac/LEMS_2007One.xml (/tmp/tmpuoilk3ac/LEMS_2007One.xml), base_dir: /tmp/tmpxmlbpdef, cwd: /mnt/c/Users/Rick Gerkin/Dropbox (ASU)/dev/scidash/neuronunit/neuronunit/unit_test\n",
      "CPU times: user 297 ms, sys: 62.5 ms, total: 359 ms\n",
      "Wall time: 3.2 s\n"
     ]
    }
   ],
   "source": [
    "%time model.run() # Runs slow because the model is brand new"
   ]
  },
  {
   "cell_type": "code",
   "execution_count": 4,
   "metadata": {},
   "outputs": [
    {
     "name": "stdout",
     "output_type": "stream",
     "text": [
      "CPU times: user 15.6 ms, sys: 0 ns, total: 15.6 ms\n",
      "Wall time: 5.48 ms\n"
     ]
    }
   ],
   "source": [
    "%time model.run() # Runs fast because it looks up the result in the memory cache"
   ]
  },
  {
   "cell_type": "code",
   "execution_count": 5,
   "metadata": {},
   "outputs": [],
   "source": [
    "model.get_backend().use_memory_cache = False # Turn off the memory cache"
   ]
  },
  {
   "cell_type": "code",
   "execution_count": 6,
   "metadata": {},
   "outputs": [
    {
     "name": "stdout",
     "output_type": "stream",
     "text": [
      "pyNeuroML >>> Reloading data specified in LEMS file: /tmp/tmpuoilk3ac/LEMS_2007One.xml (/tmp/tmpuoilk3ac/LEMS_2007One.xml), base_dir: /tmp/tmpdg0a9a0g, cwd: /mnt/c/Users/Rick Gerkin/Dropbox (ASU)/dev/scidash/neuronunit/neuronunit/unit_test\n",
      "CPU times: user 281 ms, sys: 62.5 ms, total: 344 ms\n",
      "Wall time: 3.29 s\n"
     ]
    }
   ],
   "source": [
    "%time model.run() # Runs slow because it isn't allowed to use the memory cache and so has to run from scratch"
   ]
  },
  {
   "cell_type": "code",
   "execution_count": 7,
   "metadata": {},
   "outputs": [],
   "source": [
    "model.get_backend().use_disk_cache = True # Turn on the disk cache"
   ]
  },
  {
   "cell_type": "code",
   "execution_count": 8,
   "metadata": {},
   "outputs": [
    {
     "name": "stdout",
     "output_type": "stream",
     "text": [
      "pyNeuroML >>> Reloading data specified in LEMS file: /tmp/tmpuoilk3ac/LEMS_2007One.xml (/tmp/tmpuoilk3ac/LEMS_2007One.xml), base_dir: /tmp/tmpq43k6r5f, cwd: /mnt/c/Users/Rick Gerkin/Dropbox (ASU)/dev/scidash/neuronunit/neuronunit/unit_test\n",
      "CPU times: user 281 ms, sys: 93.8 ms, total: 375 ms\n",
      "Wall time: 3.34 s\n"
     ]
    }
   ],
   "source": [
    "%time model.run() # Still runs slow because it hasn't had a chance to get stored in the disk cache yet"
   ]
  },
  {
   "cell_type": "code",
   "execution_count": 9,
   "metadata": {},
   "outputs": [
    {
     "name": "stdout",
     "output_type": "stream",
     "text": [
      "CPU times: user 78.1 ms, sys: 46.9 ms, total: 125 ms\n",
      "Wall time: 136 ms\n"
     ]
    }
   ],
   "source": [
    "%time model.run() # Runs medium because the disk cache is faster than running from scratch (but slower than the memory cache)"
   ]
  }
 ],
 "metadata": {
  "kernelspec": {
   "display_name": "Python 3",
   "language": "python",
   "name": "python3"
  },
  "language_info": {
   "codemirror_mode": {
    "name": "ipython",
    "version": 3
   },
   "file_extension": ".py",
   "mimetype": "text/x-python",
   "name": "python",
   "nbconvert_exporter": "python",
   "pygments_lexer": "ipython3",
   "version": "3.6.3"
  }
 },
 "nbformat": 4,
 "nbformat_minor": 2
}
