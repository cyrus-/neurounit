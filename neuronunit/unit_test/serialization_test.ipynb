{
 "cells": [
  {
   "cell_type": "code",
   "execution_count": 1,
   "metadata": {},
   "outputs": [
    {
     "name": "stderr",
     "output_type": "stream",
     "text": [
      "/home/rgerkin/miniconda3/lib/python3.6/site-packages/pyNN/neuron/__init__.py:14: UserWarning: mpi4py not available\n",
      "  warnings.warn(\"mpi4py not available\")\n"
     ]
    }
   ],
   "source": [
    "%matplotlib inline\n",
    "import os\n",
    "import matplotlib.pyplot as plt\n",
    "import sciunit\n",
    "import sciunit.scores\n",
    "import neuronunit\n",
    "from neuronunit.models.reduced import ReducedModel\n",
    "from neuronunit.capabilities import ProducesSpikes"
   ]
  },
  {
   "cell_type": "code",
   "execution_count": 2,
   "metadata": {},
   "outputs": [],
   "source": [
    "# Assumes imported neuronunit is from source, e.g. pip install -e\n",
    "path = os.path.join(neuronunit.__path__[0],'models/NeuroML2/LEMS_2007One.xml')\n",
    "# Instantiate three identical models\n",
    "models = [ReducedModel(path, name='Izhikevich', backend='jNeuroML') for i in range(2)]"
   ]
  },
  {
   "cell_type": "code",
   "execution_count": 3,
   "metadata": {},
   "outputs": [],
   "source": [
    "# Change the parameters of the second model\n",
    "models[1].set_attrs({'izhikevich2007Cell':{'a':'0.04 per_ms'}})\n",
    "models[1].name = 'Izhikevich_new'"
   ]
  },
  {
   "cell_type": "code",
   "execution_count": 4,
   "metadata": {},
   "outputs": [
    {
     "data": {
      "image/png": "[encoded data removed]",
      "text/plain": [
       "<matplotlib.figure.Figure at 0x7f190f992438>"
      ]
     },
     "metadata": {},
     "output_type": "display_data"
    }
   ],
   "source": [
    "for model in models:\n",
    "    plt.plot(model.get_membrane_potential(),label=model)\n",
    "plt.legend();"
   ]
  },
  {
   "cell_type": "code",
   "execution_count": 5,
   "metadata": {},
   "outputs": [],
   "source": [
    "# A new M2M test which will compare the equality of spike counts across models\n",
    "class MyTest(sciunit.Test):\n",
    "    required_capabilities = (ProducesSpikes,)\n",
    "    score_type = sciunit.scores.ZScore\n",
    "    def generate_prediction(self,model):\n",
    "        count = model.get_spike_count()\n",
    "        return count"
   ]
  },
  {
   "cell_type": "code",
   "execution_count": 6,
   "metadata": {},
   "outputs": [],
   "source": [
    "test = MyTest(observation={'mean':8, 'std':3})"
   ]
  },
  {
   "cell_type": "code",
   "execution_count": 7,
   "metadata": {},
   "outputs": [
    {
     "name": "stderr",
     "output_type": "stream",
     "text": [
      "/home/rgerkin/Dropbox (ASU)/dev/scidash/sciunit/sciunit/__init__.py:1135: UserWarning: Pandas doesn't allow columns to be created via a new attribute name - see https://pandas.pydata.org/pandas-docs/stable/indexing.html#attribute-access\n",
      "  self.tests = tests\n",
      "/home/rgerkin/Dropbox (ASU)/dev/scidash/sciunit/sciunit/__init__.py:1136: UserWarning: Pandas doesn't allow columns to be created via a new attribute name - see https://pandas.pydata.org/pandas-docs/stable/indexing.html#attribute-access\n",
      "  self.models = models\n",
      "/home/rgerkin/Dropbox (ASU)/dev/scidash/sciunit/sciunit/__init__.py:1138: UserWarning: Pandas doesn't allow columns to be created via a new attribute name - see https://pandas.pydata.org/pandas-docs/stable/indexing.html#attribute-access\n",
      "  self.weights = np.ones(n) if weights is None else np.array(weights)\n"
     ]
    },
    {
     "data": {
      "text/html": [
       "Executing test <i>MyTest</i> on model <i>Izhikevich</i>... "
      ],
      "text/plain": [
       "<IPython.core.display.HTML object>"
      ]
     },
     "metadata": {},
     "output_type": "display_data"
    },
    {
     "data": {
      "text/html": [
       "Score is <a style=\"color: rgb(183,225,117)\">Z = -0.33</a>\n"
      ],
      "text/plain": [
       "<IPython.core.display.HTML object>"
      ]
     },
     "metadata": {},
     "output_type": "display_data"
    },
    {
     "data": {
      "text/html": [
       "Executing test <i>MyTest</i> on model <i>Izhikevich_new</i>... "
      ],
      "text/plain": [
       "<IPython.core.display.HTML object>"
      ]
     },
     "metadata": {},
     "output_type": "display_data"
    },
    {
     "data": {
      "text/html": [
       "Score is <a style=\"color: rgb(183,225,117)\">Z = -0.33</a>\n"
      ],
      "text/plain": [
       "<IPython.core.display.HTML object>"
      ]
     },
     "metadata": {},
     "output_type": "display_data"
    }
   ],
   "source": [
    "s = test.judge(models)"
   ]
  },
  {
   "cell_type": "code",
   "execution_count": 8,
   "metadata": {},
   "outputs": [
    {
     "data": {
      "text/html": [
       "<html><body><div>\n",
       "<style scoped=\"\">\n",
       "    .dataframe tbody tr th:only-of-type {\n",
       "        vertical-align: middle;\n",
       "    }\n",
       "\n",
       "    .dataframe tbody tr th {\n",
       "        vertical-align: top;\n",
       "    }\n",
       "\n",
       "    .dataframe thead th {\n",
       "        text-align: right;\n",
       "    }\n",
       "</style>\n",
       "<table border=\"1\" class=\"dataframe\" id=\"8667249357674591349\">\n",
       "<thead>\n",
       "<tr style=\"text-align: right;\">\n",
       "<th></th>\n",
       "<th title>MyTest</th>\n",
       "</tr>\n",
       "</thead>\n",
       "<tbody>\n",
       "<tr>\n",
       "<th title=\"Base class for reduced models, using LEMS\">Izhikevich</th>\n",
       "<td style=\"background-color: rgb(183,225,117);\" title=\"A Z score. A float indicating standardized difference from a reference mean.\n",
       "The difference between the means of the observation and prediction divided by the standard deviation of the observation\">Z = -0.33</td>\n",
       "</tr>\n",
       "<tr>\n",
       "<th title=\"Base class for reduced models, using LEMS\">Izhikevich_new</th>\n",
       "<td style=\"background-color: rgb(183,225,117);\" title=\"A Z score. A float indicating standardized difference from a reference mean.\n",
       "The difference between the means of the observation and prediction divided by the standard deviation of the observation\">Z = -0.33</td>\n",
       "</tr>\n",
       "</tbody>\n",
       "</table>\n",
       "</div></body></html>"
      ],
      "text/plain": [
       "                   MyTest\n",
       "Izhikevich      Z = -0.33\n",
       "Izhikevich_new  Z = -0.33"
      ]
     },
     "execution_count": 8,
     "metadata": {},
     "output_type": "execute_result"
    }
   ],
   "source": [
    "# The score matrix\n",
    "s"
   ]
  },
  {
   "cell_type": "code",
   "execution_count": 9,
   "metadata": {},
   "outputs": [
    {
     "data": {
      "text/plain": [
       "{'description': None,\n",
       " 'name': 'MyTest',\n",
       " 'observation': {'mean': 8, 'std': 3},\n",
       " 'unpicklable': [],\n",
       " 'verbose': 1}"
      ]
     },
     "execution_count": 9,
     "metadata": {},
     "output_type": "execute_result"
    }
   ],
   "source": [
    "test.json()"
   ]
  },
  {
   "cell_type": "code",
   "execution_count": 10,
   "metadata": {},
   "outputs": [
    {
     "name": "stdout",
     "output_type": "stream",
     "text": [
      "Model has no associated url; please set the url attribute of the model\n"
     ]
    }
   ],
   "source": [
    "def check_url(x):\n",
    "    if not x.json().get('url'):\n",
    "        print(\"Model has no associated url; please set the url attribute of the model\")\n",
    "check_url(models[0])"
   ]
  },
  {
   "cell_type": "code",
   "execution_count": 11,
   "metadata": {},
   "outputs": [],
   "source": [
    "# How do you want your GitHub URLs?  \n",
    "lems_url = (\"https://github.com/scidash/neuronunit/blob/master/neuronunit/\"\n",
    "            \"models/NeuroML2/LEMS_2007One.xml\")\n",
    "models[0].url = lems_url\n",
    "models[1].url = lems_url"
   ]
  },
  {
   "cell_type": "code",
   "execution_count": 12,
   "metadata": {},
   "outputs": [],
   "source": [
    "check_url(models[0])"
   ]
  },
  {
   "cell_type": "code",
   "execution_count": 13,
   "metadata": {},
   "outputs": [
    {
     "data": {
      "text/plain": [
       "{'attrs': {},\n",
       " 'name': 'Izhikevich',\n",
       " 'run_params': {},\n",
       " 'url': 'https://github.com/scidash/neuronunit/blob/master/neuronunit/models/NeuroML2/LEMS_2007One.xml'}"
      ]
     },
     "execution_count": 13,
     "metadata": {},
     "output_type": "execute_result"
    }
   ],
   "source": [
    "# Has fewer attributes because most of them came from the LEMS file so those are assumed\n",
    "# to still be the values in memory.  If we need to extract these then I need to find a\n",
    "# way to read them from the file; however, there may be no general way to do so for all\n",
    "# LEMS files, and certainly not for all possible models.  \n",
    "models[0].json()"
   ]
  },
  {
   "cell_type": "code",
   "execution_count": 14,
   "metadata": {},
   "outputs": [
    {
     "data": {
      "text/plain": [
       "{'attrs': {'izhikevich2007Cell': {'a': '0.04 per_ms'}},\n",
       " 'name': 'Izhikevich_new',\n",
       " 'run_params': {},\n",
       " 'url': 'https://github.com/scidash/neuronunit/blob/master/neuronunit/models/NeuroML2/LEMS_2007One.xml'}"
      ]
     },
     "execution_count": 14,
     "metadata": {},
     "output_type": "execute_result"
    }
   ],
   "source": [
    "# Has more attributes because some of the original attributes from the LEMS file \n",
    "# were replaced with new ones in this session\n",
    "models[1].json()"
   ]
  },
  {
   "cell_type": "code",
   "execution_count": 15,
   "metadata": {},
   "outputs": [
    {
     "data": {
      "text/plain": [
       "{'model': {'attrs': {},\n",
       "  'name': 'Izhikevich',\n",
       "  'run_params': {},\n",
       "  'url': 'https://github.com/scidash/neuronunit/blob/master/neuronunit/models/NeuroML2/LEMS_2007One.xml'},\n",
       " 'observation': {'mean': 8, 'std': 3},\n",
       " 'prediction': 7,\n",
       " 'related_data': {},\n",
       " 'score': -0.3333333333333333,\n",
       " 'test': {'description': None,\n",
       "  'name': 'MyTest',\n",
       "  'observation': {'mean': 8, 'std': 3},\n",
       "  'unpicklable': [],\n",
       "  'verbose': 1},\n",
       " 'unpicklable': []}"
      ]
     },
     "execution_count": 15,
     "metadata": {},
     "output_type": "execute_result"
    }
   ],
   "source": [
    "score = s['Izhikevich','MyTest']\n",
    "score.json()"
   ]
  },
  {
   "cell_type": "code",
   "execution_count": 16,
   "metadata": {},
   "outputs": [
    {
     "data": {
      "text/plain": [
       "{'_class': 'ZScore',\n",
       " 'model': {'_class': 'ReducedModel',\n",
       "  'attrs': {},\n",
       "  'capabilities': ['Runnable',\n",
       "   'ReceivesCurrent',\n",
       "   'ReceivesSquareCurrent',\n",
       "   'ProducesActionPotentials',\n",
       "   'ProducesSpikes',\n",
       "   'ProducesMembranePotential'],\n",
       "  'name': 'Izhikevich',\n",
       "  'run_params': {},\n",
       "  'url': 'https://github.com/scidash/neuronunit/blob/master/neuronunit/models/NeuroML2/LEMS_2007One.xml'},\n",
       " 'observation': {'mean': 8, 'std': 3},\n",
       " 'prediction': 7,\n",
       " 'raw': '-0.3333',\n",
       " 'related_data': {},\n",
       " 'score': -0.3333333333333333,\n",
       " 'sort_key': 0.7388826803635273,\n",
       " 'summary': \"=== Model Izhikevich achieved score Z = -0.33 on test 'MyTest'. ===\",\n",
       " 'test': {'_class': 'MyTest',\n",
       "  'description': None,\n",
       "  'name': 'MyTest',\n",
       "  'observation': {'mean': 8, 'std': 3},\n",
       "  'unpicklable': [],\n",
       "  'verbose': 1},\n",
       " 'unpicklable': []}"
      ]
     },
     "execution_count": 16,
     "metadata": {},
     "output_type": "execute_result"
    }
   ],
   "source": [
    "score.json(add_props=True)"
   ]
  },
  {
   "cell_type": "code",
   "execution_count": null,
   "metadata": {},
   "outputs": [],
   "source": []
  }
 ],
 "metadata": {
  "kernelspec": {
   "display_name": "Python 3",
   "language": "python",
   "name": "python3"
  },
  "language_info": {
   "codemirror_mode": {
    "name": "ipython",
    "version": 3
   },
   "file_extension": ".py",
   "mimetype": "text/x-python",
   "name": "python",
   "nbconvert_exporter": "python",
   "pygments_lexer": "ipython3",
   "version": "3.6.3"
  }
 },
 "nbformat": 4,
 "nbformat_minor": 2
}
