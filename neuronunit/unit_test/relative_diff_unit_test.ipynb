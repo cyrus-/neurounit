{
 "cells": [
  {
   "cell_type": "code",
   "execution_count": 1,
   "metadata": {},
   "outputs": [
    {
     "name": "stderr",
     "output_type": "stream",
     "text": [
      "/home/user/anaconda3/lib/python3.7/site-packages/cerberus/validator.py:1609: UserWarning: No validation schema is defined for the arguments of rule 'not_zero_obs_zscore'\n",
      "  \"'%s'\" % method_name.split('_', 2)[-1]\n",
      "/home/user/anaconda3/lib/python3.7/site-packages/airspeed/__init__.py:505: FutureWarning: Possible nested set at position 8\n",
      "  KEYVALSEP = re.compile(r'[ \\t]*:[[ \\t]*(.*)$', re.S)\n",
      "test\n"
     ]
    }
   ],
   "source": [
    "import unittest\n",
    "import matplotlib\n",
    "matplotlib.use('Agg')\n",
    "from neuronunit.allenapi.allen_data_driven import opt_setup, opt_setup_two, opt_exec\n",
    "from neuronunit.allenapi.allen_data_driven import opt_to_model, meta_setup\n",
    "from neuronunit.allenapi.utils import dask_map_function"
   ]
  },
  {
   "cell_type": "markdown",
   "metadata": {},
   "source": [
    "except:\n",
    "   from bluepyopt.allenapi.allen_data_driven import opt_setup, opt_setup_two, opt_exec, opt_to_model\n",
    "   from bluepyopt.allenapi.allen_data_driven import opt_to_model\n",
    "   from bluepyopt.allenapi.utils import dask_map_function"
   ]
  },
  {
   "cell_type": "code",
   "execution_count": 2,
   "metadata": {
    "lines_to_next_cell": 1
   },
   "outputs": [],
   "source": [
    "from neuronunit.optimization.optimization_management import check_bin_vm15\n",
    "from neuronunit.optimization.model_parameters import MODEL_PARAMS, BPO_PARAMS, to_bpo_param\n",
    "from neuronunit.optimization.optimization_management import dtc_to_rheo,inject_and_plot_model\n",
    "import numpy as np\n",
    "from neuronunit.optimization.data_transport_container import DataTC\n",
    "import efel\n",
    "from jithub.models import model_classes\n",
    "import matplotlib.pyplot as plt\n",
    "import quantities as qt\n",
    "import os\n",
    "from sciunit.scores import RelativeDifferenceScore,ZScore"
   ]
  },
  {
   "cell_type": "code",
   "execution_count": 3,
   "metadata": {},
   "outputs": [],
   "source": [
    "class testOptimization(unittest.TestCase):\n",
    "    def setUp(self):\n",
    "        self = self\n",
    "        self.ids = [ 324257146,\n",
    "                325479788,\n",
    "                476053392,\n",
    "                623893177,\n",
    "                623960880,\n",
    "                482493761,\n",
    "                471819401\n",
    "               ]\n",
    "\n",
    "    def test_opt_relative_diff(self):\n",
    "        specimen_id = self.ids[1]\n",
    "        model_type = \"ADEXP\"\n",
    "\n",
    "        if model_type == \"IZHI\":\n",
    "            model = model_classes.IzhiModel()\n",
    "        if model_type == \"MAT\":\n",
    "            model = model_classes.MATModel()\n",
    "        if model_type == \"ADEXP\":\n",
    "            model = model_classes.ADEXPModel()\n",
    "\n",
    "\n",
    "        target_num_spikes = 8 # This is the number of spikes to look for in the data\n",
    "\n",
    "        fixed_current = 122 *qt.pA\n",
    "        NGEN = 15\n",
    "        MU = 12\n",
    "        mapping_funct = dask_map_function\n",
    "        cell_evaluator,simple_cell,suite,target_current,spk_count = meta_setup(specimen_id,\n",
    "                  model_type,\n",
    "                  target_num_spikes,\n",
    "                  template_model=model,\n",
    "                  fixed_current=False,\n",
    "                  cached=True,score_type=RelativeDifferenceScore)\n",
    "        final_pop, hall_of_fame, logs, hist = opt_exec(MU,NGEN,mapping_funct,cell_evaluator)\n",
    "        opt,target = opt_to_model(hall_of_fame,cell_evaluator,suite, target_current, spk_count)\n",
    "        best_ind = hall_of_fame[0]\n",
    "        fitnesses = cell_evaluator.evaluate_with_lists(best_ind)\n",
    "        self.assertGreater(0.7,np.sum(fitnesses))\n",
    "    def test_opt_ZScore(self):\n",
    "        specimen_id = self.ids[1]\n",
    "        model_type = \"ADEXP\"\n",
    "\n",
    "        if model_type == \"IZHI\":\n",
    "            model = model_classes.IzhiModel()\n",
    "        if model_type == \"MAT\":\n",
    "            model = model_classes.MATModel()\n",
    "        if model_type == \"ADEXP\":\n",
    "            model = model_classes.ADEXPModel()\n",
    "\n",
    "\n",
    "        target_num_spikes = 8\n",
    "        dtc = DataTC()\n",
    "        dtc.backend = model_type\n",
    "        dtc._backend = model._backend\n",
    "        dtc.attrs = model.attrs\n",
    "        dtc.params = {k:np.mean(v) for k,v in MODEL_PARAMS[model_type].items()}\n",
    "\n",
    "        fixed_current = 122 *qt.pA\n",
    "        NGEN = 15\n",
    "        MU = 12\n",
    "        mapping_funct = dask_map_function\n",
    "        cell_evaluator,simple_cell,suite,target_current,spk_count = meta_setup(specimen_id,\n",
    "                  model_type,\n",
    "                  target_num_spikes,\n",
    "                  template_model=model,\n",
    "                  fixed_current=False,\n",
    "                  cached=True,score_type=ZScore)\n",
    "        final_pop, hall_of_fame, logs, hist = opt_exec(MU,NGEN,mapping_funct,cell_evaluator)\n",
    "        opt,target = opt_to_model(hall_of_fame,cell_evaluator,suite, target_current, spk_count)\n",
    "        best_ind = hall_of_fame[0]\n",
    "        fitnesses = cell_evaluator.evaluate_with_lists(best_ind)\n",
    "        self.assertGreater(0.7,np.sum(fitnesses))\n",
    "        target.vm15 = suite.traces['vm15']\n",
    "        check_bin_vm15(target,opt)\n",
    "\n"
   ]
  },
  {
   "cell_type": "code",
   "execution_count": 4,
   "metadata": {},
   "outputs": [],
   "source": [
    "tt = testOptimization()\n",
    "tt.setUp()"
   ]
  },
  {
   "cell_type": "code",
   "execution_count": 5,
   "metadata": {},
   "outputs": [
    {
     "name": "stdout",
     "output_type": "stream",
     "text": [
      "ADEXPModel <jithub.models.backends.adexp.JIT_ADEXPBackend object at 0x7f12789972d0>\n",
      "ADEXPModel <jithub.models.backends.adexp.JIT_ADEXPBackend object at 0x7f12789972d0>\n"
     ]
    },
    {
     "name": "stderr",
     "output_type": "stream",
     "text": [
      "gen\tnevals\tavg    \tstd    \tmin    \tmax  \n",
      "1  \t12    \t6298.88\t9930.27\t5.16747\t22000\n"
     ]
    },
    {
     "data": {
      "application/vnd.jupyter.widget-view+json": {
       "model_id": "7183a1639983486aaf8227bc1c3829bc",
       "version_major": 2,
       "version_minor": 0
      },
      "text/plain": [
       "HBox(children=(FloatProgress(value=0.0, max=15.0), HTML(value='')))"
      ]
     },
     "metadata": {},
     "output_type": "display_data"
    },
    {
     "name": "stderr",
     "output_type": "stream",
     "text": [
      "2  \t5     \t5513   \t9518.79\t5.16747\t22000\n",
      "3  \t7     \t24.797 \t24.3271\t1.06407\t77.56\n",
      "4  \t10    \t6.99067\t2.76584\t1.06407\t13.6595\n",
      "5  \t5     \t3.81736\t3.18162\t0.981915\t9.29937\n",
      "6  \t6     \t3.65127\t2.57383\t0.981915\t6.91363\n",
      "7  \t10    \t2.52413\t2.19394\t0.981915\t6.60737\n",
      "8  \t7     \t3.09085\t2.39791\t0.981915\t7.38082\n",
      "9  \t8     \t3.49101\t2.32711\t0.617667\t6.12145\n",
      "10 \t7     \t0.897581\t0.243313\t0.617667\t1.59896\n",
      "11 \t6     \t0.860469\t0.229198\t0.617667\t1.55481\n",
      "12 \t8     \t1.20713 \t0.563197\t0.617667\t2.50251\n",
      "13 \t7     \t0.617667\t0       \t0.617667\t0.617667\n",
      "14 \t8     \t0.617667\t0       \t0.617667\t0.617667\n",
      "15 \t9     \t0.617667\t0       \t0.617667\t0.617667\n",
      "Run stopped because of stopping criteria: Max ngen\n"
     ]
    },
    {
     "name": "stdout",
     "output_type": "stream",
     "text": [
      "\n"
     ]
    }
   ],
   "source": [
    "tt.test_opt_ZScore()\n"
   ]
  },
  {
   "cell_type": "code",
   "execution_count": 6,
   "metadata": {},
   "outputs": [
    {
     "name": "stdout",
     "output_type": "stream",
     "text": [
      "ADEXPModel <jithub.models.backends.adexp.JIT_ADEXPBackend object at 0x7f1271802b10>\n",
      "ADEXPModel <jithub.models.backends.adexp.JIT_ADEXPBackend object at 0x7f1271802b10>\n"
     ]
    },
    {
     "name": "stderr",
     "output_type": "stream",
     "text": [
      "gen\tnevals\tavg    \tstd    \tmin    \tmax  \n",
      "1  \t12    \t7284.65\t9340.56\t567.194\t22000\n"
     ]
    },
    {
     "data": {
      "application/vnd.jupyter.widget-view+json": {
       "model_id": "1c4050f6a63846119733a564afb3aab1",
       "version_major": 2,
       "version_minor": 0
      },
      "text/plain": [
       "HBox(children=(FloatProgress(value=0.0, max=15.0), HTML(value='')))"
      ]
     },
     "metadata": {},
     "output_type": "display_data"
    },
    {
     "name": "stderr",
     "output_type": "stream",
     "text": [
      "2  \t5     \t6497.93\t8983.45\t567.194\t22000\n",
      "3  \t7     \t777.684\t242.508\t235.365\t1250.62\n",
      "4  \t10    \t742.865\t267.601\t235.365\t1169.48\n",
      "5  \t8     \t678.812\t380.807\t61.5328\t1279.63\n",
      "6  \t9     \t660.585\t409.599\t18.8066\t1347.14\n",
      "7  \t9     \t51.3298\t65.3723\t18.2966\t244.973\n",
      "8  \t9     \t124.756\t98.9169\t18.2966\t318.948\n",
      "9  \t5     \t60.0446\t11.3558\t18.2966\t63.8139\n",
      "10 \t7     \t55.3502\t12.9475\t18.2966\t63.8139\n",
      "11 \t8     \t61.6096\t54.9918\t18.2966\t247.78 \n",
      "12 \t9     \t199.402\t185.042\t18.2966\t591.361\n",
      "13 \t4     \t110.317\t97.3288\t18.2966\t410.031\n",
      "14 \t9     \t32.5995\t14.6268\t18.1847\t57.4616\n",
      "15 \t10    \t46.1536\t51.5964\t18.0925\t186.868\n",
      "Run stopped because of stopping criteria: Max ngen\n"
     ]
    },
    {
     "name": "stdout",
     "output_type": "stream",
     "text": [
      "\n"
     ]
    },
    {
     "ename": "AssertionError",
     "evalue": "0.7 not greater than 18.092475",
     "output_type": "error",
     "traceback": [
      "\u001b[0;31m---------------------------------------------------------------------------\u001b[0m",
      "\u001b[0;31mAssertionError\u001b[0m                            Traceback (most recent call last)",
      "\u001b[0;32m<ipython-input-6-eb037c767d3f>\u001b[0m in \u001b[0;36m<module>\u001b[0;34m\u001b[0m\n\u001b[0;32m----> 1\u001b[0;31m \u001b[0mtt\u001b[0m\u001b[0;34m.\u001b[0m\u001b[0mtest_opt_relative_diff\u001b[0m\u001b[0;34m(\u001b[0m\u001b[0;34m)\u001b[0m\u001b[0;34m\u001b[0m\u001b[0;34m\u001b[0m\u001b[0m\n\u001b[0m",
      "\u001b[0;32m<ipython-input-3-c61bb15fb57d>\u001b[0m in \u001b[0;36mtest_opt_relative_diff\u001b[0;34m(self)\u001b[0m\n\u001b[1;32m     39\u001b[0m         \u001b[0mbest_ind\u001b[0m \u001b[0;34m=\u001b[0m \u001b[0mhall_of_fame\u001b[0m\u001b[0;34m[\u001b[0m\u001b[0;36m0\u001b[0m\u001b[0;34m]\u001b[0m\u001b[0;34m\u001b[0m\u001b[0;34m\u001b[0m\u001b[0m\n\u001b[1;32m     40\u001b[0m         \u001b[0mfitnesses\u001b[0m \u001b[0;34m=\u001b[0m \u001b[0mcell_evaluator\u001b[0m\u001b[0;34m.\u001b[0m\u001b[0mevaluate_with_lists\u001b[0m\u001b[0;34m(\u001b[0m\u001b[0mbest_ind\u001b[0m\u001b[0;34m)\u001b[0m\u001b[0;34m\u001b[0m\u001b[0;34m\u001b[0m\u001b[0m\n\u001b[0;32m---> 41\u001b[0;31m         \u001b[0mself\u001b[0m\u001b[0;34m.\u001b[0m\u001b[0massertGreater\u001b[0m\u001b[0;34m(\u001b[0m\u001b[0;36m0.7\u001b[0m\u001b[0;34m,\u001b[0m\u001b[0mnp\u001b[0m\u001b[0;34m.\u001b[0m\u001b[0msum\u001b[0m\u001b[0;34m(\u001b[0m\u001b[0mfitnesses\u001b[0m\u001b[0;34m)\u001b[0m\u001b[0;34m)\u001b[0m\u001b[0;34m\u001b[0m\u001b[0;34m\u001b[0m\u001b[0m\n\u001b[0m\u001b[1;32m     42\u001b[0m     \u001b[0;32mdef\u001b[0m \u001b[0mtest_opt_ZScore\u001b[0m\u001b[0;34m(\u001b[0m\u001b[0mself\u001b[0m\u001b[0;34m)\u001b[0m\u001b[0;34m:\u001b[0m\u001b[0;34m\u001b[0m\u001b[0;34m\u001b[0m\u001b[0m\n\u001b[1;32m     43\u001b[0m         \u001b[0mspecimen_id\u001b[0m \u001b[0;34m=\u001b[0m \u001b[0mself\u001b[0m\u001b[0;34m.\u001b[0m\u001b[0mids\u001b[0m\u001b[0;34m[\u001b[0m\u001b[0;36m1\u001b[0m\u001b[0;34m]\u001b[0m\u001b[0;34m\u001b[0m\u001b[0;34m\u001b[0m\u001b[0m\n",
      "\u001b[0;32m~/anaconda3/lib/python3.7/unittest/case.py\u001b[0m in \u001b[0;36massertGreater\u001b[0;34m(self, a, b, msg)\u001b[0m\n\u001b[1;32m   1249\u001b[0m         \u001b[0;32mif\u001b[0m \u001b[0;32mnot\u001b[0m \u001b[0ma\u001b[0m \u001b[0;34m>\u001b[0m \u001b[0mb\u001b[0m\u001b[0;34m:\u001b[0m\u001b[0;34m\u001b[0m\u001b[0;34m\u001b[0m\u001b[0m\n\u001b[1;32m   1250\u001b[0m             \u001b[0mstandardMsg\u001b[0m \u001b[0;34m=\u001b[0m \u001b[0;34m'%s not greater than %s'\u001b[0m \u001b[0;34m%\u001b[0m \u001b[0;34m(\u001b[0m\u001b[0msafe_repr\u001b[0m\u001b[0;34m(\u001b[0m\u001b[0ma\u001b[0m\u001b[0;34m)\u001b[0m\u001b[0;34m,\u001b[0m \u001b[0msafe_repr\u001b[0m\u001b[0;34m(\u001b[0m\u001b[0mb\u001b[0m\u001b[0;34m)\u001b[0m\u001b[0;34m)\u001b[0m\u001b[0;34m\u001b[0m\u001b[0;34m\u001b[0m\u001b[0m\n\u001b[0;32m-> 1251\u001b[0;31m             \u001b[0mself\u001b[0m\u001b[0;34m.\u001b[0m\u001b[0mfail\u001b[0m\u001b[0;34m(\u001b[0m\u001b[0mself\u001b[0m\u001b[0;34m.\u001b[0m\u001b[0m_formatMessage\u001b[0m\u001b[0;34m(\u001b[0m\u001b[0mmsg\u001b[0m\u001b[0;34m,\u001b[0m \u001b[0mstandardMsg\u001b[0m\u001b[0;34m)\u001b[0m\u001b[0;34m)\u001b[0m\u001b[0;34m\u001b[0m\u001b[0;34m\u001b[0m\u001b[0m\n\u001b[0m\u001b[1;32m   1252\u001b[0m \u001b[0;34m\u001b[0m\u001b[0m\n\u001b[1;32m   1253\u001b[0m     \u001b[0;32mdef\u001b[0m \u001b[0massertGreaterEqual\u001b[0m\u001b[0;34m(\u001b[0m\u001b[0mself\u001b[0m\u001b[0;34m,\u001b[0m \u001b[0ma\u001b[0m\u001b[0;34m,\u001b[0m \u001b[0mb\u001b[0m\u001b[0;34m,\u001b[0m \u001b[0mmsg\u001b[0m\u001b[0;34m=\u001b[0m\u001b[0;32mNone\u001b[0m\u001b[0;34m)\u001b[0m\u001b[0;34m:\u001b[0m\u001b[0;34m\u001b[0m\u001b[0;34m\u001b[0m\u001b[0m\n",
      "\u001b[0;32m~/anaconda3/lib/python3.7/unittest/case.py\u001b[0m in \u001b[0;36mfail\u001b[0;34m(self, msg)\u001b[0m\n\u001b[1;32m    691\u001b[0m     \u001b[0;32mdef\u001b[0m \u001b[0mfail\u001b[0m\u001b[0;34m(\u001b[0m\u001b[0mself\u001b[0m\u001b[0;34m,\u001b[0m \u001b[0mmsg\u001b[0m\u001b[0;34m=\u001b[0m\u001b[0;32mNone\u001b[0m\u001b[0;34m)\u001b[0m\u001b[0;34m:\u001b[0m\u001b[0;34m\u001b[0m\u001b[0;34m\u001b[0m\u001b[0m\n\u001b[1;32m    692\u001b[0m         \u001b[0;34m\"\"\"Fail immediately, with the given message.\"\"\"\u001b[0m\u001b[0;34m\u001b[0m\u001b[0;34m\u001b[0m\u001b[0m\n\u001b[0;32m--> 693\u001b[0;31m         \u001b[0;32mraise\u001b[0m \u001b[0mself\u001b[0m\u001b[0;34m.\u001b[0m\u001b[0mfailureException\u001b[0m\u001b[0;34m(\u001b[0m\u001b[0mmsg\u001b[0m\u001b[0;34m)\u001b[0m\u001b[0;34m\u001b[0m\u001b[0;34m\u001b[0m\u001b[0m\n\u001b[0m\u001b[1;32m    694\u001b[0m \u001b[0;34m\u001b[0m\u001b[0m\n\u001b[1;32m    695\u001b[0m     \u001b[0;32mdef\u001b[0m \u001b[0massertFalse\u001b[0m\u001b[0;34m(\u001b[0m\u001b[0mself\u001b[0m\u001b[0;34m,\u001b[0m \u001b[0mexpr\u001b[0m\u001b[0;34m,\u001b[0m \u001b[0mmsg\u001b[0m\u001b[0;34m=\u001b[0m\u001b[0;32mNone\u001b[0m\u001b[0;34m)\u001b[0m\u001b[0;34m:\u001b[0m\u001b[0;34m\u001b[0m\u001b[0;34m\u001b[0m\u001b[0m\n",
      "\u001b[0;31mAssertionError\u001b[0m: 0.7 not greater than 18.092475"
     ]
    }
   ],
   "source": [
    "\n",
    "tt.test_opt_relative_diff()"
   ]
  },
  {
   "cell_type": "code",
   "execution_count": null,
   "metadata": {},
   "outputs": [],
   "source": []
  }
 ],
 "metadata": {
  "jupytext": {
   "cell_metadata_filter": "-all",
   "notebook_metadata_filter": "-all",
   "text_representation": {
    "extension": ".py",
    "format_name": "light"
   }
  },
  "kernelspec": {
   "display_name": "Python 3",
   "language": "python",
   "name": "python3"
  },
  "language_info": {
   "codemirror_mode": {
    "name": "ipython",
    "version": 3
   },
   "file_extension": ".py",
   "mimetype": "text/x-python",
   "name": "python",
   "nbconvert_exporter": "python",
   "pygments_lexer": "ipython3",
   "version": "3.7.4"
  }
 },
 "nbformat": 4,
 "nbformat_minor": 2
}
