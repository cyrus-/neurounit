{
 "cells": [
  {
   "cell_type": "code",
   "execution_count": 1,
   "metadata": {},
   "outputs": [
    {
     "name": "stderr",
     "output_type": "stream",
     "text": [
      "/home/rudolph/anaconda3/lib/python3.8/site-packages/cerberus/validator.py:1607: UserWarning: No validation schema is defined for the arguments of rule 'not_zero_obs_zscore'\n",
      "  warn(\n"
     ]
    }
   ],
   "source": [
    "import unittest\n",
    "import matplotlib\n",
    "from neuronunit.allenapi.allen_data_driven import opt_setup, opt_setup_two, opt_exec\n",
    "from neuronunit.allenapi.allen_data_driven import opt_to_model,wrap_setups\n",
    "from neuronunit.allenapi.utils import dask_map_function"
   ]
  },
  {
   "cell_type": "markdown",
   "metadata": {},
   "source": []
  },
  {
   "cell_type": "code",
   "execution_count": 2,
   "metadata": {
    "lines_to_next_cell": 1
   },
   "outputs": [],
   "source": [
    "from neuronunit.optimization.optimization_management import check_bin_vm_soma\n",
    "from neuronunit.optimization.model_parameters import MODEL_PARAMS, BPO_PARAMS, to_bpo_param\n",
    "from neuronunit.optimization.optimization_management import dtc_to_rheo,inject_and_plot_model\n",
    "import numpy as np\n",
    "from neuronunit.optimization.data_transport_container import DataTC\n",
    "import efel\n",
    "from jithub.models import model_classes\n",
    "import matplotlib.pyplot as plt\n",
    "import quantities as qt\n",
    "import os\n",
    "from sciunit.scores import RelativeDifferenceScore,ZScore\n",
    "import copy"
   ]
  },
  {
   "cell_type": "code",
   "execution_count": 3,
   "metadata": {},
   "outputs": [],
   "source": [
    "\n",
    "\n",
    "class testOptimization(unittest.TestCase):\n",
    "    def setUp(self):\n",
    "        self = self\n",
    "        self.ids = [ 324257146,\n",
    "                325479788,\n",
    "                476053392,\n",
    "                623893177,\n",
    "                623960880,\n",
    "                482493761,\n",
    "                471819401\n",
    "               ]\n",
    "        self.specimen_id = self.ids[1]\n",
    "    def optimize_job(self,model_type,score_type=ZScore):\n",
    "\n",
    "        target_num_spikes = 8\n",
    "        dtc = DataTC()\n",
    "        dtc.backend = model_type\n",
    "        model = dtc.dtc_to_model()\n",
    "        model.params = copy.copy(BPO_PARAMS[model_type])\n",
    "        fixed_current = 122 *qt.pA\n",
    "        if model_type is \"ADEXP\":\n",
    "            NGEN = 100\n",
    "            MU = 20\n",
    "        else:\n",
    "            NGEN = 100\n",
    "            MU = 100\n",
    "            \n",
    "        mapping_funct = dask_map_function\n",
    "        cell_evaluator,simple_cell,suite,target_current,spk_count = wrap_setups(\n",
    "                  self.specimen_id,\n",
    "                  model_type,\n",
    "                  target_num_spikes,\n",
    "                  template_model=copy.copy(model),\n",
    "                  fixed_current=False,\n",
    "                  cached=False,\n",
    "                  score_type=score_type\n",
    "        )\n",
    "        del model\n",
    "\n",
    "        final_pop, hall_of_fame, logs, hist = opt_exec(MU,NGEN,mapping_funct,cell_evaluator)\n",
    "        opt,target = opt_to_model(hall_of_fame,cell_evaluator,suite, target_current, spk_count)\n",
    "        best_ind = hall_of_fame[0]\n",
    "        fitnesses = cell_evaluator.evaluate_with_lists(best_ind)\n",
    "        target.vm_soma = suite.traces['vm15']\n",
    "        check_bin_vm_soma(target,opt)\n",
    "        \n",
    "        return np.sum(fitnesses)\n",
    "    def test_opt_relative_diff(self):\n",
    "        model_type = \"ADEXP\"\n",
    "        sum_fit = self.optimize_job(model_type,score_type=RelativeDifferenceScore)\n",
    "        print('met fitness goals')\n",
    "        #assert sum_fit<9.0\n",
    "    def test_opt_ZScore(self):\n",
    "        model_type = \"ADEXP\"\n",
    "        sum_fit = self.optimize_job(model_type,score_type=ZScore)\n",
    "        print('met fitness goals')\n",
    "        #assert sum_fit<0.7\n",
    "\n",
    "    def test_opt_relative_diff_izhi(self):\n",
    "        model_type = \"IZHI\"\n",
    "        self.optimize_job(model_type,score_type=RelativeDifferenceScore)\n",
    "\n",
    "    def test_opt_ZScore_izhi(self):\n",
    "        model_type = \"IZHI\"\n",
    "        self.optimize_job(model_type,score_type=ZScore)\n"
   ]
  },
  {
   "cell_type": "code",
   "execution_count": 4,
   "metadata": {},
   "outputs": [],
   "source": [
    "tt = testOptimization()\n",
    "tt.setUp()\n"
   ]
  },
  {
   "cell_type": "code",
   "execution_count": null,
   "metadata": {},
   "outputs": [
    {
     "data": {
      "image/png": "[encoded data removed]",
      "text/plain": [
       "<Figure size 432x288 with 1 Axes>"
      ]
     },
     "metadata": {},
     "output_type": "display_data"
    },
    {
     "name": "stdout",
     "output_type": "stream",
     "text": [
      "IzhiModel IZHI\n",
      "IzhiModel IZHI\n",
      "[<bluepyopt.parameters.Parameter object at 0x7f8043671310>, <bluepyopt.parameters.Parameter object at 0x7f8043671370>, <bluepyopt.parameters.Parameter object at 0x7f80436713d0>, <bluepyopt.parameters.Parameter object at 0x7f8043671430>, <bluepyopt.parameters.Parameter object at 0x7f8043671490>, <bluepyopt.parameters.Parameter object at 0x7f80436714f0>, <bluepyopt.parameters.Parameter object at 0x7f8043671550>, <bluepyopt.parameters.Parameter object at 0x7f80436715b0>, <bluepyopt.parameters.Parameter object at 0x7f8043671610>, <bluepyopt.parameters.Parameter object at 0x7f8043671670>]\n"
     ]
    },
    {
     "name": "stderr",
     "output_type": "stream",
     "text": [
      "2021-01-18 12:55:34.557 INFO    __main__: gen\tnevals\tavg    \tstd    \tmin    \tmax  \n",
      "1  \t100   \t6011.28\t9628.12\t31.6277\t22000\n"
     ]
    },
    {
     "data": {
      "application/vnd.jupyter.widget-view+json": {
       "model_id": "b83a501db8174d20bb3205f2322c0053",
       "version_major": 2,
       "version_minor": 0
      },
      "text/plain": [
       "HBox(children=(HTML(value=''), FloatProgress(value=0.0), HTML(value='')))"
      ]
     },
     "metadata": {},
     "output_type": "display_data"
    },
    {
     "name": "stderr",
     "output_type": "stream",
     "text": [
      "2021-01-18 12:57:07.017 INFO    __main__: 2  \t72    \t6338.02\t9747.78\t31.6277\t22000\n",
      "2021-01-18 12:57:49.045 INFO    __main__: 3  \t68    \t826.618\t3844.25\t31.1577\t22000\n",
      "2021-01-18 12:58:40.423 INFO    __main__: 4  \t71    \t1882.19\t5583.68\t31.1577\t22000\n",
      "2021-01-18 12:59:24.833 INFO    __main__: 5  \t62    \t906.262\t3956.82\t13.2672\t22000\n",
      "2021-01-18 12:59:56.213 INFO    __main__: 6  \t52    \t464.681\t2791.35\t13.2672\t22000\n"
     ]
    }
   ],
   "source": [
    "tt.test_opt_relative_diff_izhi()"
   ]
  },
  {
   "cell_type": "code",
   "execution_count": null,
   "metadata": {},
   "outputs": [],
   "source": [
    "\n",
    "tt.test_opt_ZScore_izhi()"
   ]
  },
  {
   "cell_type": "markdown",
   "metadata": {},
   "source": [
    "# Z score works"
   ]
  },
  {
   "cell_type": "code",
   "execution_count": null,
   "metadata": {},
   "outputs": [],
   "source": [
    "\n",
    "tt.test_opt_ZScore()\n"
   ]
  },
  {
   "cell_type": "markdown",
   "metadata": {},
   "source": [
    "# Relative DIfference Also Works Now"
   ]
  },
  {
   "cell_type": "code",
   "execution_count": null,
   "metadata": {},
   "outputs": [],
   "source": [
    "\n",
    "\n",
    "tt.test_opt_relative_diff()"
   ]
  },
  {
   "cell_type": "code",
   "execution_count": null,
   "metadata": {},
   "outputs": [],
   "source": []
  },
  {
   "cell_type": "code",
   "execution_count": null,
   "metadata": {},
   "outputs": [],
   "source": []
  }
 ],
 "metadata": {
  "jupytext": {
   "cell_metadata_filter": "-all",
   "notebook_metadata_filter": "-all",
   "text_representation": {
    "extension": ".py",
    "format_name": "light"
   }
  },
  "kernelspec": {
   "display_name": "Python 3",
   "language": "python",
   "name": "python3"
  },
  "language_info": {
   "codemirror_mode": {
    "name": "ipython",
    "version": 3
   },
   "file_extension": ".py",
   "mimetype": "text/x-python",
   "name": "python",
   "nbconvert_exporter": "python",
   "pygments_lexer": "ipython3",
   "version": "3.8.5"
  }
 },
 "nbformat": 4,
 "nbformat_minor": 2
}
