{
 "cells": [
  {
   "cell_type": "code",
   "execution_count": 1,
   "metadata": {
    "collapsed": false
   },
   "outputs": [],
   "source": [
    "import numpy as np\n",
    "tMax = 1000.0;#   % max time [ms]\n",
    "\n",
    "import time"
   ]
  },
  {
   "cell_type": "code",
   "execution_count": 2,
   "metadata": {
    "collapsed": false
   },
   "outputs": [],
   "source": [
    "\n",
    "params = {}\n",
    "params['a'] = 0.03\n",
    "params['b'] = -2\n",
    "params['C'] = 100\n",
    "params['c'] = -50 \n",
    "params['vr'] = -60\n",
    "params['vt'] = -40\n",
    "params['vPeak'] = 35\n",
    "params['k'] = 0.7\n",
    "params['d'] = 100\n",
    "params['dt'] = 0.025\n",
    "params['tMax'] = 1000.0;#   % max time [ms]\n",
    "N = int(params['tMax']/params['dt'])\n",
    "\n",
    "#dt = ; #    % number of grid points\n",
    "N = int(params['tMax']/params['dt'])\n",
    "Iext = None\n",
    "Iext = np.zeros(N)\n",
    "Iext[4000:90000] = 52.0\n",
    "params['Iext'] = Iext\n",
    "\n"
   ]
  },
  {
   "cell_type": "code",
   "execution_count": null,
   "metadata": {
    "collapsed": false
   },
   "outputs": [],
   "source": []
  },
  {
   "cell_type": "code",
   "execution_count": 3,
   "metadata": {
    "collapsed": false
   },
   "outputs": [],
   "source": [
    "t0 = time.time()\n",
    "\n",
    "\n",
    "\n",
    "params = {}\n",
    "params['a'] = 0.03\n",
    "params['b'] = -2\n",
    "params['C'] = 100\n",
    "params['c'] = -50 \n",
    "params['vr'] = -60\n",
    "params['vt'] = -40\n",
    "params['vPeak'] = 35\n",
    "params['k'] = 0.7\n",
    "params['d'] = 100\n",
    "params['dt'] = 0.025\n",
    "params['tMax'] = 1000.0;#   % max time [ms]\n",
    "\n",
    "\n",
    "dt = 0.025; #    % number of grid points\n",
    "tMax = 1000.0;#   % max time [ms]\n",
    "N = int(tMax/dt)\n",
    "Iext = None\n",
    "Iext = np.zeros(N)\n",
    "Iext[8000:20000] = -10.0\n",
    "params['Iext'] = Iext\n",
    "flat_iter = [x for x in range(N-1)]\n",
    "t0 = time.time()\n"
   ]
  },
  {
   "cell_type": "code",
   "execution_count": 4,
   "metadata": {
    "collapsed": false
   },
   "outputs": [],
   "source": [
    "\n",
    "\n",
    "params = {}\n",
    "params['a'] = 0.3\n",
    "params['b'] = -2\n",
    "params['C'] = 100\n",
    "params['c'] = -50 \n",
    "params['vr'] = -70\n",
    "params['vt'] = -40\n",
    "params['vPeak'] = 35\n",
    "params['k'] = 0.07\n",
    "params['d'] = 100\n",
    "params['dt'] = 0.025\n",
    "params['tMax'] = 1000.0;#   % max time [ms]\n",
    "\n"
   ]
  },
  {
   "cell_type": "code",
   "execution_count": null,
   "metadata": {
    "collapsed": false
   },
   "outputs": [],
   "source": []
  },
  {
   "cell_type": "code",
   "execution_count": 5,
   "metadata": {
    "collapsed": false
   },
   "outputs": [
    {
     "name": "stdout",
     "output_type": "stream",
     "text": [
      "[<neuronunit.tests.fi.RheobaseTestP object at 0x7fdb9ee04cc0>, <neuronunit.tests.passive.InputResistanceTest object at 0x7fdb9ee040f0>]\n"
     ]
    }
   ],
   "source": [
    "\n",
    "import pickle\n",
    "import copy\n",
    "import numpy as np\n",
    "import pandas as pd\n",
    "import matplotlib.pyplot as plt\n",
    "\n",
    "from neuronunit.optimization import get_neab\n",
    "from neuronunit.models.reduced import ReducedModel\n",
    "from neuronunit.optimization.model_parameters import model_params, path_params\n",
    "from neuronunit.optimization import model_parameters as modelp\n",
    "\n",
    "mp = modelp.model_params\n",
    "\n",
    "from neuronunit.optimization import optimization_management as om\n",
    "mp = modelp.model_params\n",
    "\n",
    "import sciunit\n",
    "import neuronunit.optimization as opt\n",
    "tests_,all_tests, observation,suite = opt.get_neab.get_tests()\n",
    "passive  = [ str('RestingPotentialTest'), str('CapacitanceTest'), str('TimeConstantTest'), str('InputResistanceTest') ]\n",
    "firing_tests =  [ t for t in all_tests if str(t) not in passive ]\n",
    "first_two = all_tests[0:2]\n",
    "print(first_two)\n",
    "import pickle\n",
    "\n",
    "from neuronunit.models.reduced import ReducedModel\n",
    "\n",
    "from neuronunit.optimization.model_parameters import model_params, path_params\n",
    "LEMS_MODEL_PATH = path_params['model_path']\n",
    "import neuronunit.optimization as opt\n",
    "import quantities as pq\n",
    "\n",
    "#tests_,all_tests, observation,suite = opt.get_neab.get_tests()\n",
    "\n",
    "\n",
    "\n",
    "\n",
    "mparams = {}\n",
    "mparams['a'] = 0.03\n",
    "mparams['b'] = -2\n",
    "mparams['C'] = 100\n",
    "mparams['c'] = -50 \n",
    "mparams['vr'] = -60\n",
    "mparams['vt'] = -40\n",
    "mparams['vPeak'] = 35\n",
    "mparams['k'] = 0.7\n",
    "mparams['d'] = 100\n",
    "mparams['dt'] = 0.025\n",
    "mparams['tMax'] = 1000.0;#   % max time [ms]\n",
    "#mparams['tMax'] = 1000.0;#   % max time [ms]\n",
    "from neuronunit.optimization.data_transport_container import DataTC\n",
    "\n"
   ]
  },
  {
   "cell_type": "markdown",
   "metadata": {},
   "source": [
    "# Vanilla parameters model to model check (succeeds).\n",
    "# RAW is significantly faster"
   ]
  },
  {
   "cell_type": "code",
   "execution_count": 6,
   "metadata": {
    "collapsed": false
   },
   "outputs": [
    {
     "name": "stdout",
     "output_type": "stream",
     "text": [
      "2\n",
      "3\n",
      "5\n",
      "7\n",
      "mean simulation time: 0.14694851636886597. Total time: 0.5877940654754639\n"
     ]
    },
    {
     "data": {
      "image/png": "[encoded data removed]",
      "text/plain": [
       "<matplotlib.figure.Figure at 0x7fdb9fa3bfd0>"
      ]
     },
     "metadata": {},
     "output_type": "display_data"
    }
   ],
   "source": [
    "times = []\n",
    "model = ReducedModel(LEMS_MODEL_PATH,name = str('vanilla'),backend = ('RAW'))\n",
    "model.set_attrs(mparams)\n",
    "for current in [60,70,85,100]:\n",
    "    iparams = {}\n",
    "    iparams['injected_square_current'] = {}\n",
    "    iparams['injected_square_current']['amplitude'] = current*pq.pA\n",
    "    #['amplitude']  = dtc.vtest[k]['injected_square_current']['amplitude']\n",
    "    DELAY = 0# 100.0*pq.ms\n",
    "    DURATION = 520*pq.ms\n",
    "    iparams['injected_square_current']['delay'] = DELAY\n",
    "    iparams['injected_square_current']['duration'] = int(DURATION)\n",
    "\n",
    "    model.inject_square_current(iparams)\n",
    "    print(model.get_spike_count())\n",
    "    plt.plot(model.results['vm'].times,model.results['vm'])\n",
    "    \n",
    "    times.append(model.results['sim_time'])\n",
    "print('mean simulation time: {0}. Total time: {1}'.format(np.mean(times),np.sum(times)))"
   ]
  },
  {
   "cell_type": "code",
   "execution_count": 7,
   "metadata": {
    "collapsed": false
   },
   "outputs": [
    {
     "name": "stdout",
     "output_type": "stream",
     "text": [
      "60.0 pA <class 'quantities.quantity.Quantity'>\n",
      "60.0 pA\n",
      "2\n",
      "0.3737502098083496 simulation\n",
      "70.0 pA <class 'quantities.quantity.Quantity'>\n",
      "70.0 pA\n",
      "3\n",
      "0.41533851623535156 simulation\n",
      "85.0 pA <class 'quantities.quantity.Quantity'>\n",
      "85.0 pA\n",
      "5\n",
      "0.41138243675231934 simulation\n",
      "100.0 pA <class 'quantities.quantity.Quantity'>\n",
      "100.0 pA\n",
      "7\n",
      "0.8175735473632812 simulation\n",
      "mean simulation time: 0.5045111775398254. Total time: 2.0180447101593018\n"
     ]
    },
    {
     "data": {
      "image/png": "[encoded data removed]",
      "text/plain": [
       "<matplotlib.figure.Figure at 0x7fdb93abe7b8>"
      ]
     },
     "metadata": {},
     "output_type": "display_data"
    }
   ],
   "source": [
    "times = []\n",
    "model = ReducedModel(LEMS_MODEL_PATH,name = str('vanilla'),backend = ('NEURON'))\n",
    "#model.set_attrs(mparams)\n",
    "for current in [60,70,85,100]:\n",
    "    iparams = {}\n",
    "    iparams['injected_square_current'] = {}\n",
    "    iparams['injected_square_current']['amplitude'] = current*pq.pA\n",
    "    #['amplitude']  = dtc.vtest[k]['injected_square_current']['amplitude']\n",
    "    DELAY = 0# 100.0*pq.ms\n",
    "    DURATION = 520\n",
    "    iparams['injected_square_current']['delay'] = DELAY*pq.ms\n",
    "    iparams['injected_square_current']['duration'] = DURATION*pq.ms\n",
    "\n",
    "    model.inject_square_current(iparams)\n",
    "    print(model.get_spike_count())\n",
    "    plt.plot(model.get_membrane_potential().times,model.get_membrane_potential())\n",
    "    print(model.results['sim_time'], 'simulation')\n",
    "    times.append(model.results['sim_time'])\n",
    "print('mean simulation time: {0}. Total time: {1}'.format(np.mean(times),np.sum(times)))"
   ]
  },
  {
   "cell_type": "code",
   "execution_count": 8,
   "metadata": {
    "collapsed": false
   },
   "outputs": [],
   "source": [
    "import collections\n",
    "# Fast spiking cannot be reproduced as it requires modifications to the standard Izhi equation,\n",
    "# which are expressed in this mod file.\n",
    "# https://github.com/OpenSourceBrain/IzhikevichModel/blob/master/NEURON/izhi2007b.mod\n",
    "\n",
    "from collections import OrderedDict\n",
    "type2007 = collections.OrderedDict([\n",
    "  #              C    k     vr  vt vpeak   a      b   c    d  celltype\n",
    "  ('RS',        (100, 0.7,  -60, -40, 35, 0.03,   -2, -50,  100,  1)),\n",
    "  ('IB',        (150, 1.2,  -75, -45, 50, 0.01,   5, -56,  130,   2)),\n",
    "  ('CH',        (50,  1.5,  -60, -40, 25, 0.03,   1, -40,  150,   3)),\n",
    "  ('LTS',       (100, 1.0,  -56, -42, 40, 0.03,   8, -53,   20,   4)),\n",
    "  ('FS',        (20,  1.0,  -55, -40, 25, 0.2,   -2, -45,  -55,   5)),\n",
    "  ('TC',        (200, 1.6,  -60, -50, 35, 0.01,  15, -60,   10,   6)),\n",
    "  ('TC_burst',  (200, 1.6,  -60, -50, 35, 0.01,  15, -60,   10,   6)),\n",
    "  ('RTN',       (40,  0.25, -65, -45,  0, 0.015, 10, -55,   50,   7)),\n",
    "  ('RTN_burst', (40,  0.25, -65, -45,  0, 0.015, 10, -55,   50,   7))])\n",
    "\n",
    "import numpy as np\n",
    "param_dict = OrderedDict([(k,[]) for k in ['C','k','vr','vt','vPeak','a','b','c','d']])\n",
    "#OrderedDict\n",
    "for i,k in enumerate(param_dict.keys()):\n",
    "    for v in type2007.values():\n",
    "        param_dict[k].append(v[i])\n",
    "\n",
    "explore_param = {k:(np.min(v),np.max(v)) for k,v in param_dict.items()}\n",
    "param_ranges = OrderedDict(explore_param)\n",
    "\n",
    "\n",
    "#IB = mparams[param_dict['IB']]\n",
    "IB = {}\n",
    "TC = {}\n",
    "CH = {}\n",
    "RTN_burst = {}\n",
    "for k,v in param_dict.items():\n",
    "    IB[k] = v[1]\n",
    "    CH[k] = v[2]\n",
    "    TC[k] = v[5]\n",
    "    #FS[k] = v[4]\n",
    "    RTN_burst[k] = v[-2]\n",
    "    \n",
    "    \n",
    "TCN = copy.copy(TC)\n",
    "IBN = copy.copy(IB)\n",
    "CHN = copy.copy(CH)\n",
    "\n",
    "\n",
    "# translate from NeuroML's pico to NEURONs nano\n",
    "IBN[k] = IB[k]/1000.0\n",
    "CHN[k] = CH[k]/1000.0    \n",
    "TCN[k] = TC[k]/1000.0\n",
    "#list_of_params_dics = [] \n",
    "\n",
    "def translate(input_dic):\n",
    "    input_dic['vpeak'] = input_dic['vPeak']\n",
    "    input_dic.pop('vPeak', None)     \n",
    "    input_dic.pop('dt', None)        \n",
    "\n",
    "    return input_dic\n",
    "IBN = translate(IBN)\n",
    "CHN = translate(CHN)\n",
    "TCN = translate(TCN)"
   ]
  },
  {
   "cell_type": "markdown",
   "metadata": {},
   "source": [
    "The following cells follow the Backend pattern RAW, NEURON, RAW, NEURON."
   ]
  },
  {
   "cell_type": "code",
   "execution_count": 9,
   "metadata": {
    "collapsed": false
   },
   "outputs": [
    {
     "name": "stdout",
     "output_type": "stream",
     "text": [
      "0\n",
      "0.0019690990447998047 simulation\n",
      "1\n",
      "0.0014438629150390625 simulation\n",
      "3\n",
      "0.0014204978942871094 simulation\n",
      "5\n",
      "0.0013811588287353516 simulation\n",
      "mean simulation time: 0.001553654670715332. Total time: 0.006214618682861328\n"
     ]
    },
    {
     "data": {
      "image/png": "[encoded data removed]",
      "text/plain": [
       "<matplotlib.figure.Figure at 0x7fdb92d3e828>"
      ]
     },
     "metadata": {},
     "output_type": "display_data"
    }
   ],
   "source": [
    "tstop = 100*pq.ms\n",
    "IinRange = [73.2,100,200,400]\n",
    "\n",
    "model = ReducedModel(LEMS_MODEL_PATH,name = str('vanilla'),backend = ('RAW'))\n",
    "\n",
    "\n",
    "model.set_attrs(TC)\n",
    "#print(FS)\n",
    "times = []\n",
    "for current in IinRange:\n",
    "    iparams = {}\n",
    "    iparams['injected_square_current'] = {}\n",
    "    iparams['injected_square_current']['amplitude'] = current*pq.pA\n",
    "    #['amplitude']  = dtc.vtest[k]['injected_square_current']['amplitude']\n",
    "    DELAY = 0\n",
    "    #DURATION = tstop*pq.ms\n",
    "    iparams['injected_square_current']['delay'] = 0\n",
    "    iparams['injected_square_current']['duration'] = 100*pq.ms\n",
    "\n",
    "    model.inject_square_current(iparams)\n",
    "    print(model.get_spike_count())\n",
    "    plt.plot(model.get_membrane_potential().times,model.get_membrane_potential())\n",
    "    print(model.results['sim_time'], 'simulation')\n",
    "    times.append(model.results['sim_time'])\n",
    "print('mean simulation time: {0}. Total time: {1}'.format(np.mean(times),np.sum(times)))    \n"
   ]
  },
  {
   "cell_type": "code",
   "execution_count": 10,
   "metadata": {
    "collapsed": false
   },
   "outputs": [
    {
     "name": "stdout",
     "output_type": "stream",
     "text": [
      "{'vt': -50, 'b': 15, 'c': -60, 'C': 200, 'k': 1.6, 'vpeak': 35, 'a': 0.01, 'vr': -60, 'd': 0.01}\n",
      "73.2 pA <class 'quantities.quantity.Quantity'>\n",
      "73.2 pA\n",
      "0\n",
      "0\n",
      "0.18050432205200195 simulation\n",
      "100.0 pA <class 'quantities.quantity.Quantity'>\n",
      "100.0 pA\n",
      "0\n",
      "0\n",
      "0.1541156768798828 simulation\n",
      "200.0 pA <class 'quantities.quantity.Quantity'>\n",
      "200.0 pA\n",
      "0\n",
      "0\n",
      "0.1473531723022461 simulation\n",
      "400.0 pA <class 'quantities.quantity.Quantity'>\n",
      "400.0 pA\n",
      "0\n",
      "0\n",
      "0.13068699836730957 simulation\n",
      "mean simulation time: 0.1531650424003601. Total time: 0.6126601696014404\n"
     ]
    },
    {
     "data": {
      "image/png": "[encoded data removed]",
      "text/plain": [
       "<matplotlib.figure.Figure at 0x7fdb932def60>"
      ]
     },
     "metadata": {},
     "output_type": "display_data"
    }
   ],
   "source": [
    "tstop = 100*pq.ms\n",
    "IinRange = [73.2,100,200,400]\n",
    "\n",
    "model = ReducedModel(LEMS_MODEL_PATH,name = str('vanilla'),backend = ('NEURON'))\n",
    "#for k in 'k','d','C':\n",
    "#    TCN[k] = TC[k]/1000.0\n",
    "model.set_attrs(TCN)\n",
    "print(TCN)\n",
    "\n",
    "model.set_attrs(TCN)\n",
    "times = []\n",
    "for current in IinRange:\n",
    "    iparams = {}\n",
    "    iparams['injected_square_current'] = {}\n",
    "    iparams['injected_square_current']['amplitude'] = current*pq.pA\n",
    "    #['amplitude']  = dtc.vtest[k]['injected_square_current']['amplitude']\n",
    "\n",
    "    #DURATION = tstop*pq.ms\n",
    "    iparams['injected_square_current']['delay'] = 0*pq.ms\n",
    "    iparams['injected_square_current']['duration'] = 100*pq.ms\n",
    "\n",
    "    model.inject_square_current(iparams)\n",
    "    print(model.get_spike_count())\n",
    "    print(model.get_spike_count())\n",
    "    plt.plot(model.get_membrane_potential().times,model.get_membrane_potential())\n",
    "    print(model.results['sim_time'], 'simulation')\n",
    "    times.append(model.results['sim_time'])\n",
    "print('mean simulation time: {0}. Total time: {1}'.format(np.mean(times),np.sum(times)))   \n",
    "#plt.plot(model.results['vm'].times,model.results['vm'])\n",
    "    \n"
   ]
  },
  {
   "cell_type": "code",
   "execution_count": 11,
   "metadata": {
    "collapsed": true
   },
   "outputs": [],
   "source": [
    "  # CH\n",
    "tstop = 210\n",
    "IinRange = [200,300,400,600]"
   ]
  },
  {
   "cell_type": "code",
   "execution_count": 12,
   "metadata": {
    "collapsed": false
   },
   "outputs": [
    {
     "name": "stdout",
     "output_type": "stream",
     "text": [
      "{'vt': -45, 'a': 0.015, 'b': 10, 'c': -55, 'vr': -65, 'd': 50, 'C': 40, 'vPeak': 0, 'k': 0.25}\n",
      "{'vt': -45, 'a': 0.015, 'b': 10, 'c': -55, 'vr': -65, 'd': 50, 'C': 40, 'vPeak': 0, 'k': 0.25}\n",
      "0\n",
      "0.0019614696502685547 simulation\n",
      "0\n",
      "0.0015189647674560547 simulation\n",
      "0\n",
      "0.0014605522155761719 simulation\n"
     ]
    },
    {
     "data": {
      "image/png": "[encoded data removed]",
      "text/plain": [
       "<matplotlib.figure.Figure at 0x7fdb92aced30>"
      ]
     },
     "metadata": {},
     "output_type": "display_data"
    }
   ],
   "source": [
    "IinRange = [30,50,90]\n",
    "tstop=720\n",
    "print(RTN_burst)\n",
    "model = ReducedModel(LEMS_MODEL_PATH,name = str('vanilla'),backend = ('RAW'))\n",
    "model.set_attrs(RTN_burst)\n",
    "print(RTN_burst)\n",
    "times = []\n",
    "for current in IinRange:\n",
    "    iparams = {}\n",
    "    iparams['injected_square_current'] = {}\n",
    "    iparams['injected_square_current']['amplitude'] = current*pq.pA\n",
    "    #['amplitude']  = dtc.vtest[k]['injected_square_current']['amplitude']\n",
    "    DELAY = 0\n",
    "    #DURATION = tstop*pq.ms\n",
    "    iparams['injected_square_current']['delay'] = 0\n",
    "    iparams['injected_square_current']['duration'] = tstop*pq.ms\n",
    "\n",
    "    model.inject_square_current(iparams)\n",
    "    print(model.get_spike_count())\n",
    "    plt.plot(model.get_membrane_potential().times,model.get_membrane_potential())\n",
    "    times.append(model.results['sim_time'])\n",
    "\n",
    "    print(model.results['sim_time'], 'simulation')    "
   ]
  },
  {
   "cell_type": "code",
   "execution_count": 13,
   "metadata": {
    "collapsed": false
   },
   "outputs": [
    {
     "name": "stdout",
     "output_type": "stream",
     "text": [
      "9\n",
      "11\n",
      "19\n",
      "20\n",
      "mean simulation time: 0.001018524169921875. Total time: 0.0040740966796875\n"
     ]
    },
    {
     "data": {
      "image/png": "[encoded data removed]",
      "text/plain": [
       "<matplotlib.figure.Figure at 0x7fdb93a59d68>"
      ]
     },
     "metadata": {},
     "output_type": "display_data"
    }
   ],
   "source": [
    "tstop = 210\n",
    "IinRange = [290,370,500,550]\n",
    "model = ReducedModel(LEMS_MODEL_PATH,name = str('vanilla'),backend = ('RAW'))\n",
    "model.set_attrs(CH)\n",
    "times = []\n",
    "for current in IinRange:\n",
    "    iparams = {}\n",
    "    iparams['injected_square_current'] = {}\n",
    "    iparams['injected_square_current']['amplitude'] = current*pq.pA\n",
    "    #['amplitude']  = dtc.vtest[k]['injected_square_current']['amplitude']\n",
    "    DELAY = 0\n",
    "    DURATION = tstop*pq.ms\n",
    "    iparams['injected_square_current']['delay'] = DELAY\n",
    "    iparams['injected_square_current']['duration'] = int(DURATION)\n",
    "\n",
    "    model.inject_square_current(iparams)\n",
    "    print(model.get_spike_count())\n",
    "    plt.plot(model.get_membrane_potential().times,model.get_membrane_potential())\n",
    "    times.append(model.results['sim_time'])\n",
    "\n",
    "print('mean simulation time: {0}. Total time: {1}'.format(np.mean(times),np.sum(times)))    \n",
    "    "
   ]
  },
  {
   "cell_type": "code",
   "execution_count": 14,
   "metadata": {
    "collapsed": false
   },
   "outputs": [
    {
     "name": "stdout",
     "output_type": "stream",
     "text": [
      "290.0 pA <class 'quantities.quantity.Quantity'>\n",
      "290.0 pA\n",
      "0\n",
      "0.2037343978881836 simulation\n",
      "370.0 pA <class 'quantities.quantity.Quantity'>\n",
      "370.0 pA\n",
      "0\n",
      "0.20867228507995605 simulation\n",
      "500.0 pA <class 'quantities.quantity.Quantity'>\n",
      "500.0 pA\n",
      "0\n",
      "0.2228717803955078 simulation\n",
      "550.0 pA <class 'quantities.quantity.Quantity'>\n",
      "550.0 pA\n",
      "0\n",
      "0.2288970947265625 simulation\n"
     ]
    },
    {
     "data": {
      "image/png": "[encoded data removed]",
      "text/plain": [
       "<matplotlib.figure.Figure at 0x7fdb92b81ba8>"
      ]
     },
     "metadata": {},
     "output_type": "display_data"
    }
   ],
   "source": [
    "tstop = 210\n",
    "IinRange = [290,370,500,550]\n",
    "model = ReducedModel(LEMS_MODEL_PATH,name = str('vanilla'),backend = ('NEURON'))\n",
    "model.set_attrs(CHN)\n",
    "for current in IinRange:\n",
    "    iparams = {}\n",
    "    iparams['injected_square_current'] = {}\n",
    "    iparams['injected_square_current']['amplitude'] = current*pq.pA\n",
    "    #['amplitude']  = dtc.vtest[k]['injected_square_current']['amplitude']\n",
    "    DELAY = 0*pq.ms\n",
    "    DURATION = tstop*pq.ms\n",
    "    iparams['injected_square_current']['delay'] = DELAY\n",
    "    iparams['injected_square_current']['duration'] = DURATION\n",
    "\n",
    "    model.inject_square_current(iparams)\n",
    "    print(model.get_spike_count())\n",
    "    plt.plot(model.get_membrane_potential().times,model.get_membrane_potential())\n",
    "    print(model.results['sim_time'], 'simulation')    \n",
    "    "
   ]
  },
  {
   "cell_type": "code",
   "execution_count": 19,
   "metadata": {
    "collapsed": false
   },
   "outputs": [
    {
     "name": "stdout",
     "output_type": "stream",
     "text": [
      "6\n"
     ]
    },
    {
     "data": {
      "text/plain": [
       "[<matplotlib.lines.Line2D at 0x7fdb933fb6a0>]"
      ]
     },
     "execution_count": 19,
     "metadata": {},
     "output_type": "execute_result"
    },
    {
     "data": {
      "image/png": "[encoded data removed]",
      "text/plain": [
       "<matplotlib.figure.Figure at 0x7fdb90fbf3c8>"
      ]
     },
     "metadata": {},
     "output_type": "display_data"
    }
   ],
   "source": [
    "iparams = {}\n",
    "iparams['injected_square_current'] = {}\n",
    "iparams['injected_square_current']['amplitude'] = 200*pq.pA\n",
    "#['amplitude']  = dtc.vtest[k]['injected_square_current']['amplitude']\n",
    "DELAY = 0*pq.ms\n",
    "DURATION = tstop*pq.ms\n",
    "iparams['injected_square_current']['delay'] = DELAY\n",
    "iparams['injected_square_current']['duration'] = DURATION\n",
    "\n",
    "model = ReducedModel(LEMS_MODEL_PATH,name = str('vanilla'),backend = ('RAW'))\n",
    "#model.set_attrs(CHN)\n",
    "model.set_attrs(CH)\n",
    "\n",
    "model.inject_square_current(iparams)\n",
    "print(model.get_spike_count())\n",
    "plt.plot(model.get_membrane_potential().times,model.get_membrane_potential())\n",
    "\n"
   ]
  },
  {
   "cell_type": "code",
   "execution_count": null,
   "metadata": {
    "collapsed": false
   },
   "outputs": [],
   "source": []
  },
  {
   "cell_type": "code",
   "execution_count": 20,
   "metadata": {
    "collapsed": false
   },
   "outputs": [
    {
     "name": "stdout",
     "output_type": "stream",
     "text": [
      "['__class__', '__delattr__', '__dict__', '__dir__', '__doc__', '__eq__', '__format__', '__ge__', '__getattribute__', '__gt__', '__hash__', '__init__', '__le__', '__lt__', '__module__', '__ne__', '__new__', '__reduce__', '__reduce_ex__', '__repr__', '__setattr__', '__sizeof__', '__str__', '__subclasshook__', '__weakref__', '_cell_name', '_local_run', 'attrs', 'backend', 'check_run_params', 'current_src_name', 'f', 'get_disk_cache', 'get_membrane_potential', 'get_memory_cache', 'init_backend', 'init_cache', 'init_disk_cache', 'init_memory_cache', 'inject_square_current', 'load_model', 'local_run', 'memory_cache', 'model', 'save_results', 'set_attrs', 'set_disk_cache', 'set_memory_cache', 'set_run_params', 'set_stop_time', 'sim_time', 'temp_attrs', 'use_disk_cache', 'use_memory_cache', 'vM']\n",
      "1.0 pA\n",
      "input resistance score: Z = -4.86\n",
      "Z = -4.86\n",
      "1.0 pA\n",
      "{'value': array(79634016.52239381) * kg*m**2/(s**3*A**2)}\n",
      "0 npsikes\n",
      "-0.06044300802161029 V mean membrane potential\n"
     ]
    }
   ],
   "source": [
    "\n",
    "model = ReducedModel(LEMS_MODEL_PATH,name = str('vanilla'),backend = ('RAW'))\n",
    "model.set_attrs(mparams)\n",
    "\n",
    "import seaborn as sns\n",
    "from neuronunit.optimization.data_transport_container import DataTC\n",
    "import os\n",
    "print(dir(model._backend))#.attrs)\n",
    "\n",
    "\n",
    "\n",
    "\n",
    "params = {}\n",
    "params['injected_square_current'] = {}\n",
    "params['injected_square_current']['amplitude'] = 52*pq.pA\n",
    "DELAY = 100.0*pq.ms\n",
    "DURATION = 1000.0*pq.ms\n",
    "params['injected_square_current']['delay'] = DELAY\n",
    "params['injected_square_current']['duration'] = DURATION\n",
    "\n",
    "#first_two[0].observation['mean'] = 50*pq.pA\n",
    "\n",
    "#first_two[1].observation['mean'] = 50*pq.ohm*1e6\n",
    "\n",
    "#print(first_two)\n",
    "\n",
    "score = first_two[1].judge(model,stop_on_error = False, deep_error = True)\n",
    "print(score)\n",
    "stuff = first_two[1].generate_prediction(model)\n",
    "print(stuff)\n",
    "print(model.get_spike_count(),'npsikes')\n",
    "print(np.mean(model.get_membrane_potential()),'mean membrane potential')\n"
   ]
  },
  {
   "cell_type": "code",
   "execution_count": 21,
   "metadata": {
    "collapsed": false
   },
   "outputs": [
    {
     "name": "stdout",
     "output_type": "stream",
     "text": [
      "1.0 pA\n",
      "input resistance score: Z = -4.86\n",
      "{'value': array(79634016.52239381) * kg*m**2/(s**3*A**2)}\n",
      "0\n"
     ]
    }
   ],
   "source": [
    "score = first_two[1].judge(model,stop_on_error = False, deep_error = True)\n",
    "print(score.prediction)\n",
    "print(model.get_spike_count())"
   ]
  },
  {
   "cell_type": "code",
   "execution_count": 22,
   "metadata": {
    "collapsed": false
   },
   "outputs": [
    {
     "name": "stdout",
     "output_type": "stream",
     "text": [
      "0.0 pA 0.0 pA <neuronunit.optimization.data_transport_container.DataTC object at 0x7fdb931f9a20>\n",
      "83.33333333333333 pA 83.33333333333333 pA <neuronunit.optimization.data_transport_container.DataTC object at 0x7fdb931f9c18>\n",
      "41.666666666666664 pA 41.666666666666664 pA <neuronunit.optimization.data_transport_container.DataTC object at 0x7fdb931f9b00>\n",
      "125.0 pA 125.0 pA <neuronunit.optimization.data_transport_container.DataTC object at 0x7fdb931f9d30>\n",
      "166.66666666666666 pA 166.66666666666666 pA <neuronunit.optimization.data_transport_container.DataTC object at 0x7fdb931f9e48>\n",
      "208.33333333333331 pA 208.33333333333331 pA <neuronunit.optimization.data_transport_container.DataTC object at 0x7fdb931f9f60>\n",
      "250.0 pA 250.0 pA <neuronunit.optimization.data_transport_container.DataTC object at 0x7fdb9eb090b8>\n",
      "1\n",
      "52.08333333333333 pA 52.08333333333333 pA <neuronunit.optimization.data_transport_container.DataTC object at 0x7fdb9eb1be48>\n",
      "57.291666666666664 pA 57.291666666666664 pA <neuronunit.optimization.data_transport_container.DataTC object at 0x7fdb9eb1bef0>\n",
      "62.5 pA 62.5 pA <neuronunit.optimization.data_transport_container.DataTC object at 0x7fdb9eb1bf98>\n",
      "62.5 pA 62.5 pA <neuronunit.optimization.data_transport_container.DataTC object at 0x7fdb9eb1f080>\n",
      "78.125 pA 78.125 pA <neuronunit.optimization.data_transport_container.DataTC object at 0x7fdb9eb1f208>\n",
      "72.91666666666666 pA 72.91666666666666 pA <neuronunit.optimization.data_transport_container.DataTC object at 0x7fdb9eb1f128>\n",
      "46.875 pA 46.875 pA <neuronunit.optimization.data_transport_container.DataTC object at 0x7fdb9eb1bda0>\n",
      "2\n",
      "{'value': array(52.08333333333333) * pA}\n"
     ]
    }
   ],
   "source": [
    "score = first_two[0].judge(model,stop_on_error = False, deep_error = True)\n",
    "print(score.prediction)\n",
    "#print(model.get_spike_count())"
   ]
  },
  {
   "cell_type": "code",
   "execution_count": 23,
   "metadata": {
    "collapsed": false
   },
   "outputs": [
    {
     "name": "stdout",
     "output_type": "stream",
     "text": [
      "0.0 pA 0.0 pA <neuronunit.optimization.data_transport_container.DataTC object at 0x7fdb92b49ba8>\n",
      "41.666666666666664 pA 41.666666666666664 pA <neuronunit.optimization.data_transport_container.DataTC object at 0x7fdb92b49780>\n",
      "125.0 pA 125.0 pA <neuronunit.optimization.data_transport_container.DataTC object at 0x7fdb92b49e80>\n",
      "83.33333333333333 pA 83.33333333333333 pA <neuronunit.optimization.data_transport_container.DataTC object at 0x7fdb92b49e48>\n",
      "166.66666666666666 pA 166.66666666666666 pA <neuronunit.optimization.data_transport_container.DataTC object at 0x7fdb92b490b8>\n",
      "208.33333333333331 pA 208.33333333333331 pA <neuronunit.optimization.data_transport_container.DataTC object at 0x7fdb92b490f0>\n",
      "250.0 pA 250.0 pA <neuronunit.optimization.data_transport_container.DataTC object at 0x7fdb92b49e10>\n",
      "1\n",
      "46.875 pA 46.875 pA <neuronunit.optimization.data_transport_container.DataTC object at 0x7fdb9eb249e8>\n",
      "52.08333333333333 pA 52.08333333333333 pA <neuronunit.optimization.data_transport_container.DataTC object at 0x7fdb9eb24c18>\n",
      "57.291666666666664 pA 57.291666666666664 pA <neuronunit.optimization.data_transport_container.DataTC object at 0x7fdb9eb24278>\n",
      "62.5 pA 62.5 pA <neuronunit.optimization.data_transport_container.DataTC object at 0x7fdb9eb24ba8>\n",
      "62.5 pA 62.5 pA <neuronunit.optimization.data_transport_container.DataTC object at 0x7fdb9eb24f60>\n",
      "72.91666666666666 pA 72.91666666666666 pA <neuronunit.optimization.data_transport_container.DataTC object at 0x7fdb9eb24908>\n",
      "78.125 pA 78.125 pA <neuronunit.optimization.data_transport_container.DataTC object at 0x7fdb9eb24a58>\n",
      "2\n",
      "{'value': array(52.08333333333333) * pA}\n",
      "1.0 pA\n",
      "{'value': array(79634016.52239381) * kg*m**2/(s**3*A**2)}\n"
     ]
    }
   ],
   "source": [
    "\n",
    "model = None\n",
    "model = ReducedModel(LEMS_MODEL_PATH,name = str('vanilla'),backend = ('RAW'))#,{'DTC':dtc}))\n",
    "model.set_attrs(mparams)\n",
    "\n",
    "prediction = all_tests[0].generate_prediction(model)\n",
    "print(prediction)\n",
    "\n",
    "prediction1 = all_tests[1].generate_prediction(model)\n",
    "print(prediction1)"
   ]
  },
  {
   "cell_type": "code",
   "execution_count": 24,
   "metadata": {
    "collapsed": false
   },
   "outputs": [
    {
     "name": "stdout",
     "output_type": "stream",
     "text": [
      "[<neuronunit.tests.fi.RheobaseTestP object at 0x7fdb9ee04cc0>, <neuronunit.tests.passive.InputResistanceTest object at 0x7fdb9ee040f0>]\n",
      "0.0 pA 0.0 pA <neuronunit.optimization.data_transport_container.DataTC object at 0x7fdb92b49320>\n",
      "208.33333333333331 pA 208.33333333333331 pA <neuronunit.optimization.data_transport_container.DataTC object at 0x7fdb92b49748>\n",
      "41.666666666666664 pA 41.666666666666664 pA <neuronunit.optimization.data_transport_container.DataTC object at 0x7fdb92b49b70>\n",
      "83.33333333333333 pA 83.33333333333333 pA <neuronunit.optimization.data_transport_container.DataTC object at 0x7fdb92b49940>\n",
      "166.66666666666666 pA 166.66666666666666 pA <neuronunit.optimization.data_transport_container.DataTC object at 0x7fdb92b49470>\n",
      "125.0 pA 125.0 pA <neuronunit.optimization.data_transport_container.DataTC object at 0x7fdb92b49ef0>\n",
      "250.0 pA 250.0 pA <neuronunit.optimization.data_transport_container.DataTC object at 0x7fdb9ecc7b00>\n",
      "1\n",
      "46.875 pA 46.875 pA <neuronunit.optimization.data_transport_container.DataTC object at 0x7fdb9eb330b8>\n",
      "62.5 pA 62.5 pA <neuronunit.optimization.data_transport_container.DataTC object at 0x7fdb9eb332b0>\n",
      "52.08333333333333 pA 52.08333333333333 pA <neuronunit.optimization.data_transport_container.DataTC object at 0x7fdb9eb33160>\n",
      "57.291666666666664 pA 57.291666666666664 pA <neuronunit.optimization.data_transport_container.DataTC object at 0x7fdb9eb33208>\n",
      "78.125 pA 78.125 pA <neuronunit.optimization.data_transport_container.DataTC object at 0x7fdb9eb331d0>\n",
      "62.5 pA 62.5 pA <neuronunit.optimization.data_transport_container.DataTC object at 0x7fdb9eb33358>\n",
      "72.91666666666666 pA 72.91666666666666 pA <neuronunit.optimization.data_transport_container.DataTC object at 0x7fdb9eb33400>\n",
      "2\n",
      "Z = -2.52\n",
      "score Z = -2.52\n",
      "observation 172.133333333333 pA, prediction 52.08333333333333 pA\n",
      "1.0 pA\n",
      "input resistance score: Z = -4.86\n",
      "Z = -4.86\n",
      "score Z = -4.86\n",
      "observation 457000000.0 ohm, prediction 79634016.52239381 kg*m**2/(s**3*A**2)\n",
      "Z = -1.52\n",
      "score Z = -1.52\n",
      "observation 23.186875 ms, prediction 0.009810667396493434 s\n",
      "1.0 pA\n",
      "Z = 2.92\n",
      "score Z = 2.92\n",
      "observation 6.865e-11 F, prediction 1.231969430266598e-10 s**4*A**2/(kg*m**2)\n",
      "Z = -0.32\n",
      "score Z = -0.32\n",
      "observation -57.9 mV, prediction -0.06 V\n",
      "Ratio = 0.53\n",
      "score Ratio = 0.53\n",
      "observation 1.505 ms, prediction 0.0008 s\n",
      "Z = -0.72\n",
      "score Z = -0.72\n",
      "observation 64.0 mV, prediction 0.054870653655741564 V\n",
      "Z = 3.93\n",
      "score Z = 3.93\n",
      "observation -41.4742424242424 mV, prediction -0.019870653655741557 V\n"
     ]
    }
   ],
   "source": [
    "\n",
    "cnt = 0\n",
    "scores = []\n",
    "tests_,all_tests, observation,suite = opt.get_neab.get_tests()\n",
    "#passive  = [ str('RestingPotentialTest'), str('CapacitanceTest'), str('TimeConstantTest'), str('InputResistanceTest') ]\n",
    "#firing_tests =  [ t for t in all_tests if str(t) not in passive ]\n",
    "\n",
    "print(first_two)\n",
    "\n",
    "for t in all_tests:\n",
    "    score = t.judge(model,stop_on_error = False, deep_error = True)\n",
    "        \n",
    "    if cnt==0:\n",
    "        model.rheobase = score.prediction['value']\n",
    "        \n",
    "        params = {}\n",
    "        params['injected_square_current'] = {}\n",
    "        params['injected_square_current']['amplitude'] = score.prediction['value']\n",
    "        DELAY = 100.0*pq.ms\n",
    "        DURATION = 1000.0*pq.ms\n",
    "        params['injected_square_current']['delay'] = DELAY\n",
    "        params['injected_square_current']['duration'] = DURATION\n",
    "        model.params = params\n",
    "    scores.append(score)\n",
    "    print(score)\n",
    "    print('score {0}'.format(score))\n",
    "    if str('mean') in score.prediction.keys():\n",
    "        print('observation {0}, prediction {1}'.format(t.observation['mean'],score.prediction['mean']))\n",
    "    if str('value') in score.prediction.keys():\n",
    "        print('observation {0}, prediction {1}'.format(t.observation['mean'],score.prediction['value']))\n",
    "    cnt+=1\n",
    "#http://www.physics"
   ]
  },
  {
   "cell_type": "code",
   "execution_count": null,
   "metadata": {
    "collapsed": false
   },
   "outputs": [
    {
     "name": "stdout",
     "output_type": "stream",
     "text": [
      "[  0.03162278   0.05994843   0.11364637   0.21544347   0.40842387\n",
      "   0.77426368   1.46779927   2.7825594    5.27499706  10.        ]\n",
      "k=0.032; Test=RheobaseTestP\n",
      "41.666666666666664 pA 41.666666666666664 pA <neuronunit.optimization.data_transport_container.DataTC object at 0x7fdb9eb09828>\n",
      "0.0 pA 0.0 pA <neuronunit.optimization.data_transport_container.DataTC object at 0x7fdb9eb1bc50>\n",
      "41.666666666666664 pA <class 'quantities.quantity.Quantity'>\n",
      "125.0 pA 125.0 pA <neuronunit.optimization.data_transport_container.DataTC object at 0x7fdb9eb092b0>\n",
      "83.33333333333333 pA 83.33333333333333 pA <neuronunit.optimization.data_transport_container.DataTC object at 0x7fdb9eb09a90>\n",
      "0.0 pA <class 'quantities.quantity.Quantity'>\n",
      "41.666666666666664 pA\n",
      "0.0 pA\n",
      "83.33333333333333 pA <class 'quantities.quantity.Quantity'>\n",
      "83.33333333333333 pA\n",
      "250.0 pA 250.0 pA <neuronunit.optimization.data_transport_container.DataTC object at 0x7fdb9eb22668>\n",
      "125.0 pA <class 'quantities.quantity.Quantity'>\n",
      "125.0 pA\n",
      "250.0 pA <class 'quantities.quantity.Quantity'>\n",
      "166.66666666666666 pA 166.66666666666666 pA <neuronunit.optimization.data_transport_container.DataTC object at 0x7fdb9eb09390>\n",
      "250.0 pA\n",
      "166.66666666666666 pA <class 'quantities.quantity.Quantity'>\n",
      "208.33333333333331 pA 208.33333333333331 pA <neuronunit.optimization.data_transport_container.DataTC object at 0x7fdb9ea0fb70>\n",
      "208.33333333333331 pA <class 'quantities.quantity.Quantity'>\n",
      "166.66666666666666 pA\n",
      "208.33333333333331 pA\n",
      "1\n",
      "{'value': array(0.0) * pA} rheobase why not?\n",
      "k=0.032; Test=InputResistanceTest\n",
      "-10.0 pA <class 'quantities.quantity.Quantity'>\n",
      "-10.0 pA\n",
      "1.0 pA\n",
      "input resistance score: Z = -7.25\n",
      "{'value': array(-105630451.59758809) * kg*m**2/(s**3*A**2)} rheobase why not?\n",
      "bad k 0.0316227766017\n",
      "error score skip because float division by zero\n",
      "bad k 0.0316227766017\n",
      "k=0.06; Test=RheobaseTestP\n",
      "83.33333333333333 pA 83.33333333333333 pA <neuronunit.optimization.data_transport_container.DataTC object at 0x7fdb9eb30160>\n",
      "41.666666666666664 pA 41.666666666666664 pA <neuronunit.optimization.data_transport_container.DataTC object at 0x7fdb9eb30d30>\n",
      "0.0 pA 0.0 pA <neuronunit.optimization.data_transport_container.DataTC object at 0x7fdb9eb24b70>\n",
      "83.33333333333333 pA <class 'quantities.quantity.Quantity'>\n",
      "0.0 pA <class 'quantities.quantity.Quantity'>\n",
      "208.33333333333331 pA 208.33333333333331 pA <neuronunit.optimization.data_transport_container.DataTC object at 0x7fdb9eb30b38>\n",
      "83.33333333333333 pA\n",
      "41.666666666666664 pA\n",
      "0.0 pA\n",
      "41.666666666666664 pA <class 'quantities.quantity.Quantity'>\n",
      "125.0 pA 125.0 pA <neuronunit.optimization.data_transport_container.DataTC object at 0x7fdb9eb30710>\n",
      "208.33333333333331 pA <class 'quantities.quantity.Quantity'>\n",
      "208.33333333333331 pA\n",
      "125.0 pA <class 'quantities.quantity.Quantity'>\n",
      "125.0 pA\n",
      "166.66666666666666 pA 166.66666666666666 pA <neuronunit.optimization.data_transport_container.DataTC object at 0x7fdb9eb30e48>\n",
      "250.0 pA 250.0 pA <neuronunit.optimization.data_transport_container.DataTC object at 0x7fdb9eb30cf8>\n",
      "250.0 pA <class 'quantities.quantity.Quantity'>\n",
      "166.66666666666666 pA <class 'quantities.quantity.Quantity'>\n",
      "250.0 pA\n",
      "166.66666666666666 pA\n",
      "1\n",
      "{'value': array(0.0) * pA} rheobase why not?\n",
      "k=0.06; Test=InputResistanceTest\n",
      "-10.0 pA <class 'quantities.quantity.Quantity'>\n",
      "-10.0 pA\n",
      "1.0 pA\n",
      "input resistance score: Z = 13.28\n",
      "{'value': array(1488307718.3049872) * kg*m**2/(s**3*A**2)} rheobase why not?\n",
      "bad k 0.0599484250319\n",
      "error score skip because float division by zero\n",
      "bad k 0.0599484250319\n",
      "k=0.11; Test=RheobaseTestP\n",
      "0.0 pA 0.0 pA <neuronunit.optimization.data_transport_container.DataTC object at 0x7fdb93540eb8>\n",
      "41.666666666666664 pA 41.666666666666664 pA <neuronunit.optimization.data_transport_container.DataTC object at 0x7fdb9eb30cc0>\n",
      "0.0 pA <class 'quantities.quantity.Quantity'>\n",
      "0.0 pA\n",
      "41.666666666666664 pA <class 'quantities.quantity.Quantity'>\n",
      "125.0 pA 125.0 pA <neuronunit.optimization.data_transport_container.DataTC object at 0x7fdb9eb30f98>\n",
      "166.66666666666666 pA 166.66666666666666 pA <neuronunit.optimization.data_transport_container.DataTC object at 0x7fdb9eb30be0>\n",
      "83.33333333333333 pA 83.33333333333333 pA <neuronunit.optimization.data_transport_container.DataTC object at 0x7fdb9eb30198>\n",
      "41.666666666666664 pA\n",
      "166.66666666666666 pA <class 'quantities.quantity.Quantity'>\n",
      "166.66666666666666 pA\n",
      "83.33333333333333 pA <class 'quantities.quantity.Quantity'>\n",
      "125.0 pA <class 'quantities.quantity.Quantity'>\n",
      "125.0 pA\n",
      "83.33333333333333 pA\n",
      "208.33333333333331 pA 208.33333333333331 pA <neuronunit.optimization.data_transport_container.DataTC object at 0x7fdb9eb30320>\n",
      "250.0 pA 250.0 pA <neuronunit.optimization.data_transport_container.DataTC object at 0x7fdb9eb30710>\n",
      "208.33333333333331 pA <class 'quantities.quantity.Quantity'>\n",
      "208.33333333333331 pA\n",
      "250.0 pA <class 'quantities.quantity.Quantity'>\n",
      "250.0 pA\n",
      "1\n",
      "312.5 pA 312.5 pA <neuronunit.optimization.data_transport_container.DataTC object at 0x7fdb894fa470>\n",
      "312.5 pA <class 'quantities.quantity.Quantity'>\n",
      "312.5 pA\n",
      "343.75 pA 343.75 pA <neuronunit.optimization.data_transport_container.DataTC object at 0x7fdb894fa518>\n",
      "375.0 pA 375.0 pA <neuronunit.optimization.data_transport_container.DataTC object at 0x7fdb894fa5c0>\n",
      "281.25 pA 281.25 pA <neuronunit.optimization.data_transport_container.DataTC object at 0x7fdb894fa3c8>\n",
      "375.0 pA <class 'quantities.quantity.Quantity'>\n",
      "375.0 pA\n",
      "437.5 pA 437.5 pA <neuronunit.optimization.data_transport_container.DataTC object at 0x7fdb894f9710>\n",
      "281.25 pA <class 'quantities.quantity.Quantity'>\n",
      "468.75 pA 468.75 pA <neuronunit.optimization.data_transport_container.DataTC object at 0x7fdb894f97b8>\n",
      "343.75 pA <class 'quantities.quantity.Quantity'>\n",
      "406.25 pA 406.25 pA <neuronunit.optimization.data_transport_container.DataTC object at 0x7fdb894fa668>\n",
      "343.75 pA\n",
      "500.0 pA 500.0 pA <neuronunit.optimization.data_transport_container.DataTC object at 0x7fdb894f9828>\n",
      "281.25 pA\n",
      "437.5 pA <class 'quantities.quantity.Quantity'>\n",
      "437.5 pA\n",
      "500.0 pA <class 'quantities.quantity.Quantity'>\n",
      "468.75 pA <class 'quantities.quantity.Quantity'>\n",
      "468.75 pA\n",
      "500.0 pA\n",
      "406.25 pA <class 'quantities.quantity.Quantity'>\n",
      "406.25 pA\n",
      "2\n",
      "{'value': array(375.0) * pA} rheobase why not?\n",
      "k=0.11; Test=InputResistanceTest\n",
      "-10.0 pA <class 'quantities.quantity.Quantity'>\n",
      "-10.0 pA\n",
      "1.0 pA\n",
      "input resistance score: Z = -5.85\n",
      "{'value': array(3111349.17954925) * kg*m**2/(s**3*A**2)} rheobase why not?\n",
      "bad k 0.113646366639\n",
      "bad k 0.113646366639\n",
      "k=0.22; Test=RheobaseTestP\n",
      "0.0 pA 0.0 pA <neuronunit.optimization.data_transport_container.DataTC object at 0x7fdb9eb09828>\n",
      "41.666666666666664 pA 41.666666666666664 pA <neuronunit.optimization.data_transport_container.DataTC object at 0x7fdb935407b8>\n",
      "83.33333333333333 pA 83.33333333333333 pA <neuronunit.optimization.data_transport_container.DataTC object at 0x7fdb894f7e48>\n",
      "125.0 pA 125.0 pA <neuronunit.optimization.data_transport_container.DataTC object at 0x7fdb894f7400>\n",
      "0.0 pA <class 'quantities.quantity.Quantity'>\n",
      "0.0 pA\n",
      "125.0 pA <class 'quantities.quantity.Quantity'>\n",
      "125.0 pA\n",
      "83.33333333333333 pA <class 'quantities.quantity.Quantity'>\n",
      "41.666666666666664 pA <class 'quantities.quantity.Quantity'>\n",
      "41.666666666666664 pA\n",
      "83.33333333333333 pA\n",
      "208.33333333333331 pA 208.33333333333331 pA <neuronunit.optimization.data_transport_container.DataTC object at 0x7fdb894f76d8>\n",
      "208.33333333333331 pA <class 'quantities.quantity.Quantity'>\n",
      "208.33333333333331 pA\n",
      "250.0 pA 250.0 pA <neuronunit.optimization.data_transport_container.DataTC object at 0x7fdb894f7c18>\n",
      "250.0 pA <class 'quantities.quantity.Quantity'>\n",
      "166.66666666666666 pA 166.66666666666666 pA <neuronunit.optimization.data_transport_container.DataTC object at 0x7fdb894f7898>\n",
      "166.66666666666666 pA <class 'quantities.quantity.Quantity'>\n",
      "250.0 pA\n",
      "166.66666666666666 pA\n",
      "1\n",
      "281.25 pA 281.25 pA <neuronunit.optimization.data_transport_container.DataTC object at 0x7fdb894f9710>\n",
      "281.25 pA <class 'quantities.quantity.Quantity'>\n",
      "281.25 pA\n",
      "312.5 pA 312.5 pA <neuronunit.optimization.data_transport_container.DataTC object at 0x7fdb894f9fd0>\n",
      "312.5 pA <class 'quantities.quantity.Quantity'>\n",
      "343.75 pA 343.75 pA <neuronunit.optimization.data_transport_container.DataTC object at 0x7fdb894f9e10>\n",
      "312.5 pA\n",
      "343.75 pA <class 'quantities.quantity.Quantity'>\n",
      "343.75 pA\n",
      "375.0 pA 375.0 pA <neuronunit.optimization.data_transport_container.DataTC object at 0x7fdb894f95c0>\n",
      "406.25 pA 406.25 pA <neuronunit.optimization.data_transport_container.DataTC object at 0x7fdb894f94a8>\n",
      "500.0 pA 500.0 pA <neuronunit.optimization.data_transport_container.DataTC object at 0x7fdb8bb6f0b8>\n",
      "375.0 pA <class 'quantities.quantity.Quantity'>\n",
      "437.5 pA 437.5 pA <neuronunit.optimization.data_transport_container.DataTC object at 0x7fdb894f9b70>\n",
      "468.75 pA 468.75 pA <neuronunit.optimization.data_transport_container.DataTC object at 0x7fdb894f9c18>\n",
      "375.0 pA\n",
      "406.25 pA <class 'quantities.quantity.Quantity'>\n",
      "406.25 pA\n",
      "437.5 pA <class 'quantities.quantity.Quantity'>\n",
      "437.5 pA\n",
      "500.0 pA <class 'quantities.quantity.Quantity'>\n",
      "500.0 pA\n",
      "468.75 pA <class 'quantities.quantity.Quantity'>\n",
      "468.75 pA\n"
     ]
    }
   ],
   "source": [
    "import pandas as pd\n",
    "import numpy as np\n",
    "k_grid = np.logspace(-1.5,1,10)\n",
    "#k_grid = np.logspace(-2,-1,10)\n",
    "#k_grid = np.logspace(-1,1,10)\n",
    "\n",
    "\n",
    "print(k_grid)\n",
    "\n",
    "params = {}\n",
    "params['a'] = 0.03\n",
    "params['b'] = -2\n",
    "params['C'] = 100\n",
    "params['c'] = -50 \n",
    "params['vr'] = -60\n",
    "params['vt'] = -40\n",
    "params['vPeak'] = 35\n",
    "params['k'] = 0.7\n",
    "params['d'] = 100\n",
    "params['dt'] = 0.025\n",
    "params['tMax'] = 1000.0;#   % max time [ms]\n",
    "first_two = all_tests[0:2]\n",
    "list_dics = []                                         \n",
    "fig = plt.figure()\n",
    "import copy\n",
    "import pdb\n",
    "tests_ = all_tests[0:2]\n",
    "for k in k_grid:\n",
    "    LEMS_MODEL_PATH = path_params['model_path']\n",
    "    model = None\n",
    "    model = ReducedModel(LEMS_MODEL_PATH,name=str('vanilla'),backend='NEURON')\n",
    "    params['k'] = k\n",
    "    model.set_attrs(params)\n",
    "\n",
    "    scores = []\n",
    "    for index,t in enumerate(first_two):\n",
    "        print(\"k=%.2g; Test=%s\" % (k,t))\n",
    "        score = t.judge(model, stop_on_error=True, deep_error=False)\n",
    "        print(score.prediction,'rheobase why not?')\n",
    "        scores.append(score)\n",
    "\n",
    "    for s in scores:\n",
    "        agreement = {}\n",
    "        agreement['k'] = k\n",
    "        print('bad k', k)\n",
    "        agreement['test'] = s.test\n",
    "        try:\n",
    "            agreement['observation'] = s.observation['mean'].rescale(s.test.units)\n",
    "            agreement['prediction'] = s.prediction['value'].rescale(s.test.units)\n",
    "            agreement['agreement'] = float(agreement['observation'])/float(agreement['prediction'])\n",
    "        except Exception as e:\n",
    "            print('error score skip because %s' % e)\n",
    "            agreement['agreement'] = None\n",
    "        list_dics.append(agreement)\n",
    "\n",
    "\n"
   ]
  },
  {
   "cell_type": "code",
   "execution_count": null,
   "metadata": {
    "collapsed": false
   },
   "outputs": [],
   "source": [
    "#pd.set_option('display.precision', 3)\n",
    "df = pd.DataFrame(list_dics)\n",
    "dfg = df.reset_index(drop=True)\n",
    "#dfg = dfg.dropna()\n",
    "#dfg\n",
    "#how='all'\n",
    "#dfg = df.reset_index(drop=nan)\n",
    "\n",
    "\n",
    "import seaborn as sns\n",
    "cm = sns.light_palette(\"green\", as_cmap=True)\n",
    "#display(dfg.style.background_gradient(cmap=cm,subset=['agreement']))\n",
    "#df\n",
    "#ax = df[df['test'].index % 2 == 0].plot(x='k',y='agreement',label='Rheobase')\n",
    "\n",
    "ax = df[df['test'].index % 2 == 0].plot(x='k',y='agreement',label='Rheobase')\n",
    "df[df['test'].index % 2 == 1].plot(x='k',y='agreement',label='InputRes', ax=ax)\n",
    "plt.plot(k_grid,np.ones(k_grid.shape),'--')\n",
    "#plt.xscale('log')\n",
    "#plt.yscale('log')\n",
    "\n",
    "plt.xscale('log')\n",
    "plt.yscale('log')"
   ]
  },
  {
   "cell_type": "code",
   "execution_count": null,
   "metadata": {
    "collapsed": false
   },
   "outputs": [],
   "source": [
    "list_dics"
   ]
  },
  {
   "cell_type": "code",
   "execution_count": null,
   "metadata": {
    "collapsed": false
   },
   "outputs": [],
   "source": [
    "print(k_grid)"
   ]
  },
  {
   "cell_type": "code",
   "execution_count": null,
   "metadata": {
    "collapsed": true
   },
   "outputs": [],
   "source": [
    "k_grid = np.logspace(-1,0,10)\n"
   ]
  },
  {
   "cell_type": "code",
   "execution_count": null,
   "metadata": {
    "collapsed": false
   },
   "outputs": [],
   "source": [
    "print(k_grid)"
   ]
  },
  {
   "cell_type": "code",
   "execution_count": null,
   "metadata": {
    "collapsed": false
   },
   "outputs": [],
   "source": [
    "\n",
    "import seaborn as sns\n",
    "cm = sns.light_palette(\"green\", as_cmap=True)\n",
    "#display(dfg.style.background_gradient(cmap=cm,subset=['agreement']))\n",
    "#df\n",
    "\n",
    "ax = df[df['test'].index % 2 == 0].plot(x='k',y='agreement',label='Rheobase')\n",
    "#df[df['test'].index % 2 == 1].plot(x='k',y='agreement',label='InputRes', ax=ax)\n",
    "plt.plot(k_grid,np.ones(k_grid.shape),'--')\n",
    "plt.xscale('log')\n",
    "plt.yscale('log')"
   ]
  },
  {
   "cell_type": "code",
   "execution_count": null,
   "metadata": {
    "collapsed": false
   },
   "outputs": [],
   "source": [
    "ax = df[df['test'].index % 2 == 0].plot(x='k',y='agreement',label='Rheobase')\n"
   ]
  },
  {
   "cell_type": "code",
   "execution_count": null,
   "metadata": {
    "collapsed": false
   },
   "outputs": [],
   "source": [
    "# tests that do well, 4th last to second last.\n",
    "# rheobase.\n",
    "ft_ = all_tests[-4:-2]\n",
    "ft_.insert(0,all_tests[0]) \n",
    "print(ft_)\n",
    "free_params = ['k','b']\n",
    "from neuronunit.optimization import optimization_management as om\n",
    "ga_out, DO = om.run_ga(mp,3,ft_,free_params=free_params)\n"
   ]
  },
  {
   "cell_type": "code",
   "execution_count": null,
   "metadata": {
    "collapsed": false
   },
   "outputs": [],
   "source": []
  },
  {
   "cell_type": "code",
   "execution_count": null,
   "metadata": {
    "collapsed": false
   },
   "outputs": [],
   "source": [
    "type2007.keys()"
   ]
  },
  {
   "cell_type": "code",
   "execution_count": null,
   "metadata": {
    "collapsed": false
   },
   "outputs": [],
   "source": [
    "for k, v in type2007.items():\n",
    "    print(v)"
   ]
  },
  {
   "cell_type": "code",
   "execution_count": null,
   "metadata": {
    "collapsed": false
   },
   "outputs": [],
   "source": []
  },
  {
   "cell_type": "code",
   "execution_count": null,
   "metadata": {
    "collapsed": false
   },
   "outputs": [],
   "source": [
    "param_dict"
   ]
  },
  {
   "cell_type": "code",
   "execution_count": null,
   "metadata": {
    "collapsed": true
   },
   "outputs": [],
   "source": []
  }
 ],
 "metadata": {
  "kernelspec": {
   "display_name": "Python 3",
   "language": "python",
   "name": "python3"
  },
  "language_info": {
   "codemirror_mode": {
    "name": "ipython",
    "version": 3
   },
   "file_extension": ".py",
   "mimetype": "text/x-python",
   "name": "python",
   "nbconvert_exporter": "python",
   "pygments_lexer": "ipython3",
   "version": "3.5.2"
  }
 },
 "nbformat": 4,
 "nbformat_minor": 2
}
