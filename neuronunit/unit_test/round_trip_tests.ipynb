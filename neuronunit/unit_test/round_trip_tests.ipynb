{
 "cells": [
  {
   "cell_type": "code",
   "execution_count": 1,
   "metadata": {
    "collapsed": false
   },
   "outputs": [
    {
     "name": "stdout",
     "output_type": "stream",
     "text": [
      "OrderedDict([('RS', {'d': 100, 'a': 0.03, 'b': -2, 'k': 0.7, 'c': -50, 'C': 100, 'vPeak': 35, 'vr': -60, 'vt': -40}), ('IB', {'d': 130, 'a': 0.01, 'b': 5, 'k': 1.2, 'c': -56, 'C': 150, 'vPeak': 50, 'vr': -75, 'vt': -45}), ('LTS', {'d': 20, 'a': 0.03, 'b': 8, 'k': 1.0, 'c': -53, 'C': 100, 'vPeak': 40, 'vr': -56, 'vt': -42}), ('TC', {'d': 10, 'a': 0.01, 'b': 15, 'k': 1.6, 'c': -60, 'C': 200, 'vPeak': 35, 'vr': -60, 'vt': -50}), ('TC_burst', {'d': 10, 'a': 0.01, 'b': 15, 'k': 1.6, 'c': -60, 'C': 200, 'vPeak': 35, 'vr': -60, 'vt': -50})])\n"
     ]
    }
   ],
   "source": [
    "# http://www.physics.usyd.edu.au/teach_res/mp/mscripts/\n",
    "# ns_izh002.m\n",
    "import collections\n",
    "from collections import OrderedDict\n",
    "import numpy as np\n",
    "\n",
    "# Fast spiking cannot be reproduced as it requires modifications to the standard Izhi equation,\n",
    "# which are expressed in this mod file.\n",
    "# https://github.com/OpenSourceBrain/IzhikevichModel/blob/master/NEURON/izhi2007b.mod\n",
    "\n",
    "\n",
    "reduced2007 = collections.OrderedDict([\n",
    "  #              C    k     vr  vt vpeak   a      b   c    d  celltype\n",
    "  ('RS',        (100, 0.7,  -60, -40, 35, 0.03,   -2, -50,  100,  1)),\n",
    "  ('IB',        (150, 1.2,  -75, -45, 50, 0.01,   5, -56,  130,   2)),\n",
    "  ('LTS',       (100, 1.0,  -56, -42, 40, 0.03,   8, -53,   20,   4)),\n",
    "  ('TC',        (200, 1.6,  -60, -50, 35, 0.01,  15, -60,   10,   6)),\n",
    "  ('TC_burst',  (200, 1.6,  -60, -50, 35, 0.01,  15, -60,   10,   6))])\n",
    "\n",
    "\n",
    "type2007 = collections.OrderedDict([\n",
    "  #              C    k     vr  vt vpeak   a      b   c    d  celltype\n",
    "  ('RS',        (100, 0.7,  -60, -40, 35, 0.03,   -2, -50,  100,  1)),\n",
    "  ('IB',        (150, 1.2,  -75, -45, 50, 0.01,   5, -56,  130,   2)),\n",
    "  ('LTS',       (100, 1.0,  -56, -42, 40, 0.03,   8, -53,   20,   4)),\n",
    "  ('TC',        (200, 1.6,  -60, -50, 35, 0.01,  15, -60,   10,   6)),\n",
    "  ('TC_burst',  (200, 1.6,  -60, -50, 35, 0.01,  15, -60,   10,   6)),\n",
    "  ('RTN',       (40,  0.25, -65, -45,  0, 0.015, 10, -55,   50,   7)),\n",
    "  ('RTN_burst', (40,  0.25, -65, -45,  0, 0.015, 10, -55,   50,   7)),\n",
    "  ('CH',        (50,  1.5,  -60, -40, 25, 0.03,   1, -40,  150,   3)),\n",
    "  ('FS',        (20,  1.0,  -55, -40, 25, 0.2,   -2, -45,  -55,   5))])\n",
    "\n",
    "reduced_dict = OrderedDict([(k,[]) for k in ['C','k','vr','vt','vPeak','a','b','c','d']])\n",
    "\n",
    "#OrderedDict\n",
    "for i,k in enumerate(reduced_dict.keys()):\n",
    "    for v in type2007.values():\n",
    "        reduced_dict[k].append(v[i])\n",
    "\n",
    "explore_param = {k:(np.min(v),np.max(v)) for k,v in reduced_dict.items()}\n",
    "param_ranges = OrderedDict(explore_param)\n",
    "\n",
    "\n",
    "RS = {}\n",
    "IB = {}\n",
    "TC = {}\n",
    "CH = {}\n",
    "RTN_burst = {}\n",
    "cells = OrderedDict([(k,[]) for k in ['RS','IB','CH','LTS','FS','TC','TC_burst','RTN','RTN_busrt']])\n",
    "reduced_cells = OrderedDict([(k,[]) for k in ['RS','IB','LTS','TC','TC_burst']])\n",
    "\n",
    "for index,key in enumerate(reduced_cells.keys()):\n",
    "    reduced_cells[key] = {}\n",
    "    for k,v in reduced_dict.items():\n",
    "        reduced_cells[key][k] = v[index]\n",
    "\n",
    "print(reduced_cells)\n",
    "cells = reduced_cells"
   ]
  },
  {
   "cell_type": "code",
   "execution_count": 2,
   "metadata": {
    "collapsed": false
   },
   "outputs": [],
   "source": [
    "model = None\n",
    "from neuronunit.models.reduced import ReducedModel\n",
    "from neuronunit.optimization import get_neab\n",
    "\n",
    "from neuronunit.optimization.model_parameters import model_params, path_params\n",
    "LEMS_MODEL_PATH = path_params['model_path']\n",
    "\n",
    "model = ReducedModel(LEMS_MODEL_PATH,name = str('vanilla'),backend = ('RAW'))\n",
    "model.set_attrs(cells['TC'])\n",
    "\n"
   ]
  },
  {
   "cell_type": "code",
   "execution_count": 3,
   "metadata": {
    "collapsed": false
   },
   "outputs": [
    {
     "name": "stdout",
     "output_type": "stream",
     "text": [
      "{'value': array(75.53061224489795) * pA}\n"
     ]
    }
   ],
   "source": [
    "\n",
    "tests_,all_tests, observation,suite = get_neab.get_tests()\n",
    "\n",
    "rheobase = all_tests[0].generate_prediction(model)\n",
    "print(rheobase)"
   ]
  },
  {
   "cell_type": "code",
   "execution_count": 4,
   "metadata": {
    "collapsed": false
   },
   "outputs": [
    {
     "data": {
      "image/png": "[encoded data removed]",
      "text/plain": [
       "<matplotlib.figure.Figure at 0x7fee3454cf98>"
      ]
     },
     "metadata": {},
     "output_type": "display_data"
    }
   ],
   "source": [
    "\n",
    "\n",
    "import pickle\n",
    "import copy\n",
    "import numpy as np\n",
    "import pandas as pd\n",
    "import matplotlib.pyplot as plt\n",
    "\n",
    "from neuronunit.models.reduced import ReducedModel\n",
    "from neuronunit.optimization.model_parameters import model_params, path_params\n",
    "LEMS_MODEL_PATH = path_params['model_path']\n",
    "import neuronunit.optimization as opt\n",
    "import quantities as pq\n",
    "\n",
    "from neuronunit.optimization.data_transport_container import DataTC\n",
    "model = ReducedModel(LEMS_MODEL_PATH,name = str('vanilla'),backend = ('RAW'))\n",
    "model.set_attrs(cells['TC'])\n",
    "\n",
    "iparams = {}\n",
    "iparams['injected_square_current'] = {}\n",
    "iparams['injected_square_current']['amplitude'] =75.36800000000001*pq.pA\n",
    "#['amplitude']  = dtc.vtest[k]['injected_square_current']['amplitude']\n",
    "DELAY = 100.0*pq.ms\n",
    "DURATION = 1000.0*pq.ms\n",
    "iparams['injected_square_current']['delay'] = DELAY\n",
    "iparams['injected_square_current']['duration'] = int(DURATION)\n",
    "\n",
    "model.inject_square_current(iparams)\n",
    "\n",
    "plt.plot(model.get_membrane_potential().times,model.get_membrane_potential(),label='RAW')\n",
    "plt.legend()\n",
    "plt.show()\n"
   ]
  },
  {
   "cell_type": "code",
   "execution_count": 5,
   "metadata": {
    "collapsed": false
   },
   "outputs": [],
   "source": [
    "\n",
    "cnt = 0\n",
    "scores = []\n",
    "tests_,all_tests, observation,suite = opt.get_neab.get_tests()\n"
   ]
  },
  {
   "cell_type": "code",
   "execution_count": 6,
   "metadata": {
    "collapsed": false
   },
   "outputs": [
    {
     "name": "stdout",
     "output_type": "stream",
     "text": [
      "[array(75.53061224489795) * pA, array(75.53061224489795) * pA, array(75.53061224489795) * pA]\n",
      "[array(75.53061224489795) * pA, array(-10.0) * pA, array(-10.0) * pA, array(-10.0) * pA, array(-10.0) * pA]\n"
     ]
    }
   ],
   "source": [
    "\n",
    "\n",
    "\n",
    "def format_iparams(all_tests,rheobase):\n",
    "\n",
    "    for t in all_tests[1:5]:\n",
    "        DURATION = 500.0*pq.ms\n",
    "        DELAY = 200.0*pq.ms\n",
    "\n",
    "        obs = t.observation\n",
    "        t.params = {}\n",
    "        t.params['injected_square_current'] = {}\n",
    "        t.params['injected_square_current']['delay']= DELAY\n",
    "        t.params['injected_square_current']['duration'] = DURATION\n",
    "        t.params['injected_square_current']['amplitude'] = -10*pq.pA\n",
    "        \n",
    "        \n",
    "    for t in all_tests[-3::]:    \n",
    "        t.params = {}\n",
    "        DURATION = 1000.0*pq.ms\n",
    "        DELAY = 100.0*pq.ms\n",
    "\n",
    "        t.params['injected_square_current'] = {}\n",
    "        t.params['injected_square_current']['delay']= DELAY\n",
    "        t.params['injected_square_current']['duration'] = DURATION\n",
    "        t.params['injected_square_current']['amplitude'] = rheobase['value']\n",
    "    \n",
    "    all_tests[0].params = all_tests[-1].params\n",
    "    \n",
    "    return all_tests\n",
    "\n",
    "pt = format_iparams(all_tests,rheobase)\n",
    "print([t.params['injected_square_current']['amplitude'] for t in pt[-3::] ])\n",
    "print([t.params['injected_square_current']['amplitude'] for t in pt[0:5] ])\n",
    "\n"
   ]
  },
  {
   "cell_type": "markdown",
   "metadata": {},
   "source": [
    "##\n",
    "# * Get predictions from models.\n",
    "## * Fake NeuroElectro Observations\n",
    "## * Do roundtrip testing\n",
    "##"
   ]
  },
  {
   "cell_type": "code",
   "execution_count": 7,
   "metadata": {
    "collapsed": false
   },
   "outputs": [
    {
     "name": "stdout",
     "output_type": "stream",
     "text": [
      "injected current seen:  {'duration': array(500.0) * ms, 'delay': array(200.0) * ms, 'amplitude': array(-10.0) * pA}\n",
      "injected current seen:  {'duration': array(500.0) * ms, 'delay': array(200.0) * ms, 'amplitude': array(-10.0) * pA}\n",
      "injected current seen:  {'duration': array(500.0) * ms, 'delay': array(200.0) * ms, 'amplitude': array(-10.0) * pA}\n",
      "[{'value': array(75.53061224489795) * pA}, {'value': array(31739282.99824782) * kg*m**2/(s**3*A**2)}, {'value': array(0.0034631849083750876) * s}, {'value': array(1.0911352057216523e-10) * s**4*A**2/(kg*m**2)}, {'std': array(0.00019622743842309925) * V, 'mean': array(-0.060317405613048956) * V}, {'std': array(0.0) * s, 'n': 1, 'mean': array(0.0006500000000000001) * s}, {'std': array(0.0) * V, 'n': 1, 'mean': array(0.056127191359642024) * V}, {'std': array(0.0) * V, 'n': 1, 'mean': array(-0.02112719135964202) * V}]\n"
     ]
    }
   ],
   "source": [
    "predictions = []\n",
    "import dask.bag as db\n",
    "# The rheobase has been obtained seperately and cannot be db mapped.\n",
    "# Nested DB mappings dont work.\n",
    "ptbag = db.from_sequence(pt[1::])\n",
    "\n",
    "def obtain_predictions(t):    \n",
    "    model = None\n",
    "    model = ReducedModel(LEMS_MODEL_PATH,name = str('vanilla'),backend = ('RAW'))\n",
    "    model.set_attrs(cells['TC'])\n",
    "    return t.generate_prediction(model)\n",
    "predictions = list(ptbag.map(obtain_predictions).compute())\n",
    "predictions.insert(0,rheobase)\n",
    "print(predictions)    \n"
   ]
  },
  {
   "cell_type": "code",
   "execution_count": 8,
   "metadata": {
    "collapsed": false
   },
   "outputs": [
    {
     "name": "stdout",
     "output_type": "stream",
     "text": [
      "[{'value': array(75.53061224489795) * pA}, {'value': array(31739282.99824782) * kg*m**2/(s**3*A**2)}, {'value': array(0.0034631849083750876) * s}, {'value': array(1.0911352057216523e-10) * s**4*A**2/(kg*m**2)}, {'std': array(0.00019622743842309925) * V, 'value': array(-0.060317405613048956) * V}, {'std': array(0.0) * s, 'n': 1, 'value': array(0.0006500000000000001) * s}, {'std': array(0.0) * V, 'n': 1, 'value': array(0.056127191359642024) * V}, {'std': array(0.0) * V, 'n': 1, 'value': array(-0.02112719135964202) * V}]\n"
     ]
    }
   ],
   "source": [
    "# having both means and values in dictionary makes it very irritating to iterate over.\n",
    "# It's more harmless to demote means to values, than to elevate values to means.\n",
    "# Simply swap key names: means, for values.\n",
    "for p in predictions:\n",
    "    if 'mean' in p.keys():\n",
    "        p['value'] = p.pop('mean')\n",
    "print(predictions)\n"
   ]
  },
  {
   "cell_type": "code",
   "execution_count": 9,
   "metadata": {
    "collapsed": false
   },
   "outputs": [
    {
     "name": "stdout",
     "output_type": "stream",
     "text": [
      "75.53061224489795 pA\n",
      "31.73928299824782 Mohm\n",
      "3.4631849083750876 ms\n",
      "1.0911352057216523e-10 s**4*A**2/(kg*m**2)\n",
      "-60.317405613048955 mV\n",
      "0.6500000000000001 ms\n",
      "56.127191359642026 mV\n",
      "-21.127191359642023 mV\n"
     ]
    }
   ],
   "source": [
    "# make some new tests based on internally generated data \n",
    "# as opposed to experimental data.\n",
    "\n",
    "\n",
    "TC_tests = copy.copy(all_tests)\n",
    "for ind,t in enumerate(TC_tests):\n",
    "    if 'mean' in t.observation.keys():\n",
    "        t.observation['value'] = t.observation.pop('mean')\n",
    "    pred =  predictions[ind]['value']\n",
    "    try:\n",
    "        pred = pred.rescale(t.units)\n",
    "        t.observation['value'] = pred\n",
    "    except:        \n",
    "        t.observation['value'] = pred\n",
    "    t.observation['mean'] = t.observation['value']\n",
    "        \n",
    "    print(t.observation['value'])\n",
    "    \n",
    "pickle.dump(TC_tests,open('thalamo_cortical_tests.p','wb'))    \n",
    "    \n",
    "\n",
    "\n"
   ]
  },
  {
   "cell_type": "code",
   "execution_count": 10,
   "metadata": {
    "collapsed": false
   },
   "outputs": [
    {
     "name": "stdout",
     "output_type": "stream",
     "text": [
      "{'d': 10, 'k': 1.6, 'c': -60, 'C': 200, 'vPeak': 35, 'vt': -50}\n",
      "not even to test runner getting\n"
     ]
    },
    {
     "name": "stderr",
     "output_type": "stream",
     "text": [
      "/opt/conda/lib/python3.5/site-packages/sklearn/cross_validation.py:41: DeprecationWarning: This module was deprecated in version 0.18 in favor of the model_selection module into which all the refactored classes and functions are moved. Also note that the interface of the new CV iterators are different from that of this module. This module will be removed in 0.20.\n",
      "  \"This module will be removed in 0.20.\", DeprecationWarning)\n",
      "/opt/conda/lib/python3.5/site-packages/sklearn/grid_search.py:42: DeprecationWarning: This module was deprecated in version 0.18 in favor of the model_selection module into which all the refactored classes and functions are moved. This module will be removed in 0.20.\n",
      "  DeprecationWarning)\n"
     ]
    },
    {
     "name": "stdout",
     "output_type": "stream",
     "text": [
      "[array(227.1326530612245) * pA, array(6.928571428571429) * pA, array(319.9708454810496) * pA, array(32.33673469387755) * pA, array(226.28571428571428) * pA, array(6.081632653061225) * pA, array(473.7609329446064) * pA, array(83.15306122448979) * pA]\n",
      "injected current seen:  {'duration': array(1000.0) * ms, 'delay': array(100.0) * ms, 'amplitude': array(227.1326530612245) * pA}\n",
      "injected current seen:  {'duration': array(1000.0) * ms, 'delay': array(100.0) * ms, 'amplitude': array(6.928571428571429) * pA}\n",
      "injected current seen:  {'duration': array(1000.0) * ms, 'delay': array(100.0) * ms, 'amplitude': array(32.33673469387755) * pA}\n",
      "injected current seen:  {'duration': array(1000.0) * ms, 'delay': array(100.0) * ms, 'amplitude': array(319.9708454810496) * pA}\n",
      "input resistance score: Z = 3.30\n",
      "input resistance score: Z = 0.47\n",
      "injected current seen:  {'duration': array(500.0) * ms, 'delay': array(200.0) * ms, 'amplitude': array(-10.0) * pA}\n",
      "injected current seen:  {'duration': array(500.0) * ms, 'delay': array(200.0) * ms, 'amplitude': array(-10.0) * pA}\n",
      "input resistance score: Z = -0.11\n",
      "injected current seen:  {'duration': array(500.0) * ms, 'delay': array(200.0) * ms, 'amplitude': array(-10.0) * pA}\n",
      "input resistance score: Z = 0.22\n",
      "injected current seen:  {'duration': array(1000.0) * ms, 'delay': array(100.0) * ms, 'amplitude': array(226.28571428571428) * pA}\n",
      "injected current seen:  {'duration': array(500.0) * ms, 'delay': array(200.0) * ms, 'amplitude': array(-10.0) * pA}\n",
      "injected current seen:  {'duration': array(500.0) * ms, 'delay': array(200.0) * ms, 'amplitude': array(-10.0) * pA}\n",
      "input resistance score: Z = 1.07\n",
      "injected current seen:  {'duration': array(1000.0) * ms, 'delay': array(100.0) * ms, 'amplitude': array(473.7609329446064) * pA}\n",
      "injected current seen:  {'duration': array(500.0) * ms, 'delay': array(200.0) * ms, 'amplitude': array(-10.0) * pA}\n",
      "injected current seen:  {'duration': array(1000.0) * ms, 'delay': array(100.0) * ms, 'amplitude': array(6.081632653061225) * pA}\n",
      "injected current seen:  {'duration': array(500.0) * ms, 'delay': array(200.0) * ms, 'amplitude': array(-10.0) * pA}\n",
      "injected current seen:  {'duration': array(500.0) * ms, 'delay': array(200.0) * ms, 'amplitude': array(-10.0) * pA}\n",
      "input resistance score: Z = 0.06\n",
      "injected current seen:  {'duration': array(500.0) * ms, 'delay': array(200.0) * ms, 'amplitude': array(-10.0) * pA}\n",
      "injected current seen:  {'duration': array(500.0) * ms, 'delay': array(200.0) * ms, 'amplitude': array(-10.0) * pA}\n",
      "injected current seen:  {'duration': array(1000.0) * ms, 'delay': array(100.0) * ms, 'amplitude': array(83.15306122448979) * pA}\n",
      "input resistance score: Z = 3.26\n",
      "injected current seen:  {'duration': array(500.0) * ms, 'delay': array(200.0) * ms, 'amplitude': array(-10.0) * pA}\n",
      "input resistance score: Z = 0.65\n",
      "injected current seen:  {'duration': array(500.0) * ms, 'delay': array(200.0) * ms, 'amplitude': array(-10.0) * pA}\n",
      "injected current seen:  {'duration': array(500.0) * ms, 'delay': array(200.0) * ms, 'amplitude': array(-10.0) * pA}\n",
      "injected current seen:  {'duration': array(500.0) * ms, 'delay': array(200.0) * ms, 'amplitude': array(-10.0) * pA}\n",
      "injected current seen:  {'duration': array(500.0) * ms, 'delay': array(200.0) * ms, 'amplitude': array(-10.0) * pA}\n",
      "injected current seen:  {'duration': array(500.0) * ms, 'delay': array(200.0) * ms, 'amplitude': array(-10.0) * pA}\n",
      "[<neuronunit.optimization.data_transport_container.DataTC object at 0x7fee2f907e80>, <neuronunit.optimization.data_transport_container.DataTC object at 0x7fee2f8dd898>, <neuronunit.optimization.data_transport_container.DataTC object at 0x7fee2f8dd630>, <neuronunit.optimization.data_transport_container.DataTC object at 0x7fee35657080>, <neuronunit.optimization.data_transport_container.DataTC object at 0x7fee2f8ddac8>, <neuronunit.optimization.data_transport_container.DataTC object at 0x7fee2f9291d0>, <neuronunit.optimization.data_transport_container.DataTC object at 0x7fee2f91fb00>, <neuronunit.optimization.data_transport_container.DataTC object at 0x7fee35659eb8>]\n",
      "tests, completed, now gene computations\n",
      "not even to test runner getting\n",
      "[array(227.1326530612245) * pA, array(260.2040816326531) * pA, array(67.90816326530613) * pA, array(219.51020408163265) * pA, array(98.39795918367346) * pA, array(420.5539358600583) * pA]\n",
      "injected current seen:  {'duration': array(1000.0) * ms, 'delay': array(100.0) * ms, 'amplitude': array(227.1326530612245) * pA}\n",
      "injected current seen:  {'duration': array(1000.0) * ms, 'delay': array(100.0) * ms, 'amplitude': array(260.2040816326531) * pA}\n",
      "injected current seen:  {'duration': array(1000.0) * ms, 'delay': array(100.0) * ms, 'amplitude': array(67.90816326530613) * pA}\n",
      "injected current seen:  {'duration': array(1000.0) * ms, 'delay': array(100.0) * ms, 'amplitude': array(98.39795918367346) * pA}\n",
      "injected current seen:  {'duration': array(1000.0) * ms, 'delay': array(100.0) * ms, 'amplitude': array(219.51020408163265) * pA}\n",
      "injected current seen:  {'duration': array(1000.0) * ms, 'delay': array(100.0) * ms, 'amplitude': array(420.5539358600583) * pA}\n",
      "input resistance score: Z = -0.09\n",
      "injected current seen:  {'duration': array(500.0) * ms, 'delay': array(200.0) * ms, 'amplitude': array(-10.0) * pA}\n",
      "input resistance score: Z = 0.47\n",
      "injected current seen:  {'duration': array(500.0) * ms, 'delay': array(200.0) * ms, 'amplitude': array(-10.0) * pA}\n",
      "injected current seen:  {'duration': array(500.0) * ms, 'delay': array(200.0) * ms, 'amplitude': array(-10.0) * pA}\n",
      "input resistance score: Z = 1.86\n",
      "input resistance score: Z = 1.22\n",
      "injected current seen:  {'duration': array(500.0) * ms, 'delay': array(200.0) * ms, 'amplitude': array(-10.0) * pA}\n",
      "injected current seen:  {'duration': array(500.0) * ms, 'delay': array(200.0) * ms, 'amplitude': array(-10.0) * pA}\n",
      "input resistance score: Z = 0.16\n",
      "injected current seen:  {'duration': array(500.0) * ms, 'delay': array(200.0) * ms, 'amplitude': array(-10.0) * pA}\n",
      "injected current seen:  {'duration': array(500.0) * ms, 'delay': array(200.0) * ms, 'amplitude': array(-10.0) * pA}\n",
      "injected current seen:  {'duration': array(500.0) * ms, 'delay': array(200.0) * ms, 'amplitude': array(-10.0) * pA}\n",
      "input resistance score: Z = 0.08\n",
      "injected current seen:  {'duration': array(500.0) * ms, 'delay': array(200.0) * ms, 'amplitude': array(-10.0) * pA}\n",
      "injected current seen:  {'duration': array(500.0) * ms, 'delay': array(200.0) * ms, 'amplitude': array(-10.0) * pA}\n"
     ]
    },
    {
     "name": "stderr",
     "output_type": "stream",
     "text": [
      "/home/jovyan/neuronunit/neuronunit/tests/passive.py:83: RuntimeWarning: overflow encountered in exp\n",
      "  vm_fit[offset:,0] = a * np.exp(-t[offset:]/b) + c\n"
     ]
    },
    {
     "name": "stdout",
     "output_type": "stream",
     "text": [
      "injected current seen:  {'duration': array(500.0) * ms, 'delay': array(200.0) * ms, 'amplitude': array(-10.0) * pA}\n"
     ]
    },
    {
     "name": "stderr",
     "output_type": "stream",
     "text": [
      "/home/jovyan/neuronunit/neuronunit/tests/passive.py:83: RuntimeWarning: overflow encountered in multiply\n",
      "  vm_fit[offset:,0] = a * np.exp(-t[offset:]/b) + c\n"
     ]
    },
    {
     "name": "stdout",
     "output_type": "stream",
     "text": [
      "injected current seen:  {'duration': array(500.0) * ms, 'delay': array(200.0) * ms, 'amplitude': array(-10.0) * pA}\n"
     ]
    },
    {
     "name": "stderr",
     "output_type": "stream",
     "text": [
      "INFO:__main__:gen\tnevals\tavg    \tstd     \tmin    \tmax    \n",
      "1  \t8     \t3.89399\t0.918618\t2.38982\t5.21792\n",
      "2  \t6     \t3.82178\t1.18981 \t1.16878\t5.21792\n"
     ]
    },
    {
     "name": "stdout",
     "output_type": "stream",
     "text": [
      "[<neuronunit.optimization.data_transport_container.DataTC object at 0x7fee3455f128>, <neuronunit.optimization.data_transport_container.DataTC object at 0x7fee345d09b0>, <neuronunit.optimization.data_transport_container.DataTC object at 0x7fee345d00f0>, <neuronunit.optimization.data_transport_container.DataTC object at 0x7fee3718ee10>, <neuronunit.optimization.data_transport_container.DataTC object at 0x7fee37192a58>, <neuronunit.optimization.data_transport_container.DataTC object at 0x7fee344878d0>]\n",
      "tests, completed, now gene computations\n",
      "[[0.01, -2.0, -75.0], [0.01, -2, -55], [0.01, 15.0, -72.162359315819316], [0.019842752401015011, 15, -57.837640684180677], [0.20000000000000001, -2, -74.652924436008334], [0.20000000000000001, -2, -55], [0.20000000000000001, 15, -56.279875816303409], [0.20000000000000001, 13.919119365130545, -73.720124183696583]]\n",
      "not even to test runner getting\n",
      "[array(93.31632653061224) * pA, array(397.23032069970844) * pA, array(416.1807580174927) * pA]\n",
      "injected current seen:  {'duration': array(1000.0) * ms, 'delay': array(100.0) * ms, 'amplitude': array(93.31632653061224) * pA}\n",
      "injected current seen:  {'duration': array(1000.0) * ms, 'delay': array(100.0) * ms, 'amplitude': array(397.23032069970844) * pA}\n",
      "injected current seen:  {'duration': array(1000.0) * ms, 'delay': array(100.0) * ms, 'amplitude': array(416.1807580174927) * pA}\n",
      "input resistance score: Z = 1.25\n",
      "injected current seen:  {'duration': array(500.0) * ms, 'delay': array(200.0) * ms, 'amplitude': array(-10.0) * pA}\n",
      "input resistance score: Z = 0.10\n",
      "injected current seen:  {'duration': array(500.0) * ms, 'delay': array(200.0) * ms, 'amplitude': array(-10.0) * pA}\n",
      "input resistance score: Z = 0.68\n",
      "injected current seen:  {'duration': array(500.0) * ms, 'delay': array(200.0) * ms, 'amplitude': array(-10.0) * pA}\n"
     ]
    },
    {
     "name": "stderr",
     "output_type": "stream",
     "text": [
      "/home/jovyan/neuronunit/neuronunit/tests/passive.py:83: RuntimeWarning: overflow encountered in exp\n",
      "  vm_fit[offset:,0] = a * np.exp(-t[offset:]/b) + c\n",
      "/home/jovyan/neuronunit/neuronunit/tests/passive.py:83: RuntimeWarning: overflow encountered in multiply\n",
      "  vm_fit[offset:,0] = a * np.exp(-t[offset:]/b) + c\n"
     ]
    },
    {
     "name": "stdout",
     "output_type": "stream",
     "text": [
      "injected current seen:  {'duration': array(500.0) * ms, 'delay': array(200.0) * ms, 'amplitude': array(-10.0) * pA}\n",
      "injected current seen:  {'duration': array(500.0) * ms, 'delay': array(200.0) * ms, 'amplitude': array(-10.0) * pA}\n",
      "injected current seen:  {'duration': array(500.0) * ms, 'delay': array(200.0) * ms, 'amplitude': array(-10.0) * pA}\n"
     ]
    },
    {
     "name": "stderr",
     "output_type": "stream",
     "text": [
      "INFO:__main__:3  \t3     \t3.44631\t0.539488\t2.54048\t3.93815\n"
     ]
    },
    {
     "name": "stdout",
     "output_type": "stream",
     "text": [
      "[<neuronunit.optimization.data_transport_container.DataTC object at 0x7fee3455f438>, <neuronunit.optimization.data_transport_container.DataTC object at 0x7fee3806c4a8>, <neuronunit.optimization.data_transport_container.DataTC object at 0x7fee3718ecf8>]\n",
      "tests, completed, now gene computations\n",
      "not even to test runner getting\n",
      "[array(93.31632653061224) * pA, array(93.31632653061224) * pA, array(83.15306122448979) * pA, array(101.78571428571428) * pA]\n",
      "injected current seen:  {'duration': array(1000.0) * ms, 'delay': array(100.0) * ms, 'amplitude': array(93.31632653061224) * pA}\n",
      "injected current seen:  {'duration': array(1000.0) * ms, 'delay': array(100.0) * ms, 'amplitude': array(93.31632653061224) * pA}\n",
      "injected current seen:  {'duration': array(1000.0) * ms, 'delay': array(100.0) * ms, 'amplitude': array(83.15306122448979) * pA}\n",
      "injected current seen:  {'duration': array(1000.0) * ms, 'delay': array(100.0) * ms, 'amplitude': array(101.78571428571428) * pA}\n",
      "input resistance score: Z = 0.65\n",
      "input resistance score: Z = 0.55\n",
      "injected current seen:  {'duration': array(500.0) * ms, 'delay': array(200.0) * ms, 'amplitude': array(-10.0) * pA}\n",
      "injected current seen:  {'duration': array(500.0) * ms, 'delay': array(200.0) * ms, 'amplitude': array(-10.0) * pA}\n",
      "input resistance score: Z = 1.25\n",
      "input resistance score: Z = 0.19\n",
      "injected current seen:  {'duration': array(500.0) * ms, 'delay': array(200.0) * ms, 'amplitude': array(-10.0) * pA}\n",
      "injected current seen:  {'duration': array(500.0) * ms, 'delay': array(200.0) * ms, 'amplitude': array(-10.0) * pA}\n",
      "injected current seen:  {'duration': array(500.0) * ms, 'delay': array(200.0) * ms, 'amplitude': array(-10.0) * pA}\n",
      "injected current seen:  {'duration': array(500.0) * ms, 'delay': array(200.0) * ms, 'amplitude': array(-10.0) * pA}\n",
      "injected current seen:  {'duration': array(500.0) * ms, 'delay': array(200.0) * ms, 'amplitude': array(-10.0) * pA}\n",
      "injected current seen:  {'duration': array(500.0) * ms, 'delay': array(200.0) * ms, 'amplitude': array(-10.0) * pA}\n"
     ]
    },
    {
     "name": "stderr",
     "output_type": "stream",
     "text": [
      "INFO:__main__:4  \t4     \t2.52815\t0.260893\t2.24113\t2.94118\n"
     ]
    },
    {
     "name": "stdout",
     "output_type": "stream",
     "text": [
      "[<neuronunit.optimization.data_transport_container.DataTC object at 0x7fee345d0c88>, <neuronunit.optimization.data_transport_container.DataTC object at 0x7fee371886d8>, <neuronunit.optimization.data_transport_container.DataTC object at 0x7fee3455f048>, <neuronunit.optimization.data_transport_container.DataTC object at 0x7fee5685d048>]\n",
      "tests, completed, now gene computations\n",
      "[[0.17283487762003827, 13.821996424655216, -56.602532543393217], [0.20000000000000001, 13.821996424655216, -56.602532543393217], [0.20000000000000001, 15.0, -55.0], [0.20000000000000001, 13.002091326490282, -57.788628990542293]]\n",
      "not even to test runner getting\n",
      "[array(83.15306122448979) * pA, array(95.01020408163265) * pA, array(93.31632653061224) * pA, array(135.66326530612244) * pA]\n",
      "injected current seen:  {'duration': array(1000.0) * ms, 'delay': array(100.0) * ms, 'amplitude': array(83.15306122448979) * pA}\n",
      "injected current seen:  {'duration': array(1000.0) * ms, 'delay': array(100.0) * ms, 'amplitude': array(95.01020408163265) * pA}\n",
      "injected current seen:  {'duration': array(1000.0) * ms, 'delay': array(100.0) * ms, 'amplitude': array(93.31632653061224) * pA}\n",
      "injected current seen:  {'duration': array(1000.0) * ms, 'delay': array(100.0) * ms, 'amplitude': array(135.66326530612244) * pA}\n",
      "input resistance score: Z = 0.65\n",
      "injected current seen:  {'duration': array(500.0) * ms, 'delay': array(200.0) * ms, 'amplitude': array(-10.0) * pA}\n",
      "input resistance score: Z = 0.61\n",
      "injected current seen:  {'duration': array(500.0) * ms, 'delay': array(200.0) * ms, 'amplitude': array(-10.0) * pA}\n",
      "input resistance score: Z = 0.08\n",
      "injected current seen:  {'duration': array(500.0) * ms, 'delay': array(200.0) * ms, 'amplitude': array(-10.0) * pA}\n",
      "injected current seen:  {'duration': array(500.0) * ms, 'delay': array(200.0) * ms, 'amplitude': array(-10.0) * pA}\n",
      "input resistance score: Z = 0.64\n",
      "injected current seen:  {'duration': array(500.0) * ms, 'delay': array(200.0) * ms, 'amplitude': array(-10.0) * pA}\n",
      "injected current seen:  {'duration': array(500.0) * ms, 'delay': array(200.0) * ms, 'amplitude': array(-10.0) * pA}\n",
      "injected current seen:  {'duration': array(500.0) * ms, 'delay': array(200.0) * ms, 'amplitude': array(-10.0) * pA}\n",
      "injected current seen:  {'duration': array(500.0) * ms, 'delay': array(200.0) * ms, 'amplitude': array(-10.0) * pA}\n"
     ]
    },
    {
     "name": "stderr",
     "output_type": "stream",
     "text": [
      "INFO:__main__:5  \t4     \t2.47542\t0.34641 \t2.07671\t3.03096\n"
     ]
    },
    {
     "name": "stdout",
     "output_type": "stream",
     "text": [
      "[<neuronunit.optimization.data_transport_container.DataTC object at 0x7fee3718e828>, <neuronunit.optimization.data_transport_container.DataTC object at 0x7fee37197048>, <neuronunit.optimization.data_transport_container.DataTC object at 0x7fee34473780>, <neuronunit.optimization.data_transport_container.DataTC object at 0x7fee3716fa58>]\n",
      "tests, completed, now gene computations\n",
      "[[0.20000000000000001, 15.0, -55], [0.20000000000000001, 13.05819718288449, -57.193440475374892], [0.17283487762003827, 13.813518137336468, -56.602532543393217], [0.20000000000000001, 11.735821400014721, -61.046405670263503]]\n"
     ]
    }
   ],
   "source": [
    "from neuronunit.optimization import optimization_management as om\n",
    "free_params = ['a','b','vr']#,'k','vt'] # this can only be odd numbers.\n",
    "\n",
    "#\n",
    "hc = {}\n",
    "for k,v in cells['TC'].items():\n",
    "    if k not in free_params:\n",
    "        hc[k] = v\n",
    "print(hc)\n",
    "import pickle\n",
    "TC_tests = pickle.load(open('thalamo_cortical_tests.p','rb'))    \n",
    "ga_out, DO = om.run_ga(explore_param,5,TC_tests,free_params=free_params,hc = hc)"
   ]
  },
  {
   "cell_type": "code",
   "execution_count": 11,
   "metadata": {
    "collapsed": false
   },
   "outputs": [
    {
     "name": "stdout",
     "output_type": "stream",
     "text": [
      "{'a': 0.019842752401015011, 'b': 15, 'vr': -57.837640684180677}\n",
      "{'d': 10, 'a': 0.01, 'b': 15, 'k': 1.6, 'c': -60, 'C': 200, 'vPeak': 35, 'vr': -60, 'vt': -50}\n"
     ]
    },
    {
     "data": {
      "text/plain": [
       "<matplotlib.legend.Legend at 0x7fee34d8a128>"
      ]
     },
     "execution_count": 11,
     "metadata": {},
     "output_type": "execute_result"
    },
    {
     "data": {
      "image/png": "[encoded data removed]",
      "text/plain": [
       "<matplotlib.figure.Figure at 0x7fee34689e80>"
      ]
     },
     "metadata": {},
     "output_type": "display_data"
    }
   ],
   "source": [
    "print(ga_out['dhof'][0].attrs)\n",
    "print(cells['TC'])\n",
    "\n",
    "\n",
    "model1 = None\n",
    "model1 = ReducedModel(LEMS_MODEL_PATH,name = str('vanilla'),backend = ('RAW'))\n",
    "model1.set_attrs(ga_out['dhof'][0].attrs)\n",
    "model1.inject_square_current(iparams)\n",
    "\n",
    "model2 = None\n",
    "model2 = ReducedModel(LEMS_MODEL_PATH,name = str('vanilla'),backend = ('RAW'))\n",
    "#vanilla = translate(mparams,m2m)\n",
    "model2.set_attrs(cells['TC'])\n",
    "model2.inject_square_current(iparams)\n",
    "\n",
    "\n",
    "plt.plot(model1.get_membrane_potential().times,model1.get_membrane_potential(),label='optimizer result')\n",
    "plt.plot(model2.get_membrane_potential().times,model2.get_membrane_potential(),label='ground truth')\n",
    "plt.legend()"
   ]
  },
  {
   "cell_type": "code",
   "execution_count": 12,
   "metadata": {
    "collapsed": false
   },
   "outputs": [
    {
     "name": "stdout",
     "output_type": "stream",
     "text": [
      "75.53061224489795 pA 75.53061224489795 pA\n",
      "injected current seen:  {'duration': array(500.0) * ms, 'delay': array(200.0) * ms, 'amplitude': array(-10.0) * pA}\n",
      "injected current seen:  {'duration': array(500.0) * ms, 'delay': array(200.0) * ms, 'amplitude': array(-10.0) * pA}\n",
      "input resistance score: Z = 0.00\n",
      "31.73928299824782 Mohm 31739282.99824782 kg*m**2/(s**3*A**2)\n",
      "injected current seen:  {'duration': array(500.0) * ms, 'delay': array(200.0) * ms, 'amplitude': array(-10.0) * pA}\n",
      "injected current seen:  {'duration': array(500.0) * ms, 'delay': array(200.0) * ms, 'amplitude': array(-10.0) * pA}\n",
      "3.4631849083750876 ms 0.0034631849083750876 s\n",
      "injected current seen:  {'duration': array(500.0) * ms, 'delay': array(200.0) * ms, 'amplitude': array(-10.0) * pA}\n",
      "injected current seen:  {'duration': array(500.0) * ms, 'delay': array(200.0) * ms, 'amplitude': array(-10.0) * pA}\n",
      "1.0911352057216523e-10 s**4*A**2/(kg*m**2) 1.0911352057216523e-10 s**4*A**2/(kg*m**2)\n",
      "-60.317405613048955 mV -0.060317405613048956 V\n",
      "0.6500000000000001 ms 0.0006500000000000001 s\n",
      "56.127191359642026 mV 0.056127191359642024 V\n",
      "-21.127191359642023 mV -0.02112719135964202 V\n",
      "1.0\n",
      "Z = 0.00\n"
     ]
    }
   ],
   "source": [
    "def hack_judge(test_and_models):\n",
    "    (test, attrs) = test_and_models\n",
    "    model = None\n",
    "    obs = test.observation\n",
    "    model = ReducedModel(LEMS_MODEL_PATH,name = str('vanilla'),backend = ('RAW'))\n",
    "    model.set_attrs(attrs)\n",
    "    test.generate_prediction(model)\n",
    "    pred = test.generate_prediction(model)\n",
    "    score = test.compute_score(obs,pred)\n",
    "    try:\n",
    "        print(obs['value'],pred['value'])\n",
    "    except:\n",
    "        print(obs['mean'],pred['mean'])\n",
    "        \n",
    "    return score\n",
    "\n",
    "scores = []\n",
    "for i,t in enumerate(TC_tests):\n",
    "    test_and_models = (t,cells['TC'])\n",
    "    score = hack_judge(test_and_models)\n",
    "    scores.append(score)\n",
    "print(scores[0].sort_key)    \n",
    "print(scores[0])    \n",
    "\n"
   ]
  },
  {
   "cell_type": "code",
   "execution_count": 13,
   "metadata": {
    "collapsed": false
   },
   "outputs": [
    {
     "data": {
      "text/plain": [
       "{'CapacitanceTest': 0.3941135778347633,\n",
       " 'InjectedCurrentAPAmplitudeTest': 0.056286812623258964,\n",
       " 'InjectedCurrentAPThresholdTest': 0.1301810981679412,\n",
       " 'InjectedCurrentAPWidthTest': 0.07455112037761191,\n",
       " 'InputResistanceTest': 0.12468893958387861,\n",
       " 'RestingPotentialTest': 0.2550425415991806,\n",
       " 'RheobaseTestP': 0.1269862366342951,\n",
       " 'TimeConstantTest': 0.006927779205798235}"
      ]
     },
     "execution_count": 13,
     "metadata": {},
     "output_type": "execute_result"
    }
   ],
   "source": [
    "\n",
    "ga_out.keys()\n",
    "ga_out['dhof'][0].scores\n"
   ]
  },
  {
   "cell_type": "code",
   "execution_count": 14,
   "metadata": {
    "collapsed": false
   },
   "outputs": [
    {
     "name": "stdout",
     "output_type": "stream",
     "text": [
      "[1.0, 1.0, 1.0, 1.0, 1.0, 0.9999999999999999, 1.0, 0.9999999999999996]\n",
      "[0.0, 0.0, 0.0, 0.0, 0.0, -2.029026769368064e-16, 0.0, 6.317017647578838e-16]\n",
      "0.6500000000000001 ms 0.0006500000000000001 s\n",
      "Z = -0.00\n"
     ]
    }
   ],
   "source": [
    "print([s.sort_key for s in scores])\n",
    "print([s.score for s in scores])\n",
    "\n",
    "score = hack_judge((TC_tests[-3],cells['TC']))\n",
    "print(score)"
   ]
  },
  {
   "cell_type": "code",
   "execution_count": 15,
   "metadata": {
    "collapsed": false
   },
   "outputs": [
    {
     "name": "stdout",
     "output_type": "stream",
     "text": [
      "75.53061224489795 pA 51.81632653061225 pA\n",
      "injected current seen:  {'duration': array(500.0) * ms, 'delay': array(200.0) * ms, 'amplitude': array(-10.0) * pA}\n",
      "injected current seen:  {'duration': array(500.0) * ms, 'delay': array(200.0) * ms, 'amplitude': array(-10.0) * pA}\n",
      "input resistance score: Z = 0.62\n",
      "31.73928299824782 Mohm 79634016.52239381 kg*m**2/(s**3*A**2)\n",
      "injected current seen:  {'duration': array(500.0) * ms, 'delay': array(200.0) * ms, 'amplitude': array(-10.0) * pA}\n",
      "injected current seen:  {'duration': array(500.0) * ms, 'delay': array(200.0) * ms, 'amplitude': array(-10.0) * pA}\n",
      "3.4631849083750876 ms 0.009810667396493434 s\n",
      "injected current seen:  {'duration': array(500.0) * ms, 'delay': array(200.0) * ms, 'amplitude': array(-10.0) * pA}\n",
      "injected current seen:  {'duration': array(500.0) * ms, 'delay': array(200.0) * ms, 'amplitude': array(-10.0) * pA}\n",
      "1.0911352057216523e-10 s**4*A**2/(kg*m**2) 1.231969430266598e-10 s**4*A**2/(kg*m**2)\n",
      "-60.317405613048955 mV -0.06075346627665097 V\n",
      "0.6500000000000001 ms 0.0007750000000000001 s\n",
      "56.127191359642026 mV 0.05357660263743405 V\n",
      "-21.127191359642023 mV -0.018576602637434048 V\n",
      "0.6190101302868543\n",
      "Z = -0.50\n",
      "[0.6190101302868543, 0.5372765850958718, 0.4696921520174828, 0.45016300791078434, 0.946777506200236, 0.81503865531969, 0.841429780079807, 0.6423611420888804]\n"
     ]
    }
   ],
   "source": [
    "scores = []\n",
    "for t in TC_tests:\n",
    "    test_and_models = (t,cells['RS'])\n",
    "    score = hack_judge(test_and_models)\n",
    "    scores.append(score)\n",
    "print(scores[0].sort_key)    \n",
    "print(scores[0])\n",
    "print([s.sort_key for s in scores])\n"
   ]
  },
  {
   "cell_type": "code",
   "execution_count": 16,
   "metadata": {
    "collapsed": false
   },
   "outputs": [
    {
     "name": "stdout",
     "output_type": "stream",
     "text": [
      "injected current seen:  {'duration': array(500.0) * ms, 'delay': array(200.0) * ms, 'amplitude': array(-10.0) * pA}\n",
      "injected current seen:  {'duration': array(500.0) * ms, 'delay': array(200.0) * ms, 'amplitude': array(-10.0) * pA}\n",
      "injected current seen:  {'duration': array(500.0) * ms, 'delay': array(200.0) * ms, 'amplitude': array(-10.0) * pA}\n",
      "injected current seen:  {'duration': array(500.0) * ms, 'delay': array(200.0) * ms, 'amplitude': array(-10.0) * pA}\n",
      "injected current seen:  {'duration': array(500.0) * ms, 'delay': array(200.0) * ms, 'amplitude': array(-10.0) * pA}\n",
      "input resistance score: Z = 0.62\n",
      "31.73928299824782 Mohm 79634016.52239381 kg*m**2/(s**3*A**2)\n",
      "3.4631849083750876 ms 0.009810667396493434 s\n",
      "injected current seen:  {'duration': array(500.0) * ms, 'delay': array(200.0) * ms, 'amplitude': array(-10.0) * pA}\n",
      "-21.127191359642023 mV -0.018576602637434048 V\n",
      "0.6500000000000001 ms 0.0007750000000000001 s\n",
      "56.127191359642026 mV 0.05357660263743405 V\n",
      "1.0911352057216523e-10 s**4*A**2/(kg*m**2) 1.231969430266598e-10 s**4*A**2/(kg*m**2)\n",
      "-60.317405613048955 mV -0.06075346627665097 V\n",
      "[{'value': array(75.53061224489795) * pA}, <sciunit.scores.complete.ZScore object at 0x7fee34d62cc0>, <sciunit.scores.complete.ZScore object at 0x7fee34d626d8>, <sciunit.scores.complete.ZScore object at 0x7fee34d63b38>, <sciunit.scores.complete.ZScore object at 0x7fee34dd37f0>, <sciunit.scores.complete.ZScore object at 0x7fee34d625c0>, <sciunit.scores.complete.ZScore object at 0x7fee34dd3eb8>, <sciunit.scores.complete.ZScore object at 0x7fee34d62ef0>]\n"
     ]
    }
   ],
   "source": [
    "import dask.bag as db\n",
    "# The rheobase has been obtained seperately and cannot be db mapped.\n",
    "# Nested DB mappings dont work.\n",
    "from itertools import repeat\n",
    "test_a_models = zip(TC_tests[1::],repeat(cells['RS']))\n",
    "tc_bag = db.from_sequence(test_a_models)\n",
    "\n",
    "scores = list(tc_bag.map(hack_judge).compute())\n",
    "scores.insert(0,rheobase)\n",
    "print(scores)    "
   ]
  },
  {
   "cell_type": "code",
   "execution_count": 17,
   "metadata": {
    "collapsed": false
   },
   "outputs": [
    {
     "name": "stdout",
     "output_type": "stream",
     "text": [
      "{'value': array(75.53061224489795) * pA}\n"
     ]
    }
   ],
   "source": [
    "score = TC_tests[0].judge(model,stop_on_error = False, deep_error = True)\n",
    "print(score.prediction)\n",
    "#print(model.get_spike_count())"
   ]
  },
  {
   "cell_type": "code",
   "execution_count": 18,
   "metadata": {
    "collapsed": false
   },
   "outputs": [
    {
     "ename": "ImportError",
     "evalue": "cannot import name 'ReducedModel'",
     "output_type": "error",
     "traceback": [
      "\u001b[0;31m---------------------------------------------------------------------------\u001b[0m",
      "\u001b[0;31mImportError\u001b[0m                               Traceback (most recent call last)",
      "\u001b[0;32m<ipython-input-18-a27e11b8bd88>\u001b[0m in \u001b[0;36m<module>\u001b[0;34m()\u001b[0m\n\u001b[1;32m      1\u001b[0m \u001b[0;32mfrom\u001b[0m \u001b[0mneuronunit\u001b[0m\u001b[0;34m.\u001b[0m\u001b[0moptimization\u001b[0m \u001b[0;32mimport\u001b[0m \u001b[0moptimization_management\u001b[0m \u001b[0;32mas\u001b[0m \u001b[0mopt\u001b[0m\u001b[0;34m\u001b[0m\u001b[0m\n\u001b[0;32m----> 2\u001b[0;31m \u001b[0;32mfrom\u001b[0m \u001b[0mneuronunit\u001b[0m\u001b[0;34m.\u001b[0m\u001b[0mmodels\u001b[0m \u001b[0;32mimport\u001b[0m \u001b[0mReducedModel\u001b[0m\u001b[0;34m\u001b[0m\u001b[0m\n\u001b[0m",
      "\u001b[0;31mImportError\u001b[0m: cannot import name 'ReducedModel'"
     ]
    }
   ],
   "source": [
    "from neuronunit.optimization import optimization_management as opt\n",
    "from neuronunit.models import ReducedModel"
   ]
  },
  {
   "cell_type": "code",
   "execution_count": null,
   "metadata": {
    "collapsed": false
   },
   "outputs": [],
   "source": []
  },
  {
   "cell_type": "raw",
   "metadata": {
    "collapsed": true
   },
   "source": []
  }
 ],
 "metadata": {
  "kernelspec": {
   "display_name": "Python 3",
   "language": "python",
   "name": "python3"
  },
  "language_info": {
   "codemirror_mode": {
    "name": "ipython",
    "version": 3
   },
   "file_extension": ".py",
   "mimetype": "text/x-python",
   "name": "python",
   "nbconvert_exporter": "python",
   "pygments_lexer": "ipython3",
   "version": "3.5.2"
  }
 },
 "nbformat": 4,
 "nbformat_minor": 2
}
