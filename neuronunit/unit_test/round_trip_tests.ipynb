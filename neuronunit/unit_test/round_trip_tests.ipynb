{
 "cells": [
  {
   "cell_type": "code",
   "execution_count": 1,
   "metadata": {
    "collapsed": false
   },
   "outputs": [
    {
     "name": "stdout",
     "output_type": "stream",
     "text": [
      "OrderedDict([('RS', {'vPeak': 35, 'd': 100, 'vr': -60, 'b': -2, 'k': 0.7, 'C': 100, 'c': -50, 'vt': -40, 'a': 0.03}), ('IB', {'vPeak': 50, 'd': 130, 'vr': -75, 'b': 5, 'k': 1.2, 'C': 150, 'c': -56, 'vt': -45, 'a': 0.01}), ('LTS', {'vPeak': 40, 'd': 20, 'vr': -56, 'b': 8, 'k': 1.0, 'C': 100, 'c': -53, 'vt': -42, 'a': 0.03}), ('TC', {'vPeak': 35, 'd': 10, 'vr': -60, 'b': 15, 'k': 1.6, 'C': 200, 'c': -60, 'vt': -50, 'a': 0.01}), ('TC_burst', {'vPeak': 35, 'd': 10, 'vr': -60, 'b': 15, 'k': 1.6, 'C': 200, 'c': -60, 'vt': -50, 'a': 0.01})])\n"
     ]
    }
   ],
   "source": [
    "# http://www.physics.usyd.edu.au/teach_res/mp/mscripts/\n",
    "# ns_izh002.m\n",
    "import collections\n",
    "from collections import OrderedDict\n",
    "\n",
    "# Fast spiking cannot be reproduced as it requires modifications to the standard Izhi equation,\n",
    "# which are expressed in this mod file.\n",
    "# https://github.com/OpenSourceBrain/IzhikevichModel/blob/master/NEURON/izhi2007b.mod\n",
    "\n",
    "\n",
    "reduced2007 = collections.OrderedDict([\n",
    "  #              C    k     vr  vt vpeak   a      b   c    d  celltype\n",
    "  ('RS',        (100, 0.7,  -60, -40, 35, 0.03,   -2, -50,  100,  1)),\n",
    "  ('IB',        (150, 1.2,  -75, -45, 50, 0.01,   5, -56,  130,   2)),\n",
    "  ('LTS',       (100, 1.0,  -56, -42, 40, 0.03,   8, -53,   20,   4)),\n",
    "  ('TC',        (200, 1.6,  -60, -50, 35, 0.01,  15, -60,   10,   6)),\n",
    "  ('TC_burst',  (200, 1.6,  -60, -50, 35, 0.01,  15, -60,   10,   6))])\n",
    "\n",
    "\n",
    "type2007 = collections.OrderedDict([\n",
    "  #              C    k     vr  vt vpeak   a      b   c    d  celltype\n",
    "  ('RS',        (100, 0.7,  -60, -40, 35, 0.03,   -2, -50,  100,  1)),\n",
    "  ('IB',        (150, 1.2,  -75, -45, 50, 0.01,   5, -56,  130,   2)),\n",
    "  ('LTS',       (100, 1.0,  -56, -42, 40, 0.03,   8, -53,   20,   4)),\n",
    "  ('TC',        (200, 1.6,  -60, -50, 35, 0.01,  15, -60,   10,   6)),\n",
    "  ('TC_burst',  (200, 1.6,  -60, -50, 35, 0.01,  15, -60,   10,   6)),\n",
    "  ('RTN',       (40,  0.25, -65, -45,  0, 0.015, 10, -55,   50,   7)),\n",
    "  ('RTN_burst', (40,  0.25, -65, -45,  0, 0.015, 10, -55,   50,   7)),\n",
    "  ('CH',        (50,  1.5,  -60, -40, 25, 0.03,   1, -40,  150,   3)),\n",
    "  ('FS',        (20,  1.0,  -55, -40, 25, 0.2,   -2, -45,  -55,   5))])\n",
    "\n",
    "import numpy as np\n",
    "reduced_dict = OrderedDict([(k,[]) for k in ['C','k','vr','vt','vPeak','a','b','c','d']])\n",
    "\n",
    "#OrderedDict\n",
    "for i,k in enumerate(reduced_dict.keys()):\n",
    "    for v in type2007.values():\n",
    "        reduced_dict[k].append(v[i])\n",
    "\n",
    "explore_param = {k:(np.min(v),np.max(v)) for k,v in reduced_dict.items()}\n",
    "param_ranges = OrderedDict(explore_param)\n",
    "\n",
    "\n",
    "#IB = mparams[param_dict['IB']]\n",
    "RS = {}\n",
    "IB = {}\n",
    "TC = {}\n",
    "CH = {}\n",
    "RTN_burst = {}\n",
    "cells = OrderedDict([(k,[]) for k in ['RS','IB','CH','LTS','FS','TC','TC_burst','RTN','RTN_busrt']])\n",
    "reduced_cells = OrderedDict([(k,[]) for k in ['RS','IB','LTS','TC','TC_burst']])\n",
    "\n",
    "for index,key in enumerate(reduced_cells.keys()):\n",
    "    reduced_cells[key] = {}\n",
    "    for k,v in reduced_dict.items():\n",
    "        reduced_cells[key][k] = v[index]\n",
    "\n",
    "print(reduced_cells)\n",
    "cells = reduced_cells"
   ]
  },
  {
   "cell_type": "code",
   "execution_count": 2,
   "metadata": {
    "collapsed": false
   },
   "outputs": [
    {
     "name": "stdout",
     "output_type": "stream",
     "text": [
      "{'vPeak': 35, 'd': 10, 'vr': -60, 'b': 15, 'k': 1.6, 'C': 200, 'c': -60, 'vt': -50, 'a': 0.01}\n",
      "200.0\n",
      "1.5707957651346172\n",
      "<built-in method area of nrn.Segment object at 0x7f175d416dc8>\n",
      "500.0\n"
     ]
    }
   ],
   "source": [
    "model = None\n",
    "from neuronunit.models.reduced import ReducedModel\n",
    "from neuronunit.optimization import get_neab\n",
    "\n",
    "from neuronunit.optimization.model_parameters import model_params, path_params\n",
    "LEMS_MODEL_PATH = path_params['model_path']\n",
    "model = ReducedModel(LEMS_MODEL_PATH,name = str('vanilla'),backend = ('NEURON'))\n",
    "print(cells['TC'])\n",
    "model.set_attrs(cells['TC'])\n",
    "#dir(model._backend)\n",
    "dir(model._backend.h)\n",
    "#loc = \n",
    "#for sec in \n",
    "dir(model._backend.h.m_RS_RS_pop[0])#:\n",
    "\n",
    "for sec in model._backend.h.m_RS_RS_pop[0].Section(0.5):\n",
    "    sec.cm = (50/31.831)\n",
    "    print(sec.cm)\n",
    "    print(sec.area)\n",
    "    print(sec.diam)\n",
    "\n",
    "sec = model._backend.h.Section(model._backend.h.m_RS_RS_pop[0])    \n",
    "sec.L, sec.diam = 6.3, 5 \n",
    "\n",
    "model = ReducedModel(LEMS_MODEL_PATH,name = str('vanilla'),backend = ('RAW'))\n",
    "model.set_attrs(cells['TC'])\n",
    "\n"
   ]
  },
  {
   "cell_type": "code",
   "execution_count": 3,
   "metadata": {
    "collapsed": false
   },
   "outputs": [
    {
     "name": "stdout",
     "output_type": "stream",
     "text": [
      "Try 1: SubMax = 42.5; SupraMin = 84.0\n",
      "Try 2: SubMax = 72.1; SupraMin = 78.1\n",
      "Try 3: SubMax = 74.7; SupraMin = 75.5\n",
      "{'value': array(75.53061224489795) * pA}\n"
     ]
    }
   ],
   "source": [
    "\n",
    "tests_,all_tests, observation,suite = get_neab.get_tests()\n",
    "\n",
    "rheobase = all_tests[0].generate_prediction(model)\n",
    "print(rheobase)"
   ]
  },
  {
   "cell_type": "code",
   "execution_count": 4,
   "metadata": {
    "collapsed": false
   },
   "outputs": [
    {
     "data": {
      "image/png": "[encoded data removed]",
      "text/plain": [
       "<matplotlib.figure.Figure at 0x7f175a78c1d0>"
      ]
     },
     "metadata": {},
     "output_type": "display_data"
    }
   ],
   "source": [
    "\n",
    "\n",
    "import pickle\n",
    "import copy\n",
    "import numpy as np\n",
    "import pandas as pd\n",
    "import matplotlib.pyplot as plt\n",
    "\n",
    "from neuronunit.models.reduced import ReducedModel\n",
    "from neuronunit.optimization.model_parameters import model_params, path_params\n",
    "LEMS_MODEL_PATH = path_params['model_path']\n",
    "import neuronunit.optimization as opt\n",
    "import quantities as pq\n",
    "\n",
    "from neuronunit.optimization.data_transport_container import DataTC\n",
    "model = ReducedModel(LEMS_MODEL_PATH,name = str('vanilla'),backend = ('RAW'))\n",
    "model.set_attrs(cells['TC'])\n",
    "\n",
    "iparams = {}\n",
    "iparams['injected_square_current'] = {}\n",
    "iparams['injected_square_current']['amplitude'] =75.36800000000001*pq.pA\n",
    "#['amplitude']  = dtc.vtest[k]['injected_square_current']['amplitude']\n",
    "DELAY = 100.0*pq.ms\n",
    "DURATION = 1000.0*pq.ms\n",
    "iparams['injected_square_current']['delay'] = DELAY\n",
    "iparams['injected_square_current']['duration'] = int(DURATION)\n",
    "\n",
    "model.inject_square_current(iparams)\n",
    "\n",
    "plt.plot(model.get_membrane_potential().times,model.get_membrane_potential(),label='RAW')\n",
    "plt.legend()\n",
    "plt.show()\n"
   ]
  },
  {
   "cell_type": "code",
   "execution_count": null,
   "metadata": {
    "collapsed": false
   },
   "outputs": [],
   "source": [
    "\n"
   ]
  },
  {
   "cell_type": "code",
   "execution_count": 5,
   "metadata": {
    "collapsed": false
   },
   "outputs": [],
   "source": [
    "\n",
    "cnt = 0\n",
    "scores = []\n",
    "tests_,all_tests, observation,suite = opt.get_neab.get_tests()\n"
   ]
  },
  {
   "cell_type": "code",
   "execution_count": 6,
   "metadata": {
    "collapsed": false
   },
   "outputs": [
    {
     "name": "stdout",
     "output_type": "stream",
     "text": [
      "[array(75.53061224489795) * pA, array(75.53061224489795) * pA, array(75.53061224489795) * pA]\n",
      "[array(75.53061224489795) * pA, array(-10.0) * pA, array(-10.0) * pA, array(-10.0) * pA, array(-10.0) * pA]\n"
     ]
    }
   ],
   "source": [
    "\n",
    "\n",
    "\n",
    "def format_iparams(all_tests,rheobase):\n",
    "\n",
    "    for t in all_tests[1:5]:\n",
    "        DURATION = 500.0*pq.ms\n",
    "        DELAY = 200.0*pq.ms\n",
    "\n",
    "        obs = t.observation\n",
    "        t.params = {}\n",
    "        t.params['injected_square_current'] = {}\n",
    "        t.params['injected_square_current']['delay']= DELAY\n",
    "        t.params['injected_square_current']['duration'] = DURATION\n",
    "        t.params['injected_square_current']['amplitude'] = -10*pq.pA\n",
    "        \n",
    "        \n",
    "    for t in all_tests[-3::]:    \n",
    "        t.params = {}\n",
    "        DURATION = 1000.0*pq.ms\n",
    "        DELAY = 100.0*pq.ms\n",
    "\n",
    "        t.params['injected_square_current'] = {}\n",
    "        t.params['injected_square_current']['delay']= DELAY\n",
    "        t.params['injected_square_current']['duration'] = DURATION\n",
    "        t.params['injected_square_current']['amplitude'] = rheobase['value']\n",
    "    \n",
    "    all_tests[0].params = all_tests[-1].params\n",
    "    \n",
    "    return all_tests\n",
    "\n",
    "pt = format_iparams(all_tests,rheobase)\n",
    "print([t.params['injected_square_current']['amplitude'] for t in pt[-3::] ])\n",
    "print([t.params['injected_square_current']['amplitude'] for t in pt[0:5] ])\n",
    "\n"
   ]
  },
  {
   "cell_type": "markdown",
   "metadata": {},
   "source": [
    "##\n",
    "# * Get predictions from models.\n",
    "## * Fake NeuroElectro Observations\n",
    "## * Do roundtrip testing\n",
    "##"
   ]
  },
  {
   "cell_type": "code",
   "execution_count": 7,
   "metadata": {
    "collapsed": false
   },
   "outputs": [
    {
     "name": "stdout",
     "output_type": "stream",
     "text": [
      "injected current seen:  {'delay': array(200.0) * ms, 'amplitude': array(-10.0) * pA, 'duration': array(500.0) * ms}\n",
      "injected current seen:  {'delay': array(200.0) * ms, 'amplitude': array(-10.0) * pA, 'duration': array(500.0) * ms}\n",
      "injected current seen:  {'delay': array(200.0) * ms, 'amplitude': array(-10.0) * pA, 'duration': array(500.0) * ms}\n",
      "[{'value': array(75.53061224489795) * pA}, {'value': array(31739282.99824782) * kg*m**2/(s**3*A**2)}, {'value': array(0.0034631849083750876) * s}, {'value': array(1.0911352057216523e-10) * s**4*A**2/(kg*m**2)}, {'std': array(0.00019622743842309925) * V, 'mean': array(-0.060317405613048956) * V}, {'std': array(0.0) * s, 'mean': array(0.0006500000000000001) * s, 'n': 1}, {'std': array(0.0) * V, 'mean': array(0.056127191359642024) * V, 'n': 1}, {'std': array(0.0) * V, 'mean': array(-0.02112719135964202) * V, 'n': 1}]\n"
     ]
    }
   ],
   "source": [
    "predictions = []\n",
    "import dask.bag as db\n",
    "# The rheobase has been obtained seperately and cannot be db mapped.\n",
    "# Nested DB mappings dont work.\n",
    "ptbag = db.from_sequence(pt[1::])\n",
    "\n",
    "def obtain_predictions(t):    \n",
    "    model = None\n",
    "    model = ReducedModel(LEMS_MODEL_PATH,name = str('vanilla'),backend = ('RAW'))\n",
    "    model.set_attrs(cells['TC'])\n",
    "    return t.generate_prediction(model)\n",
    "predictions = list(ptbag.map(obtain_predictions).compute())\n",
    "predictions.insert(0,rheobase)\n",
    "print(predictions)    \n"
   ]
  },
  {
   "cell_type": "code",
   "execution_count": 8,
   "metadata": {
    "collapsed": false
   },
   "outputs": [
    {
     "name": "stdout",
     "output_type": "stream",
     "text": [
      "[{'value': array(75.53061224489795) * pA}, {'value': array(31739282.99824782) * kg*m**2/(s**3*A**2)}, {'value': array(0.0034631849083750876) * s}, {'value': array(1.0911352057216523e-10) * s**4*A**2/(kg*m**2)}, {'std': array(0.00019622743842309925) * V, 'value': array(-0.060317405613048956) * V}, {'std': array(0.0) * s, 'n': 1, 'value': array(0.0006500000000000001) * s}, {'std': array(0.0) * V, 'n': 1, 'value': array(0.056127191359642024) * V}, {'std': array(0.0) * V, 'n': 1, 'value': array(-0.02112719135964202) * V}]\n"
     ]
    }
   ],
   "source": [
    "# having both means and values in dictionary makes it very irritating to iterate over.\n",
    "# It's more harmless to demote means to values, than to elevate values to means.\n",
    "# Simply swap key names: means, for values.\n",
    "for p in predictions:\n",
    "    if 'mean' in p.keys():\n",
    "        p['value'] = p.pop('mean')\n",
    "print(predictions)\n"
   ]
  },
  {
   "cell_type": "code",
   "execution_count": 9,
   "metadata": {
    "collapsed": false
   },
   "outputs": [
    {
     "name": "stdout",
     "output_type": "stream",
     "text": [
      "75.53061224489795 pA\n",
      "31.73928299824782 Mohm\n",
      "3.4631849083750876 ms\n",
      "1.0911352057216523e-10 s**4*A**2/(kg*m**2)\n",
      "-60.317405613048955 mV\n",
      "0.6500000000000001 ms\n",
      "56.127191359642026 mV\n",
      "-21.127191359642023 mV\n"
     ]
    }
   ],
   "source": [
    "# make some new tests based on internally generated data \n",
    "# as opposed to experimental data.\n",
    "\n",
    "\n",
    "TC_tests = copy.copy(all_tests)\n",
    "for ind,t in enumerate(TC_tests):\n",
    "    if 'mean' in t.observation.keys():\n",
    "        t.observation['value'] = t.observation.pop('mean')\n",
    "    pred =  predictions[ind]['value']\n",
    "    try:\n",
    "        pred = pred.rescale(t.units)\n",
    "        t.observation['value'] = pred\n",
    "    except:        \n",
    "        t.observation['value'] = pred\n",
    "    t.observation['mean'] = t.observation['value']\n",
    "        \n",
    "    print(t.observation['value'])\n",
    "    \n",
    "pickle.dump(TC_tests,open('thalamo_cortical_tests.p','wb'))    \n",
    "    \n",
    "\n",
    "\n"
   ]
  },
  {
   "cell_type": "code",
   "execution_count": 10,
   "metadata": {
    "collapsed": false
   },
   "outputs": [
    {
     "name": "stdout",
     "output_type": "stream",
     "text": [
      "{'vPeak': 35, 'd': 10, 'c': -60, 'k': 1.6, 'C': 200, 'vt': -50}\n",
      "not even to test runner getting\n"
     ]
    },
    {
     "name": "stderr",
     "output_type": "stream",
     "text": [
      "/opt/conda/lib/python3.5/site-packages/sklearn/cross_validation.py:41: DeprecationWarning: This module was deprecated in version 0.18 in favor of the model_selection module into which all the refactored classes and functions are moved. Also note that the interface of the new CV iterators are different from that of this module. This module will be removed in 0.20.\n",
      "  \"This module will be removed in 0.20.\", DeprecationWarning)\n",
      "/opt/conda/lib/python3.5/site-packages/sklearn/grid_search.py:42: DeprecationWarning: This module was deprecated in version 0.18 in favor of the model_selection module into which all the refactored classes and functions are moved. This module will be removed in 0.20.\n",
      "  DeprecationWarning)\n"
     ]
    },
    {
     "name": "stdout",
     "output_type": "stream",
     "text": [
      "[<neuronunit.optimization.data_transport_container.DataTC object at 0x7f1759b4da20>, <neuronunit.optimization.data_transport_container.DataTC object at 0x7f1759b4de48>, <neuronunit.optimization.data_transport_container.DataTC object at 0x7f1759b4d160>, <neuronunit.optimization.data_transport_container.DataTC object at 0x7f1759b4db70>, <neuronunit.optimization.data_transport_container.DataTC object at 0x7f1759b4d978>, <neuronunit.optimization.data_transport_container.DataTC object at 0x7f1759b4dac8>, <neuronunit.optimization.data_transport_container.DataTC object at 0x7f1759b4d0f0>, <neuronunit.optimization.data_transport_container.DataTC object at 0x7f1759b4dc50>]\n",
      "Try 1: SubMax = 208.5; SupraMin = 250.0\n",
      "Try 2: SubMax = 226.3; SupraMin = 232.2\n",
      "Try 3: SubMax = 226.3; SupraMin = 227.1\n",
      "Try 1: SubMax = 1.0; SupraMin = 42.5\n",
      "Try 2: SubMax = 1.0; SupraMin = 6.9\n",
      "Try 3: SubMax = 6.1; SupraMin = 6.9\n",
      "Try 1: SubMax = 250.0; SupraMin = None\n",
      "Try 2: SubMax = 285.7; SupraMin = 321.4\n",
      "Try 3: SubMax = 316.3; SupraMin = 321.4\n",
      "Try 4: SubMax = 319.2; SupraMin = 320.0\n",
      "Try 1: SubMax = 1.0; SupraMin = 42.5\n",
      "Try 2: SubMax = 30.6; SupraMin = 36.6\n",
      "Try 3: SubMax = 31.5; SupraMin = 32.3\n",
      "Try 1: SubMax = 208.5; SupraMin = 250.0\n",
      "Try 2: SubMax = 220.4; SupraMin = 226.3\n",
      "Try 3: SubMax = 225.4; SupraMin = 226.3\n",
      "Try 1: SubMax = 1.0; SupraMin = 42.5\n",
      "Try 2: SubMax = 1.0; SupraMin = 6.9\n",
      "Try 3: SubMax = 5.2; SupraMin = 6.1\n",
      "Try 1: SubMax = 250.0; SupraMin = None\n",
      "Try 2: SubMax = 464.3; SupraMin = None\n",
      "Try 3: SubMax = 464.3; SupraMin = 530.6\n",
      "Try 4: SubMax = 464.3; SupraMin = 473.8\n",
      "Try 5: SubMax = 472.4; SupraMin = 473.8\n",
      "Try 1: SubMax = 42.5; SupraMin = 84.0\n",
      "Try 2: SubMax = 78.1; SupraMin = 84.0\n",
      "Try 3: SubMax = 82.3; SupraMin = 83.2\n",
      "[array(227.1326530612245) * pA, array(6.928571428571429) * pA, array(319.9708454810496) * pA, array(32.33673469387755) * pA, array(226.28571428571428) * pA, array(6.081632653061225) * pA, array(473.7609329446064) * pA, array(83.15306122448979) * pA]\n",
      "[<class 'neuronunit.optimization.data_transport_container.DataTC'>, <class 'neuronunit.optimization.data_transport_container.DataTC'>, <class 'neuronunit.optimization.data_transport_container.DataTC'>, <class 'neuronunit.optimization.data_transport_container.DataTC'>, <class 'neuronunit.optimization.data_transport_container.DataTC'>, <class 'neuronunit.optimization.data_transport_container.DataTC'>, <class 'neuronunit.optimization.data_transport_container.DataTC'>, <class 'neuronunit.optimization.data_transport_container.DataTC'>]\n",
      "[<neuronunit.optimization.data_transport_container.DataTC object at 0x7f1759b4da20>, <neuronunit.optimization.data_transport_container.DataTC object at 0x7f1759b4de48>, <neuronunit.optimization.data_transport_container.DataTC object at 0x7f1759b4d160>, <neuronunit.optimization.data_transport_container.DataTC object at 0x7f1759b4db70>, <neuronunit.optimization.data_transport_container.DataTC object at 0x7f1759b4d978>, <neuronunit.optimization.data_transport_container.DataTC object at 0x7f1759b4dac8>, <neuronunit.optimization.data_transport_container.DataTC object at 0x7f1759b4d0f0>, <neuronunit.optimization.data_transport_container.DataTC object at 0x7f1759b4dc50>]\n",
      "injected current seen:  {'delay': array(100.0) * ms, 'amplitude': array(227.1326530612245) * pA, 'duration': array(1000.0) * ms}\n",
      "injected current seen:  {'delay': array(100.0) * ms, 'amplitude': array(6.928571428571429) * pA, 'duration': array(1000.0) * ms}\n",
      "injected current seen:  {'delay': array(100.0) * ms, 'amplitude': array(319.9708454810496) * pA, 'duration': array(1000.0) * ms}\n",
      "input resistance score: Z = 0.47\n",
      "injected current seen:  {'delay': array(200.0) * ms, 'amplitude': array(-10.0) * pA, 'duration': array(500.0) * ms}\n",
      "input resistance score: Z = 3.30\n",
      "injected current seen:  {'delay': array(100.0) * ms, 'amplitude': array(32.33673469387755) * pA, 'duration': array(1000.0) * ms}\n",
      "injected current seen:  {'delay': array(200.0) * ms, 'amplitude': array(-10.0) * pA, 'duration': array(500.0) * ms}\n",
      "input resistance score: Z = -0.11\n",
      "injected current seen:  {'delay': array(200.0) * ms, 'amplitude': array(-10.0) * pA, 'duration': array(500.0) * ms}\n",
      "injected current seen:  {'delay': array(200.0) * ms, 'amplitude': array(-10.0) * pA, 'duration': array(500.0) * ms}\n",
      "injected current seen:  {'delay': array(100.0) * ms, 'amplitude': array(226.28571428571428) * pA, 'duration': array(1000.0) * ms}\n",
      "injected current seen:  {'delay': array(200.0) * ms, 'amplitude': array(-10.0) * pA, 'duration': array(500.0) * ms}\n",
      "input resistance score: Z = 0.22\n",
      "injected current seen:  {'delay': array(100.0) * ms, 'amplitude': array(6.081632653061225) * pA, 'duration': array(1000.0) * ms}\n",
      "injected current seen:  {'delay': array(100.0) * ms, 'amplitude': array(83.15306122448979) * pA, 'duration': array(1000.0) * ms}\n",
      "injected current seen:  {'delay': array(200.0) * ms, 'amplitude': array(-10.0) * pA, 'duration': array(500.0) * ms}\n",
      "input resistance score: Z = 1.07\n",
      "input resistance score: Z = 0.65\n",
      "injected current seen:  {'delay': array(200.0) * ms, 'amplitude': array(-10.0) * pA, 'duration': array(500.0) * ms}\n",
      "injected current seen:  {'delay': array(200.0) * ms, 'amplitude': array(-10.0) * pA, 'duration': array(500.0) * ms}\n",
      "input resistance score: Z = 3.26\n",
      "injected current seen:  {'delay': array(200.0) * ms, 'amplitude': array(-10.0) * pA, 'duration': array(500.0) * ms}\n",
      "injected current seen:  {'delay': array(200.0) * ms, 'amplitude': array(-10.0) * pA, 'duration': array(500.0) * ms}\n",
      "injected current seen:  {'delay': array(100.0) * ms, 'amplitude': array(473.7609329446064) * pA, 'duration': array(1000.0) * ms}\n",
      "input resistance score: Z = 0.06\n",
      "injected current seen:  {'delay': array(200.0) * ms, 'amplitude': array(-10.0) * pA, 'duration': array(500.0) * ms}\n",
      "injected current seen:  {'delay': array(200.0) * ms, 'amplitude': array(-10.0) * pA, 'duration': array(500.0) * ms}\n",
      "injected current seen:  {'delay': array(200.0) * ms, 'amplitude': array(-10.0) * pA, 'duration': array(500.0) * ms}\n",
      "injected current seen:  {'delay': array(200.0) * ms, 'amplitude': array(-10.0) * pA, 'duration': array(500.0) * ms}\n",
      "injected current seen:  {'delay': array(200.0) * ms, 'amplitude': array(-10.0) * pA, 'duration': array(500.0) * ms}\n",
      "injected current seen:  {'delay': array(200.0) * ms, 'amplitude': array(-10.0) * pA, 'duration': array(500.0) * ms}\n",
      "[<neuronunit.optimization.data_transport_container.DataTC object at 0x7f1759c2d668>, <neuronunit.optimization.data_transport_container.DataTC object at 0x7f1759bcba58>, <neuronunit.optimization.data_transport_container.DataTC object at 0x7f1759c2deb8>, <neuronunit.optimization.data_transport_container.DataTC object at 0x7f1759c39438>, <neuronunit.optimization.data_transport_container.DataTC object at 0x7f1759be2400>, <neuronunit.optimization.data_transport_container.DataTC object at 0x7f1759b4d4a8>, <neuronunit.optimization.data_transport_container.DataTC object at 0x7f1759b5f898>, <neuronunit.optimization.data_transport_container.DataTC object at 0x7f1759c2d080>]\n",
      "tests, completed, now gene computations\n",
      "gets here??????\n",
      "> /home/jovyan/BluePyOpt/bluepyopt/deapext/algorithms.py(150)eaAlphaMuPlusLambdaCheckpoint()\n",
      "-> invalid_count = len(invalid_ind)\n",
      "(Pdb) c\n",
      "not even to test runner getting\n",
      "[<neuronunit.optimization.data_transport_container.DataTC object at 0x7f175a76d908>, <neuronunit.optimization.data_transport_container.DataTC object at 0x7f175a76d2b0>, <neuronunit.optimization.data_transport_container.DataTC object at 0x7f175a76d1d0>, <neuronunit.optimization.data_transport_container.DataTC object at 0x7f175a76d8d0>, <neuronunit.optimization.data_transport_container.DataTC object at 0x7f175a76d550>, <neuronunit.optimization.data_transport_container.DataTC object at 0x7f175a76d748>, <neuronunit.optimization.data_transport_container.DataTC object at 0x7f175a76da20>, <neuronunit.optimization.data_transport_container.DataTC object at 0x7f175a76d438>]\n",
      "Try 1: SubMax = 1.0; SupraMin = 42.5\n",
      "Try 2: SubMax = 12.9; SupraMin = 18.8\n",
      "Try 3: SubMax = 14.6; SupraMin = 15.4\n",
      "Try 1: SubMax = 167.0; SupraMin = 208.5\n",
      "Try 2: SubMax = 202.6; SupraMin = 208.5\n",
      "Try 3: SubMax = 203.4; SupraMin = 204.3\n",
      "Try 1: SubMax = 250.0; SupraMin = None\n",
      "Try 2: SubMax = 285.7; SupraMin = 321.4\n",
      "Try 3: SubMax = 311.2; SupraMin = 316.3\n",
      "Try 4: SubMax = 315.6; SupraMin = 316.3\n",
      "Try 1: SubMax = 1.0; SupraMin = 42.5\n",
      "Try 2: SubMax = 30.6; SupraMin = 36.6\n",
      "Try 3: SubMax = 33.2; SupraMin = 34.0\n",
      "Try 1: SubMax = 208.5; SupraMin = 250.0\n",
      "Try 2: SubMax = 220.4; SupraMin = 226.3\n",
      "Try 3: SubMax = 225.4; SupraMin = 226.3\n",
      "Try 1: SubMax = 1.0; SupraMin = 42.5\n",
      "Try 2: SubMax = 6.9; SupraMin = 12.9\n",
      "Try 3: SubMax = 6.9; SupraMin = 7.8\n",
      "Try 1: SubMax = 250.0; SupraMin = None\n",
      "Try 2: SubMax = 464.3; SupraMin = None\n",
      "Try 3: SubMax = 464.3; SupraMin = 530.6\n",
      "Try 4: SubMax = 464.3; SupraMin = 473.8\n",
      "Try 5: SubMax = 472.4; SupraMin = 473.8\n",
      "Try 1: SubMax = 42.5; SupraMin = 84.0\n",
      "Try 2: SubMax = 78.1; SupraMin = 84.0\n",
      "Try 3: SubMax = 82.3; SupraMin = 83.2\n",
      "[array(15.39795918367347) * pA, array(204.26530612244898) * pA, array(316.32653061224494) * pA, array(34.03061224489796) * pA, array(226.28571428571428) * pA, array(7.775510204081633) * pA, array(473.7609329446064) * pA, array(83.15306122448979) * pA]\n",
      "[<class 'neuronunit.optimization.data_transport_container.DataTC'>, <class 'neuronunit.optimization.data_transport_container.DataTC'>, <class 'neuronunit.optimization.data_transport_container.DataTC'>, <class 'neuronunit.optimization.data_transport_container.DataTC'>, <class 'neuronunit.optimization.data_transport_container.DataTC'>, <class 'neuronunit.optimization.data_transport_container.DataTC'>, <class 'neuronunit.optimization.data_transport_container.DataTC'>, <class 'neuronunit.optimization.data_transport_container.DataTC'>]\n",
      "[<neuronunit.optimization.data_transport_container.DataTC object at 0x7f175a76d908>, <neuronunit.optimization.data_transport_container.DataTC object at 0x7f175a76d2b0>, <neuronunit.optimization.data_transport_container.DataTC object at 0x7f175a76d1d0>, <neuronunit.optimization.data_transport_container.DataTC object at 0x7f175a76d8d0>, <neuronunit.optimization.data_transport_container.DataTC object at 0x7f175a76d550>, <neuronunit.optimization.data_transport_container.DataTC object at 0x7f175a76d748>, <neuronunit.optimization.data_transport_container.DataTC object at 0x7f175a76da20>, <neuronunit.optimization.data_transport_container.DataTC object at 0x7f175a76d438>]\n",
      "injected current seen:  {'delay': array(100.0) * ms, 'amplitude': array(15.39795918367347) * pA, 'duration': array(1000.0) * ms}\n",
      "injected current seen:  {'delay': array(100.0) * ms, 'amplitude': array(204.26530612244898) * pA, 'duration': array(1000.0) * ms}\n",
      "injected current seen:  {'delay': array(100.0) * ms, 'amplitude': array(316.32653061224494) * pA, 'duration': array(1000.0) * ms}\n",
      "injected current seen:  {'delay': array(100.0) * ms, 'amplitude': array(226.28571428571428) * pA, 'duration': array(1000.0) * ms}\n",
      "injected current seen:  {'delay': array(100.0) * ms, 'amplitude': array(7.775510204081633) * pA, 'duration': array(1000.0) * ms}\n",
      "input resistance score: Z = 1.07\n",
      "injected current seen:  {'delay': array(100.0) * ms, 'amplitude': array(34.03061224489796) * pA, 'duration': array(1000.0) * ms}\n",
      "injected current seen:  {'delay': array(100.0) * ms, 'amplitude': array(83.15306122448979) * pA, 'duration': array(1000.0) * ms}\n",
      "injected current seen:  {'delay': array(200.0) * ms, 'amplitude': array(-10.0) * pA, 'duration': array(500.0) * ms}\n",
      "input resistance score: Z = 0.23\n",
      "injected current seen:  {'delay': array(200.0) * ms, 'amplitude': array(-10.0) * pA, 'duration': array(500.0) * ms}\n",
      "injected current seen:  {'delay': array(100.0) * ms, 'amplitude': array(473.7609329446064) * pA, 'duration': array(1000.0) * ms}\n",
      "input resistance score: Z = 0.11\n",
      "injected current seen:  {'delay': array(200.0) * ms, 'amplitude': array(-10.0) * pA, 'duration': array(500.0) * ms}\n",
      "injected current seen:  {'delay': array(200.0) * ms, 'amplitude': array(-10.0) * pA, 'duration': array(500.0) * ms}\n",
      "injected current seen:  {'delay': array(200.0) * ms, 'amplitude': array(-10.0) * pA, 'duration': array(500.0) * ms}\n",
      "injected current seen:  {'delay': array(200.0) * ms, 'amplitude': array(-10.0) * pA, 'duration': array(500.0) * ms}\n",
      "input resistance score: Z = 2.24\n",
      "input resistance score: Z = 0.84\n",
      "injected current seen:  {'delay': array(200.0) * ms, 'amplitude': array(-10.0) * pA, 'duration': array(500.0) * ms}\n",
      "injected current seen:  {'delay': array(200.0) * ms, 'amplitude': array(-10.0) * pA, 'duration': array(500.0) * ms}\n",
      "input resistance score: Z = 3.38\n",
      "input resistance score: Z = -0.10\n",
      "injected current seen:  {'delay': array(200.0) * ms, 'amplitude': array(-10.0) * pA, 'duration': array(500.0) * ms}\n",
      "injected current seen:  {'delay': array(200.0) * ms, 'amplitude': array(-10.0) * pA, 'duration': array(500.0) * ms}\n",
      "injected current seen:  {'delay': array(200.0) * ms, 'amplitude': array(-10.0) * pA, 'duration': array(500.0) * ms}\n",
      "injected current seen:  {'delay': array(200.0) * ms, 'amplitude': array(-10.0) * pA, 'duration': array(500.0) * ms}\n",
      "injected current seen:  {'delay': array(200.0) * ms, 'amplitude': array(-10.0) * pA, 'duration': array(500.0) * ms}\n",
      "injected current seen:  {'delay': array(200.0) * ms, 'amplitude': array(-10.0) * pA, 'duration': array(500.0) * ms}\n",
      "input resistance score: Z = 0.65\n",
      "injected current seen:  {'delay': array(200.0) * ms, 'amplitude': array(-10.0) * pA, 'duration': array(500.0) * ms}\n",
      "injected current seen:  {'delay': array(200.0) * ms, 'amplitude': array(-10.0) * pA, 'duration': array(500.0) * ms}\n"
     ]
    },
    {
     "name": "stderr",
     "output_type": "stream",
     "text": [
      "INFO:__main__:gen\tnevals\tavg    \tstd     \tmin    \tmax    \n",
      "1  \t8     \t3.27818\t0.690441\t2.11234\t4.51852\n",
      "2  \t8     \t3.2836 \t0.745438\t2.3288 \t4.30823\n"
     ]
    },
    {
     "name": "stdout",
     "output_type": "stream",
     "text": [
      "[<neuronunit.optimization.data_transport_container.DataTC object at 0x7f175a7f0da0>, <neuronunit.optimization.data_transport_container.DataTC object at 0x7f175cd85c50>, <neuronunit.optimization.data_transport_container.DataTC object at 0x7f1759b5fc88>, <neuronunit.optimization.data_transport_container.DataTC object at 0x7f1759b5ff28>, <neuronunit.optimization.data_transport_container.DataTC object at 0x7f175a7608d0>, <neuronunit.optimization.data_transport_container.DataTC object at 0x7f175a60b748>, <neuronunit.optimization.data_transport_container.DataTC object at 0x7f175a60b080>, <neuronunit.optimization.data_transport_container.DataTC object at 0x7f175d3f1438>]\n",
      "tests, completed, now gene computations\n",
      "gets here??????\n",
      "[[0.01, -0.41160272069523351, -56.247669134097492], [0.01, -2, -73.752330865902508], [0.01, 13.919119365130545, -75], [0.011765562374505122, 15, -55], [0.20000000000000001, -2, -75], [0.15693087857827179, -1.2118742936905633, -55], [0.18228274808717254, 15, -75], [0.20000000000000001, 15, -55.0]]\n",
      "gets here ??? c \n",
      "not even to test runner getting\n",
      "[<neuronunit.optimization.data_transport_container.DataTC object at 0x7f1759b77f98>, <neuronunit.optimization.data_transport_container.DataTC object at 0x7f1759b77e80>, <neuronunit.optimization.data_transport_container.DataTC object at 0x7f177c4e70b8>, <neuronunit.optimization.data_transport_container.DataTC object at 0x7f1759b774a8>, <neuronunit.optimization.data_transport_container.DataTC object at 0x7f1759b77198>, <neuronunit.optimization.data_transport_container.DataTC object at 0x7f1759b77128>, <neuronunit.optimization.data_transport_container.DataTC object at 0x7f1759b777f0>, <neuronunit.optimization.data_transport_container.DataTC object at 0x7f1759b4deb8>]\n",
      "Try 1: SubMax = 250.0; SupraMin = None\n",
      "Try 2: SubMax = 285.7; SupraMin = 321.4\n",
      "Try 3: SubMax = 306.1; SupraMin = 311.2\n",
      "Try 4: SubMax = 309.8; SupraMin = 310.5\n",
      "Try 1: SubMax = 1.0; SupraMin = 42.5\n",
      "Try 2: SubMax = 30.6; SupraMin = 36.6\n",
      "Try 3: SubMax = 33.2; SupraMin = 34.0\n",
      "Try 1: SubMax = 208.5; SupraMin = 250.0\n",
      "Try 2: SubMax = 220.4; SupraMin = 226.3\n",
      "Try 3: SubMax = 225.4; SupraMin = 226.3\n",
      "Try 1: SubMax = 1.0; SupraMin = 42.5\n",
      "Try 2: SubMax = 1.0; SupraMin = 6.9\n",
      "Try 3: SubMax = 5.2; SupraMin = 6.1\n",
      "Try 1: SubMax = 250.0; SupraMin = None\n",
      "Try 2: SubMax = 464.3; SupraMin = None\n",
      "Try 3: SubMax = 464.3; SupraMin = 530.6\n",
      "Try 4: SubMax = 464.3; SupraMin = 473.8\n",
      "Try 5: SubMax = 472.4; SupraMin = 473.8\n",
      "Try 1: SubMax = 42.5; SupraMin = 84.0\n",
      "Try 2: SubMax = 54.4; SupraMin = 60.3\n",
      "Try 3: SubMax = 58.6; SupraMin = 59.4\n",
      "Try 1: SubMax = 1.0; SupraMin = 42.5\n",
      "Try 2: SubMax = 6.9; SupraMin = 12.9\n",
      "Try 3: SubMax = 6.9; SupraMin = 7.8\n",
      "Try 1: SubMax = 250.0; SupraMin = None\n",
      "Try 2: SubMax = 285.7; SupraMin = 321.4\n",
      "Try 3: SubMax = 295.9; SupraMin = 301.0\n",
      "Try 4: SubMax = 298.1; SupraMin = 298.8\n",
      "[array(310.4956268221574) * pA, array(34.03061224489796) * pA, array(226.28571428571428) * pA, array(6.081632653061225) * pA, array(473.7609329446064) * pA, array(59.43877551020408) * pA, array(7.775510204081633) * pA, array(298.8338192419825) * pA]\n",
      "[<class 'neuronunit.optimization.data_transport_container.DataTC'>, <class 'neuronunit.optimization.data_transport_container.DataTC'>, <class 'neuronunit.optimization.data_transport_container.DataTC'>, <class 'neuronunit.optimization.data_transport_container.DataTC'>, <class 'neuronunit.optimization.data_transport_container.DataTC'>, <class 'neuronunit.optimization.data_transport_container.DataTC'>, <class 'neuronunit.optimization.data_transport_container.DataTC'>, <class 'neuronunit.optimization.data_transport_container.DataTC'>]\n",
      "[<neuronunit.optimization.data_transport_container.DataTC object at 0x7f1759b77f98>, <neuronunit.optimization.data_transport_container.DataTC object at 0x7f1759b77e80>, <neuronunit.optimization.data_transport_container.DataTC object at 0x7f177c4e70b8>, <neuronunit.optimization.data_transport_container.DataTC object at 0x7f1759b774a8>, <neuronunit.optimization.data_transport_container.DataTC object at 0x7f1759b77198>, <neuronunit.optimization.data_transport_container.DataTC object at 0x7f1759b77128>, <neuronunit.optimization.data_transport_container.DataTC object at 0x7f1759b777f0>, <neuronunit.optimization.data_transport_container.DataTC object at 0x7f1759b4deb8>]\n",
      "injected current seen:  {'delay': array(100.0) * ms, 'amplitude': array(34.03061224489796) * pA, 'duration': array(1000.0) * ms}\n",
      "injected current seen:  {'delay': array(100.0) * ms, 'amplitude': array(310.4956268221574) * pA, 'duration': array(1000.0) * ms}\n",
      "injected current seen:  {'delay': array(100.0) * ms, 'amplitude': array(6.081632653061225) * pA, 'duration': array(1000.0) * ms}\n",
      "injected current seen:  {'delay': array(100.0) * ms, 'amplitude': array(226.28571428571428) * pA, 'duration': array(1000.0) * ms}\n",
      "injected current seen:  {'delay': array(100.0) * ms, 'amplitude': array(473.7609329446064) * pA, 'duration': array(1000.0) * ms}\n",
      "injected current seen:  {'delay': array(100.0) * ms, 'amplitude': array(298.8338192419825) * pA, 'duration': array(1000.0) * ms}\n",
      "injected current seen:  {'delay': array(100.0) * ms, 'amplitude': array(59.43877551020408) * pA, 'duration': array(1000.0) * ms}\n",
      "injected current seen:  {'delay': array(100.0) * ms, 'amplitude': array(7.775510204081633) * pA, 'duration': array(1000.0) * ms}\n",
      "input resistance score: Z = 0.21\n",
      "injected current seen:  {'delay': array(200.0) * ms, 'amplitude': array(-10.0) * pA, 'duration': array(500.0) * ms}\n",
      "input resistance score: Z = -0.09\n",
      "input resistance score: Z = 0.58\n",
      "injected current seen:  {'delay': array(200.0) * ms, 'amplitude': array(-10.0) * pA, 'duration': array(500.0) * ms}\n",
      "injected current seen:  {'delay': array(200.0) * ms, 'amplitude': array(-10.0) * pA, 'duration': array(500.0) * ms}\n",
      "injected current seen:  {'delay': array(200.0) * ms, 'amplitude': array(-10.0) * pA, 'duration': array(500.0) * ms}\n",
      "input resistance score: Z = 3.48\n",
      "injected current seen:  {'delay': array(200.0) * ms, 'amplitude': array(-10.0) * pA, 'duration': array(500.0) * ms}\n",
      "input resistance score: Z = 3.26\n",
      "injected current seen:  {'delay': array(200.0) * ms, 'amplitude': array(-10.0) * pA, 'duration': array(500.0) * ms}\n",
      "input resistance score: Z = -0.10\n",
      "injected current seen:  {'delay': array(200.0) * ms, 'amplitude': array(-10.0) * pA, 'duration': array(500.0) * ms}\n",
      "injected current seen:  {'delay': array(200.0) * ms, 'amplitude': array(-10.0) * pA, 'duration': array(500.0) * ms}\n",
      "input resistance score: Z = 0.90\n",
      "injected current seen:  {'delay': array(200.0) * ms, 'amplitude': array(-10.0) * pA, 'duration': array(500.0) * ms}\n",
      "injected current seen:  {'delay': array(200.0) * ms, 'amplitude': array(-10.0) * pA, 'duration': array(500.0) * ms}\n",
      "injected current seen:  {'delay': array(200.0) * ms, 'amplitude': array(-10.0) * pA, 'duration': array(500.0) * ms}\n",
      "injected current seen:  {'delay': array(200.0) * ms, 'amplitude': array(-10.0) * pA, 'duration': array(500.0) * ms}\n",
      "injected current seen:  {'delay': array(200.0) * ms, 'amplitude': array(-10.0) * pA, 'duration': array(500.0) * ms}\n",
      "injected current seen:  {'delay': array(200.0) * ms, 'amplitude': array(-10.0) * pA, 'duration': array(500.0) * ms}\n",
      "input resistance score: Z = 0.12\n",
      "injected current seen:  {'delay': array(200.0) * ms, 'amplitude': array(-10.0) * pA, 'duration': array(500.0) * ms}\n",
      "injected current seen:  {'delay': array(200.0) * ms, 'amplitude': array(-10.0) * pA, 'duration': array(500.0) * ms}\n"
     ]
    },
    {
     "name": "stderr",
     "output_type": "stream",
     "text": [
      "INFO:__main__:3  \t8     \t3.16408\t0.789523\t1.89947\t4.39999\n"
     ]
    },
    {
     "name": "stdout",
     "output_type": "stream",
     "text": [
      "[<neuronunit.optimization.data_transport_container.DataTC object at 0x7f177c4bc208>, <neuronunit.optimization.data_transport_container.DataTC object at 0x7f175a76d860>, <neuronunit.optimization.data_transport_container.DataTC object at 0x7f177c4d0358>, <neuronunit.optimization.data_transport_container.DataTC object at 0x7f175a76d128>, <neuronunit.optimization.data_transport_container.DataTC object at 0x7f175cafec88>, <neuronunit.optimization.data_transport_container.DataTC object at 0x7f175cb1cb00>, <neuronunit.optimization.data_transport_container.DataTC object at 0x7f175a6edf98>, <neuronunit.optimization.data_transport_container.DataTC object at 0x7f177c4bcb00>]\n",
      "tests, completed, now gene computations\n",
      "gets here??????\n",
      "[[0.01, 13.470213698349099, -74.780814075514783], [0.01, 15, -55.21918592448521], [0.01, -2, -74.942224006462808], [0.20000000000000001, -2.0, -55], [0.18126740686172746, 15, -75.0], [0.19254914595724559, 10.881190345443809, -55.310596516499004], [0.19871706707383346, -1.2183708759205345, -55.0], [0.010254337031196806, 14.516556410741575, -74.065627599887478]]\n",
      "gets here ??? c \n"
     ]
    }
   ],
   "source": [
    "from neuronunit.optimization import optimization_management as om\n",
    "free_params = ['a','b','vr'] # this can only be odd numbers.\n",
    "\n",
    "#,'k','vthresh']\n",
    "hc = {}\n",
    "for k,v in cells['TC'].items():\n",
    "    if k not in free_params:\n",
    "        hc[k] = v\n",
    "print(hc)\n",
    "import pickle\n",
    "TC_tests = pickle.load(open('thalamo_cortical_tests.p','rb'))    \n",
    "                #run_ga(model_params, max_ngen, test, free_params = None, hc = None)\n",
    "ga_out, DO = om.run_ga(explore_param,5,TC_tests,free_params=free_params,hc = hc)"
   ]
  },
  {
   "cell_type": "code",
   "execution_count": 21,
   "metadata": {
    "collapsed": false
   },
   "outputs": [
    {
     "name": "stdout",
     "output_type": "stream",
     "text": [
      "{'b': 15, 'vr': -55.21918592448521, 'a': 0.01}\n"
     ]
    },
    {
     "data": {
      "text/plain": [
       "{'C': 200,\n",
       " 'a': 0.01,\n",
       " 'b': 15,\n",
       " 'c': -60,\n",
       " 'd': 10,\n",
       " 'k': 1.6,\n",
       " 'vPeak': 35,\n",
       " 'vr': -60,\n",
       " 'vt': -50}"
      ]
     },
     "execution_count": 21,
     "metadata": {},
     "output_type": "execute_result"
    }
   ],
   "source": [
    "print(ga_out['dhof'][0].attrs)\n",
    "cells['TC']"
   ]
  },
  {
   "cell_type": "code",
   "execution_count": 12,
   "metadata": {
    "collapsed": false
   },
   "outputs": [
    {
     "name": "stdout",
     "output_type": "stream",
     "text": [
      "Try 1: SubMax = 42.5; SupraMin = 84.0\n",
      "Try 2: SubMax = 72.1; SupraMin = 78.1\n",
      "Try 3: SubMax = 74.7; SupraMin = 75.5\n",
      "Try 1: SubMax = 42.5; SupraMin = 84.0\n",
      "Try 2: SubMax = 72.1; SupraMin = 78.1\n",
      "Try 3: SubMax = 74.7; SupraMin = 75.5\n",
      "75.53061224489795 pA 75.53061224489795 pA\n",
      "injected current seen:  {'delay': array(200.0) * ms, 'amplitude': array(-10.0) * pA, 'duration': array(500.0) * ms}\n",
      "injected current seen:  {'delay': array(200.0) * ms, 'amplitude': array(-10.0) * pA, 'duration': array(500.0) * ms}\n",
      "input resistance score: Z = 0.00\n",
      "31.73928299824782 Mohm 31739282.99824782 kg*m**2/(s**3*A**2)\n",
      "injected current seen:  {'delay': array(200.0) * ms, 'amplitude': array(-10.0) * pA, 'duration': array(500.0) * ms}\n",
      "injected current seen:  {'delay': array(200.0) * ms, 'amplitude': array(-10.0) * pA, 'duration': array(500.0) * ms}\n",
      "3.4631849083750876 ms 0.0034631849083750876 s\n",
      "injected current seen:  {'delay': array(200.0) * ms, 'amplitude': array(-10.0) * pA, 'duration': array(500.0) * ms}\n",
      "injected current seen:  {'delay': array(200.0) * ms, 'amplitude': array(-10.0) * pA, 'duration': array(500.0) * ms}\n",
      "1.0911352057216523e-10 s**4*A**2/(kg*m**2) 1.0911352057216523e-10 s**4*A**2/(kg*m**2)\n",
      "-60.317405613048955 mV -0.060317405613048956 V\n",
      "0.6500000000000001 ms 0.0006500000000000001 s\n",
      "56.127191359642026 mV 0.056127191359642024 V\n",
      "-21.127191359642023 mV -0.02112719135964202 V\n",
      "1.0\n",
      "Z = 0.00\n"
     ]
    }
   ],
   "source": [
    "def hack_judge(test_and_models):\n",
    "    (test, attrs) = test_and_models\n",
    "    model = None\n",
    "    obs = test.observation\n",
    "    model = ReducedModel(LEMS_MODEL_PATH,name = str('vanilla'),backend = ('RAW'))\n",
    "    model.set_attrs(attrs)\n",
    "    test.generate_prediction(model)\n",
    "    pred = test.generate_prediction(model)\n",
    "    score = test.compute_score(obs,pred)\n",
    "    try:\n",
    "        print(obs['value'],pred['value'])\n",
    "    except:\n",
    "        print(obs['mean'],pred['mean'])\n",
    "        \n",
    "    return score\n",
    "\n",
    "scores = []\n",
    "for i,t in enumerate(TC_tests):\n",
    "    test_and_models = (t,cells['TC'])\n",
    "    score = hack_judge(test_and_models)\n",
    "    scores.append(score)\n",
    "print(scores[0].sort_key)    \n",
    "print(scores[0])    \n",
    "\n"
   ]
  },
  {
   "cell_type": "code",
   "execution_count": 13,
   "metadata": {
    "collapsed": false
   },
   "outputs": [
    {
     "name": "stdout",
     "output_type": "stream",
     "text": [
      "[1.0, 1.0, 1.0, 1.0, 1.0, 0.9999999999999999, 1.0, 0.9999999999999996]\n",
      "[0.0, 0.0, 0.0, 0.0, 0.0, -2.029026769368064e-16, 0.0, 6.317017647578838e-16]\n",
      "0.6500000000000001 ms 0.0006500000000000001 s\n",
      "Z = -0.00\n"
     ]
    }
   ],
   "source": [
    "print([s.sort_key for s in scores])\n",
    "print([s.score for s in scores])\n",
    "\n",
    "score = hack_judge((TC_tests[-3],cells['TC']))\n",
    "print(score)"
   ]
  },
  {
   "cell_type": "code",
   "execution_count": 14,
   "metadata": {
    "collapsed": false
   },
   "outputs": [
    {
     "name": "stdout",
     "output_type": "stream",
     "text": [
      "Try 1: SubMax = 42.5; SupraMin = 84.0\n",
      "Try 2: SubMax = 48.4; SupraMin = 54.4\n",
      "Try 3: SubMax = 51.0; SupraMin = 51.8\n",
      "Try 1: SubMax = 42.5; SupraMin = 84.0\n",
      "Try 2: SubMax = 48.4; SupraMin = 54.4\n",
      "Try 3: SubMax = 51.0; SupraMin = 51.8\n",
      "75.53061224489795 pA 51.81632653061225 pA\n",
      "injected current seen:  {'delay': array(200.0) * ms, 'amplitude': array(-10.0) * pA, 'duration': array(500.0) * ms}\n",
      "injected current seen:  {'delay': array(200.0) * ms, 'amplitude': array(-10.0) * pA, 'duration': array(500.0) * ms}\n",
      "input resistance score: Z = 0.62\n",
      "31.73928299824782 Mohm 79634016.52239381 kg*m**2/(s**3*A**2)\n",
      "injected current seen:  {'delay': array(200.0) * ms, 'amplitude': array(-10.0) * pA, 'duration': array(500.0) * ms}\n",
      "injected current seen:  {'delay': array(200.0) * ms, 'amplitude': array(-10.0) * pA, 'duration': array(500.0) * ms}\n",
      "3.4631849083750876 ms 0.009810667396493434 s\n",
      "injected current seen:  {'delay': array(200.0) * ms, 'amplitude': array(-10.0) * pA, 'duration': array(500.0) * ms}\n",
      "injected current seen:  {'delay': array(200.0) * ms, 'amplitude': array(-10.0) * pA, 'duration': array(500.0) * ms}\n",
      "1.0911352057216523e-10 s**4*A**2/(kg*m**2) 1.231969430266598e-10 s**4*A**2/(kg*m**2)\n",
      "-60.317405613048955 mV -0.06075346627665097 V\n",
      "0.6500000000000001 ms 0.0007750000000000001 s\n",
      "56.127191359642026 mV 0.05357660263743405 V\n",
      "-21.127191359642023 mV -0.018576602637434048 V\n",
      "0.6190101302868543\n",
      "Z = -0.50\n",
      "[0.6190101302868543, 0.5372765850958718, 0.4696921520174828, 0.45016300791078434, 0.946777506200236, 0.81503865531969, 0.841429780079807, 0.6423611420888804]\n"
     ]
    }
   ],
   "source": [
    "scores = []\n",
    "for t in TC_tests:\n",
    "    test_and_models = (t,cells['RS'])\n",
    "    score = hack_judge(test_and_models)\n",
    "    scores.append(score)\n",
    "print(scores[0].sort_key)    \n",
    "print(scores[0])\n",
    "print([s.sort_key for s in scores])\n"
   ]
  },
  {
   "cell_type": "code",
   "execution_count": 15,
   "metadata": {
    "collapsed": false
   },
   "outputs": [
    {
     "name": "stdout",
     "output_type": "stream",
     "text": [
      "injected current seen:  {'delay': array(200.0) * ms, 'amplitude': array(-10.0) * pA, 'duration': array(500.0) * ms}\n",
      "injected current seen:  {'delay': array(200.0) * ms, 'amplitude': array(-10.0) * pA, 'duration': array(500.0) * ms}\n",
      "injected current seen:  {'delay': array(200.0) * ms, 'amplitude': array(-10.0) * pA, 'duration': array(500.0) * ms}\n",
      "injected current seen:  {'delay': array(200.0) * ms, 'amplitude': array(-10.0) * pA, 'duration': array(500.0) * ms}\n",
      "injected current seen:  {'delay': array(200.0) * ms, 'amplitude': array(-10.0) * pA, 'duration': array(500.0) * ms}\n",
      "injected current seen:  {'delay': array(200.0) * ms, 'amplitude': array(-10.0) * pA, 'duration': array(500.0) * ms}\n",
      "input resistance score: Z = 0.62\n",
      "31.73928299824782 Mohm 79634016.52239381 kg*m**2/(s**3*A**2)\n",
      "3.4631849083750876 ms 0.009810667396493434 s\n",
      "1.0911352057216523e-10 s**4*A**2/(kg*m**2) 1.231969430266598e-10 s**4*A**2/(kg*m**2)\n",
      "-21.127191359642023 mV -0.018576602637434048 V\n",
      "0.6500000000000001 ms 0.0007750000000000001 s\n",
      "56.127191359642026 mV 0.05357660263743405 V\n",
      "-60.317405613048955 mV -0.06075346627665097 V\n",
      "[{'value': array(75.53061224489795) * pA}, <sciunit.scores.complete.ZScore object at 0x7f175cd8d198>, <sciunit.scores.complete.ZScore object at 0x7f175a7c6eb8>, <sciunit.scores.complete.ZScore object at 0x7f175a60bb70>, <sciunit.scores.complete.ZScore object at 0x7f1759f53f60>, <sciunit.scores.complete.ZScore object at 0x7f177c4d0080>, <sciunit.scores.complete.ZScore object at 0x7f1759f53438>, <sciunit.scores.complete.ZScore object at 0x7f175a7c6908>]\n"
     ]
    }
   ],
   "source": [
    "import dask.bag as db\n",
    "# The rheobase has been obtained seperately and cannot be db mapped.\n",
    "# Nested DB mappings dont work.\n",
    "from itertools import repeat\n",
    "test_a_models = zip(TC_tests[1::],repeat(cells['RS']))\n",
    "tc_bag = db.from_sequence(test_a_models)\n",
    "\n",
    "scores = list(tc_bag.map(hack_judge).compute())\n",
    "scores.insert(0,rheobase)\n",
    "print(scores)    "
   ]
  },
  {
   "cell_type": "code",
   "execution_count": 16,
   "metadata": {
    "collapsed": false
   },
   "outputs": [
    {
     "name": "stdout",
     "output_type": "stream",
     "text": [
      "Try 1: SubMax = 42.5; SupraMin = 84.0\n",
      "Try 2: SubMax = 72.1; SupraMin = 78.1\n",
      "Try 3: SubMax = 74.7; SupraMin = 75.5\n",
      "{'value': array(75.53061224489795) * pA}\n"
     ]
    }
   ],
   "source": [
    "score = TC_tests[0].judge(model,stop_on_error = False, deep_error = True)\n",
    "print(score.prediction)\n",
    "#print(model.get_spike_count())"
   ]
  },
  {
   "cell_type": "code",
   "execution_count": 17,
   "metadata": {
    "collapsed": false
   },
   "outputs": [
    {
     "ename": "ImportError",
     "evalue": "cannot import name 'ReducedModel'",
     "output_type": "error",
     "traceback": [
      "\u001b[0;31m---------------------------------------------------------------------------\u001b[0m",
      "\u001b[0;31mImportError\u001b[0m                               Traceback (most recent call last)",
      "\u001b[0;32m<ipython-input-17-a27e11b8bd88>\u001b[0m in \u001b[0;36m<module>\u001b[0;34m()\u001b[0m\n\u001b[1;32m      1\u001b[0m \u001b[0;32mfrom\u001b[0m \u001b[0mneuronunit\u001b[0m\u001b[0;34m.\u001b[0m\u001b[0moptimization\u001b[0m \u001b[0;32mimport\u001b[0m \u001b[0moptimization_management\u001b[0m \u001b[0;32mas\u001b[0m \u001b[0mopt\u001b[0m\u001b[0;34m\u001b[0m\u001b[0m\n\u001b[0;32m----> 2\u001b[0;31m \u001b[0;32mfrom\u001b[0m \u001b[0mneuronunit\u001b[0m\u001b[0;34m.\u001b[0m\u001b[0mmodels\u001b[0m \u001b[0;32mimport\u001b[0m \u001b[0mReducedModel\u001b[0m\u001b[0;34m\u001b[0m\u001b[0m\n\u001b[0m",
      "\u001b[0;31mImportError\u001b[0m: cannot import name 'ReducedModel'"
     ]
    }
   ],
   "source": [
    "from neuronunit.optimization import optimization_management as opt\n",
    "from neuronunit.models import ReducedModel"
   ]
  },
  {
   "cell_type": "code",
   "execution_count": null,
   "metadata": {
    "collapsed": false
   },
   "outputs": [],
   "source": []
  },
  {
   "cell_type": "raw",
   "metadata": {
    "collapsed": true
   },
   "source": []
  }
 ],
 "metadata": {
  "kernelspec": {
   "display_name": "Python 3",
   "language": "python",
   "name": "python3"
  },
  "language_info": {
   "codemirror_mode": {
    "name": "ipython",
    "version": 3
   },
   "file_extension": ".py",
   "mimetype": "text/x-python",
   "name": "python",
   "nbconvert_exporter": "python",
   "pygments_lexer": "ipython3",
   "version": "3.5.2"
  }
 },
 "nbformat": 4,
 "nbformat_minor": 2
}
