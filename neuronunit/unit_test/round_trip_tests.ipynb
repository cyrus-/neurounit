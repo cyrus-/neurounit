{
 "cells": [
  {
   "cell_type": "code",
   "execution_count": 1,
   "metadata": {
    "collapsed": false
   },
   "outputs": [
    {
     "name": "stdout",
     "output_type": "stream",
     "text": [
      "OrderedDict([('RS', {'d': 100, 'a': 0.03, 'vt': -40, 'c': -50, 'b': -2, 'C': 100, 'vPeak': 35, 'vr': -60, 'k': 0.7}), ('IB', {'d': 130, 'a': 0.01, 'vt': -45, 'c': -56, 'b': 5, 'C': 150, 'vPeak': 50, 'vr': -75, 'k': 1.2}), ('LTS', {'d': 20, 'a': 0.03, 'vt': -42, 'c': -53, 'b': 8, 'C': 100, 'vPeak': 40, 'vr': -56, 'k': 1.0}), ('TC', {'d': 10, 'a': 0.01, 'vt': -50, 'c': -60, 'b': 15, 'C': 200, 'vPeak': 35, 'vr': -60, 'k': 1.6}), ('TC_burst', {'d': 10, 'a': 0.01, 'vt': -50, 'c': -60, 'b': 15, 'C': 200, 'vPeak': 35, 'vr': -60, 'k': 1.6})])\n"
     ]
    }
   ],
   "source": [
    "# http://www.physics.usyd.edu.au/teach_res/mp/mscripts/\n",
    "# ns_izh002.m\n",
    "import collections\n",
    "from collections import OrderedDict\n",
    "\n",
    "# Fast spiking cannot be reproduced as it requires modifications to the standard Izhi equation,\n",
    "# which are expressed in this mod file.\n",
    "# https://github.com/OpenSourceBrain/IzhikevichModel/blob/master/NEURON/izhi2007b.mod\n",
    "\n",
    "\n",
    "reduced2007 = collections.OrderedDict([\n",
    "  #              C    k     vr  vt vpeak   a      b   c    d  celltype\n",
    "  ('RS',        (100, 0.7,  -60, -40, 35, 0.03,   -2, -50,  100,  1)),\n",
    "  ('IB',        (150, 1.2,  -75, -45, 50, 0.01,   5, -56,  130,   2)),\n",
    "  ('LTS',       (100, 1.0,  -56, -42, 40, 0.03,   8, -53,   20,   4)),\n",
    "  ('TC',        (200, 1.6,  -60, -50, 35, 0.01,  15, -60,   10,   6)),\n",
    "  ('TC_burst',  (200, 1.6,  -60, -50, 35, 0.01,  15, -60,   10,   6))])\n",
    "\n",
    "\n",
    "type2007 = collections.OrderedDict([\n",
    "  #              C    k     vr  vt vpeak   a      b   c    d  celltype\n",
    "  ('RS',        (100, 0.7,  -60, -40, 35, 0.03,   -2, -50,  100,  1)),\n",
    "  ('IB',        (150, 1.2,  -75, -45, 50, 0.01,   5, -56,  130,   2)),\n",
    "  ('LTS',       (100, 1.0,  -56, -42, 40, 0.03,   8, -53,   20,   4)),\n",
    "  ('TC',        (200, 1.6,  -60, -50, 35, 0.01,  15, -60,   10,   6)),\n",
    "  ('TC_burst',  (200, 1.6,  -60, -50, 35, 0.01,  15, -60,   10,   6)),\n",
    "  ('RTN',       (40,  0.25, -65, -45,  0, 0.015, 10, -55,   50,   7)),\n",
    "  ('RTN_burst', (40,  0.25, -65, -45,  0, 0.015, 10, -55,   50,   7)),\n",
    "  ('CH',        (50,  1.5,  -60, -40, 25, 0.03,   1, -40,  150,   3)),\n",
    "  ('FS',        (20,  1.0,  -55, -40, 25, 0.2,   -2, -45,  -55,   5))])\n",
    "\n",
    "import numpy as np\n",
    "reduced_dict = OrderedDict([(k,[]) for k in ['C','k','vr','vt','vPeak','a','b','c','d']])\n",
    "\n",
    "#param_dict = OrderedDict([(k,[]) for k in ['C','k','vr','vt','vPeak','a','b','c','d']])\n",
    "#OrderedDict\n",
    "for i,k in enumerate(reduced_dict.keys()):\n",
    "    for v in type2007.values():\n",
    "        reduced_dict[k].append(v[i])\n",
    "\n",
    "explore_param = {k:(np.min(v),np.max(v)) for k,v in reduced_dict.items()}\n",
    "param_ranges = OrderedDict(explore_param)\n",
    "\n",
    "\n",
    "#IB = mparams[param_dict['IB']]\n",
    "RS = {}\n",
    "IB = {}\n",
    "TC = {}\n",
    "CH = {}\n",
    "RTN_burst = {}\n",
    "cells = OrderedDict([(k,[]) for k in ['RS','IB','CH','LTS','FS','TC','TC_burst','RTN','RTN_busrt']])\n",
    "reduced_cells = OrderedDict([(k,[]) for k in ['RS','IB','LTS','TC','TC_burst']])\n",
    "\n",
    "for index,key in enumerate(reduced_cells.keys()):\n",
    "    reduced_cells[key] = {}\n",
    "    for k,v in reduced_dict.items():\n",
    "        reduced_cells[key][k] = v[index]\n",
    "\n",
    "print(reduced_cells)\n",
    "cells = reduced_cells"
   ]
  },
  {
   "cell_type": "code",
   "execution_count": 2,
   "metadata": {
    "collapsed": false
   },
   "outputs": [
    {
     "name": "stdout",
     "output_type": "stream",
     "text": [
      "{'d': 10, 'a': 0.01, 'vt': -50, 'c': -60, 'b': 15, 'C': 200, 'vPeak': 35, 'vr': -60, 'k': 1.6}\n",
      "200.0\n",
      "1.5707957651346172\n",
      "<built-in method area of nrn.Segment object at 0x7f7dce6e6378>\n",
      "500.0\n"
     ]
    }
   ],
   "source": [
    "model = None\n",
    "from neuronunit.models.reduced import ReducedModel\n",
    "from neuronunit.optimization import get_neab\n",
    "\n",
    "from neuronunit.optimization.model_parameters import model_params, path_params\n",
    "LEMS_MODEL_PATH = path_params['model_path']\n",
    "model = ReducedModel(LEMS_MODEL_PATH,name = str('vanilla'),backend = ('NEURON'))\n",
    "print(cells['TC'])\n",
    "model.set_attrs(cells['TC'])\n",
    "#dir(model._backend)\n",
    "dir(model._backend.h)\n",
    "#loc = \n",
    "#for sec in \n",
    "dir(model._backend.h.m_RS_RS_pop[0])#:\n",
    "\n",
    "for sec in model._backend.h.m_RS_RS_pop[0].Section(0.5):\n",
    "    sec.cm = (50/31.831)\n",
    "    print(sec.cm)\n",
    "    print(sec.area)\n",
    "    print(sec.diam)\n",
    "\n",
    "sec = model._backend.h.Section(model._backend.h.m_RS_RS_pop[0])    \n",
    "sec.L, sec.diam = 6.3, 5 \n",
    "\n",
    "model = ReducedModel(LEMS_MODEL_PATH,name = str('vanilla'),backend = ('RAW'))\n",
    "model.set_attrs(cells['TC'])\n",
    "\n"
   ]
  },
  {
   "cell_type": "code",
   "execution_count": 3,
   "metadata": {
    "collapsed": false
   },
   "outputs": [
    {
     "name": "stdout",
     "output_type": "stream",
     "text": [
      "{'vPeak': 35, 'd': 10, 'vt': -50, 'C': 200, 'a': 0.01, 'c': -60, 'k': 1.6, 'b': 15, 'vr': -60} failed on\n",
      "Try 1: SubMax = 42.5; SupraMin = 84.0\n",
      "{'vPeak': 35, 'd': 10, 'vt': -50, 'C': 200, 'a': 0.01, 'c': -60, 'k': 1.6, 'b': 15, 'vr': -60} failed on\n",
      "Try 2: SubMax = 67.4; SupraMin = 84.0\n",
      "{'vPeak': 35, 'd': 10, 'vt': -50, 'C': 200, 'a': 0.01, 'c': -60, 'k': 1.6, 'b': 15, 'vr': -60} failed on\n",
      "Try 3: SubMax = 74.0; SupraMin = 77.4\n",
      "Try 4: SubMax = 74.7; SupraMin = 75.4\n",
      "{'value': array(75.36800000000001) * pA}\n"
     ]
    }
   ],
   "source": [
    "\n",
    "tests_,all_tests, observation,suite = get_neab.get_tests()\n",
    "\n",
    "rheobase = all_tests[0].generate_prediction(model)\n",
    "print(rheobase)"
   ]
  },
  {
   "cell_type": "code",
   "execution_count": 4,
   "metadata": {
    "collapsed": false
   },
   "outputs": [
    {
     "data": {
      "image/png": "[encoded data removed]",
      "text/plain": [
       "<matplotlib.figure.Figure at 0x7fefdc1f06a0>"
      ]
     },
     "metadata": {},
     "output_type": "display_data"
    }
   ],
   "source": [
    "\n",
    "\n",
    "import pickle\n",
    "import copy\n",
    "import numpy as np\n",
    "import pandas as pd\n",
    "import matplotlib.pyplot as plt\n",
    "\n",
    "from neuronunit.models.reduced import ReducedModel\n",
    "from neuronunit.optimization.model_parameters import model_params, path_params\n",
    "LEMS_MODEL_PATH = path_params['model_path']\n",
    "import neuronunit.optimization as opt\n",
    "import quantities as pq\n",
    "\n",
    "from neuronunit.optimization.data_transport_container import DataTC\n",
    "model = ReducedModel(LEMS_MODEL_PATH,name = str('vanilla'),backend = ('RAW'))\n",
    "model.set_attrs(cells['TC'])\n",
    "\n",
    "iparams = {}\n",
    "iparams['injected_square_current'] = {}\n",
    "iparams['injected_square_current']['amplitude'] =75.36800000000001*pq.pA\n",
    "#['amplitude']  = dtc.vtest[k]['injected_square_current']['amplitude']\n",
    "DELAY = 100.0*pq.ms\n",
    "DURATION = 1000.0*pq.ms\n",
    "iparams['injected_square_current']['delay'] = DELAY\n",
    "iparams['injected_square_current']['duration'] = int(DURATION)\n",
    "\n",
    "model.inject_square_current(iparams)\n",
    "\n",
    "plt.plot(model.get_membrane_potential().times,model.get_membrane_potential(),label='RAW')\n",
    "plt.legend()\n",
    "plt.show()\n"
   ]
  },
  {
   "cell_type": "code",
   "execution_count": 5,
   "metadata": {
    "collapsed": false
   },
   "outputs": [
    {
     "name": "stdout",
     "output_type": "stream",
     "text": [
      "{'vPeak': 35, 'c': -60, 'vt': -50, 'd': 10, 'C': 200}\n",
      "{'k': (0.25, 1.6000000000000001), 'a': (0.01, 0.20000000000000001), 'b': (-2, 15), 'vr': (-75, -55)}\n"
     ]
    },
    {
     "name": "stderr",
     "output_type": "stream",
     "text": [
      "/opt/conda/lib/python3.5/site-packages/sklearn/cross_validation.py:41: DeprecationWarning: This module was deprecated in version 0.18 in favor of the model_selection module into which all the refactored classes and functions are moved. Also note that the interface of the new CV iterators are different from that of this module. This module will be removed in 0.20.\n",
      "  \"This module will be removed in 0.20.\", DeprecationWarning)\n",
      "/opt/conda/lib/python3.5/site-packages/sklearn/grid_search.py:42: DeprecationWarning: This module was deprecated in version 0.18 in favor of the model_selection module into which all the refactored classes and functions are moved. This module will be removed in 0.20.\n",
      "  DeprecationWarning)\n"
     ]
    },
    {
     "name": "stdout",
     "output_type": "stream",
     "text": [
      "[] []\n",
      "[[0.01, -2, 0.25, -75, 35, -60, -50, 10, 200], [0.01, -2, 0.25, -55, 35, -60, -50, 10, 200], [0.01, -2, 1.6000000000000001, -75, 35, -60, -50, 10, 200], [0.01, -2, 1.6000000000000001, -55, 35, -60, -50, 10, 200], [0.01, 15, 0.25, -75, 35, -60, -50, 10, 200], [0.01, 15, 0.25, -55, 35, -60, -50, 10, 200], [0.01, 15, 1.6000000000000001, -75, 35, -60, -50, 10, 200], [0.01, 15, 1.6000000000000001, -55, 35, -60, -50, 10, 200], [0.20000000000000001, -2, 0.25, -75, 35, -60, -50, 10, 200], [0.20000000000000001, -2, 0.25, -55, 35, -60, -50, 10, 200], [0.20000000000000001, -2, 1.6000000000000001, -75, 35, -60, -50, 10, 200], [0.20000000000000001, -2, 1.6000000000000001, -55, 35, -60, -50, 10, 200], [0.20000000000000001, 15, 0.25, -75, 35, -60, -50, 10, 200], [0.20000000000000001, 15, 0.25, -55, 35, -60, -50, 10, 200], [0.20000000000000001, 15, 1.6000000000000001, -75, 35, -60, -50, 10, 200], [0.20000000000000001, 15, 1.6000000000000001, -55, 35, -60, -50, 10, 200]]\n",
      "[0.01, -2, 0.25, -75, 35, -60, -50, 10, 200] ['a', 'b', 'k', 'vr', 'vPeak', 'c', 'vt', 'd', 'C']\n",
      "not even to test runner getting\n",
      "get into test runner\n",
      "[[0.01, -2, 0.25, -75, 35, -60, -50, 10, 200], [0.01, -2, 0.25, -55, 35, -60, -50, 10, 200], [0.01, -2, 1.6000000000000001, -75, 35, -60, -50, 10, 200], [0.01, -2, 1.6000000000000001, -55, 35, -60, -50, 10, 200], [0.01, 15, 0.25, -75, 35, -60, -50, 10, 200], [0.01, 15, 0.25, -55, 35, -60, -50, 10, 200], [0.01, 15, 1.6000000000000001, -75, 35, -60, -50, 10, 200], [0.01, 15, 1.6000000000000001, -55, 35, -60, -50, 10, 200], [0.20000000000000001, -2, 0.25, -75, 35, -60, -50, 10, 200], [0.20000000000000001, -2, 0.25, -55, 35, -60, -50, 10, 200], [0.20000000000000001, -2, 1.6000000000000001, -75, 35, -60, -50, 10, 200], [0.20000000000000001, -2, 1.6000000000000001, -55, 35, -60, -50, 10, 200], [0.20000000000000001, 15, 0.25, -75, 35, -60, -50, 10, 200], [0.20000000000000001, 15, 0.25, -55, 35, -60, -50, 10, 200], [0.20000000000000001, 15, 1.6000000000000001, -75, 35, -60, -50, 10, 200], [0.20000000000000001, 15, 1.6000000000000001, -55, 35, -60, -50, 10, 200]] ['a', 'b', 'k', 'vr', 'vPeak', 'c', 'vt', 'd', 'C'] RheobaseTestP\n",
      "> /home/jovyan/neuronunit/neuronunit/optimization/optimization_management.py(517)test_runner()\n",
      "-> pop, dtcpop = rheobase_old(pop, td, tests[0])\n",
      "(Pdb) c\n",
      "[<neuronunit.optimization.data_transport_container.DataTC object at 0x7fefd41b2dd8>, <neuronunit.optimization.data_transport_container.DataTC object at 0x7fefd408a438>, <neuronunit.optimization.data_transport_container.DataTC object at 0x7fefd41b2c50>, <neuronunit.optimization.data_transport_container.DataTC object at 0x7fefd408a4a8>, <neuronunit.optimization.data_transport_container.DataTC object at 0x7fefd41b29e8>, <neuronunit.optimization.data_transport_container.DataTC object at 0x7fefd408a6a0>, <neuronunit.optimization.data_transport_container.DataTC object at 0x7fefd41b2a20>, <neuronunit.optimization.data_transport_container.DataTC object at 0x7fefd408a4e0>, <neuronunit.optimization.data_transport_container.DataTC object at 0x7fefd41b2b00>, <neuronunit.optimization.data_transport_container.DataTC object at 0x7fefd408a080>, <neuronunit.optimization.data_transport_container.DataTC object at 0x7fefd41b2908>, <neuronunit.optimization.data_transport_container.DataTC object at 0x7fefd408a2b0>, <neuronunit.optimization.data_transport_container.DataTC object at 0x7fefd41b27b8>, <neuronunit.optimization.data_transport_container.DataTC object at 0x7fefd408a710>, <neuronunit.optimization.data_transport_container.DataTC object at 0x7fefd41b2f28>, <neuronunit.optimization.data_transport_container.DataTC object at 0x7fefd408a128>]\n",
      "<zip object at 0x7fefd40719c8>\n",
      "> /home/jovyan/neuronunit/neuronunit/optimization/optimization_management.py(397)rheobase_old()\n",
      "-> dtcpop = list(map(dtc_to_rheo,xargs))\n",
      "(Pdb) c\n",
      "{'vPeak': 35, 'b': -2, 'vt': -50, 'C': 200, 'a': 0.01, 'c': -60, 'k': 0.25, 'd': 10, 'vr': -75} rtest RheobaseTestP failed on\n",
      "{'c': -60, 'vPeak': 35, 'd': 10, 'vt': -50, 'C': 200, 'a': 0.01, 'b': -2, 'k': 0.25, 'vr': -75} failed on\n",
      "Try 1: SubMax = 1.0; SupraMin = 42.5\n",
      "{'c': -60, 'vPeak': 35, 'd': 10, 'vt': -50, 'C': 200, 'a': 0.01, 'b': -2, 'k': 0.25, 'vr': -75} failed on\n",
      "Try 2: SubMax = 17.6; SupraMin = 25.9\n",
      "Try 3: SubMax = 20.9; SupraMin = 22.6\n",
      "{'c': -60, 'vPeak': 35, 'd': 10, 'vt': -50, 'C': 200, 'a': 0.01, 'b': -2, 'k': 0.25, 'vr': -75} failed on\n",
      "Try 1: SubMax = 1.0; SupraMin = 42.5\n",
      "{'c': -60, 'vPeak': 35, 'd': 10, 'vt': -50, 'C': 200, 'a': 0.01, 'b': -2, 'k': 0.25, 'vr': -75} failed on\n",
      "Try 2: SubMax = 17.6; SupraMin = 25.9\n",
      "Try 3: SubMax = 20.9; SupraMin = 22.6\n",
      "75.23847222222223 pA 22.580000000000002 pA\n"
     ]
    },
    {
     "ename": "TypeError",
     "evalue": "'ZScore' object is not iterable",
     "output_type": "error",
     "traceback": [
      "\u001b[0;31m---------------------------------------------------------------------------\u001b[0m",
      "\u001b[0;31mTypeError\u001b[0m                                 Traceback (most recent call last)",
      "\u001b[0;32m<ipython-input-5-d3a6c2b49a83>\u001b[0m in \u001b[0;36m<module>\u001b[0;34m()\u001b[0m\n\u001b[1;32m      8\u001b[0m \u001b[0;32mimport\u001b[0m \u001b[0mpickle\u001b[0m\u001b[0;34m\u001b[0m\u001b[0m\n\u001b[1;32m      9\u001b[0m \u001b[0mTC_tests\u001b[0m \u001b[0;34m=\u001b[0m \u001b[0mpickle\u001b[0m\u001b[0;34m.\u001b[0m\u001b[0mload\u001b[0m\u001b[0;34m(\u001b[0m\u001b[0mopen\u001b[0m\u001b[0;34m(\u001b[0m\u001b[0;34m'thalamo_cortical_tests.p'\u001b[0m\u001b[0;34m,\u001b[0m\u001b[0;34m'rb'\u001b[0m\u001b[0;34m)\u001b[0m\u001b[0;34m)\u001b[0m\u001b[0;34m\u001b[0m\u001b[0m\n\u001b[0;32m---> 10\u001b[0;31m \u001b[0mga_out\u001b[0m\u001b[0;34m,\u001b[0m \u001b[0mDO\u001b[0m \u001b[0;34m=\u001b[0m \u001b[0mom\u001b[0m\u001b[0;34m.\u001b[0m\u001b[0mrun_ga\u001b[0m\u001b[0;34m(\u001b[0m\u001b[0mexplore_param\u001b[0m\u001b[0;34m,\u001b[0m\u001b[0;36m3\u001b[0m\u001b[0;34m,\u001b[0m\u001b[0mTC_tests\u001b[0m\u001b[0;34m,\u001b[0m\u001b[0mfree_params\u001b[0m\u001b[0;34m=\u001b[0m\u001b[0mfree_params\u001b[0m\u001b[0;34m,\u001b[0m\u001b[0mhc\u001b[0m \u001b[0;34m=\u001b[0m \u001b[0mhc\u001b[0m\u001b[0;34m)\u001b[0m\u001b[0;34m\u001b[0m\u001b[0m\n\u001b[0m",
      "\u001b[0;32m/home/jovyan/neuronunit/neuronunit/optimization/optimization_management.py\u001b[0m in \u001b[0;36mrun_ga\u001b[0;34m(model_params, npoints, test, free_params, hc)\u001b[0m\n\u001b[1;32m    377\u001b[0m     \u001b[0mselection\u001b[0m \u001b[0;34m=\u001b[0m \u001b[0mstr\u001b[0m\u001b[0;34m(\u001b[0m\u001b[0;34m'selNSGA'\u001b[0m\u001b[0;34m)\u001b[0m\u001b[0;34m\u001b[0m\u001b[0m\n\u001b[1;32m    378\u001b[0m     \u001b[0mDO\u001b[0m \u001b[0;34m=\u001b[0m \u001b[0mSciUnitOptimization\u001b[0m\u001b[0;34m(\u001b[0m\u001b[0moffspring_size\u001b[0m \u001b[0;34m=\u001b[0m \u001b[0mMU\u001b[0m\u001b[0;34m,\u001b[0m \u001b[0merror_criterion\u001b[0m \u001b[0;34m=\u001b[0m \u001b[0mtest\u001b[0m\u001b[0;34m,\u001b[0m \u001b[0mselection\u001b[0m \u001b[0;34m=\u001b[0m \u001b[0mselection\u001b[0m\u001b[0;34m,\u001b[0m \u001b[0mboundary_dict\u001b[0m \u001b[0;34m=\u001b[0m \u001b[0mss\u001b[0m\u001b[0;34m,\u001b[0m \u001b[0melite_size\u001b[0m \u001b[0;34m=\u001b[0m \u001b[0;36m2\u001b[0m\u001b[0;34m,\u001b[0m \u001b[0mhc\u001b[0m \u001b[0;34m=\u001b[0m \u001b[0mhc\u001b[0m\u001b[0;34m)\u001b[0m\u001b[0;34m\u001b[0m\u001b[0m\n\u001b[0;32m--> 379\u001b[0;31m     \u001b[0mga_out\u001b[0m \u001b[0;34m=\u001b[0m \u001b[0mDO\u001b[0m\u001b[0;34m.\u001b[0m\u001b[0mrun\u001b[0m\u001b[0;34m(\u001b[0m\u001b[0moffspring_size\u001b[0m \u001b[0;34m=\u001b[0m \u001b[0mMU\u001b[0m\u001b[0;34m,\u001b[0m \u001b[0mmax_ngen\u001b[0m \u001b[0;34m=\u001b[0m \u001b[0mmax_ngen\u001b[0m\u001b[0;34m)\u001b[0m\u001b[0;34m\u001b[0m\u001b[0m\n\u001b[0m\u001b[1;32m    380\u001b[0m     \u001b[0mga_out\u001b[0m\u001b[0;34m[\u001b[0m\u001b[0;34m'dhof'\u001b[0m\u001b[0;34m]\u001b[0m \u001b[0;34m=\u001b[0m \u001b[0;34m[\u001b[0m \u001b[0mh\u001b[0m\u001b[0;34m.\u001b[0m\u001b[0mdtc\u001b[0m \u001b[0;32mfor\u001b[0m \u001b[0mh\u001b[0m \u001b[0;32min\u001b[0m \u001b[0mga_out\u001b[0m\u001b[0;34m[\u001b[0m\u001b[0;34m'hof'\u001b[0m\u001b[0;34m]\u001b[0m \u001b[0;34m]\u001b[0m\u001b[0;34m\u001b[0m\u001b[0m\n\u001b[1;32m    381\u001b[0m     \u001b[0mga_out\u001b[0m\u001b[0;34m[\u001b[0m\u001b[0;34m'dbest'\u001b[0m\u001b[0;34m]\u001b[0m \u001b[0;34m=\u001b[0m \u001b[0mga_out\u001b[0m\u001b[0;34m[\u001b[0m\u001b[0;34m'hof'\u001b[0m\u001b[0;34m]\u001b[0m\u001b[0;34m[\u001b[0m\u001b[0;36m0\u001b[0m\u001b[0;34m]\u001b[0m\u001b[0;34m.\u001b[0m\u001b[0mdtc\u001b[0m\u001b[0;34m\u001b[0m\u001b[0m\n",
      "\u001b[0;32m/home/jovyan/BluePyOpt/bluepyopt/deapext/optimisations.py\u001b[0m in \u001b[0;36mrun\u001b[0;34m(self, max_ngen, offspring_size, continue_cp, cp_filename, cp_frequency)\u001b[0m\n\u001b[1;32m    336\u001b[0m             \u001b[0mcp_filename\u001b[0m\u001b[0;34m=\u001b[0m\u001b[0mcp_filename\u001b[0m\u001b[0;34m,\u001b[0m\u001b[0;34m\u001b[0m\u001b[0m\n\u001b[1;32m    337\u001b[0m             \u001b[0mselection\u001b[0m \u001b[0;34m=\u001b[0m \u001b[0mself\u001b[0m\u001b[0;34m.\u001b[0m\u001b[0mselection\u001b[0m\u001b[0;34m,\u001b[0m\u001b[0;34m\u001b[0m\u001b[0m\n\u001b[0;32m--> 338\u001b[0;31m             td = self.td)\n\u001b[0m\u001b[1;32m    339\u001b[0m \u001b[0;34m\u001b[0m\u001b[0m\n\u001b[1;32m    340\u001b[0m         \u001b[0;31m# insert the initial HOF value back in.\u001b[0m\u001b[0;34m\u001b[0m\u001b[0;34m\u001b[0m\u001b[0m\n",
      "\u001b[0;32m/home/jovyan/BluePyOpt/bluepyopt/deapext/algorithms.py\u001b[0m in \u001b[0;36meaAlphaMuPlusLambdaCheckpoint\u001b[0;34m(population, toolbox, mu, cxpb, mutpb, ngen, stats, halloffame, pf, nelite, cp_frequency, cp_filename, continue_cp, selection, td)\u001b[0m\n\u001b[1;32m    143\u001b[0m \u001b[0;34m\u001b[0m\u001b[0m\n\u001b[1;32m    144\u001b[0m         \u001b[0;31m# TODO this first loop should be not be repeated !\u001b[0m\u001b[0;34m\u001b[0m\u001b[0;34m\u001b[0m\u001b[0m\n\u001b[0;32m--> 145\u001b[0;31m         \u001b[0minvalid_ind\u001b[0m \u001b[0;34m=\u001b[0m \u001b[0m_evaluate_invalid_fitness\u001b[0m\u001b[0;34m(\u001b[0m\u001b[0mtoolbox\u001b[0m\u001b[0;34m,\u001b[0m \u001b[0mpopulation\u001b[0m\u001b[0;34m)\u001b[0m\u001b[0;34m\u001b[0m\u001b[0m\n\u001b[0m\u001b[1;32m    146\u001b[0m         \u001b[0minvalid_count\u001b[0m \u001b[0;34m=\u001b[0m \u001b[0mlen\u001b[0m\u001b[0;34m(\u001b[0m\u001b[0minvalid_ind\u001b[0m\u001b[0;34m)\u001b[0m\u001b[0;34m\u001b[0m\u001b[0m\n\u001b[1;32m    147\u001b[0m         \u001b[0mgen_vs_hof\u001b[0m \u001b[0;34m=\u001b[0m \u001b[0;34m[\u001b[0m\u001b[0;34m]\u001b[0m\u001b[0;34m\u001b[0m\u001b[0m\n",
      "\u001b[0;32m/home/jovyan/BluePyOpt/bluepyopt/deapext/algorithms.py\u001b[0m in \u001b[0;36m_evaluate_invalid_fitness\u001b[0;34m(toolbox, population)\u001b[0m\n\u001b[1;32m     48\u001b[0m     \u001b[0;31m#print(invalid_ind)\u001b[0m\u001b[0;34m\u001b[0m\u001b[0;34m\u001b[0m\u001b[0m\n\u001b[1;32m     49\u001b[0m     \u001b[0;31m#import pdb; pdb.set_trace()\u001b[0m\u001b[0;34m\u001b[0m\u001b[0;34m\u001b[0m\u001b[0m\n\u001b[0;32m---> 50\u001b[0;31m     \u001b[0minvalid_pop\u001b[0m\u001b[0;34m,\u001b[0m\u001b[0mfitnesses\u001b[0m \u001b[0;34m=\u001b[0m \u001b[0mtoolbox\u001b[0m\u001b[0;34m.\u001b[0m\u001b[0mevaluate\u001b[0m\u001b[0;34m(\u001b[0m\u001b[0minvalid_ind\u001b[0m\u001b[0;34m)\u001b[0m\u001b[0;34m\u001b[0m\u001b[0m\n\u001b[0m\u001b[1;32m     51\u001b[0m     \u001b[0;32mfor\u001b[0m \u001b[0mind\u001b[0m\u001b[0;34m,\u001b[0m \u001b[0mfit\u001b[0m \u001b[0;32min\u001b[0m \u001b[0mzip\u001b[0m\u001b[0;34m(\u001b[0m\u001b[0minvalid_pop\u001b[0m\u001b[0;34m,\u001b[0m\u001b[0mfitnesses\u001b[0m\u001b[0;34m)\u001b[0m\u001b[0;34m:\u001b[0m\u001b[0;34m\u001b[0m\u001b[0m\n\u001b[1;32m     52\u001b[0m         \u001b[0mind\u001b[0m\u001b[0;34m.\u001b[0m\u001b[0mfitness\u001b[0m\u001b[0;34m.\u001b[0m\u001b[0mvalues\u001b[0m \u001b[0;34m=\u001b[0m \u001b[0mfit\u001b[0m\u001b[0;34m\u001b[0m\u001b[0m\n",
      "\u001b[0;32m/home/jovyan/BluePyOpt/bluepyopt/deapext/optimisations.py\u001b[0m in \u001b[0;36mcustom_code\u001b[0;34m(invalid_ind)\u001b[0m\n\u001b[1;32m    260\u001b[0m                 \u001b[0mself\u001b[0m\u001b[0;34m.\u001b[0m\u001b[0mbackend\u001b[0m \u001b[0;34m=\u001b[0m \u001b[0;34m'RAW'\u001b[0m\u001b[0;34m\u001b[0m\u001b[0m\n\u001b[1;32m    261\u001b[0m             \u001b[0mprint\u001b[0m\u001b[0;34m(\u001b[0m\u001b[0minvalid_ind\u001b[0m\u001b[0;34m[\u001b[0m\u001b[0;36m0\u001b[0m\u001b[0;34m]\u001b[0m\u001b[0;34m,\u001b[0m\u001b[0mself\u001b[0m\u001b[0;34m.\u001b[0m\u001b[0mtd\u001b[0m\u001b[0;34m)\u001b[0m\u001b[0;34m\u001b[0m\u001b[0m\n\u001b[0;32m--> 262\u001b[0;31m             \u001b[0minvalid_pop\u001b[0m \u001b[0;34m=\u001b[0m \u001b[0mlist\u001b[0m\u001b[0;34m(\u001b[0m\u001b[0mom\u001b[0m\u001b[0;34m.\u001b[0m\u001b[0mupdate_deap_pop\u001b[0m\u001b[0;34m(\u001b[0m\u001b[0minvalid_ind\u001b[0m\u001b[0;34m,\u001b[0m \u001b[0mself\u001b[0m\u001b[0;34m.\u001b[0m\u001b[0merror_criterion\u001b[0m\u001b[0;34m,\u001b[0m \u001b[0mtd\u001b[0m \u001b[0;34m=\u001b[0m \u001b[0mself\u001b[0m\u001b[0;34m.\u001b[0m\u001b[0mtd\u001b[0m\u001b[0;34m,\u001b[0m \u001b[0mbackend\u001b[0m \u001b[0;34m=\u001b[0m \u001b[0mself\u001b[0m\u001b[0;34m.\u001b[0m\u001b[0mbackend\u001b[0m\u001b[0;34m)\u001b[0m\u001b[0;34m)\u001b[0m\u001b[0;34m\u001b[0m\u001b[0m\n\u001b[0m\u001b[1;32m    263\u001b[0m             \u001b[0;32massert\u001b[0m \u001b[0mlen\u001b[0m\u001b[0;34m(\u001b[0m\u001b[0minvalid_pop\u001b[0m\u001b[0;34m)\u001b[0m \u001b[0;34m!=\u001b[0m \u001b[0;36m0\u001b[0m\u001b[0;34m\u001b[0m\u001b[0m\n\u001b[1;32m    264\u001b[0m             \u001b[0minvalid_dtc\u001b[0m \u001b[0;34m=\u001b[0m \u001b[0;34m[\u001b[0m \u001b[0mi\u001b[0m\u001b[0;34m.\u001b[0m\u001b[0mdtc\u001b[0m \u001b[0;32mfor\u001b[0m \u001b[0mi\u001b[0m \u001b[0;32min\u001b[0m \u001b[0minvalid_pop\u001b[0m \u001b[0;32mif\u001b[0m \u001b[0mhasattr\u001b[0m\u001b[0;34m(\u001b[0m\u001b[0mi\u001b[0m\u001b[0;34m,\u001b[0m\u001b[0;34m'dtc'\u001b[0m\u001b[0;34m)\u001b[0m \u001b[0;34m]\u001b[0m\u001b[0;34m\u001b[0m\u001b[0m\n",
      "\u001b[0;32m/home/jovyan/neuronunit/neuronunit/optimization/optimization_management.py\u001b[0m in \u001b[0;36mupdate_deap_pop\u001b[0;34m(pop, tests, td, backend)\u001b[0m\n\u001b[1;32m    556\u001b[0m     \u001b[0mpop\u001b[0m \u001b[0;34m=\u001b[0m \u001b[0mcopy\u001b[0m\u001b[0;34m.\u001b[0m\u001b[0mcopy\u001b[0m\u001b[0;34m(\u001b[0m\u001b[0mpop\u001b[0m\u001b[0;34m)\u001b[0m\u001b[0;34m\u001b[0m\u001b[0m\n\u001b[1;32m    557\u001b[0m     \u001b[0mprint\u001b[0m\u001b[0;34m(\u001b[0m\u001b[0;34m'not even to test runner getting'\u001b[0m\u001b[0;34m)\u001b[0m\u001b[0;34m\u001b[0m\u001b[0m\n\u001b[0;32m--> 558\u001b[0;31m     \u001b[0mpop\u001b[0m\u001b[0;34m,\u001b[0m \u001b[0mdtcpop\u001b[0m \u001b[0;34m=\u001b[0m \u001b[0mtest_runner\u001b[0m\u001b[0;34m(\u001b[0m\u001b[0mpop\u001b[0m\u001b[0;34m,\u001b[0m\u001b[0mtd\u001b[0m\u001b[0;34m,\u001b[0m\u001b[0mtests\u001b[0m\u001b[0;34m)\u001b[0m\u001b[0;34m\u001b[0m\u001b[0m\n\u001b[0m\u001b[1;32m    559\u001b[0m     \u001b[0;32mfor\u001b[0m \u001b[0mp\u001b[0m\u001b[0;34m,\u001b[0m\u001b[0md\u001b[0m \u001b[0;32min\u001b[0m \u001b[0mzip\u001b[0m\u001b[0;34m(\u001b[0m\u001b[0mpop\u001b[0m\u001b[0;34m,\u001b[0m\u001b[0mdtcpop\u001b[0m\u001b[0;34m)\u001b[0m\u001b[0;34m:\u001b[0m\u001b[0;34m\u001b[0m\u001b[0m\n\u001b[1;32m    560\u001b[0m         \u001b[0mp\u001b[0m\u001b[0;34m.\u001b[0m\u001b[0mdtc\u001b[0m \u001b[0;34m=\u001b[0m \u001b[0md\u001b[0m\u001b[0;34m\u001b[0m\u001b[0m\n",
      "\u001b[0;32m/home/jovyan/neuronunit/neuronunit/optimization/optimization_management.py\u001b[0m in \u001b[0;36mtest_runner\u001b[0;34m(pop, td, tests)\u001b[0m\n\u001b[1;32m    515\u001b[0m     \u001b[0mprint\u001b[0m\u001b[0;34m(\u001b[0m\u001b[0mpop\u001b[0m\u001b[0;34m,\u001b[0m\u001b[0mtd\u001b[0m\u001b[0;34m,\u001b[0m\u001b[0mtests\u001b[0m\u001b[0;34m[\u001b[0m\u001b[0;36m0\u001b[0m\u001b[0;34m]\u001b[0m\u001b[0;34m)\u001b[0m\u001b[0;34m\u001b[0m\u001b[0m\n\u001b[1;32m    516\u001b[0m     \u001b[0;32mimport\u001b[0m \u001b[0mpdb\u001b[0m\u001b[0;34m;\u001b[0m \u001b[0mpdb\u001b[0m\u001b[0;34m.\u001b[0m\u001b[0mset_trace\u001b[0m\u001b[0;34m(\u001b[0m\u001b[0;34m)\u001b[0m\u001b[0;34m\u001b[0m\u001b[0m\n\u001b[0;32m--> 517\u001b[0;31m     \u001b[0mpop\u001b[0m\u001b[0;34m,\u001b[0m \u001b[0mdtcpop\u001b[0m \u001b[0;34m=\u001b[0m \u001b[0mrheobase_old\u001b[0m\u001b[0;34m(\u001b[0m\u001b[0mpop\u001b[0m\u001b[0;34m,\u001b[0m \u001b[0mtd\u001b[0m\u001b[0;34m,\u001b[0m \u001b[0mtests\u001b[0m\u001b[0;34m[\u001b[0m\u001b[0;36m0\u001b[0m\u001b[0;34m]\u001b[0m\u001b[0;34m)\u001b[0m\u001b[0;34m\u001b[0m\u001b[0m\n\u001b[0m\u001b[1;32m    518\u001b[0m     \u001b[0;32mimport\u001b[0m \u001b[0mpdb\u001b[0m\u001b[0;34m;\u001b[0m \u001b[0mpdb\u001b[0m\u001b[0;34m.\u001b[0m\u001b[0mset_trace\u001b[0m\u001b[0;34m(\u001b[0m\u001b[0;34m)\u001b[0m\u001b[0;34m\u001b[0m\u001b[0m\n\u001b[1;32m    519\u001b[0m \u001b[0;34m\u001b[0m\u001b[0m\n",
      "\u001b[0;32m/home/jovyan/neuronunit/neuronunit/optimization/optimization_management.py\u001b[0m in \u001b[0;36mrheobase_old\u001b[0;34m(pop, td, rt)\u001b[0m\n\u001b[1;32m    395\u001b[0m         \u001b[0mprint\u001b[0m\u001b[0;34m(\u001b[0m\u001b[0mxargs\u001b[0m\u001b[0;34m)\u001b[0m\u001b[0;34m\u001b[0m\u001b[0m\n\u001b[1;32m    396\u001b[0m         \u001b[0;32mimport\u001b[0m \u001b[0mpdb\u001b[0m\u001b[0;34m;\u001b[0m \u001b[0mpdb\u001b[0m\u001b[0;34m.\u001b[0m\u001b[0mset_trace\u001b[0m\u001b[0;34m(\u001b[0m\u001b[0;34m)\u001b[0m\u001b[0;34m\u001b[0m\u001b[0m\n\u001b[0;32m--> 397\u001b[0;31m         \u001b[0mdtcpop\u001b[0m \u001b[0;34m=\u001b[0m \u001b[0mlist\u001b[0m\u001b[0;34m(\u001b[0m\u001b[0mmap\u001b[0m\u001b[0;34m(\u001b[0m\u001b[0mdtc_to_rheo\u001b[0m\u001b[0;34m,\u001b[0m\u001b[0mxargs\u001b[0m\u001b[0;34m)\u001b[0m\u001b[0;34m)\u001b[0m\u001b[0;34m\u001b[0m\u001b[0m\n\u001b[0m\u001b[1;32m    398\u001b[0m         \u001b[0;32mfor\u001b[0m \u001b[0mind\u001b[0m\u001b[0;34m,\u001b[0m\u001b[0md\u001b[0m \u001b[0;32min\u001b[0m \u001b[0mzip\u001b[0m\u001b[0;34m(\u001b[0m\u001b[0mpop\u001b[0m\u001b[0;34m,\u001b[0m\u001b[0mdtcpop\u001b[0m\u001b[0;34m)\u001b[0m\u001b[0;34m:\u001b[0m\u001b[0;34m\u001b[0m\u001b[0m\n\u001b[1;32m    399\u001b[0m             \u001b[0mind\u001b[0m\u001b[0;34m.\u001b[0m\u001b[0mrheobase\u001b[0m \u001b[0;34m=\u001b[0m \u001b[0md\u001b[0m\u001b[0;34m.\u001b[0m\u001b[0mrheobase\u001b[0m\u001b[0;34m\u001b[0m\u001b[0m\n",
      "\u001b[0;32m/home/jovyan/neuronunit/neuronunit/optimization/optimization_management.py\u001b[0m in \u001b[0;36mdtc_to_rheo\u001b[0;34m(xargs)\u001b[0m\n\u001b[1;32m    159\u001b[0m     \u001b[0mdtc\u001b[0m\u001b[0;34m.\u001b[0m\u001b[0mscore\u001b[0m \u001b[0;34m=\u001b[0m \u001b[0;34m{\u001b[0m\u001b[0;34m}\u001b[0m\u001b[0;34m\u001b[0m\u001b[0m\n\u001b[1;32m    160\u001b[0m     \u001b[0mprint\u001b[0m\u001b[0;34m(\u001b[0m\u001b[0mdtc\u001b[0m\u001b[0;34m.\u001b[0m\u001b[0mattrs\u001b[0m\u001b[0;34m,\u001b[0m\u001b[0;34m'rtest'\u001b[0m\u001b[0;34m,\u001b[0m \u001b[0mrtest\u001b[0m\u001b[0;34m,\u001b[0m\u001b[0;34m'failed on'\u001b[0m\u001b[0;34m)\u001b[0m\u001b[0;34m\u001b[0m\u001b[0m\n\u001b[0;32m--> 161\u001b[0;31m     \u001b[0mscore\u001b[0m\u001b[0;34m,\u001b[0m \u001b[0mpred\u001b[0m \u001b[0;34m=\u001b[0m \u001b[0mhack_judge\u001b[0m\u001b[0;34m(\u001b[0m\u001b[0;34m(\u001b[0m\u001b[0mrtest\u001b[0m\u001b[0;34m,\u001b[0m\u001b[0mdtc\u001b[0m\u001b[0;34m.\u001b[0m\u001b[0mattrs\u001b[0m\u001b[0;34m)\u001b[0m\u001b[0;34m)\u001b[0m\u001b[0;34m\u001b[0m\u001b[0m\n\u001b[0m\u001b[1;32m    162\u001b[0m     \u001b[0mprint\u001b[0m\u001b[0;34m(\u001b[0m\u001b[0mscore\u001b[0m\u001b[0;34m)\u001b[0m\u001b[0;34m\u001b[0m\u001b[0m\n\u001b[1;32m    163\u001b[0m     \u001b[0mdtc\u001b[0m\u001b[0;34m.\u001b[0m\u001b[0mrheobase\u001b[0m \u001b[0;34m=\u001b[0m \u001b[0mpred\u001b[0m\u001b[0;34m\u001b[0m\u001b[0m\n",
      "\u001b[0;31mTypeError\u001b[0m: 'ZScore' object is not iterable"
     ]
    }
   ],
   "source": [
    "from neuronunit.optimization import optimization_management as om\n",
    "free_params = ['a','b','vr','k']\n",
    "hc = {}\n",
    "for k,v in cells['TC'].items():\n",
    "    if k not in free_params:\n",
    "        hc[k] = v\n",
    "print(hc)\n",
    "import pickle\n",
    "TC_tests = pickle.load(open('thalamo_cortical_tests.p','rb'))    \n",
    "ga_out, DO = om.run_ga(explore_param,3,TC_tests,free_params=free_params,hc = hc)\n"
   ]
  },
  {
   "cell_type": "code",
   "execution_count": null,
   "metadata": {
    "collapsed": false
   },
   "outputs": [],
   "source": [
    "\n"
   ]
  },
  {
   "cell_type": "code",
   "execution_count": null,
   "metadata": {
    "collapsed": false
   },
   "outputs": [],
   "source": [
    "\n",
    "\n",
    "def format_iparams(all_tests,rheobase):\n",
    "\n",
    "    for t in all_tests[1:5]:\n",
    "        DURATION = 500.0*pq.ms\n",
    "        DELAY = 200.0*pq.ms\n",
    "\n",
    "        obs = t.observation\n",
    "        t.params = {}\n",
    "        t.params['injected_square_current'] = {}\n",
    "        t.params['injected_square_current']['delay']= DELAY\n",
    "        t.params['injected_square_current']['duration'] = DURATION\n",
    "        t.tdparams['injected_square_current']['amplitude'] = -10*pq.pA\n",
    "        \n",
    "        \n",
    "    for t in all_tests[-3::]:    \n",
    "        t.params = {}\n",
    "        DURATION = 1000.0*pq.ms\n",
    "        DELAY = 100.0*pq.ms\n",
    "\n",
    "        t.params['injected_square_current'] = {}\n",
    "        t.params['injected_square_current']['delay']= DELAY\n",
    "        t.params['injected_square_current']['duration'] = DURATION\n",
    "        t.params['injected_square_current']['amplitude'] = rheobase['value']\n",
    "    \n",
    "    all_tests[0].params = all_tests[-1].params\n",
    "    \n",
    "    return all_tests\n",
    "\n",
    "pt = format_iparams(all_tests,rheobase)\n",
    "print([t.params['injected_square_current']['amplitude'] for t in pt[-3::] ])\n",
    "print([t.params['injected_square_current']['amplitude'] for t in pt[0:5] ])\n",
    "\n"
   ]
  },
  {
   "cell_type": "markdown",
   "metadata": {},
   "source": [
    "##\n",
    "# * Get predictions from models.\n",
    "## * Fake NeuroElectro Observations\n",
    "## * Do roundtrip testing\n",
    "##"
   ]
  },
  {
   "cell_type": "code",
   "execution_count": null,
   "metadata": {
    "collapsed": false
   },
   "outputs": [],
   "source": [
    "predictions = []\n",
    "import dask.bag as db\n",
    "# The rheobase has been obtained seperately and cannot be db mapped.\n",
    "# Nested DB mappings dont work.\n",
    "ptbag = db.from_sequence(pt[0::])\n",
    "\n",
    "def obtain_predictions(t):    \n",
    "    model = None\n",
    "    model = ReducedModel(LEMS_MODEL_PATH,name = str('vanilla'),backend = ('RAW'))\n",
    "    model.set_attrs(cells['TC'])\n",
    "    return t.generate_prediction(model)\n",
    "predictions = list(ptbag.map(obtain_predictions).compute())\n",
    "predictions.insert(0,rheobase)\n",
    "print(predictions)    \n"
   ]
  },
  {
   "cell_type": "code",
   "execution_count": null,
   "metadata": {
    "collapsed": false
   },
   "outputs": [],
   "source": [
    "# having both means and values in dictionary makes it very irritating to iterate over.\n",
    "# It's more harmless to demote means to values, than to elevate values to means.\n",
    "# Simply swap key names: means, for values.\n",
    "for p in predictions:\n",
    "    if 'mean' in p.keys():\n",
    "        p['value'] = p.pop('mean')\n",
    "print(predictions)\n"
   ]
  },
  {
   "cell_type": "code",
   "execution_count": null,
   "metadata": {
    "collapsed": false
   },
   "outputs": [],
   "source": [
    "# make some new tests based on internally generated data \n",
    "# as opposed to experimental data.\n",
    "\n",
    "\n",
    "TC_tests = copy.copy(all_tests)\n",
    "for ind,t in enumerate(TC_tests):\n",
    "    if 'mean' in t.observation.keys():\n",
    "        t.observation['value'] = t.observation.pop('mean')\n",
    "    pred =  predictions[ind]['value']\n",
    "    try:\n",
    "        pred = pred.rescale(t.units)\n",
    "        t.observation['value'] = pred\n",
    "    except:        \n",
    "        t.observation['value'] = pred\n",
    "    t.observation['mean'] = t.observation['value']\n",
    "        \n",
    "    print(t.observation['value'])\n",
    "    \n",
    "pickle.dump(TC_tests,open('thalamo_cortical_tests.p','wb'))    \n",
    "    \n",
    "\n",
    "\n"
   ]
  },
  {
   "cell_type": "code",
   "execution_count": null,
   "metadata": {
    "collapsed": false
   },
   "outputs": [],
   "source": []
  },
  {
   "cell_type": "code",
   "execution_count": null,
   "metadata": {
    "collapsed": false
   },
   "outputs": [],
   "source": [
    "def hack_judge(test_and_models):\n",
    "    (test, attrs) = test_and_models\n",
    "    model = None\n",
    "    obs = test.observation\n",
    "    model = ReducedModel(LEMS_MODEL_PATH,name = str('vanilla'),backend = ('RAW'))\n",
    "    model.set_attrs(attrs)\n",
    "    test.generate_prediction(model)\n",
    "    pred = test.generate_prediction(model)\n",
    "    score = test.compute_score(obs,pred)\n",
    "    try:\n",
    "        print(obs['value'],pred['value'])\n",
    "    except:\n",
    "        print(obs['mean'],pred['mean'])\n",
    "        \n",
    "    return score\n",
    "\n",
    "scores = []\n",
    "for i,t in enumerate(TC_tests):\n",
    "    test_and_models = (t,cells['TC'])\n",
    "    score = hack_judge(test_and_models)\n",
    "    scores.append(score)\n",
    "print(scores[0].sort_key)    \n",
    "print(scores[0])    \n",
    "\n"
   ]
  },
  {
   "cell_type": "code",
   "execution_count": null,
   "metadata": {
    "collapsed": false
   },
   "outputs": [],
   "source": [
    "print([s.sort_key for s in scores])\n",
    "print([s.score for s in scores])\n",
    "\n",
    "score = hack_judge((TC_tests[-3],cells['TC']))\n",
    "print(score)"
   ]
  },
  {
   "cell_type": "code",
   "execution_count": null,
   "metadata": {
    "collapsed": false
   },
   "outputs": [],
   "source": [
    "scores = []\n",
    "for t in TC_tests:\n",
    "    test_and_models = (t,cells['RS'])\n",
    "    score = hack_judge(test_and_models)\n",
    "    scores.append(score)\n",
    "print(scores[0].sort_key)    \n",
    "print(scores[0])\n",
    "print([s.sort_key for s in scores])\n"
   ]
  },
  {
   "cell_type": "code",
   "execution_count": null,
   "metadata": {
    "collapsed": false
   },
   "outputs": [],
   "source": [
    "import dask.bag as db\n",
    "# The rheobase has been obtained seperately and cannot be db mapped.\n",
    "# Nested DB mappings dont work.\n",
    "from itertools import repeat\n",
    "test_a_models = zip(TC_tests[1::],repeat(cells['RS']))\n",
    "tc_bag = db.from_sequence(test_a_models)\n",
    "\n",
    "scores = list(tc_bag.map(hack_judge).compute())\n",
    "scores.insert(0,rheobase)\n",
    "print(scores)    "
   ]
  },
  {
   "cell_type": "code",
   "execution_count": null,
   "metadata": {
    "collapsed": false
   },
   "outputs": [],
   "source": [
    "score = TC_tests[0].judge(model,stop_on_error = False, deep_error = True)\n",
    "print(score.prediction)\n",
    "#print(model.get_spike_count())"
   ]
  },
  {
   "cell_type": "code",
   "execution_count": null,
   "metadata": {
    "collapsed": false
   },
   "outputs": [],
   "source": [
    "from neuronunit.optimization import optimization_management as opt\n",
    "from neuronunit.models import ReducedModel"
   ]
  },
  {
   "cell_type": "code",
   "execution_count": null,
   "metadata": {
    "collapsed": false
   },
   "outputs": [],
   "source": [
    "\n",
    "cnt = 0\n",
    "scores = []\n",
    "tests_,all_tests, observation,suite = opt.get_neab.get_tests()\n",
    "passive  = [ str('RestingPotentialTest'), str('CapacitanceTest'), str('TimeConstantTest'), str('InputResistanceTest') ]\n",
    "firing_tests =  [ t for t in all_tests if str(t) not in passive ]\n",
    "first_two = all_tests[0:2]\n",
    "print(first_two)\n",
    "\n",
    "for t in all_tests:\n",
    "    score = t.judge(model,stop_on_error = False, deep_error = True)\n",
    "    scores.append(score)\n",
    "    print(score)\n",
    "    print('score {0}'.format(score))\n",
    "    if str('mean') in score.prediction.keys():\n",
    "        print('observation {0}, prediction {1}'.format(t.observation['mean'],score.prediction['mean']))\n",
    "    if str('value') in score.prediction.keys():\n",
    "        print('observation {0}, prediction {1}'.format(t.observation['mean'],score.prediction['value']))\n",
    "    cnt+=1\n",
    "#http://www.physics"
   ]
  },
  {
   "cell_type": "raw",
   "metadata": {
    "collapsed": true
   },
   "source": []
  }
 ],
 "metadata": {
  "kernelspec": {
   "display_name": "Python 3",
   "language": "python",
   "name": "python3"
  },
  "language_info": {
   "codemirror_mode": {
    "name": "ipython",
    "version": 3
   },
   "file_extension": ".py",
   "mimetype": "text/x-python",
   "name": "python",
   "nbconvert_exporter": "python",
   "pygments_lexer": "ipython3",
   "version": "3.5.2"
  }
 },
 "nbformat": 4,
 "nbformat_minor": 2
}
