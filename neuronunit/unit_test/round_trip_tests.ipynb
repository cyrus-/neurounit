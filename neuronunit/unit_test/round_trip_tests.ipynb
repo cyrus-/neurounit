{
 "cells": [
  {
   "cell_type": "code",
   "execution_count": 1,
   "metadata": {
    "collapsed": false
   },
   "outputs": [
    {
     "name": "stdout",
     "output_type": "stream",
     "text": [
      "OrderedDict([('RS', {'k': 0.7, 'b': -2, 'vt': -40, 'vr': -60, 'd': 100, 'C': 100, 'c': -50, 'a': 0.03, 'vPeak': 35}), ('IB', {'k': 1.2, 'b': 5, 'vt': -45, 'vr': -75, 'd': 130, 'C': 150, 'c': -56, 'a': 0.01, 'vPeak': 50}), ('LTS', {'k': 1.0, 'b': 8, 'vt': -42, 'vr': -56, 'd': 20, 'C': 100, 'c': -53, 'a': 0.03, 'vPeak': 40}), ('TC', {'k': 1.6, 'b': 15, 'vt': -50, 'vr': -60, 'd': 10, 'C': 200, 'c': -60, 'a': 0.01, 'vPeak': 35}), ('TC_burst', {'k': 1.6, 'b': 15, 'vt': -50, 'vr': -60, 'd': 10, 'C': 200, 'c': -60, 'a': 0.01, 'vPeak': 35})])\n"
     ]
    }
   ],
   "source": [
    "# http://www.physics.usyd.edu.au/teach_res/mp/mscripts/\n",
    "# ns_izh002.m\n",
    "import collections\n",
    "from collections import OrderedDict\n",
    "\n",
    "# Fast spiking cannot be reproduced as it requires modifications to the standard Izhi equation,\n",
    "# which are expressed in this mod file.\n",
    "# https://github.com/OpenSourceBrain/IzhikevichModel/blob/master/NEURON/izhi2007b.mod\n",
    "\n",
    "\n",
    "reduced2007 = collections.OrderedDict([\n",
    "  #              C    k     vr  vt vpeak   a      b   c    d  celltype\n",
    "  ('RS',        (100, 0.7,  -60, -40, 35, 0.03,   -2, -50,  100,  1)),\n",
    "  ('IB',        (150, 1.2,  -75, -45, 50, 0.01,   5, -56,  130,   2)),\n",
    "  ('LTS',       (100, 1.0,  -56, -42, 40, 0.03,   8, -53,   20,   4)),\n",
    "  ('TC',        (200, 1.6,  -60, -50, 35, 0.01,  15, -60,   10,   6)),\n",
    "  ('TC_burst',  (200, 1.6,  -60, -50, 35, 0.01,  15, -60,   10,   6))])\n",
    "\n",
    "\n",
    "type2007 = collections.OrderedDict([\n",
    "  #              C    k     vr  vt vpeak   a      b   c    d  celltype\n",
    "  ('RS',        (100, 0.7,  -60, -40, 35, 0.03,   -2, -50,  100,  1)),\n",
    "  ('IB',        (150, 1.2,  -75, -45, 50, 0.01,   5, -56,  130,   2)),\n",
    "  ('LTS',       (100, 1.0,  -56, -42, 40, 0.03,   8, -53,   20,   4)),\n",
    "  ('TC',        (200, 1.6,  -60, -50, 35, 0.01,  15, -60,   10,   6)),\n",
    "  ('TC_burst',  (200, 1.6,  -60, -50, 35, 0.01,  15, -60,   10,   6)),\n",
    "  ('RTN',       (40,  0.25, -65, -45,  0, 0.015, 10, -55,   50,   7)),\n",
    "  ('RTN_burst', (40,  0.25, -65, -45,  0, 0.015, 10, -55,   50,   7)),\n",
    "  ('CH',        (50,  1.5,  -60, -40, 25, 0.03,   1, -40,  150,   3)),\n",
    "  ('FS',        (20,  1.0,  -55, -40, 25, 0.2,   -2, -45,  -55,   5))])\n",
    "\n",
    "import numpy as np\n",
    "reduced_dict = OrderedDict([(k,[]) for k in ['C','k','vr','vt','vPeak','a','b','c','d']])\n",
    "\n",
    "#param_dict = OrderedDict([(k,[]) for k in ['C','k','vr','vt','vPeak','a','b','c','d']])\n",
    "#OrderedDict\n",
    "for i,k in enumerate(reduced_dict.keys()):\n",
    "    for v in type2007.values():\n",
    "        reduced_dict[k].append(v[i])\n",
    "\n",
    "explore_param = {k:(np.min(v),np.max(v)) for k,v in reduced_dict.items()}\n",
    "param_ranges = OrderedDict(explore_param)\n",
    "\n",
    "\n",
    "#IB = mparams[param_dict['IB']]\n",
    "RS = {}\n",
    "IB = {}\n",
    "TC = {}\n",
    "CH = {}\n",
    "RTN_burst = {}\n",
    "cells = OrderedDict([(k,[]) for k in ['RS','IB','CH','LTS','FS','TC','TC_burst','RTN','RTN_busrt']])\n",
    "reduced_cells = OrderedDict([(k,[]) for k in ['RS','IB','LTS','TC','TC_burst']])\n",
    "\n",
    "for index,key in enumerate(reduced_cells.keys()):\n",
    "    reduced_cells[key] = {}\n",
    "    for k,v in reduced_dict.items():\n",
    "        reduced_cells[key][k] = v[index]\n",
    "\n",
    "print(reduced_cells)\n",
    "cells = reduced_cells"
   ]
  },
  {
   "cell_type": "code",
   "execution_count": 2,
   "metadata": {
    "collapsed": false
   },
   "outputs": [
    {
     "name": "stdout",
     "output_type": "stream",
     "text": [
      "{'k': 1.6, 'b': 15, 'vt': -50, 'vr': -60, 'd': 10, 'C': 200, 'c': -60, 'a': 0.01, 'vPeak': 35}\n",
      "200.0\n",
      "1.5707957651346172\n",
      "<built-in method area of nrn.Segment object at 0x7fa4cb775788>\n",
      "500.0\n"
     ]
    }
   ],
   "source": [
    "model = None\n",
    "from neuronunit.models.reduced import ReducedModel\n",
    "from neuronunit.optimization import get_neab\n",
    "\n",
    "from neuronunit.optimization.model_parameters import model_params, path_params\n",
    "LEMS_MODEL_PATH = path_params['model_path']\n",
    "model = ReducedModel(LEMS_MODEL_PATH,name = str('vanilla'),backend = ('NEURON'))\n",
    "print(cells['TC'])\n",
    "model.set_attrs(cells['TC'])\n",
    "#dir(model._backend)\n",
    "dir(model._backend.h)\n",
    "#loc = \n",
    "#for sec in \n",
    "dir(model._backend.h.m_RS_RS_pop[0])#:\n",
    "\n",
    "for sec in model._backend.h.m_RS_RS_pop[0].Section(0.5):\n",
    "    sec.cm = (50/31.831)\n",
    "    print(sec.cm)\n",
    "    print(sec.area)\n",
    "    print(sec.diam)\n",
    "\n",
    "sec = model._backend.h.Section(model._backend.h.m_RS_RS_pop[0])    \n",
    "sec.L, sec.diam = 6.3, 5 \n",
    "\n",
    "model = ReducedModel(LEMS_MODEL_PATH,name = str('vanilla'),backend = ('RAW'))\n",
    "model.set_attrs(cells['TC'])\n",
    "\n"
   ]
  },
  {
   "cell_type": "code",
   "execution_count": 3,
   "metadata": {
    "collapsed": false
   },
   "outputs": [
    {
     "name": "stdout",
     "output_type": "stream",
     "text": [
      "{'k': 1.6, 'd': 10, 'vt': -50, 'b': 15, 'vr': -60, 'C': 200, 'c': -60, 'a': 0.01, 'vPeak': 35} failed on\n",
      "Try 1: SubMax = 42.5; SupraMin = 84.0\n",
      "{'k': 1.6, 'd': 10, 'vt': -50, 'b': 15, 'vr': -60, 'C': 200, 'c': -60, 'a': 0.01, 'vPeak': 35} failed on\n",
      "Try 2: SubMax = 67.4; SupraMin = 84.0\n",
      "{'k': 1.6, 'd': 10, 'vt': -50, 'b': 15, 'vr': -60, 'C': 200, 'c': -60, 'a': 0.01, 'vPeak': 35} failed on\n",
      "Try 3: SubMax = 74.0; SupraMin = 77.4\n",
      "Try 4: SubMax = 74.7; SupraMin = 75.4\n",
      "{'value': array(75.36800000000001) * pA}\n"
     ]
    }
   ],
   "source": [
    "\n",
    "tests_,all_tests, observation,suite = get_neab.get_tests()\n",
    "\n",
    "rheobase = all_tests[0].generate_prediction(model)\n",
    "print(rheobase)"
   ]
  },
  {
   "cell_type": "code",
   "execution_count": 4,
   "metadata": {
    "collapsed": false
   },
   "outputs": [
    {
     "data": {
      "image/png": "[encoded data removed]",
      "text/plain": [
       "<matplotlib.figure.Figure at 0x7fa4c82485f8>"
      ]
     },
     "metadata": {},
     "output_type": "display_data"
    }
   ],
   "source": [
    "\n",
    "\n",
    "import pickle\n",
    "import copy\n",
    "import numpy as np\n",
    "import pandas as pd\n",
    "import matplotlib.pyplot as plt\n",
    "\n",
    "from neuronunit.models.reduced import ReducedModel\n",
    "from neuronunit.optimization.model_parameters import model_params, path_params\n",
    "LEMS_MODEL_PATH = path_params['model_path']\n",
    "import neuronunit.optimization as opt\n",
    "import quantities as pq\n",
    "\n",
    "from neuronunit.optimization.data_transport_container import DataTC\n",
    "model = ReducedModel(LEMS_MODEL_PATH,name = str('vanilla'),backend = ('RAW'))\n",
    "model.set_attrs(cells['TC'])\n",
    "\n",
    "iparams = {}\n",
    "iparams['injected_square_current'] = {}\n",
    "iparams['injected_square_current']['amplitude'] =75.36800000000001*pq.pA\n",
    "#['amplitude']  = dtc.vtest[k]['injected_square_current']['amplitude']\n",
    "DELAY = 100.0*pq.ms\n",
    "DURATION = 1000.0*pq.ms\n",
    "iparams['injected_square_current']['delay'] = DELAY\n",
    "iparams['injected_square_current']['duration'] = int(DURATION)\n",
    "\n",
    "model.inject_square_current(iparams)\n",
    "\n",
    "plt.plot(model.get_membrane_potential().times,model.get_membrane_potential(),label='RAW')\n",
    "plt.legend()\n",
    "plt.show()\n"
   ]
  },
  {
   "cell_type": "code",
   "execution_count": null,
   "metadata": {
    "collapsed": false
   },
   "outputs": [
    {
     "name": "stdout",
     "output_type": "stream",
     "text": [
      "{'c': -60, 'd': 10, 'vt': -50, 'C': 200, 'vPeak': 35}\n",
      "{'b': (-2, 15), 'k': (0.25, 1.6000000000000001), 'vr': (-75, -55), 'a': (0.01, 0.20000000000000001)}\n",
      "[] []\n",
      "not even to test runner getting\n"
     ]
    },
    {
     "name": "stderr",
     "output_type": "stream",
     "text": [
      "/opt/conda/lib/python3.5/site-packages/sklearn/cross_validation.py:41: DeprecationWarning: This module was deprecated in version 0.18 in favor of the model_selection module into which all the refactored classes and functions are moved. Also note that the interface of the new CV iterators are different from that of this module. This module will be removed in 0.20.\n",
      "  \"This module will be removed in 0.20.\", DeprecationWarning)\n",
      "/opt/conda/lib/python3.5/site-packages/sklearn/grid_search.py:42: DeprecationWarning: This module was deprecated in version 0.18 in favor of the model_selection module into which all the refactored classes and functions are moved. This module will be removed in 0.20.\n",
      "  DeprecationWarning)\n"
     ]
    },
    {
     "name": "stdout",
     "output_type": "stream",
     "text": [
      "[<neuronunit.optimization.data_transport_container.DataTC object at 0x7fa4a44c60f0>, <neuronunit.optimization.data_transport_container.DataTC object at 0x7fa4a45552b0>, <neuronunit.optimization.data_transport_container.DataTC object at 0x7fa4a44c65f8>, <neuronunit.optimization.data_transport_container.DataTC object at 0x7fa4a45557b8>, <neuronunit.optimization.data_transport_container.DataTC object at 0x7fa4cbd8ef28>, <neuronunit.optimization.data_transport_container.DataTC object at 0x7fa4a4555470>, <neuronunit.optimization.data_transport_container.DataTC object at 0x7fa4a44c6dd8>, <neuronunit.optimization.data_transport_container.DataTC object at 0x7fa4a44c68d0>, <neuronunit.optimization.data_transport_container.DataTC object at 0x7fa4cbd8eac8>, <neuronunit.optimization.data_transport_container.DataTC object at 0x7fa4a4555198>, <neuronunit.optimization.data_transport_container.DataTC object at 0x7fa4a44c6630>, <neuronunit.optimization.data_transport_container.DataTC object at 0x7fa4a45550f0>, <neuronunit.optimization.data_transport_container.DataTC object at 0x7fa4a44c6b38>, <neuronunit.optimization.data_transport_container.DataTC object at 0x7fa4a44c6710>, <neuronunit.optimization.data_transport_container.DataTC object at 0x7fa4a44c6780>, <neuronunit.optimization.data_transport_container.DataTC object at 0x7fa4a44c65c0>]\n",
      "{'k': 0.25, 'd': 10, 'vt': -50, 'b': -2, 'vr': -75, 'C': 200, 'c': -60, 'a': 0.01, 'vPeak': 35} failed on\n",
      "Try 1: SubMax = 1.0; SupraMin = 42.5\n",
      "{'k': 0.25, 'd': 10, 'vt': -50, 'b': -2, 'vr': -75, 'C': 200, 'c': -60, 'a': 0.01, 'vPeak': 35} failed on\n",
      "Try 2: SubMax = 17.6; SupraMin = 25.9\n",
      "Try 3: SubMax = 20.9; SupraMin = 22.6\n",
      "{'k': 0.25, 'd': 10, 'vt': -50, 'b': -2, 'vr': -55, 'C': 200, 'c': -60, 'a': 0.01, 'vPeak': 35} failed on\n",
      "Try 1: SubMax = None; SupraMin = 1.0\n",
      "Try 2: SubMax = 0.0; SupraMin = 1.0\n",
      "{'k': 1.6000000000000001, 'd': 10, 'vt': -50, 'b': -2, 'vr': -75, 'C': 200, 'c': -60, 'a': 0.01, 'vPeak': 35} failed on\n",
      "Try 1: SubMax = 208.5; SupraMin = 250.0\n",
      "{'k': 1.6000000000000001, 'd': 10, 'vt': -50, 'b': -2, 'vr': -75, 'C': 200, 'c': -60, 'a': 0.01, 'vPeak': 35} failed on\n",
      "Try 2: SubMax = 225.1; SupraMin = 233.4\n",
      "Try 3: SubMax = 226.8; SupraMin = 228.4\n",
      "{'k': 1.6000000000000001, 'd': 10, 'vt': -50, 'b': -2, 'vr': -55, 'C': 200, 'c': -60, 'a': 0.01, 'vPeak': 35} failed on\n",
      "Try 1: SubMax = 1.0; SupraMin = 42.5\n",
      "{'k': 1.6000000000000001, 'd': 10, 'vt': -50, 'b': -2, 'vr': -55, 'C': 200, 'c': -60, 'a': 0.01, 'vPeak': 35} failed on\n",
      "Try 2: SubMax = 1.0; SupraMin = 9.3\n",
      "{'k': 1.6000000000000001, 'd': 10, 'vt': -50, 'b': -2, 'vr': -55, 'C': 200, 'c': -60, 'a': 0.01, 'vPeak': 35} failed on\n",
      "Try 3: SubMax = 6.0; SupraMin = 9.3\n",
      "Try 4: SubMax = 6.0; SupraMin = 6.6\n",
      "{'k': 0.25, 'd': 10, 'vt': -50, 'b': 15, 'vr': -75, 'C': 200, 'c': -60, 'a': 0.01, 'vPeak': 35} failed on\n",
      "Try 1: SubMax = 125.5; SupraMin = 167.0\n",
      "{'k': 0.25, 'd': 10, 'vt': -50, 'b': 15, 'vr': -75, 'C': 200, 'c': -60, 'a': 0.01, 'vPeak': 35} failed on\n",
      "Try 2: SubMax = 150.4; SupraMin = 167.0\n",
      "{'k': 0.25, 'd': 10, 'vt': -50, 'b': 15, 'vr': -75, 'C': 200, 'c': -60, 'a': 0.01, 'vPeak': 35} failed on\n",
      "Try 3: SubMax = 157.0; SupraMin = 160.4\n",
      "Try 4: SubMax = 159.0; SupraMin = 160.4\n",
      "{'k': 0.25, 'd': 10, 'vt': -50, 'b': 15, 'vr': -55, 'C': 200, 'c': -60, 'a': 0.01, 'vPeak': 35} failed on\n",
      "Try 1: SubMax = 42.5; SupraMin = 84.0\n",
      "{'k': 0.25, 'd': 10, 'vt': -50, 'b': 15, 'vr': -55, 'C': 200, 'c': -60, 'a': 0.01, 'vPeak': 35} failed on\n",
      "Try 2: SubMax = 59.1; SupraMin = 67.4\n",
      "Try 3: SubMax = 62.4; SupraMin = 64.1\n",
      "{'k': 1.6000000000000001, 'd': 10, 'vt': -50, 'b': 15, 'vr': -75, 'C': 200, 'c': -60, 'a': 0.01, 'vPeak': 35} failed on\n",
      "Try 1: SubMax = 250.0; SupraMin = None\n",
      "{'k': 1.6000000000000001, 'd': 10, 'vt': -50, 'b': 15, 'vr': -75, 'C': 200, 'c': -60, 'a': 0.01, 'vPeak': 35} failed on\n",
      "Try 2: SubMax = 291.7; SupraMin = 333.3\n",
      "{'k': 1.6000000000000001, 'd': 10, 'vt': -50, 'b': 15, 'vr': -75, 'C': 200, 'c': -60, 'a': 0.01, 'vPeak': 35} failed on\n",
      "Try 3: SubMax = 316.7; SupraMin = 333.3\n",
      "{'k': 1.6000000000000001, 'd': 10, 'vt': -50, 'b': 15, 'vr': -75, 'C': 200, 'c': -60, 'a': 0.01, 'vPeak': 35} failed on\n",
      "Try 4: SubMax = 316.7; SupraMin = 320.0\n",
      "Try 5: SubMax = 318.7; SupraMin = 320.0\n",
      "{'k': 1.6000000000000001, 'd': 10, 'vt': -50, 'b': 15, 'vr': -55, 'C': 200, 'c': -60, 'a': 0.01, 'vPeak': 35} failed on\n",
      "Try 1: SubMax = 1.0; SupraMin = 42.5\n",
      "{'k': 1.6000000000000001, 'd': 10, 'vt': -50, 'b': 15, 'vr': -55, 'C': 200, 'c': -60, 'a': 0.01, 'vPeak': 35} failed on\n",
      "Try 2: SubMax = 25.9; SupraMin = 42.5\n",
      "{'k': 1.6000000000000001, 'd': 10, 'vt': -50, 'b': 15, 'vr': -55, 'C': 200, 'c': -60, 'a': 0.01, 'vPeak': 35} failed on\n",
      "Try 3: SubMax = 29.2; SupraMin = 32.5\n",
      "Try 4: SubMax = 31.2; SupraMin = 32.5\n",
      "{'k': 0.25, 'd': 10, 'vt': -50, 'b': -2, 'vr': -75, 'C': 200, 'c': -60, 'a': 0.20000000000000001, 'vPeak': 35} failed on\n",
      "Try 1: SubMax = 1.0; SupraMin = 42.5\n",
      "{'k': 0.25, 'd': 10, 'vt': -50, 'b': -2, 'vr': -75, 'C': 200, 'c': -60, 'a': 0.20000000000000001, 'vPeak': 35} failed on\n",
      "Try 2: SubMax = 17.6; SupraMin = 25.9\n",
      "Try 3: SubMax = 19.3; SupraMin = 20.9\n",
      "{'k': 0.25, 'd': 10, 'vt': -50, 'b': -2, 'vr': -55, 'C': 200, 'c': -60, 'a': 0.20000000000000001, 'vPeak': 35} failed on\n",
      "Try 1: SubMax = None; SupraMin = 1.0\n",
      "Try 2: SubMax = 0.0; SupraMin = 1.0\n",
      "{'k': 1.6000000000000001, 'd': 10, 'vt': -50, 'b': -2, 'vr': -75, 'C': 200, 'c': -60, 'a': 0.20000000000000001, 'vPeak': 35} failed on\n",
      "Try 1: SubMax = 208.5; SupraMin = 250.0\n",
      "{'k': 1.6000000000000001, 'd': 10, 'vt': -50, 'b': -2, 'vr': -75, 'C': 200, 'c': -60, 'a': 0.20000000000000001, 'vPeak': 35} failed on\n",
      "Try 2: SubMax = 225.1; SupraMin = 233.4\n",
      "Try 3: SubMax = 225.1; SupraMin = 226.8\n",
      "{'k': 1.6000000000000001, 'd': 10, 'vt': -50, 'b': -2, 'vr': -55, 'C': 200, 'c': -60, 'a': 0.20000000000000001, 'vPeak': 35} failed on\n",
      "Try 1: SubMax = 1.0; SupraMin = 42.5\n",
      "{'k': 1.6000000000000001, 'd': 10, 'vt': -50, 'b': -2, 'vr': -55, 'C': 200, 'c': -60, 'a': 0.20000000000000001, 'vPeak': 35} failed on\n",
      "Try 2: SubMax = 1.0; SupraMin = 9.3\n",
      "Try 3: SubMax = 4.3; SupraMin = 6.0\n",
      "{'k': 0.25, 'd': 10, 'vt': -50, 'b': 15, 'vr': -75, 'C': 200, 'c': -60, 'a': 0.20000000000000001, 'vPeak': 35} failed on\n",
      "Try 1: SubMax = 250.0; SupraMin = None\n",
      "{'k': 0.25, 'd': 10, 'vt': -50, 'b': 15, 'vr': -75, 'C': 200, 'c': -60, 'a': 0.20000000000000001, 'vPeak': 35} failed on\n",
      "Try 2: SubMax = 416.7; SupraMin = 458.3\n",
      "{'k': 0.25, 'd': 10, 'vt': -50, 'b': 15, 'vr': -75, 'C': 200, 'c': -60, 'a': 0.20000000000000001, 'vPeak': 35} failed on\n",
      "Try 3: SubMax = 441.7; SupraMin = 458.3\n",
      "{'k': 0.25, 'd': 10, 'vt': -50, 'b': 15, 'vr': -75, 'C': 200, 'c': -60, 'a': 0.20000000000000001, 'vPeak': 35} failed on\n",
      "Try 4: SubMax = 451.7; SupraMin = 458.3\n",
      "Try 5: SubMax = 451.7; SupraMin = 453.0\n",
      "{'k': 0.25, 'd': 10, 'vt': -50, 'b': 15, 'vr': -55, 'C': 200, 'c': -60, 'a': 0.20000000000000001, 'vPeak': 35} failed on\n",
      "Try 1: SubMax = 250.0; SupraMin = None\n",
      "{'k': 0.25, 'd': 10, 'vt': -50, 'b': 15, 'vr': -55, 'C': 200, 'c': -60, 'a': 0.20000000000000001, 'vPeak': 35} failed on\n",
      "Try 2: SubMax = 250.0; SupraMin = 291.7\n",
      "{'k': 0.25, 'd': 10, 'vt': -50, 'b': 15, 'vr': -55, 'C': 200, 'c': -60, 'a': 0.20000000000000001, 'vPeak': 35} failed on\n",
      "Try 3: SubMax = 258.3; SupraMin = 266.7\n",
      "{'k': 0.25, 'd': 10, 'vt': -50, 'b': 15, 'vr': -55, 'C': 200, 'c': -60, 'a': 0.20000000000000001, 'vPeak': 35} failed on\n",
      "Try 4: SubMax = 263.3; SupraMin = 266.7\n",
      "Try 5: SubMax = 264.0; SupraMin = 264.7\n",
      "{'k': 1.6000000000000001, 'd': 10, 'vt': -50, 'b': 15, 'vr': -75, 'C': 200, 'c': -60, 'a': 0.20000000000000001, 'vPeak': 35} failed on\n",
      "Try 1: SubMax = 250.0; SupraMin = None\n",
      "{'k': 1.6000000000000001, 'd': 10, 'vt': -50, 'b': 15, 'vr': -75, 'C': 200, 'c': -60, 'a': 0.20000000000000001, 'vPeak': 35} failed on\n",
      "Try 2: SubMax = 458.3; SupraMin = None\n",
      "{'k': 1.6000000000000001, 'd': 10, 'vt': -50, 'b': 15, 'vr': -75, 'C': 200, 'c': -60, 'a': 0.20000000000000001, 'vPeak': 35} failed on\n",
      "Try 3: SubMax = 458.3; SupraMin = 534.7\n",
      "{'k': 1.6000000000000001, 'd': 10, 'vt': -50, 'b': 15, 'vr': -75, 'C': 200, 'c': -60, 'a': 0.20000000000000001, 'vPeak': 35} failed on\n",
      "Try 4: SubMax = 458.3; SupraMin = 473.6\n",
      "{'k': 1.6000000000000001, 'd': 10, 'vt': -50, 'b': 15, 'vr': -75, 'C': 200, 'c': -60, 'a': 0.20000000000000001, 'vPeak': 35} failed on\n",
      "Try 5: SubMax = 467.5; SupraMin = 473.6\n",
      "Try 6: SubMax = 471.2; SupraMin = 473.6\n",
      "{'k': 1.6000000000000001, 'd': 10, 'vt': -50, 'b': 15, 'vr': -55, 'C': 200, 'c': -60, 'a': 0.20000000000000001, 'vPeak': 35} failed on\n",
      "Try 1: SubMax = 42.5; SupraMin = 84.0\n",
      "{'k': 1.6000000000000001, 'd': 10, 'vt': -50, 'b': 15, 'vr': -55, 'C': 200, 'c': -60, 'a': 0.20000000000000001, 'vPeak': 35} failed on\n",
      "Try 2: SubMax = 67.4; SupraMin = 84.0\n",
      "{'k': 1.6000000000000001, 'd': 10, 'vt': -50, 'b': 15, 'vr': -55, 'C': 200, 'c': -60, 'a': 0.20000000000000001, 'vPeak': 35} failed on\n",
      "Try 3: SubMax = 77.4; SupraMin = 84.0\n",
      "{'k': 1.6000000000000001, 'd': 10, 'vt': -50, 'b': 15, 'vr': -55, 'C': 200, 'c': -60, 'a': 0.20000000000000001, 'vPeak': 35} failed on\n",
      "Try 4: SubMax = 81.3; SupraMin = 84.0\n",
      "Try 5: SubMax = 82.4; SupraMin = 82.9\n",
      "[array(22.580000000000002) * pA, array(228.42) * pA, array(6.644) * pA, array(160.36) * pA, array(64.08) * pA, array(320.0) * pA, array(32.54) * pA, array(20.92) * pA, array(226.76) * pA, array(5.98) * pA, array(452.99999999999994) * pA, array(264.6666666666667) * pA, array(473.6111111111111) * pA, array(82.9376) * pA]\n",
      "[<class 'neuronunit.optimization.data_transport_container.DataTC'>, <class 'neuronunit.optimization.data_transport_container.DataTC'>, <class 'neuronunit.optimization.data_transport_container.DataTC'>, <class 'neuronunit.optimization.data_transport_container.DataTC'>, <class 'neuronunit.optimization.data_transport_container.DataTC'>, <class 'neuronunit.optimization.data_transport_container.DataTC'>, <class 'neuronunit.optimization.data_transport_container.DataTC'>, <class 'neuronunit.optimization.data_transport_container.DataTC'>, <class 'neuronunit.optimization.data_transport_container.DataTC'>, <class 'neuronunit.optimization.data_transport_container.DataTC'>, <class 'neuronunit.optimization.data_transport_container.DataTC'>, <class 'neuronunit.optimization.data_transport_container.DataTC'>, <class 'neuronunit.optimization.data_transport_container.DataTC'>, <class 'neuronunit.optimization.data_transport_container.DataTC'>]\n",
      "[<neuronunit.optimization.data_transport_container.DataTC object at 0x7fa4a44c60f0>, <neuronunit.optimization.data_transport_container.DataTC object at 0x7fa4a44c65f8>, <neuronunit.optimization.data_transport_container.DataTC object at 0x7fa4a45557b8>, <neuronunit.optimization.data_transport_container.DataTC object at 0x7fa4cbd8ef28>, <neuronunit.optimization.data_transport_container.DataTC object at 0x7fa4a4555470>, <neuronunit.optimization.data_transport_container.DataTC object at 0x7fa4a44c6dd8>, <neuronunit.optimization.data_transport_container.DataTC object at 0x7fa4a44c68d0>, <neuronunit.optimization.data_transport_container.DataTC object at 0x7fa4cbd8eac8>, <neuronunit.optimization.data_transport_container.DataTC object at 0x7fa4a44c6630>, <neuronunit.optimization.data_transport_container.DataTC object at 0x7fa4a45550f0>, <neuronunit.optimization.data_transport_container.DataTC object at 0x7fa4a44c6b38>, <neuronunit.optimization.data_transport_container.DataTC object at 0x7fa4a44c6710>, <neuronunit.optimization.data_transport_container.DataTC object at 0x7fa4a44c6780>, <neuronunit.optimization.data_transport_container.DataTC object at 0x7fa4a44c65c0>]\n",
      "injected current seen:  {'delay': array(100.0) * ms, 'amplitude': array(22.580000000000002) * pA, 'duration': array(1000.0) * ms}\n",
      "injected current seen:  {'delay': array(100.0) * ms, 'amplitude': array(6.644) * pA, 'duration': array(1000.0) * ms}\n",
      "input resistance score: Z = 42.66\n",
      "injected current seen:  {'delay': array(100.0) * ms, 'amplitude': array(64.08) * pA, 'duration': array(1000.0) * ms}\n",
      "injected current seen:  {'delay': array(200.0) * ms, 'amplitude': array(-10.0) * pA, 'duration': array(500.0) * ms}\n",
      "injected current seen:  {'delay': array(100.0) * ms, 'amplitude': array(32.54) * pA, 'duration': array(1000.0) * ms}\n",
      "input resistance score: Z = 2.57\n",
      "input resistance score: Z = 0.07\n",
      "injected current seen:  {'delay': array(200.0) * ms, 'amplitude': array(-10.0) * pA, 'duration': array(500.0) * ms}\n",
      "injected current seen:  {'delay': array(100.0) * ms, 'amplitude': array(452.99999999999994) * pA, 'duration': array(1000.0) * ms}\n",
      "injected current seen:  {'delay': array(200.0) * ms, 'amplitude': array(-10.0) * pA, 'duration': array(500.0) * ms}\n",
      "injected current seen:  {'delay': array(100.0) * ms, 'amplitude': array(226.76) * pA, 'duration': array(1000.0) * ms}\n",
      "input resistance score: Z = 0.22\n",
      "injected current seen:  {'delay': array(100.0) * ms, 'amplitude': array(473.6111111111111) * pA, 'duration': array(1000.0) * ms}\n",
      "injected current seen:  {'delay': array(200.0) * ms, 'amplitude': array(-10.0) * pA, 'duration': array(500.0) * ms}\n",
      "input resistance score: Z = 0.82\n",
      "injected current seen:  {'delay': array(200.0) * ms, 'amplitude': array(-10.0) * pA, 'duration': array(500.0) * ms}\n",
      "input resistance score: Z = 0.04\n",
      "injected current seen:  {'delay': array(200.0) * ms, 'amplitude': array(-10.0) * pA, 'duration': array(500.0) * ms}\n",
      "input resistance score: Z = 0.57\n",
      "injected current seen:  {'delay': array(200.0) * ms, 'amplitude': array(-10.0) * pA, 'duration': array(500.0) * ms}\n",
      "injected current seen:  {'delay': array(200.0) * ms, 'amplitude': array(-10.0) * pA, 'duration': array(500.0) * ms}\n",
      "injected current seen:  {'delay': array(200.0) * ms, 'amplitude': array(-10.0) * pA, 'duration': array(500.0) * ms}\n",
      "injected current seen:  {'delay': array(200.0) * ms, 'amplitude': array(-10.0) * pA, 'duration': array(500.0) * ms}\n",
      "injected current seen:  {'delay': array(200.0) * ms, 'amplitude': array(-10.0) * pA, 'duration': array(500.0) * ms}\n",
      "injected current seen:  {'delay': array(200.0) * ms, 'amplitude': array(-10.0) * pA, 'duration': array(500.0) * ms}\n",
      "injected current seen:  {'delay': array(200.0) * ms, 'amplitude': array(-10.0) * pA, 'duration': array(500.0) * ms}\n",
      "injected current seen:  {'delay': array(200.0) * ms, 'amplitude': array(-10.0) * pA, 'duration': array(500.0) * ms}\n",
      "injected current seen:  {'delay': array(100.0) * ms, 'amplitude': array(20.92) * pA, 'duration': array(1000.0) * ms}\n",
      "input resistance score: Z = 39.99\n",
      "injected current seen:  {'delay': array(200.0) * ms, 'amplitude': array(-10.0) * pA, 'duration': array(500.0) * ms}\n",
      "injected current seen:  {'delay': array(100.0) * ms, 'amplitude': array(160.36) * pA, 'duration': array(1000.0) * ms}\n",
      "input resistance score: Z = 0.26\n",
      "injected current seen:  {'delay': array(200.0) * ms, 'amplitude': array(-10.0) * pA, 'duration': array(500.0) * ms}\n",
      "injected current seen:  {'delay': array(100.0) * ms, 'amplitude': array(264.6666666666667) * pA, 'duration': array(1000.0) * ms}\n",
      "injected current seen:  {'delay': array(200.0) * ms, 'amplitude': array(-10.0) * pA, 'duration': array(500.0) * ms}\n",
      "injected current seen:  {'delay': array(200.0) * ms, 'amplitude': array(-10.0) * pA, 'duration': array(500.0) * ms}\n",
      "input resistance score: Z = -0.88\n",
      "injected current seen:  {'delay': array(200.0) * ms, 'amplitude': array(-10.0) * pA, 'duration': array(500.0) * ms}\n",
      "injected current seen:  {'delay': array(100.0) * ms, 'amplitude': array(320.0) * pA, 'duration': array(1000.0) * ms}\n",
      "input resistance score: Z = -0.11\n",
      "injected current seen:  {'delay': array(200.0) * ms, 'amplitude': array(-10.0) * pA, 'duration': array(500.0) * ms}\n",
      "injected current seen:  {'delay': array(200.0) * ms, 'amplitude': array(-10.0) * pA, 'duration': array(500.0) * ms}\n",
      "injected current seen:  {'delay': array(200.0) * ms, 'amplitude': array(-10.0) * pA, 'duration': array(500.0) * ms}\n",
      "injected current seen:  {'delay': array(100.0) * ms, 'amplitude': array(82.9376) * pA, 'duration': array(1000.0) * ms}\n",
      "injected current seen:  {'delay': array(100.0) * ms, 'amplitude': array(228.42) * pA, 'duration': array(1000.0) * ms}\n",
      "input resistance score: Z = 0.48\n",
      "injected current seen:  {'delay': array(200.0) * ms, 'amplitude': array(-10.0) * pA, 'duration': array(500.0) * ms}\n",
      "input resistance score: Z = 0.77\n",
      "injected current seen:  {'delay': array(200.0) * ms, 'amplitude': array(-10.0) * pA, 'duration': array(500.0) * ms}\n",
      "injected current seen:  {'delay': array(200.0) * ms, 'amplitude': array(-10.0) * pA, 'duration': array(500.0) * ms}\n",
      "injected current seen:  {'delay': array(200.0) * ms, 'amplitude': array(-10.0) * pA, 'duration': array(500.0) * ms}\n",
      "injected current seen:  {'delay': array(100.0) * ms, 'amplitude': array(5.98) * pA, 'duration': array(1000.0) * ms}\n",
      "input resistance score: Z = 2.61\n",
      "injected current seen:  {'delay': array(200.0) * ms, 'amplitude': array(-10.0) * pA, 'duration': array(500.0) * ms}\n",
      "injected current seen:  {'delay': array(200.0) * ms, 'amplitude': array(-10.0) * pA, 'duration': array(500.0) * ms}\n",
      "[<neuronunit.optimization.data_transport_container.DataTC object at 0x7fa4a4563240>, <neuronunit.optimization.data_transport_container.DataTC object at 0x7fa4c9a240f0>, <neuronunit.optimization.data_transport_container.DataTC object at 0x7fa4a4555198>, <neuronunit.optimization.data_transport_container.DataTC object at 0x7fa4c9a72a90>, <neuronunit.optimization.data_transport_container.DataTC object at 0x7fa4a4558240>, <neuronunit.optimization.data_transport_container.DataTC object at 0x7fa4c9a123c8>, <neuronunit.optimization.data_transport_container.DataTC object at 0x7fa4c9a73b70>, <neuronunit.optimization.data_transport_container.DataTC object at 0x7fa4c9a81668>, <neuronunit.optimization.data_transport_container.DataTC object at 0x7fa4a4558dd8>, <neuronunit.optimization.data_transport_container.DataTC object at 0x7fa4c9a2bf60>, <neuronunit.optimization.data_transport_container.DataTC object at 0x7fa4a45b3400>, <neuronunit.optimization.data_transport_container.DataTC object at 0x7fa4a4563208>, <neuronunit.optimization.data_transport_container.DataTC object at 0x7fa4a45551d0>, <neuronunit.optimization.data_transport_container.DataTC object at 0x7fa4c9a8f908>]\n",
      "tests, completed, now gene computations\n",
      "[<neuronunit.optimization.data_transport_container.DataTC object at 0x7fa4a4563240>, <neuronunit.optimization.data_transport_container.DataTC object at 0x7fa4c9a240f0>, <neuronunit.optimization.data_transport_container.DataTC object at 0x7fa4a4555198>, <neuronunit.optimization.data_transport_container.DataTC object at 0x7fa4c9a72a90>, <neuronunit.optimization.data_transport_container.DataTC object at 0x7fa4a4558240>, <neuronunit.optimization.data_transport_container.DataTC object at 0x7fa4c9a123c8>, <neuronunit.optimization.data_transport_container.DataTC object at 0x7fa4c9a73b70>, <neuronunit.optimization.data_transport_container.DataTC object at 0x7fa4c9a81668>, <neuronunit.optimization.data_transport_container.DataTC object at 0x7fa4a4558dd8>, <neuronunit.optimization.data_transport_container.DataTC object at 0x7fa4c9a2bf60>, <neuronunit.optimization.data_transport_container.DataTC object at 0x7fa4a45b3400>, <neuronunit.optimization.data_transport_container.DataTC object at 0x7fa4a4563208>, <neuronunit.optimization.data_transport_container.DataTC object at 0x7fa4a45551d0>, <neuronunit.optimization.data_transport_container.DataTC object at 0x7fa4c9a8f908>]\n",
      "gets here??????\n",
      "[[0.01, -2, 0.25, -75, -60, 10, -50, 200, 35], [0.01, -2, 0.25, -55, -60, 10, -50, 200, 35], [0.01, -2, 1.6000000000000001, -75, -60, 10, -50, 200, 35], [0.01, -2, 1.6000000000000001, -55, -60, 10, -50, 200, 35], [0.01, 15, 0.25, -75, -60, 10, -50, 200, 35], [0.01, 15, 0.25, -55, -60, 10, -50, 200, 35], [0.01, 15, 1.6000000000000001, -75, -60, 10, -50, 200, 35], [0.01, 15, 1.6000000000000001, -55, -60, 10, -50, 200, 35], [0.20000000000000001, -2, 0.25, -75, -60, 10, -50, 200, 35], [0.20000000000000001, -2, 0.25, -55, -60, 10, -50, 200, 35], [0.20000000000000001, -2, 1.6000000000000001, -75, -60, 10, -50, 200, 35], [0.20000000000000001, -2, 1.6000000000000001, -55, -60, 10, -50, 200, 35], [0.20000000000000001, 15, 0.25, -75, -60, 10, -50, 200, 35], [0.20000000000000001, 15, 0.25, -55, -60, 10, -50, 200, 35], [0.20000000000000001, 15, 1.6000000000000001, -75, -60, 10, -50, 200, 35], [0.20000000000000001, 15, 1.6000000000000001, -55, -60, 10, -50, 200, 35]]\n",
      "gets here ??? a \n",
      "> /home/jovyan/BluePyOpt/bluepyopt/deapext/algorithms.py(166)eaAlphaMuPlusLambdaCheckpoint()\n",
      "-> offspring = _get_offspring(parents, toolbox, cxpb, mutpb)\n",
      "(Pdb) offspring = _get_offspring(parents, toolbox, cxpb, mutpb)\n"
     ]
    },
    {
     "name": "stderr",
     "output_type": "stream",
     "text": [
      "/opt/conda/lib/python3.5/site-packages/deap/tools/mutation.py:80: RuntimeWarning: invalid value encountered in double_scalars\n",
      "  delta_q = val**mut_pow - 1.0\n",
      "/opt/conda/lib/python3.5/site-packages/deap/tools/mutation.py:84: RuntimeWarning: invalid value encountered in double_scalars\n",
      "  delta_q = 1.0 - val**mut_pow\n"
     ]
    },
    {
     "name": "stdout",
     "output_type": "stream",
     "text": [
      "(Pdb) offspring\n",
      "[[-2, -75, 10, -55], [-2, -55, 1.6000000000000001, 200], [-2, -2, 1.6000000000000001, 200], [-2, -2, 10, -55], [15, -2, 10, 200], [0.20000000000000001, -2.0, 1.6000000000000001, -55], [0.20000000000000001, -1.8089069773903668, 10, -55], [15, -2.0, 1.6000000000000001, 200], [-2, -2, 10, 200], [0.01, -2.0, 10, 200], [-2, -2, 10, -55], [0.01, -2, 1.6000000000000001, 200], [0.20000000000000001, -1.9837641572526363, 10, 200], [15, 0.29480266263873922, 10, 200], [15, -75, 10, 200], [15, -55, 10, 200]]\n",
      "(Pdb) len(offspring)\n",
      "16\n",
      "(Pdb) c\n"
     ]
    }
   ],
   "source": [
    "from neuronunit.optimization import optimization_management as om\n",
    "free_params = ['a','b','vr','k']\n",
    "hc = {}\n",
    "for k,v in cells['TC'].items():\n",
    "    if k not in free_params:\n",
    "        hc[k] = v\n",
    "print(hc)\n",
    "import pickle\n",
    "TC_tests = pickle.load(open('thalamo_cortical_tests.p','rb'))    \n",
    "ga_out, DO = om.run_ga(explore_param,3,TC_tests,free_params=free_params,hc = hc)\n"
   ]
  },
  {
   "cell_type": "code",
   "execution_count": null,
   "metadata": {
    "collapsed": false
   },
   "outputs": [],
   "source": [
    "\n"
   ]
  },
  {
   "cell_type": "code",
   "execution_count": null,
   "metadata": {
    "collapsed": false
   },
   "outputs": [],
   "source": [
    "\n",
    "\n",
    "\n",
    "def format_iparams(all_tests,rheobase):\n",
    "\n",
    "    for t in all_tests[1:5]:\n",
    "        DURATION = 500.0*pq.ms\n",
    "        DELAY = 200.0*pq.ms\n",
    "\n",
    "        obs = t.observation\n",
    "        t.params = {}\n",
    "        t.params['injected_square_current'] = {}\n",
    "        t.params['injected_square_current']['delay']= DELAY\n",
    "        t.params['injected_square_current']['duration'] = DURATION\n",
    "        t.tparams['injected_square_current']['amplitude'] = -10*pq.pA\n",
    "        \n",
    "        \n",
    "    for t in all_tests[-3::]:    \n",
    "        t.params = {}\n",
    "        DURATION = 1000.0*pq.ms\n",
    "        DELAY = 100.0*pq.ms\n",
    "\n",
    "        t.params['injected_square_current'] = {}\n",
    "        t.params['injected_square_current']['delay']= DELAY\n",
    "        t.params['injected_square_current']['duration'] = DURATION\n",
    "        t.params['injected_square_current']['amplitude'] = rheobase['value']\n",
    "    \n",
    "    all_tests[0].params = all_tests[-1].params\n",
    "    \n",
    "    return all_tests\n",
    "\n",
    "pt = format_iparams(all_tests,rheobase)\n",
    "print([t.params['injected_square_current']['amplitude'] for t in pt[-3::] ])\n",
    "print([t.params['injected_square_current']['amplitude'] for t in pt[0:5] ])\n",
    "\n"
   ]
  },
  {
   "cell_type": "markdown",
   "metadata": {},
   "source": [
    "##\n",
    "# * Get predictions from models.\n",
    "## * Fake NeuroElectro Observations\n",
    "## * Do roundtrip testing\n",
    "##"
   ]
  },
  {
   "cell_type": "code",
   "execution_count": null,
   "metadata": {
    "collapsed": false
   },
   "outputs": [],
   "source": [
    "predictions = []\n",
    "import dask.bag as db\n",
    "# The rheobase has been obtained seperately and cannot be db mapped.\n",
    "# Nested DB mappings dont work.\n",
    "ptbag = db.from_sequence(pt[0::])\n",
    "\n",
    "def obtain_predictions(t):    \n",
    "    model = None\n",
    "    model = ReducedModel(LEMS_MODEL_PATH,name = str('vanilla'),backend = ('RAW'))\n",
    "    model.set_attrs(cells['TC'])\n",
    "    return t.generate_prediction(model)\n",
    "predictions = list(ptbag.map(obtain_predictions).compute())\n",
    "predictions.insert(0,rheobase)\n",
    "print(predictions)    \n"
   ]
  },
  {
   "cell_type": "code",
   "execution_count": null,
   "metadata": {
    "collapsed": false
   },
   "outputs": [],
   "source": [
    "# having both means and values in dictionary makes it very irritating to iterate over.\n",
    "# It's more harmless to demote means to values, than to elevate values to means.\n",
    "# Simply swap key names: means, for values.\n",
    "for p in predictions:\n",
    "    if 'mean' in p.keys():\n",
    "        p['value'] = p.pop('mean')\n",
    "print(predictions)\n"
   ]
  },
  {
   "cell_type": "code",
   "execution_count": null,
   "metadata": {
    "collapsed": false
   },
   "outputs": [],
   "source": [
    "# make some new tests based on internally generated data \n",
    "# as opposed to experimental data.\n",
    "\n",
    "\n",
    "TC_tests = copy.copy(all_tests)\n",
    "for ind,t in enumerate(TC_tests):\n",
    "    if 'mean' in t.observation.keys():\n",
    "        t.observation['value'] = t.observation.pop('mean')\n",
    "    pred =  predictions[ind]['value']\n",
    "    try:\n",
    "        pred = pred.rescale(t.units)\n",
    "        t.observation['value'] = pred\n",
    "    except:        \n",
    "        t.observation['value'] = pred\n",
    "    t.observation['mean'] = t.observation['value']\n",
    "        \n",
    "    print(t.observation['value'])\n",
    "    \n",
    "pickle.dump(TC_tests,open('thalamo_cortical_tests.p','wb'))    \n",
    "    \n",
    "\n",
    "\n"
   ]
  },
  {
   "cell_type": "code",
   "execution_count": null,
   "metadata": {
    "collapsed": false
   },
   "outputs": [],
   "source": []
  },
  {
   "cell_type": "code",
   "execution_count": null,
   "metadata": {
    "collapsed": false
   },
   "outputs": [],
   "source": [
    "def hack_judge(test_and_models):\n",
    "    (test, attrs) = test_and_models\n",
    "    model = None\n",
    "    obs = test.observation\n",
    "    model = ReducedModel(LEMS_MODEL_PATH,name = str('vanilla'),backend = ('RAW'))\n",
    "    model.set_attrs(attrs)\n",
    "    test.generate_prediction(model)\n",
    "    pred = test.generate_prediction(model)\n",
    "    score = test.compute_score(obs,pred)\n",
    "    try:\n",
    "        print(obs['value'],pred['value'])\n",
    "    except:\n",
    "        print(obs['mean'],pred['mean'])\n",
    "        \n",
    "    return score\n",
    "\n",
    "scores = []\n",
    "for i,t in enumerate(TC_tests):\n",
    "    test_and_models = (t,cells['TC'])\n",
    "    score = hack_judge(test_and_models)\n",
    "    scores.append(score)\n",
    "print(scores[0].sort_key)    \n",
    "print(scores[0])    \n",
    "\n"
   ]
  },
  {
   "cell_type": "code",
   "execution_count": null,
   "metadata": {
    "collapsed": false
   },
   "outputs": [],
   "source": [
    "print([s.sort_key for s in scores])\n",
    "print([s.score for s in scores])\n",
    "\n",
    "score = hack_judge((TC_tests[-3],cells['TC']))\n",
    "print(score)"
   ]
  },
  {
   "cell_type": "code",
   "execution_count": null,
   "metadata": {
    "collapsed": false
   },
   "outputs": [],
   "source": [
    "scores = []\n",
    "for t in TC_tests:\n",
    "    test_and_models = (t,cells['RS'])\n",
    "    score = hack_judge(test_and_models)\n",
    "    scores.append(score)\n",
    "print(scores[0].sort_key)    \n",
    "print(scores[0])\n",
    "print([s.sort_key for s in scores])\n"
   ]
  },
  {
   "cell_type": "code",
   "execution_count": null,
   "metadata": {
    "collapsed": false
   },
   "outputs": [],
   "source": [
    "import dask.bag as db\n",
    "# The rheobase has been obtained seperately and cannot be db mapped.\n",
    "# Nested DB mappings dont work.\n",
    "from itertools import repeat\n",
    "test_a_models = zip(TC_tests[1::],repeat(cells['RS']))\n",
    "tc_bag = db.from_sequence(test_a_models)\n",
    "\n",
    "scores = list(tc_bag.map(hack_judge).compute())\n",
    "scores.insert(0,rheobase)\n",
    "print(scores)    "
   ]
  },
  {
   "cell_type": "code",
   "execution_count": null,
   "metadata": {
    "collapsed": false
   },
   "outputs": [],
   "source": [
    "score = TC_tests[0].judge(model,stop_on_error = False, deep_error = True)\n",
    "print(score.prediction)\n",
    "#print(model.get_spike_count())"
   ]
  },
  {
   "cell_type": "code",
   "execution_count": null,
   "metadata": {
    "collapsed": false
   },
   "outputs": [],
   "source": [
    "from neuronunit.optimization import optimization_management as opt\n",
    "from neuronunit.models import ReducedModel"
   ]
  },
  {
   "cell_type": "code",
   "execution_count": null,
   "metadata": {
    "collapsed": false
   },
   "outputs": [],
   "source": [
    "\n",
    "cnt = 0\n",
    "scores = []\n",
    "tests_,all_tests, observation,suite = opt.get_neab.get_tests()\n",
    "passive  = [ str('RestingPotentialTest'), str('CapacitanceTest'), str('TimeConstantTest'), str('InputResistanceTest') ]\n",
    "firing_tests =  [ t for t in all_tests if str(t) not in passive ]\n",
    "first_two = all_tests[0:2]\n",
    "print(first_two)\n",
    "\n",
    "for t in all_tests:\n",
    "    score = t.judge(model,stop_on_error = False, deep_error = True)\n",
    "    scores.append(score)\n",
    "    print(score)\n",
    "    print('score {0}'.format(score))\n",
    "    if str('mean') in score.prediction.keys():\n",
    "        print('observation {0}, prediction {1}'.format(t.observation['mean'],score.prediction['mean']))\n",
    "    if str('value') in score.prediction.keys():\n",
    "        print('observation {0}, prediction {1}'.format(t.observation['mean'],score.prediction['value']))\n",
    "    cnt+=1\n",
    "#http://www.physics"
   ]
  },
  {
   "cell_type": "raw",
   "metadata": {
    "collapsed": true
   },
   "source": []
  }
 ],
 "metadata": {
  "kernelspec": {
   "display_name": "Python 3",
   "language": "python",
   "name": "python3"
  },
  "language_info": {
   "codemirror_mode": {
    "name": "ipython",
    "version": 3
   },
   "file_extension": ".py",
   "mimetype": "text/x-python",
   "name": "python",
   "nbconvert_exporter": "python",
   "pygments_lexer": "ipython3",
   "version": "3.5.2"
  }
 },
 "nbformat": 4,
 "nbformat_minor": 2
}
