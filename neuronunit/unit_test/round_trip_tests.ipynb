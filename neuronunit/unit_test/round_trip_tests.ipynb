{
 "cells": [
  {
   "cell_type": "code",
   "execution_count": 1,
   "metadata": {},
   "outputs": [],
   "source": [
    "import sys\n",
    "import os\n",
    "nu_russell = os.path.realpath(os.path.join(os.getcwd(),'..','..'))\n",
    "sys.path.insert(0,nu_russell)\n",
    "import neuronunit\n",
    "assert 'neuronunit-russell' in neuronunit.__file__"
   ]
  },
  {
   "cell_type": "code",
   "execution_count": 2,
   "metadata": {
    "collapsed": false
   },
   "outputs": [
    {
     "name": "stdout",
     "output_type": "stream",
     "text": [
      "OrderedDict([('RS', {'b': -2, 'k': 0.7, 'vt': -40, 'vPeak': 35, 'c': -50, 'vr': -60, 'C': 100, 'a': 0.03, 'd': 100}), ('IB', {'b': 5, 'k': 1.2, 'vt': -45, 'vPeak': 50, 'c': -56, 'vr': -75, 'C': 150, 'a': 0.01, 'd': 130}), ('LTS', {'b': 8, 'k': 1.0, 'vt': -42, 'vPeak': 40, 'c': -53, 'vr': -56, 'C': 100, 'a': 0.03, 'd': 20}), ('TC', {'b': 15, 'k': 1.6, 'vt': -50, 'vPeak': 35, 'c': -60, 'vr': -60, 'C': 200, 'a': 0.01, 'd': 10}), ('TC_burst', {'b': 15, 'k': 1.6, 'vt': -50, 'vPeak': 35, 'c': -60, 'vr': -60, 'C': 200, 'a': 0.01, 'd': 10})])\n"
     ]
    }
   ],
   "source": [
    "# http://www.physics.usyd.edu.au/teach_res/mp/mscripts/\n",
    "# ns_izh002.m\n",
    "import collections\n",
    "from collections import OrderedDict\n",
    "import numpy as np\n",
    "\n",
    "# Fast spiking cannot be reproduced as it requires modifications to the standard Izhi equation,\n",
    "# which are expressed in this mod file.\n",
    "# https://github.com/OpenSourceBrain/IzhikevichModel/blob/master/NEURON/izhi2007b.mod\n",
    "\n",
    "reduced2007 = collections.OrderedDict([\n",
    "  #              C    k     vr  vt vpeak   a      b   c    d  celltype\n",
    "  ('RS',        (100, 0.7,  -60, -40, 35, 0.03,   -2, -50,  100,  1)),\n",
    "  ('IB',        (150, 1.2,  -75, -45, 50, 0.01,   5, -56,  130,   2)),\n",
    "  ('LTS',       (100, 1.0,  -56, -42, 40, 0.03,   8, -53,   20,   4)),\n",
    "  ('TC',        (200, 1.6,  -60, -50, 35, 0.01,  15, -60,   10,   6)),\n",
    "  ('TC_burst',  (200, 1.6,  -60, -50, 35, 0.01,  15, -60,   10,   6))])\n",
    "\n",

    "type2007 = collections.OrderedDict([\n",
    "  #              C    k     vr  vt vpeak   a      b   c    d  celltype\n",
    "  ('RS',        (100, 0.7,  -60, -40, 35, 0.03,   -2, -50,  100,  1)),\n",
    "  ('IB',        (150, 1.2,  -75, -45, 50, 0.01,   5, -56,  130,   2)),\n",
    "  ('LTS',       (100, 1.0,  -56, -42, 40, 0.03,   8, -53,   20,   4)),\n",
    "  ('TC',        (200, 1.6,  -60, -50, 35, 0.01,  15, -60,   10,   6)),\n",
    "  ('TC_burst',  (200, 1.6,  -60, -50, 35, 0.01,  15, -60,   10,   6)),\n",
    "  ('RTN',       (40,  0.25, -65, -45,  0, 0.015, 10, -55,   50,   7)),\n",
    "  ('RTN_burst', (40,  0.25, -65, -45,  0, 0.015, 10, -55,   50,   7)),\n",
    "  ('CH',        (50,  1.5,  -60, -40, 25, 0.03,   1, -40,  150,   3)),\n",
    "  ('FS',        (20,  1.0,  -55, -40, 25, 0.2,   -2, -45,  -55,   5))])\n",
    "\n",
    "import numpy as np\n",
    "reduced_dict = OrderedDict([(k,[]) for k in ['C','k','vr','vt','vPeak','a','b','c','d']])\n",
    "\n",
    "#OrderedDict\n",
    "for i,k in enumerate(reduced_dict.keys()):\n",
    "    for v in type2007.values():\n",
    "        reduced_dict[k].append(v[i])\n",
    "\n",
    "explore_param = {k:(np.min(v),np.max(v)) for k,v in reduced_dict.items()}\n",
    "param_ranges = OrderedDict(explore_param)\n",
    "\n",
    "#IB = mparams[param_dict['IB']]\n",
    "RS = {}\n",
    "IB = {}\n",
    "TC = {}\n",
    "CH = {}\n",
    "RTN_burst = {}\n",
    "cells = OrderedDict([(k,[]) for k in ['RS','IB','CH','LTS','FS','TC','TC_burst','RTN','RTN_busrt']])\n",
    "reduced_cells = OrderedDict([(k,[]) for k in ['RS','IB','LTS','TC','TC_burst']])\n",
    "\n",
    "for index,key in enumerate(reduced_cells.keys()):\n",
    "    reduced_cells[key] = {}\n",
    "    for k,v in reduced_dict.items():\n",
    "        reduced_cells[key][k] = v[index]\n",
    "\n",
    "print(reduced_cells)\n",
    "cells = reduced_cells"
   ]
  },
  {
   "cell_type": "code",
   "execution_count": 3,
   "metadata": {
    "collapsed": false
   },
   "outputs": [
    {
     "name": "stdout",
     "output_type": "stream",
     "text": [
      "{'b': 15, 'k': 1.6, 'vt': -50, 'vPeak': 35, 'c': -60, 'vr': -60, 'C': 200, 'a': 0.01, 'd': 10}\n",
      "200.0\n",
      "1.5707957651346172\n",
      "<built-in method area of nrn.Segment object at 0x111a75dc8>\n",
      "500.0\n"
     ]
    }
   ],
   "source": [
    "model = None\n",
    "from neuronunit.models.reduced import ReducedModel\n",
    "from neuronunit.optimization import get_neab\n",
    "\n",
    "from neuronunit.optimization.model_parameters import model_params, path_params\n",
    "LEMS_MODEL_PATH = path_params['model_path']\n",
    "model = ReducedModel(LEMS_MODEL_PATH,name = str('vanilla'),backend = ('NEURON'))\n",
    "print(cells['TC'])\n",
    "model.set_attrs(cells['TC'])\n",
    "#dir(model._backend)\n",
    "dir(model._backend.h)\n",
    "#loc = \n",
    "#for sec in \n",
    "dir(model._backend.h.m_RS_RS_pop[0])#:\n",
    "\n",
    "for sec in model._backend.h.m_RS_RS_pop[0].Section(0.5):\n",
    "    sec.cm = (50/31.831)\n",
    "    print(sec.cm)\n",
    "    print(sec.area)\n",
    "    print(sec.diam)\n",
    "\n",
    "sec = model._backend.h.Section(model._backend.h.m_RS_RS_pop[0])    \n",
    "sec.L, sec.diam = 6.3, 5 \n",
    "\n",
    "model = ReducedModel(LEMS_MODEL_PATH,name = str('vanilla'),backend = ('RAW'))\n",
    "model.set_attrs(cells['TC'])\n",
    "\n"
   ]
  },
  {
   "cell_type": "code",
   "execution_count": 4,
   "metadata": {
    "collapsed": false
   },
   "outputs": [
    {
     "name": "stdout",
     "output_type": "stream",
     "text": [
      "{'value': array(76.21875) * pA}\n"
     ]
    }
   ],
   "source": [
    "tests_,all_tests, observation,suite = get_neab.get_tests()\n",
    "\n",
    "rheobase = all_tests[0].generate_prediction(model)\n",
    "print(rheobase)"
   ]
  },
  {
   "cell_type": "code",
   "execution_count": 5,
   "metadata": {
    "collapsed": false
   },
   "outputs": [
    {
     "data": {
      "image/png": "[encoded data removed]",
      "text/plain": [
       "<matplotlib.figure.Figure at 0x1138be278>"
      ]
     },
     "metadata": {},
     "output_type": "display_data"
    }
   ],
   "source": [
    "import pickle\n",
    "import copy\n",
    "import numpy as np\n",
    "import pandas as pd\n",
    "import matplotlib.pyplot as plt\n",
    "\n",
    "from neuronunit.models.reduced import ReducedModel\n",
    "from neuronunit.optimization.model_parameters import model_params, path_params\n",
    "LEMS_MODEL_PATH = path_params['model_path']\n",
    "import neuronunit.optimization as opt\n",
    "import quantities as pq\n",
    "\n",
    "from neuronunit.optimization.data_transport_container import DataTC\n",
    "model = ReducedModel(LEMS_MODEL_PATH,name = str('vanilla'),backend = ('RAW'))\n",
    "model.set_attrs(cells['TC'])\n",
    "\n",
    "iparams = {}\n",
    "iparams['injected_square_current'] = {}\n",
    "iparams['injected_square_current']['amplitude'] =75.36800000000001*pq.pA\n",
    "#['amplitude']  = dtc.vtest[k]['injected_square_current']['amplitude']\n",
    "DELAY = 100.0*pq.ms\n",
    "DURATION = 1000.0*pq.ms\n",
    "iparams['injected_square_current']['delay'] = DELAY\n",
    "iparams['injected_square_current']['duration'] = int(DURATION)\n",
    "\n",
    "model.inject_square_current(iparams)\n",
    "\n",
    "plt.plot(model.get_membrane_potential().times,model.get_membrane_potential(),label='RAW')\n",
    "plt.legend()\n",
    "plt.show()"
   ]
  },
  {
   "cell_type": "code",
   "execution_count": 6,
   "metadata": {
    "collapsed": false
   },
   "outputs": [],
   "source": [
    "cnt = 0\n",
    "scores = []\n",
    "tests_,all_tests, observation,suite = opt.get_neab.get_tests()"
   ]
  },
  {
   "cell_type": "code",
   "execution_count": 7,
   "metadata": {
    "collapsed": false
   },
   "outputs": [
    {
     "name": "stdout",
     "output_type": "stream",
     "text": [
      "[array(76.21875) * pA, array(76.21875) * pA, array(76.21875) * pA]\n",
      "[array(76.21875) * pA, array(-10.) * pA, array(-10.) * pA, array(-10.) * pA, array(-10.) * pA]\n"
     ]
    }
   ],
   "source": [
    "def format_iparams(all_tests,rheobase):\n",
    "\n",
    "    for t in all_tests[1:5]:\n",
    "        DURATION = 500.0*pq.ms\n",
    "        DELAY = 200.0*pq.ms\n",
    "\n",
    "        obs = t.observation\n",
    "        t.params = {}\n",
    "        t.params['injected_square_current'] = {}\n",
    "        t.params['injected_square_current']['delay']= DELAY\n",
    "        t.params['injected_square_current']['duration'] = DURATION\n",
    "        t.params['injected_square_current']['amplitude'] = -10*pq.pA\n",
    "        \n",
    "        \n",
    "    for t in all_tests[-3::]:    \n",
    "        t.params = {}\n",
    "        DURATION = 1000.0*pq.ms\n",
    "        DELAY = 100.0*pq.ms\n",
    "\n",
    "        t.params['injected_square_current'] = {}\n",
    "        t.params['injected_square_current']['delay']= DELAY\n",
    "        t.params['injected_square_current']['duration'] = DURATION\n",
    "        t.params['injected_square_current']['amplitude'] = rheobase['value']\n",
    "    \n",
    "    all_tests[0].params = all_tests[-1].params\n",
    "    \n",
    "    return all_tests\n",
    "\n",
    "pt = format_iparams(all_tests,rheobase)\n",
    "print([t.params['injected_square_current']['amplitude'] for t in pt[-3::] ])\n",
    "print([t.params['injected_square_current']['amplitude'] for t in pt[0:5] ])"
   ]
  },
  {
   "cell_type": "markdown",
   "metadata": {},
   "source": [
    "##\n",
    "# * Get predictions from models.\n",
    "## * Fake NeuroElectro Observations\n",
    "## * Do roundtrip testing\n",
    "##"
   ]
  },
  {
   "cell_type": "code",
   "execution_count": 8,
   "metadata": {
    "collapsed": false
   },
   "outputs": [
    {
     "name": "stdout",
     "output_type": "stream",
     "text": [
      "injected current seen:  {'delay': array(200.0) * ms, 'amplitude': array(-10.0) * pA, 'duration': array(500.0) * ms}\n",
      "injected current seen:  {'delay': array(200.0) * ms, 'amplitude': array(-10.0) * pA, 'duration': array(500.0) * ms}\n",
      "injected current seen:  {'delay': array(200.0) * ms, 'amplitude': array(-10.0) * pA, 'duration': array(500.0) * ms}\n",
      "[{'value': array(75.53061224489795) * pA}, {'value': array(31739282.99824782) * kg*m**2/(s**3*A**2)}, {'value': array(0.0034631849083750876) * s}, {'value': array(1.0911352057216523e-10) * s**4*A**2/(kg*m**2)}, {'std': array(0.00019622743842309925) * V, 'mean': array(-0.060317405613048956) * V}, {'std': array(0.0) * s, 'mean': array(0.0006500000000000001) * s, 'n': 1}, {'std': array(0.0) * V, 'mean': array(0.056127191359642024) * V, 'n': 1}, {'std': array(0.0) * V, 'mean': array(-0.02112719135964202) * V, 'n': 1}]\n"
     ]
    }
   ],
   "source": [
    "predictions = []\n",
    "import dask.bag as db\n",
    "# The rheobase has been obtained seperately and cannot be db mapped.\n",
    "# Nested DB mappings dont work.\n",
    "ptbag = db.from_sequence(pt[1::])\n",
    "\n",
    "def obtain_predictions(t):    \n",
    "    model = None\n",
    "    model = ReducedModel(LEMS_MODEL_PATH,name = str('vanilla'),backend = ('RAW'))\n",
    "    model.set_attrs(cells['TC'])\n",
    "    return t.generate_prediction(model)\n",
    "predictions = list(ptbag.map(obtain_predictions).compute())\n",
    "predictions.insert(0,rheobase)\n",
    "print(predictions)    "
   ]
  },
  {
   "cell_type": "code",
   "execution_count": 9,
   "metadata": {
    "collapsed": false
   },
   "outputs": [
    {
     "name": "stdout",
     "output_type": "stream",
     "text": [
      "[{'value': array(76.21875) * pA}, {'value': array(31739282.99824782) * kg*m**2/(s**3*A**2)}, {'value': array(0.00346318) * s}, {'value': array(1.09113521e-10) * s**4*A**2/(kg*m**2)}, {'std': array(0.00019623) * V, 'value': array(-0.06031741) * V}, {'std': array(0.) * s, 'value': array(0.00055) * s, 'n': 1}, {'std': array(0.) * V, 'value': array(0.05065779) * V, 'n': 1}, {'std': array(0.) * V, 'value': array(-0.01565779) * V, 'n': 1}]\n"
     ]
    }
   ],
   "source": [
    "# having both means and values in dictionary makes it very irritating to iterate over.\n",
    "# It's more harmless to demote means to values, than to elevate values to means.\n",
    "# Simply swap key names: means, for values.\n",
    "for p in predictions:\n",
    "    if 'mean' in p.keys():\n",
    "        p['value'] = p.pop('mean')\n",
    "print(predictions)"
   ]
  },
  {
   "cell_type": "code",
   "execution_count": 10,
   "metadata": {
    "collapsed": false
   },
   "outputs": [
    {
     "name": "stdout",
     "output_type": "stream",
     "text": [
      "76.21875 pA\n",
      "31.73928299824782 Mohm\n",
      "3.4631849083750876 ms\n",
      "109.11352057216521 pF\n",
      "-60.317405613048955 mV\n",
      "0.55 ms\n",
      "50.65778903053697 mV\n",
      "-15.657789030536964 mV\n"
     ]
    }
   ],
   "source": [
    "# make some new tests based on internally generated data \n",
    "# as opposed to experimental data.\n",
    "\n",
    "TC_tests = copy.copy(all_tests)\n",
    "for ind,t in enumerate(TC_tests):\n",
    "    if 'mean' in t.observation.keys():\n",
    "        t.observation['value'] = t.observation.pop('mean')\n",
    "    pred =  predictions[ind]['value']\n",
    "    try:\n",
    "        pred = pred.rescale(t.units)\n",
    "        t.observation['value'] = pred\n",
    "    except:        \n",
    "        t.observation['value'] = pred\n",
    "    t.observation['mean'] = t.observation['value']\n",
    "        \n",
    "    print(t.observation['value'])\n",
    "    \n",
    "pickle.dump(TC_tests,open('thalamo_cortical_tests.p','wb'))    "
   ]
  },
  {
   "cell_type": "code",
   "execution_count": 11,
   "metadata": {
    "collapsed": false
   },
   "outputs": [
    {
     "name": "stderr",
     "output_type": "stream",
     "text": [
      "/Users/rgerkin/Dropbox/miniconda3/lib/python3.5/site-packages/sklearn/cross_validation.py:41: DeprecationWarning: This module was deprecated in version 0.18 in favor of the model_selection module into which all the refactored classes and functions are moved. Also note that the interface of the new CV iterators are different from that of this module. This module will be removed in 0.20.\n",
      "  \"This module will be removed in 0.20.\", DeprecationWarning)\n",
      "/Users/rgerkin/Dropbox/miniconda3/lib/python3.5/site-packages/sklearn/grid_search.py:42: DeprecationWarning: This module was deprecated in version 0.18 in favor of the model_selection module into which all the refactored classes and functions are moved. This module will be removed in 0.20.\n",
      "  DeprecationWarning)\n",
      "INFO:__main__:gen\tnevals\tavg    \tstd     \tmin    \tmax    \n",
      "1  \t8     \t4.41708\t0.968631\t2.97143\t5.84005\n",
      "2  \t8     \t4.45406\t1.12392 \t2.26595\t5.47306\n"
     ]
    },
    {
     "name": "stdout",
     "output_type": "stream",
     "text": [
      "Could not update this population [[0.01, -0.4116027206952335, -56.24766913409749], [0.01, -2, -73.75233086590251], [0.01, 13.919119365130545, -75], [0.011765562374505122, 15, -55], [0.2, -2, -75], [0.1569308785782718, -1.2118742936905633, -55], [0.18228274808717254, 15, -75], [0.2, 15, -55.0]]\n"
     ]
    },
    {
     "name": "stderr",
     "output_type": "stream",
     "text": [
      "INFO:__main__:3  \t8     \t3.73223\t1.24518 \t1.84382\t5.04707\n",
      "/Users/rgerkin/Dropbox/dev/scidash/neuronunit-russell/neuronunit/tests/passive.py:83: RuntimeWarning: overflow encountered in exp\n",
      "  vm_fit[offset:,0] = a * np.exp(-t[offset:]/b) + c\n",
      "/Users/rgerkin/Dropbox/dev/scidash/neuronunit-russell/neuronunit/tests/passive.py:83: RuntimeWarning: overflow encountered in multiply\n",
      "  vm_fit[offset:,0] = a * np.exp(-t[offset:]/b) + c\n",
      "INFO:__main__:4  \t8     \t3.6366 \t1.07453 \t2.00279\t5.76905\n",
      "INFO:__main__:5  \t8     \t3.21516\t1.46924 \t1.27557\t5.87427\n"
     ]
    }
   ],
   "source": [
    "from neuronunit.optimization import optimization_management as om\n",
    "free_params = ['a','b','vr'] # this can only be odd numbers.\n",
    "\n",
    "hc = {}\n",
    "for k,v in cells['TC'].items():\n",
    "    if k not in free_params:\n",
    "        hc[k] = v\n",
    "#print(hc)\n",
    "import pickle\n",
    "TC_tests = pickle.load(open('thalamo_cortical_tests.p','rb'))    \n",
    "                #run_ga(model_params, max_ngen, test, free_params = None, hc = None)\n",
    "ga_out, DO = om.run_ga(explore_param,5,TC_tests,free_params=free_params,hc = hc)"
   ]
  },
  {
   "cell_type": "code",
   "execution_count": 12,
   "metadata": {},
   "outputs": [
    {
     "name": "stdout",
     "output_type": "stream",
     "text": [
      "{'k': 1.6, 'vt': -50, 'vr': -57.0603409987644, 'C': 200, 'vPeak': 35, 'c': -60, 'b': 13.742629850689024, 'a': 0.010004723957151636, 'd': 10}\n",
      "{'k': 1.6, 'vt': -50, 'vr': -60, 'C': 200, 'vPeak': 35, 'c': -60, 'b': 15, 'a': 0.01, 'd': 10}\n"
     ]
    },
    {
     "data": {
      "text/plain": [
       "<matplotlib.legend.Legend at 0x115f5c940>"
      ]
     },
     "execution_count": 12,
     "metadata": {},
     "output_type": "execute_result"
    },
    {
     "data": {
      "image/png": "[encoded data removed]",
      "text/plain": [
       "<matplotlib.figure.Figure at 0x11506c4a8>"
      ]
     },
     "metadata": {},
     "output_type": "display_data"
    }
   ],
   "source": [
    "#print(ga_out['dhof'][3].attrs)\n",
    "#print(cells['TC'])\n",
    "model1 = None\n",
    "model1 = ReducedModel(LEMS_MODEL_PATH,name = str('vanilla'),backend = ('RAW'))\n",
    "model1.set_attrs(cells['TC'])\n",
    "model1.attrs.update(ga_out['dhof'][0].attrs)\n",
    "#model1.attrs.update({'vr':-60,'a':0.01,'b':15})\n",
    "print(model1.attrs)\n",
    "rheobase = ga_out['dhof'][0].rheobase\n",
    "iparams['amplitude'] = rheobase\n",
    "model1.inject_square_current(iparams)\n",
    "model2 = None\n",
    "model2 = ReducedModel(LEMS_MODEL_PATH,name = str('vanilla'),backend = ('RAW'))\n",
    "model2.set_attrs(cells['TC'])\n",
    "print(model2.attrs)\n",
    "model2.inject_square_current(iparams)\n",
    "plt.plot(model1.get_membrane_potential().times,model1.get_membrane_potential(),label='optimizer result')\n",
    "plt.plot(model2.get_membrane_potential().times,model2.get_membrane_potential(),label='ground truth')\n",
    "plt.legend()"
   ]
  },
  {
   "cell_type": "code",
   "execution_count": 13,
   "metadata": {},
   "outputs": [
    {
     "data": {
      "text/plain": [
       "<matplotlib.legend.Legend at 0x115f44ac8>"
      ]
     },
     "execution_count": 13,
     "metadata": {},
     "output_type": "execute_result"
    },
    {
     "data": {
      "image/png": "[encoded data removed]",
      "text/plain": [
       "<matplotlib.figure.Figure at 0x115f44f28>"
      ]
     },
     "metadata": {},
     "output_type": "display_data"
    }
   ],
   "source": [
    "for item in ['avg','max','min']:\n",
    "    plt.plot([x[item] for x in ga_out['log']],label=item)\n",
    "plt.legend()"
   ]
  },
  {
   "cell_type": "code",
   "execution_count": 14,
   "metadata": {
    "collapsed": false
   },
   "outputs": [
    {
     "data": {
      "text/html": [
       "<div>\n",
       "<style scoped>\n",
       "    .dataframe tbody tr th:only-of-type {\n",
       "        vertical-align: middle;\n",
       "    }\n",
       "\n",
       "    .dataframe tbody tr th {\n",
       "        vertical-align: top;\n",
       "    }\n",
       "\n",
       "    .dataframe thead th {\n",
       "        text-align: right;\n",
       "    }\n",
       "</style>\n",
       "<table border=\"1\" class=\"dataframe\">\n",
       "  <thead>\n",
       "    <tr style=\"text-align: right;\">\n",
       "      <th></th>\n",
       "      <th>0</th>\n",
       "      <th>1</th>\n",
       "      <th>2</th>\n",
       "      <th>3</th>\n",
       "      <th>4</th>\n",
       "      <th>5</th>\n",
       "      <th>6</th>\n",
       "      <th>7</th>\n",
       "    </tr>\n",
       "  </thead>\n",
       "  <tbody>\n",
       "    <tr>\n",
       "      <th>InputResistanceTest</th>\n",
       "      <td>0.15</td>\n",
       "      <td>0.18</td>\n",
       "      <td>0.18</td>\n",
       "      <td>0.04</td>\n",
       "      <td>0.31</td>\n",
       "      <td>0.35</td>\n",
       "      <td>0.18</td>\n",
       "      <td>0.12</td>\n",
       "    </tr>\n",
       "    <tr>\n",
       "      <th>TimeConstantTest</th>\n",
       "      <td>0.06</td>\n",
       "      <td>0.07</td>\n",
       "      <td>0.07</td>\n",
       "      <td>0.16</td>\n",
       "      <td>0.19</td>\n",
       "      <td>0.13</td>\n",
       "      <td>0.05</td>\n",
       "      <td>0.03</td>\n",
       "    </tr>\n",
       "    <tr>\n",
       "      <th>InjectedCurrentAPThresholdTest</th>\n",
       "      <td>0.04</td>\n",
       "      <td>0.01</td>\n",
       "      <td>0.17</td>\n",
       "      <td>0.27</td>\n",
       "      <td>0.19</td>\n",
       "      <td>0.13</td>\n",
       "      <td>0.25</td>\n",
       "      <td>0.74</td>\n",
       "    </tr>\n",
       "    <tr>\n",
       "      <th>InjectedCurrentAPAmplitudeTest</th>\n",
       "      <td>0.02</td>\n",
       "      <td>0.00</td>\n",
       "      <td>0.07</td>\n",
       "      <td>0.12</td>\n",
       "      <td>0.08</td>\n",
       "      <td>0.06</td>\n",
       "      <td>0.11</td>\n",
       "      <td>0.37</td>\n",
       "    </tr>\n",
       "    <tr>\n",
       "      <th>RheobaseTestP</th>\n",
       "      <td>0.45</td>\n",
       "      <td>0.62</td>\n",
       "      <td>0.55</td>\n",
       "      <td>0.17</td>\n",
       "      <td>0.00</td>\n",
       "      <td>0.52</td>\n",
       "      <td>0.62</td>\n",
       "      <td>0.45</td>\n",
       "    </tr>\n",
       "    <tr>\n",
       "      <th>CapacitanceTest</th>\n",
       "      <td>0.19</td>\n",
       "      <td>0.41</td>\n",
       "      <td>0.28</td>\n",
       "      <td>0.58</td>\n",
       "      <td>0.57</td>\n",
       "      <td>0.37</td>\n",
       "      <td>0.51</td>\n",
       "      <td>0.27</td>\n",
       "    </tr>\n",
       "    <tr>\n",
       "      <th>InjectedCurrentAPWidthTest</th>\n",
       "      <td>0.04</td>\n",
       "      <td>0.04</td>\n",
       "      <td>0.07</td>\n",
       "      <td>0.03</td>\n",
       "      <td>0.13</td>\n",
       "      <td>0.04</td>\n",
       "      <td>0.00</td>\n",
       "      <td>0.22</td>\n",
       "    </tr>\n",
       "    <tr>\n",
       "      <th>RestingPotentialTest</th>\n",
       "      <td>0.34</td>\n",
       "      <td>0.53</td>\n",
       "      <td>0.45</td>\n",
       "      <td>0.49</td>\n",
       "      <td>0.53</td>\n",
       "      <td>0.51</td>\n",
       "      <td>0.55</td>\n",
       "      <td>0.34</td>\n",
       "    </tr>\n",
       "  </tbody>\n",
       "</table>\n",
       "</div>"
      ],
      "text/plain": [
       "                                   0     1     2     3     4     5     6     7\n",
       "InputResistanceTest             0.15  0.18  0.18  0.04  0.31  0.35  0.18  0.12\n",
       "TimeConstantTest                0.06  0.07  0.07  0.16  0.19  0.13  0.05  0.03\n",
       "InjectedCurrentAPThresholdTest  0.04  0.01  0.17  0.27  0.19  0.13  0.25  0.74\n",
       "InjectedCurrentAPAmplitudeTest  0.02  0.00  0.07  0.12  0.08  0.06  0.11  0.37\n",
       "RheobaseTestP                   0.45  0.62  0.55  0.17  0.00  0.52  0.62  0.45\n",
       "CapacitanceTest                 0.19  0.41  0.28  0.58  0.57  0.37  0.51  0.27\n",
       "InjectedCurrentAPWidthTest      0.04  0.04  0.07  0.03  0.13  0.04  0.00  0.22\n",
       "RestingPotentialTest            0.34  0.53  0.45  0.49  0.53  0.51  0.55  0.34"
      ]
     },
     "execution_count": 14,
     "metadata": {},
     "output_type": "execute_result"
    }
   ],
   "source": [
    "df = pd.DataFrame(index=ga_out['dhof'][0].scores.keys(),columns=range(len(ga_out['dhof'])))\n",
    "for i,dhof in enumerate(ga_out['dhof']):\n",
    "    df[i] = np.array(list(dhof.scores.values())).round(2)\n",
    "df"
   ]
  },
  {
   "cell_type": "code",
   "execution_count": 15,
   "metadata": {},
   "outputs": [
    {
     "data": {
      "text/html": [
       "=== Model vanilla achieved score Z = -0.54 on test 'RheobaseTestP'. ===\n"
      ],
      "text/plain": [
       "<IPython.core.display.HTML object>"
      ]
     },
     "metadata": {},
     "output_type": "display_data"
    },
    {
     "data": {
      "text/plain": [
       "0.586530056203717"
      ]
     },
     "execution_count": 15,
     "metadata": {},
     "output_type": "execute_result"
    }
   ],
   "source": [
    "score = tests_[0].judge(model1)\n",
    "score.summarize()\n",
    "score.norm_score"
   ]
  },
  {
   "cell_type": "code",
   "execution_count": 16,
   "metadata": {
    "collapsed": false
   },
   "outputs": [
    {
     "name": "stdout",
     "output_type": "stream",
     "text": [
      "Try 1: SubMax = 42.5; SupraMin = 84.0\n",
      "Try 2: SubMax = 72.1; SupraMin = 78.1\n",
      "Try 3: SubMax = 74.7; SupraMin = 75.5\n",
      "Try 1: SubMax = 42.5; SupraMin = 84.0\n",
      "Try 2: SubMax = 72.1; SupraMin = 78.1\n",
      "Try 3: SubMax = 74.7; SupraMin = 75.5\n",
      "75.53061224489795 pA 75.53061224489795 pA\n",
      "injected current seen:  {'delay': array(200.0) * ms, 'amplitude': array(-10.0) * pA, 'duration': array(500.0) * ms}\n",
      "injected current seen:  {'delay': array(200.0) * ms, 'amplitude': array(-10.0) * pA, 'duration': array(500.0) * ms}\n",
      "input resistance score: Z = 0.00\n",
      "31.73928299824782 Mohm 31739282.99824782 kg*m**2/(s**3*A**2)\n",
      "injected current seen:  {'delay': array(200.0) * ms, 'amplitude': array(-10.0) * pA, 'duration': array(500.0) * ms}\n",
      "injected current seen:  {'delay': array(200.0) * ms, 'amplitude': array(-10.0) * pA, 'duration': array(500.0) * ms}\n",
      "3.4631849083750876 ms 0.0034631849083750876 s\n",
      "injected current seen:  {'delay': array(200.0) * ms, 'amplitude': array(-10.0) * pA, 'duration': array(500.0) * ms}\n",
      "injected current seen:  {'delay': array(200.0) * ms, 'amplitude': array(-10.0) * pA, 'duration': array(500.0) * ms}\n",
      "1.0911352057216523e-10 s**4*A**2/(kg*m**2) 1.0911352057216523e-10 s**4*A**2/(kg*m**2)\n",
      "-60.317405613048955 mV -0.060317405613048956 V\n",
      "0.55 ms 0.00055 s\n",
      "50.65778903053697 mV 0.05065778903053697 V\n",
      "-15.657789030536964 mV -0.015657789030536964 V\n",
      "1.0\n",
      "Z = 0.00\n"
     ]
    }
   ],
   "source": [
    "def hack_judge(test_and_models):\n",
    "    (test, attrs) = test_and_models\n",
    "    model = None\n",
    "    obs = test.observation\n",
    "    model = ReducedModel(LEMS_MODEL_PATH,name = str('vanilla'),backend = ('RAW'))\n",
    "    model.set_attrs(attrs)\n",
    "    test.generate_prediction(model)\n",
    "    pred = test.generate_prediction(model)\n",
    "    score = test.compute_score(obs,pred)\n",
    "    try:\n",
    "        print(obs['value'],pred['value'])\n",
    "    except:\n",
    "        print(obs['mean'],pred['mean'])\n",
    "        \n",
    "    return score\n",
    "\n",
    "scores = []\n",
    "for i,t in enumerate(TC_tests):\n",
    "    test_and_models = (t,cells['TC'])\n",
    "    score = hack_judge(test_and_models)\n",
    "    scores.append(score)\n",
    "print(scores[0].norm_score)    \n",
    "print(scores[0])    \n",
    "\n"
   ]
  },
  {
   "cell_type": "code",
   "execution_count": 17,
   "metadata": {
    "collapsed": false
   },
   "outputs": [
    {
     "name": "stdout",
     "output_type": "stream",
     "text": [
      "[1.0, 1.0, 1.0, 0.9999999999999994, 1.0, 1.0, 1.0, 1.0]\n",
      "[0.0, 0.0, 0.0, -6.930132477823624e-16, 0.0, 0.0, 0.0, 0.0]\n",
      "0.55 ms 0.00055 s\n",
      "Z = 0.00\n"
     ]
    }
   ],
   "source": [
    "print([s.norm_score for s in scores])\n",
    "print([s.score for s in scores])\n",
    "\n",
    "score = hack_judge((TC_tests[-3],cells['TC']))\n",
    "print(score)"
   ]
  },
  {
   "cell_type": "code",
   "execution_count": 14,
   "metadata": {
    "collapsed": false
   },
   "outputs": [
    {
     "name": "stdout",
     "output_type": "stream",
     "text": [
      "Try 1: SubMax = 42.5; SupraMin = 84.0\n",
      "Try 2: SubMax = 48.4; SupraMin = 54.4\n",
      "Try 3: SubMax = 51.0; SupraMin = 51.8\n",
      "Try 1: SubMax = 42.5; SupraMin = 84.0\n",
      "Try 2: SubMax = 48.4; SupraMin = 54.4\n",
      "Try 3: SubMax = 51.0; SupraMin = 51.8\n",
      "75.53061224489795 pA 51.81632653061225 pA\n",
      "injected current seen:  {'delay': array(200.0) * ms, 'amplitude': array(-10.0) * pA, 'duration': array(500.0) * ms}\n",
      "injected current seen:  {'delay': array(200.0) * ms, 'amplitude': array(-10.0) * pA, 'duration': array(500.0) * ms}\n",
      "input resistance score: Z = 0.62\n",
      "31.73928299824782 Mohm 79634016.52239381 kg*m**2/(s**3*A**2)\n",
      "injected current seen:  {'delay': array(200.0) * ms, 'amplitude': array(-10.0) * pA, 'duration': array(500.0) * ms}\n",
      "injected current seen:  {'delay': array(200.0) * ms, 'amplitude': array(-10.0) * pA, 'duration': array(500.0) * ms}\n",
      "3.4631849083750876 ms 0.009810667396493434 s\n",
      "injected current seen:  {'delay': array(200.0) * ms, 'amplitude': array(-10.0) * pA, 'duration': array(500.0) * ms}\n",
      "injected current seen:  {'delay': array(200.0) * ms, 'amplitude': array(-10.0) * pA, 'duration': array(500.0) * ms}\n",
      "1.0911352057216523e-10 s**4*A**2/(kg*m**2) 1.231969430266598e-10 s**4*A**2/(kg*m**2)\n",
      "-60.317405613048955 mV -0.06075346627665097 V\n",
      "0.55 ms 0.000771875 s\n",
      "50.65778903053697 mV 0.05343030234908487 V\n",
      "-15.657789030536964 mV -0.018430302349084875 V\n",
      "0.6244989741265031\n",
      "Z = -0.49\n",
      "[0.6244989741265031, 0.5372765850958718, 0.4696921520174828, 0.45016300791078434, 0.946777506200236, 0.6779755333175013, 0.8278401818038221, 0.6136943079479662]\n"
     ]
    }
   ],
   "source": [
    "scores = []\n",
    "for t in TC_tests:\n",
    "    test_and_models = (t,cells['RS'])\n",
    "    score = hack_judge(test_and_models)\n",
    "    scores.append(score)\n",
    "print(scores[0].norm_score)    \n",
    "print(scores[0])\n",
    "print([s.norm_score for s in scores])\n"
   ]
  },
  {
   "cell_type": "code",
   "execution_count": 15,
   "metadata": {
    "collapsed": false
   },
   "outputs": [
    {
     "name": "stdout",
     "output_type": "stream",
     "text": [
      "injected current seen:  {'delay': array(200.0) * ms, 'amplitude': array(-10.0) * pA, 'duration': array(500.0) * ms}\n",
      "injected current seen:  {'delay': array(200.0) * ms, 'amplitude': array(-10.0) * pA, 'duration': array(500.0) * ms}\n",
      "injected current seen:  {'delay': array(200.0) * ms, 'amplitude': array(-10.0) * pA, 'duration': array(500.0) * ms}\n",
      "injected current seen:  {'delay': array(200.0) * ms, 'amplitude': array(-10.0) * pA, 'duration': array(500.0) * ms}\n",
      "injected current seen:  {'delay': array(200.0) * ms, 'amplitude': array(-10.0) * pA, 'duration': array(500.0) * ms}\n",
      "injected current seen:  {'delay': array(200.0) * ms, 'amplitude': array(-10.0) * pA, 'duration': array(500.0) * ms}\n",
      "input resistance score: Z = 0.62\n",
      "31.73928299824782 Mohm 79634016.52239381 kg*m**2/(s**3*A**2)\n",
      "3.4631849083750876 ms 0.009810667396493434 s\n",
      "1.0911352057216523e-10 s**4*A**2/(kg*m**2) 1.231969430266598e-10 s**4*A**2/(kg*m**2)\n",
      "-21.127191359642023 mV -0.018576602637434048 V\n",
      "0.6500000000000001 ms 0.0007750000000000001 s\n",
      "56.127191359642026 mV 0.05357660263743405 V\n",
      "-60.317405613048955 mV -0.06075346627665097 V\n",
      "[{'value': array(75.53061224489795) * pA}, <sciunit.scores.complete.ZScore object at 0x7f175cd8d198>, <sciunit.scores.complete.ZScore object at 0x7f175a7c6eb8>, <sciunit.scores.complete.ZScore object at 0x7f175a60bb70>, <sciunit.scores.complete.ZScore object at 0x7f1759f53f60>, <sciunit.scores.complete.ZScore object at 0x7f177c4d0080>, <sciunit.scores.complete.ZScore object at 0x7f1759f53438>, <sciunit.scores.complete.ZScore object at 0x7f175a7c6908>]\n"
     ]
    }
   ],
   "source": [
    "import dask.bag as db\n",
    "# The rheobase has been obtained seperately and cannot be db mapped.\n",
    "# Nested DB mappings dont work.\n",
    "from itertools import repeat\n",
    "test_a_models = zip(TC_tests[1::],repeat(cells['RS']))\n",
    "tc_bag = db.from_sequence(test_a_models)\n",
    "\n",
    "scores = list(tc_bag.map(hack_judge).compute())\n",
    "scores.insert(0,rheobase)\n",
    "print(scores)    "
   ]
  },
  {
   "cell_type": "code",
   "execution_count": 16,
   "metadata": {
    "collapsed": false
   },
   "outputs": [
    {
     "name": "stdout",
     "output_type": "stream",
     "text": [
      "Try 1: SubMax = 42.5; SupraMin = 84.0\n",
      "Try 2: SubMax = 72.1; SupraMin = 78.1\n",
      "Try 3: SubMax = 74.7; SupraMin = 75.5\n",
      "{'value': array(75.53061224489795) * pA}\n"
     ]
    }
   ],
   "source": [
    "score = TC_tests[0].judge(model,stop_on_error = False, deep_error = True)\n",
    "print(score.prediction)\n",
    "#print(model.get_spike_count())"
   ]
  },
  {
   "cell_type": "code",
   "execution_count": 17,
   "metadata": {
    "collapsed": false
   },
   "outputs": [
    {
     "ename": "ImportError",
     "evalue": "cannot import name 'ReducedModel'",
     "output_type": "error",
     "traceback": [
      "\u001b[0;31m---------------------------------------------------------------------------\u001b[0m",
      "\u001b[0;31mImportError\u001b[0m                               Traceback (most recent call last)",
      "\u001b[0;32m<ipython-input-17-a27e11b8bd88>\u001b[0m in \u001b[0;36m<module>\u001b[0;34m()\u001b[0m\n\u001b[1;32m      1\u001b[0m \u001b[0;32mfrom\u001b[0m \u001b[0mneuronunit\u001b[0m\u001b[0;34m.\u001b[0m\u001b[0moptimization\u001b[0m \u001b[0;32mimport\u001b[0m \u001b[0moptimization_management\u001b[0m \u001b[0;32mas\u001b[0m \u001b[0mopt\u001b[0m\u001b[0;34m\u001b[0m\u001b[0m\n\u001b[0;32m----> 2\u001b[0;31m \u001b[0;32mfrom\u001b[0m \u001b[0mneuronunit\u001b[0m\u001b[0;34m.\u001b[0m\u001b[0mmodels\u001b[0m \u001b[0;32mimport\u001b[0m \u001b[0mReducedModel\u001b[0m\u001b[0;34m\u001b[0m\u001b[0m\n\u001b[0m",
      "\u001b[0;31mImportError\u001b[0m: cannot import name 'ReducedModel'"
     ]
    }
   ],
   "source": [
    "from neuronunit.optimization import optimization_management as opt\n",
    "from neuronunit.models import ReducedModel"
   ]
  },
  {
   "cell_type": "code",
   "execution_count": null,
   "metadata": {
    "collapsed": false
   },
   "outputs": [],
   "source": []
  },
  {
   "cell_type": "raw",
   "metadata": {
    "collapsed": true
   },
   "source": []
  }
 ],
 "metadata": {
  "kernelspec": {
   "display_name": "Python 3",
   "language": "python",
   "name": "python3"
  },
  "language_info": {
   "codemirror_mode": {
    "name": "ipython",
    "version": 3
   },
   "file_extension": ".py",
   "mimetype": "text/x-python",
   "name": "python",
   "nbconvert_exporter": "python",
   "pygments_lexer": "ipython3",
   "version": "3.5.2"
  }
 },
 "nbformat": 4,
 "nbformat_minor": 2
}
