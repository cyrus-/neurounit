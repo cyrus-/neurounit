{
 "cells": [
  {
   "cell_type": "code",
   "execution_count": null,
   "metadata": {
    "collapsed": false
   },
   "outputs": [
    {
     "name": "stdout",
     "output_type": "stream",
     "text": [
      "{'k': [0.000999, 0.001001], 'vr': [-90.0, -60.0]}\n",
      "[] []\n",
      "Try 1: SubMax = 250.0; SupraMin = None\n",
      "Try 2: SubMax = 500.0; SupraMin = None\n",
      "Try 3: SubMax = 500.0; SupraMin = 583.3\n",
      "Try 4: SubMax = 555.6; SupraMin = 583.3\n",
      "Try 5: SubMax = 574.1; SupraMin = 583.3\n",
      "Try 6: SubMax = 575.6; SupraMin = 577.2\n",
      "Z = 8.49\n",
      "Try 1: SubMax = 41.7; SupraMin = 83.3\n",
      "Try 2: SubMax = 69.5; SupraMin = 83.3\n",
      "Try 3: SubMax = 78.7; SupraMin = 83.3\n",
      "Z = -1.86\n",
      "Try 1: SubMax = 250.0; SupraMin = None\n",
      "Try 2: SubMax = 500.0; SupraMin = None\n",
      "Try 3: SubMax = 500.0; SupraMin = 583.3\n",
      "Try 4: SubMax = 555.6; SupraMin = 583.3\n",
      "Try 5: SubMax = 574.1; SupraMin = 583.3\n",
      "Try 6: SubMax = 575.6; SupraMin = 577.2\n",
      "Z = 8.49\n",
      "Try 1: SubMax = 41.7; SupraMin = 83.3\n",
      "Try 2: SubMax = 69.5; SupraMin = 83.3\n",
      "Try 3: SubMax = 78.7; SupraMin = 83.3\n",
      "Z = -1.86\n",
      "len tests 2 tests [<neuronunit.tests.fi.RheobaseTestP object at 0x7f0b4cdb2128>, <neuronunit.tests.passive.InputResistanceTest object at 0x7f0b4cdb2b70>]\n",
      "tests, completed, now gene computations\n",
      "[[0.000999, -90.0], [0.000999, -60.0], [0.001001, -90.0], [0.001001, -60.0]]\n",
      "Try 1: SubMax = 250.0; SupraMin = None\n",
      "Try 2: SubMax = 500.0; SupraMin = None\n",
      "Try 3: SubMax = 500.0; SupraMin = 583.3\n",
      "Try 4: SubMax = 555.6; SupraMin = 583.3\n",
      "Try 5: SubMax = 574.1; SupraMin = 583.3\n",
      "Try 6: SubMax = 575.6; SupraMin = 577.2\n",
      "Z = 8.49\n",
      "Try 1: SubMax = 41.7; SupraMin = 83.3\n",
      "Try 2: SubMax = 69.5; SupraMin = 83.3\n",
      "Try 3: SubMax = 78.7; SupraMin = 83.3\n",
      "Z = -1.86\n",
      "Try 1: SubMax = 250.0; SupraMin = None\n",
      "Try 2: SubMax = 500.0; SupraMin = None\n",
      "Try 3: SubMax = 500.0; SupraMin = 583.3\n",
      "Try 4: SubMax = 555.6; SupraMin = 583.3\n",
      "Try 5: SubMax = 560.2; SupraMin = 564.8\n",
      "Z = 8.23\n",
      "Try 1: SubMax = 83.3; SupraMin = 125.0\n",
      "Try 2: SubMax = 111.1; SupraMin = 125.0\n",
      "113.4313888888889\n",
      "Try 3: SubMax = 111.1; SupraMin = 113.4\n"
     ]
    },
    {
     "name": "stderr",
     "output_type": "stream",
     "text": [
      "INFO:__main__:gen\tnevals\tavg     \tstd      \tmin     \tmax\n",
      "1  \t4     \t0.968689\t0.031311 \t0.937378\t1  \n",
      "2  \t4     \t0.929754\t0.0892548\t0.781637\t1  \n"
     ]
    },
    {
     "name": "stdout",
     "output_type": "stream",
     "text": [
      "Z = -1.23\n",
      "len tests 2 tests [<neuronunit.tests.fi.RheobaseTestP object at 0x7f0b4cdb2128>, <neuronunit.tests.passive.InputResistanceTest object at 0x7f0b4cdb2b70>]\n",
      "tests, completed, now gene computations\n",
      "[[0.000999, -90.0], [0.00099901565782739587, -60.0], [0.001000969449092908, -89.480790933191486], [0.0010008659395419712, -63.234935502760649]]\n",
      "Try 1: SubMax = 83.3; SupraMin = 125.0\n",
      "Try 2: SubMax = 111.1; SupraMin = 125.0\n",
      "113.4313888888889\n",
      "Try 3: SubMax = 111.1; SupraMin = 113.4\n",
      "Z = -1.23\n",
      "Try 1: SubMax = 41.7; SupraMin = 83.3\n",
      "Try 2: SubMax = 69.5; SupraMin = 83.3\n",
      "Try 3: SubMax = 78.7; SupraMin = 83.3\n",
      "Z = -1.86\n",
      "Try 1: SubMax = 41.7; SupraMin = 83.3\n",
      "Try 2: SubMax = 69.5; SupraMin = 83.3\n",
      "Try 3: SubMax = 78.7; SupraMin = 83.3\n",
      "Z = -1.86\n",
      "Try 1: SubMax = 41.7; SupraMin = 83.3\n",
      "Try 2: SubMax = 69.5; SupraMin = 83.3\n",
      "Try 3: SubMax = 78.7; SupraMin = 83.3\n"
     ]
    },
    {
     "name": "stderr",
     "output_type": "stream",
     "text": [
      "INFO:__main__:3  \t4     \t0.898443\t0.0674377\t0.781637\t0.937378\n"
     ]
    },
    {
     "name": "stdout",
     "output_type": "stream",
     "text": [
      "Z = -1.86\n",
      "len tests 2 tests [<neuronunit.tests.fi.RheobaseTestP object at 0x7f0b4cdb2128>, <neuronunit.tests.passive.InputResistanceTest object at 0x7f0b4cdb2b70>]\n",
      "tests, completed, now gene computations\n",
      "Try 1: SubMax = 83.3; SupraMin = 125.0\n",
      "Try 2: SubMax = 111.1; SupraMin = 125.0\n",
      "113.4313888888889\n",
      "Try 3: SubMax = 111.1; SupraMin = 113.4\n",
      "Z = -1.23\n",
      "Try 1: SubMax = 166.7; SupraMin = 208.3\n",
      "Try 2: SubMax = 180.6; SupraMin = 187.5\n",
      "185.18777777777777\n",
      "Try 3: SubMax = 184.0; SupraMin = 185.2\n",
      "Z = 0.27\n",
      "Try 1: SubMax = 41.7; SupraMin = 83.3\n",
      "Try 2: SubMax = 69.5; SupraMin = 83.3\n",
      "Try 3: SubMax = 78.7; SupraMin = 83.3\n",
      "Z = -1.86\n",
      "Try 1: SubMax = 41.7; SupraMin = 83.3\n",
      "Try 2: SubMax = 69.5; SupraMin = 83.3\n",
      "Try 3: SubMax = 78.7; SupraMin = 83.3\n"
     ]
    },
    {
     "name": "stderr",
     "output_type": "stream",
     "text": [
      "INFO:__main__:4  \t4     \t0.718026\t0.2969   \t0.21571 \t0.937378\n"
     ]
    },
    {
     "name": "stdout",
     "output_type": "stream",
     "text": [
      "Z = -1.86\n",
      "len tests 2 tests [<neuronunit.tests.fi.RheobaseTestP object at 0x7f0b4cdb2128>, <neuronunit.tests.passive.InputResistanceTest object at 0x7f0b4cdb2b70>]\n",
      "tests, completed, now gene computations\n",
      "[[0.0010009117308337728, -63.234935502760649], [0.00099920983354791887, -69.207779017268251], [0.000999, -60.0], [0.0010009993281612753, -60.0]]\n",
      "Try 1: SubMax = 166.7; SupraMin = 208.3\n",
      "Try 2: SubMax = 180.6; SupraMin = 187.5\n",
      "185.18777777777777\n",
      "Try 3: SubMax = 184.0; SupraMin = 185.2\n",
      "Z = 0.27\n",
      "Try 1: SubMax = 83.3; SupraMin = 125.0\n",
      "Try 2: SubMax = 111.1; SupraMin = 125.0\n",
      "113.4313888888889\n",
      "Try 3: SubMax = 111.1; SupraMin = 113.4\n",
      "Z = -1.23\n",
      "Try 1: SubMax = 83.3; SupraMin = 125.0\n",
      "Try 2: SubMax = 111.1; SupraMin = 125.0\n",
      "113.4313888888889\n",
      "Try 3: SubMax = 111.1; SupraMin = 113.4\n",
      "Z = -1.23\n",
      "Try 1: SubMax = 166.7; SupraMin = 208.3\n",
      "Try 2: SubMax = 173.6; SupraMin = 180.6\n",
      "178.24361111111108\n",
      "Try 3: SubMax = 177.1; SupraMin = 178.2\n"
     ]
    },
    {
     "name": "stderr",
     "output_type": "stream",
     "text": [
      "INFO:__main__:5  \t4     \t0.470233\t0.313991 \t0.101949\t0.781637\n"
     ]
    },
    {
     "name": "stdout",
     "output_type": "stream",
     "text": [
      "Z = 0.13\n",
      "len tests 2 tests [<neuronunit.tests.fi.RheobaseTestP object at 0x7f0b4cdb2128>, <neuronunit.tests.passive.InputResistanceTest object at 0x7f0b4cdb2b70>]\n",
      "tests, completed, now gene computations\n",
      "Try 1: SubMax = 166.7; SupraMin = 208.3\n",
      "Try 2: SubMax = 166.7; SupraMin = 173.6\n",
      "171.29944444444442\n",
      "Try 3: SubMax = 170.1; SupraMin = 171.3\n",
      "Z = -0.02\n",
      "Try 1: SubMax = 166.7; SupraMin = 208.3\n",
      "Try 2: SubMax = 180.6; SupraMin = 187.5\n",
      "185.18777777777777\n",
      "Try 3: SubMax = 184.0; SupraMin = 185.2\n",
      "Z = 0.27\n",
      "Try 1: SubMax = 166.7; SupraMin = 208.3\n",
      "Try 2: SubMax = 180.6; SupraMin = 187.5\n",
      "Try 3: SubMax = 185.2; SupraMin = 187.5\n",
      "Z = 0.32\n",
      "Try 1: SubMax = 83.3; SupraMin = 125.0\n",
      "Try 2: SubMax = 111.1; SupraMin = 125.0\n",
      "113.4313888888889\n",
      "Try 3: SubMax = 111.1; SupraMin = 113.4\n"
     ]
    },
    {
     "name": "stderr",
     "output_type": "stream",
     "text": [
      "INFO:__main__:6  \t4     \t0.316012\t0.283774 \t0.0139506\t0.781637\n"
     ]
    },
    {
     "name": "stdout",
     "output_type": "stream",
     "text": [
      "Z = -1.23\n",
      "len tests 2 tests [<neuronunit.tests.fi.RheobaseTestP object at 0x7f0b4cdb2128>, <neuronunit.tests.passive.InputResistanceTest object at 0x7f0b4cdb2b70>]\n",
      "tests, completed, now gene computations\n",
      "Try 1: SubMax = 166.7; SupraMin = 208.3\n",
      "187.5025\n",
      "Try 2: SubMax = 180.6; SupraMin = 187.5\n",
      "Try 3: SubMax = 185.2; SupraMin = 187.5\n",
      "Z = 0.32\n",
      "Try 1: SubMax = 166.7; SupraMin = 208.3\n"
     ]
    }
   ],
   "source": [
    "\n",
    "import seaborn as sns\n",
    "import quantities as pq\n",
    "from neuronunit.optimization.data_transport_container import DataTC\n",
    "import os\n",
    "import pickle\n",
    "import copy\n",
    "import numpy as np\n",
    "import pandas as pd\n",
    "import matplotlib.pyplot as plt\n",
    "\n",
    "from neuronunit.optimization import get_neab\n",
    "from neuronunit.models.reduced import ReducedModel\n",
    "from neuronunit.optimization.model_parameters import model_params, path_params\n",
    "from neuronunit.optimization import model_parameters as modelp\n",
    "\n",
    "mp = modelp.model_params\n",
    "\n",
    "mp['k'] = [1e-3-1e-6,1e-3+1e-6]\n",
    "\n",
    "\n",
    "mp['a'] = 0.1\n",
    "mp['b'] = 0.01\n",
    "#mp['vr'] = -65.0\n",
    "mp['vr'] = [-90.0,-60.0]\n",
    "#print(mp['k'],mp['vr'])\n",
    "\n",
    "\n",
    "free_params = ['k','vr']\n",
    "from neuronunit.optimization import optimization_management as om\n",
    "mp = modelp.model_params\n",
    "\n",
    "import sciunit\n",
    "import neuronunit.optimization as opt\n",
    "tests_,all_tests, observation,suite = opt.get_neab.get_tests()\n",
    "passive  = [ str('RestingPotentialTest'), str('CapacitanceTest'), str('TimeConstantTest'), str('InputResistanceTest') ]\n",
    "firing_tests =  [ t for t in all_tests if str(t) not in passive ]\n",
    "first_two = all_tests[0:2]\n",
    "import pickle\n",
    "    \n",
    "try:\n",
    "    assert 1==2\n",
    "    ga_out = pickle.load(open('gaout.p','rb'))\n",
    "except:\n",
    "    # 10*4 gene evaluations\n",
    "    ga_out, DO = om.run_ga(mp,10,first_two,free_params=free_params)\n",
    "    print(ga_out)\n",
    "    pickle.dump(ga_out,open('gaout.p','wb'))\n"
   ]
  },
  {
   "cell_type": "code",
   "execution_count": 2,
   "metadata": {
    "collapsed": false
   },
   "outputs": [
    {
     "name": "stdout",
     "output_type": "stream",
     "text": [
      "{'k': 0.00099927492997407418, 'vr': -63.234935502760649}\n",
      "{'RheobaseTestP': 0.7816373196015772}\n",
      "{'value': array(113.4313888888889) * pA}\n",
      "InputResistanceTest\n",
      "input resistance score: Z = -5.29\n",
      "0\n",
      "score Z = -5.29\n",
      "observation 457000000.0 ohm, prediction 46153398.81232915 kg*m**2/(s**3*A**2)\n",
      "TimeConstantTest\n",
      "0\n",
      "score Z = -2.05\n",
      "observation 23.186875 ms, prediction 0.00518486301876763 s\n",
      "CapacitanceTest\n",
      "0\n",
      "score Z = 2.34\n",
      "observation 6.865e-11 F, prediction 1.1233978758207026e-10 s**4*A**2/(kg*m**2)\n",
      "RestingPotentialTest\n",
      "0\n",
      "score Z = -0.82\n",
      "observation -57.9 mV, prediction -0.06323493452709672 V\n",
      "InjectedCurrentAPWidthTest\n",
      "> /home/jovyan/neuronunit/neuronunit/tests/waveform.py(30)generate_prediction()\n",
      "-> model.inject_square_current(model.params['injected_square_current'])\n",
      "(Pdb) c\n",
      "1\n",
      "score Z = -1.69\n",
      "observation 1.505 ms, prediction 0.0006025000000000001 s\n",
      "InjectedCurrentAPAmplitudeTest\n",
      "1\n",
      "score Z = -0.35\n",
      "observation 64.0 mV, prediction 0.059506097176639176 V\n",
      "InjectedCurrentAPThresholdTest\n",
      "1\n",
      "score Z = 3.10\n",
      "observation -41.4742424242424 mV, prediction -0.024441763736844653 V\n"
     ]
    }
   ],
   "source": [
    "import pickle\n",
    "ga_out = pickle.load(open('gaout.p','rb'))\n",
    "\n",
    "print(ga_out['hof'][0].dtc.attrs)\n",
    "print(ga_out['hof'][0].dtc.scores)\n",
    "print(ga_out['hof'][0].dtc.rheobase)\n",
    "dtc = ga_out['bd']  \n",
    "dtcpop = ga_out['dhof']\n",
    "#self.results['dhof'] = [ h.dtc for h in self.results['hof'] ]\n",
    "#self.results['bd'] = self.results['hof'][0].dtc\n",
    "\n",
    "from neuronunit.models.reduced import ReducedModel\n",
    "\n",
    "from neuronunit.optimization.model_parameters import model_params, path_params\n",
    "LEMS_MODEL_PATH = path_params['model_path']\n",
    "import neuronunit.optimization as opt\n",
    "\n",
    "tests_,all_tests, observation,suite = opt.get_neab.get_tests()\n",
    "\n",
    "model = ReducedModel(LEMS_MODEL_PATH,name = str('vanilla'),backend = ('NEURON',{'DTC':dtc}))\n",
    "model.set_attrs(dtc.attrs)\n",
    "params = {}\n",
    "params['injected_square_current'] = {}\n",
    "params['injected_square_current']['amplitude'] = ga_out['hof'][0].dtc.rheobase['value']\n",
    "#['amplitude']  = dtc.vtest[k]['injected_square_current']['amplitude']\n",
    "DELAY = 100.0*pq.ms\n",
    "DURATION = 1000.0*pq.ms\n",
    "params['injected_square_current']['delay'] = DELAY\n",
    "params['injected_square_current']['duration'] = DURATION\n",
    "\n",
    "\n",
    "cnt = 0\n",
    "for t in all_tests[1::]:\n",
    "    print(t)\n",
    "    model = ReducedModel(LEMS_MODEL_PATH,name = str('vanilla'),backend = ('NEURON',{'DTC':dtc}))\n",
    "    model.set_attrs(dtc.attrs)\n",
    "    model._backend.reset_vm()\n",
    "    if cnt<4:\n",
    "        break\n",
    "    if cnt >3:\n",
    "    \n",
    "        model.params = params\n",
    "\n",
    "    score = t.judge(model,stop_on_error = False, deep_error = True)\n",
    "    print(model.get_spike_count())\n",
    "    print('score {0}'.format(score))\n",
    "    if str('mean') in score.prediction.keys():\n",
    "        print('observation {0}, prediction {1}'.format(t.observation['mean'],score.prediction['mean']))\n",
    "    if str('value') in score.prediction.keys():\n",
    "        print('observation {0}, prediction {1}'.format(t.observation['mean'],score.prediction['value']))\n",
    "\n",
    "    cnt+=1\n",
    "    \n",
    "\n",
    "    "
   ]
  },
  {
   "cell_type": "code",
   "execution_count": 3,
   "metadata": {
    "collapsed": false
   },
   "outputs": [
    {
     "name": "stdout",
     "output_type": "stream",
     "text": [
      "{'injected_square_current': {'delay': array(100.0) * ms, 'amplitude': array(113.4313888888889) * pA, 'duration': array(1000.0) * ms}}\n"
     ]
    },
    {
     "ename": "NameError",
     "evalue": "name 'attrs' is not defined",
     "output_type": "error",
     "traceback": [
      "\u001b[0;31m---------------------------------------------------------------------------\u001b[0m",
      "\u001b[0;31mNameError\u001b[0m                                 Traceback (most recent call last)",
      "\u001b[0;32m<ipython-input-3-96ef96c62fd6>\u001b[0m in \u001b[0;36m<module>\u001b[0;34m()\u001b[0m\n\u001b[1;32m     11\u001b[0m \u001b[0mmodel\u001b[0m\u001b[0;34m.\u001b[0m\u001b[0minject_square_current\u001b[0m\u001b[0;34m(\u001b[0m\u001b[0mmodel\u001b[0m\u001b[0;34m.\u001b[0m\u001b[0mparams\u001b[0m\u001b[0;34m[\u001b[0m\u001b[0;34m'injected_square_current'\u001b[0m\u001b[0;34m]\u001b[0m\u001b[0;34m)\u001b[0m\u001b[0;34m\u001b[0m\u001b[0m\n\u001b[1;32m     12\u001b[0m \u001b[0mvm\u001b[0m \u001b[0;34m=\u001b[0m \u001b[0mcopy\u001b[0m\u001b[0;34m.\u001b[0m\u001b[0mcopy\u001b[0m\u001b[0;34m(\u001b[0m\u001b[0mmodel\u001b[0m\u001b[0;34m.\u001b[0m\u001b[0mget_membrane_potential\u001b[0m\u001b[0;34m(\u001b[0m\u001b[0;34m)\u001b[0m\u001b[0;34m)\u001b[0m\u001b[0;34m\u001b[0m\u001b[0m\n\u001b[0;32m---> 13\u001b[0;31m \u001b[0mplt\u001b[0m\u001b[0;34m.\u001b[0m\u001b[0mplot\u001b[0m\u001b[0;34m(\u001b[0m\u001b[0mvm\u001b[0m\u001b[0;34m.\u001b[0m\u001b[0mtimes\u001b[0m\u001b[0;34m,\u001b[0m\u001b[0mvm\u001b[0m\u001b[0;34m*\u001b[0m\u001b[0;36m1000\u001b[0m\u001b[0;34m,\u001b[0m\u001b[0mlabel\u001b[0m\u001b[0;34m=\u001b[0m\u001b[0mstr\u001b[0m\u001b[0;34m(\u001b[0m\u001b[0mattrs\u001b[0m\u001b[0;34m)\u001b[0m\u001b[0;34m)\u001b[0m\u001b[0;34m\u001b[0m\u001b[0m\n\u001b[0m",
      "\u001b[0;31mNameError\u001b[0m: name 'attrs' is not defined"
     ]
    }
   ],
   "source": [
    "print(model.params)\n",
    "params = {}\n",
    "params['injected_square_current'] = {}\n",
    "params['injected_square_current']['amplitude'] = ga_out['hof'][0].dtc.rheobase['value']\n",
    "#['amplitude']  = dtc.vtest[k]['injected_square_current']['amplitude']\n",
    "DELAY = 100.0*pq.ms\n",
    "DURATION = 1000.0*pq.ms\n",
    "params['injected_square_current']['delay'] = DELAY\n",
    "params['injected_square_current']['duration'] = DURATION\n",
    "model.params = params\n",
    "model.inject_square_current(model.params['injected_square_current'])\n",
    "vm = copy.copy(model.get_membrane_potential())\n",
    "plt.plot(vm.times,vm*1000,label=str(attrs))"
   ]
  },
  {
   "cell_type": "code",
   "execution_count": null,
   "metadata": {
    "collapsed": false
   },
   "outputs": [],
   "source": [
    "    # 10*4 gene evaluations\n",
    "ga_out, DO = om.run_ga(mp,3,all_tests,free_params=free_params)\n",
    "print(ga_out)\n",
    "pickle.dump(ga_out,open('gaout.p','wb'))"
   ]
  },
  {
   "cell_type": "code",
   "execution_count": null,
   "metadata": {
    "collapsed": false
   },
   "outputs": [],
   "source": [
    "#attrs = {'k':1e-4}#{'a': 1e-2, 'b': 1e-2, 'vpeak':40, 'k':5e-5}\n",
    "attrs = ga_out['hof'][0].dtc.attrs\n",
    "current = {'amplitude':-10.0*pq.pA, 'delay':200.0*pq.ms, 'duration':500.0*pq.ms}\n",
    "sim_length = 1000.0 * pq.ms\n",
    "\n",
    "LEMS_MODEL_PATH = path_params['model_path']\n",
    "from neuronunit.optimization.model_parameters import model_params, path_params\n",
    "\n",
    "model = ReducedModel(LEMS_MODEL_PATH,name=str('vanilla'),backend='NEURON')\n",
    "model.set_attrs(attrs)\n",
    "model.inject_square_current(current)\n",
    "#model.get_backend().set_stop_time(sim_length)\n",
    "vm = copy.copy(model.get_membrane_potential())\n",
    "plt.plot(vm.times,vm*1000,label=str(attrs))\n",
    "plt.ylim(-90,-50)"
   ]
  },
  {
   "cell_type": "code",
   "execution_count": null,
   "metadata": {
    "collapsed": false
   },
   "outputs": [],
   "source": [
    "dtc = ga_out['hof'][0].dtc\n",
    "\n",
    "LEMS_MODEL_PATH = path_params['model_path']\n",
    "model = None\n",
    "model = ReducedModel(LEMS_MODEL_PATH,name=str('vanilla'),backend='NEURON')\n",
    "model.set_attrs(dtc.attrs)\n",
    "scores = []\n",
    "for t in first_two:\n",
    "    scores.append(t.judge(model,stop_on_error = False, deep_error = False))\n",
    "print(scores)\n",
    "\n",
    "## Does the same thing in parallel\n",
    "#from neuronunit.optimization.optimization_management import nunit_evaluation as nue\n",
    "\n",
    "# xargs = (dtc,first_two)\n",
    "# dtc = nue(xargs)\n",
    "# print(dtc.scores)"
   ]
  },
  {
   "cell_type": "code",
   "execution_count": null,
   "metadata": {
    "collapsed": false
   },
   "outputs": [],
   "source": [
    "#attrs = {'k':1e-4}#{'a': 1e-2, 'b': 1e-2, 'vpeak':40, 'k':5e-5}\n",
    "attrs = ga_out['hof'][0].dtc.attrs\n",
    "print(ga_out['hof'][0].dtc.rheobase)\n",
    "ampl = ga_out['hof'][0].dtc.rheobase['value']\n",
    "current = {'amplitude':ampl, 'delay':200.0*pq.ms, 'duration':500.0*pq.ms}\n",
    "sim_length = 1000.0 * pq.ms\n",
    "\n",
    "LEMS_MODEL_PATH = path_params['model_path']\n",
    "from neuronunit.optimization.model_parameters import model_params, path_params\n",
    "\n",
    "model = ReducedModel(LEMS_MODEL_PATH,name=str('vanilla'),backend='NEURON')\n",
    "model.set_attrs(attrs)\n",
    "model.inject_square_current(current)\n",
    "#model.get_backend().set_stop_time(sim_length)\n",
    "vm = copy.copy(model.get_membrane_potential())\n",
    "plt.plot(vm.times,vm*1000,label=str(attrs))\n",
    "plt.ylim(-90,20)"
   ]
  },
  {
   "cell_type": "code",
   "execution_count": null,
   "metadata": {
    "collapsed": true
   },
   "outputs": [],
   "source": []
  }
 ],
 "metadata": {
  "kernelspec": {
   "display_name": "Python 3",
   "language": "python",
   "name": "python3"
  },
  "language_info": {
   "codemirror_mode": {
    "name": "ipython",
    "version": 3
   },
   "file_extension": ".py",
   "mimetype": "text/x-python",
   "name": "python",
   "nbconvert_exporter": "python",
   "pygments_lexer": "ipython3",
   "version": "3.5.2"
  }
 },
 "nbformat": 4,
 "nbformat_minor": 2
}
