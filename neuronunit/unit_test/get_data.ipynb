{
 "cells": [
  {
   "cell_type": "code",
   "execution_count": 1,
   "metadata": {
    "collapsed": false
   },
   "outputs": [],
   "source": [
    "from neuronunit.optimization import get_neab\n",
    "# http://www.physics.usyd.edu.au/teach_res/mp/mscripts/\n",
    "# ns_izh002.m\n",
    "import collections\n",
    "from collections import OrderedDict\n",
    "\n",
    "# Fast spiking cannot be reproduced as it requires modifications to the standard Izhi equation,\n",
    "# which are expressed in this mod file.\n",
    "# https://github.com/OpenSourceBrain/IzhikevichModel/blob/master/NEURON/izhi2007b.mod\n",
    "\n",
    "reduced2007 = collections.OrderedDict([\n",
    "  #              C    k     vr  vt vpeak   a      b   c    d  celltype\n",
    "  ('RS',        (100, 0.7,  -60, -40, 35, 0.03,   -2, -50,  100,  1)),\n",
    "  ('IB',        (150, 1.2,  -75, -45, 50, 0.01,   5, -56,  130,   2)),\n",
    "  ('LTS',       (100, 1.0,  -56, -42, 40, 0.03,   8, -53,   20,   4)),\n",
    "  ('TC',        (200, 1.6,  -60, -50, 35, 0.01,  15, -60,   10,   6)),\n",
    "  ('TC_burst',  (200, 1.6,  -60, -50, 35, 0.01,  15, -60,   10,   6)),\n",
    "  ('RTN',       (40,  0.25, -65, -45,  0, 0.015, 10, -55,   50,   7)),\n",
    "  ('RTN_burst', (40,  0.25, -65, -45,  0, 0.015, 10, -55,   50,   7))])\n",
    "\n",
    "import numpy as np\n",
    "reduced_dict = OrderedDict([(k,[]) for k in ['C','k','vr','vt','vPeak','a','b','c','d']])\n",
    "\n",
    "#OrderedDict\n",
    "for i,k in enumerate(reduced_dict.keys()):\n",
    "    for v in reduced2007.values():\n",
    "        reduced_dict[k].append(v[i])\n",
    "        \n",
    "reduced_cells = OrderedDict([(k,[]) for k in ['RS','IB','LTS','TC','TC_burst']])\n",
    "\n",
    "for index,key in enumerate(reduced_cells.keys()):\n",
    "    reduced_cells[key] = {}\n",
    "    for k,v in reduced_dict.items():\n",
    "        reduced_cells[key][k] = v[index]        \n",
    "\n",
    "explore_param = {k:(np.min(v),np.max(v)) for k,v in reduced_dict.items()}"
   ]
  },
  {
   "cell_type": "code",
   "execution_count": null,
   "metadata": {
    "collapsed": true
   },
   "outputs": [],
   "source": []
  },
  {
   "cell_type": "code",
   "execution_count": 2,
   "metadata": {
    "collapsed": false
   },
   "outputs": [],
   "source": [
    "purkinje ={\"id\": 18, \"name\": \"Cerebellum Purkinje cell\", \"neuron_db_id\": 271, \"nlex_id\": \"sao471801888\"}\n",
    "fi_basket = {\"id\": 65, \"name\": \"Dentate gyrus basket cell\", \"neuron_db_id\": None, \"nlex_id\": \"nlx_cell_100201\"}\n",
    "pvis_cortex = {\"id\": 111, \"name\": \"Neocortex pyramidal cell layer 5-6\", \"neuron_db_id\": 265, \"nlex_id\": \"nifext_50\"}\n",
    "#does not have rheobase\n",
    "#olf_mitral = {\"id\": 129, \"name\": \"Olfactory bulb (main) mitral cell\", \"neuron_db_id\": 267, \"nlex_id\": \"nlx_anat_100201\"}\n",
    "ca1_pyr = {\"id\": 85, \"name\": \"Hippocampus CA1 pyramidal cell\", \"neuron_db_id\": 258, \"nlex_id\": \"sao830368389\"}\n",
    "pipe = [ fi_basket, ca1_pyr, purkinje,  pvis_cortex]"
   ]
  },
  {
   "cell_type": "code",
   "execution_count": 3,
   "metadata": {
    "collapsed": false
   },
   "outputs": [],
   "source": [
    "electro_tests = []\n",
    "electro_frame = {}\n",
    "\n",
    "#p_tests, p_observations = get_neab.get_neuron_criteria(olf_mitral)\n",
    "#electro_frame[p[\"name\"]] = p_observations#, p_tests))\n"
   ]
  },
  {
   "cell_type": "code",
   "execution_count": 4,
   "metadata": {
    "collapsed": false
   },
   "outputs": [
    {
     "name": "stdout",
     "output_type": "stream",
     "text": [
      "{'Hippocampus CA1 pyramidal cell': [<neuronunit.tests.fi.RheobaseTest object at 0x7f7d40fedb38>, <neuronunit.tests.passive.InputResistanceTest object at 0x7f7d40fedb70>, <neuronunit.tests.passive.TimeConstantTest object at 0x7f7d40fedba8>, <neuronunit.tests.passive.CapacitanceTest object at 0x7f7d40fedbe0>, <neuronunit.tests.passive.RestingPotentialTest object at 0x7f7d40fedc18>, <neuronunit.tests.waveform.InjectedCurrentAPWidthTest object at 0x7f7d40fedc50>, <neuronunit.tests.waveform.InjectedCurrentAPAmplitudeTest object at 0x7f7d40fedc88>, <neuronunit.tests.waveform.InjectedCurrentAPThresholdTest object at 0x7f7d40fedcc0>], 'Cerebellum Purkinje cell': [<neuronunit.tests.fi.RheobaseTest object at 0x7f7d40fed9b0>, <neuronunit.tests.passive.InputResistanceTest object at 0x7f7d40fed9e8>, <neuronunit.tests.passive.CapacitanceTest object at 0x7f7d40feda20>, <neuronunit.tests.passive.RestingPotentialTest object at 0x7f7d40feda58>, <neuronunit.tests.waveform.InjectedCurrentAPWidthTest object at 0x7f7d40feda90>, <neuronunit.tests.waveform.InjectedCurrentAPAmplitudeTest object at 0x7f7d40fedac8>, <neuronunit.tests.waveform.InjectedCurrentAPThresholdTest object at 0x7f7d40fedb00>], 'Neocortex pyramidal cell layer 5-6': [<neuronunit.tests.fi.RheobaseTest object at 0x7f7d40fed588>, <neuronunit.tests.passive.InputResistanceTest object at 0x7f7d40fed6a0>, <neuronunit.tests.passive.TimeConstantTest object at 0x7f7d40fed6d8>, <neuronunit.tests.passive.CapacitanceTest object at 0x7f7d40fed710>, <neuronunit.tests.passive.RestingPotentialTest object at 0x7f7d40fed748>, <neuronunit.tests.waveform.InjectedCurrentAPWidthTest object at 0x7f7d40fed780>, <neuronunit.tests.waveform.InjectedCurrentAPAmplitudeTest object at 0x7f7d40fed7b8>, <neuronunit.tests.waveform.InjectedCurrentAPThresholdTest object at 0x7f7d40fed7f0>], 'olf_mit': [<neuronunit.tests.passive.InputResistanceTest object at 0x7f7d40fed828>, <neuronunit.tests.passive.TimeConstantTest object at 0x7f7d40fed860>, <neuronunit.tests.passive.CapacitanceTest object at 0x7f7d40fed898>, <neuronunit.tests.passive.RestingPotentialTest object at 0x7f7d40fed8d0>, <neuronunit.tests.waveform.InjectedCurrentAPWidthTest object at 0x7f7d40fed908>, <neuronunit.tests.waveform.InjectedCurrentAPAmplitudeTest object at 0x7f7d40fed940>, <neuronunit.tests.waveform.InjectedCurrentAPThresholdTest object at 0x7f7d40fed978>], 'Dentate gyrus basket cell': [<neuronunit.tests.fi.RheobaseTest object at 0x7f7d40fedcf8>, <neuronunit.tests.passive.InputResistanceTest object at 0x7f7d40fedd30>, <neuronunit.tests.passive.TimeConstantTest object at 0x7f7d40fedd68>, <neuronunit.tests.passive.RestingPotentialTest object at 0x7f7d40fedda0>, <neuronunit.tests.waveform.InjectedCurrentAPWidthTest object at 0x7f7d40feddd8>, <neuronunit.tests.waveform.InjectedCurrentAPAmplitudeTest object at 0x7f7d40fede10>, <neuronunit.tests.waveform.InjectedCurrentAPThresholdTest object at 0x7f7d40fede48>]}\n"
     ]
    }
   ],
   "source": [
    "electro_tests = []\n",
    "obs_frame = {}\n",
    "test_frame = {}\n",
    "import os\n",
    "import pickle\n",
    "try: \n",
    "\n",
    "    electro_path = str(os.getcwd())+'all_tests.p'\n",
    "    assert os.path.isfile(electro_path) == True\n",
    "    with open(electro_path,'rb') as f:\n",
    "        (obs_frame,test_frame) = pickle.load(f)\n",
    "\n",
    "except:\n",
    "    for p in pipe:\n",
    "        p_tests, p_observations = get_neab.get_neuron_criteria(p)\n",
    "        obs_frame[p[\"name\"]] = p_observations#, p_tests))\n",
    "        test_frame[p[\"name\"]] = p_tests#, p_tests))\n",
    "    electro_path = str(os.getcwd())+'all_tests.p'\n",
    "    with open(electro_path,'wb') as f:\n",
    "        pickle.dump((obs_frame,test_frame),f)\n",
    "\n",
    "print(test_frame)\n",
    "    "
   ]
  },
  {
   "cell_type": "code",
   "execution_count": 5,
   "metadata": {
    "collapsed": false,
    "scrolled": false
   },
   "outputs": [
    {
     "name": "stdout",
     "output_type": "stream",
     "text": [
      "dict_keys(['Hippocampus CA1 pyramidal cell', 'Cerebellum Purkinje cell', 'Neocortex pyramidal cell layer 5-6', 'olf_mit', 'Dentate gyrus basket cell'])\n"
     ]
    },
    {
     "data": {
      "text/plain": [
       "Cell Capacitance              {'std': 53.6497639516366 pF, 'mean': 89.796071...\n",
       "Input Resistance              {'std': 77.577415348574 Mohm, 'mean': 107.0803...\n",
       "Membrane Time Constant        {'std': 21.4877858716633 ms, 'mean': 24.502194...\n",
       "Resting membrane potential    {'std': 4.88864451466597 mV, 'mean': -65.22618...\n",
       "Rheobase                      {'std': 287.163664156461 pA, 'mean': 189.24 pA...\n",
       "Spike Amplitude               {'std': 12.2626088055275 mV, 'mean': 86.364525...\n",
       "Spike Half-Width              {'std': 0.608307582372384 ms, 'mean': 1.318952...\n",
       "Spike Threshold               {'std': 7.7267055100184 mV, 'mean': -47.598571...\n",
       "Name: Hippocampus CA1 pyramidal cell, dtype: object"
      ]
     },
     "execution_count": 5,
     "metadata": {},
     "output_type": "execute_result"
    }
   ],
   "source": [
    "import pandas as pd\n",
    "from neuronunit.tests.fi import RheobaseTestP\n",
    "#obs_frame.pop(\"olf_mit\", 0)\n",
    "#test_frame.pop(\"olf_mit\", 0)\n",
    "\n",
    "for k,v in test_frame.items():\n",
    "    if \"olf_mit\" not in k:\n",
    "        obs = obs_frame[k]\n",
    "        v[0] = RheobaseTestP(obs['Rheobase'])\n",
    "\n",
    "\n",
    "df = pd.DataFrame.from_dict(obs_frame)\n",
    "\n",
    "print(test_frame.keys())\n",
    "df['Hippocampus CA1 pyramidal cell']"
   ]
  },
  {
   "cell_type": "code",
   "execution_count": 6,
   "metadata": {
    "collapsed": false,
    "scrolled": false
   },
   "outputs": [],
   "source": [
    "##### \n",
    "from neuronunit.optimization import optimization_management as om\n",
    "import pickle\n",
    "\n",
    "\n",
    "free_params = ['a','b','k','c','C','d','vPeak','vr']#vt','c','k','d']#,'vt','k','c','C']#,'C'] # this can only be odd numbers.\n",
    "\n",
    "##\n",
    "# Use information that is available\n",
    "##\n",
    "hc_ = reduced_cells['RS']\n",
    "\n",
    "hc_['vr'] = -65.2261863636364\n",
    "\n",
    "hc_['vPeak'] = hc_['vr'] + 86.364525297619\n",
    "\n",
    "explore_param['C'] = (hc_['C']-20,hc_['C']+20)\n",
    "explore_param['vr'] = (hc_['vr']-5,hc_['vr']+5)\n",
    "#hc = {}\n",
    "#hc['C'] = 89.7960714285714\n",
    "\n",
    "\n",
    "use_test = test_frame[\"Neocortex pyramidal cell layer 5-6\"]\n",
    "\n",
    "from sciunit import scores# score_type \n",
    "\n",
    "#for t in use_test[::-1]:\n",
    "#    t.score_type = scores.RatioScore\n",
    "#print(use_test)\n",
    "reduced_tests = [use_test[0], use_test[-2], use_test[len(use_test)-1]]\n",
    "bigger_tests = use_test[1:-2]\n",
    "bigger_tests.insert(0,use_test[0])\n",
    "\n",
    "test_opt = {}\n",
    "import pickle\n",
    "\n",
    "with open('data_dump.p','wb') as f:\n",
    "    pickle.dump(test_opt,f)\n",
    "\n",
    "\n",
    "    \n"
   ]
  },
  {
   "cell_type": "code",
   "execution_count": null,
   "metadata": {
    "collapsed": false
   },
   "outputs": [
    {
     "name": "stderr",
     "output_type": "stream",
     "text": [
      "/opt/conda/lib/python3.5/site-packages/quantities/quantity.py:414: RuntimeWarning: invalid value encountered in greater\n",
      "  return self.magnitude > other\n",
      "/opt/conda/lib/python3.5/site-packages/quantities/quantity.py:414: RuntimeWarning: invalid value encountered in greater\n",
      "  return self.magnitude > other\n",
      "/opt/conda/lib/python3.5/site-packages/quantities/quantity.py:414: RuntimeWarning: invalid value encountered in greater\n",
      "  return self.magnitude > other\n",
      "/opt/conda/lib/python3.5/site-packages/quantities/quantity.py:414: RuntimeWarning: invalid value encountered in greater\n",
      "  return self.magnitude > other\n",
      "/opt/conda/lib/python3.5/site-packages/quantities/quantity.py:414: RuntimeWarning: invalid value encountered in greater\n",
      "  return self.magnitude > other\n",
      "/opt/conda/lib/python3.5/site-packages/quantities/quantity.py:414: RuntimeWarning: invalid value encountered in greater\n",
      "  return self.magnitude > other\n",
      "/opt/conda/lib/python3.5/site-packages/quantities/quantity.py:414: RuntimeWarning: invalid value encountered in greater\n",
      "  return self.magnitude > other\n",
      "/opt/conda/lib/python3.5/site-packages/quantities/quantity.py:414: RuntimeWarning: invalid value encountered in greater\n",
      "  return self.magnitude > other\n",
      "/opt/conda/lib/python3.5/site-packages/quantities/quantity.py:414: RuntimeWarning: invalid value encountered in greater\n",
      "  return self.magnitude > other\n",
      "/opt/conda/lib/python3.5/site-packages/quantities/quantity.py:414: RuntimeWarning: invalid value encountered in greater\n",
      "  return self.magnitude > other\n",
      "/opt/conda/lib/python3.5/site-packages/quantities/quantity.py:414: RuntimeWarning: invalid value encountered in greater\n",
      "  return self.magnitude > other\n",
      "/opt/conda/lib/python3.5/site-packages/quantities/quantity.py:414: RuntimeWarning: invalid value encountered in greater\n",
      "  return self.magnitude > other\n",
      "/opt/conda/lib/python3.5/site-packages/quantities/quantity.py:414: RuntimeWarning: invalid value encountered in greater\n",
      "  return self.magnitude > other\n",
      "/opt/conda/lib/python3.5/site-packages/quantities/quantity.py:414: RuntimeWarning: invalid value encountered in greater\n",
      "  return self.magnitude > other\n",
      "/opt/conda/lib/python3.5/site-packages/quantities/quantity.py:414: RuntimeWarning: invalid value encountered in greater\n",
      "  return self.magnitude > other\n",
      "/opt/conda/lib/python3.5/site-packages/quantities/quantity.py:414: RuntimeWarning: invalid value encountered in greater\n",
      "  return self.magnitude > other\n",
      "/opt/conda/lib/python3.5/site-packages/quantities/quantity.py:414: RuntimeWarning: invalid value encountered in greater\n",
      "  return self.magnitude > other\n",
      "/opt/conda/lib/python3.5/site-packages/quantities/quantity.py:414: RuntimeWarning: invalid value encountered in greater\n",
      "  return self.magnitude > other\n",
      "/opt/conda/lib/python3.5/site-packages/quantities/quantity.py:414: RuntimeWarning: invalid value encountered in greater\n",
      "  return self.magnitude > other\n",
      "/opt/conda/lib/python3.5/site-packages/quantities/quantity.py:414: RuntimeWarning: invalid value encountered in greater\n",
      "  return self.magnitude > other\n",
      "/opt/conda/lib/python3.5/site-packages/quantities/quantity.py:414: RuntimeWarning: invalid value encountered in greater\n",
      "  return self.magnitude > other\n",
      "/opt/conda/lib/python3.5/site-packages/quantities/quantity.py:414: RuntimeWarning: invalid value encountered in greater\n",
      "  return self.magnitude > other\n",
      "/opt/conda/lib/python3.5/site-packages/quantities/quantity.py:414: RuntimeWarning: invalid value encountered in greater\n",
      "  return self.magnitude > other\n",
      "/opt/conda/lib/python3.5/site-packages/quantities/quantity.py:414: RuntimeWarning: invalid value encountered in greater\n",
      "  return self.magnitude > other\n",
      "/opt/conda/lib/python3.5/site-packages/quantities/quantity.py:414: RuntimeWarning: invalid value encountered in greater\n",
      "  return self.magnitude > other\n",
      "/opt/conda/lib/python3.5/site-packages/quantities/quantity.py:414: RuntimeWarning: invalid value encountered in greater\n",
      "  return self.magnitude > other\n",
      "/opt/conda/lib/python3.5/site-packages/quantities/quantity.py:414: RuntimeWarning: invalid value encountered in greater\n",
      "  return self.magnitude > other\n",
      "/opt/conda/lib/python3.5/site-packages/quantities/quantity.py:414: RuntimeWarning: invalid value encountered in greater\n",
      "  return self.magnitude > other\n"
     ]
    },
    {
     "name": "stdout",
     "output_type": "stream",
     "text": [
      "1\n",
      "1\n",
      "1\n",
      "1\n",
      "1\n",
      "1\n",
      "1\n",
      "1\n",
      "1\n",
      "1\n",
      "1\n",
      "1\n",
      "1\n",
      "1\n",
      "1\n",
      "1\n",
      "1\n",
      "1\n",
      "1\n",
      "1\n",
      "1\n",
      "1\n",
      "1\n",
      "1\n"
     ]
    },
    {
     "name": "stderr",
     "output_type": "stream",
     "text": [
      "/home/jovyan/neuronunit/neuronunit/tests/passive.py:82: RuntimeWarning: overflow encountered in exp\n",
      "  vm_fit[offset:,0] = a * np.exp(-t[offset:]/b) + c\n",
      "/opt/conda/lib/python3.5/site-packages/scipy/optimize/minpack.py:794: OptimizeWarning: Covariance of the parameters could not be estimated\n",
      "  category=OptimizeWarning)\n"
     ]
    },
    {
     "name": "stdout",
     "output_type": "stream",
     "text": [
      "1\n",
      "1\n"
     ]
    },
    {
     "name": "stderr",
     "output_type": "stream",
     "text": [
      "/opt/conda/lib/python3.5/site-packages/scipy/optimize/minpack.py:794: OptimizeWarning: Covariance of the parameters could not be estimated\n",
      "  category=OptimizeWarning)\n"
     ]
    },
    {
     "name": "stdout",
     "output_type": "stream",
     "text": [
      "1\n",
      "1\n",
      "1\n",
      "1\n",
      "1\n",
      "1\n",
      "1\n",
      "1\n",
      "1\n",
      "1\n",
      "1\n",
      "1\n",
      "1\n",
      "1\n",
      "1\n",
      "1\n",
      "1\n",
      "1\n",
      "1\n",
      "1\n",
      "1\n",
      "1\n",
      "[[80, 0.01, -2, -60, 10, 0.25, 0, -70.226186363636401], [80, 0.01, -2, -50, 10, 1.6000000000000001, 50, -60.226186363636401], [80, 0.01, 15, -60, 130, 1.6000000000000001, 50, -70.226186363636401], [80, 0.029999999999999999, -2, -60, 10, 1.6000000000000001, 0, -60.226186363636401], [80, 0.029999999999999999, -2, -50, 130, 1.6000000000000001, 0, -70.226186363636401], [80, 0.029999999999999999, 15, -50, 10, 0.25, 50, -60.226186363636401], [120, 0.01, -2, -60, 130, 0.25, 50, -60.226186363636401], [120, 0.01, 15, -60, 10, 0.25, 50, -70.226186363636401], [120, 0.01, 15, -50, 130, 0.25, 0, -60.226186363636401], [120, 0.029999999999999999, -2, -50, 10, 0.25, 0, -70.226186363636401], [120, 0.029999999999999999, 15, -60, 10, 1.6000000000000001, 50, -60.226186363636401], [120, 0.029999999999999999, 15, -50, 130, 1.6000000000000001, 50, -60.226186363636401]]\n"
     ]
    },
    {
     "name": "stderr",
     "output_type": "stream",
     "text": [
      "/opt/conda/lib/python3.5/site-packages/quantities/quantity.py:414: RuntimeWarning: invalid value encountered in greater\n",
      "  return self.magnitude > other\n",
      "/opt/conda/lib/python3.5/site-packages/quantities/quantity.py:414: RuntimeWarning: invalid value encountered in greater\n",
      "  return self.magnitude > other\n",
      "/opt/conda/lib/python3.5/site-packages/quantities/quantity.py:414: RuntimeWarning: invalid value encountered in greater\n",
      "  return self.magnitude > other\n",
      "/opt/conda/lib/python3.5/site-packages/quantities/quantity.py:414: RuntimeWarning: invalid value encountered in greater\n",
      "  return self.magnitude > other\n",
      "/opt/conda/lib/python3.5/site-packages/quantities/quantity.py:414: RuntimeWarning: invalid value encountered in greater\n",
      "  return self.magnitude > other\n",
      "/opt/conda/lib/python3.5/site-packages/quantities/quantity.py:414: RuntimeWarning: invalid value encountered in greater\n",
      "  return self.magnitude > other\n",
      "/opt/conda/lib/python3.5/site-packages/quantities/quantity.py:414: RuntimeWarning: invalid value encountered in greater\n",
      "  return self.magnitude > other\n",
      "/opt/conda/lib/python3.5/site-packages/quantities/quantity.py:414: RuntimeWarning: invalid value encountered in greater\n",
      "  return self.magnitude > other\n",
      "/opt/conda/lib/python3.5/site-packages/quantities/quantity.py:414: RuntimeWarning: invalid value encountered in greater\n",
      "  return self.magnitude > other\n",
      "/opt/conda/lib/python3.5/site-packages/quantities/quantity.py:414: RuntimeWarning: invalid value encountered in greater\n",
      "  return self.magnitude > other\n",
      "/opt/conda/lib/python3.5/site-packages/quantities/quantity.py:414: RuntimeWarning: invalid value encountered in greater\n",
      "  return self.magnitude > other\n",
      "/opt/conda/lib/python3.5/site-packages/quantities/quantity.py:414: RuntimeWarning: invalid value encountered in greater\n",
      "  return self.magnitude > other\n",
      "/opt/conda/lib/python3.5/site-packages/quantities/quantity.py:414: RuntimeWarning: invalid value encountered in greater\n",
      "  return self.magnitude > other\n",
      "/opt/conda/lib/python3.5/site-packages/quantities/quantity.py:414: RuntimeWarning: invalid value encountered in greater\n",
      "  return self.magnitude > other\n",
      "/opt/conda/lib/python3.5/site-packages/quantities/quantity.py:414: RuntimeWarning: invalid value encountered in greater\n",
      "  return self.magnitude > other\n",
      "/opt/conda/lib/python3.5/site-packages/quantities/quantity.py:414: RuntimeWarning: invalid value encountered in greater\n",
      "  return self.magnitude > other\n",
      "/opt/conda/lib/python3.5/site-packages/quantities/quantity.py:414: RuntimeWarning: invalid value encountered in greater\n",
      "  return self.magnitude > other\n",
      "/opt/conda/lib/python3.5/site-packages/quantities/quantity.py:414: RuntimeWarning: invalid value encountered in greater\n",
      "  return self.magnitude > other\n",
      "/opt/conda/lib/python3.5/site-packages/quantities/quantity.py:414: RuntimeWarning: invalid value encountered in greater\n",
      "  return self.magnitude > other\n",
      "/opt/conda/lib/python3.5/site-packages/quantities/quantity.py:414: RuntimeWarning: invalid value encountered in greater\n",
      "  return self.magnitude > other\n",
      "/opt/conda/lib/python3.5/site-packages/quantities/quantity.py:414: RuntimeWarning: invalid value encountered in greater\n",
      "  return self.magnitude > other\n",
      "/opt/conda/lib/python3.5/site-packages/quantities/quantity.py:414: RuntimeWarning: invalid value encountered in greater\n",
      "  return self.magnitude > other\n",
      "/opt/conda/lib/python3.5/site-packages/quantities/quantity.py:414: RuntimeWarning: invalid value encountered in greater\n",
      "  return self.magnitude > other\n",
      "/opt/conda/lib/python3.5/site-packages/quantities/quantity.py:414: RuntimeWarning: invalid value encountered in greater\n",
      "  return self.magnitude > other\n",
      "/opt/conda/lib/python3.5/site-packages/quantities/quantity.py:414: RuntimeWarning: invalid value encountered in greater\n",
      "  return self.magnitude > other\n",
      "/opt/conda/lib/python3.5/site-packages/quantities/quantity.py:414: RuntimeWarning: invalid value encountered in greater\n",
      "  return self.magnitude > other\n",
      "/opt/conda/lib/python3.5/site-packages/quantities/quantity.py:414: RuntimeWarning: invalid value encountered in greater\n",
      "  return self.magnitude > other\n",
      "/opt/conda/lib/python3.5/site-packages/quantities/quantity.py:414: RuntimeWarning: invalid value encountered in greater\n",
      "  return self.magnitude > other\n",
      "/opt/conda/lib/python3.5/site-packages/scipy/optimize/minpack.py:794: OptimizeWarning: Covariance of the parameters could not be estimated\n",
      "  category=OptimizeWarning)\n"
     ]
    },
    {
     "name": "stdout",
     "output_type": "stream",
     "text": [
      "1\n",
      "1\n",
      "1\n",
      "1\n",
      "1\n",
      "1\n",
      "1\n",
      "1\n",
      "1\n",
      "1\n",
      "1\n",
      "1\n",
      "1\n",
      "1\n",
      "1\n",
      "1\n",
      "1\n",
      "1\n",
      "1\n",
      "1\n",
      "1\n",
      "1\n",
      "1\n",
      "1\n",
      "1\n",
      "1\n",
      "1\n",
      "1\n"
     ]
    },
    {
     "name": "stderr",
     "output_type": "stream",
     "text": [
      "/opt/conda/lib/python3.5/site-packages/scipy/optimize/minpack.py:794: OptimizeWarning: Covariance of the parameters could not be estimated\n",
      "  category=OptimizeWarning)\n"
     ]
    },
    {
     "name": "stdout",
     "output_type": "stream",
     "text": [
      "1\n",
      "1\n",
      "1\n",
      "1\n",
      "1\n",
      "1\n",
      "1\n",
      "1\n",
      "1\n",
      "1\n",
      "1\n",
      "1\n",
      "1\n",
      "1\n",
      "1\n",
      "1\n",
      "1\n",
      "1\n",
      "1\n",
      "1\n"
     ]
    },
    {
     "name": "stderr",
     "output_type": "stream",
     "text": [
      "INFO:__main__:gen\tnevals\tavg    \tstd    \tmin\tmax    \n",
      "1  \t12    \t2.85957\t2.87062\t0  \t6.11269\n",
      "2  \t12    \t4.32618\t2.53642\t0  \t6.335  \n"
     ]
    },
    {
     "name": "stdout",
     "output_type": "stream",
     "text": [
      "[[120, 0.01, -2, -60, 130, 0.25, 50, -60.226186363636401], [80.0, 0.01, -2, -50, 10, 0.26973290859758769, 50.0, -60.226186363636401], [47.101178486702402, 0.024448333799169795, -11.149380662328371, -62.794484183503563, 160.59715420978273, 0.72435290120416895, 4.199917364455203, -66.766607111794599], [120, 0.010544576104011471, 14.221722302432383, -50, 13.578488009363028, 0.39637236117369473, 8.7214264520357236, -61.595714162904258], [51.060496134329981, 0.021423247577178336, 14.187456696007246, -57.164786629932287, 201.12604980449194, 1.9218232127389285, 30.547468443102137, -53.011403834043634], [80, 0.029999999999999999, 15, -50, 10, 0.25, 50, -60.226186363636401], [80, 0.01, 15, -60, 130, 1.6000000000000001, 50, -70.226186363636401], [80, 0.026393893239681575, -2, -60, 14.628137754277304, 1.559213186385068, 1.9073471378525373, -69.581013134916816], [119.80453736504377, 0.01, -1.8377050690640571, -58.640300874268974, 130, 0.27881919964496027, 50, -62.941238260447349], [120, 0.029999999999999999, 13.731292549252462, -50, 130, 1.6000000000000001, 50.0, -60.226186363636401], [120, 0.010934372400112529, 14.598881746697939, -60, 38.808249156444276, 0.25, 50, -69.809030946071957], [120, 0.01, 15, -60, 10, 0.25, 50, -70.226186363636401]]\n",
      "1\n",
      "1\n",
      "1\n",
      "1\n",
      "1\n"
     ]
    },
    {
     "name": "stderr",
     "output_type": "stream",
     "text": [
      "/opt/conda/lib/python3.5/site-packages/scipy/optimize/minpack.py:794: OptimizeWarning: Covariance of the parameters could not be estimated\n",
      "  category=OptimizeWarning)\n"
     ]
    },
    {
     "name": "stdout",
     "output_type": "stream",
     "text": [
      "1\n",
      "1\n",
      "1\n",
      "1\n",
      "1\n",
      "1\n",
      "1\n",
      "1\n",
      "1\n",
      "1\n",
      "1\n",
      "1\n",
      "1\n",
      "1\n",
      "1\n",
      "1\n",
      "1\n",
      "1\n",
      "1\n",
      "1\n",
      "1\n",
      "1\n",
      "1\n"
     ]
    },
    {
     "name": "stderr",
     "output_type": "stream",
     "text": [
      "/home/jovyan/neuronunit/neuronunit/tests/passive.py:82: RuntimeWarning: overflow encountered in exp\n",
      "  vm_fit[offset:,0] = a * np.exp(-t[offset:]/b) + c\n",
      "/home/jovyan/neuronunit/neuronunit/tests/passive.py:82: RuntimeWarning: overflow encountered in multiply\n",
      "  vm_fit[offset:,0] = a * np.exp(-t[offset:]/b) + c\n"
     ]
    },
    {
     "name": "stdout",
     "output_type": "stream",
     "text": [
      "1\n",
      "1\n",
      "1\n",
      "1\n",
      "1\n"
     ]
    },
    {
     "name": "stderr",
     "output_type": "stream",
     "text": [
      "/home/jovyan/neuronunit/neuronunit/tests/passive.py:82: RuntimeWarning: overflow encountered in exp\n",
      "  vm_fit[offset:,0] = a * np.exp(-t[offset:]/b) + c\n",
      "/home/jovyan/neuronunit/neuronunit/tests/passive.py:82: RuntimeWarning: overflow encountered in multiply\n",
      "  vm_fit[offset:,0] = a * np.exp(-t[offset:]/b) + c\n"
     ]
    },
    {
     "name": "stdout",
     "output_type": "stream",
     "text": [
      "1\n",
      "1\n",
      "1\n",
      "1\n",
      "1\n",
      "1\n",
      "1\n",
      "1\n",
      "1\n",
      "1\n",
      "1\n",
      "1\n",
      "1\n",
      "1\n",
      "1\n"
     ]
    },
    {
     "name": "stderr",
     "output_type": "stream",
     "text": [
      "INFO:__main__:3  \t12    \t5.45023\t0.422053\t4.81157\t6.49428\n"
     ]
    },
    {
     "name": "stdout",
     "output_type": "stream",
     "text": [
      "[[47.101178486702402, 0.024362374057043484, -2, -60, 160.59715420978273, 0.76810833694370639, 8.7437250002757647, -66.352213358762455], [80, 0.01, 15, -60, 130, 1.6000000000000001, 50, -70.226186363636401], [120, 0.01, -2, -60, 130, 0.25, 50, -60.226186363636401], [120, 0.01, -2.0, -60.0, 130, 0.25, 50, -60.226186363636401], [80.0, 0.01, -2, -50, 10, 0.26973290859758769, 50.0, -60.226186363636401], [80.0, 0.01, -2, -50, 10.0, 0.26973290859758769, 50.0, -60.226186363636401], [51.060496134329981, 0.021423247577178336, 14.187456696007246, -57.164786629932287, 201.12604980449194, 1.9218232127389285, 30.547468443102137, -53.011403834043634], [120, 0.01008336047927072, 14.611853327863724, -60, 37.444246128114173, 0.25, 50, -69.809030946071957], [120, 0.029999999999999999, -0.86979433259635308, -50.489057882142752, 129.89200078706347, 1.5055052297856877, 50.0, -60.255424973921023], [118.48783386580797, 0.01297469478811761, 14.221722302432383, -50.359268694777853, 13.578488009363028, 0.39637236117369473, 4.1776200437375879, -64.535420186561439], [47.101178486702402, 0.024448333799169795, -11.149380662328371, -62.794484183503563, 160.59715420978273, 0.72435290120416895, 4.199917364455203, -66.766607111794599], [80, 0.026393893239681575, -2, -60, 14.628137754277304, 1.559213186385068, 1.9073471378525373, -69.581013134916816]]\n"
     ]
    },
    {
     "name": "stderr",
     "output_type": "stream",
     "text": [
      "/opt/conda/lib/python3.5/site-packages/deap/tools/crossover.py:324: RuntimeWarning: invalid value encountered in double_scalars\n",
      "  beta_q = (1.0 / (2.0 - rand * alpha))**(1.0 / (eta + 1))\n"
     ]
    },
    {
     "name": "stdout",
     "output_type": "stream",
     "text": [
      "1\n",
      "1\n",
      "1\n",
      "1\n",
      "1\n",
      "1\n",
      "1\n",
      "1\n",
      "1\n",
      "1\n",
      "1\n",
      "1\n",
      "1\n",
      "1\n",
      "1\n",
      "1\n",
      "1\n",
      "1\n",
      "1\n",
      "1\n"
     ]
    },
    {
     "name": "stderr",
     "output_type": "stream",
     "text": [
      "INFO:__main__:4  \t5     \t5.56595\t0.535383\t4.65095\t6.83172\n"
     ]
    },
    {
     "name": "stdout",
     "output_type": "stream",
     "text": [
      "[[80, 0.01, 15, -60, 130, 1.6000000000000001, 50, -70.226186363636401], [120, 0.01, -2, -60, 130, 0.25, 50, -60.226186363636401], [120, 0.01, -2.0, -60.0, 130, 0.25, 50.0, -60.226186363636401], [90.114853748563931, 0.01, -2.0, -50, 10, 0.26973290859758769, 49.118096735597241, -60.226186363636401], [51.060496134329981, 0.021423247577178336, 14.187456696007246, -57.164786629932287, 201.12604980449194, 1.9218232127389285, 30.547468443102137, -53.011403834043634], [120, 0.01008336047927072, 14.611853327863724, -60, 37.444246128114173, 0.25, 50, -69.809030946071957], [80.0, 0.01, -2, -50, 10, 0.26973290859758769, 50.0, -60.226186363636401], [80.0, 0.01, -2, -50, 10.0, 0.26973290859758769, 50.0, -60.226186363636401], [120, 0.029999999999999999, -0.86979433259635308, -50.489057882142752, 129.89200078706347, 1.5055052297856877, 50.0, -60.255424973921023], [47.101178486702402, 0.024362374057043484, -2, -60, 160.59715420978273, 0.76810833694370639, 8.7437250002757647, -66.352213358762455], [118.48783386580797, 0.01297469478811761, 14.221722302432383, -50.359268694777853, 13.578488009363028, 0.39637236117369473, 4.1776200437375879, -64.535420186561439], [47.101178486702402, 0.024448333799169795, -11.149380662328371, -62.794484183503563, 160.59715420978273, 0.72435290120416895, 4.199917364455203, -66.766607111794599]]\n",
      "1\n",
      "1\n",
      "1\n",
      "1\n",
      "1\n",
      "1\n",
      "1\n",
      "1\n",
      "1\n",
      "1\n",
      "1\n",
      "1\n",
      "1\n",
      "1\n",
      "1\n",
      "1\n",
      "1\n",
      "1\n",
      "1\n",
      "1\n",
      "1\n",
      "1\n",
      "1\n",
      "1\n",
      "1\n",
      "1\n",
      "1\n",
      "1\n",
      "1\n",
      "1\n",
      "1\n",
      "1\n",
      "1\n",
      "1\n",
      "1\n",
      "1\n",
      "1\n",
      "1\n",
      "1\n",
      "1\n",
      "1\n",
      "1\n",
      "1\n",
      "1\n"
     ]
    },
    {
     "name": "stderr",
     "output_type": "stream",
     "text": [
      "INFO:__main__:5  \t11    \t5.42075\t0.371932\t4.66867\t6.23676\n"
     ]
    },
    {
     "name": "stdout",
     "output_type": "stream",
     "text": [
      "[[120, 0.010833505646215302, 13.660294871104041, -60.0, 37.444246128114173, 0.25, 30.27763762604652, -60.226186363636401], [120, 0.01, -2.0, -60.0, 130, 0.25, 50.0, -60.226186363636401], [109.59183752636488, 0.01, -2, -60, 130.0, 0.25342759284448141, 50, -60.226186363636401], [80.0, 0.01, -2, -50, 10, 0.26973290859758769, 50.0, -60.226186363636401], [80.0, 0.01, -2, -50, 10.0, 0.26973290859758769, 50.0, -60.226186363636401], [119.78265116076513, 0.010999180959208541, 1.8975051526185309, -60.0, 105.61231025453614, 0.25, 38.233943044172889, -60.263630379311415], [80, 0.01, 15, -60.0, 130, 1.6000000000000001, 48.232509244231828, -70.226186363636401], [120, 0.01008336047927072, 14.611853327863724, -60, 37.444246128114173, 0.25, 50, -69.809030946071957], [90.114853748563931, 0.01, -2.0, -50, 10, 0.26973290859758769, 49.118096735597241, -60.226186363636401], [118.48783386580797, 0.01297469478811761, 14.221722302432383, -50.359268694777853, 13.578488009363028, 0.39637236117369473, 4.1776200437375879, -64.535420186561439], [47.101178486702402, 0.025604694240664704, -2, -60.0, 160.59715420978273, 0.61416695228875895, 9.3301026485098024, -66.352213358762455], [47.101178486702402, 0.024448333799169795, -11.149380662328371, -62.794484183503563, 160.59715420978273, 0.72435290120416895, 4.199917364455203, -66.766607111794599]]\n",
      "1\n",
      "1\n",
      "1\n",
      "1\n",
      "1\n",
      "1\n",
      "1\n",
      "1\n",
      "1\n",
      "1\n",
      "1\n",
      "1\n",
      "1\n",
      "1\n",
      "1\n",
      "1\n",
      "1\n",
      "1\n",
      "1\n",
      "1\n",
      "1\n",
      "1\n",
      "1\n",
      "1\n",
      "1\n",
      "1\n",
      "1\n",
      "1\n",
      "1\n",
      "1\n",
      "1\n",
      "1\n",
      "1\n",
      "1\n",
      "1\n",
      "1\n"
     ]
    },
    {
     "name": "stderr",
     "output_type": "stream",
     "text": [
      "/opt/conda/lib/python3.5/site-packages/scipy/optimize/minpack.py:794: OptimizeWarning: Covariance of the parameters could not be estimated\n",
      "  category=OptimizeWarning)\n"
     ]
    },
    {
     "name": "stdout",
     "output_type": "stream",
     "text": [
      "1\n",
      "1\n",
      "1\n",
      "1\n",
      "1\n",
      "1\n",
      "1\n",
      "1\n",
      "1\n",
      "1\n",
      "1\n",
      "1\n"
     ]
    },
    {
     "name": "stderr",
     "output_type": "stream",
     "text": [
      "INFO:__main__:6  \t12    \t5.54561\t0.574546\t4.51868\t6.47622\n"
     ]
    },
    {
     "name": "stdout",
     "output_type": "stream",
     "text": [
      "[[120, 0.01, -2.0, -60.0, 130, 0.25, 50.0, -60.226186363636401], [109.59183752636488, 0.01, -2, -60, 130.0, 0.25342759284448141, 50, -60.226186363636401], [80.0, 0.01, -2, -50, 10, 0.26973290859758769, 50.0, -60.226186363636401], [80.0, 0.01, -2, -50, 10.0, 0.26973290859758769, 50.0, -60.226186363636401], [80, 0.01, 15, -60.0, 130, 1.6000000000000001, 48.232509244231828, -70.226186363636401], [120, 0.010787991483458374, -1.5719728229360808, -60.0, 32.645402842132881, 0.25, 37.446456784067877, -60.226186363636401], [120, 0.010068185369671714, 14.587248080700368, -58.96807557309419, 128.60660324498673, 0.27741248267177782, 49.664871986686769, -60.226186363636401], [47.101178486702402, 0.025604694240664704, -2, -60.0, 160.59715420978273, 0.61416695228875895, 9.3301026485098024, -66.352213358762455], [47.101178486702402, 0.024448333799169795, -11.149380662328371, -62.794484183503563, 160.59715420978273, 0.72435290120416895, 4.199917364455203, -66.766607111794599], [47.101178486702402, 0.024448333799169795, -2, -62.794484183503563, 160.59715420978273, 0.61385461054681134, 4.5416250077698361, -66.766607111794599], [120, 0.01008336047927072, 14.611853327863724, -60, 37.444246128114173, 0.25, 50, -69.809030946071957], [119.78265116076513, 0.010999180959208541, 1.8975051526185309, -60.0, 105.61231025453614, 0.25, 38.233943044172889, -60.263630379311415]]\n"
     ]
    }
   ],
   "source": [
    "\n",
    "MU = 12\n",
    "NGEN = 20\n",
    "#try:\n",
    "#    with open('multi_objective.p','rb') as f:\n",
    "#        test_opt = pickle.load(f)    \n",
    "#except:\n",
    "npcl, DO = om.run_ga(explore_param,NGEN,use_test,free_params=free_params, NSGA = True, MU = MU)\n",
    "print('can get as low as 2.84684')\n",
    "\n",
    "test_opt[str(t)] =  {'multi_objective':npcl}\n",
    "with open('multi_objective.p','wb') as f:\n",
    "    pickle.dump(test_opt,f)"
   ]
  },
  {
   "cell_type": "code",
   "execution_count": null,
   "metadata": {
    "collapsed": false
   },
   "outputs": [],
   "source": [
    "MU = 10\n",
    "NGEN = 10\n",
    "cnt = 1\n",
    "for t in use_test:        \n",
    "    if cnt==len(use_test):\n",
    "        MU = 12\n",
    "        NGEN = 20\n",
    "\n",
    "        npcl, DO = om.run_ga(explore_param,NGEN,[t],free_params=free_params, NSGA = True, MU = MU)\n",
    "    else:\n",
    "\n",
    "        npcl, DO = om.run_ga(explore_param,NGEN,[t],free_params=free_params, NSGA = True, MU = MU)\n",
    "\n",
    "    test_opt[str(t)] =  {'out':npcl}\n",
    "    \n",
    "    ranges = {}\n",
    "    stds = npcl['pop'][0].dtc.attrs\n",
    "    for k in npcl['pop'][0].dtc.attrs.keys():    \n",
    "        stds[k] = []\n",
    "        ranges[k] = []\n",
    "        \n",
    "        \n",
    "    for i in npcl['pop'][::5]:\n",
    "        for k,v in i.dtc.attrs.items():\n",
    "            stds[k].append(v)\n",
    "            ranges[k].append(v)\n",
    "\n",
    "    for k in npcl['pop'][0].dtc.attrs.keys():\n",
    "        ranges[k] = (np.min(ranges[k][1::]),np.max(ranges[k][1::]))\n",
    "\n",
    "        stds[k] = np.std(stds[k][1::])\n",
    "    test_opt[str(t)]['stds'] = stds \n",
    "    test_opt[str(t)]['ranges'] = ranges \n",
    "\n",
    "    with open('data_dump.p','wb') as f:\n",
    "        pickle.dump(test_opt,f)\n",
    "    cnt+=1"
   ]
  },
  {
   "cell_type": "markdown",
   "metadata": {},
   "source": [
    "I consider the final gene populations for each of the eight tests. I compute the variance in each of the converged populations, I see that variance is low in many of the gene populations.\n",
    "\n",
    "When all variables are used to optomize only against one set of parameters, you expect their would be high variance in parameters, that don't matter much with respect to that error criteria (you expect redundancy of solutions).\n",
    "\n",
    "I compute std on errors over all the tests in order to estimate how amenable the problem is to multiobjective optimization."
   ]
  },
  {
   "cell_type": "code",
   "execution_count": null,
   "metadata": {
    "collapsed": false
   },
   "outputs": [],
   "source": [
    "print(test_opt['t'][0]['pf'])"
   ]
  },
  {
   "cell_type": "code",
   "execution_count": null,
   "metadata": {
    "collapsed": false
   },
   "outputs": [],
   "source": [
    "#print([i.fitness.values for i in test_opt['t'][0]['pop']])#.keys()\n",
    "print(np.std([i[0] for i in test_opt['t'][0]['pop'][0:5]]))#.keys()\n",
    "print(np.std([i[1] for i in test_opt['t'][0]['pop'][0:5]]))#.keys()\n",
    "print(np.std([i[2] for i in test_opt['t'][0]['pop'][0:5]]))#.keys()\n",
    "print(np.std([i[3] for i in test_opt['t'][0]['pop'][0:5]]))#.keys()\n",
    "print(test_opt['t'][0]['pop'][0][0])\n",
    "print(test_opt['t'][0]['pop'][0][1])\n",
    "test_opt['t'][0]['pop'][0].dtc.attrs"
   ]
  },
  {
   "cell_type": "code",
   "execution_count": null,
   "metadata": {
    "collapsed": false
   },
   "outputs": [],
   "source": [
    "\n",
    "#values = { k:v for v in npcl['pop'][i].dtc.attrs.items() for i in npcl['pop'] }\n",
    "print(values)    \n",
    "print(stds.keys())\n",
    "stds\n",
    "#dtc.variances[k] for k in dtc.attrs.keys() "
   ]
  },
  {
   "cell_type": "code",
   "execution_count": null,
   "metadata": {
    "collapsed": false
   },
   "outputs": [],
   "source": [
    "\n",
    "DO.seed_pop = npcl['pf'][0:MU]\n",
    "npcl, DO = om.run_ga(explore_param,10,reduced_tests,free_params=free_params,hc = hc, NSGA = False, MU = MU, seed_pop = DO.seed_pop)\n"
   ]
  },
  {
   "cell_type": "code",
   "execution_count": null,
   "metadata": {
    "collapsed": false
   },
   "outputs": [],
   "source": []
  },
  {
   "cell_type": "code",
   "execution_count": null,
   "metadata": {
    "collapsed": false
   },
   "outputs": [],
   "source": [
    "attrs_here = npcl['hardened'][0][0].attrs\n",
    "attrs_here.update(hc)\n",
    "attrs_here\n",
    "scores = npcl['hof'][0].dtc.scores\n",
    "print(scores)"
   ]
  },
  {
   "cell_type": "code",
   "execution_count": null,
   "metadata": {
    "collapsed": false
   },
   "outputs": [],
   "source": [
    "#\n",
    "use_test = test_frame[\"Neocortex pyramidal cell layer 5-6\"]\n",
    "reduced_tests = [use_test[0], use_test[-1], use_test[len(use_test)-1]]\n",
    "bigger_tests = use_test[1:-2]\n",
    "bigger_tests.insert(0,use_test[0])"
   ]
  },
  {
   "cell_type": "code",
   "execution_count": null,
   "metadata": {
    "collapsed": false
   },
   "outputs": [],
   "source": [
    "#bigger_tests = bigger_tests[-1::]\n",
    "print(bigger_tests)"
   ]
  },
  {
   "cell_type": "code",
   "execution_count": null,
   "metadata": {
    "collapsed": false
   },
   "outputs": [],
   "source": [
    "DO.seed_pop = npcl['hof'][0:MU]\n",
    "reduced_tests = [use_test[0], use_test[-1], use_test[len(use_test)-1]]\n",
    "npcl, DO = om.run_ga(explore_param,10,bigger_tests,free_params=free_params,hc = hc, NSGA = False, MU = MU)#, seed_pop = DO.seed_pop)\n"
   ]
  },
  {
   "cell_type": "code",
   "execution_count": null,
   "metadata": {
    "collapsed": false
   },
   "outputs": [],
   "source": [
    "print(npcl['hardened'][0][0].attrs)\n",
    "print(npcl['hardened'][0][0].scores)\n",
    "print(npcl['pf'][0].fitness.values)\n",
    "print(npcl['hof'][0].dtc.scores)\n",
    "\n",
    "#for t in use_test:\n",
    "#    print(t.name)\n",
    "    \n",
    "    \n",
    "pop"
   ]
  },
  {
   "cell_type": "markdown",
   "metadata": {},
   "source": [
    "# From the scores printed above, it looks like certain error criteria, are in conflict with each other.\n",
    "\n",
    "Tests, that are amenable to co-optimization appear to be:\n",
    "* Width test\n",
    "* Input resistance tets\n",
    "* Resting Potential Test,\n",
    "* Capicitance test.\n",
    "* Time constant\n",
    "\n",
    "Tests/criteria that seem in compatible with the above include: \n",
    "* Rheobase, \n",
    "* InjectedCurrentAPThresholdTest\n",
    "* InjectedCurrentAPAmplitudeTest\n",
    "\n",
    "Therefore a reduced set of lists is made to check if the bottom three are at least amenable to optimization togethor."
   ]
  },
  {
   "cell_type": "code",
   "execution_count": null,
   "metadata": {
    "collapsed": false
   },
   "outputs": [],
   "source": [
    "from sklearn.cluster import KMeans\n",
    "est = KMeans(n_clusters=2)\n",
    "est.fit(X)\n",
    "y_kmeans = est.predict(X)\n",
    "\n",
    "centers = est.cluster_centers_\n",
    "\n",
    "fig = plt.figure(fignum,figsize=(4,3))\n",
    "ax = Axes3D(fig,rect=[0,0,.95,1],elav=48,azim=134)\n",
    "ax.scatter(X[:,0],X[:,1],X[:,2],c=y_kmeans,s=50),\n",
    "ax.scatter(centres[:,0],centres[:,1],centres[:,2],c='black',s=200,alpha=0.5)"
   ]
  },
  {
   "cell_type": "code",
   "execution_count": null,
   "metadata": {
    "collapsed": false
   },
   "outputs": [],
   "source": [
    "\n",
    "print(reduced_tests)\n",
    "print(bigger_tests)\n",
    "\n",
    "DO.seed_pop = npcl['pf'][0:MU]\n",
    "npcl, DO = om.run_ga(explore_param,10,reduced_tests,free_params=free_params,hc = hc, NSGA = True, MU = 12)#, seed_pop = DO.seed_pop)\n"
   ]
  },
  {
   "cell_type": "code",
   "execution_count": null,
   "metadata": {
    "collapsed": false
   },
   "outputs": [],
   "source": [
    "import pickle\n",
    "import copy\n",
    "import numpy as np\n",
    "import pandas as pd\n",
    "import matplotlib.pyplot as plt\n",
    "#from neuronunit.optimization.optimization_management import wave_measure\n",
    "from neuronunit.models.reduced import ReducedModel\n",
    "from neuronunit.optimization.model_parameters import model_params, path_params\n",
    "LEMS_MODEL_PATH = path_params['model_path']\n",
    "import neuronunit.optimization as opt\n",
    "import quantities as pq\n",
    "fig = plt.figure()\n",
    "\n",
    "plt.clf()\n",
    "\n",
    "from neuronunit.optimization.data_transport_container import DataTC\n",
    "model = ReducedModel(LEMS_MODEL_PATH,name = str('vanilla'),backend = ('RAW'))\n",
    "for i in npcl['pf'][0:2]:\n",
    "    iparams = {}\n",
    "    iparams['injected_square_current'] = {}\n",
    "    iparams['injected_square_current']['amplitude'] =i.dtc.rheobase\n",
    "    model = None\n",
    "    model = ReducedModel(LEMS_MODEL_PATH,name = str('vanilla'),backend = ('RAW'))\n",
    "    model.set_attrs(i.dtc.attrs)\n",
    "\n",
    "    #['amplitude']  = dtc.vtest[k]['injected_square_current']['amplitude']\n",
    "    DELAY = 100.0*pq.ms\n",
    "    DURATION = 1000.0*pq.ms\n",
    "    iparams['injected_square_current']['delay'] = DELAY\n",
    "    iparams['injected_square_current']['duration'] = int(DURATION)\n",
    "    model.inject_square_current(iparams)\n",
    "    n_spikes = len(model.get_spike_train())\n",
    "    if n_spikes:\n",
    "        print(n_spikes)\n",
    "        #print(i[0].scores['RheobaseTestP']*pq.pA)\n",
    "        plt.plot(model.get_membrane_potential().times,model.get_membrane_potential())#,label='ground truth')\n",
    "        plt.legend()\n",
    "\n",
    "#gca().set_axis_off()\n",
    "#subplots_adjust(top = 1, bottom = 0, right = 1, left = 0, \n",
    "#            hspace = 0, wspace = 0)\n",
    "#margins(0,0)\n",
    "#gca().xaxis.set_major_locator(NullLocator())\n",
    "#gca().yaxis.set_major_locator(NullLocator())\n",
    "\n",
    "plt.subplots_adjust(left=0.0, right=1.0, top=0.9, bottom=0.1)\n",
    "fig.tight_layout()\n",
    "plt.show()\n",
    "\n",
    "fig.savefig(\"single_trace.png\", bbox_inches = 'tight',\n",
    "    pad_inches = 0)\n"
   ]
  },
  {
   "cell_type": "code",
   "execution_count": null,
   "metadata": {
    "collapsed": false
   },
   "outputs": [],
   "source": [
    "import pickle\n",
    "import copy\n",
    "import numpy as np\n",
    "import pandas as pd\n",
    "import matplotlib.pyplot adata:image/png;base64,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s plt\n",
    "\n",
    "from neuronunit.models.reduced import ReducedModel\n",
    "from neuronunit.optimization.model_parameters import model_params, path_params\n",
    "LEMS_MODEL_PATH = path_params['model_path']\n",
    "import neuronunit.optimization as opt\n",
    "import quantities as pq\n",
    "fig = plt.figure()\n",
    "\n",
    "plt.clf()\n",
    "\n",
    "from neuronunit.optimization.data_transport_container import DataTC\n",
    "for i in npcl['hardened']:\n",
    "    iparams = {}\n",
    "    iparams['injected_square_current'] = {}\n",
    "    iparams['injected_square_current']['amplitude'] = i[0].rheobase\n",
    "    model = None\n",
    "    model = ReducedModel(LEMS_MODEL_PATH,name = str('vanilla'),backend = ('RAW'))\n",
    "    model.set_attrs(i[0].attrs)\n",
    "\n",
    "    #['amplitude']  = dtc.vtest[k]['injected_square_current']['amplitude']\n",
    "    DELAY = 100.0*pq.ms\n",
    "    DURATION = 1000.0*pq.ms\n",
    "    iparams['injected_square_current']['delay'] = DELAY\n",
    "    iparams['injected_square_current']['duration'] = int(DURATION)\n",
    "    model.inject_square_current(iparams)\n",
    "    n_spikes = len(model.get_spike_train())\n",
    "    if n_spikes:\n",
    "        print(n_spikes)\n",
    "        print(i[0].scores['RheobaseTestP']*pq.pA)\n",
    "        plt.plot(model.get_membrane_potential().times,model.get_membrane_potential())#,label='ground truth')\n",
    "        plt.legend()\n",
    "\n",
    "#gca().set_axis_off()\n",
    "#subplots_adjust(top = 1, bottom = 0, right = 1, left = 0, \n",
    "#            hspace = 0, wspace = 0)\n",
    "#margins(0,0)\n",
    "#gca().xaxis.set_major_locator(NullLocator())\n",
    "#gca().yaxis.set_major_locator(NullLocator())\n",
    "\n",
    "plt.subplots_adjust(left=0.0, right=1.0, top=0.9, bottom=0.1)\n",
    "fig.tight_layout()\n",
    "plt.show()\n",
    "\n",
    "fig.savefig(\"single_trace.png\", bbox_inches = 'tight',\n",
    "    pad_inches = 0)\n",
    "\n",
    "\n",
    "'''\n",
    "hc = {}\n",
    "\n",
    "#free_params = ['c','k']\n",
    "for k,v in explore_param.items():\n",
    "    if k not in free_params:\n",
    "        hc[k] = v\n",
    "constants = npcl['hardened'][0][0].attrs\n",
    "hc.update(constants) \n",
    "npcl, _ = om.run_ga(explore_param,20,test_frame[\"Neocortex pyramidal cell layer 5-6\"],free_params=free_params,hc = hc, NSGA = True)\n",
    "'''"
   ]
  },
  {
   "cell_type": "code",
   "execution_count": null,
   "metadata": {
    "collapsed": false
   },
   "outputs": [],
   "source": [
    "\n",
    "free_params = ['a','b','k']#vt','c','k','d']#,'vt','k','c','C']#,'C'] # this can only be odd numbers.\n",
    "\n",
    "##\n",
    "# Use information that is available\n",
    "##\n",
    "hc = reduced_cells['RS']\n",
    "\n",
    "hc['vr'] = -65.2261863636364\n",
    "\n",
    "hc['vPeak'] = hc['vr'] + 86.364525297619\n",
    "hc['C'] = 89.7960714285714\n",
    "hc.pop('a',0)\n",
    "hc.pop('b',0)\n",
    "hc.pop('k',0)\n",
    "hc.pop('c',0)\n",
    "hc.pop('d',0)\n",
    "        \n",
    "use_test = test_frame[\"Neocortex pyramidal cell layer 5-6\"]\n",
    "DO.seed_pop = npcl['pf']\n",
    "ga_out = DO.run(max_ngen = 15)\n",
    "'''\n",
    "hc = {}\n",
    "\n",
    "free_params = ['C']\n",
    "\n",
    "for k,v in explore_param.items():\n",
    "    if k not in free_params:\n",
    "        hc[k] = v\n",
    "#,'vt','k','c','C']#,'C'] # this can only be odd numbers\n",
    "constants = npcl['hardened'][0][0].attrs\n",
    "hc.update(constants) \n",
    "npcl, _ = om.run_ga(explore_param,20,test_frame[\"Neocortex pyramidal cell layer 5-6\"],free_params=free_params,hc = hc, NSGA = True)\n",
    "'''"
   ]
  },
  {
   "cell_type": "code",
   "execution_count": null,
   "metadata": {
    "collapsed": false
   },
   "outputs": [],
   "source": [
    "'''\n",
    "import pandas\n",
    "    \n",
    "try:\n",
    "    ne_raw = pandas.read_csv('article_ephys_metadata_curated.csv', delimiter='\\t')\n",
    "    !ls -ltr *.csv\n",
    "except:\n",
    "    !wget https://neuroelectro.org/static/src/article_ephys_metadata_curated.csv\n",
    "    ne_raw = pandas.read_csv('article_ephys_metadata_curated.csv', delimiter='\\t')\n",
    "\n",
    "blah = ne_raw[ne_raw['NeuronName'].str.match('Hippocampus CA1 pyramidal cell')]\n",
    "#ne_raw['NeuronName']\n",
    "#ne_raw['cell\\ capacitance']\n",
    "#blah = ne_raw[ne_raw['NeuronName'].str.match('Hippocampus CA1 pyramidal cell')]\n",
    "\n",
    "print([i for i in blah.columns])\n",
    "#rint(blah['rheobase'])\n",
    "#print(blah)\n",
    "#for i in ne_raw.columns:#['NeuronName']:\n",
    "#    print(i)\n",
    "\n",
    "#ne_raw['NeuronName'][85]\n",
    "#blah = ne_raw[ne_raw['TableID'].str.match('85')]\n",
    "#ne_raw['n'] = 84\n",
    "#here = ne_raw[ne_raw['Index']==85]\n",
    "here = ne_raw[ne_raw['TableID']==18]\n",
    "\n",
    "print(here['rheo_raw'])\n",
    "#!wget https://neuroelectro.org/apica/1/n/\n",
    "'''"
   ]
  },
  {
   "cell_type": "code",
   "execution_count": null,
   "metadata": {
    "collapsed": false
   },
   "outputs": [],
   "source": [
    "ca1 = ne_raw[ne_raw['NeuronName'].str.match('Hippocampus CA1 pyramidal cell')]\n",
    "ca1['rheo']"
   ]
  },
  {
   "cell_type": "code",
   "execution_count": null,
   "metadata": {
    "collapsed": false
   },
   "outputs": [],
   "source": [
    "\n",
    "    \n",
    "test_frame[\"Dentate gyrus basket cell\"][0].observation['std'] = test_frame[\"Dentate gyrus basket cell\"][0].observation['mean']\n",
    "for t in test_frame[\"Dentate gyrus basket cell\"]:\n",
    "    print(t.name)\n",
    "\n",
    "    print(t.observation)\n",
    "    "
   ]
  },
  {
   "cell_type": "markdown",
   "metadata": {},
   "source": [
    "\n",
    "'''\n",
    "Inibitory Neuron\n",
    "This can't pass the Rheobase test\n",
    "'''    "
   ]
  },
  {
   "cell_type": "code",
   "execution_count": null,
   "metadata": {
    "collapsed": false
   },
   "outputs": [],
   "source": [
    "\n",
    "from neuronunit.optimization import optimization_management as om\n",
    "import pickle\n",
    "\n",
    "free_params = ['a','vr','b','vt','vPeak','c','k']\n",
    "for k,v in explore_param.items():\n",
    "    if k not in free_params:\n",
    "        hc[k] = v\n",
    "use_test = test_frame[\"Dentate gyrus basket cell\"]\n",
    "bcell, _ = om.run_ga(explore_param,20,use_test,free_params=free_params,hc = hc, NSGA = True, MU = 4)\n"
   ]
  },
  {
   "cell_type": "code",
   "execution_count": null,
   "metadata": {
    "collapsed": false
   },
   "outputs": [],
   "source": [
    "\n",
    "    \n",
    "#test_frame[\"Dentate gyrus basket cell\"][0].observation['std'] = test_frame[\"Dentate gyrus basket cell\"][0].observation['mean']\n",
    "for t in test_frame[\"Hippocampus CA1 pyramidal cell\"]:\n",
    "    print(t.name)\n",
    "\n",
    "    print(t.observation)"
   ]
  },
  {
   "cell_type": "code",
   "execution_count": null,
   "metadata": {
    "collapsed": false
   },
   "outputs": [],
   "source": [
    "use_test = test_frame[\"Hippocampus CA1 pyramidal cell\"]\n",
    "bcell, _ = om.run_ga(explore_param,20,use_test,free_params=free_params,hc = hc, NSGA = True, MU = 10)\n"
   ]
  },
  {
   "cell_type": "code",
   "execution_count": null,
   "metadata": {
    "collapsed": false
   },
   "outputs": [],
   "source": [
    "import pickle\n",
    "import copy\n",
    "import numpy as np\n",
    "import pandas as pd\n",
    "import matplotlib.pyplot as plt\n",
    "\n",
    "from neuronunit.models.reduced import ReducedModel\n",
    "from neuronunit.optimization.model_parameters import model_params, path_params\n",
    "LEMS_MODEL_PATH = path_params['model_path']\n",
    "import neuronunit.optimization as opt\n",
    "import quantities as pq\n",
    "fig = plt.figure()\n",
    "\n",
    "plt.clf()\n",
    "\n",
    "from neuronunit.optimization.data_transport_container import DataTC\n",
    "for i in bcell['hardened'][0:6]:\n",
    "    iparams = {}\n",
    "    iparams['injected_square_current'] = {}\n",
    "    iparams['injected_square_current']['amplitude'] =i[0].rheobase\n",
    "    model = None\n",
    "    model = ReducedModel(LEMS_MODEL_PATH,name = str('vanilla'),backend = ('RAW'))\n",
    "    model.set_attrs(i[0].attrs)\n",
    "\n",
    "    #['amplitude']  = dtc.vtest[k]['injected_square_current']['amplitude']\n",
    "    DELAY = 100.0*pq.ms\n",
    "    DURATION = 1000.0*pq.ms\n",
    "    iparams['injected_square_current']['delay'] = DELAY\n",
    "    iparams['injected_square_current']['duration'] = int(DURATION)\n",
    "    model.inject_square_current(iparams)\n",
    "    n_spikes = len(model.get_spike_train())\n",
    "    if n_spikes:\n",
    "        print(n_spikes)\n",
    "        print(i[0].scores['RheobaseTestP']*pq.pA)\n",
    "        plt.plot(model.get_membrane_potential().times,model.get_membrane_potential())#,label='ground truth')\n",
    "        plt.legend()\n",
    "\n",
    "#gca().set_axis_off()\n",
    "#subplots_adjust(top = 1, bottom = 0, right = 1, left = 0, \n",
    "#            hspace = 0, wspace = 0)\n",
    "#margins(0,0)\n",
    "#gca().xaxis.set_major_locator(NullLocator())\n",
    "#gca().yaxis.set_major_locator(NullLocator())\n",
    "\n",
    "plt.subplots_adjust(left=0.0, right=1.0, top=0.9, bottom=0.1)\n",
    "fig.tight_layout()\n",
    "plt.show()\n",
    "\n",
    "fig.savefig(\"single_trace.png\", bbox_inches = 'tight',\n",
    "    pad_inches = 0)\n"
   ]
  },
  {
   "cell_type": "code",
   "execution_count": null,
   "metadata": {
    "collapsed": true
   },
   "outputs": [],
   "source": [
    "use_test = test_frame[\"Hippocampus CA1 pyramidal cell\"]\n",
    "bcell, _ = om.run_ga(explore_param,20,use_test,free_params=free_params,hc = hc, NSGA = True, MU = 10)\n"
   ]
  }
 ],
 "metadata": {
  "kernelspec": {
   "display_name": "Python 3",
   "language": "python",
   "name": "python3"
  },
  "language_info": {
   "codemirror_mode": {
    "name": "ipython",
    "version": 3
   },
   "file_extension": ".py",
   "mimetype": "text/x-python",
   "name": "python",
   "nbconvert_exporter": "python",
   "pygments_lexer": "ipython3",
   "version": "3.5.2"
  }
 },
 "nbformat": 4,
 "nbformat_minor": 2
}
