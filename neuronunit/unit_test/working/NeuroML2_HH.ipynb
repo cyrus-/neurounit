{
 "cells": [
  {
   "cell_type": "code",
   "execution_count": 1,
   "metadata": {},
   "outputs": [
    {
     "data": {
      "image/png": "[encoded data removed]",
      "text/plain": [
       "<Figure size 432x288 with 1 Axes>"
      ]
     },
     "metadata": {
      "needs_background": "light"
     },
     "output_type": "display_data"
    },
    {
     "name": "stdout",
     "output_type": "stream",
     "text": [
      "consider installing pynn a heavier backend\n"
     ]
    },
    {
     "name": "stderr",
     "output_type": "stream",
     "text": [
      "INFO       Cache size for target \"cython\": 1082 MB.\n",
      "You can call \"clear_cache('cython')\" to delete all files from the cache or manually delete files in the \"/home/russell/.cython/brian_extensions\" directory. [brian2]\n"
     ]
    },
    {
     "name": "stdout",
     "output_type": "stream",
     "text": [
      "pynn python Error\n",
      "could not import brian2 neuronaldynamicsError\n"
     ]
    }
   ],
   "source": [
    "import matplotlib.pyplot as plt\n",
    "plt.plot([0,1],[1,0])\n",
    "plt.show()\n",
    "\n",
    "import scipy as sp\n",
    "import pylab as plt\n",
    "from scipy.integrate import odeint\n",
    "from neo import AnalogSignal\n",
    "\n",
    "\n",
    "from neo import AnalogSignal\n",
    "import quantities as pq\n",
    "from neuronunit.optimisation.optimization_management import inject_and_plot_model, dtc_to_rheo\n",
    "from neuronunit.optimisation.optimization_management import inject_and_plot_passive_model\n",
    "import numpy as np\n",
    "from neuronunit.optimisation.data_transport_container import DataTC\n",
    "from neuronunit.optimisation import model_parameters"
   ]
  },
  {
   "cell_type": "code",
   "execution_count": 2,
   "metadata": {},
   "outputs": [],
   "source": [
    "\n",
    "\n",
    "class HodgkinHuxley():\n",
    "    \"\"\"Full Hodgkin-Huxley Model implemented in Python\"\"\"\n",
    "\n",
    "    C_m  =   1.0\n",
    "    \"\"\"membrane capacitance, in uF/cm^2\"\"\"\n",
    "\n",
    "    g_Na = 120.0\n",
    "    \"\"\"Sodium (Na) maximum conductances, in mS/cm^2\"\"\"\n",
    "\n",
    "    g_K  =  36.0\n",
    "    \"\"\"Postassium (K) maximum conductances, in mS/cm^2\"\"\"\n",
    "\n",
    "    g_L  =   0.3\n",
    "    \"\"\"Leak maximum conductances, in mS/cm^2\"\"\"\n",
    "\n",
    "    E_Na =  50.0\n",
    "    \"\"\"Sodium (Na) Nernst reversal potentials, in mV\"\"\"\n",
    "\n",
    "    E_K  = -77.0\n",
    "    \"\"\"Postassium (K) Nernst reversal potentials, in mV\"\"\"\n",
    "\n",
    "    E_L  = -54.387\n",
    "    \"\"\"Leak Nernst reversal potentials, in mV\"\"\"\n",
    "\n",
    "\n",
    "    def alpha_m(self, V):\n",
    "        \"\"\"Channel gating kinetics. Functions of membrane voltage\"\"\"\n",
    "        return 0.1*(V+40.0)/(1.0 - sp.exp(-(V+40.0) / 10.0))\n",
    "\n",
    "    def beta_m(self, V):\n",
    "        \"\"\"Channel gating kinetics. Functions of membrane voltage\"\"\"\n",
    "        return 4.0*sp.exp(-(V+65.0) / 18.0)\n",
    "\n",
    "    def alpha_h(self, V):\n",
    "        \"\"\"Channel gating kinetics. Functions of membrane voltage\"\"\"\n",
    "        return 0.07*sp.exp(-(V+65.0) / 20.0)\n",
    "\n",
    "    def beta_h(self, V):\n",
    "        \"\"\"Channel gating kinetics. Functions of membrane voltage\"\"\"\n",
    "        return 1.0/(1.0 + sp.exp(-(V+35.0) / 10.0))\n",
    "\n",
    "    def alpha_n(self, V):\n",
    "        \"\"\"Channel gating kinetics. Functions of membrane voltage\"\"\"\n",
    "        return 0.01*(V+55.0)/(1.0 - sp.exp(-(V+55.0) / 10.0))\n",
    "\n",
    "    def beta_n(self, V):\n",
    "        \"\"\"Channel gating kinetics. Functions of membrane voltage\"\"\"\n",
    "        return 0.125*sp.exp(-(V+65) / 80.0)\n",
    "\n",
    "    def I_Na(self, V, m, h):\n",
    "        \"\"\"\n",
    "        Membrane current (in uA/cm^2)\n",
    "        Sodium (Na = element name)\n",
    "\n",
    "        |  :param V:\n",
    "        |  :param m:\n",
    "        |  :param h:\n",
    "        |  :return:\n",
    "        \"\"\"\n",
    "        return self.g_Na * m**3 * h * (V - self.E_Na)\n",
    "\n",
    "    def I_K(self, V, n):\n",
    "        \"\"\"\n",
    "        Membrane current (in uA/cm^2)\n",
    "        Potassium (K = element name)\n",
    "\n",
    "        |  :param V:\n",
    "        |  :param h:\n",
    "        |  :return:\n",
    "        \"\"\"\n",
    "        return self.g_K  * n**4 * (V - self.E_K)\n",
    "    #  Leak\n",
    "    def I_L(self, V):\n",
    "        \"\"\"\n",
    "        Membrane current (in uA/cm^2)\n",
    "        Leak\n",
    "\n",
    "        |  :param V:\n",
    "        |  :param h:\n",
    "        |  :return:\n",
    "        \"\"\"\n",
    "        return self.g_L * (V - self.E_L)\n",
    "\n",
    "    def I_inj(self, t,constant=None):\n",
    "        \"\"\"\n",
    "        External Current\n",
    "\n",
    "        |  :param t: time\n",
    "        |  :return: step up to 10 uA/cm^2 at t>100\n",
    "        |           step down to 0 uA/cm^2 at t>200\n",
    "        |           step up to 35 uA/cm^2 at t>300\n",
    "        |           step down to 0 uA/cm^2 at t>400\n",
    "        \"\"\"\n",
    "        \n",
    "        return 0*(t<100) +2.240341901779175*(t>100) -2.240341901779175*(t>1100)\n",
    "        #2.240341901779175 pA\n",
    "\n",
    "    @staticmethod\n",
    "    def dALLdt(X, t, self):\n",
    "        \"\"\"\n",
    "        Integrate\n",
    "\n",
    "        |  :param X:\n",
    "        |  :param t:\n",
    "        |  :return: calculate membrane potential & activation variables\n",
    "        \"\"\"\n",
    "        V, m, h, n = X\n",
    "\n",
    "        dVdt = (self.I_inj(t) - self.I_Na(V, m, h) - self.I_K(V, n) - self.I_L(V)) / self.C_m\n",
    "        dmdt = self.alpha_m(V)*(1.0-m) - self.beta_m(V)*m\n",
    "        dhdt = self.alpha_h(V)*(1.0-h) - self.beta_h(V)*h\n",
    "        dndt = self.alpha_n(V)*(1.0-n) - self.beta_n(V)*n\n",
    "        return dVdt, dmdt, dhdt, dndt\n",
    "\n",
    "    def Main(self,t=None):\n",
    "        \"\"\"\n",
    "        Main demo for the Hodgkin Huxley neuron model\n",
    "        \"\"\"\n",
    "        if t is not None:\n",
    "            self.t = t\n",
    "        else:\n",
    "            self.t = sp.arange(0.0, 1300.0, 0.01)\n",
    "            \"\"\" The time to integrate over \"\"\"\n",
    "\n",
    "        X = odeint(self.dALLdt, [-65, 0.05, 0.6, 0.32], self.t, args=(self,))\n",
    "        V = X[:,0]\n",
    "        m = X[:,1]\n",
    "        h = X[:,2]\n",
    "        n = X[:,3]\n",
    "        ina = self.I_Na(V, m, h)\n",
    "        ik = self.I_K(V, n)\n",
    "        il = self.I_L(V)\n",
    "\n",
    "        plt.figure()\n",
    "        len(V)\n",
    "        scale = len(V)/1.3\n",
    "        vm = AnalogSignal(V,units = pq.V,sampling_rate = scale * pq.Hz)\n",
    "        plt.title('Hodgkin-Huxley Neuron')\n",
    "        plt.plot(vm.times, vm, 'k')\n",
    "        plt.ylabel('V (mV)')\n",
    "\n",
    "\n",
    "        plt.show()\n",
    "        return vm\n",
    "\n",
    "\n"
   ]
  },
  {
   "cell_type": "markdown",
   "metadata": {},
   "source": [
    "# HH cell from NU backend"
   ]
  },
  {
   "cell_type": "code",
   "execution_count": 3,
   "metadata": {},
   "outputs": [
    {
     "name": "stderr",
     "output_type": "stream",
     "text": [
      "INFO:numba.transforms:finding looplift candidates\n"
     ]
    },
    {
     "data": {
      "image/png": "[encoded data removed]",
      "text/plain": [
       "<Figure size 432x288 with 1 Axes>"
      ]
     },
     "metadata": {
      "needs_background": "light"
     },
     "output_type": "display_data"
    }
   ],
   "source": [
    "new_attrs = {}\n",
    "new_attrs['E_L'] = -54.387\n",
    "b = str(\"HH\")\n",
    "attrs = {k:np.mean(v) for k,v in model_parameters.MODEL_PARAMS[b].items()}\n",
    "if new_attrs is not None:\n",
    "    for k,v in new_attrs.items():\n",
    "        attrs[k] = new_attrs[k]\n",
    "\n",
    "pre_model = DataTC()\n",
    "\n",
    "pre_model.attrs = attrs\n",
    "pre_model.backend = b\n",
    "vm,plt = inject_and_plot_model(pre_model.attrs,b)\n",
    "dtc = dtc_to_rheo(pre_model)\n"
   ]
  },
  {
   "cell_type": "markdown",
   "metadata": {},
   "source": [
    "# HH cell from NeuroML2 Python code"
   ]
  },
  {
   "cell_type": "code",
   "execution_count": 4,
   "metadata": {},
   "outputs": [
    {
     "data": {
      "image/png": "[encoded data removed]",
      "text/plain": [
       "<Figure size 432x288 with 1 Axes>"
      ]
     },
     "metadata": {
      "needs_background": "light"
     },
     "output_type": "display_data"
    }
   ],
   "source": [
    "#if __name__ == '__main__':\n",
    "runner = HodgkinHuxley()\n",
    "t = sp.arange(0.0, 1300.0, 0.01)\n",
    "\"\"\" The time to integrate over \"\"\"\n",
    "\n",
    "vm = runner.Main(t=t)"
   ]
  }
 ],
 "metadata": {
  "kernelspec": {
   "display_name": "Python 3",
   "language": "python",
   "name": "python3"
  },
  "language_info": {
   "codemirror_mode": {
    "name": "ipython",
    "version": 3
   },
   "file_extension": ".py",
   "mimetype": "text/x-python",
   "name": "python",
   "nbconvert_exporter": "python",
   "pygments_lexer": "ipython3",
   "version": "3.6.9"
  }
 },
 "nbformat": 4,
 "nbformat_minor": 4
}
