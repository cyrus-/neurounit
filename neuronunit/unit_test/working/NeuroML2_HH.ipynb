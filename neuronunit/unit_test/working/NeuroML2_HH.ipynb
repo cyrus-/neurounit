{
 "cells": [
  {
   "cell_type": "code",
   "execution_count": 1,
   "metadata": {},
   "outputs": [
    {
     "data": {
      "image/png": "[encoded data removed]",
      "text/plain": [
       "<Figure size 432x288 with 1 Axes>"
      ]
     },
     "metadata": {
      "needs_background": "light"
     },
     "output_type": "display_data"
    },
    {
     "name": "stdout",
     "output_type": "stream",
     "text": [
      "Import of general_pyNN.PYNNBackend failed due to:\n",
      "No module named 'pyNN'\n"
     ]
    }
   ],
   "source": [
    "import matplotlib.pyplot as plt\n",
    "plt.plot([0,1],[1,0])\n",
    "plt.show()\n",
    "\n",
    "import scipy as sp\n",
    "import pylab as plt\n",
    "from scipy.integrate import odeint\n",
    "from neo import AnalogSignal\n",
    "\n",
    "\n",
    "from neo import AnalogSignal\n",
    "import quantities as pq\n",
    "from neuronunit.optimisation.optimization_management import inject_and_plot_model, dtc_to_rheo\n",
    "from neuronunit.optimisation.optimization_management import inject_and_plot_passive_model\n",
    "import numpy as np\n",
    "from neuronunit.optimisation.data_transport_container import DataTC\n",
    "from neuronunit.optimisation import model_parameters"
   ]
  },
  {
   "cell_type": "code",
   "execution_count": 2,
   "metadata": {},
   "outputs": [],
   "source": [
    "\n",
    "\n",
    "class HodgkinHuxley():\n",
    "    \"\"\"Full Hodgkin-Huxley Model implemented in Python\"\"\"\n",
    "\n",
    "    C_m  =   1.0\n",
    "    \"\"\"membrane capacitance, in uF/cm^2\"\"\"\n",
    "\n",
    "    g_Na = 120.0\n",
    "    \"\"\"Sodium (Na) maximum conductances, in mS/cm^2\"\"\"\n",
    "\n",
    "    g_K  =  36.0\n",
    "    \"\"\"Postassium (K) maximum conductances, in mS/cm^2\"\"\"\n",
    "\n",
    "    g_L  =   0.3\n",
    "    \"\"\"Leak maximum conductances, in mS/cm^2\"\"\"\n",
    "\n",
    "    E_Na =  50.0\n",
    "    \"\"\"Sodium (Na) Nernst reversal potentials, in mV\"\"\"\n",
    "\n",
    "    E_K  = -77.0\n",
    "    \"\"\"Postassium (K) Nernst reversal potentials, in mV\"\"\"\n",
    "\n",
    "    E_L  = -54.387\n",
    "    \"\"\"Leak Nernst reversal potentials, in mV\"\"\"\n",
    "\n",
    "\n",
    "    def alpha_m(self, V):\n",
    "        \"\"\"Channel gating kinetics. Functions of membrane voltage\"\"\"\n",
    "        return 0.1*(V+40.0)/(1.0 - sp.exp(-(V+40.0) / 10.0))\n",
    "\n",
    "    def beta_m(self, V):\n",
    "        \"\"\"Channel gating kinetics. Functions of membrane voltage\"\"\"\n",
    "        return 4.0*sp.exp(-(V+65.0) / 18.0)\n",
    "\n",
    "    def alpha_h(self, V):\n",
    "        \"\"\"Channel gating kinetics. Functions of membrane voltage\"\"\"\n",
    "        return 0.07*sp.exp(-(V+65.0) / 20.0)\n",
    "\n",
    "    def beta_h(self, V):\n",
    "        \"\"\"Channel gating kinetics. Functions of membrane voltage\"\"\"\n",
    "        return 1.0/(1.0 + sp.exp(-(V+35.0) / 10.0))\n",
    "\n",
    "    def alpha_n(self, V):\n",
    "        \"\"\"Channel gating kinetics. Functions of membrane voltage\"\"\"\n",
    "        return 0.01*(V+55.0)/(1.0 - sp.exp(-(V+55.0) / 10.0))\n",
    "\n",
    "    def beta_n(self, V):\n",
    "        \"\"\"Channel gating kinetics. Functions of membrane voltage\"\"\"\n",
    "        return 0.125*sp.exp(-(V+65) / 80.0)\n",
    "\n",
    "    def I_Na(self, V, m, h):\n",
    "        \"\"\"\n",
    "        Membrane current (in uA/cm^2)\n",
    "        Sodium (Na = element name)\n",
    "\n",
    "        |  :param V:\n",
    "        |  :param m:\n",
    "        |  :param h:\n",
    "        |  :return:\n",
    "        \"\"\"\n",
    "        return self.g_Na * m**3 * h * (V - self.E_Na)\n",
    "\n",
    "    def I_K(self, V, n):\n",
    "        \"\"\"\n",
    "        Membrane current (in uA/cm^2)\n",
    "        Potassium (K = element name)\n",
    "\n",
    "        |  :param V:\n",
    "        |  :param h:\n",
    "        |  :return:\n",
    "        \"\"\"\n",
    "        return self.g_K  * n**4 * (V - self.E_K)\n",
    "    #  Leak\n",
    "    def I_L(self, V):\n",
    "        \"\"\"\n",
    "        Membrane current (in uA/cm^2)\n",
    "        Leak\n",
    "\n",
    "        |  :param V:\n",
    "        |  :param h:\n",
    "        |  :return:\n",
    "        \"\"\"\n",
    "        return self.g_L * (V - self.E_L)\n",
    "\n",
    "    def I_inj(self, t,constant=None):\n",
    "        \"\"\"\n",
    "        External Current\n",
    "\n",
    "        |  :param t: time\n",
    "        |  :return: step up to 10 uA/cm^2 at t>100\n",
    "        |           step down to 0 uA/cm^2 at t>200\n",
    "        |           step up to 35 uA/cm^2 at t>300\n",
    "        |           step down to 0 uA/cm^2 at t>400\n",
    "        \"\"\"\n",
    "        \n",
    "        return 0*(t<100) +2.240341901779175*(t>100) -2.240341901779175*(t>1100)\n",
    "        #2.240341901779175 pA\n",
    "\n",
    "    @staticmethod\n",
    "    def dALLdt(X, t, self):\n",
    "        \"\"\"\n",
    "        Integrate\n",
    "\n",
    "        |  :param X:\n",
    "        |  :param t:\n",
    "        |  :return: calculate membrane potential & activation variables\n",
    "        \"\"\"\n",
    "        V, m, h, n = X\n",
    "\n",
    "        dVdt = (self.I_inj(t) - self.I_Na(V, m, h) - self.I_K(V, n) - self.I_L(V)) / self.C_m\n",
    "        dmdt = self.alpha_m(V)*(1.0-m) - self.beta_m(V)*m\n",
    "        dhdt = self.alpha_h(V)*(1.0-h) - self.beta_h(V)*h\n",
    "        dndt = self.alpha_n(V)*(1.0-n) - self.beta_n(V)*n\n",
    "        return dVdt, dmdt, dhdt, dndt\n",
    "\n",
    "    def Main(self,t=None):\n",
    "        \"\"\"\n",
    "        Main demo for the Hodgkin Huxley neuron model\n",
    "        \"\"\"\n",
    "        if t is not None:\n",
    "            self.t = t\n",
    "        else:\n",
    "            self.t = sp.arange(0.0, 1300.0, 0.01)\n",
    "            \"\"\" The time to integrate over \"\"\"\n",
    "\n",
    "        X = odeint(self.dALLdt, [-65, 0.05, 0.6, 0.32], self.t, args=(self,))\n",
    "        V = X[:,0]\n",
    "        m = X[:,1]\n",
    "        h = X[:,2]\n",
    "        n = X[:,3]\n",
    "        ina = self.I_Na(V, m, h)\n",
    "        ik = self.I_K(V, n)\n",
    "        il = self.I_L(V)\n",
    "\n",
    "        plt.figure()\n",
    "        len(V)\n",
    "        scale = len(V)/1.3\n",
    "        vm = AnalogSignal(V,units = pq.V,sampling_rate = scale * pq.Hz)\n",
    "        plt.title('Hodgkin-Huxley Neuron')\n",
    "        plt.plot(vm.times, vm, 'k')\n",
    "        plt.ylabel('V (mV)')\n",
    "\n",
    "\n",
    "        plt.show()\n",
    "        return vm\n",
    "\n",
    "\n"
   ]
  },
  {
   "cell_type": "markdown",
   "metadata": {},
   "source": [
    "# HH cell from NU backend"
   ]
  },
  {
   "cell_type": "code",
   "execution_count": 3,
   "metadata": {},
   "outputs": [
    {
     "name": "stderr",
     "output_type": "stream",
     "text": [
      "INFO:numba.transforms:finding looplift candidates\n"
     ]
    },
    {
     "data": {
      "text/plain": [
       "<neuronunit.models.static.StaticModel at 0x7f93a80f3908>"
      ]
     },
     "execution_count": 3,
     "metadata": {},
     "output_type": "execute_result"
    },
    {
     "data": {
      "image/png": "[encoded data removed]",
      "text/plain": [
       "<Figure size 432x288 with 1 Axes>"
      ]
     },
     "metadata": {
      "needs_background": "light"
     },
     "output_type": "display_data"
    }
   ],
   "source": [
    "new_attrs = {}\n",
    "new_attrs['E_L'] = -54.387\n",
    "b = str(\"HH\")\n",
    "attrs = {k:np.mean(v) for k,v in model_parameters.MODEL_PARAMS[b].items()}\n",
    "if new_attrs is not None:\n",
    "    for k,v in new_attrs.items():\n",
    "        attrs[k] = new_attrs[k]\n",
    "\n",
    "pre_model = DataTC()\n",
    "\n",
    "pre_model.attrs = attrs\n",
    "pre_model.backend = b\n",
    "vm,plt = inject_and_plot_model(pre_model.attrs,b)\n",
    "from neuronunit.models import StaticModel\n",
    "\n",
    "SM = StaticModel(vm)\n",
    "\n",
    "dtc = dtc_to_rheo(pre_model)\n",
    "SM"
   ]
  },
  {
   "cell_type": "code",
   "execution_count": 4,
   "metadata": {},
   "outputs": [
    {
     "data": {
      "text/plain": [
       "AnalogSignal with 1 channels of length 1300000; units mV; datatype float64 \n",
       "sampling rate: 999999.9999999999\n",
       "time: 0.0 to 1.3"
      ]
     },
     "execution_count": 4,
     "metadata": {},
     "output_type": "execute_result"
    }
   ],
   "source": [
    "SM.vm"
   ]
  },
  {
   "cell_type": "code",
   "execution_count": 7,
   "metadata": {},
   "outputs": [
    {
     "name": "stdout",
     "output_type": "stream",
     "text": [
      "RheobaseTest\n"
     ]
    },
    {
     "ename": "AttributeError",
     "evalue": "Model None has no attribute run_params",
     "output_type": "error",
     "traceback": [
      "\u001b[0;31m---------------------------------------------------------------------------\u001b[0m",
      "\u001b[0;31mAttributeError\u001b[0m                            Traceback (most recent call last)",
      "\u001b[0;32m~/git/sciunit/sciunit/models/base.py\u001b[0m in \u001b[0;36m__getattr__\u001b[0;34m(self, attr)\u001b[0m\n\u001b[1;32m    108\u001b[0m         \u001b[0;32mtry\u001b[0m\u001b[0;34m:\u001b[0m\u001b[0;34m\u001b[0m\u001b[0;34m\u001b[0m\u001b[0m\n\u001b[0;32m--> 109\u001b[0;31m             \u001b[0mresult\u001b[0m \u001b[0;34m=\u001b[0m \u001b[0msuper\u001b[0m\u001b[0;34m(\u001b[0m\u001b[0mModel\u001b[0m\u001b[0;34m,\u001b[0m \u001b[0mself\u001b[0m\u001b[0;34m)\u001b[0m\u001b[0;34m.\u001b[0m\u001b[0m__getattribute__\u001b[0m\u001b[0;34m(\u001b[0m\u001b[0mattr\u001b[0m\u001b[0;34m)\u001b[0m\u001b[0;34m\u001b[0m\u001b[0;34m\u001b[0m\u001b[0m\n\u001b[0m\u001b[1;32m    110\u001b[0m         \u001b[0;32mexcept\u001b[0m \u001b[0mAttributeError\u001b[0m\u001b[0;34m:\u001b[0m\u001b[0;34m\u001b[0m\u001b[0;34m\u001b[0m\u001b[0m\n",
      "\u001b[0;31mAttributeError\u001b[0m: 'StaticModel' object has no attribute 'run_params'",
      "\nDuring handling of the above exception, another exception occurred:\n",
      "\u001b[0;31mAttributeError\u001b[0m                            Traceback (most recent call last)",
      "\u001b[0;32m~/git/sciunit/sciunit/models/base.py\u001b[0m in \u001b[0;36m__getattr__\u001b[0;34m(self, attr)\u001b[0m\n\u001b[1;32m    111\u001b[0m             \u001b[0;32mtry\u001b[0m\u001b[0;34m:\u001b[0m\u001b[0;34m\u001b[0m\u001b[0;34m\u001b[0m\u001b[0m\n\u001b[0;32m--> 112\u001b[0;31m                 \u001b[0mresult\u001b[0m \u001b[0;34m=\u001b[0m \u001b[0mself\u001b[0m\u001b[0;34m.\u001b[0m\u001b[0m_backend\u001b[0m\u001b[0;34m.\u001b[0m\u001b[0m__getattribute__\u001b[0m\u001b[0;34m(\u001b[0m\u001b[0mattr\u001b[0m\u001b[0;34m)\u001b[0m\u001b[0;34m\u001b[0m\u001b[0;34m\u001b[0m\u001b[0m\n\u001b[0m\u001b[1;32m    113\u001b[0m             \u001b[0;32mexcept\u001b[0m\u001b[0;34m:\u001b[0m\u001b[0;34m\u001b[0m\u001b[0;34m\u001b[0m\u001b[0m\n",
      "\u001b[0;31mAttributeError\u001b[0m: 'EmptyBackend' object has no attribute 'run_params'",
      "\nDuring handling of the above exception, another exception occurred:\n",
      "\u001b[0;31mAttributeError\u001b[0m                            Traceback (most recent call last)",
      "\u001b[0;32m<ipython-input-7-9eeb01b46f3a>\u001b[0m in \u001b[0;36m<module>\u001b[0;34m\u001b[0m\n\u001b[1;32m      8\u001b[0m \u001b[0;32mfor\u001b[0m \u001b[0mt\u001b[0m \u001b[0;32min\u001b[0m \u001b[0mtt\u001b[0m\u001b[0;34m:\u001b[0m\u001b[0;34m\u001b[0m\u001b[0;34m\u001b[0m\u001b[0m\n\u001b[1;32m      9\u001b[0m     \u001b[0mprint\u001b[0m\u001b[0;34m(\u001b[0m\u001b[0mt\u001b[0m\u001b[0;34m.\u001b[0m\u001b[0mname\u001b[0m\u001b[0;34m)\u001b[0m\u001b[0;34m\u001b[0m\u001b[0;34m\u001b[0m\u001b[0m\n\u001b[0;32m---> 10\u001b[0;31m     \u001b[0mscore\u001b[0m \u001b[0;34m=\u001b[0m \u001b[0mt\u001b[0m\u001b[0;34m.\u001b[0m\u001b[0mjudge\u001b[0m\u001b[0;34m(\u001b[0m\u001b[0mSM\u001b[0m\u001b[0;34m)\u001b[0m\u001b[0;34m\u001b[0m\u001b[0;34m\u001b[0m\u001b[0m\n\u001b[0m\u001b[1;32m     11\u001b[0m \u001b[0;31m#tt = switch_logic(tt)\u001b[0m\u001b[0;34m\u001b[0m\u001b[0;34m\u001b[0m\u001b[0;34m\u001b[0m\u001b[0m\n\u001b[1;32m     12\u001b[0m \u001b[0;31m#not_suite = TSD({t.name:t for t in tt.tests})\u001b[0m\u001b[0;34m\u001b[0m\u001b[0;34m\u001b[0m\u001b[0;34m\u001b[0m\u001b[0m\n",
      "\u001b[0;32m~/git/sciunit/sciunit/tests.py\u001b[0m in \u001b[0;36mjudge\u001b[0;34m(self, model, skip_incapable, stop_on_error, deep_error)\u001b[0m\n\u001b[1;32m    330\u001b[0m                 \u001b[0mscore\u001b[0m\u001b[0;34m.\u001b[0m\u001b[0mtest\u001b[0m \u001b[0;34m=\u001b[0m \u001b[0mself\u001b[0m\u001b[0;34m\u001b[0m\u001b[0;34m\u001b[0m\u001b[0m\n\u001b[1;32m    331\u001b[0m         \u001b[0;32mif\u001b[0m \u001b[0misinstance\u001b[0m\u001b[0;34m(\u001b[0m\u001b[0mscore\u001b[0m\u001b[0;34m,\u001b[0m \u001b[0mErrorScore\u001b[0m\u001b[0;34m)\u001b[0m \u001b[0;32mand\u001b[0m \u001b[0mstop_on_error\u001b[0m\u001b[0;34m:\u001b[0m\u001b[0;34m\u001b[0m\u001b[0;34m\u001b[0m\u001b[0m\n\u001b[0;32m--> 332\u001b[0;31m             \u001b[0;32mraise\u001b[0m \u001b[0mscore\u001b[0m\u001b[0;34m.\u001b[0m\u001b[0mscore\u001b[0m  \u001b[0;31m# An exception.\u001b[0m\u001b[0;34m\u001b[0m\u001b[0;34m\u001b[0m\u001b[0m\n\u001b[0m\u001b[1;32m    333\u001b[0m         \u001b[0;32mreturn\u001b[0m \u001b[0mscore\u001b[0m\u001b[0;34m\u001b[0m\u001b[0;34m\u001b[0m\u001b[0m\n\u001b[1;32m    334\u001b[0m \u001b[0;34m\u001b[0m\u001b[0m\n",
      "\u001b[0;32m~/git/sciunit/sciunit/tests.py\u001b[0m in \u001b[0;36mjudge\u001b[0;34m(self, model, skip_incapable, stop_on_error, deep_error)\u001b[0m\n\u001b[1;32m    319\u001b[0m         \u001b[0;32melse\u001b[0m\u001b[0;34m:\u001b[0m\u001b[0;34m\u001b[0m\u001b[0;34m\u001b[0m\u001b[0m\n\u001b[1;32m    320\u001b[0m             \u001b[0;32mtry\u001b[0m\u001b[0;34m:\u001b[0m\u001b[0;34m\u001b[0m\u001b[0;34m\u001b[0m\u001b[0m\n\u001b[0;32m--> 321\u001b[0;31m                 \u001b[0mscore\u001b[0m \u001b[0;34m=\u001b[0m \u001b[0mself\u001b[0m\u001b[0;34m.\u001b[0m\u001b[0m_judge\u001b[0m\u001b[0;34m(\u001b[0m\u001b[0mmodel\u001b[0m\u001b[0;34m,\u001b[0m \u001b[0mskip_incapable\u001b[0m\u001b[0;34m=\u001b[0m\u001b[0mskip_incapable\u001b[0m\u001b[0;34m)\u001b[0m\u001b[0;34m\u001b[0m\u001b[0;34m\u001b[0m\u001b[0m\n\u001b[0m\u001b[1;32m    322\u001b[0m             \u001b[0;32mexcept\u001b[0m \u001b[0mCapabilityError\u001b[0m \u001b[0;32mas\u001b[0m \u001b[0me\u001b[0m\u001b[0;34m:\u001b[0m\u001b[0;34m\u001b[0m\u001b[0;34m\u001b[0m\u001b[0m\n\u001b[1;32m    323\u001b[0m                 \u001b[0mscore\u001b[0m \u001b[0;34m=\u001b[0m \u001b[0mNAScore\u001b[0m\u001b[0;34m(\u001b[0m\u001b[0mstr\u001b[0m\u001b[0;34m(\u001b[0m\u001b[0me\u001b[0m\u001b[0;34m)\u001b[0m\u001b[0;34m)\u001b[0m\u001b[0;34m\u001b[0m\u001b[0;34m\u001b[0m\u001b[0m\n",
      "\u001b[0;32m~/git/sciunit/sciunit/tests.py\u001b[0m in \u001b[0;36m_judge\u001b[0;34m(self, model, skip_incapable)\u001b[0m\n\u001b[1;32m    259\u001b[0m \u001b[0;34m\u001b[0m\u001b[0m\n\u001b[1;32m    260\u001b[0m         \u001b[0;31m# 2.\u001b[0m\u001b[0;34m\u001b[0m\u001b[0;34m\u001b[0m\u001b[0;34m\u001b[0m\u001b[0m\n\u001b[0;32m--> 261\u001b[0;31m         \u001b[0mprediction\u001b[0m \u001b[0;34m=\u001b[0m \u001b[0mself\u001b[0m\u001b[0;34m.\u001b[0m\u001b[0mgenerate_prediction\u001b[0m\u001b[0;34m(\u001b[0m\u001b[0mmodel\u001b[0m\u001b[0;34m)\u001b[0m\u001b[0;34m\u001b[0m\u001b[0;34m\u001b[0m\u001b[0m\n\u001b[0m\u001b[1;32m    262\u001b[0m         \u001b[0mself\u001b[0m\u001b[0;34m.\u001b[0m\u001b[0mcheck_prediction\u001b[0m\u001b[0;34m(\u001b[0m\u001b[0mprediction\u001b[0m\u001b[0;34m)\u001b[0m\u001b[0;34m\u001b[0m\u001b[0;34m\u001b[0m\u001b[0m\n\u001b[1;32m    263\u001b[0m         \u001b[0mself\u001b[0m\u001b[0;34m.\u001b[0m\u001b[0mlast_model\u001b[0m \u001b[0;34m=\u001b[0m \u001b[0mmodel\u001b[0m\u001b[0;34m\u001b[0m\u001b[0;34m\u001b[0m\u001b[0m\n",
      "\u001b[0;32m~/safe2/neuronunit/neuronunit/tests/fi.py\u001b[0m in \u001b[0;36mgenerate_prediction\u001b[0;34m(self, model)\u001b[0m\n\u001b[1;32m    103\u001b[0m         \u001b[0;31m# Method implementation guaranteed by\u001b[0m\u001b[0;34m\u001b[0m\u001b[0;34m\u001b[0m\u001b[0;34m\u001b[0m\u001b[0m\n\u001b[1;32m    104\u001b[0m         \u001b[0;31m# ProducesActionPotentials capability.\u001b[0m\u001b[0;34m\u001b[0m\u001b[0;34m\u001b[0m\u001b[0;34m\u001b[0m\u001b[0m\n\u001b[0;32m--> 105\u001b[0;31m         \u001b[0mself\u001b[0m\u001b[0;34m.\u001b[0m\u001b[0mcondition_model\u001b[0m\u001b[0;34m(\u001b[0m\u001b[0mmodel\u001b[0m\u001b[0;34m)\u001b[0m\u001b[0;34m\u001b[0m\u001b[0;34m\u001b[0m\u001b[0m\n\u001b[0m\u001b[1;32m    106\u001b[0m         \u001b[0mprediction\u001b[0m \u001b[0;34m=\u001b[0m \u001b[0;34m{\u001b[0m\u001b[0;34m'value'\u001b[0m\u001b[0;34m:\u001b[0m \u001b[0;32mNone\u001b[0m\u001b[0;34m}\u001b[0m\u001b[0;34m\u001b[0m\u001b[0;34m\u001b[0m\u001b[0m\n\u001b[1;32m    107\u001b[0m         \u001b[0mmodel\u001b[0m\u001b[0;34m.\u001b[0m\u001b[0mrerun\u001b[0m \u001b[0;34m=\u001b[0m \u001b[0;32mTrue\u001b[0m\u001b[0;34m\u001b[0m\u001b[0;34m\u001b[0m\u001b[0m\n",
      "\u001b[0;32m~/safe2/neuronunit/neuronunit/tests/fi.py\u001b[0m in \u001b[0;36mcondition_model\u001b[0;34m(self, model)\u001b[0m\n\u001b[1;32m     97\u001b[0m             \u001b[0mself\u001b[0m\u001b[0;34m.\u001b[0m\u001b[0mparams\u001b[0m\u001b[0;34m[\u001b[0m\u001b[0;34m'tmax'\u001b[0m\u001b[0;34m]\u001b[0m \u001b[0;34m=\u001b[0m \u001b[0;36m2000.0\u001b[0m\u001b[0;34m*\u001b[0m\u001b[0mpq\u001b[0m\u001b[0;34m.\u001b[0m\u001b[0mms\u001b[0m\u001b[0;34m\u001b[0m\u001b[0;34m\u001b[0m\u001b[0m\n\u001b[1;32m     98\u001b[0m         \u001b[0;32melse\u001b[0m\u001b[0;34m:\u001b[0m\u001b[0;34m\u001b[0m\u001b[0;34m\u001b[0m\u001b[0m\n\u001b[0;32m---> 99\u001b[0;31m             \u001b[0mmodel\u001b[0m\u001b[0;34m.\u001b[0m\u001b[0mset_run_params\u001b[0m\u001b[0;34m(\u001b[0m\u001b[0mt_stop\u001b[0m\u001b[0;34m=\u001b[0m\u001b[0mself\u001b[0m\u001b[0;34m.\u001b[0m\u001b[0mparams\u001b[0m\u001b[0;34m[\u001b[0m\u001b[0;34m'tmax'\u001b[0m\u001b[0;34m]\u001b[0m\u001b[0;34m)\u001b[0m\u001b[0;34m\u001b[0m\u001b[0;34m\u001b[0m\u001b[0m\n\u001b[0m\u001b[1;32m    100\u001b[0m \u001b[0;34m\u001b[0m\u001b[0m\n\u001b[1;32m    101\u001b[0m     \u001b[0;32mdef\u001b[0m \u001b[0mgenerate_prediction\u001b[0m\u001b[0;34m(\u001b[0m\u001b[0mself\u001b[0m\u001b[0;34m,\u001b[0m \u001b[0mmodel\u001b[0m\u001b[0;34m)\u001b[0m\u001b[0;34m:\u001b[0m\u001b[0;34m\u001b[0m\u001b[0;34m\u001b[0m\u001b[0m\n",
      "\u001b[0;32m~/git/sciunit/sciunit/models/runnable.py\u001b[0m in \u001b[0;36mset_run_params\u001b[0;34m(self, **run_params)\u001b[0m\n\u001b[1;32m     84\u001b[0m     \u001b[0;32mdef\u001b[0m \u001b[0mset_run_params\u001b[0m\u001b[0;34m(\u001b[0m\u001b[0mself\u001b[0m\u001b[0;34m,\u001b[0m \u001b[0;34m**\u001b[0m\u001b[0mrun_params\u001b[0m\u001b[0;34m)\u001b[0m\u001b[0;34m:\u001b[0m\u001b[0;34m\u001b[0m\u001b[0;34m\u001b[0m\u001b[0m\n\u001b[1;32m     85\u001b[0m         \u001b[0;34m\"\"\"Set run-time parameters, e.g. the somatic current to inject.\"\"\"\u001b[0m\u001b[0;34m\u001b[0m\u001b[0;34m\u001b[0m\u001b[0m\n\u001b[0;32m---> 86\u001b[0;31m         \u001b[0mself\u001b[0m\u001b[0;34m.\u001b[0m\u001b[0mrun_params\u001b[0m\u001b[0;34m.\u001b[0m\u001b[0mupdate\u001b[0m\u001b[0;34m(\u001b[0m\u001b[0mrun_params\u001b[0m\u001b[0;34m)\u001b[0m\u001b[0;34m\u001b[0m\u001b[0;34m\u001b[0m\u001b[0m\n\u001b[0m\u001b[1;32m     87\u001b[0m         \u001b[0mself\u001b[0m\u001b[0;34m.\u001b[0m\u001b[0mcheck_run_params\u001b[0m\u001b[0;34m(\u001b[0m\u001b[0;34m)\u001b[0m\u001b[0;34m\u001b[0m\u001b[0;34m\u001b[0m\u001b[0m\n\u001b[1;32m     88\u001b[0m         \u001b[0mself\u001b[0m\u001b[0;34m.\u001b[0m\u001b[0m_backend\u001b[0m\u001b[0;34m.\u001b[0m\u001b[0mset_run_params\u001b[0m\u001b[0;34m(\u001b[0m\u001b[0;34m**\u001b[0m\u001b[0mrun_params\u001b[0m\u001b[0;34m)\u001b[0m\u001b[0;34m\u001b[0m\u001b[0;34m\u001b[0m\u001b[0m\n",
      "\u001b[0;32m~/git/sciunit/sciunit/models/base.py\u001b[0m in \u001b[0;36m__getattr__\u001b[0;34m(self, attr)\u001b[0m\n\u001b[1;32m    113\u001b[0m             \u001b[0;32mexcept\u001b[0m\u001b[0;34m:\u001b[0m\u001b[0;34m\u001b[0m\u001b[0;34m\u001b[0m\u001b[0m\n\u001b[1;32m    114\u001b[0m                 raise AttributeError(\"Model %s has no attribute %s\"\n\u001b[0;32m--> 115\u001b[0;31m                                      % (self, attr))\n\u001b[0m\u001b[1;32m    116\u001b[0m         \u001b[0;32mreturn\u001b[0m \u001b[0mresult\u001b[0m\u001b[0;34m\u001b[0m\u001b[0;34m\u001b[0m\u001b[0m\n\u001b[1;32m    117\u001b[0m \u001b[0;34m\u001b[0m\u001b[0m\n",
      "\u001b[0;31mAttributeError\u001b[0m: Model None has no attribute run_params"
     ]
    }
   ],
   "source": [
    "from neuronunit.optimisation.optimization_management import OptMan,TSD,dtc_to_rheo#,get_neab\n",
    "from neuronunit.optimisation.data_transport_container import DataTC\n",
    "from neuronunit.optimisation import get_neab\n",
    "import dask.bag as db\n",
    "\n",
    "test_frame = get_neab.process_all_cells()\n",
    "tt = test_frame['Neocortex pyramidal cell layer 5-6']#\n",
    "for t in tt:\n",
    "    print(t.name)\n",
    "    t.generate_prediction = SM.vm\n",
    "    score = t.judge(SM)\n",
    "#tt = switch_logic(tt)\n",
    "#not_suite = TSD({t.name:t for t in tt.tests})\n"
   ]
  },
  {
   "cell_type": "code",
   "execution_count": null,
   "metadata": {},
   "outputs": [],
   "source": []
  },
  {
   "cell_type": "markdown",
   "metadata": {},
   "source": [
    "# HH cell from NeuroML2 Python code"
   ]
  },
  {
   "cell_type": "code",
   "execution_count": null,
   "metadata": {},
   "outputs": [],
   "source": [
    "#if __name__ == '__main__':\n",
    "runner = HodgkinHuxley()\n",
    "t = np.arange(0.0, 1300.0, 0.01)\n",
    "\"\"\" The time to integrate over \"\"\"\n",
    "\n",
    "vm = runner.Main(t=t)"
   ]
  }
 ],
 "metadata": {
  "kernelspec": {
   "display_name": "Python 3",
   "language": "python",
   "name": "python3"
  },
  "language_info": {
   "codemirror_mode": {
    "name": "ipython",
    "version": 3
   },
   "file_extension": ".py",
   "mimetype": "text/x-python",
   "name": "python",
   "nbconvert_exporter": "python",
   "pygments_lexer": "ipython3",
   "version": "3.6.9"
  }
 },
 "nbformat": 4,
 "nbformat_minor": 4
}
