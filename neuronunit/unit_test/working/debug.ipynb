{
 "cells": [
  {
   "cell_type": "code",
   "execution_count": 1,
   "metadata": {},
   "outputs": [
    {
     "data": {
      "image/png": "[encoded data removed]",
      "text/plain": [
       "<Figure size 432x288 with 1 Axes>"
      ]
     },
     "metadata": {
      "image/png": {
       "height": 251,
       "width": 376
      },
      "needs_background": "light"
     },
     "output_type": "display_data"
    }
   ],
   "source": [
    "#%%capture\n",
    "%matplotlib inline\n",
    "import seaborn as sns\n",
    "sns.set_context('notebook')\n",
    "%config InlineBackend.figure_format = 'retina'\n",
    "import matplotlib.pyplot as plt\n",
    "plt.plot([0,1],[1,0])\n",
    "plt.show()\n",
    "from neuronunit.optimisation.optimization_management import test_all_objective_test\n",
    "import numpy as np\n",
    "from IPython.display import display#, HTML\n",
    "from neuronunit.plottools import plot_score_history1\n",
    "from neuronunit.optimisation.optimization_management import check_binary_match, three_step_protocol, TSD\n",
    "import pandas as pd\n",
    "from collections import OrderedDict\n",
    "from neuronunit.optimisation.model_parameters import MODEL_PARAMS\n",
    "import pickle\n",
    "from dask.distributed import Client\n",
    "#import dask\n",
    "#dask.config.set(scheduler='threads')\n",
    "#client = Client()\n",
    "#client.get_versions(check=True)\n",
    "\n",
    "#fps = list(MODEL_PARAMS[\"NEURONHH\"].keys()) #\n",
    "#3model_type=\"NEURONHH\"\n",
    "#sim_tests, OM, target = test_all_objective_test(fps,model_type=model_type)"
   ]
  },
  {
   "cell_type": "code",
   "execution_count": null,
   "metadata": {},
   "outputs": [],
   "source": []
  },
  {
   "cell_type": "code",
   "execution_count": null,
   "metadata": {},
   "outputs": [],
   "source": []
  },
  {
   "cell_type": "markdown",
   "metadata": {},
   "source": [
    "# Simulated Data \n",
    "and select model parameters that are free to vary"
   ]
  },
  {
   "cell_type": "code",
   "execution_count": 2,
   "metadata": {},
   "outputs": [
    {
     "name": "stdout",
     "output_type": "stream",
     "text": [
      "Random simulated data tests made\n"
     ]
    },
    {
     "name": "stderr",
     "output_type": "stream",
     "text": [
      "INFO:numexpr.utils:NumExpr defaulting to 8 threads.\n"
     ]
    }
   ],
   "source": [
    "fps = list(MODEL_PARAMS[\"IZHI\"].keys()) #\n",
    "model_type=\"IZHI\"\n",
    "sim_tests, OM, target = test_all_objective_test(fps,model_type=model_type)"
   ]
  },
  {
   "cell_type": "markdown",
   "metadata": {},
   "source": [
    "# Below not effective, because not optimizing with std and NU scores atm"
   ]
  },
  {
   "cell_type": "code",
   "execution_count": 3,
   "metadata": {},
   "outputs": [],
   "source": [
    "#with open('simulated_tests.p','wb') as f:\n",
    "#    pickle.dump(sim_tests,f)\n",
    "'''\n",
    "       \n",
    "import quantities as qt    \n",
    "for k,v in sim_tests.items():\n",
    "    #print(v.observation['mean'])\n",
    "    if hasattr(v.observation['mean'],'units'):\n",
    "        v.observation['std'] = 0.5 * np.abs(float(v.observation['mean']))*v.observation['mean'].units\n",
    "    else:\n",
    "        if type(v.observation['mean']) is type(str()):\n",
    "            print(k)\n",
    "        else:\n",
    "            if hasattr(v.observation['mean'],'units'):\n",
    "    \n",
    "                v.observation['std'] = 0.20 * np.abs(float(v.observation['mean']))*v.observation['mean'].units\n",
    "            else:\n",
    "                v.observation['std'] = 0.20 * np.abs(float(v.observation['mean']))#*qt.unitless\n",
    "'''             #sim_tests.pop('isi_type_first',None)\n",
    "#sim_tests.pop('isi_type_last',None)\n",
    "#sim_tests.pop('isi_type_half',None)\n",
    "\n",
    "new_sim_tests = {k:v for k,v in sim_tests.items() if type(v) is not type(str())}\n",
    "#sim_tests = {k:v for k,v in sim_tests.items() if hasattr(v,'allen') }\n",
    "\n",
    "sim_tests = TSD(new_sim_tests)\n"
   ]
  },
  {
   "cell_type": "code",
   "execution_count": 4,
   "metadata": {},
   "outputs": [],
   "source": [
    "#print(dir(v))"
   ]
  },
  {
   "cell_type": "code",
   "execution_count": 5,
   "metadata": {},
   "outputs": [
    {
     "data": {
      "text/plain": [
       "<neuronunit.models.backends.izhi.IZHIBackend at 0x7fb644ee05f8>"
      ]
     },
     "execution_count": 5,
     "metadata": {},
     "output_type": "execute_result"
    }
   ],
   "source": [
    "from neuronunit.optimisation.data_transport_container import DataTC\n",
    "dtc = DataTC(backend=\"IZHI\")\n",
    "model = dtc.dtc_to_model()\n",
    "dtc1 = model.model_to_dtc()\n",
    "dtc1.backend"
   ]
  },
  {
   "cell_type": "code",
   "execution_count": 6,
   "metadata": {},
   "outputs": [
    {
     "data": {
      "text/plain": [
       "\"\\ncleaned0 = [value[1]['mean'] for value in target.preds.items() if hasattr(value[1],'keys')]\\ncleaned1 = [value for value in target.preds.items() if not hasattr(value[1],'keys')]\\ncleaned1\\ntarget.preds\\ncleaned1\\n\""
      ]
     },
     "execution_count": 6,
     "metadata": {},
     "output_type": "execute_result"
    }
   ],
   "source": [
    "\n",
    "#target = feature_mine(target)\n",
    "\"\"\"\n",
    "cleaned0 = [value[1]['mean'] for value in target.preds.items() if hasattr(value[1],'keys')]\n",
    "cleaned1 = [value for value in target.preds.items() if not hasattr(value[1],'keys')]\n",
    "cleaned1\n",
    "target.preds\n",
    "cleaned1\n",
    "\"\"\""
   ]
  },
  {
   "cell_type": "code",
   "execution_count": 7,
   "metadata": {},
   "outputs": [
    {
     "data": {
      "text/plain": [
       "'\\nfrom neuronunit.tests.base import FakeTest, VmTest\\nallen_tests = []\\nfor key,value in target.preds.items():\\n    allen_tests.append(VmTest(observation=value,name = key))\\n    \\n    \\nfor t in allen_tests:\\n    print(t.observation,t.name)\\n'"
      ]
     },
     "execution_count": 7,
     "metadata": {},
     "output_type": "execute_result"
    }
   ],
   "source": [
    "\"\"\"\n",
    "from neuronunit.tests.base import FakeTest, VmTest\n",
    "allen_tests = []\n",
    "for key,value in target.preds.items():\n",
    "    allen_tests.append(VmTest(observation=value,name = key))\n",
    "    \n",
    "    \n",
    "for t in allen_tests:\n",
    "    print(t.observation,t.name)\n",
    "\"\"\"    "
   ]
  },
  {
   "cell_type": "code",
   "execution_count": 8,
   "metadata": {},
   "outputs": [
    {
     "data": {
      "text/html": [
       "<div>\n",
       "<style scoped>\n",
       "    .dataframe tbody tr th:only-of-type {\n",
       "        vertical-align: middle;\n",
       "    }\n",
       "\n",
       "    .dataframe tbody tr th {\n",
       "        vertical-align: top;\n",
       "    }\n",
       "\n",
       "    .dataframe thead th {\n",
       "        text-align: right;\n",
       "    }\n",
       "</style>\n",
       "<table border=\"1\" class=\"dataframe\">\n",
       "  <thead>\n",
       "    <tr style=\"text-align: right;\">\n",
       "      <th></th>\n",
       "      <th>adapt</th>\n",
       "      <th>latency</th>\n",
       "      <th>isi_cv</th>\n",
       "      <th>mean_isi</th>\n",
       "      <th>median_isi</th>\n",
       "      <th>first_isi</th>\n",
       "      <th>avg_rate</th>\n",
       "      <th>threshold_index_first</th>\n",
       "      <th>clipped_first</th>\n",
       "      <th>threshold_t_first</th>\n",
       "      <th>...</th>\n",
       "      <th>fast_trough_v_half</th>\n",
       "      <th>adp_index_half</th>\n",
       "      <th>adp_t_half</th>\n",
       "      <th>adp_v_half</th>\n",
       "      <th>slow_trough_index_half</th>\n",
       "      <th>slow_trough_t_half</th>\n",
       "      <th>slow_trough_v_half</th>\n",
       "      <th>width_half</th>\n",
       "      <th>upstroke_downstroke_ratio_half</th>\n",
       "      <th>spikes</th>\n",
       "    </tr>\n",
       "  </thead>\n",
       "  <tbody>\n",
       "    <tr>\n",
       "      <th>0</th>\n",
       "      <td>0.037463</td>\n",
       "      <td>0.12201</td>\n",
       "      <td>0.165307</td>\n",
       "      <td>0.088825</td>\n",
       "      <td>0.09337</td>\n",
       "      <td>0.0424</td>\n",
       "      <td>9.23084</td>\n",
       "      <td>12201</td>\n",
       "      <td>False</td>\n",
       "      <td>0.12201</td>\n",
       "      <td>...</td>\n",
       "      <td>-66489.576492</td>\n",
       "      <td>63742.0</td>\n",
       "      <td>0.63742</td>\n",
       "      <td>-66982.582323</td>\n",
       "      <td>65594.0</td>\n",
       "      <td>0.65594</td>\n",
       "      <td>-70636.476089</td>\n",
       "      <td>0.00121</td>\n",
       "      <td>0.067552</td>\n",
       "      <td>12</td>\n",
       "    </tr>\n",
       "  </tbody>\n",
       "</table>\n",
       "<p>1 rows × 98 columns</p>\n",
       "</div>"
      ],
      "text/plain": [
       "      adapt  latency    isi_cv  mean_isi  median_isi  first_isi  avg_rate  \\\n",
       "0  0.037463  0.12201  0.165307  0.088825     0.09337     0.0424   9.23084   \n",
       "\n",
       "   threshold_index_first  clipped_first  threshold_t_first  ...  \\\n",
       "0                  12201          False            0.12201  ...   \n",
       "\n",
       "   fast_trough_v_half  adp_index_half  adp_t_half    adp_v_half  \\\n",
       "0       -66489.576492         63742.0     0.63742 -66982.582323   \n",
       "\n",
       "   slow_trough_index_half  slow_trough_t_half  slow_trough_v_half  width_half  \\\n",
       "0                 65594.0             0.65594       -70636.476089     0.00121   \n",
       "\n",
       "   upstroke_downstroke_ratio_half  spikes  \n",
       "0                        0.067552      12  \n",
       "\n",
       "[1 rows x 98 columns]"
      ]
     },
     "metadata": {},
     "output_type": "display_data"
    }
   ],
   "source": [
    "display(pd.DataFrame([target.preds]))\n"
   ]
  },
  {
   "cell_type": "markdown",
   "metadata": {},
   "source": [
    "# Meta Parameters"
   ]
  },
  {
   "cell_type": "code",
   "execution_count": null,
   "metadata": {},
   "outputs": [],
   "source": [
    "\n"
   ]
  },
  {
   "cell_type": "markdown",
   "metadata": {},
   "source": [
    "\n",
    "\n",
    "\n",
    "\n",
    "\n",
    "\n",
    "\n",
    "# How Good is the mean of Random Search?"
   ]
  },
  {
   "cell_type": "code",
   "execution_count": 9,
   "metadata": {},
   "outputs": [
    {
     "data": {
      "text/plain": [
       "'\\n\\n'"
      ]
     },
     "execution_count": 9,
     "metadata": {},
     "output_type": "execute_result"
    }
   ],
   "source": [
    "#OM = target.dtc_to_opt_man()\n",
    "#rand_sample = OM.random_sample(target,100)\n",
    "#display(rand_sample['frame'])\n",
    "'''\n",
    "\n",
    "'''\n",
    "#sim_tests\n",
    "#1==2\n"
   ]
  },
  {
   "cell_type": "code",
   "execution_count": null,
   "metadata": {},
   "outputs": [
    {
     "name": "stdout",
     "output_type": "stream",
     "text": [
      "10\n"
     ]
    }
   ],
   "source": [
    "\n",
    "\n",
    "MU = 20\n",
    "NGEN = 20\n",
    "if __name__ == '__main__':\n",
    "    results = sim_tests.optimize(backend=model_type,\\\n",
    "            protocol={'allen': False, 'elephant': True},\\\n",
    "                MU=MU,NGEN=NGEN,plot=True,\\\n",
    "                free_parameters=fps)\n",
    "\n",
    "#"
   ]
  },
  {
   "cell_type": "code",
   "execution_count": null,
   "metadata": {},
   "outputs": [],
   "source": [
    "plt = plot_score_history1(results)"
   ]
  },
  {
   "cell_type": "code",
   "execution_count": null,
   "metadata": {},
   "outputs": [],
   "source": [
    "for t in results['pop'][0].dtc.tests:\n",
    "    try:\n",
    "        print(t.observation['mean']-t.prediction['mean'])\n",
    "    except:\n",
    "        print(t.observation['value']-t.prediction['value'])\n",
    "        \n",
    "target.rheobase"
   ]
  },
  {
   "cell_type": "code",
   "execution_count": null,
   "metadata": {},
   "outputs": [],
   "source": [
    "for f in results['pop'][0].fitness.values: print((f))"
   ]
  },
  {
   "cell_type": "code",
   "execution_count": null,
   "metadata": {},
   "outputs": [],
   "source": [
    "results['pop'][0].dtc.tests = results['pop'][0].dtc.tests[0:8]\n",
    "results['pop'][0].dtc.get_agreement()\n",
    "results['pop'][0].dtc.agreement"
   ]
  },
  {
   "cell_type": "code",
   "execution_count": null,
   "metadata": {},
   "outputs": [],
   "source": [
    "results['pop'][0].dtc.SA"
   ]
  },
  {
   "cell_type": "code",
   "execution_count": null,
   "metadata": {},
   "outputs": [],
   "source": [
    "#results['history'].genealogy_history[200].fitness\n",
    "#results['history'].genealogy_history[200].dtc.vm30\n",
    "\n",
    "for t in results['pop'][0].dtc.tests:\n",
    "    print(t.name,np.abs(t.observation['mean'])/t.observation['std'])\n",
    "    print(t.name,t.observation['mean'],t.observation['std'])"
   ]
  },
  {
   "cell_type": "code",
   "execution_count": null,
   "metadata": {},
   "outputs": [],
   "source": [
    "\n",
    "\n",
    "def tighten_bellcurve(tests):\n",
    "    for k,v in tests.items():\n",
    "        print(k,v.observation)\n",
    "        v.observation['std'] = 0.5* v.observation['std']\n",
    "    return tests\n",
    "#sim_tests = tighten_bellcurve(sim_tests)\n",
    "ELEPHANT = False\n",
    "if ELEPHANT:\n",
    "    objectives = {k:v for k,v in results['pf'][0].dtc.SA.items() }\n",
    "    logbook = results['log']\n",
    "    scores = [ m['max'] for m in logbook ]\n",
    "    list_of_dicts = []\n",
    "    df1 = pd.DataFrame()\n",
    "    for i,(k,v) in enumerate(objectives.items()):\n",
    "        history = [j[i] for j in scores ]\n",
    "        df1[str(k)] = pd.Series(history).values#, index=df1.index)\n",
    "\n",
    "\n",
    "    corr = df1.corr()\n",
    "    sns.heatmap(corr, \n",
    "            xticklabels=corr.columns,\n",
    "            yticklabels=corr.columns)\n",
    "if not ELEPHANT:\n",
    "    objectives = [ t.name for t in results['pf'][0].dtc.tests ]\n",
    "    logbook = results['log']\n",
    "    scores = [ m['max'] for m in logbook ]\n",
    "    list_of_dicts = []\n",
    "    df1 = pd.DataFrame()\n",
    "    for i,k in enumerate(objectives[0:10]):\n",
    "        history = [j[i] for j in scores ]\n",
    "        df1[str(k)] = pd.Series(history).values#, index=df1.index)\n",
    "\n",
    "\n",
    "    corr = df1.corr()\n",
    "    sns.heatmap(corr, \n",
    "            xticklabels=corr.columns,\n",
    "            yticklabels=corr.columns)\n",
    "    \n",
    "    plt.show()\n",
    "    \n",
    "    df1 = pd.DataFrame()\n",
    "\n",
    "    for i,k in enumerate(objectives[-11:-1]):\n",
    "        history = [j[i] for j in scores ]\n",
    "        df1[str(k)] = pd.Series(history).values#, index=df1.index)\n",
    "\n",
    "\n",
    "    corr = df1.corr()\n",
    "    sns.heatmap(corr, \n",
    "            xticklabels=corr.columns,\n",
    "            yticklabels=corr.columns)\n",
    "\n",
    "    plt.show()\n"
   ]
  },
  {
   "cell_type": "code",
   "execution_count": null,
   "metadata": {},
   "outputs": [],
   "source": [
    "ELEPHANT = True"
   ]
  },
  {
   "cell_type": "code",
   "execution_count": null,
   "metadata": {},
   "outputs": [],
   "source": [
    "if ELEPHANT:\n",
    "    objectives = {k:v for k,v in results['pf'][0].dtc.SA.items() }\n",
    "    logbook = results['log']\n",
    "    scores = [ m['max'] for m in logbook ]\n",
    "    list_of_dicts = []\n",
    "    df1 = pd.DataFrame()\n",
    "    for i,(k,v) in enumerate(objectives.items()):\n",
    "        history = [j[i] for j in scores ]\n",
    "        df1[str(k)] = pd.Series(history).values#, index=df1.index)\n",
    "\n",
    "\n",
    "    corr = df1.corr()\n",
    "    sns.heatmap(corr, \n",
    "            xticklabels=corr.columns,\n",
    "            yticklabels=corr.columns)"
   ]
  },
  {
   "cell_type": "markdown",
   "metadata": {},
   "source": [
    "# There is a block of five error types that seem highly correlated with each other"
   ]
  },
  {
   "cell_type": "code",
   "execution_count": null,
   "metadata": {},
   "outputs": [],
   "source": [
    "pop = list(results['history'].genealogy_history.values())\n",
    "get_min = [(np.sum(j.fitness.values),i) for i,j in enumerate(pop)]\n",
    "min_gene = sorted(get_min,key = lambda x: x[0])\n",
    "min_gene = results['history'].genealogy_history[min_gene[0][1]]\n",
    "min_gene.fitness.values"
   ]
  },
  {
   "cell_type": "code",
   "execution_count": null,
   "metadata": {},
   "outputs": [],
   "source": [
    "from neuronunit.optimisation.optimization_management import dtc_to_rheo\n",
    "def local_hof(results,dtc):\n",
    "    pop = list(results['history'].genealogy_history.values())\n",
    "    get_min = [(np.sum(j.fitness.values),i) for i,j in enumerate(pop)]\n",
    "    min_gene = sorted(get_min,key = lambda x: x[0])\n",
    "    min_gene = results['history'].genealogy_history[min_gene[0][1]]\n",
    "    OM = dtc.dtc_to_opt_man()\n",
    "    dtc.attrs.pop(\"Iext\",None)\n",
    "    dtc.attrs.pop(\"dt\",None)\n",
    "    frozen = OrderedDict(dtc.attrs)\n",
    "    for i,(k,v) in enumerate(frozen.items()):\n",
    "        dtc.attrs[k] = min_gene[i]\n",
    "    dtc = dtc_to_rheo(dtc)\n",
    "    dtc = OM.format_test(dtc)\n",
    "    dtc.self_evaluate()\n",
    "    return dtc\n",
    "dtc = results['pf'][0].dtc\n",
    "\n",
    "opt = local_hof(results,dtc)\n",
    "print(opt.SA)\n",
    "opt.rheobase\n",
    "#d#tg = dtc_to_rheo(opt)\n",
    "#dtg.rheobase\n",
    "#print(dtg.rheobase)\n",
    "#dtg.attrs\n",
    "\n"
   ]
  },
  {
   "cell_type": "code",
   "execution_count": null,
   "metadata": {},
   "outputs": [],
   "source": [
    "opt.attrs.pop(\"Iext\",None)\n",
    "opt.attrs.pop(\"dt\",None)"
   ]
  },
  {
   "cell_type": "code",
   "execution_count": null,
   "metadata": {},
   "outputs": [],
   "source": [
    "#from collections import OrderedDict\n",
    "#opt = results['pop'][0].dtc\n",
    "#frozen = OrderedDict(opt.attrs)\n",
    "#print(frozen)\n",
    "opt = results['pop'][0].dtc\n",
    "print(target.rheobase, opt.rheobase)\n",
    "opt.SA\n"
   ]
  },
  {
   "cell_type": "code",
   "execution_count": null,
   "metadata": {},
   "outputs": [],
   "source": [
    "import copy\n",
    "backup_tests = copy.copy(opt.tests)\n",
    "opt.tests = opt.tests[0:8]\n",
    "\n",
    "opt.self_evaluate()\n",
    "opt.get_agreement()\n",
    "opt.agreement\n"
   ]
  },
  {
   "cell_type": "code",
   "execution_count": null,
   "metadata": {},
   "outputs": [],
   "source": [
    "#opt = results['pf'][0].dtc\n",
    "opt.self_evaluate()\n",
    "opt.get_agreement()\n",
    "check_binary_match(opt,target,snippets=True)\n",
    "target = OM.format_test(target)\n",
    "results.keys()\n"
   ]
  },
  {
   "cell_type": "code",
   "execution_count": null,
   "metadata": {},
   "outputs": [],
   "source": [
    "for t in opt.tests:\n",
    "    #print(t.observation,t.prediction)\n",
    "    try:\n",
    "        print(np.abs(t.observation['mean']-t.prediction['mean']))\n",
    "    except:\n",
    "        pass\n",
    "       # print(np.abs(t.observation['value']-t.prediction['value']))\n",
    "\n",
    "        \n",
    "opt.rheobase\n"
   ]
  },
  {
   "cell_type": "code",
   "execution_count": null,
   "metadata": {},
   "outputs": [],
   "source": [
    "def check_bin_vm15(target,opt):\n",
    "    plt.plot(target.vm15.times,target.vm15.magnitude)\n",
    "    plt.plot(opt.vm15.times,opt.vm15.magnitude)\n",
    "    plt.show()"
   ]
  },
  {
   "cell_type": "code",
   "execution_count": null,
   "metadata": {},
   "outputs": [],
   "source": [
    "\n",
    "def basic_expVar(trace1, trace2):\n",
    "    '''This is the fundamental calculation that is used in all different types of explained variation.  \n",
    "    At a basic level, the explained variance is calculated between two traces.  These traces can be PSTH's\n",
    "    or single spike trains that have been convolved with a kernel (in this case always a Gaussian)\n",
    "    Input:\n",
    "        trace 1 & 2:  1D numpy array containing values of the trace.  (This function requires numpy array\n",
    "                        to ensure that this is not a multidemensional list.)\n",
    "    Returns:\n",
    "        expVar:  float value of explained variance\n",
    "    '''\n",
    "   \n",
    "    var_trace1=np.var(trace1)\n",
    "    var_trace2=np.var(trace2)\n",
    "    var_trace1_minus_trace2=np.var(trace1-trace2)\n",
    "\n",
    "    if var_trace1_minus_trace2 == 0.0:\n",
    "        return 1.0\n",
    "    else:\n",
    "        return (var_trace1+var_trace2-var_trace1_minus_trace2)/(var_trace1+var_trace2)\n",
    "    \n",
    "print(basic_expVar(opt.vm15.magnitude, target.vm15.magnitude))    "
   ]
  },
  {
   "cell_type": "code",
   "execution_count": null,
   "metadata": {},
   "outputs": [],
   "source": [
    "\n",
    "\n",
    "opt = results['pop'][0].dtc\n",
    "check_binary_match(opt,target,snippets=True)"
   ]
  },
  {
   "cell_type": "code",
   "execution_count": null,
   "metadata": {},
   "outputs": [],
   "source": [
    "check_binary_match(opt,target,snippets=False)"
   ]
  },
  {
   "cell_type": "code",
   "execution_count": null,
   "metadata": {},
   "outputs": [],
   "source": [
    "from neuronunit.optimisation.optimization_management import inject_and_plot_passive_model\n",
    "inject_and_plot_passive_model(opt,second=target,figname=None,plotly=False)\n",
    "\n",
    "\n"
   ]
  },
  {
   "cell_type": "code",
   "execution_count": null,
   "metadata": {},
   "outputs": [],
   "source": [
    "opt.agreement\n",
    "check_bin_vm15(target,opt)\n"
   ]
  },
  {
   "cell_type": "code",
   "execution_count": null,
   "metadata": {},
   "outputs": [],
   "source": [
    "plt.clf()\n",
    "plt.plot(target.vm15.times,target.vm15.magnitude)\n",
    "plt.show()\n"
   ]
  },
  {
   "cell_type": "code",
   "execution_count": null,
   "metadata": {},
   "outputs": [],
   "source": [
    "plt.clf()\n",
    "plt.plot(opt.vm15.times,opt.vm15.magnitude)\n",
    "plt.show()"
   ]
  },
  {
   "cell_type": "code",
   "execution_count": null,
   "metadata": {},
   "outputs": [],
   "source": [
    "opt.SA\n"
   ]
  },
  {
   "cell_type": "code",
   "execution_count": null,
   "metadata": {},
   "outputs": [],
   "source": [
    "#target.tests.keys()\n",
    "target.tests[-1].prediction"
   ]
  },
  {
   "cell_type": "code",
   "execution_count": null,
   "metadata": {},
   "outputs": [],
   "source": [
    "opt.tests[-1].prediction"
   ]
  },
  {
   "cell_type": "markdown",
   "metadata": {},
   "source": [
    "# Get crowding distance on two solutions"
   ]
  },
  {
   "cell_type": "markdown",
   "metadata": {},
   "source": [
    "# Hall of fame and pareto front are not working properly. \n",
    "I think it is because the individual they were expecting is different to what they are getting.\n",
    "# TODO re-align with BluePyOpt algorithm and optimisation"
   ]
  },
  {
   "cell_type": "code",
   "execution_count": null,
   "metadata": {},
   "outputs": [],
   "source": [
    "results['min_gene'].SA\n",
    "#results['min_gene'].get_agreement()\n",
    "#results['min_gene'].agreement"
   ]
  },
  {
   "cell_type": "code",
   "execution_count": null,
   "metadata": {},
   "outputs": [],
   "source": [
    "results['pop'][0].dtc.SA\n",
    "results['pop'][0].dtc.get_agreement()\n",
    "results['pop'][0].dtc.agreement"
   ]
  },
  {
   "cell_type": "code",
   "execution_count": null,
   "metadata": {},
   "outputs": [],
   "source": [
    "'''\n",
    "results['hof'][0].dtc.SA\n",
    "results['hof'][0].dtc.get_agreement()\n",
    "results['hof'][0].dtc.agreement\n",
    "'''\n",
    "print(results['pop'][0].fitness)\n",
    "results['pf'].update([results['pop'][0]])\n",
    "results['pf'][0].fitness\n",
    "\n",
    "results['hof'].update([results['pop'][0]])\n",
    "results['hof'][0].fitness"
   ]
  },
  {
   "cell_type": "code",
   "execution_count": null,
   "metadata": {},
   "outputs": [],
   "source": [
    "for t in target.tests.values():\n",
    "    #print(t.prediction,t.name)\n",
    "    print(t.observation['mean'],t.name)\n",
    "    \n",
    "for t in sim_tests.values():    \n",
    "    print(t.observation['mean'],t.name)  \n",
    "    print(t.prediction,t.name)\n"
   ]
  },
  {
   "cell_type": "code",
   "execution_count": null,
   "metadata": {},
   "outputs": [],
   "source": [
    "def parition(sim_tests,model_type):\n",
    "    results0 = sim_tests.optimize(backend=model_type,\\\n",
    "            protocol={'allen': False, 'elephant': True},\\\n",
    "                MU=MU,NGEN=NGEN,plot=True,free_parameters=['c','a','b'])\n",
    "\n",
    "    plt = plot_score_history1(results0)\n",
    "\n",
    "    results1 = sim_tests.optimize(backend=model_type,\\\n",
    "            protocol={'allen': False, 'elephant': True},\\\n",
    "                MU=MU,NGEN=NGEN,plot=True,free_parameters=\n",
    "                                  ['k','C','d'],seed_pop=results0['pop'][0:10]\\\n",
    "                                  ,hc=['c','a','b'])\n",
    "\n",
    "    plt = plot_score_history1(results1)\n",
    "    results2 = sim_tests.optimize(backend=model_type,\\\n",
    "        protocol={'allen': False, 'elephant': True},\\\n",
    "            MU=MU,NGEN=NGEN,plot=True,\\\n",
    "            free_parameters=['vr','vPeak'],\\\n",
    "            seed_pop=results1['pop'][0:10],hc=['c','a','d','b','k','C'])\n",
    "    plt = plot_score_history1(results2)\n",
    "\n",
    "\n",
    "    results = sim_tests.optimize(backend=model_type,\\\n",
    "            protocol={'allen': False, 'elephant': True},\\\n",
    "                MU=MU,NGEN=NGEN,plot=True,\\\n",
    "                free_parameters=fps,\\\n",
    "                seed_pop=results2['pop'][0:10])\n",
    "\n",
    "    plt = plot_score_history1(results)\n",
    "    return results\n",
    "results = parition(sim_tests,model_type)"
   ]
  },
  {
   "cell_type": "code",
   "execution_count": null,
   "metadata": {},
   "outputs": [],
   "source": []
  },
  {
   "cell_type": "markdown",
   "metadata": {},
   "source": [
    "# Analyse Results"
   ]
  },
  {
   "cell_type": "code",
   "execution_count": null,
   "metadata": {},
   "outputs": [],
   "source": []
  },
  {
   "cell_type": "markdown",
   "metadata": {},
   "source": [
    "# Compare scores above to random scores below"
   ]
  },
  {
   "cell_type": "code",
   "execution_count": null,
   "metadata": {},
   "outputs": [],
   "source": [
    "# This should be more succint than above.\n",
    "agreement = opt.get_agreement().agreement\n",
    "display(out['frame'])\n"
   ]
  },
  {
   "cell_type": "code",
   "execution_count": null,
   "metadata": {},
   "outputs": [],
   "source": [
    "out['best_random_sum_total']"
   ]
  },
  {
   "cell_type": "markdown",
   "metadata": {},
   "source": [
    "# Look at evolution History"
   ]
  },
  {
   "cell_type": "code",
   "execution_count": null,
   "metadata": {},
   "outputs": [],
   "source": [
    "plt = plot_score_history1(results)\n",
    "from neuronunit.optimisation.optimization_management import check_binary_match\n",
    "plt.show()"
   ]
  },
  {
   "cell_type": "code",
   "execution_count": null,
   "metadata": {},
   "outputs": [],
   "source": []
  },
  {
   "cell_type": "code",
   "execution_count": null,
   "metadata": {},
   "outputs": [],
   "source": [
    "check_binary_match(opt,target,snippets=False)"
   ]
  },
  {
   "cell_type": "code",
   "execution_count": null,
   "metadata": {},
   "outputs": [],
   "source": [
    "try:\n",
    "    opt.attrs.pop('dt',None)\n",
    "    opt.attrs.pop('Iext',None)\n",
    "except:\n",
    "    pass\n"
   ]
  },
  {
   "cell_type": "code",
   "execution_count": null,
   "metadata": {},
   "outputs": [],
   "source": [
    "display(pd.DataFrame([opt.attrs]))\n",
    "import copy\n",
    "temp = {}\n",
    "for k in opt.attrs.keys():\n",
    "    temp[k] = target.attrs[k]\n",
    "display(pd.DataFrame([temp]))"
   ]
  },
  {
   "cell_type": "code",
   "execution_count": null,
   "metadata": {},
   "outputs": [],
   "source": [
    "display(pd.DataFrame([{k.name:v for k,v in opt.SA.items()}]))"
   ]
  },
  {
   "cell_type": "markdown",
   "metadata": {},
   "source": [
    "What where the values of model parameters that where held constant?\n"
   ]
  },
  {
   "cell_type": "code",
   "execution_count": null,
   "metadata": {},
   "outputs": [],
   "source": [
    "df0 = opt.dtc_to_model().default_attrs\n",
    "df1 = target.dtc_to_model().default_attrs\n",
    "hc = {}\n",
    "\n",
    "try:\n",
    "    df0.attrs.pop('dt',None)\n",
    "    df0.attrs.pop('Iext',None)\n",
    "    opt.attrs.pop('dt',None)\n",
    "    opt.attrs.pop('Iext',None)\n",
    "\n",
    "except:\n",
    "    pass\n",
    "\n",
    "for k,v in df0.items():\n",
    "    if k not in opt.attrs.keys():\n",
    "        assert df0[k] == df1[k]\n",
    "        hc[k] = v        \n",
    "display(\"Held constant:\")\n",
    "display(pd.DataFrame([hc]))        "
   ]
  },
  {
   "cell_type": "markdown",
   "metadata": {},
   "source": [
    "If the Pareto Front encircles the best solution without sampling directly on top of it.\n",
    "Does piercing the center get us closer to the hall of fame?\n",
    "Below, plot HOF[0]/PF[0] are they the same model? "
   ]
  },
  {
   "cell_type": "code",
   "execution_count": null,
   "metadata": {},
   "outputs": [],
   "source": [
    "# check_binary_match(opt,hof,snippets=True)\n"
   ]
  },
  {
   "cell_type": "markdown",
   "metadata": {},
   "source": [
    "# Exploring the neighbourhood of \n",
    "the Optimal solution is now syntatically easy\n",
    "\n",
    "## Make ranges to explore:"
   ]
  },
  {
   "cell_type": "code",
   "execution_count": null,
   "metadata": {},
   "outputs": [],
   "source": [
    "from neuronunit.optimisation.model_parameters import MODEL_PARAMS\n",
    "a_range = MODEL_PARAMS[\"RAW\"]['a']\n",
    "grid_a = np.linspace(a_range[0],a_range[1],25)\n",
    "\n",
    "\n"
   ]
  },
  {
   "cell_type": "markdown",
   "metadata": {},
   "source": [
    "## Mutate a parameter in a dimension of interest."
   ]
  },
  {
   "cell_type": "code",
   "execution_count": null,
   "metadata": {},
   "outputs": [],
   "source": [
    "opt_sum0 = np.sum(opt.SA.values)\n",
    "for_scatter0 = (opt.attrs['a'],opt_sum0)\n",
    "from tqdm import tqdm\n",
    "collect = []\n",
    "mutant = copy.copy(opt)\n",
    "for a in tqdm(grid_a):\n",
    "    # non random mutation\n",
    "    mutant.attrs['a'] = a\n",
    "    # Evaluate NU test suite\n",
    "    mutant.self_evaluate()\n",
    "    # sum components (optional)\n",
    "    fit = np.sum(mutant.SA.values)\n",
    "    collect.append(fit)\n",
    "plt.plot(grid_a,collect)\n",
    "plt.scatter(for_scatter0[0],for_scatter0[1],label='optima')\n",
    "    "
   ]
  },
  {
   "cell_type": "code",
   "execution_count": null,
   "metadata": {},
   "outputs": [],
   "source": []
  },
  {
   "cell_type": "markdown",
   "metadata": {},
   "source": [
    "The above plot seemed to have multiple steep wells of low error about the optima.\n",
    "\n",
    "It might not be reasonable to expect to sample every such well, as the stochastic and non exhuastive sampling in the GA means it is not garunteed to sample small and and focused pockets of error change."
   ]
  },
  {
   "cell_type": "code",
   "execution_count": null,
   "metadata": {},
   "outputs": [],
   "source": []
  },
  {
   "cell_type": "code",
   "execution_count": null,
   "metadata": {},
   "outputs": [],
   "source": [
    "b_range = MODEL_PARAMS[\"RAW\"]['b']\n",
    "grid_b = np.linspace(b_range[0],b_range[1],30);"
   ]
  },
  {
   "cell_type": "code",
   "execution_count": null,
   "metadata": {},
   "outputs": [],
   "source": []
  },
  {
   "cell_type": "code",
   "execution_count": null,
   "metadata": {},
   "outputs": [],
   "source": [
    "opt_sum = np.sum(opt.SA.values)\n",
    "for_scatter1 = (opt.attrs['b'],opt_sum)\n",
    "from tqdm import tqdm\n",
    "collect = []\n",
    "mutant = copy.copy(opt)\n",
    "for b in tqdm(grid_b):\n",
    "    # non random mutation\n",
    "    mutant.attrs['b'] = b\n",
    "    # Evaluate NU test suite\n",
    "    mutant.self_evaluate()\n",
    "    # sum components (optional)\n",
    "    fit = np.sum(mutant.SA.values)\n",
    "    collect.append(fit)\n",
    "plt.plot(grid_b,collect)\n",
    "plt.scatter(for_scatter1[0],for_scatter1[1],label='optima')\n"
   ]
  },
  {
   "cell_type": "markdown",
   "metadata": {},
   "source": [
    "# Compare the match of passive waveforms"
   ]
  },
  {
   "cell_type": "code",
   "execution_count": null,
   "metadata": {},
   "outputs": [],
   "source": [
    "\n",
    "#from neuronunit.optimisation.optimization_management import inject_and_plot_passive_model\n",
    "#inject_and_plot_passive_model(opt)\n",
    "import quantities as pq\n",
    "tm = target.dtc_to_model()\n",
    "\n",
    "model = opt.dtc_to_model()\n",
    "uc = {'amplitude':-10*pq.pA,'duration':500*pq.ms,'delay':100*pq.ms}\n",
    "model.inject_square_current(uc)\n",
    "vm1 = model.get_membrane_potential()\n",
    "tm.inject_square_current(uc)\n",
    "vm0 = tm.get_membrane_potential()\n",
    "plt.plot(vm1.times, vm1.magnitude, c='b',label=str('opt ADEXP'))#+str(model.attrs['a']))\n",
    "plt.plot(vm0.times, vm0.magnitude, c='r',label=str('target HH'))#+str(model.attrs['a']))\n",
    "\n",
    "plt.show()"
   ]
  },
  {
   "cell_type": "code",
   "execution_count": null,
   "metadata": {},
   "outputs": [],
   "source": []
  }
 ],
 "metadata": {
  "kernelspec": {
   "display_name": "Python 3",
   "language": "python",
   "name": "python3"
  },
  "language_info": {
   "codemirror_mode": {
    "name": "ipython",
    "version": 3
   },
   "file_extension": ".py",
   "mimetype": "text/x-python",
   "name": "python",
   "nbconvert_exporter": "python",
   "pygments_lexer": "ipython3",
   "version": "3.6.9"
  }
 },
 "nbformat": 4,
 "nbformat_minor": 4
}
