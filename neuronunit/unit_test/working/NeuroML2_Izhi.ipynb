{
 "cells": [
  {
   "cell_type": "code",
   "execution_count": 1,
   "metadata": {
    "collapsed": false,
    "jupyter": {
     "outputs_hidden": false
    }
   },
   "outputs": [
    {
     "data": {
      "image/png": "[encoded data removed]",
      "text/plain": [
       "<Figure size 432x288 with 1 Axes>"
      ]
     },
     "metadata": {
      "needs_background": "light"
     },
     "output_type": "display_data"
    }
   ],
   "source": [
    "import matplotlib.pyplot as plt\n",
    "plt.plot([0,1],[1,0])\n",
    "plt.show()\n",
    "def check_backend(b):\n",
    "    attrs = {k:np.mean(v) for k,v in self.model_parameters.MODEL_PARAMS[b].items()}\n",
    "    pre_model = DataTC()\n",
    "    if str(\"V_REST\") in attrs.keys():\n",
    "        attrs[\"V_REST\"] = -75.0\n",
    "    pre_model.attrs = attrs\n",
    "    pre_model.backend = b\n",
    "    vm,_ = inject_and_plot_model(pre_model.attrs,b)\n",
    "    axs[cnt].plot(vm.times,vm.magnitude)\n",
    "    axs[cnt].set_title(b)\n",
    "    cnt+=1\n",
    "    thresh = threshold_detection(vm,0.0*pq.mV)\n",
    "\n",
    "    if len(thresh)>0 and vm is not None:\n",
    "        boolean = True\n",
    "    else:\n",
    "        boolean = False\n",
    "    self.assertTrue(boolean)\n",
    "    vm,_ = inject_and_plot_passive_model(pre_model.attrs,b)\n",
    "    axs[cnt].plot(vm.times,vm.magnitude)\n",
    "    axs[cnt].set_title(b)\n",
    "    cnt+=1\n",
    "\n",
    "    if len(vm)>0 and vm is not None:\n",
    "        boolean = True\n",
    "    else:\n",
    "        boolean = False\n",
    "    self.assertTrue(boolean)\n"
   ]
  },
  {
   "cell_type": "code",
   "execution_count": 2,
   "metadata": {
    "collapsed": false,
    "jupyter": {
     "outputs_hidden": false
    }
   },
   "outputs": [
    {
     "name": "stdout",
     "output_type": "stream",
     "text": [
      "consider installing pynn a heavier backend\n"
     ]
    },
    {
     "name": "stderr",
     "output_type": "stream",
     "text": [
      "INFO       Cache size for target \"cython\": 1063 MB.\n",
      "You can call \"clear_cache('cython')\" to delete all files from the cache or manually delete files in the \"/home/russell/.cython/brian_extensions\" directory. [brian2]\n"
     ]
    },
    {
     "name": "stdout",
     "output_type": "stream",
     "text": [
      "pynn python Error\n"
     ]
    }
   ],
   "source": [
    "\n",
    "import copy\n",
    "import numpy as np\n",
    "import pandas as pd\n",
    "import matplotlib.pyplot as plt\n",
    "\n",
    "from neuronunit.models.reduced import ReducedModel\n",
    "from neuronunit.optimisation.model_parameters import path_params\n",
    "from neuronunit.optimisation import model_parameters as modelp\n",
    "\n",
    "#from neuronunit.optimization.model_parameters import model_params, path_params\n",
    "LEMS_MODEL_PATH = path_params['model_path']\n",
    "#import neuronunit.optimization as opt\n",
    "import quantities as pq\n",
    "\n",
    "\n",
    "\n",
    "\n",
    "\n",
    "# From OSB models\n",
    "mparams = {}\n",
    "mparams['a'] = 0.03\n",
    "mparams['b'] = -2\n",
    "mparams['C'] = 100\n",
    "mparams['c'] = -50 \n",
    "mparams['vr'] = -60\n",
    "mparams['vt'] = -40\n",
    "mparams['vPeak'] = 35\n",
    "mparams['k'] = 0.7\n",
    "mparams['d'] = 100\n",
    "\n"
   ]
  },
  {
   "cell_type": "markdown",
   "metadata": {},
   "source": [
    "# compile and discard a model, to initialize the JIT\n",
    "and discard, this is to purge a space and make model speed comparison fair.\n"
   ]
  },
  {
   "cell_type": "code",
   "execution_count": 3,
   "metadata": {
    "collapsed": false,
    "jupyter": {
     "outputs_hidden": false
    }
   },
   "outputs": [
    {
     "name": "stdout",
     "output_type": "stream",
     "text": [
      "\n",
      "{'a': 0.03, 'b': -2, 'C': 100, 'c': -50, 'vr': -60, 'vt': -40, 'vPeak': 35, 'k': 0.7, 'd': 100}\n",
      "{'injected_square_current': {'amplitude': array(10.) * pA, 'delay': 0, 'duration': 520}}\n"
     ]
    },
    {
     "data": {
      "text/plain": [
       "AnalogSignal with 1 channels of length 24000; units mV; datatype float64 \n",
       "sampling rate: 12000.0 Hz\n",
       "time: 0.0 s to 2.0 s"
      ]
     },
     "execution_count": 3,
     "metadata": {},
     "output_type": "execute_result"
    }
   ],
   "source": [
    "import numpy as np\n",
    "import time\n",
    "from neuronunit.models.very_reduced_sans_lems import VeryReducedModel\n",
    "model = None\n",
    "model = VeryReducedModel(backend ='RAW')\n",
    "print(model)\n",
    "print(mparams)\n",
    "model.set_attrs(mparams)\n",
    "iparams = {}\n",
    "iparams['injected_square_current'] = {}\n",
    "iparams['injected_square_current']['amplitude'] = 10*pq.pA\n",
    "#['amplitude']  = dtc.vtest[k]['injected_square_current']['amplitude']\n",
    "DELAY = 0# 100.0*pq.ms\n",
    "DURATION = 520*pq.ms\n",
    "iparams['injected_square_current']['delay'] = DELAY\n",
    "iparams['injected_square_current']['duration'] = int(DURATION)\n",
    "print(iparams)\n",
    "model.inject_square_current(iparams)\n"
   ]
  },
  {
   "cell_type": "markdown",
   "metadata": {},
   "source": [
    "# Vanilla parameters model to model check (succeeds).\n",
    "# RAW is significantly faster"
   ]
  },
  {
   "cell_type": "code",
   "execution_count": 4,
   "metadata": {
    "collapsed": false,
    "jupyter": {
     "outputs_hidden": false
    }
   },
   "outputs": [
    {
     "name": "stdout",
     "output_type": "stream",
     "text": [
      "2\n",
      "3\n",
      "5\n",
      "7\n"
     ]
    }
   ],
   "source": [
    "times = []\n",
    "\n",
    "for current in [60,70,85,100]:\n",
    "    # compile a model and discard\n",
    "\n",
    "    model = None\n",
    "    model = VeryReducedModel(backend = ('RAW'))\n",
    "    model.set_attrs(mparams)\n",
    "    iparams = {}\n",
    "    iparams['injected_square_current'] = {}\n",
    "    iparams['injected_square_current']['amplitude'] = current*pq.pA\n",
    "    #['amplitude']  = dtc.vtest[k]['injected_square_current']['amplitude']\n",
    "    DELAY = 0# 100.0*pq.ms\n",
    "    DURATION = 520*pq.ms\n",
    "    iparams['injected_square_current']['delay'] = DELAY\n",
    "    iparams['injected_square_current']['duration'] = int(DURATION)\n",
    "\n",
    "    model.inject_square_current(iparams)\n",
    "    print(model.get_spike_count())\n",
    "    #plt.plot(model.results['vm'].times,model.results['vm'])\n",
    "    \n",
    "    #times.append(model.results['sim_time'])\n",
    "#print('mean simulation time: {0}. Total time: {1}'.format(np.mean(times),np.sum(times)))\n",
    "\n"
   ]
  },
  {
   "cell_type": "code",
   "execution_count": 5,
   "metadata": {
    "collapsed": false,
    "jupyter": {
     "outputs_hidden": false
    }
   },
   "outputs": [],
   "source": []
  },
  {
   "cell_type": "code",
   "execution_count": 6,
   "metadata": {
    "collapsed": false,
    "jupyter": {
     "outputs_hidden": false
    }
   },
   "outputs": [
    {
     "data": {
      "text/plain": [
       "'\\nimport time\\nsim_times = np.logspace(-3,0,10)*pq.s\\nwall_times = np.zeros(len(sim_times))\\nfor i,sim_time in enumerate(sim_times):\\n    model = ReducedModel(LEMS_MODEL_PATH,name=str(\\'vanilla\\'),backend=\\'NEURON\\')\\n    model.inject_square_current({\\'amplitude\\':200*pq.pA, \\'duration\\':sim_time/2, \\'delay\\':100*pq.ms})\\n    model._backend.set_stop_time(sim_time)\\n    model._backend.set_time_step(0.025*pq.ms)\\n    start = time.time()\\n    result = model._backend.local_run()\\n    finish = time.time()\\n    wall_times[i] = finish - start\\n    print(\"Sim time of %.2g s took %.2g\" % (sim_time,wall_times[i]))\\nplt.plot(sim_times,wall_times,\\'-o\\',label=\\'NEURON\\')\\nplt.plot(sim_times,sim_times,\\'--\\',label=\\'Real-time\\')\\nplt.xlabel(\\'Simulation time\\')\\nplt.ylabel(\\'Wall time\\')\\nplt.xscale(\\'log\\')\\nplt.yscale(\\'log\\')\\nplt.legend()\\nplt.plot();\\n'"
      ]
     },
     "execution_count": 6,
     "metadata": {},
     "output_type": "execute_result"
    }
   ],
   "source": []
  },
  {
   "cell_type": "code",
   "execution_count": 7,
   "metadata": {
    "collapsed": false,
    "jupyter": {
     "outputs_hidden": false
    }
   },
   "outputs": [
    {
     "data": {
      "text/plain": [
       "'\\nimport time\\nsim_times = np.logspace(-3,0,10)*pq.s\\nwall_times = np.zeros(len(sim_times))\\nfor i,sim_time in enumerate(sim_times):\\n    model = ReducedModel(LEMS_MODEL_PATH,name=str(\\'vanilla\\'),backend=\\'RAW\\')\\n    model.set_attrs(mparams)\\n    model.inject_square_current({\\'amplitude\\':200*pq.pA, \\'duration\\':sim_time/2, \\'delay\\':100*pq.ms})\\n    model._backend.set_stop_time(sim_time)\\n    #model._backend.set_time_step(0.025*pq.ms)\\n    start = time.time()\\n    result = model._backend.local_run()\\n    finish = time.time()\\n    wall_times[i] = finish - start\\n    print(\"Sim time of %.2g s took %.2g\" % (sim_time,wall_times[i]))\\nplt.plot(sim_times,wall_times,\\'-o\\',label=\\'NEURON\\')\\nplt.plot(sim_times,sim_times,\\'--\\',label=\\'Real-time\\')\\nplt.xlabel(\\'Simulation time\\')\\nplt.ylabel(\\'Wall time\\')\\nplt.xscale(\\'log\\')\\nplt.yscale(\\'log\\')\\nplt.legend()\\nplt.plot();\\n'"
      ]
     },
     "execution_count": 7,
     "metadata": {},
     "output_type": "execute_result"
    }
   ],
   "source": []
  },
  {
   "cell_type": "code",
   "execution_count": 8,
   "metadata": {
    "collapsed": false,
    "jupyter": {
     "outputs_hidden": false
    }
   },
   "outputs": [
    {
     "data": {
      "text/plain": [
       "\"\\nimport time\\ntimes = []\\ntimes_without_init = []\\n\\nmodel = ReducedModel(LEMS_MODEL_PATH,name = str('vanilla'),backend = ('NEURON'))\\n\\n\\n#model.set_attrs(mparams)\\nfor current in [60,70,85,100]:\\n    iparams = {}\\n    iparams['injected_square_current'] = {}\\n    iparams['injected_square_current']['amplitude'] = current*pq.pA\\n    DELAY = 0# 100.0*pq.ms\\n    DURATION = 520\\n    iparams['injected_square_current']['delay'] = DELAY*pq.ms\\n    iparams['injected_square_current']['duration'] = DURATION*pq.ms\\n\\n    model.inject_square_current(iparams)\\n    \\n    print(model.get_spike_count())\\n    plt.plot(model.get_membrane_potential().times,model.get_membrane_potential())\\n    print(model.results['sim_time'], 'simulation')\\n    times.append(model.results['sim_time'])\\nprint('mean simulation time: {0}. Total time: {1}'.format(np.mean(times),np.sum(times)))\\n\\n\\nfor current in [60,70,85,100]:\\n    iparams = {}\\n    iparams['injected_square_current'] = {}\\n    iparams['injected_square_current']['amplitude'] = current*pq.pA\\n    DELAY = 0# 100.0*pq.ms\\n    DURATION = 520\\n    iparams['injected_square_current']['delay'] = DELAY*pq.ms\\n    iparams['injected_square_current']['duration'] = DURATION*pq.ms\\n    model.inject_square_current(iparams)\\n\\n    #model.inject_square_current(iparams)\\n    #model.inject_square_current(iparams)\\n\\n    start = time.time()\\n    model._backend.h('run()')\\n    stop = time.time()\\n    finish = stop-start\\n    print(finish,'finish')\\n    times_without_init.append(finish)\\nprint('without init NEURON simulation time: {0}. Total time: {1}'.format(np.mean(times_without_init),np.sum(times_without_init)))\\n\""
      ]
     },
     "execution_count": 8,
     "metadata": {},
     "output_type": "execute_result"
    }
   ],
   "source": []
  },
  {
   "cell_type": "code",
   "execution_count": 9,
   "metadata": {
    "collapsed": false,
    "jupyter": {
     "outputs_hidden": false
    }
   },
   "outputs": [],
   "source": []
  },
  {
   "cell_type": "markdown",
   "metadata": {},
   "source": [
    "\n",
    "NEURON units                                           NeuroML units   \n",
    "\n",
    "v0 = -60 (mV),  vr = -60 (mV) ,                        mparams['vr'] = -60\n",
    "\n",
    "k = 7.0E-4 (uS / mV),                                  mparams['k'] = 0.7                ***different\n",
    "\n",
    "vt = -40 (mV)\n",
    "\n",
    "vpeak = 35 (mV)                 mparams['vPeak'] = 35\n",
    "\n",
    "a = 0.030000001 (kHz) [ms-1],   mparams['a'] = 0.03\n",
    "\n",
    "b = -0.002 (uS),                mparams['b'] = -2\n",
    "\n",
    "c = -50 (mV),                   mparams['c'] = -50  \n",
    "\n",
    "d = 0.1 (nA) --MATLAB pA        mparams['d'] = 100  ******** pA\n",
    "\n",
    "C = 1.0E-4 (microfarads)        mparams['C'] = 100 ******** co faraday)"
   ]
  },
  {
   "cell_type": "code",
   "execution_count": 10,
   "metadata": {
    "collapsed": false,
    "jupyter": {
     "outputs_hidden": false
    }
   },
   "outputs": [
    {
     "name": "stdout",
     "output_type": "stream",
     "text": [
      "0\n",
      "0\n",
      "0\n",
      "0\n",
      "0\n"
     ]
    },
    {
     "name": "stderr",
     "output_type": "stream",
     "text": [
      "WARNING    /usr/local/lib/python3.6/dist-packages/ipykernel/__main__.py:71: UserWarning: Matplotlib is currently using agg, which is a non-GUI backend, so cannot show the figure.\n",
      " [py.warnings]\n",
      "WARNING:py.warnings:/usr/local/lib/python3.6/dist-packages/ipykernel/__main__.py:71: UserWarning: Matplotlib is currently using agg, which is a non-GUI backend, so cannot show the figure.\n",
      "\n"
     ]
    },
    {
     "name": "stdout",
     "output_type": "stream",
     "text": [
      "1\n",
      "3\n",
      "5\n",
      "0\n",
      "0\n",
      "2\n",
      "7\n",
      "0\n",
      "0\n",
      "0\n",
      "1\n"
     ]
    },
    {
     "data": {
      "text/plain": [
       "'\\nIBN = translate(IBN,m2m)\\nCHN = translate(CHN,m2m)\\nTCN = translate(TCN,m2m)\\nprint(CH)\\nprint(CHN)\\nprint(IB)\\nprint(IBN)\\nprint(TC)\\nprint(TCN)\\n'"
      ]
     },
     "execution_count": 10,
     "metadata": {},
     "output_type": "execute_result"
    },
    {
     "data": {
      "image/png": "[encoded data removed]",
      "text/plain": [
       "<Figure size 432x288 with 1 Axes>"
      ]
     },
     "metadata": {
      "needs_background": "light"
     },
     "output_type": "display_data"
    }
   ],
   "source": [
    "import collections\n",
    "# Fast spiking cannot be reproduced as it requires modifications to the standard Izhi equation,\n",
    "# which are expressed in this mod file.\n",
    "# https://github.com/OpenSourceBrain/IzhikevichModel/blob/master/NEURON/izhi2007b.mod\n",
    "\n",
    "from collections import OrderedDict\n",
    "type2007 = collections.OrderedDict([\n",
    "  #              C    k     vr  vt vpeak   a      b   c    d  celltype\n",
    "  ('RS',        (100, 0.7,  -60, -40, 35, 0.03,   -2, -50,  100,  1)),\n",
    "  ('IB',        (150, 1.2,  -75, -45, 50, 0.01,   5, -56,  130,   2)),\n",
    "  ('CH',        (50,  1.5,  -60, -40, 25, 0.03,   1, -40,  150,   3)),\n",
    "  ('LTS',       (100, 1.0,  -56, -42, 40, 0.03,   8, -53,   20,   4)),\n",
    "  ('FS',        (20,  1.0,  -55, -40, 25, 0.2,   -2, -45,  -55,   5)),\n",
    "  ('TC',        (200, 1.6,  -60, -50, 35, 0.01,  15, -60,   10,   6)),\n",
    "  ('TC_burst',  (200, 1.6,  -60, -50, 35, 0.01,  15, -60,   10,   6)),\n",
    "  ('RTN',       (40,  0.25, -65, -45,  0, 0.015, 10, -55,   50,   7)),\n",
    "  ('RTN_burst', (40,  0.25, -65, -45,  0, 0.015, 10, -55,   50,   7))])\n",
    "\n",
    "import numpy as np\n",
    "param_dict = OrderedDict([(k,[]) for k in ['C','k','vr','vt','vPeak','a','b','c','d']])\n",
    "#OrderedDict\n",
    "for i,k in enumerate(param_dict.keys()):\n",
    "    for v in type2007.values():\n",
    "        param_dict[k].append(v[i])\n",
    "\n",
    "explore_param = {k:(np.min(v),np.max(v)) for k,v in param_dict.items()}\n",
    "param_ranges = OrderedDict(explore_param)\n",
    "\n",
    "\n",
    "#IB = mparams[param_dict['IB']]\n",
    "IB = {}\n",
    "TC = {}\n",
    "CH = {}\n",
    "RTN_burst = {}\n",
    "for k,v in param_dict.items():\n",
    "    IB[k] = v[1]\n",
    "    CH[k] = v[2]\n",
    "    TC[k] = v[5]\n",
    "    RTN_burst[k] = v[-2]\n",
    "    \n",
    "RTN_burstN = copy.copy(RTN_burst)\n",
    "TCN = copy.copy(TC)\n",
    "IBN = copy.copy(IB)\n",
    "CHN = copy.copy(CH)\n",
    "\n",
    "tstop = 100*pq.ms\n",
    "IinRange = [73.2,100,200,400]\n",
    "\n",
    "params = [RTN_burst, TC,CH,IB]\n",
    "for p in params:\n",
    "    model = None\n",
    "    model = VeryReducedModel(backend = 'RAW')\n",
    "\n",
    "    model.set_attrs(p)\n",
    "    #print(FS)\n",
    "    times = []\n",
    "    #plt.clf()\n",
    "    for current in IinRange:\n",
    "        iparams = {}\n",
    "        iparams['injected_square_current'] = {}\n",
    "        iparams['injected_square_current']['amplitude'] = current*pq.pA\n",
    "        #['amplitude']  = dtc.vtest[k]['injected_square_current']['amplitude']\n",
    "        DELAY = 0\n",
    "        #DURATION = tstop*pq.ms\n",
    "        iparams['injected_square_current']['delay'] = 0\n",
    "        iparams['injected_square_current']['duration'] = 100*pq.ms\n",
    "\n",
    "        model.inject_square_current(iparams)\n",
    "        print(model.get_spike_count())\n",
    "        plt.plot(model.get_membrane_potential().times,model.get_membrane_potential())\n",
    "plt.show()\n",
    "    \n",
    "\n",
    "# From OSB models\n",
    "mparams = {}\n",
    "mparams['a'] = 0.03\n",
    "mparams['b'] = -2\n",
    "mparams['C'] = 100\n",
    "mparams['c'] = -50 \n",
    "mparams['vr'] = -60\n",
    "mparams['vt'] = -40\n",
    "mparams['vPeak'] = 35\n",
    "mparams['k'] = 0.7\n",
    "mparams['d'] = 100\n",
    "\n",
    "\n",
    "# FROM the MOD file.\n",
    "vanilla_NRN = {}\n",
    "#vanilla_NRN['v0'] = -60# (mV)\n",
    "vanilla_NRN['k'] = 7.0E-4# (uS / mV)\n",
    "vanilla_NRN['vr'] = -60# (mV)\n",
    "vanilla_NRN['vt'] = -40# (mV)\n",
    "vanilla_NRN['vPeak'] = 35# (mV)\n",
    "vanilla_NRN['a'] = 0.03# (kHz)\n",
    "vanilla_NRN['b'] = -0.002# (uS)\n",
    "vanilla_NRN['c'] = -50# (mV)\n",
    "vanilla_NRN['d'] = 0.1# (nA)\n",
    "vanilla_NRN['C'] = 1.0E-4# (microfarads)\n",
    "\n",
    "m2m = {}\n",
    "for k,v in vanilla_NRN.items():\n",
    "    m2m[k] = vanilla_NRN[k]/mparams[k]\n",
    "\n",
    "\n",
    "def translate(input_dic,m2m):\n",
    "    input_dic['vpeak'] = input_dic['vPeak']\n",
    "    input_dic.pop('vPeak', None)     \n",
    "    input_dic.pop('dt', None)        \n",
    "    for k,v in input_dic.items():\n",
    "        input_dic[k] = v * m2m[k]\n",
    "    return input_dic\n"
   ]
  },
  {
   "cell_type": "markdown",
   "metadata": {},
   "source": [
    "![izhi2003.png](izhi2003.png)"
   ]
  },
  {
   "cell_type": "code",
   "execution_count": null,
   "metadata": {},
   "outputs": [],
   "source": [
    "https://github.com/OpenSourceBrain/IzhikevichModel/blob/master/NEURON/izhi2003.png"
   ]
  },
  {
   "cell_type": "markdown",
   "metadata": {},
   "source": [
    "The following cells follow the Backend pattern RAW, NEURON, RAW, NEURON."
   ]
  },
  {
   "cell_type": "code",
   "execution_count": 11,
   "metadata": {
    "collapsed": false,
    "jupyter": {
     "outputs_hidden": false
    }
   },
   "outputs": [],
   "source": [
    "\n",
    "    #print(model.results['sim_time'], 'simulation')\n",
    "    #times.append(model.results['sim_time'])#\n",
    "#print('mean simulation time: {0}. Total time: {1}'.format(np.mean(times),np.sum(times)))    \n"
   ]
  },
  {
   "cell_type": "code",
   "execution_count": 12,
   "metadata": {
    "collapsed": false,
    "jupyter": {
     "outputs_hidden": false
    }
   },
   "outputs": [
    {
     "ename": "Exception",
     "evalue": "Backend NEURON not found in backends.py",
     "output_type": "error",
     "traceback": [
      "\u001b[0;31m---------------------------------------------------------------------------\u001b[0m",
      "\u001b[0;31mException\u001b[0m                                 Traceback (most recent call last)",
      "\u001b[0;32m<ipython-input-12-c388dd2835d6>\u001b[0m in \u001b[0;36m<module>\u001b[0;34m\u001b[0m\n\u001b[1;32m      6\u001b[0m \u001b[0;32mfor\u001b[0m \u001b[0mcurrent\u001b[0m \u001b[0;32min\u001b[0m \u001b[0mIinRange\u001b[0m\u001b[0;34m:\u001b[0m\u001b[0;34m\u001b[0m\u001b[0;34m\u001b[0m\u001b[0m\n\u001b[1;32m      7\u001b[0m     \u001b[0mmodel\u001b[0m \u001b[0;34m=\u001b[0m \u001b[0;32mNone\u001b[0m\u001b[0;34m\u001b[0m\u001b[0;34m\u001b[0m\u001b[0m\n\u001b[0;32m----> 8\u001b[0;31m     \u001b[0mmodel\u001b[0m \u001b[0;34m=\u001b[0m \u001b[0mReducedModel\u001b[0m\u001b[0;34m(\u001b[0m\u001b[0mLEMS_MODEL_PATH\u001b[0m\u001b[0;34m,\u001b[0m\u001b[0mname\u001b[0m \u001b[0;34m=\u001b[0m \u001b[0mstr\u001b[0m\u001b[0;34m(\u001b[0m\u001b[0;34m'vanilla'\u001b[0m\u001b[0;34m)\u001b[0m\u001b[0;34m,\u001b[0m\u001b[0mbackend\u001b[0m \u001b[0;34m=\u001b[0m \u001b[0;34m(\u001b[0m\u001b[0;34m'NEURON'\u001b[0m\u001b[0;34m)\u001b[0m\u001b[0;34m)\u001b[0m\u001b[0;34m\u001b[0m\u001b[0;34m\u001b[0m\u001b[0m\n\u001b[0m\u001b[1;32m      9\u001b[0m \u001b[0;34m\u001b[0m\u001b[0m\n\u001b[1;32m     10\u001b[0m     \u001b[0mmodel\u001b[0m\u001b[0;34m.\u001b[0m\u001b[0mset_attrs\u001b[0m\u001b[0;34m(\u001b[0m\u001b[0mTCN\u001b[0m\u001b[0;34m)\u001b[0m\u001b[0;34m\u001b[0m\u001b[0;34m\u001b[0m\u001b[0m\n",
      "\u001b[0;32m~/safe2/neuronunit/neuronunit/models/reduced.py\u001b[0m in \u001b[0;36m__init__\u001b[0;34m(self, LEMS_file_path, name, backend, attrs)\u001b[0m\n\u001b[1;32m     26\u001b[0m \u001b[0;34m\u001b[0m\u001b[0m\n\u001b[1;32m     27\u001b[0m         super(ReducedModel, self).__init__(LEMS_file_path, name=name,\n\u001b[0;32m---> 28\u001b[0;31m                                            backend=backend, attrs=attrs)\n\u001b[0m\u001b[1;32m     29\u001b[0m         \u001b[0mself\u001b[0m\u001b[0;34m.\u001b[0m\u001b[0mrun_number\u001b[0m \u001b[0;34m=\u001b[0m \u001b[0;36m0\u001b[0m\u001b[0;34m\u001b[0m\u001b[0;34m\u001b[0m\u001b[0m\n\u001b[1;32m     30\u001b[0m         \u001b[0mself\u001b[0m\u001b[0;34m.\u001b[0m\u001b[0mtstop\u001b[0m \u001b[0;34m=\u001b[0m \u001b[0;32mNone\u001b[0m\u001b[0;34m\u001b[0m\u001b[0;34m\u001b[0m\u001b[0m\n",
      "\u001b[0;32m~/safe2/neuronunit/neuronunit/models/lems.py\u001b[0m in \u001b[0;36m__init__\u001b[0;34m(self, LEMS_file_path, name, backend, attrs)\u001b[0m\n\u001b[1;32m     32\u001b[0m         \u001b[0;32mif\u001b[0m \u001b[0mbackend\u001b[0m \u001b[0;32mis\u001b[0m \u001b[0;32mNone\u001b[0m\u001b[0;34m:\u001b[0m\u001b[0;34m\u001b[0m\u001b[0;34m\u001b[0m\u001b[0m\n\u001b[1;32m     33\u001b[0m             \u001b[0mbackend\u001b[0m \u001b[0;34m=\u001b[0m \u001b[0;34m'jNeuroML'\u001b[0m\u001b[0;34m\u001b[0m\u001b[0;34m\u001b[0m\u001b[0m\n\u001b[0;32m---> 34\u001b[0;31m         \u001b[0msuper\u001b[0m\u001b[0;34m(\u001b[0m\u001b[0mLEMSModel\u001b[0m\u001b[0;34m,\u001b[0m \u001b[0mself\u001b[0m\u001b[0;34m)\u001b[0m\u001b[0;34m.\u001b[0m\u001b[0m__init__\u001b[0m\u001b[0;34m(\u001b[0m\u001b[0mname\u001b[0m\u001b[0;34m,\u001b[0m \u001b[0mbackend\u001b[0m\u001b[0;34m=\u001b[0m\u001b[0mbackend\u001b[0m\u001b[0;34m,\u001b[0m \u001b[0mattrs\u001b[0m\u001b[0;34m=\u001b[0m\u001b[0mattrs\u001b[0m\u001b[0;34m)\u001b[0m\u001b[0;34m\u001b[0m\u001b[0;34m\u001b[0m\u001b[0m\n\u001b[0m\u001b[1;32m     35\u001b[0m         \u001b[0mself\u001b[0m\u001b[0;34m.\u001b[0m\u001b[0mset_default_run_params\u001b[0m\u001b[0;34m(\u001b[0m\u001b[0;34m**\u001b[0m\u001b[0mpynml\u001b[0m\u001b[0;34m.\u001b[0m\u001b[0mDEFAULTS\u001b[0m\u001b[0;34m)\u001b[0m\u001b[0;34m\u001b[0m\u001b[0;34m\u001b[0m\u001b[0m\n\u001b[1;32m     36\u001b[0m         \u001b[0mself\u001b[0m\u001b[0;34m.\u001b[0m\u001b[0mset_default_run_params\u001b[0m\u001b[0;34m(\u001b[0m\u001b[0mnogui\u001b[0m\u001b[0;34m=\u001b[0m\u001b[0;32mTrue\u001b[0m\u001b[0;34m)\u001b[0m\u001b[0;34m\u001b[0m\u001b[0;34m\u001b[0m\u001b[0m\n",
      "\u001b[0;32m~/git/sciunit/sciunit/models/runnable.py\u001b[0m in \u001b[0;36m__init__\u001b[0;34m(self, name, backend, attrs)\u001b[0m\n\u001b[1;32m     24\u001b[0m             \u001b[0;32mraise\u001b[0m \u001b[0mTypeError\u001b[0m\u001b[0;34m(\u001b[0m\u001b[0;34m\"Model 'attrs' must be a dictionary.\"\u001b[0m\u001b[0;34m)\u001b[0m\u001b[0;34m\u001b[0m\u001b[0;34m\u001b[0m\u001b[0m\n\u001b[1;32m     25\u001b[0m         \u001b[0mself\u001b[0m\u001b[0;34m.\u001b[0m\u001b[0mattrs\u001b[0m \u001b[0;34m=\u001b[0m \u001b[0mattrs\u001b[0m \u001b[0;32mif\u001b[0m \u001b[0mattrs\u001b[0m \u001b[0;32melse\u001b[0m \u001b[0;34m{\u001b[0m\u001b[0;34m}\u001b[0m\u001b[0;34m\u001b[0m\u001b[0;34m\u001b[0m\u001b[0m\n\u001b[0;32m---> 26\u001b[0;31m         \u001b[0mself\u001b[0m\u001b[0;34m.\u001b[0m\u001b[0mset_backend\u001b[0m\u001b[0;34m(\u001b[0m\u001b[0mbackend\u001b[0m\u001b[0;34m)\u001b[0m\u001b[0;34m\u001b[0m\u001b[0;34m\u001b[0m\u001b[0m\n\u001b[0m\u001b[1;32m     27\u001b[0m         \u001b[0mself\u001b[0m\u001b[0;34m.\u001b[0m\u001b[0muse_default_run_params\u001b[0m\u001b[0;34m(\u001b[0m\u001b[0;34m)\u001b[0m\u001b[0;34m\u001b[0m\u001b[0;34m\u001b[0m\u001b[0m\n\u001b[1;32m     28\u001b[0m \u001b[0;34m\u001b[0m\u001b[0m\n",
      "\u001b[0;32m~/git/sciunit/sciunit/models/runnable.py\u001b[0m in \u001b[0;36mset_backend\u001b[0;34m(self, backend)\u001b[0m\n\u001b[1;32m     60\u001b[0m         \u001b[0;32melse\u001b[0m\u001b[0;34m:\u001b[0m\u001b[0;34m\u001b[0m\u001b[0;34m\u001b[0m\u001b[0m\n\u001b[1;32m     61\u001b[0m             raise Exception(\"Backend %s not found in backends.py\"\n\u001b[0;32m---> 62\u001b[0;31m                             % name)\n\u001b[0m\u001b[1;32m     63\u001b[0m         \u001b[0mself\u001b[0m\u001b[0;34m.\u001b[0m\u001b[0m_backend\u001b[0m\u001b[0;34m.\u001b[0m\u001b[0mmodel\u001b[0m \u001b[0;34m=\u001b[0m \u001b[0mself\u001b[0m\u001b[0;34m\u001b[0m\u001b[0;34m\u001b[0m\u001b[0m\n\u001b[1;32m     64\u001b[0m         \u001b[0mself\u001b[0m\u001b[0;34m.\u001b[0m\u001b[0m_backend\u001b[0m\u001b[0;34m.\u001b[0m\u001b[0minit_backend\u001b[0m\u001b[0;34m(\u001b[0m\u001b[0;34m*\u001b[0m\u001b[0margs\u001b[0m\u001b[0;34m,\u001b[0m \u001b[0;34m**\u001b[0m\u001b[0mkwargs\u001b[0m\u001b[0;34m)\u001b[0m\u001b[0;34m\u001b[0m\u001b[0;34m\u001b[0m\u001b[0m\n",
      "\u001b[0;31mException\u001b[0m: Backend NEURON not found in backends.py"
     ]
    }
   ],
   "source": [
    "tstop = 100*pq.ms\n",
    "IinRange = [73.2,100,200,400]\n",
    "\n",
    "\n",
    "times = []\n",
    "for current in IinRange:\n",
    "    model = None\n",
    "    model = ReducedModel(LEMS_MODEL_PATH,name = str('vanilla'),backend = ('NEURON'))\n",
    "\n",
    "    model.set_attrs(TCN)\n",
    "    print(TCN)\n",
    "\n",
    "    iparams = {}\n",
    "    iparams['injected_square_current'] = {}\n",
    "    iparams['injected_square_current']['amplitude'] = current*pq.pA\n",
    "\n",
    "    iparams['injected_square_current']['delay'] = 0*pq.ms\n",
    "    iparams['injected_square_current']['duration'] = 100*pq.ms\n",
    "\n",
    "    model.inject_square_current(iparams)\n",
    "    print(model.get_spike_count())\n",
    "    plt.plot(model.get_membrane_potential().times,model.get_membrane_potential())\n",
    "    print(model.results['sim_time'], 'simulation')\n",
    "    times.append(model.results['sim_time'])\n",
    "print('mean simulation time: {0}. Total time: {1}'.format(np.mean(times),np.sum(times)))   \n",
    "#plt.plot(model.results['vm'].times,model.results['vm'])\n",
    "    \n",
    "print(TC)"
   ]
  },
  {
   "cell_type": "code",
   "execution_count": null,
   "metadata": {},
   "outputs": [],
   "source": [
    "  # CH\n",
    "tstop = 210\n",
    "IinRange = [200,300,400,600]"
   ]
  },
  {
   "cell_type": "code",
   "execution_count": null,
   "metadata": {
    "collapsed": false,
    "jupyter": {
     "outputs_hidden": false
    }
   },
   "outputs": [],
   "source": [
    "IinRange = [30,50,90]\n",
    "tstop=720\n",
    "print(RTN_burst)\n",
    "model = ReducedModel(LEMS_MODEL_PATH,name = str('vanilla'),backend = ('RAW'))\n",
    "model.set_attrs(RTN_burst)\n",
    "print(RTN_burst)\n",
    "times = []\n",
    "for current in IinRange:\n",
    "    iparams = {}\n",
    "    iparams['injected_square_current'] = {}\n",
    "    iparams['injected_square_current']['amplitude'] = current*pq.pA\n",
    "    #['amplitude']  = dtc.vtest[k]['injected_square_current']['amplitude']\n",
    "    DELAY = 0\n",
    "    #DURATION = tstop*pq.ms\n",
    "    iparams['injected_square_current']['delay'] = 0\n",
    "    iparams['injected_square_current']['duration'] = tstop*pq.ms\n",
    "\n",
    "    model.inject_square_current(iparams)\n",
    "    print(model.get_spike_count())\n",
    "    plt.plot(model.get_membrane_potential().times,model.get_membrane_potential())\n",
    "    times.append(model.results['sim_time'])\n",
    "\n",
    "    print(model.results['sim_time'], 'simulation')    "
   ]
  },
  {
   "cell_type": "code",
   "execution_count": null,
   "metadata": {
    "collapsed": false,
    "jupyter": {
     "outputs_hidden": false
    }
   },
   "outputs": [],
   "source": [
    "tstop = 210\n",
    "IinRange = [290,370,500,550]\n",
    "model = ReducedModel(LEMS_MODEL_PATH,name = str('vanilla'),backend = ('RAW'))\n",
    "model.set_attrs(CH)\n",
    "times = []\n",
    "for current in IinRange:\n",
    "    iparams = {}\n",
    "    iparams['injected_square_current'] = {}\n",
    "    iparams['injected_square_current']['amplitude'] = current*pq.pA\n",
    "    #['amplitude']  = dtc.vtest[k]['injected_square_current']['amplitude']\n",
    "    DELAY = 0\n",
    "    DURATION = tstop*pq.ms\n",
    "    iparams['injected_square_current']['delay'] = DELAY\n",
    "    iparams['injected_square_current']['duration'] = int(DURATION)\n",
    "\n",
    "    model.inject_square_current(iparams)\n",
    "    print(model.get_spike_count())\n",
    "    plt.plot(model.get_membrane_potential().times,model.get_membrane_potential())\n",
    "    times.append(model.results['sim_time'])\n",
    "\n",
    "print('mean simulation time: {0}. Total time: {1}'.format(np.mean(times),np.sum(times)))    \n",
    "    "
   ]
  },
  {
   "cell_type": "code",
   "execution_count": null,
   "metadata": {
    "collapsed": false,
    "jupyter": {
     "outputs_hidden": false
    }
   },
   "outputs": [],
   "source": [
    "tstop = 210\n",
    "IinRange = [290,370,500,550]\n",
    "\n",
    "for current in IinRange:\n",
    "    iparams = {}\n",
    "    iparams['injected_square_current'] = {}\n",
    "    iparams['injected_square_current']['amplitude'] = current*pq.pA\n",
    "    #['amplitude']  = dtc.vtest[k]['injected_square_current']['amplitude']\n",
    "    DELAY = 0*pq.ms\n",
    "    DURATION = tstop*pq.ms\n",
    "    iparams['injected_square_current']['delay'] = DELAY\n",
    "    iparams['injected_square_current']['duration'] = DURATION\n",
    "    model = None\n",
    "    model = ReducedModel(LEMS_MODEL_PATH,name = str('vanilla'),backend = ('NEURON'))\n",
    "    model.set_attrs(CHN)\n",
    "    model.inject_square_current(iparams)\n",
    "    print(model.get_spike_count())\n",
    "    plt.plot(model.get_membrane_potential().times,model.get_membrane_potential())\n",
    "    print(model.results['sim_time'], 'simulation')    \n",
    "print('mean simulation time: {0}. Total time: {1}'.format(np.mean(times),np.sum(times)))    \n",
    "    "
   ]
  },
  {
   "cell_type": "code",
   "execution_count": null,
   "metadata": {
    "collapsed": false,
    "jupyter": {
     "outputs_hidden": false
    }
   },
   "outputs": [],
   "source": [
    "iparams = {}\n",
    "iparams['injected_square_current'] = {}\n",
    "iparams['injected_square_current']['amplitude'] = 200*pq.pA\n",
    "#['amplitude']  = dtc.vtest[k]['injected_square_current']['amplitude']\n",
    "DELAY = 0*pq.ms\n",
    "DURATION = tstop*pq.ms\n",
    "iparams['injected_square_current']['delay'] = DELAY\n",
    "iparams['injected_square_current']['duration'] = DURATION\n",
    "\n",
    "model = ReducedModel(LEMS_MODEL_PATH,name = str('vanilla'),backend = ('RAW'))\n",
    "#model.set_attrs(CHN)\n",
    "model.set_attrs(CH)\n",
    "\n",
    "model.inject_square_current(iparams)\n",
    "print(model.get_spike_count())\n",
    "plt.plot(model.get_membrane_potential().times,model.get_membrane_potential())\n",
    "\n"
   ]
  },
  {
   "cell_type": "markdown",
   "metadata": {},
   "source": [
    "Ignore the rest of cells\n"
   ]
  },
  {
   "cell_type": "code",
   "execution_count": null,
   "metadata": {
    "collapsed": false,
    "jupyter": {
     "outputs_hidden": false
    }
   },
   "outputs": [],
   "source": [
    "\n",
    "model = ReducedModel(LEMS_MODEL_PATH,name = str('vanilla'),backend = ('RAW'))\n",
    "model.set_attrs(mparams)\n",
    "\n",
    "import seaborn as sns\n",
    "from neuronunit.optimization.data_transport_container import DataTC\n",
    "import os\n",
    "print(dir(model._backend))#.attrs)\n",
    "\n",
    "\n",
    "\n",
    "\n",
    "params = {}\n",
    "params['injected_square_current'] = {}\n",
    "params['injected_square_current']['amplitude'] = 52*pq.pA\n",
    "DELAY = 100.0*pq.ms\n",
    "DURATION = 1000.0*pq.ms\n",
    "params['injected_square_current']['delay'] = DELAY\n",
    "params['injected_square_current']['duration'] = DURATION\n",
    "\n",
    "#first_two[0].observation['mean'] = 50*pq.pA\n",
    "\n",
    "#first_two[1].observation['mean'] = 50*pq.ohm*1e6\n",
    "\n",
    "#print(first_two)\n",
    "\n",
    "score = first_two[1].judge(model,stop_on_error = False, deep_error = True)\n",
    "print(score)\n",
    "stuff = first_two[1].generate_prediction(model)\n",
    "print(stuff)\n",
    "print(model.get_spike_count(),'npsikes')\n",
    "print(np.mean(model.get_membrane_potential()),'mean membrane potential')\n"
   ]
  },
  {
   "cell_type": "code",
   "execution_count": null,
   "metadata": {
    "collapsed": false,
    "jupyter": {
     "outputs_hidden": false
    }
   },
   "outputs": [],
   "source": [
    "score = first_two[1].judge(model,stop_on_error = False, deep_error = True)\n",
    "print(score.prediction)\n",
    "print(model.get_spike_count())"
   ]
  },
  {
   "cell_type": "code",
   "execution_count": null,
   "metadata": {
    "collapsed": false,
    "jupyter": {
     "outputs_hidden": false
    }
   },
   "outputs": [],
   "source": [
    "score = first_two[0].judge(model,stop_on_error = False, deep_error = True)\n",
    "print(score.prediction)\n",
    "#print(model.get_spike_count())"
   ]
  },
  {
   "cell_type": "code",
   "execution_count": null,
   "metadata": {
    "collapsed": false,
    "jupyter": {
     "outputs_hidden": false
    }
   },
   "outputs": [],
   "source": [
    "\n",
    "model = None\n",
    "model = ReducedModel(LEMS_MODEL_PATH,name = str('vanilla'),backend = ('RAW'))#,{'DTC':dtc}))\n",
    "model.set_attrs(mparams)\n",
    "\n",
    "prediction = all_tests[0].generate_prediction(model)\n",
    "print(prediction)\n",
    "\n",
    "prediction1 = all_tests[1].generate_prediction(model)\n",
    "print(prediction1)"
   ]
  },
  {
   "cell_type": "code",
   "execution_count": null,
   "metadata": {
    "collapsed": false,
    "jupyter": {
     "outputs_hidden": false
    }
   },
   "outputs": [],
   "source": [
    "\n",
    "cnt = 0\n",
    "scores = []\n",
    "tests_,all_tests, observation,suite = opt.get_neab.get_tests()\n",
    "#passive  = [ str('RestingPotentialTest'), str('CapacitanceTest'), str('TimeConstantTest'), str('InputResistanceTest') ]\n",
    "#firing_tests =  [ t for t in all_tests if str(t) not in passive ]\n",
    "\n",
    "print(first_two)\n",
    "\n",
    "for t in all_tests:\n",
    "    score = t.judge(model,stop_on_error = False, deep_error = True)\n",
    "        \n",
    "    if cnt==0:\n",
    "        model.rheobase = score.prediction['value']\n",
    "        \n",
    "        params = {}\n",
    "        params['injected_square_current'] = {}\n",
    "        params['injected_square_current']['amplitude'] = score.prediction['value']\n",
    "        DELAY = 100.0*pq.ms\n",
    "        DURATION = 1000.0*pq.ms\n",
    "        params['injected_square_current']['delay'] = DELAY\n",
    "        params['injected_square_current']['duration'] = DURATION\n",
    "        model.params = params\n",
    "    scores.append(score)\n",
    "    print(score)\n",
    "    print('score {0}'.format(score))\n",
    "    if str('mean') in score.prediction.keys():\n",
    "        print('observation {0}, prediction {1}'.format(t.observation['mean'],score.prediction['mean']))\n",
    "    if str('value') in score.prediction.keys():\n",
    "        print('observation {0}, prediction {1}'.format(t.observation['mean'],score.prediction['value']))\n",
    "    cnt+=1\n",
    "#http://www.physics"
   ]
  },
  {
   "cell_type": "code",
   "execution_count": null,
   "metadata": {
    "collapsed": false,
    "jupyter": {
     "outputs_hidden": false
    }
   },
   "outputs": [],
   "source": [
    "import pandas as pd\n",
    "import numpy as np\n",
    "k_grid = np.logspace(-1.5,1,10)\n",
    "#k_grid = np.logspace(-2,-1,10)\n",
    "#k_grid = np.logspace(-1,1,10)\n",
    "\n",
    "\n",
    "print(k_grid)\n",
    "\n",
    "params = {}\n",
    "params['a'] = 0.03\n",
    "params['b'] = -2\n",
    "params['C'] = 100\n",
    "params['c'] = -50 \n",
    "params['vr'] = -60\n",
    "params['vt'] = -40\n",
    "params['vPeak'] = 35\n",
    "params['k'] = 0.7\n",
    "params['d'] = 100\n",
    "params['dt'] = 0.025\n",
    "params['tMax'] = 1000.0;#   % max time [ms]\n",
    "first_two = all_tests[0:2]\n",
    "list_dics = []                                         \n",
    "fig = plt.figure()\n",
    "import copy\n",
    "import pdb\n",
    "tests_ = all_tests[0:2]\n",
    "for k in k_grid:\n",
    "    LEMS_MODEL_PATH = path_params['model_path']\n",
    "    model = None\n",
    "    model = ReducedModel(LEMS_MODEL_PATH,name=str('vanilla'),backend='NEURON')\n",
    "    params['k'] = k\n",
    "    model.set_attrs(params)\n",
    "\n",
    "    scores = []\n",
    "    for index,t in enumerate(first_two):\n",
    "        print(\"k=%.2g; Test=%s\" % (k,t))\n",
    "        score = t.judge(model, stop_on_error=True, deep_error=False)\n",
    "        print(score.prediction,'rheobase why not?')\n",
    "        scores.append(score)\n",
    "\n",
    "    for s in scores:\n",
    "        agreement = {}\n",
    "        agreement['k'] = k\n",
    "        print('bad k', k)\n",
    "        agreement['test'] = s.test\n",
    "        try:\n",
    "            agreement['observation'] = s.observation['mean'].rescale(s.test.units)\n",
    "            agreement['prediction'] = s.prediction['value'].rescale(s.test.units)\n",
    "            agreement['agreement'] = float(agreement['observation'])/float(agreement['prediction'])\n",
    "        except Exception as e:\n",
    "            print('error score skip because %s' % e)\n",
    "            agreement['agreement'] = None\n",
    "        list_dics.append(agreement)\n",
    "\n",
    "\n"
   ]
  },
  {
   "cell_type": "code",
   "execution_count": null,
   "metadata": {
    "collapsed": false,
    "jupyter": {
     "outputs_hidden": false
    }
   },
   "outputs": [],
   "source": [
    "#pd.set_option('display.precision', 3)\n",
    "df = pd.DataFrame(list_dics)\n",
    "dfg = df.reset_index(drop=True)\n",
    "#dfg = dfg.dropna()\n",
    "#dfg\n",
    "#how='all'\n",
    "#dfg = df.reset_index(drop=nan)\n",
    "\n",
    "\n",
    "import seaborn as sns\n",
    "cm = sns.light_palette(\"green\", as_cmap=True)\n",
    "#display(dfg.style.background_gradient(cmap=cm,subset=['agreement']))\n",
    "#df\n",
    "#ax = df[df['test'].index % 2 == 0].plot(x='k',y='agreement',label='Rheobase')\n",
    "\n",
    "ax = df[df['test'].index % 2 == 0].plot(x='k',y='agreement',label='Rheobase')\n",
    "df[df['test'].index % 2 == 1].plot(x='k',y='agreement',label='InputRes', ax=ax)\n",
    "plt.plot(k_grid,np.ones(k_grid.shape),'--')\n",
    "#plt.xscale('log')\n",
    "#plt.yscale('log')\n",
    "\n",
    "plt.xscale('log')\n",
    "plt.yscale('log')"
   ]
  },
  {
   "cell_type": "code",
   "execution_count": null,
   "metadata": {
    "collapsed": false,
    "jupyter": {
     "outputs_hidden": false
    }
   },
   "outputs": [],
   "source": [
    "list_dics"
   ]
  },
  {
   "cell_type": "code",
   "execution_count": null,
   "metadata": {
    "collapsed": false,
    "jupyter": {
     "outputs_hidden": false
    }
   },
   "outputs": [],
   "source": [
    "print(k_grid)"
   ]
  },
  {
   "cell_type": "code",
   "execution_count": null,
   "metadata": {},
   "outputs": [],
   "source": [
    "k_grid = np.logspace(-1,0,10)\n"
   ]
  },
  {
   "cell_type": "code",
   "execution_count": null,
   "metadata": {
    "collapsed": false,
    "jupyter": {
     "outputs_hidden": false
    }
   },
   "outputs": [],
   "source": [
    "print(k_grid)"
   ]
  },
  {
   "cell_type": "code",
   "execution_count": null,
   "metadata": {
    "collapsed": false,
    "jupyter": {
     "outputs_hidden": false
    }
   },
   "outputs": [],
   "source": [
    "\n",
    "import seaborn as sns\n",
    "cm = sns.light_palette(\"green\", as_cmap=True)\n",
    "#display(dfg.style.background_gradient(cmap=cm,subset=['agreement']))\n",
    "#df\n",
    "\n",
    "ax = df[df['test'].index % 2 == 0].plot(x='k',y='agreement',label='Rheobase')\n",
    "#df[df['test'].index % 2 == 1].plot(x='k',y='agreement',label='InputRes', ax=ax)\n",
    "plt.plot(k_grid,np.ones(k_grid.shape),'--')\n",
    "plt.xscale('log')\n",
    "plt.yscale('log')"
   ]
  },
  {
   "cell_type": "code",
   "execution_count": null,
   "metadata": {
    "collapsed": false,
    "jupyter": {
     "outputs_hidden": false
    }
   },
   "outputs": [],
   "source": [
    "ax = df[df['test'].index % 2 == 0].plot(x='k',y='agreement',label='Rheobase')\n"
   ]
  },
  {
   "cell_type": "code",
   "execution_count": null,
   "metadata": {
    "collapsed": false,
    "jupyter": {
     "outputs_hidden": false
    }
   },
   "outputs": [],
   "source": [
    "# tests that do well, 4th last to second last.\n",
    "# rheobase.\n",
    "ft_ = all_tests[-4:-2]\n",
    "ft_.insert(0,all_tests[0]) \n",
    "print(ft_)\n",
    "free_params = ['k','b']\n",
    "from neuronunit.optimization import optimization_management as om\n",
    "ga_out, DO = om.run_ga(mp,3,ft_,free_params=free_params)\n"
   ]
  },
  {
   "cell_type": "code",
   "execution_count": null,
   "metadata": {
    "collapsed": false,
    "jupyter": {
     "outputs_hidden": false
    }
   },
   "outputs": [],
   "source": []
  },
  {
   "cell_type": "code",
   "execution_count": null,
   "metadata": {
    "collapsed": false,
    "jupyter": {
     "outputs_hidden": false
    }
   },
   "outputs": [],
   "source": [
    "type2007.keys()"
   ]
  },
  {
   "cell_type": "code",
   "execution_count": null,
   "metadata": {
    "collapsed": false,
    "jupyter": {
     "outputs_hidden": false
    }
   },
   "outputs": [],
   "source": [
    "for k, v in type2007.items():\n",
    "    print(v)"
   ]
  },
  {
   "cell_type": "code",
   "execution_count": null,
   "metadata": {
    "collapsed": false,
    "jupyter": {
     "outputs_hidden": false
    }
   },
   "outputs": [],
   "source": []
  },
  {
   "cell_type": "code",
   "execution_count": null,
   "metadata": {
    "collapsed": false,
    "jupyter": {
     "outputs_hidden": false
    }
   },
   "outputs": [],
   "source": [
    "param_dict"
   ]
  },
  {
   "cell_type": "code",
   "execution_count": null,
   "metadata": {
    "collapsed": true,
    "jupyter": {
     "outputs_hidden": true
    }
   },
   "outputs": [],
   "source": []
  }
 ],
 "metadata": {
  "kernelspec": {
   "display_name": "Python 3",
   "language": "python",
   "name": "python3"
  },
  "language_info": {
   "codemirror_mode": {
    "name": "ipython",
    "version": 3
   },
   "file_extension": ".py",
   "mimetype": "text/x-python",
   "name": "python",
   "nbconvert_exporter": "python",
   "pygments_lexer": "ipython3",
   "version": "3.6.9"
  }
 },
 "nbformat": 4,
 "nbformat_minor": 4
}
