{
 "cells": [
  {
   "cell_type": "markdown",
   "metadata": {},
   "source": [
    "# Set up the environment"
   ]
  },
  {
   "cell_type": "code",
   "execution_count": null,
   "metadata": {},
   "outputs": [],
   "source": [
    "import matplotlib.pyplot as plt\n",
    "import matplotlib\n",
    "%matplotlib inline\n",
    "plt.plot([0,1],[1,0])\n",
    "plt.show()\n",
    "import hide_imports\n",
    "from neuronunit.optimisation.optimization_management import inject_and_plot_model\n",
    "import copy\n",
    "import pickle\n"
   ]
  },
  {
   "cell_type": "markdown",
   "metadata": {},
   "source": [
    "# Design simulated data tests"
   ]
  },
  {
   "cell_type": "code",
   "execution_count": null,
   "metadata": {},
   "outputs": [],
   "source": [
    "def jrt(use_test,backend):\n",
    "    use_test = hide_imports.TSD(use_test)\n",
    "    use_test.use_rheobase_score = True\n",
    "    edges = hide_imports.model_parameters.MODEL_PARAMS[backend]\n",
    "\n",
    "    OM = hide_imports.OptMan(use_test,\\\n",
    "                backend=backend,\\\n",
    "                boundary_dict=edges,\\\n",
    "                protocol={'allen': False, 'elephant': True})\n",
    "\n",
    "    return OM\n",
    "\n"
   ]
  },
  {
   "cell_type": "code",
   "execution_count": null,
   "metadata": {
    "tags": [
     "parameters"
    ]
   },
   "outputs": [],
   "source": [
    "backend = \"\"\n",
    "MU = \"\"\n",
    "NGEN = \"\""
   ]
  },
  {
   "cell_type": "code",
   "execution_count": null,
   "metadata": {},
   "outputs": [],
   "source": [
    "\n",
    "test_frame = pickle.load(open('processed_multicellular_constraints.p','rb'))\n",
    "#test_arg = tests[test_type]\n",
    "#test_frame = hide_imports.get_neab.process_all_cells()\n",
    "#test_frame.pop('Olfactory bulb (main) mitral cell',None)\n",
    "stds = {}\n",
    "for k,v in hide_imports.TSD(test_frame['Neocortex pyramidal cell layer 5-6']).items():\n",
    "    temp = hide_imports.TSD(test_frame['Neocortex pyramidal cell layer 5-6'])[k]\n",
    "    stds[k] = temp.observation['std']\n",
    "    #print((temp.name,temp.observation))\n",
    "OMObjects = []\n",
    "cloned_tests = copy.copy(test_frame['Neocortex pyramidal cell layer 5-6'])\n",
    "print(backend)\n",
    "#for b in backends:        \n",
    "OM = jrt(cloned_tests,backend)\n",
    "rt_outs = []"
   ]
  },
  {
   "cell_type": "code",
   "execution_count": null,
   "metadata": {},
   "outputs": [],
   "source": [
    "#for OM in OMObjects:\n",
    "x= {k:v for k,v in OM.tests.items() if 'mean' in v.observation.keys() or 'value' in v.observation.keys()}\n",
    "cloned_tests = copy.copy(OM.tests)\n",
    "OM.tests = hide_imports.TSD(cloned_tests)\n",
    "rt_out = OM.simulate_data(OM.tests,OM.backend,OM.boundary_dict)\n"
   ]
  },
  {
   "cell_type": "code",
   "execution_count": null,
   "metadata": {},
   "outputs": [],
   "source": [
    "penultimate_tests = hide_imports.TSD(test_frame['Neocortex pyramidal cell layer 5-6'])\n",
    "for k,v in penultimate_tests.items():\n",
    "    temp = penultimate_tests[k]\n",
    "\n",
    "    v = rt_out[1][k].observation\n",
    "    v['std'] = stds[k]\n",
    "simulated_data_tests = hide_imports.TSD(penultimate_tests)"
   ]
  },
  {
   "cell_type": "markdown",
   "metadata": {},
   "source": [
    "# Show what the randomly generated target waveform the optimizer needs to find actually looks like"
   ]
  },
  {
   "cell_type": "code",
   "execution_count": null,
   "metadata": {},
   "outputs": [],
   "source": [
    "target = rt_out[0]\n",
    "target.rheobase\n",
    "inject_and_plot_model(target)"
   ]
  },
  {
   "cell_type": "markdown",
   "metadata": {},
   "source": []
  },
  {
   "cell_type": "markdown",
   "metadata": {},
   "source": [
    "# first lets just optimize over all objective functions all the time.\n",
    "# Commence optimization of models on simulated data sets"
   ]
  },
  {
   "cell_type": "code",
   "execution_count": null,
   "metadata": {},
   "outputs": [],
   "source": [
    "%%capture\n",
    "import contextlib, io, warnings\n",
    "warnings.filterwarnings('ignore')\n",
    "s = io.StringIO()\n",
    "with contextlib.redirect_stdout(s):\n",
    "    print('dgrrg')\n",
    "    warnings.warn('shhth')\n",
    "s.getvalue()\n",
    "ga_out = simulated_data_tests.optimize(OM.boundary_dict,backend=OM.backend,\\\n",
    "        protocol={'allen': False, 'elephant': True},\\\n",
    "            MU=MU,NGEN=NGEN)\n",
    "opt = ga_out['pf'][0].dtc\n",
    "front = [ind.dtc for ind in ga_out['pf']]"
   ]
  },
  {
   "cell_type": "code",
   "execution_count": null,
   "metadata": {},
   "outputs": [],
   "source": [
    "%%capture\n",
    "from neuronunit.optimisation.optimization_management import check_match_front\n",
    "check_match_front(target,front[0:10])\n",
    "\n"
   ]
  },
  {
   "cell_type": "code",
   "execution_count": null,
   "metadata": {},
   "outputs": [],
   "source": []
  },
  {
   "cell_type": "code",
   "execution_count": null,
   "metadata": {},
   "outputs": [],
   "source": []
  },
  {
   "cell_type": "code",
   "execution_count": null,
   "metadata": {},
   "outputs": [],
   "source": []
  },
  {
   "cell_type": "markdown",
   "metadata": {},
   "source": [
    "# How about using all the objectives together?\n"
   ]
  },
  {
   "cell_type": "code",
   "execution_count": null,
   "metadata": {},
   "outputs": [],
   "source": []
  },
  {
   "cell_type": "code",
   "execution_count": null,
   "metadata": {},
   "outputs": [],
   "source": []
  },
  {
   "cell_type": "code",
   "execution_count": null,
   "metadata": {},
   "outputs": [],
   "source": [
    "opt.rheobase\n"
   ]
  },
  {
   "cell_type": "code",
   "execution_count": null,
   "metadata": {},
   "outputs": [],
   "source": [
    "inject_and_plot_model(opt)"
   ]
  },
  {
   "cell_type": "code",
   "execution_count": null,
   "metadata": {},
   "outputs": [],
   "source": [
    "opt.obs_preds"
   ]
  },
  {
   "cell_type": "code",
   "execution_count": null,
   "metadata": {},
   "outputs": [],
   "source": []
  },
  {
   "cell_type": "code",
   "execution_count": null,
   "metadata": {},
   "outputs": [],
   "source": [
    "model = opt.dtc_to_model()\n"
   ]
  },
  {
   "cell_type": "code",
   "execution_count": null,
   "metadata": {},
   "outputs": [],
   "source": []
  },
  {
   "cell_type": "code",
   "execution_count": null,
   "metadata": {},
   "outputs": [],
   "source": []
  },
  {
   "cell_type": "code",
   "execution_count": null,
   "metadata": {},
   "outputs": [],
   "source": []
  },
  {
   "cell_type": "code",
   "execution_count": null,
   "metadata": {},
   "outputs": [],
   "source": []
  },
  {
   "cell_type": "markdown",
   "metadata": {},
   "source": []
  }
 ],
 "metadata": {
  "celltoolbar": "Tags",
  "kernelspec": {
   "display_name": "Python 3",
   "language": "python",
   "name": "python3"
  },
  "language_info": {
   "codemirror_mode": {
    "name": "ipython",
    "version": 3
   },
   "file_extension": ".py",
   "mimetype": "text/x-python",
   "name": "python",
   "nbconvert_exporter": "python",
   "pygments_lexer": "ipython3",
   "version": "3.6.9"
  }
 },
 "nbformat": 4,
 "nbformat_minor": 4
}
