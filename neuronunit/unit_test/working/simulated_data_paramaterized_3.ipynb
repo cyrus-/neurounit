{
 "cells": [
  {
   "cell_type": "markdown",
   "metadata": {},
   "source": [
    "# Set up the environment"
   ]
  },
  {
   "cell_type": "code",
   "execution_count": 3,
   "metadata": {},
   "outputs": [],
   "source": [
    "%%capture\n",
    "\n",
    "import contextlib, io, warnings\n",
    "warnings.filterwarnings('ignore')\n",
    "import matplotlib.pyplot as plt\n",
    "import matplotlib\n",
    "%matplotlib inline\n",
    "plt.plot([0,1],[1,0])\n",
    "plt.show()\n",
    "import hide_imports\n",
    "from neuronunit.optimisation.optimization_management import inject_and_plot_model, OptMan\n",
    "import copy\n",
    "import pickle\n",
    "from neuronunit.optimisation.optimization_management import check_match_front\n",
    "from neuronunit.optimisation.optimization_management import check_binary_match\n",
    "\n"
   ]
  },
  {
   "cell_type": "markdown",
   "metadata": {},
   "source": [
    "# Design simulated data tests"
   ]
  },
  {
   "cell_type": "code",
   "execution_count": 2,
   "metadata": {},
   "outputs": [],
   "source": []
  },
  {
   "cell_type": "code",
   "execution_count": null,
   "metadata": {
    "tags": [
     "parameters"
    ]
   },
   "outputs": [],
   "source": [
    "backend = \"\"\n",
    "MU = \"\"\n",
    "NGEN = \"\""
   ]
  },
  {
   "cell_type": "code",
   "execution_count": null,
   "metadata": {},
   "outputs": [],
   "source": [
    "\n",
    "test_frame = pickle.load(open('processed_multicellular_constraints.p','rb'))\n",
    "stds = {}\n",
    "for k,v in hide_imports.TSD(test_frame['Neocortex pyramidal cell layer 5-6']).items():\n",
    "    temp = hide_imports.TSD(test_frame['Neocortex pyramidal cell layer 5-6'])[k]\n",
    "    stds[k] = temp.observation['std']\n",
    "    #print((temp.name,temp.observation))\n",
    "OMObjects = []\n",
    "cloned_tests = copy.copy(test_frame['Neocortex pyramidal cell layer 5-6'])\n",
    "if backend == \"RAW\":\n",
    "    fp = ['a','b','c','d','k']\n",
    "elif backend == \"HH\":\n",
    "    fp = ['g_L',\n",
    "        'g_K',\n",
    "        'g_Na',\n",
    "        'vr']\n"
   ]
  },
  {
   "cell_type": "code",
   "execution_count": null,
   "metadata": {},
   "outputs": [],
   "source": [
    "OM = OptMan(hide_imports.TSD(cloned_tests),backend=backend)\n",
    "OM.tests = hide_imports.TSD(cloned_tests)\n",
    "simulated_data_tests, OM, target = OM.make_sim_data_tests(backend,MU,NGEN,free_parameters=fp)\n"
   ]
  },
  {
   "cell_type": "code",
   "execution_count": null,
   "metadata": {},
   "outputs": [],
   "source": []
  },
  {
   "cell_type": "markdown",
   "metadata": {},
   "source": [
    "# Show what the randomly generated target waveform the optimizer needs to find actually looks like"
   ]
  },
  {
   "cell_type": "code",
   "execution_count": null,
   "metadata": {},
   "outputs": [],
   "source": [
    "target.rheobase\n",
    "inject_and_plot_model(target)"
   ]
  },
  {
   "cell_type": "markdown",
   "metadata": {},
   "source": []
  },
  {
   "cell_type": "markdown",
   "metadata": {},
   "source": [
    "# first lets just optimize over all objective functions all the time.\n",
    "# Commence optimization of models on simulated data sets"
   ]
  },
  {
   "cell_type": "code",
   "execution_count": null,
   "metadata": {},
   "outputs": [],
   "source": [
    "%%capture\n",
    "s = io.StringIO()\n",
    "with contextlib.redirect_stdout(s):\n",
    "    ga_out = simulated_data_tests.optimize(backend=OM.backend,\\\n",
    "            protocol={'allen': False, 'elephant': True},\\\n",
    "                MU=MU,NGEN=NGEN, free_params=['a','b','c','d'])\n",
    "    opt = ga_out['pf'][0].dtc\n",
    "    opt = OM.get_agreement(opt)\n"
   ]
  },
  {
   "cell_type": "code",
   "execution_count": null,
   "metadata": {},
   "outputs": [],
   "source": [
    "plt.rcParams.update({'font.size': 15})\n",
    "front = ga_out['front']\n",
    "\n",
    "check_match_front(target,front[0:10])\n",
    "\n"
   ]
  },
  {
   "cell_type": "code",
   "execution_count": null,
   "metadata": {},
   "outputs": [],
   "source": [
    "check_binary_match(opt,target)"
   ]
  },
  {
   "cell_type": "code",
   "execution_count": null,
   "metadata": {},
   "outputs": [],
   "source": [
    "opt.SA"
   ]
  },
  {
   "cell_type": "code",
   "execution_count": null,
   "metadata": {},
   "outputs": [],
   "source": [
    "opt.agreement"
   ]
  },
  {
   "cell_type": "markdown",
   "metadata": {},
   "source": [
    "# How about using all the objectives together?\n"
   ]
  },
  {
   "cell_type": "code",
   "execution_count": null,
   "metadata": {},
   "outputs": [],
   "source": []
  },
  {
   "cell_type": "code",
   "execution_count": null,
   "metadata": {},
   "outputs": [],
   "source": []
  },
  {
   "cell_type": "code",
   "execution_count": null,
   "metadata": {},
   "outputs": [],
   "source": []
  },
  {
   "cell_type": "code",
   "execution_count": null,
   "metadata": {},
   "outputs": [],
   "source": []
  },
  {
   "cell_type": "code",
   "execution_count": null,
   "metadata": {},
   "outputs": [],
   "source": []
  },
  {
   "cell_type": "code",
   "execution_count": null,
   "metadata": {},
   "outputs": [],
   "source": []
  },
  {
   "cell_type": "code",
   "execution_count": null,
   "metadata": {},
   "outputs": [],
   "source": []
  },
  {
   "cell_type": "code",
   "execution_count": null,
   "metadata": {},
   "outputs": [],
   "source": []
  },
  {
   "cell_type": "code",
   "execution_count": null,
   "metadata": {},
   "outputs": [],
   "source": []
  },
  {
   "cell_type": "code",
   "execution_count": null,
   "metadata": {},
   "outputs": [],
   "source": []
  },
  {
   "cell_type": "code",
   "execution_count": null,
   "metadata": {},
   "outputs": [],
   "source": []
  },
  {
   "cell_type": "markdown",
   "metadata": {},
   "source": []
  }
 ],
 "metadata": {
  "celltoolbar": "Tags",
  "kernelspec": {
   "display_name": "Python 3",
   "language": "python",
   "name": "python3"
  },
  "language_info": {
   "codemirror_mode": {
    "name": "ipython",
    "version": 3
   },
   "file_extension": ".py",
   "mimetype": "text/x-python",
   "name": "python",
   "nbconvert_exporter": "python",
   "pygments_lexer": "ipython3",
   "version": "3.6.9"
  }
 },
 "nbformat": 4,
 "nbformat_minor": 4
}
