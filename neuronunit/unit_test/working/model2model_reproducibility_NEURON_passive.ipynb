{
 "cells": [
  {
   "cell_type": "code",
   "execution_count": 1,
   "metadata": {},
   "outputs": [
    {
     "data": {
      "image/png": "[encoded data removed]",
      "text/plain": [
       "<Figure size 432x288 with 1 Axes>"
      ]
     },
     "metadata": {
      "needs_background": "light"
     },
     "output_type": "display_data"
    }
   ],
   "source": [
    "import matplotlib\n",
    "%matplotlib inline  \n",
    "#matplotlib.use('')\n",
    "import matplotlib.pyplot as plt\n",
    "plt.plot([0,1],[1,0])\n",
    "plt.show()\n",
    "import matplotlib\n",
    "import numpy as np\n",
    "#import matplotlib.pyplot as plt\n",
    "import sciunit.utils as utils\n",
    "from sciunit.utils import redirect_stdout\n",
    "\n",
    "#utils.redirect_stdout()"
   ]
  },
  {
   "cell_type": "code",
   "execution_count": 2,
   "metadata": {},
   "outputs": [
    {
     "name": "stdout",
     "output_type": "stream",
     "text": [
      "{'C': 50, 'k': 1.5, 'vr': -60, 'vt': -40, 'vPeak': 25, 'a': 0.03, 'b': 1, 'c': -40, 'd': 150}\n",
      "{'C': 4.9999999999999996e-05, 'k': 0.0015, 'vr': -60.0, 'vt': -40.0, 'a': 0.03, 'b': 0.001, 'c': -40.0, 'd': 0.15, 'vpeak': 25.0}\n",
      "{'C': 150, 'k': 1.2, 'vr': -75, 'vt': -45, 'vPeak': 50, 'a': 0.01, 'b': 5, 'c': -56, 'd': 130}\n",
      "{'C': 0.00015, 'k': 0.0012, 'vr': -75.0, 'vt': -45.0, 'a': 0.01, 'b': 0.005, 'c': -56.0, 'd': 0.13, 'vpeak': 50.0}\n",
      "{'C': 200, 'k': 1.6, 'vr': -60, 'vt': -50, 'vPeak': 35, 'a': 0.01, 'b': 15, 'c': -60, 'd': 10}\n",
      "{'C': 0.00019999999999999998, 'k': 0.0016, 'vr': -60.0, 'vt': -50.0, 'a': 0.01, 'b': 0.015, 'c': -60.0, 'd': 0.01, 'vpeak': 35.0}\n"
     ]
    }
   ],
   "source": [
    "import collections\n",
    "import copy\n",
    "# Fast spiking cannot be reproduced as it requires modifications to the standard Izhi equation,\n",
    "# which are expressed in this mod file.\n",
    "# https://github.com/OpenSourceBrain/IzhikevichModel/blob/master/NEURON/izhi2007b.mod\n",
    "\n",
    "from collections import OrderedDict\n",
    "type2007 = collections.OrderedDict([\n",
    "  #              C    k     vr  vt vpeak   a      b   c    d  celltype\n",
    "  ('RS',        (100, 0.7,  -60, -40, 35, 0.03,   -2, -50,  100,  1)),\n",
    "  ('IB',        (150, 1.2,  -75, -45, 50, 0.01,   5, -56,  130,   2)),\n",
    "  ('CH',        (50,  1.5,  -60, -40, 25, 0.03,   1, -40,  150,   3)),\n",
    "  ('LTS',       (100, 1.0,  -56, -42, 40, 0.03,   8, -53,   20,   4)),\n",
    "  ('FS',        (20,  1.0,  -55, -40, 25, 0.2,   -2, -45,  -55,   5)),\n",
    "  ('TC',        (200, 1.6,  -60, -50, 35, 0.01,  15, -60,   10,   6)),\n",
    "  ('TC_burst',  (200, 1.6,  -60, -50, 35, 0.01,  15, -60,   10,   6)),\n",
    "  ('RTN',       (40,  0.25, -65, -45,  0, 0.015, 10, -55,   50,   7)),\n",
    "  ('RTN_burst', (40,  0.25, -65, -45,  0, 0.015, 10, -55,   50,   7))])\n",
    "\n",
    "import numpy as np\n",
    "param_dict = OrderedDict([(k,[]) for k in ['C','k','vr','vt','vPeak','a','b','c','d']])\n",
    "#OrderedDict\n",
    "for i,k in enumerate(param_dict.keys()):\n",
    "    for v in type2007.values():\n",
    "        param_dict[k].append(v[i])\n",
    "\n",
    "explore_param = {k:(np.min(v),np.max(v)) for k,v in param_dict.items()}\n",
    "param_ranges = OrderedDict(explore_param)\n",
    "\n",
    "\n",
    "#IB = mparams[param_dict['IB']]\n",
    "IB = {}\n",
    "TC = {}\n",
    "CH = {}\n",
    "RTN_burst = {}\n",
    "for k,v in param_dict.items():\n",
    "    IB[k] = v[1]\n",
    "    CH[k] = v[2]\n",
    "    TC[k] = v[5]\n",
    "    RTN_burst[k] = v[-2]\n",
    "    \n",
    "RTN_burstN_= copy.copy(RTN_burst)\n",
    "TCN_ = copy.copy(TC)\n",
    "IBN_ = copy.copy(IB)\n",
    "CHN_ = copy.copy(CH)\n",
    "\n",
    "\n",
    "# From OSB models\n",
    "mparams = {}\n",
    "mparams['a'] = 0.03\n",
    "mparams['b'] = -2\n",
    "mparams['C'] = 100\n",
    "mparams['c'] = -50 \n",
    "mparams['vr'] = -60\n",
    "mparams['vt'] = -40\n",
    "mparams['vpeak'] = 35\n",
    "mparams['k'] = 0.7\n",
    "mparams['d'] = 100\n",
    "\n",
    "\n",
    "# FROM the MOD file.\n",
    "vanilla_NRN = {}\n",
    "#vanilla_NRN['v0'] = -60# (mV)\n",
    "vanilla_NRN['k'] = 7.0E-4# (uS / mV)\n",
    "vanilla_NRN['vr'] = -60# (mV)\n",
    "vanilla_NRN['vt'] = -40# (mV)\n",
    "vanilla_NRN['vpeak'] = 35# (mV)\n",
    "vanilla_NRN['a'] = 0.03# (kHz)\n",
    "vanilla_NRN['b'] = -0.002# (uS)\n",
    "vanilla_NRN['c'] = -50# (mV)\n",
    "vanilla_NRN['d'] = 0.1# (nA)\n",
    "vanilla_NRN['C'] = 1.0E-4# (microfarads)\n",
    "\n",
    "m2m = {}\n",
    "\n",
    "for k,v in vanilla_NRN.items():\n",
    "    m2m[k] = vanilla_NRN[k]/mparams[k]\n",
    "\n",
    "\n",
    "def translate(input_dic,m2m):\n",
    "    input_dic['vpeak'] = input_dic['vPeak']\n",
    "    input_dic.pop('vPeak', None)     \n",
    "    input_dic.pop('dt', None)        \n",
    "    for k,v in input_dic.items():\n",
    "        input_dic[k] = v * m2m[k]\n",
    "    return input_dic\n",
    "IBN = translate(IBN_,m2m)\n",
    "RTN_burstN = translate(RTN_burstN_,m2m)\n",
    "CHN = translate(CHN_,m2m)\n",
    "TCN = translate(TCN_,m2m)\n",
    "print(CH)\n",
    "print(CHN)\n",
    "print(IB)\n",
    "print(IBN)\n",
    "print(TC)\n",
    "print(TCN)"
   ]
  },
  {
   "cell_type": "code",
   "execution_count": 3,
   "metadata": {},
   "outputs": [
    {
     "name": "stdout",
     "output_type": "stream",
     "text": [
      "consider installing pynn a heavier backend\n"
     ]
    },
    {
     "name": "stderr",
     "output_type": "stream",
     "text": [
      "INFO       Cache size for target \"cython\": 1084 MB.\n",
      "You can call \"clear_cache('cython')\" to delete all files from the cache or manually delete files in the \"/home/russell/.cython/brian_extensions\" directory. [brian2]\n"
     ]
    },
    {
     "name": "stdout",
     "output_type": "stream",
     "text": [
      "pynn python Error\n",
      "could not import brian2 neuronaldynamicsError\n"
     ]
    }
   ],
   "source": [
    "import numpy as np\n",
    "import time\n",
    "\n",
    "import copy\n",
    "import numpy as np\n",
    "import pandas as pd\n",
    "import matplotlib.pyplot as plt\n",
    "from neuronunit.models import ReducedModel\n",
    "\n",
    "from neuronunit.models.very_reduced_sans_lems import VeryReducedModel\n",
    "from neuronunit.optimisation.model_parameters import path_params\n",
    "from neuronunit.optimisation import model_parameters as modelp\n",
    "\n",
    "#from neuronunit.optimization.model_parameters import model_params, path_params\n",
    "LEMS_MODEL_PATH = path_params['model_path']\n",
    "#import neuronunit.optimization as opt\n",
    "import quantities as pq"
   ]
  },
  {
   "cell_type": "code",
   "execution_count": null,
   "metadata": {},
   "outputs": [],
   "source": [
    "from neuronunit.optimisation import get_neab\n",
    "tests = get_neab.process_all_cells()"
   ]
  },
  {
   "cell_type": "code",
   "execution_count": 4,
   "metadata": {},
   "outputs": [
    {
     "name": "stdout",
     "output_type": "stream",
     "text": [
      "{'injected_square_current': {'amplitude': array(-10.) * pA, 'delay': array(200.) * ms, 'duration': array(500.) * ms}}\n",
      "0.00015\n",
      "0.00015\n",
      "0.00015\n",
      "0.00015\n",
      "0.00015\n"
     ]
    },
    {
     "name": "stderr",
     "output_type": "stream",
     "text": [
      "WARNING    /usr/local/lib/python3.6/dist-packages/numpy-1.18.1-py3.6-linux-x86_64.egg/numpy/core/fromnumeric.py:3335: RuntimeWarning: Mean of empty slice.\n",
      "  out=out, **kwargs)\n",
      " [py.warnings]\n",
      "WARNING:py.warnings:/usr/local/lib/python3.6/dist-packages/numpy-1.18.1-py3.6-linux-x86_64.egg/numpy/core/fromnumeric.py:3335: RuntimeWarning: Mean of empty slice.\n",
      "  out=out, **kwargs)\n",
      "\n",
      "WARNING    /usr/local/lib/python3.6/dist-packages/numpy-1.18.1-py3.6-linux-x86_64.egg/numpy/core/_methods.py:161: RuntimeWarning: invalid value encountered in double_scalars\n",
      "  ret = ret.dtype.type(ret / rcount)\n",
      " [py.warnings]\n",
      "WARNING:py.warnings:/usr/local/lib/python3.6/dist-packages/numpy-1.18.1-py3.6-linux-x86_64.egg/numpy/core/_methods.py:161: RuntimeWarning: invalid value encountered in double_scalars\n",
      "  ret = ret.dtype.type(ret / rcount)\n",
      "\n",
      "WARNING    /usr/local/lib/python3.6/dist-packages/ipykernel/__main__.py:39: UserWarning: Matplotlib is currently using agg, which is a non-GUI backend, so cannot show the figure.\n",
      " [py.warnings]\n",
      "WARNING:py.warnings:/usr/local/lib/python3.6/dist-packages/ipykernel/__main__.py:39: UserWarning: Matplotlib is currently using agg, which is a non-GUI backend, so cannot show the figure.\n",
      "\n"
     ]
    },
    {
     "name": "stdout",
     "output_type": "stream",
     "text": [
      "mean simulation time: nan. Total time: 0.0\n",
      "{'Olfactory bulb (main) mitral cell': <sciunit.suites.TestSuite object at 0x7f6853b5a400>, 'Hippocampus CA1 pyramidal cell': <sciunit.suites.TestSuite object at 0x7f6853b5a4a8>, 'Cerebellum Purkinje cell': <sciunit.suites.TestSuite object at 0x7f6853b5af28>, 'Neocortex pyramidal cell layer 5-6': <sciunit.suites.TestSuite object at 0x7f6853b6c1d0>}\n"
     ]
    },
    {
     "data": {
      "image/png": "[encoded data removed]",
      "text/plain": [
       "<Figure size 432x288 with 1 Axes>"
      ]
     },
     "metadata": {
      "needs_background": "light"
     },
     "output_type": "display_data"
    }
   ],
   "source": [
    "\n",
    "import time\n",
    "times = []\n",
    "times_without_init = []\n",
    "\n",
    "fig = plt.figure()\n",
    "ax = fig.add_subplot(1, 1, 1)\n",
    "waves0 = []\n",
    "#model.set_attrs(mparams)\n",
    "\n",
    "#for current in [60,70,85,100]:\n",
    "iparams = {}\n",
    "iparams['injected_square_current'] = {}\n",
    "iparams['injected_square_current']['amplitude'] = -10.0 * pq.pA\n",
    "DURATION = 500.0*pq.ms\n",
    "DELAY = 200.0*pq.ms\n",
    "iparams['injected_square_current']['delay'] = DELAY#*pq.ms\n",
    "iparams['injected_square_current']['duration'] = DURATION#*pq.ms\n",
    "print(iparams)\n",
    "#model.set_attrs(IBN)\n",
    "#m3 = \n",
    "model = None\n",
    "model = ReducedModel(LEMS_MODEL_PATH,name = str('vanilla'),backend = ('NEURON'))\n",
    "\n",
    "model._backend.set_attrs(IBN)\n",
    "m3 = model.attrs\n",
    "model.inject_square_current(iparams['injected_square_current'])\n",
    "#print(model.get_spike_count())\n",
    "vm = model.get_membrane_potential()\n",
    "plt.plot(vm.times,vm)\n",
    "plt.xlabel(model.get_membrane_potential().times.units)\n",
    "plt.ylabel(list(model.get_membrane_potential())[0].units)\n",
    "\n",
    "#    waves0.append(vm)\n",
    "#print(model.results['sim_time'], 'simulation')\n",
    "#times.append(model.results['sim_time'])\n",
    "print('mean simulation time: {0}. Total time: {1}'.format(np.mean(times),np.sum(times)))\n",
    "two = fig\n",
    "plt.show()\n",
    "print(tests)"
   ]
  },
  {
   "cell_type": "code",
   "execution_count": 5,
   "metadata": {},
   "outputs": [
    {
     "name": "stdout",
     "output_type": "stream",
     "text": [
      "RS_pop[0] { nseg=1  L=10  Ra=35.4\n",
      "\t/*location 0 attached to cell 0*/\n",
      "\t/* First segment only */\n",
      "\tinsert morphology { diam=10}\n",
      "\tinsert capacitance { cm=31.831}\n",
      "\tinsert RS { v0=-75 k=0.0012 vr=-75 vt=-45 vpeak=50 a=0.01 b=0.005 c=-56 d=0.13 C=0.0001}\n",
      "\tinsert RS_Iext { weight=1 delay=200 duration=500 amplitude=-0.01}\n",
      "}\n",
      "\t1 \n",
      "RS_pop[0] { nseg=1  L=10  Ra=35.4\n",
      "\t/*location 0 attached to cell 0*/\n",
      "\t/* First segment only */\n",
      "\tinsert morphology { diam=10}\n",
      "\tinsert capacitance { cm=31.831}\n",
      "\tinsert RS { v0=-75 k=0.0012 vr=-75 vt=-45 vpeak=50 a=0.01 b=0.005 c=-56 d=0.13 C=0.0001}\n",
      "\tinsert RS_Iext { weight=1 delay=200 duration=500 amplitude=-0.01}\n",
      "}\n",
      "\t1 \n"
     ]
    },
    {
     "data": {
      "text/plain": [
       "1"
      ]
     },
     "execution_count": 5,
     "metadata": {},
     "output_type": "execute_result"
    }
   ],
   "source": [
    "model._backend.h('psection()')\n",
    "model._backend.h('psection()')"
   ]
  },
  {
   "cell_type": "code",
   "execution_count": 6,
   "metadata": {},
   "outputs": [
    {
     "name": "stdout",
     "output_type": "stream",
     "text": [
      "0.00015\n",
      "0.00015\n",
      "0.00015\n",
      "0.00015\n",
      "0.00015\n",
      "0.00015\n",
      "0.00015\n",
      "0.00015\n",
      "0.00015\n",
      "0.00015\n",
      "0.00015\n",
      "0.00015\n",
      "0.00015\n",
      "0.00015\n",
      "0.00015\n",
      "0.00015\n",
      "0.00015\n",
      "0.00015\n",
      "0.00015\n",
      "0.00015\n",
      "0.00015\n",
      "0.00015\n",
      "0.00015\n",
      "0.00015\n",
      "0.00015\n",
      "0.00015\n",
      "0.00015\n",
      "0.00015\n",
      "0.00015\n",
      "0.00015\n",
      "0.00015\n",
      "0.00015\n",
      "0.00015\n",
      "0.00015\n",
      "0.00015\n",
      "0.00015\n",
      "0.00015\n",
      "0.00015\n",
      "0.00015\n",
      "0.00015\n",
      "0.00015\n",
      "0.00015\n",
      "0.00015\n",
      "0.00015\n",
      "0.00015\n",
      "0.00015\n",
      "0.00015\n",
      "0.00015\n",
      "0.00015\n",
      "0.00015\n",
      "0.00015\n",
      "0.00015\n",
      "0.00015\n",
      "0.00015\n",
      "0.00015\n",
      "0.00015\n",
      "0.00015\n",
      "0.00015\n",
      "0.00015\n",
      "0.00015\n",
      "0.00015\n",
      "0.00015\n",
      "0.00015\n",
      "0.00015\n",
      "0.00015\n",
      "0.00015\n"
     ]
    },
    {
     "data": {
      "text/html": [
       "Executing test <i>RheobaseTest</i> on model <i>vanilla</i>... "
      ],
      "text/plain": [
       "<IPython.core.display.HTML object>"
      ]
     },
     "metadata": {},
     "output_type": "display_data"
    },
    {
     "name": "stdout",
     "output_type": "stream",
     "text": [
      "0.00015\n",
      "0.00015\n",
      "0.00015\n",
      "0.00015\n",
      "0.00015\n",
      "0.00015\n",
      "0.00015\n",
      "0.00015\n",
      "0.00015\n",
      "0.00015\n",
      "0.00015\n",
      "0.00015\n",
      "0.00015\n",
      "0.00015\n",
      "0.00015\n",
      "0.00015\n",
      "0.00015\n",
      "0.00015\n",
      "0.00015\n",
      "0.00015\n",
      "0.00015\n",
      "0.00015\n",
      "0.00015\n",
      "0.00015\n",
      "0.00015\n",
      "0.00015\n",
      "0.00015\n",
      "0.00015\n",
      "0.00015\n",
      "0.00015\n",
      "0.00015\n",
      "0.00015\n",
      "0.00015\n",
      "0.00015\n",
      "0.00015\n",
      "0.00015\n",
      "0.00015\n",
      "0.00015\n",
      "0.00015\n",
      "0.00015\n",
      "0.00015\n",
      "0.00015\n",
      "0.00015\n",
      "0.00015\n",
      "0.00015\n",
      "0.00015\n",
      "0.00015\n",
      "0.00015\n",
      "0.00015\n",
      "0.00015\n",
      "0.00015\n",
      "0.00015\n",
      "0.00015\n",
      "0.00015\n",
      "0.00015\n",
      "0.00015\n",
      "0.00015\n",
      "0.00015\n",
      "0.00015\n",
      "0.00015\n",
      "0.00015\n",
      "0.00015\n",
      "0.00015\n",
      "0.00015\n"
     ]
    },
    {
     "data": {
      "text/html": [
       "Score is <a style=\"color: rgb(120,197,101)\">Ratio = 1.39</a>\n"
      ],
      "text/plain": [
       "<IPython.core.display.HTML object>"
      ]
     },
     "metadata": {},
     "output_type": "display_data"
    },
    {
     "data": {
      "text/html": [
       "Executing test <i>InputResistanceTest</i> on model <i>vanilla</i>... "
      ],
      "text/plain": [
       "<IPython.core.display.HTML object>"
      ]
     },
     "metadata": {},
     "output_type": "display_data"
    },
    {
     "name": "stdout",
     "output_type": "stream",
     "text": [
      "0.00015\n",
      "0.00015\n"
     ]
    },
    {
     "data": {
      "text/html": [
       "Score is <a style=\"color: rgb(230,78,52)\">Z = 312.01</a>\n"
      ],
      "text/plain": [
       "<IPython.core.display.HTML object>"
      ]
     },
     "metadata": {},
     "output_type": "display_data"
    },
    {
     "data": {
      "text/html": [
       "Executing test <i>TimeConstantTest</i> on model <i>vanilla</i>... "
      ],
      "text/plain": [
       "<IPython.core.display.HTML object>"
      ]
     },
     "metadata": {},
     "output_type": "display_data"
    },
    {
     "name": "stdout",
     "output_type": "stream",
     "text": [
      "0.00015\n",
      "0.00015\n"
     ]
    },
    {
     "name": "stderr",
     "output_type": "stream",
     "text": [
      "WARNING    /home/russell/safe2/neuronunit/neuronunit/tests/passive.py:191: RuntimeWarning: overflow encountered in exp\n",
      "  y[offset:] = ampl * np.exp(-t[offset:]/tau) + y0\n",
      " [py.warnings]\n",
      "WARNING:py.warnings:/home/russell/safe2/neuronunit/neuronunit/tests/passive.py:191: RuntimeWarning: overflow encountered in exp\n",
      "  y[offset:] = ampl * np.exp(-t[offset:]/tau) + y0\n",
      "\n",
      "WARNING    /home/russell/safe2/neuronunit/neuronunit/tests/passive.py:191: RuntimeWarning: overflow encountered in multiply\n",
      "  y[offset:] = ampl * np.exp(-t[offset:]/tau) + y0\n",
      " [py.warnings]\n",
      "WARNING:py.warnings:/home/russell/safe2/neuronunit/neuronunit/tests/passive.py:191: RuntimeWarning: overflow encountered in multiply\n",
      "  y[offset:] = ampl * np.exp(-t[offset:]/tau) + y0\n",
      "\n"
     ]
    },
    {
     "name": "stdout",
     "output_type": "stream",
     "text": [
      "{'value': array(0.00185794) * s}\n",
      "{'mean': array(15.73424242) * ms, 'std': array(7.31162637) * ms, 'n': 33} {'value': array(0.00185794) * s}\n",
      "1.0 ms 1.0 s\n"
     ]
    },
    {
     "data": {
      "text/html": [
       "Score is <a style=\"color: rgb(241,102,63)\">Z = -1.90</a>\n"
      ],
      "text/plain": [
       "<IPython.core.display.HTML object>"
      ]
     },
     "metadata": {},
     "output_type": "display_data"
    },
    {
     "data": {
      "text/html": [
       "Executing test <i>CapacitanceTest</i> on model <i>vanilla</i>... "
      ],
      "text/plain": [
       "<IPython.core.display.HTML object>"
      ]
     },
     "metadata": {},
     "output_type": "display_data"
    },
    {
     "name": "stdout",
     "output_type": "stream",
     "text": [
      "0.00015\n",
      "0.00015\n"
     ]
    },
    {
     "data": {
      "text/html": [
       "Score is <a style=\"color: rgb(254,197,116)\">Z = -1.08</a>\n"
      ],
      "text/plain": [
       "<IPython.core.display.HTML object>"
      ]
     },
     "metadata": {},
     "output_type": "display_data"
    },
    {
     "data": {
      "text/html": [
       "Executing test <i>RestingPotentialTest</i> on model <i>vanilla</i>... "
      ],
      "text/plain": [
       "<IPython.core.display.HTML object>"
      ]
     },
     "metadata": {},
     "output_type": "display_data"
    },
    {
     "name": "stdout",
     "output_type": "stream",
     "text": [
      "0.00015\n",
      "0.00015\n",
      "0.00015\n",
      "0.00015\n",
      "{'mean': array(-68.24814346) * mV, 'std': array(6.53234788) * mV, 'n': 79} {'mean': array(-74.99999933) * V, 'std': array(0.00028721) * V}\n"
     ]
    },
    {
     "data": {
      "text/html": [
       "Score is <a style=\"color: rgb(230,78,52)\">Z = -11470.88</a>\n"
      ],
      "text/plain": [
       "<IPython.core.display.HTML object>"
      ]
     },
     "metadata": {},
     "output_type": "display_data"
    },
    {
     "data": {
      "text/html": [
       "Executing test <i>InjectedCurrentAPWidthTest</i> on model <i>vanilla</i>... "
      ],
      "text/plain": [
       "<IPython.core.display.HTML object>"
      ]
     },
     "metadata": {},
     "output_type": "display_data"
    },
    {
     "name": "stdout",
     "output_type": "stream",
     "text": [
      "{'duration': array(300.) * ms, 'delay': array(100.) * ms, 'amplitude': array(100.) * pA}\n",
      "0.00015\n",
      "0.00015\n",
      "0.00015\n",
      "0.00015\n",
      "0.00015\n",
      "0.00015\n"
     ]
    },
    {
     "data": {
      "text/html": [
       "Score is <a style=\"color: rgb(230,78,52)\">Z = 12.54</a>\n"
      ],
      "text/plain": [
       "<IPython.core.display.HTML object>"
      ]
     },
     "metadata": {},
     "output_type": "display_data"
    },
    {
     "data": {
      "text/html": [
       "Executing test <i>InjectedCurrentAPAmplitudeTest</i> on model <i>vanilla</i>... "
      ],
      "text/plain": [
       "<IPython.core.display.HTML object>"
      ]
     },
     "metadata": {},
     "output_type": "display_data"
    },
    {
     "name": "stdout",
     "output_type": "stream",
     "text": [
      "0.00015\n",
      "0.00015\n",
      "0.00015\n",
      "0.00015\n",
      "0.00015\n",
      "0.00015\n"
     ]
    },
    {
     "data": {
      "text/html": [
       "Score is <a style=\"color: rgb(230,78,52)\">Z = -6.35</a>\n"
      ],
      "text/plain": [
       "<IPython.core.display.HTML object>"
      ]
     },
     "metadata": {},
     "output_type": "display_data"
    },
    {
     "data": {
      "text/html": [
       "Executing test <i>InjectedCurrentAPThresholdTest</i> on model <i>vanilla</i>... "
      ],
      "text/plain": [
       "<IPython.core.display.HTML object>"
      ]
     },
     "metadata": {},
     "output_type": "display_data"
    },
    {
     "name": "stdout",
     "output_type": "stream",
     "text": [
      "0.00015\n",
      "0.00015\n",
      "0.00015\n",
      "0.00015\n",
      "0.00015\n",
      "0.00015\n"
     ]
    },
    {
     "data": {
      "text/html": [
       "Score is <a style=\"color: rgb(230,78,52)\">Z = -9114.88</a>\n"
      ],
      "text/plain": [
       "<IPython.core.display.HTML object>"
      ]
     },
     "metadata": {},
     "output_type": "display_data"
    }
   ],
   "source": [
    "score = tests['Neocortex pyramidal cell layer 5-6'].tests[1].judge(model)\n",
    "score = tests['Neocortex pyramidal cell layer 5-6'].tests[0].judge(model)\n",
    "SA = tests['Neocortex pyramidal cell layer 5-6'].judge(model)\n"
   ]
  },
  {
   "cell_type": "code",
   "execution_count": 7,
   "metadata": {},
   "outputs": [
    {
     "name": "stdout",
     "output_type": "stream",
     "text": [
      "         RheobaseTest InputResistanceTest TimeConstantTest CapacitanceTest  \\\n",
      "vanilla  Ratio = 1.39          Z = 312.01        Z = -1.90       Z = -1.08   \n",
      "\n",
      "        RestingPotentialTest InjectedCurrentAPWidthTest  \\\n",
      "vanilla        Z = -11470.88                  Z = 12.54   \n",
      "\n",
      "        InjectedCurrentAPAmplitudeTest InjectedCurrentAPThresholdTest  \n",
      "vanilla                      Z = -6.35                   Z = -9114.88  \n"
     ]
    }
   ],
   "source": [
    "print(SA)"
   ]
  },
  {
   "cell_type": "code",
   "execution_count": 8,
   "metadata": {
    "collapsed": false,
    "jupyter": {
     "outputs_hidden": false
    }
   },
   "outputs": [],
   "source": [
    "\n",
    "\n",
    "def check_backend(b):\n",
    "    attrs = {k:np.mean(v) for k,v in self.model_parameters.MODEL_PARAMS[b].items()}\n",
    "    pre_model = DataTC()\n",
    "    if str(\"V_REST\") in attrs.keys():\n",
    "        attrs[\"V_REST\"] = -75.0\n",
    "    pre_model.attrs = attrs\n",
    "    pre_model.backend = b\n",
    "    vm,_ = inject_and_plot_model(pre_model.attrs,b)\n",
    "    axs[cnt].plot(vm.times,vm.magnitude)\n",
    "    axs[cnt].set_title(b)\n",
    "    cnt+=1\n",
    "    thresh = threshold_detection(vm,0.0*pq.mV)\n",
    "\n",
    "    if len(thresh)>0 and vm is not None:\n",
    "        boolean = True\n",
    "    else:\n",
    "        boolean = False\n",
    "    self.assertTrue(boolean)\n",
    "    vm,_ = inject_and_plot_passive_model(pre_model.attrs,b)\n",
    "    axs[cnt].plot(vm.times,vm.magnitude)\n",
    "    axs[cnt].set_title(b)\n",
    "    cnt+=1\n",
    "\n",
    "    if len(vm)>0 and vm is not None:\n",
    "        boolean = True\n",
    "    else:\n",
    "        boolean = False\n",
    "    self.assertTrue(boolean)\n"
   ]
  },
  {
   "cell_type": "code",
   "execution_count": 9,
   "metadata": {
    "collapsed": false,
    "jupyter": {
     "outputs_hidden": false
    }
   },
   "outputs": [
    {
     "data": {
      "text/plain": [
       "35"
      ]
     },
     "execution_count": 9,
     "metadata": {},
     "output_type": "execute_result"
    }
   ],
   "source": [
    "\n",
    "\n",
    "\n",
    "\n",
    "\n",
    "\n",
    "# From OSB models\n",
    "mparams = {}\n",
    "mparams['a'] = 0.03\n",
    "mparams['b'] = -2\n",
    "mparams['C'] = 100\n",
    "mparams['c'] = -50 \n",
    "mparams['vr'] = -60\n",
    "mparams['vt'] = -40\n",
    "mparams['vpeak'] = 35\n",
    "mparams['k'] = 0.7\n",
    "mparams['d'] = 100\n",
    "\n",
    "# FROM the MOD file.\n",
    "vanilla_NRN = {}\n",
    "#vanilla_NRN['v0'] = -60# (mV)\n",
    "vanilla_NRN['k'] = 7.0E-4# (uS / mV)\n",
    "vanilla_NRN['vr'] = -60# (mV)\n",
    "vanilla_NRN['vt'] = -40# (mV)\n",
    "vanilla_NRN['vpeak'] = 35# (mV)\n",
    "vanilla_NRN['a'] = 0.03# (kHz)\n",
    "vanilla_NRN['b'] = -0.002# (uS)\n",
    "vanilla_NRN['c'] = -50# (mV)\n",
    "vanilla_NRN['d'] = 0.1# (nA)\n",
    "vanilla_NRN['C'] = 1.0E-4# (microfarads)\n",
    "\n",
    "\n",
    "\n",
    "m2m = {}\n",
    "for k,v in vanilla_NRN.items():\n",
    "    m2m[k] = vanilla_NRN[k]/mparams[k]\n",
    "\n",
    "#print(m2m)\n",
    "mparams['vPeak'] = 35\n",
    "\n",
    "#print(mparams)\n",
    "mparams.pop('vpeak',None)"
   ]
  },
  {
   "cell_type": "markdown",
   "metadata": {},
   "source": [
    "# compile and discard a model, to initialize the JIT\n",
    "and discard, this is to purge a space and make model speed comparison fair.\n"
   ]
  },
  {
   "cell_type": "code",
   "execution_count": 10,
   "metadata": {
    "collapsed": false,
    "jupyter": {
     "outputs_hidden": false
    }
   },
   "outputs": [],
   "source": [
    "model = None\n",
    "model = VeryReducedModel(backend = str('RAW'))\n",
    "model.set_attrs(mparams)\n",
    "iparams = {}\n",
    "iparams['injected_square_current'] = {}\n",
    "iparams['injected_square_current']['amplitude'] = 10*pq.pA\n",
    "#['amplitude']  = dtc.vtest[k]['injected_square_current']['amplitude']\n",
    "DELAY = 0# 100.0*pq.ms\n",
    "DURATION = 520*pq.ms\n",
    "iparams['injected_square_current']['delay'] = DELAY\n",
    "iparams['injected_square_current']['duration'] = int(DURATION)\n",
    "\n",
    "model.inject_square_current(iparams)\n",
    "model = None"
   ]
  },
  {
   "cell_type": "markdown",
   "metadata": {},
   "source": [
    "# Vanilla parameters model to model check (succeeds).\n",
    "# RAW is significantly faster"
   ]
  },
  {
   "cell_type": "code",
   "execution_count": 11,
   "metadata": {
    "collapsed": false,
    "jupyter": {
     "outputs_hidden": false
    }
   },
   "outputs": [
    {
     "name": "stderr",
     "output_type": "stream",
     "text": [
      "WARNING    /usr/local/lib/python3.6/dist-packages/numpy-1.18.1-py3.6-linux-x86_64.egg/numpy/core/fromnumeric.py:3335: RuntimeWarning: Mean of empty slice.\n",
      "  out=out, **kwargs)\n",
      " [py.warnings]\n",
      "WARNING:py.warnings:/usr/local/lib/python3.6/dist-packages/numpy-1.18.1-py3.6-linux-x86_64.egg/numpy/core/fromnumeric.py:3335: RuntimeWarning: Mean of empty slice.\n",
      "  out=out, **kwargs)\n",
      "\n",
      "WARNING    /usr/local/lib/python3.6/dist-packages/numpy-1.18.1-py3.6-linux-x86_64.egg/numpy/core/_methods.py:161: RuntimeWarning: invalid value encountered in double_scalars\n",
      "  ret = ret.dtype.type(ret / rcount)\n",
      " [py.warnings]\n",
      "WARNING:py.warnings:/usr/local/lib/python3.6/dist-packages/numpy-1.18.1-py3.6-linux-x86_64.egg/numpy/core/_methods.py:161: RuntimeWarning: invalid value encountered in double_scalars\n",
      "  ret = ret.dtype.type(ret / rcount)\n",
      "\n"
     ]
    },
    {
     "name": "stdout",
     "output_type": "stream",
     "text": [
      "mean simulation time: nan. Total time: 0.0\n"
     ]
    }
   ],
   "source": [
    "times = []\n",
    "\n",
    "for current in [60,70,85,100]:\n",
    "    # compile a model and discard\n",
    "\n",
    "    model = None\n",
    "    model = VeryReducedModel(backend = str('RAW'))\n",
    "\n",
    "    #model = ReducedModel(LEMS_MODEL_PATH,name = str('vanilla'),backend = ('RAW'))\n",
    "    model.set_attrs(mparams)\n",
    "    iparams = {}\n",
    "    iparams['injected_square_current'] = {}\n",
    "    iparams['injected_square_current']['amplitude'] = current*pq.pA\n",
    "    #['amplitude']  = dtc.vtest[k]['injected_square_current']['amplitude']\n",
    "    DELAY = 0# 100.0*pq.ms\n",
    "    DURATION = 520*pq.ms\n",
    "    iparams['injected_square_current']['delay'] = DELAY\n",
    "    iparams['injected_square_current']['duration'] = int(DURATION)\n",
    "\n",
    "    model.inject_square_current(iparams)\n",
    "    #print(model.get_spike_count())\n",
    "    #plt.plot(model.results['vm'].times,model.results['vm'])\n",
    "    \n",
    "    #times.append(model.results['sim_time'])\n",
    "print('mean simulation time: {0}. Total time: {1}'.format(np.mean(times),np.sum(times)))\n",
    "\n"
   ]
  },
  {
   "cell_type": "code",
   "execution_count": 12,
   "metadata": {
    "collapsed": false,
    "jupyter": {
     "outputs_hidden": false
    }
   },
   "outputs": [],
   "source": [
    "#dt = model.results['vm'].times[1] - model.results['vm'].times[0]\n",
    "#print(dt)"
   ]
  },
  {
   "cell_type": "code",
   "execution_count": 13,
   "metadata": {
    "collapsed": false,
    "jupyter": {
     "outputs_hidden": false
    }
   },
   "outputs": [
    {
     "ename": "AssertionError",
     "evalue": "",
     "output_type": "error",
     "traceback": [
      "\u001b[0;31m---------------------------------------------------------------------------\u001b[0m",
      "\u001b[0;31mAssertionError\u001b[0m                            Traceback (most recent call last)",
      "\u001b[0;32m<ipython-input-13-89f10905c323>\u001b[0m in \u001b[0;36m<module>\u001b[0;34m\u001b[0m\n\u001b[1;32m      4\u001b[0m \u001b[0;32mfor\u001b[0m \u001b[0mi\u001b[0m\u001b[0;34m,\u001b[0m\u001b[0msim_time\u001b[0m \u001b[0;32min\u001b[0m \u001b[0menumerate\u001b[0m\u001b[0;34m(\u001b[0m\u001b[0msim_times\u001b[0m\u001b[0;34m)\u001b[0m\u001b[0;34m:\u001b[0m\u001b[0;34m\u001b[0m\u001b[0;34m\u001b[0m\u001b[0m\n\u001b[1;32m      5\u001b[0m     \u001b[0mmodel\u001b[0m \u001b[0;34m=\u001b[0m \u001b[0mReducedModel\u001b[0m\u001b[0;34m(\u001b[0m\u001b[0mLEMS_MODEL_PATH\u001b[0m\u001b[0;34m,\u001b[0m\u001b[0mname\u001b[0m\u001b[0;34m=\u001b[0m\u001b[0mstr\u001b[0m\u001b[0;34m(\u001b[0m\u001b[0;34m'vanilla'\u001b[0m\u001b[0;34m)\u001b[0m\u001b[0;34m,\u001b[0m\u001b[0mbackend\u001b[0m\u001b[0;34m=\u001b[0m\u001b[0;34m'NEURON'\u001b[0m\u001b[0;34m)\u001b[0m\u001b[0;34m\u001b[0m\u001b[0;34m\u001b[0m\u001b[0m\n\u001b[0;32m----> 6\u001b[0;31m     \u001b[0mmodel\u001b[0m\u001b[0;34m.\u001b[0m\u001b[0minject_square_current\u001b[0m\u001b[0;34m(\u001b[0m\u001b[0;34m{\u001b[0m\u001b[0;34m'amplitude'\u001b[0m\u001b[0;34m:\u001b[0m\u001b[0;36m200\u001b[0m\u001b[0;34m*\u001b[0m\u001b[0mpq\u001b[0m\u001b[0;34m.\u001b[0m\u001b[0mpA\u001b[0m\u001b[0;34m,\u001b[0m \u001b[0;34m'duration'\u001b[0m\u001b[0;34m:\u001b[0m\u001b[0msim_time\u001b[0m\u001b[0;34m/\u001b[0m\u001b[0;36m2\u001b[0m\u001b[0;34m,\u001b[0m \u001b[0;34m'delay'\u001b[0m\u001b[0;34m:\u001b[0m\u001b[0;36m100\u001b[0m\u001b[0;34m*\u001b[0m\u001b[0mpq\u001b[0m\u001b[0;34m.\u001b[0m\u001b[0mms\u001b[0m\u001b[0;34m}\u001b[0m\u001b[0;34m)\u001b[0m\u001b[0;34m\u001b[0m\u001b[0;34m\u001b[0m\u001b[0m\n\u001b[0m\u001b[1;32m      7\u001b[0m     \u001b[0mmodel\u001b[0m\u001b[0;34m.\u001b[0m\u001b[0m_backend\u001b[0m\u001b[0;34m.\u001b[0m\u001b[0mset_stop_time\u001b[0m\u001b[0;34m(\u001b[0m\u001b[0msim_time\u001b[0m\u001b[0;34m)\u001b[0m\u001b[0;34m\u001b[0m\u001b[0;34m\u001b[0m\u001b[0m\n\u001b[1;32m      8\u001b[0m     \u001b[0mmodel\u001b[0m\u001b[0;34m.\u001b[0m\u001b[0m_backend\u001b[0m\u001b[0;34m.\u001b[0m\u001b[0mset_time_step\u001b[0m\u001b[0;34m(\u001b[0m\u001b[0;36m0.025\u001b[0m\u001b[0;34m*\u001b[0m\u001b[0mpq\u001b[0m\u001b[0;34m.\u001b[0m\u001b[0mms\u001b[0m\u001b[0;34m)\u001b[0m\u001b[0;34m\u001b[0m\u001b[0;34m\u001b[0m\u001b[0m\n",
      "\u001b[0;32m~/safe2/neuronunit/neuronunit/models/reduced.py\u001b[0m in \u001b[0;36minject_square_current\u001b[0;34m(self, current)\u001b[0m\n\u001b[1;32m     70\u001b[0m                    ['amplitude', 'delay', 'duration'])\n\u001b[1;32m     71\u001b[0m         \u001b[0mself\u001b[0m\u001b[0;34m.\u001b[0m\u001b[0mset_run_params\u001b[0m\u001b[0;34m(\u001b[0m\u001b[0minjected_square_current\u001b[0m\u001b[0;34m=\u001b[0m\u001b[0mcurrent\u001b[0m\u001b[0;34m)\u001b[0m\u001b[0;34m\u001b[0m\u001b[0;34m\u001b[0m\u001b[0m\n\u001b[0;32m---> 72\u001b[0;31m         \u001b[0mself\u001b[0m\u001b[0;34m.\u001b[0m\u001b[0m_backend\u001b[0m\u001b[0;34m.\u001b[0m\u001b[0minject_square_current\u001b[0m\u001b[0;34m(\u001b[0m\u001b[0mcurrent\u001b[0m\u001b[0;34m)\u001b[0m\u001b[0;34m\u001b[0m\u001b[0;34m\u001b[0m\u001b[0m\n\u001b[0m\u001b[1;32m     73\u001b[0m \u001b[0;34m\u001b[0m\u001b[0m\n\u001b[1;32m     74\u001b[0m \u001b[0;34m\u001b[0m\u001b[0m\n",
      "\u001b[0;32m~/safe2/neuronunit/neuronunit/models/backends/neuron.py\u001b[0m in \u001b[0;36minject_square_current\u001b[0;34m(self, current, section, debug)\u001b[0m\n\u001b[1;32m    415\u001b[0m         \u001b[0;31m# These lines are crucial.\u001b[0m\u001b[0;34m\u001b[0m\u001b[0;34m\u001b[0m\u001b[0;34m\u001b[0m\u001b[0m\n\u001b[1;32m    416\u001b[0m         \u001b[0;32massert\u001b[0m \u001b[0mlen\u001b[0m\u001b[0;34m(\u001b[0m\u001b[0mself\u001b[0m\u001b[0;34m.\u001b[0m\u001b[0mmodel\u001b[0m\u001b[0;34m.\u001b[0m\u001b[0mattrs\u001b[0m\u001b[0;34m)\u001b[0m\u001b[0;34m\u001b[0m\u001b[0;34m\u001b[0m\u001b[0m\n\u001b[0;32m--> 417\u001b[0;31m \u001b[0;34m\u001b[0m\u001b[0m\n\u001b[0m\u001b[1;32m    418\u001b[0m         \u001b[0mtemp_attrs\u001b[0m \u001b[0;34m=\u001b[0m \u001b[0mcopy\u001b[0m\u001b[0;34m.\u001b[0m\u001b[0mcopy\u001b[0m\u001b[0;34m(\u001b[0m\u001b[0mself\u001b[0m\u001b[0;34m.\u001b[0m\u001b[0mmodel\u001b[0m\u001b[0;34m.\u001b[0m\u001b[0mattrs\u001b[0m\u001b[0;34m)\u001b[0m\u001b[0;34m\u001b[0m\u001b[0;34m\u001b[0m\u001b[0m\n\u001b[1;32m    419\u001b[0m         \u001b[0;32massert\u001b[0m \u001b[0mlen\u001b[0m\u001b[0;34m(\u001b[0m\u001b[0mtemp_attrs\u001b[0m\u001b[0;34m)\u001b[0m\u001b[0;34m\u001b[0m\u001b[0;34m\u001b[0m\u001b[0m\n",
      "\u001b[0;31mAssertionError\u001b[0m: "
     ]
    }
   ],
   "source": [
    "import time\n",
    "sim_times = np.logspace(-3,0,10)*pq.s\n",
    "wall_times = np.zeros(len(sim_times))\n",
    "for i,sim_time in enumerate(sim_times):\n",
    "    model = ReducedModel(LEMS_MODEL_PATH,name=str('vanilla'),backend='NEURON')\n",
    "    model.inject_square_current({'amplitude':200*pq.pA, 'duration':sim_time/2, 'delay':100*pq.ms})\n",
    "    model._backend.set_stop_time(sim_time)\n",
    "    model._backend.set_time_step(0.025*pq.ms)\n",
    "    start = time.time()\n",
    "    result = model._backend.local_run()\n",
    "    finish = time.time()\n",
    "    wall_times[i] = finish - start\n",
    "    print(\"Sim time of %.2g s took %.2g\" % (sim_time,wall_times[i]))\n",
    "plt.plot(sim_times,wall_times,'-o',label='NEURON')\n",
    "plt.plot(sim_times,sim_times,'--',label='Real-time')\n",
    "plt.xlabel('Simulation time')\n",
    "plt.ylabel('Wall time')\n",
    "plt.xscale('log')\n",
    "plt.yscale('log')\n",
    "plt.legend()\n",
    "plt.plot();"
   ]
  },
  {
   "cell_type": "code",
   "execution_count": null,
   "metadata": {
    "collapsed": false,
    "jupyter": {
     "outputs_hidden": false
    }
   },
   "outputs": [],
   "source": [
    "import time\n",
    "#print(mparams)\n",
    "sim_times = np.logspace(-3,0,10)*pq.s\n",
    "wall_times = np.zeros(len(sim_times))\n",
    "for i,sim_time in enumerate(sim_times):\n",
    "    model = VeryReducedModel(backend=str('RAW'))\n",
    "    model.set_attrs(mparams)\n",
    "    model.inject_square_current({'amplitude':200*pq.pA, 'duration':sim_time/2, 'delay':100*pq.ms})\n",
    "    model._backend.set_stop_time(sim_time)\n",
    "    #model._backend.set_time_step(0.025*pq.ms)\n",
    "    start = time.time()\n",
    "    #result = model._backend.local_run()\n",
    "    finish = time.time()\n",
    "    wall_times[i] = finish - start\n",
    "    #print(\"Sim time of %.2g s took %.2g\" % (sim_time,wall_times[i]))\n",
    "plt.plot(sim_times,wall_times,'-o',label='RAW python')\n",
    "plt.plot(sim_times,sim_times,'--',label='Real-time')\n",
    "plt.xlabel('Simulation time')\n",
    "plt.ylabel('Wall time')\n",
    "plt.xscale('log')\n",
    "plt.yscale('log')\n",
    "plt.legend()\n",
    "plt.plot();"
   ]
  },
  {
   "cell_type": "code",
   "execution_count": null,
   "metadata": {
    "collapsed": false,
    "jupyter": {
     "outputs_hidden": false
    }
   },
   "outputs": [],
   "source": [
    "\n",
    "try:\n",
    "    mparams['vPeak'] = mparams['vpeak']  \n",
    "    mparams.pop('vpeak',None)\n",
    "except:\n",
    "    pass\n",
    "#plt.clf()\n",
    "fig = plt.figure()\n",
    "ax = fig.add_subplot(1, 1, 1)\n",
    "waves1 = []\n",
    "for current in [60,70,85,100]:\n",
    "    iparams = {}\n",
    "    iparams['injected_square_current'] = {}\n",
    "    iparams['injected_square_current']['amplitude'] = current*pq.pA\n",
    "    DELAY = 0# 100.0*pq.ms\n",
    "    DURATION = 520\n",
    "    iparams['injected_square_current']['delay'] = DELAY*pq.ms\n",
    "    iparams['injected_square_current']['duration'] = DURATION*pq.ms\n",
    "    #print(iparams)\n",
    "    model = None\n",
    "    model = VeryReducedModel(backend = ('RAW'))\n",
    "    model.attrs  = mparams\n",
    "    m2 = model.attrs\n",
    "\n",
    "    model.inject_square_current(iparams['injected_square_current'])\n",
    "    t1 = model.get_membrane_potential().times\n",
    "    vm1 = model.get_membrane_potential()\n",
    "    waves1.append(vm1)\n",
    "    plt.plot(t1,vm1)\n",
    "\n",
    "\n",
    "    plt.xlabel(vm1.times.units)\n",
    "    plt.ylabel(list(vm1)[0].units)\n",
    "\n",
    "    start = time.time()\n",
    "    #model._backend.h('run()')\n",
    "    stop = time.time()\n",
    "    finish = stop-start\n",
    "    #print(finish,'finish')\n",
    "    #times_without_init.append(finish)\n",
    "#print('without init NEURON simulation time: {0}. Total time: {1}'.format(np.mean(times_without_init),np.sum(times_without_init)))\n",
    "one = fig\n",
    "#one.show()"
   ]
  },
  {
   "cell_type": "code",
   "execution_count": null,
   "metadata": {
    "collapsed": false,
    "jupyter": {
     "outputs_hidden": false
    }
   },
   "outputs": [],
   "source": [
    "\n",
    "import time\n",
    "times = []\n",
    "times_without_init = []\n",
    "\n",
    "fig = plt.figure()\n",
    "ax = fig.add_subplot(1, 1, 1)\n",
    "model = ReducedModel(LEMS_MODEL_PATH,name = str('vanilla'),backend = ('NEURON'))\n",
    "waves0 = []\n",
    "#model.set_attrs(mparams)\n",
    "for current in [60,70,85,100]:\n",
    "    iparams = {}\n",
    "    iparams['injected_square_current'] = {}\n",
    "    iparams['injected_square_current']['amplitude'] = current*pq.pA\n",
    "    DELAY = 0# 100.0*pq.ms\n",
    "    DURATION = 520\n",
    "    iparams['injected_square_current']['delay'] = DELAY*pq.ms\n",
    "    iparams['injected_square_current']['duration'] = DURATION*pq.ms\n",
    "    print(iparams)\n",
    "\n",
    "    model.inject_square_current(iparams['injected_square_current'])\n",
    "    m3 = model.attrs\n",
    "    #print(model.get_spike_count())\n",
    "    vm = model.get_membrane_potential()\n",
    "    plt.plot(vm.times,vm)\n",
    "    plt.xlabel(model.get_membrane_potential().times.units)\n",
    "    plt.ylabel(list(model.get_membrane_potential())[0].units)\n",
    "\n",
    "\n",
    "    waves0.append(vm)\n",
    "    #print(model.results['sim_time'], 'simulation')\n",
    "    #times.append(model.results['sim_time'])\n",
    "print('mean simulation time: {0}. Total time: {1}'.format(np.mean(times),np.sum(times)))\n",
    "two = fig\n"
   ]
  },
  {
   "cell_type": "code",
   "execution_count": null,
   "metadata": {},
   "outputs": [],
   "source": [
    "print(m2,m3)\n",
    "print(m2)\n",
    "print(m3)"
   ]
  },
  {
   "cell_type": "code",
   "execution_count": null,
   "metadata": {},
   "outputs": [],
   "source": [
    "#one.axes.show()\n",
    "#dir(one)\n",
    "%matplotlib inline  \n",
    "\n",
    "one.show()\n",
    "%matplotlib inline  \n",
    "\n",
    "two.show()\n"
   ]
  },
  {
   "cell_type": "code",
   "execution_count": null,
   "metadata": {},
   "outputs": [],
   "source": [
    "%matplotlib inline  \n",
    "\n",
    "import quantities as qt\n",
    "#waves0 = [i.rescale(qt.mV) for i in waves0 ]\n",
    "for index,j in enumerate(waves0):#,waves1):\n",
    "    plt.clf()\n",
    "    i = waves1[index]\n",
    "    plt.plot(i.times,i.magnitude)\n",
    "    plt.plot(j.times,j.magnitude)\n",
    "    plt.show()\n",
    "    new = []\n",
    "    for x,y in zip(i.magnitude,j.magnitude):\n",
    "        new.append(x-y)\n",
    "    plt.plot([i for i in range(0,len(new))],new)\n",
    "    plt.title('difference')\n",
    "    plt.show()\n",
    "        #assert x-y == 0\n",
    "    #try:\n",
    "    #    assert set([float(x) for x in i]) in set([float(x) for x in j])\n",
    "    #except:\n",
    "    #    print(failure)\n",
    "    \n",
    "print(len(waves0[0]))\n",
    "len(waves1[0])    "
   ]
  },
  {
   "cell_type": "markdown",
   "metadata": {},
   "source": [
    "\n",
    "NEURON units                                           NeuroML units   \n",
    "\n",
    "v0 = -60 (mV),  vr = -60 (mV) ,                        mparams['vr'] = -60\n",
    "\n",
    "k = 7.0E-4 (uS / mV),                                  mparams['k'] = 0.7                ***different\n",
    "\n",
    "vt = -40 (mV)\n",
    "\n",
    "vpeak = 35 (mV)                 mparams['vPeak'] = 35\n",
    "\n",
    "a = 0.030000001 (kHz) [ms-1],   mparams['a'] = 0.03\n",
    "\n",
    "b = -0.002 (uS),                mparams['b'] = -2\n",
    "\n",
    "c = -50 (mV),                   mparams['c'] = -50  \n",
    "\n",
    "d = 0.1 (nA) --MATLAB pA        mparams['d'] = 100  ******** pA\n",
    "\n",
    "C = 1.0E-4 (microfarads)        mparams['C'] = 100 ******** co faraday)"
   ]
  },
  {
   "cell_type": "code",
   "execution_count": null,
   "metadata": {
    "collapsed": false,
    "jupyter": {
     "outputs_hidden": false
    }
   },
   "outputs": [],
   "source": []
  },
  {
   "cell_type": "markdown",
   "metadata": {},
   "source": [
    "The following cells follow the Backend pattern RAW, NEURON, RAW, NEURON."
   ]
  },
  {
   "cell_type": "code",
   "execution_count": null,
   "metadata": {
    "collapsed": false,
    "jupyter": {
     "outputs_hidden": false
    }
   },
   "outputs": [],
   "source": [
    "tstop = 100*pq.ms\n",
    "IinRange = [73.2,100,200,400]\n",
    "#IinRange = [73.2,100,200,400]\n",
    "\n",
    "\n",
    "#print(FS)\n",
    "times = []\n",
    "vms0 = []\n",
    "for current in IinRange:\n",
    "    iparams = {}\n",
    "    iparams['injected_square_current'] = {}\n",
    "    iparams['injected_square_current']['amplitude'] = current*pq.pA\n",
    "    #['amplitude']  = dtc.vtest[k]['injected_square_current']['amplitude']\n",
    "    DELAY = 0\n",
    "    #DURATION = tstop*pq.ms\n",
    "    iparams['injected_square_current']['delay'] = 0\n",
    "    iparams['injected_square_current']['duration'] = 100*pq.ms\n",
    "    model = None\n",
    "    model = VeryReducedModel(backend = ('RAW'))\n",
    "    model.attrs = {}\n",
    "    #TC['C'] = 199\n",
    "    model.attrs.update(TC)\n",
    "    model._backend.set_attrs(**TC)\n",
    "    model.attrs=TC\n",
    "\n",
    "    model.inject_square_current(iparams)\n",
    "    #print(model.get_spike_count())\n",
    "    vm = model.get_membrane_potential()\n",
    "    vms0.append(vm)\n",
    "    plt.plot(model.get_membrane_potential().times,vm.magnitude)\n",
    "    plt.xlabel(model.get_membrane_potential().times.units)\n",
    "    plt.ylabel(list(model.get_membrane_potential())[0].units)\n",
    "\n",
    "    #print(model.results['sim_time'], 'simulation')\n",
    "    #times.append(model.results['sim_time'])\n",
    "print('mean simulation time: {0}. Total time: {1}'.format(np.mean(times),np.sum(times)))    \n",
    "print(model.attrs)"
   ]
  },
  {
   "cell_type": "code",
   "execution_count": null,
   "metadata": {
    "collapsed": false,
    "jupyter": {
     "outputs_hidden": false
    }
   },
   "outputs": [],
   "source": [
    "import io\n",
    "tstop = 100*pq.ms\n",
    "IinRange = [73.2,100,200,400]\n",
    "\n",
    "\n",
    "times = []\n",
    "vms1 = []\n",
    "\n",
    "for current in IinRange:\n",
    "    model = None\n",
    "    model = ReducedModel(LEMS_MODEL_PATH,name = str('vanilla'),backend = ('NEURON'))\n",
    "\n",
    "    #model.attrs = {}\n",
    "    #model.attrs.update(TCN)\n",
    "    model._backend.set_attrs(TCN)\n",
    "    \n",
    "\n",
    "    iparams = {}\n",
    "    iparams['injected_square_current'] = {}\n",
    "    iparams['injected_square_current']['amplitude'] = current*pq.pA\n",
    "\n",
    "    iparams['injected_square_current']['delay'] = 0*pq.ms\n",
    "    iparams['injected_square_current']['duration'] = 100*pq.ms\n",
    "    #with redirect_stdout(io.StringIO()):\n",
    "    model.inject_square_current(iparams['injected_square_current'])\n",
    "    #print(model.get_spike_count())\n",
    "    vm = model.get_membrane_potential()\n",
    "    vms1.append(vm)\n",
    "    plt.plot(model.get_membrane_potential().times,model.get_membrane_potential())\n",
    "    plt.xlabel(model.get_membrane_potential().times.units)\n",
    "    plt.ylabel(list(model.get_membrane_potential())[0].units)\n",
    "\n",
    "    #print(model.results['sim_time'], 'simulation')\n",
    "    #times.append(model.results['sim_time'])\n",
    "print('mean simulation time: {0}. Total time: {1}'.format(np.mean(times),np.sum(times)))   \n",
    "#plt.plot(model.results['vm'].times,model.results['vm'])\n"
   ]
  },
  {
   "cell_type": "code",
   "execution_count": null,
   "metadata": {},
   "outputs": [],
   "source": [
    "    \n",
    "print(model.attrs)"
   ]
  },
  {
   "cell_type": "code",
   "execution_count": null,
   "metadata": {},
   "outputs": [],
   "source": [
    "print(m3,m2)\n",
    "print(TCN)\n",
    "model._backend.h('psection()')"
   ]
  },
  {
   "cell_type": "code",
   "execution_count": null,
   "metadata": {},
   "outputs": [],
   "source": [
    "plt.clf()\n",
    "plt.plot(vms1[0].times,vms1[0].magnitude)\n",
    "plt.show()\n",
    "plt.clf()\n",
    "\n",
    "plt.plot(vms0[0].times,vms0[0].magnitude)\n",
    "plt.show()\n",
    "\n",
    "\n",
    "plt.clf()\n",
    "plt.plot(vms1[1].times,vms1[1].magnitude)\n",
    "plt.show()\n",
    "plt.clf()\n",
    "\n",
    "plt.plot(vms0[1].times,vms0[1].magnitude)\n",
    "plt.show()\n",
    "\n",
    "plt.clf()\n",
    "plt.plot(vms1[2].times,vms1[2].magnitude)\n",
    "plt.show()\n",
    "plt.clf()\n",
    "\n",
    "plt.plot(vms0[2].times,vms0[2].magnitude)\n",
    "plt.show()\n"
   ]
  },
  {
   "cell_type": "code",
   "execution_count": null,
   "metadata": {},
   "outputs": [],
   "source": []
  },
  {
   "cell_type": "code",
   "execution_count": null,
   "metadata": {},
   "outputs": [],
   "source": []
  },
  {
   "cell_type": "code",
   "execution_count": null,
   "metadata": {},
   "outputs": [],
   "source": [
    "  # CH\n",
    "tstop = 210\n",
    "IinRange = [200,300,400,600]\n",
    "for k,v in TCN.items():\n",
    "    try:\n",
    "        print(k,v,TC[k])\n",
    "    except:\n",
    "        print(k,v,TC['vPeak'])\n"
   ]
  },
  {
   "cell_type": "code",
   "execution_count": null,
   "metadata": {
    "collapsed": false,
    "jupyter": {
     "outputs_hidden": false
    }
   },
   "outputs": [],
   "source": [
    "IinRange = [30,50,90]\n",
    "tstop=720\n",
    "print(RTN_burst)\n",
    "model = VeryReducedModel(backend = ('RAW'))\n",
    "model.attrs = RTN_burst\n",
    "print(RTN_burst)\n",
    "times = []\n",
    "for current in IinRange:\n",
    "    iparams = {}\n",
    "    iparams['injected_square_current'] = {}\n",
    "    iparams['injected_square_current']['amplitude'] = current*pq.pA\n",
    "    #['amplitude']  = dtc.vtest[k]['injected_square_current']['amplitude']\n",
    "    DELAY = 0\n",
    "    #DURATION = tstop*pq.ms\n",
    "    iparams['injected_square_current']['delay'] = 0\n",
    "    iparams['injected_square_current']['duration'] = tstop*pq.ms\n",
    "\n",
    "    model.inject_square_current(iparams['injected_square_current'])\n",
    "    print(model.get_spike_count())\n",
    "    plt.plot(model.get_membrane_potential().times,model.get_membrane_potential())\n",
    "    #times.append(model.results['sim_time'])\n",
    "\n",
    "    #print(model.results['sim_time'], 'simulation')    "
   ]
  },
  {
   "cell_type": "code",
   "execution_count": null,
   "metadata": {},
   "outputs": [],
   "source": [
    "IinRange = [30,50,90]\n",
    "tstop=720\n",
    "RTN_burst.pop(\"Iext\",None)\n",
    "RTN_burst.pop(\"dt\",None)\n",
    "try:\n",
    "   RTN_burst['vpeak'] = RTN_burst[\"vPeak\"]\n",
    "   RTN_burst.pop(\"vPeak\",None)\n",
    "except:\n",
    "    pass\n",
    "print(RTN_burst)\n",
    "model = ReducedModel(LEMS_MODEL_PATH,name = str('vanilla'),backend = ('NEURON'))\n",
    "#model.attrs = RTN_burst\n",
    "#model.attrs = RTN_burstrs\n",
    "#model.attrs.update(RTN_burst)\n",
    "#model.set_attrs(**RTN_burst)\n",
    "model._backend.set_attrs(RTN_burst)\n",
    "\n",
    "print(RTN_burst)\n",
    "times = []\n",
    "for current in IinRange:\n",
    "    iparams = {}\n",
    "    iparams['injected_square_current'] = {}\n",
    "    iparams['injected_square_current']['amplitude'] = current*pq.pA\n",
    "    #['amplitude']  = dtc.vtest[k]['injected_square_current']['amplitude']\n",
    "    DELAY = 0\n",
    "    #DURATION = tstop*pq.ms\n",
    "    iparams['injected_square_current']['delay'] = 0*pq.ms\n",
    "    iparams['injected_square_current']['duration'] = tstop*pq.ms\n",
    "\n",
    "    model.inject_square_current(iparams['injected_square_current'])\n",
    "    print(model.get_spike_count())\n",
    "    plt.plot(model.get_membrane_potential().times,model.get_membrane_potential())\n",
    "    #times.append(model.results['sim_time'])\n",
    "\n",
    "    #print(model.results['sim_time'], 'simulation')    \n",
    "model.attrs.update(RTN_burst)    "
   ]
  },
  {
   "cell_type": "code",
   "execution_count": null,
   "metadata": {},
   "outputs": [],
   "source": [
    "\n",
    "model._backend.h('psection()')\n",
    "#model._backend.h('RS_pop[0]')\n",
    "model._backend.h('psection()')\n"
   ]
  },
  {
   "cell_type": "code",
   "execution_count": null,
   "metadata": {
    "collapsed": false,
    "jupyter": {
     "outputs_hidden": false
    }
   },
   "outputs": [],
   "source": [
    "tstop = 210\n",
    "IinRange = [290,370,500,550]\n",
    "model = ReducedModel(LEMS_MODEL_PATH,name = str('vanilla'),backend = ('RAW'))\n",
    "model.attrs = CH\n",
    "model.attrs.update(CH)\n",
    "model._backend.set_attrs(CH)\n",
    "times = []\n",
    "for current in IinRange:\n",
    "    iparams = {}\n",
    "    iparams['injected_square_current'] = {}\n",
    "    iparams['injected_square_current']['amplitude'] = current*pq.pA\n",
    "    #['amplitude']  = dtc.vtest[k]['injected_square_current']['amplitude']\n",
    "    DELAY = 0\n",
    "    DURATION = tstop*pq.ms\n",
    "    iparams['injected_square_current']['delay'] = DELAY\n",
    "    iparams['injected_square_current']['duration'] = int(DURATION)\n",
    "\n",
    "    model.inject_square_current(iparams['injected_square_current'])\n",
    "    #print(model.get_spike_count())\n",
    "    plt.plot(model.get_membrane_potential().times,model.get_membrane_potential())\n",
    "    #times.append(model.results['sim_time'])\n",
    "\n",
    "print('mean simulation time: {0}. Total time: {1}'.format(np.mean(times),np.sum(times)))    \n",
    "    "
   ]
  },
  {
   "cell_type": "code",
   "execution_count": null,
   "metadata": {
    "collapsed": false,
    "jupyter": {
     "outputs_hidden": false
    }
   },
   "outputs": [],
   "source": [
    "tstop = 210\n",
    "IinRange = [290,370,500,550]\n",
    "\n",
    "for current in IinRange:\n",
    "\n",
    "    iparams = {}\n",
    "    iparams['injected_square_current'] = {}\n",
    "    iparams['injected_square_current']['amplitude'] = current*pq.pA\n",
    "    #['amplitude']  = dtc.vtest[k]['injected_square_current']['amplitude']\n",
    "    DELAY = 0*pq.ms\n",
    "    DURATION = tstop*pq.ms\n",
    "    iparams['injected_square_current']['delay'] = DELAY\n",
    "    iparams['injected_square_current']['duration'] = DURATION\n",
    "    model = None\n",
    "    model = ReducedModel(LEMS_MODEL_PATH,name = str('vanilla'),backend = ('NEURON'))\n",
    "    model.attrs = CHN\n",
    "    model.attrs.update(CHN)\n",
    "    model._backend.set_attrs(CHN)\n",
    "\n",
    "    model.inject_square_current(iparams['injected_square_current'])\n",
    "    #print(model.get_spike_count())\n",
    "    plt.plot(model.get_membrane_potential().times,model.get_membrane_potential())\n",
    "    #print(model.results['sim_time'], 'simulation')    \n",
    "print('mean simulation time: {0}. Total time: {1}'.format(np.mean(times),np.sum(times)))    \n",
    "    "
   ]
  },
  {
   "cell_type": "code",
   "execution_count": null,
   "metadata": {
    "collapsed": false,
    "jupyter": {
     "outputs_hidden": false
    }
   },
   "outputs": [],
   "source": [
    "iparams = {}\n",
    "iparams['injected_square_current'] = {}\n",
    "iparams['injected_square_current']['amplitude'] = 200*pq.pA\n",
    "#['amplitude']  = dtc.vtest[k]['injected_square_current']['amplitude']\n",
    "DELAY = 0*pq.ms\n",
    "DURATION = tstop*pq.ms\n",
    "iparams['injected_square_current']['delay'] = DELAY\n",
    "iparams['injected_square_current']['duration'] = DURATION\n",
    "\n",
    "model = ReducedModel(LEMS_MODEL_PATH,name = str('vanilla'),backend = ('RAW'))\n",
    "#model.set_attrs(CHN)\n",
    "model.attrs =CH\n",
    "\n",
    "model.inject_square_current(iparams['injected_square_current'])\n",
    "#print(model.get_spike_count())\n",
    "plt.plot(model.get_membrane_potential().times,model.get_membrane_potential())\n",
    "\n"
   ]
  },
  {
   "cell_type": "markdown",
   "metadata": {},
   "source": [
    "Ignore the rest of cells\n"
   ]
  },
  {
   "cell_type": "code",
   "execution_count": null,
   "metadata": {
    "collapsed": false,
    "jupyter": {
     "outputs_hidden": false
    }
   },
   "outputs": [],
   "source": [
    "\n",
    "model = ReducedModel(LEMS_MODEL_PATH,name = str('vanilla'),backend = ('RAW'))\n",
    "model.set_attrs(mparams)\n",
    "\n",
    "import seaborn as sns\n",
    "from neuronunit.optimization.data_transport_container import DataTC\n",
    "import os\n",
    "print(dir(model._backend))#.attrs)\n",
    "\n",
    "\n",
    "\n",
    "\n",
    "params = {}\n",
    "params['injected_square_current'] = {}\n",
    "params['injected_square_current']['amplitude'] = 52*pq.pA\n",
    "DELAY = 100.0*pq.ms\n",
    "DURATION = 1000.0*pq.ms\n",
    "params['injected_square_current']['delay'] = DELAY\n",
    "params['injected_square_current']['duration'] = DURATION\n",
    "\n",
    "#first_two[0].observation['mean'] = 50*pq.pA\n",
    "\n",
    "#first_two[1].observation['mean'] = 50*pq.ohm*1e6\n",
    "\n",
    "#print(first_two)\n",
    "\n",
    "score = first_two[1].judge(model,stop_on_error = False, deep_error = True)\n",
    "print(score)\n",
    "stuff = first_two[1].generate_prediction(model)\n",
    "print(stuff)\n",
    "print(model.get_spike_count(),'npsikes')\n",
    "print(np.mean(model.get_membrane_potential()),'mean membrane potential')\n"
   ]
  },
  {
   "cell_type": "code",
   "execution_count": null,
   "metadata": {
    "collapsed": false,
    "jupyter": {
     "outputs_hidden": false
    }
   },
   "outputs": [],
   "source": [
    "score = first_two[1].judge(model,stop_on_error = False, deep_error = True)\n",
    "print(score.prediction)\n",
    "print(model.get_spike_count())"
   ]
  },
  {
   "cell_type": "code",
   "execution_count": null,
   "metadata": {
    "collapsed": false,
    "jupyter": {
     "outputs_hidden": false
    }
   },
   "outputs": [],
   "source": [
    "score = first_two[0].judge(model,stop_on_error = False, deep_error = True)\n",
    "print(score.prediction)\n",
    "#print(model.get_spike_count())"
   ]
  },
  {
   "cell_type": "code",
   "execution_count": null,
   "metadata": {
    "collapsed": false,
    "jupyter": {
     "outputs_hidden": false
    }
   },
   "outputs": [],
   "source": [
    "\n",
    "model = None\n",
    "model = ReducedModel(LEMS_MODEL_PATH,name = str('vanilla'),backend = ('RAW'))#,{'DTC':dtc}))\n",
    "model.set_attrs(mparams)\n",
    "\n",
    "prediction = all_tests[0].generate_prediction(model)\n",
    "print(prediction)\n",
    "\n",
    "prediction1 = all_tests[1].generate_prediction(model)\n",
    "print(prediction1)"
   ]
  },
  {
   "cell_type": "code",
   "execution_count": null,
   "metadata": {
    "collapsed": false,
    "jupyter": {
     "outputs_hidden": false
    }
   },
   "outputs": [],
   "source": [
    "\n",
    "cnt = 0\n",
    "scores = []\n",
    "tests_,all_tests, observation,suite = opt.get_neab.get_tests()\n",
    "#passive  = [ str('RestingPotentialTest'), str('CapacitanceTest'), str('TimeConstantTest'), str('InputResistanceTest') ]\n",
    "#firing_tests =  [ t for t in all_tests if str(t) not in passive ]\n",
    "\n",
    "print(first_two)\n",
    "\n",
    "for t in all_tests:\n",
    "    score = t.judge(model,stop_on_error = False, deep_error = True)\n",
    "        \n",
    "    if cnt==0:\n",
    "        model.rheobase = score.prediction['value']\n",
    "        \n",
    "        params = {}\n",
    "        params['injected_square_current'] = {}\n",
    "        params['injected_square_current']['amplitude'] = score.prediction['value']\n",
    "        DELAY = 100.0*pq.ms\n",
    "        DURATION = 1000.0*pq.ms\n",
    "        params['injected_square_current']['delay'] = DELAY\n",
    "        params['injected_square_current']['duration'] = DURATION\n",
    "        model.params = params\n",
    "    scores.append(score)\n",
    "    print(score)\n",
    "    print('score {0}'.format(score))\n",
    "    if str('mean') in score.prediction.keys():\n",
    "        print('observation {0}, prediction {1}'.format(t.observation['mean'],score.prediction['mean']))\n",
    "    if str('value') in score.prediction.keys():\n",
    "        print('observation {0}, prediction {1}'.format(t.observation['mean'],score.prediction['value']))\n",
    "    cnt+=1\n",
    "#http://www.physics"
   ]
  },
  {
   "cell_type": "code",
   "execution_count": null,
   "metadata": {
    "collapsed": false,
    "jupyter": {
     "outputs_hidden": false
    }
   },
   "outputs": [],
   "source": [
    "import pandas as pd\n",
    "import numpy as np\n",
    "k_grid = np.logspace(-1.5,1,10)\n",
    "#k_grid = np.logspace(-2,-1,10)\n",
    "#k_grid = np.logspace(-1,1,10)\n",
    "\n",
    "\n",
    "print(k_grid)\n",
    "\n",
    "params = {}\n",
    "params['a'] = 0.03\n",
    "params['b'] = -2\n",
    "params['C'] = 100\n",
    "params['c'] = -50 \n",
    "params['vr'] = -60\n",
    "params['vt'] = -40\n",
    "params['vPeak'] = 35\n",
    "params['k'] = 0.7\n",
    "params['d'] = 100\n",
    "params['dt'] = 0.025\n",
    "params['tMax'] = 1000.0;#   % max time [ms]\n",
    "first_two = all_tests[0:2]\n",
    "list_dics = []                                         \n",
    "fig = plt.figure()\n",
    "import copy\n",
    "import pdb\n",
    "tests_ = all_tests[0:2]\n",
    "for k in k_grid:\n",
    "    LEMS_MODEL_PATH = path_params['model_path']\n",
    "    model = None\n",
    "    model = ReducedModel(LEMS_MODEL_PATH,name=str('vanilla'),backend='NEURON')\n",
    "    params['k'] = k\n",
    "    model.set_attrs(params)\n",
    "\n",
    "    scores = []\n",
    "    for index,t in enumerate(first_two):\n",
    "        print(\"k=%.2g; Test=%s\" % (k,t))\n",
    "        score = t.judge(model, stop_on_error=True, deep_error=False)\n",
    "        print(score.prediction,'rheobase why not?')\n",
    "        scores.append(score)\n",
    "\n",
    "    for s in scores:\n",
    "        agreement = {}\n",
    "        agreement['k'] = k\n",
    "        print('bad k', k)\n",
    "        agreement['test'] = s.test\n",
    "        try:\n",
    "            agreement['observation'] = s.observation['mean'].rescale(s.test.units)\n",
    "            agreement['prediction'] = s.prediction['value'].rescale(s.test.units)\n",
    "            agreement['agreement'] = float(agreement['observation'])/float(agreement['prediction'])\n",
    "        except Exception as e:\n",
    "            print('error score skip because %s' % e)\n",
    "            agreement['agreement'] = None\n",
    "        list_dics.append(agreement)\n",
    "\n",
    "\n"
   ]
  },
  {
   "cell_type": "code",
   "execution_count": null,
   "metadata": {
    "collapsed": false,
    "jupyter": {
     "outputs_hidden": false
    }
   },
   "outputs": [],
   "source": [
    "#pd.set_option('display.precision', 3)\n",
    "df = pd.DataFrame(list_dics)\n",
    "dfg = df.reset_index(drop=True)\n",
    "#dfg = dfg.dropna()\n",
    "#dfg\n",
    "#how='all'\n",
    "#dfg = df.reset_index(drop=nan)\n",
    "\n",
    "\n",
    "import seaborn as sns\n",
    "cm = sns.light_palette(\"green\", as_cmap=True)\n",
    "#display(dfg.style.background_gradient(cmap=cm,subset=['agreement']))\n",
    "#df\n",
    "#ax = df[df['test'].index % 2 == 0].plot(x='k',y='agreement',label='Rheobase')\n",
    "\n",
    "ax = df[df['test'].index % 2 == 0].plot(x='k',y='agreement',label='Rheobase')\n",
    "df[df['test'].index % 2 == 1].plot(x='k',y='agreement',label='InputRes', ax=ax)\n",
    "plt.plot(k_grid,np.ones(k_grid.shape),'--')\n",
    "#plt.xscale('log')\n",
    "#plt.yscale('log')\n",
    "\n",
    "plt.xscale('log')\n",
    "plt.yscale('log')"
   ]
  },
  {
   "cell_type": "code",
   "execution_count": null,
   "metadata": {
    "collapsed": false,
    "jupyter": {
     "outputs_hidden": false
    }
   },
   "outputs": [],
   "source": [
    "list_dics"
   ]
  },
  {
   "cell_type": "code",
   "execution_count": null,
   "metadata": {
    "collapsed": false,
    "jupyter": {
     "outputs_hidden": false
    }
   },
   "outputs": [],
   "source": [
    "print(k_grid)"
   ]
  },
  {
   "cell_type": "code",
   "execution_count": null,
   "metadata": {},
   "outputs": [],
   "source": [
    "k_grid = np.logspace(-1,0,10)\n"
   ]
  },
  {
   "cell_type": "code",
   "execution_count": null,
   "metadata": {
    "collapsed": false,
    "jupyter": {
     "outputs_hidden": false
    }
   },
   "outputs": [],
   "source": [
    "print(k_grid)"
   ]
  },
  {
   "cell_type": "code",
   "execution_count": null,
   "metadata": {
    "collapsed": false,
    "jupyter": {
     "outputs_hidden": false
    }
   },
   "outputs": [],
   "source": [
    "\n",
    "import seaborn as sns\n",
    "cm = sns.light_palette(\"green\", as_cmap=True)\n",
    "#display(dfg.style.background_gradient(cmap=cm,subset=['agreement']))\n",
    "#df\n",
    "\n",
    "ax = df[df['test'].index % 2 == 0].plot(x='k',y='agreement',label='Rheobase')\n",
    "#df[df['test'].index % 2 == 1].plot(x='k',y='agreement',label='InputRes', ax=ax)\n",
    "plt.plot(k_grid,np.ones(k_grid.shape),'--')\n",
    "plt.xscale('log')\n",
    "plt.yscale('log')"
   ]
  },
  {
   "cell_type": "code",
   "execution_count": null,
   "metadata": {
    "collapsed": false,
    "jupyter": {
     "outputs_hidden": false
    }
   },
   "outputs": [],
   "source": [
    "ax = df[df['test'].index % 2 == 0].plot(x='k',y='agreement',label='Rheobase')\n"
   ]
  },
  {
   "cell_type": "code",
   "execution_count": null,
   "metadata": {
    "collapsed": false,
    "jupyter": {
     "outputs_hidden": false
    }
   },
   "outputs": [],
   "source": [
    "# tests that do well, 4th last to second last.\n",
    "# rheobase.\n",
    "ft_ = all_tests[-4:-2]\n",
    "ft_.insert(0,all_tests[0]) \n",
    "print(ft_)\n",
    "free_params = ['k','b']\n",
    "from neuronunit.optimization import optimization_management as om\n",
    "ga_out, DO = om.run_ga(mp,3,ft_,free_params=free_params)\n"
   ]
  },
  {
   "cell_type": "code",
   "execution_count": null,
   "metadata": {
    "collapsed": false,
    "jupyter": {
     "outputs_hidden": false
    }
   },
   "outputs": [],
   "source": [
    "model.attrs"
   ]
  },
  {
   "cell_type": "code",
   "execution_count": null,
   "metadata": {
    "collapsed": false,
    "jupyter": {
     "outputs_hidden": false
    }
   },
   "outputs": [],
   "source": [
    "type2007.keys()"
   ]
  },
  {
   "cell_type": "code",
   "execution_count": null,
   "metadata": {
    "collapsed": false,
    "jupyter": {
     "outputs_hidden": false
    }
   },
   "outputs": [],
   "source": [
    "for k, v in type2007.items():\n",
    "    print(v)"
   ]
  },
  {
   "cell_type": "code",
   "execution_count": null,
   "metadata": {
    "collapsed": false,
    "jupyter": {
     "outputs_hidden": false
    }
   },
   "outputs": [],
   "source": []
  },
  {
   "cell_type": "code",
   "execution_count": null,
   "metadata": {
    "collapsed": false,
    "jupyter": {
     "outputs_hidden": false
    }
   },
   "outputs": [],
   "source": [
    "param_dict"
   ]
  },
  {
   "cell_type": "code",
   "execution_count": null,
   "metadata": {
    "collapsed": true,
    "jupyter": {
     "outputs_hidden": true
    }
   },
   "outputs": [],
   "source": []
  }
 ],
 "metadata": {
  "kernelspec": {
   "display_name": "Python 3",
   "language": "python",
   "name": "python3"
  },
  "language_info": {
   "codemirror_mode": {
    "name": "ipython",
    "version": 3
   },
   "file_extension": ".py",
   "mimetype": "text/x-python",
   "name": "python",
   "nbconvert_exporter": "python",
   "pygments_lexer": "ipython3",
   "version": "3.6.9"
  }
 },
 "nbformat": 4,
 "nbformat_minor": 4
}
