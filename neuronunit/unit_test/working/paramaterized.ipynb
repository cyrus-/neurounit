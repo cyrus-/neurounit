{
 "cells": [
  {
   "cell_type": "code",
   "execution_count": 1,
   "metadata": {},
   "outputs": [
    {
     "data": {
      "image/png": "[encoded data removed]",
      "text/plain": [
       "<Figure size 432x288 with 1 Axes>"
      ]
     },
     "metadata": {
      "image/png": {
       "height": 251,
       "width": 376
      },
      "needs_background": "light"
     },
     "output_type": "display_data"
    }
   ],
   "source": [
    "%matplotlib inline\n",
    "import seaborn as sns\n",
    "sns.set_context('notebook')\n",
    "%config InlineBackend.figure_format = 'retina'\n",
    "#%inline\n",
    "#import matplotlib as mpl\n",
    "import matplotlib.pyplot as plt\n",
    "#%matplotlib inline\n",
    "plt.plot([0,1],[1,0])\n",
    "plt.show()\n",
    "import pickle\n"
   ]
  },
  {
   "cell_type": "code",
   "execution_count": 2,
   "metadata": {},
   "outputs": [
    {
     "name": "stdout",
     "output_type": "stream",
     "text": [
      "gets here\n"
     ]
    },
    {
     "name": "stderr",
     "output_type": "stream",
     "text": [
      "INFO:root:test\n",
      "INFO:root:test\n"
     ]
    },
    {
     "name": "stdout",
     "output_type": "stream",
     "text": [
      "(-75, -56)\n",
      "Import of badexp.ADEXPBackend failed due to:\n",
      "No module named 'neuronunit.models.backends.badexp'\n",
      "Import of bhh.BHHBackend failed due to:\n",
      "No module named 'neuronunit.models.backends.bhh'\n",
      "Import of general_pyNN.PYNNBackend failed due to:\n",
      "No module named 'pyNN'\n"
     ]
    }
   ],
   "source": [
    "import hide_imports"
   ]
  },
  {
   "cell_type": "code",
   "execution_count": 3,
   "metadata": {},
   "outputs": [],
   "source": [
    "\n",
    "plt.clf()\n",
    "import copy\n",
    "%matplotlib inline\n",
    "\n",
    "def permutations(use_test,backend,MU=25,NGEN=25):\n",
    "    print(use_test,type(use_test))\n",
    "    use_test = hide_imports.TSD(use_test)\n",
    "    use_test.use_rheobase_score = True\n",
    "    edges = hide_imports.model_parameters.MODEL_PARAMS[backend]\n",
    "    ga_out1 =  use_test.optimize(edges,backend=backend,\\\n",
    "        protocol={'allen': False, 'elephant': True},\\\n",
    "            MU=2,NGEN=2)   \n",
    "    dtc = ga_out1['pf'][0].dtc\n",
    "    vm,plt = hide_imports.inject_and_plot_model(dtc)\n",
    "    plt.show()\n",
    "    return dtc, ga_out1['DO'], vm\n"
   ]
  },
  {
   "cell_type": "code",
   "execution_count": 4,
   "metadata": {},
   "outputs": [
    {
     "data": {
      "text/plain": [
       "'\\ntest_frame = hide_imports.get_neab.process_all_cells()\\ntest_frame.pop(\\'Olfactory bulb (main) mitral cell\\',None)\\nOMObjects = []\\nbackends = [\"RAW\",\"HH\",\"ADEXP\",\"BHH\"]\\nt = test_frame[\\'Neocortex pyramidal cell layer 5-6\\']\\n'"
      ]
     },
     "execution_count": 4,
     "metadata": {},
     "output_type": "execute_result"
    }
   ],
   "source": [
    "\n"
   ]
  },
  {
   "cell_type": "code",
   "execution_count": null,
   "metadata": {},
   "outputs": [],
   "source": []
  },
  {
   "cell_type": "code",
   "execution_count": null,
   "metadata": {},
   "outputs": [],
   "source": []
  },
  {
   "cell_type": "markdown",
   "metadata": {},
   "source": [
    "# Subeqeunt parameters... \n",
    "will be overwritten by external code that are injected by the paper mill script.\n"
   ]
  },
  {
   "cell_type": "raw",
   "metadata": {
    "tags": [
     "parameters"
    ]
   },
   "source": [
    "model_type = \"\"\n",
    "test_type = \"\"\n",
    "MU = \"\"\n",
    "NGEN = \"\"\n"
   ]
  },
  {
   "cell_type": "code",
   "execution_count": 5,
   "metadata": {},
   "outputs": [
    {
     "data": {
      "text/plain": [
       "'\\nfor t in test_frame.values():\\n    b = backends[1]\\n    (dtc,DO,vm) = permutations(copy.copy(t),b)\\n    display(dtc.SM)\\n    display(dtc.obs_preds)\\n    plt.plot(vm.times,vm.magnitude)\\n    plt.show()\\n'"
      ]
     },
     "execution_count": 5,
     "metadata": {},
     "output_type": "execute_result"
    }
   ],
   "source": [
    "\n",
    "tests = pickle.load(open('processed_multicellular_constraints.p','rb'))\n",
    "test_arg = tests[test_type]\n",
    "(dtc,DO,vm) = permutations(test_arg,model_type, MU, NGEN)\n",
    "hide_imports.display(dtc.SM)\n",
    "hide_imports.display(dtc.obs_preds)\n",
    "#print('injection nothing?')"
   ]
  },
  {
   "cell_type": "code",
   "execution_count": 6,
   "metadata": {},
   "outputs": [
    {
     "data": {
      "text/plain": [
       "'\\nfor t in test_frame.values():\\n    #for b in backends:\\n    b = backends[2]\\n    (dtc,DO,vm) = permutations(copy.copy(t),b)\\n    display(dtc.SM)\\n    display(dtc.obs_preds)\\n    plt.plot(vm.times,vm.magnitude)\\n    plt.show()\\n'"
      ]
     },
     "execution_count": 6,
     "metadata": {},
     "output_type": "execute_result"
    }
   ],
   "source": []
  },
  {
   "cell_type": "code",
   "execution_count": 7,
   "metadata": {},
   "outputs": [
    {
     "data": {
      "text/plain": [
       "'\\nfor t in test_frame.values():\\n    #for b in backends:\\n    b = backends[3]\\n    (dtc,DO,vm) = permutations(copy.copy(t),b)\\n    display(dtc.SM)\\n    display(dtc.obs_preds)\\n    plt.plot(vm.times,vm.magnitude)\\n    plt.show()\\n'"
      ]
     },
     "execution_count": 7,
     "metadata": {},
     "output_type": "execute_result"
    }
   ],
   "source": []
  },
  {
   "cell_type": "code",
   "execution_count": 8,
   "metadata": {},
   "outputs": [
    {
     "data": {
      "text/plain": [
       "'\\n(dtc,DO) = permutations(test_frame[\\'Neocortex pyramidal cell layer 5-6\\'],\"ADEXP\")\\ndisplay(dtc.SM)\\ndisplay(dtc.obs_preds)\\n'"
      ]
     },
     "execution_count": 8,
     "metadata": {},
     "output_type": "execute_result"
    }
   ],
   "source": []
  },
  {
   "cell_type": "code",
   "execution_count": 9,
   "metadata": {},
   "outputs": [
    {
     "data": {
      "text/plain": [
       "'\\nbackends = [\"RAW\",\"HH\",\"BHH\"]  \\n\\n\\n\\n#for b in backends:t\\n(dtc,DO) = permutations(test_frame[\\'Neocortex pyramidal cell layer 5-6\\'],\"RAW\")\\n'"
      ]
     },
     "execution_count": 9,
     "metadata": {},
     "output_type": "execute_result"
    }
   ],
   "source": []
  },
  {
   "cell_type": "code",
   "execution_count": 10,
   "metadata": {},
   "outputs": [
    {
     "data": {
      "text/plain": [
       "'\\nbackends = iter([\"RAW\",\"HH\",\"BHH\"])\\n\\n\\nfrom IPython.display import HTML, display\\n\\nfor b in backends:\\n    (dtc,DO) = permutations(test_frame[\\'Neocortex pyramidal cell layer 5-6\\'],b)\\n    display(dtc.SM)\\n    display(dtc.obs_preds)\\n'"
      ]
     },
     "execution_count": 10,
     "metadata": {},
     "output_type": "execute_result"
    }
   ],
   "source": []
  },
  {
   "cell_type": "code",
   "execution_count": null,
   "metadata": {},
   "outputs": [],
   "source": [
    "\n"
   ]
  },
  {
   "cell_type": "code",
   "execution_count": 11,
   "metadata": {},
   "outputs": [],
   "source": [
    "#test_frame['Neocortex pyramidal cell layer 5-6']"
   ]
  },
  {
   "cell_type": "code",
   "execution_count": null,
   "metadata": {},
   "outputs": [],
   "source": []
  },
  {
   "cell_type": "code",
   "execution_count": null,
   "metadata": {},
   "outputs": [],
   "source": []
  }
 ],
 "metadata": {
  "celltoolbar": "Tags",
  "kernelspec": {
   "display_name": "Python 3",
   "language": "python",
   "name": "python3"
  },
  "language_info": {
   "codemirror_mode": {
    "name": "ipython",
    "version": 3
   },
   "file_extension": ".py",
   "mimetype": "text/x-python",
   "name": "python",
   "nbconvert_exporter": "python",
   "pygments_lexer": "ipython3",
   "version": "3.7.4"
  }
 },
 "nbformat": 4,
 "nbformat_minor": 4
}
