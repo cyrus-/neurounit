{
 "cells": [
  {
   "cell_type": "code",
   "execution_count": 1,
   "metadata": {},
   "outputs": [
    {
     "data": {
      "image/png": "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\n",
      "text/plain": [
       "<Figure size 432x288 with 1 Axes>"
      ]
     },
     "metadata": {
      "image/png": {
       "height": 251,
       "width": 375
      }
     },
     "output_type": "display_data"
    }
   ],
   "source": [
    "%matplotlib inline\n",
    "import seaborn as sns\n",
    "sns.set_context('notebook')\n",
    "%config InlineBackend.figure_format = 'retina'\n",
    "#%inline\n",
    "#import matplotlib as mpl\n",
    "import matplotlib.pyplot as plt\n",
    "plt.plot([0,1],[1,0])\n",
    "plt.show()\n"
   ]
  },
  {
   "cell_type": "code",
   "execution_count": 2,
   "metadata": {},
   "outputs": [
    {
     "name": "stdout",
     "output_type": "stream",
     "text": [
      "consider installing pynn a heavier backend\n"
     ]
    },
    {
     "name": "stderr",
     "output_type": "stream",
     "text": [
      "INFO:root:test\n",
      "INFO:root:test\n"
     ]
    },
    {
     "name": "stdout",
     "output_type": "stream",
     "text": [
      "pynn python Error\n"
     ]
    }
   ],
   "source": [
    "import matplotlib.pyplot as plt\n",
    "import matplotlib\n",
    "%matplotlib inline\n",
    "#plt.plot([0,1],[1,0])\n",
    "#plt.show()\n",
    "import hide_imports\n"
   ]
  },
  {
   "cell_type": "code",
   "execution_count": 2,
   "metadata": {},
   "outputs": [],
   "source": [
    "\n",
    "def jrt(use_test,backend):\n",
    "    use_test = hide_imports.TSD(use_test)\n",
    "    use_test.use_rheobase_score = True\n",
    "    edges = hide_imports.model_parameters.MODEL_PARAMS[backend]\n",
    "\n",
    "    OM = hide_imports.OptMan(use_test,\\\n",
    "                backend=backend,\\\n",
    "                boundary_dict=edges,\\\n",
    "                protocol={'allen': False, 'elephant': True})\n",
    "\n",
    "    return OM\n",
    "\n",
    "\n",
    "def permutations(use_test,backend):\n",
    "    use_test = hide_imports.TSD(use_test)\n",
    "    use_test.use_rheobase_score = True\n",
    "    edges = model_parameters.MODEL_PARAMS[backend]\n",
    "    ga_out0 = use_test.optimize(edges,backend=backend,\\\n",
    "        protocol={'allen': False, 'elephant': True}, MU=2,NGEN=1)\n",
    "    ga_out1 =  use_test.optimize(edges,backend=backend,\\\n",
    "        protocol={'allen': False, 'elephant': True},\\\n",
    "            MU=2,NGEN=1,seed_pop=ga_out0['pf'][0])\n",
    "\n",
    "    \n",
    "    dtc = ga_out1['pf'][0].dtc\n",
    "    vm,plt = inject_and_plot_model(dtc.attrs,dtc.backend)\n",
    "\n",
    "    return dtc, ga_out1['DO'], vm\n"
   ]
  },
  {
   "cell_type": "code",
   "execution_count": 3,
   "metadata": {},
   "outputs": [],
   "source": [
    "test_frame = hide_imports.get_neab.process_all_cells()\n",
    "test_frame.pop('Olfactory bulb (main) mitral cell',None)\n",
    "OMObjects = []\n",
    "backends = [\"RAW\",\"HH\",\"ADEXP\",\"BHH\"]\n",
    "t = test_frame['Neocortex pyramidal cell layer 5-6']\n",
    "#for t in test_frame.values():\n",
    "#    break\n",
    "    \n",
    "for b in backends:        \n",
    "    OM = jrt(hide_imports.copy.copy(t),b)\n",
    "    OMObjects.append(OM)\n",
    "        #print(dir(OM))\n",
    "rt_outs = []\n"
   ]
  },
  {
   "cell_type": "code",
   "execution_count": 4,
   "metadata": {},
   "outputs": [
    {
     "name": "stdout",
     "output_type": "stream",
     "text": [
      "4\n"
     ]
    }
   ],
   "source": [
    "OM.tests\n",
    "print(len(OMObjects))"
   ]
  },
  {
   "cell_type": "code",
   "execution_count": null,
   "metadata": {},
   "outputs": [
    {
     "name": "stdout",
     "output_type": "stream",
     "text": [
      "RAW\n",
      "{'amplitude': array(0.18678904) * pA, 'delay': array(100.) * ms, 'duration': array(1000.) * ms}\n",
      "HH\n"
     ]
    }
   ],
   "source": [
    "for OM in OMObjects:\n",
    "   print(OM.backend)\n",
    "   x= {k:v for k,v in OM.tests.items() if 'mean' in v.observation.keys() or 'value' in v.observation.keys()}\n",
    "   OM.tests = hide_imports.TSD(OM.tests)\n",
    "   #try:\n",
    "   rt_out = OM.round_trip_test(OM.tests,OM.backend,OM.boundary_dict,NGEN = 8, MU = 8)\n",
    "   rt_outs.append(rt_out)     \n",
    "  #print(rt_outs[-1][0]['pf'][0].dtc.SA.score)\n",
    "   #except:\n",
    "   #   pass \n",
    "      #print('fail round trip test')"
   ]
  },
  {
   "cell_type": "code",
   "execution_count": null,
   "metadata": {},
   "outputs": [],
   "source": [
    "display(rt_outs[0][0]['pf'][0].dtc.backend)\n",
    "display(rt_outs[0][0]['pf'][0].dtc.SM)\n"
    "rt_outs\n",
    "def plot_binary_match(rt_outs,index):\n",
    "    from neuronunit.optimisation.optimization_management import inject_and_plot_model\n",
    "    dtc= rt_outs[index][0]['pf'][0].dtc\n",
    "    vm,dtc = inject_and_plot_model(dtc.attrs,dtc.backend)\n",
    "    dtc1 = rt_outs[index][2][0]\n",
    "    vm,dtc1 = inject_and_plot_model(dtc1.attrs,dtc1.backend)\n",
    "#plt.plot(dtc1.vm.magnitude,dtc1.vm.times)\n",
    "#plt.plot(dtc.vm.magnitude,dtc.vm.times)\n",
    "#plt.show()"
   ]
  },
  {
   "cell_type": "code",
   "execution_count": null,
   "metadata": {},
   "outputs": [],
   "source": [
    "plt.clf()\n",
    "plot_binary_match(rt_outs,0)\n",
    "\n",
    "#plot_binary_match(rt_outs,2)\n",
    "#plot_binary_match(rt_outs,3)\n",
    "\n",
    "display(rt_outs[0][0]['pf'][0].dtc.backend)\n",
    "display(rt_outs[0][0]['pf'][0].dtc.SM)\n",
    "display(rt_outs[1][0]['pf'][0].dtc.backend)\n",
    "display(rt_outs[1][0]['pf'][0].dtc.SM)\n",
    "try:\n",
    "    display(rt_outs[2][0]['pf'][0].dtc.backend)\n",
    "    display(rt_outs[2][0]['pf'][0].dtc.SM)\n",
    "except:\n",
    "    pass\n",
    "try:\n",
    "    display(rt_outs[3][0]['pf'][0].dtc.backend)\n",
    "    display(rt_outs[3][0]['pf'][0].dtc.SM)\n",
    "except:\n",
    "    pass"
   ]
  },
  {
   "cell_type": "code",
   "execution_count": null,
   "metadata": {},
   "outputs": [],
   "source": [
    "\n",
    "display(rt_outs[2][0]['pf'][0].dtc.backend)\n",
    "display(rt_outs[2][0]['pf'][0].dtc.SM)\n"
   ]
  },
  {
   "cell_type": "code",
   "execution_count": null,
   "metadata": {},
   "outputs": [],
   "source": [
    "display(rt_outs[0][0]['pf'][0].dtc.similarity)\n",
    "display(rt_outs[0][0]['pf'][0].dtc.obs_preds)\n",
    "display(rt_outs[1][0]['pf'][0].dtc.backend)\n",
    "display(rt_outs[1][0]['pf'][0].dtc.similarity)"
   ]
  },
  {
   "cell_type": "code",
   "execution_count": null,
   "metadata": {},
   "outputs": [],
   "source": [
    "\n",
    "backends = [\"RAW\",\"HH\",\"ADEXP\",\"BHH\"]\n",
    "\n",
    "\n",
    "for t in test_frame.values():\n",
    "    for b in backends:\n",
    "        \n",
    "        (dtc,DO,vm) = permutations(copy.copy(t),b)\n",
    "        print(b)\n",
    "        display(dtc.SM)\n",
    "        display(dtc.obs_preds)\n",
    "        plt.plot(vm.times,vm.magnitude)\n",
    "        plt.show()\n",
    "\n",
    "\n"
   ]
  },
  {
   "cell_type": "code",
   "execution_count": null,
   "metadata": {},
   "outputs": [],
   "source": []
  },
  {
   "cell_type": "code",
   "execution_count": null,
   "metadata": {},
   "outputs": [],
   "source": []
  },
  {
   "cell_type": "code",
   "execution_count": null,
   "metadata": {},
   "outputs": [],
   "source": [
    "(dtc,DO) = permutations(test_frame['Neocortex pyramidal cell layer 5-6'],\"ADEXP\")\n",
    "display(dtc.SM)\n",
    "display(dtc.obs_preds)"
   ]
  },
  {
   "cell_type": "code",
   "execution_count": null,
   "metadata": {},
   "outputs": [],
   "source": [
    "\n",
    "backends = [\"RAW\",\"HH\",\"BHH\"]  \n",
    "\n",
    "\n",
    "\n",
    "#for b in backends:\n",
    "(dtc,DO) = permutations(test_frame['Neocortex pyramidal cell layer 5-6'],\"RAW\")\n"
   ]
  },
  {
   "cell_type": "code",
   "execution_count": null,
   "metadata": {},
   "outputs": [],
   "source": [
    "backends = iter([\"RAW\",\"HH\",\"BHH\"])\n",
    "\n",
    "\n",
    "from IPython.display import HTML, display\n",
    "\n",
    "for b in backends:\n",
    "    (dtc,DO) = permutations(test_frame['Neocortex pyramidal cell layer 5-6'],b)\n",
    "    display(dtc.SM)\n",
    "    display(dtc.obs_preds)\n",
    "\n"
   ]
  },
  {
   "cell_type": "code",
   "execution_count": null,
   "metadata": {},
   "outputs": [],
   "source": [
    "\n"
   ]
  },
  {
   "cell_type": "code",
   "execution_count": null,
   "metadata": {},
   "outputs": [],
   "source": [
    "#test_frame['Neocortex pyramidal cell layer 5-6']"
   ]
  },
  {
   "cell_type": "code",
   "execution_count": null,
   "metadata": {},
   "outputs": [],
   "source": []
  },
  {
   "cell_type": "code",
   "execution_count": null,
   "metadata": {},
   "outputs": [],
   "source": []
  }
 ],
 "metadata": {
  "kernelspec": {
   "display_name": "Python 3",
   "language": "python",
   "name": "python3"
  },
  "language_info": {
   "codemirror_mode": {
    "name": "ipython",
    "version": 3
   },
   "file_extension": ".py",
   "mimetype": "text/x-python",
   "name": "python",
   "nbconvert_exporter": "python",
   "pygments_lexer": "ipython3",
   "version": "3.6.9"
  }
 },
 "nbformat": 4,
 "nbformat_minor": 4
}
