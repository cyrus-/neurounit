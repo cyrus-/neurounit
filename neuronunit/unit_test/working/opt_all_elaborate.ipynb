{
 "cells": [
  {
   "cell_type": "code",
   "execution_count": 2,
   "metadata": {},
   "outputs": [
    {
     "data": {
      "image/png": "[encoded data removed]",
      "text/plain": [
       "<Figure size 432x288 with 1 Axes>"
      ]
     },
     "metadata": {
      "needs_background": "light"
     },
     "output_type": "display_data"
    },
    {
     "name": "stderr",
     "output_type": "stream",
     "text": [
      "INFO:root:test\n",
      "INFO:root:test\n"
     ]
    },
    {
     "name": "stdout",
     "output_type": "stream",
     "text": [
      "(-75, -56)\n",
      "Import of general_pyNN.PYNNBackend failed due to:\n",
      "No module named 'pyNN'\n"
     ]
    }
   ],
   "source": [
    "import matplotlib.pyplot as plt\n",
    "import matplotlib\n",
    "%matplotlib inline\n",
    "plt.plot([0,1],[1,0])\n",
    "plt.show()\n",
    "import hide_imports\n",
    "\n",
    "import sys\n",
    "import traceback\n"
   ]
  },
  {
   "cell_type": "code",
   "execution_count": 3,
   "metadata": {},
   "outputs": [],
   "source": [
    "\n",
    "def jrt(use_test,backend):\n",
    "    use_test = hide_imports.TSD(use_test)\n",
    "    use_test.use_rheobase_score = True\n",
    "    edges = hide_imports.model_parameters.MODEL_PARAMS[backend]\n",
    "\n",
    "    OM = hide_imports.OptMan(use_test,\\\n",
    "                backend=backend,\\\n",
    "                boundary_dict=edges,\\\n",
    "                protocol={'allen': False, 'elephant': True})\n",
    "\n",
    "    return OM\n",
    "\n",
    "\n",
    "def permutations(use_test,backend):\n",
    "    use_test = hide_imports.TSD(use_test)\n",
    "    use_test.use_rheobase_score = True\n",
    "    edges = model_parameters.MODEL_PARAMS[backend]\n",
    "    ga_out0 = use_test.optimize(edges,backend=backend,\\\n",
    "        protocol={'allen': False, 'elephant': True}, MU=2,NGEN=1)\n",
    "    ga_out1 =  use_test.optimize(edges,backend=backend,\\\n",
    "        protocol={'allen': False, 'elephant': True},\\\n",
    "            MU=2,NGEN=1,seed_pop=ga_out0['pf'][0])\n",
    "\n",
    "    \n",
    "    dtc = ga_out1['pf'][0].dtc\n",
    "    vm,plt = inject_and_plot_model(dtc.attrs,dtc.backend)\n",
    "\n",
    "    return dtc, ga_out1['DO'], vm\n"
   ]
  },
  {
   "cell_type": "code",
   "execution_count": 4,
   "metadata": {},
   "outputs": [],
   "source": [
    "test_frame = hide_imports.get_neab.process_all_cells()\n",
    "test_frame.pop('Olfactory bulb (main) mitral cell',None)\n",
    "OMObjects = []\n",
    "backends = [\"RAW\",\"HH\"]#\"ADEXP\",\"BHH\"]\n",
    "tt = test_frame['Neocortex pyramidal cell layer 5-6']\n",
    "tt = tt.tests\n"
   ]
  },
  {
   "cell_type": "markdown",
   "metadata": {},
   "source": [
    "# Round trip testing below"
   ]
  },
  {
   "cell_type": "code",
   "execution_count": 5,
   "metadata": {},
   "outputs": [],
   "source": [
    "\n",
    "#for t in test_frame.values():\n",
    "#    break\n",
    "    \n",
    "for b in backends:        \n",
    "    OM = jrt(hide_imports.copy.copy(tt),b)\n",
    "    OMObjects.append(OM)\n",
    "rt_outs = []\n",
    "from neuronunit.optimisation.optimization_management import inject_and_plot_model\n"
   ]
  },
  {
   "cell_type": "code",
   "execution_count": 8,
   "metadata": {},
   "outputs": [
    {
     "name": "stdout",
     "output_type": "stream",
     "text": [
      "RAW\n",
      "Random simulated data tests made\n",
      "[<neuronunit.optimisation.data_transport_container.DataTC object at 0x7fbc23068b38>, <neuronunit.optimisation.data_transport_container.DataTC object at 0x7fbc23068b38>]\n",
      "{'value': array(107.53927231) * pA, 'mean': array(107.53927231) * pA, 'std': array(107.53927231) * pA}\n",
      "ranges OrderedDict([('C', (50, 200)), ('k', (0.7, 1.6)), ('vr', (-75, -56)), ('vt', (-50, -40)), ('vPeak', (25, 50)), ('a', (0.01, 0.03)), ('b', (-2, 15)), ('c', (-60, -40)), ('d', (10, 150)), ('dt', [0.005, 0.005])]) maybe ranges are wrong\n",
      "[('RheobaseTest', array(107.53927231) * pA), ('InputResistanceTest', array(43514484.79891928) * kg*m**2/(s**3*A**2)), ('TimeConstantTest', array(0.00438956) * s), ('CapacitanceTest', array(1.0087581e-10) * s**4*A**2/(kg*m**2)), ('RestingPotentialTest', array(3.55271368e-14) * mV), ('InjectedCurrentAPWidthTest', array(8.3e-05) * s), ('InjectedCurrentAPAmplitudeTest', array([57.36426236]) * mV), ('InjectedCurrentAPThresholdTest', array(-2.1591071) * mV)]\n"
     ]
    },
    {
     "data": {
      "text/html": [
       "<div>\n",
       "<style scoped>\n",
       "    .dataframe tbody tr th:only-of-type {\n",
       "        vertical-align: middle;\n",
       "    }\n",
       "\n",
       "    .dataframe tbody tr th {\n",
       "        vertical-align: top;\n",
       "    }\n",
       "\n",
       "    .dataframe thead th {\n",
       "        text-align: right;\n",
       "    }\n",
       "</style>\n",
       "<table border=\"1\" class=\"dataframe\">\n",
       "  <thead>\n",
       "    <tr style=\"text-align: right;\">\n",
       "      <th></th>\n",
       "      <th>RheobaseTest</th>\n",
       "      <th>InputResistanceTest</th>\n",
       "      <th>TimeConstantTest</th>\n",
       "      <th>CapacitanceTest</th>\n",
       "      <th>RestingPotentialTest</th>\n",
       "      <th>InjectedCurrentAPWidthTest</th>\n",
       "      <th>InjectedCurrentAPAmplitudeTest</th>\n",
       "      <th>InjectedCurrentAPThresholdTest</th>\n",
       "      <th>total</th>\n",
       "    </tr>\n",
       "  </thead>\n",
       "  <tbody>\n",
       "    <tr>\n",
       "      <th>observations</th>\n",
       "      <td>107.53927230834961 pA</td>\n",
       "      <td>43514484.798919275 kg*m**2/(s**3*A**2)</td>\n",
       "      <td>0.004389558902153532 s</td>\n",
       "      <td>1.0087581003056138e-10 s**4*A**2/(kg*m**2)</td>\n",
       "      <td>-61.82135391187814 mV</td>\n",
       "      <td>0.0008300000000000001 s</td>\n",
       "      <td>[57.36426235571374 mV]</td>\n",
       "      <td>-21.591071032007697 mV</td>\n",
       "      <td>NaN</td>\n",
       "    </tr>\n",
       "    <tr>\n",
       "      <th>predictions</th>\n",
       "      <td>181.1944305896759 pA</td>\n",
       "      <td>43649910.381063245 kg*m**2/(s**3*A**2)</td>\n",
       "      <td>0.002422809626400518 s</td>\n",
       "      <td>5.550548913501578e-11 s**4*A**2/(kg*m**2)</td>\n",
       "      <td>-75.0 mV</td>\n",
       "      <td>0.00026000000000000003 s</td>\n",
       "      <td>58.74186479899206 mV</td>\n",
       "      <td>-9.789739083241424 mV</td>\n",
       "      <td>NaN</td>\n",
       "    </tr>\n",
       "    <tr>\n",
       "      <th>scores</th>\n",
       "      <td>0.684914</td>\n",
       "      <td>1.00311</td>\n",
       "      <td>0.551948</td>\n",
       "      <td>0.550236</td>\n",
       "      <td>1.21317</td>\n",
       "      <td>0.313253</td>\n",
       "      <td>1.02401</td>\n",
       "      <td>0.453416</td>\n",
       "      <td>5.794068</td>\n",
       "    </tr>\n",
       "  </tbody>\n",
       "</table>\n",
       "</div>"
      ],
      "text/plain": [
       "                       RheobaseTest                     InputResistanceTest  \\\n",
       "observations  107.53927230834961 pA  43514484.798919275 kg*m**2/(s**3*A**2)   \n",
       "predictions    181.1944305896759 pA  43649910.381063245 kg*m**2/(s**3*A**2)   \n",
       "scores                     0.684914                                 1.00311   \n",
       "\n",
       "                    TimeConstantTest  \\\n",
       "observations  0.004389558902153532 s   \n",
       "predictions   0.002422809626400518 s   \n",
       "scores                      0.551948   \n",
       "\n",
       "                                         CapacitanceTest  \\\n",
       "observations  1.0087581003056138e-10 s**4*A**2/(kg*m**2)   \n",
       "predictions    5.550548913501578e-11 s**4*A**2/(kg*m**2)   \n",
       "scores                                          0.550236   \n",
       "\n",
       "               RestingPotentialTest InjectedCurrentAPWidthTest  \\\n",
       "observations  -61.82135391187814 mV    0.0008300000000000001 s   \n",
       "predictions                -75.0 mV   0.00026000000000000003 s   \n",
       "scores                      1.21317                   0.313253   \n",
       "\n",
       "             InjectedCurrentAPAmplitudeTest InjectedCurrentAPThresholdTest  \\\n",
       "observations         [57.36426235571374 mV]         -21.591071032007697 mV   \n",
       "predictions            58.74186479899206 mV          -9.789739083241424 mV   \n",
       "scores                              1.02401                       0.453416   \n",
       "\n",
       "                 total  \n",
       "observations       NaN  \n",
       "predictions        NaN  \n",
       "scores        5.794068  "
      ]
     },
     "execution_count": 8,
     "metadata": {},
     "output_type": "execute_result"
    },
    {
     "data": {
      "image/png": "[encoded data removed]",
      "text/plain": [
       "<Figure size 432x288 with 1 Axes>"
      ]
     },
     "metadata": {
      "needs_background": "light"
     },
     "output_type": "display_data"
    },
    {
     "data": {
      "image/png": "[encoded data removed]",
      "text/plain": [
       "<Figure size 432x288 with 1 Axes>"
      ]
     },
     "metadata": {
      "needs_background": "light"
     },
     "output_type": "display_data"
    }
   ],
   "source": [
    "OM = OMObjects[0]\n",
    "print(OM.backend)\n",
    "x= {k:v for k,v in OM.tests.items() if 'mean' in v.observation.keys() or 'value' in v.observation.keys()}\n",
    "OM.tests = hide_imports.TSD(OM.tests)\n",
    "#OM.tests ={k:v.score_type \n",
    "#from sciunit import scores\n",
    "#for k,v in OM.tests.items():\n",
    "#    OM.tests[k].score_type = scores.RatioScore\n",
    "rt_out = OM.round_trip_test(OM.tests,OM.backend,OM.boundary_dict,NGEN = 10, MU = 10)\n",
    "rt_outs.append(rt_out)     \n",
    "origin_target = rt_outs[-1][2][0]\n",
    "inject_and_plot_model(origin_target.attrs,origin_target.backend)\n",
    "found = rt_outs[-1][0]['pf'][0].dtc\n",
    "inject_and_plot_model(found.attrs,found.backend)\n",
    "found.obs_preds\n",
    "\n"
   ]
  },
  {
   "cell_type": "code",
   "execution_count": 6,
   "metadata": {},
   "outputs": [
    {
     "ename": "AttributeError",
     "evalue": "'DataTC' object has no attribute 'obs_preds'",
     "output_type": "error",
     "traceback": [
      "\u001b[0;31m---------------------------------------------------------------------------\u001b[0m",
      "\u001b[0;31mAttributeError\u001b[0m                            Traceback (most recent call last)",
      "\u001b[0;32m<ipython-input-6-4b0a61fd0600>\u001b[0m in \u001b[0;36m<module>\u001b[0;34m\u001b[0m\n\u001b[0;32m----> 1\u001b[0;31m \u001b[0morigin_target\u001b[0m\u001b[0;34m.\u001b[0m\u001b[0mobs_preds\u001b[0m\u001b[0;34m\u001b[0m\u001b[0;34m\u001b[0m\u001b[0m\n\u001b[0m",
      "\u001b[0;31mAttributeError\u001b[0m: 'DataTC' object has no attribute 'obs_preds'"
     ]
    }
   ],
   "source": [
    "origin_target.obs_preds"
   ]
  },
  {
   "cell_type": "code",
   "execution_count": null,
   "metadata": {},
   "outputs": [],
   "source": [
    "OM = OMObjects[1]\n",
    "print(OM.backend)\n",
    "x= {k:v for k,v in OM.tests.items() if 'mean' in v.observation.keys() or 'value' in v.observation.keys()}\n",
    "OM.tests = hide_imports.TSD(OM.tests)\n",
    "rt_out = OM.round_trip_test(OM.tests,OM.backend,OM.boundary_dict,NGEN = 4, MU = 4)\n",
    "rt_outs.append(rt_out)     \n",
    "origin_target = rt_outs[-1][2][0]\n",
    "inject_and_plot_model(origin_target.attrs,origin_target.backend)\n",
    "found = rt_outs[-1][0]['pf'][0].dtc\n",
    "inject_and_plot_model(found.attrs,found.backend)\n"
   ]
  },
  {
   "cell_type": "code",
   "execution_count": null,
   "metadata": {},
   "outputs": [],
   "source": [
    "origin_target = rt_outs[0][2][0]\n",
    "from neuronunit.optimisation.optimization_management import inject_and_plot_model\n",
    "inject_and_plot_model(origin_target.attrs,origin_target.backend)\n",
    "found = rt_outs[0][0]['pf'][0].dtc\n",
    "inject_and_plot_model(found.attrs,found.backend)"
   ]
  },
  {
   "cell_type": "code",
   "execution_count": null,
   "metadata": {},
   "outputs": [],
   "source": [
    "display(rt_outs[0][0]['pf'][0].dtc.backend)\n",
    "display(rt_outs[0][0]['pf'][0].dtc.SA)\n"
   ]
  },
  {
   "cell_type": "code",
   "execution_count": null,
   "metadata": {},
   "outputs": [],
   "source": [
    "display(rt_outs[1][0]['pf'][0].dtc.backend)\n",
    "display(rt_outs[1][0]['pf'][0].dtc.SA)\n"
   ]
  },
  {
   "cell_type": "code",
   "execution_count": null,
   "metadata": {},
   "outputs": [],
   "source": [
    "\n",
    "display(rt_outs[2][0]['pf'][0].dtc.backend)\n",
    "display(rt_outs[2][0]['pf'][0].dtc.SM)\n"
   ]
  },
  {
   "cell_type": "code",
   "execution_count": null,
   "metadata": {},
   "outputs": [],
   "source": [
    "try:\n",
    "    display(rt_outs[3][0]['pf'][0].dtc.backend)\n",
    "    display(rt_outs[3][0]['pf'][0].dtc.SM)\n",
    "except:\n",
    "    pass"
   ]
  },
  {
   "cell_type": "code",
   "execution_count": null,
   "metadata": {},
   "outputs": [],
   "source": [
    "\n",
    "backends = [\"RAW\",\"HH\",\"ADEXP\",\"BHH\"]\n",
    "\n",
    "\n",
    "for t in test_frame.values():\n",
    "    for b in backends:\n",
    "        \n",
    "        (dtc,DO,vm) = permutations(copy.copy(t),b)\n",
    "        print(b)\n",
    "        display(dtc.SM)\n",
    "        display(dtc.obs_preds)\n",
    "        plt.plot(vm.times,vm.magnitude)\n",
    "        plt.show()\n",
    "\n",
    "\n"
   ]
  },
  {
   "cell_type": "code",
   "execution_count": null,
   "metadata": {},
   "outputs": [],
   "source": []
  },
  {
   "cell_type": "code",
   "execution_count": null,
   "metadata": {},
   "outputs": [],
   "source": []
  },
  {
   "cell_type": "code",
   "execution_count": null,
   "metadata": {},
   "outputs": [],
   "source": [
    "(dtc,DO) = permutations(test_frame['Neocortex pyramidal cell layer 5-6'],\"ADEXP\")\n",
    "display(dtc.SM)\n",
    "display(dtc.obs_preds)"
   ]
  },
  {
   "cell_type": "code",
   "execution_count": null,
   "metadata": {},
   "outputs": [],
   "source": [
    "\n",
    "backends = [\"RAW\",\"HH\",\"BHH\"]  \n",
    "\n",
    "\n",
    "\n",
    "#for b in backends:\n",
    "(dtc,DO) = permutations(test_frame['Neocortex pyramidal cell layer 5-6'],\"RAW\")\n"
   ]
  },
  {
   "cell_type": "code",
   "execution_count": null,
   "metadata": {},
   "outputs": [],
   "source": [
    "backends = iter([\"RAW\",\"HH\",\"BHH\"])\n",
    "\n",
    "\n",
    "from IPython.display import HTML, display\n",
    "\n",
    "for b in backends:\n",
    "    (dtc,DO) = permutations(test_frame['Neocortex pyramidal cell layer 5-6'],b)\n",
    "    display(dtc.SM)\n",
    "    display(dtc.obs_preds)\n",
    "\n"
   ]
  },
  {
   "cell_type": "code",
   "execution_count": null,
   "metadata": {},
   "outputs": [],
   "source": [
    "\n"
   ]
  },
  {
   "cell_type": "code",
   "execution_count": null,
   "metadata": {},
   "outputs": [],
   "source": [
    "#test_frame['Neocortex pyramidal cell layer 5-6']"
   ]
  },
  {
   "cell_type": "code",
   "execution_count": null,
   "metadata": {},
   "outputs": [],
   "source": []
  },
  {
   "cell_type": "code",
   "execution_count": null,
   "metadata": {},
   "outputs": [],
   "source": []
  },
  {
   "cell_type": "markdown",
   "metadata": {},
   "source": [
    "##### "
   ]
  }
 ],
 "metadata": {
  "kernelspec": {
   "display_name": "Python 3",
   "language": "python",
   "name": "python3"
  },
  "language_info": {
   "codemirror_mode": {
    "name": "ipython",
    "version": 3
   },
   "file_extension": ".py",
   "mimetype": "text/x-python",
   "name": "python",
   "nbconvert_exporter": "python",
   "pygments_lexer": "ipython3",
   "version": "3.6.9"
  }
 },
 "nbformat": 4,
 "nbformat_minor": 4
}
