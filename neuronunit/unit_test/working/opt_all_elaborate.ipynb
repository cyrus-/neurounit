{
 "cells": [
  {
   "cell_type": "code",
   "execution_count": 1,
   "metadata": {},
   "outputs": [
    {
     "data": {
      "image/png": "[encoded data removed]",
      "text/plain": [
       "<Figure size 432x288 with 1 Axes>"
      ]
     },
     "metadata": {
      "needs_background": "light"
     },
     "output_type": "display_data"
    },
    {
     "name": "stdout",
     "output_type": "stream",
     "text": [
      "(-75, -56)\n",
      "Import of general_pyNN.PYNNBackend failed due to:\n",
      "No module named 'pyNN'\n"
     ]
    },
    {
     "name": "stderr",
     "output_type": "stream",
     "text": [
      "INFO:root:test\n",
      "INFO:root:test\n"
     ]
    }
   ],
   "source": [
    "import matplotlib.pyplot as plt\n",
    "import matplotlib\n",
    "%matplotlib inline\n",
    "plt.plot([0,1],[1,0])\n",
    "plt.show()\n",
    "import hide_imports\n",
    "\n",
    "import sys\n",
    "import traceback\n"
   ]
  },
  {
   "cell_type": "code",
   "execution_count": 2,
   "metadata": {},
   "outputs": [],
   "source": [
    "\n",
    "def jrt(use_test,backend):\n",
    "    use_test = hide_imports.TSD(use_test)\n",
    "    use_test.use_rheobase_score = True\n",
    "    edges = hide_imports.model_parameters.MODEL_PARAMS[backend]\n",
    "\n",
    "    OM = hide_imports.OptMan(use_test,\\\n",
    "                backend=backend,\\\n",
    "                boundary_dict=edges,\\\n",
    "                protocol={'allen': False, 'elephant': True})\n",
    "\n",
    "    return OM\n",
    "\n",
    "\n",
    "def permutations(use_test,backend):\n",
    "    use_test = hide_imports.TSD(use_test)\n",
    "    use_test.use_rheobase_score = True\n",
    "    edges = model_parameters.MODEL_PARAMS[backend]\n",
    "    ga_out0 = use_test.optimize(edges,backend=backend,\\\n",
    "        protocol={'allen': False, 'elephant': True}, MU=2,NGEN=1)\n",
    "    ga_out1 =  use_test.optimize(edges,backend=backend,\\\n",
    "        protocol={'allen': False, 'elephant': True},\\\n",
    "            MU=2,NGEN=1,seed_pop=ga_out0['pf'][0])\n",
    "\n",
    "    \n",
    "    dtc = ga_out1['pf'][0].dtc\n",
    "    vm,plt = inject_and_plot_model(dtc.attrs,dtc.backend)\n",
    "\n",
    "    return dtc, ga_out1['DO'], vm\n"
   ]
  },
  {
   "cell_type": "code",
   "execution_count": 3,
   "metadata": {},
   "outputs": [],
   "source": [
    "test_frame = hide_imports.get_neab.process_all_cells()\n",
    "test_frame.pop('Olfactory bulb (main) mitral cell',None)\n",
    "OMObjects = []\n",
    "backends = [\"RAW\",\"HH\"]#\"ADEXP\",\"BHH\"]\n",
    "tt = test_frame['Neocortex pyramidal cell layer 5-6']\n",
    "tt = tt.tests\n"
   ]
  },
  {
   "cell_type": "markdown",
   "metadata": {},
   "source": [
    "# Round trip testing below"
   ]
  },
  {
   "cell_type": "code",
   "execution_count": 4,
   "metadata": {},
   "outputs": [],
   "source": [
    "\n",
    "#for t in test_frame.values():\n",
    "#    break\n",
    "    \n",
    "for b in backends:        \n",
    "    OM = jrt(hide_imports.copy.copy(tt),b)\n",
    "    OMObjects.append(OM)\n",
    "rt_outs = []\n",
    "from neuronunit.optimisation.optimization_management import inject_and_plot_model\n"
   ]
  },
  {
   "cell_type": "code",
   "execution_count": null,
   "metadata": {},
   "outputs": [],
   "source": [
    "OM = OMObjects[0]\n",
    "print(OM.backend)\n",
    "x= {k:v for k,v in OM.tests.items() if 'mean' in v.observation.keys() or 'value' in v.observation.keys()}\n",
    "OM.tests = hide_imports.TSD(OM.tests)\n",
    "\n",
    "test_origin_target,new_tests = OM.simulate_data(OM.tests,OM.backend,OM.boundary_dict)\n",
    "print([(k,v.observation) for k,v in new_tests.items()])"
   ]
  },
  {
   "cell_type": "code",
   "execution_count": 6,
   "metadata": {},
   "outputs": [
    {
     "name": "stdout",
     "output_type": "stream",
     "text": [
      "Random simulated data tests made\n",
      "[<neuronunit.optimisation.data_transport_container.DataTC object at 0x7f9cf7153518>, <neuronunit.optimisation.data_transport_container.DataTC object at 0x7f9cf7153518>]\n",
      "{'value': array(125.05166531) * pA, 'mean': array(125.05166531) * pA, 'std': array(125.05166531) * pA}\n",
      "ranges OrderedDict([('C', (50, 200)), ('k', (0.7, 1.6)), ('vr', (-75, -56)), ('vt', (-50, -40)), ('vPeak', (25, 50)), ('a', (0.01, 0.03)), ('b', (-2, 15)), ('c', (-60, -40)), ('d', (10, 150)), ('dt', [0.005, 0.005])]) maybe ranges are wrong\n",
      "[('RheobaseTest', array(125.05166531) * pA), ('InputResistanceTest', array(38666693.3039109) * kg*m**2/(s**3*A**2)), ('TimeConstantTest', array(5.42647114) * s), ('CapacitanceTest', array(1.40339674e-07) * s**4*A**2/(kg*m**2)), ('RestingPotentialTest', array(2.84217094e-14) * mV), ('InjectedCurrentAPWidthTest', array(6.1e-05) * s), ('InjectedCurrentAPAmplitudeTest', array([58.01797835]) * mV), ('InjectedCurrentAPThresholdTest', array(-2.17410283) * mV)]\n"
     ]
    },
    {
     "data": {
      "text/html": [
       "<div>\n",
       "<style scoped>\n",
       "    .dataframe tbody tr th:only-of-type {\n",
       "        vertical-align: middle;\n",
       "    }\n",
       "\n",
       "    .dataframe tbody tr th {\n",
       "        vertical-align: top;\n",
       "    }\n",
       "\n",
       "    .dataframe thead th {\n",
       "        text-align: right;\n",
       "    }\n",
       "</style>\n",
       "<table border=\"1\" class=\"dataframe\">\n",
       "  <thead>\n",
       "    <tr style=\"text-align: right;\">\n",
       "      <th></th>\n",
       "      <th>RheobaseTest</th>\n",
       "      <th>InputResistanceTest</th>\n",
       "      <th>TimeConstantTest</th>\n",
       "      <th>CapacitanceTest</th>\n",
       "      <th>RestingPotentialTest</th>\n",
       "      <th>InjectedCurrentAPWidthTest</th>\n",
       "      <th>InjectedCurrentAPAmplitudeTest</th>\n",
       "      <th>InjectedCurrentAPThresholdTest</th>\n",
       "      <th>total</th>\n",
       "    </tr>\n",
       "  </thead>\n",
       "  <tbody>\n",
       "    <tr>\n",
       "      <th>observations</th>\n",
       "      <td>125.05166530609131 pA</td>\n",
       "      <td>38666693.3039109 kg*m**2/(s**3*A**2)</td>\n",
       "      <td>5.4264711410244315 s</td>\n",
       "      <td>1.4033967420936863e-07 s**4*A**2/(kg*m**2)</td>\n",
       "      <td>-64.51067871643279 mV</td>\n",
       "      <td>0.0006100000000000001 s</td>\n",
       "      <td>[58.01797835124559 mV]</td>\n",
       "      <td>-21.74102831351585 mV</td>\n",
       "      <td>NaN</td>\n",
       "    </tr>\n",
       "    <tr>\n",
       "      <th>predictions</th>\n",
       "      <td>164.51668739318848 pA</td>\n",
       "      <td>26617536.66865962 kg*m**2/(s**3*A**2)</td>\n",
       "      <td>0.0030305979365503194 s</td>\n",
       "      <td>1.1385719025302018e-10 s**4*A**2/(kg*m**2)</td>\n",
       "      <td>-56.0 mV</td>\n",
       "      <td>0.0004900000000000001 s</td>\n",
       "      <td>54.387865917892256 mV</td>\n",
       "      <td>-4.387865917892253 mV</td>\n",
       "      <td>NaN</td>\n",
       "    </tr>\n",
       "    <tr>\n",
       "      <th>scores</th>\n",
       "      <td>0.31559</td>\n",
       "      <td>-0.311616</td>\n",
       "      <td>-0.999442</td>\n",
       "      <td>-0.999189</td>\n",
       "      <td>2.99443e+14</td>\n",
       "      <td>-1.96721</td>\n",
       "      <td>-0.0625688</td>\n",
       "      <td>-inf</td>\n",
       "      <td>inf</td>\n",
       "    </tr>\n",
       "  </tbody>\n",
       "</table>\n",
       "</div>"
      ],
      "text/plain": [
       "                       RheobaseTest                    InputResistanceTest  \\\n",
       "observations  125.05166530609131 pA   38666693.3039109 kg*m**2/(s**3*A**2)   \n",
       "predictions   164.51668739318848 pA  26617536.66865962 kg*m**2/(s**3*A**2)   \n",
       "scores                      0.31559                              -0.311616   \n",
       "\n",
       "                     TimeConstantTest  \\\n",
       "observations     5.4264711410244315 s   \n",
       "predictions   0.0030305979365503194 s   \n",
       "scores                      -0.999442   \n",
       "\n",
       "                                         CapacitanceTest  \\\n",
       "observations  1.4033967420936863e-07 s**4*A**2/(kg*m**2)   \n",
       "predictions   1.1385719025302018e-10 s**4*A**2/(kg*m**2)   \n",
       "scores                                         -0.999189   \n",
       "\n",
       "               RestingPotentialTest InjectedCurrentAPWidthTest  \\\n",
       "observations  -64.51067871643279 mV    0.0006100000000000001 s   \n",
       "predictions                -56.0 mV    0.0004900000000000001 s   \n",
       "scores                  2.99443e+14                   -1.96721   \n",
       "\n",
       "             InjectedCurrentAPAmplitudeTest InjectedCurrentAPThresholdTest  \\\n",
       "observations         [58.01797835124559 mV]          -21.74102831351585 mV   \n",
       "predictions           54.387865917892256 mV          -4.387865917892253 mV   \n",
       "scores                           -0.0625688                           -inf   \n",
       "\n",
       "              total  \n",
       "observations    NaN  \n",
       "predictions     NaN  \n",
       "scores          inf  "
      ]
     },
     "execution_count": 6,
     "metadata": {},
     "output_type": "execute_result"
    },
    {
     "data": {
      "image/png": "[encoded data removed]",
      "text/plain": [
       "<Figure size 432x288 with 1 Axes>"
      ]
     },
     "metadata": {
      "needs_background": "light"
     },
     "output_type": "display_data"
    },
    {
     "data": {
      "image/png": "[encoded data removed]",
      "text/plain": [
       "<Figure size 432x288 with 1 Axes>"
      ]
     },
     "metadata": {
      "needs_background": "light"
     },
     "output_type": "display_data"
    }
   ],
   "source": [
    "ga_out,ga_converged,test_origin_target,new_tests,closeness_ = OM.round_trip_test(OM.tests,OM.backend,OM.boundary_dict,NGEN = 8, MU = 8)\n",
    "rt_out = [ga_out,ga_converged,test_origin_target,new_tests,closeness_]\n",
    "rt_outs.append(rt_out)     \n",
    "origin_target = rt_outs[-1][2][0]\n",
    "inject_and_plot_model(origin_target.attrs,origin_target.backend)\n",
    "found = rt_outs[-1][0]['pf'][0].dtc\n",
    "inject_and_plot_model(found.attrs,found.backend)\n",
    "found.obs_preds\n",
    "\n"
   ]
  },
  {
   "cell_type": "code",
   "execution_count": null,
   "metadata": {},
   "outputs": [],
   "source": []
  },
  {
   "cell_type": "code",
   "execution_count": null,
   "metadata": {},
   "outputs": [
    {
     "name": "stderr",
     "output_type": "stream",
     "text": [
      "INFO:numba.transforms:finding looplift candidates\n"
     ]
    },
    {
     "name": "stdout",
     "output_type": "stream",
     "text": [
      "HH\n",
      "Random simulated data tests made\n"
     ]
    }
   ],
   "source": [
    "OM = OMObjects[1]\n",
    "print(OM.backend)\n",
    "x= {k:v for k,v in OM.tests.items() if 'mean' in v.observation.keys() or 'value' in v.observation.keys()}\n",
    "OM.tests = hide_imports.TSD(OM.tests)\n",
    "rt_out = OM.round_trip_test(OM.tests,OM.backend,OM.boundary_dict,NGEN = 4, MU = 4)\n",
    "rt_outs.append(rt_out)     \n",
    "origin_target = rt_outs[-1][2][0]\n",
    "inject_and_plot_model(origin_target.attrs,origin_target.backend)\n",
    "found = rt_outs[-1][0]['pf'][0].dtc\n",
    "inject_and_plot_model(found.attrs,found.backend)\n"
   ]
  },
  {
   "cell_type": "code",
   "execution_count": null,
   "metadata": {},
   "outputs": [],
   "source": [
    "origin_target = rt_outs[0][2][0]\n",
    "from neuronunit.optimisation.optimization_management import inject_and_plot_model\n",
    "inject_and_plot_model(origin_target.attrs,origin_target.backend)\n",
    "found = rt_outs[0][0]['pf'][0].dtc\n",
    "inject_and_plot_model(found.attrs,found.backend)"
   ]
  },
  {
   "cell_type": "code",
   "execution_count": null,
   "metadata": {},
   "outputs": [],
   "source": [
    "display(rt_outs[0][0]['pf'][0].dtc.backend)\n",
    "display(rt_outs[0][0]['pf'][0].dtc.SA)\n"
   ]
  },
  {
   "cell_type": "code",
   "execution_count": null,
   "metadata": {},
   "outputs": [],
   "source": [
    "display(rt_outs[1][0]['pf'][0].dtc.backend)\n",
    "display(rt_outs[1][0]['pf'][0].dtc.SA)\n"
   ]
  },
  {
   "cell_type": "code",
   "execution_count": null,
   "metadata": {},
   "outputs": [],
   "source": [
    "\n",
    "display(rt_outs[2][0]['pf'][0].dtc.backend)\n",
    "display(rt_outs[2][0]['pf'][0].dtc.SM)\n"
   ]
  },
  {
   "cell_type": "code",
   "execution_count": null,
   "metadata": {},
   "outputs": [],
   "source": [
    "try:\n",
    "    display(rt_outs[3][0]['pf'][0].dtc.backend)\n",
    "    display(rt_outs[3][0]['pf'][0].dtc.SM)\n",
    "except:\n",
    "    pass"
   ]
  },
  {
   "cell_type": "code",
   "execution_count": null,
   "metadata": {},
   "outputs": [],
   "source": [
    "\n",
    "backends = [\"RAW\",\"HH\",\"ADEXP\",\"BHH\"]\n",
    "\n",
    "\n",
    "for t in test_frame.values():\n",
    "    for b in backends:\n",
    "        \n",
    "        (dtc,DO,vm) = permutations(copy.copy(t),b)\n",
    "        print(b)\n",
    "        display(dtc.SM)\n",
    "        display(dtc.obs_preds)\n",
    "        plt.plot(vm.times,vm.magnitude)\n",
    "        plt.show()\n",
    "\n",
    "\n"
   ]
  },
  {
   "cell_type": "code",
   "execution_count": null,
   "metadata": {},
   "outputs": [],
   "source": []
  },
  {
   "cell_type": "code",
   "execution_count": null,
   "metadata": {},
   "outputs": [],
   "source": []
  },
  {
   "cell_type": "code",
   "execution_count": null,
   "metadata": {},
   "outputs": [],
   "source": [
    "(dtc,DO) = permutations(test_frame['Neocortex pyramidal cell layer 5-6'],\"ADEXP\")\n",
    "display(dtc.SM)\n",
    "display(dtc.obs_preds)"
   ]
  },
  {
   "cell_type": "code",
   "execution_count": null,
   "metadata": {},
   "outputs": [],
   "source": [
    "\n",
    "backends = [\"RAW\",\"HH\",\"BHH\"]  \n",
    "\n",
    "\n",
    "\n",
    "#for b in backends:\n",
    "(dtc,DO) = permutations(test_frame['Neocortex pyramidal cell layer 5-6'],\"RAW\")\n"
   ]
  },
  {
   "cell_type": "code",
   "execution_count": null,
   "metadata": {},
   "outputs": [],
   "source": [
    "backends = iter([\"RAW\",\"HH\",\"BHH\"])\n",
    "\n",
    "\n",
    "from IPython.display import HTML, display\n",
    "\n",
    "for b in backends:\n",
    "    (dtc,DO) = permutations(test_frame['Neocortex pyramidal cell layer 5-6'],b)\n",
    "    display(dtc.SM)\n",
    "    display(dtc.obs_preds)\n",
    "\n"
   ]
  },
  {
   "cell_type": "code",
   "execution_count": null,
   "metadata": {},
   "outputs": [],
   "source": [
    "\n"
   ]
  },
  {
   "cell_type": "code",
   "execution_count": null,
   "metadata": {},
   "outputs": [],
   "source": [
    "#test_frame['Neocortex pyramidal cell layer 5-6']"
   ]
  },
  {
   "cell_type": "code",
   "execution_count": null,
   "metadata": {},
   "outputs": [],
   "source": []
  },
  {
   "cell_type": "code",
   "execution_count": null,
   "metadata": {},
   "outputs": [],
   "source": []
  },
  {
   "cell_type": "markdown",
   "metadata": {},
   "source": [
    "##### "
   ]
  }
 ],
 "metadata": {
  "kernelspec": {
   "display_name": "Python 3",
   "language": "python",
   "name": "python3"
  },
  "language_info": {
   "codemirror_mode": {
    "name": "ipython",
    "version": 3
   },
   "file_extension": ".py",
   "mimetype": "text/x-python",
   "name": "python",
   "nbconvert_exporter": "python",
   "pygments_lexer": "ipython3",
   "version": "3.6.9"
  }
 },
 "nbformat": 4,
 "nbformat_minor": 4
}
