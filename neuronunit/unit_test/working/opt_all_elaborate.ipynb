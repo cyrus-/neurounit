{
 "cells": [
  {
   "cell_type": "code",
   "execution_count": null,
   "metadata": {},
   "outputs": [],
   "source": [
    "import matplotlib.pyplot as plt\n",
    "import matplotlib\n",
    "%matplotlib inline\n",
    "plt.plot([0,1],[1,0])\n",
    "plt.show()\n",
    "import hide_imports\n",
    "\n",
    "import sys\n",
    "import traceback\n"
   ]
  },
  {
   "cell_type": "code",
   "execution_count": null,
   "metadata": {},
   "outputs": [],
   "source": [
    "\n",
    "def jrt(use_test,backend):\n",
    "    use_test = hide_imports.TSD(use_test)\n",
    "    use_test.use_rheobase_score = True\n",
    "    edges = hide_imports.model_parameters.MODEL_PARAMS[backend]\n",
    "\n",
    "    OM = hide_imports.OptMan(use_test,\\\n",
    "                backend=backend,\\\n",
    "                boundary_dict=edges,\\\n",
    "                protocol={'allen': False, 'elephant': True})\n",
    "\n",
    "    return OM\n",
    "\n",
    "\n",
    "def permutations(use_test,backend):\n",
    "    use_test = hide_imports.TSD(use_test)\n",
    "    use_test.use_rheobase_score = True\n",
    "    edges = model_parameters.MODEL_PARAMS[backend]\n",
    "    ga_out0 = use_test.optimize(edges,backend=backend,\\\n",
    "        protocol={'allen': False, 'elephant': True}, MU=2,NGEN=1)\n",
    "    ga_out1 =  use_test.optimize(edges,backend=backend,\\\n",
    "        protocol={'allen': False, 'elephant': True},\\\n",
    "            MU=2,NGEN=1,seed_pop=ga_out0['pf'][0])\n",
    "\n",
    "    \n",
    "    dtc = ga_out1['pf'][0].dtc\n",
    "    vm,plt = inject_and_plot_model(dtc.attrs,dtc.backend)\n",
    "\n",
    "    return dtc, ga_out1['DO'], vm\n"
   ]
  },
  {
   "cell_type": "code",
   "execution_count": null,
   "metadata": {},
   "outputs": [],
   "source": [
    "test_frame = hide_imports.get_neab.process_all_cells()\n",
    "test_frame.pop('Olfactory bulb (main) mitral cell',None)\n",
    "OMObjects = []\n",
    "backends = [\"RAW\",\"HH\"]#\"ADEXP\",\"BHH\"]\n",
    "tt = test_frame['Neocortex pyramidal cell layer 5-6']\n",
    "tt = tt.tests\n"
   ]
  },
  {
   "cell_type": "markdown",
   "metadata": {},
   "source": [
    "# Round trip testing below"
   ]
  },
  {
   "cell_type": "code",
   "execution_count": 5,
   "metadata": {},
   "outputs": [],
   "source": [
    "\n",
    "#for t in test_frame.values():\n",
    "#    break\n",
    "    \n",
    "for b in backends:        \n",
    "    OM = jrt(hide_imports.copy.copy(tt),b)\n",
    "    OMObjects.append(OM)\n",
    "rt_outs = []\n",
    "from neuronunit.optimisation.optimization_management import inject_and_plot_model\n"
   ]
  },
  {
   "cell_type": "code",
   "execution_count": null,
   "metadata": {},
   "outputs": [],
   "source": [
    "OM.tests\n",
    "print(len(OMObjects))"
   ]
  },
  {
   "cell_type": "code",
   "execution_count": null,
   "metadata": {},
   "outputs": [],
   "source": [
    "OM = OMObjects[1]\n",
    "print(OM.backend)\n",
    "x= {k:v for k,v in OM.tests.items() if 'mean' in v.observation.keys() or 'value' in v.observation.keys()}\n",
    "OM.tests = hide_imports.TSD(OM.tests)\n",
    "rt_out = OM.round_trip_test(OM.tests,OM.backend,OM.boundary_dict,NGEN = 4, MU = 4)\n",
    "rt_outs.append(rt_out)     \n",
    "origin_target = rt_outs[-1][2][0]\n",
    "inject_and_plot_model(origin_target.attrs,origin_target.backend)\n",
    "found = rt_outs[-1][0]['pf'][0].dtc\n",
    "inject_and_plot_model(found.attrs,found.backend)\n"
   ]
  },
  {
   "cell_type": "code",
   "execution_count": null,
   "metadata": {},
   "outputs": [],
   "source": []
  },
  {
   "cell_type": "code",
   "execution_count": null,
   "metadata": {},
   "outputs": [],
   "source": [
    "display(rt_outs[0][0]['pf'][0].dtc.backend)\n",
    "display(rt_outs[0][0]['pf'][0].dtc.SM)\n"
    "rt_outs\n",
    "def plot_binary_match(rt_outs,index):\n",
    "    from neuronunit.optimisation.optimization_management import inject_and_plot_model\n",
    "    dtc= rt_outs[index][0]['pf'][0].dtc\n",
    "    vm,dtc = inject_and_plot_model(dtc.attrs,dtc.backend)\n",
    "    dtc1 = rt_outs[index][2][0]\n",
    "    vm,dtc1 = inject_and_plot_model(dtc1.attrs,dtc1.backend)\n",
    "#plt.plot(dtc1.vm.magnitude,dtc1.vm.times)\n",
    "#plt.plot(dtc.vm.magnitude,dtc.vm.times)\n",
    "#plt.show()"
   ]
  },
  {
   "cell_type": "code",
   "execution_count": null,
   "metadata": {},
   "outputs": [],
   "source": [
    "plt.clf()\n",
    "plot_binary_match(rt_outs,0)\n",
    "\n",
    "#plot_binary_match(rt_outs,2)\n",
    "#plot_binary_match(rt_outs,3)\n",
    "\n",
    "display(rt_outs[0][0]['pf'][0].dtc.backend)\n",
    "display(rt_outs[0][0]['pf'][0].dtc.SM)\n",
    "display(rt_outs[1][0]['pf'][0].dtc.backend)\n",
    "display(rt_outs[1][0]['pf'][0].dtc.SA)\n"
   ]
  },
  {
   "cell_type": "code",
   "execution_count": null,
   "metadata": {},
   "outputs": [],
   "source": [
    "\n",
    "display(rt_outs[2][0]['pf'][0].dtc.backend)\n",
    "display(rt_outs[2][0]['pf'][0].dtc.SM)\n"
   ]
  },
  {
   "cell_type": "code",
   "execution_count": null,
   "metadata": {},
   "outputs": [],
   "source": [
    "try:\n",
    "    display(rt_outs[3][0]['pf'][0].dtc.backend)\n",
    "    display(rt_outs[3][0]['pf'][0].dtc.SM)\n",
    "except:\n",
    "    pass"
   ]
  },
  {
   "cell_type": "code",
   "execution_count": null,
   "metadata": {},
   "outputs": [],
   "source": [
    "\n",
    "backends = [\"RAW\",\"HH\",\"ADEXP\",\"BHH\"]\n",
    "\n",
    "\n",
    "for t in test_frame.values():\n",
    "    for b in backends:\n",
    "        \n",
    "        (dtc,DO,vm) = permutations(copy.copy(t),b)\n",
    "        print(b)\n",
    "        display(dtc.SM)\n",
    "        display(dtc.obs_preds)\n",
    "        plt.plot(vm.times,vm.magnitude)\n",
    "        plt.show()\n",
    "\n",
    "\n"
   ]
  },
  {
   "cell_type": "code",
   "execution_count": null,
   "metadata": {},
   "outputs": [],
   "source": []
  },
  {
   "cell_type": "code",
   "execution_count": null,
   "metadata": {},
   "outputs": [],
   "source": []
  },
  {
   "cell_type": "code",
   "execution_count": null,
   "metadata": {},
   "outputs": [],
   "source": [
    "(dtc,DO) = permutations(test_frame['Neocortex pyramidal cell layer 5-6'],\"ADEXP\")\n",
    "display(dtc.SM)\n",
    "display(dtc.obs_preds)"
   ]
  },
  {
   "cell_type": "code",
   "execution_count": null,
   "metadata": {},
   "outputs": [],
   "source": [
    "\n",
    "backends = [\"RAW\",\"HH\",\"BHH\"]  \n",
    "\n",
    "\n",
    "\n",
    "#for b in backends:\n",
    "(dtc,DO) = permutations(test_frame['Neocortex pyramidal cell layer 5-6'],\"RAW\")\n"
   ]
  },
  {
   "cell_type": "code",
   "execution_count": null,
   "metadata": {},
   "outputs": [],
   "source": [
    "backends = iter([\"RAW\",\"HH\",\"BHH\"])\n",
    "\n",
    "\n",
    "from IPython.display import HTML, display\n",
    "\n",
    "for b in backends:\n",
    "    (dtc,DO) = permutations(test_frame['Neocortex pyramidal cell layer 5-6'],b)\n",
    "    display(dtc.SM)\n",
    "    display(dtc.obs_preds)\n",
    "\n"
   ]
  },
  {
   "cell_type": "code",
   "execution_count": null,
   "metadata": {},
   "outputs": [],
   "source": [
    "\n"
   ]
  },
  {
   "cell_type": "code",
   "execution_count": null,
   "metadata": {},
   "outputs": [],
   "source": [
    "#test_frame['Neocortex pyramidal cell layer 5-6']"
   ]
  },
  {
   "cell_type": "code",
   "execution_count": null,
   "metadata": {},
   "outputs": [],
   "source": []
  },
  {
   "cell_type": "code",
   "execution_count": null,
   "metadata": {},
   "outputs": [],
   "source": []
  }
 ],
 "metadata": {
  "kernelspec": {
   "display_name": "Python 3",
   "language": "python",
   "name": "python3"
  },
  "language_info": {
   "codemirror_mode": {
    "name": "ipython",
    "version": 3
   },
   "file_extension": ".py",
   "mimetype": "text/x-python",
   "name": "python",
   "nbconvert_exporter": "python",
   "pygments_lexer": "ipython3",
   "version": "3.6.9"
  }
 },
 "nbformat": 4,
 "nbformat_minor": 4
}
