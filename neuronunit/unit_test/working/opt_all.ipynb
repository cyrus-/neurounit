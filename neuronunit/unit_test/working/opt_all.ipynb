{
 "cells": [
  {
   "cell_type": "code",
   "execution_count": 1,
   "metadata": {},
   "outputs": [
    {
     "name": "stdout",
     "output_type": "stream",
     "text": [
      "consider installing pynn a heavier backend\n"
     ]
    },
    {
     "name": "stderr",
     "output_type": "stream",
     "text": [
      "INFO       Cache size for target \"cython\": 5006 MB.\n",
      "You can call \"clear_cache('cython')\" to delete all files from the cache or manually delete files in the \"/home/russell/.cython/brian_extensions\" directory. [brian2]\n",
      "INFO:root:test\n",
      "INFO:root:test\n"
     ]
    },
    {
     "data": {
      "text/plain": [
       "<sciunit.suites.TestSuite at 0x7ff57fb21978>"
      ]
     },
     "execution_count": 1,
     "metadata": {},
     "output_type": "execute_result"
    }
   ],
   "source": [
    "from neuronunit.optimisation.optimization_management import TSD\n",
    "\"\"\"Tests of NeuronUnit test classes\"\"\"\n",
    "import unittest\n",
    "import os\n",
    "import sys\n",
    "import dask\n",
    "from dask import bag\n",
    "import matplotlib\n",
    "matplotlib.use('Agg')\n",
    "import matplotlib.pyplot as plt\n",
    "\n",
    "from itertools import repeat\n",
    "import quantities as pq\n",
    "\n",
    "import copy\n",
    "import unittest\n",
    "import pickle\n",
    "\n",
    "import numpy as np\n",
    "import pickle\n",
    "import dask.bag as db\n",
    "import os\n",
    "\n",
    "from neuronunit.optimisation import get_neab\n",
    "from neuronunit.optimisation.data_transport_container import DataTC\n",
    "\n",
    "from neuronunit.optimisation.optimization_management import dtc_to_rheo#, mint_generic_model\n",
    "from neuronunit.optimisation.optimization_management import OptMan,inject_and_plot_model\n",
    "\n",
    "from neuronunit import tests as nu_tests, neuroelectro\n",
    "from neuronunit.tests import passive, waveform, fi\n",
    "from neuronunit.optimisation import exhaustive_search\n",
    "from neuronunit.optimisation.model_parameters import MODEL_PARAMS\n",
    "from neuronunit.tests import dynamics\n",
    "from neuronunit.optimisation import data_transport_container\n",
    "\n",
    "from neuronunit.tests.fi import RheobaseTest, RheobaseTestP\n",
    "from neuronunit import aibs\n",
    "from neuronunit.optimisation.optimisations import run_ga\n",
    "from neuronunit.optimisation import model_parameters\n",
    "from neuronunit.optimisation import mint_tests\n",
    "from neuronunit.optimisation import get_neab\n",
    "test_frame = get_neab.process_all_cells()\n",
    "test_frame.pop('Olfactory bulb (main) mitral cell',None)"
   ]
  },
  {
   "cell_type": "code",
   "execution_count": null,
   "metadata": {},
   "outputs": [
    {
     "name": "stdout",
     "output_type": "stream",
     "text": [
      "{'RheobaseTest': <neuronunit.tests.fi.RheobaseTest object at 0x7ff57fb425c0>, 'TimeConstantTest': <neuronunit.tests.passive.TimeConstantTest object at 0x7ff57fb50be0>, 'InjectedCurrentAPThresholdTest': <neuronunit.tests.waveform.InjectedCurrentAPThresholdTest object at 0x7ff57fb50c18>}\n"
     ]
    }
   ],
   "source": [
    "\n",
    "\n",
    "#easy_standards = {ut.name:ut.observation['std'] for ut in use_test.values()}\n",
    "\n",
    "def permutations(use_test,backend):\n",
    "    use_test = TSD(use_test)\n",
    "    use_test.use_rheobase_score = True\n",
    "    print(use_test)\n",
    "    edges = model_parameters.MODEL_PARAMS[backend]\n",
    "    ga_out = use_test.optimize(edges,backend=backend,protocol={'allen': False, 'elephant': True},\\\n",
    "       MU=5,NGEN=5,free_params=None,seed_pop=None,hold_constant=None)\n",
    "    dtc = ga_out[0]['pf'][0].dtc\n",
    "    vm,plt = inject_and_plot_model(dtc.attrs,dtc.backend)\n",
    "    plt.plot(vm.times,vm.magnitude)\n",
    "    return dtc.SM\n",
    "    \n",
    "    \n",
    "backends = [\"RAW\",\"HH\",\"ADEXP\",\"BHH\"]    \n",
    "for t in test_frame.values():\n",
    "    for b in backends:\n",
    "        SM = permutations(t,b)\n",
    "        # change print to display\n",
    "        print(SM)\n",
    "        print(t,b)\n"
   ]
  },
  {
   "cell_type": "code",
   "execution_count": null,
   "metadata": {},
   "outputs": [],
   "source": [
    "    \n",
    "    #OM = OptMan(use_test,protocol={'elephant':True,'allen':False,'dm':False})\n",
    "#results,converged,target,simulated_tests = OM.round_trip_test(use_test,str('RAW'),MU=2,NGEN=2)#,stds = easy_standards)\n",
    "#print(converged,target)\n",
    "#temp = [results,converged,target,simulated_tests]\n",
    "\n",
    "#with open('jd.p','wb') as f:\n",
    "#    pickle.dump(temp,f)\n",
    "#param_edges = model_parameters.MODEL_PARAMS['HH']\n",
    "#try:\n",
    "#    with open('jda.p','rb') as f:\n",
    "#        adconv = pickle.load(f)[0]\n",
    "#except:\n",
    "#ga_out = run_ga(param_edges, 2, simulated_tests, free_params=param_edges.keys(), \\\n",
    "#        backend=str('HH'), MU = 4,  protocol={'allen': False, 'elephant': True})\n",
    "\n"
   ]
  },
  {
   "cell_type": "code",
   "execution_count": null,
   "metadata": {},
   "outputs": [],
   "source": []
  }
 ],
 "metadata": {
  "kernelspec": {
   "display_name": "Python 3",
   "language": "python",
   "name": "python3"
  },
  "language_info": {
   "codemirror_mode": {
    "name": "ipython",
    "version": 3
   },
   "file_extension": ".py",
   "mimetype": "text/x-python",
   "name": "python",
   "nbconvert_exporter": "python",
   "pygments_lexer": "ipython3",
   "version": "3.6.9"
  }
 },
 "nbformat": 4,
 "nbformat_minor": 4
}
