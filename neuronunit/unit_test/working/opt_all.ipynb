{
 "cells": [
  {
   "cell_type": "code",
   "execution_count": 1,
   "metadata": {},
   "outputs": [
    {
     "name": "stdout",
     "output_type": "stream",
     "text": [
      "(-75, -56)\n",
      "Import of general_pyNN.PYNNBackend failed due to:\n",
      "No module named 'pyNN'\n"
     ]
    },
    {
     "name": "stderr",
     "output_type": "stream",
     "text": [
      "INFO:root:test\n",
      "INFO:root:test\n"
     ]
    }
   ],
   "source": [
    "from neuronunit.optimisation.optimization_management import TSD\n",
    "\"\"\"Tests of NeuronUnit test classes\"\"\"\n",
    "import unittest\n",
    "import os\n",
    "import sys\n",
    "import dask\n",
    "from dask import bag\n",
    "import matplotlib\n",
    "matplotlib.use('Agg')\n",
    "import matplotlib.pyplot as plt\n",
    "\n",
    "from itertools import repeat\n",
    "import quantities as pq\n",
    "\n",
    "import copy\n",
    "import unittest\n",
    "import pickle\n",
    "\n",
    "import numpy as np\n",
    "import pickle\n",
    "import dask.bag as db\n",
    "import os\n",
    "\n",
    "from neuronunit.optimisation import get_neab\n",
    "from neuronunit.optimisation.data_transport_container import DataTC\n",
    "\n",
    "from neuronunit.optimisation.optimization_management import dtc_to_rheo#, mint_generic_model\n",
    "from neuronunit.optimisation.optimization_management import OptMan,inject_and_plot_model\n",
    "\n",
    "from neuronunit import tests as nu_tests, neuroelectro\n",
    "from neuronunit.tests import passive, waveform, fi\n",
    "from neuronunit.optimisation import exhaustive_search\n",
    "from neuronunit.optimisation.model_parameters import MODEL_PARAMS\n",
    "from neuronunit.tests import dynamics\n",
    "from neuronunit.optimisation import data_transport_container\n",
    "\n",
    "from neuronunit.tests.fi import RheobaseTest, RheobaseTestP\n",
    "from neuronunit import aibs\n",
    "from neuronunit.optimisation.optimisations import run_ga\n",
    "from neuronunit.optimisation import model_parameters\n",
    "from neuronunit.optimisation import mint_tests\n",
    "from neuronunit.optimisation import get_neab\n",
    "test_frame = get_neab.process_all_cells()\n",
    "test_frame.pop('Olfactory bulb (main) mitral cell',None)\n",
    "from IPython.display import HTML, display\n"
   ]
  },
  {
   "cell_type": "code",
   "execution_count": 6,
   "metadata": {},
   "outputs": [],
   "source": [
    "\n",
    "\n",
    "#easy_standards = {ut.name:ut.observation['std'] for ut in use_test.values()}\n",
    "\n",
    "def permutations(use_test,backend):\n",
    "    use_test = TSD(use_test)\n",
    "    use_test.use_rheobase_score = True\n",
    "    edges = model_parameters.MODEL_PARAMS[backend]\n",
    "    ga_out = use_test.optimize(edges,backend=backend,protocol={'allen': False, 'elephant': True},\\\n",
    "       MU=5,NGEN=5)\n",
    "    dtc = ga_out['pf'][0].dtc\n",
    "    vm,plt = inject_and_plot_model(dtc.attrs,dtc.backend)\n",
    "    plt.plot(vm.times,vm.magnitude)\n",
    "    return dtc, ga_out['DO']\n",
    "    \n",
    "    \n",
    "\n",
    "    \n",
    "for t in test_frame.values():\n",
    "    #print(t,b)\n",
    "    break\n",
    "    \n",
    "\n"
   ]
  },
  {
   "cell_type": "code",
   "execution_count": 3,
   "metadata": {},
   "outputs": [
    {
     "data": {
      "text/plain": [
       "None"
      ]
     },
     "metadata": {},
     "output_type": "display_data"
    },
    {
     "data": {
      "text/html": [
       "<div>\n",
       "<style scoped>\n",
       "    .dataframe tbody tr th:only-of-type {\n",
       "        vertical-align: middle;\n",
       "    }\n",
       "\n",
       "    .dataframe tbody tr th {\n",
       "        vertical-align: top;\n",
       "    }\n",
       "\n",
       "    .dataframe thead th {\n",
       "        text-align: right;\n",
       "    }\n",
       "</style>\n",
       "<table border=\"1\" class=\"dataframe\">\n",
       "  <thead>\n",
       "    <tr style=\"text-align: right;\">\n",
       "      <th></th>\n",
       "      <th>RheobaseTest</th>\n",
       "      <th>InputResistanceTest</th>\n",
       "      <th>TimeConstantTest</th>\n",
       "      <th>CapacitanceTest</th>\n",
       "      <th>RestingPotentialTest</th>\n",
       "      <th>InjectedCurrentAPWidthTest</th>\n",
       "      <th>InjectedCurrentAPAmplitudeTest</th>\n",
       "      <th>InjectedCurrentAPThresholdTest</th>\n",
       "      <th>total</th>\n",
       "    </tr>\n",
       "  </thead>\n",
       "  <tbody>\n",
       "    <tr>\n",
       "      <th>observations</th>\n",
       "      <td>213.849583333333 pA</td>\n",
       "      <td>120.672073643411 Mohm</td>\n",
       "      <td>15.7342424242424 ms</td>\n",
       "      <td>150.584166666667 pF</td>\n",
       "      <td>-68.2481434599156 mV</td>\n",
       "      <td>1.20769387755102 ms</td>\n",
       "      <td>80.4351020408164 mV</td>\n",
       "      <td>-42.7357232704403 mV</td>\n",
       "      <td>NaN</td>\n",
       "    </tr>\n",
       "    <tr>\n",
       "      <th>predictions</th>\n",
       "      <td>86.67953610420227 pA</td>\n",
       "      <td>62.6494668171503 Mohm</td>\n",
       "      <td>3.815226634838408 ms</td>\n",
       "      <td>60.897990496448855 pF</td>\n",
       "      <td>-75.0 mV</td>\n",
       "      <td>0.32 ms</td>\n",
       "      <td>48.853207677096705 mV</td>\n",
       "      <td>-23.85320767709671 mV</td>\n",
       "      <td>NaN</td>\n",
       "    </tr>\n",
       "    <tr>\n",
       "      <th>scores</th>\n",
       "      <td>-0.746073</td>\n",
       "      <td>-0.747395</td>\n",
       "      <td>-1.63015</td>\n",
       "      <td>-0.642065</td>\n",
       "      <td>-1.0336</td>\n",
       "      <td>-1.66127</td>\n",
       "      <td>-2.47724</td>\n",
       "      <td>2.34836</td>\n",
       "      <td>11.286156</td>\n",
       "    </tr>\n",
       "  </tbody>\n",
       "</table>\n",
       "</div>"
      ],
      "text/plain": [
       "                      RheobaseTest    InputResistanceTest  \\\n",
       "observations   213.849583333333 pA  120.672073643411 Mohm   \n",
       "predictions   86.67953610420227 pA  62.6494668171503 Mohm   \n",
       "scores                   -0.746073              -0.747395   \n",
       "\n",
       "                  TimeConstantTest        CapacitanceTest  \\\n",
       "observations   15.7342424242424 ms    150.584166666667 pF   \n",
       "predictions   3.815226634838408 ms  60.897990496448855 pF   \n",
       "scores                    -1.63015              -0.642065   \n",
       "\n",
       "              RestingPotentialTest InjectedCurrentAPWidthTest  \\\n",
       "observations  -68.2481434599156 mV        1.20769387755102 ms   \n",
       "predictions               -75.0 mV                    0.32 ms   \n",
       "scores                     -1.0336                   -1.66127   \n",
       "\n",
       "             InjectedCurrentAPAmplitudeTest InjectedCurrentAPThresholdTest  \\\n",
       "observations            80.4351020408164 mV           -42.7357232704403 mV   \n",
       "predictions           48.853207677096705 mV          -23.85320767709671 mV   \n",
       "scores                             -2.47724                        2.34836   \n",
       "\n",
       "                  total  \n",
       "observations        NaN  \n",
       "predictions         NaN  \n",
       "scores        11.286156  "
      ]
     },
     "metadata": {},
     "output_type": "display_data"
    }
   ],
   "source": [
    "(dtc,DO) = permutations(test_frame['Neocortex pyramidal cell layer 5-6'],\"RAW\")\n",
    "display(dtc.SM)\n",
    "display(dtc.obs_preds)"
   ]
  },
  {
   "cell_type": "code",
   "execution_count": 5,
   "metadata": {},
   "outputs": [
    {
     "name": "stderr",
     "output_type": "stream",
     "text": [
      "INFO:numba.transforms:finding looplift candidates\n"
     ]
    },
    {
     "data": {
      "text/plain": [
       "None"
      ]
     },
     "metadata": {},
     "output_type": "display_data"
    },
    {
     "data": {
      "text/html": [
       "<div>\n",
       "<style scoped>\n",
       "    .dataframe tbody tr th:only-of-type {\n",
       "        vertical-align: middle;\n",
       "    }\n",
       "\n",
       "    .dataframe tbody tr th {\n",
       "        vertical-align: top;\n",
       "    }\n",
       "\n",
       "    .dataframe thead th {\n",
       "        text-align: right;\n",
       "    }\n",
       "</style>\n",
       "<table border=\"1\" class=\"dataframe\">\n",
       "  <thead>\n",
       "    <tr style=\"text-align: right;\">\n",
       "      <th></th>\n",
       "      <th>RheobaseTest</th>\n",
       "      <th>InputResistanceTest</th>\n",
       "      <th>TimeConstantTest</th>\n",
       "      <th>CapacitanceTest</th>\n",
       "      <th>RestingPotentialTest</th>\n",
       "      <th>InjectedCurrentAPWidthTest</th>\n",
       "      <th>InjectedCurrentAPAmplitudeTest</th>\n",
       "      <th>InjectedCurrentAPThresholdTest</th>\n",
       "      <th>total</th>\n",
       "    </tr>\n",
       "  </thead>\n",
       "  <tbody>\n",
       "    <tr>\n",
       "      <th>observations</th>\n",
       "      <td>213.849583333333 pA</td>\n",
       "      <td>120.672073643411 Mohm</td>\n",
       "      <td>15.7342424242424 ms</td>\n",
       "      <td>150.584166666667 pF</td>\n",
       "      <td>-68.2481434599156 mV</td>\n",
       "      <td>1.20769387755102 ms</td>\n",
       "      <td>80.4351020408164 mV</td>\n",
       "      <td>-42.7357232704403 mV</td>\n",
       "      <td>NaN</td>\n",
       "    </tr>\n",
       "    <tr>\n",
       "      <th>predictions</th>\n",
       "      <td>0.0 pA</td>\n",
       "      <td>4040.7420643144646 Mohm</td>\n",
       "      <td>0.001644317333397222 ms</td>\n",
       "      <td>0.00040693449550242193 pF</td>\n",
       "      <td>-52.84649359511553 mV</td>\n",
       "      <td>0.7590000000000001 ms</td>\n",
       "      <td>30.119890940050677 mV</td>\n",
       "      <td>0.28741591795639454 mV</td>\n",
       "      <td>NaN</td>\n",
       "    </tr>\n",
       "    <tr>\n",
       "      <th>scores</th>\n",
       "      <td>-1.2546</td>\n",
       "      <td>50.4948</td>\n",
       "      <td>-2.15172</td>\n",
       "      <td>-1.07803</td>\n",
       "      <td>2.35775</td>\n",
       "      <td>-0.839707</td>\n",
       "      <td>-3.94666</td>\n",
       "      <td>5.35065</td>\n",
       "      <td>67.473912</td>\n",
       "    </tr>\n",
       "  </tbody>\n",
       "</table>\n",
       "</div>"
      ],
      "text/plain": [
       "                     RheobaseTest      InputResistanceTest  \\\n",
       "observations  213.849583333333 pA    120.672073643411 Mohm   \n",
       "predictions                0.0 pA  4040.7420643144646 Mohm   \n",
       "scores                    -1.2546                  50.4948   \n",
       "\n",
       "                     TimeConstantTest            CapacitanceTest  \\\n",
       "observations      15.7342424242424 ms        150.584166666667 pF   \n",
       "predictions   0.001644317333397222 ms  0.00040693449550242193 pF   \n",
       "scores                       -2.15172                   -1.07803   \n",
       "\n",
       "               RestingPotentialTest InjectedCurrentAPWidthTest  \\\n",
       "observations   -68.2481434599156 mV        1.20769387755102 ms   \n",
       "predictions   -52.84649359511553 mV      0.7590000000000001 ms   \n",
       "scores                      2.35775                  -0.839707   \n",
       "\n",
       "             InjectedCurrentAPAmplitudeTest InjectedCurrentAPThresholdTest  \\\n",
       "observations            80.4351020408164 mV           -42.7357232704403 mV   \n",
       "predictions           30.119890940050677 mV         0.28741591795639454 mV   \n",
       "scores                             -3.94666                        5.35065   \n",
       "\n",
       "                  total  \n",
       "observations        NaN  \n",
       "predictions         NaN  \n",
       "scores        67.473912  "
      ]
     },
     "metadata": {},
     "output_type": "display_data"
    }
   ],
   "source": [
    "(dtc,DO) = permutations(test_frame['Neocortex pyramidal cell layer 5-6'],\"HH\")\n",
    "display(dtc.SM)\n",
    "display(dtc.obs_preds)"
   ]
  },
  {
   "cell_type": "code",
   "execution_count": null,
   "metadata": {},
   "outputs": [],
   "source": [
    "\n",
    "backends = [\"RAW\",\"HH\",\"BHH\"]  \n",
    "\n",
    "\n",
    "\n",
    "#for b in backends:\n",
    "(dtc,DO) = permutations(test_frame['Neocortex pyramidal cell layer 5-6'],\"RAW\")\n"
   ]
  },
  {
   "cell_type": "code",
   "execution_count": null,
   "metadata": {},
   "outputs": [],
   "source": [
    "backends = iter([\"RAW\",\"HH\",\"BHH\"])\n",
    "\n",
    "\n",
    "from IPython.display import HTML, display\n",
    "\n",
    "for b in backends:\n",
    "    (dtc,DO) = permutations(test_frame['Neocortex pyramidal cell layer 5-6'],b)\n",
    "    display(dtc.SM)\n",
    "    display(dtc.obs_preds)\n",
    "\n"
   ]
  },
  {
   "cell_type": "code",
   "execution_count": null,
   "metadata": {},
   "outputs": [],
   "source": [
    "\n"
   ]
  },
  {
   "cell_type": "code",
   "execution_count": null,
   "metadata": {},
   "outputs": [],
   "source": [
    "#test_frame['Neocortex pyramidal cell layer 5-6']"
   ]
  },
  {
   "cell_type": "code",
   "execution_count": null,
   "metadata": {},
   "outputs": [],
   "source": []
  },
  {
   "cell_type": "code",
   "execution_count": null,
   "metadata": {},
   "outputs": [],
   "source": []
  }
 ],
 "metadata": {
  "kernelspec": {
   "display_name": "Python 3",
   "language": "python",
   "name": "python3"
  },
  "language_info": {
   "codemirror_mode": {
    "name": "ipython",
    "version": 3
   },
   "file_extension": ".py",
   "mimetype": "text/x-python",
   "name": "python",
   "nbconvert_exporter": "python",
   "pygments_lexer": "ipython3",
   "version": "3.6.9"
  }
 },
 "nbformat": 4,
 "nbformat_minor": 4
}
