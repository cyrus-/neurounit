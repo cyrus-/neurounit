{
 "cells": [
  {
   "cell_type": "code",
   "execution_count": 1,
   "metadata": {},
   "outputs": [
    {
     "name": "stdout",
     "output_type": "stream",
     "text": [
      "consider installing pynn a heavier backend\n"
     ]
    },
    {
     "name": "stderr",
     "output_type": "stream",
     "text": [
      "INFO       Cache size for target \"cython\": 5200 MB.\n",
      "You can call \"clear_cache('cython')\" to delete all files from the cache or manually delete files in the \"/home/russell/.cython/brian_extensions\" directory. [brian2]\n",
      "INFO:root:test\n",
      "INFO:root:test\n"
     ]
    },
    {
     "name": "stdout",
     "output_type": "stream",
     "text": [
      "pynn python Error\n"
     ]
    }
   ],
   "source": [
    "from neuronunit.optimisation.optimization_management import TSD\n",
    "\"\"\"Tests of NeuronUnit test classes\"\"\"\n",
    "import unittest\n",
    "import os\n",
    "import sys\n",
    "import dask\n",
    "from dask import bag\n",
    "import matplotlib\n",
    "matplotlib.use('Agg')\n",
    "import matplotlib.pyplot as plt\n",
    "\n",
    "from itertools import repeat\n",
    "import quantities as pq\n",
    "\n",
    "import copy\n",
    "import unittest\n",
    "import pickle\n",
    "\n",
    "import numpy as np\n",
    "import pickle\n",
    "import dask.bag as db\n",
    "import os\n",
    "\n",
    "from neuronunit.optimisation import get_neab\n",
    "from neuronunit.optimisation.data_transport_container import DataTC\n",
    "\n",
    "from neuronunit.optimisation.optimization_management import dtc_to_rheo#, mint_generic_model\n",
    "from neuronunit.optimisation.optimization_management import OptMan,inject_and_plot_model\n",
    "\n",
    "from neuronunit import tests as nu_tests, neuroelectro\n",
    "from neuronunit.tests import passive, waveform, fi\n",
    "from neuronunit.optimisation import exhaustive_search\n",
    "from neuronunit.optimisation.model_parameters import MODEL_PARAMS\n",
    "from neuronunit.tests import dynamics\n",
    "from neuronunit.optimisation import data_transport_container\n",
    "\n",
    "from neuronunit.tests.fi import RheobaseTest, RheobaseTestP\n",
    "from neuronunit import aibs\n",
    "from neuronunit.optimisation.optimisations import run_ga\n",
    "from neuronunit.optimisation import model_parameters\n",
    "from neuronunit.optimisation import mint_tests\n",
    "from neuronunit.optimisation import get_neab\n",
    "test_frame = get_neab.process_all_cells()\n",
    "test_frame.pop('Olfactory bulb (main) mitral cell',None)\n",
    "from IPython.display import HTML, display\n"
   ]
  },
  {
   "cell_type": "code",
   "execution_count": 2,
   "metadata": {},
   "outputs": [],
   "source": [
    "\n",
    "\n",
    "#easy_standards = {ut.name:ut.observation['std'] for ut in use_test.values()}\n",
    "\n",
    "def permutations(use_test,backend):\n",
    "    use_test = TSD(use_test)\n",
    "    use_test.use_rheobase_score = True\n",
    "    edges = model_parameters.MODEL_PARAMS[backend]\n",
    "    ga_out = use_test.optimize(edges,backend=backend,protocol={'allen': False, 'elephant': True},\\\n",
    "       MU=1,NGEN=1,free_params=None,seed_pop=None,hold_constant=None)\n",
    "    dtc = ga_out['pf'][0].dtc\n",
    "    vm,plt = inject_and_plot_model(dtc.attrs,dtc.backend)\n",
    "    plt.plot(vm.times,vm.magnitude)\n",
    "    return dtc, ga_out['DO']\n",
    "    \n",
    "    \n",
    "\n",
    "    \n",
    "for t in test_frame.values():\n",
    "    #print(t,b)\n",
    "    break\n",
    "    \n",
    "\n"
   ]
  },
  {
   "cell_type": "code",
   "execution_count": 3,
   "metadata": {},
   "outputs": [
    {
     "name": "stdout",
     "output_type": "stream",
     "text": [
      "dict_keys(['injected_square_current', 'tmax'])\n",
      "dict_items([('injected_square_current', {'amplitude': array(142.91836735) * pA, 'delay': array(100.) * ms, 'duration': array(1000.) * ms}), ('tmax', array(2000.) * ms)])\n",
      "{'amplitude': array(142.91836735) * pA, 'delay': array(100.) * ms, 'duration': array(1000.) * ms}\n",
      "dict_keys(['injected_square_current'])\n",
      "dict_items([('injected_square_current', {'amplitude': array(142.91836735) * pA, 'delay': array(100.) * ms, 'duration': array(1000.) * ms})])\n",
      "dict_keys(['injected_square_current'])\n",
      "dict_items([('injected_square_current', {'amplitude': array(142.91836735) * pA, 'delay': array(100.) * ms, 'duration': array(1000.) * ms})])\n",
      "dict_keys(['injected_square_current'])\n",
      "dict_items([('injected_square_current', {'amplitude': array(142.91836735) * pA, 'delay': array(100.) * ms, 'duration': array(1000.) * ms})])\n",
      "dict_keys(['injected_square_current', 'tmax'])\n",
      "dict_items([('injected_square_current', {'amplitude': array(144.78571429) * pA, 'delay': array(100.) * ms, 'duration': array(1000.) * ms}), ('tmax', array(2000.) * ms)])\n",
      "dict_keys(['injected_square_current'])\n",
      "dict_items([('injected_square_current', {'amplitude': array(144.78571429) * pA, 'delay': array(100.) * ms, 'duration': array(1000.) * ms})])\n",
      "dict_keys(['injected_square_current'])\n",
      "dict_items([('injected_square_current', {'amplitude': array(144.78571429) * pA, 'delay': array(100.) * ms, 'duration': array(1000.) * ms})])\n",
      "dict_keys(['injected_square_current'])\n",
      "dict_items([('injected_square_current', {'amplitude': array(144.78571429) * pA, 'delay': array(100.) * ms, 'duration': array(1000.) * ms})])\n",
      "dict_keys(['injected_square_current', 'tmax'])\n",
      "dict_items([('injected_square_current', {'amplitude': array(1978.71720117) * pA, 'delay': array(100.) * ms, 'duration': array(1000.) * ms}), ('tmax', array(2000.) * ms)])\n",
      "dict_keys(['injected_square_current'])\n",
      "dict_items([('injected_square_current', {'amplitude': array(1978.71720117) * pA, 'delay': array(100.) * ms, 'duration': array(1000.) * ms})])\n",
      "dict_keys(['injected_square_current'])\n",
      "dict_items([('injected_square_current', {'amplitude': array(1978.71720117) * pA, 'delay': array(100.) * ms, 'duration': array(1000.) * ms})])\n",
      "dict_keys(['injected_square_current'])\n",
      "dict_items([('injected_square_current', {'amplitude': array(1978.71720117) * pA, 'delay': array(100.) * ms, 'duration': array(1000.) * ms})])\n",
      "dict_keys(['injected_square_current', 'tmax'])\n",
      "dict_items([('injected_square_current', {'amplitude': array(1978.71720117) * pA, 'delay': array(100.) * ms, 'duration': array(1000.) * ms}), ('tmax', array(2000.) * ms)])\n",
      "dict_keys(['injected_square_current'])\n",
      "dict_items([('injected_square_current', {'amplitude': array(1978.71720117) * pA, 'delay': array(100.) * ms, 'duration': array(1000.) * ms})])\n",
      "dict_keys(['injected_square_current'])\n",
      "dict_items([('injected_square_current', {'amplitude': array(1978.71720117) * pA, 'delay': array(100.) * ms, 'duration': array(1000.) * ms})])\n",
      "dict_keys(['injected_square_current'])\n",
      "dict_items([('injected_square_current', {'amplitude': array(1978.71720117) * pA, 'delay': array(100.) * ms, 'duration': array(1000.) * ms})])\n",
      "dict_keys(['injected_square_current', 'tmax'])\n",
      "dict_items([('injected_square_current', {'amplitude': array(109.83965015) * pA, 'delay': array(100.) * ms, 'duration': array(1000.) * ms}), ('tmax', array(2000.) * ms)])\n",
      "dict_keys(['injected_square_current'])\n",
      "dict_items([('injected_square_current', {'amplitude': array(109.83965015) * pA, 'delay': array(100.) * ms, 'duration': array(1000.) * ms})])\n",
      "dict_keys(['injected_square_current'])\n",
      "dict_items([('injected_square_current', {'amplitude': array(109.83965015) * pA, 'delay': array(100.) * ms, 'duration': array(1000.) * ms})])\n",
      "dict_keys(['injected_square_current'])\n",
      "dict_items([('injected_square_current', {'amplitude': array(109.83965015) * pA, 'delay': array(100.) * ms, 'duration': array(1000.) * ms})])\n",
      "dict_keys(['injected_square_current', 'tmax'])\n",
      "dict_items([('injected_square_current', {'amplitude': array(111.17346939) * pA, 'delay': array(100.) * ms, 'duration': array(1000.) * ms}), ('tmax', array(2000.) * ms)])\n",
      "dict_keys(['injected_square_current'])\n",
      "dict_items([('injected_square_current', {'amplitude': array(111.17346939) * pA, 'delay': array(100.) * ms, 'duration': array(1000.) * ms})])\n",
      "dict_keys(['injected_square_current'])\n",
      "dict_items([('injected_square_current', {'amplitude': array(111.17346939) * pA, 'delay': array(100.) * ms, 'duration': array(1000.) * ms})])\n",
      "dict_keys(['injected_square_current'])\n",
      "dict_items([('injected_square_current', {'amplitude': array(111.17346939) * pA, 'delay': array(100.) * ms, 'duration': array(1000.) * ms})])\n",
      "dict_keys(['injected_square_current', 'tmax'])\n",
      "dict_items([('injected_square_current', {'amplitude': array(1560.20408163) * pA, 'delay': array(100.) * ms, 'duration': array(1000.) * ms}), ('tmax', array(2000.) * ms)])\n",
      "dict_keys(['injected_square_current'])\n",
      "dict_items([('injected_square_current', {'amplitude': array(1560.20408163) * pA, 'delay': array(100.) * ms, 'duration': array(1000.) * ms})])\n",
      "dict_keys(['injected_square_current'])\n",
      "dict_items([('injected_square_current', {'amplitude': array(1560.20408163) * pA, 'delay': array(100.) * ms, 'duration': array(1000.) * ms})])\n",
      "dict_keys(['injected_square_current'])\n",
      "dict_items([('injected_square_current', {'amplitude': array(1560.20408163) * pA, 'delay': array(100.) * ms, 'duration': array(1000.) * ms})])\n",
      "dict_keys(['injected_square_current', 'tmax'])\n",
      "dict_items([('injected_square_current', {'amplitude': array(1562.26572262) * pA, 'delay': array(100.) * ms, 'duration': array(1000.) * ms}), ('tmax', array(2000.) * ms)])\n",
      "dict_keys(['injected_square_current'])\n",
      "dict_items([('injected_square_current', {'amplitude': array(1562.26572262) * pA, 'delay': array(100.) * ms, 'duration': array(1000.) * ms})])\n",
      "dict_keys(['injected_square_current'])\n",
      "dict_items([('injected_square_current', {'amplitude': array(1562.26572262) * pA, 'delay': array(100.) * ms, 'duration': array(1000.) * ms})])\n",
      "dict_keys(['injected_square_current'])\n",
      "dict_items([('injected_square_current', {'amplitude': array(1562.26572262) * pA, 'delay': array(100.) * ms, 'duration': array(1000.) * ms})])\n"
     ]
    },
    {
     "ename": "AttributeError",
     "evalue": "'NoneType' object has no attribute 'score'",
     "output_type": "error",
     "traceback": [
      "\u001b[0;31m---------------------------------------------------------------------------\u001b[0m",
      "\u001b[0;31mAttributeError\u001b[0m                            Traceback (most recent call last)",
      "\u001b[0;32m<ipython-input-3-b4ff0dfcb6d8>\u001b[0m in \u001b[0;36m<module>\u001b[0;34m\u001b[0m\n\u001b[0;32m----> 1\u001b[0;31m \u001b[0;34m(\u001b[0m\u001b[0mdtc\u001b[0m\u001b[0;34m,\u001b[0m\u001b[0mDO\u001b[0m\u001b[0;34m)\u001b[0m \u001b[0;34m=\u001b[0m \u001b[0mpermutations\u001b[0m\u001b[0;34m(\u001b[0m\u001b[0mtest_frame\u001b[0m\u001b[0;34m[\u001b[0m\u001b[0;34m'Neocortex pyramidal cell layer 5-6'\u001b[0m\u001b[0;34m]\u001b[0m\u001b[0;34m,\u001b[0m\u001b[0;34m\"ADEXP\"\u001b[0m\u001b[0;34m)\u001b[0m\u001b[0;34m\u001b[0m\u001b[0;34m\u001b[0m\u001b[0m\n\u001b[0m\u001b[1;32m      2\u001b[0m \u001b[0mdisplay\u001b[0m\u001b[0;34m(\u001b[0m\u001b[0mdtc\u001b[0m\u001b[0;34m.\u001b[0m\u001b[0mSM\u001b[0m\u001b[0;34m)\u001b[0m\u001b[0;34m\u001b[0m\u001b[0;34m\u001b[0m\u001b[0m\n\u001b[1;32m      3\u001b[0m \u001b[0mdisplay\u001b[0m\u001b[0;34m(\u001b[0m\u001b[0mdtc\u001b[0m\u001b[0;34m.\u001b[0m\u001b[0mobs_preds\u001b[0m\u001b[0;34m)\u001b[0m\u001b[0;34m\u001b[0m\u001b[0;34m\u001b[0m\u001b[0m\n",
      "\u001b[0;32m<ipython-input-2-4af617931da6>\u001b[0m in \u001b[0;36mpermutations\u001b[0;34m(use_test, backend)\u001b[0m\n\u001b[1;32m      6\u001b[0m     \u001b[0medges\u001b[0m \u001b[0;34m=\u001b[0m \u001b[0mmodel_parameters\u001b[0m\u001b[0;34m.\u001b[0m\u001b[0mMODEL_PARAMS\u001b[0m\u001b[0;34m[\u001b[0m\u001b[0mbackend\u001b[0m\u001b[0;34m]\u001b[0m\u001b[0;34m\u001b[0m\u001b[0;34m\u001b[0m\u001b[0m\n\u001b[1;32m      7\u001b[0m     ga_out = use_test.optimize(edges,backend=backend,protocol={'allen': False, 'elephant': True},\\\n\u001b[0;32m----> 8\u001b[0;31m        MU=1,NGEN=1,free_params=None,seed_pop=None,hold_constant=None)\n\u001b[0m\u001b[1;32m      9\u001b[0m     \u001b[0mdtc\u001b[0m \u001b[0;34m=\u001b[0m \u001b[0mga_out\u001b[0m\u001b[0;34m[\u001b[0m\u001b[0;34m'pf'\u001b[0m\u001b[0;34m]\u001b[0m\u001b[0;34m[\u001b[0m\u001b[0;36m0\u001b[0m\u001b[0;34m]\u001b[0m\u001b[0;34m.\u001b[0m\u001b[0mdtc\u001b[0m\u001b[0;34m\u001b[0m\u001b[0;34m\u001b[0m\u001b[0m\n\u001b[1;32m     10\u001b[0m     \u001b[0mvm\u001b[0m\u001b[0;34m,\u001b[0m\u001b[0mplt\u001b[0m \u001b[0;34m=\u001b[0m \u001b[0minject_and_plot_model\u001b[0m\u001b[0;34m(\u001b[0m\u001b[0mdtc\u001b[0m\u001b[0;34m.\u001b[0m\u001b[0mattrs\u001b[0m\u001b[0;34m,\u001b[0m\u001b[0mdtc\u001b[0m\u001b[0;34m.\u001b[0m\u001b[0mbackend\u001b[0m\u001b[0;34m)\u001b[0m\u001b[0;34m\u001b[0m\u001b[0;34m\u001b[0m\u001b[0m\n",
      "\u001b[0;32m~/safe2/neuronunit/neuronunit/optimisation/optimization_management.py\u001b[0m in \u001b[0;36moptimize\u001b[0;34m(self, param_edges, backend, protocol, MU, NGEN, free_params, seed_pop, hold_constant)\u001b[0m\n\u001b[1;32m    285\u001b[0m         \u001b[0mself\u001b[0m\u001b[0;34m.\u001b[0m\u001b[0mDO\u001b[0m\u001b[0;34m.\u001b[0m\u001b[0mMU\u001b[0m \u001b[0;34m=\u001b[0m \u001b[0mMU\u001b[0m\u001b[0;34m\u001b[0m\u001b[0;34m\u001b[0m\u001b[0m\n\u001b[1;32m    286\u001b[0m         \u001b[0mself\u001b[0m\u001b[0;34m.\u001b[0m\u001b[0mDO\u001b[0m\u001b[0;34m.\u001b[0m\u001b[0mNGEN\u001b[0m \u001b[0;34m=\u001b[0m \u001b[0mNGEN\u001b[0m\u001b[0;34m\u001b[0m\u001b[0;34m\u001b[0m\u001b[0m\n\u001b[0;32m--> 287\u001b[0;31m         \u001b[0mga_out\u001b[0m \u001b[0;34m=\u001b[0m \u001b[0mself\u001b[0m\u001b[0;34m.\u001b[0m\u001b[0mDO\u001b[0m\u001b[0;34m.\u001b[0m\u001b[0mrun\u001b[0m\u001b[0;34m(\u001b[0m\u001b[0mNGEN\u001b[0m \u001b[0;34m=\u001b[0m \u001b[0mself\u001b[0m\u001b[0;34m.\u001b[0m\u001b[0mDO\u001b[0m\u001b[0;34m.\u001b[0m\u001b[0mNGEN\u001b[0m\u001b[0;34m)\u001b[0m\u001b[0;34m\u001b[0m\u001b[0;34m\u001b[0m\u001b[0m\n\u001b[0m\u001b[1;32m    288\u001b[0m         \u001b[0mga_out\u001b[0m\u001b[0;34m[\u001b[0m\u001b[0;34m'DO'\u001b[0m\u001b[0;34m]\u001b[0m \u001b[0;34m=\u001b[0m \u001b[0mself\u001b[0m\u001b[0;34m.\u001b[0m\u001b[0mDO\u001b[0m\u001b[0;34m\u001b[0m\u001b[0;34m\u001b[0m\u001b[0m\n\u001b[1;32m    289\u001b[0m         \u001b[0;32mif\u001b[0m \u001b[0;32mnot\u001b[0m \u001b[0mhasattr\u001b[0m\u001b[0;34m(\u001b[0m\u001b[0mga_out\u001b[0m\u001b[0;34m[\u001b[0m\u001b[0;34m'pf'\u001b[0m\u001b[0;34m]\u001b[0m\u001b[0;34m[\u001b[0m\u001b[0;36m0\u001b[0m\u001b[0;34m]\u001b[0m\u001b[0;34m,\u001b[0m\u001b[0;34m'dtc'\u001b[0m\u001b[0;34m)\u001b[0m \u001b[0;32mand\u001b[0m \u001b[0;34m'dtc_pop'\u001b[0m \u001b[0;32mnot\u001b[0m \u001b[0;32min\u001b[0m \u001b[0mga_out\u001b[0m\u001b[0;34m.\u001b[0m\u001b[0mkeys\u001b[0m\u001b[0;34m(\u001b[0m\u001b[0;34m)\u001b[0m\u001b[0;34m:\u001b[0m\u001b[0;34m\u001b[0m\u001b[0;34m\u001b[0m\u001b[0m\n",
      "\u001b[0;32m~/safe2/neuronunit/neuronunit/optimisation/optimisations.py\u001b[0m in \u001b[0;36mrun\u001b[0;34m(self, continue_cp, cp_filename, cp_frequency, NGEN)\u001b[0m\n\u001b[1;32m    430\u001b[0m             \u001b[0mcp_filename\u001b[0m\u001b[0;34m=\u001b[0m\u001b[0mcp_filename\u001b[0m\u001b[0;34m,\u001b[0m\u001b[0;34m\u001b[0m\u001b[0;34m\u001b[0m\u001b[0m\n\u001b[1;32m    431\u001b[0m             \u001b[0mselection\u001b[0m \u001b[0;34m=\u001b[0m \u001b[0mself\u001b[0m\u001b[0;34m.\u001b[0m\u001b[0mselection\u001b[0m\u001b[0;34m,\u001b[0m\u001b[0;34m\u001b[0m\u001b[0;34m\u001b[0m\u001b[0m\n\u001b[0;32m--> 432\u001b[0;31m             td = self.td)\n\u001b[0m\u001b[1;32m    433\u001b[0m \u001b[0;34m\u001b[0m\u001b[0m\n\u001b[1;32m    434\u001b[0m         \u001b[0;31m# insert the initial HOF value back in.\u001b[0m\u001b[0;34m\u001b[0m\u001b[0;34m\u001b[0m\u001b[0;34m\u001b[0m\u001b[0m\n",
      "\u001b[0;32m~/safe2/neuronunit/neuronunit/optimisation/algorithms.py\u001b[0m in \u001b[0;36meaAlphaMuPlusLambdaCheckpoint\u001b[0;34m(pop, toolbox, MU, cxpb, mutpb, NGEN, stats, hof, pf, nelite, cp_frequency, cp_filename, continue_cp, selection, td)\u001b[0m\n\u001b[1;32m    285\u001b[0m         \u001b[0mlogbook\u001b[0m\u001b[0;34m.\u001b[0m\u001b[0mheader\u001b[0m \u001b[0;34m=\u001b[0m \u001b[0;34m\"gen\"\u001b[0m\u001b[0;34m,\u001b[0m \u001b[0;34m\"evals\"\u001b[0m\u001b[0;34m,\u001b[0m \u001b[0;34m\"std\"\u001b[0m\u001b[0;34m,\u001b[0m \u001b[0;34m\"min\"\u001b[0m\u001b[0;34m,\u001b[0m \u001b[0;34m\"avg\"\u001b[0m\u001b[0;34m,\u001b[0m \u001b[0;34m\"max\"\u001b[0m\u001b[0;34m\u001b[0m\u001b[0;34m\u001b[0m\u001b[0m\n\u001b[1;32m    286\u001b[0m         \u001b[0minvalid_ind\u001b[0m \u001b[0;34m=\u001b[0m \u001b[0;34m[\u001b[0m\u001b[0mind\u001b[0m \u001b[0;32mfor\u001b[0m \u001b[0mind\u001b[0m \u001b[0;32min\u001b[0m \u001b[0mpop\u001b[0m \u001b[0;32mif\u001b[0m \u001b[0;32mnot\u001b[0m \u001b[0mind\u001b[0m\u001b[0;34m.\u001b[0m\u001b[0mfitness\u001b[0m\u001b[0;34m.\u001b[0m\u001b[0mvalid\u001b[0m\u001b[0;34m]\u001b[0m\u001b[0;34m\u001b[0m\u001b[0;34m\u001b[0m\u001b[0m\n\u001b[0;32m--> 287\u001b[0;31m         \u001b[0minvalid_ind\u001b[0m\u001b[0;34m,\u001b[0m\u001b[0mfitnesses\u001b[0m \u001b[0;34m=\u001b[0m \u001b[0mtoolbox\u001b[0m\u001b[0;34m.\u001b[0m\u001b[0mevaluate\u001b[0m\u001b[0;34m(\u001b[0m\u001b[0minvalid_ind\u001b[0m\u001b[0;34m)\u001b[0m\u001b[0;34m\u001b[0m\u001b[0;34m\u001b[0m\u001b[0m\n\u001b[0m\u001b[1;32m    288\u001b[0m \u001b[0;34m\u001b[0m\u001b[0m\n\u001b[1;32m    289\u001b[0m \u001b[0;34m\u001b[0m\u001b[0m\n",
      "\u001b[0;32m~/safe2/neuronunit/neuronunit/optimisation/optimisations.py\u001b[0m in \u001b[0;36mcustom_code\u001b[0;34m(invalid_ind)\u001b[0m\n\u001b[1;32m    349\u001b[0m             \u001b[0minvalid_dtc\u001b[0m \u001b[0;34m=\u001b[0m \u001b[0;34m[\u001b[0m \u001b[0mi\u001b[0m\u001b[0;34m.\u001b[0m\u001b[0mdtc\u001b[0m \u001b[0;32mfor\u001b[0m \u001b[0mi\u001b[0m \u001b[0;32min\u001b[0m \u001b[0minvalid_pop\u001b[0m \u001b[0;32mif\u001b[0m \u001b[0mhasattr\u001b[0m\u001b[0;34m(\u001b[0m\u001b[0mi\u001b[0m\u001b[0;34m,\u001b[0m\u001b[0;34m'dtc'\u001b[0m\u001b[0;34m)\u001b[0m \u001b[0;34m]\u001b[0m\u001b[0;34m\u001b[0m\u001b[0;34m\u001b[0m\u001b[0m\n\u001b[1;32m    350\u001b[0m             \u001b[0;32massert\u001b[0m \u001b[0mlen\u001b[0m\u001b[0;34m(\u001b[0m\u001b[0minvalid_pop\u001b[0m\u001b[0;34m)\u001b[0m \u001b[0;34m==\u001b[0m \u001b[0mlen\u001b[0m\u001b[0;34m(\u001b[0m\u001b[0minvalid_dtc\u001b[0m\u001b[0;34m)\u001b[0m\u001b[0;34m\u001b[0m\u001b[0;34m\u001b[0m\u001b[0m\n\u001b[0;32m--> 351\u001b[0;31m             \u001b[0mfitnesses\u001b[0m \u001b[0;34m=\u001b[0m \u001b[0mlist\u001b[0m\u001b[0;34m(\u001b[0m\u001b[0mmap\u001b[0m\u001b[0;34m(\u001b[0m\u001b[0mom\u001b[0m\u001b[0;34m.\u001b[0m\u001b[0mevaluate\u001b[0m\u001b[0;34m,\u001b[0m \u001b[0minvalid_dtc\u001b[0m\u001b[0;34m)\u001b[0m\u001b[0;34m)\u001b[0m\u001b[0;34m\u001b[0m\u001b[0;34m\u001b[0m\u001b[0m\n\u001b[0m\u001b[1;32m    352\u001b[0m             \u001b[0;32mreturn\u001b[0m \u001b[0;34m(\u001b[0m\u001b[0minvalid_pop\u001b[0m\u001b[0;34m,\u001b[0m\u001b[0mfitnesses\u001b[0m\u001b[0;34m)\u001b[0m\u001b[0;34m\u001b[0m\u001b[0;34m\u001b[0m\u001b[0m\n\u001b[1;32m    353\u001b[0m \u001b[0;34m\u001b[0m\u001b[0m\n",
      "\u001b[0;32m~/safe2/neuronunit/neuronunit/optimisation/optimization_management.py\u001b[0m in \u001b[0;36mevaluate\u001b[0;34m(dtc, regularization, elastic_net)\u001b[0m\n\u001b[1;32m   1733\u001b[0m         \u001b[0;32mreturn\u001b[0m \u001b[0;34m[\u001b[0m\u001b[0;34m]\u001b[0m\u001b[0;34m\u001b[0m\u001b[0;34m\u001b[0m\u001b[0m\n\u001b[1;32m   1734\u001b[0m     \u001b[0;32melse\u001b[0m\u001b[0;34m:\u001b[0m\u001b[0;34m\u001b[0m\u001b[0;34m\u001b[0m\u001b[0m\n\u001b[0;32m-> 1735\u001b[0;31m         \u001b[0mfitness\u001b[0m \u001b[0;34m=\u001b[0m \u001b[0mtuple\u001b[0m\u001b[0;34m(\u001b[0m\u001b[0mdtc\u001b[0m\u001b[0;34m.\u001b[0m\u001b[0mSM\u001b[0m\u001b[0;34m.\u001b[0m\u001b[0mscore\u001b[0m\u001b[0;34m.\u001b[0m\u001b[0mvalues\u001b[0m\u001b[0;34m[\u001b[0m\u001b[0;36m0\u001b[0m\u001b[0;34m]\u001b[0m\u001b[0;34m,\u001b[0m\u001b[0;34m)\u001b[0m\u001b[0;34m\u001b[0m\u001b[0;34m\u001b[0m\u001b[0m\n\u001b[0m\u001b[1;32m   1736\u001b[0m         \u001b[0;32mreturn\u001b[0m \u001b[0mfitness\u001b[0m\u001b[0;34m\u001b[0m\u001b[0;34m\u001b[0m\u001b[0m\n\u001b[1;32m   1737\u001b[0m \u001b[0;34m\u001b[0m\u001b[0m\n",
      "\u001b[0;31mAttributeError\u001b[0m: 'NoneType' object has no attribute 'score'"
     ]
    }
   ],
   "source": [
    "(dtc,DO) = permutations(test_frame['Neocortex pyramidal cell layer 5-6'],\"ADEXP\")\n",
    "display(dtc.SM)\n",
    "display(dtc.obs_preds)"
   ]
  },
  {
   "cell_type": "code",
   "execution_count": null,
   "metadata": {},
   "outputs": [],
   "source": [
    "(dtc,DO) = permutations(test_frame['Neocortex pyramidal cell layer 5-6'],\"ADEXP\")\n",
    "display(dtc.SM)\n",
    "display(dtc.obs_preds)"
   ]
  },
  {
   "cell_type": "code",
   "execution_count": null,
   "metadata": {},
   "outputs": [],
   "source": [
    "\n",
    "backends = [\"RAW\",\"HH\",\"BHH\"]  \n",
    "\n",
    "\n",
    "\n",
    "#for b in backends:\n",
    "(dtc,DO) = permutations(test_frame['Neocortex pyramidal cell layer 5-6'],\"RAW\")\n"
   ]
  },
  {
   "cell_type": "code",
   "execution_count": null,
   "metadata": {},
   "outputs": [],
   "source": [
    "backends = iter([\"RAW\",\"HH\",\"BHH\"])\n",
    "\n",
    "\n",
    "from IPython.display import HTML, display\n",
    "\n",
    "for b in backends:\n",
    "    (dtc,DO) = permutations(test_frame['Neocortex pyramidal cell layer 5-6'],b)\n",
    "    display(dtc.SM)\n",
    "    display(dtc.obs_preds)\n",
    "\n"
   ]
  },
  {
   "cell_type": "code",
   "execution_count": null,
   "metadata": {},
   "outputs": [],
   "source": [
    "\n"
   ]
  },
  {
   "cell_type": "code",
   "execution_count": null,
   "metadata": {},
   "outputs": [],
   "source": [
    "#test_frame['Neocortex pyramidal cell layer 5-6']"
   ]
  },
  {
   "cell_type": "code",
   "execution_count": null,
   "metadata": {},
   "outputs": [],
   "source": []
  },
  {
   "cell_type": "code",
   "execution_count": null,
   "metadata": {},
   "outputs": [],
   "source": []
  }
 ],
 "metadata": {
  "kernelspec": {
   "display_name": "Python 3",
   "language": "python",
   "name": "python3"
  },
  "language_info": {
   "codemirror_mode": {
    "name": "ipython",
    "version": 3
   },
   "file_extension": ".py",
   "mimetype": "text/x-python",
   "name": "python",
   "nbconvert_exporter": "python",
   "pygments_lexer": "ipython3",
   "version": "3.6.9"
  }
 },
 "nbformat": 4,
 "nbformat_minor": 4
}
