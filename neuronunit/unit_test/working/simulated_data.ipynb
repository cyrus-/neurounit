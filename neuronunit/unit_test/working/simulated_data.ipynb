{
 "cells": [
  {
   "cell_type": "code",
   "execution_count": 1,
   "metadata": {},
   "outputs": [
    {
     "data": {
      "image/png": "[encoded data removed]",
      "text/plain": [
       "<Figure size 432x288 with 1 Axes>"
      ]
     },
     "metadata": {
      "needs_background": "light"
     },
     "output_type": "display_data"
    },
    {
     "name": "stderr",
     "output_type": "stream",
     "text": [
      "INFO:root:test\n",
      "INFO:root:test\n"
     ]
    },
    {
     "name": "stdout",
     "output_type": "stream",
     "text": [
      "(-75, -56)\n",
      "Import of badexp.ADEXPBackend failed due to:\n",
      "No module named 'neuronunit.models.backends.badexp'\n",
      "Import of bhh.BHHBackend failed due to:\n",
      "No module named 'neuronunit.models.backends.bhh'\n",
      "Import of general_pyNN.PYNNBackend failed due to:\n",
      "No module named 'pyNN'\n"
     ]
    }
   ],
   "source": [
    "import matplotlib.pyplot as plt\n",
    "import matplotlib\n",
    "%matplotlib inline\n",
    "plt.plot([0,1],[1,0])\n",
    "plt.show()\n",
    "import hide_imports\n",
    "from neuronunit.optimisation.optimization_management import inject_and_plot_model\n"
   ]
  },
  {
   "cell_type": "code",
   "execution_count": 2,
   "metadata": {},
   "outputs": [],
   "source": [
    "def jrt(use_test,backend):\n",
    "    use_test = hide_imports.TSD(use_test)\n",
    "    use_test.use_rheobase_score = True\n",
    "    edges = hide_imports.model_parameters.MODEL_PARAMS[backend]\n",
    "\n",
    "    OM = hide_imports.OptMan(use_test,\\\n",
    "                backend=backend,\\\n",
    "                boundary_dict=edges,\\\n",
    "                protocol={'allen': False, 'elephant': True})\n",
    "\n",
    "    return OM\n",
    "\n",
    "\n",
    "def permutations(use_test,backend):\n",
    "    use_test = hide_imports.TSD(use_test)\n",
    "    use_test.use_rheobase_score = True\n",
    "    edges = model_parameters.MODEL_PARAMS[backend]\n",
    "    ga_out0 = use_test.optimize(edges,backend=backend,\\\n",
    "        protocol={'allen': False, 'elephant': True}, MU=2,NGEN=1)\n",
    "    ga_out1 =  use_test.optimize(edges,backend=backend,\\\n",
    "        protocol={'allen': False, 'elephant': True},\\\n",
    "            MU=2,NGEN=1,seed_pop=ga_out0['pf'][0])\n",
    "\n",
    "    \n",
    "    dtc = ga_out1['pf'][0].dtc\n",
    "    vm,plt = inject_and_plot_model(dtc.attrs,dtc.backend)\n",
    "\n",
    "    return dtc, ga_out1['DO'], vm"
   ]
  },
  {
   "cell_type": "code",
   "execution_count": 3,
   "metadata": {},
   "outputs": [
    {
     "name": "stdout",
     "output_type": "stream",
     "text": [
      "('RheobaseTest', {'mean': array(213.84958333) * pA, 'std': array(170.45245472) * pA, 'n': 32})\n",
      "('InputResistanceTest', {'mean': array(120.67207364) * Mohm, 'std': array(77.63316083) * Mohm, 'n': 86})\n",
      "('TimeConstantTest', {'mean': array(15.73424242) * ms, 'std': array(7.31162637) * ms, 'n': 33})\n",
      "('CapacitanceTest', {'mean': array(150.58416667) * pF, 'std': array(139.68388463) * pF, 'n': 12})\n",
      "('RestingPotentialTest', {'mean': array(-68.24814346) * mV, 'std': array(6.53234788) * mV, 'n': 79})\n",
      "('InjectedCurrentAPWidthTest', {'mean': array(1.20769388) * ms, 'std': array(0.53434592) * ms, 'n': 49})\n",
      "('InjectedCurrentAPAmplitudeTest', {'mean': array(80.43510204) * mV, 'std': array(12.74880304) * mV, 'n': 49})\n",
      "('InjectedCurrentAPThresholdTest', {'mean': array(-42.73572327) * mV, 'std': array(8.04073233) * mV, 'n': 53})\n"
     ]
    }
   ],
   "source": [
    "test_frame = hide_imports.get_neab.process_all_cells()\n",
    "test_frame.pop('Olfactory bulb (main) mitral cell',None)\n",
    "stds = {}\n",
    "for k,v in hide_imports.TSD(test_frame['Neocortex pyramidal cell layer 5-6']).items():\n",
    "    temp = hide_imports.TSD(test_frame['Neocortex pyramidal cell layer 5-6'])[k]\n",
    "    stds[k] = temp.observation['std']\n",
    "    print((temp.name,temp.observation))\n",
    "OMObjects = []\n",
    "backends = [\"RAW\"]#,\"HH\"]#,\"ADEXP\",\"BHH\"]\n",
    "#t = \n",
    "#for t in test_frame.values():\n",
    "#    break\n",
    "import copy\n",
    "cloned_tests = copy.copy(test_frame['Neocortex pyramidal cell layer 5-6'])\n",
    "import copy\n",
    "for b in backends:        \n",
    "    OM = jrt(cloned_tests,b)\n",
    "    OMObjects.append(OM)\n",
    "rt_outs = []"
   ]
  },
  {
   "cell_type": "code",
   "execution_count": 4,
   "metadata": {},
   "outputs": [
    {
     "name": "stdout",
     "output_type": "stream",
     "text": [
      "RAW\n",
      "{'value': array(133.20558071) * pA}\n",
      "{'value': array(33591489.94003433) * kg*m**2/(s**3*A**2)}\n",
      "{'value': array(5.30089068) * s}\n",
      "{'value': array(1.57804572e-07) * s**4*A**2/(kg*m**2)}\n",
      "{'mean': array(-63.1752743) * mV, 'std': array(2.84217094e-14) * mV}\n",
      "{'mean': array(0.00031) * s, 'std': array(0.) * s, 'n': 1}\n",
      "{'value': array([52.01584468]) * mV, 'mean': array(52.01584468) * mV, 'std': array(0.) * mV, 'n': 1}\n",
      "{'mean': array(-12.01673959) * mV, 'std': array(0.) * mV, 'n': 1}\n",
      "Random simulated data tests made\n",
      "(<neuronunit.optimisation.data_transport_container.DataTC object at 0x7f6cf7b746d8>, {'RheobaseTest': <neuronunit.tests.fi.RheobaseTest object at 0x7f6cf7b0c940>, 'InputResistanceTest': <neuronunit.tests.passive.InputResistanceTest object at 0x7f6cf7b0c978>, 'TimeConstantTest': <neuronunit.tests.passive.TimeConstantTest object at 0x7f6cf7b0c9b0>, 'CapacitanceTest': <neuronunit.tests.passive.CapacitanceTest object at 0x7f6cf7b0c9e8>, 'RestingPotentialTest': <neuronunit.tests.passive.RestingPotentialTest object at 0x7f6cf7b0cb70>, 'InjectedCurrentAPWidthTest': <neuronunit.tests.waveform.InjectedCurrentAPWidthTest object at 0x7f6cf7b0cba8>, 'InjectedCurrentAPAmplitudeTest': <neuronunit.tests.waveform.InjectedCurrentAPAmplitudeTest object at 0x7f6cf7b0cbe0>, 'InjectedCurrentAPThresholdTest': <neuronunit.tests.waveform.InjectedCurrentAPThresholdTest object at 0x7f6cf7b0cc18>})\n"
     ]
    }
   ],
   "source": [
    "for OM in OMObjects:\n",
    "   print(OM.backend)\n",
    "   x= {k:v for k,v in OM.tests.items() if 'mean' in v.observation.keys() or 'value' in v.observation.keys()}\n",
    "   cloned_tests = copy.copy(OM.tests)\n",
    "   OM.tests = hide_imports.TSD(cloned_tests)\n",
    "   rt_out = OM.simulate_data(OM.tests,OM.backend,OM.boundary_dict)\n",
    "   print(rt_out)\n"
   ]
  },
  {
   "cell_type": "code",
   "execution_count": 5,
   "metadata": {},
   "outputs": [],
   "source": [
    "tests_final = hide_imports.TSD(test_frame['Neocortex pyramidal cell layer 5-6'])\n",
    "for k,v in tests_final.items():\n",
    "    temp = tests_final[k]\n",
    "\n",
    "    v = rt_out[1][k].observation\n",
    "    v['std'] = stds[k]\n"
   ]
  },
  {
   "cell_type": "code",
   "execution_count": 6,
   "metadata": {},
   "outputs": [
    {
     "data": {
      "text/plain": [
       "(AnalogSignal with 1 channels of length 130000; units mV; datatype float64 \n",
       " sampling rate: 100.0\n",
       " time: 0.0 to 1.3,\n",
       " <module 'matplotlib.pyplot' from '/usr/local/lib/python3.6/dist-packages/matplotlib/pyplot.py'>)"
      ]
     },
     "execution_count": 6,
     "metadata": {},
     "output_type": "execute_result"
    },
    {
     "data": {
      "image/png": "[encoded data removed]",
      "text/plain": [
       "<Figure size 432x288 with 1 Axes>"
      ]
     },
     "metadata": {
      "needs_background": "light"
     },
     "output_type": "display_data"
    }
   ],
   "source": [
    "origin = rt_out[0]\n",
    "origin.rheobase\n",
    "inject_and_plot_model(origin.attrs,origin.backend)"
   ]
  },
  {
   "cell_type": "code",
   "execution_count": 7,
   "metadata": {},
   "outputs": [],
   "source": [
    "ga_out =  hide_imports.TSD(tests_final).optimize(OMObjects[0].boundary_dict,backend=OMObjects[0].backend,\\\n",
    "        protocol={'allen': False, 'elephant': True},\\\n",
    "            MU=8,NGEN=16)\n",
    "opt = ga_out['pf'][0].dtc"
   ]
  },
  {
   "cell_type": "code",
   "execution_count": null,
   "metadata": {},
   "outputs": [],
   "source": []
  },
  {
   "cell_type": "code",
   "execution_count": 8,
   "metadata": {},
   "outputs": [
    {
     "data": {
      "text/plain": [
       "array(281.14566207) * pA"
      ]
     },
     "execution_count": 8,
     "metadata": {},
     "output_type": "execute_result"
    }
   ],
   "source": [
    "opt.rheobase\n"
   ]
  },
  {
   "cell_type": "code",
   "execution_count": 9,
   "metadata": {},
   "outputs": [
    {
     "data": {
      "text/plain": [
       "(AnalogSignal with 1 channels of length 130000; units mV; datatype float64 \n",
       " sampling rate: 100.0\n",
       " time: 0.0 to 1.3,\n",
       " <module 'matplotlib.pyplot' from '/usr/local/lib/python3.6/dist-packages/matplotlib/pyplot.py'>)"
      ]
     },
     "execution_count": 9,
     "metadata": {},
     "output_type": "execute_result"
    },
    {
     "data": {
      "image/png": "[encoded data removed]",
      "text/plain": [
       "<Figure size 432x288 with 1 Axes>"
      ]
     },
     "metadata": {
      "needs_background": "light"
     },
     "output_type": "display_data"
    }
   ],
   "source": [
    "inject_and_plot_model(opt.attrs,opt.backend)"
   ]
  },
  {
   "cell_type": "code",
   "execution_count": 10,
   "metadata": {},
   "outputs": [
    {
     "data": {
      "text/html": [
       "<div>\n",
       "<style scoped>\n",
       "    .dataframe tbody tr th:only-of-type {\n",
       "        vertical-align: middle;\n",
       "    }\n",
       "\n",
       "    .dataframe tbody tr th {\n",
       "        vertical-align: top;\n",
       "    }\n",
       "\n",
       "    .dataframe thead th {\n",
       "        text-align: right;\n",
       "    }\n",
       "</style>\n",
       "<table border=\"1\" class=\"dataframe\">\n",
       "  <thead>\n",
       "    <tr style=\"text-align: right;\">\n",
       "      <th></th>\n",
       "      <th>RheobaseTest</th>\n",
       "      <th>InputResistanceTest</th>\n",
       "      <th>TimeConstantTest</th>\n",
       "      <th>CapacitanceTest</th>\n",
       "      <th>RestingPotentialTest</th>\n",
       "      <th>InjectedCurrentAPWidthTest</th>\n",
       "      <th>InjectedCurrentAPAmplitudeTest</th>\n",
       "      <th>InjectedCurrentAPThresholdTest</th>\n",
       "      <th>total</th>\n",
       "    </tr>\n",
       "  </thead>\n",
       "  <tbody>\n",
       "    <tr>\n",
       "      <th>observations</th>\n",
       "      <td>133.20558071136475 pA</td>\n",
       "      <td>33591489.94003433 kg*m**2/(s**3*A**2)</td>\n",
       "      <td>5.30089068051612 s</td>\n",
       "      <td>1.578045716334398e-07 s**4*A**2/(kg*m**2)</td>\n",
       "      <td>-63.17527430005868 mV</td>\n",
       "      <td>0.00031 s</td>\n",
       "      <td>[52.015844681957105 mV]</td>\n",
       "      <td>-12.016739592481885 mV</td>\n",
       "      <td>NaN</td>\n",
       "    </tr>\n",
       "    <tr>\n",
       "      <th>predictions</th>\n",
       "      <td>281.1456620693207 pA</td>\n",
       "      <td>18115490.389428146 kg*m**2/(s**3*A**2)</td>\n",
       "      <td>2.34091328536798 s</td>\n",
       "      <td>1.2922163491274252e-07 s**4*A**2/(kg*m**2)</td>\n",
       "      <td>-75.0 mV</td>\n",
       "      <td>0.00013000000000000002 s</td>\n",
       "      <td>69.65060320469891 mV</td>\n",
       "      <td>-19.650603204698918 mV</td>\n",
       "      <td>NaN</td>\n",
       "    </tr>\n",
       "    <tr>\n",
       "      <th>scores</th>\n",
       "      <td>0.867926</td>\n",
       "      <td>-0.199348</td>\n",
       "      <td>-404.832</td>\n",
       "      <td>-204.626</td>\n",
       "      <td>-1.81018</td>\n",
       "      <td>-0.33686</td>\n",
       "      <td>1.38325</td>\n",
       "      <td>-0.949399</td>\n",
       "      <td>615.004433</td>\n",
       "    </tr>\n",
       "  </tbody>\n",
       "</table>\n",
       "</div>"
      ],
      "text/plain": [
       "                       RheobaseTest                     InputResistanceTest  \\\n",
       "observations  133.20558071136475 pA   33591489.94003433 kg*m**2/(s**3*A**2)   \n",
       "predictions    281.1456620693207 pA  18115490.389428146 kg*m**2/(s**3*A**2)   \n",
       "scores                     0.867926                               -0.199348   \n",
       "\n",
       "                TimeConstantTest                             CapacitanceTest  \\\n",
       "observations  5.30089068051612 s   1.578045716334398e-07 s**4*A**2/(kg*m**2)   \n",
       "predictions   2.34091328536798 s  1.2922163491274252e-07 s**4*A**2/(kg*m**2)   \n",
       "scores                  -404.832                                    -204.626   \n",
       "\n",
       "               RestingPotentialTest InjectedCurrentAPWidthTest  \\\n",
       "observations  -63.17527430005868 mV                  0.00031 s   \n",
       "predictions                -75.0 mV   0.00013000000000000002 s   \n",
       "scores                     -1.81018                   -0.33686   \n",
       "\n",
       "             InjectedCurrentAPAmplitudeTest InjectedCurrentAPThresholdTest  \\\n",
       "observations        [52.015844681957105 mV]         -12.016739592481885 mV   \n",
       "predictions            69.65060320469891 mV         -19.650603204698918 mV   \n",
       "scores                              1.38325                      -0.949399   \n",
       "\n",
       "                   total  \n",
       "observations         NaN  \n",
       "predictions          NaN  \n",
       "scores        615.004433  "
      ]
     },
     "execution_count": 10,
     "metadata": {},
     "output_type": "execute_result"
    }
   ],
   "source": [
    "opt.obs_preds"
   ]
  },
  {
   "cell_type": "code",
   "execution_count": null,
   "metadata": {},
   "outputs": [],
   "source": []
  },
  {
   "cell_type": "code",
   "execution_count": null,
   "metadata": {},
   "outputs": [],
   "source": []
  }
 ],
 "metadata": {
  "kernelspec": {
   "display_name": "Python 3",
   "language": "python",
   "name": "python3"
  },
  "language_info": {
   "codemirror_mode": {
    "name": "ipython",
    "version": 3
   },
   "file_extension": ".py",
   "mimetype": "text/x-python",
   "name": "python",
   "nbconvert_exporter": "python",
   "pygments_lexer": "ipython3",
   "version": "3.6.9"
  }
 },
 "nbformat": 4,
 "nbformat_minor": 4
}
