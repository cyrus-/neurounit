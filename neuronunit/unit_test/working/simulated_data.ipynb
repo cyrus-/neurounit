{
 "cells": [
  {
   "cell_type": "markdown",
   "metadata": {},
   "source": [
    "# Set up the environment"
   ]
  },
  {
   "cell_type": "code",
   "execution_count": 1,
   "metadata": {},
   "outputs": [
    {
     "data": {
      "image/png": "[encoded data removed]",
      "text/plain": [
       "<Figure size 432x288 with 1 Axes>"
      ]
     },
     "metadata": {
      "needs_background": "light"
     },
     "output_type": "display_data"
    },
    {
     "name": "stderr",
     "output_type": "stream",
     "text": [
      "INFO:root:test\n",
      "INFO:root:test\n"
     ]
    },
    {
     "name": "stdout",
     "output_type": "stream",
     "text": [
      "(-75, -56)\n",
      "Import of badexp.ADEXPBackend failed due to:\n",
      "No module named 'neuronunit.models.backends.badexp'\n",
      "Import of bhh.BHHBackend failed due to:\n",
      "No module named 'neuronunit.models.backends.bhh'\n",
      "Import of general_pyNN.PYNNBackend failed due to:\n",
      "No module named 'pyNN'\n"
     ]
    }
   ],
   "source": [
    "import matplotlib.pyplot as plt\n",
    "import matplotlib\n",
    "%matplotlib inline\n",
    "plt.plot([0,1],[1,0])\n",
    "plt.show()\n",
    "import hide_imports\n",
    "from neuronunit.optimisation.optimization_management import inject_and_plot_model\n"
   ]
  },
  {
   "cell_type": "markdown",
   "metadata": {},
   "source": [
    "# Design simulated data tests"
   ]
  },
  {
   "cell_type": "code",
   "execution_count": 2,
   "metadata": {},
   "outputs": [],
   "source": [
    "def jrt(use_test,backend):\n",
    "    use_test = hide_imports.TSD(use_test)\n",
    "    use_test.use_rheobase_score = True\n",
    "    edges = hide_imports.model_parameters.MODEL_PARAMS[backend]\n",
    "\n",
    "    OM = hide_imports.OptMan(use_test,\\\n",
    "                backend=backend,\\\n",
    "                boundary_dict=edges,\\\n",
    "                protocol={'allen': False, 'elephant': True})\n",
    "\n",
    "    return OM\n",
    "\n"
   ]
  },
  {
   "cell_type": "code",
   "execution_count": 3,
   "metadata": {},
   "outputs": [
    {
     "name": "stdout",
     "output_type": "stream",
     "text": [
      "('RheobaseTest', {'mean': array(213.84958333) * pA, 'std': array(170.45245472) * pA, 'n': 32})\n",
      "('InputResistanceTest', {'mean': array(120.67207364) * Mohm, 'std': array(77.63316083) * Mohm, 'n': 86})\n",
      "('TimeConstantTest', {'mean': array(15.73424242) * ms, 'std': array(7.31162637) * ms, 'n': 33})\n",
      "('CapacitanceTest', {'mean': array(150.58416667) * pF, 'std': array(139.68388463) * pF, 'n': 12})\n",
      "('RestingPotentialTest', {'mean': array(-68.24814346) * mV, 'std': array(6.53234788) * mV, 'n': 79})\n",
      "('InjectedCurrentAPWidthTest', {'mean': array(1.20769388) * ms, 'std': array(0.53434592) * ms, 'n': 49})\n",
      "('InjectedCurrentAPAmplitudeTest', {'mean': array(80.43510204) * mV, 'std': array(12.74880304) * mV, 'n': 49})\n",
      "('InjectedCurrentAPThresholdTest', {'mean': array(-42.73572327) * mV, 'std': array(8.04073233) * mV, 'n': 53})\n"
     ]
    }
   ],
   "source": [
    "test_frame = hide_imports.get_neab.process_all_cells()\n",
    "test_frame.pop('Olfactory bulb (main) mitral cell',None)\n",
    "stds = {}\n",
    "for k,v in hide_imports.TSD(test_frame['Neocortex pyramidal cell layer 5-6']).items():\n",
    "    temp = hide_imports.TSD(test_frame['Neocortex pyramidal cell layer 5-6'])[k]\n",
    "    stds[k] = temp.observation['std']\n",
    "    print((temp.name,temp.observation))\n",
    "OMObjects = []\n",
    "backends = [\"RAW\"]\n",
    "import copy\n",
    "cloned_tests = copy.copy(test_frame['Neocortex pyramidal cell layer 5-6'])\n",
    "import copy\n",
    "for b in backends:        \n",
    "    OM = jrt(cloned_tests,b)\n",
    "    OMObjects.append(OM)\n",
    "rt_outs = []"
   ]
  },
  {
   "cell_type": "code",
   "execution_count": 4,
   "metadata": {},
   "outputs": [
    {
     "name": "stdout",
     "output_type": "stream",
     "text": [
      "RAW\n",
      "RheobaseTest\n",
      "{'value': array(97.67932892) * pA} is this called?\n",
      "InputResistanceTest\n",
      "{'value': array(27421576.00563999) * kg*m**2/(s**3*A**2)} is this called?\n",
      "TimeConstantTest\n",
      "{'value': array(57.22626992) * ms} is this called?\n",
      "CapacitanceTest\n",
      "{'value': array(2.08690667e-09) * s**4*A**2/(kg*m**2)} is this called?\n",
      "RestingPotentialTest\n",
      "{'mean': array(-60.28855435) * mV, 'std': array(7.10542736e-15) * mV} is this called?\n",
      "InjectedCurrentAPWidthTest\n",
      "{'mean': array(0.00024) * s, 'std': array(0.) * s, 'n': 1} is this called?\n",
      "InjectedCurrentAPAmplitudeTest\n",
      "{'value': array(59.31165436) * mV, 'mean': array(59.31165436) * mV, 'std': array(0.) * mV, 'n': 1} is this called?\n",
      "InjectedCurrentAPThresholdTest\n",
      "{'mean': array(-20.11805319) * mV, 'std': array(0.) * mV, 'n': 1} is this called?\n",
      "Random simulated data tests made\n"
     ]
    }
   ],
   "source": [
    "for OM in OMObjects:\n",
    "   print(OM.backend)\n",
    "   x= {k:v for k,v in OM.tests.items() if 'mean' in v.observation.keys() or 'value' in v.observation.keys()}\n",
    "   cloned_tests = copy.copy(OM.tests)\n",
    "   OM.tests = hide_imports.TSD(cloned_tests)\n",
    "   rt_out = OM.simulate_data(OM.tests,OM.backend,OM.boundary_dict)\n",
    "   #print(rt_out)\n"
   ]
  },
  {
   "cell_type": "code",
   "execution_count": 5,
   "metadata": {},
   "outputs": [],
   "source": [
    "penultimate_tests = hide_imports.TSD(test_frame['Neocortex pyramidal cell layer 5-6'])\n",
    "for k,v in penultimate_tests.items():\n",
    "    temp = penultimate_tests[k]\n",
    "\n",
    "    v = rt_out[1][k].observation\n",
    "    v['std'] = stds[k]\n",
    "simulated_data_tests = hide_imports.TSD(penultimate_tests)"
   ]
  },
  {
   "cell_type": "markdown",
   "metadata": {},
   "source": [
    "# Show what the randomly generated target waveform the optimizer needs to find actually looks like"
   ]
  },
  {
   "cell_type": "code",
   "execution_count": 6,
   "metadata": {},
   "outputs": [
    {
     "data": {
      "text/plain": [
       "(AnalogSignal with 1 channels of length 130000; units mV; datatype float64 \n",
       " sampling rate: 100.0\n",
       " time: 0.0 to 1.3,\n",
       " <module 'matplotlib.pyplot' from '/usr/local/lib/python3.6/dist-packages/matplotlib/pyplot.py'>)"
      ]
     },
     "execution_count": 6,
     "metadata": {},
     "output_type": "execute_result"
    },
    {
     "data": {
      "image/png": "[encoded data removed]",
      "text/plain": [
       "<Figure size 432x288 with 1 Axes>"
      ]
     },
     "metadata": {
      "needs_background": "light"
     },
     "output_type": "display_data"
    }
   ],
   "source": [
    "target = rt_out[0]\n",
    "target.rheobase\n",
    "inject_and_plot_model(target)"
   ]
  },
  {
   "cell_type": "markdown",
   "metadata": {},
   "source": [
    "# Commence optimization of models on simulated data sets"
   ]
  },
  {
   "cell_type": "markdown",
   "metadata": {},
   "source": [
    "# first lets just optimize over single objective functions at a time."
   ]
  },
  {
   "cell_type": "code",
   "execution_count": 7,
   "metadata": {},
   "outputs": [
    {
     "data": {
      "text/html": [
       "<div>\n",
       "<style scoped>\n",
       "    .dataframe tbody tr th:only-of-type {\n",
       "        vertical-align: middle;\n",
       "    }\n",
       "\n",
       "    .dataframe tbody tr th {\n",
       "        vertical-align: top;\n",
       "    }\n",
       "\n",
       "    .dataframe thead th {\n",
       "        text-align: right;\n",
       "    }\n",
       "</style>\n",
       "<table border=\"1\" class=\"dataframe\">\n",
       "  <thead>\n",
       "    <tr style=\"text-align: right;\">\n",
       "      <th></th>\n",
       "      <th>RheobaseTest</th>\n",
       "      <th>total</th>\n",
       "    </tr>\n",
       "  </thead>\n",
       "  <tbody>\n",
       "    <tr>\n",
       "      <th>observations</th>\n",
       "      <td>97.67932891845703 pA</td>\n",
       "      <td>NaN</td>\n",
       "    </tr>\n",
       "    <tr>\n",
       "      <th>predictions</th>\n",
       "      <td>98.28477501869202 pA</td>\n",
       "      <td>NaN</td>\n",
       "    </tr>\n",
       "    <tr>\n",
       "      <th>scores</th>\n",
       "      <td>0.0028381</td>\n",
       "      <td>0.002838</td>\n",
       "    </tr>\n",
       "  </tbody>\n",
       "</table>\n",
       "</div>"
      ],
      "text/plain": [
       "                      RheobaseTest     total\n",
       "observations  97.67932891845703 pA       NaN\n",
       "predictions   98.28477501869202 pA       NaN\n",
       "scores                   0.0028381  0.002838"
      ]
     },
     "execution_count": 7,
     "metadata": {},
     "output_type": "execute_result"
    }
   ],
   "source": [
    "ga_out_rh = hide_imports.TSD([simulated_data_tests[\"RheobaseTest\"]]).optimize(OMObjects[0].boundary_dict,backend=OMObjects[0].backend,\\\n",
    "        protocol={'allen': False, 'elephant': True},\\\n",
    "            MU=10,NGEN=10)\n",
    "opt_rh = ga_out_rh['pf'][0].dtc\n",
    "opt_rh.obs_preds"
   ]
  },
  {
   "cell_type": "code",
   "execution_count": 8,
   "metadata": {},
   "outputs": [
    {
     "data": {
      "text/html": [
       "<div>\n",
       "<style scoped>\n",
       "    .dataframe tbody tr th:only-of-type {\n",
       "        vertical-align: middle;\n",
       "    }\n",
       "\n",
       "    .dataframe tbody tr th {\n",
       "        vertical-align: top;\n",
       "    }\n",
       "\n",
       "    .dataframe thead th {\n",
       "        text-align: right;\n",
       "    }\n",
       "</style>\n",
       "<table border=\"1\" class=\"dataframe\">\n",
       "  <thead>\n",
       "    <tr style=\"text-align: right;\">\n",
       "      <th></th>\n",
       "      <th>TimeConstantTest</th>\n",
       "      <th>total</th>\n",
       "    </tr>\n",
       "  </thead>\n",
       "  <tbody>\n",
       "    <tr>\n",
       "      <th>observations</th>\n",
       "      <td>57.22626992206479 ms</td>\n",
       "      <td>NaN</td>\n",
       "    </tr>\n",
       "    <tr>\n",
       "      <th>predictions</th>\n",
       "      <td>57.40063841239529 ms</td>\n",
       "      <td>NaN</td>\n",
       "    </tr>\n",
       "    <tr>\n",
       "      <th>scores</th>\n",
       "      <td>0.0192096</td>\n",
       "      <td>0.01921</td>\n",
       "    </tr>\n",
       "  </tbody>\n",
       "</table>\n",
       "</div>"
      ],
      "text/plain": [
       "                  TimeConstantTest    total\n",
       "observations  57.22626992206479 ms      NaN\n",
       "predictions   57.40063841239529 ms      NaN\n",
       "scores                   0.0192096  0.01921"
      ]
     },
     "execution_count": 8,
     "metadata": {},
     "output_type": "execute_result"
    }
   ],
   "source": [
    "ga_out_time = hide_imports.TSD([simulated_data_tests[\"TimeConstantTest\"]]).optimize(OMObjects[0].boundary_dict,backend=OMObjects[0].backend,\\\n",
    "        protocol={'allen': False, 'elephant': True},\\\n",
    "            MU=10,NGEN=10)\n",
    "opt_time = ga_out_time['pf'][0].dtc\n",
    "opt_time.obs_preds"
   ]
  },
  {
   "cell_type": "code",
   "execution_count": 12,
   "metadata": {},
   "outputs": [
    {
     "data": {
      "text/html": [
       "<div>\n",
       "<style scoped>\n",
       "    .dataframe tbody tr th:only-of-type {\n",
       "        vertical-align: middle;\n",
       "    }\n",
       "\n",
       "    .dataframe tbody tr th {\n",
       "        vertical-align: top;\n",
       "    }\n",
       "\n",
       "    .dataframe thead th {\n",
       "        text-align: right;\n",
       "    }\n",
       "</style>\n",
       "<table border=\"1\" class=\"dataframe\">\n",
       "  <thead>\n",
       "    <tr style=\"text-align: right;\">\n",
       "      <th></th>\n",
       "      <th>TimeConstantTest</th>\n",
       "      <th>RheobaseTest</th>\n",
       "      <th>total</th>\n",
       "    </tr>\n",
       "  </thead>\n",
       "  <tbody>\n",
       "    <tr>\n",
       "      <th>observations</th>\n",
       "      <td>57.22626992206479 ms</td>\n",
       "      <td>97.67932891845703 pA</td>\n",
       "      <td>NaN</td>\n",
       "    </tr>\n",
       "    <tr>\n",
       "      <th>predictions</th>\n",
       "      <td>57.97802988125641 ms</td>\n",
       "      <td>141.34504795074463 pA</td>\n",
       "      <td>NaN</td>\n",
       "    </tr>\n",
       "    <tr>\n",
       "      <th>scores</th>\n",
       "      <td>0.0854401</td>\n",
       "      <td>0.225878</td>\n",
       "      <td>0.311318</td>\n",
       "    </tr>\n",
       "  </tbody>\n",
       "</table>\n",
       "</div>"
      ],
      "text/plain": [
       "                  TimeConstantTest           RheobaseTest     total\n",
       "observations  57.22626992206479 ms   97.67932891845703 pA       NaN\n",
       "predictions   57.97802988125641 ms  141.34504795074463 pA       NaN\n",
       "scores                   0.0854401               0.225878  0.311318"
      ]
     },
     "execution_count": 12,
     "metadata": {},
     "output_type": "execute_result"
    }
   ],
   "source": [
    "both = hide_imports.TSD([simulated_data_tests[\"TimeConstantTest\"],simulated_data_tests[\"RheobaseTest\"]]).optimize(OMObjects[0].boundary_dict,backend=OMObjects[0].backend,\\\n",
    "        protocol={'allen': False, 'elephant': True},\\\n",
    "            MU=20,NGEN=5)\n",
    "both = both['pf'][0].dtc\n",
    "both.obs_preds"
   ]
  },
  {
   "cell_type": "code",
   "execution_count": 13,
   "metadata": {},
   "outputs": [],
   "source": [
    "three = hide_imports.TSD([simulated_data_tests[\"InjectedCurrentAPWidthTest\"],simulated_data_tests[\"TimeConstantTest\"],simulated_data_tests[\"RheobaseTest\"]]).optimize(OMObjects[0].boundary_dict,backend=OMObjects[0].backend,\\\n",
    "        protocol={'allen': False, 'elephant': True},\\\n",
    "            MU=25,NGEN=6)\n"
   ]
  },
  {
   "cell_type": "code",
   "execution_count": 11,
   "metadata": {},
   "outputs": [
    {
     "data": {
      "text/html": [
       "<div>\n",
       "<style scoped>\n",
       "    .dataframe tbody tr th:only-of-type {\n",
       "        vertical-align: middle;\n",
       "    }\n",
       "\n",
       "    .dataframe tbody tr th {\n",
       "        vertical-align: top;\n",
       "    }\n",
       "\n",
       "    .dataframe thead th {\n",
       "        text-align: right;\n",
       "    }\n",
       "</style>\n",
       "<table border=\"1\" class=\"dataframe\">\n",
       "  <thead>\n",
       "    <tr style=\"text-align: right;\">\n",
       "      <th></th>\n",
       "      <th>InjectedCurrentAPWidthTest</th>\n",
       "      <th>TimeConstantTest</th>\n",
       "      <th>RheobaseTest</th>\n",
       "      <th>total</th>\n",
       "    </tr>\n",
       "  </thead>\n",
       "  <tbody>\n",
       "    <tr>\n",
       "      <th>observations</th>\n",
       "      <td>0.00024000000000000003 s</td>\n",
       "      <td>57.22626992206479 ms</td>\n",
       "      <td>97.67932891845703 pA</td>\n",
       "      <td>NaN</td>\n",
       "    </tr>\n",
       "    <tr>\n",
       "      <th>predictions</th>\n",
       "      <td>0.00034 s</td>\n",
       "      <td>50.532601676896775 ms</td>\n",
       "      <td>178.6491572856903 pA</td>\n",
       "      <td>NaN</td>\n",
       "    </tr>\n",
       "    <tr>\n",
       "      <th>scores</th>\n",
       "      <td>0.1607</td>\n",
       "      <td>1.02182</td>\n",
       "      <td>0.454498</td>\n",
       "      <td>1.637021</td>\n",
       "    </tr>\n",
       "  </tbody>\n",
       "</table>\n",
       "</div>"
      ],
      "text/plain": [
       "             InjectedCurrentAPWidthTest       TimeConstantTest  \\\n",
       "observations   0.00024000000000000003 s   57.22626992206479 ms   \n",
       "predictions                   0.00034 s  50.532601676896775 ms   \n",
       "scores                           0.1607                1.02182   \n",
       "\n",
       "                      RheobaseTest     total  \n",
       "observations  97.67932891845703 pA       NaN  \n",
       "predictions   178.6491572856903 pA       NaN  \n",
       "scores                    0.454498  1.637021  "
      ]
     },
     "execution_count": 11,
     "metadata": {},
     "output_type": "execute_result"
    }
   ],
   "source": [
    "three = three['pf'][0].dtc\n",
    "three.obs_preds"
   ]
  },
  {
   "cell_type": "markdown",
   "metadata": {},
   "source": [
    "# How about using all the objectives together?\n"
   ]
  },
  {
   "cell_type": "code",
   "execution_count": null,
   "metadata": {},
   "outputs": [],
   "source": [
    "ga_out = simulated_data_tests.optimize(OMObjects[0].boundary_dict,backend=OMObjects[0].backend,\\\n",
    "        protocol={'allen': False, 'elephant': True},\\\n",
    "            MU=20,NGEN=20)\n",
    "opt = ga_out['pf'][0].dtc"
   ]
  },
  {
   "cell_type": "code",
   "execution_count": null,
   "metadata": {},
   "outputs": [],
   "source": []
  },
  {
   "cell_type": "code",
   "execution_count": null,
   "metadata": {},
   "outputs": [],
   "source": [
    "opt.rheobase\n"
   ]
  },
  {
   "cell_type": "code",
   "execution_count": null,
   "metadata": {},
   "outputs": [],
   "source": [
    "inject_and_plot_model(opt)"
   ]
  },
  {
   "cell_type": "code",
   "execution_count": null,
   "metadata": {},
   "outputs": [],
   "source": [
    "opt.obs_preds"
   ]
  },
  {
   "cell_type": "code",
   "execution_count": null,
   "metadata": {},
   "outputs": [],
   "source": []
  },
  {
   "cell_type": "code",
   "execution_count": null,
   "metadata": {},
   "outputs": [],
   "source": [
    "model = opt.dtc_to_model()\n",
    "score = simulated_data_tests['TimeConstantTest'].judge(model)\n",
    "pred = simulated_data_tests['TimeConstantTest'].prediction\n",
    "print(pred)"
   ]
  },
  {
   "cell_type": "code",
   "execution_count": null,
   "metadata": {},
   "outputs": [],
   "source": [
    "from neuronunit.optimisation.optimization_management import check_binary_match\n",
    "check_binary_match(opt,origin)\n",
    "\n"
   ]
  },
  {
   "cell_type": "code",
   "execution_count": null,
   "metadata": {},
   "outputs": [],
   "source": []
  },
  {
   "cell_type": "code",
   "execution_count": null,
   "metadata": {},
   "outputs": [],
   "source": []
  },
  {
   "cell_type": "code",
   "execution_count": null,
   "metadata": {},
   "outputs": [],
   "source": []
  },
  {
   "cell_type": "markdown",
   "metadata": {},
   "source": [
    "##### "
   ]
  }
 ],
 "metadata": {
  "kernelspec": {
   "display_name": "Python 3",
   "language": "python",
   "name": "python3"
  },
  "language_info": {
   "codemirror_mode": {
    "name": "ipython",
    "version": 3
   },
   "file_extension": ".py",
   "mimetype": "text/x-python",
   "name": "python",
   "nbconvert_exporter": "python",
   "pygments_lexer": "ipython3",
   "version": "3.6.9"
  }
 },
 "nbformat": 4,
 "nbformat_minor": 4
}
