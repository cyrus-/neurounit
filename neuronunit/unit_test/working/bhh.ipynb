{
 "cells": [
  {
   "cell_type": "code",
   "execution_count": 1,
   "metadata": {
    "papermill": {
     "duration": 6.109089,
     "end_time": "2020-04-13T10:42:26.136011",
     "exception": false,
     "start_time": "2020-04-13T10:42:20.026922",
     "status": "completed"
    },
    "tags": []
   },
   "outputs": [],
   "source": [
    "%%capture\n",
    "%matplotlib inline\n",
    "import seaborn as sns\n",
    "sns.set_context('notebook')\n",
    "%config InlineBackend.figure_format = 'retina'\n",
    "import matplotlib.pyplot as plt\n",
    "plt.plot([0,1],[1,0])\n",
    "import numpy as np\n",
    "from IPython.display import display, HTML\n",
    "from neuronunit.plottools import plot_score_history1\n",
    "from neuronunit.optimisation.optimization_management import TSD\n",
    "\n",
    "import pandas as pd\n",
    "import pickle\n",
    "import copy\n",
    "from neuronunit.optimisation.model_parameters import MODEL_PARAMS"
   ]
  },
  {
   "cell_type": "markdown",
   "metadata": {},
   "source": [
    "Reduced models are exceptionally bad at reproducing\n",
    "# input resistance\n",
    "# Rheobase test"
   ]
  },
  {
   "cell_type": "code",
   "execution_count": 5,
   "metadata": {
    "papermill": {
     "duration": 13.026997,
     "end_time": "2020-04-13T10:42:39.182234",
     "exception": false,
     "start_time": "2020-04-13T10:42:26.155237",
     "status": "completed"
    },
    "tags": []
   },
   "outputs": [],
   "source": [
    "#%%capture\n",
    "model_type=\"NEURONHH\"\n",
    "#fps = ['g_L','g_Na','g_K']    \n",
    "MU = 10 \n",
    "NGEN = 10\n",
    "#import make_sim_tests\n",
    "#sim_tests, OM, target = make_sim_tests.test_all_objective_test(fps,model_type=model_type)\n",
    "mitral = pickle.load(open(\"contains_mitral.p\",\"rb\"))\n",
    "mitral[0]['olf_mit']\n",
    "mitral[1]['olf_mit'];\n"
   ]
  },
  {
   "cell_type": "code",
   "execution_count": 6,
   "metadata": {},
   "outputs": [
    {
     "data": {
      "text/plain": [
       "<neuronunit.tests.passive.CapacitanceTest at 0x7fac6dd88350>"
      ]
     },
     "execution_count": 6,
     "metadata": {},
     "output_type": "execute_result"
    }
   ],
   "source": [
    "cells = pickle.load(open(\"processed_multicellular_constraints.p\",\"rb\"))\n",
    "\n",
    "ncl5_shape = TSD(cells[\"Neocortex pyramidal cell layer 5-6\"])\n",
    "vr = ncl5_shape[\"RestingPotentialTest\"].observation['mean']\n",
    "\n",
    "ncl5_electric = copy.copy(ncl5_shape)\n",
    "ncl5_shape.pop('RheobaseTest',None)\n",
    "#ncl5_shape.pop('InputResistanceTest',None)\n",
    "ncl5_shape.pop('CapacitanceTest',None)\n",
    "ncl5_shape.pop('InjectedCurrentAPThresholdTest',None)\n",
    "\n",
    "test_other = {}\n",
    "#ncl5_shape =\n",
    "\n",
    "test_other['RheobaseTest'] =  TSD(cells[\"Neocortex pyramidal cell layer 5-6\"])['RheobaseTest']\n",
    "#test_other['InputResistanceTest'] =  TSD(cells[\"Neocortex pyramidal cell layer 5-6\"])['InputResistanceTest']               \n",
    "\n",
    "#ncl5_shape.pop('TimeConstantTest',None)\n",
    "#ncl5_shape.pop('CapacitanceTest',None)\n",
    "\n",
    "#ncl5_electric.pop('InjectedCurrentAPThresholdTest',None)\n",
    "#ncl5_electric.pop('InjectedCurrentAPAmplitudeTest',None)\n",
    "#ncl5_electric.pop('InjectedCurrentAPWidthTest',None)\n",
    "ncl5_electric.pop('RestingPotentialTest',None)\n",
    "ncl5_electric.pop('RheobaseTest',None)\n",
    "ncl5_electric.pop('InputResistanceTest',None)\n",
    "ncl5_electric.pop('CapacitanceTest',None)\n"
   ]
  },
  {
   "cell_type": "markdown",
   "metadata": {
    "papermill": {
     "duration": null,
     "end_time": null,
     "exception": null,
     "start_time": null,
     "status": "completed"
    },
    "tags": []
   },
   "source": [
    "# Meta Parameters"
   ]
  },
  {
   "cell_type": "code",
   "execution_count": 7,
   "metadata": {
    "papermill": {
     "duration": null,
     "end_time": null,
     "exception": null,
     "start_time": null,
     "status": "completed"
    },
    "tags": []
   },
   "outputs": [
    {
     "name": "stdout",
     "output_type": "stream",
     "text": [
      "30\n"
     ]
    },
    {
     "name": "stderr",
     "output_type": "stream",
     "text": [
      "GA Generation Progress: 100%|██████████| 14/14 [16:26<00:00, 70.47s/it] \n"
     ]
    },
    {
     "data": {
      "text/plain": [
       "\"\\ntest_other\\n\\ntwo = TSD(test_other).optimize(backend=model_type,        protocol={'allen': False, 'elephant': True},            MU=MU,NGEN=NGEN,plot=True,free_parameters=fps)\\nopt = two['hof'][0].dtc\\n#OM.tests = opt.tests\\n#opt = OM.format_test(opt)\\nopt.self_evaluate()\\nopt.get_agreement()\\ndisplay(opt.agreement)\\n\""
      ]
     },
     "execution_count": 7,
     "metadata": {},
     "output_type": "execute_result"
    },
    {
     "data": {
      "image/png": "[encoded data removed]",
      "text/plain": [
       "<Figure size 432x288 with 1 Axes>"
      ]
     },
     "metadata": {
      "image/png": {
       "height": 265,
       "width": 390
      },
      "needs_background": "light"
     },
     "output_type": "display_data"
    }
   ],
   "source": [
    "MU = 30\n",
    "NGEN = 15\n",
    "fps = MODEL_PARAMS[\"NEURONHH\"]\n",
    "results_shape = ncl5_shape.optimize(backend=model_type,\\\n",
    "        protocol={'allen': False, 'elephant': True},\\\n",
    "            MU=MU,NGEN=NGEN,plot=False,free_parameters=fps)\n",
    "'''\n",
    "test_other\n",
    "\n",
    "two = TSD(test_other).optimize(backend=model_type,\\\n",
    "        protocol={'allen': False, 'elephant': True},\\\n",
    "            MU=MU,NGEN=NGEN,plot=True,free_parameters=fps)\n",
    "opt = two['hof'][0].dtc\n",
    "#OM.tests = opt.tests\n",
    "#opt = OM.format_test(opt)\n",
    "opt.self_evaluate()\n",
    "opt.get_agreement()\n",
    "display(opt.agreement)\n",
    "'''"
   ]
  },
  {
   "cell_type": "code",
   "execution_count": 8,
   "metadata": {},
   "outputs": [],
   "source": [
    "ncl5_electric.pop('RestingPotentialTest',None)\n",
    "ncl5_electric.pop('RheobaseTest',None)\n",
    "ncl5_electric.pop('InputResistanceTest',None)\n",
    "ncl5_electric.pop('CapacitanceTest',None)"
   ]
  },
  {
   "cell_type": "code",
   "execution_count": 9,
   "metadata": {},
   "outputs": [
    {
     "data": {
      "text/html": [
       "<div>\n",
       "<style scoped>\n",
       "    .dataframe tbody tr th:only-of-type {\n",
       "        vertical-align: middle;\n",
       "    }\n",
       "\n",
       "    .dataframe tbody tr th {\n",
       "        vertical-align: top;\n",
       "    }\n",
       "\n",
       "    .dataframe thead th {\n",
       "        text-align: right;\n",
       "    }\n",
       "</style>\n",
       "<table border=\"1\" class=\"dataframe\">\n",
       "  <thead>\n",
       "    <tr style=\"text-align: right;\">\n",
       "      <th></th>\n",
       "      <th>InputResistanceTest</th>\n",
       "      <th>TimeConstantTest</th>\n",
       "      <th>RestingPotentialTest</th>\n",
       "      <th>InjectedCurrentAPWidthTest</th>\n",
       "      <th>InjectedCurrentAPAmplitudeTest</th>\n",
       "      <th>total</th>\n",
       "    </tr>\n",
       "  </thead>\n",
       "  <tbody>\n",
       "    <tr>\n",
       "      <td>observations</td>\n",
       "      <td>120.672073643411 Mohm</td>\n",
       "      <td>15.7342424242424 ms</td>\n",
       "      <td>-68.2481434599156 mV</td>\n",
       "      <td>1.20769387755102 ms</td>\n",
       "      <td>80.4351020408164 mV</td>\n",
       "      <td>NaN</td>\n",
       "    </tr>\n",
       "    <tr>\n",
       "      <td>predictions</td>\n",
       "      <td>68.49876103410962 Mohm</td>\n",
       "      <td>3.240678016498422 ms</td>\n",
       "      <td>-71.45127851846709 mV</td>\n",
       "      <td>2.2500000000000004 ms</td>\n",
       "      <td>96.56296495933 mV</td>\n",
       "      <td>NaN</td>\n",
       "    </tr>\n",
       "    <tr>\n",
       "      <td>scores</td>\n",
       "      <td>0.690047</td>\n",
       "      <td>2.4361</td>\n",
       "      <td>0.471787</td>\n",
       "      <td>2.97393</td>\n",
       "      <td>1.58059</td>\n",
       "      <td>22.138428</td>\n",
       "    </tr>\n",
       "  </tbody>\n",
       "</table>\n",
       "</div>"
      ],
      "text/plain": [
       "                 InputResistanceTest      TimeConstantTest  \\\n",
       "observations   120.672073643411 Mohm   15.7342424242424 ms   \n",
       "predictions   68.49876103410962 Mohm  3.240678016498422 ms   \n",
       "scores                      0.690047                2.4361   \n",
       "\n",
       "               RestingPotentialTest InjectedCurrentAPWidthTest  \\\n",
       "observations   -68.2481434599156 mV        1.20769387755102 ms   \n",
       "predictions   -71.45127851846709 mV      2.2500000000000004 ms   \n",
       "scores                     0.471787                    2.97393   \n",
       "\n",
       "             InjectedCurrentAPAmplitudeTest      total  \n",
       "observations            80.4351020408164 mV        NaN  \n",
       "predictions               96.56296495933 mV        NaN  \n",
       "scores                              1.58059  22.138428  "
      ]
     },
     "metadata": {},
     "output_type": "display_data"
    }
   ],
   "source": [
    "opt = results_shape['hof'][0].dtc\n",
    "\n",
    "opt.attrs\n",
    "test_other['RheobaseTest'] =  TSD(cells[\"Neocortex pyramidal cell layer 5-6\"])['RheobaseTest']\n",
    "test_other['InputResistanceTest'] =  TSD(cells[\"Neocortex pyramidal cell layer 5-6\"])['InputResistanceTest']               \n",
    "\n",
    "#opt.tests = ncl5_shape\n",
    "\n",
    "opt.self_evaluate()\n",
    "opt.get_agreement()\n",
    "display(opt.agreement)"
   ]
  },
  {
   "cell_type": "code",
   "execution_count": 10,
   "metadata": {},
   "outputs": [
    {
     "data": {
      "image/png": "[encoded data removed]",
      "text/plain": [
       "<Figure size 1440x576 with 8 Axes>"
      ]
     },
     "metadata": {
      "image/png": {
       "height": 567,
       "width": 1432
      },
      "needs_background": "light"
     },
     "output_type": "display_data"
    }
   ],
   "source": [
    "plt = plot_score_history1(results_shape)\n",
    "plt.show()"
   ]
  },
  {
   "cell_type": "code",
   "execution_count": 11,
   "metadata": {},
   "outputs": [
    {
     "data": {
      "text/html": [
       "<div>\n",
       "<style scoped>\n",
       "    .dataframe tbody tr th:only-of-type {\n",
       "        vertical-align: middle;\n",
       "    }\n",
       "\n",
       "    .dataframe tbody tr th {\n",
       "        vertical-align: top;\n",
       "    }\n",
       "\n",
       "    .dataframe thead th {\n",
       "        text-align: right;\n",
       "    }\n",
       "</style>\n",
       "<table border=\"1\" class=\"dataframe\">\n",
       "  <thead>\n",
       "    <tr style=\"text-align: right;\">\n",
       "      <th></th>\n",
       "      <th>InputResistanceTest</th>\n",
       "      <th>TimeConstantTest</th>\n",
       "      <th>RestingPotentialTest</th>\n",
       "      <th>InjectedCurrentAPWidthTest</th>\n",
       "      <th>InjectedCurrentAPAmplitudeTest</th>\n",
       "      <th>total</th>\n",
       "    </tr>\n",
       "  </thead>\n",
       "  <tbody>\n",
       "    <tr>\n",
       "      <td>observations</td>\n",
       "      <td>120.672073643411 Mohm</td>\n",
       "      <td>15.7342424242424 ms</td>\n",
       "      <td>-68.2481434599156 mV</td>\n",
       "      <td>1.20769387755102 ms</td>\n",
       "      <td>80.4351020408164 mV</td>\n",
       "      <td>NaN</td>\n",
       "    </tr>\n",
       "    <tr>\n",
       "      <td>predictions</td>\n",
       "      <td>68.49876103410962 Mohm</td>\n",
       "      <td>3.240678016498422 ms</td>\n",
       "      <td>-71.45127851846709 mV</td>\n",
       "      <td>2.2500000000000004 ms</td>\n",
       "      <td>96.56296495933 mV</td>\n",
       "      <td>NaN</td>\n",
       "    </tr>\n",
       "    <tr>\n",
       "      <td>scores</td>\n",
       "      <td>0.690047</td>\n",
       "      <td>2.4361</td>\n",
       "      <td>0.471787</td>\n",
       "      <td>2.97393</td>\n",
       "      <td>1.58059</td>\n",
       "      <td>22.138428</td>\n",
       "    </tr>\n",
       "  </tbody>\n",
       "</table>\n",
       "</div>"
      ],
      "text/plain": [
       "                 InputResistanceTest      TimeConstantTest  \\\n",
       "observations   120.672073643411 Mohm   15.7342424242424 ms   \n",
       "predictions   68.49876103410962 Mohm  3.240678016498422 ms   \n",
       "scores                      0.690047                2.4361   \n",
       "\n",
       "               RestingPotentialTest InjectedCurrentAPWidthTest  \\\n",
       "observations   -68.2481434599156 mV        1.20769387755102 ms   \n",
       "predictions   -71.45127851846709 mV      2.2500000000000004 ms   \n",
       "scores                     0.471787                    2.97393   \n",
       "\n",
       "             InjectedCurrentAPAmplitudeTest      total  \n",
       "observations            80.4351020408164 mV        NaN  \n",
       "predictions               96.56296495933 mV        NaN  \n",
       "scores                              1.58059  22.138428  "
      ]
     },
     "metadata": {},
     "output_type": "display_data"
    }
   ],
   "source": [
    "#ncl5_shape['RheobaseTest'] =  TSD(cells[\"Neocortex pyramidal cell layer 5-6\"])['RheobaseTest']\n",
    "ncl5_shape['InputResistanceTest'] =  TSD(cells[\"Neocortex pyramidal cell layer 5-6\"])['InputResistanceTest']            \n",
    "opt.tests = ncl5_shape\n",
    "opt.self_evaluate()\n",
    "opt.get_agreement()\n",
    "display(opt.agreement)"
   ]
  },
  {
   "cell_type": "code",
   "execution_count": 12,
   "metadata": {},
   "outputs": [
    {
     "data": {
      "text/plain": [
       "\"\\nresults_electric = ncl5_electric.optimize(backend=model_type,        protocol={'allen': False, 'elephant': True},            MU=MU,NGEN=NGEN,plot=True,free_parameters=fps)\\nopt = results_electric['hof'][0].dtc\\n#OM.tests = opt.tests\\n#opt = OM.format_test(opt)\\n\""
      ]
     },
     "execution_count": 12,
     "metadata": {},
     "output_type": "execute_result"
    }
   ],
   "source": [
    "'''\n",
    "results_electric = ncl5_electric.optimize(backend=model_type,\\\n",
    "        protocol={'allen': False, 'elephant': True},\\\n",
    "            MU=MU,NGEN=NGEN,plot=True,free_parameters=fps)\n",
    "opt = results_electric['hof'][0].dtc\n",
    "#OM.tests = opt.tests\n",
    "#opt = OM.format_test(opt)\n",
    "'''"
   ]
  },
  {
   "cell_type": "code",
   "execution_count": 13,
   "metadata": {},
   "outputs": [
    {
     "ename": "NameError",
     "evalue": "name 'results_electric' is not defined",
     "output_type": "error",
     "traceback": [
      "\u001b[0;31m---------------------------------------------------------------------------\u001b[0m",
      "\u001b[0;31mNameError\u001b[0m                                 Traceback (most recent call last)",
      "\u001b[0;32m<ipython-input-13-d3667ffa5fd7>\u001b[0m in \u001b[0;36m<module>\u001b[0;34m\u001b[0m\n\u001b[0;32m----> 1\u001b[0;31m \u001b[0;32mdel\u001b[0m \u001b[0mresults_electric\u001b[0m\u001b[0;34m\u001b[0m\u001b[0;34m\u001b[0m\u001b[0m\n\u001b[0m",
      "\u001b[0;31mNameError\u001b[0m: name 'results_electric' is not defined"
     ]
    }
   ],
   "source": [
    "del results_electric"
   ]
  },
  {
   "cell_type": "code",
   "execution_count": null,
   "metadata": {},
   "outputs": [],
   "source": [
    "opt"
   ]
  },
  {
   "cell_type": "code",
   "execution_count": null,
   "metadata": {
    "papermill": {
     "duration": null,
     "end_time": null,
     "exception": null,
     "start_time": null,
     "status": "completed"
    },
    "tags": []
   },
   "outputs": [],
   "source": [
    "results_shape = ncl5_shape.optimize(backend=model_type,\\\n",
    "        protocol={'allen': False, 'elephant': True},\\\n",
    "            MU=MU,NGEN=NGEN,plot=True,free_parameters=fps)\n"
   ]
  },
  {
   "cell_type": "code",
   "execution_count": null,
   "metadata": {
    "papermill": {
     "duration": null,
     "end_time": null,
     "exception": null,
     "start_time": null,
     "status": "completed"
    },
    "tags": []
   },
   "outputs": [],
   "source": [
    "opt = results_shape['hof'][0].dtc\n",
    "#OM.tests = opt.tests\n",
    "#opt = OM.format_test(opt)\n",
    "opt.self_evaluate()\n",
    "opt.get_agreement()\n",
    "display(opt.agreement)"
   ]
  },
  {
   "cell_type": "code",
   "execution_count": null,
   "metadata": {},
   "outputs": [],
   "source": [
    "opt = results_shape['hof'][0].dtc\n",
    "\n",
    "\n",
    "objectives = {k.name:v for k,v in opt.SA.items() }\n",
    "objectives"
   ]
  },
  {
   "cell_type": "code",
   "execution_count": null,
   "metadata": {},
   "outputs": [],
   "source": [
    "ncl5_shape = TSD(cells[\"Neocortex pyramidal cell layer 5-6\"])\n",
    "\n",
    "opt.tests = ncl5_shape\n",
    "opt.self_evaluate()\n",
    "opt.SA\n",
    "opt.get_agreement()\n",
    "opt.agreement"
   ]
  },
  {
   "cell_type": "code",
   "execution_count": null,
   "metadata": {},
   "outputs": [],
   "source": [
    "results_shape['history'].genealogy_history[1].dtc\n",
    "\n",
    "results_shape['history'].genealogy_history.values();"
   ]
  },
  {
   "cell_type": "code",
   "execution_count": null,
   "metadata": {
    "papermill": {
     "duration": null,
     "end_time": null,
     "exception": null,
     "start_time": null,
     "status": "completed"
    },
    "tags": []
   },
   "outputs": [],
   "source": [
    "import math\n",
    "def plot_score_history1(ga_out,figname=None):\n",
    "    \"\"\"\n",
    "    Adapted from pyfrume.\n",
    "    \"\"\"\n",
    "    opt = results['hof'][0].dtc\n",
    "\n",
    "    objectives = {k.name:v for k,v in opt.SA.items() }\n",
    "    objectives\n",
    "\n",
    "    logbook = ga_out['log']\n",
    "    min_gene_evol = [ m['min'] for m in logbook ]\n",
    "    min_gene_evol_dtc = []\n",
    "    for value in results['history'].genealogy_history.values():\n",
    "        if set(value) in set(min_gene_evol):\n",
    "            min_gene_evol_dtc.append(value.dtc)\n",
    "            \n",
    "    print(min_gene_evol_dtc)\n",
    "    get_min = [(np.sum(j),i) for i,j in enumerate(scores)]\n",
    "    min_x = sorted(get_min,key = lambda x: x[0])[0][1]\n",
    "    fig,axes = plt.subplots(2,math.ceil(len(objectives)/2+1),figsize=(20,8))\n",
    "    axes[0,0].plot(scores)\n",
    "    axes[0,0].set_title('Observation/Prediction Disagreement')\n",
    "    for i,(k,v) in enumerate(objectives.items()):\n",
    "        ax = axes.flat[i+1]\n",
    "        history = [j[i] for j in scores ]\n",
    "        ax.axvline(x=min_x , ymin=0.02, ymax=0.99,color='blue',label='best candidate sampled')\n",
    "        ax.plot(history)\n",
    "        ax.set_title(str(k))\n",
    "        ax.set_ylim([np.min(0.0), np.max(history)])\n",
    "        ax.set_ylabel(str(front[0].dtc.tests[i].observation['std'].units))\n",
    "    axes[0,0].set_xlabel(\"Generation\")\n",
    "    plt.tight_layout()\n",
    "    if figname is not None:\n",
    "        plt.savefig(figname)\n",
    "    else:\n",
    "        plt.show()\n",
    "    return plt\n",
    "\n",
    "\n",
    "opt = results['hof'][0].dtc\n",
    "\n",
    "objectives = {k.name:v for k,v in opt.SA.items() }\n",
    "objectives\n",
    "\n",
    "logbook = results['log']\n",
    "min_gene_evol = [ m['min'] for m in logbook ]\n",
    "min_gene_evol_dtc = []\n",
    "plot_vec =  [value.dtc.SA.values for value in results['history'].genealogy_history.values() ]\n",
    "\n",
    "plt.plot(range(0,len(plot_vec)),[pv[0] for pv in plot_vec])\n",
    "plt.plot(range(0,len(plot_vec)),[pv[1] for pv in plot_vec])\n",
    "#plt.plot(range(0,len(plot_vec)),[pv[2] for pv in plot_vec])\n",
    "#plt.plot(range(0,len(plot_vec)),[pv[3] for pv in plot_vec])\n",
    "plt.plot(range(0,len(plot_vec)),[pv[5] for pv in plot_vec])\n",
    "plt.plot(range(0,len(plot_vec)),[pv[6] for pv in plot_vec])\n",
    "plt.plot(range(0,len(plot_vec)),[pv[7] for pv in plot_vec])\n",
    "\n",
    "plt.show()"
   ]
  },
  {
   "cell_type": "code",
   "execution_count": null,
   "metadata": {
    "papermill": {
     "duration": null,
     "end_time": null,
     "exception": null,
     "start_time": null,
     "status": "completed"
    },
    "tags": []
   },
   "outputs": [],
   "source": [
    "model = target.dtc_to_model()\n",
    "\n",
    "check_binary_match(opt,target,snippets=True)\n",
    "\n",
    "target = OM.format_test(target)\n",
    "simulated_data_tests = target.tests\n",
    "#\n"
   ]
  },
  {
   "cell_type": "code",
   "execution_count": null,
   "metadata": {
    "papermill": {
     "duration": null,
     "end_time": null,
     "exception": null,
     "start_time": null,
     "status": "completed"
    },
    "tags": []
   },
   "outputs": [],
   "source": [
    "check_binary_match(opt,target,snippets=False)\n"
   ]
  },
  {
   "cell_type": "code",
   "execution_count": null,
   "metadata": {
    "papermill": {
     "duration": null,
     "end_time": null,
     "exception": null,
     "start_time": null,
     "status": "completed"
    },
    "tags": []
   },
   "outputs": [],
   "source": [
    "try:\n",
    "    opt.attrs.pop('dt',None)\n",
    "    opt.attrs.pop('Iext',None)\n",
    "except:\n",
    "    pass\n"
   ]
  },
  {
   "cell_type": "code",
   "execution_count": null,
   "metadata": {
    "papermill": {
     "duration": null,
     "end_time": null,
     "exception": null,
     "start_time": null,
     "status": "completed"
    },
    "tags": []
   },
   "outputs": [],
   "source": [
    "display(pd.DataFrame([opt.attrs]))\n",
    "import copy\n",
    "temp = {}\n",
    "for k in opt.attrs.keys():\n",
    "    temp[k] = target.attrs[k]\n",
    "display(pd.DataFrame([temp]))"
   ]
  },
  {
   "cell_type": "code",
   "execution_count": null,
   "metadata": {
    "papermill": {
     "duration": null,
     "end_time": null,
     "exception": null,
     "start_time": null,
     "status": "completed"
    },
    "tags": []
   },
   "outputs": [],
   "source": []
  },
  {
   "cell_type": "code",
   "execution_count": null,
   "metadata": {
    "papermill": {
     "duration": null,
     "end_time": null,
     "exception": null,
     "start_time": null,
     "status": "completed"
    },
    "tags": []
   },
   "outputs": [],
   "source": []
  },
  {
   "cell_type": "code",
   "execution_count": null,
   "metadata": {
    "papermill": {
     "duration": null,
     "end_time": null,
     "exception": null,
     "start_time": null,
     "status": "completed"
    },
    "tags": []
   },
   "outputs": [],
   "source": []
  },
  {
   "cell_type": "code",
   "execution_count": null,
   "metadata": {
    "papermill": {
     "duration": null,
     "end_time": null,
     "exception": null,
     "start_time": null,
     "status": "completed"
    },
    "tags": []
   },
   "outputs": [],
   "source": []
  }
 ],
 "metadata": {
  "kernelspec": {
   "display_name": "Python 3",
   "language": "python",
   "name": "python3"
  },
  "language_info": {
   "codemirror_mode": {
    "name": "ipython",
    "version": 3
   },
   "file_extension": ".py",
   "mimetype": "text/x-python",
   "name": "python",
   "nbconvert_exporter": "python",
   "pygments_lexer": "ipython3",
   "version": "3.7.4"
  },
  "papermill": {
   "duration": 21.09279,
   "end_time": "2020-04-13T10:42:40.303641",
   "environment_variables": {},
   "exception": null,
   "input_path": "localnbhh.ipynb",
   "output_path": "bhh.ipynb",
   "parameters": {},
   "start_time": "2020-04-13T10:42:19.210851",
   "version": "2.0.0"
  }
 },
 "nbformat": 4,
 "nbformat_minor": 4
}
