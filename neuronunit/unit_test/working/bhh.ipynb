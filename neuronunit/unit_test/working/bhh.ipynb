{
 "cells": [
  {
   "cell_type": "code",
   "execution_count": 1,
   "metadata": {
    "papermill": {
     "duration": 6.109089,
     "end_time": "2020-04-13T10:42:26.136011",
     "exception": false,
     "start_time": "2020-04-13T10:42:20.026922",
     "status": "completed"
    },
    "tags": []
   },
   "outputs": [],
   "source": [
    "%%capture\n",
    "%matplotlib inline\n",
    "import seaborn as sns\n",
    "sns.set_context('notebook')\n",
    "%config InlineBackend.figure_format = 'retina'\n",
    "import matplotlib.pyplot as plt\n",
    "plt.plot([0,1],[1,0])\n",
    "import make_sim_tests\n",
    "import numpy as np\n",
    "from IPython.display import display, HTML\n",
    "from neuronunit.plottools import plot_score_history1\n",
    "from neuronunit.optimisation.optimization_management import check_binary_match\n",
    "\n",
    "import pandas as pd\n"
   ]
  },
  {
   "cell_type": "code",
   "execution_count": 2,
   "metadata": {
    "papermill": {
     "duration": 13.026997,
     "end_time": "2020-04-13T10:42:39.182234",
     "exception": false,
     "start_time": "2020-04-13T10:42:26.155237",
     "status": "completed"
    },
    "tags": []
   },
   "outputs": [],
   "source": [
    "%%capture\n",
    "model_type=\"HH\"\n",
    "fps = ['g_L','g_Na','g_K']    \n",
    "MU = 10 \n",
    "NGEN = 10\n",
    "import make_sim_tests\n",
    "sim_tests, OM, target = make_sim_tests.test_all_objective_test(fps,model_type=model_type)\n"
   ]
  },
  {
   "cell_type": "markdown",
   "metadata": {
    "papermill": {
     "duration": null,
     "end_time": null,
     "exception": null,
     "start_time": null,
     "status": "completed"
    },
    "tags": []
   },
   "source": [
    "# Meta Parameters"
   ]
  },
  {
   "cell_type": "code",
   "execution_count": null,
   "metadata": {
    "papermill": {
     "duration": null,
     "end_time": null,
     "exception": null,
     "start_time": null,
     "status": "completed"
    },
    "tags": []
   },
   "outputs": [],
   "source": [
    "MU = 10 \n",
    "NGEN = 10\n"
   ]
  },
  {
   "cell_type": "code",
   "execution_count": null,
   "metadata": {
    "papermill": {
     "duration": null,
     "end_time": null,
     "exception": null,
     "start_time": null,
     "status": "completed"
    },
    "tags": []
   },
   "outputs": [],
   "source": [
    "%%capture\n",
    "results = sim_tests.optimize(backend=model_type,\\\n",
    "        protocol={'allen': False, 'elephant': True},\\\n",
    "            MU=MU,NGEN=NGEN,plot=True,free_parameters=fps)\n"
   ]
  },
  {
   "cell_type": "code",
   "execution_count": null,
   "metadata": {
    "papermill": {
     "duration": null,
     "end_time": null,
     "exception": null,
     "start_time": null,
     "status": "completed"
    },
    "tags": []
   },
   "outputs": [],
   "source": [
    "opt = results['pf'][0].dtc\n",
    "OM.tests = opt.tests\n",
    "opt = OM.format_test(opt)\n",
    "opt.self_evaluate()\n",
    "opt = OM.get_agreement(opt)\n",
    "display(opt.agreement)"
   ]
  },
  {
   "cell_type": "code",
   "execution_count": null,
   "metadata": {
    "papermill": {
     "duration": null,
     "end_time": null,
     "exception": null,
     "start_time": null,
     "status": "completed"
    },
    "tags": []
   },
   "outputs": [],
   "source": [
    "\n",
    "plt = plot_score_history1(results)\n",
    "plt.show()\n",
    "from neuronunit.optimisation.optimization_management import check_binary_match\n"
   ]
  },
  {
   "cell_type": "code",
   "execution_count": null,
   "metadata": {
    "papermill": {
     "duration": null,
     "end_time": null,
     "exception": null,
     "start_time": null,
     "status": "completed"
    },
    "tags": []
   },
   "outputs": [],
   "source": [
    "model = target.dtc_to_model()\n",
    "\n",
    "check_binary_match(opt,target,snippets=True)\n",
    "\n",
    "target = OM.format_test(target)\n",
    "simulated_data_tests = target.tests\n",
    "#\n"
   ]
  },
  {
   "cell_type": "code",
   "execution_count": null,
   "metadata": {
    "papermill": {
     "duration": null,
     "end_time": null,
     "exception": null,
     "start_time": null,
     "status": "completed"
    },
    "tags": []
   },
   "outputs": [],
   "source": [
    "check_binary_match(opt,target,snippets=False)\n"
   ]
  },
  {
   "cell_type": "code",
   "execution_count": null,
   "metadata": {
    "papermill": {
     "duration": null,
     "end_time": null,
     "exception": null,
     "start_time": null,
     "status": "completed"
    },
    "tags": []
   },
   "outputs": [],
   "source": [
    "try:\n",
    "    opt.attrs.pop('dt',None)\n",
    "    opt.attrs.pop('Iext',None)\n",
    "except:\n",
    "    pass\n"
   ]
  },
  {
   "cell_type": "code",
   "execution_count": null,
   "metadata": {
    "papermill": {
     "duration": null,
     "end_time": null,
     "exception": null,
     "start_time": null,
     "status": "completed"
    },
    "tags": []
   },
   "outputs": [],
   "source": [
    "display(pd.DataFrame([opt.attrs]))\n",
    "import copy\n",
    "temp = {}\n",
    "for k in opt.attrs.keys():\n",
    "    temp[k] = target.attrs[k]\n",
    "display(pd.DataFrame([temp]))"
   ]
  },
  {
   "cell_type": "code",
   "execution_count": null,
   "metadata": {
    "papermill": {
     "duration": null,
     "end_time": null,
     "exception": null,
     "start_time": null,
     "status": "completed"
    },
    "tags": []
   },
   "outputs": [],
   "source": []
  },
  {
   "cell_type": "code",
   "execution_count": null,
   "metadata": {
    "papermill": {
     "duration": null,
     "end_time": null,
     "exception": null,
     "start_time": null,
     "status": "completed"
    },
    "tags": []
   },
   "outputs": [],
   "source": []
  },
  {
   "cell_type": "code",
   "execution_count": null,
   "metadata": {
    "papermill": {
     "duration": null,
     "end_time": null,
     "exception": null,
     "start_time": null,
     "status": "completed"
    },
    "tags": []
   },
   "outputs": [],
   "source": []
  },
  {
   "cell_type": "code",
   "execution_count": null,
   "metadata": {
    "papermill": {
     "duration": null,
     "end_time": null,
     "exception": null,
     "start_time": null,
     "status": "completed"
    },
    "tags": []
   },
   "outputs": [],
   "source": []
  }
 ],
 "metadata": {
  "kernelspec": {
   "display_name": "Python 3",
   "language": "python",
   "name": "python3"
  },
  "language_info": {
   "codemirror_mode": {
    "name": "ipython",
    "version": 3
   },
   "file_extension": ".py",
   "mimetype": "text/x-python",
   "name": "python",
   "nbconvert_exporter": "python",
   "pygments_lexer": "ipython3",
   "version": "3.6.9"
  },
  "papermill": {
   "duration": 21.09279,
   "end_time": "2020-04-13T10:42:40.303641",
   "environment_variables": {},
   "exception": null,
   "input_path": "localnbhh.ipynb",
   "output_path": "bhh.ipynb",
   "parameters": {},
   "start_time": "2020-04-13T10:42:19.210851",
   "version": "2.0.0"
  }
 },
 "nbformat": 4,
 "nbformat_minor": 4
}