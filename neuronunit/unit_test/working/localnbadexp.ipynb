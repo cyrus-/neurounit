{
 "cells": [
  {
   "cell_type": "code",
   "execution_count": 1,
   "metadata": {},
   "outputs": [],
   "source": [
    "%%capture\n",
    "%matplotlib inline\n",
    "import seaborn as sns\n",
    "sns.set_context('notebook')\n",
    "%config InlineBackend.figure_format = 'retina'\n",
    "import matplotlib.pyplot as plt\n",
    "plt.plot([0,1],[1,0])\n",
    "from neuronunit.optimisation.make_sim_tests import test_all_objective_test\n",
    "#from neuronunit.optimisation.optimization_management import test_all_objective_test\n",
    "\n",
    "import numpy as np\n",
    "from IPython.display import display, HTML\n",
    "from neuronunit.plottools import plot_score_history1\n",
    "from neuronunit.optimisation.optimization_management import check_binary_match, dtc_to_rheo\n",
    "import pandas as pd\n",
    "from neuronunit.optimisation.optimization_management import TSD\n",
    "from neuronunit.tests.fi import RheobaseTestP\n",
    "from neuronunit.optimisation.optimization_management import inject_and_plot_model, TSD\n",
    "\n",
    "from neuronunit.optimisation.model_parameters import MODEL_PARAMS\n",
    "import matplotlib as mpl\n",
    "mpl.rcParams.update(mpl.rcParamsDefault)\n",
    "plot_defaults = mpl.rcParamsDefault\n"
   ]
  },
  {
   "cell_type": "markdown",
   "metadata": {},
   "source": [
    "# Generate Simulated Data with A Hodgkin Huxley model \n",
    "Then optimize with an adaptive exponential.\n",
    "Then optimize an adaptive exponential model to fit it."
   ]
  },
  {
   "cell_type": "markdown",
   "metadata": {},
   "source": [
    "# Simulated Data \n",
    "and select model parameters that are free to vary"
   ]
  },
  {
   "cell_type": "code",
   "execution_count": null,
   "metadata": {},
   "outputs": [
    {
     "name": "stdout",
     "output_type": "stream",
     "text": [
      "Random simulated data tests made\n"
     ]
    }
   ],
   "source": [
    "import warnings\n",
    "warnings.filterwarnings(\"ignore\")\n",
    "model_type=\"HH\"\n",
    "\n",
    "params = MODEL_PARAMS[model_type];\n",
    "fps = params.keys()#['C','peak_v','b']\n",
    "sim_tests, OM, target = test_all_objective_test(fps,model_type=model_type)\n",
    "\n",
    "rtp = RheobaseTestP(sim_tests[\"RheobaseTest\"].observation)\n",
    "sim_tests[\"RheobaseTest\"] = rtp\n",
    "sim_tests = TSD(sim_tests)"
   ]
  },
  {
   "cell_type": "code",
   "execution_count": null,
   "metadata": {},
   "outputs": [],
   "source": []
  },
  {
   "cell_type": "code",
   "execution_count": null,
   "metadata": {},
   "outputs": [],
   "source": [
    "target_model = target.dtc_to_model()"
   ]
  },
  {
   "cell_type": "code",
   "execution_count": null,
   "metadata": {},
   "outputs": [],
   "source": [
    "%%time \n",
    "pred = rtp.generate_prediction(target_model)"
   ]
  },
  {
   "cell_type": "code",
   "execution_count": null,
   "metadata": {},
   "outputs": [],
   "source": [
    "%%time\n",
    "pred = sim_tests[\"RheobaseTest\"].generate_prediction(target_model)"
   ]
  },
  {
   "cell_type": "markdown",
   "metadata": {},
   "source": [
    "# Meta Parameters"
   ]
  },
  {
   "cell_type": "code",
   "execution_count": null,
   "metadata": {},
   "outputs": [],
   "source": [
    "MU = 8\n",
    "NGEN = 12"
   ]
  },
  {
   "cell_type": "code",
   "execution_count": null,
   "metadata": {},
   "outputs": [],
   "source": [
    "\n",
    "_,plt = inject_and_plot_model(target)\n",
    "plt.show()"
   ]
  },
  {
   "cell_type": "code",
   "execution_count": null,
   "metadata": {},
   "outputs": [],
   "source": [
    "model_type=\"ADEXP\"\n",
    "params = MODEL_PARAMS[model_type];\n",
    "fps = params.keys()\n",
    "results = sim_tests.optimize(backend=model_type,\\\n",
    "        protocol={'allen': False, 'elephant': True},\\\n",
    "            MU=MU,NGEN=NGEN,plot=True,free_parameters=fps)"
   ]
  },
  {
   "cell_type": "code",
   "execution_count": null,
   "metadata": {},
   "outputs": [],
   "source": [
    "results['pf'][0]\n",
    "sim_tests.ga_out['td']\n",
    "OM.td = results['td']\n",
    "OM.backend = \"ADEXP\"\n",
    "results['pf'][0].dtc = OM.update_dtc_pop([results['pf'][0]])[0]\n",
    "results['hof'][0].dtc = OM.update_dtc_pop([results['hof'][0]])[0]\n"
   ]
  },
  {
   "cell_type": "code",
   "execution_count": null,
   "metadata": {},
   "outputs": [],
   "source": [
    "\n",
    "opt = results['pf'][0].dtc\n",
    "hof = results['hof'][0].dtc\n",
    "opt = results['pf'][0].dtc\n",
    "opt = dtc_to_rheo(opt)\n",
    "print(opt.rheobase)"
   ]
  },
  {
   "cell_type": "code",
   "execution_count": null,
   "metadata": {},
   "outputs": [],
   "source": [
    "from neuronunit.tests.fi import RheobaseTest\n",
    "opt.tests[0] = RheobaseTest(sim_tests[\"RheobaseTest\"].observation)\n",
    "sim_tests[\"RheobaseTest\"] = RheobaseTest(sim_tests[\"RheobaseTest\"].observation)\n",
    "sim_tests.pop(\"RheobaseTestP\",None)\n"
   ]
  },
  {
   "cell_type": "markdown",
   "metadata": {},
   "source": [
    "# Analyse Results"
   ]
  },
  {
   "cell_type": "code",
   "execution_count": null,
   "metadata": {},
   "outputs": [],
   "source": [
    "\n",
    "opt.self_evaluate()\n"
   ]
  },
  {
   "cell_type": "code",
   "execution_count": null,
   "metadata": {},
   "outputs": [],
   "source": [
    "opt.get_agreement()\n"
   ]
  },
  {
   "cell_type": "code",
   "execution_count": null,
   "metadata": {},
   "outputs": [],
   "source": [
    "display(opt.agreement)\n"
   ]
  },
  {
   "cell_type": "code",
   "execution_count": null,
   "metadata": {},
   "outputs": [],
   "source": [
    "opt.SA"
   ]
  },
  {
   "cell_type": "markdown",
   "metadata": {},
   "source": [
    "# Can't look at evolution History yet"
   ]
  },
  {
   "cell_type": "code",
   "execution_count": null,
   "metadata": {},
   "outputs": [],
   "source": []
  },
  {
   "cell_type": "code",
   "execution_count": null,
   "metadata": {},
   "outputs": [],
   "source": []
  },
  {
   "cell_type": "code",
   "execution_count": null,
   "metadata": {},
   "outputs": [],
   "source": [
    "model = target.dtc_to_model()\n",
    "check_binary_match(opt,target,snippets=True)\n",
    "target = OM.format_test(target)\n",
    "simulated_data_tests = target.tests"
   ]
  },
  {
   "cell_type": "code",
   "execution_count": null,
   "metadata": {},
   "outputs": [],
   "source": [
    "check_binary_match(target,opt,snippets=False)\n"
   ]
  },
  {
   "cell_type": "code",
   "execution_count": null,
   "metadata": {},
   "outputs": [],
   "source": [
    "from neuronunit.optimisation.optimization_management import inject_and_plot_passive_model\n",
    "#inject_and_plot_passive_model(opt)\n",
    "import quantities as pq\n",
    "tm = target.dtc_to_model()\n",
    "\n",
    "model = opt.dtc_to_model()\n",
    "uc = {'amplitude':-10*pq.pA,'duration':500*pq.ms,'delay':100*pq.ms}\n",
    "model.inject_square_current(uc)\n",
    "vm1 = model.get_membrane_potential()\n",
    "tm.inject_square_current(uc)\n",
    "vm0 = tm.get_membrane_potential()\n",
    "plt.plot(vm1.times, vm1.magnitude, c='b',label=str('opt ADEXP'))#+str(model.attrs['a']))\n",
    "plt.plot(vm0.times, vm0.magnitude, c='r',label=str('target HH'))#+str(model.attrs['a']))\n",
    "\n",
    "plt.show()"
   ]
  },
  {
   "cell_type": "code",
   "execution_count": null,
   "metadata": {},
   "outputs": [],
   "source": []
  },
  {
   "cell_type": "code",
   "execution_count": null,
   "metadata": {},
   "outputs": [],
   "source": []
  },
  {
   "cell_type": "code",
   "execution_count": null,
   "metadata": {},
   "outputs": [],
   "source": [
    "display(pd.DataFrame([{k.name:v for k,v in opt.SA.items()}]))"
   ]
  },
  {
   "cell_type": "markdown",
   "metadata": {},
   "source": [
    "What where the values of model parameters that where held constant?\n"
   ]
  },
  {
   "cell_type": "code",
   "execution_count": null,
   "metadata": {},
   "outputs": [],
   "source": [
    "df0 = opt.dtc_to_model().default_attrs\n",
    "df1 = target.dtc_to_model().default_attrs\n",
    "hc = {}\n",
    "\n",
    "try:\n",
    "    df0.attrs.pop('dt',None)\n",
    "    df0.attrs.pop('Iext',None)\n",
    "    opt.attrs.pop('dt',None)\n",
    "    opt.attrs.pop('Iext',None)\n",
    "\n",
    "except:\n",
    "    pass\n",
    "\n",
    "for k,v in df0.items():\n",
    "    if k not in opt.attrs.keys():\n",
    "        assert df0[k] == df1[k]\n",
    "        hc[k] = v        \n",
    "display(\"Held constant:\")\n",
    "display(pd.DataFrame([hc]))        "
   ]
  },
  {
   "cell_type": "markdown",
   "metadata": {},
   "source": [
    "If the Pareto Front encircles the best solution without sampling directly on top of it.\n",
    "Does piercing the center get us closer to the hall of fame?\n",
    "Below, plot HOF[0]/PF[0] are they the same model? "
   ]
  },
  {
   "cell_type": "code",
   "execution_count": null,
   "metadata": {},
   "outputs": [],
   "source": []
  },
  {
   "cell_type": "markdown",
   "metadata": {},
   "source": [
    "# Exploring the neighbourhood of \n",
    "the Optimal solution is now syntatically easy\n",
    "\n",
    "## Make ranges to explore:"
   ]
  },
  {
   "cell_type": "code",
   "execution_count": null,
   "metadata": {},
   "outputs": [],
   "source": [
    "from neuronunit.optimisation.model_parameters import MODEL_PARAMS\n",
    "a_range = MODEL_PARAMS[\"ADEXP\"]['C']\n",
    "grid_a = np.linspace(a_range[0],a_range[1],10)\n",
    "b_range = MODEL_PARAMS[\"ADEXP\"]['b']\n",
    "grid_b = np.linspace(b_range[0],b_range[1],10);\n",
    "\n"
   ]
  },
  {
   "cell_type": "markdown",
   "metadata": {},
   "source": [
    "## Mutate a parameter in a dimension of interest."
   ]
  },
  {
   "cell_type": "code",
   "execution_count": null,
   "metadata": {},
   "outputs": [],
   "source": [
    "opt_sum = np.sum(opt.SA.values)\n",
    "for_scatter = (opt.attrs['C'],opt_sum)\n",
    "from tqdm import tqdm\n",
    "import copy\n",
    "collect = []\n",
    "mutant = copy.copy(opt)\n",
    "for a in tqdm(grid_a):\n",
    "    # non random mutation\n",
    "    mutant.attrs['C'] = a\n",
    "    # Evaluate NU test suite\n",
    "    mutant.self_evaluate()\n",
    "    # sum components (optional)\n",
    "    fit = np.sum(mutant.SA.values)\n",
    "    collect.append(fit)"
   ]
  },
  {
   "cell_type": "code",
   "execution_count": null,
   "metadata": {},
   "outputs": [],
   "source": [
    "plt.plot(grid_a,collect)\n",
    "plt.scatter(for_scatter[0],for_scatter[1],label='optima')\n"
   ]
  },
  {
   "cell_type": "markdown",
   "metadata": {},
   "source": [
    "The above plot seemed to have two steep wells, of low error about the optima.\n",
    "\n",
    "It might not be reasonable to expect to sample every such well, as the stochastic nature of the GA is not garunteed to sample small and and focused pockets of error change."
   ]
  },
  {
   "cell_type": "code",
   "execution_count": null,
   "metadata": {},
   "outputs": [],
   "source": [
    "opt_sum = np.sum(opt.SA.values)\n",
    "for_scatter = (opt.attrs['b'],opt_sum)\n",
    "from tqdm import tqdm\n",
    "collect = []\n",
    "mutant = copy.copy(opt)\n",
    "\n",
    "#insert_index = find_nearest(grid_b,opt.attrs['b'])[1]\n",
    "grid_b = list(grid_b)\n",
    "#grid_b.insert(insert_index,opt.attrs['b'])\n",
    "crheo = []\n",
    "for b in tqdm(grid_b):\n",
    "    # non random mutation\n",
    "    mutant.attrs['b'] = b\n",
    "    #print(mutant.attrs)\n",
    "    # Evaluate NU test suite\n",
    "    mutant.self_evaluate()\n",
    "    #print(mutant.rheobase)\n",
    "    crheo.append(mutant.rheobase)\n",
    "    # sum components (optional)\n",
    "    fit = np.sum(mutant.SA.values)\n",
    "    collect.append(fit)\n"
   ]
  },
  {
   "cell_type": "code",
   "execution_count": null,
   "metadata": {},
   "outputs": [],
   "source": [
    "plt.plot(grid_b,crheo)\n"
   ]
  },
  {
   "cell_type": "code",
   "execution_count": null,
   "metadata": {},
   "outputs": [],
   "source": [
    "plt.plot(grid_b,collect)\n",
    "for_scatter = (opt.attrs['b'],opt_sum)\n",
    "plt.scatter(for_scatter[0],for_scatter[1],label='optima')\n",
    "print(grid_b)"
   ]
  },
  {
   "cell_type": "code",
   "execution_count": null,
   "metadata": {},
   "outputs": [],
   "source": []
  },
  {
   "cell_type": "code",
   "execution_count": null,
   "metadata": {},
   "outputs": [],
   "source": []
  }
 ],
 "metadata": {
  "kernelspec": {
   "display_name": "Python 3",
   "language": "python",
   "name": "python3"
  },
  "language_info": {
   "codemirror_mode": {
    "name": "ipython",
    "version": 3
   },
   "file_extension": ".py",
   "mimetype": "text/x-python",
   "name": "python",
   "nbconvert_exporter": "python",
   "pygments_lexer": "ipython3",
   "version": "3.7.4"
  }
 },
 "nbformat": 4,
 "nbformat_minor": 4
}
