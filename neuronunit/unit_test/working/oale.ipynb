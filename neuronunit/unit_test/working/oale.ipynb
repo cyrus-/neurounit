{
 "cells": [
  {
   "cell_type": "code",
   "execution_count": 1,
   "metadata": {},
   "outputs": [
    {
     "data": {
      "image/png": "[encoded data removed]",
      "text/plain": [
       "<Figure size 432x288 with 1 Axes>"
      ]
     },
     "metadata": {
      "image/png": {
       "height": 253,
       "width": 377
      }
     },
     "output_type": "display_data"
    }
   ],
   "source": [
    "%matplotlib inline\n",
    "import seaborn as sns\n",
    "sns.set_context('notebook')\n",
    "%config InlineBackend.figure_format = 'retina'\n",
    "#%inline\n",
    "#import matplotlib as mpl\n",
    "import matplotlib.pyplot as plt\n",
    "plt.plot([0,1],[1,0])\n",
    "plt.show()\n",
    "\n"
   ]
  },
  {
   "cell_type": "code",
   "execution_count": 2,
   "metadata": {},
   "outputs": [
    {
     "name": "stdout",
     "output_type": "stream",
     "text": [
      "consider installing pynn a heavier backend\n"
     ]
    },
    {
     "name": "stderr",
     "output_type": "stream",
     "text": [
      "INFO:root:test\n",
      "INFO:root:test\n"
     ]
    },
    {
     "name": "stdout",
     "output_type": "stream",
     "text": [
      "pynn python Error\n"
     ]
    }
   ],
   "source": [
    "from neuronunit.optimisation.optimization_management import TSD\n",
    "\"\"\"Tests of NeuronUnit test classes\"\"\"\n",
    "import unittest\n",
    "import os\n",
    "import sys\n",
    "import dask\n",
    "from dask import bag\n",
    "import matplotlib\n",
    "matplotlib.use('Agg')\n",
    "import matplotlib.pyplot as plt\n",
    "\n",
    "from itertools import repeat\n",
    "import quantities as pq\n",
    "\n",
    "import copy\n",
    "import unittest\n",
    "import pickle\n",
    "\n",
    "import numpy as np\n",
    "import pickle\n",
    "import dask.bag as db\n",
    "import os\n",
    "\n",
    "from neuronunit.optimisation import get_neab\n",
    "from neuronunit.optimisation.data_transport_container import DataTC\n",
    "\n",
    "from neuronunit.optimisation.optimization_management import dtc_to_rheo#, mint_generic_model\n",
    "from neuronunit.optimisation.optimization_management import OptMan,inject_and_plot_model\n",
    "\n",
    "from neuronunit import tests as nu_tests, neuroelectro\n",
    "from neuronunit.tests import passive, waveform, fi\n",
    "from neuronunit.optimisation import exhaustive_search\n",
    "from neuronunit.optimisation.model_parameters import MODEL_PARAMS\n",
    "from neuronunit.tests import dynamics\n",
    "from neuronunit.optimisation import data_transport_container\n",
    "\n",
    "from neuronunit.tests.fi import RheobaseTest, RheobaseTestP\n",
    "from neuronunit import aibs\n",
    "from neuronunit.optimisation.optimisations import run_ga\n",
    "from neuronunit.optimisation import model_parameters\n",
    "from neuronunit.optimisation import mint_tests\n",
    "from neuronunit.optimisation import get_neab\n",
    "test_frame = get_neab.process_all_cells()\n",
    "test_frame.pop('Olfactory bulb (main) mitral cell',None)\n",
    "from IPython.display import HTML, display"
   ]
  },
  {
   "cell_type": "code",
   "execution_count": 3,
   "metadata": {},
   "outputs": [],
   "source": [
    "\n",
    "\n",
    "\n",
    "def permutations(use_test,backend):\n",
    "    use_test = TSD(use_test)\n",
    "    use_test.use_rheobase_score = True\n",
    "    edges = model_parameters.MODEL_PARAMS[backend]\n",
    "    #ga_out0 = use_test.optimize(edges,backend=backend,\\\n",
    "    #    protocol={'allen': False, 'elephant': True}, MU=8,NGEN=1)\n",
    "    ga_out1 =  use_test.optimize(edges,backend=backend,\\\n",
    "        protocol={'allen': False, 'elephant': True},\\\n",
    "            MU=10,NGEN=10)#,seed_pop=ga_out0['pf'][0])\n",
    "\n",
    "    \n",
    "    dtc = ga_out1['pf'][0].dtc\n",
    "    vm,plt = inject_and_plot_model(dtc.attrs,dtc.backend)\n",
    "\n",
    "    return dtc, ga_out1['DO'], vm\n"
   ]
  },
  {
   "cell_type": "code",
   "execution_count": 4,
   "metadata": {},
   "outputs": [],
   "source": [
    "test_frame = get_neab.process_all_cells()\n",
    "test_frame.pop('Olfactory bulb (main) mitral cell',None)\n",
    "OMObjects = []\n",
    "backends = [\"RAW\",\"HH\"]#,\"ADEXP\",\"BHH\"]\n",
    "t = test_frame['Neocortex pyramidal cell layer 5-6']\n",
    "\n"
   ]
  },
  {
   "cell_type": "code",
   "execution_count": null,
   "metadata": {},
   "outputs": [],
   "source": []
  },
  {
   "cell_type": "code",
   "execution_count": null,
   "metadata": {},
   "outputs": [],
   "source": []
  },
  {
   "cell_type": "code",
   "execution_count": 6,
   "metadata": {},
   "outputs": [
    {
     "name": "stdout",
     "output_type": "stream",
     "text": [
      "HH\n"
     ]
    },
    {
     "data": {
      "text/html": [
       "<div>\n",
       "<style scoped>\n",
       "    .dataframe tbody tr th:only-of-type {\n",
       "        vertical-align: middle;\n",
       "    }\n",
       "\n",
       "    .dataframe tbody tr th {\n",
       "        vertical-align: top;\n",
       "    }\n",
       "\n",
       "    .dataframe thead th {\n",
       "        text-align: right;\n",
       "    }\n",
       "</style>\n",
       "<table border=\"1\" class=\"dataframe\">\n",
       "  <thead>\n",
       "    <tr style=\"text-align: right;\">\n",
       "      <th></th>\n",
       "      <th>RheobaseTest</th>\n",
       "      <th>InputResistanceTest</th>\n",
       "      <th>TimeConstantTest</th>\n",
       "      <th>CapacitanceTest</th>\n",
       "      <th>RestingPotentialTest</th>\n",
       "      <th>InjectedCurrentAPAmplitudeTest</th>\n",
       "      <th>InjectedCurrentAPThresholdTest</th>\n",
       "    </tr>\n",
       "  </thead>\n",
       "  <tbody>\n",
       "    <tr>\n",
       "      <th></th>\n",
       "      <td>Z = 0.39</td>\n",
       "      <td>Z = 15.73</td>\n",
       "      <td>Z = -1.09</td>\n",
       "      <td>Z = -1.66</td>\n",
       "      <td>Z = -0.26</td>\n",
       "      <td>Z = -7.16</td>\n",
       "      <td>Z = -2.27</td>\n",
       "    </tr>\n",
       "  </tbody>\n",
       "</table>\n",
       "</div>"
      ],
      "text/plain": [
       " RheobaseTest InputResistanceTest TimeConstantTest CapacitanceTest  \\\n",
       "     Z = 0.39           Z = 15.73        Z = -1.09       Z = -1.66   \n",
       "\n",
       " RestingPotentialTest InjectedCurrentAPAmplitudeTest  \\\n",
       "            Z = -0.26                      Z = -7.16   \n",
       "\n",
       " InjectedCurrentAPThresholdTest  \n",
       "                      Z = -2.27  "
      ]
     },
     "metadata": {},
     "output_type": "display_data"
    },
    {
     "data": {
      "text/html": [
       "<div>\n",
       "<style scoped>\n",
       "    .dataframe tbody tr th:only-of-type {\n",
       "        vertical-align: middle;\n",
       "    }\n",
       "\n",
       "    .dataframe tbody tr th {\n",
       "        vertical-align: top;\n",
       "    }\n",
       "\n",
       "    .dataframe thead th {\n",
       "        text-align: right;\n",
       "    }\n",
       "</style>\n",
       "<table border=\"1\" class=\"dataframe\">\n",
       "  <thead>\n",
       "    <tr style=\"text-align: right;\">\n",
       "      <th></th>\n",
       "      <th>RheobaseTest</th>\n",
       "      <th>InputResistanceTest</th>\n",
       "      <th>TimeConstantTest</th>\n",
       "      <th>CapacitanceTest</th>\n",
       "      <th>RestingPotentialTest</th>\n",
       "      <th>InjectedCurrentAPAmplitudeTest</th>\n",
       "      <th>InjectedCurrentAPThresholdTest</th>\n",
       "    </tr>\n",
       "  </thead>\n",
       "  <tbody>\n",
       "    <tr>\n",
       "      <th>observations</th>\n",
       "      <td>300.0 pA</td>\n",
       "      <td>1327.6348074657985 Mohm</td>\n",
       "      <td>1.0566060962597625 ms</td>\n",
       "      <td>0.7958559765969241 pF</td>\n",
       "      <td>-66.51401918955841 mV</td>\n",
       "      <td>-1.3813464998284957 mV</td>\n",
       "      <td>-65.13267296014376 mV</td>\n",
       "    </tr>\n",
       "    <tr>\n",
       "      <th>predictions</th>\n",
       "      <td>189.24 pA</td>\n",
       "      <td>107.080327644332 Mohm</td>\n",
       "      <td>24.5021946169772 ms</td>\n",
       "      <td>89.7960714285714 pF</td>\n",
       "      <td>-65.2261863636364 mV</td>\n",
       "      <td>86.364525297619 mV</td>\n",
       "      <td>-47.5985714285714 mV</td>\n",
       "    </tr>\n",
       "  </tbody>\n",
       "</table>\n",
       "</div>"
      ],
      "text/plain": [
       "             RheobaseTest      InputResistanceTest       TimeConstantTest  \\\n",
       "observations     300.0 pA  1327.6348074657985 Mohm  1.0566060962597625 ms   \n",
       "predictions     189.24 pA    107.080327644332 Mohm    24.5021946169772 ms   \n",
       "\n",
       "                    CapacitanceTest   RestingPotentialTest  \\\n",
       "observations  0.7958559765969241 pF  -66.51401918955841 mV   \n",
       "predictions     89.7960714285714 pF   -65.2261863636364 mV   \n",
       "\n",
       "             InjectedCurrentAPAmplitudeTest InjectedCurrentAPThresholdTest  \n",
       "observations         -1.3813464998284957 mV          -65.13267296014376 mV  \n",
       "predictions              86.364525297619 mV           -47.5985714285714 mV  "
      ]
     },
     "metadata": {},
     "output_type": "display_data"
    },
    {
     "data": {
      "image/png": "[encoded data removed]",
      "text/plain": [
       "<Figure size 432x288 with 1 Axes>"
      ]
     },
     "metadata": {
      "image/png": {
       "height": 253,
       "width": 389
      }
     },
     "output_type": "display_data"
    },
    {
     "name": "stdout",
     "output_type": "stream",
     "text": [
      "HH\n"
     ]
    },
    {
     "data": {
      "text/html": [
       "<div>\n",
       "<style scoped>\n",
       "    .dataframe tbody tr th:only-of-type {\n",
       "        vertical-align: middle;\n",
       "    }\n",
       "\n",
       "    .dataframe tbody tr th {\n",
       "        vertical-align: top;\n",
       "    }\n",
       "\n",
       "    .dataframe thead th {\n",
       "        text-align: right;\n",
       "    }\n",
       "</style>\n",
       "<table border=\"1\" class=\"dataframe\">\n",
       "  <thead>\n",
       "    <tr style=\"text-align: right;\">\n",
       "      <th></th>\n",
       "      <th>RheobaseTest</th>\n",
       "      <th>InputResistanceTest</th>\n",
       "      <th>CapacitanceTest</th>\n",
       "      <th>RestingPotentialTest</th>\n",
       "      <th>InjectedCurrentAPAmplitudeTest</th>\n",
       "      <th>InjectedCurrentAPThresholdTest</th>\n",
       "    </tr>\n",
       "  </thead>\n",
       "  <tbody>\n",
       "    <tr>\n",
       "      <th></th>\n",
       "      <td>Z = -0.84</td>\n",
       "      <td>Z = 17.33</td>\n",
       "      <td>Z = -2.37</td>\n",
       "      <td>Z = -0.86</td>\n",
       "      <td>Z = -7.39</td>\n",
       "      <td>Z = -2.61</td>\n",
       "    </tr>\n",
       "  </tbody>\n",
       "</table>\n",
       "</div>"
      ],
      "text/plain": [
       " RheobaseTest InputResistanceTest CapacitanceTest RestingPotentialTest  \\\n",
       "    Z = -0.84           Z = 17.33       Z = -2.37            Z = -0.86   \n",
       "\n",
       " InjectedCurrentAPAmplitudeTest InjectedCurrentAPThresholdTest  \n",
       "                      Z = -7.39                      Z = -2.61  "
      ]
     },
     "metadata": {},
     "output_type": "display_data"
    },
    {
     "data": {
      "text/html": [
       "<div>\n",
       "<style scoped>\n",
       "    .dataframe tbody tr th:only-of-type {\n",
       "        vertical-align: middle;\n",
       "    }\n",
       "\n",
       "    .dataframe tbody tr th {\n",
       "        vertical-align: top;\n",
       "    }\n",
       "\n",
       "    .dataframe thead th {\n",
       "        text-align: right;\n",
       "    }\n",
       "</style>\n",
       "<table border=\"1\" class=\"dataframe\">\n",
       "  <thead>\n",
       "    <tr style=\"text-align: right;\">\n",
       "      <th></th>\n",
       "      <th>RheobaseTest</th>\n",
       "      <th>InputResistanceTest</th>\n",
       "      <th>CapacitanceTest</th>\n",
       "      <th>RestingPotentialTest</th>\n",
       "      <th>InjectedCurrentAPAmplitudeTest</th>\n",
       "      <th>InjectedCurrentAPThresholdTest</th>\n",
       "    </tr>\n",
       "  </thead>\n",
       "  <tbody>\n",
       "    <tr>\n",
       "      <th>observations</th>\n",
       "      <td>300.0 pA</td>\n",
       "      <td>1337.409688859027 Mohm</td>\n",
       "      <td>0.7813593878579297 pF</td>\n",
       "      <td>-66.40949717543822 mV</td>\n",
       "      <td>-1.4046287501353305 mV</td>\n",
       "      <td>-65.00486677346225 mV</td>\n",
       "    </tr>\n",
       "    <tr>\n",
       "      <th>predictions</th>\n",
       "      <td>680.794444444444 pA</td>\n",
       "      <td>142.057692307692 Mohm</td>\n",
       "      <td>620.2725 pF</td>\n",
       "      <td>-61.5916666666667 mV</td>\n",
       "      <td>71.2308333333333 mV</td>\n",
       "      <td>-46.8947619047619 mV</td>\n",
       "    </tr>\n",
       "  </tbody>\n",
       "</table>\n",
       "</div>"
      ],
      "text/plain": [
       "                     RheobaseTest     InputResistanceTest  \\\n",
       "observations             300.0 pA  1337.409688859027 Mohm   \n",
       "predictions   680.794444444444 pA   142.057692307692 Mohm   \n",
       "\n",
       "                    CapacitanceTest   RestingPotentialTest  \\\n",
       "observations  0.7813593878579297 pF  -66.40949717543822 mV   \n",
       "predictions             620.2725 pF   -61.5916666666667 mV   \n",
       "\n",
       "             InjectedCurrentAPAmplitudeTest InjectedCurrentAPThresholdTest  \n",
       "observations         -1.4046287501353305 mV          -65.00486677346225 mV  \n",
       "predictions             71.2308333333333 mV           -46.8947619047619 mV  "
      ]
     },
     "metadata": {},
     "output_type": "display_data"
    },
    {
     "data": {
      "image/png": "[encoded data removed]",
      "text/plain": [
       "<Figure size 432x288 with 1 Axes>"
      ]
     },
     "metadata": {
      "image/png": {
       "height": 253,
       "width": 389
      }
     },
     "output_type": "display_data"
    },
    {
     "name": "stdout",
     "output_type": "stream",
     "text": [
      "HH\n"
     ]
    },
    {
     "data": {
      "text/html": [
       "<div>\n",
       "<style scoped>\n",
       "    .dataframe tbody tr th:only-of-type {\n",
       "        vertical-align: middle;\n",
       "    }\n",
       "\n",
       "    .dataframe tbody tr th {\n",
       "        vertical-align: top;\n",
       "    }\n",
       "\n",
       "    .dataframe thead th {\n",
       "        text-align: right;\n",
       "    }\n",
       "</style>\n",
       "<table border=\"1\" class=\"dataframe\">\n",
       "  <thead>\n",
       "    <tr style=\"text-align: right;\">\n",
       "      <th></th>\n",
       "      <th>RheobaseTest</th>\n",
       "      <th>InputResistanceTest</th>\n",
       "      <th>TimeConstantTest</th>\n",
       "      <th>CapacitanceTest</th>\n",
       "      <th>RestingPotentialTest</th>\n",
       "      <th>InjectedCurrentAPAmplitudeTest</th>\n",
       "      <th>InjectedCurrentAPThresholdTest</th>\n",
       "    </tr>\n",
       "  </thead>\n",
       "  <tbody>\n",
       "    <tr>\n",
       "      <th></th>\n",
       "      <td>Z = -1.25</td>\n",
       "      <td>Z = 15.52</td>\n",
       "      <td>Z = -2.01</td>\n",
       "      <td>Z = -1.07</td>\n",
       "      <td>Z = 0.26</td>\n",
       "      <td>Z = -6.41</td>\n",
       "      <td>Z = 5.70</td>\n",
       "    </tr>\n",
       "  </tbody>\n",
       "</table>\n",
       "</div>"
      ],
      "text/plain": [
       " RheobaseTest InputResistanceTest TimeConstantTest CapacitanceTest  \\\n",
       "    Z = -1.25           Z = 15.52        Z = -2.01       Z = -1.07   \n",
       "\n",
       " RestingPotentialTest InjectedCurrentAPAmplitudeTest  \\\n",
       "             Z = 0.26                      Z = -6.41   \n",
       "\n",
       " InjectedCurrentAPThresholdTest  \n",
       "                       Z = 5.70  "
      ]
     },
     "metadata": {},
     "output_type": "display_data"
    },
    {
     "data": {
      "text/html": [
       "<div>\n",
       "<style scoped>\n",
       "    .dataframe tbody tr th:only-of-type {\n",
       "        vertical-align: middle;\n",
       "    }\n",
       "\n",
       "    .dataframe tbody tr th {\n",
       "        vertical-align: top;\n",
       "    }\n",
       "\n",
       "    .dataframe thead th {\n",
       "        text-align: right;\n",
       "    }\n",
       "</style>\n",
       "<table border=\"1\" class=\"dataframe\">\n",
       "  <thead>\n",
       "    <tr style=\"text-align: right;\">\n",
       "      <th></th>\n",
       "      <th>RheobaseTest</th>\n",
       "      <th>InputResistanceTest</th>\n",
       "      <th>TimeConstantTest</th>\n",
       "      <th>CapacitanceTest</th>\n",
       "      <th>RestingPotentialTest</th>\n",
       "      <th>InjectedCurrentAPAmplitudeTest</th>\n",
       "      <th>InjectedCurrentAPThresholdTest</th>\n",
       "    </tr>\n",
       "  </thead>\n",
       "  <tbody>\n",
       "    <tr>\n",
       "      <th>observations</th>\n",
       "      <td>0.0 pA</td>\n",
       "      <td>1325.4038002739946 Mohm</td>\n",
       "      <td>1.0733058742561468 ms</td>\n",
       "      <td>0.8097953801205844 pF</td>\n",
       "      <td>-66.52830451005548 mV</td>\n",
       "      <td>-1.3192228857241193 mV</td>\n",
       "      <td>3.071893577077245 mV</td>\n",
       "    </tr>\n",
       "    <tr>\n",
       "      <th>predictions</th>\n",
       "      <td>213.849583333333 pA</td>\n",
       "      <td>120.672073643411 Mohm</td>\n",
       "      <td>15.7342424242424 ms</td>\n",
       "      <td>150.584166666667 pF</td>\n",
       "      <td>-68.2481434599156 mV</td>\n",
       "      <td>80.4351020408164 mV</td>\n",
       "      <td>-42.7357232704403 mV</td>\n",
       "    </tr>\n",
       "  </tbody>\n",
       "</table>\n",
       "</div>"
      ],
      "text/plain": [
       "                     RheobaseTest      InputResistanceTest  \\\n",
       "observations               0.0 pA  1325.4038002739946 Mohm   \n",
       "predictions   213.849583333333 pA    120.672073643411 Mohm   \n",
       "\n",
       "                   TimeConstantTest        CapacitanceTest  \\\n",
       "observations  1.0733058742561468 ms  0.8097953801205844 pF   \n",
       "predictions     15.7342424242424 ms    150.584166666667 pF   \n",
       "\n",
       "               RestingPotentialTest InjectedCurrentAPAmplitudeTest  \\\n",
       "observations  -66.52830451005548 mV         -1.3192228857241193 mV   \n",
       "predictions    -68.2481434599156 mV            80.4351020408164 mV   \n",
       "\n",
       "             InjectedCurrentAPThresholdTest  \n",
       "observations           3.071893577077245 mV  \n",
       "predictions            -42.7357232704403 mV  "
      ]
     },
     "metadata": {},
     "output_type": "display_data"
    },
    {
     "data": {
      "image/png": "[encoded data removed]",
      "text/plain": [
       "<Figure size 432x288 with 1 Axes>"
      ]
     },
     "metadata": {
      "image/png": {
       "height": 253,
       "width": 382
      }
     },
     "output_type": "display_data"
    }
   ],
   "source": [
    "for t in test_frame.values():\n",
    "    b=backends[1]\n",
    "\n",
    "    (dtc,DO,vm) = permutations(copy.copy(t),b)\n",
    "    #print(b)\n",
    "    display(dtc.SM)\n",
    "    display(dtc.obs_preds)\n",
    "    plt.plot(vm.times,vm.magnitude)\n",
    "    plt.show()\n"
   ]
  },
  {
   "cell_type": "code",
   "execution_count": 7,
   "metadata": {},
   "outputs": [
    {
     "name": "stdout",
     "output_type": "stream",
     "text": [
      "RAW\n"
     ]
    },
    {
     "data": {
      "text/html": [
       "<div>\n",
       "<style scoped>\n",
       "    .dataframe tbody tr th:only-of-type {\n",
       "        vertical-align: middle;\n",
       "    }\n",
       "\n",
       "    .dataframe tbody tr th {\n",
       "        vertical-align: top;\n",
       "    }\n",
       "\n",
       "    .dataframe thead th {\n",
       "        text-align: right;\n",
       "    }\n",
       "</style>\n",
       "<table border=\"1\" class=\"dataframe\">\n",
       "  <thead>\n",
       "    <tr style=\"text-align: right;\">\n",
       "      <th></th>\n",
       "      <th>RheobaseTest</th>\n",
       "      <th>InputResistanceTest</th>\n",
       "      <th>TimeConstantTest</th>\n",
       "      <th>CapacitanceTest</th>\n",
       "      <th>RestingPotentialTest</th>\n",
       "      <th>InjectedCurrentAPAmplitudeTest</th>\n",
       "      <th>InjectedCurrentAPThresholdTest</th>\n",
       "    </tr>\n",
       "  </thead>\n",
       "  <tbody>\n",
       "    <tr>\n",
       "      <th></th>\n",
       "      <td>Z = -0.66</td>\n",
       "      <td>Z = 81.44</td>\n",
       "      <td>Z = -1.13</td>\n",
       "      <td>Z = -1.67</td>\n",
       "      <td>Z = -1.98</td>\n",
       "      <td>Z = -9.57</td>\n",
       "      <td>Z = 3.42</td>\n",
       "    </tr>\n",
       "  </tbody>\n",
       "</table>\n",
       "</div>"
      ],
      "text/plain": [
       " RheobaseTest InputResistanceTest TimeConstantTest CapacitanceTest  \\\n",
       "    Z = -0.66           Z = 81.44        Z = -1.13       Z = -1.67   \n",
       "\n",
       " RestingPotentialTest InjectedCurrentAPAmplitudeTest  \\\n",
       "            Z = -1.98                      Z = -9.57   \n",
       "\n",
       " InjectedCurrentAPThresholdTest  \n",
       "                       Z = 3.42  "
      ]
     },
     "metadata": {},
     "output_type": "display_data"
    },
    {
     "data": {
      "text/html": [
       "<div>\n",
       "<style scoped>\n",
       "    .dataframe tbody tr th:only-of-type {\n",
       "        vertical-align: middle;\n",
       "    }\n",
       "\n",
       "    .dataframe tbody tr th {\n",
       "        vertical-align: top;\n",
       "    }\n",
       "\n",
       "    .dataframe thead th {\n",
       "        text-align: right;\n",
       "    }\n",
       "</style>\n",
       "<table border=\"1\" class=\"dataframe\">\n",
       "  <thead>\n",
       "    <tr style=\"text-align: right;\">\n",
       "      <th></th>\n",
       "      <th>RheobaseTest</th>\n",
       "      <th>InputResistanceTest</th>\n",
       "      <th>TimeConstantTest</th>\n",
       "      <th>CapacitanceTest</th>\n",
       "      <th>RestingPotentialTest</th>\n",
       "      <th>InjectedCurrentAPAmplitudeTest</th>\n",
       "      <th>InjectedCurrentAPThresholdTest</th>\n",
       "    </tr>\n",
       "  </thead>\n",
       "  <tbody>\n",
       "    <tr>\n",
       "      <th>observations</th>\n",
       "      <td>0.43619871139526367 pA</td>\n",
       "      <td>6425.29166051364 Mohm</td>\n",
       "      <td>0.2210018468679636 ms</td>\n",
       "      <td>0.03439561323357834 pF</td>\n",
       "      <td>-74.91930381744916 mV</td>\n",
       "      <td>-31.00842355743999 mV</td>\n",
       "      <td>-21.189791464566575 mV</td>\n",
       "    </tr>\n",
       "    <tr>\n",
       "      <th>predictions</th>\n",
       "      <td>189.24 pA</td>\n",
       "      <td>107.080327644332 Mohm</td>\n",
       "      <td>24.5021946169772 ms</td>\n",
       "      <td>89.7960714285714 pF</td>\n",
       "      <td>-65.2261863636364 mV</td>\n",
       "      <td>86.364525297619 mV</td>\n",
       "      <td>-47.5985714285714 mV</td>\n",
       "    </tr>\n",
       "  </tbody>\n",
       "</table>\n",
       "</div>"
      ],
      "text/plain": [
       "                        RheobaseTest    InputResistanceTest  \\\n",
       "observations  0.43619871139526367 pA  6425.29166051364 Mohm   \n",
       "predictions                189.24 pA  107.080327644332 Mohm   \n",
       "\n",
       "                   TimeConstantTest         CapacitanceTest  \\\n",
       "observations  0.2210018468679636 ms  0.03439561323357834 pF   \n",
       "predictions     24.5021946169772 ms     89.7960714285714 pF   \n",
       "\n",
       "               RestingPotentialTest InjectedCurrentAPAmplitudeTest  \\\n",
       "observations  -74.91930381744916 mV          -31.00842355743999 mV   \n",
       "predictions    -65.2261863636364 mV             86.364525297619 mV   \n",
       "\n",
       "             InjectedCurrentAPThresholdTest  \n",
       "observations         -21.189791464566575 mV  \n",
       "predictions            -47.5985714285714 mV  "
      ]
     },
     "metadata": {},
     "output_type": "display_data"
    },
    {
     "data": {
      "image/png": "[encoded data removed]",
      "text/plain": [
       "<Figure size 432x288 with 1 Axes>"
      ]
     },
     "metadata": {
      "image/png": {
       "height": 253,
       "width": 382
      }
     },
     "output_type": "display_data"
    },
    {
     "name": "stdout",
     "output_type": "stream",
     "text": [
      "RAW\n"
     ]
    },
    {
     "data": {
      "text/html": [
       "<div>\n",
       "<style scoped>\n",
       "    .dataframe tbody tr th:only-of-type {\n",
       "        vertical-align: middle;\n",
       "    }\n",
       "\n",
       "    .dataframe tbody tr th {\n",
       "        vertical-align: top;\n",
       "    }\n",
       "\n",
       "    .dataframe thead th {\n",
       "        text-align: right;\n",
       "    }\n",
       "</style>\n",
       "<table border=\"1\" class=\"dataframe\">\n",
       "  <thead>\n",
       "    <tr style=\"text-align: right;\">\n",
       "      <th></th>\n",
       "      <th>RheobaseTest</th>\n",
       "      <th>InputResistanceTest</th>\n",
       "      <th>CapacitanceTest</th>\n",
       "      <th>RestingPotentialTest</th>\n",
       "      <th>InjectedCurrentAPAmplitudeTest</th>\n",
       "      <th>InjectedCurrentAPThresholdTest</th>\n",
       "    </tr>\n",
       "  </thead>\n",
       "  <tbody>\n",
       "    <tr>\n",
       "      <th></th>\n",
       "      <td>Z = -0.84</td>\n",
       "      <td>Z = 96.62</td>\n",
       "      <td>Z = -2.37</td>\n",
       "      <td>Z = -2.38</td>\n",
       "      <td>Z = -12.33</td>\n",
       "      <td>Z = 3.15</td>\n",
       "    </tr>\n",
       "  </tbody>\n",
       "</table>\n",
       "</div>"
      ],
      "text/plain": [
       " RheobaseTest InputResistanceTest CapacitanceTest RestingPotentialTest  \\\n",
       "    Z = -0.84           Z = 96.62       Z = -2.37            Z = -2.38   \n",
       "\n",
       " InjectedCurrentAPAmplitudeTest InjectedCurrentAPThresholdTest  \n",
       "                     Z = -12.33                       Z = 3.15  "
      ]
     },
     "metadata": {},
     "output_type": "display_data"
    },
    {
     "data": {
      "text/html": [
       "<div>\n",
       "<style scoped>\n",
       "    .dataframe tbody tr th:only-of-type {\n",
       "        vertical-align: middle;\n",
       "    }\n",
       "\n",
       "    .dataframe tbody tr th {\n",
       "        vertical-align: top;\n",
       "    }\n",
       "\n",
       "    .dataframe thead th {\n",
       "        text-align: right;\n",
       "    }\n",
       "</style>\n",
       "<table border=\"1\" class=\"dataframe\">\n",
       "  <thead>\n",
       "    <tr style=\"text-align: right;\">\n",
       "      <th></th>\n",
       "      <th>RheobaseTest</th>\n",
       "      <th>InputResistanceTest</th>\n",
       "      <th>CapacitanceTest</th>\n",
       "      <th>RestingPotentialTest</th>\n",
       "      <th>InjectedCurrentAPAmplitudeTest</th>\n",
       "      <th>InjectedCurrentAPThresholdTest</th>\n",
       "    </tr>\n",
       "  </thead>\n",
       "  <tbody>\n",
       "    <tr>\n",
       "      <th>observations</th>\n",
       "      <td>300.0 pA</td>\n",
       "      <td>6806.882771639085 Mohm</td>\n",
       "      <td>0.03358125259439306 pF</td>\n",
       "      <td>-75.0 mV</td>\n",
       "      <td>-50.0 mV</td>\n",
       "      <td>-25.0 mV</td>\n",
       "    </tr>\n",
       "    <tr>\n",
       "      <th>predictions</th>\n",
       "      <td>680.794444444444 pA</td>\n",
       "      <td>142.057692307692 Mohm</td>\n",
       "      <td>620.2725 pF</td>\n",
       "      <td>-61.5916666666667 mV</td>\n",
       "      <td>71.2308333333333 mV</td>\n",
       "      <td>-46.8947619047619 mV</td>\n",
       "    </tr>\n",
       "  </tbody>\n",
       "</table>\n",
       "</div>"
      ],
      "text/plain": [
       "                     RheobaseTest     InputResistanceTest  \\\n",
       "observations             300.0 pA  6806.882771639085 Mohm   \n",
       "predictions   680.794444444444 pA   142.057692307692 Mohm   \n",
       "\n",
       "                     CapacitanceTest  RestingPotentialTest  \\\n",
       "observations  0.03358125259439306 pF              -75.0 mV   \n",
       "predictions              620.2725 pF  -61.5916666666667 mV   \n",
       "\n",
       "             InjectedCurrentAPAmplitudeTest InjectedCurrentAPThresholdTest  \n",
       "observations                       -50.0 mV                       -25.0 mV  \n",
       "predictions             71.2308333333333 mV           -46.8947619047619 mV  "
      ]
     },
     "metadata": {},
     "output_type": "display_data"
    },
    {
     "data": {
      "image/png": "[encoded data removed]",
      "text/plain": [
       "<Figure size 432x288 with 1 Axes>"
      ]
     },
     "metadata": {
      "image/png": {
       "height": 253,
       "width": 389
      }
     },
     "output_type": "display_data"
    },
    {
     "name": "stdout",
     "output_type": "stream",
     "text": [
      "RAW\n"
     ]
    },
    {
     "data": {
      "text/html": [
       "<div>\n",
       "<style scoped>\n",
       "    .dataframe tbody tr th:only-of-type {\n",
       "        vertical-align: middle;\n",
       "    }\n",
       "\n",
       "    .dataframe tbody tr th {\n",
       "        vertical-align: top;\n",
       "    }\n",
       "\n",
       "    .dataframe thead th {\n",
       "        text-align: right;\n",
       "    }\n",
       "</style>\n",
       "<table border=\"1\" class=\"dataframe\">\n",
       "  <thead>\n",
       "    <tr style=\"text-align: right;\">\n",
       "      <th></th>\n",
       "      <th>RheobaseTest</th>\n",
       "      <th>InputResistanceTest</th>\n",
       "      <th>TimeConstantTest</th>\n",
       "      <th>CapacitanceTest</th>\n",
       "      <th>RestingPotentialTest</th>\n",
       "      <th>InjectedCurrentAPAmplitudeTest</th>\n",
       "      <th>InjectedCurrentAPThresholdTest</th>\n",
       "    </tr>\n",
       "  </thead>\n",
       "  <tbody>\n",
       "    <tr>\n",
       "      <th></th>\n",
       "      <td>Z = -1.25</td>\n",
       "      <td>Z = 80.80</td>\n",
       "      <td>Z = -2.12</td>\n",
       "      <td>Z = -1.08</td>\n",
       "      <td>Z = -1.02</td>\n",
       "      <td>Z = -8.51</td>\n",
       "      <td>Z = 2.35</td>\n",
       "    </tr>\n",
       "  </tbody>\n",
       "</table>\n",
       "</div>"
      ],
      "text/plain": [
       " RheobaseTest InputResistanceTest TimeConstantTest CapacitanceTest  \\\n",
       "    Z = -1.25           Z = 80.80        Z = -2.12       Z = -1.08   \n",
       "\n",
       " RestingPotentialTest InjectedCurrentAPAmplitudeTest  \\\n",
       "            Z = -1.02                      Z = -8.51   \n",
       "\n",
       " InjectedCurrentAPThresholdTest  \n",
       "                       Z = 2.35  "
      ]
     },
     "metadata": {},
     "output_type": "display_data"
    },
    {
     "data": {
      "text/html": [
       "<div>\n",
       "<style scoped>\n",
       "    .dataframe tbody tr th:only-of-type {\n",
       "        vertical-align: middle;\n",
       "    }\n",
       "\n",
       "    .dataframe tbody tr th {\n",
       "        vertical-align: top;\n",
       "    }\n",
       "\n",
       "    .dataframe thead th {\n",
       "        text-align: right;\n",
       "    }\n",
       "</style>\n",
       "<table border=\"1\" class=\"dataframe\">\n",
       "  <thead>\n",
       "    <tr style=\"text-align: right;\">\n",
       "      <th></th>\n",
       "      <th>RheobaseTest</th>\n",
       "      <th>InputResistanceTest</th>\n",
       "      <th>TimeConstantTest</th>\n",
       "      <th>CapacitanceTest</th>\n",
       "      <th>RestingPotentialTest</th>\n",
       "      <th>InjectedCurrentAPAmplitudeTest</th>\n",
       "      <th>InjectedCurrentAPThresholdTest</th>\n",
       "    </tr>\n",
       "  </thead>\n",
       "  <tbody>\n",
       "    <tr>\n",
       "      <th>observations</th>\n",
       "      <td>0.457763671875 pA</td>\n",
       "      <td>6393.2943844052725 Mohm</td>\n",
       "      <td>0.21986399611910606 ms</td>\n",
       "      <td>0.034389781370838375 pF</td>\n",
       "      <td>-74.92120904351393 mV</td>\n",
       "      <td>-28.057100190786976 mV</td>\n",
       "      <td>-23.81898499904424 mV</td>\n",
       "    </tr>\n",
       "    <tr>\n",
       "      <th>predictions</th>\n",
       "      <td>213.849583333333 pA</td>\n",
       "      <td>120.672073643411 Mohm</td>\n",
       "      <td>15.7342424242424 ms</td>\n",
       "      <td>150.584166666667 pF</td>\n",
       "      <td>-68.2481434599156 mV</td>\n",
       "      <td>80.4351020408164 mV</td>\n",
       "      <td>-42.7357232704403 mV</td>\n",
       "    </tr>\n",
       "  </tbody>\n",
       "</table>\n",
       "</div>"
      ],
      "text/plain": [
       "                     RheobaseTest      InputResistanceTest  \\\n",
       "observations    0.457763671875 pA  6393.2943844052725 Mohm   \n",
       "predictions   213.849583333333 pA    120.672073643411 Mohm   \n",
       "\n",
       "                    TimeConstantTest          CapacitanceTest  \\\n",
       "observations  0.21986399611910606 ms  0.034389781370838375 pF   \n",
       "predictions      15.7342424242424 ms      150.584166666667 pF   \n",
       "\n",
       "               RestingPotentialTest InjectedCurrentAPAmplitudeTest  \\\n",
       "observations  -74.92120904351393 mV         -28.057100190786976 mV   \n",
       "predictions    -68.2481434599156 mV            80.4351020408164 mV   \n",
       "\n",
       "             InjectedCurrentAPThresholdTest  \n",
       "observations          -23.81898499904424 mV  \n",
       "predictions            -42.7357232704403 mV  "
      ]
     },
     "metadata": {},
     "output_type": "display_data"
    },
    {
     "data": {
      "image/png": "[encoded data removed]",
      "text/plain": [
       "<Figure size 432x288 with 1 Axes>"
      ]
     },
     "metadata": {
      "image/png": {
       "height": 253,
       "width": 382
      }
     },
     "output_type": "display_data"
    }
   ],
   "source": [
    "\n",
    "backends = [\"RAW\",\"HH\"]#,\"ADEXP\",\"BHH\"]\n",
    "plt.clf()\n",
    "\n",
    "for t in test_frame.values():\n",
    "    b=backends[0]\n",
    "\n",
    "    (dtc,DO,vm) = permutations(copy.copy(t),b)\n",
    "    print(b)\n",
    "    display(dtc.SM)\n",
    "    display(dtc.obs_preds)\n",
    "    plt.plot(vm.times,vm.magnitude)\n",
    "    plt.show()\n",
    "\n",
    "\n"
   ]
  },
  {
   "cell_type": "code",
   "execution_count": null,
   "metadata": {},
   "outputs": [
    {
     "name": "stdout",
     "output_type": "stream",
     "text": [
      "HH\n"
     ]
    },
    {
     "data": {
      "text/html": [
       "<div>\n",
       "<style scoped>\n",
       "    .dataframe tbody tr th:only-of-type {\n",
       "        vertical-align: middle;\n",
       "    }\n",
       "\n",
       "    .dataframe tbody tr th {\n",
       "        vertical-align: top;\n",
       "    }\n",
       "\n",
       "    .dataframe thead th {\n",
       "        text-align: right;\n",
       "    }\n",
       "</style>\n",
       "<table border=\"1\" class=\"dataframe\">\n",
       "  <thead>\n",
       "    <tr style=\"text-align: right;\">\n",
       "      <th></th>\n",
       "      <th>RheobaseTest</th>\n",
       "      <th>InputResistanceTest</th>\n",
       "      <th>TimeConstantTest</th>\n",
       "      <th>CapacitanceTest</th>\n",
       "      <th>RestingPotentialTest</th>\n",
       "      <th>InjectedCurrentAPAmplitudeTest</th>\n",
       "      <th>InjectedCurrentAPThresholdTest</th>\n",
       "    </tr>\n",
       "  </thead>\n",
       "  <tbody>\n",
       "    <tr>\n",
       "      <th></th>\n",
       "      <td>Z = -0.64</td>\n",
       "      <td>Z = 15.10</td>\n",
       "      <td>Z = -1.09</td>\n",
       "      <td>Z = -1.66</td>\n",
       "      <td>Z = -0.72</td>\n",
       "      <td>Z = -8.12</td>\n",
       "      <td>Z = 0.30</td>\n",
       "    </tr>\n",
       "  </tbody>\n",
       "</table>\n",
       "</div>"
      ],
      "text/plain": [
       " RheobaseTest InputResistanceTest TimeConstantTest CapacitanceTest  \\\n",
       "    Z = -0.64           Z = 15.10        Z = -1.09       Z = -1.66   \n",
       "\n",
       " RestingPotentialTest InjectedCurrentAPAmplitudeTest  \\\n",
       "            Z = -0.72                      Z = -8.12   \n",
       "\n",
       " InjectedCurrentAPThresholdTest  \n",
       "                       Z = 0.30  "
      ]
     },
     "metadata": {},
     "output_type": "display_data"
    },
    {
     "data": {
      "text/html": [
       "<div>\n",
       "<style scoped>\n",
       "    .dataframe tbody tr th:only-of-type {\n",
       "        vertical-align: middle;\n",
       "    }\n",
       "\n",
       "    .dataframe tbody tr th {\n",
       "        vertical-align: top;\n",
       "    }\n",
       "\n",
       "    .dataframe thead th {\n",
       "        text-align: right;\n",
       "    }\n",
       "</style>\n",
       "<table border=\"1\" class=\"dataframe\">\n",
       "  <thead>\n",
       "    <tr style=\"text-align: right;\">\n",
       "      <th></th>\n",
       "      <th>RheobaseTest</th>\n",
       "      <th>InputResistanceTest</th>\n",
       "      <th>TimeConstantTest</th>\n",
       "      <th>CapacitanceTest</th>\n",
       "      <th>RestingPotentialTest</th>\n",
       "      <th>InjectedCurrentAPAmplitudeTest</th>\n",
       "      <th>InjectedCurrentAPThresholdTest</th>\n",
       "    </tr>\n",
       "  </thead>\n",
       "  <tbody>\n",
       "    <tr>\n",
       "      <th>observations</th>\n",
       "      <td>5.223065614700317 pA</td>\n",
       "      <td>1278.769492792294 Mohm</td>\n",
       "      <td>1.0412774186749527 ms</td>\n",
       "      <td>0.8142807789394798 pF</td>\n",
       "      <td>-68.73255193820411 mV</td>\n",
       "      <td>-13.19371959177947 mV</td>\n",
       "      <td>-45.29431015666782 mV</td>\n",
       "    </tr>\n",
       "    <tr>\n",
       "      <th>predictions</th>\n",
       "      <td>189.24 pA</td>\n",
       "      <td>107.080327644332 Mohm</td>\n",
       "      <td>24.5021946169772 ms</td>\n",
       "      <td>89.7960714285714 pF</td>\n",
       "      <td>-65.2261863636364 mV</td>\n",
       "      <td>86.364525297619 mV</td>\n",
       "      <td>-47.5985714285714 mV</td>\n",
       "    </tr>\n",
       "  </tbody>\n",
       "</table>\n",
       "</div>"
      ],
      "text/plain": [
       "                      RheobaseTest     InputResistanceTest  \\\n",
       "observations  5.223065614700317 pA  1278.769492792294 Mohm   \n",
       "predictions              189.24 pA   107.080327644332 Mohm   \n",
       "\n",
       "                   TimeConstantTest        CapacitanceTest  \\\n",
       "observations  1.0412774186749527 ms  0.8142807789394798 pF   \n",
       "predictions     24.5021946169772 ms    89.7960714285714 pF   \n",
       "\n",
       "               RestingPotentialTest InjectedCurrentAPAmplitudeTest  \\\n",
       "observations  -68.73255193820411 mV          -13.19371959177947 mV   \n",
       "predictions    -65.2261863636364 mV             86.364525297619 mV   \n",
       "\n",
       "             InjectedCurrentAPThresholdTest  \n",
       "observations          -45.29431015666782 mV  \n",
       "predictions            -47.5985714285714 mV  "
      ]
     },
     "metadata": {},
     "output_type": "display_data"
    },
    {
     "data": {
      "image/png": "[encoded data removed]",
      "text/plain": [
       "<Figure size 432x288 with 1 Axes>"
      ]
     },
     "metadata": {
      "image/png": {
       "height": 253,
       "width": 389
      }
     },
     "output_type": "display_data"
    },
    {
     "name": "stdout",
     "output_type": "stream",
     "text": [
      "HH\n"
     ]
    },
    {
     "data": {
      "text/html": [
       "<div>\n",
       "<style scoped>\n",
       "    .dataframe tbody tr th:only-of-type {\n",
       "        vertical-align: middle;\n",
       "    }\n",
       "\n",
       "    .dataframe tbody tr th {\n",
       "        vertical-align: top;\n",
       "    }\n",
       "\n",
       "    .dataframe thead th {\n",
       "        text-align: right;\n",
       "    }\n",
       "</style>\n",
       "<table border=\"1\" class=\"dataframe\">\n",
       "  <thead>\n",
       "    <tr style=\"text-align: right;\">\n",
       "      <th></th>\n",
       "      <th>RheobaseTest</th>\n",
       "      <th>InputResistanceTest</th>\n",
       "      <th>CapacitanceTest</th>\n",
       "      <th>RestingPotentialTest</th>\n",
       "      <th>InjectedCurrentAPAmplitudeTest</th>\n",
       "      <th>InjectedCurrentAPThresholdTest</th>\n",
       "    </tr>\n",
       "  </thead>\n",
       "  <tbody>\n",
       "    <tr>\n",
       "      <th></th>\n",
       "      <td>Z = -1.50</td>\n",
       "      <td>Z = 17.30</td>\n",
       "      <td>Z = -2.37</td>\n",
       "      <td>Z = -0.86</td>\n",
       "      <td>Z = -7.43</td>\n",
       "      <td>Z = 7.07</td>\n",
       "    </tr>\n",
       "  </tbody>\n",
       "</table>\n",
       "</div>"
      ],
      "text/plain": [
       " RheobaseTest InputResistanceTest CapacitanceTest RestingPotentialTest  \\\n",
       "    Z = -1.50           Z = 17.30       Z = -2.37            Z = -0.86   \n",
       "\n",
       " InjectedCurrentAPAmplitudeTest InjectedCurrentAPThresholdTest  \n",
       "                      Z = -7.43                       Z = 7.07  "
      ]
     },
     "metadata": {},
     "output_type": "display_data"
    },
    {
     "data": {
      "text/html": [
       "<div>\n",
       "<style scoped>\n",
       "    .dataframe tbody tr th:only-of-type {\n",
       "        vertical-align: middle;\n",
       "    }\n",
       "\n",
       "    .dataframe tbody tr th {\n",
       "        vertical-align: top;\n",
       "    }\n",
       "\n",
       "    .dataframe thead th {\n",
       "        text-align: right;\n",
       "    }\n",
       "</style>\n",
       "<table border=\"1\" class=\"dataframe\">\n",
       "  <thead>\n",
       "    <tr style=\"text-align: right;\">\n",
       "      <th></th>\n",
       "      <th>RheobaseTest</th>\n",
       "      <th>InputResistanceTest</th>\n",
       "      <th>CapacitanceTest</th>\n",
       "      <th>RestingPotentialTest</th>\n",
       "      <th>InjectedCurrentAPAmplitudeTest</th>\n",
       "      <th>InjectedCurrentAPThresholdTest</th>\n",
       "    </tr>\n",
       "  </thead>\n",
       "  <tbody>\n",
       "    <tr>\n",
       "      <th>observations</th>\n",
       "      <td>0.0 pA</td>\n",
       "      <td>1335.1702449492332 Mohm</td>\n",
       "      <td>0.7965975623216017 pF</td>\n",
       "      <td>-66.42846454230303 mV</td>\n",
       "      <td>-1.8070563700894835 mV</td>\n",
       "      <td>2.239769146999617 mV</td>\n",
       "    </tr>\n",
       "    <tr>\n",
       "      <th>predictions</th>\n",
       "      <td>680.794444444444 pA</td>\n",
       "      <td>142.057692307692 Mohm</td>\n",
       "      <td>620.2725 pF</td>\n",
       "      <td>-61.5916666666667 mV</td>\n",
       "      <td>71.2308333333333 mV</td>\n",
       "      <td>-46.8947619047619 mV</td>\n",
       "    </tr>\n",
       "  </tbody>\n",
       "</table>\n",
       "</div>"
      ],
      "text/plain": [
       "                     RheobaseTest      InputResistanceTest  \\\n",
       "observations               0.0 pA  1335.1702449492332 Mohm   \n",
       "predictions   680.794444444444 pA    142.057692307692 Mohm   \n",
       "\n",
       "                    CapacitanceTest   RestingPotentialTest  \\\n",
       "observations  0.7965975623216017 pF  -66.42846454230303 mV   \n",
       "predictions             620.2725 pF   -61.5916666666667 mV   \n",
       "\n",
       "             InjectedCurrentAPAmplitudeTest InjectedCurrentAPThresholdTest  \n",
       "observations         -1.8070563700894835 mV           2.239769146999617 mV  \n",
       "predictions             71.2308333333333 mV           -46.8947619047619 mV  "
      ]
     },
     "metadata": {},
     "output_type": "display_data"
    },
    {
     "data": {
      "image/png": "[encoded data removed]",
      "text/plain": [
       "<Figure size 432x288 with 1 Axes>"
      ]
     },
     "metadata": {
      "image/png": {
       "height": 253,
       "width": 389
      }
     },
     "output_type": "display_data"
    }
   ],
   "source": [
    "\"\"\"\"\n",
    "for t in test_frame.values():\n",
    "    b=backends[1]\n",
    "\n",
    "    (dtc,DO,vm) = permutations(copy.copy(t),b)\n",
    "    print(b)\n",
    "    display(dtc.SM)\n",
    "    display(dtc.obs_preds)\n",
    "    plt.plot(vm.times,vm.magnitude)\n",
    "    plt.show()\n",
    "\"\"\""
   ]
  },
  {
   "cell_type": "code",
   "execution_count": null,
   "metadata": {},
   "outputs": [],
   "source": []
  },
  {
   "cell_type": "code",
   "execution_count": null,
   "metadata": {},
   "outputs": [],
   "source": [
    "\"\"\"\n",
    "for t in test_frame.values():\n",
    "    b=backends[3]\n",
    "\n",
    "    (dtc,DO,vm) = permutations(copy.copy(t),b)\n",
    "    print(b)\n",
    "    display(dtc.SM)\n",
    "    display(dtc.obs_preds)\n",
    "    plt.plot(vm.times,vm.magnitude)\n",
    "    plt.show()\n",
    "\"\"\""
   ]
  },
  {
   "cell_type": "code",
   "execution_count": null,
   "metadata": {},
   "outputs": [],
   "source": [
    "(dtc,DO) = permutations(test_frame['Neocortex pyramidal cell layer 5-6'],\"ADEXP\")\n",
    "display(dtc.SM)\n",
    "display(dtc.obs_preds)"
   ]
  },
  {
   "cell_type": "code",
   "execution_count": null,
   "metadata": {},
   "outputs": [],
   "source": [
    "\n",
    "backends = [\"RAW\",\"HH\",\"BHH\"]  \n",
    "\n",
    "\n",
    "\n",
    "#for b in backends:\n",
    "(dtc,DO) = permutations(test_frame['Neocortex pyramidal cell layer 5-6'],\"RAW\")\n"
   ]
  },
  {
   "cell_type": "code",
   "execution_count": null,
   "metadata": {},
   "outputs": [],
   "source": [
    "backends = iter([\"RAW\",\"HH\",\"BHH\"])\n",
    "\n",
    "\n",
    "from IPython.display import HTML, display\n",
    "\n",
    "for b in backends:\n",
    "    (dtc,DO) = permutations(test_frame['Neocortex pyramidal cell layer 5-6'],b)\n",
    "    display(dtc.SM)\n",
    "    display(dtc.obs_preds)\n",
    "\n"
   ]
  },
  {
   "cell_type": "code",
   "execution_count": null,
   "metadata": {},
   "outputs": [],
   "source": [
    "\n"
   ]
  },
  {
   "cell_type": "code",
   "execution_count": null,
   "metadata": {},
   "outputs": [],
   "source": [
    "#test_frame['Neocortex pyramidal cell layer 5-6']"
   ]
  },
  {
   "cell_type": "code",
   "execution_count": null,
   "metadata": {},
   "outputs": [],
   "source": []
  },
  {
   "cell_type": "code",
   "execution_count": null,
   "metadata": {},
   "outputs": [],
   "source": []
  }
 ],
 "metadata": {
  "kernelspec": {
   "display_name": "Python 3",
   "language": "python",
   "name": "python3"
  },
  "language_info": {
   "codemirror_mode": {
    "name": "ipython",
    "version": 3
   },
   "file_extension": ".py",
   "mimetype": "text/x-python",
   "name": "python",
   "nbconvert_exporter": "python",
   "pygments_lexer": "ipython3",
   "version": "3.6.5"
  }
 },
 "nbformat": 4,
 "nbformat_minor": 4
}
