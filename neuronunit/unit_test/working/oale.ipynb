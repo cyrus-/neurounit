{
 "cells": [
  {
   "cell_type": "code",
   "execution_count": 1,
   "metadata": {},
   "outputs": [
    {
     "data": {
      "image/png": "[encoded data removed]",
      "text/plain": [
       "<Figure size 432x288 with 1 Axes>"
      ]
     },
     "metadata": {
      "needs_background": "light"
     },
     "output_type": "display_data"
    }
   ],
   "source": [
    "%matplotlib inline\n",
    "import seaborn as sns\n",
    "sns.set_context('notebook')\n",
    "%config InlineBackend.figure_format = 'retina'\n",
    "#%inline\n",
    "#import matplotlib as mpl\n",
    "import matplotlib.pyplot as plt\n",

    "plt.plot([0,1],[1,0])\n",
    "plt.show()\n"
   ]
  },
  {
   "cell_type": "code",
   "execution_count": 2,
   "metadata": {},
   "outputs": [
    {
     "name": "stdout",
     "output_type": "stream",
     "text": [
      "consider installing pynn a heavier backend\n"
     ]
    },
    {
     "name": "stderr",
     "output_type": "stream",
     "text": [
      "INFO       Cache size for target \"cython\": 1031 MB.\n",
      "You can call \"clear_cache('cython')\" to delete all files from the cache or manually delete files in the \"/home/russell/.cython/brian_extensions\" directory. [brian2]\n",
      "INFO:root:test\n",
      "INFO:root:test\n"
     ]
    },
    {
     "name": "stdout",
     "output_type": "stream",
     "text": [
      "pynn python Error\n"
     ]
    }
   ],
   "source": [
    "import hide_imports"
   ]
  },
  {
   "cell_type": "code",
   "execution_count": 3,
   "metadata": {},
   "outputs": [
    {
     "data": {
      "text/plain": [
       "<Figure size 432x288 with 0 Axes>"
      ]
     },
     "metadata": {},
     "output_type": "display_data"
    }
   ],
   "source": [
    "\n",
    "plt.clf()\n",
    "import copy\n",
    "\n",
    "def permutations(use_test,backend):\n",
    "    use_test = hide_imports.TSD(use_test)\n",
    "    use_test.use_rheobase_score = True\n",
    "    edges = hide_imports.model_parameters.MODEL_PARAMS[backend]\n",
    "    ga_out0 = use_test.optimize(edges,backend=backend,\\\n",
    "        protocol={'allen': False, 'elephant': True}, MU=8,NGEN=1)\n",
    "    ga_out1 =  use_test.optimize(edges,backend=backend,\\\n",
    "        protocol={'allen': False, 'elephant': True},\\\n",
    "            MU=8,NGEN=8,seed_pop=ga_out0['pf'][0])\n",
    "\n",
    "    \n",
    "    dtc = ga_out1['pf'][0].dtc\n",
    "    vm,plt = hide_imports.inject_and_plot_model(dtc.attrs,dtc.backend)\n",
    "    plt.show()\n",
    "    return dtc, ga_out1['DO'], vm\n"
   ]
  },
  {
   "cell_type": "code",
   "execution_count": 4,
   "metadata": {},
   "outputs": [],
   "source": [
    "test_frame = hide_imports.get_neab.process_all_cells()\n",
    "test_frame.pop('Olfactory bulb (main) mitral cell',None)\n",
    "OMObjects = []\n",
    "backends = [\"RAW\",\"HH\"]#,\"ADEXP\",\"BHH\"]\n",
    "t = test_frame['Neocortex pyramidal cell layer 5-6']\n",
    "\n"
   ]
  },
  {
   "cell_type": "code",
   "execution_count": null,
   "metadata": {},
   "outputs": [],
   "source": []
  },
  {
   "cell_type": "code",
   "execution_count": null,
   "metadata": {},
   "outputs": [],
   "source": []
  },
  {
   "cell_type": "code",
   "execution_count": null,
   "metadata": {},
   "outputs": [],
   "source": []
  },
  {
   "cell_type": "code",
   "execution_count": null,
   "metadata": {},
   "outputs": [],
   "source": [
    "\n",
    "backends = [\"RAW\",\"HH\"]#,\"ADEXP\",\"BHH\"]\n",
    "plt.clf()\n",
    "\n",
    "\n",
    "for t in test_frame.values():\n",
    "    b = backends[0]\n",
    "    (dtc,DO,vm) = permutations(copy.copy(t),b)\n",
    "    print(b)\n",
    "    display(dtc.SM)\n",
    "    display(dtc.obs_preds)\n",
    "    plt.plot(vm.times,vm.magnitude)\n",
    "    plt.show()\n",
    "\n",
    "\n"
   ]
  },
  {
   "cell_type": "code",
   "execution_count": 6,
   "metadata": {},
   "outputs": [],
   "source": [
    "for t in test_frame.values():\n",
    "    #for b in backends:\n",
    "    b = backends[1]\n",
    "    (dtc,DO,vm) = permutations(copy.copy(t),b)\n",
    "    display(dtc.SM)\n",
    "    display(dtc.obs_preds)\n",
    "    plt.plot(vm.times,vm.magnitude)\n",
    "    plt.show()\n"
   ]
  },
  {
   "cell_type": "code",
   "execution_count": null,
   "metadata": {},
   "outputs": [
    {
     "name": "stdout",
     "output_type": "stream",
     "text": [
      "8\n",
      "3\n",
      "8\n"
     ]
    }
   ],
   "source": [
    "for t in test_frame.values():\n",
    "    #for b in backends:\n",
    "    b = backends[2]\n",
    "    (dtc,DO,vm) = permutations(copy.copy(t),b)\n",
    "    display(dtc.SM)\n",
    "    display(dtc.obs_preds)\n",
    "    plt.plot(vm.times,vm.magnitude)\n",
    "    plt.show()\n"
   ]
  },
  {
   "cell_type": "code",
   "execution_count": null,
   "metadata": {},
   "outputs": [],
   "source": [
    "for t in test_frame.values():\n",
    "    #for b in backends:\n",
    "    b = backends[3]\n",
    "    (dtc,DO,vm) = permutations(copy.copy(t),b)\n",
    "    display(dtc.SM)\n",
    "    display(dtc.obs_preds)\n",
    "    plt.plot(vm.times,vm.magnitude)\n",
    "    plt.show()\n"
   ]
  },
  {
   "cell_type": "code",
   "execution_count": null,
   "metadata": {},
   "outputs": [],
   "source": [
    "(dtc,DO) = permutations(test_frame['Neocortex pyramidal cell layer 5-6'],\"ADEXP\")\n",
    "display(dtc.SM)\n",
    "display(dtc.obs_preds)"
   ]
  },
  {
   "cell_type": "code",
   "execution_count": null,
   "metadata": {},
   "outputs": [],
   "source": [
    "\n",
    "backends = [\"RAW\",\"HH\",\"BHH\"]  \n",
    "\n",
    "\n",
    "\n",
    "#for b in backends:\n",
    "(dtc,DO) = permutations(test_frame['Neocortex pyramidal cell layer 5-6'],\"RAW\")\n"
   ]
  },
  {
   "cell_type": "code",
   "execution_count": null,
   "metadata": {},
   "outputs": [],
   "source": [
    "backends = iter([\"RAW\",\"HH\",\"BHH\"])\n",
    "\n",
    "\n",
    "from IPython.display import HTML, display\n",
    "\n",
    "for b in backends:\n",
    "    (dtc,DO) = permutations(test_frame['Neocortex pyramidal cell layer 5-6'],b)\n",
    "    display(dtc.SM)\n",
    "    display(dtc.obs_preds)\n",
    "\n"
   ]
  },
  {
   "cell_type": "code",
   "execution_count": null,
   "metadata": {},
   "outputs": [],
   "source": [
    "\n"
   ]
  },
  {
   "cell_type": "code",
   "execution_count": null,
   "metadata": {},
   "outputs": [],
   "source": [
    "#test_frame['Neocortex pyramidal cell layer 5-6']"
   ]
  },
  {
   "cell_type": "code",
   "execution_count": null,
   "metadata": {},
   "outputs": [],
   "source": []
  },
  {
   "cell_type": "code",
   "execution_count": null,
   "metadata": {},
   "outputs": [],
   "source": []
  }
 ],
 "metadata": {
  "kernelspec": {
   "display_name": "Python 3",
   "language": "python",
   "name": "python3"
  },
  "language_info": {
   "codemirror_mode": {
    "name": "ipython",
    "version": 3
   },
   "file_extension": ".py",
   "mimetype": "text/x-python",
   "name": "python",
   "nbconvert_exporter": "python",
   "pygments_lexer": "ipython3",
   "version": "3.6.9"
  }
 },
 "nbformat": 4,
 "nbformat_minor": 4
}
