{
 "cells": [
  {
   "cell_type": "code",
   "execution_count": 1,
   "metadata": {},
   "outputs": [
    {
     "data": {
      "image/png": "[encoded data removed]",
      "text/plain": [
       "<Figure size 432x288 with 1 Axes>"
      ]
     },
     "metadata": {
      "needs_background": "light"
     },
     "output_type": "display_data"
    },
    {
     "name": "stdout",
     "output_type": "stream",
     "text": [
      "(-75, -56)\n",
      "Import of general_pyNN.PYNNBackend failed due to:\n",
      "No module named 'pyNN'\n"
     ]
    }
   ],
   "source": [
    "import sys\n",
    "import traceback\n",
    "import matplotlib.pyplot as plt\n",
    "\n",
    "%matplotlib inline\n",
    "plt.plot([0,1],[1,0])\n",
    "plt.show()\n",
    "class TracePrints(object):\n",
    "    def __init__(self):\n",
    "        self.stdout = sys.stdout\n",
    "    def write(self,s):\n",
    "        self.stdout.write(\"Writing %r\\n\" % s)\n",
    "        traceback.print_stack(file=self.stdout)\n",
    "\n",
    "from neuronunit.optimisation import get_neab\n",
    "from neuronunit.optimisation.optimization_management import switch_logic, inject_and_plot_model\n"
   ]
  },
  {
   "cell_type": "code",
   "execution_count": 2,
   "metadata": {},
   "outputs": [
    {
     "name": "stderr",
     "output_type": "stream",
     "text": [
      "INFO:root:test\n",
      "INFO:root:test\n"
     ]
    },
    {
     "data": {
      "image/png": "[encoded data removed]",
      "text/plain": [
       "<Figure size 432x288 with 1 Axes>"
      ]
     },
     "metadata": {
      "needs_background": "light"
     },
     "output_type": "display_data"
    }
   ],
   "source": [
    "import hide_imports\n",
    "\n",
    "edges = hide_imports.model_parameters.MODEL_PARAMS['RAW']\n",
    "import numpy as np\n",
    "params = {k:np.mean(v) for k,v in edges.items()}\n",
    "vm,plt = inject_and_plot_model(params,'RAW')\n"
   ]
  },
  {
   "cell_type": "code",
   "execution_count": 3,
   "metadata": {},
   "outputs": [],
   "source": [
    "\n",
    "import collections\n",
    "from IPython.display import HTML, display\n",
    "\n",
    "# Fast spiking cannot be reproduced as it requires modifications to the standard Izhi equation,\n",
    "# which are expressed in this mod file.\n",
    "# https://github.com/OpenSourceBrain/IzhikevichModel/blob/master/NEURON/izhi2007b.mod\n",
    "\n",
    "from collections import OrderedDict\n",
    "type2007 = collections.OrderedDict([\n",
    "  #              C    k     vr  vt vpeak   a      b   c    d  celltype\n",
    "  ('RS',        (100, 0.7,  -60, -40, 35, 0.03,   -2, -50,  100,  1)),\n",
    "  ('IB',        (150, 1.2,  -75, -45, 50, 0.01,   5, -56,  130,   2)),\n",
    "  ('CH',        (50,  1.5,  -60, -40, 25, 0.03,   1, -40,  150,   3)),\n",
    "  ('LTS',       (100, 1.0,  -56, -42, 40, 0.03,   8, -53,   20,   4)),\n",
    "  ('FS',        (20,  1.0,  -55, -40, 25, 0.2,   -2, -45,  -55,   5)),\n",
    "  ('TC',        (200, 1.6,  -60, -50, 35, 0.01,  15, -60,   10,   6)),\n",
    "  ('TC_burst',  (200, 1.6,  -60, -50, 35, 0.01,  15, -60,   10,   6)),\n",
    "  ('RTN',       (40,  0.25, -65, -45,  0, 0.015, 10, -55,   50,   7)),\n",
    "  ('RTN_burst', (40,  0.25, -65, -45,  0, 0.015, 10, -55,   50,   7))])\n",
    "\n",
    "import numpy as np\n",
    "param_dict = OrderedDict([(k,[]) for k in ['C','k','vr','vt','vPeak','a','b','c','d']])\n",
    "#OrderedDict\n",
    "for i,k in enumerate(param_dict.keys()):\n",
    "    for v in type2007.values():\n",
    "        param_dict[k].append(v[i])\n",
    "\n",
    "explore_param = {k:(np.min(v),np.max(v)) for k,v in param_dict.items()}\n",
    "param_ranges = OrderedDict(explore_param)\n",
    "\n",
    "\n",
    "#IB = mparams[param_dict['IB']]\n",
    "RS = {}\n",
    "IB = {}\n",
    "TC = {}\n",
    "CH = {}\n",
    "RTN_burst = {}\n",
    "for k,v in param_dict.items():\n",
    "    RS[k] = v[0]\n",
    "    IB[k] = v[1]\n",
    "    CH[k] = v[2]\n",
    "    TC[k] = v[5]\n",
    "    RTN_burst[k] = v[-2]\n",
    "\n",
    "known_parameters = {}\n",
    "known_parameters['RS'] = RS\n",
    "known_parameters['IB'] = IB\n",
    "known_parameters['CH'] = CH\n",
    "known_parameters['TC'] = TC\n",
    "known_parameters['RTN_burst'] = RTN_burst\n"
   ]
  },
  {
   "cell_type": "code",
   "execution_count": 4,
   "metadata": {},
   "outputs": [
    {
     "name": "stderr",
     "output_type": "stream",
     "text": [
      "INFO:numba.transforms:finding looplift candidates\n"
     ]
    },
    {
     "name": "stdout",
     "output_type": "stream",
     "text": [
      "False\n",
      "True\n",
      "{'E_L': -54.387, 'E_K': -77.0, 'E_Na': 50.0, 'g_L': 0.3, 'g_K': 36.0, 'g_Na': 120.0, 'C_m': 1.0, 'vr': -65.0, 'Vr': -54.387}\n",
      "2.240341901779175 pA\n"
     ]
    },
    {
     "data": {
      "text/html": [
       "<div>\n",
       "<style scoped>\n",
       "    .dataframe tbody tr th:only-of-type {\n",
       "        vertical-align: middle;\n",
       "    }\n",
       "\n",
       "    .dataframe tbody tr th {\n",
       "        vertical-align: top;\n",
       "    }\n",
       "\n",
       "    .dataframe thead th {\n",
       "        text-align: right;\n",
       "    }\n",
       "</style>\n",
       "<table border=\"1\" class=\"dataframe\">\n",
       "  <thead>\n",
       "    <tr style=\"text-align: right;\">\n",
       "      <th></th>\n",
       "      <th>RheobaseTest</th>\n",
       "      <th>InputResistanceTest</th>\n",
       "      <th>TimeConstantTest</th>\n",
       "      <th>CapacitanceTest</th>\n",
       "      <th>RestingPotentialTest</th>\n",
       "      <th>InjectedCurrentAPWidthTest</th>\n",
       "      <th>InjectedCurrentAPAmplitudeTest</th>\n",
       "      <th>InjectedCurrentAPThresholdTest</th>\n",
       "      <th>total</th>\n",
       "    </tr>\n",
       "  </thead>\n",
       "  <tbody>\n",
       "    <tr>\n",
       "      <th>observations</th>\n",
       "      <td>213.849583333333 pA</td>\n",
       "      <td>120.672073643411 Mohm</td>\n",
       "      <td>15.7342424242424 ms</td>\n",
       "      <td>150.584166666667 pF</td>\n",
       "      <td>-68.2481434599156 mV</td>\n",
       "      <td>1.20769387755102 ms</td>\n",
       "      <td>80.4351020408164 mV</td>\n",
       "      <td>-42.7357232704403 mV</td>\n",
       "      <td>NaN</td>\n",
       "    </tr>\n",
       "    <tr>\n",
       "      <th>predictions</th>\n",
       "      <td>2.240341901779175 pA</td>\n",
       "      <td>2268.76388551764 Mohm</td>\n",
       "      <td>0.0015498821098735049 ms</td>\n",
       "      <td>0.0006831394486517421 pF</td>\n",
       "      <td>-64.99637933118947 mV</td>\n",
       "      <td>1.0810000000000002 ms</td>\n",
       "      <td>68.6624136324269 mV</td>\n",
       "      <td>-46.15895274233281 mV</td>\n",
       "      <td>NaN</td>\n",
       "    </tr>\n",
       "    <tr>\n",
       "      <th>scores</th>\n",
       "      <td>-1.24146</td>\n",
       "      <td>27.6698</td>\n",
       "      <td>-2.15174</td>\n",
       "      <td>-1.07803</td>\n",
       "      <td>0.497794</td>\n",
       "      <td>-0.237101</td>\n",
       "      <td>-0.923435</td>\n",
       "      <td>-0.425736</td>\n",
       "      <td>34.22506</td>\n",
       "    </tr>\n",
       "  </tbody>\n",
       "</table>\n",
       "</div>"
      ],
      "text/plain": [
       "                      RheobaseTest    InputResistanceTest  \\\n",
       "observations   213.849583333333 pA  120.672073643411 Mohm   \n",
       "predictions   2.240341901779175 pA  2268.76388551764 Mohm   \n",
       "scores                    -1.24146                27.6698   \n",
       "\n",
       "                      TimeConstantTest           CapacitanceTest  \\\n",
       "observations       15.7342424242424 ms       150.584166666667 pF   \n",
       "predictions   0.0015498821098735049 ms  0.0006831394486517421 pF   \n",
       "scores                        -2.15174                  -1.07803   \n",
       "\n",
       "               RestingPotentialTest InjectedCurrentAPWidthTest  \\\n",
       "observations   -68.2481434599156 mV        1.20769387755102 ms   \n",
       "predictions   -64.99637933118947 mV      1.0810000000000002 ms   \n",
       "scores                     0.497794                  -0.237101   \n",
       "\n",
       "             InjectedCurrentAPAmplitudeTest InjectedCurrentAPThresholdTest  \\\n",
       "observations            80.4351020408164 mV           -42.7357232704403 mV   \n",
       "predictions             68.6624136324269 mV          -46.15895274233281 mV   \n",
       "scores                            -0.923435                      -0.425736   \n",
       "\n",
       "                 total  \n",
       "observations       NaN  \n",
       "predictions        NaN  \n",
       "scores        34.22506  "
      ]
     },
     "metadata": {},
     "output_type": "display_data"
    },
    {
     "name": "stdout",
     "output_type": "stream",
     "text": [
      "{'C': 100, 'k': 0.7, 'vr': -60, 'vt': -40, 'vPeak': 35, 'a': 0.03, 'b': -2, 'c': -50, 'd': 100}\n",
      "51.7930805683136 pA\n"
     ]
    },
    {
     "data": {
      "text/html": [
       "<div>\n",
       "<style scoped>\n",
       "    .dataframe tbody tr th:only-of-type {\n",
       "        vertical-align: middle;\n",
       "    }\n",
       "\n",
       "    .dataframe tbody tr th {\n",
       "        vertical-align: top;\n",
       "    }\n",
       "\n",
       "    .dataframe thead th {\n",
       "        text-align: right;\n",
       "    }\n",
       "</style>\n",
       "<table border=\"1\" class=\"dataframe\">\n",
       "  <thead>\n",
       "    <tr style=\"text-align: right;\">\n",
       "      <th></th>\n",
       "      <th>RheobaseTest</th>\n",
       "      <th>InputResistanceTest</th>\n",
       "      <th>TimeConstantTest</th>\n",
       "      <th>CapacitanceTest</th>\n",
       "      <th>RestingPotentialTest</th>\n",
       "      <th>InjectedCurrentAPWidthTest</th>\n",
       "      <th>InjectedCurrentAPAmplitudeTest</th>\n",
       "      <th>InjectedCurrentAPThresholdTest</th>\n",
       "      <th>total</th>\n",
       "    </tr>\n",
       "  </thead>\n",
       "  <tbody>\n",
       "    <tr>\n",
       "      <th>observations</th>\n",
       "      <td>213.849583333333 pA</td>\n",
       "      <td>120.672073643411 Mohm</td>\n",
       "      <td>15.7342424242424 ms</td>\n",
       "      <td>150.584166666667 pF</td>\n",
       "      <td>-68.2481434599156 mV</td>\n",
       "      <td>1.20769387755102 ms</td>\n",
       "      <td>80.4351020408164 mV</td>\n",
       "      <td>-42.7357232704403 mV</td>\n",
       "      <td>NaN</td>\n",
       "    </tr>\n",
       "    <tr>\n",
       "      <th>predictions</th>\n",
       "      <td>51.7930805683136 pA</td>\n",
       "      <td>79.63401632571134 Mohm</td>\n",
       "      <td>9.822997253629314 ms</td>\n",
       "      <td>123.35177486781829 pF</td>\n",
       "      <td>-60.0 mV</td>\n",
       "      <td>0.68 ms</td>\n",
       "      <td>48.463136305306776 mV</td>\n",
       "      <td>-13.463136305306776 mV</td>\n",
       "      <td>NaN</td>\n",
       "    </tr>\n",
       "    <tr>\n",
       "      <th>scores</th>\n",
       "      <td>-0.950743</td>\n",
       "      <td>-0.528615</td>\n",
       "      <td>-0.808472</td>\n",
       "      <td>-0.194957</td>\n",
       "      <td>1.26266</td>\n",
       "      <td>-0.987551</td>\n",
       "      <td>-2.50784</td>\n",
       "      <td>3.64054</td>\n",
       "      <td>10.881378</td>\n",
       "    </tr>\n",
       "  </tbody>\n",
       "</table>\n",
       "</div>"
      ],
      "text/plain": [
       "                     RheobaseTest     InputResistanceTest  \\\n",
       "observations  213.849583333333 pA   120.672073643411 Mohm   \n",
       "predictions   51.7930805683136 pA  79.63401632571134 Mohm   \n",
       "scores                  -0.950743               -0.528615   \n",
       "\n",
       "                  TimeConstantTest        CapacitanceTest  \\\n",
       "observations   15.7342424242424 ms    150.584166666667 pF   \n",
       "predictions   9.822997253629314 ms  123.35177486781829 pF   \n",
       "scores                   -0.808472              -0.194957   \n",
       "\n",
       "              RestingPotentialTest InjectedCurrentAPWidthTest  \\\n",
       "observations  -68.2481434599156 mV        1.20769387755102 ms   \n",
       "predictions               -60.0 mV                    0.68 ms   \n",
       "scores                     1.26266                  -0.987551   \n",
       "\n",
       "             InjectedCurrentAPAmplitudeTest InjectedCurrentAPThresholdTest  \\\n",
       "observations            80.4351020408164 mV           -42.7357232704403 mV   \n",
       "predictions           48.463136305306776 mV         -13.463136305306776 mV   \n",
       "scores                             -2.50784                        3.64054   \n",
       "\n",
       "                  total  \n",
       "observations        NaN  \n",
       "predictions         NaN  \n",
       "scores        10.881378  "
      ]
     },
     "metadata": {},
     "output_type": "display_data"
    },
    {
     "name": "stdout",
     "output_type": "stream",
     "text": [
      "{'C': 150, 'k': 1.2, 'vr': -75, 'vt': -45, 'vPeak': 50, 'a': 0.01, 'b': 5, 'c': -56, 'd': 130}\n",
      "304.73833680152893 pA\n"
     ]
    },
    {
     "data": {
      "text/html": [
       "<div>\n",
       "<style scoped>\n",
       "    .dataframe tbody tr th:only-of-type {\n",
       "        vertical-align: middle;\n",
       "    }\n",
       "\n",
       "    .dataframe tbody tr th {\n",
       "        vertical-align: top;\n",
       "    }\n",
       "\n",
       "    .dataframe thead th {\n",
       "        text-align: right;\n",
       "    }\n",
       "</style>\n",
       "<table border=\"1\" class=\"dataframe\">\n",
       "  <thead>\n",
       "    <tr style=\"text-align: right;\">\n",
       "      <th></th>\n",
       "      <th>RheobaseTest</th>\n",
       "      <th>InputResistanceTest</th>\n",
       "      <th>TimeConstantTest</th>\n",
       "      <th>CapacitanceTest</th>\n",
       "      <th>RestingPotentialTest</th>\n",
       "      <th>InjectedCurrentAPWidthTest</th>\n",
       "      <th>InjectedCurrentAPAmplitudeTest</th>\n",
       "      <th>InjectedCurrentAPThresholdTest</th>\n",
       "      <th>total</th>\n",
       "    </tr>\n",
       "  </thead>\n",
       "  <tbody>\n",
       "    <tr>\n",
       "      <th>observations</th>\n",
       "      <td>213.849583333333 pA</td>\n",
       "      <td>120.672073643411 Mohm</td>\n",
       "      <td>15.7342424242424 ms</td>\n",
       "      <td>150.584166666667 pF</td>\n",
       "      <td>-68.2481434599156 mV</td>\n",
       "      <td>1.20769387755102 ms</td>\n",
       "      <td>80.4351020408164 mV</td>\n",
       "      <td>-42.7357232704403 mV</td>\n",
       "      <td>NaN</td>\n",
       "    </tr>\n",
       "    <tr>\n",
       "      <th>predictions</th>\n",
       "      <td>304.73833680152893 pA</td>\n",
       "      <td>24.231421892547186 Mohm</td>\n",
       "      <td>2.7843503429733136 ms</td>\n",
       "      <td>114.90660165632669 pF</td>\n",
       "      <td>-75.0 mV</td>\n",
       "      <td>0.51 ms</td>\n",
       "      <td>67.18604573756164 mV</td>\n",
       "      <td>-17.18604573756165 mV</td>\n",
       "      <td>NaN</td>\n",
       "    </tr>\n",
       "    <tr>\n",
       "      <th>scores</th>\n",
       "      <td>0.533221</td>\n",
       "      <td>-1.24226</td>\n",
       "      <td>-1.77114</td>\n",
       "      <td>-0.255416</td>\n",
       "      <td>-1.0336</td>\n",
       "      <td>-1.3057</td>\n",
       "      <td>-1.03924</td>\n",
       "      <td>3.17753</td>\n",
       "      <td>10.358106</td>\n",
       "    </tr>\n",
       "  </tbody>\n",
       "</table>\n",
       "</div>"
      ],
      "text/plain": [
       "                       RheobaseTest      InputResistanceTest  \\\n",
       "observations    213.849583333333 pA    120.672073643411 Mohm   \n",
       "predictions   304.73833680152893 pA  24.231421892547186 Mohm   \n",
       "scores                     0.533221                 -1.24226   \n",
       "\n",
       "                   TimeConstantTest        CapacitanceTest  \\\n",
       "observations    15.7342424242424 ms    150.584166666667 pF   \n",
       "predictions   2.7843503429733136 ms  114.90660165632669 pF   \n",
       "scores                     -1.77114              -0.255416   \n",
       "\n",
       "              RestingPotentialTest InjectedCurrentAPWidthTest  \\\n",
       "observations  -68.2481434599156 mV        1.20769387755102 ms   \n",
       "predictions               -75.0 mV                    0.51 ms   \n",
       "scores                     -1.0336                    -1.3057   \n",
       "\n",
       "             InjectedCurrentAPAmplitudeTest InjectedCurrentAPThresholdTest  \\\n",
       "observations            80.4351020408164 mV           -42.7357232704403 mV   \n",
       "predictions            67.18604573756164 mV          -17.18604573756165 mV   \n",
       "scores                             -1.03924                        3.17753   \n",
       "\n",
       "                  total  \n",
       "observations        NaN  \n",
       "predictions         NaN  \n",
       "scores        10.358106  "
      ]
     },
     "metadata": {},
     "output_type": "display_data"
    },
    {
     "name": "stdout",
     "output_type": "stream",
     "text": [
      "{'C': 50, 'k': 1.5, 'vr': -60, 'vt': -40, 'vPeak': 25, 'a': 0.03, 'b': 1, 'c': -40, 'd': 150}\n",
      "None\n",
      "{'C': 200, 'k': 1.6, 'vr': -60, 'vt': -50, 'vPeak': 35, 'a': 0.01, 'b': 15, 'c': -60, 'd': 10}\n",
      "74.86642599105835 pA\n"
     ]
    },
    {
     "data": {
      "text/html": [
       "<div>\n",
       "<style scoped>\n",
       "    .dataframe tbody tr th:only-of-type {\n",
       "        vertical-align: middle;\n",
       "    }\n",
       "\n",
       "    .dataframe tbody tr th {\n",
       "        vertical-align: top;\n",
       "    }\n",
       "\n",
       "    .dataframe thead th {\n",
       "        text-align: right;\n",
       "    }\n",
       "</style>\n",
       "<table border=\"1\" class=\"dataframe\">\n",
       "  <thead>\n",
       "    <tr style=\"text-align: right;\">\n",
       "      <th></th>\n",
       "      <th>RheobaseTest</th>\n",
       "      <th>InputResistanceTest</th>\n",
       "      <th>TimeConstantTest</th>\n",
       "      <th>CapacitanceTest</th>\n",
       "      <th>RestingPotentialTest</th>\n",
       "      <th>InjectedCurrentAPWidthTest</th>\n",
       "      <th>InjectedCurrentAPAmplitudeTest</th>\n",
       "      <th>InjectedCurrentAPThresholdTest</th>\n",
       "      <th>total</th>\n",
       "    </tr>\n",
       "  </thead>\n",
       "  <tbody>\n",
       "    <tr>\n",
       "      <th>observations</th>\n",
       "      <td>213.849583333333 pA</td>\n",
       "      <td>120.672073643411 Mohm</td>\n",
       "      <td>15.7342424242424 ms</td>\n",
       "      <td>150.584166666667 pF</td>\n",
       "      <td>-68.2481434599156 mV</td>\n",
       "      <td>1.20769387755102 ms</td>\n",
       "      <td>80.4351020408164 mV</td>\n",
       "      <td>-42.7357232704403 mV</td>\n",
       "      <td>NaN</td>\n",
       "    </tr>\n",
       "    <tr>\n",
       "      <th>predictions</th>\n",
       "      <td>74.86642599105835 pA</td>\n",
       "      <td>31.739282815024687 Mohm</td>\n",
       "      <td>1516.8643750355518 ms</td>\n",
       "      <td>47791.38784816841 pF</td>\n",
       "      <td>-60.0 mV</td>\n",
       "      <td>0.67 ms</td>\n",
       "      <td>57.366983205724566 mV</td>\n",
       "      <td>-22.366983205724562 mV</td>\n",
       "      <td>NaN</td>\n",
       "    </tr>\n",
       "    <tr>\n",
       "      <th>scores</th>\n",
       "      <td>-0.815378</td>\n",
       "      <td>-1.14555</td>\n",
       "      <td>205.307</td>\n",
       "      <td>341.062</td>\n",
       "      <td>1.26266</td>\n",
       "      <td>-1.00627</td>\n",
       "      <td>-1.80943</td>\n",
       "      <td>2.53319</td>\n",
       "      <td>554.941327</td>\n",
       "    </tr>\n",
       "  </tbody>\n",
       "</table>\n",
       "</div>"
      ],
      "text/plain": [
       "                      RheobaseTest      InputResistanceTest  \\\n",
       "observations   213.849583333333 pA    120.672073643411 Mohm   \n",
       "predictions   74.86642599105835 pA  31.739282815024687 Mohm   \n",
       "scores                   -0.815378                 -1.14555   \n",
       "\n",
       "                   TimeConstantTest       CapacitanceTest  \\\n",
       "observations    15.7342424242424 ms   150.584166666667 pF   \n",
       "predictions   1516.8643750355518 ms  47791.38784816841 pF   \n",
       "scores                      205.307               341.062   \n",
       "\n",
       "              RestingPotentialTest InjectedCurrentAPWidthTest  \\\n",
       "observations  -68.2481434599156 mV        1.20769387755102 ms   \n",
       "predictions               -60.0 mV                    0.67 ms   \n",
       "scores                     1.26266                   -1.00627   \n",
       "\n",
       "             InjectedCurrentAPAmplitudeTest InjectedCurrentAPThresholdTest  \\\n",
       "observations            80.4351020408164 mV           -42.7357232704403 mV   \n",
       "predictions           57.366983205724566 mV         -22.366983205724562 mV   \n",
       "scores                             -1.80943                        2.53319   \n",
       "\n",
       "                   total  \n",
       "observations         NaN  \n",
       "predictions          NaN  \n",
       "scores        554.941327  "
      ]
     },
     "metadata": {},
     "output_type": "display_data"
    },
    {
     "name": "stdout",
     "output_type": "stream",
     "text": [
      "{'C': 40, 'k': 0.25, 'vr': -65, 'vt': -45, 'vPeak': 0, 'a': 0.015, 'b': 10, 'c': -55, 'd': 50}\n",
      "None\n",
      "\n",
      "\n",
      "OrderedDict([('RheobaseTest', -0.9507431443882878), ('InputResistanceTest', -0.5286150515729994), ('TimeConstantTest', -0.8084719969036545), ('CapacitanceTest', -0.1949572913990462), ('RestingPotentialTest', 1.2626613905837791), ('InjectedCurrentAPWidthTest', -0.9875510589764733), ('InjectedCurrentAPAmplitudeTest', -2.507840590669025), ('InjectedCurrentAPThresholdTest', 3.640537422322158)])\n"
     ]
    },
    {
     "ename": "TypeError",
     "evalue": "inject_and_plot_model() missing 1 required positional argument: 'backend'",
     "output_type": "error",
     "traceback": [
      "\u001b[0;31m---------------------------------------------------------------------------\u001b[0m",
      "\u001b[0;31mTypeError\u001b[0m                                 Traceback (most recent call last)",
      "\u001b[0;32m<ipython-input-4-94350f5f5f40>\u001b[0m in \u001b[0;36m<module>\u001b[0;34m\u001b[0m\n\u001b[1;32m     55\u001b[0m     \u001b[0mprint\u001b[0m\u001b[0;34m(\u001b[0m\u001b[0;34m\"\\n\"\u001b[0m\u001b[0;34m)\u001b[0m\u001b[0;34m\u001b[0m\u001b[0;34m\u001b[0m\u001b[0m\n\u001b[1;32m     56\u001b[0m     \u001b[0mprint\u001b[0m\u001b[0;34m(\u001b[0m\u001b[0md\u001b[0m\u001b[0;34m.\u001b[0m\u001b[0mSA\u001b[0m\u001b[0;34m)\u001b[0m\u001b[0;34m\u001b[0m\u001b[0;34m\u001b[0m\u001b[0m\n\u001b[0;32m---> 57\u001b[0;31m     \u001b[0minject_and_plot_model\u001b[0m\u001b[0;34m(\u001b[0m\u001b[0md\u001b[0m\u001b[0;34m)\u001b[0m\u001b[0;34m\u001b[0m\u001b[0;34m\u001b[0m\u001b[0m\n\u001b[0m\u001b[1;32m     58\u001b[0m     \u001b[0mdisplay\u001b[0m\u001b[0;34m(\u001b[0m\u001b[0md\u001b[0m\u001b[0;34m.\u001b[0m\u001b[0mobs_preds\u001b[0m\u001b[0;34m)\u001b[0m\u001b[0;34m\u001b[0m\u001b[0;34m\u001b[0m\u001b[0m\n",
      "\u001b[0;31mTypeError\u001b[0m: inject_and_plot_model() missing 1 required positional argument: 'backend'"
     ]
    }
   ],
   "source": [
    "from neuronunit.optimisation.optimization_management import OptMan,TSD,dtc_to_rheo\n",
    "from neuronunit.optimisation.data_transport_container import DataTC\n",
    "import dask.bag as db\n",
    "\n",
    "test_frame = get_neab.process_all_cells()\n",
    "tt = test_frame['Neocortex pyramidal cell layer 5-6']#\n",
    "tt = switch_logic(tt)\n",
    "not_suite = TSD({t.name:t for t in tt.tests})\n",
    "\n",
    "#not_suite.optimize()\n",
    "print(tt[0].passive)\n",
    "print(tt[0].active)\n",
    "from neuronunit.models import StaticModel\n",
    "\n",
    "dtcpop = []\n",
    "import copy\n",
    "\n",
    "def model_test_eval(tests,backend,params):\n",
    "    from sciunit import TestSuite\n",
    "\n",
    "    if type(tests) is TestSuite:\n",
    "        not_suite = TSD({t.name:t for t in tests.tests})\n",
    "    \n",
    "    OM = OptMan(tests, backend = backend)\n",
    "    tests.use_rheobase_score = True\n",
    "\n",
    "    dtc = DataTC()\n",
    "    dtc.attrs = params\n",
    "    print(params)\n",
    "    dtc.backend = backend\n",
    "    #dtc.cell_name = 'vanilla'\n",
    "    dtc.tests = copy.copy(not_suite)\n",
    "    dtc = dtc_to_rheo(dtc)\n",
    "    print(dtc.rheobase)\n",
    "    if dtc.rheobase is not None:\n",
    "        dtc.tests = dtc.format_test()\n",
    "        dtc = list(map(OM.elephant_evaluation,[dtc]))[0]\n",
    "    return dtc\n",
    "\n",
    "edges = hide_imports.model_parameters.MODEL_PARAMS['HH']\n",
    "import numpy as np\n",
    "params = {k:np.mean(v) for k,v in edges.items()}\n",
    "dtc = model_test_eval(tt,\"HH\",params)\n",
    "\n",
    "display(dtc.obs_preds)\n",
    "for k,v in known_parameters.items():\n",
    "    dtc = model_test_eval(tt,\"RAW\",v)\n",
    "    if hasattr(dtc,'obs_preds'):\n",
    "        display(dtc.obs_preds)\n",
    "        dtcpop.append(dtc)\n",
    "from neuronunit.optimisation.optimization_management import inject_and_plot_model\n",
    "\n",
    "\n",
    "for d in dtcpop:\n",
    "    print(\"\\n\")\n",
    "    print(d.SA)\n",
    "    inject_and_plot_model(d)\n",
    "    display(d.obs_preds)"
   ]
  },
  {
   "cell_type": "code",
   "execution_count": null,
   "metadata": {},
   "outputs": [],
   "source": [
    "param_edges = hide_imports.model_parameters.MODEL_PARAMS['RAW']\n",
    "\n",
    "results = not_suite.optimize(param_edges,backend=\"RAW\",protocol={'allen': False, 'elephant': True},MU=8,NGEN=8)\n",
    "not_suite.display()\n",
    "#display(results['pf'][0].dtc.obs_preds)"
   ]
  },
  {
   "cell_type": "code",
   "execution_count": null,
   "metadata": {},
   "outputs": [],
   "source": []
  },
  {
   "cell_type": "code",
   "execution_count": null,
   "metadata": {},
   "outputs": [],
   "source": []
  },
  {
   "cell_type": "code",
   "execution_count": null,
   "metadata": {},
   "outputs": [],
   "source": []
  },
  {
   "cell_type": "code",
   "execution_count": null,
   "metadata": {},
   "outputs": [],
   "source": []
  },
  {
   "cell_type": "code",
   "execution_count": null,
   "metadata": {},
   "outputs": [],
   "source": [
    "    "
   ]
  },
  {
   "cell_type": "code",
   "execution_count": null,
   "metadata": {},
   "outputs": [],
   "source": [
    "dtc[0].obs_preds\n",
    "\n",
    "\n"
   ]
  },
  {
   "cell_type": "code",
   "execution_count": null,
   "metadata": {},
   "outputs": [],
   "source": []
  },
  {
   "cell_type": "code",
   "execution_count": null,
   "metadata": {},
   "outputs": [],
   "source": [
    "param_edges = hide_imports.model_parameters.MODEL_PARAMS['HH']\n",
    "\n",
    "results = not_suite.optimize(param_edges,backend=\"HH\",protocol={'allen': False, 'elephant': True},MU=8,NGEN=8)\n",
    "display(results['pf'][0].dtc.obs_preds)#not_suite.display()\n"
   ]
  },
  {
   "cell_type": "code",
   "execution_count": null,
   "metadata": {},
   "outputs": [],
   "source": [
    "#SA = \n",
    "\n",
    "sub_tests = [tt.tests[0],tt.tests[5],tt.tests[6],tt.tests[7]]\n",
    "#for x in tt.tests:\n",
    "\n",
    "for t in sub_tests:\n",
    "    print(t.params)    \n",
    "    #print(dir(t))\n",
    "    #t.setup_protocol(model)\n",
    "    #print(x.passive)"
   ]
  },
  {
   "cell_type": "code",
   "execution_count": null,
   "metadata": {},
   "outputs": [],
   "source": [
    "def get_table(tests,scores=None):\n",
    "    temp = {t.name:t for t in tests}\n",
    "    from neuronunit.optimisation.optimization_management import OptMan\n",
    "    import pandas as pd\n",
    "    obs = {}\n",
    "    pred = {}\n",
    "    scores_ = {}\n",
    "    similarity,lps,rps =  OptMan.closeness(OptMan,temp,temp)\n",
    "    for k,p,o in zip(list(similarity.keys()),lps,rps):\n",
    "        obs[k] = o\n",
    "        pred[k] = p\n",
    "        scores_[k] = float(scores[k].score)\n",
    "\n",
    "    obs_preds = pd.DataFrame([obs,pred,scores_],index=['observations','predictions','scores'])\n",
    "\n",
    "    return obs_preds\n"
   ]
  },
  {
   "cell_type": "code",
   "execution_count": null,
   "metadata": {},
   "outputs": [],
   "source": [
    "#from neuronunit.models.very_reduced_sans_lems import VeryReducedModel\n",
    "#from neuronunit.optimisation import get_neab\n",
    "model = None\n",
    "import copy\n",
    "from neuronunit.models.very_reduced_sans_lems import VeryReducedModel\n",
    "\n",
    "model = VeryReducedModel(backend = str('HH'))\n",
    "edges = hide_imports.model_parameters.MODEL_PARAMS['HH']\n",
    "import numpy as np\n",
    "params = {k:np.mean(v) for k,v in edges.items()}\n",
    "model.set_attrs(params)\n",
    "\n",
    "tests = get_neab.process_all_cells()\n",
    "\n",
    "#score = tests['Neocortex pyramidal cell layer 5-6'].tests[1].judge(model)\n",
    "#score = tests['Neocortex pyramidal cell layer 5-6'].tests[0].judge(model)\n",
    "HH_tables = []\n",
    "for t in tests.values():\n",
    "    SA = t.judge(model)\n",
    "    temp = copy.copy(t)\n",
    "    table = get_table(temp,scores=SA)\n",
    "    display(table)\n",
    "    HH_tables.append(table)\n",
    "    #break\n",
    "table\n",
    "print(SA)"
   ]
  },
  {
   "cell_type": "code",
   "execution_count": null,
   "metadata": {},
   "outputs": [],
   "source": [
    "HH_tables = []\n",
    "for t in tests.values():\n",
    "    for t_instance in t:\n",
    "        print(t_instance.params)\n",
    "    #SA = t.judge(model)\n",
    "    #temp = copy.copy(t)\n",
    "    #table = get_table(temp)\n",
    "    #display(table)\n",
    "    #HH_tables.append(table)\n",
    "    #break\n",
    "#table\n",
    "#print(SA)"
   ]
  },
  {
   "cell_type": "code",
   "execution_count": null,
   "metadata": {},
   "outputs": [],
   "source": [
    "for t in HH_tables:\n",
    "    try:\n",
    "        display(t)\n",
    "    except:\n",
    "        pass"
   ]
  },
  {
   "cell_type": "code",
   "execution_count": null,
   "metadata": {},
   "outputs": [],
   "source": []
  },
  {
   "cell_type": "code",
   "execution_count": null,
   "metadata": {},
   "outputs": [],
   "source": [
    "#for mparams in [RS,IB,CH,TC,RTN_burst]:\n",
    "model = None\n",
    "model = VeryReducedModel(backend = str('RAW'))\n",
    "model.set_attrs(RS)\n",
    "SA = tests['Neocortex pyramidal cell layer 5-6'].judge(model)\n",
    "temp = copy.copy(tests['Neocortex pyramidal cell layer 5-6'])\n",
    "table = get_table(temp)\n",
    "display(table)\n",
    "#HH_tables.append(table)\n",
    "#display(tables)"
   ]
  },
  {
   "cell_type": "code",
   "execution_count": null,
   "metadata": {},
   "outputs": [],
   "source": [
    "import copy\n",
    "tables = []\n",
    "for mparams in [RS,IB,CH,TC,RTN_burst]:\n",
    "    model = None\n",
    "    model = VeryReducedModel(backend = str('RAW'))\n",
    "    model.set_attrs(mparams)\n",
    "    SA = tests['Neocortex pyramidal cell layer 5-6'].judge(model)\n",
    "    temp = copy.copy(tests['Neocortex pyramidal cell layer 5-6'])\n",
    "    try:\n",
    "        table = get_table(temp)\n",
    "        tables.append(table)\n",
    "    except:\n",
    "        tables.append(SA)\n"
   ]
  },
  {
   "cell_type": "code",
   "execution_count": null,
   "metadata": {},
   "outputs": [],
   "source": [
    "#print(tables[0])\n",
    "\n",
    "for t in tables:\n",
    "    try:\n",
    "        display(t)\n",
    "    except:\n",
    "        print(t)\n",
    "    #print(t)"
   ]
  },
  {
   "cell_type": "code",
   "execution_count": null,
   "metadata": {},
   "outputs": [],
   "source": []
  },
  {
   "cell_type": "code",
   "execution_count": null,
   "metadata": {},
   "outputs": [],
   "source": [
    "for table in HH_tables:\n",
    "    display(table)"
   ]
  },
  {
   "cell_type": "code",
   "execution_count": null,
   "metadata": {},
   "outputs": [],
   "source": [
    "\n",
    "plt.clf()\n",
    "import copy\n",
    "%matplotlib inline\n",
    "\n",
    "def permutations(use_test,backend):\n",
    "    use_test = hide_imports.TSD(use_test)\n",
    "    use_test.use_rheobase_score = True\n",
    "    edges = hide_imports.model_parameters.MODEL_PARAMS[backend]\n",
    "    ga_out0 = use_test.optimize(edges,backend=backend,\\\n",
    "        protocol={'allen': False, 'elephant': True}, MU=8,NGEN=1)\n",
    "    ga_out1 =  use_test.optimize(edges,backend=backend,\\\n",
    "        protocol={'allen': False, 'elephant': True},\\\n",
    "            MU=8,NGEN=8,seed_pop=ga_out0['pf'][0])\n",
    "\n",
    "    \n",
    "    dtc = ga_out1['pf'][0].dtc\n",
    "    vm,plt = hide_imports.inject_and_plot_model(dtc.attrs,dtc.backend)\n",
    "    plt.show()\n",
    "    return dtc, ga_out1['DO'], vm\n"
   ]
  },
  {
   "cell_type": "code",
   "execution_count": null,
   "metadata": {},
   "outputs": [],
   "source": [
    "test_frame = hide_imports.get_neab.process_all_cells()\n",
    "test_frame.pop('Olfactory bulb (main) mitral cell',None)\n",
    "OMObjects = []\n",
    "backends = [\"RAW\",\"HH\",\"ADEXP\",\"BHH\"]\n",
    "t = test_frame['Neocortex pyramidal cell layer 5-6']\n",
    "\n"
   ]
  },
  {
   "cell_type": "code",
   "execution_count": null,
   "metadata": {},
   "outputs": [],
   "source": []
  },
  {
   "cell_type": "code",
   "execution_count": null,
   "metadata": {},
   "outputs": [],
   "source": []
  },
  {
   "cell_type": "code",
   "execution_count": null,
   "metadata": {},
   "outputs": [],
   "source": []
  },
  {
   "cell_type": "code",
   "execution_count": null,
   "metadata": {},
   "outputs": [],
   "source": [
    "\n",
    "backends = [\"RAW\",\"HH\"]#,\"ADEXP\",\"BHH\"]\n",
    "\n",
    "\n",
    "for t in test_frame.values():\n",
    "    b = backends[0]\n",
    "    (dtc,DO,vm) = permutations(copy.copy(t),b)\n",
    "    display(dtc.SM)\n",
    "    display(dtc.obs_preds)\n",
    "    plt.plot(vm.times,vm.magnitude)\n",
    "    plt.show()\n",
    "\n",
    "    break\n",
    "    \n",
    "\n",
    "\n"
   ]
  },
  {
   "cell_type": "code",
   "execution_count": null,
   "metadata": {},
   "outputs": [],
   "source": [
    "for t in test_frame.values():\n",
    "    b = backends[1]\n",
    "    (dtc,DO,vm) = permutations(copy.copy(t),b)\n",
    "    display(dtc.SM)\n",
    "    display(dtc.obs_preds)\n",
    "    plt.plot(vm.times,vm.magnitude)\n",
    "    plt.show()\n",
    "    break\n"
   ]
  },
  {
   "cell_type": "code",
   "execution_count": null,
   "metadata": {},
   "outputs": [],
   "source": [
    "for t in test_frame.values():\n",
    "    #for b in backends:\n",
    "    b = backends[2]\n",
    "    (dtc,DO,vm) = permutations(copy.copy(t),b)\n",
    "    display(dtc.SM)\n",
    "    display(dtc.obs_preds)\n",
    "    plt.plot(vm.times,vm.magnitude)\n",
    "    plt.show()\n"
   ]
  },
  {
   "cell_type": "code",
   "execution_count": null,
   "metadata": {},
   "outputs": [],
   "source": [
    "for t in test_frame.values():\n",
    "    #for b in backends:\n",
    "    b = backends[3]\n",
    "    (dtc,DO,vm) = permutations(copy.copy(t),b)\n",
    "    display(dtc.SM)\n",
    "    display(dtc.obs_preds)\n",
    "    plt.plot(vm.times,vm.magnitude)\n",
    "    plt.show()\n"
   ]
  },
  {
   "cell_type": "code",
   "execution_count": null,
   "metadata": {},
   "outputs": [],
   "source": [
    "(dtc,DO) = permutations(test_frame['Neocortex pyramidal cell layer 5-6'],\"ADEXP\")\n",
    "display(dtc.SM)\n",
    "display(dtc.obs_preds)"
   ]
  },
  {
   "cell_type": "code",
   "execution_count": null,
   "metadata": {},
   "outputs": [],
   "source": [
    "\n",
    "backends = [\"RAW\",\"HH\",\"BHH\"]  \n",
    "\n",
    "\n",
    "\n",
    "#for b in backends:\n",
    "(dtc,DO) = permutations(test_frame['Neocortex pyramidal cell layer 5-6'],\"RAW\")\n"
   ]
  },
  {
   "cell_type": "code",
   "execution_count": null,
   "metadata": {},
   "outputs": [],
   "source": [
    "backends = iter([\"RAW\",\"HH\",\"BHH\"])\n",
    "\n",
    "\n",
    "from IPython.display import HTML, display\n",
    "\n",
    "for b in backends:\n",
    "    (dtc,DO) = permutations(test_frame['Neocortex pyramidal cell layer 5-6'],b)\n",
    "    display(dtc.SM)\n",
    "    display(dtc.obs_preds)\n",
    "\n"
   ]
  },
  {
   "cell_type": "code",
   "execution_count": null,
   "metadata": {},
   "outputs": [],
   "source": [
    "\n"
   ]
  },
  {
   "cell_type": "code",
   "execution_count": null,
   "metadata": {},
   "outputs": [],
   "source": [
    "#test_frame['Neocortex pyramidal cell layer 5-6']"
   ]
  },
  {
   "cell_type": "code",
   "execution_count": null,
   "metadata": {},
   "outputs": [],
   "source": []
  },
  {
   "cell_type": "code",
   "execution_count": null,
   "metadata": {},
   "outputs": [],
   "source": []
  }
 ],
 "metadata": {
  "kernelspec": {
   "display_name": "Python 3",
   "language": "python",
   "name": "python3"
  },
  "language_info": {
   "codemirror_mode": {
    "name": "ipython",
    "version": 3
   },
   "file_extension": ".py",
   "mimetype": "text/x-python",
   "name": "python",
   "nbconvert_exporter": "python",
   "pygments_lexer": "ipython3",
   "version": "3.6.9"
  }
 },
 "nbformat": 4,
 "nbformat_minor": 4
}
