{
 "cells": [
  {
   "cell_type": "code",
   "execution_count": 3,
   "metadata": {},
   "outputs": [],
   "source": [
    "%%capture\n",
    "%matplotlib inline\n",
    "import seaborn as sns\n",
    "sns.set_context('notebook')\n",
    "%config InlineBackend.figure_format = 'retina'\n",
    "#import matplotlib.pyplot as plt\n",
    "#plt.plot([0,1],[1,0])\n",
    "from neuronunit.optimisation.optimization_management import test_all_objective_test\n",
    "import numpy as np\n",
    "from IPython.display import display, HTML\n",
    "from neuronunit.plottools import plot_score_history1\n",
    "from neuronunit.optimisation.optimization_management import check_binary_match, TSD\n",
    "import pandas as pd\n",
    "from collections import OrderedDict\n",
    "import pickle\n",
    "\n",
    "\n",
    "from deap import creator\n",
    "#creator.create(\"FitnessMin\", base.Fitness, weights=(-1.0, -1.0))\n",
    "from deap import base\n",
    "import array\n",
    "#creator.create(\"FitnessMin\", base.Fitness, weights=tuple(-1.0 for i in range(0,10)))\n",
    "#creator.create(\"Individual\", array.array, typecode='d', fitness=creator.FitnessMin)"
   ]
  },
  {
   "cell_type": "code",
   "execution_count": null,
   "metadata": {},
   "outputs": [],
   "source": []
  },
  {
   "cell_type": "code",
   "execution_count": 4,
   "metadata": {},
   "outputs": [
    {
     "data": {
      "text/plain": [
       "dict_keys(['RheobaseTest', 'InputResistanceTest', 'TimeConstantTest', 'CapacitanceTest', 'RestingPotentialTest', 'InjectedCurrentAPWidthTest', 'InjectedCurrentAPAmplitudeTest', 'InjectedCurrentAPThresholdTest'])"
      ]
     },
     "execution_count": 4,
     "metadata": {},
     "output_type": "execute_result"
    }
   ],
   "source": [
    "cells = pickle.load(open(\"processed_multicellular_constraints.p\",\"rb\"))\n",
    "\n",
    "ncl5 = TSD(cells[\"Neocortex pyramidal cell layer 5-6\"])\n",
    "vr = ncl5[\"RestingPotentialTest\"].observation['mean']\n",
    "#vt = ncl5[\"InjectedCurrentAPThresholdTest\"].observation['mean']\n",
    "#C = ncl5[\"CapacitanceTest\"].observation['mean']\n",
    "\n",
    "ncl5.keys()"
   ]
  },
  {
   "cell_type": "markdown",
   "metadata": {},
   "source": [
    "# Simulated Data \n",
    "and select model parameters that are free to vary"
   ]
  },
  {
   "cell_type": "code",
   "execution_count": 5,
   "metadata": {},
   "outputs": [],
   "source": [
    "%%capture\n",
    "#fps = ['c','a','b','d','vPeak','k','C','vt']\n",
    "model_type=\"NEURONHH\"\n",
    "#sim_tests, OM, target = test_all_objective_test(fps,model_type=model_type)"
   ]
  },
  {
   "cell_type": "markdown",
   "metadata": {},
   "source": [
    "# Meta Parameters"
   ]
  },
  {
   "cell_type": "code",
   "execution_count": 6,
   "metadata": {},
   "outputs": [
    {
     "data": {
      "text/plain": [
       "<sciunit.suites.TestSuite at 0x7ff769d7b9d0>"
      ]
     },
     "execution_count": 6,
     "metadata": {},
     "output_type": "execute_result"
    }
   ],
   "source": [
    "MU = 4 \n",
    "NGEN = 150\n",
    "results = {}\n",
    "for t in cells['Olfactory bulb (main) mitral cell']:\n",
    "    print(t.observation)\n",
    "    \n",
    "cells.pop('Olfactory bulb (main) mitral cell',None)"
   ]
  },
  {
   "cell_type": "markdown",
   "metadata": {},
   "source": []
  },
  {
   "cell_type": "code",
   "execution_count": 7,
   "metadata": {},
   "outputs": [
    {
     "ename": "KeyError",
     "evalue": "'HH'",
     "output_type": "error",
     "traceback": [
      "\u001b[0;31m---------------------------------------------------------------------------\u001b[0m",
      "\u001b[0;31mKeyError\u001b[0m                                  Traceback (most recent call last)",
      "\u001b[0;32m<ipython-input-7-ba86ee048464>\u001b[0m in \u001b[0;36m<module>\u001b[0;34m\u001b[0m\n\u001b[1;32m      6\u001b[0m     results[k] = TSD(v).optimize(backend=model_type,\\\n\u001b[1;32m      7\u001b[0m             \u001b[0mprotocol\u001b[0m\u001b[0;34m=\u001b[0m\u001b[0;34m{\u001b[0m\u001b[0;34m'allen'\u001b[0m\u001b[0;34m:\u001b[0m \u001b[0;32mFalse\u001b[0m\u001b[0;34m,\u001b[0m \u001b[0;34m'elephant'\u001b[0m\u001b[0;34m:\u001b[0m \u001b[0;32mTrue\u001b[0m\u001b[0;34m}\u001b[0m\u001b[0;34m,\u001b[0m\u001b[0;31m\\\u001b[0m\u001b[0;34m\u001b[0m\u001b[0;34m\u001b[0m\u001b[0m\n\u001b[0;32m----> 8\u001b[0;31m                 MU=MU,NGEN=NGEN,plot=True,free_parameters=fps,hold_constant={'vr':vr})\n\u001b[0m\u001b[1;32m      9\u001b[0m \u001b[0;34m\u001b[0m\u001b[0m\n\u001b[1;32m     10\u001b[0m     \u001b[0;32mbreak\u001b[0m\u001b[0;34m\u001b[0m\u001b[0;34m\u001b[0m\u001b[0m\n",
      "\u001b[0;32m~/safe2/neuronunit/neuronunit/optimisation/optimization_management.py\u001b[0m in \u001b[0;36moptimize\u001b[0;34m(self, **kwargs)\u001b[0m\n\u001b[1;32m    384\u001b[0m             \u001b[0;32mif\u001b[0m \u001b[0mtype\u001b[0m\u001b[0;34m(\u001b[0m\u001b[0mkwargs\u001b[0m\u001b[0;34m[\u001b[0m\u001b[0;34m'param_edges'\u001b[0m\u001b[0;34m]\u001b[0m\u001b[0;34m)\u001b[0m \u001b[0;32mis\u001b[0m \u001b[0mtype\u001b[0m\u001b[0;34m(\u001b[0m\u001b[0;32mNone\u001b[0m\u001b[0;34m)\u001b[0m\u001b[0;34m:\u001b[0m\u001b[0;34m\u001b[0m\u001b[0;34m\u001b[0m\u001b[0m\n\u001b[1;32m    385\u001b[0m                 \u001b[0;32mfrom\u001b[0m \u001b[0mneuronunit\u001b[0m\u001b[0;34m.\u001b[0m\u001b[0moptimisation\u001b[0m \u001b[0;32mimport\u001b[0m \u001b[0mmodel_parameters\u001b[0m\u001b[0;34m\u001b[0m\u001b[0;34m\u001b[0m\u001b[0m\n\u001b[0;32m--> 386\u001b[0;31m                 \u001b[0mparam_edges\u001b[0m \u001b[0;34m=\u001b[0m \u001b[0mmodel_parameters\u001b[0m\u001b[0;34m.\u001b[0m\u001b[0mMODEL_PARAMS\u001b[0m\u001b[0;34m[\u001b[0m\u001b[0mkwargs\u001b[0m\u001b[0;34m[\u001b[0m\u001b[0;34m'backend'\u001b[0m\u001b[0;34m]\u001b[0m\u001b[0;34m]\u001b[0m\u001b[0;34m\u001b[0m\u001b[0;34m\u001b[0m\u001b[0m\n\u001b[0m\u001b[1;32m    387\u001b[0m             \u001b[0;32mif\u001b[0m \u001b[0mtype\u001b[0m\u001b[0;34m(\u001b[0m\u001b[0mkwargs\u001b[0m\u001b[0;34m[\u001b[0m\u001b[0;34m'free_parameters'\u001b[0m\u001b[0;34m]\u001b[0m\u001b[0;34m)\u001b[0m \u001b[0;32mis\u001b[0m \u001b[0mtype\u001b[0m\u001b[0;34m(\u001b[0m\u001b[0;32mNone\u001b[0m\u001b[0;34m)\u001b[0m\u001b[0;34m:\u001b[0m\u001b[0;34m\u001b[0m\u001b[0;34m\u001b[0m\u001b[0m\n\u001b[1;32m    388\u001b[0m                 \u001b[0;32mif\u001b[0m \u001b[0mtype\u001b[0m\u001b[0;34m(\u001b[0m\u001b[0mkwargs\u001b[0m\u001b[0;34m[\u001b[0m\u001b[0;34m'param_edges'\u001b[0m\u001b[0;34m]\u001b[0m\u001b[0;34m)\u001b[0m \u001b[0;32mis\u001b[0m \u001b[0;32mnot\u001b[0m \u001b[0mtype\u001b[0m\u001b[0;34m(\u001b[0m\u001b[0;32mNone\u001b[0m\u001b[0;34m)\u001b[0m\u001b[0;34m:\u001b[0m\u001b[0;34m\u001b[0m\u001b[0;34m\u001b[0m\u001b[0m\n",
      "\u001b[0;31mKeyError\u001b[0m: 'HH'"
     ]
    }
   ],
   "source": [
    "import joblib\n",
    "\n",
    "model_type=\"HH\"\n",
    "fps = ['g_L','g_Na','g_K']   \n",
    "for k,v in cells.items():\n",
    "    results[k] = TSD(v).optimize(backend=model_type,\\\n",
    "            protocol={'allen': False, 'elephant': True},\\\n",
    "                MU=MU,NGEN=NGEN,plot=True,free_parameters=fps,hold_constant={'vr':vr})\n",
    "\n",
    "    break\n",
    "    #with open('neo.p','wb') as f:\n",
    "    #    joblib.dump(results, f)    \n",
    "\n",
    "        #pickle.dump(results,f)\n"
   ]
  },
  {
   "cell_type": "code",
   "execution_count": 11,
   "metadata": {},
   "outputs": [
    {
     "data": {
      "text/html": [
       "<div>\n",
       "<style scoped>\n",
       "    .dataframe tbody tr th:only-of-type {\n",
       "        vertical-align: middle;\n",
       "    }\n",
       "\n",
       "    .dataframe tbody tr th {\n",
       "        vertical-align: top;\n",
       "    }\n",
       "\n",
       "    .dataframe thead th {\n",
       "        text-align: right;\n",
       "    }\n",
       "</style>\n",
       "<table border=\"1\" class=\"dataframe\">\n",
       "  <thead>\n",
       "    <tr style=\"text-align: right;\">\n",
       "      <th></th>\n",
       "      <th>RheobaseTest</th>\n",
       "      <th>InputResistanceTest</th>\n",
       "      <th>TimeConstantTest</th>\n",
       "      <th>CapacitanceTest</th>\n",
       "      <th>RestingPotentialTest</th>\n",
       "      <th>InjectedCurrentAPWidthTest</th>\n",
       "      <th>InjectedCurrentAPAmplitudeTest</th>\n",
       "      <th>InjectedCurrentAPThresholdTest</th>\n",
       "      <th>total</th>\n",
       "    </tr>\n",
       "  </thead>\n",
       "  <tbody>\n",
       "    <tr>\n",
       "      <td>observations</td>\n",
       "      <td>189.24 pA</td>\n",
       "      <td>107.080327644332 Mohm</td>\n",
       "      <td>24.5021946169772 ms</td>\n",
       "      <td>89.7960714285714 pF</td>\n",
       "      <td>-65.2261863636364 mV</td>\n",
       "      <td>1.31895278450363 ms</td>\n",
       "      <td>86.364525297619 mV</td>\n",
       "      <td>-47.5985714285714 mV</td>\n",
       "      <td>NaN</td>\n",
       "    </tr>\n",
       "    <tr>\n",
       "      <td>predictions</td>\n",
       "      <td>98.052978515625 pA</td>\n",
       "      <td>46.324486119296175 Mohm</td>\n",
       "      <td>7.292033335434033 ms</td>\n",
       "      <td>157.4120718070218 pF</td>\n",
       "      <td>-68.2481434599156 mV</td>\n",
       "      <td>0.8400000000000001 ms</td>\n",
       "      <td>62.79851764232387 mV</td>\n",
       "      <td>-29.103581197808637 mV</td>\n",
       "      <td>NaN</td>\n",
       "    </tr>\n",
       "    <tr>\n",
       "      <td>scores</td>\n",
       "      <td>0.286575</td>\n",
       "      <td>0.835792</td>\n",
       "      <td>0.859973</td>\n",
       "      <td>1.57237</td>\n",
       "      <td>0.622743</td>\n",
       "      <td>0.841473</td>\n",
       "      <td>2.9071</td>\n",
       "      <td>4.09343</td>\n",
       "      <td>36.087851</td>\n",
       "    </tr>\n",
       "  </tbody>\n",
       "</table>\n",
       "</div>"
      ],
      "text/plain": [
       "                    RheobaseTest      InputResistanceTest  \\\n",
       "observations           189.24 pA    107.080327644332 Mohm   \n",
       "predictions   98.052978515625 pA  46.324486119296175 Mohm   \n",
       "scores                  0.286575                 0.835792   \n",
       "\n",
       "                  TimeConstantTest       CapacitanceTest  \\\n",
       "observations   24.5021946169772 ms   89.7960714285714 pF   \n",
       "predictions   7.292033335434033 ms  157.4120718070218 pF   \n",
       "scores                    0.859973               1.57237   \n",
       "\n",
       "              RestingPotentialTest InjectedCurrentAPWidthTest  \\\n",
       "observations  -65.2261863636364 mV        1.31895278450363 ms   \n",
       "predictions   -68.2481434599156 mV      0.8400000000000001 ms   \n",
       "scores                    0.622743                   0.841473   \n",
       "\n",
       "             InjectedCurrentAPAmplitudeTest InjectedCurrentAPThresholdTest  \\\n",
       "observations             86.364525297619 mV           -47.5985714285714 mV   \n",
       "predictions            62.79851764232387 mV         -29.103581197808637 mV   \n",
       "scores                               2.9071                        4.09343   \n",
       "\n",
       "                  total  \n",
       "observations        NaN  \n",
       "predictions         NaN  \n",
       "scores        36.087851  "
      ]
     },
     "metadata": {},
     "output_type": "display_data"
    }
   ],
   "source": [
    "opts = []\n",
    "for v in results.values():\n",
    "    if v is not None:\n",
    "        opt = v['hof'][0].dtc\n",
    "        opts.append(opt)\n",
    "        agreement = opt.get_agreement().agreement\n",
    "        display(agreement)\n"
   ]
  },
  {
   "cell_type": "code",
   "execution_count": 7,
   "metadata": {},
   "outputs": [],
   "source": [
    "#opt.attrs['vt'] =\n",
    "#opt.attrs['C'] =\n",
    "\n",
    "#from neuronunit.optimisation.optimization_management import feature_mine\n"
   ]
  },
  {
   "cell_type": "code",
   "execution_count": 8,
   "metadata": {},
   "outputs": [
    {
     "ename": "KeyError",
     "evalue": "'pf'",
     "output_type": "error",
     "traceback": [
      "\u001b[0;31m---------------------------------------------------------------------------\u001b[0m",
      "\u001b[0;31mKeyError\u001b[0m                                  Traceback (most recent call last)",
      "\u001b[0;32m<ipython-input-8-f961365ff50a>\u001b[0m in \u001b[0;36m<module>\u001b[0;34m\u001b[0m\n\u001b[1;32m      2\u001b[0m \u001b[0;31m#out = OM.random_search(opt,100)\u001b[0m\u001b[0;34m\u001b[0m\u001b[0;34m\u001b[0m\u001b[0;34m\u001b[0m\u001b[0m\n\u001b[1;32m      3\u001b[0m \u001b[0;31m#display(out['frame'])\u001b[0m\u001b[0;34m\u001b[0m\u001b[0;34m\u001b[0m\u001b[0;34m\u001b[0m\u001b[0m\n\u001b[0;32m----> 4\u001b[0;31m \u001b[0mopt\u001b[0m \u001b[0;34m=\u001b[0m \u001b[0mresults\u001b[0m\u001b[0;34m[\u001b[0m\u001b[0;34m'pf'\u001b[0m\u001b[0;34m]\u001b[0m\u001b[0;34m[\u001b[0m\u001b[0;36m0\u001b[0m\u001b[0;34m]\u001b[0m\u001b[0;34m.\u001b[0m\u001b[0mdtc\u001b[0m\u001b[0;34m\u001b[0m\u001b[0;34m\u001b[0m\u001b[0m\n\u001b[0m\u001b[1;32m      5\u001b[0m \u001b[0;34m\u001b[0m\u001b[0m\n\u001b[1;32m      6\u001b[0m \u001b[0mopt\u001b[0m \u001b[0;34m=\u001b[0m \u001b[0mfeature_mine\u001b[0m\u001b[0;34m(\u001b[0m\u001b[0mopt\u001b[0m\u001b[0;34m)\u001b[0m\u001b[0;34m\u001b[0m\u001b[0;34m\u001b[0m\u001b[0m\n",
      "\u001b[0;31mKeyError\u001b[0m: 'pf'"
     ]
    }
   ],
   "source": [
    "#OM = opt.dtc_to_opt_man()\n",
    "#out = OM.random_search(opt,100)\n",
    "#display(out['frame'])\n",
    "opt = results['pf'][0].dtc\n",
    "\n",
    "opt = feature_mine(opt)"
   ]
  },
  {
   "cell_type": "markdown",
   "metadata": {},
   "source": [
    "# Analyse Results"
   ]
  },
  {
   "cell_type": "code",
   "execution_count": null,
   "metadata": {},
   "outputs": [],
   "source": [
    "with open('neo.p','wb') as f:\n",
    "    pickle.dump(opt,f)\n",
    "hof = results['hof'][0].dtc\n",
    "agreement = opt.get_agreement().agreement\n",
    "\n",
    "display(agreement)"
   ]
  },
  {
   "cell_type": "markdown",
   "metadata": {},
   "source": [
    "# Compare scores above to random scores below"
   ]
  },
  {
   "cell_type": "code",
   "execution_count": null,
   "metadata": {},
   "outputs": [],
   "source": [
    "# This should be more succint than above.\n",
    "#display(out['frame'])\n",
    "MU = 10 \n",
    "NGEN = 50\n",
    "model_type = \"HH\"\n",
    "from neuronunit.optimisation import model_parameters\n",
    "fps = model_parameters.MODEL_PARAMS[\"HH\"].keys()\n",
    "\n",
    "print(fps)\n",
    "results = ncl5.optimize(backend=model_type,\\\n",
    "        protocol={'allen': False, 'elephant': True},\\\n",
    "            MU=MU,NGEN=NGEN,plot=True,free_parameters=fps,hold_constant={'Vr':vr})"
   ]
  },
  {
   "cell_type": "code",
   "execution_count": null,
   "metadata": {},
   "outputs": [],
   "source": [
    "out['best_random_sum_total']"
   ]
  },
  {
   "cell_type": "markdown",
   "metadata": {},
   "source": [
    "# Look at evolution History"
   ]
  },
  {
   "cell_type": "code",
   "execution_count": null,
   "metadata": {},
   "outputs": [],
   "source": [
    "plt = plot_score_history1(results)\n",
    "from neuronunit.optimisation.optimization_management import check_binary_match"
   ]
  },
  {
   "cell_type": "code",
   "execution_count": null,
   "metadata": {},
   "outputs": [],
   "source": [
    "model = opt.dtc_to_model()\n",
    "#check_binary_match(opt,target,snippets=True)\n",
    "#target = OM.format_test(target)\n",
    "#simulated_data_tests = target.tests"
   ]
  },
  {
   "cell_type": "code",
   "execution_count": null,
   "metadata": {},
   "outputs": [],
   "source": [
    "#check_binary_match(opt,target,snippets=False)"
   ]
  },
  {
   "cell_type": "code",
   "execution_count": null,
   "metadata": {},
   "outputs": [],
   "source": [
    "try:\n",
    "    opt.attrs.pop('dt',None)\n",
    "    opt.attrs.pop('Iext',None)\n",
    "except:\n",
    "    pass\n"
   ]
  },
  {
   "cell_type": "code",
   "execution_count": null,
   "metadata": {},
   "outputs": [],
   "source": [
    "display(pd.DataFrame([opt.attrs]))\n",
    "import copy\n",
    "temp = {}\n",
    "for k in opt.attrs.keys():\n",
    "    temp[k] = target.attrs[k]\n",
    "display(pd.DataFrame([temp]))"
   ]
  },
  {
   "cell_type": "code",
   "execution_count": null,
   "metadata": {},
   "outputs": [],
   "source": [
    "display(pd.DataFrame([{k.name:v for k,v in opt.SA.items()}]))"
   ]
  },
  {
   "cell_type": "markdown",
   "metadata": {},
   "source": [
    "What where the values of model parameters that where held constant?\n"
   ]
  },
  {
   "cell_type": "code",
   "execution_count": null,
   "metadata": {},
   "outputs": [],
   "source": [
    "df0 = opt.dtc_to_model().default_attrs\n",
    "df1 = target.dtc_to_model().default_attrs\n",
    "hc = {}\n",
    "\n",
    "try:\n",
    "    df0.attrs.pop('dt',None)\n",
    "    df0.attrs.pop('Iext',None)\n",
    "    opt.attrs.pop('dt',None)\n",
    "    opt.attrs.pop('Iext',None)\n",
    "\n",
    "except:\n",
    "    pass\n",
    "\n",
    "for k,v in df0.items():\n",
    "    if k not in opt.attrs.keys():\n",
    "        assert df0[k] == df1[k]\n",
    "        hc[k] = v        \n",
    "display(\"Held constant:\")\n",
    "display(pd.DataFrame([hc]))        "
   ]
  },
  {
   "cell_type": "markdown",
   "metadata": {},
   "source": [
    "If the Pareto Front encircles the best solution without sampling directly on top of it.\n",
    "Does piercing the center get us closer to the hall of fame?\n",
    "Below, plot HOF[0]/PF[0] are they the same model? "
   ]
  },
  {
   "cell_type": "code",
   "execution_count": null,
   "metadata": {},
   "outputs": [],
   "source": [
    "# check_binary_match(opt,hof,snippets=True)\n"
   ]
  },
  {
   "cell_type": "markdown",
   "metadata": {},
   "source": [
    "# Exploring the neighbourhood of \n",
    "the Optimal solution is now syntatically easy\n",
    "\n",
    "## Make ranges to explore:"
   ]
  },
  {
   "cell_type": "code",
   "execution_count": null,
   "metadata": {},
   "outputs": [],
   "source": [
    "from neuronunit.optimisation.model_parameters import MODEL_PARAMS\n",
    "a_range = MODEL_PARAMS[\"IZHI\"]['a']\n",
    "grid_a = np.linspace(a_range[0],a_range[1],25)\n",
    "\n",
    "import copy\n"
   ]
  },
  {
   "cell_type": "markdown",
   "metadata": {},
   "source": [
    "## Mutate a parameter in a dimension of interest."
   ]
  },
  {
   "cell_type": "code",
   "execution_count": null,
   "metadata": {},
   "outputs": [],
   "source": [
    "opt_sum0 = np.sum(opt.SA.values)\n",
    "for_scatter0 = (opt.attrs['a'],opt_sum0)\n",
    "from tqdm import tqdm\n",
    "collect = []\n",
    "mutant = copy.copy(opt)\n",
    "for a in tqdm(grid_a):\n",
    "    # non random mutation\n",
    "    mutant.attrs['a'] = a\n",
    "    # Evaluate NU test suite\n",
    "    mutant.self_evaluate()\n",
    "    # sum components (optional)\n",
    "    fit = np.sum(mutant.SA.values)\n",
    "    collect.append(fit)\n",
    "plt.plot(grid_a,collect)\n",
    "plt.scatter(for_scatter0[0],for_scatter0[1],label='optima')\n",
    "    "
   ]
  },
  {
   "cell_type": "code",
   "execution_count": null,
   "metadata": {},
   "outputs": [],
   "source": []
  },
  {
   "cell_type": "markdown",
   "metadata": {},
   "source": [
    "The above plot seemed to have multiple steep wells of low error about the optima.\n",
    "\n",
    "It might not be reasonable to expect to sample every such well, as the stochastic and non exhuastive sampling in the GA means it is not garunteed to sample small and and focused pockets of error change."
   ]
  },
  {
   "cell_type": "code",
   "execution_count": null,
   "metadata": {},
   "outputs": [],
   "source": []
  },
  {
   "cell_type": "code",
   "execution_count": null,
   "metadata": {},
   "outputs": [],
   "source": [
    "b_range = MODEL_PARAMS[\"IZHI\"]['b']\n",
    "grid_b = np.linspace(b_range[0],b_range[1],30);"
   ]
  },
  {
   "cell_type": "code",
   "execution_count": null,
   "metadata": {},
   "outputs": [],
   "source": []
  },
  {
   "cell_type": "code",
   "execution_count": null,
   "metadata": {},
   "outputs": [],
   "source": [
    "opt_sum = np.sum(opt.SA.values)\n",
    "for_scatter1 = (opt.attrs['b'],opt_sum)\n",
    "from tqdm import tqdm\n",
    "collect = []\n",
    "mutant = copy.copy(opt)\n",
    "for b in tqdm(grid_b):\n",
    "    # non random mutation\n",
    "    mutant.attrs['b'] = b\n",
    "    # Evaluate NU test suite\n",
    "    mutant.self_evaluate()\n",
    "    # sum components (optional)\n",
    "    fit = np.sum(mutant.SA.values)\n",
    "    collect.append(fit)\n",
    "plt.plot(grid_b,collect)\n",
    "plt.scatter(for_scatter1[0],for_scatter1[1],label='optima')\n"
   ]
  },
  {
   "cell_type": "markdown",
   "metadata": {},
   "source": [
    "# Compare the match of passive waveforms"
   ]
  },
  {
   "cell_type": "code",
   "execution_count": null,
   "metadata": {},
   "outputs": [],
   "source": [
    "\n",
    "#from neuronunit.optimisation.optimization_management import inject_and_plot_passive_model\n",
    "#inject_and_plot_passive_model(opt)\n",
    "import quantities as pq\n",
    "tm = target.dtc_to_model()\n",
    "\n",
    "model = opt.dtc_to_model()\n",
    "uc = {'amplitude':-10*pq.pA,'duration':500*pq.ms,'delay':100*pq.ms}\n",
    "model.inject_square_current(uc)\n",
    "vm1 = model.get_membrane_potential()\n",
    "tm.inject_square_current(uc)\n",
    "vm0 = tm.get_membrane_potential()\n",
    "plt.plot(vm1.times, vm1.magnitude, c='b',label=str('opt ADEXP'))#+str(model.attrs['a']))\n",
    "plt.plot(vm0.times, vm0.magnitude, c='r',label=str('target HH'))#+str(model.attrs['a']))\n",
    "\n",
    "plt.show()"
   ]
  },
  {
   "cell_type": "code",
   "execution_count": null,
   "metadata": {},
   "outputs": [],
   "source": [
    "\n"
   ]
  }
 ],
 "metadata": {
  "kernelspec": {
   "display_name": "Python 3",
   "language": "python",
   "name": "python3"
  },
  "language_info": {
   "codemirror_mode": {
    "name": "ipython",
    "version": 3
   },
   "file_extension": ".py",
   "mimetype": "text/x-python",
   "name": "python",
   "nbconvert_exporter": "python",
   "pygments_lexer": "ipython3",
   "version": "3.7.4"
  }
 },
 "nbformat": 4,
 "nbformat_minor": 4
}
