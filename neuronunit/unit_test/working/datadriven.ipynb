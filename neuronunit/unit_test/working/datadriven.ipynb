{
 "cells": [
  {
   "cell_type": "code",
   "execution_count": 1,
   "metadata": {},
   "outputs": [],
   "source": [
    "%%capture\n",
    "%matplotlib inline\n",
    "import seaborn as sns\n",
    "sns.set_context('notebook')\n",
    "%config InlineBackend.figure_format = 'retina'\n",
    "#import matplotlib.pyplot as plt\n",
    "#plt.plot([0,1],[1,0])\n",
    "from neuronunit.optimisation.optimization_management import test_all_objective_test\n",
    "import numpy as np\n",
    "from IPython.display import display, HTML\n",
    "from neuronunit.plottools import plot_score_history1\n",
    "from neuronunit.optimisation.optimization_management import check_binary_match, TSD\n",
    "import pandas as pd\n",
    "from collections import OrderedDict\n",
    "import pickle\n",
    "\n",
    "\n",
    "from deap import creator\n",
    "#creator.create(\"FitnessMin\", base.Fitness, weights=(-1.0, -1.0))\n",
    "from deap import base\n",
    "import array\n",
    "creator.create(\"FitnessMin\", base.Fitness, weights=tuple(-1.0 for i in range(0,10)))\n",
    "creator.create(\"Individual\", array.array, typecode='d', fitness=creator.FitnessMin)"
   ]
  },
  {
   "cell_type": "code",
   "execution_count": 2,
   "metadata": {},
   "outputs": [
    {
     "data": {
      "text/plain": [
       "\"\\nimport joblib\\n\\nwith open('neo.p','rb') as f:\\n    results = joblib.load(f)#, compress=5, protocol=None)    \\n\""
      ]
     },
     "execution_count": 2,
     "metadata": {},
     "output_type": "execute_result"
    }
   ],
   "source": [
    "#with open('neo.p','rb') as f:\n",
    "#    opt = pickle.load(f)\n",
    "    \n",
    "#from neuronunit.optimisation.optimization_management import feature_mine\n",
    "#opt.self_evaluate()\n",
    "#agreement = opt.get_agreement().agreement\n",
    "#display(agreement)\n",
    "#opt.attrs['vt']\n",
    "#opt = feature_mine(opt)    \n",
    "\"\"\"\n",
    "import joblib\n",
    "\n",
    "with open('neo.p','rb') as f:\n",
    "    results = joblib.load(f)#, compress=5, protocol=None)    \n",
    "\"\"\""
   ]
  },
  {
   "cell_type": "code",
   "execution_count": 3,
   "metadata": {},
   "outputs": [
    {
     "data": {
      "text/plain": [
       "dict_keys(['RheobaseTest', 'InputResistanceTest', 'TimeConstantTest', 'CapacitanceTest', 'RestingPotentialTest', 'InjectedCurrentAPWidthTest', 'InjectedCurrentAPAmplitudeTest', 'InjectedCurrentAPThresholdTest'])"
      ]
     },
     "execution_count": 3,
     "metadata": {},
     "output_type": "execute_result"
    }
   ],
   "source": [
    "cells = pickle.load(open(\"processed_multicellular_constraints.p\",\"rb\"))\n",
    "\n",
    "ncl5 = TSD(cells[\"Neocortex pyramidal cell layer 5-6\"])\n",
    "vr = ncl5[\"RestingPotentialTest\"].observation['mean']\n",
    "#vt = ncl5[\"InjectedCurrentAPThresholdTest\"].observation['mean']\n",
    "#C = ncl5[\"CapacitanceTest\"].observation['mean']\n",
    "\n",
    "ncl5.keys()"
   ]
  },
  {
   "cell_type": "markdown",
   "metadata": {},
   "source": [
    "# Simulated Data \n",
    "and select model parameters that are free to vary"
   ]
  },
  {
   "cell_type": "code",
   "execution_count": 4,
   "metadata": {},
   "outputs": [],
   "source": [
    "%%capture\n",
    "fps = ['c','a','b','d','vPeak','k','C','vt']\n",
    "model_type=\"RAW\"\n",
    "#sim_tests, OM, target = test_all_objective_test(fps,model_type=model_type)"
   ]
  },
  {
   "cell_type": "markdown",
   "metadata": {},
   "source": [
    "# Meta Parameters"
   ]
  },
  {
   "cell_type": "code",
   "execution_count": 5,
   "metadata": {},
   "outputs": [],
   "source": [
    "MU = 10 \n",
    "NGEN = 150\n",
    "results = {}\n"
   ]
  },
  {
   "cell_type": "markdown",
   "metadata": {},
   "source": []
  },
  {
   "cell_type": "code",
   "execution_count": null,
   "metadata": {},
   "outputs": [
    {
     "name": "stderr",
     "output_type": "stream",
     "text": [
      "GA Generation Progress: 100%|██████████| 149/149 [35:28<00:00, 14.29s/it]\n",
      "GA Generation Progress:  91%|█████████▏| 136/149 [31:56<03:18, 15.26s/it]"
     ]
    }
   ],
   "source": [
    "import joblib\n",
    "\"\"\"\n",
    "with open('neo.p','rb') as f:\n",
    "    results = joblib.load(f)#, compress=5, protocol=None)    \n",
    "\n",
    "try:\n",
    "    with open('neo.p','rb') as f:\n",
    "        results = joblib.load(f)#, compress=5, protocol=None)    \n",
    "except:\n",
    "    pass\n",
    "\"\"\"\n",
    "for k,v in cells.items():\n",
    "    try:\n",
    "        results[k] = TSD(v).optimize(backend=model_type,\\\n",
    "                protocol={'allen': False, 'elephant': True},\\\n",
    "                    MU=MU,NGEN=NGEN,plot=True,free_parameters=fps,hold_constant={'vr':vr})\n",
    "    except:\n",
    "        results[k] = None\n",
    "\n",
    "    with open('neo.p','wb') as f:\n",
    "        joblib.dump(results, f)    \n",
    "\n",
    "        #pickle.dump(results,f)\n"
   ]
  },
  {
   "cell_type": "code",
   "execution_count": null,
   "metadata": {},
   "outputs": [],
   "source": [
    "opts = []\n",
    "for v in results.values():\n",
    "    if v is not None:\n",
    "        opt = v['pf'][0].dtc\n",
    "        opts.append(opt)\n",
    "        agreement = opt.get_agreement().agreement\n",
    "        display(agreement)\n"
   ]
  },
  {
   "cell_type": "code",
   "execution_count": null,
   "metadata": {},
   "outputs": [],
   "source": [
    "#opt.attrs['vt'] =\n",
    "#opt.attrs['C'] =\n",
    "\n",
    "#from neuronunit.optimisation.optimization_management import feature_mine\n"
   ]
  },
  {
   "cell_type": "code",
   "execution_count": null,
   "metadata": {},
   "outputs": [],
   "source": [
    "#OM = opt.dtc_to_opt_man()\n",
    "#out = OM.random_search(opt,100)\n",
    "#display(out['frame'])\n",
    "opt = results['pf'][0].dtc\n",
    "\n",
    "opt = feature_mine(opt)"
   ]
  },
  {
   "cell_type": "markdown",
   "metadata": {},
   "source": [
    "# Analyse Results"
   ]
  },
  {
   "cell_type": "code",
   "execution_count": null,
   "metadata": {},
   "outputs": [],
   "source": [
    "with open('neo.p','wb') as f:\n",
    "    pickle.dump(opt,f)\n",
    "hof = results['hof'][0].dtc\n",
    "agreement = opt.get_agreement().agreement\n",
    "\n",
    "display(agreement)"
   ]
  },
  {
   "cell_type": "markdown",
   "metadata": {},
   "source": [
    "# Compare scores above to random scores below"
   ]
  },
  {
   "cell_type": "code",
   "execution_count": null,
   "metadata": {},
   "outputs": [],
   "source": [
    "# This should be more succint than above.\n",
    "#display(out['frame'])\n",
    "MU = 10 \n",
    "NGEN = 50\n",
    "model_type = \"HH\"\n",
    "from neuronunit.optimisation import model_parameters\n",
    "fps = model_parameters.MODEL_PARAMS[\"HH\"].keys()\n",
    "\n",
    "print(fps)\n",
    "results = ncl5.optimize(backend=model_type,\\\n",
    "        protocol={'allen': False, 'elephant': True},\\\n",
    "            MU=MU,NGEN=NGEN,plot=True,free_parameters=fps,hold_constant={'Vr':vr})"
   ]
  },
  {
   "cell_type": "code",
   "execution_count": null,
   "metadata": {},
   "outputs": [],
   "source": [
    "out['best_random_sum_total']"
   ]
  },
  {
   "cell_type": "markdown",
   "metadata": {},
   "source": [
    "# Look at evolution History"
   ]
  },
  {
   "cell_type": "code",
   "execution_count": null,
   "metadata": {},
   "outputs": [],
   "source": [
    "plt = plot_score_history1(results)\n",
    "from neuronunit.optimisation.optimization_management import check_binary_match"
   ]
  },
  {
   "cell_type": "code",
   "execution_count": null,
   "metadata": {},
   "outputs": [],
   "source": [
    "model = opt.dtc_to_model()\n",
    "#check_binary_match(opt,target,snippets=True)\n",
    "#target = OM.format_test(target)\n",
    "#simulated_data_tests = target.tests"
   ]
  },
  {
   "cell_type": "code",
   "execution_count": null,
   "metadata": {},
   "outputs": [],
   "source": [
    "#check_binary_match(opt,target,snippets=False)"
   ]
  },
  {
   "cell_type": "code",
   "execution_count": null,
   "metadata": {},
   "outputs": [],
   "source": [
    "try:\n",
    "    opt.attrs.pop('dt',None)\n",
    "    opt.attrs.pop('Iext',None)\n",
    "except:\n",
    "    pass\n"
   ]
  },
  {
   "cell_type": "code",
   "execution_count": null,
   "metadata": {},
   "outputs": [],
   "source": [
    "display(pd.DataFrame([opt.attrs]))\n",
    "import copy\n",
    "temp = {}\n",
    "for k in opt.attrs.keys():\n",
    "    temp[k] = target.attrs[k]\n",
    "display(pd.DataFrame([temp]))"
   ]
  },
  {
   "cell_type": "code",
   "execution_count": null,
   "metadata": {},
   "outputs": [],
   "source": [
    "display(pd.DataFrame([{k.name:v for k,v in opt.SA.items()}]))"
   ]
  },
  {
   "cell_type": "markdown",
   "metadata": {},
   "source": [
    "What where the values of model parameters that where held constant?\n"
   ]
  },
  {
   "cell_type": "code",
   "execution_count": null,
   "metadata": {},
   "outputs": [],
   "source": [
    "df0 = opt.dtc_to_model().default_attrs\n",
    "df1 = target.dtc_to_model().default_attrs\n",
    "hc = {}\n",
    "\n",
    "try:\n",
    "    df0.attrs.pop('dt',None)\n",
    "    df0.attrs.pop('Iext',None)\n",
    "    opt.attrs.pop('dt',None)\n",
    "    opt.attrs.pop('Iext',None)\n",
    "\n",
    "except:\n",
    "    pass\n",
    "\n",
    "for k,v in df0.items():\n",
    "    if k not in opt.attrs.keys():\n",
    "        assert df0[k] == df1[k]\n",
    "        hc[k] = v        \n",
    "display(\"Held constant:\")\n",
    "display(pd.DataFrame([hc]))        "
   ]
  },
  {
   "cell_type": "markdown",
   "metadata": {},
   "source": [
    "If the Pareto Front encircles the best solution without sampling directly on top of it.\n",
    "Does piercing the center get us closer to the hall of fame?\n",
    "Below, plot HOF[0]/PF[0] are they the same model? "
   ]
  },
  {
   "cell_type": "code",
   "execution_count": null,
   "metadata": {},
   "outputs": [],
   "source": [
    "# check_binary_match(opt,hof,snippets=True)\n"
   ]
  },
  {
   "cell_type": "markdown",
   "metadata": {},
   "source": [
    "# Exploring the neighbourhood of \n",
    "the Optimal solution is now syntatically easy\n",
    "\n",
    "## Make ranges to explore:"
   ]
  },
  {
   "cell_type": "code",
   "execution_count": null,
   "metadata": {},
   "outputs": [],
   "source": [
    "from neuronunit.optimisation.model_parameters import MODEL_PARAMS\n",
    "a_range = MODEL_PARAMS[\"RAW\"]['a']\n",
    "grid_a = np.linspace(a_range[0],a_range[1],25)\n",
    "\n",
    "import copy\n"
   ]
  },
  {
   "cell_type": "markdown",
   "metadata": {},
   "source": [
    "## Mutate a parameter in a dimension of interest."
   ]
  },
  {
   "cell_type": "code",
   "execution_count": null,
   "metadata": {},
   "outputs": [],
   "source": [
    "opt_sum0 = np.sum(opt.SA.values)\n",
    "for_scatter0 = (opt.attrs['a'],opt_sum0)\n",
    "from tqdm import tqdm\n",
    "collect = []\n",
    "mutant = copy.copy(opt)\n",
    "for a in tqdm(grid_a):\n",
    "    # non random mutation\n",
    "    mutant.attrs['a'] = a\n",
    "    # Evaluate NU test suite\n",
    "    mutant.self_evaluate()\n",
    "    # sum components (optional)\n",
    "    fit = np.sum(mutant.SA.values)\n",
    "    collect.append(fit)\n",
    "plt.plot(grid_a,collect)\n",
    "plt.scatter(for_scatter0[0],for_scatter0[1],label='optima')\n",
    "    "
   ]
  },
  {
   "cell_type": "code",
   "execution_count": null,
   "metadata": {},
   "outputs": [],
   "source": []
  },
  {
   "cell_type": "markdown",
   "metadata": {},
   "source": [
    "The above plot seemed to have multiple steep wells of low error about the optima.\n",
    "\n",
    "It might not be reasonable to expect to sample every such well, as the stochastic and non exhuastive sampling in the GA means it is not garunteed to sample small and and focused pockets of error change."
   ]
  },
  {
   "cell_type": "code",
   "execution_count": null,
   "metadata": {},
   "outputs": [],
   "source": []
  },
  {
   "cell_type": "code",
   "execution_count": null,
   "metadata": {},
   "outputs": [],
   "source": [
    "b_range = MODEL_PARAMS[\"RAW\"]['b']\n",
    "grid_b = np.linspace(b_range[0],b_range[1],30);"
   ]
  },
  {
   "cell_type": "code",
   "execution_count": null,
   "metadata": {},
   "outputs": [],
   "source": []
  },
  {
   "cell_type": "code",
   "execution_count": null,
   "metadata": {},
   "outputs": [],
   "source": [
    "opt_sum = np.sum(opt.SA.values)\n",
    "for_scatter1 = (opt.attrs['b'],opt_sum)\n",
    "from tqdm import tqdm\n",
    "collect = []\n",
    "mutant = copy.copy(opt)\n",
    "for b in tqdm(grid_b):\n",
    "    # non random mutation\n",
    "    mutant.attrs['b'] = b\n",
    "    # Evaluate NU test suite\n",
    "    mutant.self_evaluate()\n",
    "    # sum components (optional)\n",
    "    fit = np.sum(mutant.SA.values)\n",
    "    collect.append(fit)\n",
    "plt.plot(grid_b,collect)\n",
    "plt.scatter(for_scatter1[0],for_scatter1[1],label='optima')\n"
   ]
  },
  {
   "cell_type": "markdown",
   "metadata": {},
   "source": [
    "# Compare the match of passive waveforms"
   ]
  },
  {
   "cell_type": "code",
   "execution_count": null,
   "metadata": {},
   "outputs": [],
   "source": [
    "\n",
    "#from neuronunit.optimisation.optimization_management import inject_and_plot_passive_model\n",
    "#inject_and_plot_passive_model(opt)\n",
    "import quantities as pq\n",
    "tm = target.dtc_to_model()\n",
    "\n",
    "model = opt.dtc_to_model()\n",
    "uc = {'amplitude':-10*pq.pA,'duration':500*pq.ms,'delay':100*pq.ms}\n",
    "model.inject_square_current(uc)\n",
    "vm1 = model.get_membrane_potential()\n",
    "tm.inject_square_current(uc)\n",
    "vm0 = tm.get_membrane_potential()\n",
    "plt.plot(vm1.times, vm1.magnitude, c='b',label=str('opt ADEXP'))#+str(model.attrs['a']))\n",
    "plt.plot(vm0.times, vm0.magnitude, c='r',label=str('target HH'))#+str(model.attrs['a']))\n",
    "\n",
    "plt.show()"
   ]
  },
  {
   "cell_type": "code",
   "execution_count": null,
   "metadata": {},
   "outputs": [],
   "source": [
    "\n"
   ]
  }
 ],
 "metadata": {
  "kernelspec": {
   "display_name": "Python 3",
   "language": "python",
   "name": "python3"
  },
  "language_info": {
   "codemirror_mode": {
    "name": "ipython",
    "version": 3
   },
   "file_extension": ".py",
   "mimetype": "text/x-python",
   "name": "python",
   "nbconvert_exporter": "python",
   "pygments_lexer": "ipython3",
   "version": "3.6.9"
  }
 },
 "nbformat": 4,
 "nbformat_minor": 4
}
