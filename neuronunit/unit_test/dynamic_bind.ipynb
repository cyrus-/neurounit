{
 "cells": [
  {
   "cell_type": "code",
   "execution_count": 1,
   "metadata": {
    "collapsed": false
   },
   "outputs": [
    {
     "name": "stderr",
     "output_type": "stream",
     "text": [
      "/opt/conda/lib/python3.5/site-packages/pyNN/neuron/__init__.py:14: UserWarning: mpi4py not available\n",
      "  warnings.warn(\"mpi4py not available\")\n"
     ]
    }
   ],
   "source": [
    "from pyNN.neuron import *\n",
    "from pyNN.neuron import HH_cond_exp\n",
    "from pyNN.neuron import EIF_cond_exp_isfa_ista\n",
    "from pyNN.neuron import Izhikevich\n",
    "\n",
    "from pyNN import neuron\n",
    "#\n",
    "from pyNN.neuron import simulator as sim\n",
    "from pyNN.neuron import setup as setup\n",
    "\n",
    "from pyNN.neuron import DCSource\n",
    "from types import MethodType\n"
   ]
  },
  {
   "cell_type": "code",
   "execution_count": 2,
   "metadata": {
    "collapsed": false
   },
   "outputs": [],
   "source": [
    "import io\n",
    "import math\n",
    "import pdb\n",
    "#from numba import jit\n",
    "from contextlib import redirect_stdout\n",
    "import numpy as np\n",
    "#from .base import *\n",
    "import quantities as qt\n",
    "from quantities import mV, ms, s\n",
    "import matplotlib.pyplot as plt\n",
    "from pyNN.neuron import *\n",
    "from pyNN.neuron import HH_cond_exp\n",
    "from pyNN.neuron import EIF_cond_exp_isfa_ista\n",
    "from pyNN.neuron import Izhikevich\n",
    "\n",
    "from pyNN import neuron\n",
    "#\n",
    "from pyNN.neuron import simulator as sim\n",
    "from pyNN.neuron import setup as setup\n",
    "#from pyNN.neuron import Izhikevich\n",
    "#from pyNN.neuron import Population\n",
    "from pyNN.neuron import DCSource\n",
    "import numpy as np\n",
    "import copy\n",
    "from neo import AnalogSignal\n",
    "import neuronunit.capabilities.spike_functions as sf\n",
    "\n",
    "import neuronunit.capabilities as cap\n",
    "cap.ReceivesCurrent\n",
    "cap.ProducesActionPotentials\n",
    "def bind_NU_interface(model):\n",
    "\n",
    "    def init_backend(self, attrs = None, cell_name = 'alice', current_src_name = 'hannah', DTC = None):\n",
    "        backend = 'HHpyNN'\n",
    "        self.current_src_name = current_src_name\n",
    "        self.cell_name = cell_name\n",
    "        self.adexp = True\n",
    "\n",
    "        self.DCSource = DCSource\n",
    "        self.setup = setup\n",
    "        self.model_path = None\n",
    "        self.related_data = {}\n",
    "        self.lookup = {}\n",
    "        self.attrs = {}\n",
    "        self.neuron = neuron\n",
    "        self.model._backend = self\n",
    "        self.backend = self\n",
    "        self.model.attrs = {}\n",
    "\n",
    "        self.orig_lems_file_path = 'satisfying'\n",
    "        self.model._backend.use_memory_cache = False\n",
    "        #self.model.unpicklable += ['h','ns','_backend']\n",
    "\n",
    "        if type(DTC) is not type(None):\n",
    "            if type(DTC.attrs) is not type(None):\n",
    "\n",
    "                self.set_attrs(**DTC.attrs)\n",
    "                assert len(self.model.attrs.keys()) > 0\n",
    "\n",
    "            if hasattr(DTC,'current_src_name'):\n",
    "                self._current_src_name = DTC.current_src_name\n",
    "\n",
    "            if hasattr(DTC,'cell_name'):\n",
    "                self.cell_name = DTC.cell_name\n",
    "\n",
    "    def get_membrane_potential(self):\n",
    "        \"\"\"Must return a neo.core.AnalogSignal.\n",
    "        And must destroy the hoc vectors that comprise it.\n",
    "        \"\"\"\n",
    "        #dt = float(copy.copy(self.neuron.dt))\n",
    "        data = self.hhcell.get_data().segments[0]\n",
    "        return data.filter(name=\"v\")[0]\n",
    "\n",
    "    def _local_run(self):\n",
    "        '''\n",
    "        pyNN lazy array demands a minimum population size of 3. Why is that.\n",
    "        '''\n",
    "        results = {}\n",
    "        DURATION = 1000.0\n",
    "        self.neuron.record_v(self.hhcell, \"Results/HH_cond_exp_%s.v\" % str(neuron))\n",
    "        #self.neuron.record_gsyn(self.hhcell, \"Results/HH_cond_exp_%s.gsyn\" % str(neuron))\n",
    "        self.neuron.run(DURATION)\n",
    "        data = self.hhcell.get_data().segments[0]\n",
    "        volts = data.filter(name=\"v\")[0]#/10.0\n",
    "\n",
    "        vm = AnalogSignal(volts,\n",
    "                     units = mV,\n",
    "                     sampling_period = self.dt *ms)\n",
    "        results['vm'] = vm\n",
    "        results['t'] = vm.times # self.times\n",
    "        results['run_number'] = results.get('run_number',0) + 1\n",
    "        return results\n",
    "\n",
    "\n",
    "    def load_model(self):\n",
    "        self.hhcell = neuron.create(EIF_cond_exp_isfa_ista())\n",
    "        neuron.setup(timestep=0.01, min_delay=1.0)\n",
    "\n",
    "\n",
    "\n",
    "    def set_attrs(self,**attrs):\n",
    "        self.init_backend()\n",
    "        self.model.attrs.update(attrs)\n",
    "        assert type(self.model.attrs) is not type(None)\n",
    "        self.hhcell[0].set_parameters(**attrs)\n",
    "        return self\n",
    "\n",
    "\n",
    "    def inject_square_current(self,current):\n",
    "        attrs = copy.copy(self.model.attrs)\n",
    "        self.init_backend()\n",
    "        self.set_attrs(**attrs)\n",
    "        c = copy.copy(current)\n",
    "        if 'injected_square_current' in c.keys():\n",
    "            c = current['injected_square_current']\n",
    "\n",
    "        stop = float(c['delay'])+float(c['duration'])\n",
    "        duration = float(c['duration'])\n",
    "        start = float(c['delay'])\n",
    "        amplitude = float(c['amplitude'])\n",
    "        electrode = self.neuron.DCSource(start=start, stop=stop, amplitude=amplitude)\n",
    "        delay = float(c['delay'])#/dt#.rescale('ms')\n",
    "        tmax = delay + duration + 200.0#/dt#*pq.ms\n",
    "        tmin = 0.0\n",
    "        self.times = np.linspace(tmin, tmax, 10000)\n",
    "        self.dt = self.times[1]-self.times[0]\n",
    "\n",
    "\n",
    "        electrode.inject_into(self.hhcell)\n",
    "        self.results = self._local_run()\n",
    "        self.vm = self.results['vm']\n",
    "\n",
    "    def get_APs(self, **run_params):\n",
    "        vm = self.get_membrane_potential()\n",
    "        print(vm)\n",
    "        waveforms = sf.get_spike_waveforms(vm)\n",
    "        return waveforms\n",
    "\n",
    "    def get_spike_train(self, **run_params):\n",
    "        vm = self.get_membrane_potential(**run_params)\n",
    "        spike_train = sf.get_spike_train(vm)\n",
    "        return spike_train\n",
    "    \n",
    "    def get_spike_count(self, **run_params):\n",
    "        vm = self.get_membrane_potential(**run_params)\n",
    "        print(sf.get_spike_train(vm))\n",
    "        print(len(sf.get_spike_train(vm)))\n",
    "        return len(sf.get_spike_train(vm))\n",
    "    \n",
    "    model.init_backend = MethodType(init_backend,model)\n",
    "    model.get_spike_count = MethodType(get_spike_count,model)\n",
    "    model.get_APs = MethodType(get_APs,model)\n",
    "    model.get_spike_train = MethodType(get_spike_train,model)\n",
    "    model.set_attrs = MethodType(set_attrs, model) # Bind to the score.\n",
    "    model.inject_square_current = MethodType(inject_square_current, model) # Bind to the score.\n",
    "    model.set_attrs = MethodType(set_attrs, model) # Bind to the score.\n",
    "    model.get_membrane_potential = MethodType(get_membrane_potential,model)\n",
    "    model.load_model = MethodType(load_model, model) # Bind to the score.\n",
    "    model._local_run = MethodType(_local_run,model)\n",
    "    model.init_backend(model)\n",
    "    model.load_model() #= MethodType(load_model, model) # Bind to the score.\n",
    "\n",
    "    return model\n",
    "HH_cond_exp = bind_NU_interface(HH_cond_exp)    \n",
    "#HH_cond_exp"
   ]
  },
  {
   "cell_type": "code",
   "execution_count": 3,
   "metadata": {
    "collapsed": true
   },
   "outputs": [],
   "source": [
    "electro_tests = []\n",
    "obs_frame = {}\n",
    "test_frame = {}\n",
    "import os\n",
    "import pickle\n",
    "try: \n",
    "\n",
    "    electro_path = str(os.getcwd())+'all_tests.p'\n",
    "\n",
    "    assert os.path.isfile(electro_path) == True\n",
    "    with open(electro_path,'rb') as f:\n",
    "        (obs_frame,test_frame) = pickle.load(f)\n",
    "\n",
    "except:\n",
    "    for p in pipe:\n",
    "        p_tests, p_observations = get_neab.get_neuron_criteria(p)\n",
    "        obs_frame[p[\"name\"]] = p_observations#, p_tests))\n",
    "        test_frame[p[\"name\"]] = p_tests#, p_tests))\n",
    "    electro_path = str(os.getcwd())+'all_tests.p'\n",
    "    with open(electro_path,'wb') as f:\n",
    "        pickle.dump((obs_frame,test_frame),f)"
   ]
  },
  {
   "cell_type": "code",
   "execution_count": 4,
   "metadata": {
    "collapsed": true
   },
   "outputs": [],
   "source": [
    "use_test = test_frame[\"Neocortex pyramidal cell layer 5-6\"]\n",
    "use_test[0].observation\n",
    "#from neuronunit.tests import RheobaseP\n",
    "from neuronunit.tests.fi import RheobaseTest# as discovery\n",
    "\n",
    "rtp = RheobaseTest(use_test[0].observation)\n",
    "use_test[0] = rtp"
   ]
  },
  {
   "cell_type": "code",
   "execution_count": 5,
   "metadata": {
    "collapsed": false
   },
   "outputs": [
    {
     "name": "stderr",
     "output_type": "stream",
     "text": [
      "INFO:PyNN:Initializing membrane potential of 0 cells and 0 Populations.\n"
     ]
    },
    {
     "name": "stdout",
     "output_type": "stream",
     "text": [
      "[[-65.        ]\n",
      " [-65.00597081]\n",
      " [-65.01193532]\n",
      " ..., \n",
      " [-70.59810423]\n",
      " [-70.59810422]\n",
      " [-70.59810421]] mV\n"
     ]
    },
    {
     "data": {
      "image/png": "[encoded data removed]",
      "text/plain": [
       "<matplotlib.figure.Figure at 0x7fc476a49470>"
      ]
     },
     "metadata": {},
     "output_type": "display_data"
    },
    {
     "name": "stdout",
     "output_type": "stream",
     "text": [
      "[[-65.        ]\n",
      " [-65.00597081]\n",
      " [-65.01193532]\n",
      " ..., \n",
      " [-73.60668399]\n",
      " [-73.60644513]\n",
      " [-73.60620628]] mV\n"
     ]
    },
    {
     "data": {
      "image/png": "[encoded data removed]",
      "text/plain": [
       "<matplotlib.figure.Figure at 0x7fc4620c20f0>"
      ]
     },
     "metadata": {},
     "output_type": "display_data"
    }
   ],
   "source": [
    "#dir(HH_cond_exp)\n",
    "#HH_cond_exp.get_parameters()\n",
    "#hhcell[0].get_parameters()\n",
    "#dir(HH_cond_exp)\n",
    "import quantities as pq\n",
    "HH_cond_exp.attrs = HH_cond_exp.simple_parameters(HH_cond_exp)\n",
    "#use_test[0].generate_prediction(HH_cond_exp)\n",
    "iparams = {}\n",
    "iparams['injected_square_current'] = {}\n",
    "#iparams['injected_square_current']['amplitude'] = 1.98156805*pq.pA\n",
    "iparams['injected_square_current']['amplitude'] = 2000.98156805*pq.pA\n",
    "\n",
    "DELAY = 100.0*pq.ms\n",
    "DURATION = 1000.0*pq.ms\n",
    "iparams['injected_square_current']['delay'] = DELAY\n",
    "iparams['injected_square_current']['duration'] = int(DURATION)\n",
    "\n",
    "HH_cond_exp.inject_square_current(iparams)\n",
    "\n",
    "print(HH_cond_exp.vm)\n",
    "\n",
    "import matplotlib.pyplot as plt\n",
    "plt.plot(HH_cond_exp.vm.times,HH_cond_exp.vm)\n",
    "\n",
    "\n",
    "plt.show()\n",
    "iparams['injected_square_current']['amplitude'] = 1.98156805*pq.pA\n",
    "#iparams['injected_square_current']['amplitude'] = 2000.98156805*pq.pA\n",
    "\n",
    "DELAY = 100.0*pq.ms\n",
    "DURATION = 1000.0*pq.ms\n",
    "iparams['injected_square_current']['delay'] = DELAY\n",
    "iparams['injected_square_current']['duration'] = int(DURATION)\n",
    "\n",
    "HH_cond_exp.inject_square_current(iparams)\n",
    "\n",
    "print(HH_cond_exp.vm)\n",
    "\n",
    "import matplotlib.pyplot as plt\n",
    "plt.plot(HH_cond_exp.vm.times,HH_cond_exp.vm)\n",
    "\n",
    "plt.show()"
   ]
  },
  {
   "cell_type": "code",
   "execution_count": null,
   "metadata": {
    "collapsed": true
   },
   "outputs": [],
   "source": []
  },
  {
   "cell_type": "code",
   "execution_count": null,
   "metadata": {
    "collapsed": true
   },
   "outputs": [],
   "source": []
  }
 ],
 "metadata": {
  "kernelspec": {
   "display_name": "Python 3",
   "language": "python",
   "name": "python3"
  },
  "language_info": {
   "codemirror_mode": {
    "name": "ipython",
    "version": 3
   },
   "file_extension": ".py",
   "mimetype": "text/x-python",
   "name": "python",
   "nbconvert_exporter": "python",
   "pygments_lexer": "ipython3",
   "version": "3.5.2"
  }
 },
 "nbformat": 4,
 "nbformat_minor": 2
}
