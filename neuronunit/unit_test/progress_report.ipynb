{
 "cells": [
  {
   "cell_type": "markdown",
   "metadata": {},
   "source": [
    "# Progress Report and Documentation\n"
   ]
  },
  {
   "cell_type": "markdown",
   "metadata": {},
   "source": [
    "What I have been working on. \n",
    "1. Updating Docker-stacks dockerfile build instructions in order to make a HPC ready Dockerbuild.\n",
    "\n",
    "2. Updating the aforementioned stack, in order to perform regular maintance and to fix build problems due to \n",
    "updates of upstream software sources.\n",
    "3. Debugging and visualisation of the BluePyOpt GA algorithm.\n"
   ]
  },
  {
   "cell_type": "markdown",
   "metadata": {},
   "source": [
    "### What I have not worked on but should be working on:\n",
    "1.  The people at BluePyOpt (Werner) agreed to make a scidash branch, they want me to make use extensibility and inheritence. Such that my scidash derivation of BluePyOpt inherits from and extends as much as possible the parent class of their elitist branch at BPO.\n"
   ]
  },
  {
   "cell_type": "markdown",
   "metadata": {},
   "source": [
    "## What works \n",
    "\n",
    "Plotting of candidate solutions in 2D error surface slices, and using this as a means to validate GA candidate solutions, see below.\n",
    "\n",
    "Presenting tabular data as pandas Data frames. see below.\n",
    "\n"
   ]
  },
  {
   "cell_type": "markdown",
   "metadata": {},
   "source": [
    "## What does not yet work\n",
    "The mean errors of the Genetic Algorithm have a downward trend, but they do not reliably decrease like the gradient descent alogorithm.\n",
    "in order to circumvent this percieved flaw, two interventions have been used.\n",
    "\n",
    "\n",
    "https://github.com/russelljjarvis/neuronunit/blob/dev/neuronunit/unit_test/pipe_entry_point.py#L86\n",
    "\n",
    "lines 152-154 have \n",
    "https://github.com/russelljjarvis/BluePyOpt/blob/elitism/bluepyopt/deapext/algorithms.py#L155-156\n",
    "Line 152-154 of BluePyOpt/bluepyopt/deapext/algorithms.py\n",
    "\n",
    "have been put in, to enforce that genes that have been selected to be parents for breeding are fitter than the on average than the rest of the population of genes. I believe that the usage of this particular assert clause, will help to further isolate the cause of instabliity in fitness evolution.\n",
    "\n",
    "Furthermore, I have created methods for plotting the Hall of Fame and it's evolution as a means to corroborate GA results.\n"
   ]
  },
  {
   "cell_type": "markdown",
   "metadata": {},
   "source": [
    "## Other problems\n",
    "* Dropbox sync causes file reaad write problems during simulations over prolonged durations.\n",
    "This can be circumvented by momentarily pausing syncing.\n",
    "\n",
    "* This motivated me to stop convenient, but lazy reading and writing of attributes from disk, which could otherwise be stored\n",
    "in the Data Transport Container. \n",
    "* I updated the file models/backends/neuron.py in two crucial places.\n",
    "\n"
   ]
  },
  {
   "cell_type": "markdown",
   "metadata": {},
   "source": [
    "## What will work with more time\n",
    "\n",
    "Grid Search on HPC over docker seems to mostly work.\n",
    "\n",
    "A docker container was made especially to run on a Spike server administratored by Renate. To this end, I have created a dedicated [branch](https://github.com/russelljjarvis/docker-stacks-returned/tree/hpc), with a different entrypoint. \n",
    "The docker container builds The container has an entrypoint which runs an exhaustive search simulation. \n",
    "## The command: \n",
    "```\n",
    "nohup docker run -v /home/rjarvis/git/neuronunit:/home/jovyan/neuronunit scidash/neuronunit-optimization```\n",
    "is sufficient to run the file\n",
    "```/home/rjarvis/git/neuronunit/neuronunit/unit_test/grid_entry_point.py``` with python.\n",
    "\n",
    "Previously when running this file, it ran without error, however, because I forgot to mount a volume, pickle files generated in this session where not stored. I have since executed the command using a mounted volume, and I am now waiting for an output from the command.\n",
    "\n",
    "It is expected that this will write four different files, with the prefix=grid_cell, and suffix=neurolex ID\n",
    "At the location neuronunit/neuronunit/unit_test on the spike server.\n",
    "\n",
    "\n",
    "This file runs without error\n",
    "As confirmed by running \n",
    "```tail $HOME/nohup.out```, on the spike server, however the expected pickle files are not present there.\n",
    "\n",
    "I expect this is because on the first run, I failed to define a mount point, to mount a volume in the docker run command, such that results would write to a location on the HOST OS upon exiting. O\n"
   ]
  },
  {
   "cell_type": "code",
   "execution_count": 1,
   "metadata": {},
   "outputs": [
    {
     "data": {
      "text/plain": [
       "(0.18123336358698772,\n",
       " 0.9999974162859672,\n",
       " 0.9757757785799775,\n",
       " 0.393169173242522,\n",
       " 0.8068641558153841,\n",
       " 0.9096699808397598,\n",
       " 0.28817224008432385)"
      ]
     },
     "execution_count": 1,
     "metadata": {},
     "output_type": "execute_result"
    }
   ],
   "source": [
    "import pickle\n",
    "with open('dump_all_cells','rb') as f:\n",
    "   pipe_results = pickle.load(f)\n",
    "\n",
    "len(pipe_results['100201']['gen_vs_hof'])\n",
    "\n",
    "pipe_results['100201']['scored_hof'][-3].fitness.values"
   ]
  },
  {
   "cell_type": "markdown",
   "metadata": {},
   "source": [
    "\n",
    "# Assumptions about this code:\n",
    "The NB was launched with a command that mounts two volumes inside a docker container. \n",
    "In the future invocation of this script will be simplified greatly. NU is from a specific fork and branch -b results https://github.com/russelljjarvis/neuronunit \n",
    "BluePyOpt is also from a specific fork and branch: -b elitism https://github.com/russelljjarvis/BluePyOpt\n",
    "\n",
    "Below BASH code for Ubuntu host:\n",
    "\n",
    "``` bash\n",
    "cd ~/git/neuronunit; sudo docker run -it -v `pwd`:/home/jovyan/neuronunit -v ~/git/BluePyOpt:/home/jovyan/BluePyOpt neuronunit-optimization /bin/bash'\n",
    "```\n",
    "\n",
    "## Parallel Environment.\n",
    "Parallelisation module: dask distributed."
   ]
  },
  {
   "cell_type": "code",
   "execution_count": 2,
   "metadata": {},
   "outputs": [],
   "source": [
    "import os\n",
    "os.system('jupyter trust test_ga_versus_grid.ipynb'); #suppress the untrusted notebook warning.\n",
    "\n",
    "#!pip install deap\n",
    "import deap\n"
   ]
  },
  {
   "cell_type": "code",
   "execution_count": 3,
   "metadata": {},
   "outputs": [
    {
     "name": "stdout",
     "output_type": "stream",
     "text": [
      "{'100201': {'duration': 948.7282581000036,\n",
      "            'gen_vs_hof': [<deap.tools.support.HallOfFame object at 0x7f4ffae650f0>,\n",
      "                           [-71.640893897189969,\n",
      "                            0.80082488140568486,\n",
      "                            -3.0905634525584651e-09,\n",
      "                            32.550690257394216,\n",
      "                            0.0010114850170607945,\n",
      "                            9.898982624526582e-05,\n",
      "                            -56.742035136386185,\n",
      "                            0.16830850267032699,\n",
      "                            -72.184212396772949,\n",
      "                            -49.433050469559873],\n",
      "                           [-71.640893897189969,\n",
      "                            0.80082488140568486,\n",
      "                            -3.0905634525584651e-09,\n",
      "                            32.550690257394216,\n",
      "                            0.0010114850170607945,\n",
      "                            9.898982624526582e-05,\n",
      "                            -56.742035136386185,\n",
      "                            0.16830850267032699,\n",
      "                            -72.184212396772949,\n",
      "                            -49.433050469559873],\n",
      "                           [-69.148967338864836,\n",
      "                            0.60660077747244456,\n",
      "                            -4.4530474066557786e-09,\n",
      "                            34.596034657377338,\n",
      "                            0.00094083269921381939,\n",
      "                            9.0429798626807885e-05,\n",
      "                            -55.812110121687134,\n",
      "                            0.12894118574351265,\n",
      "                            -56.711548029281914,\n",
      "                            -45.520971457838755],\n",
      "                           [-74.3751976264235,\n",
      "                            0.22058652453120517,\n",
      "                            -2.6205180496579908e-09,\n",
      "                            33.357207377581076,\n",
      "                            0.00079678153579057238,\n",
      "                            9.8442336433770915e-05,\n",
      "                            -59.312676205926792,\n",
      "                            0.11394505765075069,\n",
      "                            -61.863372190482835,\n",
      "                            -41.28553495863094]],\n",
      "            'history': <deap.tools.support.History object at 0x7f4ffafe56d8>,\n",
      "            'hof_py': <deap.tools.support.HallOfFame object at 0x7f4ffb084e48>,\n",
      "            'log': [{'avg': 5.4036256814847352,\n",
      "                     'gen': 1,\n",
      "                     'max': 5.9502193851572933,\n",
      "                     'min': 5.1019080529327558,\n",
      "                     'nevals': 7,\n",
      "                     'std': 0.2604126614658388},\n",
      "                    {'avg': 5.2488641137338927,\n",
      "                     'gen': 2,\n",
      "                     'max': 5.9502193851572933,\n",
      "                     'min': 4.2161198807123768,\n",
      "                     'nevals': 7,\n",
      "                     'std': 0.38951091115003744},\n",
      "                    {'avg': 5.1020370761897293,\n",
      "                     'gen': 3,\n",
      "                     'max': 6.1239610470690398,\n",
      "                     'min': 4.2161198807123768,\n",
      "                     'nevals': 7,\n",
      "                     'std': 0.53892372501175156},\n",
      "                    {'avg': 5.3114709601835788,\n",
      "                     'gen': 4,\n",
      "                     'max': 5.9633466828378321,\n",
      "                     'min': 4.5548821084349225,\n",
      "                     'nevals': 7,\n",
      "                     'std': 0.47224411427840146}],\n",
      "            'pop': [[-51.433281671202352,\n",
      "                     0.67106172489372051,\n",
      "                     -4.4766444136425824e-09,\n",
      "                     34.676728821600513,\n",
      "                     0.00087885144799647048,\n",
      "                     9.9908906856996919e-05,\n",
      "                     -59.869110324040633,\n",
      "                     0.12443296370394134,\n",
      "                     -47.314563850620445,\n",
      "                     -41.90926398615057],\n",
      "                    [-69.310636691416633,\n",
      "                     0.21816888175623014,\n",
      "                     -4.2754049353563309e-09,\n",
      "                     34.613029689157017,\n",
      "                     0.00085313184323467395,\n",
      "                     9.0138640189091704e-05,\n",
      "                     -55.38331047503361,\n",
      "                     0.140670305753684,\n",
      "                     -55.731169112026635,\n",
      "                     -46.281874682105645],\n",
      "                    [-69.242084850459023,\n",
      "                     0.64565337754508623,\n",
      "                     -3.0784717473138018e-09,\n",
      "                     30.110499527996417,\n",
      "                     0.0010114850170607945,\n",
      "                     9.8206884330233202e-05,\n",
      "                     -57.953386002992886,\n",
      "                     0.16597902889102167,\n",
      "                     -74.097641515891809,\n",
      "                     -49.433050469559873],\n",
      "                    [-50.50471742745065,\n",
      "                     0.67106172489372051,\n",
      "                     -4.5802314399216617e-09,\n",
      "                     39.906298906871498,\n",
      "                     0.0010950337596084361,\n",
      "                     9.693685246168125e-05,\n",
      "                     -59.720117818987738,\n",
      "                     0.12443296370394134,\n",
      "                     -53.965410119551422,\n",
      "                     -38.165292420888484],\n",
      "                    [-51.433281671202352,\n",
      "                     0.67106172489372051,\n",
      "                     -4.4766444136425824e-09,\n",
      "                     34.676728821600513,\n",
      "                     0.00087885144799647048,\n",
      "                     9.9908906856996919e-05,\n",
      "                     -59.869110324040633,\n",
      "                     0.12443296370394134,\n",
      "                     -47.314563850620445,\n",
      "                     -41.90926398615057],\n",
      "                    [-66.400925057652529,\n",
      "                     0.71131539918675124,\n",
      "                     -3.0784717473138018e-09,\n",
      "                     30.09578465691272,\n",
      "                     0.0010024990264318339,\n",
      "                     9.0784030748342989e-05,\n",
      "                     -55.373377298911166,\n",
      "                     0.16558619166627972,\n",
      "                     -73.736262176040356,\n",
      "                     -46.345662860021264],\n",
      "                    [-66.400925057652529,\n",
      "                     0.71131539918675124,\n",
      "                     -3.0784717473138018e-09,\n",
      "                     30.09578465691272,\n",
      "                     0.0010024990264318339,\n",
      "                     9.0784030748342989e-05,\n",
      "                     -55.373377298911166,\n",
      "                     0.16558619166627972,\n",
      "                     -73.736262176040356,\n",
      "                     -46.345662860021264],\n",
      "                    [-51.433281671202352,\n",
      "                     0.7212822536157899,\n",
      "                     -4.2637003373146913e-09,\n",
      "                     36.189627935277564,\n",
      "                     0.00088726023777238269,\n",
      "                     9.9908906856996919e-05,\n",
      "                     -55.152385746104891,\n",
      "                     0.12443296370394134,\n",
      "                     -47.631747486703006,\n",
      "                     -41.90926398615057],\n",
      "                    [-69.310636691416633,\n",
      "                     0.21816888175623014,\n",
      "                     -4.4883490116283278e-09,\n",
      "                     34.613029689157017,\n",
      "                     0.00085313184323467395,\n",
      "                     9.0138640189091704e-05,\n",
      "                     -59.953062492869591,\n",
      "                     0.14615833889294585,\n",
      "                     -55.270413071478423,\n",
      "                     -46.281874682105645],\n",
      "                    [-69.242084850459023,\n",
      "                     0.66920472559437194,\n",
      "                     -3.0784717473138018e-09,\n",
      "                     30.110499527996417,\n",
      "                     0.0010114850170607945,\n",
      "                     0.0001041086711757572,\n",
      "                     -56.940135278466457,\n",
      "                     0.087752635401592671,\n",
      "                     -74.097641515891809,\n",
      "                     -48.291810167081778],\n",
      "                    [-52.743460934351205,\n",
      "                     0.73505785471920482,\n",
      "                     -4.2135370939437113e-09,\n",
      "                     39.906298906871498,\n",
      "                     0.0011265597468569648,\n",
      "                     9.6602313065951602e-05,\n",
      "                     -59.84431856990556,\n",
      "                     0.1651022052062453,\n",
      "                     -58.081242532803309,\n",
      "                     -37.469065137746547],\n",
      "                    [-51.87763231558413,\n",
      "                     0.75713065907459332,\n",
      "                     -4.7746422743077436e-09,\n",
      "                     34.676728821600513,\n",
      "                     0.0009694066299688886,\n",
      "                     9.0674295656284902e-05,\n",
      "                     -59.908857266395252,\n",
      "                     0.13173778023787258,\n",
      "                     -73.872330041398911,\n",
      "                     -46.081437056856593],\n",
      "                    [-66.283111807586948,\n",
      "                     0.62455292948033803,\n",
      "                     -3.0784717473138018e-09,\n",
      "                     30.09578465691272,\n",
      "                     0.0008780070875325837,\n",
      "                     0.00010124212064687646,\n",
      "                     -55.474101074027033,\n",
      "                     0.15636786648063339,\n",
      "                     -46.981086890037304,\n",
      "                     -42.173487805988259],\n",
      "                    [-66.400925057652529,\n",
      "                     0.74236622540131114,\n",
      "                     -3.0784717473138018e-09,\n",
      "                     30.09578465691272,\n",
      "                     0.001126756867995429,\n",
      "                     9.0784030748342989e-05,\n",
      "                     -55.647210031627246,\n",
      "                     0.17324693062119573,\n",
      "                     -73.736262176040356,\n",
      "                     -46.345662860021264]],\n",
      "            'scored_hof': [[-70.674814960523733,\n",
      "                            0.51861482951180449,\n",
      "                            -3.2423980948359211e-09,\n",
      "                            36.744858305023271,\n",
      "                            0.00091852132578626304,\n",
      "                            9.8779237539852897e-05,\n",
      "                            -57.457867558750088,\n",
      "                            0.16676639225002188,\n",
      "                            -59.371847471605648,\n",
      "                            -42.134898100715475],\n",
      "                           [-67.415787226677054,\n",
      "                            0.55526367280566369,\n",
      "                            -2.7938024979203558e-09,\n",
      "                            38.461974184283129,\n",
      "                            0.0010190685418462924,\n",
      "                            0.00010178005024865329,\n",
      "                            -59.827370849243295,\n",
      "                            0.086410996031460158,\n",
      "                            -51.077872573370911,\n",
      "                            -41.713720013984513],\n",
      "                           [-50.186414695598373,\n",
      "                            0.81264946971154894,\n",
      "                            -4.6977751004854843e-09,\n",
      "                            33.326951853601294,\n",
      "                            0.0011855429938391166,\n",
      "                            0.00010422384060509737,\n",
      "                            -55.317797066002704,\n",
      "                            0.1133160499942123,\n",
      "                            -50.09892920177019,\n",
      "                            -36.593888671718581],\n",
      "                           [-69.172888743560691,\n",
      "                            0.21816888175623014,\n",
      "                            -4.4530474066557786e-09,\n",
      "                            34.596034657377338,\n",
      "                            0.00085313184323467395,\n",
      "                            9.0429798626807885e-05,\n",
      "                            -55.812110121687134,\n",
      "                            0.13346814839786503,\n",
      "                            -55.731169112026635,\n",
      "                            -46.281874682105645],\n",
      "                           [-74.363853475163481,\n",
      "                            0.51163478678985419,\n",
      "                            -2.6521270930537234e-09,\n",
      "                            33.812042376882125,\n",
      "                            0.00079678153579057238,\n",
      "                            9.8442336433770915e-05,\n",
      "                            -59.854796062125658,\n",
      "                            0.083253749940955274,\n",
      "                            -61.863372190482835,\n",
      "                            -40.083755172362984],\n",
      "                           [-71.640893897189969,\n",
      "                            0.80082488140568486,\n",
      "                            -3.0905634525584651e-09,\n",
      "                            32.550690257394216,\n",
      "                            0.0010114850170607945,\n",
      "                            9.898982624526582e-05,\n",
      "                            -56.742035136386185,\n",
      "                            0.16830850267032699,\n",
      "                            -72.184212396772949,\n",
      "                            -49.433050469559873],\n",
      "                           [-50.515571718821327,\n",
      "                            0.67106172489372051,\n",
      "                            -4.4766444136425824e-09,\n",
      "                            39.895902287601132,\n",
      "                            0.0010598826460030749,\n",
      "                            9.9908906856996919e-05,\n",
      "                            -59.827370849243295,\n",
      "                            0.12443296370394134,\n",
      "                            -50.947736739216481,\n",
      "                            -41.713720013984513],\n",
      "                           [-66.400925057652529,\n",
      "                            0.71131539918675124,\n",
      "                            -3.0784717473138018e-09,\n",
      "                            30.09578465691272,\n",
      "                            0.0010024990264318339,\n",
      "                            9.0784030748342989e-05,\n",
      "                            -55.373377298911166,\n",
      "                            0.16558619166627972,\n",
      "                            -73.736262176040356,\n",
      "                            -46.345662860021264],\n",
      "                           [-52.743460934351205,\n",
      "                            0.73505785471920482,\n",
      "                            -4.2135370939437113e-09,\n",
      "                            39.906298906871498,\n",
      "                            0.0011265597468569648,\n",
      "                            9.6602313065951602e-05,\n",
      "                            -59.84431856990556,\n",
      "                            0.1651022052062453,\n",
      "                            -58.081242532803309,\n",
      "                            -37.469065137746547],\n",
      "                           [-66.400925057652529,\n",
      "                            0.71131539918675124,\n",
      "                            -3.0784717473138018e-09,\n",
      "                            30.09578465691272,\n",
      "                            0.0010024990264318339,\n",
      "                            9.0784030748342989e-05,\n",
      "                            -55.373377298911166,\n",
      "                            0.16558619166627972,\n",
      "                            -73.736262176040356,\n",
      "                            -46.345662860021264]],\n",
      "            'td_py': ['vr', 'a', 'b', 'vpeak', 'k', 'C', 'c', 'd', 'v0', 'vt']}}\n"
     ]
    }
   ],
   "source": [
    "\n",
    "import pprint\n",
    "pprint.pprint(pipe_results)"
   ]
  },
  {
   "cell_type": "code",
   "execution_count": null,
   "metadata": {},
   "outputs": [],
   "source": []
  },
  {
   "cell_type": "code",
   "execution_count": 4,
   "metadata": {},
   "outputs": [],
   "source": [
    "import pandas as pd\n",
    "cell_names = list(pipe_results.keys())\n",
    "param_names = list(pipe_results[list(pipe_results.keys())[0]]['pop'][0].dtc.attrs.keys())\n",
    "df = pd.DataFrame(index=pipe_results.keys(),columns=param_names)"
   ]
  },
  {
   "cell_type": "code",
   "execution_count": null,
   "metadata": {},
   "outputs": [],
   "source": []
  },
  {
   "cell_type": "code",
   "execution_count": 5,
   "metadata": {},
   "outputs": [
    {
     "data": {
      "text/html": [
       "<div>\n",
       "<table border=\"1\" class=\"dataframe\">\n",
       "  <thead>\n",
       "    <tr style=\"text-align: right;\">\n",
       "      <th></th>\n",
       "      <th>0</th>\n",
       "      <th>1</th>\n",
       "      <th>2</th>\n",
       "      <th>3</th>\n",
       "      <th>4</th>\n",
       "      <th>5</th>\n",
       "      <th>6</th>\n",
       "    </tr>\n",
       "  </thead>\n",
       "  <tbody>\n",
       "    <tr>\n",
       "      <th>0</th>\n",
       "      <td>0.640913</td>\n",
       "      <td>0.999048</td>\n",
       "      <td>0.942265</td>\n",
       "      <td>0.944181</td>\n",
       "      <td>0.677803</td>\n",
       "      <td>0.854345</td>\n",
       "      <td>0.481897</td>\n",
       "    </tr>\n",
       "  </tbody>\n",
       "</table>\n",
       "</div>"
      ],
      "text/plain": [
       "          0         1         2         3         4         5         6\n",
       "0  0.640913  0.999048  0.942265  0.944181  0.677803  0.854345  0.481897"
      ]
     },
     "execution_count": 5,
     "metadata": {},
     "output_type": "execute_result"
    }
   ],
   "source": [
    "import pandas as pd\n",
    "for index, val in enumerate(pipe_results.values()):\n",
    "    if index == 0:\n",
    "        sci = pd.DataFrame(list(val['pop'][0].dtc.scores.values())).T\n",
    "    else:    \n",
    "        sci = sci.append(pd.DataFrame(list(val['pop'][0].dtc.scores.values())).T)\n",
    "        \n",
    "sci"
   ]
  },
  {
   "cell_type": "code",
   "execution_count": 6,
   "metadata": {},
   "outputs": [
    {
     "data": {
      "text/html": [
       "<div>\n",
       "<table border=\"1\" class=\"dataframe\">\n",
       "  <thead>\n",
       "    <tr style=\"text-align: right;\">\n",
       "      <th></th>\n",
       "      <th>vr</th>\n",
       "      <th>a</th>\n",
       "      <th>b</th>\n",
       "      <th>vpeak</th>\n",
       "      <th>k</th>\n",
       "      <th>C</th>\n",
       "      <th>c</th>\n",
       "      <th>d</th>\n",
       "      <th>v0</th>\n",
       "      <th>vt</th>\n",
       "    </tr>\n",
       "  </thead>\n",
       "  <tbody>\n",
       "    <tr>\n",
       "      <th>0</th>\n",
       "      <td>-51.433282</td>\n",
       "      <td>0.671062</td>\n",
       "      <td>-4.476644e-09</td>\n",
       "      <td>34.676729</td>\n",
       "      <td>0.000879</td>\n",
       "      <td>0.0001</td>\n",
       "      <td>-59.86911</td>\n",
       "      <td>0.124433</td>\n",
       "      <td>-47.314564</td>\n",
       "      <td>-41.909264</td>\n",
       "    </tr>\n",
       "  </tbody>\n",
       "</table>\n",
       "</div>"
      ],
      "text/plain": [
       "          vr         a             b      vpeak         k       C         c  \\\n",
       "0 -51.433282  0.671062 -4.476644e-09  34.676729  0.000879  0.0001 -59.86911   \n",
       "\n",
       "          d         v0         vt  \n",
       "0  0.124433 -47.314564 -41.909264  "
      ]
     },
     "execution_count": 6,
     "metadata": {},
     "output_type": "execute_result"
    }
   ],
   "source": [
    "import pandas as pd\n",
    "for index, val in enumerate(pipe_results.values()):\n",
    "    if index == 0:\n",
    "        attrs = pd.DataFrame(list(val['pop'][0].dtc.attrs.values())).T\n",
    "    else:    \n",
    "        attrs = attrs.append(pd.DataFrame(list(val['pop'][0].dtc.attrs.values())).T)\n",
    "        \n",
    "attrs.columns = val['pop'][0].dtc.attrs.keys()    \n",
    "#print(attrs)\n",
    "attrs"
   ]
  },
  {
   "cell_type": "code",
   "execution_count": 7,
   "metadata": {},
   "outputs": [
    {
     "data": {
      "text/html": [
       "<div>\n",
       "<table border=\"1\" class=\"dataframe\">\n",
       "  <thead>\n",
       "    <tr style=\"text-align: right;\">\n",
       "      <th></th>\n",
       "      <th>0</th>\n",
       "      <th>1</th>\n",
       "      <th>2</th>\n",
       "      <th>3</th>\n",
       "      <th>4</th>\n",
       "      <th>5</th>\n",
       "      <th>6</th>\n",
       "      <th>7</th>\n",
       "      <th>8</th>\n",
       "      <th>9</th>\n",
       "      <th>10</th>\n",
       "      <th>11</th>\n",
       "      <th>12</th>\n",
       "      <th>13</th>\n",
       "    </tr>\n",
       "  </thead>\n",
       "  <tbody>\n",
       "    <tr>\n",
       "      <th>value</th>\n",
       "      <td>20.833333333333332 pA</td>\n",
       "      <td>113.60677083333333 pA</td>\n",
       "      <td>99.609375 pA</td>\n",
       "      <td>42.31770833333333 pA</td>\n",
       "      <td>20.833333333333332 pA</td>\n",
       "      <td>101.5625 pA</td>\n",
       "      <td>101.5625 pA</td>\n",
       "      <td>20.833333333333332 pA</td>\n",
       "      <td>113.60677083333333 pA</td>\n",
       "      <td>111.328125 pA</td>\n",
       "      <td>66.40625 pA</td>\n",
       "      <td>9.114583333333332 pA</td>\n",
       "      <td>128.09244791666666 pA</td>\n",
       "      <td>113.60677083333333 pA</td>\n",
       "    </tr>\n",
       "  </tbody>\n",
       "</table>\n",
       "</div>"
      ],
      "text/plain": [
       "                          0                      1             2   \\\n",
       "value  20.833333333333332 pA  113.60677083333333 pA  99.609375 pA   \n",
       "\n",
       "                         3                      4            5            6   \\\n",
       "value  42.31770833333333 pA  20.833333333333332 pA  101.5625 pA  101.5625 pA   \n",
       "\n",
       "                          7                      8              9   \\\n",
       "value  20.833333333333332 pA  113.60677083333333 pA  111.328125 pA   \n",
       "\n",
       "                10                    11                     12  \\\n",
       "value  66.40625 pA  9.114583333333332 pA  128.09244791666666 pA   \n",
       "\n",
       "                          13  \n",
       "value  113.60677083333333 pA  "
      ]
     },
     "execution_count": 7,
     "metadata": {},
     "output_type": "execute_result"
    }
   ],
   "source": [
    "import pandas as pd\n",
    "\n",
    "\n",
    "for index, val in enumerate(pipe_results.values()):\n",
    "    if index == 0:\n",
    "        #,columns=['Dice number','value'],index=[1,2,3,4])\n",
    "        rheobase = pd.DataFrame([i.dtc.rheobase for i in val['pop']]).T\n",
    "    else:    \n",
    "        rheobase = rheobase.append(pd.DataFrame([i.dtc.rheobase for i in val['pop']]).T)\n",
    "        \n",
    "rheobase\n",
    "\n",
    "names = [ str('generation: ')+str(i) for i in range(0,len(rheobase)) ]\n",
    "\n",
    "rheobase\n"
   ]
  },
  {
   "cell_type": "code",
   "execution_count": 8,
   "metadata": {
    "scrolled": false
   },
   "outputs": [],
   "source": [
    "import matplotlib\n",
    "%matplotlib inline\n"
   ]
  },
  {
   "cell_type": "markdown",
   "metadata": {},
   "source": [
    "################\n",
    "# GA parameters:\n",
    "about $10^{3}=30$ models will be made, excluding rheobase search.\n",
    "################\n",
    "\n",
    "\n",
    "# Choice of selection criteria is important. \n",
    "Here we use BluepyOpts IBEA, such that it can be compared to NSGA2.\n",
    "\n",
    "https://link.springer.com/article/10.1007/s00500-005-0027-5\n",
    "\n",
    "\n"
   ]
  },
  {
   "cell_type": "code",
   "execution_count": 9,
   "metadata": {},
   "outputs": [],
   "source": [
    "MU = 6; NGEN = 6; CXPB = 0.9\n",
    "USE_CACHED_GA = False"
   ]
  },
  {
   "cell_type": "markdown",
   "metadata": {},
   "source": [
    "################\n",
    "# Grid search parameters:\n",
    "$ 2^{10}=1024 $ models, will be made excluding rheobase search\n",
    "################"
   ]
  },
  {
   "cell_type": "markdown",
   "metadata": {},
   "source": [
    "An oppurtunity to improve grid search, by increasing resolution of search intervals given a first pass:"
   ]
  },
  {
   "cell_type": "code",
   "execution_count": 10,
   "metadata": {},
   "outputs": [],
   "source": [
    "from neuronunit.plottools import plot_surface\n"
   ]
  },
  {
   "cell_type": "markdown",
   "metadata": {},
   "source": [
    "# Below two error surface slices from the hypervolume are plotted.\n",
    "The data that is plotted consists of the error as experienced by the GA.\n",
    "Note: the GA performs an incomplete, and efficient sampling of the parameter space, and therefore sample points are irregularly spaced. Polygon interpolation is used to visualize error gradients. Existing plotting code from the package BluePyOpt has been extended for this purpose.\n",
    "Light blue dots indicate local minima's of error experienced by the NSGA algrorithm."
   ]
  },
  {
   "cell_type": "code",
   "execution_count": 11,
   "metadata": {},
   "outputs": [
    {
     "data": {
      "text/plain": [
       "<Figure size 432x288 with 0 Axes>"
      ]
     },
     "metadata": {},
     "output_type": "display_data"
    },
    {
     "data": {
      "image/png": "[encoded data removed]",
      "text/plain": [
       "<Figure size 720x360 with 2 Axes>"
      ]
     },
     "metadata": {},
     "output_type": "display_data"
    }
   ],
   "source": [
    "for index, val in enumerate(pipe_results.values()):\n",
    "    td = val['td_py']\n",
    "    history = val['history']\n",
    "\n",
    "    plot_surface('a','b',td,history)"
   ]
  },
  {
   "cell_type": "code",
   "execution_count": 12,
   "metadata": {},
   "outputs": [
    {
     "data": {
      "text/plain": [
       "<Figure size 432x288 with 0 Axes>"
      ]
     },
     "metadata": {},
     "output_type": "display_data"
    },
    {
     "data": {
      "image/png": "[encoded data removed]",
      "text/plain": [
       "<Figure size 720x360 with 2 Axes>"
      ]
     },
     "metadata": {},
     "output_type": "display_data"
    }
   ],
   "source": [
    "\n",
    "for index, val in enumerate(pipe_results.values()):\n",
    "    td = val['td_py']\n",
    "    history = val['history']\n",
    "\n",
    "    plot_surface('v0','vt',td,history)\n",
    "    "
   ]
  },
  {
   "cell_type": "code",
   "execution_count": 13,
   "metadata": {},
   "outputs": [
    {
     "data": {
      "text/plain": [
       "['100201']"
      ]
     },
     "execution_count": 13,
     "metadata": {},
     "output_type": "execute_result"
    }
   ],
   "source": [
    "list(pipe_results.keys())"
   ]
  },
  {
   "cell_type": "markdown",
   "metadata": {},
   "source": [
    "I am currently writing code that should enable the plotting of HOF values versus generation."
   ]
  },
  {
   "cell_type": "code",
   "execution_count": 14,
   "metadata": {},
   "outputs": [
    {
     "ename": "NameError",
     "evalue": "name 'np' is not defined",
     "output_type": "error",
     "traceback": [
      "\u001b[0;31m---------------------------------------------------------------------------\u001b[0m",
      "\u001b[0;31mNameError\u001b[0m                                 Traceback (most recent call last)",
      "\u001b[0;32m<ipython-input-14-135c9965945c>\u001b[0m in \u001b[0;36m<module>\u001b[0;34m()\u001b[0m\n\u001b[1;32m      3\u001b[0m \u001b[0mdtcs\u001b[0m \u001b[0;34m=\u001b[0m \u001b[0;34m[\u001b[0m\u001b[0md\u001b[0m\u001b[0;34m.\u001b[0m\u001b[0mdtc\u001b[0m \u001b[0;32mfor\u001b[0m \u001b[0md\u001b[0m \u001b[0;32min\u001b[0m \u001b[0mdtcs\u001b[0m \u001b[0;34m]\u001b[0m\u001b[0;34m\u001b[0m\u001b[0m\n\u001b[1;32m      4\u001b[0m \u001b[0mfitness\u001b[0m \u001b[0;34m=\u001b[0m \u001b[0mlist\u001b[0m\u001b[0;34m(\u001b[0m\u001b[0mfilter\u001b[0m\u001b[0;34m(\u001b[0m\u001b[0;32mlambda\u001b[0m \u001b[0mf\u001b[0m\u001b[0;34m:\u001b[0m \u001b[0mhasattr\u001b[0m\u001b[0;34m(\u001b[0m\u001b[0mf\u001b[0m\u001b[0;34m,\u001b[0m\u001b[0;34m'fitness'\u001b[0m\u001b[0;34m)\u001b[0m\u001b[0;34m,\u001b[0m \u001b[0mpipe_results\u001b[0m\u001b[0;34m[\u001b[0m\u001b[0;34m'100201'\u001b[0m\u001b[0;34m]\u001b[0m\u001b[0;34m[\u001b[0m\u001b[0;34m'scored_hof'\u001b[0m\u001b[0;34m]\u001b[0m\u001b[0;34m)\u001b[0m\u001b[0;34m)\u001b[0m\u001b[0;34m\u001b[0m\u001b[0m\n\u001b[0;32m----> 5\u001b[0;31m \u001b[0mfit_v_gen\u001b[0m \u001b[0;34m=\u001b[0m \u001b[0;34m[\u001b[0m\u001b[0mnp\u001b[0m\u001b[0;34m.\u001b[0m\u001b[0msum\u001b[0m\u001b[0;34m(\u001b[0m\u001b[0mf\u001b[0m\u001b[0;34m.\u001b[0m\u001b[0mfitness\u001b[0m\u001b[0;34m.\u001b[0m\u001b[0mvalues\u001b[0m\u001b[0;34m)\u001b[0m \u001b[0;32mfor\u001b[0m \u001b[0mf\u001b[0m \u001b[0;32min\u001b[0m \u001b[0mfitness\u001b[0m \u001b[0;34m]\u001b[0m\u001b[0;34m\u001b[0m\u001b[0m\n\u001b[0m\u001b[1;32m      6\u001b[0m \u001b[0;34m\u001b[0m\u001b[0m\n\u001b[1;32m      7\u001b[0m \u001b[0mfit_v_gen\u001b[0m\u001b[0;34m\u001b[0m\u001b[0m\n",
      "\u001b[0;32m<ipython-input-14-135c9965945c>\u001b[0m in \u001b[0;36m<listcomp>\u001b[0;34m(.0)\u001b[0m\n\u001b[1;32m      3\u001b[0m \u001b[0mdtcs\u001b[0m \u001b[0;34m=\u001b[0m \u001b[0;34m[\u001b[0m\u001b[0md\u001b[0m\u001b[0;34m.\u001b[0m\u001b[0mdtc\u001b[0m \u001b[0;32mfor\u001b[0m \u001b[0md\u001b[0m \u001b[0;32min\u001b[0m \u001b[0mdtcs\u001b[0m \u001b[0;34m]\u001b[0m\u001b[0;34m\u001b[0m\u001b[0m\n\u001b[1;32m      4\u001b[0m \u001b[0mfitness\u001b[0m \u001b[0;34m=\u001b[0m \u001b[0mlist\u001b[0m\u001b[0;34m(\u001b[0m\u001b[0mfilter\u001b[0m\u001b[0;34m(\u001b[0m\u001b[0;32mlambda\u001b[0m \u001b[0mf\u001b[0m\u001b[0;34m:\u001b[0m \u001b[0mhasattr\u001b[0m\u001b[0;34m(\u001b[0m\u001b[0mf\u001b[0m\u001b[0;34m,\u001b[0m\u001b[0;34m'fitness'\u001b[0m\u001b[0;34m)\u001b[0m\u001b[0;34m,\u001b[0m \u001b[0mpipe_results\u001b[0m\u001b[0;34m[\u001b[0m\u001b[0;34m'100201'\u001b[0m\u001b[0;34m]\u001b[0m\u001b[0;34m[\u001b[0m\u001b[0;34m'scored_hof'\u001b[0m\u001b[0;34m]\u001b[0m\u001b[0;34m)\u001b[0m\u001b[0;34m)\u001b[0m\u001b[0;34m\u001b[0m\u001b[0m\n\u001b[0;32m----> 5\u001b[0;31m \u001b[0mfit_v_gen\u001b[0m \u001b[0;34m=\u001b[0m \u001b[0;34m[\u001b[0m\u001b[0mnp\u001b[0m\u001b[0;34m.\u001b[0m\u001b[0msum\u001b[0m\u001b[0;34m(\u001b[0m\u001b[0mf\u001b[0m\u001b[0;34m.\u001b[0m\u001b[0mfitness\u001b[0m\u001b[0;34m.\u001b[0m\u001b[0mvalues\u001b[0m\u001b[0;34m)\u001b[0m \u001b[0;32mfor\u001b[0m \u001b[0mf\u001b[0m \u001b[0;32min\u001b[0m \u001b[0mfitness\u001b[0m \u001b[0;34m]\u001b[0m\u001b[0;34m\u001b[0m\u001b[0m\n\u001b[0m\u001b[1;32m      6\u001b[0m \u001b[0;34m\u001b[0m\u001b[0m\n\u001b[1;32m      7\u001b[0m \u001b[0mfit_v_gen\u001b[0m\u001b[0;34m\u001b[0m\u001b[0m\n",
      "\u001b[0;31mNameError\u001b[0m: name 'np' is not defined"
     ]
    }
   ],
   "source": [
    "\n",
    "dtcs = list(filter(lambda d: hasattr(d,'dtc'), pipe_results['100201']['scored_hof']))\n",
    "dtcs = [d.dtc for d in dtcs ]\n",
    "fitness = list(filter(lambda f: hasattr(f,'fitness'), pipe_results['100201']['scored_hof']))\n",
    "fit_v_gen = [np.sum(f.fitness.values) for f in fitness ]\n",
    "\n",
    "fit_v_gen"
   ]
  },
  {
   "cell_type": "code",
   "execution_count": null,
   "metadata": {},
   "outputs": [],
   "source": [
    "\n",
    "\n",
    "\n",
    "print(pipe_results.keys())\n",
    "\n",
    "scores = list(filter(lambda dtc: hasattr(dtc,'score'), dtcs))\n",
    "\n",
    "print(scores)\n",
    "import pickle\n",
    "with open('dump_all_cells','rb') as f:\n",
    "   pipe_results = pickle.load(f)\n",
    "%matplotlib inline\n",
    "import matplotlib.pyplot as plt\n",
    "import numpy as np\n",
    "\n",
    "plt.style.use('ggplot')\n",
    "fig, axes = plt.subplots(figsize=(10, 10), facecolor='white')\n",
    "val = list(pipe_results.values())[0]\n",
    "#for index, val in enumerate():\n",
    "log = val['log']\n",
    "gen_numbers = [ i for i in range(0,len(log.select('gen'))) ]\n",
    "print(gen_numbers)\n",
    "hof = val['hof_py']\n",
    "mean = np.array([ np.sqrt(np.mean(np.square(i))) for i in log.select('avg')])\n",
    "std = np.array([ np.sqrt(np.mean(np.square(i))) for i in log.select('std')])\n",
    "minimum = np.array([ np.sqrt(np.mean(np.square(i))) for i in log.select('min')])\n",
    "best_line = np.array([ np.sqrt(np.mean(np.square(list(p.fitness.values))))  for p in hof])\n",
    "blg = [ best_line[h] for i, h in enumerate(gen_numbers) ]\n",
    "\n",
    "stdminus = mean - std\n",
    "stdplus = mean + std\n",
    "\n",
    "axes.plot(\n",
    "    gen_numbers,\n",
    "    mean,\n",
    "    color='black',\n",
    "    linewidth=2,\n",
    "    label='population average')\n",
    "\n",
    "\n",
    "\n",
    "axes.plot(\n",
    "    gen_numbers,\n",
    "    minimum,\n",
    "    color='black',\n",
    "    linewidth=2,\n",
    "    label='population minimum')\n",
    "axes.fill_between(gen_numbers, stdminus, stdplus)\n",
    "    \n",
    "   "
   ]
  },
  {
   "cell_type": "code",
   "execution_count": null,
   "metadata": {},
   "outputs": [],
   "source": [
    "plt.style.use('ggplot')\n",
    "fig, axes = plt.subplots(figsize=(10, 10), facecolor='white')\n",
    "val = list(pipe_results.values())[1]\n",
    "log = val['log']\n",
    "gen_numbers = [ i for i in range(0,len(log.select('gen'))) ]\n",
    "#print(gen_numbers)\n",
    "hof = val['hof_py']\n",
    "mean = np.array([ np.sqrt(np.mean(np.square(i))) for i in log.select('avg')])\n",
    "std = np.array([ np.sqrt(np.mean(np.square(i))) for i in log.select('std')])\n",
    "minimum = np.array([ np.sqrt(np.mean(np.square(i))) for i in log.select('min')])\n",
    "best_line = np.array([ np.sqrt(np.mean(np.square(list(p.fitness.values))))  for p in hof])\n",
    "blg = [ best_line[h] for i, h in enumerate(gen_numbers) ]\n",
    "\n",
    "stdminus = mean - std\n",
    "stdplus = mean + std\n",
    "\n",
    "\n",
    "axes.plot(\n",
    "    gen_numbers,\n",
    "    mean,\n",
    "    color='black',\n",
    "    linewidth=2,\n",
    "    label='population average')\n",
    "\n",
    "axes.plot(\n",
    "    gen_numbers,\n",
    "    minimum,\n",
    "    color='black',\n",
    "    linewidth=2,\n",
    "    label='population average')\n",
    "axes.fill_between(gen_numbers, stdminus, stdplus)"
   ]
  },
  {
   "cell_type": "code",
   "execution_count": null,
   "metadata": {},
   "outputs": [],
   "source": [
    "for index, val in enumerate(pipe_results.values()):\n",
    "\n",
    "    print(val['gen_vs_hof'])"
   ]
  },
  {
   "cell_type": "code",
   "execution_count": null,
   "metadata": {},
   "outputs": [],
   "source": []
  },
  {
   "cell_type": "markdown",
   "metadata": {},
   "source": [
    "# Comment on plot\n",
    "The plot shows the mean error value of the population as the GA evolves it's population. The red interval at any instant is the standard deviation of the error. The fact that the mean GA error is able to have a net upwards trajectory, after experiencing a temporary downwards trajectory, demonstrates that the GA retains a drive to explore, and is resiliant against being stuck in a local minima. Also in the above plot population variance in error stays remarkably constant, in this way BluePyOpts selection criteria SELIBEA contrasts with DEAPs native selection strategy NSGA2"
   ]
  },
  {
   "cell_type": "code",
   "execution_count": null,
   "metadata": {},
   "outputs": [],
   "source": []
  },
  {
   "cell_type": "code",
   "execution_count": null,
   "metadata": {},
   "outputs": [],
   "source": []
  },
  {
   "cell_type": "code",
   "execution_count": null,
   "metadata": {},
   "outputs": [],
   "source": []
  },
  {
   "cell_type": "code",
   "execution_count": null,
   "metadata": {},
   "outputs": [],
   "source": []
  },
  {
   "cell_type": "code",
   "execution_count": null,
   "metadata": {},
   "outputs": [],
   "source": [
    "\n"
   ]
  },
  {
   "cell_type": "code",
   "execution_count": null,
   "metadata": {},
   "outputs": [],
   "source": []
  },
  {
   "cell_type": "markdown",
   "metadata": {},
   "source": [
    "# Comment on plot\n",
    "There is good agreement between traces produced by the best candidate found by Genetic Algorithm, and exhaustive grid search."
   ]
  },
  {
   "cell_type": "code",
   "execution_count": null,
   "metadata": {},
   "outputs": [],
   "source": []
  },
  {
   "cell_type": "markdown",
   "metadata": {},
   "source": [
    "# Quantize distance between minimimum error and maximum error.\n",
    "This step will allow the GA's performance to be located within or below the range of error found by grid search.\n"
   ]
  },
  {
   "cell_type": "code",
   "execution_count": null,
   "metadata": {},
   "outputs": [],
   "source": [
    "print(maxi)\n",
    "print(mini)\n",
    "print(miniga)\n",
    "quantize_distance = list(np.linspace(mini,maxi,10))\n",
    "\n",
    "# check that the nsga error is in the bottom 1/5th of the entire error range.\n",
    "print('Report: ')\n",
    "print(\"Success\" if bool(miniga < quantize_distance[0]) else \"Failure\")\n",
    "print(\"The nsga error %f is in the bottom 1/5th of the entire error range\" % miniga)\n",
    "print(\"Minimum = %f; 20th percentile = %f; Maximum = %f\" % (mini,quantize_distance[0],maxi))"
   ]
  },
  {
   "cell_type": "markdown",
   "metadata": {},
   "source": [
    "The code below reports on the differences between between attributes of best models found via grid versus attributes of best models found via GA search:\n"
   ]
  },
  {
   "cell_type": "code",
   "execution_count": null,
   "metadata": {},
   "outputs": [],
   "source": [
    "import pandas as pd\n",
    "\n",
    "from neuronunit.optimization import evaluate_as_module as eam\n",
    "NSGAO = NSGA(0.85)\n",
    "NSGAO.setnparams(nparams=nparams,provided_keys=provided_keys)\n",
    "#td = eam.get_trans_dict(NSGAO.subset)\n",
    "#print(td)\n",
    "td = { v:k for k,v in enumerate(td) }\n",
    "from neuronunit.optimization import model_parameters as modelp\n",
    "mp = modelp.model_params\n",
    "#minimaga = pareto_dtc[0]\n",
    "for k,v in minimagr_dtc.attrs.items():\n",
    "    #hvgrid = np.linspace(np.min(mp[k]),np.max(mp[k]),10)\n",
    "    dimension_length = np.max(mp[k]) - np.min(mp[k])\n",
    "    solution_distance_in_1D = np.abs(float(hof[0][td[k]]))-np.abs(float(v))\n",
    "        \n",
    "    #solution_distance_in_1D = np.abs(float(minimaga.attrs[k]))-np.abs(float(v))\n",
    "    relative_distance = dimension_length/solution_distance_in_1D\n",
    "    print('the difference between brute force candidates model parameters and the GA\\'s model parameters:')\n",
    "    print(float(hof[0][td[k]])-float(v),hof[0][td[k]],v,k)\n",
    "    print('the relative distance scaled by the length of the parameter dimension of interest:')\n",
    "    print(relative_distance)\n",
    "\n",
    "    \n",
    "    "
   ]
  },
  {
   "cell_type": "code",
   "execution_count": null,
   "metadata": {},
   "outputs": [],
   "source": [
    "\n",
    "print('the difference between the bf error and the GA\\'s error:')\n",
    "print('grid search:')\n",
    "from numpy import square, mean, sqrt\n",
    "rmsg = sqrt(mean(square(list(minimagr_dtc.scores.values()))))\n",
    "print(rmsg)\n",
    "print('ga:')\n",
    "rmsga = sqrt(mean(square(list(dtc_pop[0].scores.values()))))\n",
    "print(rmsga)\n",
    "print('Hall of Fame front')\n",
    "print(sqrt(mean(square(list(hof[0].fitness.values)))))\n",
    "print(miniga)\n"
   ]
  },
  {
   "cell_type": "markdown",
   "metadata": {},
   "source": [
    "If any time is left over, may as well compute a more accurate grid, to better quantify GA performance in the future."
   ]
  },
  {
   "cell_type": "code",
   "execution_count": null,
   "metadata": {},
   "outputs": [],
   "source": []
  },
  {
   "cell_type": "code",
   "execution_count": null,
   "metadata": {},
   "outputs": [],
   "source": [
    "from neuronunit.optimization import get_neab\n",
    "#fi_basket = {'nlex_id':'NLXCELL:100201'}\n",
    "neuron = {'nlex_id': 'nifext_50'} \n",
    "\n",
    "error_criterion, inh_observations = get_neab.get_neuron_criteria(fi_basket)\n",
    "print(error_criterion)\n",
    "\n",
    "from bluepyopt.deapext.optimisations import DEAPOptimisation\n",
    "\n",
    "DO = DEAPOptimisation(error_criterion=error_criterion)\n",
    "DO.setnparams(nparams = nparams, provided_keys = provided_keys)\n",
    "pop, hof, log, history, td, gen_vs_hof = DO.run(offspring_size = MU, max_ngen = NGEN, cp_frequency=4,cp_filename='checkpointedGA.p')\n",
    "with open('ga_dump.p','wb') as f:\n",
    "   pickle.dump([pop, log, history, hof, td],f)"
   ]
  },
  {
   "cell_type": "code",
   "execution_count": null,
   "metadata": {},
   "outputs": [],
   "source": [
    "# Layer V pyramidal cell\n"
   ]
  },
  {
   "cell_type": "code",
   "execution_count": null,
   "metadata": {},
   "outputs": [],
   "source": []
  },
  {
   "cell_type": "code",
   "execution_count": null,
   "metadata": {},
   "outputs": [],
   "source": []
  },
  {
   "cell_type": "code",
   "execution_count": null,
   "metadata": {},
   "outputs": [],
   "source": []
  },
  {
   "cell_type": "code",
   "execution_count": null,
   "metadata": {},
   "outputs": [],
   "source": []
  },
  {
   "cell_type": "code",
   "execution_count": null,
   "metadata": {},
   "outputs": [],
   "source": []
  },
  {
   "cell_type": "code",
   "execution_count": null,
   "metadata": {},
   "outputs": [],
   "source": []
  },
  {
   "cell_type": "code",
   "execution_count": null,
   "metadata": {},
   "outputs": [],
   "source": []
  },
  {
   "cell_type": "code",
   "execution_count": null,
   "metadata": {},
   "outputs": [],
   "source": []
  },
  {
   "cell_type": "code",
   "execution_count": null,
   "metadata": {},
   "outputs": [],
   "source": []
  }
 ],
 "metadata": {
  "kernelspec": {
   "display_name": "Python 3",
   "language": "python",
   "name": "python3"
  },
  "language_info": {
   "codemirror_mode": {
    "name": "ipython",
    "version": 3
   },
   "file_extension": ".py",
   "mimetype": "text/x-python",
   "name": "python",
   "nbconvert_exporter": "python",
   "pygments_lexer": "ipython3",
   "version": "3.6.4"
  }
 },
 "nbformat": 4,
 "nbformat_minor": 2
}
