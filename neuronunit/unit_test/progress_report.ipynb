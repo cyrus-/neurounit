{
 "cells": [
  {
   "cell_type": "markdown",
   "metadata": {},
   "source": [
    "## Documentation\n"
   ]
  },
  {
   "cell_type": "markdown",
   "metadata": {},
   "source": [
    "## What works \n",
    "\n",
    "Plotting of candidate solutions in 2D error surface slices, and using this as a means to validate GA candidate solutions, see below.\n",
    "\n",
    "Presenting tabular data as pandas Data frames. see below.\n",
    "\n"
   ]
  },
  {
   "cell_type": "markdown",
   "metadata": {},
   "source": [
    "## What does not yet work\n",
    "The mean errors of the Genetic Algorithm have a downward trend, but they do not reliably decrease like the gradient descent alogorithm.\n",
    "in order to circumvent this percieved flaw, two interventions have been used.\n",
    "\n",
    "\n",
    "https://github.com/russelljjarvis/neuronunit/blob/dev/neuronunit/unit_test/pipe_entry_point.py#L86\n",
    "\n",
    "lines 152-154 have \n",
    "https://github.com/russelljjarvis/BluePyOpt/blob/elitism/bluepyopt/deapext/algorithms.py#L155-156\n",
    "Line 152-154 of BluePyOpt/bluepyopt/deapext/algorithms.py have been put in, to enforce that \n"
   ]
  },
  {
   "cell_type": "markdown",
   "metadata": {},
   "source": [
    "## Other problems\n",
    "* Dropbox sync causes file reaad write problems during simulations over prolonged durations.\n",
    "This can be circumvented by momentarily pausing syncing.\n",
    "\n",
    "* This motivated me to stop convenient, but lazy reading and writing of attributes from disk, which could otherwise be stored\n",
    "in the Data Transport Container. \n",
    "* I updated the file models/backends/neuron.py in two crucial places.\n",
    "\n"
   ]
  },
  {
   "cell_type": "markdown",
   "metadata": {},
   "source": [
    "## What will work with more time\n",
    "\n",
    "A docker container was made especially to run on a Spike server administratored by Renate.\n",
    "The docker container builds\n",
    "The container has an entrypoint which runs an exhaustive search simulation.\n",
    "## The command: \n",
    "```\n",
    "nohup docker run -v /home/rjarvis/git/neuronunit:/home/jovyan/neuronunit scidash/neuronunit-optimization```\n",
    "is sufficient to run the file\n",
    "```/home/rjarvis/git/neuronunit/neuronunit/unit_test/grid_entry_point.py``` with python.\n",
    "\n",
    "Previously when running this file, it ran without error, however, because I forgot to mount a volume, pickle files generated in this session where not stored. I have since executed the command using a mounted volume, and I am now waiting for an output from the command.\n",
    "\n",
    "It is expected that this will write four different files, with the prefix=grid_cell, and suffix=neurolex ID\n",
    "At the location neuronunit/neuronunit/unit_test on the spike server.\n",
    "\n",
    "\n",
    "This file runs without error\n",
    "As confirmed by running \n",
    "```tail $HOME/nohup.out```, on the spike server, however the expected pickle files are not present there.\n",
    "\n",
    "I expect this is because I forgot to mount a volume in the docker run command above.\n"
   ]
  },
  {
   "cell_type": "code",
   "execution_count": 1,
   "metadata": {},
   "outputs": [
    {
     "data": {
      "text/plain": [
       "5"
      ]
     },
     "execution_count": 1,
     "metadata": {},
     "output_type": "execute_result"
    }
   ],
   "source": [
    "import pickle\n",
    "with open('dump_all_cells','rb') as f:\n",
    "   pipe_results = pickle.load(f)\n",
    "\n",
    "len(pipe_results['100201']['gen_vs_hof'])\n",
    "\n"
   ]
  },
  {
   "cell_type": "markdown",
   "metadata": {},
   "source": [
    "\n",
    "# Assumptions about this code:\n",
    "The NB was launched with a command that mounts two volumes inside a docker container. \n",
    "In the future invocation of this script will be simplified greatly. NU is from a specific fork and branch -b results https://github.com/russelljjarvis/neuronunit \n",
    "BluePyOpt is also from a specific fork and branch: -b elitism https://github.com/russelljjarvis/BluePyOpt\n",
    "\n",
    "Below BASH code for Ubuntu host:\n",
    "\n",
    "``` bash\n",
    "cd ~/git/neuronunit; sudo docker run -it -v `pwd`:/home/jovyan/neuronunit -v ~/git/BluePyOpt:/home/jovyan/BluePyOpt neuronunit-optimization /bin/bash'\n",
    "```\n",
    "\n",
    "## Parallel Environment.\n",
    "Parallelisation module: dask distributed."
   ]
  },
  {
   "cell_type": "code",
   "execution_count": 2,
   "metadata": {},
   "outputs": [],
   "source": [
    "import os\n",
    "os.system('jupyter trust test_ga_versus_grid.ipynb'); #suppress the untrusted notebook warning.\n",
    "\n",
    "#!pip install deap\n",
    "import deap\n"
   ]
  },
  {
   "cell_type": "code",
   "execution_count": 3,
   "metadata": {},
   "outputs": [
    {
     "name": "stdout",
     "output_type": "stream",
     "text": [
      "{'100201': {'duration': 861.4938727999979,\n",
      "            'gen_vs_hof': [<deap.tools.support.HallOfFame object at 0x7ff886aa52b0>,\n",
      "                           [-71.640893897189969,\n",
      "                            0.80082488140568486,\n",
      "                            -3.0905634525584651e-09,\n",
      "                            32.550690257394216,\n",
      "                            0.0010114850170607945,\n",
      "                            9.898982624526582e-05,\n",
      "                            -56.742035136386185,\n",
      "                            0.16830850267032699,\n",
      "                            -72.184212396772949,\n",
      "                            -49.433050469559873],\n",
      "                           [-71.640893897189969,\n",
      "                            0.80082488140568486,\n",
      "                            -3.0905634525584651e-09,\n",
      "                            32.550690257394216,\n",
      "                            0.0010114850170607945,\n",
      "                            9.898982624526582e-05,\n",
      "                            -56.742035136386185,\n",
      "                            0.16830850267032699,\n",
      "                            -72.184212396772949,\n",
      "                            -49.433050469559873],\n",
      "                           [-69.148967338864836,\n",
      "                            0.60660077747244456,\n",
      "                            -4.4530474066557786e-09,\n",
      "                            34.596034657377338,\n",
      "                            0.00094083269921381939,\n",
      "                            9.0429798626807885e-05,\n",
      "                            -55.812110121687134,\n",
      "                            0.12894118574351265,\n",
      "                            -56.711548029281914,\n",
      "                            -45.520971457838755],\n",
      "                           [-74.3751976264235,\n",
      "                            0.22058652453120517,\n",
      "                            -2.6205180496579908e-09,\n",
      "                            33.357207377581076,\n",
      "                            0.00079678153579057238,\n",
      "                            9.8442336433770915e-05,\n",
      "                            -59.312676205926792,\n",
      "                            0.11394505765075069,\n",
      "                            -61.863372190482835,\n",
      "                            -41.28553495863094]],\n",
      "            'history': <deap.tools.support.History object at 0x7ff886c3c8d0>,\n",
      "            'hof_py': <deap.tools.support.HallOfFame object at 0x7ff886c25ac8>,\n",
      "            'log': [{'avg': 5.4036256814847352,\n",
      "                     'gen': 1,\n",
      "                     'max': 5.9502193851572933,\n",
      "                     'min': 5.1019080529327558,\n",
      "                     'nevals': 7,\n",
      "                     'std': 0.2604126614658388},\n",
      "                    {'avg': 5.2488641137338927,\n",
      "                     'gen': 2,\n",
      "                     'max': 5.9502193851572933,\n",
      "                     'min': 4.2161198807123768,\n",
      "                     'nevals': 7,\n",
      "                     'std': 0.38951091115003744},\n",
      "                    {'avg': 5.1020370761897293,\n",
      "                     'gen': 3,\n",
      "                     'max': 6.1239610470690398,\n",
      "                     'min': 4.2161198807123768,\n",
      "                     'nevals': 7,\n",
      "                     'std': 0.53892372501175156},\n",
      "                    {'avg': 5.3114709601835788,\n",
      "                     'gen': 4,\n",
      "                     'max': 5.9633466828378321,\n",
      "                     'min': 4.5548821084349225,\n",
      "                     'nevals': 7,\n",
      "                     'std': 0.47224411427840146}],\n",
      "            'pop': [[-51.433281671202352,\n",
      "                     0.67106172489372051,\n",
      "                     -4.4766444136425824e-09,\n",
      "                     34.676728821600513,\n",
      "                     0.00087885144799647048,\n",
      "                     9.9908906856996919e-05,\n",
      "                     -59.869110324040633,\n",
      "                     0.12443296370394134,\n",
      "                     -47.314563850620445,\n",
      "                     -41.90926398615057],\n",
      "                    [-69.310636691416633,\n",
      "                     0.21816888175623014,\n",
      "                     -4.2754049353563309e-09,\n",
      "                     34.613029689157017,\n",
      "                     0.00085313184323467395,\n",
      "                     9.0138640189091704e-05,\n",
      "                     -55.38331047503361,\n",
      "                     0.140670305753684,\n",
      "                     -55.731169112026635,\n",
      "                     -46.281874682105645],\n",
      "                    [-69.242084850459023,\n",
      "                     0.64565337754508623,\n",
      "                     -3.0784717473138018e-09,\n",
      "                     30.110499527996417,\n",
      "                     0.0010114850170607945,\n",
      "                     9.8206884330233202e-05,\n",
      "                     -57.953386002992886,\n",
      "                     0.16597902889102167,\n",
      "                     -74.097641515891809,\n",
      "                     -49.433050469559873],\n",
      "                    [-50.50471742745065,\n",
      "                     0.67106172489372051,\n",
      "                     -4.5802314399216617e-09,\n",
      "                     39.906298906871498,\n",
      "                     0.0010950337596084361,\n",
      "                     9.693685246168125e-05,\n",
      "                     -59.720117818987738,\n",
      "                     0.12443296370394134,\n",
      "                     -53.965410119551422,\n",
      "                     -38.165292420888484],\n",
      "                    [-51.433281671202352,\n",
      "                     0.67106172489372051,\n",
      "                     -4.4766444136425824e-09,\n",
      "                     34.676728821600513,\n",
      "                     0.00087885144799647048,\n",
      "                     9.9908906856996919e-05,\n",
      "                     -59.869110324040633,\n",
      "                     0.12443296370394134,\n",
      "                     -47.314563850620445,\n",
      "                     -41.90926398615057],\n",
      "                    [-66.400925057652529,\n",
      "                     0.71131539918675124,\n",
      "                     -3.0784717473138018e-09,\n",
      "                     30.09578465691272,\n",
      "                     0.0010024990264318339,\n",
      "                     9.0784030748342989e-05,\n",
      "                     -55.373377298911166,\n",
      "                     0.16558619166627972,\n",
      "                     -73.736262176040356,\n",
      "                     -46.345662860021264],\n",
      "                    [-66.400925057652529,\n",
      "                     0.71131539918675124,\n",
      "                     -3.0784717473138018e-09,\n",
      "                     30.09578465691272,\n",
      "                     0.0010024990264318339,\n",
      "                     9.0784030748342989e-05,\n",
      "                     -55.373377298911166,\n",
      "                     0.16558619166627972,\n",
      "                     -73.736262176040356,\n",
      "                     -46.345662860021264],\n",
      "                    [-51.433281671202352,\n",
      "                     0.7212822536157899,\n",
      "                     -4.2637003373146913e-09,\n",
      "                     36.189627935277564,\n",
      "                     0.00088726023777238269,\n",
      "                     9.9908906856996919e-05,\n",
      "                     -55.152385746104891,\n",
      "                     0.12443296370394134,\n",
      "                     -47.631747486703006,\n",
      "                     -41.90926398615057],\n",
      "                    [-69.310636691416633,\n",
      "                     0.21816888175623014,\n",
      "                     -4.4883490116283278e-09,\n",
      "                     34.613029689157017,\n",
      "                     0.00085313184323467395,\n",
      "                     9.0138640189091704e-05,\n",
      "                     -59.953062492869591,\n",
      "                     0.14615833889294585,\n",
      "                     -55.270413071478423,\n",
      "                     -46.281874682105645],\n",
      "                    [-69.242084850459023,\n",
      "                     0.66920472559437194,\n",
      "                     -3.0784717473138018e-09,\n",
      "                     30.110499527996417,\n",
      "                     0.0010114850170607945,\n",
      "                     0.0001041086711757572,\n",
      "                     -56.940135278466457,\n",
      "                     0.087752635401592671,\n",
      "                     -74.097641515891809,\n",
      "                     -48.291810167081778],\n",
      "                    [-52.743460934351205,\n",
      "                     0.73505785471920482,\n",
      "                     -4.2135370939437113e-09,\n",
      "                     39.906298906871498,\n",
      "                     0.0011265597468569648,\n",
      "                     9.6602313065951602e-05,\n",
      "                     -59.84431856990556,\n",
      "                     0.1651022052062453,\n",
      "                     -58.081242532803309,\n",
      "                     -37.469065137746547],\n",
      "                    [-51.87763231558413,\n",
      "                     0.75713065907459332,\n",
      "                     -4.7746422743077436e-09,\n",
      "                     34.676728821600513,\n",
      "                     0.0009694066299688886,\n",
      "                     9.0674295656284902e-05,\n",
      "                     -59.908857266395252,\n",
      "                     0.13173778023787258,\n",
      "                     -73.872330041398911,\n",
      "                     -46.081437056856593],\n",
      "                    [-66.283111807586948,\n",
      "                     0.62455292948033803,\n",
      "                     -3.0784717473138018e-09,\n",
      "                     30.09578465691272,\n",
      "                     0.0008780070875325837,\n",
      "                     0.00010124212064687646,\n",
      "                     -55.474101074027033,\n",
      "                     0.15636786648063339,\n",
      "                     -46.981086890037304,\n",
      "                     -42.173487805988259],\n",
      "                    [-66.400925057652529,\n",
      "                     0.74236622540131114,\n",
      "                     -3.0784717473138018e-09,\n",
      "                     30.09578465691272,\n",
      "                     0.001126756867995429,\n",
      "                     9.0784030748342989e-05,\n",
      "                     -55.647210031627246,\n",
      "                     0.17324693062119573,\n",
      "                     -73.736262176040356,\n",
      "                     -46.345662860021264]],\n",
      "            'td_py': ['vr', 'a', 'b', 'vpeak', 'k', 'C', 'c', 'd', 'v0', 'vt']},\n",
      " 'nifext_50': {'duration': 856.4918612999973,\n",
      "               'gen_vs_hof': [<deap.tools.support.HallOfFame object at 0x7ff8868e4748>,\n",
      "                              [-71.640893897189969,\n",
      "                               0.80082488140568486,\n",
      "                               -3.0905634525584651e-09,\n",
      "                               32.550690257394216,\n",
      "                               0.0010114850170607945,\n",
      "                               9.898982624526582e-05,\n",
      "                               -56.742035136386185,\n",
      "                               0.16830850267032699,\n",
      "                               -72.184212396772949,\n",
      "                               -49.433050469559873],\n",
      "                              [-71.640893897189969,\n",
      "                               0.80082488140568486,\n",
      "                               -3.0905634525584651e-09,\n",
      "                               32.550690257394216,\n",
      "                               0.0010114850170607945,\n",
      "                               9.898982624526582e-05,\n",
      "                               -56.742035136386185,\n",
      "                               0.16830850267032699,\n",
      "                               -72.184212396772949,\n",
      "                               -49.433050469559873],\n",
      "                              [-69.242084850459023,\n",
      "                               0.64565337754508623,\n",
      "                               -3.0784717473138018e-09,\n",
      "                               30.110499527996417,\n",
      "                               0.0010114850170607945,\n",
      "                               9.8206884330233202e-05,\n",
      "                               -57.953386002992886,\n",
      "                               0.16597902889102167,\n",
      "                               -74.097641515891809,\n",
      "                               -49.433050469559873],\n",
      "                              [-69.172888743560691,\n",
      "                               0.21816888175623014,\n",
      "                               -4.4530474066557786e-09,\n",
      "                               34.596034657377338,\n",
      "                               0.00097249469359721034,\n",
      "                               9.0429798626807885e-05,\n",
      "                               -55.812110121687134,\n",
      "                               0.13378827143482622,\n",
      "                               -55.731169112026635,\n",
      "                               -47.078867666229399]],\n",
      "               'history': <deap.tools.support.History object at 0x7ff886a3ada0>,\n",
      "               'hof_py': <deap.tools.support.HallOfFame object at 0x7ff886a3a358>,\n",
      "               'log': [{'avg': 4.331547812949319,\n",
      "                        'gen': 1,\n",
      "                        'max': 4.8719403271374047,\n",
      "                        'min': 4.1082283305746197,\n",
      "                        'nevals': 7,\n",
      "                        'std': 0.27117733812812173},\n",
      "                       {'avg': 4.4163080996943727,\n",
      "                        'gen': 2,\n",
      "                        'max': 5.4804700784838847,\n",
      "                        'min': 3.6660006685811002,\n",
      "                        'nevals': 7,\n",
      "                        'std': 0.52864153027971061},\n",
      "                       {'avg': 4.4671750308042126,\n",
      "                        'gen': 3,\n",
      "                        'max': 5.8279515694068937,\n",
      "                        'min': 3.590933017804498,\n",
      "                        'nevals': 7,\n",
      "                        'std': 0.78603760193608341},\n",
      "                       {'avg': 4.9266545483852271,\n",
      "                        'gen': 4,\n",
      "                        'max': 5.8279515694068937,\n",
      "                        'min': 3.590933017804498,\n",
      "                        'nevals': 7,\n",
      "                        'std': 0.74677599370261272}],\n",
      "               'pop': [[-69.706624382018646,\n",
      "                        0.71517521625979463,\n",
      "                        -4.4766444136425824e-09,\n",
      "                        39.895902287601132,\n",
      "                        0.0010004905799167114,\n",
      "                        0.00010170820452131435,\n",
      "                        -59.827370849243295,\n",
      "                        0.12443296370394134,\n",
      "                        -50.947736739216481,\n",
      "                        -41.713720013984513],\n",
      "                       [-50.147378531933612,\n",
      "                        0.67106172489372051,\n",
      "                        -4.9605353834924169e-09,\n",
      "                        39.895902287601132,\n",
      "                        0.0010553912832054313,\n",
      "                        9.9908906856996919e-05,\n",
      "                        -59.472085877639543,\n",
      "                        0.12468782337941091,\n",
      "                        -50.947736739216481,\n",
      "                        -43.781384594950147],\n",
      "                       [-50.03801101029994,\n",
      "                        0.59015873382729023,\n",
      "                        -4.4766444136425824e-09,\n",
      "                        39.895902287601132,\n",
      "                        0.0010598826460030749,\n",
      "                        9.7204830065817865e-05,\n",
      "                        -59.827370849243295,\n",
      "                        0.12443296370394134,\n",
      "                        -53.103472564997418,\n",
      "                        -41.713720013984513],\n",
      "                       [-50.03801101029994,\n",
      "                        0.59015873382729023,\n",
      "                        -4.4766444136425824e-09,\n",
      "                        39.895902287601132,\n",
      "                        0.0010598826460030749,\n",
      "                        9.7204830065817865e-05,\n",
      "                        -59.827370849243295,\n",
      "                        0.12443296370394134,\n",
      "                        -53.103472564997418,\n",
      "                        -41.713720013984513],\n",
      "                       [-50.147378531933612,\n",
      "                        0.67106172489372051,\n",
      "                        -4.9605353834924169e-09,\n",
      "                        39.895902287601132,\n",
      "                        0.0010553912832054313,\n",
      "                        9.9908906856996919e-05,\n",
      "                        -59.472085877639543,\n",
      "                        0.12468782337941091,\n",
      "                        -50.947736739216481,\n",
      "                        -43.781384594950147],\n",
      "                       [-69.041874390554099,\n",
      "                        0.17797214756343263,\n",
      "                        -4.4521058086905189e-09,\n",
      "                        34.596034657377338,\n",
      "                        0.00085313184323467395,\n",
      "                        9.0662546634193551e-05,\n",
      "                        -59.737028673660866,\n",
      "                        0.13346814839786503,\n",
      "                        -55.889795369873582,\n",
      "                        -46.281874682105645],\n",
      "                       [-50.077461195029912,\n",
      "                        0.55526367280566369,\n",
      "                        -2.7938024979203558e-09,\n",
      "                        38.005094191372045,\n",
      "                        0.0010190685418462924,\n",
      "                        0.00010218875371498004,\n",
      "                        -59.472027693551269,\n",
      "                        0.086410996031460158,\n",
      "                        -51.485328437858222,\n",
      "                        -41.946566818042704],\n",
      "                       [-69.706624382018646,\n",
      "                        0.71523660781101717,\n",
      "                        -4.4766444136425824e-09,\n",
      "                        39.895902287601132,\n",
      "                        0.0010826963719713374,\n",
      "                        0.00010170820452131435,\n",
      "                        -59.827370849243295,\n",
      "                        0.11690019762628087,\n",
      "                        -48.784557710048375,\n",
      "                        -40.511023831169474],\n",
      "                       [-50.147378531933612,\n",
      "                        0.67100033334249554,\n",
      "                        -4.9605353834924169e-09,\n",
      "                        39.895975727167013,\n",
      "                        0.0010553912832054313,\n",
      "                        9.9919959709447915e-05,\n",
      "                        -59.445581761670198,\n",
      "                        0.12304828991910392,\n",
      "                        -52.267694764125622,\n",
      "                        -42.319208957993908],\n",
      "                       [-50.026845024226148,\n",
      "                        0.51616612329797895,\n",
      "                        -4.5941654931028997e-09,\n",
      "                        39.895902287601132,\n",
      "                        0.0010598826460030749,\n",
      "                        9.7204830065817865e-05,\n",
      "                        -59.827370849243295,\n",
      "                        0.12443296370394134,\n",
      "                        -50.385216235787389,\n",
      "                        -40.528751573746547],\n",
      "                       [-52.369668415692928,\n",
      "                        0.59015873382729023,\n",
      "                        -4.4766444136425824e-09,\n",
      "                        36.268496802703098,\n",
      "                        0.0010487324235906074,\n",
      "                        9.9404820528285141e-05,\n",
      "                        -59.827370849243295,\n",
      "                        0.12443296370394134,\n",
      "                        -53.103472564997418,\n",
      "                        -41.713720013984513],\n",
      "                       [-50.147378531933612,\n",
      "                        0.67106172489372051,\n",
      "                        -4.4468561264888218e-09,\n",
      "                        39.682749681086257,\n",
      "                        0.0010760123108299246,\n",
      "                        9.95192868784917e-05,\n",
      "                        -59.740622423066441,\n",
      "                        0.12468782337941091,\n",
      "                        -55.766530048823299,\n",
      "                        -43.759820447532448],\n",
      "                       [-69.041874390554099,\n",
      "                        0.13183369491281444,\n",
      "                        -4.9624329081695119e-09,\n",
      "                        34.719774630560337,\n",
      "                        0.00085313184323467395,\n",
      "                        9.2996188260891958e-05,\n",
      "                        -59.490175900787492,\n",
      "                        0.13375074004282989,\n",
      "                        -51.071002208908951,\n",
      "                        -46.841215825421131],\n",
      "                       [-50.076368189043542,\n",
      "                        0.55526367280566369,\n",
      "                        -2.7938024979203558e-09,\n",
      "                        38.382624061664671,\n",
      "                        0.0010190685418462924,\n",
      "                        0.00010065371940703248,\n",
      "                        -59.472027693551269,\n",
      "                        0.06537236539568797,\n",
      "                        -51.485328437858222,\n",
      "                        -41.946566818042704]],\n",
      "               'td_py': ['vr',\n",
      "                         'a',\n",
      "                         'b',\n",
      "                         'vpeak',\n",
      "                         'k',\n",
      "                         'C',\n",
      "                         'c',\n",
      "                         'd',\n",
      "                         'v0',\n",
      "                         'vt']}}\n"
     ]
    }
   ],
   "source": [
    "\n",
    "import pprint\n",
    "pprint.pprint(pipe_results)"
   ]
  },
  {
   "cell_type": "code",
   "execution_count": null,
   "metadata": {},
   "outputs": [],
   "source": []
  },
  {
   "cell_type": "code",
   "execution_count": 4,
   "metadata": {},
   "outputs": [],
   "source": [
    "import pandas as pd\n",
    "cell_names = list(pipe_results.keys())\n",
    "param_names = list(pipe_results[list(pipe_results.keys())[0]]['pop'][0].dtc.attrs.keys())\n",
    "df = pd.DataFrame(index=pipe_results.keys(),columns=param_names)"
   ]
  },
  {
   "cell_type": "code",
   "execution_count": null,
   "metadata": {},
   "outputs": [],
   "source": []
  },
  {
   "cell_type": "code",
   "execution_count": 5,
   "metadata": {},
   "outputs": [
    {
     "data": {
      "text/html": [
       "<div>\n",
       "<table border=\"1\" class=\"dataframe\">\n",
       "  <thead>\n",
       "    <tr style=\"text-align: right;\">\n",
       "      <th></th>\n",
       "      <th>0</th>\n",
       "      <th>1</th>\n",
       "      <th>2</th>\n",
       "      <th>3</th>\n",
       "      <th>4</th>\n",
       "      <th>5</th>\n",
       "      <th>6</th>\n",
       "    </tr>\n",
       "  </thead>\n",
       "  <tbody>\n",
       "    <tr>\n",
       "      <th>0</th>\n",
       "      <td>0.640913</td>\n",
       "      <td>0.999048</td>\n",
       "      <td>0.942265</td>\n",
       "      <td>0.944181</td>\n",
       "      <td>0.677803</td>\n",
       "      <td>0.854345</td>\n",
       "      <td>0.481897</td>\n",
       "    </tr>\n",
       "    <tr>\n",
       "      <th>0</th>\n",
       "      <td>0.029110</td>\n",
       "      <td>0.508519</td>\n",
       "      <td>0.932727</td>\n",
       "      <td>0.515712</td>\n",
       "      <td>0.176675</td>\n",
       "      <td>0.785097</td>\n",
       "      <td>0.757380</td>\n",
       "    </tr>\n",
       "  </tbody>\n",
       "</table>\n",
       "</div>"
      ],
      "text/plain": [
       "          0         1         2         3         4         5         6\n",
       "0  0.640913  0.999048  0.942265  0.944181  0.677803  0.854345  0.481897\n",
       "0  0.029110  0.508519  0.932727  0.515712  0.176675  0.785097  0.757380"
      ]
     },
     "execution_count": 5,
     "metadata": {},
     "output_type": "execute_result"
    }
   ],
   "source": [
    "import pandas as pd\n",
    "for index, val in enumerate(pipe_results.values()):\n",
    "    if index == 0:\n",
    "        sci = pd.DataFrame(list(val['pop'][0].dtc.scores.values())).T\n",
    "    else:    \n",
    "        sci = sci.append(pd.DataFrame(list(val['pop'][0].dtc.scores.values())).T)\n",
    "        \n",
    "sci"
   ]
  },
  {
   "cell_type": "code",
   "execution_count": 6,
   "metadata": {},
   "outputs": [
    {
     "data": {
      "text/html": [
       "<div>\n",
       "<table border=\"1\" class=\"dataframe\">\n",
       "  <thead>\n",
       "    <tr style=\"text-align: right;\">\n",
       "      <th></th>\n",
       "      <th>vr</th>\n",
       "      <th>a</th>\n",
       "      <th>b</th>\n",
       "      <th>vpeak</th>\n",
       "      <th>k</th>\n",
       "      <th>C</th>\n",
       "      <th>c</th>\n",
       "      <th>d</th>\n",
       "      <th>v0</th>\n",
       "      <th>vt</th>\n",
       "    </tr>\n",
       "  </thead>\n",
       "  <tbody>\n",
       "    <tr>\n",
       "      <th>0</th>\n",
       "      <td>-51.433282</td>\n",
       "      <td>0.671062</td>\n",
       "      <td>-4.476644e-09</td>\n",
       "      <td>34.676729</td>\n",
       "      <td>0.000879</td>\n",
       "      <td>0.000100</td>\n",
       "      <td>-59.869110</td>\n",
       "      <td>0.124433</td>\n",
       "      <td>-47.314564</td>\n",
       "      <td>-41.909264</td>\n",
       "    </tr>\n",
       "    <tr>\n",
       "      <th>0</th>\n",
       "      <td>-69.706624</td>\n",
       "      <td>0.715175</td>\n",
       "      <td>-4.476644e-09</td>\n",
       "      <td>39.895902</td>\n",
       "      <td>0.001000</td>\n",
       "      <td>0.000102</td>\n",
       "      <td>-59.827371</td>\n",
       "      <td>0.124433</td>\n",
       "      <td>-50.947737</td>\n",
       "      <td>-41.713720</td>\n",
       "    </tr>\n",
       "  </tbody>\n",
       "</table>\n",
       "</div>"
      ],
      "text/plain": [
       "          vr         a             b      vpeak         k         C  \\\n",
       "0 -51.433282  0.671062 -4.476644e-09  34.676729  0.000879  0.000100   \n",
       "0 -69.706624  0.715175 -4.476644e-09  39.895902  0.001000  0.000102   \n",
       "\n",
       "           c         d         v0         vt  \n",
       "0 -59.869110  0.124433 -47.314564 -41.909264  \n",
       "0 -59.827371  0.124433 -50.947737 -41.713720  "
      ]
     },
     "execution_count": 6,
     "metadata": {},
     "output_type": "execute_result"
    }
   ],
   "source": [
    "import pandas as pd\n",
    "for index, val in enumerate(pipe_results.values()):\n",
    "    if index == 0:\n",
    "        attrs = pd.DataFrame(list(val['pop'][0].dtc.attrs.values())).T\n",
    "    else:    \n",
    "        attrs = attrs.append(pd.DataFrame(list(val['pop'][0].dtc.attrs.values())).T)\n",
    "        \n",
    "attrs.columns = val['pop'][0].dtc.attrs.keys()    \n",
    "#print(attrs)\n",
    "attrs"
   ]
  },
  {
   "cell_type": "code",
   "execution_count": 7,
   "metadata": {},
   "outputs": [
    {
     "data": {
      "text/html": [
       "<div>\n",
       "<table border=\"1\" class=\"dataframe\">\n",
       "  <thead>\n",
       "    <tr style=\"text-align: right;\">\n",
       "      <th></th>\n",
       "      <th>0</th>\n",
       "      <th>1</th>\n",
       "      <th>2</th>\n",
       "      <th>3</th>\n",
       "      <th>4</th>\n",
       "      <th>5</th>\n",
       "      <th>6</th>\n",
       "      <th>7</th>\n",
       "      <th>8</th>\n",
       "      <th>9</th>\n",
       "      <th>10</th>\n",
       "      <th>11</th>\n",
       "      <th>12</th>\n",
       "      <th>13</th>\n",
       "    </tr>\n",
       "  </thead>\n",
       "  <tbody>\n",
       "    <tr>\n",
       "      <th>value</th>\n",
       "      <td>20.833333333333332 pA</td>\n",
       "      <td>113.60677083333333 pA</td>\n",
       "      <td>99.609375 pA</td>\n",
       "      <td>42.31770833333333 pA</td>\n",
       "      <td>20.833333333333332 pA</td>\n",
       "      <td>101.5625 pA</td>\n",
       "      <td>101.5625 pA</td>\n",
       "      <td>20.833333333333332 pA</td>\n",
       "      <td>113.60677083333333 pA</td>\n",
       "      <td>111.328125 pA</td>\n",
       "      <td>66.40625 pA</td>\n",
       "      <td>9.114583333333332 pA</td>\n",
       "      <td>128.09244791666666 pA</td>\n",
       "      <td>113.60677083333333 pA</td>\n",
       "    </tr>\n",
       "    <tr>\n",
       "      <th>value</th>\n",
       "      <td>196.61458333333331 pA</td>\n",
       "      <td>11.067708333333332 pA</td>\n",
       "      <td>18.717447916666664 pA</td>\n",
       "      <td>18.717447916666664 pA</td>\n",
       "      <td>11.067708333333332 pA</td>\n",
       "      <td>111.328125 pA</td>\n",
       "      <td>17.578125 pA</td>\n",
       "      <td>231.77083333333331 pA</td>\n",
       "      <td>16.927083333333332 pA</td>\n",
       "      <td>24.739583333333332 pA</td>\n",
       "      <td>30.110677083333332 pA</td>\n",
       "      <td>11.71875 pA</td>\n",
       "      <td>105.63151041666666 pA</td>\n",
       "      <td>17.578125 pA</td>\n",
       "    </tr>\n",
       "  </tbody>\n",
       "</table>\n",
       "</div>"
      ],
      "text/plain": [
       "                          0                      1                      2   \\\n",
       "value  20.833333333333332 pA  113.60677083333333 pA           99.609375 pA   \n",
       "value  196.61458333333331 pA  11.067708333333332 pA  18.717447916666664 pA   \n",
       "\n",
       "                          3                      4              5   \\\n",
       "value   42.31770833333333 pA  20.833333333333332 pA    101.5625 pA   \n",
       "value  18.717447916666664 pA  11.067708333333332 pA  111.328125 pA   \n",
       "\n",
       "                 6                      7                      8   \\\n",
       "value   101.5625 pA  20.833333333333332 pA  113.60677083333333 pA   \n",
       "value  17.578125 pA  231.77083333333331 pA  16.927083333333332 pA   \n",
       "\n",
       "                          9                      10                    11  \\\n",
       "value          111.328125 pA            66.40625 pA  9.114583333333332 pA   \n",
       "value  24.739583333333332 pA  30.110677083333332 pA           11.71875 pA   \n",
       "\n",
       "                          12                     13  \n",
       "value  128.09244791666666 pA  113.60677083333333 pA  \n",
       "value  105.63151041666666 pA           17.578125 pA  "
      ]
     },
     "execution_count": 7,
     "metadata": {},
     "output_type": "execute_result"
    }
   ],
   "source": [
    "import pandas as pd\n",
    "\n",
    "\n",
    "for index, val in enumerate(pipe_results.values()):\n",
    "    if index == 0:\n",
    "        #,columns=['Dice number','value'],index=[1,2,3,4])\n",
    "        rheobase = pd.DataFrame([i.dtc.rheobase for i in val['pop']]).T\n",
    "    else:    \n",
    "        rheobase = rheobase.append(pd.DataFrame([i.dtc.rheobase for i in val['pop']]).T)\n",
    "        \n",
    "rheobase\n",
    "\n",
    "names = [ str('generation: ')+str(i) for i in range(0,len(rheobase)) ]\n",
    "\n",
    "rheobase\n"
   ]
  },
  {
   "cell_type": "code",
   "execution_count": 8,
   "metadata": {
    "scrolled": false
   },
   "outputs": [],
   "source": [
    "import matplotlib\n",
    "%matplotlib inline\n"
   ]
  },
  {
   "cell_type": "markdown",
   "metadata": {},
   "source": [
    "################\n",
    "# GA parameters:\n",
    "about $10^{3}=30$ models will be made, excluding rheobase search.\n",
    "################\n",
    "\n",
    "\n",
    "# Choice of selection criteria is important. \n",
    "Here we use BluepyOpts IBEA, such that it can be compared to NSGA2.\n",
    "\n",
    "https://link.springer.com/article/10.1007/s00500-005-0027-5\n",
    "\n",
    "\n"
   ]
  },
  {
   "cell_type": "code",
   "execution_count": 9,
   "metadata": {},
   "outputs": [],
   "source": [
    "MU = 6; NGEN = 6; CXPB = 0.9\n",
    "USE_CACHED_GA = False"
   ]
  },
  {
   "cell_type": "markdown",
   "metadata": {},
   "source": [
    "################\n",
    "# Grid search parameters:\n",
    "$ 2^{10}=1024 $ models, will be made excluding rheobase search\n",
    "################"
   ]
  },
  {
   "cell_type": "markdown",
   "metadata": {},
   "source": [
    "An oppurtunity to improve grid search, by increasing resolution of search intervals given a first pass:"
   ]
  },
  {
   "cell_type": "code",
   "execution_count": 10,
   "metadata": {},
   "outputs": [],
   "source": [
    "from neuronunit.plottools import plot_surface\n"
   ]
  },
  {
   "cell_type": "markdown",
   "metadata": {},
   "source": [
    "# Below two error surface slices from the hypervolume are plotted.\n",
    "The data that is plotted consists of the error as experienced by the GA.\n",
    "Note: the GA performs an incomplete, and efficient sampling of the parameter space, and therefore sample points are irregularly spaced. Polygon interpolation is used to visualize error gradients. Existing plotting code from the package BluePyOpt has been extended for this purpose.\n",
    "Light blue dots indicate local minima's of error experienced by the NSGA algrorithm."
   ]
  },
  {
   "cell_type": "code",
   "execution_count": 11,
   "metadata": {},
   "outputs": [
    {
     "data": {
      "text/plain": [
       "<Figure size 432x288 with 0 Axes>"
      ]
     },
     "metadata": {},
     "output_type": "display_data"
    },
    {
     "data": {
      "image/png": "[encoded data removed]",
      "text/plain": [
       "<Figure size 720x360 with 2 Axes>"
      ]
     },
     "metadata": {},
     "output_type": "display_data"
    },
    {
     "data": {
      "text/plain": [
       "<Figure size 432x288 with 0 Axes>"
      ]
     },
     "metadata": {},
     "output_type": "display_data"
    },
    {
     "data": {
      "image/png": "[encoded data removed]",
      "text/plain": [
       "<Figure size 720x360 with 2 Axes>"
      ]
     },
     "metadata": {},
     "output_type": "display_data"
    }
   ],
   "source": [
    "for index, val in enumerate(pipe_results.values()):\n",
    "    td = val['td_py']\n",
    "    history = val['history']\n",
    "\n",
    "    plot_surface('a','b',td,history)"
   ]
  },
  {
   "cell_type": "code",
   "execution_count": 12,
   "metadata": {},
   "outputs": [
    {
     "data": {
      "text/plain": [
       "<Figure size 432x288 with 0 Axes>"
      ]
     },
     "metadata": {},
     "output_type": "display_data"
    },
    {
     "data": {
      "image/png": "[encoded data removed]",
      "text/plain": [
       "<Figure size 720x360 with 2 Axes>"
      ]
     },
     "metadata": {},
     "output_type": "display_data"
    },
    {
     "data": {
      "text/plain": [
       "<Figure size 432x288 with 0 Axes>"
      ]
     },
     "metadata": {},
     "output_type": "display_data"
    },
    {
     "data": {
      "image/png": "[encoded data removed]",
      "text/plain": [
       "<Figure size 720x360 with 2 Axes>"
      ]
     },
     "metadata": {},
     "output_type": "display_data"
    }
   ],
   "source": [
    "\n",
    "for index, val in enumerate(pipe_results.values()):\n",
    "    td = val['td_py']\n",
    "    history = val['history']\n",
    "\n",
    "    plot_surface('v0','vt',td,history)\n",
    "    "
   ]
  },
  {
   "cell_type": "code",
   "execution_count": 13,
   "metadata": {},
   "outputs": [
    {
     "data": {
      "text/plain": [
       "['100201', 'nifext_50']"
      ]
     },
     "execution_count": 13,
     "metadata": {},
     "output_type": "execute_result"
    }
   ],
   "source": [
    "list(pipe_results.keys())"
   ]
  },
  {
   "cell_type": "code",
   "execution_count": 14,
   "metadata": {},
   "outputs": [
    {
     "name": "stdout",
     "output_type": "stream",
     "text": [
      "NEURON\n",
      "NEURON\n",
      "NEURON\n",
      "NEURON\n",
      "dict_keys(['100201', 'nifext_50'])\n",
      "[<neuronunit.optimization.data_transport_container.DataTC object at 0x7ff886c3c2b0>, <neuronunit.optimization.data_transport_container.DataTC object at 0x7ff886c3c2b0>, <neuronunit.optimization.data_transport_container.DataTC object at 0x7ff886aa5320>, <neuronunit.optimization.data_transport_container.DataTC object at 0x7ff886aa54a8>]\n",
      "[0, 1, 2, 3]\n",
      "[0, 1, 2, 3]\n"
     ]
    },
    {
     "name": "stderr",
     "output_type": "stream",
     "text": [
      "/opt/conda/lib/python3.6/site-packages/numpy/core/fromnumeric.py:2889: RuntimeWarning: Mean of empty slice.\n",
      "  out=out, **kwargs)\n",
      "/opt/conda/lib/python3.6/site-packages/numpy/core/_methods.py:80: RuntimeWarning: invalid value encountered in double_scalars\n",
      "  ret = ret.dtype.type(ret / rcount)\n"
     ]
    },
    {
     "data": {
      "image/png": "[encoded data removed]",
      "text/plain": [
       "<Figure size 720x720 with 1 Axes>"
      ]
     },
     "metadata": {},
     "output_type": "display_data"
    }
   ],
   "source": [
    "\n",
    "#print([f.scores for f in pipe_results['100201']['gen_vs_hof'][2:-1] ])\n",
    "dtcs = list(filter(lambda d: hasattr(d,'dtc'), pipe_results['100201']['gen_vs_hof']))\n",
    "dtcs = [d.dtc for d in dtcs ]\n",
    "for d in dtcs:\n",
    "    print(d.backend)\n",
    "\n",
    "print(pipe_results.keys())\n",
    "\n",
    "scores = list(filter(lambda dtc: hasattr(dtc,'score'), dtcs))\n",
    "\n",
    "print(scores)\n",
    "import pickle\n",
    "with open('dump_all_cells','rb') as f:\n",
    "   pipe_results = pickle.load(f)\n",
    "%matplotlib inline\n",
    "import matplotlib.pyplot as plt\n",
    "import numpy as np\n",
    "\n",
    "plt.style.use('ggplot')\n",
    "fig, axes = plt.subplots(figsize=(10, 10), facecolor='white')\n",
    "\n",
    "for index, val in enumerate(pipe_results.values()):\n",
    "    log = val['log']\n",
    "    gen_numbers = [ i for i in range(0,len(log.select('gen'))) ]\n",
    "    print(gen_numbers)\n",
    "    hof = val['hof_py']\n",
    "    mean = np.array([ np.sqrt(np.mean(np.square(i))) for i in log.select('avg')])\n",
    "    std = np.array([ np.sqrt(np.mean(np.square(i))) for i in log.select('std')])\n",
    "    minimum = np.array([ np.sqrt(np.mean(np.square(i))) for i in log.select('min')])\n",
    "    best_line = np.array([ np.sqrt(np.mean(np.square(list(p.fitness.values))))  for p in hof])\n",
    "    blg = [ best_line[h] for i, h in enumerate(gen_numbers) ]\n",
    "\n",
    "    stdminus = mean - std\n",
    "    stdplus = mean + std\n",
    "\n",
    "    axes.plot(\n",
    "        gen_numbers,\n",
    "        minimum,\n",
    "        color='black',\n",
    "        linewidth=2,\n",
    "        label='population average')\n",
    "    axes.fill_between(gen_numbers, stdminus, stdplus)\n",
    "    \n",
    "   "
   ]
  },
  {
   "cell_type": "code",
   "execution_count": 15,
   "metadata": {},
   "outputs": [
    {
     "name": "stdout",
     "output_type": "stream",
     "text": [
      "[<deap.tools.support.HallOfFame object at 0x7ff87ef2c780>, [-71.640893897189969, 0.80082488140568486, -3.0905634525584651e-09, 32.550690257394216, 0.0010114850170607945, 9.898982624526582e-05, -56.742035136386185, 0.16830850267032699, -72.184212396772949, -49.433050469559873], [-71.640893897189969, 0.80082488140568486, -3.0905634525584651e-09, 32.550690257394216, 0.0010114850170607945, 9.898982624526582e-05, -56.742035136386185, 0.16830850267032699, -72.184212396772949, -49.433050469559873], [-69.148967338864836, 0.60660077747244456, -4.4530474066557786e-09, 34.596034657377338, 0.00094083269921381939, 9.0429798626807885e-05, -55.812110121687134, 0.12894118574351265, -56.711548029281914, -45.520971457838755], [-74.3751976264235, 0.22058652453120517, -2.6205180496579908e-09, 33.357207377581076, 0.00079678153579057238, 9.8442336433770915e-05, -59.312676205926792, 0.11394505765075069, -61.863372190482835, -41.28553495863094]]\n",
      "[<deap.tools.support.HallOfFame object at 0x7ff87ed29ba8>, [-71.640893897189969, 0.80082488140568486, -3.0905634525584651e-09, 32.550690257394216, 0.0010114850170607945, 9.898982624526582e-05, -56.742035136386185, 0.16830850267032699, -72.184212396772949, -49.433050469559873], [-71.640893897189969, 0.80082488140568486, -3.0905634525584651e-09, 32.550690257394216, 0.0010114850170607945, 9.898982624526582e-05, -56.742035136386185, 0.16830850267032699, -72.184212396772949, -49.433050469559873], [-69.242084850459023, 0.64565337754508623, -3.0784717473138018e-09, 30.110499527996417, 0.0010114850170607945, 9.8206884330233202e-05, -57.953386002992886, 0.16597902889102167, -74.097641515891809, -49.433050469559873], [-69.172888743560691, 0.21816888175623014, -4.4530474066557786e-09, 34.596034657377338, 0.00097249469359721034, 9.0429798626807885e-05, -55.812110121687134, 0.13378827143482622, -55.731169112026635, -47.078867666229399]]\n"
     ]
    }
   ],
   "source": [
    "for index, val in enumerate(pipe_results.values()):\n",
    "    '''\n",
    "    log = val['log']\n",
    "    gen_numbers =[ i for i in range(0,len(log.select('gen'))) ]\n",
    "    hof = val['hof_py']\n",
    "    mean = np.array([ np.sqrt(np.mean(np.square(i))) for i in log.select('avg')])\n",
    "    std = np.array([ np.sqrt(np.mean(np.square(i))) for i in log.select('std')])\n",
    "    minimum = np.array([ np.sqrt(np.mean(np.square(i))) for i in log.select('min')])\n",
    "    best_line = np.array([ np.sqrt(np.mean(np.square(list(p.fitness.values))))  for p in hof])\n",
    "    blg = [ best_line[h] for i, h in enumerate(gen_numbers) ]\n",
    "\n",
    "    '''\n",
    "    print(val['gen_vs_hof'])"
   ]
  },
  {
   "cell_type": "code",
   "execution_count": 16,
   "metadata": {},
   "outputs": [],
   "source": [
    "\n",
    "    \n",
    "    #axes.plot([i for i in range(0,len(gvh))], gvh,'y--', linewidth=2,  label='grid search error')\n",
    "    #axes.plot(gen_numbers, bl, 'go', linewidth=2, label='hall of fame error')\n",
    "\n",
    "    #axes.plot(gen_numbers, stdminus, label='std variation lower limit')\n",
    "    #axes.plot(gen_numbers, stdplus, label='std variation upper limit')\n",
    "\n",
    "    #axes.set_xlim(np.min(gen_numbers) - 1, np.max(gen_numbers) + 1)\n",
    "    #axes.set_xlabel('Generations')\n",
    "    #axes.set_ylabel('Sum of objectives')\n",
    "    #axes.legend()\n",
    "    #fig.tight_layout()\n",
    "    #fig.show()\n"
   ]
  },
  {
   "cell_type": "markdown",
   "metadata": {},
   "source": [
    "# Comment on plot\n",
    "The plot shows the mean error value of the population as the GA evolves it's population. The red interval at any instant is the standard deviation of the error. The fact that the mean GA error is able to have a net upwards trajectory, after experiencing a temporary downwards trajectory, demonstrates that the GA retains a drive to explore, and is resiliant against being stuck in a local minima. Also in the above plot population variance in error stays remarkably constant, in this way BluePyOpts selection criteria SELIBEA contrasts with DEAPs native selection strategy NSGA2"
   ]
  },
  {
   "cell_type": "code",
   "execution_count": null,
   "metadata": {},
   "outputs": [],
   "source": []
  },
  {
   "cell_type": "code",
   "execution_count": 17,
   "metadata": {},
   "outputs": [
    {
     "ename": "NameError",
     "evalue": "name 'dtcpopg' is not defined",
     "output_type": "error",
     "traceback": [
      "\u001b[0;31m---------------------------------------------------------------------------\u001b[0m",
      "\u001b[0;31mNameError\u001b[0m                                 Traceback (most recent call last)",
      "\u001b[0;32m<ipython-input-17-aafd002886ad>\u001b[0m in \u001b[0;36m<module>\u001b[0;34m()\u001b[0m\n\u001b[0;32m----> 1\u001b[0;31m \u001b[0mdtcpopg\u001b[0m \u001b[0;34m=\u001b[0m \u001b[0;34m[\u001b[0m \u001b[0mdtc\u001b[0m \u001b[0;32mfor\u001b[0m \u001b[0mdtc\u001b[0m \u001b[0;32min\u001b[0m \u001b[0mdtcpopg\u001b[0m \u001b[0;32mif\u001b[0m \u001b[0;32mnot\u001b[0m \u001b[0;32mNone\u001b[0m \u001b[0;32min\u001b[0m \u001b[0;34m(\u001b[0m\u001b[0mdtc\u001b[0m\u001b[0;34m.\u001b[0m\u001b[0mscores\u001b[0m\u001b[0;34m.\u001b[0m\u001b[0mvalues\u001b[0m\u001b[0;34m(\u001b[0m\u001b[0;34m)\u001b[0m\u001b[0;34m)\u001b[0m \u001b[0;34m]\u001b[0m\u001b[0;34m\u001b[0m\u001b[0m\n\u001b[0m\u001b[1;32m      2\u001b[0m \u001b[0mdtcpopg\u001b[0m \u001b[0;34m=\u001b[0m \u001b[0;34m[\u001b[0m \u001b[0;34m(\u001b[0m\u001b[0mdtc\u001b[0m\u001b[0;34m,\u001b[0m\u001b[0msum\u001b[0m\u001b[0;34m(\u001b[0m\u001b[0mlist\u001b[0m\u001b[0;34m(\u001b[0m\u001b[0mdtc\u001b[0m\u001b[0;34m.\u001b[0m\u001b[0mscores\u001b[0m\u001b[0;34m.\u001b[0m\u001b[0mvalues\u001b[0m\u001b[0;34m(\u001b[0m\u001b[0;34m)\u001b[0m\u001b[0;34m)\u001b[0m\u001b[0;34m)\u001b[0m\u001b[0;34m)\u001b[0m \u001b[0;32mfor\u001b[0m \u001b[0mdtc\u001b[0m \u001b[0;32min\u001b[0m \u001b[0mdtcpopg\u001b[0m \u001b[0;34m]\u001b[0m\u001b[0;34m\u001b[0m\u001b[0m\n\u001b[1;32m      3\u001b[0m \u001b[0;34m\u001b[0m\u001b[0m\n\u001b[1;32m      4\u001b[0m \u001b[0;34m\u001b[0m\u001b[0m\n\u001b[1;32m      5\u001b[0m \u001b[0msorted_grid\u001b[0m \u001b[0;34m=\u001b[0m \u001b[0msorted\u001b[0m\u001b[0;34m(\u001b[0m\u001b[0mdtcpopg\u001b[0m\u001b[0;34m,\u001b[0m\u001b[0mkey\u001b[0m\u001b[0;34m=\u001b[0m\u001b[0;32mlambda\u001b[0m \u001b[0mx\u001b[0m\u001b[0;34m:\u001b[0m\u001b[0mx\u001b[0m\u001b[0;34m[\u001b[0m\u001b[0;36m1\u001b[0m\u001b[0;34m]\u001b[0m\u001b[0;34m)\u001b[0m\u001b[0;34m\u001b[0m\u001b[0m\n",
      "\u001b[0;31mNameError\u001b[0m: name 'dtcpopg' is not defined"
     ]
    }
   ],
   "source": [
    "dtcpopg = [ dtc for dtc in dtcpopg if not None in (dtc.scores.values()) ]\n",
    "dtcpopg = [ (dtc,sum(list(dtc.scores.values()))) for dtc in dtcpopg ]\n",
    "\n",
    "\n",
    "sorted_grid = sorted(dtcpopg,key=lambda x:x[1])\n",
    "sorted_grid = [dtc[0] for dtc in sorted_grid]\n",
    "#print(sorted_grid)\n",
    "mini = dtcpopg[0][1]\n",
    "maxi = dtcpopg[-1][1]\n",
    "minimagr = sorted_grid[0]\n",
    "minimagr_dtc = sorted_grid[0]\n",
    "minimagr_dtc_1 = sorted_grid[1]\n",
    "minimagr_dtc_2 = sorted_grid[2]\n",
    "from neuronunit.optimization.exhaustive_search import create_refined_grid\n",
    "refined_grid = create_refined_grid(minimagr_dtc, minimagr_dtc_1,minimagr_dtc_2)\n"
   ]
  },
  {
   "cell_type": "code",
   "execution_count": null,
   "metadata": {},
   "outputs": [],
   "source": [
    "print(td)\n",
    "def pop2dtc(pop1,DO,td):\n",
    "    '''\n",
    "    This function takes the DEAP population data type, and converts it to a more convenient\n",
    "    data transport object, which can more readily be used in plotting functions.\n",
    "    This a wasteful, recompute, which is in part necessitated because\n",
    "    deaps pareto front object, only returns gene individual objects (elements of population)\n",
    "    '''\n",
    "    from neuronunit.optimization import nsga_parallel\n",
    "    DO.td = td\n",
    "    assert DO.td == td\n",
    "    return_package = nsga_parallel.update_pop(pop1,td);\n",
    "    dtc_pop = []\n",
    "    for i,r in enumerate(return_package):\n",
    "        dtc_pop.append(r[0])\n",
    "        dtc_pop[i].error = None\n",
    "        dtc_pop[i].error = np.sqrt(np.mean(np.square(list(pop1[i].fitness.values))))\n",
    "    sorted_list  = sorted([(dtc,dtc.error) for dtc in dtc_pop],key=lambda x:x[1])\n",
    "    dtc_pop = [dtc[0] for dtc in sorted_list]\n",
    "    print(dtc_pop,sorted_list)\n",
    "    return dtc_pop\n",
    "\n",
    "DO.td = td\n",
    "print(hof[0])\n",
    "print(len(hof))\n",
    "dtc_pop = pop2dtc(hof[0:-1],DO,td)\n",
    "\n",
    "miniga = dtc_pop[0].error\n",
    "maxiga = dtc_pop[-1].error\n",
    "maximaga = dtc_pop[-1]\n",
    "minimaga = dtc_pop[0]\n",
    "\n",
    "CACHE_PF = False"
   ]
  },
  {
   "cell_type": "code",
   "execution_count": null,
   "metadata": {},
   "outputs": [],
   "source": [
    "\n",
    "if CACHE_PF == False:\n",
    "    h = list(history.genealogy_history.values())\n",
    "    evaluated_history = []\n",
    "    for i in h:\n",
    "        if hasattr(i,'rheobase'):\n",
    "            i.error = None\n",
    "            i.error = np.sqrt(np.mean(np.square(list(i.fitness.values))))\n",
    "            evaluated_history.append(i)\n",
    "    sorted_list  = sorted([(i,i.error) for i in evaluated_history ],key=lambda x:x[1])\n",
    "\n",
    "    with open('pf_dump.p','wb') as f:\n",
    "       pickle.dump([ sorted_list, evaluated_history ],f)\n",
    "else: \n",
    "     \n",
    "     unpack = pickle.load(open('pf_dump.p','rb'))\n",
    "     print(unpack)\n",
    "     sorted_list_pf = unpack[0]\n",
    "     pareto_dtc = unpack[1] \n",
    "\n",
    "minimaga_ind = sorted_list[0][0]\n",
    "maximaga_ind = sorted_list[-1][0]\n",
    "miniga = sorted_list[0][1]\n",
    "maxiga = sorted_list[-1][1]\n"
   ]
  },
  {
   "cell_type": "code",
   "execution_count": null,
   "metadata": {},
   "outputs": [],
   "source": [
    "import pandas as pd\n",
    "\n",
    "print(miniga)\n",
    "print(maxiga)\n",
    "print(minimaga_ind.fitness.values)\n",
    "print(maximaga_ind.fitness.values)\n",
    "print(len(minimaga_ind.fitness.values))\n",
    "print(dtcpopg[0][0].rheobase)\n",
    "print(dtcpopg[0][0].scores)\n",
    "print(sorted_list[-1][0].rheobase)\n",
    "print(sorted_list[-1][0].fitness.values)\n",
    "\n"
   ]
  },
  {
   "cell_type": "code",
   "execution_count": null,
   "metadata": {},
   "outputs": [],
   "source": [
    "def use_dtc_to_plotting(dtcpop,minimagr):\n",
    "    from neuronunit.capabilities import spike_functions\n",
    "    import matplotlib.pyplot as plt\n",
    "    import numpy as np\n",
    "    plt.clf()\n",
    "    plt.style.use('ggplot')\n",
    "    fig, axes = plt.subplots(figsize=(10, 10), facecolor='white')\n",
    "    stored_min = []\n",
    "    stored_max = []\n",
    "    for dtc in dtcpop[1:-1]:\n",
    "        plt.plot(dtc.tvec, dtc.vm0,linewidth=3.5, color='grey')\n",
    "        stored_min.append(np.min(dtc.vm0))\n",
    "        stored_max.append(np.max(dtc.vm0))\n",
    "        \n",
    "    from neuronunit.models.reduced import ReducedModel\n",
    "    from neuronunit.optimization.get_neab import tests as T\n",
    "    from neuronunit.optimization import get_neab\n",
    "    from neuronunit.optimization import evaluate_as_module\n",
    "    from neuronunit.optimization.evaluate_as_module import pre_format\n",
    "    model = ReducedModel(get_neab.LEMS_MODEL_PATH,name=str('vanilla'),backend='NEURON')\n",
    "    import neuron\n",
    "    model._backend.reset_neuron(neuron)\n",
    "    model.set_attrs(minimagr.attrs)\n",
    "    model.rheobase = minimagr.rheobase['value']\n",
    "    minimagr = pre_format(minimagr)\n",
    "    parameter_list = list(minimagr.vtest.values())\n",
    "    model.inject_square_current(parameter_list[0])\n",
    "    model._backend.local_run()\n",
    "    assert model.get_spike_count() == 1\n",
    "    print(model.get_spike_count(),bool(model.get_spike_count() == 1))\n",
    "    brute_best = list(model.results['vm'])\n",
    "\n",
    "    plt.plot(dtcpop[0].tvec, brute_best,linewidth=1, color='blue',label='best candidate via grid')#+str(mini.scores))\n",
    "    plt.plot(dtcpop[0].tvec,dtcpop[0].vm0,linewidth=1, color='red',label='best candidate via GA')#+str(miniga.scores))\n",
    "    plt.legend()\n",
    "    plt.ylabel('$V_{m}$ mV')\n",
    "    plt.xlabel('ms')\n",
    "    plt.show()\n",
    "from neuronunit import plottools\n",
    "from neuronunit.plottools import dtc_to_plotting\n",
    "\n",
    "CACHE_PLOTTING = False\n",
    "if CACHE_PLOTTING == False:\n",
    "    dtc_pop = dview.map_sync(dtc_to_plotting,dtc_pop )\n",
    "    with open('plotting_dump.p','wb') as f:\n",
    "       pickle.dump(dtc_pop,f)\n",
    "else: \n",
    "     dtc_pop  = pickle.load(open('plotting_dump.p','rb'))\n",
    "\n",
    "use_dtc_to_plotting(dtc_pop,minimagr_dtc)\n",
    "            "
   ]
  },
  {
   "cell_type": "markdown",
   "metadata": {},
   "source": [
    "# Comment on plot\n",
    "There is good agreement between traces produced by the best candidate found by Genetic Algorithm, and exhaustive grid search."
   ]
  },
  {
   "cell_type": "code",
   "execution_count": null,
   "metadata": {},
   "outputs": [],
   "source": [
    "import pandas as pd\n",
    "\n",
    "print(dtc_pop[0].scores)\n",
    "print(minimagr_dtc.scores)\n",
    "print(sum(list(dtc_pop[0].scores.values())))\n",
    "print(sum(list(minimagr_dtc.scores.values())))\n",
    "miniga = sum(list(dtc_pop[0].scores.values()))\n",
    "print(miniga)\n"
   ]
  },
  {
   "cell_type": "markdown",
   "metadata": {},
   "source": [
    "# Quantize distance between minimimum error and maximum error.\n",
    "This step will allow the GA's performance to be located within or below the range of error found by grid search.\n"
   ]
  },
  {
   "cell_type": "code",
   "execution_count": null,
   "metadata": {},
   "outputs": [],
   "source": [
    "print(maxi)\n",
    "print(mini)\n",
    "print(miniga)\n",
    "quantize_distance = list(np.linspace(mini,maxi,10))\n",
    "\n",
    "# check that the nsga error is in the bottom 1/5th of the entire error range.\n",
    "print('Report: ')\n",
    "print(\"Success\" if bool(miniga < quantize_distance[0]) else \"Failure\")\n",
    "print(\"The nsga error %f is in the bottom 1/5th of the entire error range\" % miniga)\n",
    "print(\"Minimum = %f; 20th percentile = %f; Maximum = %f\" % (mini,quantize_distance[0],maxi))"
   ]
  },
  {
   "cell_type": "markdown",
   "metadata": {},
   "source": [
    "The code below reports on the differences between between attributes of best models found via grid versus attributes of best models found via GA search:\n"
   ]
  },
  {
   "cell_type": "code",
   "execution_count": null,
   "metadata": {},
   "outputs": [],
   "source": [
    "import pandas as pd\n",
    "\n",
    "from neuronunit.optimization import evaluate_as_module as eam\n",
    "NSGAO = NSGA(0.85)\n",
    "NSGAO.setnparams(nparams=nparams,provided_keys=provided_keys)\n",
    "#td = eam.get_trans_dict(NSGAO.subset)\n",
    "#print(td)\n",
    "td = { v:k for k,v in enumerate(td) }\n",
    "from neuronunit.optimization import model_parameters as modelp\n",
    "mp = modelp.model_params\n",
    "#minimaga = pareto_dtc[0]\n",
    "for k,v in minimagr_dtc.attrs.items():\n",
    "    #hvgrid = np.linspace(np.min(mp[k]),np.max(mp[k]),10)\n",
    "    dimension_length = np.max(mp[k]) - np.min(mp[k])\n",
    "    solution_distance_in_1D = np.abs(float(hof[0][td[k]]))-np.abs(float(v))\n",
    "        \n",
    "    #solution_distance_in_1D = np.abs(float(minimaga.attrs[k]))-np.abs(float(v))\n",
    "    relative_distance = dimension_length/solution_distance_in_1D\n",
    "    print('the difference between brute force candidates model parameters and the GA\\'s model parameters:')\n",
    "    print(float(hof[0][td[k]])-float(v),hof[0][td[k]],v,k)\n",
    "    print('the relative distance scaled by the length of the parameter dimension of interest:')\n",
    "    print(relative_distance)\n",
    "\n",
    "    \n",
    "    "
   ]
  },
  {
   "cell_type": "code",
   "execution_count": null,
   "metadata": {},
   "outputs": [],
   "source": [
    "\n",
    "print('the difference between the bf error and the GA\\'s error:')\n",
    "print('grid search:')\n",
    "from numpy import square, mean, sqrt\n",
    "rmsg = sqrt(mean(square(list(minimagr_dtc.scores.values()))))\n",
    "print(rmsg)\n",
    "print('ga:')\n",
    "rmsga = sqrt(mean(square(list(dtc_pop[0].scores.values()))))\n",
    "print(rmsga)\n",
    "print('Hall of Fame front')\n",
    "print(sqrt(mean(square(list(hof[0].fitness.values)))))\n",
    "print(miniga)\n"
   ]
  },
  {
   "cell_type": "markdown",
   "metadata": {},
   "source": [
    "If any time is left over, may as well compute a more accurate grid, to better quantify GA performance in the future."
   ]
  },
  {
   "cell_type": "code",
   "execution_count": null,
   "metadata": {},
   "outputs": [],
   "source": []
  },
  {
   "cell_type": "code",
   "execution_count": null,
   "metadata": {},
   "outputs": [],
   "source": [
    "from neuronunit.optimization import get_neab\n",
    "#fi_basket = {'nlex_id':'NLXCELL:100201'}\n",
    "neuron = {'nlex_id': 'nifext_50'} \n",
    "\n",
    "error_criterion, inh_observations = get_neab.get_neuron_criteria(fi_basket)\n",
    "print(error_criterion)\n",
    "\n",
    "from bluepyopt.deapext.optimisations import DEAPOptimisation\n",
    "\n",
    "DO = DEAPOptimisation(error_criterion=error_criterion)\n",
    "DO.setnparams(nparams = nparams, provided_keys = provided_keys)\n",
    "pop, hof, log, history, td, gen_vs_hof = DO.run(offspring_size = MU, max_ngen = NGEN, cp_frequency=4,cp_filename='checkpointedGA.p')\n",
    "with open('ga_dump.p','wb') as f:\n",
    "   pickle.dump([pop, log, history, hof, td],f)"
   ]
  },
  {
   "cell_type": "code",
   "execution_count": null,
   "metadata": {},
   "outputs": [],
   "source": [
    "# Layer V pyramidal cell\n"
   ]
  },
  {
   "cell_type": "code",
   "execution_count": null,
   "metadata": {},
   "outputs": [],
   "source": []
  },
  {
   "cell_type": "code",
   "execution_count": null,
   "metadata": {},
   "outputs": [],
   "source": []
  },
  {
   "cell_type": "code",
   "execution_count": null,
   "metadata": {},
   "outputs": [],
   "source": []
  },
  {
   "cell_type": "code",
   "execution_count": null,
   "metadata": {},
   "outputs": [],
   "source": []
  },
  {
   "cell_type": "code",
   "execution_count": null,
   "metadata": {},
   "outputs": [],
   "source": []
  },
  {
   "cell_type": "code",
   "execution_count": null,
   "metadata": {},
   "outputs": [],
   "source": []
  },
  {
   "cell_type": "code",
   "execution_count": null,
   "metadata": {},
   "outputs": [],
   "source": []
  },
  {
   "cell_type": "code",
   "execution_count": null,
   "metadata": {},
   "outputs": [],
   "source": []
  },
  {
   "cell_type": "code",
   "execution_count": null,
   "metadata": {},
   "outputs": [],
   "source": []
  }
 ],
 "metadata": {
  "kernelspec": {
   "display_name": "Python 3",
   "language": "python",
   "name": "python3"
  },
  "language_info": {
   "codemirror_mode": {
    "name": "ipython",
    "version": 3
   },
   "file_extension": ".py",
   "mimetype": "text/x-python",
   "name": "python",
   "nbconvert_exporter": "python",
   "pygments_lexer": "ipython3",
   "version": "3.6.4"
  }
 },
 "nbformat": 4,
 "nbformat_minor": 2
}
