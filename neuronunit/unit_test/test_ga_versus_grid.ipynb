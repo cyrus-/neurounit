{
 "cells": [
  {
   "cell_type": "code",
   "execution_count": null,
   "metadata": {
    "collapsed": false
   },
   "outputs": [],
   "source": []
  },
  {
   "cell_type": "markdown",
   "metadata": {},
   "source": [
    "\n",
    "# Assumptions about this code:\n",
    "The NB was launched with a command that mounts two volumes inside a docker container. \n",
    "In the future invocation of this script will be simplified greatly. NU is from a specific fork and branch -b results https://github.com/russelljjarvis/neuronunit \n",
    "BluePyOpt is also from a specific fork and branch: -b elitism https://github.com/russelljjarvis/BluePyOpt\n",
    "\n",
    "Below BASH code for Ubuntu host:\n",
    "\n",
    "``` bash\n",
    "cd ~/git/neuronunit; sudo docker run -it -v `pwd`:/home/jovyan/neuronunit -v ~/git/BluePyOpt:/home/jovyan/BluePyOpt neuronunit-optimization /bin/bash'\n",
    "```\n",
    "# Bootstrap the ipython cluster via operating system shell utils:\n",
    "This notebook may need a kernel restart and run before it runs to completion for reasons that are unclear. Wait about 15 seconds between each kernel restart.\n",
    "\n",
    "Additionally to facilitate execution of this script, it may be necessary to navigate to ipython-clusters under the juptyer launchpad webpage and select an ipython cluster of any size using the drop down fields.\n"
   ]
  },
  {
   "cell_type": "code",
   "execution_count": 1,
   "metadata": {
    "collapsed": false
   },
   "outputs": [],
   "source": [
    "import os\n",
    "#os.system('jupyter trust test_ga_versus_grid.ipynb');\n",
    "os.system('ipcluster start -n 8 --profile=default & sleep 15 ; python stdout_worker.py &');\n",
    "\n"
   ]
  },
  {
   "cell_type": "code",
   "execution_count": 2,
   "metadata": {
    "collapsed": false,
    "scrolled": false
   },
   "outputs": [],
   "source": [
    "import matplotlib\n",
    "%matplotlib inline\n",
    "import ipyparallel as ipp\n",
    "rc = ipp.Client(profile='default')\n",
    "from ipyparallel import depend, require, dependent\n",
    "dview = rc[:]"
   ]
  },
  {
   "cell_type": "markdown",
   "metadata": {},
   "source": [
    "################\n",
    "# GA parameters:\n",
    "about 25*15=375 models will be made, excluding rheobase search.\n",
    "################\n",
    "\n",
    "\n",
    "# Choice of selection criteria is important. \n",
    "Here we use BluepyOpts IBEA, such that it can be compared to NSGA2.\n",
    "\n",
    "https://link.springer.com/article/10.1007/s00500-005-0027-5\n",
    "\n"
   ]
  },
  {
   "cell_type": "code",
   "execution_count": 3,
   "metadata": {
    "collapsed": false
   },
   "outputs": [],
   "source": [
    "MU = 15; NGEN = 50; CXPB = 0.9\n",
    "USE_CACHED_GA = False"
   ]
  },
  {
   "cell_type": "markdown",
   "metadata": {},
   "source": [
    "################\n",
    "# Grid search parameters:\n",
    "$ 2^{10}=1024 $ models, will be made excluding rheobase search\n",
    "################"
   ]
  },
  {
   "cell_type": "code",
   "execution_count": 4,
   "metadata": {
    "collapsed": true
   },
   "outputs": [],
   "source": [
    "npoints = 2\n",
    "nparams = 10\n",
    "from neuronunit.optimization.model_parameters import model_params\n",
    "provided_keys = list(model_params.keys())\n",
    "USE_CACHED_GS = False\n"
   ]
  },
  {
   "cell_type": "markdown",
   "metadata": {},
   "source": [
    "An oppurtunity to improve grid search, by increasing resolution of search intervals given a first pass:"
   ]
  },
  {
   "cell_type": "code",
   "execution_count": 5,
   "metadata": {
    "collapsed": true
   },
   "outputs": [],
   "source": [
    "REFINE_GRID = False"
   ]
  },
  {
   "cell_type": "code",
   "execution_count": 6,
   "metadata": {
    "collapsed": true
   },
   "outputs": [],
   "source": [
    "import pickle\n",
    "import numpy as np"
   ]
  },
  {
   "cell_type": "code",
   "execution_count": null,
   "metadata": {
    "collapsed": false
   },
   "outputs": [],
   "source": [
    "#from neuronunit.optimization.nsga_object import NSGA;\n",
    "#from neuronunit.optimization import exhaustive_search as es;\n",
    "#from neuronunit.optimization import evaluate_as_module as eam;\n"
   ]
  },
  {
   "cell_type": "code",
   "execution_count": null,
   "metadata": {
    "collapsed": false
   },
   "outputs": [
    {
     "name": "stderr",
     "output_type": "stream",
     "text": [
      "/home/jovyan/neuronunit/neuronunit/optimization/nsga_parallel.py:6: UserWarning: \n",
      "This call to matplotlib.use() has no effect because the backend has already\n",
      "been chosen; matplotlib.use() must be called *before* pylab, matplotlib.pyplot,\n",
      "or matplotlib.backends is imported for the first time.\n",
      "\n",
      "The backend was *originally* set to 'module://ipykernel.pylab.backend_inline' by the following code:\n",
      "  File \"/opt/conda/lib/python3.5/runpy.py\", line 184, in _run_module_as_main\n",
      "    \"__main__\", mod_spec)\n",
      "  File \"/opt/conda/lib/python3.5/runpy.py\", line 85, in _run_code\n",
      "    exec(code, run_globals)\n",
      "  File \"/opt/conda/lib/python3.5/site-packages/ipykernel_launcher.py\", line 16, in <module>\n",
      "    app.launch_new_instance()\n",
      "  File \"/opt/conda/lib/python3.5/site-packages/traitlets/config/application.py\", line 658, in launch_instance\n",
      "    app.start()\n",
      "  File \"/opt/conda/lib/python3.5/site-packages/ipykernel/kernelapp.py\", line 478, in start\n",
      "    self.io_loop.start()\n",
      "  File \"/opt/conda/lib/python3.5/site-packages/zmq/eventloop/ioloop.py\", line 177, in start\n",
      "    super(ZMQIOLoop, self).start()\n",
      "  File \"/opt/conda/lib/python3.5/site-packages/tornado/ioloop.py\", line 888, in start\n",
      "    handler_func(fd_obj, events)\n",
      "  File \"/opt/conda/lib/python3.5/site-packages/tornado/stack_context.py\", line 277, in null_wrapper\n",
      "    return fn(*args, **kwargs)\n",
      "  File \"/opt/conda/lib/python3.5/site-packages/zmq/eventloop/zmqstream.py\", line 440, in _handle_events\n",
      "    self._handle_recv()\n",
      "  File \"/opt/conda/lib/python3.5/site-packages/zmq/eventloop/zmqstream.py\", line 472, in _handle_recv\n",
      "    self._run_callback(callback, msg)\n",
      "  File \"/opt/conda/lib/python3.5/site-packages/zmq/eventloop/zmqstream.py\", line 414, in _run_callback\n",
      "    callback(*args, **kwargs)\n",
      "  File \"/opt/conda/lib/python3.5/site-packages/tornado/stack_context.py\", line 277, in null_wrapper\n",
      "    return fn(*args, **kwargs)\n",
      "  File \"/opt/conda/lib/python3.5/site-packages/ipykernel/kernelbase.py\", line 281, in dispatcher\n",
      "    return self.dispatch_shell(stream, msg)\n",
      "  File \"/opt/conda/lib/python3.5/site-packages/ipykernel/kernelbase.py\", line 232, in dispatch_shell\n",
      "    handler(stream, idents, msg)\n",
      "  File \"/opt/conda/lib/python3.5/site-packages/ipykernel/kernelbase.py\", line 397, in execute_request\n",
      "    user_expressions, allow_stdin)\n",
      "  File \"/opt/conda/lib/python3.5/site-packages/ipykernel/ipkernel.py\", line 208, in do_execute\n",
      "    res = shell.run_cell(code, store_history=store_history, silent=silent)\n",
      "  File \"/opt/conda/lib/python3.5/site-packages/ipykernel/zmqshell.py\", line 533, in run_cell\n",
      "    return super(ZMQInteractiveShell, self).run_cell(*args, **kwargs)\n",
      "  File \"/opt/conda/lib/python3.5/site-packages/IPython/core/interactiveshell.py\", line 2739, in run_cell\n",
      "    self.events.trigger('post_run_cell')\n",
      "  File \"/opt/conda/lib/python3.5/site-packages/IPython/core/events.py\", line 73, in trigger\n",
      "    func(*args, **kwargs)\n",
      "  File \"/opt/conda/lib/python3.5/site-packages/ipykernel/pylab/backend_inline.py\", line 160, in configure_once\n",
      "    activate_matplotlib(backend)\n",
      "  File \"/opt/conda/lib/python3.5/site-packages/IPython/core/pylabtools.py\", line 308, in activate_matplotlib\n",
      "    matplotlib.pyplot.switch_backend(backend)\n",
      "  File \"/opt/conda/lib/python3.5/site-packages/matplotlib/pyplot.py\", line 232, in switch_backend\n",
      "    matplotlib.use(newbackend, warn=False, force=True)\n",
      "  File \"/opt/conda/lib/python3.5/site-packages/matplotlib/__init__.py\", line 1305, in use\n",
      "    reload(sys.modules['matplotlib.backends'])\n",
      "  File \"/opt/conda/lib/python3.5/importlib/__init__.py\", line 166, in reload\n",
      "    _bootstrap._exec(spec, module)\n",
      "  File \"/opt/conda/lib/python3.5/site-packages/matplotlib/backends/__init__.py\", line 14, in <module>\n",
      "    line for line in traceback.format_stack()\n",
      "\n",
      "\n",
      "  matplotlib.use('agg')\n"
     ]
    },
    {
     "name": "stdout",
     "output_type": "stream",
     "text": [
      "Getting Rheobase cached data value for from AIBS dataset 354190013\n",
      "/home/jovyan/neuronunit/neuronunit/optimization/neuroelectro.pickle got here\n",
      "/home/jovyan/neuronunit/neuronunit/optimization\n",
      "attempting to recover from pickled file\n",
      "/home/jovyan/neuronunit/neuronunit/models/__init__.py\n",
      "['a', 'k', 'vt', 'c', 'C', 'vr', 'vpeak', 'b', 'v0', 'd']\n",
      "[0.0, 0.00063000000000000003, -50.0, -60.0, 9.0000004500000001e-05, -75.0, 30.0, -5.0000000000000001e-09, -75.0, 0.050000000000000003]\n",
      "[0.94499999999999995, 0.0014, -30.0, -55.0, 0.0001100000055, -50.0, 40.0, -2.5000000000000001e-09, -45.0, 0.20000000000000001]\n",
      "['a', 'k', 'vt', 'c', 'C', 'vr', 'vpeak', 'b', 'v0', 'd']\n"
     ]
    },
    {
     "name": "stderr",
     "output_type": "stream",
     "text": [
      "/home/jovyan/neuronunit/neuronunit/models/backends.py:3: UserWarning: \n",
      "This call to matplotlib.use() has no effect because the backend has already\n",
      "been chosen; matplotlib.use() must be called *before* pylab, matplotlib.pyplot,\n",
      "or matplotlib.backends is imported for the first time.\n",
      "\n",
      "The backend was *originally* set to 'module://ipykernel.pylab.backend_inline' by the following code:\n",
      "  File \"/opt/conda/lib/python3.5/runpy.py\", line 184, in _run_module_as_main\n",
      "    \"__main__\", mod_spec)\n",
      "  File \"/opt/conda/lib/python3.5/runpy.py\", line 85, in _run_code\n",
      "    exec(code, run_globals)\n",
      "  File \"/opt/conda/lib/python3.5/site-packages/ipykernel_launcher.py\", line 16, in <module>\n",
      "    app.launch_new_instance()\n",
      "  File \"/opt/conda/lib/python3.5/site-packages/traitlets/config/application.py\", line 658, in launch_instance\n",
      "    app.start()\n",
      "  File \"/opt/conda/lib/python3.5/site-packages/ipykernel/kernelapp.py\", line 478, in start\n",
      "    self.io_loop.start()\n",
      "  File \"/opt/conda/lib/python3.5/site-packages/zmq/eventloop/ioloop.py\", line 177, in start\n",
      "    super(ZMQIOLoop, self).start()\n",
      "  File \"/opt/conda/lib/python3.5/site-packages/tornado/ioloop.py\", line 888, in start\n",
      "    handler_func(fd_obj, events)\n",
      "  File \"/opt/conda/lib/python3.5/site-packages/tornado/stack_context.py\", line 277, in null_wrapper\n",
      "    return fn(*args, **kwargs)\n",
      "  File \"/opt/conda/lib/python3.5/site-packages/zmq/eventloop/zmqstream.py\", line 440, in _handle_events\n",
      "    self._handle_recv()\n",
      "  File \"/opt/conda/lib/python3.5/site-packages/zmq/eventloop/zmqstream.py\", line 472, in _handle_recv\n",
      "    self._run_callback(callback, msg)\n",
      "  File \"/opt/conda/lib/python3.5/site-packages/zmq/eventloop/zmqstream.py\", line 414, in _run_callback\n",
      "    callback(*args, **kwargs)\n",
      "  File \"/opt/conda/lib/python3.5/site-packages/tornado/stack_context.py\", line 277, in null_wrapper\n",
      "    return fn(*args, **kwargs)\n",
      "  File \"/opt/conda/lib/python3.5/site-packages/ipykernel/kernelbase.py\", line 281, in dispatcher\n",
      "    return self.dispatch_shell(stream, msg)\n",
      "  File \"/opt/conda/lib/python3.5/site-packages/ipykernel/kernelbase.py\", line 232, in dispatch_shell\n",
      "    handler(stream, idents, msg)\n",
      "  File \"/opt/conda/lib/python3.5/site-packages/ipykernel/kernelbase.py\", line 397, in execute_request\n",
      "    user_expressions, allow_stdin)\n",
      "  File \"/opt/conda/lib/python3.5/site-packages/ipykernel/ipkernel.py\", line 208, in do_execute\n",
      "    res = shell.run_cell(code, store_history=store_history, silent=silent)\n",
      "  File \"/opt/conda/lib/python3.5/site-packages/ipykernel/zmqshell.py\", line 533, in run_cell\n",
      "    return super(ZMQInteractiveShell, self).run_cell(*args, **kwargs)\n",
      "  File \"/opt/conda/lib/python3.5/site-packages/IPython/core/interactiveshell.py\", line 2739, in run_cell\n",
      "    self.events.trigger('post_run_cell')\n",
      "  File \"/opt/conda/lib/python3.5/site-packages/IPython/core/events.py\", line 73, in trigger\n",
      "    func(*args, **kwargs)\n",
      "  File \"/opt/conda/lib/python3.5/site-packages/ipykernel/pylab/backend_inline.py\", line 160, in configure_once\n",
      "    activate_matplotlib(backend)\n",
      "  File \"/opt/conda/lib/python3.5/site-packages/IPython/core/pylabtools.py\", line 308, in activate_matplotlib\n",
      "    matplotlib.pyplot.switch_backend(backend)\n",
      "  File \"/opt/conda/lib/python3.5/site-packages/matplotlib/pyplot.py\", line 232, in switch_backend\n",
      "    matplotlib.use(newbackend, warn=False, force=True)\n",
      "  File \"/opt/conda/lib/python3.5/site-packages/matplotlib/__init__.py\", line 1305, in use\n",
      "    reload(sys.modules['matplotlib.backends'])\n",
      "  File \"/opt/conda/lib/python3.5/importlib/__init__.py\", line 166, in reload\n",
      "    _bootstrap._exec(spec, module)\n",
      "  File \"/opt/conda/lib/python3.5/site-packages/matplotlib/backends/__init__.py\", line 14, in <module>\n",
      "    line for line in traceback.format_stack()\n",
      "\n",
      "\n",
      "  mpl.use('Agg')\n"
     ]
    },
    {
     "name": "stdout",
     "output_type": "stream",
     "text": [
      "\n",
      "    Starting simulation in NEURON of 650.0ms generated from NeuroML2 model...\n",
      "\n",
      "Population RS_pop contains 1 instance(s) of component: RS of type: izhikevich2007Cell\n",
      "Ratio = 2.09\n",
      "<class 'sciunit.scores.RatioScore'>\n",
      "{'c': -58.724654871302889, 'vpeak': 36.515929727227629, 'a': 0.12697421068621914, 'k': 0.0012825239774416691, 'vt': -34.724507620467719, 'C': 9.9908706737273907e-05, 'vr': -63.762723380281543, 'v0': -72.184212396772949, 'b': -3.0281916221612172e-09, 'd': 0.054252121478300948} {'a': 0.12697421068621914, 'k': 0.0012825239774416691, 'vt': -34.724507620467719, 'c': -58.724654871302889, 'C': 9.9908706737273907e-05, 'vr': -63.762723380281543, 'vpeak': 36.515929727227629, 'b': -3.0281916221612172e-09, 'v0': -72.184212396772949, 'd': 0.054252121478300948}\n",
      "{'RheobaseTestP': 0.7494150535481308}\n",
      "{'value': array(271.240234375) * pA} recalculation\n",
      "Mechanisms already loaded from path: /home/jovyan/neuronunit/neuronunit/models/NeuroML2.  Aborting.\n",
      "\n",
      "    Starting simulation in NEURON of 650.0ms generated from NeuroML2 model...\n",
      "\n",
      "Population RS_pop contains 1 instance(s) of component: RS of type: izhikevich2007Cell\n",
      "Ratio = 0.92\n",
      "<class 'sciunit.scores.RatioScore'>\n",
      "{'c': -59.989469733244448, 'vpeak': 32.287622212704527, 'a': 0.78979802320427683, 'k': 0.00096323064228689113, 'vt': -34.754398350841157, 'C': 9.8907748826483223e-05, 'vr': -56.961499191480435, 'v0': -47.957176271655491, 'b': -2.6368232611151942e-09, 'd': 0.054588497455033032} {'a': 0.78979802320427683, 'k': 0.00096323064228689113, 'vt': -34.754398350841157, 'c': -59.989469733244448, 'C': 9.8907748826483223e-05, 'vr': -56.961499191480435, 'vpeak': 32.287622212704527, 'b': -2.6368232611151942e-09, 'v0': -47.957176271655491, 'd': 0.054588497455033032}\n",
      "{'RheobaseTestP': 0.971667694225537}\n",
      "{'value': array(119.79166666666666) * pA} recalculation\n",
      "Mechanisms already loaded from path: /home/jovyan/neuronunit/neuronunit/models/NeuroML2.  Aborting.\n",
      "\n",
      "    Starting simulation in NEURON of 650.0ms generated from NeuroML2 model...\n",
      "\n",
      "Population RS_pop contains 1 instance(s) of component: RS of type: izhikevich2007Cell\n",
      "Ratio = 2.23\n",
      "<class 'sciunit.scores.RatioScore'>\n",
      "{'c': -58.093978811558941, 'vpeak': 30.290407875748681, 'a': 0.024046338638820455, 'k': 0.0010468876040509924, 'vt': -31.217016744429788, 'C': 9.4331992659211667e-05, 'vr': -64.447085610432069, 'v0': -61.863372190482835, 'b': -4.4457708343174128e-09, 'd': 0.12437183620727761} {'a': 0.024046338638820455, 'k': 0.0010468876040509924, 'vt': -31.217016744429788, 'c': -58.093978811558941, 'C': 9.4331992659211667e-05, 'vr': -64.447085610432069, 'vpeak': 30.290407875748681, 'b': -4.4457708343174128e-09, 'v0': -61.863372190482835, 'd': 0.12437183620727761}\n",
      "{'RheobaseTestP': 0.7280043678144303}\n",
      "{'value': array(289.55078125) * pA} recalculation\n",
      "Mechanisms already loaded from path: /home/jovyan/neuronunit/neuronunit/models/NeuroML2.  Aborting.\n",
      "\n",
      "    Starting simulation in NEURON of 650.0ms generated from NeuroML2 model...\n",
      "\n",
      "Population RS_pop contains 1 instance(s) of component: RS of type: izhikevich2007Cell\n",
      "Ratio = 1.30\n",
      "<class 'sciunit.scores.RatioScore'>\n",
      "{'c': -57.701982671311335, 'vpeak': 38.375779756625732, 'a': 0.22026480549340613, 'k': 0.00080776723698655791, 'vt': -45.624379253246225, 'C': 9.5795637081591325e-05, 'vr': -74.462757368352271, 'v0': -55.731169112026635, 'b': -3.6088641933689165e-09, 'd': 0.077885939884207667} {'a': 0.22026480549340613, 'k': 0.00080776723698655791, 'vt': -45.624379253246225, 'c': -57.701982671311335, 'C': 9.5795637081591325e-05, 'vr': -74.462757368352271, 'vpeak': 38.375779756625732, 'b': -3.6088641933689165e-09, 'v0': -55.731169112026635, 'd': 0.077885939884207667}\n",
      "{'RheobaseTestP': 0.9100581480503132}\n",
      "{'value': array(168.61979166666666) * pA} recalculation\n",
      "Mechanisms already loaded from path: /home/jovyan/neuronunit/neuronunit/models/NeuroML2.  Aborting.\n",
      "\n",
      "    Starting simulation in NEURON of 650.0ms generated from NeuroML2 model...\n",
      "\n",
      "Population RS_pop contains 1 instance(s) of component: RS of type: izhikevich2007Cell\n",
      "Ratio = 0.23\n",
      "<class 'sciunit.scores.RatioScore'>\n",
      "{'c': -58.336524073199357, 'vpeak': 39.364405867994599, 'a': 0.93795352450638148, 'k': 0.0012921588271723732, 'vt': -47.582200803883872, 'C': 0.00010442969337314978, 'vr': -57.220205757618004, 'v0': -50.09892920177019, 'b': -3.9447325000964623e-09, 'd': 0.15054583496211066} {'a': 0.93795352450638148, 'k': 0.0012921588271723732, 'vt': -47.582200803883872, 'c': -58.336524073199357, 'C': 0.00010442969337314978, 'vr': -57.220205757618004, 'vpeak': 39.364405867994599, 'b': -3.9447325000964623e-09, 'v0': -50.09892920177019, 'd': 0.15054583496211066}\n",
      "{'RheobaseTestP': 0.5283328690698748}\n",
      "{'value': array(30.436197916666664) * pA} recalculation\n",
      "Mechanisms already loaded from path: /home/jovyan/neuronunit/neuronunit/models/NeuroML2.  Aborting.\n",
      "\n",
      "    Starting simulation in NEURON of 650.0ms generated from NeuroML2 model...\n",
      "\n",
      "Population RS_pop contains 1 instance(s) of component: RS of type: izhikevich2007Cell\n",
      "Ratio = 1.63\n",
      "<class 'sciunit.scores.RatioScore'>\n",
      "{'c': -55.769012907858439, 'vpeak': 30.345258301513415, 'a': 0.28668324283160712, 'k': 0.0010824370667305407, 'vt': -32.350419983362848, 'C': 0.00010010568141687582, 'vr': -60.274943550436205, 'v0': -51.077872573370911, 'b': -4.3931500661423311e-09, 'd': 0.11214709989511615} {'a': 0.28668324283160712, 'k': 0.0010824370667305407, 'vt': -32.350419983362848, 'c': -55.769012907858439, 'C': 0.00010010568141687582, 'vr': -60.274943550436205, 'vpeak': 30.345258301513415, 'b': -4.3931500661423311e-09, 'v0': -51.077872573370911, 'd': 0.11214709989511615}\n",
      "{'RheobaseTestP': 0.8324590623189534}\n",
      "{'value': array(211.58854166666666) * pA} recalculation\n",
      "Mechanisms already loaded from path: /home/jovyan/neuronunit/neuronunit/models/NeuroML2.  Aborting.\n",
      "\n",
      "    Starting simulation in NEURON of 650.0ms generated from NeuroML2 model...\n",
      "\n",
      "Population RS_pop contains 1 instance(s) of component: RS of type: izhikevich2007Cell\n",
      "Ratio = 1.60\n",
      "<class 'sciunit.scores.RatioScore'>\n",
      "{'c': -56.627570847488364, 'vpeak': 35.084264882499816, 'a': 0.16349199449220311, 'k': 0.0010525750462688779, 'vt': -35.939184758687368, 'C': 9.7494065284735827e-05, 'vr': -64.025959248885925, 'v0': -59.371847471605648, 'b': -3.0538934624996358e-09, 'd': 0.10898826424463393} {'a': 0.16349199449220311, 'k': 0.0010525750462688779, 'vt': -35.939184758687368, 'c': -56.627570847488364, 'C': 9.7494065284735827e-05, 'vr': -64.025959248885925, 'vpeak': 35.084264882499816, 'b': -3.0538934624996358e-09, 'v0': -59.371847471605648, 'd': 0.10898826424463393}\n",
      "{'RheobaseTestP': 0.8377163465509117}\n",
      "{'value': array(208.33333333333331) * pA} recalculation\n",
      "Mechanisms already loaded from path: /home/jovyan/neuronunit/neuronunit/models/NeuroML2.  Aborting.\n",
      "\n",
      "    Starting simulation in NEURON of 650.0ms generated from NeuroML2 model...\n",
      "\n",
      "Population RS_pop contains 1 instance(s) of component: RS of type: izhikevich2007Cell\n",
      "Ratio = 0.16\n",
      "<class 'sciunit.scores.RatioScore'>\n",
      "{'c': -56.483089556980822, 'vpeak': 33.935996863779138, 'a': 0.46276037683683402, 'k': 0.00065277272225451848, 'vt': -49.130254192869451, 'C': 0.00010966375982938119, 'vr': -60.170406740498564, 'v0': -59.932843246995503, 'b': -4.5741270078607967e-09, 'd': 0.19731149563078015} {'a': 0.46276037683683402, 'k': 0.00065277272225451848, 'vt': -49.130254192869451, 'c': -56.483089556980822, 'C': 0.00010966375982938119, 'vr': -60.170406740498564, 'vpeak': 33.935996863779138, 'b': -4.5741270078607967e-09, 'v0': -59.932843246995503, 'd': 0.19731149563078015}\n",
      "{'RheobaseTestP': 0.4265061345798813}\n",
      "{'value': array(20.833333333333332) * pA} recalculation\n",
      "Mechanisms already loaded from path: /home/jovyan/neuronunit/neuronunit/models/NeuroML2.  Aborting.\n",
      "\n",
      "    Starting simulation in NEURON of 650.0ms generated from NeuroML2 model...\n",
      "\n",
      "Population RS_pop contains 1 instance(s) of component: RS of type: izhikevich2007Cell\n",
      "Ratio = 0.69\n",
      "<class 'sciunit.scores.RatioScore'>\n",
      "{'c': -58.839119359684929, 'vpeak': 35.777948078012031, 'a': 0.72814436714010644, 'k': 0.0010455054353063296, 'vt': -32.794204421589008, 'C': 0.00010027543827752441, 'vr': -51.188315293293265, 'v0': -66.921615676757369, 'b': -3.8521706702233295e-09, 'd': 0.13219944641993736} {'a': 0.72814436714010644, 'k': 0.0010455054353063296, 'vt': -32.794204421589008, 'c': -58.839119359684929, 'C': 0.00010027543827752441, 'vr': -51.188315293293265, 'vpeak': 35.777948078012031, 'b': -3.8521706702233295e-09, 'v0': -66.921615676757369, 'd': 0.13219944641993736}\n",
      "{'RheobaseTestP': 0.8700350221596953}\n",
      "{'value': array(89.19270833333333) * pA} recalculation\n",
      "Mechanisms already loaded from path: /home/jovyan/neuronunit/neuronunit/models/NeuroML2.  Aborting.\n",
      "\n",
      "    Starting simulation in NEURON of 650.0ms generated from NeuroML2 model...\n",
      "\n",
      "Population RS_pop contains 1 instance(s) of component: RS of type: izhikevich2007Cell\n",
      "Ratio = 0.61\n",
      "<class 'sciunit.scores.RatioScore'>\n",
      "{'c': -55.89757044037259, 'vpeak': 38.091399008724792, 'a': 0.90447488597991432, 'k': 0.00063439602967680254, 'vt': -34.326895347692201, 'C': 0.00010772359700269974, 'vr': -56.487414704170092, 'v0': -58.159264056648631, 'b': -3.7033042911924947e-09, 'd': 0.11391360195322253} {'a': 0.90447488597991432, 'k': 0.00063439602967680254, 'vt': -34.326895347692201, 'c': -55.89757044037259, 'C': 0.00010772359700269974, 'vr': -56.487414704170092, 'vpeak': 38.091399008724792, 'b': -3.7033042911924947e-09, 'v0': -58.159264056648631, 'd': 0.11391360195322253}\n",
      "{'RheobaseTestP': 0.830566757625764}\n",
      "{'value': array(79.42708333333333) * pA} recalculation\n",
      "Mechanisms already loaded from path: /home/jovyan/neuronunit/neuronunit/models/NeuroML2.  Aborting.\n",
      "\n",
      "    Starting simulation in NEURON of 650.0ms generated from NeuroML2 model...\n",
      "\n",
      "Population RS_pop contains 1 instance(s) of component: RS of type: izhikevich2007Cell\n",
      "Ratio = 1.48\n",
      "<class 'sciunit.scores.RatioScore'>\n",
      "{'c': -59.000802899114284, 'vpeak': 33.567899645449558, 'a': 0.053036516157099686, 'k': 0.0012999078194860128, 'vt': -38.600013322472392, 'C': 0.00010009441435329773, 'vr': -62.876872194306642, 'v0': -58.845636127864672, 'b': -4.1348052024546132e-09, 'd': 0.14352341791962578} {'a': 0.053036516157099686, 'k': 0.0012999078194860128, 'vt': -38.600013322472392, 'c': -59.000802899114284, 'C': 0.00010009441435329773, 'vr': -62.876872194306642, 'vpeak': 33.567899645449558, 'b': -4.1348052024546132e-09, 'v0': -58.845636127864672, 'd': 0.14352341791962578}\n",
      "{'RheobaseTestP': 0.8642574643026362}\n",
      "{'value': array(192.70833333333331) * pA} recalculation\n",
      "Mechanisms already loaded from path: /home/jovyan/neuronunit/neuronunit/models/NeuroML2.  Aborting.\n",
      "\n",
      "    Starting simulation in NEURON of 650.0ms generated from NeuroML2 model...\n",
      "\n",
      "Population RS_pop contains 1 instance(s) of component: RS of type: izhikevich2007Cell\n",
      "Ratio = 0.23\n",
      "<class 'sciunit.scores.RatioScore'>\n",
      "{'c': -58.851974843614883, 'vpeak': 38.610088608533246, 'a': 0.5787675792196757, 'k': 0.00098277303607678776, 'vt': -49.440500318323153, 'C': 9.3544229855982918e-05, 'vr': -60.388478230538965, 'v0': -51.087073120935116, 'b': -3.003902648556435e-09, 'd': 0.17246560558410365} {'a': 0.5787675792196757, 'k': 0.00098277303607678776, 'vt': -49.440500318323153, 'c': -58.851974843614883, 'C': 9.3544229855982918e-05, 'vr': -60.388478230538965, 'vpeak': 38.610088608533246, 'b': -3.003902648556435e-09, 'v0': -51.087073120935116, 'd': 0.17246560558410365}\n",
      "{'RheobaseTestP': 0.5237492432829798}\n",
      "{'value': array(29.947916666666664) * pA} recalculation\n",
      "Mechanisms already loaded from path: /home/jovyan/neuronunit/neuronunit/models/NeuroML2.  Aborting.\n",
      "\n",
      "    Starting simulation in NEURON of 650.0ms generated from NeuroML2 model...\n",
      "\n",
      "Population RS_pop contains 1 instance(s) of component: RS of type: izhikevich2007Cell\n",
      "Ratio = 3.57\n",
      "<class 'sciunit.scores.RatioScore'>\n",
      "{'c': -59.583829310980512, 'vpeak': 37.555867752521984, 'a': 0.24125286788250411, 'k': 0.0012781435208510539, 'vt': -36.537729491225861, 'C': 9.0333817119001819e-05, 'vr': -74.636000626879692, 'v0': -71.715341181169222, 'b': -4.376101935866443e-09, 'd': 0.14372031262287147} {'a': 0.24125286788250411, 'k': 0.0012781435208510539, 'vt': -36.537729491225861, 'c': -59.583829310980512, 'C': 9.0333817119001819e-05, 'vr': -74.636000626879692, 'vpeak': 37.555867752521984, 'b': -4.376101935866443e-09, 'v0': -71.715341181169222, 'd': 0.14372031262287147}\n",
      "{'RheobaseTestP': 0.5803269485142695}\n",
      "{'value': array(464.35546875) * pA} recalculation\n",
      "Mechanisms already loaded from path: /home/jovyan/neuronunit/neuronunit/models/NeuroML2.  Aborting.\n",
      "\n",
      "    Starting simulation in NEURON of 650.0ms generated from NeuroML2 model...\n",
      "\n",
      "Population RS_pop contains 1 instance(s) of component: RS of type: izhikevich2007Cell\n",
      "Ratio = 0.61\n",
      "<class 'sciunit.scores.RatioScore'>\n",
      "{'c': -57.363098004759934, 'vpeak': 37.115899271852726, 'a': 0.32547960657118769, 'k': 0.00068352684146875248, 'vt': -46.807489506123048, 'C': 9.3362903592593508e-05, 'vr': -68.177139079532992, 'v0': -65.339947008380221, 'b': -3.8632459248858406e-09, 'd': 0.12106565212554185} {'a': 0.32547960657118769, 'k': 0.00068352684146875248, 'vt': -46.807489506123048, 'c': -57.363098004759934, 'C': 9.3362903592593508e-05, 'vr': -68.177139079532992, 'vpeak': 37.115899271852726, 'b': -3.8632459248858406e-09, 'v0': -65.339947008380221, 'd': 0.12106565212554185}\n",
      "{'RheobaseTestP': 0.830566757625764}\n",
      "{'value': array(79.42708333333333) * pA} recalculation\n",
      "Mechanisms already loaded from path: /home/jovyan/neuronunit/neuronunit/models/NeuroML2.  Aborting.\n",
      "\n",
      "    Starting simulation in NEURON of 650.0ms generated from NeuroML2 model...\n",
      "\n",
      "Population RS_pop contains 1 instance(s) of component: RS of type: izhikevich2007Cell\n",
      "Ratio = 0.22\n",
      "<class 'sciunit.scores.RatioScore'>\n",
      "{'c': -59.059803476243438, 'vpeak': 35.101159809286763, 'a': 0.022334675862227774, 'k': 0.00092764897066633181, 'vt': -41.581626415818484, 'C': 9.2175238457669955e-05, 'vr': -52.504537491099498, 'v0': -56.830540798979506, 'b': -4.4772725186205753e-09, 'd': 0.17255595025668305} {'a': 0.022334675862227774, 'k': 0.00092764897066633181, 'vt': -41.581626415818484, 'c': -59.059803476243438, 'C': 9.2175238457669955e-05, 'vr': -52.504537491099498, 'vpeak': 35.101159809286763, 'b': -4.4772725186205753e-09, 'v0': -56.830540798979506, 'd': 0.17255595025668305}\n",
      "{'RheobaseTestP': 0.5112568627619463}\n",
      "{'value': array(28.645833333333332) * pA} recalculation\n",
      "Mechanisms already loaded from path: /home/jovyan/neuronunit/neuronunit/models/NeuroML2.  Aborting.\n",
      "\n",
      "\n",
      "    Starting simulation in NEURON of 650.0ms generated from NeuroML2 model...\n",
      "Mechanisms already loaded from path: /home/jovyan/neuronunit/neuronunit/models/NeuroML2.  Aborting.\n",
      "Population RS_pop contains 1 instance(s) of component: RS of type: izhikevich2007Cell\n",
      "\n",
      "    Starting simulation in NEURON of 650.0ms generated from NeuroML2 model...\n",
      "\n",
      "Population RS_pop contains 1 instance(s) of component: RS of type: izhikevich2007Cell\n",
      "Population RS_pop contains 1 instance(s) of component: RS of type: izhikevich2007Cell\n",
      "Mechanisms already loaded from path: /home/jovyan/neuronunit/neuronunit/models/NeuroML2.  Aborting.\n",
      "Mechanisms already loaded from path: /home/jovyan/neuronunit/neuronunit/models/NeuroML2.  Aborting.\n",
      "\n",
      "    Starting simulation in NEURON of 650.0ms generated from NeuroML2 model...\n",
      "\n",
      "\n",
      "    Starting simulation in NEURON of 650.0ms generated from NeuroML2 model...\n",
      "Mechanisms already loaded from path: /home/jovyan/neuronunit/neuronunit/models/NeuroML2.  Aborting.\n",
      "\n",
      "    Starting simulation in NEURON of 650.0ms generated from NeuroML2 model...\n",
      "\n",
      "Mechanisms already loaded from path: /home/jovyan/neuronunit/neuronunit/models/NeuroML2.  Aborting.\n",
      "\n",
      "Population RS_pop contains 1 instance(s) of component: RS of type: izhikevich2007Cell\n",
      "Population RS_pop contains 1 instance(s) of component: RS of type: izhikevich2007Cell\n",
      "\n",
      "    Starting simulation in NEURON of 650.0ms generated from NeuroML2 model...\n",
      "\n",
      "Population RS_pop contains 1 instance(s) of component: RS of type: izhikevich2007Cell\n",
      "Mechanisms already loaded from path: /home/jovyan/neuronunit/neuronunit/models/NeuroML2.  Aborting.\n",
      "\n",
      "    Starting simulation in NEURON of 650.0ms generated from NeuroML2 model...\n",
      "\n",
      "Population RS_pop contains 1 instance(s) of component: RS of type: izhikevich2007Cell\n",
      "Mechanisms already loaded from path: /home/jovyan/neuronunit/neuronunit/models/NeuroML2.  Aborting.\n",
      "\n",
      "    Starting simulation in NEURON of 650.0ms generated from NeuroML2 model...\n",
      "\n",
      "Population RS_pop contains 1 instance(s) of component: RS of type: izhikevich2007Cell\n",
      "{'InputResistanceTest': 0.24961838452408247, 'RheobaseTestP': 0.8700350221596953}\n",
      "{'InputResistanceTest': 0.2026645115437804, 'RheobaseTestP': 0.5283328690698748}\n",
      "{'InputResistanceTest': 0.7029673671330924, 'RheobaseTestP': 0.5803269485142695}\n",
      "{'InputResistanceTest': 0.6043698417682891, 'RheobaseTestP': 0.7280043678144303}\n",
      "{'InputResistanceTest': 0.5556085771213616, 'RheobaseTestP': 0.8642574643026362}\n",
      "{'InputResistanceTest': 0.5333918686121552, 'RheobaseTestP': 0.8377163465509117}\n"
     ]
    },
    {
     "name": "stderr",
     "output_type": "stream",
     "text": [
      "/opt/conda/lib/python3.5/site-packages/scipy/optimize/minpack.py:785: OptimizeWarning: Covariance of the parameters could not be estimated\n",
      "  category=OptimizeWarning)\n"
     ]
    },
    {
     "name": "stdout",
     "output_type": "stream",
     "text": [
      "{'InputResistanceTest': 0.6250324755219869, 'RheobaseTestP': 0.7494150535481308}\n",
      "{'InputResistanceTest': 0.4874420481080328, 'RheobaseTestP': 0.5112568627619463}\n"
     ]
    },
    {
     "name": "stderr",
     "output_type": "stream",
     "text": [
      "/home/jovyan/neuronunit/neuronunit/tests/passive.py:75: RuntimeWarning: overflow encountered in exp\n",
      "  vm_fit[offset:,0] = a * np.exp(-t[offset:]/b) + c\n"
     ]
    },
    {
     "name": "stdout",
     "output_type": "stream",
     "text": [
      "{'InputResistanceTest': 0.7029673671330924, 'TimeConstantTest': 0.9637880758206061, 'RheobaseTestP': 0.5803269485142695}\n",
      "{'InputResistanceTest': 0.24961838452408247, 'TimeConstantTest': 0.9389192891733874, 'RheobaseTestP': 0.8700350221596953}\n",
      "{'InputResistanceTest': 0.7029673671330924, 'CapacitanceTest': 1.0, 'TimeConstantTest': 0.9637880758206061, 'RheobaseTestP': 0.5803269485142695}\n",
      "{'InputResistanceTest': 0.2026645115437804, 'TimeConstantTest': 0.8816680091529586, 'RheobaseTestP': 0.5283328690698748}\n",
      "{'InputResistanceTest': 0.4874420481080328, 'TimeConstantTest': 0.8550990428592458, 'RheobaseTestP': 0.5112568627619463}\n",
      "{'InputResistanceTest': 0.5333918686121552, 'TimeConstantTest': 0.9615076194353731, 'RheobaseTestP': 0.8377163465509117}\n",
      "{'InputResistanceTest': 0.5556085771213616, 'TimeConstantTest': 0.9637035683853906, 'RheobaseTestP': 0.8642574643026362}\n",
      "{'InputResistanceTest': 0.4874420481080328, 'CapacitanceTest': 0.979767107001965, 'TimeConstantTest': 0.8550990428592458, 'RheobaseTestP': 0.5112568627619463}\n",
      "{'InputResistanceTest': 0.2026645115437804, 'CapacitanceTest': 0.5946120191810658, 'TimeConstantTest': 0.8816680091529586, 'RheobaseTestP': 0.5283328690698748}\n",
      "{'InputResistanceTest': 0.24961838452408247, 'CapacitanceTest': 0.9897414728026, 'TimeConstantTest': 0.9389192891733874, 'RheobaseTestP': 0.8700350221596953}\n",
      "{'InputResistanceTest': 0.6043698417682891, 'TimeConstantTest': 1.0, 'RheobaseTestP': 0.7280043678144303}\n",
      "{'InputResistanceTest': 0.6250324755219869, 'TimeConstantTest': 1.0, 'RheobaseTestP': 0.7494150535481308}\n",
      "{'InputResistanceTest': 0.5333918686121552, 'CapacitanceTest': 0.9999999724775752, 'TimeConstantTest': 0.9615076194353731, 'RheobaseTestP': 0.8377163465509117}\n",
      "{'InputResistanceTest': 0.5556085771213616, 'CapacitanceTest': 0.9999999999996985, 'TimeConstantTest': 0.9637035683853906, 'RheobaseTestP': 0.8642574643026362}\n",
      "{'InputResistanceTest': 0.6043698417682891, 'CapacitanceTest': 1.0, 'TimeConstantTest': 1.0, 'RheobaseTestP': 0.7280043678144303}\n",
      "{'InputResistanceTest': 0.6250324755219869, 'CapacitanceTest': 1.0, 'TimeConstantTest': 1.0, 'RheobaseTestP': 0.7494150535481308}\n"
     ]
    }
   ],
   "source": [
    "\n",
    "if USE_CACHED_GA:\n",
    "\n",
    "    from deap import creator\n",
    "    from deap import base\n",
    "    from neuronunit.optimization import evaluate_as_module as eam\n",
    "    from bluepyopt.deapext.optimisations import DEAPOptimisation\n",
    "    DO = DEAPOptimisation()\n",
    "    DO.setnparams(nparams = nparams, provided_keys = provided_keys)\n",
    "    [pop, log, history, hof, td] = pickle.load(open('ga_dump.p','rb'))\n",
    "else:\n",
    "    from bluepyopt.deapext.optimisations import DEAPOptimisation\n",
    "    #print(DEAPOptimisation)\n",
    "    DO = DEAPOptimisation()\n",
    "    DO.setnparams(nparams = nparams, provided_keys = provided_keys)\n",
    "    pop, hof, log, history, td, gen_vs_hof = DO.run(offspring_size = MU, max_ngen = NGEN, cp_frequency=4,cp_filename='checkpointedGA.p')\n",
    "    with open('ga_dump.p','wb') as f:\n",
    "       pickle.dump([pop, log, history, hof, td],f)\n",
    "    "
   ]
  },
  {
   "cell_type": "code",
   "execution_count": null,
   "metadata": {
    "collapsed": false
   },
   "outputs": [],
   "source": [
    "from neuronunit.plottools import plot_surface"
   ]
  },
  {
   "cell_type": "code",
   "execution_count": null,
   "metadata": {
    "collapsed": true
   },
   "outputs": [],
   "source": []
  },
  {
   "cell_type": "raw",
   "metadata": {
    "collapsed": false
   },
   "source": [
    "\n"
   ]
  },
  {
   "cell_type": "code",
   "execution_count": null,
   "metadata": {
    "collapsed": false
   },
   "outputs": [],
   "source": []
  },
  {
   "cell_type": "code",
   "execution_count": null,
   "metadata": {
    "collapsed": false
   },
   "outputs": [],
   "source": []
  },
  {
   "cell_type": "markdown",
   "metadata": {},
   "source": [
    "# Below two error surface slices from the hypervolume are plotted.\n",
    "The data that is plotted consists of the error as experienced by the GA.\n",
    "Note: the GA performs an incomplete, and efficient sampling of the parameter space, and therefore sample points are irregularly spaced. Polygon interpolation is used to visualize error gradients. Existing plotting code from the package BluePyOpt has been extended for this purpose.\n",
    "Light blue dots indicate local minima's of error experienced by the NSGA algrorithm."
   ]
  },
  {
   "cell_type": "code",
   "execution_count": null,
   "metadata": {
    "collapsed": false
   },
   "outputs": [],
   "source": [
    "plot_surface(4,-3,td,history)"
   ]
  },
  {
   "cell_type": "code",
   "execution_count": null,
   "metadata": {
    "collapsed": false
   },
   "outputs": [],
   "source": [
    "\n",
    "plot_surface(1,2,td,history)"
   ]
  },
  {
   "cell_type": "code",
   "execution_count": null,
   "metadata": {
    "collapsed": false
   },
   "outputs": [],
   "source": [
    "if USE_CACHED_GS:\n",
    "    import pickle\n",
    "    shelve cachce \n",
    "    first_third = pickle.load(open('/home/jovyan/neuronunit/neuronunit/unit_test/grid_dump_first_3rd.p','rb'))\n",
    "    second_third = pickle.load(open('/home/jovyan/neuronunit/neuronunit/unit_test/grid_dump_second_3rd.p','rb'))\n",
    "    final_third = pickle.load(open('/home/jovyan/neuronunit/neuronunit/unit_test/grid_dump_final_3rd.p','rb'))\n",
    "\n",
    "    second_third.extend(first_third)\n",
    "    second_third.extend(final_third)\n",
    "    dtcpopg = second_third\n",
    "\n",
    "else:\n",
    "    from neuronunit.optimization import exhaustive_search\n",
    "    grid_points = exhaustive_search.create_grid(npoints = npoints,nparams = nparams)\n",
    "\n",
    "    dlist = list(dview.map_sync(exhaustive_search.update_dtc_pop,grid_points))\n",
    "    from neuronunit.optimization import get_neab\n",
    "    for d in dlist:\n",
    "        d.model_path = get_neab.LEMS_MODEL_PATH\n",
    "        d.LEMS_MODEL_PATH = get_neab.LEMS_MODEL_PATH\n",
    "    \n",
    "    \n",
    "    \n",
    "    if len(dlist)/350 < 1:\n",
    "        \n",
    "    elif len(dlist)/350 >= 1:\n",
    "        N = len(dlist)/350\n",
    "\n",
    "\n",
    "    # this is a big load on memory so divide it into thirds.\n",
    "\n",
    "    dlist_first_third = dlist[0:int(len(dlist)/N)]\n",
    "    dlist_second_third = dlist[int(len(dlist)/N):int(2*len(dlist)/N)]\n",
    "    dlist_final_third = dlist[int(2*len(dlist)/N):-1]\n",
    "    from neuronunit.optimization.exhaustive_search import dtc_to_rheo\n",
    "    from neuronunit.optimization.nsga_parallel import nunit_evaluate\n",
    "\n",
    "\n",
    "    def compute_chunk(dlist_half):\n",
    "        dlist_half = list(map(dtc_to_rheo,dlist_half))\n",
    "        dlist_half = dview.map_sync(nunit_evaluate,dlist_half)\n",
    "        return dlist_half\n",
    "\n",
    "    dlist_first_3rd = compute_chunk(dlist_first_third)\n",
    "    import pickle\n",
    "    with open('grid_dump_first_3rd.p','wb') as f:\n",
    "       pickle.dump(dlist_first_3rd,f)\n",
    "    # Garbage collect a big memory burden.\n",
    "    dlist_first_3rd = None\n",
    "    dlist_second_3rd = compute_chunk(dlist_second_third)\n",
    "\n",
    "    with open('grid_dump_second_3rd.p','wb') as f:\n",
    "       pickle.dump(dlist_second_3rd,f)\n",
    "   # Garbage collect a big memory burden.\n",
    "    dlist_second_3rd = None\n",
    "\n",
    "    dlist_final_3rd = compute_chunk(dlist_final_third)\n",
    "    with open('grid_dump_final_3rd.p','wb') as f:\n",
    "       pickle.dump(dlist_final_3rd,f)\n",
    "    # Garbage collect a big memory burden.\n",
    "    dlist_final_3rd = None\n",
    "    first_third = pickle.load(open('grid_dump_first_3rd.p','rb'))\n",
    "    second_third = pickle.load(open('grid_dump_second_3rd.p','rb'))\n",
    "    final_third = pickle.load(open('grid_dump_final_3rd.p','rb'))\n",
    "\n",
    "    second_third.extend(first_third)\n",
    "    second_third.extend(final_third)\n",
    "    dtcpopg = second_third\n",
    "\n",
    "    \n"
   ]
  },
  {
   "cell_type": "code",
   "execution_count": null,
   "metadata": {
    "collapsed": false
   },
   "outputs": [],
   "source": [
    "dtcpopg = [ dtc for dtc in dtcpopg if not None in (dtc.scores.values()) ]\n",
    "dtcpopg = [ (dtc,sum(list(dtc.scores.values()))) for dtc in dtcpopg ]\n",
    "sorted_grid = sorted(dtcpopg,key=lambda x:x[1])\n",
    "sorted_grid = [dtc[0] for dtc in sorted_grid]\n",
    "#print(sorted_grid)\n",
    "mini = dtcpopg[0][1]\n",
    "maxi = dtcpopg[-1][1]\n",
    "minimagr = sorted_grid[0]\n",
    "minimagr_dtc = sorted_grid[0]\n",
    "minimagr_dtc_1 = sorted_grid[1]\n",
    "minimagr_dtc_2 = sorted_grid[2]\n",
    "\n",
    "from neuronunit.optimization.exhaustive_search import create_refined_grid\n",
    "refined_grid = create_refined_grid(minimagr_dtc, minimagr_dtc_1,minimagr_dtc_2)\n",
    "\n"
   ]
  },
  {
   "cell_type": "code",
   "execution_count": null,
   "metadata": {
    "collapsed": false
   },
   "outputs": [],
   "source": [
    "\n",
    "%matplotlib inline\n",
    "import matplotlib.pyplot as plt\n",
    "import numpy as np\n",
    "#log = logbook\n",
    "#plt.clf()\n",
    "plt.style.use('ggplot')\n",
    "fig, axes = plt.subplots(figsize=(10, 10), facecolor='white')\n",
    "gen_numbers =[ i for i in range(0,len(log.select('gen'))) ]\n",
    "mean = np.array([ np.sqrt(np.mean(np.square(i))) for i in log.select('avg')])\n",
    "std = np.array([ np.sqrt(np.mean(np.square(i))) for i in log.select('std')])\n",
    "minimum = np.array([ np.sqrt(np.mean(np.square(i))) for i in log.select('min')])\n",
    "best_line = np.array([ np.sqrt(np.mean(np.square(list(p.fitness.values))))  for p in hof])\n",
    "print(best_line,gen_numbers)\n",
    "#bl = [b for b in best_line if not np.isnan(b) ] \n",
    "#bl = [ min(bl) for i in gen_numbers]\n",
    "blg = [ best_line[h] for i, h in enumerate(gen_numbers) ]\n",
    "print(blg)\n",
    "#blg = [ hs)))) for i in gen_numbers ]\n",
    "\n",
    "\n",
    "stdminus = mean - std\n",
    "stdplus = mean + std\n",
    "try:\n",
    "    assert len(gen_numbers) == len(stdminus) == len(stdplus)\n",
    "except:\n",
    "    pass\n",
    "\n",
    "axes.plot(\n",
    "    gen_numbers,\n",
    "    mean,\n",
    "    color='black',\n",
    "    linewidth=2,\n",
    "    label='population average')\n",
    "axes.fill_between(gen_numbers, stdminus, stdplus)\n",
    "axes.plot(gen_numbers, blg,'y--', linewidth=2,  label='grid search error')\n",
    "axes.plot(gen_numbers, bl, 'go', linewidth=2, label='hall of fame error')\n",
    "\n",
    "axes.plot(gen_numbers, stdminus, label='std variation lower limit')\n",
    "axes.plot(gen_numbers, stdplus, label='std variation upper limit')\n",
    "\n",
    "axes.set_xlim(np.min(gen_numbers) - 1, np.max(gen_numbers) + 1)\n",
    "axes.set_xlabel('Generations')\n",
    "axes.set_ylabel('Sum of objectives')\n",
    "axes.legend()\n",
    "fig.tight_layout()\n",
    "fig.show()\n"
   ]
  },
  {
   "cell_type": "markdown",
   "metadata": {},
   "source": [
    "# Comment on plot\n",
    "The plot shows the mean error value of the population as the GA evolves it's population. The red interval at any instant is the standard deviation of the error. The fact that the mean GA error is able to have a net upwards trajectory, after experiencing a temporary downwards trajectory, demonstrates that the GA retains a drive to explore, and is resiliant against being stuck in a local minima. Also in the above plot population variance in error stays remarkably constant, in this way BluePyOpts selection criteria SELIBEA contrasts with DEAPs native selection strategy NSGA2"
   ]
  },
  {
   "cell_type": "code",
   "execution_count": null,
   "metadata": {
    "collapsed": false
   },
   "outputs": [],
   "source": [
    "print(td)\n",
    "def pop2dtc(pop1,DO,td):\n",
    "    '''\n",
    "    This function takes the DEAP population data type, and converts it to a more convenient\n",
    "    data transport object, which can more readily be used in plotting functions.\n",
    "    This a wasteful, recompute, which is in part necessitated because\n",
    "    deaps pareto front object, only returns gene individual objects (elements of population)\n",
    "    '''\n",
    "    from neuronunit.optimization import evaluate_as_module as eam\n",
    "    from neuronunit.optimization import nsga_parallel\n",
    "    DO.td = td\n",
    "    assert DO.td == td\n",
    "    return_package = nsga_parallel.update_pop(pop1,td);\n",
    "    dtc_pop = []\n",
    "    for i,r in enumerate(return_package):\n",
    "        dtc_pop.append(r[0])\n",
    "        dtc_pop[i].error = None\n",
    "        dtc_pop[i].error = np.sqrt(np.mean(np.square(list(pop1[i].fitness.values))))\n",
    "    sorted_list  = sorted([(dtc,dtc.error) for dtc in dtc_pop],key=lambda x:x[1])\n",
    "    dtc_pop = [dtc[0] for dtc in sorted_list]\n",
    "    print(dtc_pop,sorted_list)\n",
    "    return dtc_pop\n",
    "\n",
    "DO.td = td\n",
    "print(hof[0])\n",
    "print(len(hof))\n",
    "dtc_pop = pop2dtc(hof[0:-1],DO,td)\n",
    "\n",
    "miniga = dtc_pop[0].error\n",
    "maxiga = dtc_pop[-1].error\n",
    "maximaga = dtc_pop[-1]\n",
    "minimaga = dtc_pop[0]\n",
    "\n",
    "CACHE_PF = False"
   ]
  },
  {
   "cell_type": "code",
   "execution_count": null,
   "metadata": {
    "collapsed": false
   },
   "outputs": [],
   "source": [
    "\n",
    "if CACHE_PF == False:\n",
    "    h = list(history.genealogy_history.values())\n",
    "    evaluated_history = []\n",
    "    for i in h:\n",
    "        if hasattr(i,'rheobase'):\n",
    "            i.error = None\n",
    "            i.error = np.sqrt(np.mean(np.square(list(i.fitness.values))))\n",
    "            evaluated_history.append(i)\n",
    "    sorted_list  = sorted([(i,i.error) for i in evaluated_history ],key=lambda x:x[1])\n",
    "\n",
    "    with open('pf_dump.p','wb') as f:\n",
    "       pickle.dump([ sorted_list, evaluated_history ],f)\n",
    "else: \n",
    "     \n",
    "     unpack = pickle.load(open('pf_dump.p','rb'))\n",
    "     print(unpack)\n",
    "     sorted_list_pf = unpack[0]\n",
    "     pareto_dtc = unpack[1] \n",
    "\n",
    "minimaga_ind = sorted_list[0][0]\n",
    "maximaga_ind = sorted_list[-1][0]\n",
    "miniga = sorted_list[0][1]\n",
    "maxiga = sorted_list[-1][1]\n"
   ]
  },
  {
   "cell_type": "code",
   "execution_count": null,
   "metadata": {
    "collapsed": false
   },
   "outputs": [],
   "source": [
    "import pandas as pd\n",
    "\n",
    "print(miniga)\n",
    "print(maxiga)\n",
    "print(minimaga_ind.fitness.values)\n",
    "print(maximaga_ind.fitness.values)\n",
    "print(len(minimaga_ind.fitness.values))\n",
    "print(dtcpopg[0][0].rheobase)\n",
    "print(dtcpopg[0][0].scores)\n",
    "print(sorted_list[-1][0].rheobase)\n",
    "print(sorted_list[-1][0].fitness.values)\n",
    "\n"
   ]
  },
  {
   "cell_type": "code",
   "execution_count": null,
   "metadata": {
    "collapsed": false
   },
   "outputs": [],
   "source": [
    "def use_dtc_to_plotting(dtcpop,minimagr):\n",
    "    from neuronunit.capabilities import spike_functions\n",
    "    import matplotlib.pyplot as plt\n",
    "    import numpy as np\n",
    "    plt.clf()\n",
    "    plt.style.use('ggplot')\n",
    "    fig, axes = plt.subplots(figsize=(10, 10), facecolor='white')\n",
    "    stored_min = []\n",
    "    stored_max = []\n",
    "    for dtc in dtcpop[1:-1]:\n",
    "        plt.plot(dtc.tvec, dtc.vm0,linewidth=3.5, color='grey')\n",
    "        stored_min.append(np.min(dtc.vm0))\n",
    "        stored_max.append(np.max(dtc.vm0))\n",
    "        \n",
    "    from neuronunit.models.reduced import ReducedModel\n",
    "    from neuronunit.optimization.get_neab import tests as T\n",
    "    from neuronunit.optimization import get_neab\n",
    "    from neuronunit.optimization import evaluate_as_module\n",
    "    from neuronunit.optimization.evaluate_as_module import pre_format\n",
    "    model = ReducedModel(get_neab.LEMS_MODEL_PATH,name=str('vanilla'),backend='NEURON')\n",
    "    import neuron\n",
    "    model._backend.reset_neuron(neuron)\n",
    "    model.set_attrs(minimagr.attrs)\n",
    "    model.rheobase = minimagr.rheobase['value']\n",
    "    minimagr = pre_format(minimagr)\n",
    "    parameter_list = list(minimagr.vtest.values())\n",
    "    model.inject_square_current(parameter_list[0])\n",
    "    model._backend.local_run()\n",
    "    assert model.get_spike_count() == 1\n",
    "    print(model.get_spike_count(),bool(model.get_spike_count() == 1))\n",
    "    brute_best = list(model.results['vm'])\n",
    "\n",
    "    plt.plot(dtcpop[0].tvec, brute_best,linewidth=1, color='blue',label='best candidate via grid')#+str(mini.scores))\n",
    "    plt.plot(dtcpop[0].tvec,dtcpop[0].vm0,linewidth=1, color='red',label='best candidate via GA')#+str(miniga.scores))\n",
    "    plt.legend()\n",
    "    plt.ylabel('$V_{m}$ mV')\n",
    "    plt.xlabel('ms')\n",
    "    plt.show()\n",
    "from neuronunit import plottools\n",
    "from neuronunit.plottools import dtc_to_plotting\n",
    "\n",
    "CACHE_PLOTTING = False\n",
    "if CACHE_PLOTTING == False:\n",
    "    dtc_pop = dview.map_sync(dtc_to_plotting,dtc_pop )\n",
    "    with open('plotting_dump.p','wb') as f:\n",
    "       pickle.dump(dtc_pop,f)\n",
    "else: \n",
    "     dtc_pop  = pickle.load(open('plotting_dump.p','rb'))\n",
    "\n",
    "use_dtc_to_plotting(dtc_pop,minimagr_dtc)\n",
    "            "
   ]
  },
  {
   "cell_type": "markdown",
   "metadata": {},
   "source": [
    "# Comment on plot\n",
    "There is good agreement between traces produced by the best candidate found by Genetic Algorithm, and exhaustive grid search."
   ]
  },
  {
   "cell_type": "code",
   "execution_count": null,
   "metadata": {
    "collapsed": false
   },
   "outputs": [],
   "source": [
    "import pandas as pd\n",
    "\n",
    "print(dtc_pop[0].scores)\n",
    "print(minimagr_dtc.scores)\n",
    "print(sum(list(dtc_pop[0].scores.values())))\n",
    "print(sum(list(minimagr_dtc.scores.values())))\n",
    "miniga = sum(list(dtc_pop[0].scores.values()))\n",
    "print(miniga)\n"
   ]
  },
  {
   "cell_type": "markdown",
   "metadata": {},
   "source": [
    "# Quantize distance between minimimum error and maximum error.\n",
    "This step will allow the GA's performance to be located within or below the range of error found by grid search.\n"
   ]
  },
  {
   "cell_type": "code",
   "execution_count": null,
   "metadata": {
    "collapsed": false
   },
   "outputs": [],
   "source": [
    "print(maxi)\n",
    "print(mini)\n",
    "print(miniga)\n",
    "quantize_distance = list(np.linspace(mini,maxi,10))\n",
    "\n",
    "# check that the nsga error is in the bottom 1/5th of the entire error range.\n",
    "print('Report: ')\n",
    "print(\"Success\" if bool(miniga < quantize_distance[0]) else \"Failure\")\n",
    "print(\"The nsga error %f is in the bottom 1/5th of the entire error range\" % miniga)\n",
    "print(\"Minimum = %f; 20th percentile = %f; Maximum = %f\" % (mini,quantize_distance[0],maxi))"
   ]
  },
  {
   "cell_type": "markdown",
   "metadata": {},
   "source": [
    "The code below reports on the differences between between attributes of best models found via grid versus attributes of best models found via GA search:\n"
   ]
  },
  {
   "cell_type": "code",
   "execution_count": null,
   "metadata": {
    "collapsed": false
   },
   "outputs": [],
   "source": [
    "import pandas as pd\n",
    "\n",
    "from neuronunit.optimization import evaluate_as_module as eam\n",
    "NSGAO = NSGA(0.85)\n",
    "NSGAO.setnparams(nparams=nparams,provided_keys=provided_keys)\n",
    "#td = eam.get_trans_dict(NSGAO.subset)\n",
    "#print(td)\n",
    "td = { v:k for k,v in enumerate(td) }\n",
    "from neuronunit.optimization import model_parameters as modelp\n",
    "mp = modelp.model_params\n",
    "#minimaga = pareto_dtc[0]\n",
    "for k,v in minimagr_dtc.attrs.items():\n",
    "    #hvgrid = np.linspace(np.min(mp[k]),np.max(mp[k]),10)\n",
    "    dimension_length = np.max(mp[k]) - np.min(mp[k])\n",
    "    solution_distance_in_1D = np.abs(float(hof[0][td[k]]))-np.abs(float(v))\n",
    "        \n",
    "    #solution_distance_in_1D = np.abs(float(minimaga.attrs[k]))-np.abs(float(v))\n",
    "    relative_distance = dimension_length/solution_distance_in_1D\n",
    "    print('the difference between brute force candidates model parameters and the GA\\'s model parameters:')\n",
    "    print(float(hof[0][td[k]])-float(v),hof[0][td[k]],v,k)\n",
    "    print('the relative distance scaled by the length of the parameter dimension of interest:')\n",
    "    print(relative_distance)\n",
    "\n",
    "    \n",
    "    "
   ]
  },
  {
   "cell_type": "code",
   "execution_count": null,
   "metadata": {
    "collapsed": false
   },
   "outputs": [],
   "source": [
    "\n",
    "print('the difference between the bf error and the GA\\'s error:')\n",
    "print('grid search:')\n",
    "from numpy import square, mean, sqrt\n",
    "rmsg = sqrt(mean(square(list(minimagr_dtc.scores.values()))))\n",
    "print(rmsg)\n",
    "print('ga:')\n",
    "rmsga = sqrt(mean(square(list(dtc_pop[0].scores.values()))))\n",
    "print(rmsga)\n",
    "print('Hall of Fame front')\n",
    "print(sqrt(mean(square(list(hof[0].fitness.values)))))\n",
    "print(miniga)\n"
   ]
  },
  {
   "cell_type": "markdown",
   "metadata": {},
   "source": [
    "If any time is left over, may as well compute a more accurate grid, to better quantify GA performance in the future."
   ]
  },
  {
   "cell_type": "code",
   "execution_count": null,
   "metadata": {
    "collapsed": false
   },
   "outputs": [],
   "source": [
    "'''print(refined_grid)\n",
    "REFINED_GRID = True\n",
    "if REFINE_GRID:\n",
    "    from neuronunit.optimization import exhaustive_search\n",
    "    #maximagr_dtc, maxi = sorted_dtcs(dtcpopg)[-1]\n",
    "\n",
    "    dlist = list(dview.map_sync(exhaustive_search.update_dtc_pop,refined_grid))\n",
    "    from neuronunit.optimization import get_neab\n",
    "    for d in dlist:\n",
    "        d.model_path = get_neab.LEMS_MODEL_PATH\n",
    "        d.LEMS_MODEL_PATH = get_neab.LEMS_MODEL_PATH\n",
    "\n",
    "    # this is a big load on memory so divide it into thirds.\n",
    "\n",
    "    dlist_first_third = dlist[0:int(len(dlist)/3)]\n",
    "    dlist_second_third = dlist[int(len(dlist)/3):int(2*len(dlist)/3)]\n",
    "    dlist_final_third = dlist[int(2*len(dlist)/3):-1]\n",
    "    from neuronunit.optimization.exhaustive_search import dtc_to_rheo\n",
    "    from neuronunit.optimization.nsga_parallel import nunit_evaluation\n",
    "\n",
    "    def compute_half(dlist_half):\n",
    "        dlist_half = list(map(dtc_to_rheo,dlist_half))\n",
    "        dlist_half = dview.map_sync(nunit_evaluation,dlist_half)\n",
    "        return dlist_half\n",
    "\n",
    "    dlist_first_3rd = compute_half(dlist_first_third)\n",
    "\n",
    "    with open('grid_dump_first_3rd.p','wb') as f:\n",
    "       pickle.dump(dlist_first_3rd,f)\n",
    "    # Garbage collect a big memory burden.\n",
    "    dlist_first_3rd = None\n",
    "    dlist_second_3rd = compute_half(dlist_second_third)\n",
    "\n",
    "    with open('grid_dump_second_3rd.p','wb') as f:\n",
    "       pickle.dump(dlist_second_3rd,f)\n",
    "    # Garbage collect a big memory burden.\n",
    "    dlist_second_3rd = None\n",
    "\n",
    "    dlist_final_3rd = compute_half(dlist_final_third)\n",
    "    with open('grid_dump_final_3rd.p','wb') as f:\n",
    "       pickle.dump(dlist_final_3rd,f)\n",
    "    # Garbage collect a big memory burden.\n",
    "    dlist_final_3rd = None\n",
    "'''\n"
   ]
  },
  {
   "cell_type": "code",
   "execution_count": null,
   "metadata": {
    "collapsed": true
   },
   "outputs": [],
   "source": []
  },
  {
   "cell_type": "code",
   "execution_count": null,
   "metadata": {
    "collapsed": true
   },
   "outputs": [],
   "source": []
  },
  {
   "cell_type": "code",
   "execution_count": null,
   "metadata": {
    "collapsed": true
   },
   "outputs": [],
   "source": []
  },
  {
   "cell_type": "code",
   "execution_count": null,
   "metadata": {
    "collapsed": true
   },
   "outputs": [],
   "source": []
  },
  {
   "cell_type": "code",
   "execution_count": null,
   "metadata": {
    "collapsed": true
   },
   "outputs": [],
   "source": []
  }
 ],
 "metadata": {
  "kernelspec": {
   "display_name": "Python 3",
   "language": "python",
   "name": "python3"
  },
  "language_info": {
   "codemirror_mode": {
    "name": "ipython",
    "version": 3
   },
   "file_extension": ".py",
   "mimetype": "text/x-python",
   "name": "python",
   "nbconvert_exporter": "python",
   "pygments_lexer": "ipython3",
   "version": "3.5.2"
  }
 },
 "nbformat": 4,
 "nbformat_minor": 2
}
