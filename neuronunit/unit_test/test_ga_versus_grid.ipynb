{
 "cells": [
  {
   "cell_type": "code",
   "execution_count": 1,
   "metadata": {
    "collapsed": false
   },
   "outputs": [
    {
     "name": "stdout",
     "output_type": "stream",
     "text": [
      "Uninstalling sciunit-0.19:\n",
      "  Successfully uninstalled sciunit-0.19\n",
      "\u001b[33mYou are using pip version 9.0.1, however version 10.0.1 is available.\n",
      "You should consider upgrading via the 'pip install --upgrade pip' command.\u001b[0m\n",
      "Collecting git+https://github.com/scidash/sciunit@dev\n",
      "  Cloning https://github.com/scidash/sciunit (to dev) to /tmp/pip-t87yv3p2-build\n",
      "Requirement already satisfied: cypy>=0.2 in /opt/conda/lib/python3.5/site-packages (from sciunit==0.2)\n",
      "Requirement already satisfied: quantities==0.12.1 in /opt/conda/lib/python3.5/site-packages (from sciunit==0.2)\n",
      "Requirement already satisfied: pandas>=0.18 in /opt/conda/lib/python3.5/site-packages (from sciunit==0.2)\n",
      "Requirement already satisfied: ipython in /opt/conda/lib/python3.5/site-packages (from sciunit==0.2)\n",
      "Requirement already satisfied: matplotlib in /opt/conda/lib/python3.5/site-packages (from sciunit==0.2)\n",
      "Requirement already satisfied: bs4 in /opt/conda/lib/python3.5/site-packages (from sciunit==0.2)\n",
      "Requirement already satisfied: lxml in /opt/conda/lib/python3.5/site-packages (from sciunit==0.2)\n",
      "Requirement already satisfied: nbconvert in /opt/conda/lib/python3.5/site-packages (from sciunit==0.2)\n",
      "Requirement already satisfied: ipykernel in /opt/conda/lib/python3.5/site-packages (from sciunit==0.2)\n",
      "Requirement already satisfied: nbformat in /opt/conda/lib/python3.5/site-packages (from sciunit==0.2)\n",
      "Requirement already satisfied: gitpython in /opt/conda/lib/python3.5/site-packages (from sciunit==0.2)\n",
      "Requirement already satisfied: pytz>=2011k in /opt/conda/lib/python3.5/site-packages (from pandas>=0.18->sciunit==0.2)\n",
      "Requirement already satisfied: python-dateutil>=2 in /opt/conda/lib/python3.5/site-packages (from pandas>=0.18->sciunit==0.2)\n",
      "Requirement already satisfied: numpy>=1.9.0 in /opt/conda/lib/python3.5/site-packages (from pandas>=0.18->sciunit==0.2)\n",
      "Requirement already satisfied: decorator in /opt/conda/lib/python3.5/site-packages (from ipython->sciunit==0.2)\n",
      "Requirement already satisfied: pexpect; sys_platform != \"win32\" in /opt/conda/lib/python3.5/site-packages (from ipython->sciunit==0.2)\n",
      "Requirement already satisfied: jedi>=0.10 in /opt/conda/lib/python3.5/site-packages (from ipython->sciunit==0.2)\n",
      "Requirement already satisfied: setuptools>=18.5 in /opt/conda/lib/python3.5/site-packages (from ipython->sciunit==0.2)\n",
      "Requirement already satisfied: simplegeneric>0.8 in /opt/conda/lib/python3.5/site-packages (from ipython->sciunit==0.2)\n",
      "Requirement already satisfied: traitlets>=4.2 in /opt/conda/lib/python3.5/site-packages (from ipython->sciunit==0.2)\n",
      "Requirement already satisfied: pygments in /opt/conda/lib/python3.5/site-packages (from ipython->sciunit==0.2)\n",
      "Requirement already satisfied: prompt-toolkit<2.0.0,>=1.0.4 in /opt/conda/lib/python3.5/site-packages (from ipython->sciunit==0.2)\n",
      "Requirement already satisfied: pickleshare in /opt/conda/lib/python3.5/site-packages (from ipython->sciunit==0.2)\n",
      "Requirement already satisfied: six>=1.10 in /opt/conda/lib/python3.5/site-packages (from matplotlib->sciunit==0.2)\n",
      "Requirement already satisfied: cycler>=0.10 in /opt/conda/lib/python3.5/site-packages (from matplotlib->sciunit==0.2)\n",
      "Requirement already satisfied: pyparsing!=2.0.4,!=2.1.2,!=2.1.6,>=2.0.1 in /opt/conda/lib/python3.5/site-packages (from matplotlib->sciunit==0.2)\n",
      "Requirement already satisfied: beautifulsoup4 in /opt/conda/lib/python3.5/site-packages (from bs4->sciunit==0.2)\n",
      "Requirement already satisfied: entrypoints>=0.2.2 in /opt/conda/lib/python3.5/site-packages (from nbconvert->sciunit==0.2)\n",
      "Requirement already satisfied: mistune>=0.7.4 in /opt/conda/lib/python3.5/site-packages (from nbconvert->sciunit==0.2)\n",
      "Requirement already satisfied: pandocfilters>=1.4.1 in /opt/conda/lib/python3.5/site-packages (from nbconvert->sciunit==0.2)\n",
      "Requirement already satisfied: bleach in /opt/conda/lib/python3.5/site-packages (from nbconvert->sciunit==0.2)\n",
      "Requirement already satisfied: jinja2 in /opt/conda/lib/python3.5/site-packages (from nbconvert->sciunit==0.2)\n",
      "Requirement already satisfied: testpath in /opt/conda/lib/python3.5/site-packages (from nbconvert->sciunit==0.2)\n",
      "Requirement already satisfied: jupyter-core in /opt/conda/lib/python3.5/site-packages (from nbconvert->sciunit==0.2)\n",
      "Requirement already satisfied: tornado>=4.0 in /opt/conda/lib/python3.5/site-packages (from ipykernel->sciunit==0.2)\n",
      "Requirement already satisfied: jupyter-client in /opt/conda/lib/python3.5/site-packages (from ipykernel->sciunit==0.2)\n",
      "Requirement already satisfied: ipython-genutils in /opt/conda/lib/python3.5/site-packages (from nbformat->sciunit==0.2)\n",
      "Requirement already satisfied: jsonschema!=2.5.0,>=2.4 in /opt/conda/lib/python3.5/site-packages (from nbformat->sciunit==0.2)\n",
      "Requirement already satisfied: gitdb2>=2.0.0 in /opt/conda/lib/python3.5/site-packages (from gitpython->sciunit==0.2)\n",
      "Requirement already satisfied: ptyprocess>=0.5 in /opt/conda/lib/python3.5/site-packages (from pexpect; sys_platform != \"win32\"->ipython->sciunit==0.2)\n",
      "Requirement already satisfied: parso==0.1.1 in /opt/conda/lib/python3.5/site-packages (from jedi>=0.10->ipython->sciunit==0.2)\n",
      "Requirement already satisfied: wcwidth in /opt/conda/lib/python3.5/site-packages (from prompt-toolkit<2.0.0,>=1.0.4->ipython->sciunit==0.2)\n",
      "Requirement already satisfied: html5lib!=0.9999,!=0.99999,<0.99999999,>=0.999 in /opt/conda/lib/python3.5/site-packages (from bleach->nbconvert->sciunit==0.2)\n",
      "Requirement already satisfied: MarkupSafe>=0.23 in /opt/conda/lib/python3.5/site-packages (from jinja2->nbconvert->sciunit==0.2)\n",
      "Requirement already satisfied: pytest; python_version >= \"3.4\" or python_version == \"2.7\" and extra == \"test\" in /opt/conda/lib/python3.5/site-packages (from jupyter-client->ipykernel->sciunit==0.2)\n",
      "Requirement already satisfied: pyzmq>=13 in /opt/conda/lib/python3.5/site-packages (from jupyter-client->ipykernel->sciunit==0.2)\n",
      "Requirement already satisfied: smmap2>=2.0.0 in /opt/conda/lib/python3.5/site-packages (from gitdb2>=2.0.0->gitpython->sciunit==0.2)\n",
      "Requirement already satisfied: attrs>=17.2.0 in /opt/conda/lib/python3.5/site-packages (from pytest; python_version >= \"3.4\" or python_version == \"2.7\" and extra == \"test\"->jupyter-client->ipykernel->sciunit==0.2)\n",
      "Requirement already satisfied: pluggy<0.7,>=0.5 in /opt/conda/lib/python3.5/site-packages (from pytest; python_version >= \"3.4\" or python_version == \"2.7\" and extra == \"test\"->jupyter-client->ipykernel->sciunit==0.2)\n",
      "Requirement already satisfied: py>=1.5.0 in /opt/conda/lib/python3.5/site-packages (from pytest; python_version >= \"3.4\" or python_version == \"2.7\" and extra == \"test\"->jupyter-client->ipykernel->sciunit==0.2)\n",
      "Installing collected packages: sciunit\n",
      "  Found existing installation: sciunit 0.1.5.8\n",
      "    Uninstalling sciunit-0.1.5.8:\n",
      "      Successfully uninstalled sciunit-0.1.5.8\n",
      "  Running setup.py install for sciunit ... \u001b[?25l-\b \b\\\b \bdone\n",
      "\u001b[?25hSuccessfully installed sciunit-0.2\n",
      "\u001b[33mYou are using pip version 9.0.1, however version 10.0.1 is available.\n",
      "You should consider upgrading via the 'pip install --upgrade pip' command.\u001b[0m\n",
      "fatal: destination path 'AllenInstituteNeuroML' already exists and is not an empty directory.\n",
      "Collecting git+https://github.com/OpenSourceBrain/OpenCortex@dev\n",
      "  Cloning https://github.com/OpenSourceBrain/OpenCortex (to dev) to /tmp/pip-ymxmsf1u-build\n",
      "\u001b[33m  Could not find a tag or branch 'dev', assuming commit.\u001b[0m\n",
      "error: pathspec 'dev' did not match any file(s) known to git.\n",
      "\u001b[31mCommand \"git checkout -q dev\" failed with error code 1 in /tmp/pip-ymxmsf1u-build\u001b[0m\n",
      "\u001b[33mYou are using pip version 9.0.1, however version 10.0.1 is available.\n",
      "You should consider upgrading via the 'pip install --upgrade pip' command.\u001b[0m\n"
     ]
    }
   ],
   "source": [
    "!bash sciunit_fix.sh"
   ]
  },
  {
   "cell_type": "markdown",
   "metadata": {},
   "source": [
    "\n",
    "# Assumptions about this code:\n",
    "The NB was launched with a command that mounts two volumes inside a docker container. \n",
    "In the future invocation of this script will be simplified greatly. NU is from a specific fork and branch -b results https://github.com/russelljjarvis/neuronunit \n",
    "BluePyOpt is also from a specific fork and branch: -b elitism https://github.com/russelljjarvis/BluePyOpt\n",
    "\n",
    "Below BASH code for Ubuntu host:\n",
    "\n",
    "``` bash\n",
    "cd ~/git/neuronunit; sudo docker run -it -v `pwd`:/home/jovyan/neuronunit -v ~/git/BluePyOpt:/home/jovyan/BluePyOpt neuronunit-optimization /bin/bash'\n",
    "```\n",
    "\n",
    "## Parallel Environment.\n",
    "Parallelisation module: dask distributed."
   ]
  },
  {
   "cell_type": "code",
   "execution_count": 3,
   "metadata": {
    "collapsed": false
   },
   "outputs": [
    {
     "name": "stdout",
     "output_type": "stream",
     "text": [
      "Ign http://cdn-fastly.deb.debian.org jessie InRelease        \n",
      "Get:1 http://cdn-fastly.deb.debian.org jessie/updates InRelease [94.4 kB]\n",
      "Get:2 http://cdn-fastly.deb.debian.org jessie Release.gpg [2,434 B]\n",
      "Get:3 http://cdn-fastly.deb.debian.org jessie Release [148 kB]      \n",
      "Get:4 http://cdn-fastly.deb.debian.org jessie/updates/main amd64 Packages [622 kB]\n",
      "Get:5 http://cdn-fastly.deb.debian.org jessie/main amd64 Packages [9,064 kB]   \n",
      "Fetched 9,931 kB in 17s (582 kB/s)                                             \n",
      "Reading package lists... Done\n",
      "W: Size of file /var/lib/apt/lists/cdn-fastly.deb.debian.org_debian_dists_jessie_main_binary-amd64_Packages.gz is not what the server reported 9064025 9065020\n",
      "Reading package lists... Done\n",
      "Building dependency tree       \n",
      "Reading state information... Done\n",
      "graphviz is already the newest version.\n",
      "0 upgraded, 0 newly installed, 0 to remove and 177 not upgraded.\n",
      "Fetching package metadata ...........\n",
      "Solving package specifications: ..........\n",
      "\n",
      "Package plan for installation in environment /opt/conda:\n",
      "\n",
      "The following packages will be downloaded:\n",
      "\n",
      "    package                    |            build\n",
      "    ---------------------------|-----------------\n",
      "    yaml-0.1.7                 |                0         302 KB  conda-forge\n",
      "    futures-compat-1.0         |            py3_0          313 B\n",
      "    packaging-17.1             |             py_0          20 KB  conda-forge\n",
      "    bokeh-0.12.16              |     pyh48623ea_0         4.7 MB  bokeh\n",
      "    pandas-0.22.0              |           py35_1        25.6 MB  conda-forge\n",
      "    ------------------------------------------------------------\n",
      "                                           Total:        30.6 MB\n",
      "\n",
      "The following NEW packages will be INSTALLED:\n",
      "\n",
      "    futures-compat: 1.0-py3_0                     \n",
      "    packaging:      17.1-py_0          conda-forge\n",
      "\n",
      "The following packages will be UPDATED:\n",
      "\n",
      "    bokeh:          0.11.1-py35_0                  --> 0.12.16-pyh48623ea_0 bokeh      \n",
      "    pandas:         0.19.2-np110py35_1 conda-forge --> 0.22.0-py35_1        conda-forge\n",
      "    yaml:           0.1.6-0                        --> 0.1.7-0              conda-forge\n",
      "\n",
      "Fetching packages ...\n",
      "yaml-0.1.7-0.t 100% |################################| Time: 0:00:00 749.49 kB/s\n",
      "futures-compat 100% |################################| Time: 0:00:00 189.33 kB/s\n",
      "packaging-17.1 100% |################################| Time: 0:00:00 259.07 kB/s\n",
      "bokeh-0.12.16- 100% |################################| Time: 0:00:02   2.26 MB/s\n",
      "pandas-0.22.0- 100% |################################| Time: 0:00:22   1.18 MB/s\n",
      "Extracting packages ...\n",
      "[      COMPLETE      ]|###################################################| 100%\n",
      "Unlinking packages ...\n",
      "[      COMPLETE      ]|###################################################| 100%\n",
      "Linking packages ...\n",
      "[      COMPLETE      ]|###################################################| 100%\n"
     ]
    }
   ],
   "source": [
    "import os\n",
    "os.system('jupyter trust test_ga_versus_grid.ipynb'); #suppress the untrusted notebook warning.\n",
    "#os.system('sudo apt-get install -y graphviz')\n",
    "!sudo apt-get update\n",
    "!sudo apt-get install -y graphviz\n",
    "!conda install -y bokeh -c bokeh\n"
   ]
  },
  {
   "cell_type": "code",
   "execution_count": 13,
   "metadata": {
    "collapsed": false
   },
   "outputs": [
    {
     "name": "stdout",
     "output_type": "stream",
     "text": [
      "{'nifext_50': {'history': <deap.tools.support.History object at 0x7f1e0217b390>, 'log': [{'gen': 1, 'max': 3.9824073540479925, 'min': 3.9824073540479925, 'nevals': 6, 'std': 0.0, 'avg': 3.9824073540479925}, {'gen': 2, 'max': 3.9824073540479925, 'min': 3.9824073540479925, 'nevals': 6, 'std': 0.0, 'avg': 3.9824073540479925}, {'gen': 3, 'max': 3.9824073540479925, 'min': 3.9824073540479925, 'nevals': 6, 'std': 0.0, 'avg': 3.9824073540479925}, {'gen': 4, 'max': 3.9824073540479925, 'min': 3.9824073540479925, 'nevals': 6, 'std': 0.0, 'avg': 3.9824073540479925}, {'gen': 5, 'max': 3.9824073540479925, 'min': 3.9824073540479925, 'nevals': 6, 'std': 0.0, 'avg': 3.9824073540479925}, {'gen': 6, 'max': 3.9824073540479925, 'min': 3.9824073540479925, 'nevals': 6, 'std': 0.0, 'avg': 3.9824073540479925}], 'td_py': ['vr', 'vpeak', 'd', 'v0', 'a', 'vt', 'c', 'b', 'k', 'C'], 'gen_vs_hof': [<deap.tools.support.HallOfFame object at 0x7f1e01ea1748>, [-71.640893897189969, 38.474337369372329, 0.16456619284649213, -67.347929227817346, 0.46818615730188418, -41.01017870422524, -56.742035136386185, -3.0281916221612172e-09, 0.00070227188181616086, 9.0566954058787606e-05], [-71.640893897189969, 38.474337369372329, 0.16456619284649213, -67.347929227817346, 0.46818615730188418, -41.01017870422524, -56.742035136386185, -3.0281916221612172e-09, 0.00070227188181616086, 9.0566954058787606e-05], [-71.640893897189969, 38.474337369372329, 0.1781572924776445, -74.712707146849496, 0.21791757198798262, -39.75052359282752, -57.388841052665612, -3.0377046328219979e-09, 0.0006454328764224802, 9.0671178518141133e-05], [-71.640893897189969, 38.474337369372329, 0.1781572924776445, -74.712707146849496, 0.21791757198798262, -39.75052359282752, -57.388841052665612, -3.0377046328219979e-09, 0.0006454328764224802, 9.0671178518141133e-05], [-71.640893897189969, 38.474337369372329, 0.1781572924776445, -74.712707146849496, 0.21791757198798262, -39.75052359282752, -57.388841052665612, -3.0377046328219979e-09, 0.0006454328764224802, 9.0671178518141133e-05], [-71.640893897189969, 38.474337369372329, 0.1781572924776445, -74.712707146849496, 0.21791757198798262, -39.75052359282752, -57.388841052665612, -3.0377046328219979e-09, 0.0006454328764224802, 9.0671178518141133e-05]], 'pop': [[-67.415787226677054, 33.049633364513284, 0.15773668841980881, -60.216286794468061, 0.44812181131493212, -39.823586137128046, -59.641536321225779, -4.3054735567073552e-09, 0.0012277993810177845, 9.7123010711956751e-05], [-69.543296423437155, 34.725387377409376, 0.079472646593231111, -51.699717559034951, 0.35885939956548418, -38.634015052775055, -56.194359355162042, -4.4009975637670093e-09, 0.001124566659457983, 9.3718130003800625e-05], [-63.218121032540502, 34.172276760745191, 0.079745847983651294, -67.920775274228063, 0.28001636649893485, -44.670673700703631, -59.817844969089421, -3.3554376958010201e-09, 0.00095876780445234883, 9.3683955223409354e-05], [-69.543296423437155, 34.725387377409376, 0.079472646593231111, -51.699717559034951, 0.35885939956548418, -38.634015052775055, -56.194359355162042, -4.4009975637670093e-09, 0.001124566659457983, 9.3718130003800625e-05], [-67.415787226677054, 32.836825360681594, 0.15773668841980881, -60.216286794468061, 0.47749321044772236, -38.219954840348969, -59.641536321225779, -4.3931500661423311e-09, 0.0012277993810177845, 9.7123010711956751e-05], [-67.415787226677054, 32.836825360681594, 0.15773668841980881, -60.216286794468061, 0.47749321044772236, -38.219954840348969, -59.641536321225779, -4.3931500661423311e-09, 0.0012277993810177845, 9.7123010711956751e-05], [-67.415787226677054, 33.049633364513284, 0.13967031256822021, -49.986326326607177, 0.44641271119563614, -39.823586137128046, -59.686914037589681, -4.375364400904473e-09, 0.0012277993810177845, 9.6096713542183601e-05], [-69.543296423437155, 32.823656138749264, 0.09527883137716775, -62.349947401431301, 0.36056849968483701, -32.695562495752796, -56.293491654840793, -4.5014211569640041e-09, 0.001124566659457983, 9.7337924776734553e-05], [-65.002827579931477, 32.913144631142842, 0.07976676962593493, -68.684839307407699, 0.28001636649893485, -44.670673700703631, -59.817844969089421, -3.3554376958010201e-09, 0.00093069499045410234, 9.1153635465045127e-05], [-69.543296423437155, 34.725387377409376, 0.079451724950947489, -48.43174297963467, 0.35885939956548418, -38.275651954804907, -56.194359355162042, -4.1932605118411312e-09, 0.0010912222576087993, 9.6422559752557069e-05], [-68.092921320429483, 32.836825360681594, 0.15724201754391484, -57.254104801517514, 0.47749321044772236, -44.439675443320127, -59.641536321225779, -4.0954034273170235e-09, 0.0012447671906182273, 9.7123010711956751e-05], [-68.184635501543355, 32.836825360681594, 0.18572611488033222, -60.216286794468061, 0.47749321044772236, -38.219954840348969, -59.641536321225779, -4.3931500661423311e-09, 0.0012277993810177845, 9.8535202159037738e-05]], 'hof_py': <deap.tools.support.HallOfFame object at 0x7f1e01eb76d8>}, 'NLXWIKI:sao471801888': {'history': <deap.tools.support.History object at 0x7f1e021caa20>, 'log': [{'gen': 1, 'max': 3.8388413685191409, 'min': 3.8388413685191409, 'nevals': 6, 'std': 0.0, 'avg': 3.8388413685191409}, {'gen': 2, 'max': 3.8388413685191409, 'min': 3.8388413685191409, 'nevals': 6, 'std': 0.0, 'avg': 3.8388413685191409}, {'gen': 3, 'max': 3.8388413685191409, 'min': 3.8388413685191409, 'nevals': 6, 'std': 0.0, 'avg': 3.8388413685191409}, {'gen': 4, 'max': 3.8388413685191409, 'min': 3.8388413685191409, 'nevals': 6, 'std': 0.0, 'avg': 3.8388413685191409}, {'gen': 5, 'max': 3.8388413685191409, 'min': 3.8388413685191409, 'nevals': 6, 'std': 0.0, 'avg': 3.8388413685191409}, {'gen': 6, 'max': 3.8388413685191409, 'min': 3.8388413685191409, 'nevals': 6, 'std': 0.0, 'avg': 3.8388413685191409}], 'td_py': ['vr', 'vpeak', 'd', 'v0', 'a', 'vt', 'c', 'b', 'k', 'C'], 'gen_vs_hof': [<deap.tools.support.HallOfFame object at 0x7f1e0266a2e8>, [-71.640893897189969, 38.474337369372329, 0.16456619284649213, -67.347929227817346, 0.46818615730188418, -41.01017870422524, -56.742035136386185, -3.0281916221612172e-09, 0.00070227188181616086, 9.0566954058787606e-05], [-71.640893897189969, 38.474337369372329, 0.16456619284649213, -67.347929227817346, 0.46818615730188418, -41.01017870422524, -56.742035136386185, -3.0281916221612172e-09, 0.00070227188181616086, 9.0566954058787606e-05], [-71.640893897189969, 38.474337369372329, 0.1781572924776445, -74.712707146849496, 0.21791757198798262, -39.75052359282752, -57.388841052665612, -3.0377046328219979e-09, 0.0006454328764224802, 9.0671178518141133e-05], [-71.640893897189969, 38.474337369372329, 0.1781572924776445, -74.712707146849496, 0.21791757198798262, -39.75052359282752, -57.388841052665612, -3.0377046328219979e-09, 0.0006454328764224802, 9.0671178518141133e-05], [-71.640893897189969, 38.474337369372329, 0.1781572924776445, -74.712707146849496, 0.21791757198798262, -39.75052359282752, -57.388841052665612, -3.0377046328219979e-09, 0.0006454328764224802, 9.0671178518141133e-05], [-71.640893897189969, 38.474337369372329, 0.1781572924776445, -74.712707146849496, 0.21791757198798262, -39.75052359282752, -57.388841052665612, -3.0377046328219979e-09, 0.0006454328764224802, 9.0671178518141133e-05]], 'pop': [[-67.415787226677054, 33.049633364513284, 0.15773668841980881, -60.216286794468061, 0.44812181131493212, -39.823586137128046, -59.641536321225779, -4.3054735567073552e-09, 0.0012277993810177845, 9.7123010711956751e-05], [-69.543296423437155, 34.725387377409376, 0.079472646593231111, -51.699717559034951, 0.35885939956548418, -38.634015052775055, -56.194359355162042, -4.4009975637670093e-09, 0.001124566659457983, 9.3718130003800625e-05], [-63.218121032540502, 34.172276760745191, 0.079745847983651294, -67.920775274228063, 0.28001636649893485, -44.670673700703631, -59.817844969089421, -3.3554376958010201e-09, 0.00095876780445234883, 9.3683955223409354e-05], [-69.543296423437155, 34.725387377409376, 0.079472646593231111, -51.699717559034951, 0.35885939956548418, -38.634015052775055, -56.194359355162042, -4.4009975637670093e-09, 0.001124566659457983, 9.3718130003800625e-05], [-67.415787226677054, 32.836825360681594, 0.15773668841980881, -60.216286794468061, 0.47749321044772236, -38.219954840348969, -59.641536321225779, -4.3931500661423311e-09, 0.0012277993810177845, 9.7123010711956751e-05], [-67.415787226677054, 32.836825360681594, 0.15773668841980881, -60.216286794468061, 0.47749321044772236, -38.219954840348969, -59.641536321225779, -4.3931500661423311e-09, 0.0012277993810177845, 9.7123010711956751e-05], [-67.415787226677054, 33.049633364513284, 0.13967031256822021, -49.986326326607177, 0.44641271119563614, -39.823586137128046, -59.686914037589681, -4.375364400904473e-09, 0.0012277993810177845, 9.6096713542183601e-05], [-69.543296423437155, 32.823656138749264, 0.09527883137716775, -62.349947401431301, 0.36056849968483701, -32.695562495752796, -56.293491654840793, -4.5014211569640041e-09, 0.001124566659457983, 9.7337924776734553e-05], [-65.002827579931477, 32.913144631142842, 0.07976676962593493, -68.684839307407699, 0.28001636649893485, -44.670673700703631, -59.817844969089421, -3.3554376958010201e-09, 0.00093069499045410234, 9.1153635465045127e-05], [-69.543296423437155, 34.725387377409376, 0.079451724950947489, -48.43174297963467, 0.35885939956548418, -38.275651954804907, -56.194359355162042, -4.1932605118411312e-09, 0.0010912222576087993, 9.6422559752557069e-05], [-68.092921320429483, 32.836825360681594, 0.15724201754391484, -57.254104801517514, 0.47749321044772236, -44.439675443320127, -59.641536321225779, -4.0954034273170235e-09, 0.0012447671906182273, 9.7123010711956751e-05], [-68.184635501543355, 32.836825360681594, 0.18572611488033222, -60.216286794468061, 0.47749321044772236, -38.219954840348969, -59.641536321225779, -4.3931500661423311e-09, 0.0012277993810177845, 9.8535202159037738e-05]], 'hof_py': <deap.tools.support.HallOfFame object at 0x7f1e02aafcc0>}, 'SAO:830368389': {'history': <deap.tools.support.History object at 0x7f1e01eb7860>, 'log': [{'gen': 1, 'max': 3.8388413685191409, 'min': 3.8388413685191409, 'nevals': 6, 'std': 0.0, 'avg': 3.8388413685191409}, {'gen': 2, 'max': 3.8388413685191409, 'min': 3.8388413685191409, 'nevals': 6, 'std': 0.0, 'avg': 3.8388413685191409}, {'gen': 3, 'max': 3.8388413685191409, 'min': 3.8388413685191409, 'nevals': 6, 'std': 0.0, 'avg': 3.8388413685191409}, {'gen': 4, 'max': 3.8388413685191409, 'min': 3.8388413685191409, 'nevals': 6, 'std': 0.0, 'avg': 3.8388413685191409}, {'gen': 5, 'max': 3.8388413685191409, 'min': 3.8388413685191409, 'nevals': 6, 'std': 0.0, 'avg': 3.8388413685191409}, {'gen': 6, 'max': 3.8388413685191409, 'min': 3.8388413685191409, 'nevals': 6, 'std': 0.0, 'avg': 3.8388413685191409}], 'td_py': ['vr', 'vpeak', 'd', 'v0', 'a', 'vt', 'c', 'b', 'k', 'C'], 'gen_vs_hof': [<deap.tools.support.HallOfFame object at 0x7f1e01d8fe10>, [-71.640893897189969, 38.474337369372329, 0.16456619284649213, -67.347929227817346, 0.46818615730188418, -41.01017870422524, -56.742035136386185, -3.0281916221612172e-09, 0.00070227188181616086, 9.0566954058787606e-05], [-71.640893897189969, 38.474337369372329, 0.16456619284649213, -67.347929227817346, 0.46818615730188418, -41.01017870422524, -56.742035136386185, -3.0281916221612172e-09, 0.00070227188181616086, 9.0566954058787606e-05], [-71.640893897189969, 38.474337369372329, 0.1781572924776445, -74.712707146849496, 0.21791757198798262, -39.75052359282752, -57.388841052665612, -3.0377046328219979e-09, 0.0006454328764224802, 9.0671178518141133e-05], [-71.640893897189969, 38.474337369372329, 0.1781572924776445, -74.712707146849496, 0.21791757198798262, -39.75052359282752, -57.388841052665612, -3.0377046328219979e-09, 0.0006454328764224802, 9.0671178518141133e-05], [-71.640893897189969, 38.474337369372329, 0.1781572924776445, -74.712707146849496, 0.21791757198798262, -39.75052359282752, -57.388841052665612, -3.0377046328219979e-09, 0.0006454328764224802, 9.0671178518141133e-05], [-71.640893897189969, 38.474337369372329, 0.1781572924776445, -74.712707146849496, 0.21791757198798262, -39.75052359282752, -57.388841052665612, -3.0377046328219979e-09, 0.0006454328764224802, 9.0671178518141133e-05]], 'pop': [[-67.415787226677054, 33.049633364513284, 0.15773668841980881, -60.216286794468061, 0.44812181131493212, -39.823586137128046, -59.641536321225779, -4.3054735567073552e-09, 0.0012277993810177845, 9.7123010711956751e-05], [-69.543296423437155, 34.725387377409376, 0.079472646593231111, -51.699717559034951, 0.35885939956548418, -38.634015052775055, -56.194359355162042, -4.4009975637670093e-09, 0.001124566659457983, 9.3718130003800625e-05], [-63.218121032540502, 34.172276760745191, 0.079745847983651294, -67.920775274228063, 0.28001636649893485, -44.670673700703631, -59.817844969089421, -3.3554376958010201e-09, 0.00095876780445234883, 9.3683955223409354e-05], [-69.543296423437155, 34.725387377409376, 0.079472646593231111, -51.699717559034951, 0.35885939956548418, -38.634015052775055, -56.194359355162042, -4.4009975637670093e-09, 0.001124566659457983, 9.3718130003800625e-05], [-67.415787226677054, 32.836825360681594, 0.15773668841980881, -60.216286794468061, 0.47749321044772236, -38.219954840348969, -59.641536321225779, -4.3931500661423311e-09, 0.0012277993810177845, 9.7123010711956751e-05], [-67.415787226677054, 32.836825360681594, 0.15773668841980881, -60.216286794468061, 0.47749321044772236, -38.219954840348969, -59.641536321225779, -4.3931500661423311e-09, 0.0012277993810177845, 9.7123010711956751e-05], [-67.415787226677054, 33.049633364513284, 0.13967031256822021, -49.986326326607177, 0.44641271119563614, -39.823586137128046, -59.686914037589681, -4.375364400904473e-09, 0.0012277993810177845, 9.6096713542183601e-05], [-69.543296423437155, 32.823656138749264, 0.09527883137716775, -62.349947401431301, 0.36056849968483701, -32.695562495752796, -56.293491654840793, -4.5014211569640041e-09, 0.001124566659457983, 9.7337924776734553e-05], [-65.002827579931477, 32.913144631142842, 0.07976676962593493, -68.684839307407699, 0.28001636649893485, -44.670673700703631, -59.817844969089421, -3.3554376958010201e-09, 0.00093069499045410234, 9.1153635465045127e-05], [-69.543296423437155, 34.725387377409376, 0.079451724950947489, -48.43174297963467, 0.35885939956548418, -38.275651954804907, -56.194359355162042, -4.1932605118411312e-09, 0.0010912222576087993, 9.6422559752557069e-05], [-68.092921320429483, 32.836825360681594, 0.15724201754391484, -57.254104801517514, 0.47749321044772236, -44.439675443320127, -59.641536321225779, -4.0954034273170235e-09, 0.0012447671906182273, 9.7123010711956751e-05], [-68.184635501543355, 32.836825360681594, 0.18572611488033222, -60.216286794468061, 0.47749321044772236, -38.219954840348969, -59.641536321225779, -4.3931500661423311e-09, 0.0012277993810177845, 9.8535202159037738e-05]], 'hof_py': <deap.tools.support.HallOfFame object at 0x7f1e01d32dd8>}, 'NLXCELL:100201': {'history': <deap.tools.support.History object at 0x7f1e02aaffd0>, 'log': [{'gen': 1, 'max': 3.8388413685191409, 'min': 3.8388413685191409, 'nevals': 6, 'std': 0.0, 'avg': 3.8388413685191409}, {'gen': 2, 'max': 3.8388413685191409, 'min': 3.8388413685191409, 'nevals': 6, 'std': 0.0, 'avg': 3.8388413685191409}, {'gen': 3, 'max': 3.8388413685191409, 'min': 3.8388413685191409, 'nevals': 6, 'std': 0.0, 'avg': 3.8388413685191409}, {'gen': 4, 'max': 3.8388413685191409, 'min': 3.8388413685191409, 'nevals': 6, 'std': 0.0, 'avg': 3.8388413685191409}, {'gen': 5, 'max': 3.8388413685191409, 'min': 3.8388413685191409, 'nevals': 6, 'std': 0.0, 'avg': 3.8388413685191409}, {'gen': 6, 'max': 3.8388413685191409, 'min': 3.8388413685191409, 'nevals': 6, 'std': 0.0, 'avg': 3.8388413685191409}], 'td_py': ['vr', 'vpeak', 'd', 'v0', 'a', 'vt', 'c', 'b', 'k', 'C'], 'gen_vs_hof': [<deap.tools.support.HallOfFame object at 0x7f1e021eee10>, [-71.640893897189969, 38.474337369372329, 0.16456619284649213, -67.347929227817346, 0.46818615730188418, -41.01017870422524, -56.742035136386185, -3.0281916221612172e-09, 0.00070227188181616086, 9.0566954058787606e-05], [-71.640893897189969, 38.474337369372329, 0.16456619284649213, -67.347929227817346, 0.46818615730188418, -41.01017870422524, -56.742035136386185, -3.0281916221612172e-09, 0.00070227188181616086, 9.0566954058787606e-05], [-71.640893897189969, 38.474337369372329, 0.1781572924776445, -74.712707146849496, 0.21791757198798262, -39.75052359282752, -57.388841052665612, -3.0377046328219979e-09, 0.0006454328764224802, 9.0671178518141133e-05], [-71.640893897189969, 38.474337369372329, 0.1781572924776445, -74.712707146849496, 0.21791757198798262, -39.75052359282752, -57.388841052665612, -3.0377046328219979e-09, 0.0006454328764224802, 9.0671178518141133e-05], [-71.640893897189969, 38.474337369372329, 0.1781572924776445, -74.712707146849496, 0.21791757198798262, -39.75052359282752, -57.388841052665612, -3.0377046328219979e-09, 0.0006454328764224802, 9.0671178518141133e-05], [-71.640893897189969, 38.474337369372329, 0.1781572924776445, -74.712707146849496, 0.21791757198798262, -39.75052359282752, -57.388841052665612, -3.0377046328219979e-09, 0.0006454328764224802, 9.0671178518141133e-05]], 'pop': [[-67.415787226677054, 33.049633364513284, 0.15773668841980881, -60.216286794468061, 0.44812181131493212, -39.823586137128046, -59.641536321225779, -4.3054735567073552e-09, 0.0012277993810177845, 9.7123010711956751e-05], [-69.543296423437155, 34.725387377409376, 0.079472646593231111, -51.699717559034951, 0.35885939956548418, -38.634015052775055, -56.194359355162042, -4.4009975637670093e-09, 0.001124566659457983, 9.3718130003800625e-05], [-63.218121032540502, 34.172276760745191, 0.079745847983651294, -67.920775274228063, 0.28001636649893485, -44.670673700703631, -59.817844969089421, -3.3554376958010201e-09, 0.00095876780445234883, 9.3683955223409354e-05], [-69.543296423437155, 34.725387377409376, 0.079472646593231111, -51.699717559034951, 0.35885939956548418, -38.634015052775055, -56.194359355162042, -4.4009975637670093e-09, 0.001124566659457983, 9.3718130003800625e-05], [-67.415787226677054, 32.836825360681594, 0.15773668841980881, -60.216286794468061, 0.47749321044772236, -38.219954840348969, -59.641536321225779, -4.3931500661423311e-09, 0.0012277993810177845, 9.7123010711956751e-05], [-67.415787226677054, 32.836825360681594, 0.15773668841980881, -60.216286794468061, 0.47749321044772236, -38.219954840348969, -59.641536321225779, -4.3931500661423311e-09, 0.0012277993810177845, 9.7123010711956751e-05], [-67.415787226677054, 33.049633364513284, 0.13967031256822021, -49.986326326607177, 0.44641271119563614, -39.823586137128046, -59.686914037589681, -4.375364400904473e-09, 0.0012277993810177845, 9.6096713542183601e-05], [-69.543296423437155, 32.823656138749264, 0.09527883137716775, -62.349947401431301, 0.36056849968483701, -32.695562495752796, -56.293491654840793, -4.5014211569640041e-09, 0.001124566659457983, 9.7337924776734553e-05], [-65.002827579931477, 32.913144631142842, 0.07976676962593493, -68.684839307407699, 0.28001636649893485, -44.670673700703631, -59.817844969089421, -3.3554376958010201e-09, 0.00093069499045410234, 9.1153635465045127e-05], [-69.543296423437155, 34.725387377409376, 0.079451724950947489, -48.43174297963467, 0.35885939956548418, -38.275651954804907, -56.194359355162042, -4.1932605118411312e-09, 0.0010912222576087993, 9.6422559752557069e-05], [-68.092921320429483, 32.836825360681594, 0.15724201754391484, -57.254104801517514, 0.47749321044772236, -44.439675443320127, -59.641536321225779, -4.0954034273170235e-09, 0.0012447671906182273, 9.7123010711956751e-05], [-68.184635501543355, 32.836825360681594, 0.18572611488033222, -60.216286794468061, 0.47749321044772236, -38.219954840348969, -59.641536321225779, -4.3931500661423311e-09, 0.0012277993810177845, 9.8535202159037738e-05]], 'hof_py': <deap.tools.support.HallOfFame object at 0x7f1e0217b208>}}\n"
     ]
    }
   ],
   "source": [
    "import pickle\n",
    "with open('dump_all_cells','rb') as f:\n",
    "   pipe_results = pickle.load(f)\n",
    "print(pipe_results)"
   ]
  },
  {
   "cell_type": "code",
   "execution_count": 14,
   "metadata": {
    "collapsed": false
   },
   "outputs": [
    {
     "name": "stdout",
     "output_type": "stream",
     "text": [
      "   InjectedCurrentAPAmplitudeTest  InputResistanceTest  RheobaseTestP  \\\n",
      "0                        0.913818             0.110030       0.446297   \n",
      "0                        0.330432             0.999973       0.381500   \n",
      "0                        0.330432             0.999973       0.381500   \n",
      "0                        0.330432             0.999973       0.381500   \n",
      "\n",
      "   TimeConstantTest  RestingPotentialTest  CapacitanceTest  \\\n",
      "0          0.831475              0.793257         0.424144   \n",
      "0          0.954021              0.252218         0.160960   \n",
      "0          0.954021              0.252218         0.160960   \n",
      "0          0.954021              0.252218         0.160960   \n",
      "\n",
      "   InjectedCurrentAPWidthTest  \n",
      "0                    0.463385  \n",
      "0                    0.759738  \n",
      "0                    0.759738  \n",
      "0                    0.759738  \n"
     ]
    }
   ],
   "source": [
    "import pandas as pd\n",
    "for index, val in enumerate(pipe_results.values()):\n",
    "    if index == 0:\n",
    "        sci = pd.DataFrame(list(val['pop'][0].dtc.scores.values())).T\n",
    "    else:    \n",
    "        sci = sci.append(pd.DataFrame(list(val['pop'][0].dtc.scores.values())).T)\n",
    "        \n",
    "sci.columns = val['pop'][0].dtc.scores.keys()    \n",
    "print(sci)"
   ]
  },
  {
   "cell_type": "code",
   "execution_count": 15,
   "metadata": {
    "collapsed": false
   },
   "outputs": [
    {
     "name": "stdout",
     "output_type": "stream",
     "text": [
      "          a         d         vr         vt         v0         C      vpeak  \\\n",
      "0  0.448122  0.157737 -67.415787 -39.823586 -60.216287  0.000097  33.049633   \n",
      "0  0.448122  0.157737 -67.415787 -39.823586 -60.216287  0.000097  33.049633   \n",
      "0  0.448122  0.157737 -67.415787 -39.823586 -60.216287  0.000097  33.049633   \n",
      "0  0.448122  0.157737 -67.415787 -39.823586 -60.216287  0.000097  33.049633   \n",
      "\n",
      "           c         k             b  \n",
      "0 -59.641536  0.001228 -4.305474e-09  \n",
      "0 -59.641536  0.001228 -4.305474e-09  \n",
      "0 -59.641536  0.001228 -4.305474e-09  \n",
      "0 -59.641536  0.001228 -4.305474e-09  \n"
     ]
    }
   ],
   "source": [
    "import pandas as pd\n",
    "for index, val in enumerate(pipe_results.values()):\n",
    "    if index == 0:\n",
    "        attrs = pd.DataFrame(list(val['pop'][0].dtc.attrs.values())).T\n",
    "    else:    \n",
    "        attrs = attrs.append(pd.DataFrame(list(val['pop'][0].dtc.attrs.values())).T)\n",
    "        \n",
    "attrs.columns = val['pop'][0].dtc.attrs.keys()    \n",
    "print(attrs)"
   ]
  },
  {
   "cell_type": "code",
   "execution_count": 19,
   "metadata": {
    "collapsed": false
   },
   "outputs": [
    {
     "data": {
      "text/html": [
       "<div>\n",
       "<style scoped>\n",
       "    .dataframe tbody tr th:only-of-type {\n",
       "        vertical-align: middle;\n",
       "    }\n",
       "\n",
       "    .dataframe tbody tr th {\n",
       "        vertical-align: top;\n",
       "    }\n",
       "\n",
       "    .dataframe thead th {\n",
       "        text-align: right;\n",
       "    }\n",
       "</style>\n",
       "<table border=\"1\" class=\"dataframe\">\n",
       "  <thead>\n",
       "    <tr style=\"text-align: right;\">\n",
       "      <th></th>\n",
       "      <th>0</th>\n",
       "      <th>1</th>\n",
       "      <th>2</th>\n",
       "      <th>3</th>\n",
       "      <th>4</th>\n",
       "      <th>5</th>\n",
       "      <th>6</th>\n",
       "      <th>7</th>\n",
       "      <th>8</th>\n",
       "      <th>9</th>\n",
       "      <th>10</th>\n",
       "      <th>11</th>\n",
       "    </tr>\n",
       "  </thead>\n",
       "  <tbody>\n",
       "    <tr>\n",
       "      <th>value</th>\n",
       "      <td>54.6875 pA</td>\n",
       "      <td>54.6875 pA</td>\n",
       "      <td>54.6875 pA</td>\n",
       "      <td>54.6875 pA</td>\n",
       "      <td>54.6875 pA</td>\n",
       "      <td>54.6875 pA</td>\n",
       "      <td>54.6875 pA</td>\n",
       "      <td>54.6875 pA</td>\n",
       "      <td>54.6875 pA</td>\n",
       "      <td>54.6875 pA</td>\n",
       "      <td>54.6875 pA</td>\n",
       "      <td>54.6875 pA</td>\n",
       "    </tr>\n",
       "    <tr>\n",
       "      <th>value</th>\n",
       "      <td>54.6875 pA</td>\n",
       "      <td>54.6875 pA</td>\n",
       "      <td>54.6875 pA</td>\n",
       "      <td>54.6875 pA</td>\n",
       "      <td>54.6875 pA</td>\n",
       "      <td>54.6875 pA</td>\n",
       "      <td>54.6875 pA</td>\n",
       "      <td>54.6875 pA</td>\n",
       "      <td>54.6875 pA</td>\n",
       "      <td>54.6875 pA</td>\n",
       "      <td>54.6875 pA</td>\n",
       "      <td>54.6875 pA</td>\n",
       "    </tr>\n",
       "    <tr>\n",
       "      <th>value</th>\n",
       "      <td>54.6875 pA</td>\n",
       "      <td>54.6875 pA</td>\n",
       "      <td>54.6875 pA</td>\n",
       "      <td>54.6875 pA</td>\n",
       "      <td>54.6875 pA</td>\n",
       "      <td>54.6875 pA</td>\n",
       "      <td>54.6875 pA</td>\n",
       "      <td>54.6875 pA</td>\n",
       "      <td>54.6875 pA</td>\n",
       "      <td>54.6875 pA</td>\n",
       "      <td>54.6875 pA</td>\n",
       "      <td>54.6875 pA</td>\n",
       "    </tr>\n",
       "    <tr>\n",
       "      <th>value</th>\n",
       "      <td>54.6875 pA</td>\n",
       "      <td>54.6875 pA</td>\n",
       "      <td>54.6875 pA</td>\n",
       "      <td>54.6875 pA</td>\n",
       "      <td>54.6875 pA</td>\n",
       "      <td>54.6875 pA</td>\n",
       "      <td>54.6875 pA</td>\n",
       "      <td>54.6875 pA</td>\n",
       "      <td>54.6875 pA</td>\n",
       "      <td>54.6875 pA</td>\n",
       "      <td>54.6875 pA</td>\n",
       "      <td>54.6875 pA</td>\n",
       "    </tr>\n",
       "    <tr>\n",
       "      <th>value</th>\n",
       "      <td>54.6875 pA</td>\n",
       "      <td>54.6875 pA</td>\n",
       "      <td>54.6875 pA</td>\n",
       "      <td>54.6875 pA</td>\n",
       "      <td>54.6875 pA</td>\n",
       "      <td>54.6875 pA</td>\n",
       "      <td>54.6875 pA</td>\n",
       "      <td>54.6875 pA</td>\n",
       "      <td>54.6875 pA</td>\n",
       "      <td>54.6875 pA</td>\n",
       "      <td>54.6875 pA</td>\n",
       "      <td>54.6875 pA</td>\n",
       "    </tr>\n",
       "  </tbody>\n",
       "</table>\n",
       "</div>"
      ],
      "text/plain": [
       "               0           1           2           3           4           5   \\\n",
       "value  54.6875 pA  54.6875 pA  54.6875 pA  54.6875 pA  54.6875 pA  54.6875 pA   \n",
       "value  54.6875 pA  54.6875 pA  54.6875 pA  54.6875 pA  54.6875 pA  54.6875 pA   \n",
       "value  54.6875 pA  54.6875 pA  54.6875 pA  54.6875 pA  54.6875 pA  54.6875 pA   \n",
       "value  54.6875 pA  54.6875 pA  54.6875 pA  54.6875 pA  54.6875 pA  54.6875 pA   \n",
       "value  54.6875 pA  54.6875 pA  54.6875 pA  54.6875 pA  54.6875 pA  54.6875 pA   \n",
       "\n",
       "               6           7           8           9           10          11  \n",
       "value  54.6875 pA  54.6875 pA  54.6875 pA  54.6875 pA  54.6875 pA  54.6875 pA  \n",
       "value  54.6875 pA  54.6875 pA  54.6875 pA  54.6875 pA  54.6875 pA  54.6875 pA  \n",
       "value  54.6875 pA  54.6875 pA  54.6875 pA  54.6875 pA  54.6875 pA  54.6875 pA  \n",
       "value  54.6875 pA  54.6875 pA  54.6875 pA  54.6875 pA  54.6875 pA  54.6875 pA  \n",
       "value  54.6875 pA  54.6875 pA  54.6875 pA  54.6875 pA  54.6875 pA  54.6875 pA  "
      ]
     },
     "execution_count": 19,
     "metadata": {},
     "output_type": "execute_result"
    }
   ],
   "source": [
    "import pandas as pd\n",
    "for index, val in enumerate(pipe_results.values()):\n",
    "    if index == 0:\n",
    "        rheobase = pd.DataFrame([i.dtc.rheobase for i in val['pop']]).T\n",
    "    else:    \n",
    "        rheobase = attrs.append(pd.DataFrame([i.dtc.rheobase for i in val['pop']]).T)\n",
    "        \n",
    "#attrs.columns = val['pop'][0].dtc.attrs.keys()    \n",
    "#print(attrs)\n",
    "rheobase"
   ]
  },
  {
   "cell_type": "code",
   "execution_count": null,
   "metadata": {
    "collapsed": false,
    "scrolled": false
   },
   "outputs": [],
   "source": [
    "import matplotlib\n",
    "%matplotlib inline\n",
    "!pip install pandas\n"
   ]
  },
  {
   "cell_type": "markdown",
   "metadata": {},
   "source": [
    "################\n",
    "# GA parameters:\n",
    "about $10^{3}=30$ models will be made, excluding rheobase search.\n",
    "################\n",
    "\n",
    "\n",
    "# Choice of selection criteria is important. \n",
    "Here we use BluepyOpts IBEA, such that it can be compared to NSGA2.\n",
    "\n",
    "https://link.springer.com/article/10.1007/s00500-005-0027-5\n",
    "\n",
    "\n"
   ]
  },
  {
   "cell_type": "code",
   "execution_count": 5,
   "metadata": {
    "collapsed": true
   },
   "outputs": [],
   "source": [
    "MU = 6; NGEN = 6; CXPB = 0.9\n",
    "USE_CACHED_GA = False"
   ]
  },
  {
   "cell_type": "markdown",
   "metadata": {},
   "source": [
    "################\n",
    "# Grid search parameters:\n",
    "$ 2^{10}=1024 $ models, will be made excluding rheobase search\n",
    "################"
   ]
  },
  {
   "cell_type": "code",
   "execution_count": 6,
   "metadata": {
    "collapsed": false
   },
   "outputs": [
    {
     "name": "stdout",
     "output_type": "stream",
     "text": [
      "Requirement already satisfied: pandas in /opt/conda/lib/python3.5/site-packages\n",
      "Requirement already satisfied: python-dateutil>=2 in /opt/conda/lib/python3.5/site-packages (from pandas)\n",
      "Requirement already satisfied: pytz>=2011k in /opt/conda/lib/python3.5/site-packages (from pandas)\n",
      "Requirement already satisfied: numpy>=1.9.0 in /opt/conda/lib/python3.5/site-packages (from pandas)\n",
      "Requirement already satisfied: six>=1.5 in /opt/conda/lib/python3.5/site-packages (from python-dateutil>=2->pandas)\n",
      "\u001b[33mYou are using pip version 9.0.1, however version 10.0.1 is available.\n",
      "You should consider upgrading via the 'pip install --upgrade pip' command.\u001b[0m\n",
      "Requirement already up-to-date: pandas in /opt/conda/lib/python3.5/site-packages\n",
      "Collecting python-dateutil>=2 (from pandas)\n",
      "  Downloading https://files.pythonhosted.org/packages/cf/f5/af2b09c957ace60dcfac112b669c45c8c97e32f94aa8b56da4c6d1682825/python_dateutil-2.7.3-py2.py3-none-any.whl (211kB)\n",
      "\u001b[K    100% |████████████████████████████████| 215kB 808kB/s ta 0:00:01\n",
      "\u001b[?25hCollecting pytz>=2011k (from pandas)\n",
      "  Downloading https://files.pythonhosted.org/packages/dc/83/15f7833b70d3e067ca91467ca245bae0f6fe56ddc7451aa0dc5606b120f2/pytz-2018.4-py2.py3-none-any.whl (510kB)\n",
      "\u001b[K    100% |████████████████████████████████| 512kB 517kB/s ta 0:00:01\n",
      "\u001b[?25hCollecting numpy>=1.9.0 (from pandas)\n",
      "  Downloading https://files.pythonhosted.org/packages/7b/61/11b05cc37ccdaabad89f04dbdc2a02905cf6de6f9b05816dba843beed328/numpy-1.14.3-cp35-cp35m-manylinux1_x86_64.whl (12.1MB)\n",
      "\u001b[K    100% |████████████████████████████████| 12.1MB 55kB/s eta 0:00:011 2% |▋                               | 245kB 5.5MB/s eta 0:00:03    74% |███████████████████████▉        | 9.1MB 4.3MB/s eta 0:00:01    81% |██████████████████████████      | 9.9MB 3.8MB/s eta 0:00:01    96% |██████████████████████████████▉ | 11.7MB 7.9MB/s eta 0:00:01    99% |███████████████████████████████▉| 12.1MB 4.5MB/s eta 0:00:01\n",
      "\u001b[?25hRequirement already up-to-date: six>=1.5 in /opt/conda/lib/python3.5/site-packages (from python-dateutil>=2->pandas)\n",
      "Installing collected packages: python-dateutil, pytz, numpy\n",
      "  Found existing installation: python-dateutil 2.6.1\n",
      "    Uninstalling python-dateutil-2.6.1:\n",
      "      Successfully uninstalled python-dateutil-2.6.1\n",
      "  Found existing installation: pytz 2017.3\n",
      "    Uninstalling pytz-2017.3:\n",
      "      Successfully uninstalled pytz-2017.3\n",
      "  Found existing installation: numpy 1.13.3\n",
      "    Uninstalling numpy-1.13.3:\n",
      "      Successfully uninstalled numpy-1.13.3\n",
      "Successfully installed numpy-1.14.3 python-dateutil-2.7.3 pytz-2018.4\n",
      "\u001b[33mYou are using pip version 9.0.1, however version 10.0.1 is available.\n",
      "You should consider upgrading via the 'pip install --upgrade pip' command.\u001b[0m\n",
      "Collecting git+https://github.com/scidash/sciunit@dev\n",
      "  Cloning https://github.com/scidash/sciunit (to dev) to /tmp/pip-kci3opug-build\n",
      "  Requirement already satisfied (use --upgrade to upgrade): sciunit==0.2 from git+https://github.com/scidash/sciunit@dev in /opt/conda/lib/python3.5/site-packages\n",
      "Requirement already satisfied: cypy>=0.2 in /opt/conda/lib/python3.5/site-packages (from sciunit==0.2)\n",
      "Requirement already satisfied: quantities==0.12.1 in /opt/conda/lib/python3.5/site-packages (from sciunit==0.2)\n",
      "Requirement already satisfied: pandas>=0.18 in /opt/conda/lib/python3.5/site-packages (from sciunit==0.2)\n",
      "Requirement already satisfied: ipython in /opt/conda/lib/python3.5/site-packages (from sciunit==0.2)\n",
      "Requirement already satisfied: matplotlib in /opt/conda/lib/python3.5/site-packages (from sciunit==0.2)\n",
      "Requirement already satisfied: bs4 in /opt/conda/lib/python3.5/site-packages (from sciunit==0.2)\n",
      "Requirement already satisfied: lxml in /opt/conda/lib/python3.5/site-packages (from sciunit==0.2)\n",
      "Requirement already satisfied: nbconvert in /opt/conda/lib/python3.5/site-packages (from sciunit==0.2)\n",
      "Requirement already satisfied: ipykernel in /opt/conda/lib/python3.5/site-packages (from sciunit==0.2)\n",
      "Requirement already satisfied: nbformat in /opt/conda/lib/python3.5/site-packages (from sciunit==0.2)\n",
      "Requirement already satisfied: gitpython in /opt/conda/lib/python3.5/site-packages (from sciunit==0.2)\n",
      "Requirement already satisfied: python-dateutil>=2 in /opt/conda/lib/python3.5/site-packages (from pandas>=0.18->sciunit==0.2)\n",
      "Requirement already satisfied: pytz>=2011k in /opt/conda/lib/python3.5/site-packages (from pandas>=0.18->sciunit==0.2)\n",
      "Requirement already satisfied: numpy>=1.9.0 in /opt/conda/lib/python3.5/site-packages (from pandas>=0.18->sciunit==0.2)\n",
      "Requirement already satisfied: setuptools>=18.5 in /opt/conda/lib/python3.5/site-packages (from ipython->sciunit==0.2)\n",
      "Requirement already satisfied: simplegeneric>0.8 in /opt/conda/lib/python3.5/site-packages (from ipython->sciunit==0.2)\n",
      "Requirement already satisfied: traitlets>=4.2 in /opt/conda/lib/python3.5/site-packages (from ipython->sciunit==0.2)\n",
      "Requirement already satisfied: pygments in /opt/conda/lib/python3.5/site-packages (from ipython->sciunit==0.2)\n",
      "Requirement already satisfied: jedi>=0.10 in /opt/conda/lib/python3.5/site-packages (from ipython->sciunit==0.2)\n",
      "Requirement already satisfied: prompt-toolkit<2.0.0,>=1.0.4 in /opt/conda/lib/python3.5/site-packages (from ipython->sciunit==0.2)\n",
      "Requirement already satisfied: pickleshare in /opt/conda/lib/python3.5/site-packages (from ipython->sciunit==0.2)\n",
      "Requirement already satisfied: decorator in /opt/conda/lib/python3.5/site-packages (from ipython->sciunit==0.2)\n",
      "Requirement already satisfied: pexpect; sys_platform != \"win32\" in /opt/conda/lib/python3.5/site-packages (from ipython->sciunit==0.2)\n",
      "Requirement already satisfied: pyparsing!=2.0.4,!=2.1.2,!=2.1.6,>=2.0.1 in /opt/conda/lib/python3.5/site-packages (from matplotlib->sciunit==0.2)\n",
      "Requirement already satisfied: six>=1.10 in /opt/conda/lib/python3.5/site-packages (from matplotlib->sciunit==0.2)\n",
      "Requirement already satisfied: cycler>=0.10 in /opt/conda/lib/python3.5/site-packages (from matplotlib->sciunit==0.2)\n",
      "Requirement already satisfied: beautifulsoup4 in /opt/conda/lib/python3.5/site-packages (from bs4->sciunit==0.2)\n",
      "Requirement already satisfied: mistune>=0.7.4 in /opt/conda/lib/python3.5/site-packages (from nbconvert->sciunit==0.2)\n",
      "Requirement already satisfied: pandocfilters>=1.4.1 in /opt/conda/lib/python3.5/site-packages (from nbconvert->sciunit==0.2)\n",
      "Requirement already satisfied: testpath in /opt/conda/lib/python3.5/site-packages (from nbconvert->sciunit==0.2)\n",
      "Requirement already satisfied: jinja2 in /opt/conda/lib/python3.5/site-packages (from nbconvert->sciunit==0.2)\n",
      "Requirement already satisfied: jupyter-core in /opt/conda/lib/python3.5/site-packages (from nbconvert->sciunit==0.2)\n",
      "Requirement already satisfied: entrypoints>=0.2.2 in /opt/conda/lib/python3.5/site-packages (from nbconvert->sciunit==0.2)\n",
      "Requirement already satisfied: bleach in /opt/conda/lib/python3.5/site-packages (from nbconvert->sciunit==0.2)\n",
      "Requirement already satisfied: tornado>=4.0 in /opt/conda/lib/python3.5/site-packages (from ipykernel->sciunit==0.2)\n",
      "Requirement already satisfied: jupyter-client in /opt/conda/lib/python3.5/site-packages (from ipykernel->sciunit==0.2)\n",
      "Requirement already satisfied: jsonschema!=2.5.0,>=2.4 in /opt/conda/lib/python3.5/site-packages (from nbformat->sciunit==0.2)\n",
      "Requirement already satisfied: ipython-genutils in /opt/conda/lib/python3.5/site-packages (from nbformat->sciunit==0.2)\n",
      "Requirement already satisfied: gitdb2>=2.0.0 in /opt/conda/lib/python3.5/site-packages (from gitpython->sciunit==0.2)\n",
      "Requirement already satisfied: parso==0.1.1 in /opt/conda/lib/python3.5/site-packages (from jedi>=0.10->ipython->sciunit==0.2)\n",
      "Requirement already satisfied: wcwidth in /opt/conda/lib/python3.5/site-packages (from prompt-toolkit<2.0.0,>=1.0.4->ipython->sciunit==0.2)\n",
      "Requirement already satisfied: ptyprocess>=0.5 in /opt/conda/lib/python3.5/site-packages (from pexpect; sys_platform != \"win32\"->ipython->sciunit==0.2)\n",
      "Requirement already satisfied: MarkupSafe>=0.23 in /opt/conda/lib/python3.5/site-packages (from jinja2->nbconvert->sciunit==0.2)\n",
      "Requirement already satisfied: html5lib!=0.9999,!=0.99999,<0.99999999,>=0.999 in /opt/conda/lib/python3.5/site-packages (from bleach->nbconvert->sciunit==0.2)\n",
      "Requirement already satisfied: pytest; python_version >= \"3.4\" or python_version == \"2.7\" and extra == \"test\" in /opt/conda/lib/python3.5/site-packages (from jupyter-client->ipykernel->sciunit==0.2)\n",
      "Requirement already satisfied: pyzmq>=13 in /opt/conda/lib/python3.5/site-packages (from jupyter-client->ipykernel->sciunit==0.2)\n",
      "Requirement already satisfied: smmap2>=2.0.0 in /opt/conda/lib/python3.5/site-packages (from gitdb2>=2.0.0->gitpython->sciunit==0.2)\n",
      "Requirement already satisfied: attrs>=17.2.0 in /opt/conda/lib/python3.5/site-packages (from pytest; python_version >= \"3.4\" or python_version == \"2.7\" and extra == \"test\"->jupyter-client->ipykernel->sciunit==0.2)\n",
      "Requirement already satisfied: pluggy<0.7,>=0.5 in /opt/conda/lib/python3.5/site-packages (from pytest; python_version >= \"3.4\" or python_version == \"2.7\" and extra == \"test\"->jupyter-client->ipykernel->sciunit==0.2)\n",
      "Requirement already satisfied: py>=1.5.0 in /opt/conda/lib/python3.5/site-packages (from pytest; python_version >= \"3.4\" or python_version == \"2.7\" and extra == \"test\"->jupyter-client->ipykernel->sciunit==0.2)\n",
      "\u001b[33mYou are using pip version 9.0.1, however version 10.0.1 is available.\n",
      "You should consider upgrading via the 'pip install --upgrade pip' command.\u001b[0m\n",
      "\u001b[31m../neuronunit should either be a path to a local project or a VCS url beginning with svn+, git+, hg+, or bzr+\u001b[0m\n",
      "\u001b[33mYou are using pip version 9.0.1, however version 10.0.1 is available.\n",
      "You should consider upgrading via the 'pip install --upgrade pip' command.\u001b[0m\n"
     ]
    },
    {
     "ename": "ImportError",
     "evalue": "cannot import name 'model_paramaters'",
     "output_type": "error",
     "traceback": [
      "\u001b[0;31m---------------------------------------------------------------------------\u001b[0m",
      "\u001b[0;31mImportError\u001b[0m                               Traceback (most recent call last)",
      "\u001b[0;32m<ipython-input-6-acb762abf0fe>\u001b[0m in \u001b[0;36m<module>\u001b[0;34m()\u001b[0m\n\u001b[1;32m      4\u001b[0m \u001b[0mget_ipython\u001b[0m\u001b[0;34m(\u001b[0m\u001b[0;34m)\u001b[0m\u001b[0;34m.\u001b[0m\u001b[0msystem\u001b[0m\u001b[0;34m(\u001b[0m\u001b[0;34m'pip install -e ../neuronunit'\u001b[0m\u001b[0;34m)\u001b[0m\u001b[0;34m\u001b[0m\u001b[0m\n\u001b[1;32m      5\u001b[0m \u001b[0;34m\u001b[0m\u001b[0m\n\u001b[0;32m----> 6\u001b[0;31m \u001b[0;32mfrom\u001b[0m \u001b[0mneuronunit\u001b[0m\u001b[0;34m.\u001b[0m\u001b[0moptimization\u001b[0m \u001b[0;32mimport\u001b[0m \u001b[0mmodel_paramaters\u001b[0m\u001b[0;34m\u001b[0m\u001b[0m\n\u001b[0m",
      "\u001b[0;31mImportError\u001b[0m: cannot import name 'model_paramaters'"
     ]
    }
   ],
   "source": []
  },
  {
   "cell_type": "code",
   "execution_count": null,
   "metadata": {
    "collapsed": true
   },
   "outputs": [],
   "source": []
  },
  {
   "cell_type": "code",
   "execution_count": null,
   "metadata": {
    "collapsed": false
   },
   "outputs": [],
   "source": []
  },
  {
   "cell_type": "markdown",
   "metadata": {},
   "source": [
    "An oppurtunity to improve grid search, by increasing resolution of search intervals given a first pass:"
   ]
  },
  {
   "cell_type": "code",
   "execution_count": null,
   "metadata": {
    "collapsed": true
   },
   "outputs": [],
   "source": []
  },
  {
   "cell_type": "code",
   "execution_count": null,
   "metadata": {
    "collapsed": true
   },
   "outputs": [],
   "source": []
  },
  {
   "cell_type": "code",
   "execution_count": null,
   "metadata": {
    "collapsed": false
   },
   "outputs": [],
   "source": []
  },
  {
   "cell_type": "code",
   "execution_count": null,
   "metadata": {
    "collapsed": true
   },
   "outputs": [],
   "source": []
  },
  {
   "cell_type": "code",
   "execution_count": null,
   "metadata": {
    "collapsed": true
   },
   "outputs": [],
   "source": [
    "\n",
    "\n",
    "    "
   ]
  },
  {
   "cell_type": "code",
   "execution_count": null,
   "metadata": {
    "collapsed": true
   },
   "outputs": [],
   "source": []
  },
  {
   "cell_type": "code",
   "execution_count": null,
   "metadata": {
    "collapsed": false
   },
   "outputs": [],
   "source": [
    "\n"
   ]
  },
  {
   "cell_type": "code",
   "execution_count": null,
   "metadata": {
    "collapsed": true
   },
   "outputs": [],
   "source": []
  },
  {
   "cell_type": "code",
   "execution_count": null,
   "metadata": {
    "collapsed": true
   },
   "outputs": [],
   "source": []
  },
  {
   "cell_type": "code",
   "execution_count": null,
   "metadata": {
    "collapsed": true
   },
   "outputs": [],
   "source": [
    "\n",
    "opt_py = { k:hof_py[v] for v,k in enumerate(td_py) }\n",
    "print(opt_fi)\n",
    "\n",
    "\n",
    "for k,v in opt_py.items():\n",
    "    print('param',k,v,opt_fi[k],'delta',abs(v-opt_fi[k]))\n",
    "from neuronunit.optimization.optimization_management import write_opt_to_nml\n",
    "fname = 'nifext_50'\n",
    "write_opt_to_nml(fname, opt_py)\n",
    "fname = 'NLXCELL_100201'\n",
    "write_opt_to_nml(fname, opt_fi)"
   ]
  },
  {
   "cell_type": "code",
   "execution_count": null,
   "metadata": {
    "collapsed": true
   },
   "outputs": [],
   "source": []
  },
  {
   "cell_type": "code",
   "execution_count": null,
   "metadata": {
    "collapsed": true
   },
   "outputs": [],
   "source": [
    "\n",
    "\n"
   ]
  },
  {
   "cell_type": "code",
   "execution_count": null,
   "metadata": {
    "collapsed": true
   },
   "outputs": [],
   "source": []
  },
  {
   "cell_type": "code",
   "execution_count": 23,
   "metadata": {
    "collapsed": true
   },
   "outputs": [],
   "source": [
    "from neuronunit.plottools import plot_surface\n"
   ]
  },
  {
   "cell_type": "markdown",
   "metadata": {},
   "source": [
    "# Below two error surface slices from the hypervolume are plotted.\n",
    "The data that is plotted consists of the error as experienced by the GA.\n",
    "Note: the GA performs an incomplete, and efficient sampling of the parameter space, and therefore sample points are irregularly spaced. Polygon interpolation is used to visualize error gradients. Existing plotting code from the package BluePyOpt has been extended for this purpose.\n",
    "Light blue dots indicate local minima's of error experienced by the NSGA algrorithm."
   ]
  },
  {
   "cell_type": "code",
   "execution_count": 32,
   "metadata": {
    "collapsed": false
   },
   "outputs": [
    {
     "data": {
      "text/plain": [
       "<matplotlib.figure.Figure at 0x7f0efd988320>"
      ]
     },
     "metadata": {},
     "output_type": "display_data"
    },
    {
     "data": {
      "image/png": "[encoded data removed]",
      "text/plain": [
       "<matplotlib.figure.Figure at 0x7f0efd9885f8>"
      ]
     },
     "metadata": {},
     "output_type": "display_data"
    }
   ],
   "source": [
    "for index, val in enumerate(pipe_results.values()):\n",
    "    #print(val)\n",
    "    if index == 0:\n",
    "        td = val['td_py']\n",
    "        history = val['history']\n",
    "\n",
    "plot_surface('a','b',td,history)"
   ]
  },
  {
   "cell_type": "code",
   "execution_count": 33,
   "metadata": {
    "collapsed": false
   },
   "outputs": [
    {
     "data": {
      "text/plain": [
       "<matplotlib.figure.Figure at 0x7f0ed421c828>"
      ]
     },
     "metadata": {},
     "output_type": "display_data"
    },
    {
     "data": {
      "image/png": "[encoded data removed]",
      "text/plain": [
       "<matplotlib.figure.Figure at 0x7f0efdc61668>"
      ]
     },
     "metadata": {},
     "output_type": "display_data"
    }
   ],
   "source": [
    "\n",
    "plot_surface('v0','vt',td,history)"
   ]
  },
  {
   "cell_type": "code",
   "execution_count": 29,
   "metadata": {
    "collapsed": false
   },
   "outputs": [
    {
     "name": "stderr",
     "output_type": "stream",
     "text": [
      "/opt/conda/lib/python3.5/site-packages/numpy/core/fromnumeric.py:2909: RuntimeWarning: Mean of empty slice.\n",
      "  out=out, **kwargs)\n",
      "/opt/conda/lib/python3.5/site-packages/numpy/core/_methods.py:80: RuntimeWarning: invalid value encountered in double_scalars\n",
      "  ret = ret.dtype.type(ret / rcount)\n",
      "/opt/conda/lib/python3.5/site-packages/matplotlib/figure.py:418: UserWarning: matplotlib is currently using a non-GUI backend, so cannot show the figure\n",
      "  \"matplotlib is currently using a non-GUI backend, \"\n"
     ]
    },
    {
     "data": {
      "image/png": "[encoded data removed]",
      "text/plain": [
       "<matplotlib.figure.Figure at 0x7f0efda892b0>"
      ]
     },
     "metadata": {},
     "output_type": "display_data"
    }
   ],
   "source": [
    "\n",
    "%matplotlib inline\n",
    "import matplotlib.pyplot as plt\n",
    "import numpy as np\n",
    "\n",
    "plt.style.use('ggplot')\n",
    "fig, axes = plt.subplots(figsize=(10, 10), facecolor='white')\n",
    "for index, val in enumerate(pipe_results.values()):\n",
    "    \n",
    "    log = val['log']\n",
    "    gen_numbers =[ i for i in range(0,len(log.select('gen'))) ]\n",
    "    hof = val['hof_py']\n",
    "    mean = np.array([ np.sqrt(np.mean(np.square(i))) for i in log.select('avg')])\n",
    "    std = np.array([ np.sqrt(np.mean(np.square(i))) for i in log.select('std')])\n",
    "    minimum = np.array([ np.sqrt(np.mean(np.square(i))) for i in log.select('min')])\n",
    "    best_line = np.array([ np.sqrt(np.mean(np.square(list(p.fitness.values))))  for p in hof])\n",
    "    blg = [ best_line[h] for i, h in enumerate(gen_numbers) ]\n",
    "\n",
    "\n",
    "\n",
    "    stdminus = mean - std\n",
    "    stdplus = mean + std\n",
    "    try:\n",
    "        assert len(gen_numbers) == len(stdminus) == len(stdplus)\n",
    "    except:\n",
    "        pass\n",
    "\n",
    "    axes.plot(\n",
    "        gen_numbers,\n",
    "        mean,\n",
    "        color='black',\n",
    "        linewidth=2,\n",
    "        label='population average')\n",
    "    axes.fill_between(gen_numbers, stdminus, stdplus)\n",
    "    axes.plot(gen_numbers, blg,'y--', linewidth=2,  label='grid search error')\n",
    "    #axes.plot(gen_numbers, bl, 'go', linewidth=2, label='hall of fame error')\n",
    "\n",
    "    axes.plot(gen_numbers, stdminus, label='std variation lower limit')\n",
    "    axes.plot(gen_numbers, stdplus, label='std variation upper limit')\n",
    "\n",
    "    axes.set_xlim(np.min(gen_numbers) - 1, np.max(gen_numbers) + 1)\n",
    "    axes.set_xlabel('Generations')\n",
    "    axes.set_ylabel('Sum of objectives')\n",
    "    axes.legend()\n",
    "    fig.tight_layout()\n",
    "    fig.show()\n"
   ]
  },
  {
   "cell_type": "markdown",
   "metadata": {},
   "source": [
    "# Comment on plot\n",
    "The plot shows the mean error value of the population as the GA evolves it's population. The red interval at any instant is the standard deviation of the error. The fact that the mean GA error is able to have a net upwards trajectory, after experiencing a temporary downwards trajectory, demonstrates that the GA retains a drive to explore, and is resiliant against being stuck in a local minima. Also in the above plot population variance in error stays remarkably constant, in this way BluePyOpts selection criteria SELIBEA contrasts with DEAPs native selection strategy NSGA2"
   ]
  },
  {
   "cell_type": "code",
   "execution_count": null,
   "metadata": {
    "collapsed": true
   },
   "outputs": [],
   "source": [
    "if USE_CACHED_GS:\n",
    "    import pickle\n",
    "    # shelve cache \n",
    "    first_third = pickle.load(open('/home/jovyan/neuronunit/neuronunit/unit_test/grid_dump_first_3rd.p','rb'))\n",
    "    second_third = pickle.load(open('/home/jovyan/neuronunit/neuronunit/unit_test/grid_dump_second_3rd.p','rb'))\n",
    "    final_third = pickle.load(open('/home/jovyan/neuronunit/neuronunit/unit_test/grid_dump_final_3rd.p','rb'))\n",
    "\n",
    "    second_third.extend(first_third)\n",
    "    second_third.extend(final_third)\n",
    "    dtcpopg = second_third\n",
    "\n",
    "else:\n",
    "    from neuronunit.optimization import exhaustive_search\n",
    "    from neuronunit.optimization import get_neab\n",
    "    from neuronunit.optimization import optimization_management\n",
    "\n",
    "    import dask.bag as db\n",
    "    grid_points = exhaustive_search.create_grid(npoints = npoints,nparams = nparams)\n",
    "    b0 = db.from_sequence(grid_points, npartitions=8)\n",
    "    dlist = list(db.map(optimization_management.update_dtc_pop,b0).compute())\n",
    "    for d in dlist:\n",
    "        d.model_path = get_neab.LEMS_MODEL_PATH\n",
    "        d.LEMS_MODEL_PATH = get_neab.LEMS_MODEL_PATH\n",
    "    # this is a big load on memory so divide it into thirds.\n",
    "\n",
    "    dlist_first_third = dlist[0:int(len(dlist)/N)]\n",
    "    dlist_second_third = dlist[int(len(dlist)/N):int(2*len(dlist)/N)]\n",
    "    dlist_final_third = dlist[int(2*len(dlist)/N):-1]\n",
    "    from neuronunit.optimization.exhaustive_search import dtc_to_rheo\n",
    "    from neuronunit.optimization.nsga_parallel import nunit_evaluate\n",
    "\n",
    "\n",
    "    def compute_chunk(dlist_half):\n",
    "        dlist_half = list(map(dtc_to_rheo,dlist_half))\n",
    "        dlist_half = (nunit_evaluate,dlist_half)\n",
    "        return dlist_half\n",
    "\n",
    "    dlist_first_3rd = compute_chunk(dlist_first_third)\n",
    "    import pickle\n",
    "    with open('grid_dump_first_3rd.p','wb') as f:\n",
    "       pickle.dump(dlist_first_3rd,f)\n",
    "    # Garbage collect a big memory burden.\n",
    "    dlist_first_3rd = None\n",
    "    dlist_second_3rd = compute_chunk(dlist_second_third)\n",
    "\n",
    "    with open('grid_dump_second_3rd.p','wb') as f:\n",
    "       pickle.dump(dlist_second_3rd,f)\n",
    "    # Garbage collect a big memory burden.\n",
    "    dlist_second_3rd = None\n",
    "\n",
    "    dlist_final_3rd = compute_chunk(dlist_final_third)\n",
    "    with open('grid_dump_final_3rd.p','wb') as f:\n",
    "       pickle.dump(dlist_final_3rd,f)\n",
    "    # Garbage collect a big memory burden.\n",
    "    dlist_final_3rd = None\n",
    "    first_third = pickle.load(open('grid_dump_first_3rd.p','rb'))\n",
    "    second_third = pickle.load(open('grid_dump_second_3rd.p','rb'))\n",
    "    final_third = pickle.load(open('grid_dump_final_3rd.p','rb'))\n",
    "\n",
    "    second_third.extend(first_third)\n",
    "    second_third.extend(final_third)\n",
    "    dtcpopg = second_third\n",
    "\n",
    "    \n"
   ]
  },
  {
   "cell_type": "code",
   "execution_count": null,
   "metadata": {
    "collapsed": true
   },
   "outputs": [],
   "source": [
    "dtcpopg = [ dtc for dtc in dtcpopg if not None in (dtc.scores.values()) ]\n",
    "dtcpopg = [ (dtc,sum(list(dtc.scores.values()))) for dtc in dtcpopg ]\n",
    "\n",
    "\n",
    "sorted_grid = sorted(dtcpopg,key=lambda x:x[1])\n",
    "sorted_grid = [dtc[0] for dtc in sorted_grid]\n",
    "#print(sorted_grid)\n",
    "mini = dtcpopg[0][1]\n",
    "maxi = dtcpopg[-1][1]\n",
    "minimagr = sorted_grid[0]\n",
    "minimagr_dtc = sorted_grid[0]\n",
    "minimagr_dtc_1 = sorted_grid[1]\n",
    "minimagr_dtc_2 = sorted_grid[2]\n",
    "from neuronunit.optimization.exhaustive_search import create_refined_grid\n",
    "refined_grid = create_refined_grid(minimagr_dtc, minimagr_dtc_1,minimagr_dtc_2)\n"
   ]
  },
  {
   "cell_type": "code",
   "execution_count": null,
   "metadata": {
    "collapsed": true
   },
   "outputs": [],
   "source": [
    "print(td)\n",
    "def pop2dtc(pop1,DO,td):\n",
    "    '''\n",
    "    This function takes the DEAP population data type, and converts it to a more convenient\n",
    "    data transport object, which can more readily be used in plotting functions.\n",
    "    This a wasteful, recompute, which is in part necessitated because\n",
    "    deaps pareto front object, only returns gene individual objects (elements of population)\n",
    "    '''\n",
    "    from neuronunit.optimization import nsga_parallel\n",
    "    DO.td = td\n",
    "    assert DO.td == td\n",
    "    return_package = nsga_parallel.update_pop(pop1,td);\n",
    "    dtc_pop = []\n",
    "    for i,r in enumerate(return_package):\n",
    "        dtc_pop.append(r[0])\n",
    "        dtc_pop[i].error = None\n",
    "        dtc_pop[i].error = np.sqrt(np.mean(np.square(list(pop1[i].fitness.values))))\n",
    "    sorted_list  = sorted([(dtc,dtc.error) for dtc in dtc_pop],key=lambda x:x[1])\n",
    "    dtc_pop = [dtc[0] for dtc in sorted_list]\n",
    "    print(dtc_pop,sorted_list)\n",
    "    return dtc_pop\n",
    "\n",
    "DO.td = td\n",
    "print(hof[0])\n",
    "print(len(hof))\n",
    "dtc_pop = pop2dtc(hof[0:-1],DO,td)\n",
    "\n",
    "miniga = dtc_pop[0].error\n",
    "maxiga = dtc_pop[-1].error\n",
    "maximaga = dtc_pop[-1]\n",
    "minimaga = dtc_pop[0]\n",
    "\n",
    "CACHE_PF = False"
   ]
  },
  {
   "cell_type": "code",
   "execution_count": null,
   "metadata": {
    "collapsed": true
   },
   "outputs": [],
   "source": [
    "\n",
    "if CACHE_PF == False:\n",
    "    h = list(history.genealogy_history.values())\n",
    "    evaluated_history = []\n",
    "    for i in h:\n",
    "        if hasattr(i,'rheobase'):\n",
    "            i.error = None\n",
    "            i.error = np.sqrt(np.mean(np.square(list(i.fitness.values))))\n",
    "            evaluated_history.append(i)\n",
    "    sorted_list  = sorted([(i,i.error) for i in evaluated_history ],key=lambda x:x[1])\n",
    "\n",
    "    with open('pf_dump.p','wb') as f:\n",
    "       pickle.dump([ sorted_list, evaluated_history ],f)\n",
    "else: \n",
    "     \n",
    "     unpack = pickle.load(open('pf_dump.p','rb'))\n",
    "     print(unpack)\n",
    "     sorted_list_pf = unpack[0]\n",
    "     pareto_dtc = unpack[1] \n",
    "\n",
    "minimaga_ind = sorted_list[0][0]\n",
    "maximaga_ind = sorted_list[-1][0]\n",
    "miniga = sorted_list[0][1]\n",
    "maxiga = sorted_list[-1][1]\n"
   ]
  },
  {
   "cell_type": "code",
   "execution_count": null,
   "metadata": {
    "collapsed": true
   },
   "outputs": [],
   "source": [
    "import pandas as pd\n",
    "\n",
    "print(miniga)\n",
    "print(maxiga)\n",
    "print(minimaga_ind.fitness.values)\n",
    "print(maximaga_ind.fitness.values)\n",
    "print(len(minimaga_ind.fitness.values))\n",
    "print(dtcpopg[0][0].rheobase)\n",
    "print(dtcpopg[0][0].scores)\n",
    "print(sorted_list[-1][0].rheobase)\n",
    "print(sorted_list[-1][0].fitness.values)\n",
    "\n"
   ]
  },
  {
   "cell_type": "code",
   "execution_count": null,
   "metadata": {
    "collapsed": true
   },
   "outputs": [],
   "source": [
    "def use_dtc_to_plotting(dtcpop,minimagr):\n",
    "    from neuronunit.capabilities import spike_functions\n",
    "    import matplotlib.pyplot as plt\n",
    "    import numpy as np\n",
    "    plt.clf()\n",
    "    plt.style.use('ggplot')\n",
    "    fig, axes = plt.subplots(figsize=(10, 10), facecolor='white')\n",
    "    stored_min = []\n",
    "    stored_max = []\n",
    "    for dtc in dtcpop[1:-1]:\n",
    "        plt.plot(dtc.tvec, dtc.vm0,linewidth=3.5, color='grey')\n",
    "        stored_min.append(np.min(dtc.vm0))\n",
    "        stored_max.append(np.max(dtc.vm0))\n",
    "        \n",
    "    from neuronunit.models.reduced import ReducedModel\n",
    "    from neuronunit.optimization.get_neab import tests as T\n",
    "    from neuronunit.optimization import get_neab\n",
    "    from neuronunit.optimization import evaluate_as_module\n",
    "    from neuronunit.optimization.evaluate_as_module import pre_format\n",
    "    model = ReducedModel(get_neab.LEMS_MODEL_PATH,name=str('vanilla'),backend='NEURON')\n",
    "    import neuron\n",
    "    model._backend.reset_neuron(neuron)\n",
    "    model.set_attrs(minimagr.attrs)\n",
    "    model.rheobase = minimagr.rheobase['value']\n",
    "    minimagr = pre_format(minimagr)\n",
    "    parameter_list = list(minimagr.vtest.values())\n",
    "    model.inject_square_current(parameter_list[0])\n",
    "    model._backend.local_run()\n",
    "    assert model.get_spike_count() == 1\n",
    "    print(model.get_spike_count(),bool(model.get_spike_count() == 1))\n",
    "    brute_best = list(model.results['vm'])\n",
    "\n",
    "    plt.plot(dtcpop[0].tvec, brute_best,linewidth=1, color='blue',label='best candidate via grid')#+str(mini.scores))\n",
    "    plt.plot(dtcpop[0].tvec,dtcpop[0].vm0,linewidth=1, color='red',label='best candidate via GA')#+str(miniga.scores))\n",
    "    plt.legend()\n",
    "    plt.ylabel('$V_{m}$ mV')\n",
    "    plt.xlabel('ms')\n",
    "    plt.show()\n",
    "from neuronunit import plottools\n",
    "from neuronunit.plottools import dtc_to_plotting\n",
    "\n",
    "CACHE_PLOTTING = False\n",
    "if CACHE_PLOTTING == False:\n",
    "    dtc_pop = dview.map_sync(dtc_to_plotting,dtc_pop )\n",
    "    with open('plotting_dump.p','wb') as f:\n",
    "       pickle.dump(dtc_pop,f)\n",
    "else: \n",
    "     dtc_pop  = pickle.load(open('plotting_dump.p','rb'))\n",
    "\n",
    "use_dtc_to_plotting(dtc_pop,minimagr_dtc)\n",
    "            "
   ]
  },
  {
   "cell_type": "markdown",
   "metadata": {},
   "source": [
    "# Comment on plot\n",
    "There is good agreement between traces produced by the best candidate found by Genetic Algorithm, and exhaustive grid search."
   ]
  },
  {
   "cell_type": "code",
   "execution_count": null,
   "metadata": {
    "collapsed": true
   },
   "outputs": [],
   "source": [
    "import pandas as pd\n",
    "\n",
    "print(dtc_pop[0].scores)\n",
    "print(minimagr_dtc.scores)\n",
    "print(sum(list(dtc_pop[0].scores.values())))\n",
    "print(sum(list(minimagr_dtc.scores.values())))\n",
    "miniga = sum(list(dtc_pop[0].scores.values()))\n",
    "print(miniga)\n"
   ]
  },
  {
   "cell_type": "markdown",
   "metadata": {},
   "source": [
    "# Quantize distance between minimimum error and maximum error.\n",
    "This step will allow the GA's performance to be located within or below the range of error found by grid search.\n"
   ]
  },
  {
   "cell_type": "code",
   "execution_count": null,
   "metadata": {
    "collapsed": true
   },
   "outputs": [],
   "source": [
    "print(maxi)\n",
    "print(mini)\n",
    "print(miniga)\n",
    "quantize_distance = list(np.linspace(mini,maxi,10))\n",
    "\n",
    "# check that the nsga error is in the bottom 1/5th of the entire error range.\n",
    "print('Report: ')\n",
    "print(\"Success\" if bool(miniga < quantize_distance[0]) else \"Failure\")\n",
    "print(\"The nsga error %f is in the bottom 1/5th of the entire error range\" % miniga)\n",
    "print(\"Minimum = %f; 20th percentile = %f; Maximum = %f\" % (mini,quantize_distance[0],maxi))"
   ]
  },
  {
   "cell_type": "markdown",
   "metadata": {},
   "source": [
    "The code below reports on the differences between between attributes of best models found via grid versus attributes of best models found via GA search:\n"
   ]
  },
  {
   "cell_type": "code",
   "execution_count": null,
   "metadata": {
    "collapsed": true
   },
   "outputs": [],
   "source": [
    "import pandas as pd\n",
    "\n",
    "from neuronunit.optimization import evaluate_as_module as eam\n",
    "NSGAO = NSGA(0.85)\n",
    "NSGAO.setnparams(nparams=nparams,provided_keys=provided_keys)\n",
    "#td = eam.get_trans_dict(NSGAO.subset)\n",
    "#print(td)\n",
    "td = { v:k for k,v in enumerate(td) }\n",
    "from neuronunit.optimization import model_parameters as modelp\n",
    "mp = modelp.model_params\n",
    "#minimaga = pareto_dtc[0]\n",
    "for k,v in minimagr_dtc.attrs.items():\n",
    "    #hvgrid = np.linspace(np.min(mp[k]),np.max(mp[k]),10)\n",
    "    dimension_length = np.max(mp[k]) - np.min(mp[k])\n",
    "    solution_distance_in_1D = np.abs(float(hof[0][td[k]]))-np.abs(float(v))\n",
    "        \n",
    "    #solution_distance_in_1D = np.abs(float(minimaga.attrs[k]))-np.abs(float(v))\n",
    "    relative_distance = dimension_length/solution_distance_in_1D\n",
    "    print('the difference between brute force candidates model parameters and the GA\\'s model parameters:')\n",
    "    print(float(hof[0][td[k]])-float(v),hof[0][td[k]],v,k)\n",
    "    print('the relative distance scaled by the length of the parameter dimension of interest:')\n",
    "    print(relative_distance)\n",
    "\n",
    "    \n",
    "    "
   ]
  },
  {
   "cell_type": "code",
   "execution_count": null,
   "metadata": {
    "collapsed": true
   },
   "outputs": [],
   "source": [
    "\n",
    "print('the difference between the bf error and the GA\\'s error:')\n",
    "print('grid search:')\n",
    "from numpy import square, mean, sqrt\n",
    "rmsg = sqrt(mean(square(list(minimagr_dtc.scores.values()))))\n",
    "print(rmsg)\n",
    "print('ga:')\n",
    "rmsga = sqrt(mean(square(list(dtc_pop[0].scores.values()))))\n",
    "print(rmsga)\n",
    "print('Hall of Fame front')\n",
    "print(sqrt(mean(square(list(hof[0].fitness.values)))))\n",
    "print(miniga)\n"
   ]
  },
  {
   "cell_type": "markdown",
   "metadata": {},
   "source": [
    "If any time is left over, may as well compute a more accurate grid, to better quantify GA performance in the future."
   ]
  },
  {
   "cell_type": "code",
   "execution_count": null,
   "metadata": {
    "collapsed": true
   },
   "outputs": [],
   "source": []
  },
  {
   "cell_type": "code",
   "execution_count": null,
   "metadata": {
    "collapsed": true
   },
   "outputs": [],
   "source": [
    "from neuronunit.optimization import get_neab\n",
    "#fi_basket = {'nlex_id':'NLXCELL:100201'}\n",
    "neuron = {'nlex_id': 'nifext_50'} \n",
    "\n",
    "error_criterion, inh_observations = get_neab.get_neuron_criteria(fi_basket)\n",
    "print(error_criterion)\n",
    "\n",
    "from bluepyopt.deapext.optimisations import DEAPOptimisation\n",
    "\n",
    "DO = DEAPOptimisation(error_criterion=error_criterion)\n",
    "DO.setnparams(nparams = nparams, provided_keys = provided_keys)\n",
    "pop, hof, log, history, td, gen_vs_hof = DO.run(offspring_size = MU, max_ngen = NGEN, cp_frequency=4,cp_filename='checkpointedGA.p')\n",
    "with open('ga_dump.p','wb') as f:\n",
    "   pickle.dump([pop, log, history, hof, td],f)"
   ]
  },
  {
   "cell_type": "code",
   "execution_count": null,
   "metadata": {
    "collapsed": true
   },
   "outputs": [],
   "source": [
    "# Layer V pyramidal cell\n"
   ]
  },
  {
   "cell_type": "code",
   "execution_count": null,
   "metadata": {
    "collapsed": true
   },
   "outputs": [],
   "source": []
  },
  {
   "cell_type": "code",
   "execution_count": null,
   "metadata": {
    "collapsed": true
   },
   "outputs": [],
   "source": []
  },
  {
   "cell_type": "code",
   "execution_count": null,
   "metadata": {
    "collapsed": true
   },
   "outputs": [],
   "source": []
  },
  {
   "cell_type": "code",
   "execution_count": null,
   "metadata": {
    "collapsed": true
   },
   "outputs": [],
   "source": []
  },
  {
   "cell_type": "code",
   "execution_count": null,
   "metadata": {
    "collapsed": true
   },
   "outputs": [],
   "source": []
  },
  {
   "cell_type": "code",
   "execution_count": null,
   "metadata": {
    "collapsed": true
   },
   "outputs": [],
   "source": []
  },
  {
   "cell_type": "code",
   "execution_count": null,
   "metadata": {
    "collapsed": true
   },
   "outputs": [],
   "source": []
  },
  {
   "cell_type": "code",
   "execution_count": null,
   "metadata": {
    "collapsed": true
   },
   "outputs": [],
   "source": []
  },
  {
   "cell_type": "code",
   "execution_count": null,
   "metadata": {
    "collapsed": true
   },
   "outputs": [],
   "source": []
  }
 ],
 "metadata": {
  "kernelspec": {
   "display_name": "Python 3",
   "language": "python",
   "name": "python3"
  },
  "language_info": {
   "codemirror_mode": {
    "name": "ipython",
    "version": 3
   },
   "file_extension": ".py",
   "mimetype": "text/x-python",
   "name": "python",
   "nbconvert_exporter": "python",
   "pygments_lexer": "ipython3",
   "version": "3.5.2"
  }
 },
 "nbformat": 4,
 "nbformat_minor": 2
}
