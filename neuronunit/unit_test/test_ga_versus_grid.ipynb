{
 "cells": [
  {
   "cell_type": "code",
   "execution_count": 1,
   "metadata": {
    "collapsed": false,
    "scrolled": false
   },
   "outputs": [],
   "source": [
    "\n",
    "import matplotlib\n",
    "%matplotlib inline\n",
    "import os\n",
    "os.system('ipcluster start -n 8 --profile=default & sleep 5 & python stdout_worker.py &')\n",
    "import ipyparallel as ipp\n",
    "rc = ipp.Client(profile='default')\n",
    "from ipyparallel import depend, require, dependent\n",
    "dview = rc[:]\n"
   ]
  },
  {
   "cell_type": "code",
   "execution_count": 2,
   "metadata": {
    "collapsed": false
   },
   "outputs": [],
   "source": [
    "################\n",
    "# GA parameters:\n",
    "################\n",
    "MU = 12; NGEN = 25; CXPB = 0.7555\n",
    "USE_CACHED_GA = True\n",
    "# about 8 models will be made, excluding rheobase search.\n",
    "\n",
    "################\n",
    "# Grid search parameters:\n",
    "# only 5 models, will be made excluding rheobase search\n",
    "################\n",
    "npoints = 2\n",
    "nparams = 10\n",
    "from neuronunit.optimization.model_parameters import model_params\n",
    "provided_keys = list(model_params.keys())\n",
    "USE_CACHED_GS = True"
   ]
  },
  {
   "cell_type": "code",
   "execution_count": 3,
   "metadata": {
    "collapsed": true
   },
   "outputs": [],
   "source": [
    "import pickle\n",
    "import numpy as np"
   ]
  },
  {
   "cell_type": "code",
   "execution_count": 4,
   "metadata": {
    "collapsed": false
   },
   "outputs": [
    {
     "name": "stdout",
     "output_type": "stream",
     "text": [
      "Getting Rheobase cached data value for from AIBS dataset 354190013\n",
      "/home/jovyan/neuronunit/neuronunit/optimization/neuroelectro.pickle got here\n",
      "/home/jovyan/neuronunit/neuronunit/optimization\n",
      "attempting to recover from pickled file\n",
      "/home/jovyan/neuronunit/neuronunit/models/__init__.py\n"
     ]
    },
    {
     "name": "stderr",
     "output_type": "stream",
     "text": [
      "/home/jovyan/neuronunit/neuronunit/models/backends.py:3: UserWarning: \n",
      "This call to matplotlib.use() has no effect because the backend has already\n",
      "been chosen; matplotlib.use() must be called *before* pylab, matplotlib.pyplot,\n",
      "or matplotlib.backends is imported for the first time.\n",
      "\n",
      "The backend was *originally* set to 'module://ipykernel.pylab.backend_inline' by the following code:\n",
      "  File \"/opt/conda/lib/python3.5/runpy.py\", line 184, in _run_module_as_main\n",
      "    \"__main__\", mod_spec)\n",
      "  File \"/opt/conda/lib/python3.5/runpy.py\", line 85, in _run_code\n",
      "    exec(code, run_globals)\n",
      "  File \"/opt/conda/lib/python3.5/site-packages/ipykernel_launcher.py\", line 16, in <module>\n",
      "    app.launch_new_instance()\n",
      "  File \"/opt/conda/lib/python3.5/site-packages/traitlets/config/application.py\", line 658, in launch_instance\n",
      "    app.start()\n",
      "  File \"/opt/conda/lib/python3.5/site-packages/ipykernel/kernelapp.py\", line 477, in start\n",
      "    ioloop.IOLoop.instance().start()\n",
      "  File \"/opt/conda/lib/python3.5/site-packages/zmq/eventloop/ioloop.py\", line 177, in start\n",
      "    super(ZMQIOLoop, self).start()\n",
      "  File \"/opt/conda/lib/python3.5/site-packages/tornado/ioloop.py\", line 888, in start\n",
      "    handler_func(fd_obj, events)\n",
      "  File \"/opt/conda/lib/python3.5/site-packages/tornado/stack_context.py\", line 277, in null_wrapper\n",
      "    return fn(*args, **kwargs)\n",
      "  File \"/opt/conda/lib/python3.5/site-packages/zmq/eventloop/zmqstream.py\", line 440, in _handle_events\n",
      "    self._handle_recv()\n",
      "  File \"/opt/conda/lib/python3.5/site-packages/zmq/eventloop/zmqstream.py\", line 472, in _handle_recv\n",
      "    self._run_callback(callback, msg)\n",
      "  File \"/opt/conda/lib/python3.5/site-packages/zmq/eventloop/zmqstream.py\", line 414, in _run_callback\n",
      "    callback(*args, **kwargs)\n",
      "  File \"/opt/conda/lib/python3.5/site-packages/tornado/stack_context.py\", line 277, in null_wrapper\n",
      "    return fn(*args, **kwargs)\n",
      "  File \"/opt/conda/lib/python3.5/site-packages/ipykernel/kernelbase.py\", line 283, in dispatcher\n",
      "    return self.dispatch_shell(stream, msg)\n",
      "  File \"/opt/conda/lib/python3.5/site-packages/ipykernel/kernelbase.py\", line 235, in dispatch_shell\n",
      "    handler(stream, idents, msg)\n",
      "  File \"/opt/conda/lib/python3.5/site-packages/ipykernel/kernelbase.py\", line 399, in execute_request\n",
      "    user_expressions, allow_stdin)\n",
      "  File \"/opt/conda/lib/python3.5/site-packages/ipykernel/ipkernel.py\", line 196, in do_execute\n",
      "    res = shell.run_cell(code, store_history=store_history, silent=silent)\n",
      "  File \"/opt/conda/lib/python3.5/site-packages/ipykernel/zmqshell.py\", line 533, in run_cell\n",
      "    return super(ZMQInteractiveShell, self).run_cell(*args, **kwargs)\n",
      "  File \"/opt/conda/lib/python3.5/site-packages/IPython/core/interactiveshell.py\", line 2728, in run_cell\n",
      "    interactivity=interactivity, compiler=compiler, result=result)\n",
      "  File \"/opt/conda/lib/python3.5/site-packages/IPython/core/interactiveshell.py\", line 2850, in run_ast_nodes\n",
      "    if self.run_code(code, result):\n",
      "  File \"/opt/conda/lib/python3.5/site-packages/IPython/core/interactiveshell.py\", line 2910, in run_code\n",
      "    exec(code_obj, self.user_global_ns, self.user_ns)\n",
      "  File \"<ipython-input-1-1fbbff63884c>\", line 3, in <module>\n",
      "    get_ipython().run_line_magic('matplotlib', 'inline')\n",
      "  File \"/opt/conda/lib/python3.5/site-packages/IPython/core/interactiveshell.py\", line 2095, in run_line_magic\n",
      "    result = fn(*args,**kwargs)\n",
      "  File \"<decorator-gen-107>\", line 2, in matplotlib\n",
      "  File \"/opt/conda/lib/python3.5/site-packages/IPython/core/magic.py\", line 187, in <lambda>\n",
      "    call = lambda f, *a, **k: f(*a, **k)\n",
      "  File \"/opt/conda/lib/python3.5/site-packages/IPython/core/magics/pylab.py\", line 99, in matplotlib\n",
      "    gui, backend = self.shell.enable_matplotlib(args.gui)\n",
      "  File \"/opt/conda/lib/python3.5/site-packages/IPython/core/interactiveshell.py\", line 2978, in enable_matplotlib\n",
      "    pt.activate_matplotlib(backend)\n",
      "  File \"/opt/conda/lib/python3.5/site-packages/IPython/core/pylabtools.py\", line 308, in activate_matplotlib\n",
      "    matplotlib.pyplot.switch_backend(backend)\n",
      "  File \"/opt/conda/lib/python3.5/site-packages/matplotlib/pyplot.py\", line 229, in switch_backend\n",
      "    matplotlib.use(newbackend, warn=False, force=True)\n",
      "  File \"/opt/conda/lib/python3.5/site-packages/matplotlib/__init__.py\", line 1305, in use\n",
      "    reload(sys.modules['matplotlib.backends'])\n",
      "  File \"/opt/conda/lib/python3.5/importlib/__init__.py\", line 166, in reload\n",
      "    _bootstrap._exec(spec, module)\n",
      "  File \"/opt/conda/lib/python3.5/site-packages/matplotlib/backends/__init__.py\", line 14, in <module>\n",
      "    line for line in traceback.format_stack()\n",
      "\n",
      "\n",
      "  mpl.use('Agg')\n"
     ]
    }
   ],
   "source": [
    "from neuronunit.optimization.nsga_object import NSGA\n",
    "from neuronunit.optimization import exhaustive_search as es\n",
    "from neuronunit.optimization import evaluate_as_module as eam\n"
   ]
  },
  {
   "cell_type": "code",
   "execution_count": 5,
   "metadata": {
    "collapsed": false
   },
   "outputs": [
    {
     "name": "stderr",
     "output_type": "stream",
     "text": [
      "/home/jovyan/neuronunit/neuronunit/optimization/nsga_parallel.py:6: UserWarning: \n",
      "This call to matplotlib.use() has no effect because the backend has already\n",
      "been chosen; matplotlib.use() must be called *before* pylab, matplotlib.pyplot,\n",
      "or matplotlib.backends is imported for the first time.\n",
      "\n",
      "The backend was *originally* set to 'module://ipykernel.pylab.backend_inline' by the following code:\n",
      "  File \"/opt/conda/lib/python3.5/runpy.py\", line 184, in _run_module_as_main\n",
      "    \"__main__\", mod_spec)\n",
      "  File \"/opt/conda/lib/python3.5/runpy.py\", line 85, in _run_code\n",
      "    exec(code, run_globals)\n",
      "  File \"/opt/conda/lib/python3.5/site-packages/ipykernel_launcher.py\", line 16, in <module>\n",
      "    app.launch_new_instance()\n",
      "  File \"/opt/conda/lib/python3.5/site-packages/traitlets/config/application.py\", line 658, in launch_instance\n",
      "    app.start()\n",
      "  File \"/opt/conda/lib/python3.5/site-packages/ipykernel/kernelapp.py\", line 477, in start\n",
      "    ioloop.IOLoop.instance().start()\n",
      "  File \"/opt/conda/lib/python3.5/site-packages/zmq/eventloop/ioloop.py\", line 177, in start\n",
      "    super(ZMQIOLoop, self).start()\n",
      "  File \"/opt/conda/lib/python3.5/site-packages/tornado/ioloop.py\", line 888, in start\n",
      "    handler_func(fd_obj, events)\n",
      "  File \"/opt/conda/lib/python3.5/site-packages/tornado/stack_context.py\", line 277, in null_wrapper\n",
      "    return fn(*args, **kwargs)\n",
      "  File \"/opt/conda/lib/python3.5/site-packages/zmq/eventloop/zmqstream.py\", line 440, in _handle_events\n",
      "    self._handle_recv()\n",
      "  File \"/opt/conda/lib/python3.5/site-packages/zmq/eventloop/zmqstream.py\", line 472, in _handle_recv\n",
      "    self._run_callback(callback, msg)\n",
      "  File \"/opt/conda/lib/python3.5/site-packages/zmq/eventloop/zmqstream.py\", line 414, in _run_callback\n",
      "    callback(*args, **kwargs)\n",
      "  File \"/opt/conda/lib/python3.5/site-packages/tornado/stack_context.py\", line 277, in null_wrapper\n",
      "    return fn(*args, **kwargs)\n",
      "  File \"/opt/conda/lib/python3.5/site-packages/ipykernel/kernelbase.py\", line 283, in dispatcher\n",
      "    return self.dispatch_shell(stream, msg)\n",
      "  File \"/opt/conda/lib/python3.5/site-packages/ipykernel/kernelbase.py\", line 235, in dispatch_shell\n",
      "    handler(stream, idents, msg)\n",
      "  File \"/opt/conda/lib/python3.5/site-packages/ipykernel/kernelbase.py\", line 399, in execute_request\n",
      "    user_expressions, allow_stdin)\n",
      "  File \"/opt/conda/lib/python3.5/site-packages/ipykernel/ipkernel.py\", line 196, in do_execute\n",
      "    res = shell.run_cell(code, store_history=store_history, silent=silent)\n",
      "  File \"/opt/conda/lib/python3.5/site-packages/ipykernel/zmqshell.py\", line 533, in run_cell\n",
      "    return super(ZMQInteractiveShell, self).run_cell(*args, **kwargs)\n",
      "  File \"/opt/conda/lib/python3.5/site-packages/IPython/core/interactiveshell.py\", line 2728, in run_cell\n",
      "    interactivity=interactivity, compiler=compiler, result=result)\n",
      "  File \"/opt/conda/lib/python3.5/site-packages/IPython/core/interactiveshell.py\", line 2850, in run_ast_nodes\n",
      "    if self.run_code(code, result):\n",
      "  File \"/opt/conda/lib/python3.5/site-packages/IPython/core/interactiveshell.py\", line 2910, in run_code\n",
      "    exec(code_obj, self.user_global_ns, self.user_ns)\n",
      "  File \"<ipython-input-1-1fbbff63884c>\", line 3, in <module>\n",
      "    get_ipython().run_line_magic('matplotlib', 'inline')\n",
      "  File \"/opt/conda/lib/python3.5/site-packages/IPython/core/interactiveshell.py\", line 2095, in run_line_magic\n",
      "    result = fn(*args,**kwargs)\n",
      "  File \"<decorator-gen-107>\", line 2, in matplotlib\n",
      "  File \"/opt/conda/lib/python3.5/site-packages/IPython/core/magic.py\", line 187, in <lambda>\n",
      "    call = lambda f, *a, **k: f(*a, **k)\n",
      "  File \"/opt/conda/lib/python3.5/site-packages/IPython/core/magics/pylab.py\", line 99, in matplotlib\n",
      "    gui, backend = self.shell.enable_matplotlib(args.gui)\n",
      "  File \"/opt/conda/lib/python3.5/site-packages/IPython/core/interactiveshell.py\", line 2978, in enable_matplotlib\n",
      "    pt.activate_matplotlib(backend)\n",
      "  File \"/opt/conda/lib/python3.5/site-packages/IPython/core/pylabtools.py\", line 308, in activate_matplotlib\n",
      "    matplotlib.pyplot.switch_backend(backend)\n",
      "  File \"/opt/conda/lib/python3.5/site-packages/matplotlib/pyplot.py\", line 229, in switch_backend\n",
      "    matplotlib.use(newbackend, warn=False, force=True)\n",
      "  File \"/opt/conda/lib/python3.5/site-packages/matplotlib/__init__.py\", line 1305, in use\n",
      "    reload(sys.modules['matplotlib.backends'])\n",
      "  File \"/opt/conda/lib/python3.5/importlib/__init__.py\", line 166, in reload\n",
      "    _bootstrap._exec(spec, module)\n",
      "  File \"/opt/conda/lib/python3.5/site-packages/matplotlib/backends/__init__.py\", line 14, in <module>\n",
      "    line for line in traceback.format_stack()\n",
      "\n",
      "\n",
      "  matplotlib.use('agg')\n"
     ]
    }
   ],
   "source": [
    "\n",
    "if USE_CACHED_GA:\n",
    "    from deap import creator\n",
    "    from deap import base\n",
    "    from neuronunit.optimization import evaluate_as_module as eam\n",
    "    NSGAO = NSGA()\n",
    "    NSGAO.setnparams(nparams=nparams,provided_keys=provided_keys)\n",
    "    td = eam.get_trans_dict(NSGAO.subset)\n",
    "    weights = tuple([-1.0 for i in range(0,8)])\n",
    "    creator.create(\"FitnessMin\", base.Fitness, weights=weights)\n",
    "    creator.create(\"Individual\", list, fitness=creator.FitnessMin)\n",
    "    [invalid_dtc, pop, logbook, fitnesses, history, pf] = pickle.load(open('ga_dump.p','rb'))\n",
    "else:\n",
    "    NSGAO = NSGA()\n",
    "    NSGAO.setnparams(nparams=nparams,provided_keys=provided_keys)\n",
    "    invalid_dtc, pop, logbook, fitnesses, history, pf = NSGAO.main(MU, NGEN)\n",
    "    with open('ga_dump.p','wb') as f:\n",
    "       pickle.dump([invalid_dtc, pop, logbook, fitnesses, history, pf],f)"
   ]
  },
  {
   "cell_type": "code",
   "execution_count": 6,
   "metadata": {
    "collapsed": false
   },
   "outputs": [
    {
     "name": "stderr",
     "output_type": "stream",
     "text": [
      "/opt/conda/lib/python3.5/site-packages/matplotlib/figure.py:418: UserWarning: matplotlib is currently using a non-GUI backend, so cannot show the figure\n",
      "  \"matplotlib is currently using a non-GUI backend, \"\n"
     ]
    },
    {
     "data": {
      "text/plain": [
       "<matplotlib.figure.Figure at 0x7f7143d97b00>"
      ]
     },
     "metadata": {},
     "output_type": "display_data"
    },
    {
     "data": {
      "image/png": "[encoded data removed]",
      "text/plain": [
       "<matplotlib.figure.Figure at 0x7f7143d97c88>"
      ]
     },
     "metadata": {},
     "output_type": "display_data"
    }
   ],
   "source": [
    "import numpy as np\n",
    "import matplotlib\n",
    "matplotlib.rcParams.update({'font.size':16})\n",
    "import matplotlib.pyplot as plt\n",
    "all_inds = history.genealogy_history.values()\n",
    "sums = np.array([np.sum(ind.fitness.values) for ind in all_inds])\n",
    "quads = []\n",
    "for k in range(1,9):\n",
    "    for i,j in enumerate(td):\n",
    "        if i+k < 10:\n",
    "            quads.append((td[i],td[i+k],i,i+k))\n",
    "all_inds1 = list(history.genealogy_history.values())\n",
    "\n",
    "\n",
    "def plot_surface(x,z):\n",
    "    ab = [ (all_inds1[x],all_inds1[z]) for y in all_inds1 ]\n",
    "    xs = np.array([ind[x] for ind in all_inds])\n",
    "    ys = np.array([ind[z] for ind in all_inds])\n",
    "    min_ys = ys[np.where(sums == np.min(sums))]\n",
    "    min_xs = xs[np.where(sums == np.min(sums))]\n",
    "    plt.clf()\n",
    "    fig_trip, ax_trip = plt.subplots(1, figsize=(10, 5), facecolor='white')\n",
    "    trip_axis = ax_trip.tripcolor(xs,ys,sums,20,norm=matplotlib.colors.LogNorm())\n",
    "    plot_axis = ax_trip.plot(list(min_xs), list(min_ys), 'o', color='lightblue',label='global minima')\n",
    "    fig_trip.colorbar(trip_axis, label='Sum of Objective Errors ')\n",
    "    ax_trip.set_xlabel('Parameter $ b$')\n",
    "    ax_trip.set_ylabel('Parameter $ a$')\n",
    "    plot_axis = ax_trip.plot(list(min_xs), list(min_ys), 'o', color='lightblue')\n",
    "    fig_trip.tight_layout()\n",
    "    fig_trip.show()\n",
    "plot_surface(4,-3)"
   ]
  },
  {
   "cell_type": "code",
   "execution_count": 7,
   "metadata": {
    "collapsed": false
   },
   "outputs": [
    {
     "name": "stderr",
     "output_type": "stream",
     "text": [
      "/opt/conda/lib/python3.5/site-packages/matplotlib/figure.py:418: UserWarning: matplotlib is currently using a non-GUI backend, so cannot show the figure\n",
      "  \"matplotlib is currently using a non-GUI backend, \"\n"
     ]
    },
    {
     "data": {
      "text/plain": [
       "<matplotlib.figure.Figure at 0x7f7140403e10>"
      ]
     },
     "metadata": {},
     "output_type": "display_data"
    },
    {
     "data": {
      "image/png": "[encoded data removed]",
      "text/plain": [
       "<matplotlib.figure.Figure at 0x7f71403a9f60>"
      ]
     },
     "metadata": {},
     "output_type": "display_data"
    }
   ],
   "source": [
    "\n",
    "plot_surface(1,2)"
   ]
  },
  {
   "cell_type": "code",
   "execution_count": null,
   "metadata": {
    "collapsed": false
   },
   "outputs": [],
   "source": [
    "\n",
    "%matplotlib inline\n",
    "import matplotlib.pyplot as plt\n",
    "import numpy as np\n",
    "log = logbook\n",
    "#plt.clf()\n",
    "plt.style.use('ggplot')\n",
    "fig, axes = plt.subplots(figsize=(10, 10), facecolor='white')\n",
    "gen_numbers =[ i for i in range(0,len(log.select('gen'))) ]\n",
    "mean = np.array([ np.sum(i) for i in log.select('avg')])\n",
    "std = np.array([ np.sum(i) for i in log.select('std')])\n",
    "minimum = np.array([ np.sum(i) for i in log.select('min')])\n",
    "stdminus = mean - std\n",
    "stdplus = mean + std\n",
    "try:\n",
    "    assert len(gen_numbers) == len(stdminus) == len(stdplus)\n",
    "except:\n",
    "    pass\n",
    "\n",
    "axes.plot(\n",
    "    gen_numbers,\n",
    "    mean,\n",
    "    color='black',\n",
    "    linewidth=2,\n",
    "    label='population average')\n",
    "axes.fill_between(gen_numbers, stdminus, stdplus)\n",
    "axes.plot(gen_numbers, stdminus, label='std variation lower limit')\n",
    "axes.plot(gen_numbers, stdplus, label='std variation upper limit')\n",
    "axes.set_xlim(np.min(gen_numbers) - 1, np.max(gen_numbers) + 1)\n",
    "axes.set_xlabel('Generations')\n",
    "axes.set_ylabel('Sum of objectives')\n",
    "axes.set_ylim([np.min(stdminus), np.max(stdplus)])\n",
    "axes.legend()\n",
    "fig.tight_layout()\n",
    "#fig.legend()\n",
    "fig.show()\n",
    "\n",
    "# The plot below \n",
    "# shows how population diversity (std deviation) increases, and simultaneously mean error follows a net downward\n",
    "# Trajectory."
   ]
  },
  {
   "cell_type": "code",
   "execution_count": null,
   "metadata": {
    "collapsed": false
   },
   "outputs": [],
   "source": [
    "#import matplotlib\n",
    "#matplotlib.use('TkAgg')\n",
    "#import matplotlib.pyplot as plt\n",
    "%matplotlib inline\n",
    "import numpy as np\n",
    "from neuronunit.optimization import get_neab\n",
    "plt.clf()\n",
    "plt.style.use('ggplot')\n",
    "fig, axes = plt.subplots(figsize=(10, 10), facecolor='white')\n",
    "gen_numbers = log.select('gen')\n",
    "minimum = log.select('min')\n",
    "mean = log.select('mean')\n",
    "objective_labels = [ str(t) for t in get_neab.tests ]\n",
    "mins_components_plot = log.select('min')\n",
    "components = {}\n",
    "for i in range(0,7):\n",
    "    components[i] = []\n",
    "    for l in mins_components_plot:\n",
    "        components[i].append(l[i])\n",
    "maximum = 0.0\n",
    "for keys in components:\n",
    "\n",
    "    axes.plot(\n",
    "        gen_numbers,\n",
    "        components[keys],\n",
    "        linewidth=2,\n",
    "        label=str(objective_labels[keys])\n",
    "        )\n",
    "    if np.max(components[keys]) > maximum:\n",
    "        maximum = np.max(components[keys])\n",
    "\n",
    "axes.set_xlim(min(gen_numbers) - 1, max(gen_numbers) + 1)\n",
    "axes.set_xlabel('Generation #')\n",
    "axes.set_ylabel('Sum of objectives')\n",
    "axes.set_ylim([-0.1, maximum])\n",
    "axes.legend()\n",
    "fig.tight_layout()\n",
    "fig.show()"
   ]
  },
  {
   "cell_type": "code",
   "execution_count": null,
   "metadata": {
    "collapsed": false
   },
   "outputs": [],
   "source": [
    "if USE_CACHED_GS:\n",
    "       #dtcpopg = pickle.load(open('grid_dump.p','rb'))\n",
    "    first_half = pickle.load(open('grid_dump_first_half.p','rb'))\n",
    "    second_half = pickle.load(open('grid_dump_second_half.p','rb'))\n",
    "    second_half.extend(first_half)\n",
    "    dtcpopg = second_half\n",
    "    print(dtcpopg)\n",
    "else:\n",
    "    from neuronunit.optimization import exhaustive_search\n",
    "    grid_points = exhaustive_search.create_grid(npoints = npoints,nparams = nparams,provided_keys = provided_keys )\n",
    "    dlist = list(dview.map_sync(exhaustive_search.update_dtc_pop,grid_points))\n",
    "    from neuronunit.optimization import get_neab\n",
    "    for d in dlist:\n",
    "        d.model_path = get_neab.LEMS_MODEL_PATH\n",
    "        d.LEMS_MODEL_PATH = get_neab.LEMS_MODEL_PATH\n",
    "        print(d.model_path)\n",
    "    #with open('grid_dump.p','wb') as f:\n",
    "     #  pickle.dump(dlist,f)\n",
    "    # this is a big load on memory so divide it into thirds.\n",
    "\n",
    "    dlist_first_third = dlist[0:int(len(dlist)/3)]\n",
    "    dlist_second_third = dlist[int(len(dlist)/3):int(2*len(dlist)/3)]\n",
    "    dlist_final_third = dlist[int(2*len(dlist)/3):-1]\n",
    "    from neuronunit.optimization.exhaustive_search import dtc_to_rheo\n",
    "    from neuronunit.optimization.exhaustive_search import parallel_method\n",
    "    # uncomment if list is very small\n",
    "    #if int(len(dlist)/10) == 0:\n",
    "    #    dlist_first_half =[ dlist ]\n",
    "    #dlist_first_3rd = compute_half(dlist_first_half)\n",
    "\n",
    "    with open('grid_dump_first_3rd.p','wb') as f:\n",
    "       pickle.dump(dlist_first_3rd,f)\n",
    "    # Garbage collect a big memory burden.\n",
    "    dlist_first_3rd = None\n",
    "    dlist_second_3rd = compute_half(dlist_second_half)\n",
    "\n",
    "    with open('grid_dump_second_3rd.p','wb') as f:\n",
    "       pickle.dump(dlist_second_3rd,f)\n",
    "   # Garbage collect a big memory burden.\n",
    "    dlist_second_3rd = None\n",
    "\n",
    "    dlist_final_3rd = compute_half(dlist_final_half)\n",
    "    with open('grid_dump_final_3rd.p','wb') as f:\n",
    "       pickle.dump(dlist_final_3rd,f)\n",
    "    # Garbage collect a big memory burden.\n",
    "    dlist_final_3rd = None"
   ]
  },
  {
   "cell_type": "code",
   "execution_count": null,
   "metadata": {
    "collapsed": false
   },
   "outputs": [],
   "source": [
    "\n",
    "for d in dtcpopg:\n",
    "    if d.scores['RheobaseTestP'] == None:\n",
    "        d.scores['RheobaseTestP'] = 10\n",
    "\n",
    "\n",
    "def error(dtc):\n",
    "    \"\"\"\n",
    "    Overall error function for a DTC\n",
    "    Returns the root-mean-square error over all the tests\n",
    "    \"\"\"\n",
    "    return np.sqrt(np.mean(np.square(list(dtc.scores.values()))))\n",
    "\n",
    "def sorted_dtcs(dtcpop):\n",
    "    \"\"\"\n",
    "    Returns dtc,error tuples sorted from low to high error\n",
    "    \"\"\"\n",
    "    return sorted([(dtc,error(dtc)) for dtc in dtcpop],key=lambda x:x[1])\n",
    "\n",
    "\n",
    "def sorted_history(pop):\n",
    "    \"\"\"\n",
    "    Returns dtc,error tuples sorted from low to high error\n",
    "    \"\"\"\n",
    "    return sorted([ind.fitness for ind in pop],key=lambda x:x[1])\n",
    "\n",
    "\n",
    "\n",
    "minimagr_dtc, mini = sorted_dtcs(dtcpopg)[0]\n",
    "maximagr_dtc, maxi = sorted_dtcs(dtcpopg)[-1]"
   ]
  },
  {
   "cell_type": "code",
   "execution_count": null,
   "metadata": {
    "collapsed": false
   },
   "outputs": [],
   "source": [
    "\n",
    "def use_dtc_to_plotting(dtcpop):\n",
    "    from neuronunit.capabilities import spike_functions\n",
    "    import matplotlib.pyplot as plt\n",
    "    import numpy as np\n",
    "    plt.clf()\n",
    "    plt.style.use('ggplot')\n",
    "    fig, axes = plt.subplots(figsize=(10, 10), facecolor='white')\n",
    "    stored_min = []\n",
    "    stored_max = []\n",
    "    for dtc in dtcpop[1:-1]:\n",
    "        plt.plot(dtc.tvec, dtc.vm0,linewidth=3.5, color='grey')\n",
    "        stored_min.append(np.min(dtc.vm0))\n",
    "        stored_max.append(np.max(dtc.vm0))\n",
    "        \n",
    "    from neuronunit.models.reduced import ReducedModel\n",
    "    from neuronunit.optimization.get_neab import tests as T\n",
    "    from neuronunit.optimization import get_neab\n",
    "    from neuronunit.optimization import evaluate_as_module\n",
    "    from neuronunit.optimization.evaluate_as_module import pre_format\n",
    "    model = ReducedModel(get_neab.LEMS_MODEL_PATH,name=str('vanilla'),backend='NEURON')\n",
    "    import neuron\n",
    "    model._backend.reset_neuron(neuron)\n",
    "    model.set_attrs(minimagr.attrs)\n",
    "    model.rheobase = minimagr.rheobase['value']\n",
    "    minimagr = pre_format(minimagr)\n",
    "    parameter_list = list(minimagr.vtest.values())\n",
    "    print(parameter_list[0])\n",
    "    model.inject_square_current(parameter_list[0])\n",
    "    model._backend.local_run()\n",
    "    assert model.get_spike_count() == 1\n",
    "    print(model.get_spike_count(),bool(model.get_spike_count() == 1))\n",
    "    brute_best = list(model.results['vm'])\n",
    "    \n",
    "    #minimagr \n",
    "    plt.plot(dtcpop[0].tvec, brute_best,linewidth=1, color='blue',label='best candidate via grid')\n",
    "    plt.plot(dtcpop[0].tvec,dtcpop[0].vm0,linewidth=1, color='red',label='best candidate via GA')\n",
    "    plt.legend()\n",
    "    plt.ylabel('$V_{m}$ mV')\n",
    "    plt.xlabel('ms')\n",
    "    plt.show()\n",
    "    #plt.savefig(str('rheobase')+'vm_versus_t.png', format='png')#, dpi=1200)\n",
    "    '''\n",
    "    plt.clf()\n",
    "    plt.style.use('ggplot')\n",
    "    fig, axes = plt.subplots(figsize=(10, 10), facecolor='white')\n",
    "    stored_min = []\n",
    "    stored_max = []\n",
    "    for dtc in dtcpop[1:-1]:\n",
    "        plt.plot(dtc.tvec, dtc.vm1,linewidth=3.5, color='grey')\n",
    "        stored_min.append(np.min(dtc.vm1))\n",
    "        stored_max.append(np.max(dtc.vm1))\n",
    "\n",
    "    plt.plot(dtcpop[0].tvec,dtcpop[0].vm1,linewidth=1, color='red',label='best candidate')\n",
    "    plt.legend()\n",
    "    plt.ylabel('$V_{m}$ mV')\n",
    "    plt.xlabel('ms')\n",
    "    plt.show()\n",
    "    '''\n",
    "    #plt.savefig(str('AP_width_test')+'vm_versus_t.png', format='png')#, dpi=1200)\n",
    "from neuronunit import plottools\n",
    "from neuronunit.plottools import dtc_to_plotting\n",
    "invalid_dtc = dview.map_sync(dtc_to_plotting,invalid_dtc)\n",
    "use_dtc_to_plotting(invalid_dtc)\n"
   ]
  },
  {
   "cell_type": "code",
   "execution_count": null,
   "metadata": {
    "collapsed": false
   },
   "outputs": [],
   "source": [
    "def pop2dtc(pop1,NSGAO):\n",
    "    from deap import base, creator\n",
    "    toolbox = base.Toolbox()\n",
    "    NDIM = 10\n",
    "    weights = tuple([1.0 for i in range(0,NDIM)])\n",
    "    creator.create(\"FitnessMin\", base.Fitness, weights=weights)\n",
    "    creator.create(\"Individual\", list, fitness=creator.FitnessMin)\n",
    "    from neuronunit.optimization import evaluate_as_module as eam\n",
    "    td = eam.get_trans_dict(NSGAO.subset)\n",
    "    dtc_pop = eam.update_dtc_pop(pop1,td)\n",
    "    assert len(pop1) == len(dtc_pop)\n",
    "\n",
    "    from neuronunit.optimization.exhaustive_search import dtc_to_rheo\n",
    "\n",
    "    from neuronunit.optimization import model_parameters as modelp\n",
    "    dtcpop = list(map(dtc_to_rheo,dtc_pop))\n",
    "    for i,p in enumerate(pop1):\n",
    "        for val in list(p.fitness.values):\n",
    "            if val==-100:\n",
    "                val = 100\n",
    "        dtc_pop[i].scores = p.fitness.values\n",
    "        dtc_pop[i].error = None\n",
    "        dtc_pop[i].error = np.sqrt(np.mean(np.square(list(p.fitness.values))))\n",
    "    #for i,p in enumerate(dtc_pop):\n",
    "    #    print(i,p,dir(p))\n",
    "    sorted_list  = sorted([(dtc,dtc.error) for dtc in dtc_pop],key=lambda x:x[1])\n",
    "    return sorted_list, dtc_pop\n",
    "\n",
    "sorted_list_pf, pareto_dtc = pop2dtc(pf,NSGAO)\n",
    "sorted_list_pf, pareto_dtc = pop2dtc(pf,NSGAO)\n",
    "\n",
    "h = list(history.genealogy_history.values())\n",
    "sorted_list_h, dtc_pop = pop2dtc(h,NSGAO)\n",
    "minimaga_dtc = sorted_list_pf[0][0]\n",
    "maximaga_dtc = sorted_list_pf[-1][0]\n",
    "\n",
    "#history_fitness = sorted_history(h)\n",
    "miniga = sorted_list_pf[0][1]\n",
    "maxiga = sorted_list_pf[-1][1]\n",
    "\n",
    "sdtc = sorted_dtcs(invalid_dtc)\n",
    "miniga = sdtc[0][1]\n",
    "maxiga = sdtc[-1][1]\n"
   ]
  },
  {
   "cell_type": "code",
   "execution_count": null,
   "metadata": {
    "collapsed": false
   },
   "outputs": [],
   "source": [
    "# quantize distance between minimimum error and maximum error.\n",
    "quantize_distance = list(np.linspace(mini,maxi,10))\n",
    "\n",
    "# check that the nsga error is in the bottom 1/5th of the entire error range.\n",
    "print('Report: ')\n",
    "print(\"Success\" if bool(miniga < quantize_distance[2]) else \"Failure\")\n",
    "print(\"The nsga error %f is in the bottom 1/5th of the entire error range\" % miniga)\n",
    "print(\"Minimum = %f; 20th percentile = %f; Maximum = %f\" % (mini,quantize_distance[2],maxi))"
   ]
  },
  {
   "cell_type": "code",
   "execution_count": null,
   "metadata": {
    "collapsed": false
   },
   "outputs": [],
   "source": [
    "\n",
    "# This function reports on the deltas brute force obtained versus the GA found attributes.\n",
    "from neuronunit.optimization import model_parameters as modelp\n",
    "mp = modelp.model_params\n",
    "for k,v in minimagr.attrs.items():\n",
    "    #hvgrid = np.linspace(np.min(mp[k]),np.max(mp[k]),10)\n",
    "    dimension_length = np.max(mp[k]) - np.min(mp[k])\n",
    "    solution_distance_in_1D = np.abs(float(minimaga.attrs[k]))-np.abs(float(v))\n",
    "    relative_distance = dimension_length/solution_distance_in_1D\n",
    "    print('the difference between brute force candidates model parameters and the GA\\'s model parameters:')\n",
    "    print(float(minimaga.attrs[k])-float(v),minimaga.attrs[k],v,k)\n",
    "    print('the relative distance scaled by the length of the parameter dimension of interest:')\n",
    "    print(relative_distance)\n",
    "    \n",
    "    "
   ]
  },
  {
   "cell_type": "code",
   "execution_count": null,
   "metadata": {
    "collapsed": true
   },
   "outputs": [],
   "source": [
    "print('the difference between the bf error and the GA\\'s error:')\n",
    "print('grid search:')\n",
    "from numpy import square, mean, sqrt\n",
    "rmsg=sqrt(mean(square(list(minimagr.scores.values()))))\n",
    "print(rmsg)\n",
    "print('ga:')\n",
    "rmsga=sqrt(mean(square(list(minimaga.scores.values()))))\n",
    "print(rmsga)\n"
   ]
  },
  {
   "cell_type": "code",
   "execution_count": null,
   "metadata": {
    "collapsed": true
   },
   "outputs": [],
   "source": []
  },
  {
   "cell_type": "code",
   "execution_count": null,
   "metadata": {
    "collapsed": true
   },
   "outputs": [],
   "source": []
  }
 ],
 "metadata": {
  "kernelspec": {
   "display_name": "Python 3",
   "language": "python",
   "name": "python3"
  },
  "language_info": {
   "codemirror_mode": {
    "name": "ipython",
    "version": 3
   },
   "file_extension": ".py",
   "mimetype": "text/x-python",
   "name": "python",
   "nbconvert_exporter": "python",
   "pygments_lexer": "ipython3",
   "version": "3.5.2"
  }
 },
 "nbformat": 4,
 "nbformat_minor": 2
}
