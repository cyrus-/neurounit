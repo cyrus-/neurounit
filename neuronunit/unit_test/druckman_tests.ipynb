{
 "cells": [
  {
   "cell_type": "code",
   "execution_count": 1,
   "metadata": {
    "collapsed": false
   },
   "outputs": [
    {
     "name": "stdout",
     "output_type": "stream",
     "text": [
      "Requirement already up-to-date: numpy in /opt/conda/lib/python3.5/site-packages (1.15.4)\n",
      "\u001b[31mcffi 1.11.5 requires pycparser, which is not installed.\u001b[0m\n",
      "\u001b[31mcryptography 2.2.1 requires asn1crypto>=0.21.0, which is not installed.\u001b[0m\n",
      "\u001b[31mallensdk 0.14.2 has requirement pandas<0.20.0,>=0.16.2, but you'll have pandas 0.23.1 which is incompatible.\u001b[0m\n",
      "\u001b[33mYou are using pip version 10.0.1, however version 18.1 is available.\n",
      "You should consider upgrading via the 'pip install --upgrade pip' command.\u001b[0m\n"
     ]
    }
   ],
   "source": [
    "!pip install numpy --upgrade\n",
    "electro_tests = []\n",
    "obs_frame = {}\n",
    "test_frame = {}\n",
    "import os\n",
    "import pickle\n",
    "try: \n",
    "\n",
    "    electro_path = str(os.getcwd())+'all_tests.p'\n",
    "\n",
    "    assert os.path.isfile(electro_path) == True\n",
    "    with open(electro_path,'rb') as f:\n",
    "        (obs_frame,test_frame) = pickle.load(f)\n",
    "\n",
    "except:\n",
    "    for p in pipe:\n",
    "        p_tests, p_observations = get_neab.get_neuron_criteria(p)\n",
    "        obs_frame[p[\"name\"]] = p_observations#, p_tests))\n",
    "        test_frame[p[\"name\"]] = p_tests#, p_tests))\n",
    "    electro_path = str(os.getcwd())+'all_tests.p'\n",
    "    with open(electro_path,'wb') as f:\n",
    "        pickle.dump((obs_frame,test_frame),f)"
   ]
  },
  {
   "cell_type": "code",
   "execution_count": 2,
   "metadata": {
    "collapsed": false
   },
   "outputs": [
    {
     "name": "stdout",
     "output_type": "stream",
     "text": [
      "{'b': 0.015, 'd': 0.01, 'c': -60.0, 'vpeak': 21.138338933982595, 'a': 0.01, 'vt': -50.0, 'C': 8.97960714285714e-05, 'k': 0.0016, 'vr': -65.2261863636364}\n",
      "Highest subthreshold current is 124.7679591178894 pA\n",
      "Lowest suprathreshold current is 124.76797699928284 pA\n",
      "parallel Rhsearch time NEURON 6.348941326141357\n",
      "serial Rhsearch time NEURON 28.25898504257202\n"
     ]
    }
   ],
   "source": [
    "import sciunit, neuronunit, quantities\n",
    "from neuronunit.tests.dm import *\n",
    "import time\n",
    "from neuronunit.tests import dm #this is me importing the Druckman tests\n",
    "from neuronunit.tests import RheobaseTestP, fi \n",
    "\n",
    "import matplotlib.pyplot as plt\n",
    "\n",
    "from neuronunit.models.reduced import ReducedModel\n",
    "from neuronunit.optimization.data_transport_container import DataTC\n",
    "from neuronunit.optimization.model_parameters import model_params, path_params, translate\n",
    "\n",
    "LEMS_MODEL_PATH = path_params['model_path']\n",
    "model = ReducedModel(LEMS_MODEL_PATH,name = str('vanilla'),backend = ('RAW'))\n",
    "dtc = DataTC()\n",
    "dtc.attrs = model.attrs\n",
    "dtc.ampl=0\n",
    "dtc.attrs_raw = {'C':89.7960714285714, 'a':0.01, 'b':15, 'c':-60, 'd':10,\\\n",
    "         'k':1.6, 'vPeak':(86.364525297619-65.2261863636364),\\\n",
    "         'vr':-65.2261863636364, 'vt':-50}\n",
    "\n",
    "dtc.attrs = translate(dtc.attrs_raw)\n",
    "\n",
    "start0 = time.time()\n",
    "model = ReducedModel(LEMS_MODEL_PATH, name= str('vanilla'), backend=('NEURON', {'DTC':dtc}))\n",
    "rt = RheobaseTestP(obs_frame['Dentate gyrus basket cell']['Rheobase'])\n",
    "pred0 = rt.generate_prediction(model)\n",
    "end0 = time.time()\n",
    "print(model.attrs)\n",
    "\n",
    "model = ReducedModel(LEMS_MODEL_PATH, name= str('vanilla'), backend=('NEURON', {'DTC':dtc}))\n",
    "start1 = time.time()\n",
    "rt = fi.RheobaseTest(obs_frame['Dentate gyrus basket cell']['Rheobase'])\n",
    "pred1 = rt.generate_prediction(model)\n",
    "end1 = time.time()\n",
    "\n",
    "print('parallel Rhsearch time NEURON', end0-start0)\n",
    "print('serial Rhsearch time NEURON',end1-start1)\n",
    "\n",
    "\n"
   ]
  },
  {
   "cell_type": "code",
   "execution_count": 3,
   "metadata": {
    "collapsed": false
   },
   "outputs": [
    {
     "name": "stdout",
     "output_type": "stream",
     "text": [
      "Highest subthreshold current is 122.83101081848145 pA\n",
      "Lowest suprathreshold current is 122.83102869987488 pA\n",
      "{'value': array(125.5) * pA} {'value': array(122.8310287) * pA}\n",
      "184.24654304981232 pA 245.66205739974976 pA 122.83102869987488 pA\n",
      "parallel Rhsearch time RAW 1.1606762409210205\n",
      "serial Rhsearch time RAW 0.6016550064086914\n"
     ]
    }
   ],
   "source": [
    "start4 = time.time()\n",
    "\n",
    "model = ReducedModel(LEMS_MODEL_PATH, name= str('vanilla'), backend=('RAW'))\n",
    "rt = fi.RheobaseTestP(obs_frame['Dentate gyrus basket cell']['Rheobase'])\n",
    "pred1 = rt.generate_prediction(model)\n",
    "end4 = time.time()\n",
    "\n",
    "\n",
    "start3 = time.time()\n",
    "\n",
    "model = ReducedModel(LEMS_MODEL_PATH, name= str('vanilla'), backend=('RAW'))\n",
    "\n",
    "rt = fi.RheobaseTest(obs_frame['Dentate gyrus basket cell']['Rheobase'])\n",
    "pred1 = rt.generate_prediction(model)\n",
    "end3 = time.time()\n",
    "\n",
    "print(pred0,pred1)\n",
    "ir_currents = {}\n",
    "ir_currents = pred1['value']\n",
    "standard = 1.5*ir_currents\n",
    "strong = 2*ir_currents\n",
    "print(standard,strong,ir_currents)\n",
    "\n",
    "\n",
    "\n",
    "print('parallel Rhsearch time RAW', end4-start4)\n",
    "print('serial Rhsearch time RAW',end3-start3)"
   ]
  },
  {
   "cell_type": "code",
   "execution_count": 4,
   "metadata": {
    "collapsed": false
   },
   "outputs": [
    {
     "name": "stdout",
     "output_type": "stream",
     "text": [
      "4.450975932982318 speed up for NEURON\n",
      "0.5183659191052845 speed up (slow down) for rawpy\n"
     ]
    }
   ],
   "source": [
    "speed_up= (end1-start1)/(end0-start0)\n",
    "print(speed_up, 'speed up for NEURON')\n",
    "speed_up= (end3-start3)/(end4-start4)\n",
    "print(speed_up, 'speed up (slow down) for rawpy')"
   ]
  },
  {
   "cell_type": "markdown",
   "metadata": {},
   "source": [
    "These results show that parallel rheobase is ~3.5-7 times faster for NEURON, but slower for numba jit depending on model.\n",
    "\n",
    "This makes sense, because numba jit evaluations are over so quickly, it rivals the time, for interprocessor communication, not so with NEURON simulations, where simulation takes a long time.\n",
    "\n",
    "The reason parallel is faster given interprocessor comm speed < sim evaluation time, is because in the case of binary search.\n",
    "\n",
    "For each sim evaluation, the search engine only narrows by 50%.\n",
    "\n",
    "In the parallel case, 8 simultaneous sim evaluations, are able to narrow the search interval space, by 7/8ths.\n",
    "\n",
    "This fast narrowing of intervals is what makes the parallel case faster than the binary case."
   ]
  },
  {
   "cell_type": "code",
   "execution_count": 5,
   "metadata": {
    "collapsed": false
   },
   "outputs": [
    {
     "data": {
      "text/plain": [
       "array(184.24654305) * pA"
      ]
     },
     "execution_count": 5,
     "metadata": {},
     "output_type": "execute_result"
    }
   ],
   "source": [
    "standard"
   ]
  },
  {
   "cell_type": "code",
   "execution_count": 6,
   "metadata": {
    "collapsed": false
   },
   "outputs": [],
   "source": [
    "\n",
    "tests = [AP12AmplitudeDropTest(standard), \n",
    "    AP1SSAmplitudeChangeTest(standard), \n",
    "    AP1AmplitudeTest(standard), \n",
    "    AP1WidthHalfHeightTest(standard), \n",
    "    AP1WidthPeakToTroughTest(standard), \n",
    "    AP1RateOfChangePeakToTroughTest(standard), \n",
    "    AP1AHPDepthTest(standard), \n",
    "    AP2AmplitudeTest(standard), \n",
    "    AP2WidthHalfHeightTest(standard), \n",
    "    AP2WidthPeakToTroughTest(standard), \n",
    "    AP2RateOfChangePeakToTroughTest(standard), \n",
    "    AP2AHPDepthTest(standard), \n",
    "    AP12AmplitudeChangePercentTest(standard), \n",
    "    AP12HalfWidthChangePercentTest(standard), \n",
    "    AP12RateOfChangePeakToTroughPercentChangeTest(standard), \n",
    "    AP12AHPDepthPercentChangeTest(standard), \n",
    "    AP1DelayMeanTest(standard), \n",
    "    AP1DelaySDTest(standard), \n",
    "    AP2DelayMeanTest(standard), \n",
    "    AP2DelaySDTest(standard), \n",
    "    Burst1ISIMeanTest(standard), \n",
    "    Burst1ISISDTest(standard), \n",
    "    InitialAccommodationMeanTest(standard), \n",
    "    SSAccommodationMeanTest(standard), \n",
    "    AccommodationRateToSSTest(standard), \n",
    "    AccommodationAtSSMeanTest(standard), \n",
    "    AccommodationRateMeanAtSSTest(standard), \n",
    "    ISICVTest(standard), \n",
    "    ISIMedianTest(standard), \n",
    "    ISIBurstMeanChangeTest(standard), \n",
    "    SpikeRateStrongStimTest(strong), \n",
    "    AP1DelayMeanStrongStimTest(strong), \n",
    "    AP1DelaySDStrongStimTest(strong), \n",
    "    AP2DelayMeanStrongStimTest(strong), \n",
    "    AP2DelaySDStrongStimTest(strong), \n",
    "    Burst1ISISDStrongStimTest(strong),\n",
    "    Burst1ISIMeanStrongStimTest(strong)]\n",
    "\n"
   ]
  },
  {
   "cell_type": "code",
   "execution_count": 7,
   "metadata": {
    "collapsed": false
   },
   "outputs": [
    {
     "name": "stdout",
     "output_type": "stream",
     "text": [
      "122.83102869987488 pA\n",
      "184.24654304981232 pA\n",
      "245.66205739974976 pA\n"
     ]
    }
   ],
   "source": [
    "print(ir_currents)\n",
    "print(standard)\n",
    "print(strong)\n"
   ]
  },
  {
   "cell_type": "code",
   "execution_count": 16,
   "metadata": {
    "collapsed": false
   },
   "outputs": [
    {
     "name": "stdout",
     "output_type": "stream",
     "text": [
      "[-5.05544029e-05] V\n",
      "None\n",
      "[0.04078998] V\n",
      "0.22500000000000006 ms\n",
      "[0.] ms\n",
      "-3245.5335573593034 V/s\n",
      "[0.04034836] V\n",
      "[0.04084053] V\n",
      "0.22499999999999995 ms\n",
      "[0.] ms\n",
      "-3245.5335573593034 V/s\n",
      "[0.04029781] V\n",
      "[0.12393829] dimensionless\n",
      "-4.934324553889583e-14 dimensionless\n",
      "-0.0 dimensionless\n",
      "[-0.12529482] dimensionless\n",
      "16.799999999999955 ms\n",
      "0.0 ms\n",
      "38.799999999999955 ms\n",
      "0.0 ms\n",
      "None\n",
      "None\n",
      "-100.0\n",
      "-100.0\n",
      "None\n",
      "None\n",
      "None\n",
      "None\n",
      "22.0 ms\n",
      "None\n",
      "14.5 Hz\n",
      "11.625 ms\n",
      "0.0 ms\n",
      "23.549999999999955 ms\n",
      "0.0 ms\n",
      "0.0 ms\n",
      "13.5625 ms\n",
      "3.4184622764587402\n"
     ]
    },
    {
     "data": {
      "text/plain": [
       "\"\\nstart3 = time.time()\\nmodel = ReducedModel(LEMS_MODEL_PATH, name= str('vanilla'), backend=('NEURON', {'DTC':dtc}))\\nmodel.atts = dtc.attrs\\n\\n\\nfor i, test in enumerate(tests):\\n    mean = test.generate_prediction(model)['mean']\\n    #print(mean, tests)\\nstop3 = time.time()\\nprint(stop3-start3)\\n\""
      ]
     },
     "execution_count": 16,
     "metadata": {},
     "output_type": "execute_result"
    }
   ],
   "source": [
    "start2 = time.time()\n",
    "\n",
    "model = ReducedModel(LEMS_MODEL_PATH, name= str('vanilla'), backend=('RAW'))\n",
    "\n",
    "    \n",
    "for i, test in enumerate(tests):\n",
    "    mean = test.generate_prediction(model)['mean']\n",
    "    \n",
    "\n",
    "    print(mean)\n",
    "stop2 = time.time()\n",
    "print(stop2-start2)\n",
    "\n",
    "'''\n",
    "USING NEURON WOULD TAKE HALF AN HOUR\n",
    "start3 = time.time()\n",
    "model = ReducedModel(LEMS_MODEL_PATH, name= str('vanilla'), backend=('NEURON', {'DTC':dtc}))\n",
    "model.atts = dtc.attrs\n",
    "\n",
    "\n",
    "for i, test in enumerate(tests):\n",
    "    mean = test.generate_prediction(model)['mean']\n",
    "    #print(mean, tests)\n",
    "stop3 = time.time()\n",
    "print(stop3-start3)\n",
    "'''"
   ]
  },
  {
   "cell_type": "code",
   "execution_count": 23,
   "metadata": {
    "collapsed": false
   },
   "outputs": [
    {
     "name": "stdout",
     "output_type": "stream",
     "text": [
      "[-5.05544029e-05] V\n",
      "-3245.5335573593034 V/s\n",
      "-3245.5335573593034 V/s\n",
      "[0.04078998] V\n",
      "[0.04034836] V\n",
      "None\n",
      "0.22500000000000006 ms\n",
      "[0.04029781] V\n",
      "None\n",
      "[0.] ms\n",
      "[0.04084053] V\n",
      "[-0.12529482] dimensionless\n",
      "0.22499999999999995 ms\n",
      "None\n",
      "[0.] ms\n",
      "22.0 ms\n",
      "[0.12393829] dimensionless\n",
      "None\n",
      "None\n",
      "14.5 Hz\n",
      "-4.934324553889583e-14 dimensionless\n",
      "16.799999999999955 ms\n",
      "-0.0 dimensionless\n",
      "None\n",
      "-100.0\n",
      "-100.0\n",
      "None\n",
      "0.0 ms\n",
      "11.625 ms\n",
      "0.0 ms\n",
      "38.799999999999955 ms\n",
      "0.0 ms\n",
      "0.0 ms\n",
      "13.5625 ms\n",
      "23.549999999999955 ms\n",
      "0.0 ms\n",
      "[array([-5.05544029e-05]) * V, None, array([0.04078998]) * V, array(0.225) * ms, array([0.]) * ms, array(-3245.53355736) * V/s, array([0.04034836]) * V, array([0.04084053]) * V, array(0.225) * ms, array([0.]) * ms, array(-3245.53355736) * V/s, array([0.04029781]) * V, array([0.12393829]) * dimensionless, array(-4.93432455e-14) * dimensionless, array(-0.) * dimensionless, array([-0.12529482]) * dimensionless, array(16.8) * ms, array(0.) * ms, array(38.8) * ms, array(0.) * ms, None, None, -100.0, -100.0, None, None, None, None, array(22.) * ms, None, array(14.5) * Hz, array(11.625) * ms, array(0.) * ms, array(23.55) * ms, array(0.) * ms, array(0.) * ms, array(13.5625) * ms]\n"
     ]
    }
   ],
   "source": [
    "# can do some of these tests in parallel:\n",
    "import dask.bag as db\n",
    "import multiprocessing\n",
    "npart = multiprocessing.cpu_count()\n",
    "def takes_tests(test):\n",
    "    try:\n",
    "        model = ReducedModel(LEMS_MODEL_PATH, name= str('vanilla'), backend=('RAW'))\n",
    "        mean = test.generate_prediction(model)['mean']\n",
    "        print(mean)\n",
    "        return mean\n",
    "    except:\n",
    "        return None\n",
    "\n",
    "bag = db.from_sequence(tests, npartitions = npart)\n",
    "means = list(bag.map(takes_tests).compute())    \n",
    "print(means)"
   ]
  },
  {
   "cell_type": "code",
   "execution_count": 10,
   "metadata": {
    "collapsed": false
   },
   "outputs": [
    {
     "name": "stdout",
     "output_type": "stream",
     "text": [
      "[<class 'neuronunit.tests.dm.AP12AmplitudeChangePercentTest'>, <class 'neuronunit.tests.dm.AP12AmplitudeDropTest'>, <class 'neuronunit.tests.dm.AP12HalfWidthChangePercentTest'>, <class 'neuronunit.tests.dm.AP12RateOfChangePeakToTroughPercentChangeTest'>, <class 'neuronunit.tests.dm.AP1AHPDepthTest'>, <class 'neuronunit.tests.dm.AP1AmplitudeTest'>, <class 'neuronunit.tests.dm.AP1DelayMeanStrongStimTest'>, <class 'neuronunit.tests.dm.AP1DelayMeanTest'>, <class 'neuronunit.tests.dm.AP1DelaySDStrongStimTest'>, <class 'neuronunit.tests.dm.AP1DelaySDTest'>, <class 'neuronunit.tests.dm.AP1RateOfChangePeakToTroughTest'>, <class 'neuronunit.tests.dm.AP1SSAmplitudeChangeTest'>, <class 'neuronunit.tests.dm.AP1WidthHalfHeightTest'>, <class 'neuronunit.tests.dm.AP1WidthPeakToTroughTest'>, <class 'neuronunit.tests.dm.AP2AHPDepthTest'>, <class 'neuronunit.tests.dm.AP2AmplitudeTest'>, <class 'neuronunit.tests.dm.AP2DelayMeanStrongStimTest'>, <class 'neuronunit.tests.dm.AP2DelayMeanTest'>, <class 'neuronunit.tests.dm.AP2DelaySDStrongStimTest'>, <class 'neuronunit.tests.dm.AP2DelaySDTest'>, <class 'neuronunit.tests.dm.AP2RateOfChangePeakToTroughTest'>, <class 'neuronunit.tests.dm.AP2WidthHalfHeightTest'>, <class 'neuronunit.tests.dm.AP2WidthPeakToTroughTest'>, <class 'neuronunit.tests.dm.AccommodationAtSSMeanTest'>, <class 'neuronunit.tests.dm.AccommodationRateMeanAtSSTest'>, <class 'neuronunit.tests.dm.AccommodationRateToSSTest'>, <class 'neuronunit.tests.dm.Burst1ISIMeanStrongStimTest'>, <class 'neuronunit.tests.dm.Burst1ISIMeanTest'>, <class 'neuronunit.tests.dm.Burst1ISISDStrongStimTest'>, <class 'neuronunit.tests.dm.Burst1ISISDTest'>, <class 'neuronunit.tests.dm.Druckmann2013Test'>, <class 'neuronunit.tests.dm.ISIBurstMeanChangeTest'>, <class 'neuronunit.tests.dm.ISICVTest'>, <class 'neuronunit.tests.dm.ISIMedianTest'>, <class 'neuronunit.tests.dm.InitialAccommodationMeanTest'>, <class 'neuronunit.tests.dm.InputResistanceTest'>, <class 'neuronunit.tests.dm.SSAccommodationMeanTest'>, <class 'neuronunit.tests.dm.SpikeRateStrongStimTest'>]\n"
     ]
    }
   ],
   "source": [
    "dmtests = dm.Druckmann2013Test\n",
    "d_tests = []\n",
    "for d in dir(dm):\n",
    "    if \"Test\" in d:\n",
    "        exec('d_tests.append(dm.'+str(d)+')')\n",
    "#print()\n",
    "dt = d_tests[1:-1]\n",
    "print(dt)"
   ]
  },
  {
   "cell_type": "code",
   "execution_count": 11,
   "metadata": {
    "collapsed": true
   },
   "outputs": [],
   "source": [
    "import quantities as pq\n",
    "current_amplitude = {'mean': 106.7 * pq.pA, 'n': 1, 'std': 0.0 * pq.pA}\n",
    "test = dm.AP12AmplitudeChangePercentTest(current_amplitude)"
   ]
  },
  {
   "cell_type": "code",
   "execution_count": 12,
   "metadata": {
    "collapsed": false
   },
   "outputs": [
    {
     "name": "stdout",
     "output_type": "stream",
     "text": [
      "{'value': array(125.5) * pA}\n",
      "1\n",
      "{'n': 1, 'std': array(0.) * pA, 'mean': array(106.7) * pA}\n"
     ]
    },
    {
     "name": "stderr",
     "output_type": "stream",
     "text": [
      "/opt/conda/lib/python3.5/site-packages/matplotlib/axes/_axes.py:545: UserWarning: No labelled objects found. Use label='...' kwarg on individual plots.\n",
      "  warnings.warn(\"No labelled objects found. \"\n"
     ]
    },
    {
     "data": {
      "image/png": "[encoded data removed]",
      "text/plain": [
       "<matplotlib.figure.Figure at 0x7f6cdb2d7eb8>"
      ]
     },
     "metadata": {},
     "output_type": "display_data"
    }
   ],
   "source": [
    "import os\n",
    "import pickle\n",
    "import matplotlib.pyplot as plt\n",
    "electro_path = str(os.getcwd())+'all_tests.p'\n",
    "\n",
    "assert os.path.isfile(electro_path) == True\n",
    "with open(electro_path,'rb') as f:\n",
    "    (obs_frame,test_frame) = pickle.load(f)\n",
    "\n",
    "\n",
    "rt = RheobaseTestP(obs_frame['Dentate gyrus basket cell']['Rheobase'])\n",
    "\n",
    "pred = rt.generate_prediction(model)\n",
    "print(pred)\n",
    "#for i in npcl['pf'][0:2]:\n",
    "iparams = {}\n",
    "iparams['injected_square_current'] = {}\n",
    "iparams['injected_square_current']['amplitude'] = pred['value']\n",
    "model = None\n",
    "model = ReducedModel(LEMS_MODEL_PATH,name = str('vanilla'),backend = ('RAW'))\n",
    "#model.set_attrs(i.dtc.attrs)\n",
    "\n",
    "#['amplitude']  = dtc.vtest[k]['injected_square_current']['amplitude']\n",
    "DELAY = 100.0*pq.ms\n",
    "DURATION = 1000.0*pq.ms\n",
    "iparams['injected_square_current']['delay'] = DELAY\n",
    "iparams['injected_square_current']['duration'] = int(DURATION)\n",
    "model.inject_square_current(iparams)\n",
    "n_spikes = len(model.get_spike_train())\n",
    "\n",
    "if n_spikes:\n",
    "    print(n_spikes)\n",
    "    #print(i[0].scores['RheobaseTestP']*pq.pA)\n",
    "    plt.plot(model.get_membrane_potential().times,model.get_membrane_potential())#,label='ground truth')\n",
    "    plt.legend()\n",
    "print(obs_frame['Dentate gyrus basket cell']['Rheobase'])\n",
    "    \n",
    "    "
   ]
  },
  {
   "cell_type": "code",
   "execution_count": 13,
   "metadata": {
    "collapsed": false
   },
   "outputs": [
    {
     "name": "stdout",
     "output_type": "stream",
     "text": [
      "vanilla\n",
      "Enabling NEURON+Python help system.\n",
      "Help on class AP12AmplitudeChangePercentTest in module neuronunit.tests.dm:\n",
      "\n",
      "class AP12AmplitudeChangePercentTest(Druckmann2013Test)\n",
      " |  13. Percent change in AP amplitude, first to second spike (%)\n",
      " |  \n",
      " |  Difference in AP amplitude between first and second AP divided by the first AP\n",
      " |  amplitude.\n",
      " |  \n",
      " |  Method resolution order:\n",
      " |      AP12AmplitudeChangePercentTest\n",
      " |      Druckmann2013Test\n",
      " |      neuronunit.tests.base.VmTest\n",
      " |      sciunit.tests.Test\n",
      " |      sciunit.base.SciUnit\n",
      " |      sciunit.base.Versioned\n",
      " |      builtins.object\n",
      " |  \n",
      " |  Methods defined here:\n",
      " |  \n",
      " |  generate_prediction(self, model)\n",
      " |      Generates a prediction from a model using the required capabilities.\n",
      " |      No default implementation.\n",
      " |  \n",
      " |  ----------------------------------------------------------------------\n",
      " |  Data and other attributes defined here:\n",
      " |  \n",
      " |  description = 'Difference in AP amplitude between first and second AP ...\n",
      " |  \n",
      " |  name = 'Percent change in AP amplitude, first to second spike '\n",
      " |  \n",
      " |  units = Dimensionless('dimensionless', 1.0 * dimensionless)\n",
      " |  \n",
      " |  ----------------------------------------------------------------------\n",
      " |  Methods inherited from Druckmann2013Test:\n",
      " |  \n",
      " |  __init__(self, current_amplitude, **params)\n",
      " |      Initialize self.  See help(type(self)) for accurate signature.\n",
      " |  \n",
      " |  aggregate_repetitions(self, results)\n",
      " |  \n",
      " |  current_length(self)\n",
      " |  \n",
      " |  generate_repetition_prediction(self, model)\n",
      " |  \n",
      " |  get_APs(self, model)\n",
      " |      Spikes were detected by a crossing of a voltage threshold (-20 mV).\n",
      " |      \n",
      " |      :param model: model which provides the waveform to analyse\n",
      " |      :return: a list of Druckman2013APs\n",
      " |  \n",
      " |  get_ISIs(self, model=None)\n",
      " |      #@jit\n",
      " |  \n",
      " |  ----------------------------------------------------------------------\n",
      " |  Data and other attributes inherited from Druckmann2013Test:\n",
      " |  \n",
      " |  required_capabilities = (<class 'neuronunit.capabilities.ProducesActio...\n",
      " |  \n",
      " |  score_type = <class 'sciunit.scores.complete.ZScore'>\n",
      " |      A Z score. A float indicating standardized difference \n",
      " |      from a reference mean.\n",
      " |  \n",
      " |  ----------------------------------------------------------------------\n",
      " |  Methods inherited from neuronunit.tests.base.VmTest:\n",
      " |  \n",
      " |  bind_score(self, score, model, observation, prediction)\n",
      " |      For the user to bind additional features to the score.\n",
      " |  \n",
      " |  sanity_check(self, rheobase, model)\n",
      " |  \n",
      " |  validate_observation(self, observation, united_keys=None, nonunited_keys=None)\n",
      " |      (Optional) Implement to validate the observation provided to the \n",
      " |      constructor.\n",
      " |      Raises an ObservationError if invalid.\n",
      " |  \n",
      " |  ----------------------------------------------------------------------\n",
      " |  Class methods inherited from neuronunit.tests.base.VmTest:\n",
      " |  \n",
      " |  neuroelectro_pooled_observation(neuron, cached=False, quiet=True) from builtins.type\n",
      " |  \n",
      " |  neuroelectro_summary_observation(neuron, cached=False) from builtins.type\n",
      " |  \n",
      " |  ----------------------------------------------------------------------\n",
      " |  Data descriptors inherited from neuronunit.tests.base.VmTest:\n",
      " |  \n",
      " |  state\n",
      " |  \n",
      " |  ----------------------------------------------------------------------\n",
      " |  Data and other attributes inherited from neuronunit.tests.base.VmTest:\n",
      " |  \n",
      " |  ephysprop_name = ''\n",
      " |  \n",
      " |  nonunited_observation_keys = []\n",
      " |  \n",
      " |  united_observation_keys = ['value', 'mean', 'std']\n",
      " |  \n",
      " |  ----------------------------------------------------------------------\n",
      " |  Methods inherited from sciunit.tests.Test:\n",
      " |  \n",
      " |  __str__(self)\n",
      " |      Return str(self).\n",
      " |  \n",
      " |  check(self, model, skip_incapable=True, stop_on_error=True)\n",
      " |      Like judge, but without actually running the test.\n",
      " |      Just returns a Score indicating whether the model can take \n",
      " |      the test or not.\n",
      " |  \n",
      " |  check_capabilities(self, model, skip_incapable=False)\n",
      " |      Checks that the capabilities required by the test are \n",
      " |      implemented by `model`.\n",
      " |      \n",
      " |      Raises an Error if model is not a Model.\n",
      " |      Raises a CapabilityError if model does not have a capability.\n",
      " |  \n",
      " |  check_capability(self, model, c, skip_incapable=False)\n",
      " |  \n",
      " |  check_prediction(self, prediction)\n",
      " |      Checks the prediction for acceptable values.\n",
      " |      No default implementation.\n",
      " |  \n",
      " |  check_score_type(self, score)\n",
      " |  \n",
      " |  compute_score(self, observation, prediction)\n",
      " |      Generates a score given the observations provided in the constructor\n",
      " |      and the prediction generated by generate_prediction.\n",
      " |      \n",
      " |      Must generate a score of score_type.\n",
      " |      \n",
      " |      No default implementation.\n",
      " |  \n",
      " |  describe(self)\n",
      " |  \n",
      " |  judge(self, model, skip_incapable=False, stop_on_error=True, deep_error=False)\n",
      " |      Generates a score for the provided model.\n",
      " |      \n",
      " |      Operates as follows:\n",
      " |      1. Checks if the model has all the required capabilities. If a model  \n",
      " |         does not, and skip_incapable=False, then a CapabilityError is raised.\n",
      " |      2. Calls generate_prediction to generate a prediction.\n",
      " |      3. Calls score_prediction to generate a score.\n",
      " |      4. Checks that the score is of score_type, raising an InvalidScoreError.\n",
      " |      5. Equips the score with metadata:\n",
      " |         a) A reference to the model, in attribute model.\n",
      " |         b) A reference to the test, in attribute test.\n",
      " |         c) A reference to the prediction, in attribute prediction.\n",
      " |         d) A reference to the observation, in attribute observation.\n",
      " |      6. Returns the score.\n",
      " |      \n",
      " |      If stop_on_error is true (default), exceptions propagate upward. If\n",
      " |      false, an ErrorScore is generated containing the exception.\n",
      " |      \n",
      " |      If deep_error is true (not default), the traceback will contain the \n",
      " |      actual code execution error, instead of the content of an ErrorScore.\n",
      " |  \n",
      " |  optimize(self, model)\n",
      " |  \n",
      " |  ----------------------------------------------------------------------\n",
      " |  Class methods inherited from sciunit.tests.Test:\n",
      " |  \n",
      " |  is_test_class(other_cls) from builtins.type\n",
      " |  \n",
      " |  ----------------------------------------------------------------------\n",
      " |  Data and other attributes inherited from sciunit.tests.Test:\n",
      " |  \n",
      " |  converter = None\n",
      " |  \n",
      " |  observation = None\n",
      " |  \n",
      " |  params = {}\n",
      " |  \n",
      " |  verbose = 1\n",
      " |  \n",
      " |  ----------------------------------------------------------------------\n",
      " |  Methods inherited from sciunit.base.SciUnit:\n",
      " |  \n",
      " |  __getstate__(self)\n",
      " |  \n",
      " |  json(self, add_props=False, keys=None, exclude=None, string=True, indent=None)\n",
      " |  \n",
      " |  raw_props(self)\n",
      " |  \n",
      " |  ----------------------------------------------------------------------\n",
      " |  Class methods inherited from sciunit.base.SciUnit:\n",
      " |  \n",
      " |  dict_hash(d) from builtins.type\n",
      " |  \n",
      " |  ----------------------------------------------------------------------\n",
      " |  Data descriptors inherited from sciunit.base.SciUnit:\n",
      " |  \n",
      " |  hash\n",
      " |      A unique numeric identifier of the current model state\n",
      " |  \n",
      " |  id\n",
      " |  \n",
      " |  properties\n",
      " |  \n",
      " |  url\n",
      " |  \n",
      " |  ----------------------------------------------------------------------\n",
      " |  Data and other attributes inherited from sciunit.base.SciUnit:\n",
      " |  \n",
      " |  unpicklable = []\n",
      " |  \n",
      " |  ----------------------------------------------------------------------\n",
      " |  Methods inherited from sciunit.base.Versioned:\n",
      " |  \n",
      " |  get_remote(self, remote='origin')\n",
      " |  \n",
      " |  get_remote_url(self, remote='origin')\n",
      " |  \n",
      " |  get_repo(self)\n",
      " |  \n",
      " |  get_version(self)\n",
      " |  \n",
      " |  ----------------------------------------------------------------------\n",
      " |  Data descriptors inherited from sciunit.base.Versioned:\n",
      " |  \n",
      " |  __dict__\n",
      " |      dictionary for instance variables (if defined)\n",
      " |  \n",
      " |  __weakref__\n",
      " |      list of weak references to the object (if defined)\n",
      " |  \n",
      " |  remote_url\n",
      " |  \n",
      " |  version\n",
      "\n"
     ]
    },
    {
     "ename": "TypeError",
     "evalue": "__init__() missing 1 required positional argument: 'current_amplitude'",
     "output_type": "error",
     "traceback": [
      "\u001b[0;31m---------------------------------------------------------------------------\u001b[0m",
      "\u001b[0;31mTypeError\u001b[0m                                 Traceback (most recent call last)",
      "\u001b[0;32m<ipython-input-13-4bfba4ba7779>\u001b[0m in \u001b[0;36m<module>\u001b[0;34m()\u001b[0m\n\u001b[1;32m      1\u001b[0m \u001b[0mprint\u001b[0m\u001b[0;34m(\u001b[0m\u001b[0mmodel\u001b[0m\u001b[0;34m)\u001b[0m\u001b[0;34m\u001b[0m\u001b[0m\n\u001b[1;32m      2\u001b[0m \u001b[0mhelp\u001b[0m\u001b[0;34m(\u001b[0m\u001b[0mdt\u001b[0m\u001b[0;34m[\u001b[0m\u001b[0;36m0\u001b[0m\u001b[0;34m]\u001b[0m\u001b[0;34m)\u001b[0m\u001b[0;34m\u001b[0m\u001b[0m\n\u001b[0;32m----> 3\u001b[0;31m \u001b[0mdt\u001b[0m \u001b[0;34m=\u001b[0m \u001b[0mdt\u001b[0m\u001b[0;34m[\u001b[0m\u001b[0;36m0\u001b[0m\u001b[0;34m]\u001b[0m\u001b[0;34m(\u001b[0m\u001b[0;34m)\u001b[0m\u001b[0;34m\u001b[0m\u001b[0m\n\u001b[0m\u001b[1;32m      4\u001b[0m \u001b[0mdt\u001b[0m\u001b[0;34m[\u001b[0m\u001b[0;36m0\u001b[0m\u001b[0;34m]\u001b[0m\u001b[0;34m.\u001b[0m\u001b[0mgenerate_prediction\u001b[0m\u001b[0;34m(\u001b[0m\u001b[0mmodel\u001b[0m\u001b[0;34m)\u001b[0m\u001b[0;34m\u001b[0m\u001b[0m\n",
      "\u001b[0;31mTypeError\u001b[0m: __init__() missing 1 required positional argument: 'current_amplitude'"
     ]
    }
   ],
   "source": [
    "print(model)\n",
    "help(dt[0])\n",
    "dt = dt[0]()\n",
    "dt[0].generate_prediction(model)\n"
   ]
  },
  {
   "cell_type": "code",
   "execution_count": null,
   "metadata": {
    "collapsed": true
   },
   "outputs": [],
   "source": [
    "'''\n",
    "import pdb\n",
    "for d in dt:\n",
    "    pdb.set_trace()\n",
    "    #dmtO = d(pred['value'])#obs_frame['Dentate gyrus basket cell']['Rheobase'])\n",
    "print(dmt0)\n",
    "'''"
   ]
  },
  {
   "cell_type": "code",
   "execution_count": null,
   "metadata": {
    "collapsed": true
   },
   "outputs": [],
   "source": []
  },
  {
   "cell_type": "code",
   "execution_count": null,
   "metadata": {
    "collapsed": true
   },
   "outputs": [],
   "source": []
  },
  {
   "cell_type": "code",
   "execution_count": null,
   "metadata": {
    "collapsed": true
   },
   "outputs": [],
   "source": []
  }
 ],
 "metadata": {
  "kernelspec": {
   "display_name": "Python 3",
   "language": "python",
   "name": "python3"
  },
  "language_info": {
   "codemirror_mode": {
    "name": "ipython",
    "version": 3
   },
   "file_extension": ".py",
   "mimetype": "text/x-python",
   "name": "python",
   "nbconvert_exporter": "python",
   "pygments_lexer": "ipython3",
   "version": "3.5.2"
  }
 },
 "nbformat": 4,
 "nbformat_minor": 2
}
