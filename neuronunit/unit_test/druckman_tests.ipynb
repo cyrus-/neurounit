{
 "cells": [
  {
   "cell_type": "code",
   "execution_count": 1,
   "metadata": {
    "collapsed": false
   },
   "outputs": [
    {
     "name": "stdout",
     "output_type": "stream",
     "text": [
      "Requirement already up-to-date: numpy in /opt/conda/lib/python3.5/site-packages (1.15.4)\n",
      "\u001b[31mcryptography 2.2.1 requires asn1crypto>=0.21.0, which is not installed.\u001b[0m\n",
      "\u001b[31mcffi 1.11.5 requires pycparser, which is not installed.\u001b[0m\n",
      "\u001b[31mallensdk 0.14.2 has requirement pandas<0.20.0,>=0.16.2, but you'll have pandas 0.23.1 which is incompatible.\u001b[0m\n",
      "\u001b[33mYou are using pip version 10.0.1, however version 18.1 is available.\n",
      "You should consider upgrading via the 'pip install --upgrade pip' command.\u001b[0m\n"
     ]
    }
   ],
   "source": [
    "!pip install numpy --upgrade\n",
    "electro_tests = []\n",
    "obs_frame = {}\n",
    "test_frame = {}\n",
    "import os\n",
    "import pickle\n",
    "try: \n",
    "\n",
    "    electro_path = str(os.getcwd())+'all_tests.p'\n",
    "\n",
    "    assert os.path.isfile(electro_path) == True\n",
    "    with open(electro_path,'rb') as f:\n",
    "        (obs_frame,test_frame) = pickle.load(f)\n",
    "\n",
    "except:\n",
    "    for p in pipe:\n",
    "        p_tests, p_observations = get_neab.get_neuron_criteria(p)\n",
    "        obs_frame[p[\"name\"]] = p_observations#, p_tests))\n",
    "        test_frame[p[\"name\"]] = p_tests#, p_tests))\n",
    "    electro_path = str(os.getcwd())+'all_tests.p'\n",
    "    with open(electro_path,'wb') as f:\n",
    "        pickle.dump((obs_frame,test_frame),f)"
   ]
  },
  {
   "cell_type": "code",
   "execution_count": 2,
   "metadata": {
    "collapsed": false
   },
   "outputs": [
    {
     "name": "stdout",
     "output_type": "stream",
     "text": [
      "{'C': 8.97960714285714e-05, 'c': -60.0, 'vt': -50.0, 'd': 0.01, 'k': 0.0016, 'a': 0.01, 'vpeak': 21.138338933982595, 'vr': -65.2261863636364, 'b': 0.015}\n",
      "Highest subthreshold current is 124.7679591178894 pA\n",
      "Lowest suprathreshold current is 124.76797699928284 pA\n",
      "parallel Rhsearch time NEURON 8.054386854171753\n",
      "serial Rhsearch time NEURON 28.719974756240845\n"
     ]
    }
   ],
   "source": [
    "import sciunit, neuronunit, quantities\n",
    "from neuronunit.tests.dm import *\n",
    "import time\n",
    "#from neuronunit.tests.dm import dmt\n",
    "#from neuronunit.neuromldb import NeuroMLDBStaticModel\n",
    "from neuronunit.tests import dm, RheobaseTestP, fi #import VmTest\n",
    "import matplotlib.pyplot as plt\n",
    "\n",
    "from neuronunit.models.reduced import ReducedModel\n",
    "from neuronunit.optimization.data_transport_container import DataTC\n",
    "from neuronunit.optimization.model_parameters import model_params, path_params\n",
    "from neuronunit.optimization.model_parameters import translate\n",
    "import time\n",
    "\n",
    "LEMS_MODEL_PATH = path_params['model_path']\n",
    "model = ReducedModel(LEMS_MODEL_PATH,name = str('vanilla'),backend = ('RAW'))\n",
    "dtc = DataTC()\n",
    "dtc.attrs = model.attrs\n",
    "dtc.ampl=0\n",
    "dtc.attrs_raw = {'C':89.7960714285714, 'a':0.01, 'b':15, 'c':-60, 'd':10,\\\n",
    "         'k':1.6, 'vPeak':(86.364525297619-65.2261863636364),\\\n",
    "         'vr':-65.2261863636364, 'vt':-50}\n",
    "\n",
    "dtc.attrs = translate(dtc.attrs_raw)\n",
    "\n",
    "start0 = time.time()\n",
    "model = ReducedModel(LEMS_MODEL_PATH, name= str('vanilla'), backend=('NEURON', {'DTC':dtc}))\n",
    "rt = RheobaseTestP(obs_frame['Dentate gyrus basket cell']['Rheobase'])\n",
    "pred0 = rt.generate_prediction(model)\n",
    "end0 = time.time()\n",
    "print(model.attrs)\n",
    "\n",
    "model = ReducedModel(LEMS_MODEL_PATH, name= str('vanilla'), backend=('NEURON', {'DTC':dtc}))\n",
    "start1 = time.time()\n",
    "rt = fi.RheobaseTest(obs_frame['Dentate gyrus basket cell']['Rheobase'])\n",
    "pred1 = rt.generate_prediction(model)\n",
    "end1 = time.time()\n",
    "\n",
    "print('parallel Rhsearch time NEURON', end0-start0)\n",
    "print('serial Rhsearch time NEURON',end1-start1)\n",
    "\n",
    "\n"
   ]
  },
  {
   "cell_type": "code",
   "execution_count": 3,
   "metadata": {
    "collapsed": false
   },
   "outputs": [
    {
     "name": "stdout",
     "output_type": "stream",
     "text": [
      "Highest subthreshold current is 122.83101081848145 pA\n",
      "Lowest suprathreshold current is 122.83102869987488 pA\n",
      "{'value': array(125.5) * pA} {'value': array(122.8310287) * pA}\n",
      "184.24654304981232 pA 245.66205739974976 pA 122.83102869987488 pA\n",
      "parallel Rhsearch time RAW 2.1073315143585205\n",
      "serial Rhsearch time RAW 1.2251036167144775\n"
     ]
    }
   ],
   "source": [
    "start4 = time.time()\n",
    "\n",
    "model = ReducedModel(LEMS_MODEL_PATH, name= str('vanilla'), backend=('RAW'))\n",
    "#model.set_attrs(dtc.attrs_raw)\n",
    "rt = fi.RheobaseTestP(obs_frame['Dentate gyrus basket cell']['Rheobase'])\n",
    "pred1 = rt.generate_prediction(model)\n",
    "end4 = time.time()\n",
    "\n",
    "\n",
    "start3 = time.time()\n",
    "\n",
    "model = ReducedModel(LEMS_MODEL_PATH, name= str('vanilla'), backend=('RAW'))\n",
    "#model.set_attrs(dtc.attrs_raw)\n",
    "\n",
    "rt = fi.RheobaseTest(obs_frame['Dentate gyrus basket cell']['Rheobase'])\n",
    "pred1 = rt.generate_prediction(model)\n",
    "end3 = time.time()\n",
    "\n",
    "print(pred0,pred1)\n",
    "ir_currents = {}\n",
    "ir_currents = pred1['value']\n",
    "standard = 1.5*ir_currents\n",
    "strong = 2*ir_currents\n",
    "print(standard,strong,ir_currents)\n",
    "\n",
    "\n",
    "\n",
    "print('parallel Rhsearch time RAW', end4-start4)\n",
    "print('serial Rhsearch time RAW',end3-start3)"
   ]
  },
  {
   "cell_type": "code",
   "execution_count": 4,
   "metadata": {
    "collapsed": false
   },
   "outputs": [
    {
     "name": "stdout",
     "output_type": "stream",
     "text": [
      "3.5657555660323657 speed up for NEURON\n",
      "0.5813530563972056 speed up (slow down) for rawpy\n"
     ]
    }
   ],
   "source": [
    "speed_up= (end1-start1)/(end0-start0)\n",
    "print(speed_up, 'speed up for NEURON')\n",
    "speed_up= (end3-start3)/(end4-start4)\n",
    "print(speed_up, 'speed up (slow down) for rawpy')"
   ]
  },
  {
   "cell_type": "markdown",
   "metadata": {},
   "source": [
    "These results show that parallel rheobase is ~3.5-7 times faster for NEURON, but slower for numba jit depending on model.\n",
    "\n",
    "This makes sense, because numba jit evaluations are over so quickly, it rivals the time, for interprocessor communication, not so with NEURON simulations, where simulation takes a long time.\n",
    "\n",
    "The reason parallel is faster given interprocessor comm speed < sim evaluation time, is because in the case of binary search.\n",
    "\n",
    "For each sim evaluation, the search engine only narrows by 50%.\n",
    "\n",
    "In the parallel case, 8 simultaneous sim evaluations, are able to narrow the search interval space, by 7/8ths.\n",
    "\n",
    "This fast narrowing of intervals is what makes the parallel case faster than the binary case."
   ]
  },
  {
   "cell_type": "code",
   "execution_count": 5,
   "metadata": {
    "collapsed": false
   },
   "outputs": [
    {
     "data": {
      "text/plain": [
       "array(184.24654305) * pA"
      ]
     },
     "execution_count": 5,
     "metadata": {},
     "output_type": "execute_result"
    }
   ],
   "source": [
    "standard"
   ]
  },
  {
   "cell_type": "code",
   "execution_count": 6,
   "metadata": {
    "collapsed": false
   },
   "outputs": [],
   "source": [
    "\n",
    "#nn2013_input_resistance_currents()\n",
    "tests = [AP12AmplitudeDropTest(standard), \n",
    "    AP1SSAmplitudeChangeTest(standard), \n",
    "    AP1AmplitudeTest(standard), \n",
    "    AP1WidthHalfHeightTest(standard), \n",
    "    AP1WidthPeakToTroughTest(standard), \n",
    "    AP1RateOfChangePeakToTroughTest(standard), \n",
    "    AP1AHPDepthTest(standard), \n",
    "    AP2AmplitudeTest(standard), \n",
    "    AP2WidthHalfHeightTest(standard), \n",
    "    AP2WidthPeakToTroughTest(standard), \n",
    "    AP2RateOfChangePeakToTroughTest(standard), \n",
    "    AP2AHPDepthTest(standard), \n",
    "    AP12AmplitudeChangePercentTest(standard), \n",
    "    AP12HalfWidthChangePercentTest(standard), \n",
    "    AP12RateOfChangePeakToTroughPercentChangeTest(standard), \n",
    "    AP12AHPDepthPercentChangeTest(standard), \n",
    "    AP1DelayMeanTest(standard), \n",
    "    AP1DelaySDTest(standard), \n",
    "    AP2DelayMeanTest(standard), \n",
    "    AP2DelaySDTest(standard), \n",
    "    Burst1ISIMeanTest(standard), \n",
    "    Burst1ISISDTest(standard), \n",
    "    InitialAccommodationMeanTest(standard), \n",
    "    SSAccommodationMeanTest(standard), \n",
    "    AccommodationRateToSSTest(standard), \n",
    "    AccommodationAtSSMeanTest(standard), \n",
    "    AccommodationRateMeanAtSSTest(standard), \n",
    "    ISICVTest(standard), \n",
    "    ISIMedianTest(standard), \n",
    "    ISIBurstMeanChangeTest(standard), \n",
    "    SpikeRateStrongStimTest(strong), \n",
    "    AP1DelayMeanStrongStimTest(strong), \n",
    "    AP1DelaySDStrongStimTest(strong), \n",
    "    AP2DelayMeanStrongStimTest(strong), \n",
    "    AP2DelaySDStrongStimTest(strong), \n",
    "    Burst1ISISDStrongStimTest(strong),\n",
    "    Burst1ISIMeanStrongStimTest(strong)]\n",
    "\n"
   ]
  },
  {
   "cell_type": "code",
   "execution_count": 7,
   "metadata": {
    "collapsed": false
   },
   "outputs": [
    {
     "name": "stdout",
     "output_type": "stream",
     "text": [
      "122.83102869987488 pA\n",
      "184.24654304981232 pA\n",
      "245.66205739974976 pA\n"
     ]
    }
   ],
   "source": [
    "print(ir_currents)\n",
    "print(standard)\n",
    "print(strong)\n"
   ]
  },
  {
   "cell_type": "code",
   "execution_count": null,
   "metadata": {
    "collapsed": false
   },
   "outputs": [
    {
     "name": "stdout",
     "output_type": "stream",
     "text": [
      "[-5.05544029e-05] V\n",
      "None\n",
      "[0.04078998] V\n",
      "0.22500000000000006 ms\n",
      "[0.] ms\n",
      "-3245.5335573593034 V/s\n",
      "[0.04034836] V\n",
      "[0.04084053] V\n",
      "0.22499999999999995 ms\n",
      "[0.] ms\n",
      "-3245.5335573593034 V/s\n",
      "[0.04029781] V\n",
      "[0.12393829] dimensionless\n",
      "-4.934324553889583e-14 dimensionless\n",
      "-0.0 dimensionless\n",
      "[-0.12529482] dimensionless\n",
      "16.799999999999955 ms\n",
      "0.0 ms\n",
      "38.799999999999955 ms\n",
      "0.0 ms\n",
      "None\n",
      "None\n",
      "-100.0\n",
      "-100.0\n",
      "None\n",
      "None\n",
      "None\n",
      "None\n",
      "22.0 ms\n",
      "None\n",
      "14.5 Hz\n",
      "11.625 ms\n",
      "0.0 ms\n",
      "23.549999999999955 ms\n",
      "0.0 ms\n",
      "0.0 ms\n",
      "13.5625 ms\n",
      "13.5625 ms mean is None?\n",
      "4.458664894104004\n",
      "[-1.20039643e-05] V [<neuronunit.tests.dm.AP12AmplitudeDropTest object at 0x7fedd2d60908>, <neuronunit.tests.dm.AP1SSAmplitudeChangeTest object at 0x7fedd2d60940>, <neuronunit.tests.dm.AP1AmplitudeTest object at 0x7fedd2d60978>, <neuronunit.tests.dm.AP1WidthHalfHeightTest object at 0x7fedd2d609b0>, <neuronunit.tests.dm.AP1WidthPeakToTroughTest object at 0x7fedd2d609e8>, <neuronunit.tests.dm.AP1RateOfChangePeakToTroughTest object at 0x7fedd2d60a20>, <neuronunit.tests.dm.AP1AHPDepthTest object at 0x7fedd2d60a58>, <neuronunit.tests.dm.AP2AmplitudeTest object at 0x7fedd2d60a90>, <neuronunit.tests.dm.AP2WidthHalfHeightTest object at 0x7fedd2d60ac8>, <neuronunit.tests.dm.AP2WidthPeakToTroughTest object at 0x7fedd2d60b00>, <neuronunit.tests.dm.AP2RateOfChangePeakToTroughTest object at 0x7fedd2d60b38>, <neuronunit.tests.dm.AP2AHPDepthTest object at 0x7fedd2d60b70>, <neuronunit.tests.dm.AP12AmplitudeChangePercentTest object at 0x7fedd2d60ba8>, <neuronunit.tests.dm.AP12HalfWidthChangePercentTest object at 0x7fedd2d60be0>, <neuronunit.tests.dm.AP12RateOfChangePeakToTroughPercentChangeTest object at 0x7fedd2d60c18>, <neuronunit.tests.dm.AP12AHPDepthPercentChangeTest object at 0x7fedd2d60c50>, <neuronunit.tests.dm.AP1DelayMeanTest object at 0x7fedd2d60c88>, <neuronunit.tests.dm.AP1DelaySDTest object at 0x7fedd2d60cc0>, <neuronunit.tests.dm.AP2DelayMeanTest object at 0x7fedd2d60cf8>, <neuronunit.tests.dm.AP2DelaySDTest object at 0x7fedd2d60d30>, <neuronunit.tests.dm.Burst1ISIMeanTest object at 0x7fedd2d60d68>, <neuronunit.tests.dm.Burst1ISISDTest object at 0x7fedd2d60da0>, <neuronunit.tests.dm.InitialAccommodationMeanTest object at 0x7fedd2d60dd8>, <neuronunit.tests.dm.SSAccommodationMeanTest object at 0x7fedd2d60e10>, <neuronunit.tests.dm.AccommodationRateToSSTest object at 0x7fedd2d60e48>, <neuronunit.tests.dm.AccommodationAtSSMeanTest object at 0x7fedd2d60e80>, <neuronunit.tests.dm.AccommodationRateMeanAtSSTest object at 0x7fedd2d60eb8>, <neuronunit.tests.dm.ISICVTest object at 0x7fedd2d60ef0>, <neuronunit.tests.dm.ISIMedianTest object at 0x7fedd2d60f28>, <neuronunit.tests.dm.ISIBurstMeanChangeTest object at 0x7fedd2d60f60>, <neuronunit.tests.dm.SpikeRateStrongStimTest object at 0x7fedd2d60f98>, <neuronunit.tests.dm.AP1DelayMeanStrongStimTest object at 0x7fedd2d60fd0>, <neuronunit.tests.dm.AP1DelaySDStrongStimTest object at 0x7fedd2d6e048>, <neuronunit.tests.dm.AP2DelayMeanStrongStimTest object at 0x7fedd2d6e080>, <neuronunit.tests.dm.AP2DelaySDStrongStimTest object at 0x7fedd2d6e0b8>, <neuronunit.tests.dm.Burst1ISISDStrongStimTest object at 0x7fedd2d6e0f0>, <neuronunit.tests.dm.Burst1ISIMeanStrongStimTest object at 0x7fedd2d6e128>]\n",
      "None [<neuronunit.tests.dm.AP12AmplitudeDropTest object at 0x7fedd2d60908>, <neuronunit.tests.dm.AP1SSAmplitudeChangeTest object at 0x7fedd2d60940>, <neuronunit.tests.dm.AP1AmplitudeTest object at 0x7fedd2d60978>, <neuronunit.tests.dm.AP1WidthHalfHeightTest object at 0x7fedd2d609b0>, <neuronunit.tests.dm.AP1WidthPeakToTroughTest object at 0x7fedd2d609e8>, <neuronunit.tests.dm.AP1RateOfChangePeakToTroughTest object at 0x7fedd2d60a20>, <neuronunit.tests.dm.AP1AHPDepthTest object at 0x7fedd2d60a58>, <neuronunit.tests.dm.AP2AmplitudeTest object at 0x7fedd2d60a90>, <neuronunit.tests.dm.AP2WidthHalfHeightTest object at 0x7fedd2d60ac8>, <neuronunit.tests.dm.AP2WidthPeakToTroughTest object at 0x7fedd2d60b00>, <neuronunit.tests.dm.AP2RateOfChangePeakToTroughTest object at 0x7fedd2d60b38>, <neuronunit.tests.dm.AP2AHPDepthTest object at 0x7fedd2d60b70>, <neuronunit.tests.dm.AP12AmplitudeChangePercentTest object at 0x7fedd2d60ba8>, <neuronunit.tests.dm.AP12HalfWidthChangePercentTest object at 0x7fedd2d60be0>, <neuronunit.tests.dm.AP12RateOfChangePeakToTroughPercentChangeTest object at 0x7fedd2d60c18>, <neuronunit.tests.dm.AP12AHPDepthPercentChangeTest object at 0x7fedd2d60c50>, <neuronunit.tests.dm.AP1DelayMeanTest object at 0x7fedd2d60c88>, <neuronunit.tests.dm.AP1DelaySDTest object at 0x7fedd2d60cc0>, <neuronunit.tests.dm.AP2DelayMeanTest object at 0x7fedd2d60cf8>, <neuronunit.tests.dm.AP2DelaySDTest object at 0x7fedd2d60d30>, <neuronunit.tests.dm.Burst1ISIMeanTest object at 0x7fedd2d60d68>, <neuronunit.tests.dm.Burst1ISISDTest object at 0x7fedd2d60da0>, <neuronunit.tests.dm.InitialAccommodationMeanTest object at 0x7fedd2d60dd8>, <neuronunit.tests.dm.SSAccommodationMeanTest object at 0x7fedd2d60e10>, <neuronunit.tests.dm.AccommodationRateToSSTest object at 0x7fedd2d60e48>, <neuronunit.tests.dm.AccommodationAtSSMeanTest object at 0x7fedd2d60e80>, <neuronunit.tests.dm.AccommodationRateMeanAtSSTest object at 0x7fedd2d60eb8>, <neuronunit.tests.dm.ISICVTest object at 0x7fedd2d60ef0>, <neuronunit.tests.dm.ISIMedianTest object at 0x7fedd2d60f28>, <neuronunit.tests.dm.ISIBurstMeanChangeTest object at 0x7fedd2d60f60>, <neuronunit.tests.dm.SpikeRateStrongStimTest object at 0x7fedd2d60f98>, <neuronunit.tests.dm.AP1DelayMeanStrongStimTest object at 0x7fedd2d60fd0>, <neuronunit.tests.dm.AP1DelaySDStrongStimTest object at 0x7fedd2d6e048>, <neuronunit.tests.dm.AP2DelayMeanStrongStimTest object at 0x7fedd2d6e080>, <neuronunit.tests.dm.AP2DelaySDStrongStimTest object at 0x7fedd2d6e0b8>, <neuronunit.tests.dm.Burst1ISISDStrongStimTest object at 0x7fedd2d6e0f0>, <neuronunit.tests.dm.Burst1ISIMeanStrongStimTest object at 0x7fedd2d6e128>]\n",
      "[0.04114518] V [<neuronunit.tests.dm.AP12AmplitudeDropTest object at 0x7fedd2d60908>, <neuronunit.tests.dm.AP1SSAmplitudeChangeTest object at 0x7fedd2d60940>, <neuronunit.tests.dm.AP1AmplitudeTest object at 0x7fedd2d60978>, <neuronunit.tests.dm.AP1WidthHalfHeightTest object at 0x7fedd2d609b0>, <neuronunit.tests.dm.AP1WidthPeakToTroughTest object at 0x7fedd2d609e8>, <neuronunit.tests.dm.AP1RateOfChangePeakToTroughTest object at 0x7fedd2d60a20>, <neuronunit.tests.dm.AP1AHPDepthTest object at 0x7fedd2d60a58>, <neuronunit.tests.dm.AP2AmplitudeTest object at 0x7fedd2d60a90>, <neuronunit.tests.dm.AP2WidthHalfHeightTest object at 0x7fedd2d60ac8>, <neuronunit.tests.dm.AP2WidthPeakToTroughTest object at 0x7fedd2d60b00>, <neuronunit.tests.dm.AP2RateOfChangePeakToTroughTest object at 0x7fedd2d60b38>, <neuronunit.tests.dm.AP2AHPDepthTest object at 0x7fedd2d60b70>, <neuronunit.tests.dm.AP12AmplitudeChangePercentTest object at 0x7fedd2d60ba8>, <neuronunit.tests.dm.AP12HalfWidthChangePercentTest object at 0x7fedd2d60be0>, <neuronunit.tests.dm.AP12RateOfChangePeakToTroughPercentChangeTest object at 0x7fedd2d60c18>, <neuronunit.tests.dm.AP12AHPDepthPercentChangeTest object at 0x7fedd2d60c50>, <neuronunit.tests.dm.AP1DelayMeanTest object at 0x7fedd2d60c88>, <neuronunit.tests.dm.AP1DelaySDTest object at 0x7fedd2d60cc0>, <neuronunit.tests.dm.AP2DelayMeanTest object at 0x7fedd2d60cf8>, <neuronunit.tests.dm.AP2DelaySDTest object at 0x7fedd2d60d30>, <neuronunit.tests.dm.Burst1ISIMeanTest object at 0x7fedd2d60d68>, <neuronunit.tests.dm.Burst1ISISDTest object at 0x7fedd2d60da0>, <neuronunit.tests.dm.InitialAccommodationMeanTest object at 0x7fedd2d60dd8>, <neuronunit.tests.dm.SSAccommodationMeanTest object at 0x7fedd2d60e10>, <neuronunit.tests.dm.AccommodationRateToSSTest object at 0x7fedd2d60e48>, <neuronunit.tests.dm.AccommodationAtSSMeanTest object at 0x7fedd2d60e80>, <neuronunit.tests.dm.AccommodationRateMeanAtSSTest object at 0x7fedd2d60eb8>, <neuronunit.tests.dm.ISICVTest object at 0x7fedd2d60ef0>, <neuronunit.tests.dm.ISIMedianTest object at 0x7fedd2d60f28>, <neuronunit.tests.dm.ISIBurstMeanChangeTest object at 0x7fedd2d60f60>, <neuronunit.tests.dm.SpikeRateStrongStimTest object at 0x7fedd2d60f98>, <neuronunit.tests.dm.AP1DelayMeanStrongStimTest object at 0x7fedd2d60fd0>, <neuronunit.tests.dm.AP1DelaySDStrongStimTest object at 0x7fedd2d6e048>, <neuronunit.tests.dm.AP2DelayMeanStrongStimTest object at 0x7fedd2d6e080>, <neuronunit.tests.dm.AP2DelaySDStrongStimTest object at 0x7fedd2d6e0b8>, <neuronunit.tests.dm.Burst1ISISDStrongStimTest object at 0x7fedd2d6e0f0>, <neuronunit.tests.dm.Burst1ISIMeanStrongStimTest object at 0x7fedd2d6e128>]\n",
      "0.27749999999999997 ms [<neuronunit.tests.dm.AP12AmplitudeDropTest object at 0x7fedd2d60908>, <neuronunit.tests.dm.AP1SSAmplitudeChangeTest object at 0x7fedd2d60940>, <neuronunit.tests.dm.AP1AmplitudeTest object at 0x7fedd2d60978>, <neuronunit.tests.dm.AP1WidthHalfHeightTest object at 0x7fedd2d609b0>, <neuronunit.tests.dm.AP1WidthPeakToTroughTest object at 0x7fedd2d609e8>, <neuronunit.tests.dm.AP1RateOfChangePeakToTroughTest object at 0x7fedd2d60a20>, <neuronunit.tests.dm.AP1AHPDepthTest object at 0x7fedd2d60a58>, <neuronunit.tests.dm.AP2AmplitudeTest object at 0x7fedd2d60a90>, <neuronunit.tests.dm.AP2WidthHalfHeightTest object at 0x7fedd2d60ac8>, <neuronunit.tests.dm.AP2WidthPeakToTroughTest object at 0x7fedd2d60b00>, <neuronunit.tests.dm.AP2RateOfChangePeakToTroughTest object at 0x7fedd2d60b38>, <neuronunit.tests.dm.AP2AHPDepthTest object at 0x7fedd2d60b70>, <neuronunit.tests.dm.AP12AmplitudeChangePercentTest object at 0x7fedd2d60ba8>, <neuronunit.tests.dm.AP12HalfWidthChangePercentTest object at 0x7fedd2d60be0>, <neuronunit.tests.dm.AP12RateOfChangePeakToTroughPercentChangeTest object at 0x7fedd2d60c18>, <neuronunit.tests.dm.AP12AHPDepthPercentChangeTest object at 0x7fedd2d60c50>, <neuronunit.tests.dm.AP1DelayMeanTest object at 0x7fedd2d60c88>, <neuronunit.tests.dm.AP1DelaySDTest object at 0x7fedd2d60cc0>, <neuronunit.tests.dm.AP2DelayMeanTest object at 0x7fedd2d60cf8>, <neuronunit.tests.dm.AP2DelaySDTest object at 0x7fedd2d60d30>, <neuronunit.tests.dm.Burst1ISIMeanTest object at 0x7fedd2d60d68>, <neuronunit.tests.dm.Burst1ISISDTest object at 0x7fedd2d60da0>, <neuronunit.tests.dm.InitialAccommodationMeanTest object at 0x7fedd2d60dd8>, <neuronunit.tests.dm.SSAccommodationMeanTest object at 0x7fedd2d60e10>, <neuronunit.tests.dm.AccommodationRateToSSTest object at 0x7fedd2d60e48>, <neuronunit.tests.dm.AccommodationAtSSMeanTest object at 0x7fedd2d60e80>, <neuronunit.tests.dm.AccommodationRateMeanAtSSTest object at 0x7fedd2d60eb8>, <neuronunit.tests.dm.ISICVTest object at 0x7fedd2d60ef0>, <neuronunit.tests.dm.ISIMedianTest object at 0x7fedd2d60f28>, <neuronunit.tests.dm.ISIBurstMeanChangeTest object at 0x7fedd2d60f60>, <neuronunit.tests.dm.SpikeRateStrongStimTest object at 0x7fedd2d60f98>, <neuronunit.tests.dm.AP1DelayMeanStrongStimTest object at 0x7fedd2d60fd0>, <neuronunit.tests.dm.AP1DelaySDStrongStimTest object at 0x7fedd2d6e048>, <neuronunit.tests.dm.AP2DelayMeanStrongStimTest object at 0x7fedd2d6e080>, <neuronunit.tests.dm.AP2DelaySDStrongStimTest object at 0x7fedd2d6e0b8>, <neuronunit.tests.dm.Burst1ISISDStrongStimTest object at 0x7fedd2d6e0f0>, <neuronunit.tests.dm.Burst1ISIMeanStrongStimTest object at 0x7fedd2d6e128>]\n",
      "[0.0025] ms [<neuronunit.tests.dm.AP12AmplitudeDropTest object at 0x7fedd2d60908>, <neuronunit.tests.dm.AP1SSAmplitudeChangeTest object at 0x7fedd2d60940>, <neuronunit.tests.dm.AP1AmplitudeTest object at 0x7fedd2d60978>, <neuronunit.tests.dm.AP1WidthHalfHeightTest object at 0x7fedd2d609b0>, <neuronunit.tests.dm.AP1WidthPeakToTroughTest object at 0x7fedd2d609e8>, <neuronunit.tests.dm.AP1RateOfChangePeakToTroughTest object at 0x7fedd2d60a20>, <neuronunit.tests.dm.AP1AHPDepthTest object at 0x7fedd2d60a58>, <neuronunit.tests.dm.AP2AmplitudeTest object at 0x7fedd2d60a90>, <neuronunit.tests.dm.AP2WidthHalfHeightTest object at 0x7fedd2d60ac8>, <neuronunit.tests.dm.AP2WidthPeakToTroughTest object at 0x7fedd2d60b00>, <neuronunit.tests.dm.AP2RateOfChangePeakToTroughTest object at 0x7fedd2d60b38>, <neuronunit.tests.dm.AP2AHPDepthTest object at 0x7fedd2d60b70>, <neuronunit.tests.dm.AP12AmplitudeChangePercentTest object at 0x7fedd2d60ba8>, <neuronunit.tests.dm.AP12HalfWidthChangePercentTest object at 0x7fedd2d60be0>, <neuronunit.tests.dm.AP12RateOfChangePeakToTroughPercentChangeTest object at 0x7fedd2d60c18>, <neuronunit.tests.dm.AP12AHPDepthPercentChangeTest object at 0x7fedd2d60c50>, <neuronunit.tests.dm.AP1DelayMeanTest object at 0x7fedd2d60c88>, <neuronunit.tests.dm.AP1DelaySDTest object at 0x7fedd2d60cc0>, <neuronunit.tests.dm.AP2DelayMeanTest object at 0x7fedd2d60cf8>, <neuronunit.tests.dm.AP2DelaySDTest object at 0x7fedd2d60d30>, <neuronunit.tests.dm.Burst1ISIMeanTest object at 0x7fedd2d60d68>, <neuronunit.tests.dm.Burst1ISISDTest object at 0x7fedd2d60da0>, <neuronunit.tests.dm.InitialAccommodationMeanTest object at 0x7fedd2d60dd8>, <neuronunit.tests.dm.SSAccommodationMeanTest object at 0x7fedd2d60e10>, <neuronunit.tests.dm.AccommodationRateToSSTest object at 0x7fedd2d60e48>, <neuronunit.tests.dm.AccommodationAtSSMeanTest object at 0x7fedd2d60e80>, <neuronunit.tests.dm.AccommodationRateMeanAtSSTest object at 0x7fedd2d60eb8>, <neuronunit.tests.dm.ISICVTest object at 0x7fedd2d60ef0>, <neuronunit.tests.dm.ISIMedianTest object at 0x7fedd2d60f28>, <neuronunit.tests.dm.ISIBurstMeanChangeTest object at 0x7fedd2d60f60>, <neuronunit.tests.dm.SpikeRateStrongStimTest object at 0x7fedd2d60f98>, <neuronunit.tests.dm.AP1DelayMeanStrongStimTest object at 0x7fedd2d60fd0>, <neuronunit.tests.dm.AP1DelaySDStrongStimTest object at 0x7fedd2d6e048>, <neuronunit.tests.dm.AP2DelayMeanStrongStimTest object at 0x7fedd2d6e080>, <neuronunit.tests.dm.AP2DelaySDStrongStimTest object at 0x7fedd2d6e0b8>, <neuronunit.tests.dm.Burst1ISISDStrongStimTest object at 0x7fedd2d6e0f0>, <neuronunit.tests.dm.Burst1ISIMeanStrongStimTest object at 0x7fedd2d6e128>]\n",
      "[-32.45921413] V/ms [<neuronunit.tests.dm.AP12AmplitudeDropTest object at 0x7fedd2d60908>, <neuronunit.tests.dm.AP1SSAmplitudeChangeTest object at 0x7fedd2d60940>, <neuronunit.tests.dm.AP1AmplitudeTest object at 0x7fedd2d60978>, <neuronunit.tests.dm.AP1WidthHalfHeightTest object at 0x7fedd2d609b0>, <neuronunit.tests.dm.AP1WidthPeakToTroughTest object at 0x7fedd2d609e8>, <neuronunit.tests.dm.AP1RateOfChangePeakToTroughTest object at 0x7fedd2d60a20>, <neuronunit.tests.dm.AP1AHPDepthTest object at 0x7fedd2d60a58>, <neuronunit.tests.dm.AP2AmplitudeTest object at 0x7fedd2d60a90>, <neuronunit.tests.dm.AP2WidthHalfHeightTest object at 0x7fedd2d60ac8>, <neuronunit.tests.dm.AP2WidthPeakToTroughTest object at 0x7fedd2d60b00>, <neuronunit.tests.dm.AP2RateOfChangePeakToTroughTest object at 0x7fedd2d60b38>, <neuronunit.tests.dm.AP2AHPDepthTest object at 0x7fedd2d60b70>, <neuronunit.tests.dm.AP12AmplitudeChangePercentTest object at 0x7fedd2d60ba8>, <neuronunit.tests.dm.AP12HalfWidthChangePercentTest object at 0x7fedd2d60be0>, <neuronunit.tests.dm.AP12RateOfChangePeakToTroughPercentChangeTest object at 0x7fedd2d60c18>, <neuronunit.tests.dm.AP12AHPDepthPercentChangeTest object at 0x7fedd2d60c50>, <neuronunit.tests.dm.AP1DelayMeanTest object at 0x7fedd2d60c88>, <neuronunit.tests.dm.AP1DelaySDTest object at 0x7fedd2d60cc0>, <neuronunit.tests.dm.AP2DelayMeanTest object at 0x7fedd2d60cf8>, <neuronunit.tests.dm.AP2DelaySDTest object at 0x7fedd2d60d30>, <neuronunit.tests.dm.Burst1ISIMeanTest object at 0x7fedd2d60d68>, <neuronunit.tests.dm.Burst1ISISDTest object at 0x7fedd2d60da0>, <neuronunit.tests.dm.InitialAccommodationMeanTest object at 0x7fedd2d60dd8>, <neuronunit.tests.dm.SSAccommodationMeanTest object at 0x7fedd2d60e10>, <neuronunit.tests.dm.AccommodationRateToSSTest object at 0x7fedd2d60e48>, <neuronunit.tests.dm.AccommodationAtSSMeanTest object at 0x7fedd2d60e80>, <neuronunit.tests.dm.AccommodationRateMeanAtSSTest object at 0x7fedd2d60eb8>, <neuronunit.tests.dm.ISICVTest object at 0x7fedd2d60ef0>, <neuronunit.tests.dm.ISIMedianTest object at 0x7fedd2d60f28>, <neuronunit.tests.dm.ISIBurstMeanChangeTest object at 0x7fedd2d60f60>, <neuronunit.tests.dm.SpikeRateStrongStimTest object at 0x7fedd2d60f98>, <neuronunit.tests.dm.AP1DelayMeanStrongStimTest object at 0x7fedd2d60fd0>, <neuronunit.tests.dm.AP1DelaySDStrongStimTest object at 0x7fedd2d6e048>, <neuronunit.tests.dm.AP2DelayMeanStrongStimTest object at 0x7fedd2d6e080>, <neuronunit.tests.dm.AP2DelaySDStrongStimTest object at 0x7fedd2d6e0b8>, <neuronunit.tests.dm.Burst1ISISDStrongStimTest object at 0x7fedd2d6e0f0>, <neuronunit.tests.dm.Burst1ISIMeanStrongStimTest object at 0x7fedd2d6e128>]\n",
      "[0.04000285] V [<neuronunit.tests.dm.AP12AmplitudeDropTest object at 0x7fedd2d60908>, <neuronunit.tests.dm.AP1SSAmplitudeChangeTest object at 0x7fedd2d60940>, <neuronunit.tests.dm.AP1AmplitudeTest object at 0x7fedd2d60978>, <neuronunit.tests.dm.AP1WidthHalfHeightTest object at 0x7fedd2d609b0>, <neuronunit.tests.dm.AP1WidthPeakToTroughTest object at 0x7fedd2d609e8>, <neuronunit.tests.dm.AP1RateOfChangePeakToTroughTest object at 0x7fedd2d60a20>, <neuronunit.tests.dm.AP1AHPDepthTest object at 0x7fedd2d60a58>, <neuronunit.tests.dm.AP2AmplitudeTest object at 0x7fedd2d60a90>, <neuronunit.tests.dm.AP2WidthHalfHeightTest object at 0x7fedd2d60ac8>, <neuronunit.tests.dm.AP2WidthPeakToTroughTest object at 0x7fedd2d60b00>, <neuronunit.tests.dm.AP2RateOfChangePeakToTroughTest object at 0x7fedd2d60b38>, <neuronunit.tests.dm.AP2AHPDepthTest object at 0x7fedd2d60b70>, <neuronunit.tests.dm.AP12AmplitudeChangePercentTest object at 0x7fedd2d60ba8>, <neuronunit.tests.dm.AP12HalfWidthChangePercentTest object at 0x7fedd2d60be0>, <neuronunit.tests.dm.AP12RateOfChangePeakToTroughPercentChangeTest object at 0x7fedd2d60c18>, <neuronunit.tests.dm.AP12AHPDepthPercentChangeTest object at 0x7fedd2d60c50>, <neuronunit.tests.dm.AP1DelayMeanTest object at 0x7fedd2d60c88>, <neuronunit.tests.dm.AP1DelaySDTest object at 0x7fedd2d60cc0>, <neuronunit.tests.dm.AP2DelayMeanTest object at 0x7fedd2d60cf8>, <neuronunit.tests.dm.AP2DelaySDTest object at 0x7fedd2d60d30>, <neuronunit.tests.dm.Burst1ISIMeanTest object at 0x7fedd2d60d68>, <neuronunit.tests.dm.Burst1ISISDTest object at 0x7fedd2d60da0>, <neuronunit.tests.dm.InitialAccommodationMeanTest object at 0x7fedd2d60dd8>, <neuronunit.tests.dm.SSAccommodationMeanTest object at 0x7fedd2d60e10>, <neuronunit.tests.dm.AccommodationRateToSSTest object at 0x7fedd2d60e48>, <neuronunit.tests.dm.AccommodationAtSSMeanTest object at 0x7fedd2d60e80>, <neuronunit.tests.dm.AccommodationRateMeanAtSSTest object at 0x7fedd2d60eb8>, <neuronunit.tests.dm.ISICVTest object at 0x7fedd2d60ef0>, <neuronunit.tests.dm.ISIMedianTest object at 0x7fedd2d60f28>, <neuronunit.tests.dm.ISIBurstMeanChangeTest object at 0x7fedd2d60f60>, <neuronunit.tests.dm.SpikeRateStrongStimTest object at 0x7fedd2d60f98>, <neuronunit.tests.dm.AP1DelayMeanStrongStimTest object at 0x7fedd2d60fd0>, <neuronunit.tests.dm.AP1DelaySDStrongStimTest object at 0x7fedd2d6e048>, <neuronunit.tests.dm.AP2DelayMeanStrongStimTest object at 0x7fedd2d6e080>, <neuronunit.tests.dm.AP2DelaySDStrongStimTest object at 0x7fedd2d6e0b8>, <neuronunit.tests.dm.Burst1ISISDStrongStimTest object at 0x7fedd2d6e0f0>, <neuronunit.tests.dm.Burst1ISIMeanStrongStimTest object at 0x7fedd2d6e128>]\n",
      "[0.04115718] V [<neuronunit.tests.dm.AP12AmplitudeDropTest object at 0x7fedd2d60908>, <neuronunit.tests.dm.AP1SSAmplitudeChangeTest object at 0x7fedd2d60940>, <neuronunit.tests.dm.AP1AmplitudeTest object at 0x7fedd2d60978>, <neuronunit.tests.dm.AP1WidthHalfHeightTest object at 0x7fedd2d609b0>, <neuronunit.tests.dm.AP1WidthPeakToTroughTest object at 0x7fedd2d609e8>, <neuronunit.tests.dm.AP1RateOfChangePeakToTroughTest object at 0x7fedd2d60a20>, <neuronunit.tests.dm.AP1AHPDepthTest object at 0x7fedd2d60a58>, <neuronunit.tests.dm.AP2AmplitudeTest object at 0x7fedd2d60a90>, <neuronunit.tests.dm.AP2WidthHalfHeightTest object at 0x7fedd2d60ac8>, <neuronunit.tests.dm.AP2WidthPeakToTroughTest object at 0x7fedd2d60b00>, <neuronunit.tests.dm.AP2RateOfChangePeakToTroughTest object at 0x7fedd2d60b38>, <neuronunit.tests.dm.AP2AHPDepthTest object at 0x7fedd2d60b70>, <neuronunit.tests.dm.AP12AmplitudeChangePercentTest object at 0x7fedd2d60ba8>, <neuronunit.tests.dm.AP12HalfWidthChangePercentTest object at 0x7fedd2d60be0>, <neuronunit.tests.dm.AP12RateOfChangePeakToTroughPercentChangeTest object at 0x7fedd2d60c18>, <neuronunit.tests.dm.AP12AHPDepthPercentChangeTest object at 0x7fedd2d60c50>, <neuronunit.tests.dm.AP1DelayMeanTest object at 0x7fedd2d60c88>, <neuronunit.tests.dm.AP1DelaySDTest object at 0x7fedd2d60cc0>, <neuronunit.tests.dm.AP2DelayMeanTest object at 0x7fedd2d60cf8>, <neuronunit.tests.dm.AP2DelaySDTest object at 0x7fedd2d60d30>, <neuronunit.tests.dm.Burst1ISIMeanTest object at 0x7fedd2d60d68>, <neuronunit.tests.dm.Burst1ISISDTest object at 0x7fedd2d60da0>, <neuronunit.tests.dm.InitialAccommodationMeanTest object at 0x7fedd2d60dd8>, <neuronunit.tests.dm.SSAccommodationMeanTest object at 0x7fedd2d60e10>, <neuronunit.tests.dm.AccommodationRateToSSTest object at 0x7fedd2d60e48>, <neuronunit.tests.dm.AccommodationAtSSMeanTest object at 0x7fedd2d60e80>, <neuronunit.tests.dm.AccommodationRateMeanAtSSTest object at 0x7fedd2d60eb8>, <neuronunit.tests.dm.ISICVTest object at 0x7fedd2d60ef0>, <neuronunit.tests.dm.ISIMedianTest object at 0x7fedd2d60f28>, <neuronunit.tests.dm.ISIBurstMeanChangeTest object at 0x7fedd2d60f60>, <neuronunit.tests.dm.SpikeRateStrongStimTest object at 0x7fedd2d60f98>, <neuronunit.tests.dm.AP1DelayMeanStrongStimTest object at 0x7fedd2d60fd0>, <neuronunit.tests.dm.AP1DelaySDStrongStimTest object at 0x7fedd2d6e048>, <neuronunit.tests.dm.AP2DelayMeanStrongStimTest object at 0x7fedd2d6e080>, <neuronunit.tests.dm.AP2DelaySDStrongStimTest object at 0x7fedd2d6e0b8>, <neuronunit.tests.dm.Burst1ISISDStrongStimTest object at 0x7fedd2d6e0f0>, <neuronunit.tests.dm.Burst1ISIMeanStrongStimTest object at 0x7fedd2d6e128>]\n",
      "0.27999999999999997 ms [<neuronunit.tests.dm.AP12AmplitudeDropTest object at 0x7fedd2d60908>, <neuronunit.tests.dm.AP1SSAmplitudeChangeTest object at 0x7fedd2d60940>, <neuronunit.tests.dm.AP1AmplitudeTest object at 0x7fedd2d60978>, <neuronunit.tests.dm.AP1WidthHalfHeightTest object at 0x7fedd2d609b0>, <neuronunit.tests.dm.AP1WidthPeakToTroughTest object at 0x7fedd2d609e8>, <neuronunit.tests.dm.AP1RateOfChangePeakToTroughTest object at 0x7fedd2d60a20>, <neuronunit.tests.dm.AP1AHPDepthTest object at 0x7fedd2d60a58>, <neuronunit.tests.dm.AP2AmplitudeTest object at 0x7fedd2d60a90>, <neuronunit.tests.dm.AP2WidthHalfHeightTest object at 0x7fedd2d60ac8>, <neuronunit.tests.dm.AP2WidthPeakToTroughTest object at 0x7fedd2d60b00>, <neuronunit.tests.dm.AP2RateOfChangePeakToTroughTest object at 0x7fedd2d60b38>, <neuronunit.tests.dm.AP2AHPDepthTest object at 0x7fedd2d60b70>, <neuronunit.tests.dm.AP12AmplitudeChangePercentTest object at 0x7fedd2d60ba8>, <neuronunit.tests.dm.AP12HalfWidthChangePercentTest object at 0x7fedd2d60be0>, <neuronunit.tests.dm.AP12RateOfChangePeakToTroughPercentChangeTest object at 0x7fedd2d60c18>, <neuronunit.tests.dm.AP12AHPDepthPercentChangeTest object at 0x7fedd2d60c50>, <neuronunit.tests.dm.AP1DelayMeanTest object at 0x7fedd2d60c88>, <neuronunit.tests.dm.AP1DelaySDTest object at 0x7fedd2d60cc0>, <neuronunit.tests.dm.AP2DelayMeanTest object at 0x7fedd2d60cf8>, <neuronunit.tests.dm.AP2DelaySDTest object at 0x7fedd2d60d30>, <neuronunit.tests.dm.Burst1ISIMeanTest object at 0x7fedd2d60d68>, <neuronunit.tests.dm.Burst1ISISDTest object at 0x7fedd2d60da0>, <neuronunit.tests.dm.InitialAccommodationMeanTest object at 0x7fedd2d60dd8>, <neuronunit.tests.dm.SSAccommodationMeanTest object at 0x7fedd2d60e10>, <neuronunit.tests.dm.AccommodationRateToSSTest object at 0x7fedd2d60e48>, <neuronunit.tests.dm.AccommodationAtSSMeanTest object at 0x7fedd2d60e80>, <neuronunit.tests.dm.AccommodationRateMeanAtSSTest object at 0x7fedd2d60eb8>, <neuronunit.tests.dm.ISICVTest object at 0x7fedd2d60ef0>, <neuronunit.tests.dm.ISIMedianTest object at 0x7fedd2d60f28>, <neuronunit.tests.dm.ISIBurstMeanChangeTest object at 0x7fedd2d60f60>, <neuronunit.tests.dm.SpikeRateStrongStimTest object at 0x7fedd2d60f98>, <neuronunit.tests.dm.AP1DelayMeanStrongStimTest object at 0x7fedd2d60fd0>, <neuronunit.tests.dm.AP1DelaySDStrongStimTest object at 0x7fedd2d6e048>, <neuronunit.tests.dm.AP2DelayMeanStrongStimTest object at 0x7fedd2d6e080>, <neuronunit.tests.dm.AP2DelaySDStrongStimTest object at 0x7fedd2d6e0b8>, <neuronunit.tests.dm.Burst1ISISDStrongStimTest object at 0x7fedd2d6e0f0>, <neuronunit.tests.dm.Burst1ISIMeanStrongStimTest object at 0x7fedd2d6e128>]\n",
      "[0.] ms [<neuronunit.tests.dm.AP12AmplitudeDropTest object at 0x7fedd2d60908>, <neuronunit.tests.dm.AP1SSAmplitudeChangeTest object at 0x7fedd2d60940>, <neuronunit.tests.dm.AP1AmplitudeTest object at 0x7fedd2d60978>, <neuronunit.tests.dm.AP1WidthHalfHeightTest object at 0x7fedd2d609b0>, <neuronunit.tests.dm.AP1WidthPeakToTroughTest object at 0x7fedd2d609e8>, <neuronunit.tests.dm.AP1RateOfChangePeakToTroughTest object at 0x7fedd2d60a20>, <neuronunit.tests.dm.AP1AHPDepthTest object at 0x7fedd2d60a58>, <neuronunit.tests.dm.AP2AmplitudeTest object at 0x7fedd2d60a90>, <neuronunit.tests.dm.AP2WidthHalfHeightTest object at 0x7fedd2d60ac8>, <neuronunit.tests.dm.AP2WidthPeakToTroughTest object at 0x7fedd2d60b00>, <neuronunit.tests.dm.AP2RateOfChangePeakToTroughTest object at 0x7fedd2d60b38>, <neuronunit.tests.dm.AP2AHPDepthTest object at 0x7fedd2d60b70>, <neuronunit.tests.dm.AP12AmplitudeChangePercentTest object at 0x7fedd2d60ba8>, <neuronunit.tests.dm.AP12HalfWidthChangePercentTest object at 0x7fedd2d60be0>, <neuronunit.tests.dm.AP12RateOfChangePeakToTroughPercentChangeTest object at 0x7fedd2d60c18>, <neuronunit.tests.dm.AP12AHPDepthPercentChangeTest object at 0x7fedd2d60c50>, <neuronunit.tests.dm.AP1DelayMeanTest object at 0x7fedd2d60c88>, <neuronunit.tests.dm.AP1DelaySDTest object at 0x7fedd2d60cc0>, <neuronunit.tests.dm.AP2DelayMeanTest object at 0x7fedd2d60cf8>, <neuronunit.tests.dm.AP2DelaySDTest object at 0x7fedd2d60d30>, <neuronunit.tests.dm.Burst1ISIMeanTest object at 0x7fedd2d60d68>, <neuronunit.tests.dm.Burst1ISISDTest object at 0x7fedd2d60da0>, <neuronunit.tests.dm.InitialAccommodationMeanTest object at 0x7fedd2d60dd8>, <neuronunit.tests.dm.SSAccommodationMeanTest object at 0x7fedd2d60e10>, <neuronunit.tests.dm.AccommodationRateToSSTest object at 0x7fedd2d60e48>, <neuronunit.tests.dm.AccommodationAtSSMeanTest object at 0x7fedd2d60e80>, <neuronunit.tests.dm.AccommodationRateMeanAtSSTest object at 0x7fedd2d60eb8>, <neuronunit.tests.dm.ISICVTest object at 0x7fedd2d60ef0>, <neuronunit.tests.dm.ISIMedianTest object at 0x7fedd2d60f28>, <neuronunit.tests.dm.ISIBurstMeanChangeTest object at 0x7fedd2d60f60>, <neuronunit.tests.dm.SpikeRateStrongStimTest object at 0x7fedd2d60f98>, <neuronunit.tests.dm.AP1DelayMeanStrongStimTest object at 0x7fedd2d60fd0>, <neuronunit.tests.dm.AP1DelaySDStrongStimTest object at 0x7fedd2d6e048>, <neuronunit.tests.dm.AP2DelayMeanStrongStimTest object at 0x7fedd2d6e080>, <neuronunit.tests.dm.AP2DelaySDStrongStimTest object at 0x7fedd2d6e0b8>, <neuronunit.tests.dm.Burst1ISISDStrongStimTest object at 0x7fedd2d6e0f0>, <neuronunit.tests.dm.Burst1ISIMeanStrongStimTest object at 0x7fedd2d6e128>]\n",
      "-32475.477543129924 V/s [<neuronunit.tests.dm.AP12AmplitudeDropTest object at 0x7fedd2d60908>, <neuronunit.tests.dm.AP1SSAmplitudeChangeTest object at 0x7fedd2d60940>, <neuronunit.tests.dm.AP1AmplitudeTest object at 0x7fedd2d60978>, <neuronunit.tests.dm.AP1WidthHalfHeightTest object at 0x7fedd2d609b0>, <neuronunit.tests.dm.AP1WidthPeakToTroughTest object at 0x7fedd2d609e8>, <neuronunit.tests.dm.AP1RateOfChangePeakToTroughTest object at 0x7fedd2d60a20>, <neuronunit.tests.dm.AP1AHPDepthTest object at 0x7fedd2d60a58>, <neuronunit.tests.dm.AP2AmplitudeTest object at 0x7fedd2d60a90>, <neuronunit.tests.dm.AP2WidthHalfHeightTest object at 0x7fedd2d60ac8>, <neuronunit.tests.dm.AP2WidthPeakToTroughTest object at 0x7fedd2d60b00>, <neuronunit.tests.dm.AP2RateOfChangePeakToTroughTest object at 0x7fedd2d60b38>, <neuronunit.tests.dm.AP2AHPDepthTest object at 0x7fedd2d60b70>, <neuronunit.tests.dm.AP12AmplitudeChangePercentTest object at 0x7fedd2d60ba8>, <neuronunit.tests.dm.AP12HalfWidthChangePercentTest object at 0x7fedd2d60be0>, <neuronunit.tests.dm.AP12RateOfChangePeakToTroughPercentChangeTest object at 0x7fedd2d60c18>, <neuronunit.tests.dm.AP12AHPDepthPercentChangeTest object at 0x7fedd2d60c50>, <neuronunit.tests.dm.AP1DelayMeanTest object at 0x7fedd2d60c88>, <neuronunit.tests.dm.AP1DelaySDTest object at 0x7fedd2d60cc0>, <neuronunit.tests.dm.AP2DelayMeanTest object at 0x7fedd2d60cf8>, <neuronunit.tests.dm.AP2DelaySDTest object at 0x7fedd2d60d30>, <neuronunit.tests.dm.Burst1ISIMeanTest object at 0x7fedd2d60d68>, <neuronunit.tests.dm.Burst1ISISDTest object at 0x7fedd2d60da0>, <neuronunit.tests.dm.InitialAccommodationMeanTest object at 0x7fedd2d60dd8>, <neuronunit.tests.dm.SSAccommodationMeanTest object at 0x7fedd2d60e10>, <neuronunit.tests.dm.AccommodationRateToSSTest object at 0x7fedd2d60e48>, <neuronunit.tests.dm.AccommodationAtSSMeanTest object at 0x7fedd2d60e80>, <neuronunit.tests.dm.AccommodationRateMeanAtSSTest object at 0x7fedd2d60eb8>, <neuronunit.tests.dm.ISICVTest object at 0x7fedd2d60ef0>, <neuronunit.tests.dm.ISIMedianTest object at 0x7fedd2d60f28>, <neuronunit.tests.dm.ISIBurstMeanChangeTest object at 0x7fedd2d60f60>, <neuronunit.tests.dm.SpikeRateStrongStimTest object at 0x7fedd2d60f98>, <neuronunit.tests.dm.AP1DelayMeanStrongStimTest object at 0x7fedd2d60fd0>, <neuronunit.tests.dm.AP1DelaySDStrongStimTest object at 0x7fedd2d6e048>, <neuronunit.tests.dm.AP2DelayMeanStrongStimTest object at 0x7fedd2d6e080>, <neuronunit.tests.dm.AP2DelaySDStrongStimTest object at 0x7fedd2d6e0b8>, <neuronunit.tests.dm.Burst1ISISDStrongStimTest object at 0x7fedd2d6e0f0>, <neuronunit.tests.dm.Burst1ISIMeanStrongStimTest object at 0x7fedd2d6e128>]\n",
      "[0.04003151] V [<neuronunit.tests.dm.AP12AmplitudeDropTest object at 0x7fedd2d60908>, <neuronunit.tests.dm.AP1SSAmplitudeChangeTest object at 0x7fedd2d60940>, <neuronunit.tests.dm.AP1AmplitudeTest object at 0x7fedd2d60978>, <neuronunit.tests.dm.AP1WidthHalfHeightTest object at 0x7fedd2d609b0>, <neuronunit.tests.dm.AP1WidthPeakToTroughTest object at 0x7fedd2d609e8>, <neuronunit.tests.dm.AP1RateOfChangePeakToTroughTest object at 0x7fedd2d60a20>, <neuronunit.tests.dm.AP1AHPDepthTest object at 0x7fedd2d60a58>, <neuronunit.tests.dm.AP2AmplitudeTest object at 0x7fedd2d60a90>, <neuronunit.tests.dm.AP2WidthHalfHeightTest object at 0x7fedd2d60ac8>, <neuronunit.tests.dm.AP2WidthPeakToTroughTest object at 0x7fedd2d60b00>, <neuronunit.tests.dm.AP2RateOfChangePeakToTroughTest object at 0x7fedd2d60b38>, <neuronunit.tests.dm.AP2AHPDepthTest object at 0x7fedd2d60b70>, <neuronunit.tests.dm.AP12AmplitudeChangePercentTest object at 0x7fedd2d60ba8>, <neuronunit.tests.dm.AP12HalfWidthChangePercentTest object at 0x7fedd2d60be0>, <neuronunit.tests.dm.AP12RateOfChangePeakToTroughPercentChangeTest object at 0x7fedd2d60c18>, <neuronunit.tests.dm.AP12AHPDepthPercentChangeTest object at 0x7fedd2d60c50>, <neuronunit.tests.dm.AP1DelayMeanTest object at 0x7fedd2d60c88>, <neuronunit.tests.dm.AP1DelaySDTest object at 0x7fedd2d60cc0>, <neuronunit.tests.dm.AP2DelayMeanTest object at 0x7fedd2d60cf8>, <neuronunit.tests.dm.AP2DelaySDTest object at 0x7fedd2d60d30>, <neuronunit.tests.dm.Burst1ISIMeanTest object at 0x7fedd2d60d68>, <neuronunit.tests.dm.Burst1ISISDTest object at 0x7fedd2d60da0>, <neuronunit.tests.dm.InitialAccommodationMeanTest object at 0x7fedd2d60dd8>, <neuronunit.tests.dm.SSAccommodationMeanTest object at 0x7fedd2d60e10>, <neuronunit.tests.dm.AccommodationRateToSSTest object at 0x7fedd2d60e48>, <neuronunit.tests.dm.AccommodationAtSSMeanTest object at 0x7fedd2d60e80>, <neuronunit.tests.dm.AccommodationRateMeanAtSSTest object at 0x7fedd2d60eb8>, <neuronunit.tests.dm.ISICVTest object at 0x7fedd2d60ef0>, <neuronunit.tests.dm.ISIMedianTest object at 0x7fedd2d60f28>, <neuronunit.tests.dm.ISIBurstMeanChangeTest object at 0x7fedd2d60f60>, <neuronunit.tests.dm.SpikeRateStrongStimTest object at 0x7fedd2d60f98>, <neuronunit.tests.dm.AP1DelayMeanStrongStimTest object at 0x7fedd2d60fd0>, <neuronunit.tests.dm.AP1DelaySDStrongStimTest object at 0x7fedd2d6e048>, <neuronunit.tests.dm.AP2DelayMeanStrongStimTest object at 0x7fedd2d6e080>, <neuronunit.tests.dm.AP2DelaySDStrongStimTest object at 0x7fedd2d6e0b8>, <neuronunit.tests.dm.Burst1ISISDStrongStimTest object at 0x7fedd2d6e0f0>, <neuronunit.tests.dm.Burst1ISIMeanStrongStimTest object at 0x7fedd2d6e128>]\n",
      "[0.02917465] dimensionless [<neuronunit.tests.dm.AP12AmplitudeDropTest object at 0x7fedd2d60908>, <neuronunit.tests.dm.AP1SSAmplitudeChangeTest object at 0x7fedd2d60940>, <neuronunit.tests.dm.AP1AmplitudeTest object at 0x7fedd2d60978>, <neuronunit.tests.dm.AP1WidthHalfHeightTest object at 0x7fedd2d609b0>, <neuronunit.tests.dm.AP1WidthPeakToTroughTest object at 0x7fedd2d609e8>, <neuronunit.tests.dm.AP1RateOfChangePeakToTroughTest object at 0x7fedd2d60a20>, <neuronunit.tests.dm.AP1AHPDepthTest object at 0x7fedd2d60a58>, <neuronunit.tests.dm.AP2AmplitudeTest object at 0x7fedd2d60a90>, <neuronunit.tests.dm.AP2WidthHalfHeightTest object at 0x7fedd2d60ac8>, <neuronunit.tests.dm.AP2WidthPeakToTroughTest object at 0x7fedd2d60b00>, <neuronunit.tests.dm.AP2RateOfChangePeakToTroughTest object at 0x7fedd2d60b38>, <neuronunit.tests.dm.AP2AHPDepthTest object at 0x7fedd2d60b70>, <neuronunit.tests.dm.AP12AmplitudeChangePercentTest object at 0x7fedd2d60ba8>, <neuronunit.tests.dm.AP12HalfWidthChangePercentTest object at 0x7fedd2d60be0>, <neuronunit.tests.dm.AP12RateOfChangePeakToTroughPercentChangeTest object at 0x7fedd2d60c18>, <neuronunit.tests.dm.AP12AHPDepthPercentChangeTest object at 0x7fedd2d60c50>, <neuronunit.tests.dm.AP1DelayMeanTest object at 0x7fedd2d60c88>, <neuronunit.tests.dm.AP1DelaySDTest object at 0x7fedd2d60cc0>, <neuronunit.tests.dm.AP2DelayMeanTest object at 0x7fedd2d60cf8>, <neuronunit.tests.dm.AP2DelaySDTest object at 0x7fedd2d60d30>, <neuronunit.tests.dm.Burst1ISIMeanTest object at 0x7fedd2d60d68>, <neuronunit.tests.dm.Burst1ISISDTest object at 0x7fedd2d60da0>, <neuronunit.tests.dm.InitialAccommodationMeanTest object at 0x7fedd2d60dd8>, <neuronunit.tests.dm.SSAccommodationMeanTest object at 0x7fedd2d60e10>, <neuronunit.tests.dm.AccommodationRateToSSTest object at 0x7fedd2d60e48>, <neuronunit.tests.dm.AccommodationAtSSMeanTest object at 0x7fedd2d60e80>, <neuronunit.tests.dm.AccommodationRateMeanAtSSTest object at 0x7fedd2d60eb8>, <neuronunit.tests.dm.ISICVTest object at 0x7fedd2d60ef0>, <neuronunit.tests.dm.ISIMedianTest object at 0x7fedd2d60f28>, <neuronunit.tests.dm.ISIBurstMeanChangeTest object at 0x7fedd2d60f60>, <neuronunit.tests.dm.SpikeRateStrongStimTest object at 0x7fedd2d60f98>, <neuronunit.tests.dm.AP1DelayMeanStrongStimTest object at 0x7fedd2d60fd0>, <neuronunit.tests.dm.AP1DelaySDStrongStimTest object at 0x7fedd2d6e048>, <neuronunit.tests.dm.AP2DelayMeanStrongStimTest object at 0x7fedd2d6e080>, <neuronunit.tests.dm.AP2DelaySDStrongStimTest object at 0x7fedd2d6e0b8>, <neuronunit.tests.dm.Burst1ISISDStrongStimTest object at 0x7fedd2d6e0f0>, <neuronunit.tests.dm.Burst1ISIMeanStrongStimTest object at 0x7fedd2d6e128>]\n",
      "0.9009009009009018 dimensionless [<neuronunit.tests.dm.AP12AmplitudeDropTest object at 0x7fedd2d60908>, <neuronunit.tests.dm.AP1SSAmplitudeChangeTest object at 0x7fedd2d60940>, <neuronunit.tests.dm.AP1AmplitudeTest object at 0x7fedd2d60978>, <neuronunit.tests.dm.AP1WidthHalfHeightTest object at 0x7fedd2d609b0>, <neuronunit.tests.dm.AP1WidthPeakToTroughTest object at 0x7fedd2d609e8>, <neuronunit.tests.dm.AP1RateOfChangePeakToTroughTest object at 0x7fedd2d60a20>, <neuronunit.tests.dm.AP1AHPDepthTest object at 0x7fedd2d60a58>, <neuronunit.tests.dm.AP2AmplitudeTest object at 0x7fedd2d60a90>, <neuronunit.tests.dm.AP2WidthHalfHeightTest object at 0x7fedd2d60ac8>, <neuronunit.tests.dm.AP2WidthPeakToTroughTest object at 0x7fedd2d60b00>, <neuronunit.tests.dm.AP2RateOfChangePeakToTroughTest object at 0x7fedd2d60b38>, <neuronunit.tests.dm.AP2AHPDepthTest object at 0x7fedd2d60b70>, <neuronunit.tests.dm.AP12AmplitudeChangePercentTest object at 0x7fedd2d60ba8>, <neuronunit.tests.dm.AP12HalfWidthChangePercentTest object at 0x7fedd2d60be0>, <neuronunit.tests.dm.AP12RateOfChangePeakToTroughPercentChangeTest object at 0x7fedd2d60c18>, <neuronunit.tests.dm.AP12AHPDepthPercentChangeTest object at 0x7fedd2d60c50>, <neuronunit.tests.dm.AP1DelayMeanTest object at 0x7fedd2d60c88>, <neuronunit.tests.dm.AP1DelaySDTest object at 0x7fedd2d60cc0>, <neuronunit.tests.dm.AP2DelayMeanTest object at 0x7fedd2d60cf8>, <neuronunit.tests.dm.AP2DelaySDTest object at 0x7fedd2d60d30>, <neuronunit.tests.dm.Burst1ISIMeanTest object at 0x7fedd2d60d68>, <neuronunit.tests.dm.Burst1ISISDTest object at 0x7fedd2d60da0>, <neuronunit.tests.dm.InitialAccommodationMeanTest object at 0x7fedd2d60dd8>, <neuronunit.tests.dm.SSAccommodationMeanTest object at 0x7fedd2d60e10>, <neuronunit.tests.dm.AccommodationRateToSSTest object at 0x7fedd2d60e48>, <neuronunit.tests.dm.AccommodationAtSSMeanTest object at 0x7fedd2d60e80>, <neuronunit.tests.dm.AccommodationRateMeanAtSSTest object at 0x7fedd2d60eb8>, <neuronunit.tests.dm.ISICVTest object at 0x7fedd2d60ef0>, <neuronunit.tests.dm.ISIMedianTest object at 0x7fedd2d60f28>, <neuronunit.tests.dm.ISIBurstMeanChangeTest object at 0x7fedd2d60f60>, <neuronunit.tests.dm.SpikeRateStrongStimTest object at 0x7fedd2d60f98>, <neuronunit.tests.dm.AP1DelayMeanStrongStimTest object at 0x7fedd2d60fd0>, <neuronunit.tests.dm.AP1DelaySDStrongStimTest object at 0x7fedd2d6e048>, <neuronunit.tests.dm.AP2DelayMeanStrongStimTest object at 0x7fedd2d6e080>, <neuronunit.tests.dm.AP2DelaySDStrongStimTest object at 0x7fedd2d6e0b8>, <neuronunit.tests.dm.Burst1ISISDStrongStimTest object at 0x7fedd2d6e0f0>, <neuronunit.tests.dm.Burst1ISIMeanStrongStimTest object at 0x7fedd2d6e128>]\n",
      "[50.10415636] ms/s [<neuronunit.tests.dm.AP12AmplitudeDropTest object at 0x7fedd2d60908>, <neuronunit.tests.dm.AP1SSAmplitudeChangeTest object at 0x7fedd2d60940>, <neuronunit.tests.dm.AP1AmplitudeTest object at 0x7fedd2d60978>, <neuronunit.tests.dm.AP1WidthHalfHeightTest object at 0x7fedd2d609b0>, <neuronunit.tests.dm.AP1WidthPeakToTroughTest object at 0x7fedd2d609e8>, <neuronunit.tests.dm.AP1RateOfChangePeakToTroughTest object at 0x7fedd2d60a20>, <neuronunit.tests.dm.AP1AHPDepthTest object at 0x7fedd2d60a58>, <neuronunit.tests.dm.AP2AmplitudeTest object at 0x7fedd2d60a90>, <neuronunit.tests.dm.AP2WidthHalfHeightTest object at 0x7fedd2d60ac8>, <neuronunit.tests.dm.AP2WidthPeakToTroughTest object at 0x7fedd2d60b00>, <neuronunit.tests.dm.AP2RateOfChangePeakToTroughTest object at 0x7fedd2d60b38>, <neuronunit.tests.dm.AP2AHPDepthTest object at 0x7fedd2d60b70>, <neuronunit.tests.dm.AP12AmplitudeChangePercentTest object at 0x7fedd2d60ba8>, <neuronunit.tests.dm.AP12HalfWidthChangePercentTest object at 0x7fedd2d60be0>, <neuronunit.tests.dm.AP12RateOfChangePeakToTroughPercentChangeTest object at 0x7fedd2d60c18>, <neuronunit.tests.dm.AP12AHPDepthPercentChangeTest object at 0x7fedd2d60c50>, <neuronunit.tests.dm.AP1DelayMeanTest object at 0x7fedd2d60c88>, <neuronunit.tests.dm.AP1DelaySDTest object at 0x7fedd2d60cc0>, <neuronunit.tests.dm.AP2DelayMeanTest object at 0x7fedd2d60cf8>, <neuronunit.tests.dm.AP2DelaySDTest object at 0x7fedd2d60d30>, <neuronunit.tests.dm.Burst1ISIMeanTest object at 0x7fedd2d60d68>, <neuronunit.tests.dm.Burst1ISISDTest object at 0x7fedd2d60da0>, <neuronunit.tests.dm.InitialAccommodationMeanTest object at 0x7fedd2d60dd8>, <neuronunit.tests.dm.SSAccommodationMeanTest object at 0x7fedd2d60e10>, <neuronunit.tests.dm.AccommodationRateToSSTest object at 0x7fedd2d60e48>, <neuronunit.tests.dm.AccommodationAtSSMeanTest object at 0x7fedd2d60e80>, <neuronunit.tests.dm.AccommodationRateMeanAtSSTest object at 0x7fedd2d60eb8>, <neuronunit.tests.dm.ISICVTest object at 0x7fedd2d60ef0>, <neuronunit.tests.dm.ISIMedianTest object at 0x7fedd2d60f28>, <neuronunit.tests.dm.ISIBurstMeanChangeTest object at 0x7fedd2d60f60>, <neuronunit.tests.dm.SpikeRateStrongStimTest object at 0x7fedd2d60f98>, <neuronunit.tests.dm.AP1DelayMeanStrongStimTest object at 0x7fedd2d60fd0>, <neuronunit.tests.dm.AP1DelaySDStrongStimTest object at 0x7fedd2d6e048>, <neuronunit.tests.dm.AP2DelayMeanStrongStimTest object at 0x7fedd2d6e080>, <neuronunit.tests.dm.AP2DelaySDStrongStimTest object at 0x7fedd2d6e0b8>, <neuronunit.tests.dm.Burst1ISISDStrongStimTest object at 0x7fedd2d6e0f0>, <neuronunit.tests.dm.Burst1ISIMeanStrongStimTest object at 0x7fedd2d6e128>]\n",
      "[0.07163132] dimensionless [<neuronunit.tests.dm.AP12AmplitudeDropTest object at 0x7fedd2d60908>, <neuronunit.tests.dm.AP1SSAmplitudeChangeTest object at 0x7fedd2d60940>, <neuronunit.tests.dm.AP1AmplitudeTest object at 0x7fedd2d60978>, <neuronunit.tests.dm.AP1WidthHalfHeightTest object at 0x7fedd2d609b0>, <neuronunit.tests.dm.AP1WidthPeakToTroughTest object at 0x7fedd2d609e8>, <neuronunit.tests.dm.AP1RateOfChangePeakToTroughTest object at 0x7fedd2d60a20>, <neuronunit.tests.dm.AP1AHPDepthTest object at 0x7fedd2d60a58>, <neuronunit.tests.dm.AP2AmplitudeTest object at 0x7fedd2d60a90>, <neuronunit.tests.dm.AP2WidthHalfHeightTest object at 0x7fedd2d60ac8>, <neuronunit.tests.dm.AP2WidthPeakToTroughTest object at 0x7fedd2d60b00>, <neuronunit.tests.dm.AP2RateOfChangePeakToTroughTest object at 0x7fedd2d60b38>, <neuronunit.tests.dm.AP2AHPDepthTest object at 0x7fedd2d60b70>, <neuronunit.tests.dm.AP12AmplitudeChangePercentTest object at 0x7fedd2d60ba8>, <neuronunit.tests.dm.AP12HalfWidthChangePercentTest object at 0x7fedd2d60be0>, <neuronunit.tests.dm.AP12RateOfChangePeakToTroughPercentChangeTest object at 0x7fedd2d60c18>, <neuronunit.tests.dm.AP12AHPDepthPercentChangeTest object at 0x7fedd2d60c50>, <neuronunit.tests.dm.AP1DelayMeanTest object at 0x7fedd2d60c88>, <neuronunit.tests.dm.AP1DelaySDTest object at 0x7fedd2d60cc0>, <neuronunit.tests.dm.AP2DelayMeanTest object at 0x7fedd2d60cf8>, <neuronunit.tests.dm.AP2DelaySDTest object at 0x7fedd2d60d30>, <neuronunit.tests.dm.Burst1ISIMeanTest object at 0x7fedd2d60d68>, <neuronunit.tests.dm.Burst1ISISDTest object at 0x7fedd2d60da0>, <neuronunit.tests.dm.InitialAccommodationMeanTest object at 0x7fedd2d60dd8>, <neuronunit.tests.dm.SSAccommodationMeanTest object at 0x7fedd2d60e10>, <neuronunit.tests.dm.AccommodationRateToSSTest object at 0x7fedd2d60e48>, <neuronunit.tests.dm.AccommodationAtSSMeanTest object at 0x7fedd2d60e80>, <neuronunit.tests.dm.AccommodationRateMeanAtSSTest object at 0x7fedd2d60eb8>, <neuronunit.tests.dm.ISICVTest object at 0x7fedd2d60ef0>, <neuronunit.tests.dm.ISIMedianTest object at 0x7fedd2d60f28>, <neuronunit.tests.dm.ISIBurstMeanChangeTest object at 0x7fedd2d60f60>, <neuronunit.tests.dm.SpikeRateStrongStimTest object at 0x7fedd2d60f98>, <neuronunit.tests.dm.AP1DelayMeanStrongStimTest object at 0x7fedd2d60fd0>, <neuronunit.tests.dm.AP1DelaySDStrongStimTest object at 0x7fedd2d6e048>, <neuronunit.tests.dm.AP2DelayMeanStrongStimTest object at 0x7fedd2d6e080>, <neuronunit.tests.dm.AP2DelaySDStrongStimTest object at 0x7fedd2d6e0b8>, <neuronunit.tests.dm.Burst1ISISDStrongStimTest object at 0x7fedd2d6e0f0>, <neuronunit.tests.dm.Burst1ISIMeanStrongStimTest object at 0x7fedd2d6e128>]\n",
      "18.757500000000164 ms [<neuronunit.tests.dm.AP12AmplitudeDropTest object at 0x7fedd2d60908>, <neuronunit.tests.dm.AP1SSAmplitudeChangeTest object at 0x7fedd2d60940>, <neuronunit.tests.dm.AP1AmplitudeTest object at 0x7fedd2d60978>, <neuronunit.tests.dm.AP1WidthHalfHeightTest object at 0x7fedd2d609b0>, <neuronunit.tests.dm.AP1WidthPeakToTroughTest object at 0x7fedd2d609e8>, <neuronunit.tests.dm.AP1RateOfChangePeakToTroughTest object at 0x7fedd2d60a20>, <neuronunit.tests.dm.AP1AHPDepthTest object at 0x7fedd2d60a58>, <neuronunit.tests.dm.AP2AmplitudeTest object at 0x7fedd2d60a90>, <neuronunit.tests.dm.AP2WidthHalfHeightTest object at 0x7fedd2d60ac8>, <neuronunit.tests.dm.AP2WidthPeakToTroughTest object at 0x7fedd2d60b00>, <neuronunit.tests.dm.AP2RateOfChangePeakToTroughTest object at 0x7fedd2d60b38>, <neuronunit.tests.dm.AP2AHPDepthTest object at 0x7fedd2d60b70>, <neuronunit.tests.dm.AP12AmplitudeChangePercentTest object at 0x7fedd2d60ba8>, <neuronunit.tests.dm.AP12HalfWidthChangePercentTest object at 0x7fedd2d60be0>, <neuronunit.tests.dm.AP12RateOfChangePeakToTroughPercentChangeTest object at 0x7fedd2d60c18>, <neuronunit.tests.dm.AP12AHPDepthPercentChangeTest object at 0x7fedd2d60c50>, <neuronunit.tests.dm.AP1DelayMeanTest object at 0x7fedd2d60c88>, <neuronunit.tests.dm.AP1DelaySDTest object at 0x7fedd2d60cc0>, <neuronunit.tests.dm.AP2DelayMeanTest object at 0x7fedd2d60cf8>, <neuronunit.tests.dm.AP2DelaySDTest object at 0x7fedd2d60d30>, <neuronunit.tests.dm.Burst1ISIMeanTest object at 0x7fedd2d60d68>, <neuronunit.tests.dm.Burst1ISISDTest object at 0x7fedd2d60da0>, <neuronunit.tests.dm.InitialAccommodationMeanTest object at 0x7fedd2d60dd8>, <neuronunit.tests.dm.SSAccommodationMeanTest object at 0x7fedd2d60e10>, <neuronunit.tests.dm.AccommodationRateToSSTest object at 0x7fedd2d60e48>, <neuronunit.tests.dm.AccommodationAtSSMeanTest object at 0x7fedd2d60e80>, <neuronunit.tests.dm.AccommodationRateMeanAtSSTest object at 0x7fedd2d60eb8>, <neuronunit.tests.dm.ISICVTest object at 0x7fedd2d60ef0>, <neuronunit.tests.dm.ISIMedianTest object at 0x7fedd2d60f28>, <neuronunit.tests.dm.ISIBurstMeanChangeTest object at 0x7fedd2d60f60>, <neuronunit.tests.dm.SpikeRateStrongStimTest object at 0x7fedd2d60f98>, <neuronunit.tests.dm.AP1DelayMeanStrongStimTest object at 0x7fedd2d60fd0>, <neuronunit.tests.dm.AP1DelaySDStrongStimTest object at 0x7fedd2d6e048>, <neuronunit.tests.dm.AP2DelayMeanStrongStimTest object at 0x7fedd2d6e080>, <neuronunit.tests.dm.AP2DelaySDStrongStimTest object at 0x7fedd2d6e0b8>, <neuronunit.tests.dm.Burst1ISISDStrongStimTest object at 0x7fedd2d6e0f0>, <neuronunit.tests.dm.Burst1ISIMeanStrongStimTest object at 0x7fedd2d6e128>]\n",
      "0.0 ms [<neuronunit.tests.dm.AP12AmplitudeDropTest object at 0x7fedd2d60908>, <neuronunit.tests.dm.AP1SSAmplitudeChangeTest object at 0x7fedd2d60940>, <neuronunit.tests.dm.AP1AmplitudeTest object at 0x7fedd2d60978>, <neuronunit.tests.dm.AP1WidthHalfHeightTest object at 0x7fedd2d609b0>, <neuronunit.tests.dm.AP1WidthPeakToTroughTest object at 0x7fedd2d609e8>, <neuronunit.tests.dm.AP1RateOfChangePeakToTroughTest object at 0x7fedd2d60a20>, <neuronunit.tests.dm.AP1AHPDepthTest object at 0x7fedd2d60a58>, <neuronunit.tests.dm.AP2AmplitudeTest object at 0x7fedd2d60a90>, <neuronunit.tests.dm.AP2WidthHalfHeightTest object at 0x7fedd2d60ac8>, <neuronunit.tests.dm.AP2WidthPeakToTroughTest object at 0x7fedd2d60b00>, <neuronunit.tests.dm.AP2RateOfChangePeakToTroughTest object at 0x7fedd2d60b38>, <neuronunit.tests.dm.AP2AHPDepthTest object at 0x7fedd2d60b70>, <neuronunit.tests.dm.AP12AmplitudeChangePercentTest object at 0x7fedd2d60ba8>, <neuronunit.tests.dm.AP12HalfWidthChangePercentTest object at 0x7fedd2d60be0>, <neuronunit.tests.dm.AP12RateOfChangePeakToTroughPercentChangeTest object at 0x7fedd2d60c18>, <neuronunit.tests.dm.AP12AHPDepthPercentChangeTest object at 0x7fedd2d60c50>, <neuronunit.tests.dm.AP1DelayMeanTest object at 0x7fedd2d60c88>, <neuronunit.tests.dm.AP1DelaySDTest object at 0x7fedd2d60cc0>, <neuronunit.tests.dm.AP2DelayMeanTest object at 0x7fedd2d60cf8>, <neuronunit.tests.dm.AP2DelaySDTest object at 0x7fedd2d60d30>, <neuronunit.tests.dm.Burst1ISIMeanTest object at 0x7fedd2d60d68>, <neuronunit.tests.dm.Burst1ISISDTest object at 0x7fedd2d60da0>, <neuronunit.tests.dm.InitialAccommodationMeanTest object at 0x7fedd2d60dd8>, <neuronunit.tests.dm.SSAccommodationMeanTest object at 0x7fedd2d60e10>, <neuronunit.tests.dm.AccommodationRateToSSTest object at 0x7fedd2d60e48>, <neuronunit.tests.dm.AccommodationAtSSMeanTest object at 0x7fedd2d60e80>, <neuronunit.tests.dm.AccommodationRateMeanAtSSTest object at 0x7fedd2d60eb8>, <neuronunit.tests.dm.ISICVTest object at 0x7fedd2d60ef0>, <neuronunit.tests.dm.ISIMedianTest object at 0x7fedd2d60f28>, <neuronunit.tests.dm.ISIBurstMeanChangeTest object at 0x7fedd2d60f60>, <neuronunit.tests.dm.SpikeRateStrongStimTest object at 0x7fedd2d60f98>, <neuronunit.tests.dm.AP1DelayMeanStrongStimTest object at 0x7fedd2d60fd0>, <neuronunit.tests.dm.AP1DelaySDStrongStimTest object at 0x7fedd2d6e048>, <neuronunit.tests.dm.AP2DelayMeanStrongStimTest object at 0x7fedd2d6e080>, <neuronunit.tests.dm.AP2DelaySDStrongStimTest object at 0x7fedd2d6e0b8>, <neuronunit.tests.dm.Burst1ISISDStrongStimTest object at 0x7fedd2d6e0f0>, <neuronunit.tests.dm.Burst1ISIMeanStrongStimTest object at 0x7fedd2d6e128>]\n",
      "44.897500000000264 ms [<neuronunit.tests.dm.AP12AmplitudeDropTest object at 0x7fedd2d60908>, <neuronunit.tests.dm.AP1SSAmplitudeChangeTest object at 0x7fedd2d60940>, <neuronunit.tests.dm.AP1AmplitudeTest object at 0x7fedd2d60978>, <neuronunit.tests.dm.AP1WidthHalfHeightTest object at 0x7fedd2d609b0>, <neuronunit.tests.dm.AP1WidthPeakToTroughTest object at 0x7fedd2d609e8>, <neuronunit.tests.dm.AP1RateOfChangePeakToTroughTest object at 0x7fedd2d60a20>, <neuronunit.tests.dm.AP1AHPDepthTest object at 0x7fedd2d60a58>, <neuronunit.tests.dm.AP2AmplitudeTest object at 0x7fedd2d60a90>, <neuronunit.tests.dm.AP2WidthHalfHeightTest object at 0x7fedd2d60ac8>, <neuronunit.tests.dm.AP2WidthPeakToTroughTest object at 0x7fedd2d60b00>, <neuronunit.tests.dm.AP2RateOfChangePeakToTroughTest object at 0x7fedd2d60b38>, <neuronunit.tests.dm.AP2AHPDepthTest object at 0x7fedd2d60b70>, <neuronunit.tests.dm.AP12AmplitudeChangePercentTest object at 0x7fedd2d60ba8>, <neuronunit.tests.dm.AP12HalfWidthChangePercentTest object at 0x7fedd2d60be0>, <neuronunit.tests.dm.AP12RateOfChangePeakToTroughPercentChangeTest object at 0x7fedd2d60c18>, <neuronunit.tests.dm.AP12AHPDepthPercentChangeTest object at 0x7fedd2d60c50>, <neuronunit.tests.dm.AP1DelayMeanTest object at 0x7fedd2d60c88>, <neuronunit.tests.dm.AP1DelaySDTest object at 0x7fedd2d60cc0>, <neuronunit.tests.dm.AP2DelayMeanTest object at 0x7fedd2d60cf8>, <neuronunit.tests.dm.AP2DelaySDTest object at 0x7fedd2d60d30>, <neuronunit.tests.dm.Burst1ISIMeanTest object at 0x7fedd2d60d68>, <neuronunit.tests.dm.Burst1ISISDTest object at 0x7fedd2d60da0>, <neuronunit.tests.dm.InitialAccommodationMeanTest object at 0x7fedd2d60dd8>, <neuronunit.tests.dm.SSAccommodationMeanTest object at 0x7fedd2d60e10>, <neuronunit.tests.dm.AccommodationRateToSSTest object at 0x7fedd2d60e48>, <neuronunit.tests.dm.AccommodationAtSSMeanTest object at 0x7fedd2d60e80>, <neuronunit.tests.dm.AccommodationRateMeanAtSSTest object at 0x7fedd2d60eb8>, <neuronunit.tests.dm.ISICVTest object at 0x7fedd2d60ef0>, <neuronunit.tests.dm.ISIMedianTest object at 0x7fedd2d60f28>, <neuronunit.tests.dm.ISIBurstMeanChangeTest object at 0x7fedd2d60f60>, <neuronunit.tests.dm.SpikeRateStrongStimTest object at 0x7fedd2d60f98>, <neuronunit.tests.dm.AP1DelayMeanStrongStimTest object at 0x7fedd2d60fd0>, <neuronunit.tests.dm.AP1DelaySDStrongStimTest object at 0x7fedd2d6e048>, <neuronunit.tests.dm.AP2DelayMeanStrongStimTest object at 0x7fedd2d6e080>, <neuronunit.tests.dm.AP2DelaySDStrongStimTest object at 0x7fedd2d6e0b8>, <neuronunit.tests.dm.Burst1ISISDStrongStimTest object at 0x7fedd2d6e0f0>, <neuronunit.tests.dm.Burst1ISIMeanStrongStimTest object at 0x7fedd2d6e128>]\n",
      "0.0 ms [<neuronunit.tests.dm.AP12AmplitudeDropTest object at 0x7fedd2d60908>, <neuronunit.tests.dm.AP1SSAmplitudeChangeTest object at 0x7fedd2d60940>, <neuronunit.tests.dm.AP1AmplitudeTest object at 0x7fedd2d60978>, <neuronunit.tests.dm.AP1WidthHalfHeightTest object at 0x7fedd2d609b0>, <neuronunit.tests.dm.AP1WidthPeakToTroughTest object at 0x7fedd2d609e8>, <neuronunit.tests.dm.AP1RateOfChangePeakToTroughTest object at 0x7fedd2d60a20>, <neuronunit.tests.dm.AP1AHPDepthTest object at 0x7fedd2d60a58>, <neuronunit.tests.dm.AP2AmplitudeTest object at 0x7fedd2d60a90>, <neuronunit.tests.dm.AP2WidthHalfHeightTest object at 0x7fedd2d60ac8>, <neuronunit.tests.dm.AP2WidthPeakToTroughTest object at 0x7fedd2d60b00>, <neuronunit.tests.dm.AP2RateOfChangePeakToTroughTest object at 0x7fedd2d60b38>, <neuronunit.tests.dm.AP2AHPDepthTest object at 0x7fedd2d60b70>, <neuronunit.tests.dm.AP12AmplitudeChangePercentTest object at 0x7fedd2d60ba8>, <neuronunit.tests.dm.AP12HalfWidthChangePercentTest object at 0x7fedd2d60be0>, <neuronunit.tests.dm.AP12RateOfChangePeakToTroughPercentChangeTest object at 0x7fedd2d60c18>, <neuronunit.tests.dm.AP12AHPDepthPercentChangeTest object at 0x7fedd2d60c50>, <neuronunit.tests.dm.AP1DelayMeanTest object at 0x7fedd2d60c88>, <neuronunit.tests.dm.AP1DelaySDTest object at 0x7fedd2d60cc0>, <neuronunit.tests.dm.AP2DelayMeanTest object at 0x7fedd2d60cf8>, <neuronunit.tests.dm.AP2DelaySDTest object at 0x7fedd2d60d30>, <neuronunit.tests.dm.Burst1ISIMeanTest object at 0x7fedd2d60d68>, <neuronunit.tests.dm.Burst1ISISDTest object at 0x7fedd2d60da0>, <neuronunit.tests.dm.InitialAccommodationMeanTest object at 0x7fedd2d60dd8>, <neuronunit.tests.dm.SSAccommodationMeanTest object at 0x7fedd2d60e10>, <neuronunit.tests.dm.AccommodationRateToSSTest object at 0x7fedd2d60e48>, <neuronunit.tests.dm.AccommodationAtSSMeanTest object at 0x7fedd2d60e80>, <neuronunit.tests.dm.AccommodationRateMeanAtSSTest object at 0x7fedd2d60eb8>, <neuronunit.tests.dm.ISICVTest object at 0x7fedd2d60ef0>, <neuronunit.tests.dm.ISIMedianTest object at 0x7fedd2d60f28>, <neuronunit.tests.dm.ISIBurstMeanChangeTest object at 0x7fedd2d60f60>, <neuronunit.tests.dm.SpikeRateStrongStimTest object at 0x7fedd2d60f98>, <neuronunit.tests.dm.AP1DelayMeanStrongStimTest object at 0x7fedd2d60fd0>, <neuronunit.tests.dm.AP1DelaySDStrongStimTest object at 0x7fedd2d6e048>, <neuronunit.tests.dm.AP2DelayMeanStrongStimTest object at 0x7fedd2d6e080>, <neuronunit.tests.dm.AP2DelaySDStrongStimTest object at 0x7fedd2d6e0b8>, <neuronunit.tests.dm.Burst1ISISDStrongStimTest object at 0x7fedd2d6e0f0>, <neuronunit.tests.dm.Burst1ISIMeanStrongStimTest object at 0x7fedd2d6e128>]\n",
      "None [<neuronunit.tests.dm.AP12AmplitudeDropTest object at 0x7fedd2d60908>, <neuronunit.tests.dm.AP1SSAmplitudeChangeTest object at 0x7fedd2d60940>, <neuronunit.tests.dm.AP1AmplitudeTest object at 0x7fedd2d60978>, <neuronunit.tests.dm.AP1WidthHalfHeightTest object at 0x7fedd2d609b0>, <neuronunit.tests.dm.AP1WidthPeakToTroughTest object at 0x7fedd2d609e8>, <neuronunit.tests.dm.AP1RateOfChangePeakToTroughTest object at 0x7fedd2d60a20>, <neuronunit.tests.dm.AP1AHPDepthTest object at 0x7fedd2d60a58>, <neuronunit.tests.dm.AP2AmplitudeTest object at 0x7fedd2d60a90>, <neuronunit.tests.dm.AP2WidthHalfHeightTest object at 0x7fedd2d60ac8>, <neuronunit.tests.dm.AP2WidthPeakToTroughTest object at 0x7fedd2d60b00>, <neuronunit.tests.dm.AP2RateOfChangePeakToTroughTest object at 0x7fedd2d60b38>, <neuronunit.tests.dm.AP2AHPDepthTest object at 0x7fedd2d60b70>, <neuronunit.tests.dm.AP12AmplitudeChangePercentTest object at 0x7fedd2d60ba8>, <neuronunit.tests.dm.AP12HalfWidthChangePercentTest object at 0x7fedd2d60be0>, <neuronunit.tests.dm.AP12RateOfChangePeakToTroughPercentChangeTest object at 0x7fedd2d60c18>, <neuronunit.tests.dm.AP12AHPDepthPercentChangeTest object at 0x7fedd2d60c50>, <neuronunit.tests.dm.AP1DelayMeanTest object at 0x7fedd2d60c88>, <neuronunit.tests.dm.AP1DelaySDTest object at 0x7fedd2d60cc0>, <neuronunit.tests.dm.AP2DelayMeanTest object at 0x7fedd2d60cf8>, <neuronunit.tests.dm.AP2DelaySDTest object at 0x7fedd2d60d30>, <neuronunit.tests.dm.Burst1ISIMeanTest object at 0x7fedd2d60d68>, <neuronunit.tests.dm.Burst1ISISDTest object at 0x7fedd2d60da0>, <neuronunit.tests.dm.InitialAccommodationMeanTest object at 0x7fedd2d60dd8>, <neuronunit.tests.dm.SSAccommodationMeanTest object at 0x7fedd2d60e10>, <neuronunit.tests.dm.AccommodationRateToSSTest object at 0x7fedd2d60e48>, <neuronunit.tests.dm.AccommodationAtSSMeanTest object at 0x7fedd2d60e80>, <neuronunit.tests.dm.AccommodationRateMeanAtSSTest object at 0x7fedd2d60eb8>, <neuronunit.tests.dm.ISICVTest object at 0x7fedd2d60ef0>, <neuronunit.tests.dm.ISIMedianTest object at 0x7fedd2d60f28>, <neuronunit.tests.dm.ISIBurstMeanChangeTest object at 0x7fedd2d60f60>, <neuronunit.tests.dm.SpikeRateStrongStimTest object at 0x7fedd2d60f98>, <neuronunit.tests.dm.AP1DelayMeanStrongStimTest object at 0x7fedd2d60fd0>, <neuronunit.tests.dm.AP1DelaySDStrongStimTest object at 0x7fedd2d6e048>, <neuronunit.tests.dm.AP2DelayMeanStrongStimTest object at 0x7fedd2d6e080>, <neuronunit.tests.dm.AP2DelaySDStrongStimTest object at 0x7fedd2d6e0b8>, <neuronunit.tests.dm.Burst1ISISDStrongStimTest object at 0x7fedd2d6e0f0>, <neuronunit.tests.dm.Burst1ISIMeanStrongStimTest object at 0x7fedd2d6e128>]\n"
     ]
    }
   ],
   "source": [
    "start2 = time.time()\n",
    "\n",
    "model = ReducedModel(LEMS_MODEL_PATH, name= str('vanilla'), backend=('RAW'))\n",
    "\n",
    "    \n",
    "for i, test in enumerate(tests):\n",
    "    mean = test.generate_prediction(model)['mean']\n",
    "    \n",
    "\n",
    "print(mean,'mean is None?')\n",
    "stop2 = time.time()\n",
    "print(stop2-start2)\n",
    "\n",
    "start3 = time.time()\n",
    "model = ReducedModel(LEMS_MODEL_PATH, name= str('vanilla'), backend=('NEURON', {'DTC':dtc}))\n",
    "model.atts = dtc.attrs\n",
    "\n",
    "\n",
    "for i, test in enumerate(tests):\n",
    "    mean = test.generate_prediction(model)['mean']\n",
    "    #print(mean, tests)\n",
    "stop3 = time.time()\n",
    "print(stop3-start3)"
   ]
  },
  {
   "cell_type": "code",
   "execution_count": null,
   "metadata": {
    "collapsed": true
   },
   "outputs": [],
   "source": [
    "import dask.bag as db\n",
    "model = ReducedModel(LEMS_MODEL_PATH, name= str('vanilla'), backend=('RAW'))\n",
    "    \n",
    "def takes_tests(tests):\n",
    "    mean = test.generate_prediction(model)['mean']\n",
    "    print(mean)\n",
    "    return mean\n",
    "\n",
    "tb = db.from_sequence(tests,npartitions=8)\n",
    "means = tb.map(takes_tests)"
   ]
  },
  {
   "cell_type": "code",
   "execution_count": null,
   "metadata": {
    "collapsed": false
   },
   "outputs": [],
   "source": [
    "dmtests = dm.Druckmann2013Test\n",
    "d_tests = []\n",
    "for d in dir(dm):\n",
    "    if \"Test\" in d:\n",
    "        exec('d_tests.append(dm.'+str(d)+')')\n",
    "#print()\n",
    "dt = d_tests[1:-1]\n",
    "print(dt)"
   ]
  },
  {
   "cell_type": "code",
   "execution_count": null,
   "metadata": {
    "collapsed": true
   },
   "outputs": [],
   "source": [
    "import quantities as pq\n",
    "current_amplitude = {'mean': 106.7 * pq.pA, 'n': 1, 'std': 0.0 * pq.pA}\n",
    "test = dm.AP12AmplitudeChangePercentTest(current_amplitude)"
   ]
  },
  {
   "cell_type": "code",
   "execution_count": null,
   "metadata": {
    "collapsed": true
   },
   "outputs": [],
   "source": [
    "import os\n",
    "import pickle\n",
    "import matplotlib.pyplot as plt\n",
    "electro_path = str(os.getcwd())+'all_tests.p'\n",
    "\n",
    "assert os.path.isfile(electro_path) == True\n",
    "with open(electro_path,'rb') as f:\n",
    "    (obs_frame,test_frame) = pickle.load(f)\n",
    "\n",
    "\n",
    "rt = RheobaseTestP(obs_frame['Dentate gyrus basket cell']['Rheobase'])\n",
    "\n",
    "pred = rt.generate_prediction(model)\n",
    "print(pred)\n",
    "#for i in npcl['pf'][0:2]:\n",
    "iparams = {}\n",
    "iparams['injected_square_current'] = {}\n",
    "iparams['injected_square_current']['amplitude'] = pred['value']\n",
    "model = None\n",
    "model = ReducedModel(LEMS_MODEL_PATH,name = str('vanilla'),backend = ('RAW'))\n",
    "#model.set_attrs(i.dtc.attrs)\n",
    "\n",
    "#['amplitude']  = dtc.vtest[k]['injected_square_current']['amplitude']\n",
    "DELAY = 100.0*pq.ms\n",
    "DURATION = 1000.0*pq.ms\n",
    "iparams['injected_square_current']['delay'] = DELAY\n",
    "iparams['injected_square_current']['duration'] = int(DURATION)\n",
    "model.inject_square_current(iparams)\n",
    "n_spikes = len(model.get_spike_train())\n",
    "\n",
    "if n_spikes:\n",
    "    print(n_spikes)\n",
    "    #print(i[0].scores['RheobaseTestP']*pq.pA)\n",
    "    plt.plot(model.get_membrane_potential().times,model.get_membrane_potential())#,label='ground truth')\n",
    "    plt.legend()\n",
    "print(obs_frame['Dentate gyrus basket cell']['Rheobase'])\n",
    "    \n",
    "    "
   ]
  },
  {
   "cell_type": "code",
   "execution_count": null,
   "metadata": {
    "collapsed": true
   },
   "outputs": [],
   "source": [
    "print(model)\n",
    "help(dt[0])\n",
    "dt = dt[0]()\n",
    "dt[0].generate_prediction(model)\n"
   ]
  },
  {
   "cell_type": "code",
   "execution_count": null,
   "metadata": {
    "collapsed": true
   },
   "outputs": [],
   "source": [
    "'''\n",
    "import pdb\n",
    "for d in dt:\n",
    "    pdb.set_trace()\n",
    "    #dmtO = d(pred['value'])#obs_frame['Dentate gyrus basket cell']['Rheobase'])\n",
    "print(dmt0)\n",
    "'''"
   ]
  },
  {
   "cell_type": "code",
   "execution_count": null,
   "metadata": {
    "collapsed": true
   },
   "outputs": [],
   "source": []
  },
  {
   "cell_type": "code",
   "execution_count": null,
   "metadata": {
    "collapsed": true
   },
   "outputs": [],
   "source": []
  },
  {
   "cell_type": "code",
   "execution_count": null,
   "metadata": {
    "collapsed": true
   },
   "outputs": [],
   "source": []
  }
 ],
 "metadata": {
  "kernelspec": {
   "display_name": "Python 3",
   "language": "python",
   "name": "python3"
  },
  "language_info": {
   "codemirror_mode": {
    "name": "ipython",
    "version": 3
   },
   "file_extension": ".py",
   "mimetype": "text/x-python",
   "name": "python",
   "nbconvert_exporter": "python",
   "pygments_lexer": "ipython3",
   "version": "3.5.2"
  }
 },
 "nbformat": 4,
 "nbformat_minor": 2
}
