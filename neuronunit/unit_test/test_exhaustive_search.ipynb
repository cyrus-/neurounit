{
 "cells": [
  {
   "cell_type": "code",
   "execution_count": 1,
   "metadata": {},
   "outputs": [],
   "source": [
    "################\n",
    "# GA parameters:\n",
    "################\n",
    "NGEN = 2\n",
    "MU = 4; NGEN = 3; CXPB = 0.9\n",
    "USE_CACHED_GA = False\n",
    "# about 8 models will be made, excluding rheobase search.\n",
    "\n",
    "################\n",
    "# Grid search parameters:\n",
    "# only 5 models, will be made excluding rheobase search\n",
    "################\n",
    "npoints = 5\n",
    "nparams = 1\n",
    "USE_CACHED_GS = False\n",
    "\n",
    "# !ulimit -n 2048 \n",
    "# There is on issue on the Mac with the number of open file handles.  \n",
    "# I think there is a file leak in LEMS or somewhere else and the command above needs to be run\n",
    "# in the shell that spawned this notebook before this code can be run to completion."
   ]
  },
  {
   "cell_type": "code",
   "execution_count": 2,
   "metadata": {},
   "outputs": [],
   "source": [
    "import pickle\n",
    "import numpy as np"
   ]
  },
  {
   "cell_type": "code",
   "execution_count": 3,
   "metadata": {},
   "outputs": [
    {
     "name": "stdout",
     "output_type": "stream",
     "text": [
      "Getting Rheobase cached data value for from AIBS dataset 354190013\n",
      "<class 'neuronunit.tests.passive.InputResistanceTest'> None\n",
      "Getting cached Input Resistance data values from neuroelectro.org\n",
      "Using cached value.\n",
      "<class 'neuronunit.tests.passive.TimeConstantTest'> None\n",
      "Getting cached Membrane Time Constant data values from neuroelectro.org\n",
      "Using cached value.\n",
      "<class 'neuronunit.tests.passive.CapacitanceTest'> None\n",
      "Getting cached Cell Capacitance data values from neuroelectro.org\n",
      "Using cached value.\n",
      "<class 'neuronunit.tests.passive.RestingPotentialTest'> None\n",
      "Getting cached Resting membrane potential data values from neuroelectro.org\n",
      "Using cached value.\n",
      "<class 'neuronunit.tests.waveform.InjectedCurrentAPWidthTest'> None\n",
      "Getting cached Spike Half-Width data values from neuroelectro.org\n",
      "Using cached value.\n",
      "<class 'neuronunit.tests.waveform.InjectedCurrentAPAmplitudeTest'> None\n",
      "Getting cached Spike Amplitude data values from neuroelectro.org\n",
      "Using cached value.\n",
      "<class 'neuronunit.tests.waveform.InjectedCurrentAPThresholdTest'> None\n",
      "Getting cached Spike Threshold data values from neuroelectro.org\n",
      "Using cached value.\n"
     ]
    }
   ],
   "source": [
    "from neuronunit.optimization.nsga_object import NSGA\n",
    "from neuronunit.optimization import exhaustive_search as es"
   ]
  },
  {
   "cell_type": "code",
   "execution_count": 4,
   "metadata": {},
   "outputs": [
    {
     "name": "stdout",
     "output_type": "stream",
     "text": [
      "/Users/rgerkin/Dropbox/dev/scidash/neuronunit/neuronunit/models/__init__.py\n",
      "Engine IDs:  [<built-in function id>, <built-in function id>, <built-in function id>, <built-in function id>]\n",
      "\n",
      "    Starting simulation in NEURON of 500.0ms generated from NeuroML2 model...\n",
      "\n",
      "Population RS_pop contains 1 instance(s) of component: RS of type: izhikevich2007Cell\n",
      "Mechanisms already loaded from path: /Users/rgerkin/Dropbox/dev/scidash/neuronunit/neuronunit/models/NeuroML2.  Aborting.\n",
      "\n",
      "    Starting simulation in NEURON of 500.0ms generated from NeuroML2 model...\n",
      "\n",
      "Population RS_pop contains 1 instance(s) of component: RS of type: izhikevich2007Cell\n",
      "Mechanisms already loaded from path: /Users/rgerkin/Dropbox/dev/scidash/neuronunit/neuronunit/models/NeuroML2.  Aborting.\n",
      "\n",
      "    Starting simulation in NEURON of 500.0ms generated from NeuroML2 model...\n",
      "\n",
      "Population RS_pop contains 1 instance(s) of component: RS of type: izhikevich2007Cell\n",
      "Mechanisms already loaded from path: /Users/rgerkin/Dropbox/dev/scidash/neuronunit/neuronunit/models/NeuroML2.  Aborting.\n",
      "\n",
      "    Starting simulation in NEURON of 500.0ms generated from NeuroML2 model...\n",
      "\n",
      "Population RS_pop contains 1 instance(s) of component: RS of type: izhikevich2007Cell\n",
      "\n",
      "\n",
      "\n",
      "\n",
      "\n",
      " rheobase complete \n",
      "\n",
      "\n",
      "\n",
      "\n",
      "\n",
      "\n",
      "\n",
      "\n",
      "\n",
      " preformat complete \n",
      "\n",
      "\n",
      "\n",
      "\n",
      "\n",
      "\n",
      "\n",
      "\n",
      "\n",
      " score calculation complete \n",
      "\n",
      "\n",
      "\n",
      "\n",
      "[<neuronunit.optimization.data_transport_container.DataTC object at 0x111eb7828>, <neuronunit.optimization.data_transport_container.DataTC object at 0x11335af28>, <neuronunit.optimization.data_transport_container.DataTC object at 0x111eb76a0>, <neuronunit.optimization.data_transport_container.DataTC object at 0x11335ac50>]\n",
      "gen\tevals\tstd                                                                                               \tmin                                                                                       \tavg                                                                                               \tmax                                                                                              \n",
      "0  \t4    \t[ 0.          0.05870319  0.23322603  0.18886101  0.16908349  0.08950844\n",
      "  0.23899766  0.        ]\t[ 0.          0.55860844  0.15606075  0.1610341   0.2067109   0.          0.\n",
      "  0.        ]\t[ 0.          0.66028535  0.29121134  0.48815096  0.30433129  0.05167772\n",
      "  0.41395327  0.        ]\t[ 0.          0.69417765  0.69516938  0.59719063  0.59719249  0.2067109\n",
      "  0.55337803  0.        ]\n",
      "Mechanisms already loaded from path: /Users/rgerkin/Dropbox/dev/scidash/neuronunit/neuronunit/models/NeuroML2.  Aborting.\n",
      "\n",
      "    Starting simulation in NEURON of 500.0ms generated from NeuroML2 model...\n",
      "\n",
      "Population RS_pop contains 1 instance(s) of component: RS of type: izhikevich2007Cell\n",
      "Mechanisms already loaded from path: /Users/rgerkin/Dropbox/dev/scidash/neuronunit/neuronunit/models/NeuroML2.  Aborting.\n",
      "\n",
      "    Starting simulation in NEURON of 500.0ms generated from NeuroML2 model...\n",
      "\n",
      "Population RS_pop contains 1 instance(s) of component: RS of type: izhikevich2007Cell\n",
      "Mechanisms already loaded from path: /Users/rgerkin/Dropbox/dev/scidash/neuronunit/neuronunit/models/NeuroML2.  Aborting.\n",
      "\n",
      "    Starting simulation in NEURON of 500.0ms generated from NeuroML2 model...\n",
      "\n",
      "Population RS_pop contains 1 instance(s) of component: RS of type: izhikevich2007Cell\n",
      "Mechanisms already loaded from path: /Users/rgerkin/Dropbox/dev/scidash/neuronunit/neuronunit/models/NeuroML2.  Aborting.\n",
      "\n",
      "    Starting simulation in NEURON of 500.0ms generated from NeuroML2 model...\n",
      "\n",
      "Population RS_pop contains 1 instance(s) of component: RS of type: izhikevich2007Cell\n",
      "\n",
      "\n",
      "\n",
      "\n",
      "\n",
      " rheobase complete \n",
      "\n",
      "\n",
      "\n",
      "\n",
      "\n",
      "\n",
      "\n",
      "\n",
      "\n",
      " preformat complete \n",
      "\n",
      "\n",
      "\n",
      "\n",
      "\n",
      "\n",
      "\n",
      "\n",
      "\n",
      " score calculation complete \n",
      "\n",
      "\n",
      "\n",
      "\n",
      "Mechanisms already loaded from path: /Users/rgerkin/Dropbox/dev/scidash/neuronunit/neuronunit/models/NeuroML2.  Aborting.\n",
      "\n",
      "    Starting simulation in NEURON of 500.0ms generated from NeuroML2 model...\n",
      "\n",
      "Population RS_pop contains 1 instance(s) of component: RS of type: izhikevich2007Cell\n",
      "Mechanisms already loaded from path: /Users/rgerkin/Dropbox/dev/scidash/neuronunit/neuronunit/models/NeuroML2.  Aborting.\n",
      "\n",
      "    Starting simulation in NEURON of 500.0ms generated from NeuroML2 model...\n",
      "\n",
      "Population RS_pop contains 1 instance(s) of component: RS of type: izhikevich2007Cell\n",
      "Mechanisms already loaded from path: /Users/rgerkin/Dropbox/dev/scidash/neuronunit/neuronunit/models/NeuroML2.  Aborting.\n",
      "\n",
      "    Starting simulation in NEURON of 500.0ms generated from NeuroML2 model...\n",
      "\n",
      "Population RS_pop contains 1 instance(s) of component: RS of type: izhikevich2007Cell\n",
      "Mechanisms already loaded from path: /Users/rgerkin/Dropbox/dev/scidash/neuronunit/neuronunit/models/NeuroML2.  Aborting.\n",
      "\n",
      "    Starting simulation in NEURON of 500.0ms generated from NeuroML2 model...\n",
      "\n",
      "Population RS_pop contains 1 instance(s) of component: RS of type: izhikevich2007Cell\n",
      "\n",
      "\n",
      "\n",
      "\n",
      "\n",
      " rheobase complete \n",
      "\n",
      "\n",
      "\n",
      "\n",
      "\n",
      "\n",
      "\n",
      "\n",
      "\n",
      " preformat complete \n",
      "\n",
      "\n",
      "\n",
      "\n",
      "\n",
      "\n",
      "\n",
      "\n",
      "\n",
      " score calculation complete \n",
      "\n",
      "\n",
      "\n",
      "\n"
     ]
    }
   ],
   "source": [
    "if USE_CACHED_GA:\n",
    "    [invalid_dtc, pop, logbook, fitnesses] = pickle.load(open('ga_dump.p','rb'))\n",
    "else:\n",
    "    NSGAO = NSGA()\n",
    "    NSGAO.setnparams(nparams=nparams)\n",
    "    invalid_dtc, pop, logbook, fitnesses = NSGAO.main(MU, NGEN)\n",
    "    with open('ga_dump.p','wb') as f:\n",
    "       pickle.dump([invalid_dtc, pop, logbook, fitnesses],f)"
   ]
  },
  {
   "cell_type": "code",
   "execution_count": 5,
   "metadata": {},
   "outputs": [
    {
     "name": "stdout",
     "output_type": "stream",
     "text": [
      "[<neuronunit.optimization.data_transport_container.DataTC object at 0x113f9f080>, <neuronunit.optimization.data_transport_container.DataTC object at 0x1162965c0>, <neuronunit.optimization.data_transport_container.DataTC object at 0x113f9f5c0>, <neuronunit.optimization.data_transport_container.DataTC object at 0x113f9fc18>, <neuronunit.optimization.data_transport_container.DataTC object at 0x113f9fc50>]\n",
      "Mechanisms already loaded from path: /Users/rgerkin/Dropbox/dev/scidash/neuronunit/neuronunit/models/NeuroML2.  Aborting.\n",
      "\n",
      "    Starting simulation in NEURON of 500.0ms generated from NeuroML2 model...\n",
      "\n",
      "Population RS_pop contains 1 instance(s) of component: RS of type: izhikevich2007Cell\n"
     ]
    },
    {
     "name": "stderr",
     "output_type": "stream",
     "text": [
      "/Users/rgerkin/Dropbox/miniconda3/lib/python3.5/site-packages/sklearn/cross_validation.py:44: DeprecationWarning: This module was deprecated in version 0.18 in favor of the model_selection module into which all the refactored classes and functions are moved. Also note that the interface of the new CV iterators are different from that of this module. This module will be removed in 0.20.\n",
      "  \"This module will be removed in 0.20.\", DeprecationWarning)\n",
      "/Users/rgerkin/Dropbox/miniconda3/lib/python3.5/site-packages/sklearn/grid_search.py:43: DeprecationWarning: This module was deprecated in version 0.18 in favor of the model_selection module into which all the refactored classes and functions are moved. This module will be removed in 0.20.\n",
      "  DeprecationWarning)\n"
     ]
    },
    {
     "name": "stdout",
     "output_type": "stream",
     "text": [
      "Mechanisms already loaded from path: /Users/rgerkin/Dropbox/dev/scidash/neuronunit/neuronunit/models/NeuroML2.  Aborting.\n",
      "\n",
      "    Starting simulation in NEURON of 500.0ms generated from NeuroML2 model...\n",
      "\n",
      "Population RS_pop contains 1 instance(s) of component: RS of type: izhikevich2007Cell\n",
      "Mechanisms already loaded from path: /Users/rgerkin/Dropbox/dev/scidash/neuronunit/neuronunit/models/NeuroML2.  Aborting.\n",
      "\n",
      "    Starting simulation in NEURON of 500.0ms generated from NeuroML2 model...\n",
      "\n",
      "Population RS_pop contains 1 instance(s) of component: RS of type: izhikevich2007Cell\n",
      "Mechanisms already loaded from path: /Users/rgerkin/Dropbox/dev/scidash/neuronunit/neuronunit/models/NeuroML2.  Aborting.\n",
      "\n",
      "    Starting simulation in NEURON of 500.0ms generated from NeuroML2 model...\n",
      "\n",
      "Population RS_pop contains 1 instance(s) of component: RS of type: izhikevich2007Cell\n",
      "Mechanisms already loaded from path: /Users/rgerkin/Dropbox/dev/scidash/neuronunit/neuronunit/models/NeuroML2.  Aborting.\n",
      "\n",
      "    Starting simulation in NEURON of 500.0ms generated from NeuroML2 model...\n",
      "\n",
      "Population RS_pop contains 1 instance(s) of component: RS of type: izhikevich2007Cell\n",
      "[<neuronunit.optimization.data_transport_container.DataTC object at 0x113f9f080>, <neuronunit.optimization.data_transport_container.DataTC object at 0x1162965c0>, <neuronunit.optimization.data_transport_container.DataTC object at 0x113f9f5c0>, <neuronunit.optimization.data_transport_container.DataTC object at 0x113f9fc18>, <neuronunit.optimization.data_transport_container.DataTC object at 0x113f9fc50>]\n",
      "[<neuronunit.optimization.data_transport_container.DataTC object at 0x113f9f080>, <neuronunit.optimization.data_transport_container.DataTC object at 0x1162965c0>, <neuronunit.optimization.data_transport_container.DataTC object at 0x113f9f5c0>, <neuronunit.optimization.data_transport_container.DataTC object at 0x113f9fc18>, <neuronunit.optimization.data_transport_container.DataTC object at 0x113f9fc50>]\n"
     ]
    }
   ],
   "source": [
    "if USE_CACHED_GS:\n",
    "    dtcpopg = pickle.load(open('gr_dump.p','rb'))\n",
    "else:\n",
    "    dtcpopg = es.run_grid(npoints,nparams)\n",
    "    with open('grid_dump.p','wb') as f:\n",
    "       pickle.dump(dtcpopg,f)"
   ]
  },
  {
   "cell_type": "code",
   "execution_count": 6,
   "metadata": {},
   "outputs": [],
   "source": [
    "def error(dtc):\n",
    "    \"\"\"\n",
    "    Overall error function for a DTC\n",
    "    Returns the root-mean-square error over all the tests\n",
    "    \"\"\"\n",
    "    return np.sqrt(np.mean(np.square(list(dtc.scores.values()))))\n",
    "\n",
    "def sorted_dtcs(dtcpop):\n",
    "    \"\"\"\n",
    "    Returns dtc,error tuples sorted from low to high error\n",
    "    \"\"\"\n",
    "    return sorted([(dtc,error(dtc)) for dtc in dtcpop],key=lambda x:x[1])\n",
    "\n",
    "minimaga,miniga = sorted_dtcs(invalid_dtc)[0]\n",
    "minimagr,mini = sorted_dtcs(dtcpopg)[0]\n",
    "maximagr,maxi = sorted_dtcs(dtcpopg)[-1]"
   ]
  },
  {
   "cell_type": "code",
   "execution_count": 7,
   "metadata": {},
   "outputs": [
    {
     "name": "stdout",
     "output_type": "stream",
     "text": [
      "Report: \n",
      "Success\n",
      "The nsga error 0.388812 is in the bottom 1/5th of the entire error range\n",
      "Minimum = 0.388739; 20th percentile = 0.393128; Maximum = 0.408490\n"
     ]
    }
   ],
   "source": [
    "# quantize distance between minimimum error and maximum error.\n",
    "quantize_distance = list(np.linspace(mini,maxi,10))\n",
    "\n",
    "# check that the nsga error is in the bottom 1/5th of the entire error range.\n",
    "print('Report: ')\n",
    "print(\"Success\" if bool(miniga < quantize_distance[2]) else \"Failure\")\n",
    "print(\"The nsga error %f is in the bottom 1/5th of the entire error range\" % miniga)\n",
    "print(\"Minimum = %f; 20th percentile = %f; Maximum = %f\" % (mini,quantize_distance[2],maxi))"
   ]
  },
  {
   "cell_type": "code",
   "execution_count": 8,
   "metadata": {},
   "outputs": [
    {
     "name": "stdout",
     "output_type": "stream",
     "text": [
      "the difference between brute force candidates model parameters and the GA's model parameters:\n",
      "-0.051006890386999904 0.893993109613 0.945 a\n",
      "the relative distance scaled by the length of the parameter dimension of interest:\n",
      "-18.5269086751\n"
     ]
    }
   ],
   "source": [
    "# This function reports on the deltas brute force obtained versus the GA found attributes.\n",
    "from neuronunit.optimization import model_parameters as modelp\n",
    "mp = modelp.model_params\n",
    "for k,v in minimagr.attrs.items():\n",
    "    #hvgrid = np.linspace(np.min(mp[k]),np.max(mp[k]),10)\n",
    "    dimension_length = np.max(mp[k]) - np.min(mp[k])\n",
    "    solution_distance_in_1D = np.abs(float(minimaga.attrs[k]))-np.abs(float(v))\n",
    "    relative_distance = dimension_length/solution_distance_in_1D\n",
    "    print('the difference between brute force candidates model parameters and the GA\\'s model parameters:')\n",
    "    print(float(minimaga.attrs[k])-float(v),minimaga.attrs[k],v,k)\n",
    "    print('the relative distance scaled by the length of the parameter dimension of interest:')\n",
    "    print(relative_distance)"
   ]
  },
  {
   "cell_type": "code",
   "execution_count": 9,
   "metadata": {},
   "outputs": [
    {
     "name": "stdout",
     "output_type": "stream",
     "text": [
      "the difference between the bf error and the GA's error:\n",
      "grid search:\n",
      "0.388739448357\n",
      "ga:\n",
      "0.388812121512\n"
     ]
    }
   ],
   "source": [
    "print('the difference between the bf error and the GA\\'s error:')\n",
    "print('grid search:')\n",
    "from numpy import square, mean, sqrt\n",
    "rmsg=sqrt(mean(square(list(minimagr.scores.values()))))\n",
    "print(rmsg)\n",
    "print('ga:')\n",
    "rmsga=sqrt(mean(square(list(minimaga.scores.values()))))\n",
    "print(rmsga)\n",
    "\n",
    "# Two things to find:\n",
    "# How close togethor are the model parameters in parameter space (hyper volume), relative to the dimensions of the HV?\n",
    "# ie get the euclidian distance between the two sets of model parameters."
   ]
  }
 ],
 "metadata": {
  "kernelspec": {
   "display_name": "Python 3",
   "language": "python",
   "name": "python3"
  },
  "language_info": {
   "codemirror_mode": {
    "name": "ipython",
    "version": 3
   },
   "file_extension": ".py",
   "mimetype": "text/x-python",
   "name": "python",
   "nbconvert_exporter": "python",
   "pygments_lexer": "ipython3",
   "version": "3.5.2"
  }
 },
 "nbformat": 4,
 "nbformat_minor": 2
}
