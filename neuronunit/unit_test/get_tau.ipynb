{
 "cells": [
  {
   "cell_type": "code",
   "execution_count": 1,
   "metadata": {},
   "outputs": [],
   "source": [
    "%matplotlib inline\n",
    "import os,sys\n",
    "import numpy as np\n",
    "import matplotlib.pyplot as plt\n",
    "import quantities as pq\n",
    "from scipy.optimize import curve_fit\n",
    "from neo.core import AnalogSignal\n",
    "from neuronunit.tests import TimeConstantTest"
   ]
  },
  {
   "cell_type": "code",
   "execution_count": 2,
   "metadata": {},
   "outputs": [],
   "source": [
    "def make_sweep(total_time, amplitude, offset_time, tau, start_time, y0):\n",
    "    # Construct x and y without an exponential signal\n",
    "    sampling_rate = 10000*pq.Hz # samples per ms\n",
    "    total_samples = (total_time * sampling_rate).simplified\n",
    "    assert total_samples.dimensionality == pq.dimensionless\n",
    "    total_samples = int(total_samples)\n",
    "    noise_sigma = 0.1*pq.mV\n",
    "    times = np.linspace(0,\n",
    "                        float(total_time),\n",
    "                        total_samples)*pq.ms\n",
    "    vm = AnalogSignal(noise_sigma*np.random.randn(total_samples),\n",
    "                      times=times,\n",
    "                      t_start=start_time,\n",
    "                      sampling_rate=sampling_rate.rescale(1/pq.ms))\n",
    "\n",
    "    # Add the exponential signal\n",
    "    samples_until_offset = ((offset_time - start_time) * sampling_rate).simplified\n",
    "    assert samples_until_offset.dimensionality == pq.dimensionless\n",
    "    samples_until_offset = int(samples_until_offset)\n",
    "    exponential = amplitude*np.exp(-(times[samples_until_offset:]-(offset_time-start_time))/tau)\n",
    "    vm[samples_until_offset:, 0] += exponential.reshape(-1,1)\n",
    "    vm += y0\n",
    "    return vm"
   ]
  },
  {
   "cell_type": "code",
   "execution_count": 3,
   "metadata": {},
   "outputs": [
    {
     "data": {
      "image/png": "[encoded data removed]",
      "text/plain": [
       "<Figure size 432x288 with 1 Axes>"
      ]
     },
     "metadata": {
      "needs_background": "light"
     },
     "output_type": "display_data"
    }
   ],
   "source": [
    "total_time = 100*pq.ms\n",
    "start_time = 10*pq.ms\n",
    "amplitude = -10*pq.mV\n",
    "y0 = 5*pq.mV\n",
    "offset_time = 30*pq.ms\n",
    "tau = 7*pq.ms\n",
    "    \n",
    "vm = make_sweep(total_time, amplitude, offset_time, tau, start_time, y0)\n",
    "\n",
    "plt.plot(vm.times.rescale('ms'), vm.rescale('mV'))\n",
    "plt.xlabel(pq.ms.symbol)\n",
    "plt.ylabel(pq.mV.symbol);"
   ]
  },
  {
   "cell_type": "code",
   "execution_count": 4,
   "metadata": {},
   "outputs": [
    {
     "name": "stdout",
     "output_type": "stream",
     "text": [
      "Estimated tau = 6.991 ms; Actual tau = 7.0 ms\n"
     ]
    }
   ],
   "source": [
    "test = TimeConstantTest(observation={'mean':tau, \n",
    "                                     'std':np.sqrt(float(tau))*tau.units})\n",
    "i = {'duration':total_time,\n",
    "     'delay':offset_time}\n",
    "tau_estimated = test.get_tau(vm, i).round(3)\n",
    "print(\"Estimated tau = %s; Actual tau = %s\" % (tau_estimated, tau))"
   ]
  },
  {
   "cell_type": "code",
   "execution_count": 5,
   "metadata": {},
   "outputs": [],
   "source": [
    "assert 0.95 < tau_estimated/tau < 1.05"
   ]
  },
  {
   "cell_type": "code",
   "execution_count": 6,
   "metadata": {},
   "outputs": [
    {
     "name": "stdout",
     "output_type": "stream",
     "text": [
      "Estimated amplitude: -9.97 mV; Actual amplitude: -10 mV\n",
      "Estimated tau: 6.99 ms; Actual tau: 7 ms\n",
      "Estimated y0: 5 mV; Actual y0: 5 mV\n"
     ]
    }
   ],
   "source": [
    "amplitude_estimated, tau_estimated, y0_estimated = test.exponential_fit(vm, 30*pq.ms)\n",
    "for var, units in [('amplitude', 'mV'), ('tau', 'ms'), ('y0', 'mV')]:\n",
    "    print(\"Estimated %s: %.3g %s; Actual %s: %.3g %s\" % \\\n",
    "          (var, locals()[var+\"_estimated\"], units, var, locals()[var], units))"
   ]
  },
  {
   "cell_type": "code",
   "execution_count": 7,
   "metadata": {},
   "outputs": [],
   "source": [
    "assert 0.95 < tau_estimated/tau < 1.05\n",
    "assert 0.95 < amplitude_estimated/amplitude < 1.05\n",
    "assert 0.95 < y0_estimated/y0 < 1.05"
   ]
  }
 ],
 "metadata": {
  "kernelspec": {
   "display_name": "Python 3",
   "language": "python",
   "name": "python3"
  },
  "language_info": {
   "codemirror_mode": {
    "name": "ipython",
    "version": 3
   },
   "file_extension": ".py",
   "mimetype": "text/x-python",
   "name": "python",
   "nbconvert_exporter": "python",
   "pygments_lexer": "ipython3",
   "version": "3.7.4"
  }
 },
 "nbformat": 4,
 "nbformat_minor": 4
}
