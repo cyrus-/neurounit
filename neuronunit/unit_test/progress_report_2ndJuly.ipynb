{
 "cells": [
  {
   "cell_type": "code",
   "execution_count": 1,
   "metadata": {},
   "outputs": [
    {
     "data": {
      "text/html": [
       "\n",
       "    <div class=\"bk-root\">\n",
       "        <a href=\"https://bokeh.pydata.org\" target=\"_blank\" class=\"bk-logo bk-logo-small bk-logo-notebook\"></a>\n",
       "        <span id=\"193f7725-690b-4133-aa6d-0c97bb290039\">Loading BokehJS ...</span>\n",
       "    </div>"
      ]
     },
     "metadata": {},
     "output_type": "display_data"
    },
    {
     "data": {
      "application/javascript": [
       "\n",
       "(function(root) {\n",
       "  function now() {\n",
       "    return new Date();\n",
       "  }\n",
       "\n",
       "  var force = true;\n",
       "\n",
       "  if (typeof (root._bokeh_onload_callbacks) === \"undefined\" || force === true) {\n",
       "    root._bokeh_onload_callbacks = [];\n",
       "    root._bokeh_is_loading = undefined;\n",
       "  }\n",
       "\n",
       "  var JS_MIME_TYPE = 'application/javascript';\n",
       "  var HTML_MIME_TYPE = 'text/html';\n",
       "  var EXEC_MIME_TYPE = 'application/vnd.bokehjs_exec.v0+json';\n",
       "  var CLASS_NAME = 'output_bokeh rendered_html';\n",
       "\n",
       "  /**\n",
       "   * Render data to the DOM node\n",
       "   */\n",
       "  function render(props, node) {\n",
       "    var script = document.createElement(\"script\");\n",
       "    node.appendChild(script);\n",
       "  }\n",
       "\n",
       "  /**\n",
       "   * Handle when an output is cleared or removed\n",
       "   */\n",
       "  function handleClearOutput(event, handle) {\n",
       "    var cell = handle.cell;\n",
       "\n",
       "    var id = cell.output_area._bokeh_element_id;\n",
       "    var server_id = cell.output_area._bokeh_server_id;\n",
       "    // Clean up Bokeh references\n",
       "    if (id !== undefined) {\n",
       "      Bokeh.index[id].model.document.clear();\n",
       "      delete Bokeh.index[id];\n",
       "    }\n",
       "\n",
       "    if (server_id !== undefined) {\n",
       "      // Clean up Bokeh references\n",
       "      var cmd = \"from bokeh.io.state import curstate; print(curstate().uuid_to_server['\" + server_id + \"'].get_sessions()[0].document.roots[0]._id)\";\n",
       "      cell.notebook.kernel.execute(cmd, {\n",
       "        iopub: {\n",
       "          output: function(msg) {\n",
       "            var element_id = msg.content.text.trim();\n",
       "            Bokeh.index[element_id].model.document.clear();\n",
       "            delete Bokeh.index[element_id];\n",
       "          }\n",
       "        }\n",
       "      });\n",
       "      // Destroy server and session\n",
       "      var cmd = \"import bokeh.io.notebook as ion; ion.destroy_server('\" + server_id + \"')\";\n",
       "      cell.notebook.kernel.execute(cmd);\n",
       "    }\n",
       "  }\n",
       "\n",
       "  /**\n",
       "   * Handle when a new output is added\n",
       "   */\n",
       "  function handleAddOutput(event, handle) {\n",
       "    var output_area = handle.output_area;\n",
       "    var output = handle.output;\n",
       "\n",
       "    // limit handleAddOutput to display_data with EXEC_MIME_TYPE content only\n",
       "    if ((output.output_type != \"display_data\") || (!output.data.hasOwnProperty(EXEC_MIME_TYPE))) {\n",
       "      return\n",
       "    }\n",
       "\n",
       "    var toinsert = output_area.element.find(\".\" + CLASS_NAME.split(' ')[0]);\n",
       "\n",
       "    if (output.metadata[EXEC_MIME_TYPE][\"id\"] !== undefined) {\n",
       "      toinsert[toinsert.length - 1].firstChild.textContent = output.data[JS_MIME_TYPE];\n",
       "      // store reference to embed id on output_area\n",
       "      output_area._bokeh_element_id = output.metadata[EXEC_MIME_TYPE][\"id\"];\n",
       "    }\n",
       "    if (output.metadata[EXEC_MIME_TYPE][\"server_id\"] !== undefined) {\n",
       "      var bk_div = document.createElement(\"div\");\n",
       "      bk_div.innerHTML = output.data[HTML_MIME_TYPE];\n",
       "      var script_attrs = bk_div.children[0].attributes;\n",
       "      for (var i = 0; i < script_attrs.length; i++) {\n",
       "        toinsert[toinsert.length - 1].firstChild.setAttribute(script_attrs[i].name, script_attrs[i].value);\n",
       "      }\n",
       "      // store reference to server id on output_area\n",
       "      output_area._bokeh_server_id = output.metadata[EXEC_MIME_TYPE][\"server_id\"];\n",
       "    }\n",
       "  }\n",
       "\n",
       "  function register_renderer(events, OutputArea) {\n",
       "\n",
       "    function append_mime(data, metadata, element) {\n",
       "      // create a DOM node to render to\n",
       "      var toinsert = this.create_output_subarea(\n",
       "        metadata,\n",
       "        CLASS_NAME,\n",
       "        EXEC_MIME_TYPE\n",
       "      );\n",
       "      this.keyboard_manager.register_events(toinsert);\n",
       "      // Render to node\n",
       "      var props = {data: data, metadata: metadata[EXEC_MIME_TYPE]};\n",
       "      render(props, toinsert[toinsert.length - 1]);\n",
       "      element.append(toinsert);\n",
       "      return toinsert\n",
       "    }\n",
       "\n",
       "    /* Handle when an output is cleared or removed */\n",
       "    events.on('clear_output.CodeCell', handleClearOutput);\n",
       "    events.on('delete.Cell', handleClearOutput);\n",
       "\n",
       "    /* Handle when a new output is added */\n",
       "    events.on('output_added.OutputArea', handleAddOutput);\n",
       "\n",
       "    /**\n",
       "     * Register the mime type and append_mime function with output_area\n",
       "     */\n",
       "    OutputArea.prototype.register_mime_type(EXEC_MIME_TYPE, append_mime, {\n",
       "      /* Is output safe? */\n",
       "      safe: true,\n",
       "      /* Index of renderer in `output_area.display_order` */\n",
       "      index: 0\n",
       "    });\n",
       "  }\n",
       "\n",
       "  // register the mime type if in Jupyter Notebook environment and previously unregistered\n",
       "  if (root.Jupyter !== undefined) {\n",
       "    var events = require('base/js/events');\n",
       "    var OutputArea = require('notebook/js/outputarea').OutputArea;\n",
       "\n",
       "    if (OutputArea.prototype.mime_types().indexOf(EXEC_MIME_TYPE) == -1) {\n",
       "      register_renderer(events, OutputArea);\n",
       "    }\n",
       "  }\n",
       "\n",
       "  \n",
       "  if (typeof (root._bokeh_timeout) === \"undefined\" || force === true) {\n",
       "    root._bokeh_timeout = Date.now() + 5000;\n",
       "    root._bokeh_failed_load = false;\n",
       "  }\n",
       "\n",
       "  var NB_LOAD_WARNING = {'data': {'text/html':\n",
       "     \"<div style='background-color: #fdd'>\\n\"+\n",
       "     \"<p>\\n\"+\n",
       "     \"BokehJS does not appear to have successfully loaded. If loading BokehJS from CDN, this \\n\"+\n",
       "     \"may be due to a slow or bad network connection. Possible fixes:\\n\"+\n",
       "     \"</p>\\n\"+\n",
       "     \"<ul>\\n\"+\n",
       "     \"<li>re-rerun `output_notebook()` to attempt to load from CDN again, or</li>\\n\"+\n",
       "     \"<li>use INLINE resources instead, as so:</li>\\n\"+\n",
       "     \"</ul>\\n\"+\n",
       "     \"<code>\\n\"+\n",
       "     \"from bokeh.resources import INLINE\\n\"+\n",
       "     \"output_notebook(resources=INLINE)\\n\"+\n",
       "     \"</code>\\n\"+\n",
       "     \"</div>\"}};\n",
       "\n",
       "  function display_loaded() {\n",
       "    var el = document.getElementById(\"193f7725-690b-4133-aa6d-0c97bb290039\");\n",
       "    if (el != null) {\n",
       "      el.textContent = \"BokehJS is loading...\";\n",
       "    }\n",
       "    if (root.Bokeh !== undefined) {\n",
       "      if (el != null) {\n",
       "        el.textContent = \"BokehJS \" + root.Bokeh.version + \" successfully loaded.\";\n",
       "      }\n",
       "    } else if (Date.now() < root._bokeh_timeout) {\n",
       "      setTimeout(display_loaded, 100)\n",
       "    }\n",
       "  }\n",
       "\n",
       "\n",
       "  function run_callbacks() {\n",
       "    try {\n",
       "      root._bokeh_onload_callbacks.forEach(function(callback) { callback() });\n",
       "    }\n",
       "    finally {\n",
       "      delete root._bokeh_onload_callbacks\n",
       "    }\n",
       "    console.info(\"Bokeh: all callbacks have finished\");\n",
       "  }\n",
       "\n",
       "  function load_libs(js_urls, callback) {\n",
       "    root._bokeh_onload_callbacks.push(callback);\n",
       "    if (root._bokeh_is_loading > 0) {\n",
       "      console.log(\"Bokeh: BokehJS is being loaded, scheduling callback at\", now());\n",
       "      return null;\n",
       "    }\n",
       "    if (js_urls == null || js_urls.length === 0) {\n",
       "      run_callbacks();\n",
       "      return null;\n",
       "    }\n",
       "    console.log(\"Bokeh: BokehJS not loaded, scheduling load and callback at\", now());\n",
       "    root._bokeh_is_loading = js_urls.length;\n",
       "    for (var i = 0; i < js_urls.length; i++) {\n",
       "      var url = js_urls[i];\n",
       "      var s = document.createElement('script');\n",
       "      s.src = url;\n",
       "      s.async = false;\n",
       "      s.onreadystatechange = s.onload = function() {\n",
       "        root._bokeh_is_loading--;\n",
       "        if (root._bokeh_is_loading === 0) {\n",
       "          console.log(\"Bokeh: all BokehJS libraries loaded\");\n",
       "          run_callbacks()\n",
       "        }\n",
       "      };\n",
       "      s.onerror = function() {\n",
       "        console.warn(\"failed to load library \" + url);\n",
       "      };\n",
       "      console.log(\"Bokeh: injecting script tag for BokehJS library: \", url);\n",
       "      document.getElementsByTagName(\"head\")[0].appendChild(s);\n",
       "    }\n",
       "  };var element = document.getElementById(\"193f7725-690b-4133-aa6d-0c97bb290039\");\n",
       "  if (element == null) {\n",
       "    console.log(\"Bokeh: ERROR: autoload.js configured with elementid '193f7725-690b-4133-aa6d-0c97bb290039' but no matching script tag was found. \")\n",
       "    return false;\n",
       "  }\n",
       "\n",
       "  var js_urls = [\"https://cdn.pydata.org/bokeh/release/bokeh-0.12.15.min.js\", \"https://cdn.pydata.org/bokeh/release/bokeh-widgets-0.12.15.min.js\", \"https://cdn.pydata.org/bokeh/release/bokeh-tables-0.12.15.min.js\", \"https://cdn.pydata.org/bokeh/release/bokeh-gl-0.12.15.min.js\"];\n",
       "\n",
       "  var inline_js = [\n",
       "    function(Bokeh) {\n",
       "      Bokeh.set_log_level(\"info\");\n",
       "    },\n",
       "    \n",
       "    function(Bokeh) {\n",
       "      \n",
       "    },\n",
       "    function(Bokeh) {\n",
       "      console.log(\"Bokeh: injecting CSS: https://cdn.pydata.org/bokeh/release/bokeh-0.12.15.min.css\");\n",
       "      Bokeh.embed.inject_css(\"https://cdn.pydata.org/bokeh/release/bokeh-0.12.15.min.css\");\n",
       "      console.log(\"Bokeh: injecting CSS: https://cdn.pydata.org/bokeh/release/bokeh-widgets-0.12.15.min.css\");\n",
       "      Bokeh.embed.inject_css(\"https://cdn.pydata.org/bokeh/release/bokeh-widgets-0.12.15.min.css\");\n",
       "      console.log(\"Bokeh: injecting CSS: https://cdn.pydata.org/bokeh/release/bokeh-tables-0.12.15.min.css\");\n",
       "      Bokeh.embed.inject_css(\"https://cdn.pydata.org/bokeh/release/bokeh-tables-0.12.15.min.css\");\n",
       "    }\n",
       "  ];\n",
       "\n",
       "  function run_inline_js() {\n",
       "    \n",
       "    if ((root.Bokeh !== undefined) || (force === true)) {\n",
       "      for (var i = 0; i < inline_js.length; i++) {\n",
       "        inline_js[i].call(root, root.Bokeh);\n",
       "      }if (force === true) {\n",
       "        display_loaded();\n",
       "      }} else if (Date.now() < root._bokeh_timeout) {\n",
       "      setTimeout(run_inline_js, 100);\n",
       "    } else if (!root._bokeh_failed_load) {\n",
       "      console.log(\"Bokeh: BokehJS failed to load within specified timeout.\");\n",
       "      root._bokeh_failed_load = true;\n",
       "    } else if (force !== true) {\n",
       "      var cell = $(document.getElementById(\"193f7725-690b-4133-aa6d-0c97bb290039\")).parents('.cell').data().cell;\n",
       "      cell.output_area.append_execute_result(NB_LOAD_WARNING)\n",
       "    }\n",
       "\n",
       "  }\n",
       "\n",
       "  if (root._bokeh_is_loading === 0) {\n",
       "    console.log(\"Bokeh: BokehJS loaded, going straight to plotting\");\n",
       "    run_inline_js();\n",
       "  } else {\n",
       "    load_libs(js_urls, function() {\n",
       "      console.log(\"Bokeh: BokehJS plotting callback run at\", now());\n",
       "      run_inline_js();\n",
       "    });\n",
       "  }\n",
       "}(window));"
      ],
      "application/vnd.bokehjs_load.v0+json": "\n(function(root) {\n  function now() {\n    return new Date();\n  }\n\n  var force = true;\n\n  if (typeof (root._bokeh_onload_callbacks) === \"undefined\" || force === true) {\n    root._bokeh_onload_callbacks = [];\n    root._bokeh_is_loading = undefined;\n  }\n\n  \n\n  \n  if (typeof (root._bokeh_timeout) === \"undefined\" || force === true) {\n    root._bokeh_timeout = Date.now() + 5000;\n    root._bokeh_failed_load = false;\n  }\n\n  var NB_LOAD_WARNING = {'data': {'text/html':\n     \"<div style='background-color: #fdd'>\\n\"+\n     \"<p>\\n\"+\n     \"BokehJS does not appear to have successfully loaded. If loading BokehJS from CDN, this \\n\"+\n     \"may be due to a slow or bad network connection. Possible fixes:\\n\"+\n     \"</p>\\n\"+\n     \"<ul>\\n\"+\n     \"<li>re-rerun `output_notebook()` to attempt to load from CDN again, or</li>\\n\"+\n     \"<li>use INLINE resources instead, as so:</li>\\n\"+\n     \"</ul>\\n\"+\n     \"<code>\\n\"+\n     \"from bokeh.resources import INLINE\\n\"+\n     \"output_notebook(resources=INLINE)\\n\"+\n     \"</code>\\n\"+\n     \"</div>\"}};\n\n  function display_loaded() {\n    var el = document.getElementById(\"193f7725-690b-4133-aa6d-0c97bb290039\");\n    if (el != null) {\n      el.textContent = \"BokehJS is loading...\";\n    }\n    if (root.Bokeh !== undefined) {\n      if (el != null) {\n        el.textContent = \"BokehJS \" + root.Bokeh.version + \" successfully loaded.\";\n      }\n    } else if (Date.now() < root._bokeh_timeout) {\n      setTimeout(display_loaded, 100)\n    }\n  }\n\n\n  function run_callbacks() {\n    try {\n      root._bokeh_onload_callbacks.forEach(function(callback) { callback() });\n    }\n    finally {\n      delete root._bokeh_onload_callbacks\n    }\n    console.info(\"Bokeh: all callbacks have finished\");\n  }\n\n  function load_libs(js_urls, callback) {\n    root._bokeh_onload_callbacks.push(callback);\n    if (root._bokeh_is_loading > 0) {\n      console.log(\"Bokeh: BokehJS is being loaded, scheduling callback at\", now());\n      return null;\n    }\n    if (js_urls == null || js_urls.length === 0) {\n      run_callbacks();\n      return null;\n    }\n    console.log(\"Bokeh: BokehJS not loaded, scheduling load and callback at\", now());\n    root._bokeh_is_loading = js_urls.length;\n    for (var i = 0; i < js_urls.length; i++) {\n      var url = js_urls[i];\n      var s = document.createElement('script');\n      s.src = url;\n      s.async = false;\n      s.onreadystatechange = s.onload = function() {\n        root._bokeh_is_loading--;\n        if (root._bokeh_is_loading === 0) {\n          console.log(\"Bokeh: all BokehJS libraries loaded\");\n          run_callbacks()\n        }\n      };\n      s.onerror = function() {\n        console.warn(\"failed to load library \" + url);\n      };\n      console.log(\"Bokeh: injecting script tag for BokehJS library: \", url);\n      document.getElementsByTagName(\"head\")[0].appendChild(s);\n    }\n  };var element = document.getElementById(\"193f7725-690b-4133-aa6d-0c97bb290039\");\n  if (element == null) {\n    console.log(\"Bokeh: ERROR: autoload.js configured with elementid '193f7725-690b-4133-aa6d-0c97bb290039' but no matching script tag was found. \")\n    return false;\n  }\n\n  var js_urls = [\"https://cdn.pydata.org/bokeh/release/bokeh-0.12.15.min.js\", \"https://cdn.pydata.org/bokeh/release/bokeh-widgets-0.12.15.min.js\", \"https://cdn.pydata.org/bokeh/release/bokeh-tables-0.12.15.min.js\", \"https://cdn.pydata.org/bokeh/release/bokeh-gl-0.12.15.min.js\"];\n\n  var inline_js = [\n    function(Bokeh) {\n      Bokeh.set_log_level(\"info\");\n    },\n    \n    function(Bokeh) {\n      \n    },\n    function(Bokeh) {\n      console.log(\"Bokeh: injecting CSS: https://cdn.pydata.org/bokeh/release/bokeh-0.12.15.min.css\");\n      Bokeh.embed.inject_css(\"https://cdn.pydata.org/bokeh/release/bokeh-0.12.15.min.css\");\n      console.log(\"Bokeh: injecting CSS: https://cdn.pydata.org/bokeh/release/bokeh-widgets-0.12.15.min.css\");\n      Bokeh.embed.inject_css(\"https://cdn.pydata.org/bokeh/release/bokeh-widgets-0.12.15.min.css\");\n      console.log(\"Bokeh: injecting CSS: https://cdn.pydata.org/bokeh/release/bokeh-tables-0.12.15.min.css\");\n      Bokeh.embed.inject_css(\"https://cdn.pydata.org/bokeh/release/bokeh-tables-0.12.15.min.css\");\n    }\n  ];\n\n  function run_inline_js() {\n    \n    if ((root.Bokeh !== undefined) || (force === true)) {\n      for (var i = 0; i < inline_js.length; i++) {\n        inline_js[i].call(root, root.Bokeh);\n      }if (force === true) {\n        display_loaded();\n      }} else if (Date.now() < root._bokeh_timeout) {\n      setTimeout(run_inline_js, 100);\n    } else if (!root._bokeh_failed_load) {\n      console.log(\"Bokeh: BokehJS failed to load within specified timeout.\");\n      root._bokeh_failed_load = true;\n    } else if (force !== true) {\n      var cell = $(document.getElementById(\"193f7725-690b-4133-aa6d-0c97bb290039\")).parents('.cell').data().cell;\n      cell.output_area.append_execute_result(NB_LOAD_WARNING)\n    }\n\n  }\n\n  if (root._bokeh_is_loading === 0) {\n    console.log(\"Bokeh: BokehJS loaded, going straight to plotting\");\n    run_inline_js();\n  } else {\n    load_libs(js_urls, function() {\n      console.log(\"Bokeh: BokehJS plotting callback run at\", now());\n      run_inline_js();\n    });\n  }\n}(window));"
     },
     "metadata": {},
     "output_type": "display_data"
    },
    {
     "data": {
      "text/plain": [
       "256"
      ]
     },
     "execution_count": 1,
     "metadata": {},
     "output_type": "execute_result"
    }
   ],
   "source": [
    "\n",
    "from bokeh.plotting import figure, output_file, show, ColumnDataSource\n",
    "from bokeh.models import HoverTool\n",
    "from bokeh.plotting import figure, output_file, show\n",
    "%matplotlib inline\n",
    "from bokeh.plotting import show, output_notebook\n",
    "from bokeh.models import ColumnDataSource, OpenURL, TapTool\n",
    "import os\n",
    "output_notebook()\n",
    "os.system('jupyter trust Visualisation_search_terms_reading_levelGS.ipynb')"
   ]
  },
  {
   "cell_type": "code",
   "execution_count": 5,
   "metadata": {},
   "outputs": [
    {
     "name": "stdout",
     "output_type": "stream",
     "text": [
      "Report: \n",
      "did it work? True was it better True\n",
      "the difference between brute force candidates model parameters and the GA's model parameters:\n",
      "-0.3827336193252499 0.105 0.487733619325 a\n",
      "the relative distance scaled by the length of the parameter dimension of interest:\n",
      "0.405009120979\n",
      "the difference between brute force candidates model parameters and the GA's model parameters:\n",
      "1.0285800799798892 -73.3333333333 -74.3619134133 vr\n",
      "the relative distance scaled by the length of the parameter dimension of interest:\n",
      "0.0146940011426\n",
      "[0.0344708064056678, 0.9999985361245523]\n",
      "[0.0344708064056678, 0.9999985361245523]\n",
      "the difference between brute force candidates model parameters and the GA's model parameters:\n",
      "-0.3827336193252499 0.105 0.487733619325 a\n",
      "the relative distance scaled by the length of the parameter dimension of interest:\n",
      "0.405009120979\n",
      "the difference between brute force candidates model parameters and the GA's model parameters:\n",
      "1.0285800799798892 -73.3333333333 -74.3619134133 vr\n",
      "the relative distance scaled by the length of the parameter dimension of interest:\n",
      "0.0146940011426\n",
      "[0.0344708064056678, 0.9999985361245523]\n",
      "[0.0344708064056678, 0.9999985361245523]\n"
     ]
    },
    {
     "data": {
      "text/plain": [
       "<Figure size 432x288 with 0 Axes>"
      ]
     },
     "metadata": {},
     "output_type": "display_data"
    },
    {
     "data": {
      "image/png": "[encoded data removed]",
      "text/plain": [
       "<Figure size 432x288 with 1 Axes>"
      ]
     },
     "metadata": {},
     "output_type": "display_data"
    },
    {
     "data": {
      "image/png": "[encoded data removed]",
      "text/plain": [
       "<Figure size 432x288 with 2 Axes>"
      ]
     },
     "metadata": {},
     "output_type": "display_data"
    },
    {
     "data": {
      "image/png": "[encoded data removed]",
      "text/plain": [
       "<Figure size 432x288 with 2 Axes>"
      ]
     },
     "metadata": {},
     "output_type": "display_data"
    },
    {
     "data": {
      "image/png": "[encoded data removed]",
      "text/plain": [
       "<Figure size 432x288 with 2 Axes>"
      ]
     },
     "metadata": {},
     "output_type": "display_data"
    },
    {
     "data": {
      "image/png": "[encoded data removed]",
      "text/plain": [
       "<Figure size 432x288 with 2 Axes>"
      ]
     },
     "metadata": {},
     "output_type": "display_data"
    },
    {
     "data": {
      "image/png": "[encoded data removed]",
      "text/plain": [
       "<Figure size 432x288 with 2 Axes>"
      ]
     },
     "metadata": {},
     "output_type": "display_data"
    },
    {
     "data": {
      "image/png": "[encoded data removed]",
      "text/plain": [
       "<Figure size 432x288 with 2 Axes>"
      ]
     },
     "metadata": {},
     "output_type": "display_data"
    },
    {
     "data": {
      "image/png": "[encoded data removed]",
      "text/plain": [
       "<Figure size 432x288 with 2 Axes>"
      ]
     },
     "metadata": {},
     "output_type": "display_data"
    },
    {
     "data": {
      "image/png": "[encoded data removed]",
      "text/plain": [
       "<Figure size 432x288 with 2 Axes>"
      ]
     },
     "metadata": {},
     "output_type": "display_data"
    },
    {
     "data": {
      "image/png": "[encoded data removed]",
      "text/plain": [
       "<Figure size 432x288 with 2 Axes>"
      ]
     },
     "metadata": {},
     "output_type": "display_data"
    },
    {
     "data": {
      "image/png": "[encoded data removed]",
      "text/plain": [
       "<Figure size 432x288 with 2 Axes>"
      ]
     },
     "metadata": {},
     "output_type": "display_data"
    },
    {
     "data": {
      "image/png": "[encoded data removed]",
      "text/plain": [
       "<Figure size 432x288 with 2 Axes>"
      ]
     },
     "metadata": {},
     "output_type": "display_data"
    },
    {
     "data": {
      "image/png": "[encoded data removed]",
      "text/plain": [
       "<Figure size 432x288 with 2 Axes>"
      ]
     },
     "metadata": {},
     "output_type": "display_data"
    },
    {
     "data": {
      "image/png": "[encoded data removed]",
      "text/plain": [
       "<Figure size 432x288 with 2 Axes>"
      ]
     },
     "metadata": {},
     "output_type": "display_data"
    },
    {
     "data": {
      "image/png": "[encoded data removed]",
      "text/plain": [
       "<Figure size 432x288 with 2 Axes>"
      ]
     },
     "metadata": {},
     "output_type": "display_data"
    }
   ],
   "source": [
    "import pickle\n",
    "\n",
    "\n",
    "import matplotlib.pyplot as plt\n",
    "import seaborn as sns\n",
    "import pandas as pd\n",
    "import numpy as np\n",
    "import math as math\n",
    "from pylab import rcParams\n",
    "from neuronunit.optimization.results_analysis import make_report\n",
    "\n",
    "with open('pre_ga_reports.p','rb') as f:\n",
    "    package = pickle.load(f)\n",
    "pop = package[0]\n",
    "history = package[4]\n",
    "genes_vs_gen =  package[6]\n",
    "#for p in genes_vs_gen:\n",
    " #   print(p)\n",
    "with open('pre_grid_reports.p','rb') as f:\n",
    "    [grid_results,nparams] = pickle.load(f)\n",
    "    \n",
    "new_report = make_report(grid_results,pop, nparams)\n",
    "\n",
    "\n",
    "\n",
    "with open('pre_ga_reports.p','rb') as f:\n",
    "    package = pickle.load(f)\n",
    "\n",
    "plt.clf()\n",
    "fig, ax = plt.subplots(1)\n",
    "\n",
    "zz = [ np.sum(list(i.dtc.scores.values())) for i in grid_results]\n",
    "yy = [ i.dtc.attrs['vr'] for i in grid_results]\n",
    "xx = [ i.dtc.attrs['a'] for i in grid_results]\n",
    "from neuronunit.optimization import exhaustive_search\n",
    "gen_vs_pop = package[6]    \n",
    "for i, pop in enumerate(gen_vs_pop):        \n",
    "    other_points = []\n",
    "    labels = []\n",
    "    for p in pop:\n",
    "        xy = []\n",
    "        for k,v in p.dtc.attrs.items():\n",
    "            xy.append(v)\n",
    "            labels.append(k)\n",
    "        other_points.append(xy)\n",
    "        #print(other_points)\n",
    "\n",
    "    \n",
    "    zi, yi, xi = np.histogram2d(yy, xx, bins=(10,10), weights=zz, normed=False)\n",
    "    counts, _, _ = np.histogram2d(yy, xx, bins=(10,10))\n",
    "\n",
    "    zi = zi / counts\n",
    "    zi = np.ma.masked_invalid(zi)\n",
    "\n",
    "    fig, ax = plt.subplots()\n",
    "    \n",
    "    scat = ax.pcolormesh(xi, yi, zi, edgecolors='black')\n",
    "    \n",
    "    fig.colorbar(scat)\n",
    "    ax.margins(0.05)\n",
    "    #scat = ax.plot(other_points[0], other_points[1])#, c=z, s=200)\n",
    "    for xy in other_points:\n",
    "        #print(xy)\n",
    "        ax.plot(xy[0], xy[1],'ro') \n",
    "    #fig.colorbar(scat)\n",
    "    ax.margins(0.05)\n",
    "    plt.xlabel(labels[0])\n",
    "    plt.ylabel(labels[1])\n",
    "    plt.savefig(str('movie2')+str(i)+str('.png'))\n",
    "    plt.show()\n"
   ]
  },
  {
   "cell_type": "markdown",
   "metadata": {},
   "source": [
    "# Progress Report and Documentation\n"
   ]
  },
  {
   "cell_type": "markdown",
   "metadata": {},
   "source": [
    "What I have been working on. \n",
    "1. Updating Docker-stacks dockerfile build instructions in order to make a HPC ready Dockerbuild.\n",
    "2. Updating the aforementioned stack, in order to perform regular maintance and to fix build problems due to \n",
    "updates of upstream software sources.\n",
    "3. Debugging and visualisation of the BluePyOpt GA algorithm.\n"
   ]
  },
  {
   "cell_type": "markdown",
   "metadata": {},
   "source": [
    "## Other work\n",
    "1.  The people at BluePyOpt (Werner) agreed to make a scidash branch, they want me to make use extensibility and inheritence. Such that my scidash derivation of BluePyOpt inherits from and extends as much as possible the parent class of their elitist branch at BPO.\n"
   ]
  },
  {
   "cell_type": "markdown",
   "metadata": {},
   "source": [
    "## Resolving Docker Build issues. \n",
    "\n",
    "* Issue 1 Upgrading pip to pip10, breaks NU installation.\n",
    "Work around: re-write setup.py to exclude problems associated with process dependency links.\n",
    "\n",
    "    \n",
    "* Issue 2   \n",
    "Developing in BPO and NU simultaneously requires a dockerfile at to build from a location at one location down in the directory hierarchy: There is a need to install both packages using the pip -e paradigm (file changes during session at developer locations, effect modules that are in sys.path):\n",
    "** ADD neuronunit neuronunit\n",
    "** ADD BluePyOpt BluePyOpt\n",
    "To this end scidash opt was created.\n",
    "https://github.com/russelljjarvis/scidashopt\n"
   ]
  },
  {
   "cell_type": "code",
   "execution_count": null,
   "metadata": {},
   "outputs": [],
   "source": [
    "\n",
    "\n",
    "\n"
   ]
  },
  {
   "cell_type": "markdown",
   "metadata": {},
   "source": []
  },
  {
   "cell_type": "markdown",
   "metadata": {},
   "source": []
  },
  {
   "cell_type": "code",
   "execution_count": null,
   "metadata": {},
   "outputs": [],
   "source": [
    "from sklearn.grid_search import ParameterGrid\n",
    "#dir()"
   ]
  },
  {
   "cell_type": "code",
   "execution_count": null,
   "metadata": {},
   "outputs": [],
   "source": [
    "import bokeh\n",
    "import numpy as np\n",
    "import matplotlib"
   ]
  },
  {
   "cell_type": "markdown",
   "metadata": {},
   "source": []
  },
  {
   "cell_type": "code",
   "execution_count": null,
   "metadata": {},
   "outputs": [],
   "source": [
    "\n",
    "\n",
    "from neuronunit.optimization.optimization_management import run_ga\n",
    "from neuronunit.optimization.exhaustive_search import run_grid, reduce_params, create_grid\n",
    "from neuronunit.optimization.model_parameters import model_params\n",
    "import os\n",
    "import pickle\n",
    "from neuronunit.optimization import get_neab\n",
    "reports = {}\n",
    "npoints = 10\n",
    "\n",
    "\n",
    "\n",
    "with open('pre_grid_reports.p','rb') as f:\n",
    "    packageg = pickle.load(f)\n",
    "grid_results = packageg[0]   \n",
    "opt_keys = list(grid_results[0].dtc.attrs.keys())\n",
    "\n",
    "with open('pre_ga_reports.p','rb') as f:\n",
    "    ga_out = pickle.load(f)\n",
    "\n"
   ]
  },
  {
   "cell_type": "code",
   "execution_count": null,
   "metadata": {},
   "outputs": [],
   "source": [
    "\n",
    "from neuronunit.optimization.exhaustive_search import create_grid\n",
    "gp = create_grid(npoints = 10,nparams = 2)\n",
    "\n",
    "    "
   ]
  },
  {
   "cell_type": "markdown",
   "metadata": {},
   "source": [
    "\n",
    "# Found tough parameters for which the GA is not able to perform particularily # well. Suspect b's error surface is not concave.\n",
    "# Explore 1D cross section.\n"
   ]
  },
  {
   "cell_type": "code",
   "execution_count": null,
   "metadata": {},
   "outputs": [],
   "source": []
  },
  {
   "cell_type": "code",
   "execution_count": null,
   "metadata": {},
   "outputs": [],
   "source": []
  },
  {
   "cell_type": "code",
   "execution_count": null,
   "metadata": {},
   "outputs": [],
   "source": [
    "\n"
   ]
  },
  {
   "cell_type": "code",
   "execution_count": null,
   "metadata": {},
   "outputs": [],
   "source": [
    "\n"
   ]
  },
  {
   "cell_type": "code",
   "execution_count": null,
   "metadata": {},
   "outputs": [],
   "source": []
  },
  {
   "cell_type": "code",
   "execution_count": null,
   "metadata": {},
   "outputs": [],
   "source": [
    "\n",
    "plt.clf()\n",
    "\n",
    "plt.scatter([g.dtc.attrs['a'] for g in pop ],[ sum(g.dtc.scores.values()) for g in pop ] ,label='ga pop')\n",
    "plt.scatter([g.dtc.attrs['a'] for g in grid_results ],[ sum(g.dtc.scores.values()) for g in grid_results ] ,label='grid labels')\n",
    "plt.ylabel('score')\n",
    "plt.xlabel('gene attribute a')\n",
    "plt.legend()\n",
    "plt.show()\n",
    "\n",
    "\n",
    "plt.scatter([g.dtc.attrs['vr'] for g in pop ],[ sum(g.dtc.scores.values()) for g in pop ] ,label='ga pop')\n",
    "plt.scatter([g.dtc.attrs['vr'] for g in grid_results ],[ sum(g.dtc.scores.values()) for g in grid_results ] ,label='grid labels')\n",
    "plt.ylabel('score')\n",
    "plt.xlabel('gene attribute vr')\n",
    "plt.legend()\n",
    "plt.show()\n",
    "\n"
   ]
  },
  {
   "cell_type": "code",
   "execution_count": null,
   "metadata": {},
   "outputs": [],
   "source": [
    "from neuronunit.optimization import exhaustive_search #import run_grid, reduce_params, create_grid\n",
    "\n",
    "from neuronunit.optimization.exhaustive_search import run_grid, reduce_params, create_grid\n",
    "grid_points,maps = exhaustive_search.create_grid(npoints=10,nparams=2,provided_keys=[str('vr'),str('a')])\n"
   ]
  },
  {
   "cell_type": "code",
   "execution_count": null,
   "metadata": {},
   "outputs": [],
   "source": [
    "grid = np.zeros((10,10))\n",
    "\n",
    "for i in grid_results:\n",
    "    xy = []\n",
    "    for k,v in i.dtc.attrs.items():\n",
    "        xy.append(maps[k][v])\n",
    "    grid[xy[0],xy[1]] = sum(i.dtc.scores.values())\n",
    "\n",
    "\n",
    "from pylab import figure, cm\n",
    "from matplotlib.colors import LogNorm\n"
   ]
  },
  {
   "cell_type": "code",
   "execution_count": null,
   "metadata": {},
   "outputs": [],
   "source": []
  },
  {
   "cell_type": "code",
   "execution_count": null,
   "metadata": {},
   "outputs": [],
   "source": []
  },
  {
   "cell_type": "code",
   "execution_count": null,
   "metadata": {},
   "outputs": [],
   "source": [
    "genes_vs_gen = ga_out[-0]\n",
    "\n",
    "\n",
    "\n"
   ]
  },
  {
   "cell_type": "code",
   "execution_count": null,
   "metadata": {},
   "outputs": [],
   "source": [
    "new_list = genes_vs_gen[1:-0]\n",
    "print(new_list)"
   ]
  },
  {
   "cell_type": "markdown",
   "metadata": {},
   "source": [
    "#![alt text](rick_style_guide.png \"Ricks table guide\")"
   ]
  },
  {
   "cell_type": "markdown",
   "metadata": {},
   "source": [
    "# Vr, and a\n",
    "Why are the scores only for vt?\n",
    "why does one of the parameters not matter in the grid but it does matter in the GA?"
   ]
  },
  {
   "cell_type": "code",
   "execution_count": null,
   "metadata": {},
   "outputs": [],
   "source": [
    "#history = ga_out[4]\n",
    "#print(dir(history))\n",
    "#print(history.genealogy_index)\n",
    "#print(history.genealogy_tree)\n",
    "#print(history.genealogy_history)#\n",
    "\n",
    "#print(history.genealogy_history[1].dtc.attrs)\n",
    "\n"
   ]
  },
  {
   "cell_type": "code",
   "execution_count": null,
   "metadata": {},
   "outputs": [],
   "source": [
    "attrs_ = [ list(p.dtc.attrs.keys()) for i,p in history.genealogy_history.items() ]\n",
    "attrs = attrs_[0]\n",
    "print(attrs)\n",
    "\n",
    "scores_ = [ list(p.dtc.scores.keys()) for i,p in history.genealogy_history.items() ]\n",
    "scores = scores_[0]\n",
    "from collections import OrderedDict\n",
    "\n",
    "urlDats = []\n",
    "hi = [ (i,p) for i,p in history.genealogy_history.items() ]\n",
    "sc = [ (i,p) for i,p in enumerate(grid_results) ]\n",
    "#print(hi)\n",
    "\n",
    "def history_iter(mapped):\n",
    "    i,p = mapped\n",
    "    urlDat = OrderedDict()\n",
    "    urlDat['gene_number'] = i\n",
    "    \n",
    "    #attrs_ = [ \n",
    "    attrs = list(p.dtc.attrs.keys()) # for i,p in history.genealogy_history.items() ]\n",
    "    scores = list(p.dtc.scores.keys()) # for i,p in history.genealogy_history.items() ]\n",
    "    #scores = scores_[0]\n",
    "    for a in attrs:\n",
    "        urlDat[a] = p.dtc.attrs[a]    \n",
    "    scores0 = scores[0]\n",
    "    for s in scores:\n",
    "        urlDat[s] = p.dtc.scores[s]\n",
    "    urlDat[str('total')] = sum(p.dtc.scores.values())\n",
    "    for k,v in p.dtc.score.items():\n",
    "        #for value in :\n",
    "        urlDat[str(k)+str('sort_key')] = v['value'] #p.dtc.score['value']\n",
    "\n",
    "    return urlDat\n",
    "    \n",
    "def process_dics(urlDats):\n",
    "    dfs = []\n",
    "    for urlDat in urlDats:\n",
    "        # pandas Data frames are best data container for maths/stats, but steep learning curve.\n",
    "        # Other exclusion criteria. Exclude reading levels above grade 100,\n",
    "        # as this is most likely a problem with the metric algorithm, and or rubbish data in.\n",
    "        # TODO: speed everything up, by performing exclusion criteri above not here.\n",
    "        if len(dfs) == 0:\n",
    "            dfs = pd.DataFrame(pd.Series(urlDat)).T\n",
    "        dfs = pd.concat([ dfs, pd.DataFrame(pd.Series(urlDat)).T ])\n",
    "    return dfs\n",
    "\n",
    "genes = list(map(history_iter,hi))    \n",
    "print(urlDats)\n",
    "dfg = process_dics(genes)\n",
    "\n",
    "grids = list(map(history_iter,sc))    \n",
    "dfs = process_dics(grids)\n",
    "\n",
    "dfg"
   ]
  },
  {
   "cell_type": "code",
   "execution_count": null,
   "metadata": {},
   "outputs": [],
   "source": [
    "dfg"
   ]
  },
  {
   "cell_type": "code",
   "execution_count": null,
   "metadata": {},
   "outputs": [],
   "source": [
    "\n",
    "\n",
    "with open('pre_ga_reports.p','rb') as f:\n",
    "    package = pickle.load(f)\n",
    "log = package[3]    \n",
    "%matplotlib inline\n",
    "import matplotlib.pyplot as plt\n",
    "import numpy as np\n",
    "\n",
    "plt.style.use('ggplot')\n",
    "fig, axes = plt.subplots(figsize=(10, 10), facecolor='white')\n",
    "#log = package[3]\n",
    "gen_numbers = [ i for i in range(0,len(log.select('gen'))) ]\n",
    "\n",
    "mean = np.array([ np.sum(i) for i in log.select('avg')])\n",
    "std = np.array([ np.sum(i) for i in log.select('std')])\n",
    "minimum = np.array([ np.sum(i) for i in log.select('min')])\n",
    "\n",
    "stdminus = mean - std\n",
    "stdplus = mean + std\n",
    "\n",
    "axes.plot(\n",
    "    gen_numbers,\n",
    "    mean,\n",
    "    color='black',\n",
    "    linewidth=2,\n",
    "    label='population average')\n",
    "\n",
    "axes.plot(\n",
    "    gen_numbers,\n",
    "    minimum,\n",
    "    color='black',\n",
    "    linewidth=2,\n",
    "    label='population minimum')\n",
    "axes.fill_between(gen_numbers, stdminus, stdplus)\n",
    "\n",
    "plt.xlabel('generation')\n",
    "plt.ylabel('error')\n",
    "\n",
    "\n",
    "plt.legend()\n",
    "plt.show()"
   ]
  },
  {
   "cell_type": "code",
   "execution_count": null,
   "metadata": {},
   "outputs": [],
   "source": [
    "\n",
    "with open('pre_ga_reports.p','rb') as f:\n",
    "    package = pickle.load(f)\n",
    "\n",
    "import pdb    \n",
    "filtered = package[0][3]    \n",
    "\n",
    "print(len(package))\n",
    "print(package[0][-1])\n",
    "print(package[0][-1])\n",
    "#print(filtered)\n",
    "#for gen in filtered[1:-1]:\n",
    "    #print(f['nevals'])\n",
    "#    pop = [g.dtc.scores for g in gen['nevals'] ]\n",
    "#    print(pop)\n",
    "    "
   ]
  },
  {
   "cell_type": "code",
   "execution_count": null,
   "metadata": {},
   "outputs": [],
   "source": []
  },
  {
   "cell_type": "code",
   "execution_count": null,
   "metadata": {},
   "outputs": [],
   "source": [
    "\n",
    " "
   ]
  },
  {
   "cell_type": "code",
   "execution_count": null,
   "metadata": {},
   "outputs": [],
   "source": [
    "plt.clf()\n",
    "fig, ax = plt.subplots(1)\n",
    "\n",
    "zz = [ np.sum(list(i.dtc.scores.values())) for i in grid_results]\n",
    "yy = [ i.dtc.attrs['vr'] for i in grid_results]\n",
    "xx = [ i.dtc.attrs['a'] for i in grid_results]\n",
    "from neuronunit.optimization import exhaustive_search\n",
    "\n",
    "\n",
    "pop = package[0]\n",
    "history = package[4]\n",
    "genes_vs_gen =  package[-6]\n",
    "print(genes_vs_gen[1])\n",
    "#gen_versus_pop = ga_out[-6]\n",
    "\n",
    "for i,p in history.genealogy_history.items():    \n",
    "\n",
    "    \n",
    "    other_points = []\n",
    "    labels = []\n",
    "    #xy = []\n",
    "    for k,v in p.dtc.attrs.items():\n",
    "        labels.append(k)\n",
    "        #xy.append()\n",
    "        other_points.append(v)\n",
    "        \n",
    "    print(other_points)    \n",
    "        \n",
    "    #grid = exhaustive_search.make_grid(xx,yy,zz)\n",
    "    #x,y,z = exhaustive_search.remap_point(xx,yy,zz,other_points)\n",
    "    \n",
    "    \n",
    "    zi, yi, xi = np.histogram2d(yy, xx, bins=(10,10), weights=zz, normed=False)\n",
    "    counts, _, _ = np.histogram2d(yy, xx, bins=(10,10))\n",
    "\n",
    "    zi = zi / counts\n",
    "    zi = np.ma.masked_invalid(zi)\n",
    "\n",
    "    fig, ax = plt.subplots()\n",
    "    \n",
    "    scat = ax.pcolormesh(xi, yi, zi, edgecolors='black')\n",
    "    \n",
    "    fig.colorbar(scat)\n",
    "    ax.margins(0.05)\n",
    "    #scat = ax.plot(other_points[0], other_points[1])#, c=z, s=200)\n",
    "    for p in other_points:\n",
    "        ax.plot(other_points[0], other_points[1],'ro') \n",
    "    #fig.colorbar(scat)\n",
    "    ax.margins(0.05)\n",
    "    plt.xlabel(labels[0])\n",
    "    plt.ylabel(labels[1])\n",
    "    plt.savefig(str('movie_2_')+str(i)+str('.png'))\n",
    "    #plt.show()\n"
   ]
  },
  {
   "cell_type": "code",
   "execution_count": null,
   "metadata": {},
   "outputs": [],
   "source": [
    "# !sudo apt-get install gifsicle ffmpeg"
   ]
  },
  {
   "cell_type": "code",
   "execution_count": null,
   "metadata": {},
   "outputs": [],
   "source": [
    "# !convert -delay 0.5 -loop 0 movie*.png gene-evolution.gif\n",
    "# !gifsicle --delay=1 --loop movie*.png > anim.gif\n",
    "#genes_vs_"
   ]
  },
  {
   "cell_type": "code",
   "execution_count": null,
   "metadata": {},
   "outputs": [],
   "source": [
    "matrices = log\n"
   ]
  },
  {
   "cell_type": "code",
   "execution_count": null,
   "metadata": {},
   "outputs": [],
   "source": []
  },
  {
   "cell_type": "code",
   "execution_count": null,
   "metadata": {},
   "outputs": [],
   "source": []
  },
  {
   "cell_type": "code",
   "execution_count": null,
   "metadata": {},
   "outputs": [],
   "source": [
    "\n",
    "nparams = 1\n",
    "import numpy as np\n",
    "import matplotlib\n",
    "matplotlib.use('Agg')\n",
    "\n",
    "import matplotlib.pyplot as plt\n",
    "import seaborn as sns\n",
    "import pandas as pd\n",
    "import numpy as np\n",
    "import math as math\n",
    "from pylab import rcParams\n",
    "from neuronunit.optimization import exhaustive_search\n",
    "from neuronunit.optimization.exhaustive_search import run_grid\n",
    "\n",
    "reports = {}\n",
    "npoints = 10\n",
    "\n",
    "nparams = 1\n",
    "\n",
    "ga_out = run_ga(model_params,nparams)\n",
    "grid_results = run_grid(npoints,nparams)\n",
    "\n",
    "plt.clf()\n",
    "plt.scatter(grid_results,[ sum(g.dtc.scores.values()) for g in grid_results ] )\n",
    "plt.show()\n",
    "\n",
    "miniga = min_max(ga_out[0])[0][1]\n",
    "\n",
    "plt.clf()\n",
    "plt.scatter(ga_out[0],[ sum(g.dtc.scores.values()) for g in ga_out[0] ] )\n",
    "plt.scatter(grid_results,[ sum(g.dtc.scores.values()) for g in grid_results ] )\n",
    "plt.scatter(miniga,int(len(grid_results)/2))\n",
    "plt.show()\n",
    "\n",
    "\n",
    "plt.clf()\n",
    "plt.scatter(ga_out[0],[ sum(g.dtc.score.values()) for g in ga_out[0] ] )\n",
    "plt.scatter(grid_results,[ sum(g.dtc.score.values()) for g in grid_results ] )\n",
    "plt.show()\n",
    "\n",
    "plt.clf()\n",
    "for j in [ list(g.dtc.scores.values()) for g in grid_results ]:\n",
    "    plt.scatter([i for i in range(0,len(j))] ,j)\n",
    "plt.show()\n"
   ]
  },
  {
   "cell_type": "code",
   "execution_count": null,
   "metadata": {},
   "outputs": [],
   "source": []
  },
  {
   "cell_type": "code",
   "execution_count": null,
   "metadata": {},
   "outputs": [],
   "source": [
    "'''\n",
    "garanked = [ (r.dtc.attrs , sum(r.dtc.scores.values())) for r in package[0] ]\n",
    "garanked = sorted(garanked, key=lambda w: w[1]) \n",
    "miniga = garanked[0][1]\n",
    "maxiga = garanked[-1][1]\n",
    "results\n",
    "'''"
   ]
  },
  {
   "cell_type": "code",
   "execution_count": null,
   "metadata": {},
   "outputs": [],
   "source": [
    "'''\n",
    "results[0]\n",
    "gridranked = [ (r.dtc.attrs , sum(r.dtc.scores.values())) for r in results[0] ]\n",
    "gridranked = sorted(ranked, key=lambda w: w[1]) \n",
    "mini = gridranked[0][1]\n",
    "maxi = gridranked[-1][1]\n",
    "\n",
    "\n",
    "print(mini,maxi)\n",
    "quantize_distance = list(np.linspace(mini,maxi,10))\n",
    "\n",
    "# check that the nsga error is in the bottom 1/5th of the entire error range.\n",
    "print('Report: ')\n",
    "print(\"Success\" if bool(miniga < quantize_distance[0]) else \"Failure\")\n",
    "print(\"The nsga error %f is in the bottom 1/5th of the entire error range\" % miniga)\n",
    "print(\"Minimum = %f; 20th percentile = %f; Maximum = %f\" % (mini,quantize_distance[0],maxi))\n",
    "'''"
   ]
  },
  {
   "cell_type": "code",
   "execution_count": null,
   "metadata": {},
   "outputs": [],
   "source": [
    "'''\n",
    "with open('all_ga_cell.p','rb') as f:\n",
    "   results = pickle.load(f)\n",
    "print(results[3])\n",
    "'''\n"
   ]
  },
  {
   "cell_type": "markdown",
   "metadata": {},
   "source": []
  },
  {
   "cell_type": "markdown",
   "metadata": {},
   "source": []
  },
  {
   "cell_type": "markdown",
   "metadata": {},
   "source": [
    "\n"
   ]
  },
  {
   "cell_type": "markdown",
   "metadata": {},
   "source": [
    "\n",
    "\n"
   ]
  },
  {
   "cell_type": "markdown",
   "metadata": {},
   "source": []
  },
  {
   "cell_type": "code",
   "execution_count": null,
   "metadata": {},
   "outputs": [],
   "source": []
  },
  {
   "cell_type": "code",
   "execution_count": null,
   "metadata": {},
   "outputs": [],
   "source": []
  },
  {
   "cell_type": "markdown",
   "metadata": {},
   "source": []
  },
  {
   "cell_type": "code",
   "execution_count": null,
   "metadata": {},
   "outputs": [],
   "source": []
  },
  {
   "cell_type": "code",
   "execution_count": null,
   "metadata": {},
   "outputs": [],
   "source": []
  },
  {
   "cell_type": "code",
   "execution_count": null,
   "metadata": {},
   "outputs": [],
   "source": [
    "\n",
    "\n",
    "import pandas as pd\n",
    "\n",
    "ga_out.header\n",
    "df = pd.DataFrame(index=ga_out.select(\"gen\"),columns = ga_out.header)\n",
    "ga_out.select\n",
    "print(ga_out.select(\"gen\"))\n",
    "df\n",
    "\n",
    "print(ga_out)\n",
    "seq = pd.Series(data=ga_out.select(\"gen\", \"nevals\", \"avg\",\"std\",\"min\"))\n",
    "print(seq)\n",
    "df2 = pd.DataFrame(data = seq)#,columns = ga_out.header)\n",
    "\n",
    "df2"
   ]
  },
  {
   "cell_type": "markdown",
   "metadata": {},
   "source": []
  },
  {
   "cell_type": "code",
   "execution_count": null,
   "metadata": {},
   "outputs": [],
   "source": [
    "import pandas as pd\n",
    "\n",
    "cell_names = list(pipe_results.keys())\n",
    "param_names = list(pipe_results[list(pipe_results.keys())[0]]['pop'][0].dtc.attrs.keys())\n",
    "df = pd.DataFrame(index=pipe_results.keys(),columns=param_names)"
   ]
  },
  {
   "cell_type": "code",
   "execution_count": null,
   "metadata": {},
   "outputs": [],
   "source": []
  },
  {
   "cell_type": "code",
   "execution_count": null,
   "metadata": {},
   "outputs": [],
   "source": [
    "import pandas as pd\n",
    "for index, val in enumerate(pipe_results.values()):\n",
    "    if index == 0:\n",
    "        sci = pd.DataFrame(list(val['pop'][0].dtc.scores.values())).T\n",
    "    else:    \n",
    "        sci = sci.append(pd.DataFrame(list(val['pop'][0].dtc.scores.values())).T)\n",
    "        \n",
    "sci"
   ]
  },
  {
   "cell_type": "code",
   "execution_count": null,
   "metadata": {},
   "outputs": [],
   "source": [
    "import pandas as pd\n",
    "for index, val in enumerate(pipe_results.values()):\n",
    "    if index == 0:\n",
    "        attrs = pd.DataFrame(list(val['pop'][0].dtc.attrs.values())).T\n",
    "    else:    \n",
    "        attrs = attrs.append(pd.DataFrame(list(val['pop'][0].dtc.attrs.values())).T)\n",
    "        \n",
    "attrs.columns = val['pop'][0].dtc.attrs.keys()    \n",
    "#print(attrs)\n",
    "attrs"
   ]
  },
  {
   "cell_type": "code",
   "execution_count": null,
   "metadata": {},
   "outputs": [],
   "source": [
    "import pandas as pd\n",
    "\n",
    "\n",
    "for index, val in enumerate(pipe_results.values()):\n",
    "    if index == 0:\n",
    "        #,columns=['Dice number','value'],index=[1,2,3,4])\n",
    "        rheobase = pd.DataFrame([i.dtc.rheobase for i in val['pop']]).T\n",
    "    else:    \n",
    "        rheobase = rheobase.append(pd.DataFrame([i.dtc.rheobase for i in val['pop']]).T)\n",
    "        \n",
    "rheobase\n",
    "\n",
    "names = [ str('generation: ')+str(i) for i in range(0,len(rheobase)) ]\n",
    "\n",
    "rheobase\n"
   ]
  },
  {
   "cell_type": "code",
   "execution_count": null,
   "metadata": {
    "scrolled": false
   },
   "outputs": [],
   "source": [
    "import matplotlib\n",
    "%matplotlib inline\n"
   ]
  },
  {
   "cell_type": "markdown",
   "metadata": {},
   "source": [
    "################\n",
    "# GA parameters:\n",
    "about $10^{3}=30$ models will be made, excluding rheobase search.\n",
    "################\n",
    "\n",
    "\n",
    "# Choice of selection criteria is important. \n",
    "Here we use BluepyOpts IBEA, such that it can be compared to NSGA2.\n",
    "\n",
    "https://link.springer.com/article/10.1007/s00500-005-0027-5\n",
    "\n",
    "\n"
   ]
  },
  {
   "cell_type": "code",
   "execution_count": null,
   "metadata": {},
   "outputs": [],
   "source": [
    "MU = 6; NGEN = 6; CXPB = 0.9\n",
    "USE_CACHED_GA = False"
   ]
  },
  {
   "cell_type": "markdown",
   "metadata": {},
   "source": [
    "################\n",
    "# Grid search parameters:\n",
    "$ 2^{10}=1024 $ models, will be made excluding rheobase search\n",
    "################"
   ]
  },
  {
   "cell_type": "markdown",
   "metadata": {},
   "source": [
    "An oppurtunity to improve grid search, by increasing resolution of search intervals given a first pass:"
   ]
  },
  {
   "cell_type": "code",
   "execution_count": null,
   "metadata": {},
   "outputs": [],
   "source": [
    "from neuronunit.plottools import plot_surface\n"
   ]
  },
  {
   "cell_type": "markdown",
   "metadata": {},
   "source": [
    "# Below two error surface slices from the hypervolume are plotted.\n",
    "The data that is plotted consists of the error as experienced by the GA.\n",
    "Note: the GA performs an incomplete, and efficient sampling of the parameter space, and therefore sample points are irregularly spaced. Polygon interpolation is used to visualize error gradients. Existing plotting code from the package BluePyOpt has been extended for this purpose.\n",
    "Light blue dots indicate local minima's of error experienced by the NSGA algrorithm.\n",
    "\n",
    "\n",
    "Mostly these plots show that a low error solution was found in each 2D plane, however occasionally the plots show, that a non optimal solution was arrived at."
   ]
  },
  {
   "cell_type": "code",
   "execution_count": null,
   "metadata": {},
   "outputs": [],
   "source": [
    "for index, val in enumerate(pipe_results.values()):\n",
    "    td = val['td_py']\n",
    "    history = val['history']\n",
    "\n",
    "    plot_surface('a','b',td,history)"
   ]
  },
  {
   "cell_type": "code",
   "execution_count": null,
   "metadata": {},
   "outputs": [],
   "source": [
    "\n",
    "for index, val in enumerate(pipe_results.values()):\n",
    "    td = val['td_py']\n",
    "    history = val['history']\n",
    "\n",
    "    plot_surface('v0','vt',td,history)\n",
    "    "
   ]
  },
  {
   "cell_type": "code",
   "execution_count": null,
   "metadata": {},
   "outputs": [],
   "source": [
    "list(pipe_results.keys())\n",
    "for k in pipe_results.keys():\n",
    "    print(pipe_results[k]['hranked'])\n",
    "pipe_results['100201']['hranked']"
   ]
  },
  {
   "cell_type": "markdown",
   "metadata": {},
   "source": [
    "I am currently writing code that should enable the plotting of HOF values versus generation."
   ]
  },
  {
   "cell_type": "code",
   "execution_count": null,
   "metadata": {},
   "outputs": [],
   "source": [
    "\n",
    "dtcs = list(filter(lambda d: hasattr(d,'dtc'), pipe_results['100201']['hranked']))\n",
    "dtcs = [d.dtc for d in dtcs ]\n",
    "fitness = list(filter(lambda f: hasattr(f,'fitness'), pipe_results['100201']['hranked']))\n",
    "fit_v_gen = [np.sum(f.fitness.values) for f in fitness ]\n",
    "\n",
    "fit_v_gen\n",
    "\n"
   ]
  },
  {
   "cell_type": "code",
   "execution_count": null,
   "metadata": {},
   "outputs": [],
   "source": [
    "\n",
    "print(pipe_results.keys())\n",
    "\n",
    "scores = list(filter(lambda dtc: hasattr(dtc,'score'), dtcs))\n",
    "\n",
    "print(scores)\n",
    "import pickle\n",
    "dominate\n",
    "with open('protected/dominated_by_rheobase.p','rb') as f:\n",
    "   pipe_results = pickle.load(f)\n",
    "%matplotlib inline\n",
    "import matplotlib.pyplot as plt\n",
    "import numpy as np\n",
    "\n",
    "plt.style.use('ggplot')\n",
    "fig, axes = plt.subplots(figsize=(10, 10), facecolor='white')\n",
    "val = list(pipe_results.values())[0]\n",
    "log = val['log']\n",
    "gen_numbers = [ i for i in range(0,len(log.select('gen'))) ]\n",
    "print(gen_numbers)\n",
    "\n",
    "\n",
    "hof = val['hof_py']\n",
    "mean = np.array([i for i in log.select('avg')])\n",
    "std = np.array([ i for i in log.select('std')])\n",
    "minimum = np.array([ i for i in log.select('min')])\n",
    "best_line = [None,None]\n",
    "best_line +=val['hranked']\n",
    "\n",
    "\n",
    "stdminus = mean - std\n",
    "stdplus = mean + std\n",
    "\n",
    "axes.plot(\n",
    "    gen_numbers,\n",
    "    mean,\n",
    "    color='black',\n",
    "    linewidth=2,\n",
    "    label='population average')\n",
    "\n",
    "\n",
    "axes.plot(\n",
    "    gen_numbers,\n",
    "    best_line,\n",
    "    color='black',\n",
    "    linewidth=2,\n",
    "    label='population average')\n",
    "\n",
    "\n",
    "\n",
    "\n",
    "axes.plot(\n",
    "    gen_numbers,\n",
    "    minimum,\n",
    "    color='black',\n",
    "    linewidth=2,\n",
    "    label='population minimum')\n",
    "axes.fill_between(gen_numbers, stdminus, stdplus)\n",
    "    \n",
    "   "
   ]
  },
  {
   "cell_type": "markdown",
   "metadata": {},
   "source": [
    "For some reason the global minimum solution is not converged on, as shown by the evolution of errors below:"
   ]
  },
  {
   "cell_type": "code",
   "execution_count": null,
   "metadata": {},
   "outputs": [],
   "source": []
  },
  {
   "cell_type": "code",
   "execution_count": null,
   "metadata": {},
   "outputs": [],
   "source": [
    "\n",
    "best_line = None\n",
    " \n",
    "for k in pipe_results.keys():\n",
    "    fig, axes = plt.subplots(figsize=(10, 10), facecolor='white')\n",
    "\n",
    "    historiesc = [list(h.dtc.scores.values()) for h in pipe_results[k]['history'].genealogy_history.values() ]\n",
    "\n",
    "    historiest = [(sum(h.dtc.scores.values()),h.dtc) for h in pipe_results[k]['history'].genealogy_history.values() ]\n",
    "    ranked = sorted(historiest, key=lambda w: w[0],reverse = True) \n",
    "    pipe_results[k]['abs_min'] = ranked[0][1]\n",
    "    \n",
    "    historiess = [sum(h.dtc.scores.values()) for h in pipe_results[k]['history'].genealogy_history.values() ]\n",
    "    min_line = np.min(historiess)    \n",
    "    axes.plot([i for i in range(0,len(historiess)) ],\n",
    "        historiess,\n",
    "        color='black',\n",
    "        linewidth=2,\n",
    "        label='population average')\n",
    "    \n",
    "\n",
    "    axes.plot(\n",
    "        [i for i in range(0, len(historiess)) ],\n",
    "        [min_line for i in range(0, len(historiess)) ],\n",
    "        color='black',\n",
    "        linewidth=2,\n",
    "        label='population average')\n",
    "\n",
    "\n"
   ]
  },
  {
   "cell_type": "markdown",
   "metadata": {},
   "source": [
    "For some reason, the GA population does not converge to the absolute minimum, although it does sample it.\n",
    "Perhaps the absolute minimum is a highly dominated solution, which is a testable hypthosis.\n",
    "\n",
    "None the less because the GA samples the absolute minimum, this value can be corroborated with the GA."
   ]
  },
  {
   "cell_type": "markdown",
   "metadata": {},
   "source": [
    "\n",
    "\n",
    "\n",
    "print(pipe_results[k]['abs_min'].scores)\n",
    "print(sum(pipe_results[k]['abs_min'].scores.values()))\n",
    "\n",
    "print(pipe_results[k]['abs_min'].attrs)"
   ]
  },
  {
   "cell_type": "code",
   "execution_count": null,
   "metadata": {},
   "outputs": [],
   "source": [
    "plt.style.use('ggplot')\n",
    "fig, axes = plt.subplots(figsize=(10, 10), facecolor='white')\n",
    "val = list(pipe_results.values())[1]\n",
    "log = val['log']\n",
    "hof = val['hof_py']\n",
    "mean = np.array([ np.sum(i) for i in log.select('avg')])\n",
    "std = np.array([ np.sum(i) for i in log.select('std')])\n",
    "gen_numbers = [ i for i in range(0,len(log.select('gen'))) ]\n",
    "\n",
    "\n",
    "print(len(mean),len(std))\n",
    "minimum = np.array([ np.sqrt(np.mean(np.square(i))) for i in log.select('min')])\n",
    "\n",
    "historiess = [sum(h.dtc.scores.values()) for h in pipe_results[k]['history'].genealogy_history.values() ]\n",
    "min_value = np.min(historiess)    \n",
    "\n",
    "\n",
    "stdminus = mean - std\n",
    "stdplus = mean + std\n",
    "print\n",
    "\n",
    "\n",
    "axes.plot(\n",
    "    gen_numbers,\n",
    "    mean,\n",
    "    color='black',\n",
    "    linewidth=2,\n",
    "    label='population mean')\n",
    "\n",
    "\n",
    "\n",
    "axes.fill_between(gen_numbers, stdminus, stdplus,label='+- std deviation')\n",
    "plt.xlabel('generation')\n",
    "plt.ylabel('error')\n",
    "\n",
    "\n",
    "plt.legend()"
   ]
  },
  {
   "cell_type": "markdown",
   "metadata": {},
   "source": [
    "\n",
    "\n",
    "\n"
   ]
  },
  {
   "cell_type": "code",
   "execution_count": null,
   "metadata": {},
   "outputs": [],
   "source": [
    "best_line = None\n",
    "for k in pipe_results.keys():\n",
    "    plt.style.use('ggplot')\n",
    "    fig, axes = plt.subplots(figsize=(10, 10), facecolor='white')\n",
    "    val = pipe_results[k]\n",
    "    log = val['log']\n",
    "    gen_numbers = [ i for i in range(0,len(log.select('gen'))) ]\n",
    "    historiess = [sum(h.dtc.scores.values()) for h in pipe_results[k]['history'].genealogy_history.values() ]\n",
    "    min_value = np.min(historiess)  \n",
    "    \n",
    "\n",
    "    axes.plot([i for i in range(0,len(pipe_results[k]['componentsh'] )) ],\n",
    "        pipe_results[k]['componentsh'] ,\n",
    "        linewidth=2,\n",
    "        label='population average')\n",
    "    \n",
    "\n",
    "    axes.plot(\n",
    "        [i for i in range(0,len(pipe_results[k]['componentsh'] )) ],\n",
    "        [min_value for i in range(0,len(pipe_results[k]['componentsh'] ))  ],\n",
    "        color='black',\n",
    "        linewidth=2,\n",
    "        label='population average')\n",
    "    \n",
    "    for i in pipe_results[k]['componentsh']:\n",
    "        print(sum(i),min_value)\n",
    "        if sum(i) == min_value:\n",
    "            print('yes')\n",
    "\n",
    "    \n",
    "\n",
    "\n"
   ]
  },
  {
   "cell_type": "code",
   "execution_count": null,
   "metadata": {},
   "outputs": [],
   "source": [
    "##\n",
    "# Rational, want to find out how dominated the best solution is:\n",
    "##\n",
    "best_line = None\n",
    "for k in pipe_results.keys():\n",
    "    plt.style.use('ggplot')\n",
    "    fig, axes = plt.subplots(figsize=(10, 10), facecolor='white')\n",
    "    val = pipe_results[k]\n",
    "    log = val['log']\n",
    "    \n",
    "    historiest = [(sum(h.dtc.scores.values()),h.dtc) for h in pipe_results[k]['history'].genealogy_history.values() ]\n",
    "    ranked = sorted(historiest, key=lambda w: w[0],reverse = True) \n",
    "    pipe_results[k]['abs_min'] = ranked[0][1]\n",
    "    min_value = ranked[0][0]\n",
    "    \n",
    "    axis = [ i for i in range(0,len(ranked[0][1].scores.values())) ]\n",
    "    plt.bar(axis,list(ranked[0][1].scores.values()),tick_label=list(ranked[0][1].scores.keys()))\n",
    "    fig.autofmt_xdate()\n",
    "    plt.title('neuroelectro_cell_{0}_{1}'.format(str(k),str('solution components')))\n",
    "    plt.legend('left')\n",
    "\n",
    "\n",
    "            \n",
    "            \n",
    "            "
   ]
  },
  {
   "cell_type": "code",
   "execution_count": null,
   "metadata": {},
   "outputs": [],
   "source": [
    "for index, val in enumerate(pipe_results.values()):\n",
    "\n",
    "    print(val['gen_vs_hof'])"
   ]
  },
  {
   "cell_type": "code",
   "execution_count": null,
   "metadata": {},
   "outputs": [],
   "source": []
  },
  {
   "cell_type": "markdown",
   "metadata": {},
   "source": [
    "# Comment on plot\n",
    "The plot shows the mean error value of the population as the GA evolves it's population. The red interval at any instant is the standard deviation of the error. The fact that the mean GA error is able to have a net upwards trajectory, after experiencing a temporary downwards trajectory, demonstrates that the GA retains a drive to explore, and is resiliant against being stuck in a local minima. Also in the above plot population variance in error stays remarkably constant, in this way BluePyOpts selection criteria SELIBEA contrasts with DEAPs native selection strategy NSGA2"
   ]
  },
  {
   "cell_type": "code",
   "execution_count": null,
   "metadata": {},
   "outputs": [],
   "source": []
  },
  {
   "cell_type": "code",
   "execution_count": null,
   "metadata": {},
   "outputs": [],
   "source": []
  },
  {
   "cell_type": "code",
   "execution_count": null,
   "metadata": {},
   "outputs": [],
   "source": []
  },
  {
   "cell_type": "code",
   "execution_count": null,
   "metadata": {},
   "outputs": [],
   "source": []
  },
  {
   "cell_type": "code",
   "execution_count": null,
   "metadata": {},
   "outputs": [],
   "source": [
    "\n"
   ]
  },
  {
   "cell_type": "code",
   "execution_count": null,
   "metadata": {},
   "outputs": [],
   "source": []
  },
  {
   "cell_type": "markdown",
   "metadata": {},
   "source": [
    "# Comment on plot\n",
    "There is good agreement between traces produced by the best candidate found by Genetic Algorithm, and exhaustive grid search."
   ]
  },
  {
   "cell_type": "code",
   "execution_count": null,
   "metadata": {},
   "outputs": [],
   "source": []
  },
  {
   "cell_type": "markdown",
   "metadata": {},
   "source": [
    "# Quantize distance between minimimum error and maximum error.\n",
    "This step will allow the GA's performance to be located within or below the range of error found by grid search.\n"
   ]
  },
  {
   "cell_type": "code",
   "execution_count": null,
   "metadata": {},
   "outputs": [],
   "source": []
  },
  {
   "cell_type": "markdown",
   "metadata": {},
   "source": [
    "The code below reports on the differences between between attributes of best models found via grid versus attributes of best models found via GA search:\n"
   ]
  },
  {
   "cell_type": "code",
   "execution_count": null,
   "metadata": {},
   "outputs": [],
   "source": [
    "'''\n",
    "import pandas as pd\n",
    "\n",
    "from neuronunit.optimization import evaluate_as_module as eam\n",
    "NSGAO = NSGA(0.85)\n",
    "NSGAO.setnparams(nparams=nparams,provided_keys=provided_keys)\n",
    "#td = eam.get_trans_dict(NSGAO.subset)\n",
    "#print(td)\n",
    "td = { v:k for k,v in enumerate(td) }\n",
    "from neuronunit.optimization import model_parameters as modelp\n",
    "mp = modelp.model_params\n",
    "#minimaga = pareto_dtc[0]\n",
    "for k,v in minimagr_dtc.attrs.items():\n",
    "    #hvgrid = np.linspace(np.min(mp[k]),np.max(mp[k]),10)\n",
    "    dimension_length = np.max(mp[k]) - np.min(mp[k])\n",
    "    solution_distance_in_1D = np.abs(float(hof[0][td[k]]))-np.abs(float(v))\n",
    "        \n",
    "    #solution_distance_in_1D = np.abs(float(minimaga.attrs[k]))-np.abs(float(v))\n",
    "    relative_distance = dimension_length/solution_distance_in_1D\n",
    "    print('the difference between brute force candidates model parameters and the GA\\'s model parameters:')\n",
    "    print(float(hof[0][td[k]])-float(v),hof[0][td[k]],v,k)\n",
    "    print('the relative distance scaled by the length of the parameter dimension of interest:')\n",
    "    print(relative_distance)\n",
    "\n",
    "'''   \n",
    "    "
   ]
  },
  {
   "cell_type": "code",
   "execution_count": null,
   "metadata": {},
   "outputs": [],
   "source": [
    "\n",
    "print('the difference between the bf error and the GA\\'s error:')\n",
    "print('grid search:')\n",
    "from numpy import square, mean, sqrt\n",
    "rmsg = sqrt(mean(square(list(minimagr_dtc.scores.values()))))\n",
    "print(rmsg)\n",
    "print('ga:')\n",
    "rmsga = sqrt(mean(square(list(dtc_pop[0].scores.values()))))\n",
    "print(rmsga)\n",
    "print('Hall of Fame front')\n",
    "print(sqrt(mean(square(list(hof[0].fitness.values)))))\n",
    "print(miniga)\n"
   ]
  },
  {
   "cell_type": "markdown",
   "metadata": {},
   "source": [
    "If any time is left over, may as well compute a more accurate grid, to better quantify GA performance in the future."
   ]
  },
  {
   "cell_type": "code",
   "execution_count": null,
   "metadata": {},
   "outputs": [],
   "source": []
  },
  {
   "cell_type": "code",
   "execution_count": null,
   "metadata": {},
   "outputs": [],
   "source": [
    "from neuronunit.optimization import get_neab\n",
    "#fi_basket = {'nlex_id':'NLXCELL:100201'}\n",
    "neuron = {'nlex_id': 'nifext_50'} \n",
    "\n",
    "error_criterion, inh_observations = get_neab.get_neuron_criteria(fi_basket)\n",
    "print(error_criterion)\n",
    "\n",
    "from bluepyopt.deapext.optimisations import DEAPOptimisation\n",
    "\n",
    "DO = DEAPOptimisation(error_criterion=error_criterion)\n",
    "DO.setnparams(nparams = nparams, provided_keys = provided_keys)\n",
    "pop, hof, log, history, td, gen_vs_hof = DO.run(offspring_size = MU, max_ngen = NGEN, cp_frequency=4,cp_filename='checkpointedGA.p')\n",
    "with open('ga_dump.p','wb') as f:\n",
    "   pickle.dump([pop, log, history, hof, td],f)"
   ]
  },
  {
   "cell_type": "code",
   "execution_count": null,
   "metadata": {},
   "outputs": [],
   "source": [
    "# Layer V pyramidal cell\n"
   ]
  },
  {
   "cell_type": "code",
   "execution_count": null,
   "metadata": {},
   "outputs": [],
   "source": []
  },
  {
   "cell_type": "code",
   "execution_count": null,
   "metadata": {},
   "outputs": [],
   "source": []
  },
  {
   "cell_type": "code",
   "execution_count": null,
   "metadata": {},
   "outputs": [],
   "source": []
  },
  {
   "cell_type": "code",
   "execution_count": null,
   "metadata": {},
   "outputs": [],
   "source": []
  },
  {
   "cell_type": "code",
   "execution_count": null,
   "metadata": {},
   "outputs": [],
   "source": []
  },
  {
   "cell_type": "code",
   "execution_count": null,
   "metadata": {},
   "outputs": [],
   "source": []
  },
  {
   "cell_type": "code",
   "execution_count": null,
   "metadata": {},
   "outputs": [],
   "source": []
  },
  {
   "cell_type": "code",
   "execution_count": null,
   "metadata": {},
   "outputs": [],
   "source": []
  },
  {
   "cell_type": "code",
   "execution_count": null,
   "metadata": {},
   "outputs": [],
   "source": []
  }
 ],
 "metadata": {
  "kernelspec": {
   "display_name": "Python 3",
   "language": "python",
   "name": "python3"
  },
  "language_info": {
   "codemirror_mode": {
    "name": "ipython",
    "version": 3
   },
   "file_extension": ".py",
   "mimetype": "text/x-python",
   "name": "python",
   "nbconvert_exporter": "python",
   "pygments_lexer": "ipython3",
   "version": "3.6.4"
  }
 },
 "nbformat": 4,
 "nbformat_minor": 2
}
