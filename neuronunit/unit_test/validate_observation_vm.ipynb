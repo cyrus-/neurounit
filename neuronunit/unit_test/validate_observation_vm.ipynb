{
 "cells": [
  {
   "cell_type": "code",
   "execution_count": 1,
   "metadata": {},
   "outputs": [],
   "source": [
    "import quantities as pq\n",
    "import sciunit\n",
    "from sciunit.errors import ObservationError"
   ]
  },
  {
   "cell_type": "code",
   "execution_count": 2,
   "metadata": {},
   "outputs": [],
   "source": [
    "from neuronunit.tests import APWidthTest"
   ]
  },
  {
   "cell_type": "code",
   "execution_count": 3,
   "metadata": {},
   "outputs": [
    {
     "name": "stdout",
     "output_type": "stream",
     "text": [
      "{'observation': ['none or more than one rule validate', {'oneof definition 1': [{'sem': ['required field'], 'n': ['required field']}], 'oneof definition 0': [{'sd': ['required field']}]}]}\n"
     ]
    }
   ],
   "source": [
    "try:\n",
    "    APWidthTest({'mean':3.2*pq.ms}) # Note missing `std` key\n",
    "except ObservationError as e:\n",
    "    print(e)"
   ]
  },
  {
   "cell_type": "code",
   "execution_count": 4,
   "metadata": {},
   "outputs": [
    {
     "name": "stdout",
     "output_type": "stream",
     "text": [
      "{'observation': ['none or more than one rule validate', {'oneof definition 1': [{'sd': ['unknown field'], 'n': ['required field'], 'sem': ['required field']}], 'oneof definition 0': [{'sd': [\"Must have units of 'millisecond'\"]}]}]}\n"
     ]
    }
   ],
   "source": [
    "try:\n",
    "    APWidthTest({'mean':3.2*pq.ms, 'std':1.4*pq.V}) # Note wrong units\n",
    "except ObservationError as e:\n",
    "    print(e)"
   ]
  },
  {
   "cell_type": "code",
   "execution_count": 5,
   "metadata": {},
   "outputs": [
    {
     "name": "stdout",
     "output_type": "stream",
     "text": [
      "{'observation': ['none or more than one rule validate', {'oneof definition 1': [{'sd': ['unknown field'], 'n': ['required field']}], 'oneof definition 0': [{'sem': ['unknown field']}]}]}\n"
     ]
    }
   ],
   "source": [
    "try:\n",
    "    APWidthTest({'mean':3.2*pq.ms, 'std':1.4*pq.ms, 'sem':0.7*pq.ms}) # Note mutually exclusive `std` and `sem` keys\n",
    "except ObservationError as e:\n",
    "    print(e)"
   ]
  },
  {
   "cell_type": "code",
   "execution_count": 6,
   "metadata": {},
   "outputs": [
    {
     "data": {
      "text/plain": [
       "<neuronunit.tests.waveform.APWidthTest at 0x10e76a898>"
      ]
     },
     "execution_count": 6,
     "metadata": {},
     "output_type": "execute_result"
    }
   ],
   "source": [
    "APWidthTest({'mean':3.2*pq.ms, 'std':1.4*pq.ms}) # Should validate"
   ]
  }
 ],
 "metadata": {
  "kernelspec": {
   "display_name": "Python 3",
   "language": "python",
   "name": "python3"
  },
  "language_info": {
   "codemirror_mode": {
    "name": "ipython",
    "version": 3
   },
   "file_extension": ".py",
   "mimetype": "text/x-python",
   "name": "python",
   "nbconvert_exporter": "python",
   "pygments_lexer": "ipython3",
   "version": "3.5.2"
  }
 },
 "nbformat": 4,
 "nbformat_minor": 2
}
