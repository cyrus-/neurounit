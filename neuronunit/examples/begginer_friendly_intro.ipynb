{
 "cells": [
  {
   "cell_type": "markdown",
   "metadata": {},
   "source": [
    "Assumptions, the environment for running this notebook was arrived at by building a dedicated docker file.\n",
    "\n",
    "https://cloud.docker.com/repository/registry-1.docker.io/russelljarvis/nuo\n",
    "\n",
    "You can run use dockerhub to get the appropriate file, and launch this notebook using Kitematic."
   ]
  },
  {
   "cell_type": "markdown",
   "metadata": {},
   "source": [
    "# Import libraries\n",
    "To keep the standard running version of minimal and memory efficient, not all available packages are loaded by default. In the cell below I import a mixture common python modules, and custom developed modules associated with NeuronUnit (NU) development"
   ]
  },
  {
   "cell_type": "code",
   "execution_count": 1,
   "metadata": {
    "collapsed": false
   },
   "outputs": [],
   "source": [
    "\n",
    "import numpy as np\n",
    "import os\n",
    "import pickle\n",
    "import pandas as pd\n",
    "from neuronunit.tests.fi import RheobaseTestP\n",
    "from neuronunit.optimization.model_parameters import reduced_dict, reduced_cells  \n",
    "from neuronunit.optimization import optimization_management as om\n",
    "from sciunit import scores# score_type \n",
    "\n",
    "from neuronunit.optimization.data_transport_container import DataTC\n",
    "from neuronunit.tests.fi import RheobaseTestP# as discovery\n",
    "from neuronunit.optimization.optimization_management import dtc_to_rheo, format_test, nunit_evaluation\n",
    "import quantities as pq\n",
    "from neuronunit.models.reduced import ReducedModel\n",
    "from neuronunit.optimization.model_parameters import model_params, path_params\n",
    "LEMS_MODEL_PATH = path_params['model_path']\n",
    "list_to_frame = []\n",
    "from neuronunit.tests.fi import RheobaseTestP"
   ]
  },
  {
   "cell_type": "markdown",
   "metadata": {
    "collapsed": false
   },
   "source": [
    "# The Izhiketich model is instanced using some well researched parameter sets.\n"
   ]
  },
  {
   "cell_type": "markdown",
   "metadata": {},
   "source": [
    "First lets get the points in parameter space, that Izhikich himself has published about. These points are used by other scientists and the [Open Source Brain project](http://opensourcebrain.org/projects/izhikevichmodel?explorer=https%3A%2F%2Fraw.githubusercontent.com%2FOpenSourceBrain%2FIzhikevichModel%2Fsample%2FosbSessions%2Fsample%2FSample_Session.json)  to establish between model reproducibility. The itial motivating factor for choosing these points as constellations, of all possible parameter space subsets, is that these points where initially tuned and used as best guesses for matching real observed experimental recordings."
   ]
  },
  {
   "cell_type": "code",
   "execution_count": 2,
   "metadata": {
    "collapsed": false
   },
   "outputs": [],
   "source": [
    "explore_param = {k:(np.min(v),np.max(v)) for k,v in reduced_dict.items()}"
   ]
  },
  {
   "cell_type": "markdown",
   "metadata": {
    "collapsed": false
   },
   "source": [
    "## Get the experimental Data pertaining to four different classes or neurons, that can constrain models.\n",
    "Next we get some electro physiology data for four different classes of cells that are very common targets of scientific neuronal modelling. We are interested in finding out what are the most minimal, and detail reduced, low complexity model equations, that are able to satisfy "
   ]
  },
  {
   "cell_type": "markdown",
   "metadata": {
    "collapsed": false
   },
   "source": [
    "Below are some of the data set ID's I used to query neuroelectro.\n",
    "To save time for the reader, I prepared some data earlier to save time, and saved the data as a pickle, pythons preferred serialisation format.\n",
    "\n",
    "The interested reader can find some methods for getting cell specific ephys data from neuroelectro in a code file (neuronunit/optimization/get_neab.py) \n"
   ]
  },
  {
   "cell_type": "code",
   "execution_count": 3,
   "metadata": {
    "collapsed": false
   },
   "outputs": [],
   "source": [
    "purkinje ={\"id\": 18, \"name\": \"Cerebellum Purkinje cell\", \"neuron_db_id\": 271, \"nlex_id\": \"sao471801888\"}\n",
    "fi_basket = {\"id\": 65, \"name\": \"Dentate gyrus basket cell\", \"neuron_db_id\": None, \"nlex_id\": \"nlx_cell_100201\"}\n",
    "pvis_cortex = {\"id\": 111, \"name\": \"Neocortex pyramidal cell layer 5-6\", \"neuron_db_id\": 265, \"nlex_id\": \"nifext_50\"}\n",
    "#This olfactory mitral cell does not have datum about rheobase, current injection values.\n",
    "olf_mitral = {\"id\": 129, \"name\": \"Olfactory bulb (main) mitral cell\", \"neuron_db_id\": 267, \"nlex_id\": \"nlx_anat_100201\"}\n",
    "ca1_pyr = {\"id\": 85, \"name\": \"Hippocampus CA1 pyramidal cell\", \"neuron_db_id\": 258, \"nlex_id\": \"sao830368389\"}\n",
    "pipe = [ fi_basket, ca1_pyr, purkinje,  pvis_cortex]"
   ]
  },
  {
   "cell_type": "code",
   "execution_count": 4,
   "metadata": {
    "collapsed": false
   },
   "outputs": [],
   "source": [
    "electro_tests = []\n",
    "obs_frame = {}\n",
    "test_frame = {}\n",
    "\n",
    "from neuronunit.optimization import get_neab\n",
    "try: \n",
    "\n",
    "    electro_path = str(os.getcwd())+'all_tests.p'\n",
    "\n",
    "    assert os.path.isfile(electro_path) == True\n",
    "    with open(electro_path,'rb') as f:\n",
    "        (obs_frame,test_frame) = pickle.load(f)\n",
    "\n",
    "except:\n",
    "    for p in pipe:\n",
    "        p_tests, p_observations = get_neab.get_neuron_criteria(p)\n",
    "        obs_frame[p[\"name\"]] = p_observations#, p_tests))\n",
    "        test_frame[p[\"name\"]] = p_tests#, p_tests))\n",
    "    electro_path = str(os.getcwd())+'all_tests.p'\n",
    "    with open(electro_path,'wb') as f:\n",
    "        pickle.dump((obs_frame,test_frame),f)"
   ]
  },
  {
   "cell_type": "markdown",
   "metadata": {},
   "source": [
    "# Cast the tabulatable data to pandas data frame\n",
    "There are many among us who prefer potentially tabulatable data to be encoded in pandas data frame."
   ]
  },
  {
   "cell_type": "code",
   "execution_count": 5,
   "metadata": {
    "collapsed": false,
    "scrolled": false
   },
   "outputs": [
    {
     "name": "stdout",
     "output_type": "stream",
     "text": [
      "dict_keys(['Dentate gyrus basket cell', 'Hippocampus CA1 pyramidal cell', 'Neocortex pyramidal cell layer 5-6', 'Cerebellum Purkinje cell'])\n"
     ]
    }
   ],
   "source": [
    "for k,v in test_frame.items():\n",
    "    if \"olf_mit\" not in k:\n",
    "        obs = obs_frame[k]\n",
    "        v[0] = RheobaseTestP(obs['Rheobase'])\n",
    "df = pd.DataFrame.from_dict(obs_frame)\n",
    "print(test_frame.keys())"
   ]
  },
  {
   "cell_type": "markdown",
   "metadata": {},
   "source": [
    "In the data frame below, you can see many different cell types"
   ]
  },
  {
   "cell_type": "code",
   "execution_count": 6,
   "metadata": {
    "collapsed": false
   },
   "outputs": [
    {
     "data": {
      "text/html": [
       "<div>\n",
       "<style scoped>\n",
       "    .dataframe tbody tr th:only-of-type {\n",
       "        vertical-align: middle;\n",
       "    }\n",
       "\n",
       "    .dataframe tbody tr th {\n",
       "        vertical-align: top;\n",
       "    }\n",
       "\n",
       "    .dataframe thead th {\n",
       "        text-align: right;\n",
       "    }\n",
       "</style>\n",
       "<table border=\"1\" class=\"dataframe\">\n",
       "  <thead>\n",
       "    <tr style=\"text-align: right;\">\n",
       "      <th></th>\n",
       "      <th>Cerebellum Purkinje cell</th>\n",
       "      <th>Dentate gyrus basket cell</th>\n",
       "      <th>Hippocampus CA1 pyramidal cell</th>\n",
       "      <th>Neocortex pyramidal cell layer 5-6</th>\n",
       "    </tr>\n",
       "  </thead>\n",
       "  <tbody>\n",
       "    <tr>\n",
       "      <th>Cell Capacitance</th>\n",
       "      <td>{'mean': 620.2725 pF, 'n': 4, 'std': 261.30303...</td>\n",
       "      <td>NaN</td>\n",
       "      <td>{'mean': 89.7960714285714 pF, 'n': 14, 'std': ...</td>\n",
       "      <td>{'mean': 150.584166666667 pF, 'n': 12, 'std': ...</td>\n",
       "    </tr>\n",
       "    <tr>\n",
       "      <th>Input Resistance</th>\n",
       "      <td>{'mean': 142.057692307692 Mohm, 'n': 13, 'std'...</td>\n",
       "      <td>{'mean': 222.475 Mohm, 'n': 4, 'std': 168.2911...</td>\n",
       "      <td>{'mean': 107.080327644332 Mohm, 'n': 113, 'std...</td>\n",
       "      <td>{'mean': 120.672073643411 Mohm, 'n': 86, 'std'...</td>\n",
       "    </tr>\n",
       "    <tr>\n",
       "      <th>Membrane Time Constant</th>\n",
       "      <td>NaN</td>\n",
       "      <td>{'mean': 13.25 ms, 'n': 2, 'std': 3.25 ms}</td>\n",
       "      <td>{'mean': 24.5021946169772 ms, 'n': 46, 'std': ...</td>\n",
       "      <td>{'mean': 15.7342424242424 ms, 'n': 33, 'std': ...</td>\n",
       "    </tr>\n",
       "    <tr>\n",
       "      <th>Resting membrane potential</th>\n",
       "      <td>{'mean': -61.5916666666667 mV, 'n': 6, 'std': ...</td>\n",
       "      <td>{'mean': -62.3 mV, 'n': 3, 'std': 4.0472212689...</td>\n",
       "      <td>{'mean': -65.2261863636364 mV, 'n': 110, 'std'...</td>\n",
       "      <td>{'mean': -68.2481434599156 mV, 'n': 79, 'std':...</td>\n",
       "    </tr>\n",
       "    <tr>\n",
       "      <th>Rheobase</th>\n",
       "      <td>{'mean': 680.794444444444 pA, 'n': 3, 'std': 4...</td>\n",
       "      <td>{'mean': 106.7 pA, 'n': 1, 'std': 0.0 pA}</td>\n",
       "      <td>{'mean': 189.24 pA, 'n': 17, 'std': 287.163664...</td>\n",
       "      <td>{'mean': 213.849583333333 pA, 'n': 32, 'std': ...</td>\n",
       "    </tr>\n",
       "    <tr>\n",
       "      <th>Spike Amplitude</th>\n",
       "      <td>{'mean': 71.2308333333333 mV, 'n': 6, 'std': 9...</td>\n",
       "      <td>{'mean': 78.6 mV, 'n': 2, 'std': 5.7 mV}</td>\n",
       "      <td>{'mean': 86.364525297619 mV, 'n': 64, 'std': 1...</td>\n",
       "      <td>{'mean': 80.4351020408164 mV, 'n': 49, 'std': ...</td>\n",
       "    </tr>\n",
       "    <tr>\n",
       "      <th>Spike Half-Width</th>\n",
       "      <td>{'mean': 0.41412962962963 ms, 'n': 9, 'std': 0...</td>\n",
       "      <td>{'mean': 0.9975 ms, 'n': 4, 'std': 0.442175021...</td>\n",
       "      <td>{'mean': 1.31895278450363 ms, 'n': 59, 'std': ...</td>\n",
       "      <td>{'mean': 1.20769387755102 ms, 'n': 49, 'std': ...</td>\n",
       "    </tr>\n",
       "    <tr>\n",
       "      <th>Spike Threshold</th>\n",
       "      <td>{'mean': -46.8947619047619 mV, 'n': 7, 'std': ...</td>\n",
       "      <td>{'mean': -38.4 mV, 'n': 2, 'std': 3.4 mV}</td>\n",
       "      <td>{'mean': -47.5985714285714 mV, 'n': 70, 'std':...</td>\n",
       "      <td>{'mean': -42.7357232704403 mV, 'n': 53, 'std':...</td>\n",
       "    </tr>\n",
       "  </tbody>\n",
       "</table>\n",
       "</div>"
      ],
      "text/plain": [
       "                                                     Cerebellum Purkinje cell  \\\n",
       "Cell Capacitance            {'mean': 620.2725 pF, 'n': 4, 'std': 261.30303...   \n",
       "Input Resistance            {'mean': 142.057692307692 Mohm, 'n': 13, 'std'...   \n",
       "Membrane Time Constant                                                    NaN   \n",
       "Resting membrane potential  {'mean': -61.5916666666667 mV, 'n': 6, 'std': ...   \n",
       "Rheobase                    {'mean': 680.794444444444 pA, 'n': 3, 'std': 4...   \n",
       "Spike Amplitude             {'mean': 71.2308333333333 mV, 'n': 6, 'std': 9...   \n",
       "Spike Half-Width            {'mean': 0.41412962962963 ms, 'n': 9, 'std': 0...   \n",
       "Spike Threshold             {'mean': -46.8947619047619 mV, 'n': 7, 'std': ...   \n",
       "\n",
       "                                                    Dentate gyrus basket cell  \\\n",
       "Cell Capacitance                                                          NaN   \n",
       "Input Resistance            {'mean': 222.475 Mohm, 'n': 4, 'std': 168.2911...   \n",
       "Membrane Time Constant             {'mean': 13.25 ms, 'n': 2, 'std': 3.25 ms}   \n",
       "Resting membrane potential  {'mean': -62.3 mV, 'n': 3, 'std': 4.0472212689...   \n",
       "Rheobase                            {'mean': 106.7 pA, 'n': 1, 'std': 0.0 pA}   \n",
       "Spike Amplitude                      {'mean': 78.6 mV, 'n': 2, 'std': 5.7 mV}   \n",
       "Spike Half-Width            {'mean': 0.9975 ms, 'n': 4, 'std': 0.442175021...   \n",
       "Spike Threshold                     {'mean': -38.4 mV, 'n': 2, 'std': 3.4 mV}   \n",
       "\n",
       "                                               Hippocampus CA1 pyramidal cell  \\\n",
       "Cell Capacitance            {'mean': 89.7960714285714 pF, 'n': 14, 'std': ...   \n",
       "Input Resistance            {'mean': 107.080327644332 Mohm, 'n': 113, 'std...   \n",
       "Membrane Time Constant      {'mean': 24.5021946169772 ms, 'n': 46, 'std': ...   \n",
       "Resting membrane potential  {'mean': -65.2261863636364 mV, 'n': 110, 'std'...   \n",
       "Rheobase                    {'mean': 189.24 pA, 'n': 17, 'std': 287.163664...   \n",
       "Spike Amplitude             {'mean': 86.364525297619 mV, 'n': 64, 'std': 1...   \n",
       "Spike Half-Width            {'mean': 1.31895278450363 ms, 'n': 59, 'std': ...   \n",
       "Spike Threshold             {'mean': -47.5985714285714 mV, 'n': 70, 'std':...   \n",
       "\n",
       "                                           Neocortex pyramidal cell layer 5-6  \n",
       "Cell Capacitance            {'mean': 150.584166666667 pF, 'n': 12, 'std': ...  \n",
       "Input Resistance            {'mean': 120.672073643411 Mohm, 'n': 86, 'std'...  \n",
       "Membrane Time Constant      {'mean': 15.7342424242424 ms, 'n': 33, 'std': ...  \n",
       "Resting membrane potential  {'mean': -68.2481434599156 mV, 'n': 79, 'std':...  \n",
       "Rheobase                    {'mean': 213.849583333333 pA, 'n': 32, 'std': ...  \n",
       "Spike Amplitude             {'mean': 80.4351020408164 mV, 'n': 49, 'std': ...  \n",
       "Spike Half-Width            {'mean': 1.20769387755102 ms, 'n': 49, 'std': ...  \n",
       "Spike Threshold             {'mean': -42.7357232704403 mV, 'n': 53, 'std':...  "
      ]
     },
     "execution_count": 6,
     "metadata": {},
     "output_type": "execute_result"
    }
   ],
   "source": [
    "df\n"
   ]
  },
  {
   "cell_type": "code",
   "execution_count": 7,
   "metadata": {
    "collapsed": false
   },
   "outputs": [
    {
     "data": {
      "text/plain": [
       "Cell Capacitance              {'mean': 89.7960714285714 pF, 'n': 14, 'std': ...\n",
       "Input Resistance              {'mean': 107.080327644332 Mohm, 'n': 113, 'std...\n",
       "Membrane Time Constant        {'mean': 24.5021946169772 ms, 'n': 46, 'std': ...\n",
       "Resting membrane potential    {'mean': -65.2261863636364 mV, 'n': 110, 'std'...\n",
       "Rheobase                      {'mean': 189.24 pA, 'n': 17, 'std': 287.163664...\n",
       "Spike Amplitude               {'mean': 86.364525297619 mV, 'n': 64, 'std': 1...\n",
       "Spike Half-Width              {'mean': 1.31895278450363 ms, 'n': 59, 'std': ...\n",
       "Spike Threshold               {'mean': -47.5985714285714 mV, 'n': 70, 'std':...\n",
       "Name: Hippocampus CA1 pyramidal cell, dtype: object"
      ]
     },
     "execution_count": 7,
     "metadata": {},
     "output_type": "execute_result"
    }
   ],
   "source": [
    "df['Hippocampus CA1 pyramidal cell']\n",
    "\n",
    "# enable R style caching.\n",
    "#!pip install git+https://github.com/rossant/ipycache\n",
    "#%load_ext ipycache"
   ]
  },
  {
   "cell_type": "markdown",
   "metadata": {},
   "source": [
    "# Tweak Izhikitich equations\n",
    "with educated guesses based on information that is already encoded in the predefined experimental observations.\n",
    "\n",
    "In otherwords use information that is readily amenable into hardcoding into equations \n",
    "\n",
    "Select out the 'Neocortex pyramidal cell layer 5-6' below, as a target for optimization"
   ]
  },
  {
   "cell_type": "code",
   "execution_count": 8,
   "metadata": {
    "collapsed": false,
    "scrolled": false
   },
   "outputs": [],
   "source": [
    "free_params = ['a','b','k','c','C','d','vPeak','vr']\n",
    "hc_ = reduced_cells['RS']\n",
    "hc_['vr'] = -65.2261863636364\n",
    "hc_['vPeak'] = hc_['vr'] + 86.364525297619\n",
    "explore_param['C'] = (hc_['C']-20,hc_['C']+20)\n",
    "explore_param['vr'] = (hc_['vr']-5,hc_['vr']+5)\n",
    "use_test = test_frame[\"Neocortex pyramidal cell layer 5-6\"]\n",
    "\n",
    "#for t in use_test[::-1]:\n",
    "#    t.score_type = scores.RatioScore\n",
    "test_opt = {}\n",
    "\n",
    "with open('data_dump.p','wb') as f:\n",
    "    pickle.dump(test_opt,f)"
   ]
  },
  {
   "cell_type": "code",
   "execution_count": 9,
   "metadata": {
    "collapsed": false
   },
   "outputs": [
    {
     "name": "stdout",
     "output_type": "stream",
     "text": [
      "RheobaseTestP\n",
      "{'mean': array(213.849583333333) * pA, 'n': 32, 'std': array(170.452454715608) * pA}\n"
     ]
    }
   ],
   "source": [
    "\n",
    "use_test[0].observation\n",
    "print(use_test[0].name)\n",
    "\n",
    "rtp = RheobaseTestP(use_test[0].observation)\n",
    "use_test[0] = rtp\n",
    "print(use_test[0].observation)"
   ]
  },
  {
   "cell_type": "code",
   "execution_count": null,
   "metadata": {
    "collapsed": false
   },
   "outputs": [],
   "source": []
  },
  {
   "cell_type": "code",
   "execution_count": 10,
   "metadata": {
    "collapsed": false
   },
   "outputs": [
    {
     "data": {
      "text/plain": [
       "dict_keys(['Dentate gyrus basket cell', 'Hippocampus CA1 pyramidal cell', 'Neocortex pyramidal cell layer 5-6', 'Cerebellum Purkinje cell'])"
      ]
     },
     "execution_count": 10,
     "metadata": {},
     "output_type": "execute_result"
    }
   ],
   "source": [
    "reduced_cells.keys()\n",
    "test_frame.keys()\n"
   ]
  },
  {
   "cell_type": "code",
   "execution_count": 12,
   "metadata": {
    "collapsed": false
   },
   "outputs": [
    {
     "name": "stdout",
     "output_type": "stream",
     "text": [
      "exceptional circumstances pickle file does not exist, rebuilding sparse grid for Izhikich\n"
     ]
    },
    {
     "name": "stderr",
     "output_type": "stream",
     "text": [
      "/opt/conda/lib/python3.5/site-packages/sciunit/scores/complete.py:68: RuntimeWarning: divide by zero encountered in true_divide\n",
      "  value = (p_value - o_mean)/o_std\n",
      "/home/jovyan/neuronunit/neuronunit/tests/passive.py:85: RuntimeWarning: overflow encountered in exp\n",
      "  vm_fit[offset:,0] = a * np.exp(-t[offset:]/b) + c\n",
      "/home/jovyan/neuronunit/neuronunit/tests/passive.py:85: RuntimeWarning: overflow encountered in multiply\n",
      "  vm_fit[offset:,0] = a * np.exp(-t[offset:]/b) + c\n"
     ]
    }
   ],
   "source": [
    "df = pd.DataFrame(index=list(test_frame.keys()),columns=list(reduced_cells.keys()))\n",
    "\n",
    "try:\n",
    "    assert 1==2\n",
    "    with open('Izh_seeds.p','rb') as f:\n",
    "        seeds = pickle.load(f)\n",
    "    #assert seeds is not None\n",
    "\n",
    "except:\n",
    "    print('exceptional circumstances pickle file does not exist, rebuilding sparse grid for Izhikich')\n",
    "    # Below we perform a sparse grid sampling over the parameter space, using the published and well corrobarated parameter points, from Izhikitch publications, and the Open Source brain, shows that without optimization, using off the shelf parameter sets to fit real-life biological cell data, does not work so well.\n",
    "\n",
    "    for k,v in reduced_cells.items():\n",
    "        temp = {}\n",
    "        temp[str(v)] = {}\n",
    "        dtc = DataTC()\n",
    "        dtc.tests = use_test\n",
    "        dtc.attrs = v\n",
    "        dtc.backend = 'RAW'\n",
    "        dtc.cell_name = 'vanilla'\n",
    "        for key, use_test in test_frame.items():\n",
    "            dtc.tests = use_test\n",
    "            dtc = dtc_to_rheo(dtc)\n",
    "            dtc = format_test(dtc)\n",
    "            if dtc.rheobase is not None:\n",
    "                if dtc.rheobase!=-1.0:\n",
    "                    dtc = nunit_evaluation(dtc)\n",
    "            df[k][str(key)] = dtc.get_ss()\n",
    "\n",
    "    best_params = {}\n",
    "    for index, row in df.iterrows():\n",
    "        best_params[index] = row == row.min()\n",
    "        best_params[index] = best_params[index].to_dict()\n",
    "\n",
    "\n",
    "    seeds = {}\n",
    "    for k,v in best_params.items():\n",
    "        for nested_key,nested_val in v.items():\n",
    "            if True == nested_val:\n",
    "                seed = reduced_cells[nested_key]\n",
    "                seeds[k] = seed\n",
    "    with open('Izh_seeds.p','wb') as f:\n",
    "        pickle.dump(seeds,f)\n",
    "\n",
    "\n"
   ]
  },
  {
   "cell_type": "markdown",
   "metadata": {},
   "source": [
    "A sparse grid sampling over the parameter space, using the published and well corrobarated parameter points, from Izhikitch publications, and the Open Source brain, shows that without optimization, using off the shelf parameter sets to fit real-life biological cell data, does not work so well."
   ]
  },
  {
   "cell_type": "code",
   "execution_count": 13,
   "metadata": {
    "collapsed": false
   },
   "outputs": [
    {
     "data": {
      "text/html": [
       "<div>\n",
       "<style scoped>\n",
       "    .dataframe tbody tr th:only-of-type {\n",
       "        vertical-align: middle;\n",
       "    }\n",
       "\n",
       "    .dataframe tbody tr th {\n",
       "        vertical-align: top;\n",
       "    }\n",
       "\n",
       "    .dataframe thead th {\n",
       "        text-align: right;\n",
       "    }\n",
       "</style>\n",
       "<table border=\"1\" class=\"dataframe\">\n",
       "  <thead>\n",
       "    <tr style=\"text-align: right;\">\n",
       "      <th></th>\n",
       "      <th>RS</th>\n",
       "      <th>IB</th>\n",
       "      <th>LTS</th>\n",
       "      <th>TC</th>\n",
       "      <th>TC_burst</th>\n",
       "    </tr>\n",
       "  </thead>\n",
       "  <tbody>\n",
       "    <tr>\n",
       "      <th>Dentate gyrus basket cell</th>\n",
       "      <td>5.33575</td>\n",
       "      <td>6.44702</td>\n",
       "      <td>6.03769</td>\n",
       "      <td>6.27535</td>\n",
       "      <td>6.38901</td>\n",
       "    </tr>\n",
       "    <tr>\n",
       "      <th>Hippocampus CA1 pyramidal cell</th>\n",
       "      <td>4.2652</td>\n",
       "      <td>5.84565</td>\n",
       "      <td>5.70527</td>\n",
       "      <td>5.74633</td>\n",
       "      <td>6.06554</td>\n",
       "    </tr>\n",
       "    <tr>\n",
       "      <th>Neocortex pyramidal cell layer 5-6</th>\n",
       "      <td>4.66967</td>\n",
       "      <td>5.83884</td>\n",
       "      <td>6.21074</td>\n",
       "      <td>6.36435</td>\n",
       "      <td>6.5461</td>\n",
       "    </tr>\n",
       "    <tr>\n",
       "      <th>Cerebellum Purkinje cell</th>\n",
       "      <td>6.04342</td>\n",
       "      <td>5.95173</td>\n",
       "      <td>5.47237</td>\n",
       "      <td>5.69825</td>\n",
       "      <td>5.53656</td>\n",
       "    </tr>\n",
       "  </tbody>\n",
       "</table>\n",
       "</div>"
      ],
      "text/plain": [
       "                                         RS       IB      LTS       TC  \\\n",
       "Dentate gyrus basket cell           5.33575  6.44702  6.03769  6.27535   \n",
       "Hippocampus CA1 pyramidal cell       4.2652  5.84565  5.70527  5.74633   \n",
       "Neocortex pyramidal cell layer 5-6  4.66967  5.83884  6.21074  6.36435   \n",
       "Cerebellum Purkinje cell            6.04342  5.95173  5.47237  5.69825   \n",
       "\n",
       "                                   TC_burst  \n",
       "Dentate gyrus basket cell           6.38901  \n",
       "Hippocampus CA1 pyramidal cell      6.06554  \n",
       "Neocortex pyramidal cell layer 5-6   6.5461  \n",
       "Cerebellum Purkinje cell            5.53656  "
      ]
     },
     "execution_count": 13,
     "metadata": {},
     "output_type": "execute_result"
    }
   ],
   "source": [
    "df"
   ]
  },
  {
   "cell_type": "markdown",
   "metadata": {},
   "source": [
    "As can be seen none of these well researched parameter sets correspond to good fits, with experimental data about waveform shape. These bad fit's warrant the use of an optimizer, which can efficiently, sparsely, and intelligently explore the parameter space for better model fits. None of the models score higher than:\n",
    "\n",
    "```4.2652```, and the best is ```5.47237``` in the specific case of the cerebellum purkinje cell. \n",
    "and None of the first guess parameter set were very good for the cerebellum Purkinje cell. It should be easy to find a model parameterization that scores better than ```5.47```. A first guess. This value will be used \n"
   ]
  },
  {
   "cell_type": "markdown",
   "metadata": {},
   "source": [
    "We now optimize using it to show what can be achieved with the GA."
   ]
  },
  {
   "cell_type": "code",
   "execution_count": 22,
   "metadata": {
    "collapsed": false
   },
   "outputs": [],
   "source": [
    "\n",
    "\n",
    "try:\n",
    "    with open('multi_objective_izhi.p','rb') as f:\n",
    "        test_opt = pickle.load(f)\n",
    "except:\n",
    "    MU = 6\n",
    "    NGEN = 150\n",
    "\n",
    "\n",
    "    seed = seeds[key]\n",
    "    print(seed)\n",
    "    ga_out, _ = om.run_ga(explore_param,NGEN,use_test,free_params=free_params, NSGA = True, MU = MU,seed_pop = seed, model_type = str('RAW'))\n",
    "\n",
    "    test_opt =  {str('multi_objective_izhi')+str('_ga_out'):ga_out}\n",
    "    with open('multi_objective_izhi.p','wb') as f:\n",
    "        pickle.dump(test_opt,f)\n",
    "\n",
    "\n"
   ]
  },
  {
   "cell_type": "code",
   "execution_count": 37,
   "metadata": {
    "collapsed": false
   },
   "outputs": [
    {
     "name": "stdout",
     "output_type": "stream",
     "text": [
      "its True that 3.1302660755008325 is significantly less than 5.47\n",
      "Cerebellum Purkinje cell\n"
     ]
    }
   ],
   "source": [
    "for k,v in test_opt.items():\n",
    "    best_model = v['pf'][0]\n",
    "summed = best_model.dtc.get_ss()\n",
    "print('its {2} that {0} is significantly less than {1}'.format(summed,5.47,summed<5.47))\n",
    "print(key)"
   ]
  },
  {
   "cell_type": "code",
   "execution_count": null,
   "metadata": {
    "collapsed": false
   },
   "outputs": [
    {
     "name": "stdout",
     "output_type": "stream",
     "text": [
      "{'vt': -40, 'c': -50, 'vr': -65.2261863636364, 'vPeak': 21.138338933982595, 'C': 100, 'd': 100, 'k': 0.7, 'a': 0.03, 'b': -2}\n"
     ]
    },
    {
     "name": "stderr",
     "output_type": "stream",
     "text": [
      "/home/jovyan/neuronunit/neuronunit/tests/passive.py:85: RuntimeWarning: overflow encountered in exp\n",
      "  vm_fit[offset:,0] = a * np.exp(-t[offset:]/b) + c\n",
      "/home/jovyan/neuronunit/neuronunit/tests/passive.py:85: RuntimeWarning: overflow encountered in multiply\n",
      "  vm_fit[offset:,0] = a * np.exp(-t[offset:]/b) + c\n",
      "INFO:__main__:gen\tnevals\tavg    \tstd     \tmin    \tmax    \n",
      "1  \t7     \t5.22203\t0.821745\t3.72429\t6.03463\n",
      "2  \t5     \t5.21212\t0.735291\t3.97883\t6.03463\n"
     ]
    },
    {
     "name": "stdout",
     "output_type": "stream",
     "text": [
      "true minimum 3.72428861926\n"
     ]
    },
    {
     "name": "stderr",
     "output_type": "stream",
     "text": [
      "INFO:__main__:3  \t4     \t5.13677\t0.626946\t4.25394\t5.65035\n"
     ]
    },
    {
     "name": "stdout",
     "output_type": "stream",
     "text": [
      "true minimum 3.72428861926\n"
     ]
    },
    {
     "name": "stderr",
     "output_type": "stream",
     "text": [
      "INFO:__main__:4  \t5     \t5.19984\t0.430726\t4.2626 \t5.49532\n"
     ]
    },
    {
     "name": "stdout",
     "output_type": "stream",
     "text": [
      "true minimum 3.72428861926\n"
     ]
    },
    {
     "name": "stderr",
     "output_type": "stream",
     "text": [
      "INFO:__main__:5  \t5     \t5.44865\t0.146973\t5.19086\t5.64343\n"
     ]
    },
    {
     "name": "stdout",
     "output_type": "stream",
     "text": [
      "true minimum 3.72428861926\n"
     ]
    },
    {
     "name": "stderr",
     "output_type": "stream",
     "text": [
      "INFO:__main__:6  \t5     \t5.16537\t0.625444\t3.86973\t5.67245\n"
     ]
    },
    {
     "name": "stdout",
     "output_type": "stream",
     "text": [
      "true minimum 3.72428861926\n"
     ]
    },
    {
     "name": "stderr",
     "output_type": "stream",
     "text": [
      "/opt/conda/lib/python3.5/site-packages/deap/tools/crossover.py:324: RuntimeWarning: invalid value encountered in double_scalars\n",
      "  beta_q = (1.0 / (2.0 - rand * alpha))**(1.0 / (eta + 1))\n",
      "/home/jovyan/neuronunit/neuronunit/tests/passive.py:85: RuntimeWarning: overflow encountered in exp\n",
      "  vm_fit[offset:,0] = a * np.exp(-t[offset:]/b) + c\n",
      "/home/jovyan/neuronunit/neuronunit/tests/passive.py:85: RuntimeWarning: overflow encountered in multiply\n",
      "  vm_fit[offset:,0] = a * np.exp(-t[offset:]/b) + c\n",
      "INFO:__main__:7  \t6     \t5.47294\t0.286328\t4.88053\t5.71681\n"
     ]
    },
    {
     "name": "stdout",
     "output_type": "stream",
     "text": [
      "true minimum 3.72428861926\n"
     ]
    },
    {
     "name": "stderr",
     "output_type": "stream",
     "text": [
      "INFO:__main__:8  \t5     \t5.1169 \t0.84742 \t3.22897\t5.61862\n"
     ]
    },
    {
     "name": "stdout",
     "output_type": "stream",
     "text": [
      "true minimum 3.72428861926\n"
     ]
    },
    {
     "name": "stderr",
     "output_type": "stream",
     "text": [
      "INFO:__main__:9  \t5     \t4.74357\t0.795977\t3.72429\t5.57846\n"
     ]
    },
    {
     "name": "stdout",
     "output_type": "stream",
     "text": [
      "true minimum 3.72428861926\n"
     ]
    }
   ],
   "source": [
    "key = str('Neocortex pyramidal cell layer 5-6')\n",
    "\n",
    "\n",
    "try:\n",
    "    with open('multi_objective_izhi'+str(key)+'.p','rb') as f:\n",
    "        test_opt = pickle.load(f)\n",
    "except:\n",
    "    MU = 6\n",
    "    NGEN = 150\n",
    "\n",
    "    seed = seeds[key]\n",
    "    use_test = test_frame[key]\n",
    "    print(seed)\n",
    "    ga_out, _ = om.run_ga(explore_param,NGEN,use_test,free_params=free_params, NSGA = True, MU = MU,seed_pop = seed, model_type = str('RAW'))\n",
    "\n",
    "    test_opt =  {str('multi_objective_izhi')+str(key):ga_out}\n",
    "    with open('multi_objective_izhi'+str(key)+'.p','wb') as f:\n",
    "        pickle.dump(test_opt,f)\n",
    "\n"
   ]
  },
  {
   "cell_type": "markdown",
   "metadata": {},
   "source": [
    "The optimizer needs to find a parameter set much better than 4.66 in order to be worthwhile, for the case of the Neo Cortical Pyramidal neuron"
   ]
  },
  {
   "cell_type": "code",
   "execution_count": null,
   "metadata": {
    "collapsed": false
   },
   "outputs": [],
   "source": [
    "for k,v in test_opt.items():\n",
    "    best_model = v['pf'][0]\n",
    "summed = best_model.dtc.get_ss()\n",
    "print('its {2} that {0} is significantly less than {1}'.format(summed,5.47,summed<5.47))\n",
    "print(key)"
   ]
  },
  {
   "cell_type": "code",
   "execution_count": null,
   "metadata": {
    "collapsed": true
   },
   "outputs": [],
   "source": []
  }
 ],
 "metadata": {
  "kernelspec": {
   "display_name": "Python 3",
   "language": "python",
   "name": "python3"
  },
  "language_info": {
   "codemirror_mode": {
    "name": "ipython",
    "version": 3
   },
   "file_extension": ".py",
   "mimetype": "text/x-python",
   "name": "python",
   "nbconvert_exporter": "python",
   "pygments_lexer": "ipython3",
   "version": "3.5.2"
  }
 },
 "nbformat": 4,
 "nbformat_minor": 2
}
