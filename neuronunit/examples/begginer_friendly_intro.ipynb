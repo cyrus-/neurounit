{
 "cells": [
  {
   "cell_type": "markdown",
   "metadata": {},
   "source": [
    "Assumptions, the environment for running this notebook was arrived at by building a dedicated docker file.\n",
    "\n",
    "https://cloud.docker.com/repository/registry-1.docker.io/russelljarvis/nuo\n",
    "\n",
    "You can run use dockerhub to get the appropriate file, and launch this notebook using Kitematic."
   ]
  },
  {
   "cell_type": "markdown",
   "metadata": {},
   "source": [
    "# Import libraries\n",
    "To keep the standard running version of minimal and memory efficient, not all available packages are loaded by default. In the cell below I import a mixture common python modules, and custom developed modules associated with NeuronUnit (NU) development"
   ]
  },
  {
   "cell_type": "code",
   "execution_count": 1,
   "metadata": {
    "collapsed": false
   },
   "outputs": [],
   "source": [
    "\n",
    "import numpy as np\n",
    "import os\n",
    "import pickle\n",
    "import pandas as pd\n",
    "from neuronunit.tests.fi import RheobaseTestP\n",
    "from neuronunit.optimization.model_parameters import reduced_dict, reduced_cells  \n",
    "from neuronunit.optimization import optimization_management as om\n",
    "from sciunit import scores# score_type \n",
    "\n",
    "from neuronunit.optimization.data_transport_container import DataTC\n",
    "from neuronunit.tests.fi import RheobaseTestP# as discovery\n",
    "from neuronunit.optimization.optimization_management import dtc_to_rheo, format_test, nunit_evaluation\n",
    "import quantities as pq\n",
    "from neuronunit.models.reduced import ReducedModel\n",
    "from neuronunit.optimization.model_parameters import model_params, path_params\n",
    "LEMS_MODEL_PATH = path_params['model_path']\n",
    "list_to_frame = []\n",
    "from neuronunit.tests.fi import RheobaseTestP"
   ]
  },
  {
   "cell_type": "markdown",
   "metadata": {
    "collapsed": false
   },
   "source": [
    "# The Izhiketich model is instanced using some well researched parameter sets.\n"
   ]
  },
  {
   "cell_type": "markdown",
   "metadata": {},
   "source": [
    "First lets get the points in parameter space, that Izhikich himself has published about. These points are used by other scientists and the [Open Source Brain project](http://opensourcebrain.org/projects/izhikevichmodel?explorer=https%3A%2F%2Fraw.githubusercontent.com%2FOpenSourceBrain%2FIzhikevichModel%2Fsample%2FosbSessions%2Fsample%2FSample_Session.json)  to establish between model reproducibility. The itial motivating factor for choosing these points as constellations, of all possible parameter space subsets, is that these points where initially tuned and used as best guesses for matching real observed experimental recordings."
   ]
  },
  {
   "cell_type": "code",
   "execution_count": 2,
   "metadata": {
    "collapsed": false
   },
   "outputs": [],
   "source": [
    "explore_param = {k:(np.min(v),np.max(v)) for k,v in reduced_dict.items()}"
   ]
  },
  {
   "cell_type": "markdown",
   "metadata": {
    "collapsed": false
   },
   "source": [
    "## Get the experimental Data pertaining to four different classes or neurons, that can constrain models.\n",
    "Next we get some electro physiology data for four different classes of cells that are very common targets of scientific neuronal modelling. We are interested in finding out what are the most minimal, and detail reduced, low complexity model equations, that are able to satisfy "
   ]
  },
  {
   "cell_type": "markdown",
   "metadata": {
    "collapsed": false
   },
   "source": [
    "Below are some of the data set ID's I used to query neuroelectro.\n",
    "To save time for the reader, I prepared some data earlier to save time, and saved the data as a pickle, pythons preferred serialisation format.\n",
    "\n",
    "The interested reader can find some methods for getting cell specific ephys data from neuroelectro in a code file (neuronunit/optimization/get_neab.py) \n"
   ]
  },
  {
   "cell_type": "code",
   "execution_count": 3,
   "metadata": {
    "collapsed": false
   },
   "outputs": [],
   "source": [
    "purkinje ={\"id\": 18, \"name\": \"Cerebellum Purkinje cell\", \"neuron_db_id\": 271, \"nlex_id\": \"sao471801888\"}\n",
    "fi_basket = {\"id\": 65, \"name\": \"Dentate gyrus basket cell\", \"neuron_db_id\": None, \"nlex_id\": \"nlx_cell_100201\"}\n",
    "pvis_cortex = {\"id\": 111, \"name\": \"Neocortex pyramidal cell layer 5-6\", \"neuron_db_id\": 265, \"nlex_id\": \"nifext_50\"}\n",
    "#This olfactory mitral cell does not have datum about rheobase, current injection values.\n",
    "olf_mitral = {\"id\": 129, \"name\": \"Olfactory bulb (main) mitral cell\", \"neuron_db_id\": 267, \"nlex_id\": \"nlx_anat_100201\"}\n",
    "ca1_pyr = {\"id\": 85, \"name\": \"Hippocampus CA1 pyramidal cell\", \"neuron_db_id\": 258, \"nlex_id\": \"sao830368389\"}\n",
    "pipe = [ fi_basket, ca1_pyr, purkinje,  pvis_cortex]"
   ]
  },
  {
   "cell_type": "code",
   "execution_count": 4,
   "metadata": {
    "collapsed": false
   },
   "outputs": [],
   "source": [
    "electro_tests = []\n",
    "obs_frame = {}\n",
    "test_frame = {}\n",
    "\n",
    "from neuronunit.optimization import get_neab\n",
    "try: \n",
    "\n",
    "    electro_path = str(os.getcwd())+'all_tests.p'\n",
    "\n",
    "    assert os.path.isfile(electro_path) == True\n",
    "    with open(electro_path,'rb') as f:\n",
    "        (obs_frame,test_frame) = pickle.load(f)\n",
    "\n",
    "except:\n",
    "    for p in pipe:\n",
    "        p_tests, p_observations = get_neab.get_neuron_criteria(p)\n",
    "        obs_frame[p[\"name\"]] = p_observations#, p_tests))\n",
    "        test_frame[p[\"name\"]] = p_tests#, p_tests))\n",
    "    electro_path = str(os.getcwd())+'all_tests.p'\n",
    "    with open(electro_path,'wb') as f:\n",
    "        pickle.dump((obs_frame,test_frame),f)"
   ]
  },
  {
   "cell_type": "markdown",
   "metadata": {},
   "source": [
    "# Cast the tabulatable data to pandas data frame\n",
    "There are many among us who prefer potentially tabulatable data to be encoded in pandas data frame."
   ]
  },
  {
   "cell_type": "code",
   "execution_count": 5,
   "metadata": {
    "collapsed": false,
    "scrolled": false
   },
   "outputs": [
    {
     "name": "stdout",
     "output_type": "stream",
     "text": [
      "dict_keys(['Dentate gyrus basket cell', 'Hippocampus CA1 pyramidal cell', 'Neocortex pyramidal cell layer 5-6', 'Cerebellum Purkinje cell'])\n"
     ]
    }
   ],
   "source": [
    "for k,v in test_frame.items():\n",
    "    if \"olf_mit\" not in k:\n",
    "        obs = obs_frame[k]\n",
    "        v[0] = RheobaseTestP(obs['Rheobase'])\n",
    "df = pd.DataFrame.from_dict(obs_frame)\n",
    "print(test_frame.keys())"
   ]
  },
  {
   "cell_type": "markdown",
   "metadata": {},
   "source": [
    "In the data frame below, you can see many different cell types"
   ]
  },
  {
   "cell_type": "code",
   "execution_count": 6,
   "metadata": {
    "collapsed": false
   },
   "outputs": [
    {
     "data": {
      "text/html": [
       "<div>\n",
       "<style scoped>\n",
       "    .dataframe tbody tr th:only-of-type {\n",
       "        vertical-align: middle;\n",
       "    }\n",
       "\n",
       "    .dataframe tbody tr th {\n",
       "        vertical-align: top;\n",
       "    }\n",
       "\n",
       "    .dataframe thead th {\n",
       "        text-align: right;\n",
       "    }\n",
       "</style>\n",
       "<table border=\"1\" class=\"dataframe\">\n",
       "  <thead>\n",
       "    <tr style=\"text-align: right;\">\n",
       "      <th></th>\n",
       "      <th>Cerebellum Purkinje cell</th>\n",
       "      <th>Dentate gyrus basket cell</th>\n",
       "      <th>Hippocampus CA1 pyramidal cell</th>\n",
       "      <th>Neocortex pyramidal cell layer 5-6</th>\n",
       "    </tr>\n",
       "  </thead>\n",
       "  <tbody>\n",
       "    <tr>\n",
       "      <th>Cell Capacitance</th>\n",
       "      <td>{'mean': 620.2725 pF, 'n': 4, 'std': 261.30303...</td>\n",
       "      <td>NaN</td>\n",
       "      <td>{'mean': 89.7960714285714 pF, 'n': 14, 'std': ...</td>\n",
       "      <td>{'mean': 150.584166666667 pF, 'n': 12, 'std': ...</td>\n",
       "    </tr>\n",
       "    <tr>\n",
       "      <th>Input Resistance</th>\n",
       "      <td>{'mean': 142.057692307692 Mohm, 'n': 13, 'std'...</td>\n",
       "      <td>{'mean': 222.475 Mohm, 'n': 4, 'std': 168.2911...</td>\n",
       "      <td>{'mean': 107.080327644332 Mohm, 'n': 113, 'std...</td>\n",
       "      <td>{'mean': 120.672073643411 Mohm, 'n': 86, 'std'...</td>\n",
       "    </tr>\n",
       "    <tr>\n",
       "      <th>Membrane Time Constant</th>\n",
       "      <td>NaN</td>\n",
       "      <td>{'mean': 13.25 ms, 'n': 2, 'std': 3.25 ms}</td>\n",
       "      <td>{'mean': 24.5021946169772 ms, 'n': 46, 'std': ...</td>\n",
       "      <td>{'mean': 15.7342424242424 ms, 'n': 33, 'std': ...</td>\n",
       "    </tr>\n",
       "    <tr>\n",
       "      <th>Resting membrane potential</th>\n",
       "      <td>{'mean': -61.5916666666667 mV, 'n': 6, 'std': ...</td>\n",
       "      <td>{'mean': -62.3 mV, 'n': 3, 'std': 4.0472212689...</td>\n",
       "      <td>{'mean': -65.2261863636364 mV, 'n': 110, 'std'...</td>\n",
       "      <td>{'mean': -68.2481434599156 mV, 'n': 79, 'std':...</td>\n",
       "    </tr>\n",
       "    <tr>\n",
       "      <th>Rheobase</th>\n",
       "      <td>{'mean': 680.794444444444 pA, 'n': 3, 'std': 4...</td>\n",
       "      <td>{'mean': 106.7 pA, 'n': 1, 'std': 0.0 pA}</td>\n",
       "      <td>{'mean': 189.24 pA, 'n': 17, 'std': 287.163664...</td>\n",
       "      <td>{'mean': 213.849583333333 pA, 'n': 32, 'std': ...</td>\n",
       "    </tr>\n",
       "    <tr>\n",
       "      <th>Spike Amplitude</th>\n",
       "      <td>{'mean': 71.2308333333333 mV, 'n': 6, 'std': 9...</td>\n",
       "      <td>{'mean': 78.6 mV, 'n': 2, 'std': 5.7 mV}</td>\n",
       "      <td>{'mean': 86.364525297619 mV, 'n': 64, 'std': 1...</td>\n",
       "      <td>{'mean': 80.4351020408164 mV, 'n': 49, 'std': ...</td>\n",
       "    </tr>\n",
       "    <tr>\n",
       "      <th>Spike Half-Width</th>\n",
       "      <td>{'mean': 0.41412962962963 ms, 'n': 9, 'std': 0...</td>\n",
       "      <td>{'mean': 0.9975 ms, 'n': 4, 'std': 0.442175021...</td>\n",
       "      <td>{'mean': 1.31895278450363 ms, 'n': 59, 'std': ...</td>\n",
       "      <td>{'mean': 1.20769387755102 ms, 'n': 49, 'std': ...</td>\n",
       "    </tr>\n",
       "    <tr>\n",
       "      <th>Spike Threshold</th>\n",
       "      <td>{'mean': -46.8947619047619 mV, 'n': 7, 'std': ...</td>\n",
       "      <td>{'mean': -38.4 mV, 'n': 2, 'std': 3.4 mV}</td>\n",
       "      <td>{'mean': -47.5985714285714 mV, 'n': 70, 'std':...</td>\n",
       "      <td>{'mean': -42.7357232704403 mV, 'n': 53, 'std':...</td>\n",
       "    </tr>\n",
       "  </tbody>\n",
       "</table>\n",
       "</div>"
      ],
      "text/plain": [
       "                                                     Cerebellum Purkinje cell  \\\n",
       "Cell Capacitance            {'mean': 620.2725 pF, 'n': 4, 'std': 261.30303...   \n",
       "Input Resistance            {'mean': 142.057692307692 Mohm, 'n': 13, 'std'...   \n",
       "Membrane Time Constant                                                    NaN   \n",
       "Resting membrane potential  {'mean': -61.5916666666667 mV, 'n': 6, 'std': ...   \n",
       "Rheobase                    {'mean': 680.794444444444 pA, 'n': 3, 'std': 4...   \n",
       "Spike Amplitude             {'mean': 71.2308333333333 mV, 'n': 6, 'std': 9...   \n",
       "Spike Half-Width            {'mean': 0.41412962962963 ms, 'n': 9, 'std': 0...   \n",
       "Spike Threshold             {'mean': -46.8947619047619 mV, 'n': 7, 'std': ...   \n",
       "\n",
       "                                                    Dentate gyrus basket cell  \\\n",
       "Cell Capacitance                                                          NaN   \n",
       "Input Resistance            {'mean': 222.475 Mohm, 'n': 4, 'std': 168.2911...   \n",
       "Membrane Time Constant             {'mean': 13.25 ms, 'n': 2, 'std': 3.25 ms}   \n",
       "Resting membrane potential  {'mean': -62.3 mV, 'n': 3, 'std': 4.0472212689...   \n",
       "Rheobase                            {'mean': 106.7 pA, 'n': 1, 'std': 0.0 pA}   \n",
       "Spike Amplitude                      {'mean': 78.6 mV, 'n': 2, 'std': 5.7 mV}   \n",
       "Spike Half-Width            {'mean': 0.9975 ms, 'n': 4, 'std': 0.442175021...   \n",
       "Spike Threshold                     {'mean': -38.4 mV, 'n': 2, 'std': 3.4 mV}   \n",
       "\n",
       "                                               Hippocampus CA1 pyramidal cell  \\\n",
       "Cell Capacitance            {'mean': 89.7960714285714 pF, 'n': 14, 'std': ...   \n",
       "Input Resistance            {'mean': 107.080327644332 Mohm, 'n': 113, 'std...   \n",
       "Membrane Time Constant      {'mean': 24.5021946169772 ms, 'n': 46, 'std': ...   \n",
       "Resting membrane potential  {'mean': -65.2261863636364 mV, 'n': 110, 'std'...   \n",
       "Rheobase                    {'mean': 189.24 pA, 'n': 17, 'std': 287.163664...   \n",
       "Spike Amplitude             {'mean': 86.364525297619 mV, 'n': 64, 'std': 1...   \n",
       "Spike Half-Width            {'mean': 1.31895278450363 ms, 'n': 59, 'std': ...   \n",
       "Spike Threshold             {'mean': -47.5985714285714 mV, 'n': 70, 'std':...   \n",
       "\n",
       "                                           Neocortex pyramidal cell layer 5-6  \n",
       "Cell Capacitance            {'mean': 150.584166666667 pF, 'n': 12, 'std': ...  \n",
       "Input Resistance            {'mean': 120.672073643411 Mohm, 'n': 86, 'std'...  \n",
       "Membrane Time Constant      {'mean': 15.7342424242424 ms, 'n': 33, 'std': ...  \n",
       "Resting membrane potential  {'mean': -68.2481434599156 mV, 'n': 79, 'std':...  \n",
       "Rheobase                    {'mean': 213.849583333333 pA, 'n': 32, 'std': ...  \n",
       "Spike Amplitude             {'mean': 80.4351020408164 mV, 'n': 49, 'std': ...  \n",
       "Spike Half-Width            {'mean': 1.20769387755102 ms, 'n': 49, 'std': ...  \n",
       "Spike Threshold             {'mean': -42.7357232704403 mV, 'n': 53, 'std':...  "
      ]
     },
     "execution_count": 6,
     "metadata": {},
     "output_type": "execute_result"
    }
   ],
   "source": [
    "df\n"
   ]
  },
  {
   "cell_type": "code",
   "execution_count": 7,
   "metadata": {
    "collapsed": false
   },
   "outputs": [
    {
     "data": {
      "text/plain": [
       "Cell Capacitance              {'mean': 89.7960714285714 pF, 'n': 14, 'std': ...\n",
       "Input Resistance              {'mean': 107.080327644332 Mohm, 'n': 113, 'std...\n",
       "Membrane Time Constant        {'mean': 24.5021946169772 ms, 'n': 46, 'std': ...\n",
       "Resting membrane potential    {'mean': -65.2261863636364 mV, 'n': 110, 'std'...\n",
       "Rheobase                      {'mean': 189.24 pA, 'n': 17, 'std': 287.163664...\n",
       "Spike Amplitude               {'mean': 86.364525297619 mV, 'n': 64, 'std': 1...\n",
       "Spike Half-Width              {'mean': 1.31895278450363 ms, 'n': 59, 'std': ...\n",
       "Spike Threshold               {'mean': -47.5985714285714 mV, 'n': 70, 'std':...\n",
       "Name: Hippocampus CA1 pyramidal cell, dtype: object"
      ]
     },
     "execution_count": 7,
     "metadata": {},
     "output_type": "execute_result"
    }
   ],
   "source": [
    "df['Hippocampus CA1 pyramidal cell']\n",
    "\n",
    "# enable R style caching.\n",
    "#!pip install git+https://github.com/rossant/ipycache\n",
    "#%load_ext ipycache"
   ]
  },
  {
   "cell_type": "markdown",
   "metadata": {},
   "source": [
    "# Tweak Izhikitich equations\n",
    "with educated guesses based on information that is already encoded in the predefined experimental observations.\n",
    "\n",
    "In otherwords use information that is readily amenable into hardcoding into equations \n",
    "\n",
    "Select out the 'Neocortex pyramidal cell layer 5-6' below, as a target for optimization"
   ]
  },
  {
   "cell_type": "code",
   "execution_count": 8,
   "metadata": {
    "collapsed": false,
    "scrolled": false
   },
   "outputs": [],
   "source": [
    "free_params = ['a','b','k','c','C','d','vPeak','vr']\n",
    "hc_ = reduced_cells['RS']\n",
    "hc_['vr'] = -65.2261863636364\n",
    "hc_['vPeak'] = hc_['vr'] + 86.364525297619\n",
    "explore_param['C'] = (hc_['C']-20,hc_['C']+20)\n",
    "explore_param['vr'] = (hc_['vr']-5,hc_['vr']+5)\n",
    "use_test = test_frame[\"Neocortex pyramidal cell layer 5-6\"]\n",
    "\n",
    "#for t in use_test[::-1]:\n",
    "#    t.score_type = scores.RatioScore\n",
    "test_opt = {}\n",
    "\n",
    "with open('data_dump.p','wb') as f:\n",
    "    pickle.dump(test_opt,f)"
   ]
  },
  {
   "cell_type": "code",
   "execution_count": 9,
   "metadata": {
    "collapsed": false
   },
   "outputs": [
    {
     "name": "stdout",
     "output_type": "stream",
     "text": [
      "RheobaseTestP\n",
      "{'mean': array(213.849583333333) * pA, 'n': 32, 'std': array(170.452454715608) * pA}\n"
     ]
    }
   ],
   "source": [
    "\n",
    "use_test[0].observation\n",
    "print(use_test[0].name)\n",
    "\n",
    "rtp = RheobaseTestP(use_test[0].observation)\n",
    "use_test[0] = rtp\n",
    "print(use_test[0].observation)"
   ]
  },
  {
   "cell_type": "markdown",
   "metadata": {
    "collapsed": false
   },
   "source": [
    "The code in the next two cells below is used to create a sparse grid sampling over the parameter space, using the published and well corrobarated parameter points, from Izhikitch publications, and the Open Source brain"
   ]
  },
  {
   "cell_type": "code",
   "execution_count": 10,
   "metadata": {
    "collapsed": false
   },
   "outputs": [
    {
     "data": {
      "text/plain": [
       "dict_keys(['Dentate gyrus basket cell', 'Hippocampus CA1 pyramidal cell', 'Neocortex pyramidal cell layer 5-6', 'Cerebellum Purkinje cell'])"
      ]
     },
     "execution_count": 10,
     "metadata": {},
     "output_type": "execute_result"
    }
   ],
   "source": [
    "reduced_cells.keys()\n",
    "test_frame.keys()\n"
   ]
  },
  {
   "cell_type": "code",
   "execution_count": 12,
   "metadata": {
    "collapsed": false
   },
   "outputs": [
    {
     "name": "stdout",
     "output_type": "stream",
     "text": [
      "exceptional circumstances pickle file does not exist, rebuilding sparse grid for Izhikich\n"
     ]
    },
    {
     "name": "stderr",
     "output_type": "stream",
     "text": [
      "/opt/conda/lib/python3.5/site-packages/sciunit/scores/complete.py:68: RuntimeWarning: divide by zero encountered in true_divide\n",
      "  value = (p_value - o_mean)/o_std\n",
      "/home/jovyan/neuronunit/neuronunit/tests/passive.py:85: RuntimeWarning: overflow encountered in exp\n",
      "  vm_fit[offset:,0] = a * np.exp(-t[offset:]/b) + c\n",
      "/home/jovyan/neuronunit/neuronunit/tests/passive.py:85: RuntimeWarning: overflow encountered in multiply\n",
      "  vm_fit[offset:,0] = a * np.exp(-t[offset:]/b) + c\n"
     ]
    }
   ],
   "source": [
    "df = pd.DataFrame(index=list(test_frame.keys()),columns=list(reduced_cells.keys()))\n",
    "\n",
    "try:\n",
    "    assert 1==2\n",
    "    with open('Izh_seeds.p','rb') as f:\n",
    "        seeds = pickle.load(f)\n",
    "    #assert seeds is not None\n",
    "\n",
    "except:\n",
    "    # print('exceptional circumstances pickle file does not exist, rebuilding sparse grid for Izhikich')\n",
    "    # Below we perform a sparse grid sampling over the parameter space, using the published and well corrobarated parameter points, from Izhikitch publications, and the Open Source brain, shows that without optimization, using off the shelf parameter sets to fit real-life biological cell data, does not work so well.\n",
    "\n",
    "    for k,v in reduced_cells.items():\n",
    "        temp = {}\n",
    "        temp[str(v)] = {}\n",
    "        dtc = DataTC()\n",
    "        dtc.tests = use_test\n",
    "        dtc.attrs = v\n",
    "        dtc.backend = 'RAW'\n",
    "        dtc.cell_name = 'vanilla'\n",
    "        for key, use_test in test_frame.items():\n",
    "            dtc.tests = use_test\n",
    "            dtc = dtc_to_rheo(dtc)\n",
    "            dtc = format_test(dtc)\n",
    "            if dtc.rheobase is not None:\n",
    "                if dtc.rheobase!=-1.0:\n",
    "                    dtc = nunit_evaluation(dtc)\n",
    "            df[k][str(key)] = dtc.get_ss()\n",
    "\n",
    "    best_params = {}\n",
    "    for index, row in df.iterrows():\n",
    "        best_params[index] = row == row.min()\n",
    "        best_params[index] = best_params[index].to_dict()\n",
    "\n",
    "\n",
    "    seeds = {}\n",
    "    for k,v in best_params.items():\n",
    "        for nested_key,nested_val in v.items():\n",
    "            if True == nested_val:\n",
    "                seed = reduced_cells[nested_key]\n",
    "                seeds[k] = seed\n",
    "    with open('Izh_seeds.p','wb') as f:\n",
    "        pickle.dump(seeds,f)\n",
    "\n",
    "\n"
   ]
  },
  {
   "cell_type": "markdown",
   "metadata": {},
   "source": [
    "As I said above: 'A sparse grid sampling over the parameter space, using the published and well corrobarated parameter points, from Izhikitch publications, and the Open Source brain', The output from the grid shows that without optimization, using off the shelf parameter sets to fit real-life biological cell data, does not work so well."
   ]
  },
  {
   "cell_type": "code",
   "execution_count": 13,
   "metadata": {
    "collapsed": false
   },
   "outputs": [
    {
     "data": {
      "text/html": [
       "<div>\n",
       "<style scoped>\n",
       "    .dataframe tbody tr th:only-of-type {\n",
       "        vertical-align: middle;\n",
       "    }\n",
       "\n",
       "    .dataframe tbody tr th {\n",
       "        vertical-align: top;\n",
       "    }\n",
       "\n",
       "    .dataframe thead th {\n",
       "        text-align: right;\n",
       "    }\n",
       "</style>\n",
       "<table border=\"1\" class=\"dataframe\">\n",
       "  <thead>\n",
       "    <tr style=\"text-align: right;\">\n",
       "      <th></th>\n",
       "      <th>RS</th>\n",
       "      <th>IB</th>\n",
       "      <th>LTS</th>\n",
       "      <th>TC</th>\n",
       "      <th>TC_burst</th>\n",
       "    </tr>\n",
       "  </thead>\n",
       "  <tbody>\n",
       "    <tr>\n",
       "      <th>Dentate gyrus basket cell</th>\n",
       "      <td>5.33575</td>\n",
       "      <td>6.44702</td>\n",
       "      <td>6.03769</td>\n",
       "      <td>6.27535</td>\n",
       "      <td>6.38901</td>\n",
       "    </tr>\n",
       "    <tr>\n",
       "      <th>Hippocampus CA1 pyramidal cell</th>\n",
       "      <td>4.2652</td>\n",
       "      <td>5.84565</td>\n",
       "      <td>5.70527</td>\n",
       "      <td>5.74633</td>\n",
       "      <td>6.06554</td>\n",
       "    </tr>\n",
       "    <tr>\n",
       "      <th>Neocortex pyramidal cell layer 5-6</th>\n",
       "      <td>4.66967</td>\n",
       "      <td>5.83884</td>\n",
       "      <td>6.21074</td>\n",
       "      <td>6.36435</td>\n",
       "      <td>6.5461</td>\n",
       "    </tr>\n",
       "    <tr>\n",
       "      <th>Cerebellum Purkinje cell</th>\n",
       "      <td>6.04342</td>\n",
       "      <td>5.95173</td>\n",
       "      <td>5.47237</td>\n",
       "      <td>5.69825</td>\n",
       "      <td>5.53656</td>\n",
       "    </tr>\n",
       "  </tbody>\n",
       "</table>\n",
       "</div>"
      ],
      "text/plain": [
       "                                         RS       IB      LTS       TC  \\\n",
       "Dentate gyrus basket cell           5.33575  6.44702  6.03769  6.27535   \n",
       "Hippocampus CA1 pyramidal cell       4.2652  5.84565  5.70527  5.74633   \n",
       "Neocortex pyramidal cell layer 5-6  4.66967  5.83884  6.21074  6.36435   \n",
       "Cerebellum Purkinje cell            6.04342  5.95173  5.47237  5.69825   \n",
       "\n",
       "                                   TC_burst  \n",
       "Dentate gyrus basket cell           6.38901  \n",
       "Hippocampus CA1 pyramidal cell      6.06554  \n",
       "Neocortex pyramidal cell layer 5-6   6.5461  \n",
       "Cerebellum Purkinje cell            5.53656  "
      ]
     },
     "execution_count": 13,
     "metadata": {},
     "output_type": "execute_result"
    }
   ],
   "source": [
    "df"
   ]
  },
  {
   "cell_type": "markdown",
   "metadata": {},
   "source": [
    "As can be seen none of these well researched parameter sets correspond to good fits, with experimental data about waveform shape. These bad fit's warrant the use of an optimizer, which can efficiently, sparsely, and intelligently explore the parameter space for better model fits. None of the models score higher than:\n",
    "\n",
    "```4.2652```, and the best is ```5.47237``` in the specific case of the cerebellum purkinje cell. \n",
    "and None of the first guess parameter set were very good for the cerebellum Purkinje cell. It should be easy to find a model parameterization that scores better than ```5.47```. A first guess. \n",
    "\n",
    "The best NeuronUnit score values found via this sparse grid sampling, are used to seed the first generation of the genetic algorithm, as one of the great motivators of GA optimization, is not to waste any computation time.\n"
   ]
  },
  {
   "cell_type": "markdown",
   "metadata": {},
   "source": [
    "We now optimize using it to show what can be achieved with the GA."
   ]
  },
  {
   "cell_type": "code",
   "execution_count": 22,
   "metadata": {
    "collapsed": false
   },
   "outputs": [],
   "source": [
    "\n",
    "\n",
    "try:\n",
    "    with open('multi_objective_izhi.p','rb') as f:\n",
    "        test_opt = pickle.load(f)\n",
    "except:\n",
    "    MU = 6\n",
    "    NGEN = 150\n",
    "\n",
    "\n",
    "    seed = seeds[key]\n",
    "    print(seed)\n",
    "    ga_out, _ = om.run_ga(explore_param,NGEN,use_test,free_params=free_params, NSGA = True, MU = MU,seed_pop = seed, model_type = str('RAW'))\n",
    "\n",
    "    test_opt =  {str('multi_objective_izhi')+str('_ga_out'):ga_out}\n",
    "    with open('multi_objective_izhi.p','wb') as f:\n",
    "        pickle.dump(test_opt,f)\n",
    "\n",
    "\n"
   ]
  },
  {
   "cell_type": "code",
   "execution_count": 37,
   "metadata": {
    "collapsed": false
   },
   "outputs": [
    {
     "name": "stdout",
     "output_type": "stream",
     "text": [
      "its True that 3.1302660755008325 is significantly less than 5.47\n",
      "Cerebellum Purkinje cell\n"
     ]
    }
   ],
   "source": [
    "for k,v in test_opt.items():\n",
    "    best_model = v['pf'][0]\n",
    "summed = best_model.dtc.get_ss()\n",
    "print('its {2} that {0} is significantly less than {1}'.format(summed,5.47,summed<5.47))\n",
    "print(key)"
   ]
  },
  {
   "cell_type": "code",
   "execution_count": 42,
   "metadata": {
    "collapsed": false
   },
   "outputs": [
    {
     "name": "stdout",
     "output_type": "stream",
     "text": [
      "{'vt': -40, 'c': -50, 'vr': -65.2261863636364, 'vPeak': 21.138338933982595, 'C': 100, 'd': 100, 'k': 0.7, 'a': 0.03, 'b': -2}\n"
     ]
    },
    {
     "name": "stderr",
     "output_type": "stream",
     "text": [
      "/home/jovyan/neuronunit/neuronunit/tests/passive.py:85: RuntimeWarning: overflow encountered in exp\n",
      "  vm_fit[offset:,0] = a * np.exp(-t[offset:]/b) + c\n",
      "/home/jovyan/neuronunit/neuronunit/tests/passive.py:85: RuntimeWarning: overflow encountered in multiply\n",
      "  vm_fit[offset:,0] = a * np.exp(-t[offset:]/b) + c\n",
      "INFO:__main__:gen\tnevals\tavg    \tstd     \tmin    \tmax    \n",
      "1  \t7     \t5.22203\t0.821745\t3.72429\t6.03463\n",
      "2  \t5     \t5.21212\t0.735291\t3.97883\t6.03463\n"
     ]
    },
    {
     "name": "stdout",
     "output_type": "stream",
     "text": [
      "true minimum 3.72428861926\n"
     ]
    },
    {
     "name": "stderr",
     "output_type": "stream",
     "text": [
      "INFO:__main__:3  \t4     \t5.13677\t0.626946\t4.25394\t5.65035\n"
     ]
    },
    {
     "name": "stdout",
     "output_type": "stream",
     "text": [
      "true minimum 3.72428861926\n"
     ]
    },
    {
     "name": "stderr",
     "output_type": "stream",
     "text": [
      "INFO:__main__:4  \t5     \t5.19984\t0.430726\t4.2626 \t5.49532\n"
     ]
    },
    {
     "name": "stdout",
     "output_type": "stream",
     "text": [
      "true minimum 3.72428861926\n"
     ]
    },
    {
     "name": "stderr",
     "output_type": "stream",
     "text": [
      "INFO:__main__:5  \t5     \t5.44865\t0.146973\t5.19086\t5.64343\n"
     ]
    },
    {
     "name": "stdout",
     "output_type": "stream",
     "text": [
      "true minimum 3.72428861926\n"
     ]
    },
    {
     "name": "stderr",
     "output_type": "stream",
     "text": [
      "INFO:__main__:6  \t5     \t5.16537\t0.625444\t3.86973\t5.67245\n"
     ]
    },
    {
     "name": "stdout",
     "output_type": "stream",
     "text": [
      "true minimum 3.72428861926\n"
     ]
    },
    {
     "name": "stderr",
     "output_type": "stream",
     "text": [
      "/opt/conda/lib/python3.5/site-packages/deap/tools/crossover.py:324: RuntimeWarning: invalid value encountered in double_scalars\n",
      "  beta_q = (1.0 / (2.0 - rand * alpha))**(1.0 / (eta + 1))\n",
      "/home/jovyan/neuronunit/neuronunit/tests/passive.py:85: RuntimeWarning: overflow encountered in exp\n",
      "  vm_fit[offset:,0] = a * np.exp(-t[offset:]/b) + c\n",
      "/home/jovyan/neuronunit/neuronunit/tests/passive.py:85: RuntimeWarning: overflow encountered in multiply\n",
      "  vm_fit[offset:,0] = a * np.exp(-t[offset:]/b) + c\n",
      "INFO:__main__:7  \t6     \t5.47294\t0.286328\t4.88053\t5.71681\n"
     ]
    },
    {
     "name": "stdout",
     "output_type": "stream",
     "text": [
      "true minimum 3.72428861926\n"
     ]
    },
    {
     "name": "stderr",
     "output_type": "stream",
     "text": [
      "INFO:__main__:8  \t5     \t5.1169 \t0.84742 \t3.22897\t5.61862\n"
     ]
    },
    {
     "name": "stdout",
     "output_type": "stream",
     "text": [
      "true minimum 3.72428861926\n"
     ]
    },
    {
     "name": "stderr",
     "output_type": "stream",
     "text": [
      "INFO:__main__:9  \t5     \t4.74357\t0.795977\t3.72429\t5.57846\n"
     ]
    },
    {
     "name": "stdout",
     "output_type": "stream",
     "text": [
      "true minimum 3.72428861926\n"
     ]
    },
    {
     "name": "stderr",
     "output_type": "stream",
     "text": [
      "INFO:__main__:10 \t4     \t4.66108\t0.967007\t3.24729\t5.67859\n"
     ]
    },
    {
     "name": "stdout",
     "output_type": "stream",
     "text": [
      "true minimum 3.24728879435\n"
     ]
    },
    {
     "name": "stderr",
     "output_type": "stream",
     "text": [
      "INFO:__main__:11 \t5     \t5.43769\t0.347115\t4.67548\t5.69242\n"
     ]
    },
    {
     "name": "stdout",
     "output_type": "stream",
     "text": [
      "true minimum 3.24728879435\n"
     ]
    },
    {
     "name": "stderr",
     "output_type": "stream",
     "text": [
      "INFO:__main__:12 \t2     \t4.99029\t0.403366\t4.6111 \t5.54829\n"
     ]
    },
    {
     "name": "stdout",
     "output_type": "stream",
     "text": [
      "true minimum 3.24728879435\n"
     ]
    },
    {
     "name": "stderr",
     "output_type": "stream",
     "text": [
      "INFO:__main__:13 \t5     \t4.78651\t0.605765\t3.59511\t5.54829\n"
     ]
    },
    {
     "name": "stdout",
     "output_type": "stream",
     "text": [
      "true minimum 3.24728879435\n"
     ]
    },
    {
     "name": "stderr",
     "output_type": "stream",
     "text": [
      "INFO:__main__:14 \t6     \t4.66135\t0.838683\t3.3331 \t5.74215\n"
     ]
    },
    {
     "name": "stdout",
     "output_type": "stream",
     "text": [
      "true minimum 3.24728879435\n"
     ]
    },
    {
     "name": "stderr",
     "output_type": "stream",
     "text": [
      "INFO:__main__:15 \t6     \t4.84525\t0.473134\t4.21751\t5.55403\n"
     ]
    },
    {
     "name": "stdout",
     "output_type": "stream",
     "text": [
      "true minimum 3.24728879435\n"
     ]
    },
    {
     "name": "stderr",
     "output_type": "stream",
     "text": [
      "INFO:__main__:16 \t6     \t4.14798\t0.961541\t3.32742\t5.55374\n"
     ]
    },
    {
     "name": "stdout",
     "output_type": "stream",
     "text": [
      "true minimum 3.24728879435\n"
     ]
    },
    {
     "name": "stderr",
     "output_type": "stream",
     "text": [
      "INFO:__main__:17 \t5     \t4.46228\t0.904249\t3.32742\t5.37721\n"
     ]
    },
    {
     "name": "stdout",
     "output_type": "stream",
     "text": [
      "true minimum 3.24728879435\n"
     ]
    },
    {
     "name": "stderr",
     "output_type": "stream",
     "text": [
      "INFO:__main__:18 \t4     \t3.9865 \t0.959449\t3.09455\t5.34938\n"
     ]
    },
    {
     "name": "stdout",
     "output_type": "stream",
     "text": [
      "true minimum 3.24728879435\n"
     ]
    },
    {
     "name": "stderr",
     "output_type": "stream",
     "text": [
      "INFO:__main__:19 \t6     \t4.36213\t0.923614\t3.30176\t5.30928\n"
     ]
    },
    {
     "name": "stdout",
     "output_type": "stream",
     "text": [
      "true minimum 3.24728879435\n"
     ]
    },
    {
     "name": "stderr",
     "output_type": "stream",
     "text": [
      "INFO:__main__:20 \t6     \t4.89491\t0.710129\t3.32925\t5.37684\n"
     ]
    },
    {
     "name": "stdout",
     "output_type": "stream",
     "text": [
      "true minimum 3.24728879435\n"
     ]
    },
    {
     "name": "stderr",
     "output_type": "stream",
     "text": [
      "INFO:__main__:21 \t3     \t4.96855\t0.440792\t4.00273\t5.27258\n"
     ]
    },
    {
     "name": "stdout",
     "output_type": "stream",
     "text": [
      "true minimum 3.24728879435\n"
     ]
    },
    {
     "name": "stderr",
     "output_type": "stream",
     "text": [
      "INFO:__main__:22 \t5     \t3.99606\t0.777385\t3.24729\t5.14799\n"
     ]
    },
    {
     "name": "stdout",
     "output_type": "stream",
     "text": [
      "true minimum 3.24728879435\n"
     ]
    },
    {
     "name": "stderr",
     "output_type": "stream",
     "text": [
      "INFO:__main__:23 \t6     \t4.10263\t0.943001\t2.99182\t5.37337\n"
     ]
    },
    {
     "name": "stdout",
     "output_type": "stream",
     "text": [
      "true minimum 2.99182182811\n"
     ]
    },
    {
     "name": "stderr",
     "output_type": "stream",
     "text": [
      "INFO:__main__:24 \t5     \t4.62393\t0.589267\t3.55272\t5.20436\n"
     ]
    },
    {
     "name": "stdout",
     "output_type": "stream",
     "text": [
      "true minimum 2.99182182811\n"
     ]
    },
    {
     "name": "stderr",
     "output_type": "stream",
     "text": [
      "INFO:__main__:25 \t5     \t4.146  \t0.595203\t3.24729\t5.22062\n"
     ]
    },
    {
     "name": "stdout",
     "output_type": "stream",
     "text": [
      "true minimum 2.99182182811\n"
     ]
    },
    {
     "name": "stderr",
     "output_type": "stream",
     "text": [
      "INFO:__main__:26 \t5     \t4.30695\t0.785958\t3.30176\t5.22537\n"
     ]
    },
    {
     "name": "stdout",
     "output_type": "stream",
     "text": [
      "true minimum 2.99182182811\n"
     ]
    },
    {
     "name": "stderr",
     "output_type": "stream",
     "text": [
      "/home/jovyan/neuronunit/neuronunit/tests/passive.py:85: RuntimeWarning: overflow encountered in exp\n",
      "  vm_fit[offset:,0] = a * np.exp(-t[offset:]/b) + c\n",
      "/home/jovyan/neuronunit/neuronunit/tests/passive.py:85: RuntimeWarning: overflow encountered in multiply\n",
      "  vm_fit[offset:,0] = a * np.exp(-t[offset:]/b) + c\n",
      "INFO:__main__:27 \t6     \t4.31459\t1.00617 \t2.99182\t5.56744\n"
     ]
    },
    {
     "name": "stdout",
     "output_type": "stream",
     "text": [
      "true minimum 2.99182182811\n"
     ]
    },
    {
     "name": "stderr",
     "output_type": "stream",
     "text": [
      "INFO:__main__:28 \t6     \t4.40688\t0.562529\t3.32854\t5.14262\n"
     ]
    },
    {
     "name": "stdout",
     "output_type": "stream",
     "text": [
      "true minimum 2.99182182811\n"
     ]
    },
    {
     "name": "stderr",
     "output_type": "stream",
     "text": [
      "INFO:__main__:29 \t5     \t4.542  \t0.619648\t3.27655\t5.26655\n"
     ]
    },
    {
     "name": "stdout",
     "output_type": "stream",
     "text": [
      "true minimum 2.99182182811\n"
     ]
    },
    {
     "name": "stderr",
     "output_type": "stream",
     "text": [
      "INFO:__main__:30 \t6     \t4.53346\t0.334873\t4.17312\t5.1105 \n"
     ]
    },
    {
     "name": "stdout",
     "output_type": "stream",
     "text": [
      "true minimum 2.99182182811\n"
     ]
    },
    {
     "name": "stderr",
     "output_type": "stream",
     "text": [
      "INFO:__main__:31 \t4     \t4.43568\t0.303636\t4.17312\t5.03305\n"
     ]
    },
    {
     "name": "stdout",
     "output_type": "stream",
     "text": [
      "true minimum 2.99182182811\n"
     ]
    },
    {
     "name": "stderr",
     "output_type": "stream",
     "text": [
      "INFO:__main__:32 \t6     \t4.61656\t0.35095 \t4.13065\t5.16013\n"
     ]
    },
    {
     "name": "stdout",
     "output_type": "stream",
     "text": [
      "true minimum 2.99182182811\n"
     ]
    },
    {
     "name": "stderr",
     "output_type": "stream",
     "text": [
      "INFO:__main__:33 \t5     \t4.29056\t0.633806\t2.99182\t4.99444\n"
     ]
    },
    {
     "name": "stdout",
     "output_type": "stream",
     "text": [
      "true minimum 2.99182182811\n"
     ]
    },
    {
     "name": "stderr",
     "output_type": "stream",
     "text": [
      "INFO:__main__:34 \t6     \t4.41131\t0.552691\t3.3616 \t5.08154\n"
     ]
    },
    {
     "name": "stdout",
     "output_type": "stream",
     "text": [
      "true minimum 2.99182182811\n"
     ]
    },
    {
     "name": "stderr",
     "output_type": "stream",
     "text": [
      "INFO:__main__:35 \t5     \t4.12985\t0.659809\t3.18095\t4.77331\n"
     ]
    },
    {
     "name": "stdout",
     "output_type": "stream",
     "text": [
      "true minimum 2.99182182811\n"
     ]
    },
    {
     "name": "stderr",
     "output_type": "stream",
     "text": [
      "INFO:__main__:36 \t6     \t4.52503\t0.343159\t3.86635\t4.93116\n"
     ]
    },
    {
     "name": "stdout",
     "output_type": "stream",
     "text": [
      "true minimum 2.99182182811\n"
     ]
    },
    {
     "name": "stderr",
     "output_type": "stream",
     "text": [
      "INFO:__main__:37 \t6     \t4.49488\t0.434338\t3.56517\t4.93141\n"
     ]
    },
    {
     "name": "stdout",
     "output_type": "stream",
     "text": [
      "true minimum 2.99182182811\n"
     ]
    },
    {
     "name": "stderr",
     "output_type": "stream",
     "text": [
      "INFO:__main__:38 \t6     \t4.30537\t0.559633\t3.36456\t5.04942\n"
     ]
    },
    {
     "name": "stdout",
     "output_type": "stream",
     "text": [
      "true minimum 2.99182182811\n"
     ]
    },
    {
     "name": "stderr",
     "output_type": "stream",
     "text": [
      "INFO:__main__:39 \t4     \t4.32108\t0.422403\t3.81848\t4.88364\n"
     ]
    },
    {
     "name": "stdout",
     "output_type": "stream",
     "text": [
      "true minimum 2.99182182811\n"
     ]
    },
    {
     "name": "stderr",
     "output_type": "stream",
     "text": [
      "INFO:__main__:40 \t6     \t4.2473 \t0.523654\t3.38556\t4.81716\n"
     ]
    },
    {
     "name": "stdout",
     "output_type": "stream",
     "text": [
      "true minimum 2.99182182811\n"
     ]
    },
    {
     "name": "stderr",
     "output_type": "stream",
     "text": [
      "INFO:__main__:41 \t4     \t4.52398\t0.556695\t3.38556\t5.12355\n"
     ]
    },
    {
     "name": "stdout",
     "output_type": "stream",
     "text": [
      "true minimum 2.99182182811\n"
     ]
    },
    {
     "name": "stderr",
     "output_type": "stream",
     "text": [
      "INFO:__main__:42 \t6     \t4.7039 \t0.401336\t3.85379\t5.06121\n"
     ]
    },
    {
     "name": "stdout",
     "output_type": "stream",
     "text": [
      "true minimum 2.99182182811\n"
     ]
    },
    {
     "name": "stderr",
     "output_type": "stream",
     "text": [
      "/home/jovyan/neuronunit/neuronunit/tests/passive.py:85: RuntimeWarning: overflow encountered in exp\n",
      "  vm_fit[offset:,0] = a * np.exp(-t[offset:]/b) + c\n",
      "/home/jovyan/neuronunit/neuronunit/tests/passive.py:85: RuntimeWarning: overflow encountered in multiply\n",
      "  vm_fit[offset:,0] = a * np.exp(-t[offset:]/b) + c\n",
      "INFO:__main__:43 \t5     \t4.36727\t0.436229\t3.67472\t4.79182\n"
     ]
    },
    {
     "name": "stdout",
     "output_type": "stream",
     "text": [
      "true minimum 2.99182182811\n"
     ]
    },
    {
     "name": "stderr",
     "output_type": "stream",
     "text": [
      "INFO:__main__:44 \t5     \t3.91217\t0.521324\t3.39523\t4.67254\n"
     ]
    },
    {
     "name": "stdout",
     "output_type": "stream",
     "text": [
      "true minimum 2.99182182811\n"
     ]
    },
    {
     "name": "stderr",
     "output_type": "stream",
     "text": [
      "INFO:__main__:45 \t5     \t4.50612\t0.6599  \t3.37202\t5.22707\n"
     ]
    },
    {
     "name": "stdout",
     "output_type": "stream",
     "text": [
      "true minimum 2.99182182811\n"
     ]
    },
    {
     "name": "stderr",
     "output_type": "stream",
     "text": [
      "/home/jovyan/neuronunit/neuronunit/tests/passive.py:85: RuntimeWarning: overflow encountered in exp\n",
      "  vm_fit[offset:,0] = a * np.exp(-t[offset:]/b) + c\n",
      "/home/jovyan/neuronunit/neuronunit/tests/passive.py:85: RuntimeWarning: overflow encountered in multiply\n",
      "  vm_fit[offset:,0] = a * np.exp(-t[offset:]/b) + c\n",
      "INFO:__main__:46 \t6     \t4.46049\t0.704344\t3.40209\t5.25458\n"
     ]
    },
    {
     "name": "stdout",
     "output_type": "stream",
     "text": [
      "true minimum 2.99182182811\n"
     ]
    },
    {
     "name": "stderr",
     "output_type": "stream",
     "text": [
      "INFO:__main__:47 \t6     \t4.09745\t0.841532\t2.99182\t5.4212 \n"
     ]
    },
    {
     "name": "stdout",
     "output_type": "stream",
     "text": [
      "true minimum 2.99182182811\n"
     ]
    },
    {
     "name": "stderr",
     "output_type": "stream",
     "text": [
      "INFO:__main__:48 \t5     \t4.78211\t0.744664\t3.2739 \t5.55851\n"
     ]
    },
    {
     "name": "stdout",
     "output_type": "stream",
     "text": [
      "true minimum 2.99182182811\n"
     ]
    },
    {
     "name": "stderr",
     "output_type": "stream",
     "text": [
      "INFO:__main__:49 \t6     \t4.66692\t0.674102\t3.79381\t5.62961\n"
     ]
    },
    {
     "name": "stdout",
     "output_type": "stream",
     "text": [
      "true minimum 2.99182182811\n"
     ]
    },
    {
     "name": "stderr",
     "output_type": "stream",
     "text": [
      "INFO:__main__:50 \t5     \t4.6925 \t0.229621\t4.44175\t5.15158\n"
     ]
    },
    {
     "name": "stdout",
     "output_type": "stream",
     "text": [
      "true minimum 2.99182182811\n"
     ]
    },
    {
     "name": "stderr",
     "output_type": "stream",
     "text": [
      "INFO:__main__:51 \t6     \t4.87492\t0.136585\t4.65136\t5.03999\n"
     ]
    },
    {
     "name": "stdout",
     "output_type": "stream",
     "text": [
      "true minimum 2.99182182811\n"
     ]
    },
    {
     "name": "stderr",
     "output_type": "stream",
     "text": [
      "INFO:__main__:52 \t6     \t4.62645\t0.279176\t4.13133\t4.96709\n"
     ]
    },
    {
     "name": "stdout",
     "output_type": "stream",
     "text": [
      "true minimum 2.99182182811\n"
     ]
    },
    {
     "name": "stderr",
     "output_type": "stream",
     "text": [
      "INFO:__main__:53 \t6     \t4.71274\t0.290041\t4.4209 \t5.28303\n"
     ]
    },
    {
     "name": "stdout",
     "output_type": "stream",
     "text": [
      "true minimum 2.99182182811\n"
     ]
    },
    {
     "name": "stderr",
     "output_type": "stream",
     "text": [
      "INFO:__main__:54 \t4     \t4.03018\t0.749879\t2.99182\t4.73957\n"
     ]
    },
    {
     "name": "stdout",
     "output_type": "stream",
     "text": [
      "true minimum 2.99182182811\n"
     ]
    },
    {
     "name": "stderr",
     "output_type": "stream",
     "text": [
      "INFO:__main__:55 \t4     \t4.57711\t0.507153\t3.59472\t5.07764\n"
     ]
    },
    {
     "name": "stdout",
     "output_type": "stream",
     "text": [
      "true minimum 2.99182182811\n"
     ]
    },
    {
     "name": "stderr",
     "output_type": "stream",
     "text": [
      "/home/jovyan/neuronunit/neuronunit/tests/passive.py:85: RuntimeWarning: overflow encountered in exp\n",
      "  vm_fit[offset:,0] = a * np.exp(-t[offset:]/b) + c\n",
      "/home/jovyan/neuronunit/neuronunit/tests/passive.py:85: RuntimeWarning: overflow encountered in multiply\n",
      "  vm_fit[offset:,0] = a * np.exp(-t[offset:]/b) + c\n",
      "INFO:__main__:56 \t5     \t4.965  \t0.353734\t4.37404\t5.44207\n"
     ]
    },
    {
     "name": "stdout",
     "output_type": "stream",
     "text": [
      "true minimum 2.99182182811\n"
     ]
    },
    {
     "name": "stderr",
     "output_type": "stream",
     "text": [
      "INFO:__main__:57 \t4     \t4.94033\t0.290541\t4.49424\t5.33279\n"
     ]
    },
    {
     "name": "stdout",
     "output_type": "stream",
     "text": [
      "true minimum 2.99182182811\n"
     ]
    },
    {
     "name": "stderr",
     "output_type": "stream",
     "text": [
      "INFO:__main__:58 \t4     \t4.01939\t0.874808\t2.99182\t4.95734\n"
     ]
    },
    {
     "name": "stdout",
     "output_type": "stream",
     "text": [
      "true minimum 2.99182182811\n"
     ]
    },
    {
     "name": "stderr",
     "output_type": "stream",
     "text": [
      "INFO:__main__:59 \t4     \t4.58366\t0.762433\t3.35157\t5.40481\n"
     ]
    },
    {
     "name": "stdout",
     "output_type": "stream",
     "text": [
      "true minimum 2.99182182811\n"
     ]
    },
    {
     "name": "stderr",
     "output_type": "stream",
     "text": [
      "INFO:__main__:60 \t6     \t3.8724 \t0.706549\t3.15745\t5.30354\n"
     ]
    },
    {
     "name": "stdout",
     "output_type": "stream",
     "text": [
      "true minimum 2.99182182811\n"
     ]
    },
    {
     "name": "stderr",
     "output_type": "stream",
     "text": [
      "INFO:__main__:61 \t5     \t4.04575\t0.794679\t3.14408\t5.30354\n"
     ]
    },
    {
     "name": "stdout",
     "output_type": "stream",
     "text": [
      "true minimum 2.99182182811\n"
     ]
    },
    {
     "name": "stderr",
     "output_type": "stream",
     "text": [
      "INFO:__main__:62 \t6     \t4.09405\t0.896957\t3.14351\t5.7101 \n"
     ]
    },
    {
     "name": "stdout",
     "output_type": "stream",
     "text": [
      "true minimum 2.99182182811\n"
     ]
    },
    {
     "name": "stderr",
     "output_type": "stream",
     "text": [
      "INFO:__main__:63 \t6     \t4.297  \t0.856857\t2.96964\t5.21997\n"
     ]
    },
    {
     "name": "stdout",
     "output_type": "stream",
     "text": [
      "true minimum 2.96964367379\n"
     ]
    },
    {
     "name": "stderr",
     "output_type": "stream",
     "text": [
      "INFO:__main__:64 \t6     \t4.30922\t0.66727 \t3.29948\t5.10631\n"
     ]
    },
    {
     "name": "stdout",
     "output_type": "stream",
     "text": [
      "true minimum 2.96964367379\n"
     ]
    },
    {
     "name": "stderr",
     "output_type": "stream",
     "text": [
      "INFO:__main__:65 \t5     \t3.78477\t0.682947\t3.31091\t5.09401\n"
     ]
    },
    {
     "name": "stdout",
     "output_type": "stream",
     "text": [
      "true minimum 2.96964367379\n"
     ]
    },
    {
     "name": "stderr",
     "output_type": "stream",
     "text": [
      "INFO:__main__:66 \t6     \t4.46096\t0.522407\t3.89602\t5.32886\n"
     ]
    },
    {
     "name": "stdout",
     "output_type": "stream",
     "text": [
      "true minimum 2.96964367379\n"
     ]
    },
    {
     "name": "stderr",
     "output_type": "stream",
     "text": [
      "INFO:__main__:67 \t5     \t4.49385\t0.428289\t3.91133\t5.20338\n"
     ]
    },
    {
     "name": "stdout",
     "output_type": "stream",
     "text": [
      "true minimum 2.96964367379\n"
     ]
    },
    {
     "name": "stderr",
     "output_type": "stream",
     "text": [
      "INFO:__main__:68 \t6     \t4.39372\t0.498931\t3.91133\t5.15897\n"
     ]
    },
    {
     "name": "stdout",
     "output_type": "stream",
     "text": [
      "true minimum 2.96964367379\n"
     ]
    },
    {
     "name": "stderr",
     "output_type": "stream",
     "text": [
      "INFO:__main__:69 \t6     \t4.58499\t0.393384\t3.98095\t5.2565 \n"
     ]
    },
    {
     "name": "stdout",
     "output_type": "stream",
     "text": [
      "true minimum 2.96964367379\n"
     ]
    },
    {
     "name": "stderr",
     "output_type": "stream",
     "text": [
      "INFO:__main__:70 \t6     \t3.96903\t0.443902\t3.24159\t4.52028\n"
     ]
    },
    {
     "name": "stdout",
     "output_type": "stream",
     "text": [
      "true minimum 2.96964367379\n"
     ]
    },
    {
     "name": "stderr",
     "output_type": "stream",
     "text": [
      "INFO:__main__:71 \t5     \t4.24541\t0.390298\t3.96593\t5.07562\n"
     ]
    },
    {
     "name": "stdout",
     "output_type": "stream",
     "text": [
      "true minimum 2.96964367379\n"
     ]
    },
    {
     "name": "stderr",
     "output_type": "stream",
     "text": [
      "INFO:__main__:72 \t5     \t3.5692 \t0.638318\t2.81818\t4.60251\n"
     ]
    },
    {
     "name": "stdout",
     "output_type": "stream",
     "text": [
      "true minimum 2.81817662327\n"
     ]
    },
    {
     "name": "stderr",
     "output_type": "stream",
     "text": [
      "INFO:__main__:73 \t6     \t3.91753\t0.512632\t3.24758\t4.94453\n"
     ]
    },
    {
     "name": "stdout",
     "output_type": "stream",
     "text": [
      "true minimum 2.81817662327\n"
     ]
    },
    {
     "name": "stderr",
     "output_type": "stream",
     "text": [
      "INFO:__main__:74 \t4     \t3.62826\t0.985904\t2.81818\t5.48352\n"
     ]
    },
    {
     "name": "stdout",
     "output_type": "stream",
     "text": [
      "true minimum 2.81817662327\n"
     ]
    },
    {
     "name": "stderr",
     "output_type": "stream",
     "text": [
      "INFO:__main__:75 \t6     \t3.85956\t0.707637\t2.88205\t4.66586\n"
     ]
    },
    {
     "name": "stdout",
     "output_type": "stream",
     "text": [
      "true minimum 2.81817662327\n"
     ]
    },
    {
     "name": "stderr",
     "output_type": "stream",
     "text": [
      "INFO:__main__:76 \t6     \t3.6798 \t0.631453\t2.81818\t4.27577\n"
     ]
    },
    {
     "name": "stdout",
     "output_type": "stream",
     "text": [
      "true minimum 2.81817662327\n"
     ]
    },
    {
     "name": "stderr",
     "output_type": "stream",
     "text": [
      "INFO:__main__:77 \t6     \t4.15053\t0.165328\t3.85328\t4.38312\n"
     ]
    },
    {
     "name": "stdout",
     "output_type": "stream",
     "text": [
      "true minimum 2.81817662327\n"
     ]
    },
    {
     "name": "stderr",
     "output_type": "stream",
     "text": [
      "INFO:__main__:78 \t6     \t3.4361 \t0.53812 \t2.76358\t4.20687\n"
     ]
    },
    {
     "name": "stdout",
     "output_type": "stream",
     "text": [
      "true minimum 2.76357717108\n"
     ]
    },
    {
     "name": "stderr",
     "output_type": "stream",
     "text": [
      "INFO:__main__:79 \t5     \t3.69135\t0.331072\t3.35456\t4.30059\n"
     ]
    },
    {
     "name": "stdout",
     "output_type": "stream",
     "text": [
      "true minimum 2.76357717108\n"
     ]
    },
    {
     "name": "stderr",
     "output_type": "stream",
     "text": [
      "INFO:__main__:80 \t6     \t4.05232\t0.710832\t2.76358\t5.10213\n"
     ]
    },
    {
     "name": "stdout",
     "output_type": "stream",
     "text": [
      "true minimum 2.76357717108\n"
     ]
    },
    {
     "name": "stderr",
     "output_type": "stream",
     "text": [
      "INFO:__main__:81 \t5     \t4.15533\t0.726237\t2.75113\t4.96021\n"
     ]
    },
    {
     "name": "stdout",
     "output_type": "stream",
     "text": [
      "true minimum 2.76357717108\n"
     ]
    },
    {
     "name": "stderr",
     "output_type": "stream",
     "text": [
      "INFO:__main__:82 \t6     \t3.58236\t0.452427\t2.8718 \t4.37413\n"
     ]
    },
    {
     "name": "stdout",
     "output_type": "stream",
     "text": [
      "true minimum 2.76357717108\n"
     ]
    },
    {
     "name": "stderr",
     "output_type": "stream",
     "text": [
      "INFO:__main__:83 \t6     \t3.60259\t0.589934\t2.81867\t4.64001\n"
     ]
    },
    {
     "name": "stdout",
     "output_type": "stream",
     "text": [
      "true minimum 2.76357717108\n"
     ]
    },
    {
     "name": "stderr",
     "output_type": "stream",
     "text": [
      "INFO:__main__:84 \t6     \t3.63368\t0.613307\t3.01626\t4.76451\n"
     ]
    },
    {
     "name": "stdout",
     "output_type": "stream",
     "text": [
      "true minimum 2.76357717108\n"
     ]
    },
    {
     "name": "stderr",
     "output_type": "stream",
     "text": [
      "INFO:__main__:85 \t6     \t4.14238\t0.754201\t2.82455\t4.8034 \n"
     ]
    },
    {
     "name": "stdout",
     "output_type": "stream",
     "text": [
      "true minimum 2.76357717108\n"
     ]
    },
    {
     "name": "stderr",
     "output_type": "stream",
     "text": [
      "INFO:__main__:86 \t4     \t3.92542\t0.729978\t3.02329\t4.98257\n"
     ]
    },
    {
     "name": "stdout",
     "output_type": "stream",
     "text": [
      "true minimum 2.76357717108\n"
     ]
    },
    {
     "name": "stderr",
     "output_type": "stream",
     "text": [
      "INFO:__main__:87 \t5     \t3.51059\t0.663082\t2.94123\t4.82076\n"
     ]
    },
    {
     "name": "stdout",
     "output_type": "stream",
     "text": [
      "true minimum 2.76357717108\n"
     ]
    },
    {
     "name": "stderr",
     "output_type": "stream",
     "text": [
      "INFO:__main__:88 \t6     \t3.37568\t0.756833\t2.67377\t4.56136\n"
     ]
    },
    {
     "name": "stdout",
     "output_type": "stream",
     "text": [
      "true minimum 2.76357717108\n"
     ]
    },
    {
     "name": "stderr",
     "output_type": "stream",
     "text": [
      "INFO:__main__:89 \t6     \t3.51921\t0.73003 \t2.67377\t4.64387\n"
     ]
    },
    {
     "name": "stdout",
     "output_type": "stream",
     "text": [
      "true minimum 2.67376895409\n"
     ]
    },
    {
     "name": "stderr",
     "output_type": "stream",
     "text": [
      "INFO:__main__:90 \t5     \t3.74916\t0.72867 \t2.67377\t4.53191\n"
     ]
    },
    {
     "name": "stdout",
     "output_type": "stream",
     "text": [
      "true minimum 2.67376895409\n"
     ]
    },
    {
     "name": "stderr",
     "output_type": "stream",
     "text": [
      "INFO:__main__:91 \t5     \t4.2997 \t0.409688\t3.89017\t5.09722\n"
     ]
    },
    {
     "name": "stdout",
     "output_type": "stream",
     "text": [
      "true minimum 2.67376895409\n"
     ]
    },
    {
     "name": "stderr",
     "output_type": "stream",
     "text": [
      "INFO:__main__:92 \t6     \t3.58176\t0.9467  \t2.67377\t5.07645\n"
     ]
    },
    {
     "name": "stdout",
     "output_type": "stream",
     "text": [
      "true minimum 2.67376895409\n"
     ]
    },
    {
     "name": "stderr",
     "output_type": "stream",
     "text": [
      "INFO:__main__:93 \t6     \t3.70092\t0.558363\t2.57566\t4.19994\n"
     ]
    },
    {
     "name": "stdout",
     "output_type": "stream",
     "text": [
      "true minimum 2.57566379294\n"
     ]
    },
    {
     "name": "stderr",
     "output_type": "stream",
     "text": [
      "INFO:__main__:94 \t6     \t4.73009\t0.381539\t4.02488\t5.07645\n"
     ]
    },
    {
     "name": "stdout",
     "output_type": "stream",
     "text": [
      "true minimum 2.57566379294\n"
     ]
    },
    {
     "name": "stderr",
     "output_type": "stream",
     "text": [
      "INFO:__main__:95 \t6     \t3.78595\t0.434481\t2.89454\t4.22599\n"
     ]
    },
    {
     "name": "stdout",
     "output_type": "stream",
     "text": [
      "true minimum 2.57566379294\n"
     ]
    },
    {
     "name": "stderr",
     "output_type": "stream",
     "text": [
      "INFO:__main__:96 \t6     \t4.22617\t0.18045 \t3.91835\t4.51524\n"
     ]
    },
    {
     "name": "stdout",
     "output_type": "stream",
     "text": [
      "true minimum 2.57566379294\n"
     ]
    },
    {
     "name": "stderr",
     "output_type": "stream",
     "text": [
      "INFO:__main__:97 \t4     \t3.88434\t0.821507\t2.57566\t4.93564\n"
     ]
    },
    {
     "name": "stdout",
     "output_type": "stream",
     "text": [
      "true minimum 2.57566379294\n"
     ]
    },
    {
     "name": "stderr",
     "output_type": "stream",
     "text": [
      "INFO:__main__:98 \t4     \t4.45176\t0.807055\t3.08223\t5.58645\n"
     ]
    },
    {
     "name": "stdout",
     "output_type": "stream",
     "text": [
      "true minimum 2.57566379294\n"
     ]
    },
    {
     "name": "stderr",
     "output_type": "stream",
     "text": [
      "INFO:__main__:99 \t5     \t3.13081\t0.467016\t2.57566\t3.92952\n"
     ]
    },
    {
     "name": "stdout",
     "output_type": "stream",
     "text": [
      "true minimum 2.57566379294\n"
     ]
    },
    {
     "name": "stderr",
     "output_type": "stream",
     "text": [
      "INFO:__main__:100\t3     \t3.23386\t0.278715\t2.8643 \t3.67439\n"
     ]
    },
    {
     "name": "stdout",
     "output_type": "stream",
     "text": [
      "true minimum 2.57566379294\n"
     ]
    },
    {
     "name": "stderr",
     "output_type": "stream",
     "text": [
      "INFO:__main__:101\t6     \t3.75427\t0.643775\t2.86317\t4.7178 \n"
     ]
    },
    {
     "name": "stdout",
     "output_type": "stream",
     "text": [
      "true minimum 2.57566379294\n"
     ]
    },
    {
     "name": "stderr",
     "output_type": "stream",
     "text": [
      "INFO:__main__:102\t5     \t3.98314\t0.547056\t3.26943\t4.59543\n"
     ]
    },
    {
     "name": "stdout",
     "output_type": "stream",
     "text": [
      "true minimum 2.57566379294\n"
     ]
    },
    {
     "name": "stderr",
     "output_type": "stream",
     "text": [
      "INFO:__main__:103\t6     \t3.84598\t0.476044\t3.12788\t4.50232\n"
     ]
    },
    {
     "name": "stdout",
     "output_type": "stream",
     "text": [
      "true minimum 2.57566379294\n"
     ]
    },
    {
     "name": "stderr",
     "output_type": "stream",
     "text": [
      "INFO:__main__:104\t6     \t3.70835\t0.554704\t2.84278\t4.52018\n"
     ]
    },
    {
     "name": "stdout",
     "output_type": "stream",
     "text": [
      "true minimum 2.57566379294\n"
     ]
    },
    {
     "name": "stderr",
     "output_type": "stream",
     "text": [
      "INFO:__main__:105\t5     \t3.56966\t0.699784\t2.57566\t4.75566\n"
     ]
    },
    {
     "name": "stdout",
     "output_type": "stream",
     "text": [
      "true minimum 2.57566379294\n"
     ]
    },
    {
     "name": "stderr",
     "output_type": "stream",
     "text": [
      "INFO:__main__:106\t6     \t3.91155\t0.531345\t3.2797 \t4.63286\n"
     ]
    },
    {
     "name": "stdout",
     "output_type": "stream",
     "text": [
      "true minimum 2.57566379294\n"
     ]
    },
    {
     "name": "stderr",
     "output_type": "stream",
     "text": [
      "INFO:__main__:107\t6     \t4.21167\t0.359962\t3.82872\t4.69631\n"
     ]
    },
    {
     "name": "stdout",
     "output_type": "stream",
     "text": [
      "true minimum 2.57566379294\n"
     ]
    },
    {
     "name": "stderr",
     "output_type": "stream",
     "text": [
      "INFO:__main__:108\t5     \t3.49911\t0.624585\t2.51113\t4.28619\n"
     ]
    },
    {
     "name": "stdout",
     "output_type": "stream",
     "text": [
      "true minimum 2.57566379294\n"
     ]
    },
    {
     "name": "stderr",
     "output_type": "stream",
     "text": [
      "INFO:__main__:109\t5     \t3.93379\t0.504683\t3.04739\t4.50143\n"
     ]
    },
    {
     "name": "stdout",
     "output_type": "stream",
     "text": [
      "true minimum 2.57566379294\n"
     ]
    },
    {
     "name": "stderr",
     "output_type": "stream",
     "text": [
      "INFO:__main__:110\t6     \t3.80815\t0.859721\t2.5838 \t4.84365\n"
     ]
    },
    {
     "name": "stdout",
     "output_type": "stream",
     "text": [
      "true minimum 2.57566379294\n"
     ]
    },
    {
     "name": "stderr",
     "output_type": "stream",
     "text": [
      "INFO:__main__:111\t3     \t4.44002\t0.694086\t2.95128\t5.0606 \n"
     ]
    },
    {
     "name": "stdout",
     "output_type": "stream",
     "text": [
      "true minimum 2.57566379294\n"
     ]
    },
    {
     "name": "stderr",
     "output_type": "stream",
     "text": [
      "INFO:__main__:112\t6     \t3.51671\t0.838114\t2.71379\t4.74616\n"
     ]
    },
    {
     "name": "stdout",
     "output_type": "stream",
     "text": [
      "true minimum 2.57566379294\n"
     ]
    },
    {
     "name": "stderr",
     "output_type": "stream",
     "text": [
      "INFO:__main__:113\t6     \t3.35559\t0.696034\t2.68253\t4.65919\n"
     ]
    },
    {
     "name": "stdout",
     "output_type": "stream",
     "text": [
      "true minimum 2.57566379294\n"
     ]
    },
    {
     "name": "stderr",
     "output_type": "stream",
     "text": [
      "INFO:__main__:114\t5     \t4.06026\t0.35726 \t3.51036\t4.48074\n"
     ]
    },
    {
     "name": "stdout",
     "output_type": "stream",
     "text": [
      "true minimum 2.57566379294\n"
     ]
    },
    {
     "name": "stderr",
     "output_type": "stream",
     "text": [
      "INFO:__main__:115\t6     \t3.7781 \t0.624878\t2.69079\t4.53203\n"
     ]
    },
    {
     "name": "stdout",
     "output_type": "stream",
     "text": [
      "true minimum 2.57566379294\n"
     ]
    },
    {
     "name": "stderr",
     "output_type": "stream",
     "text": [
      "INFO:__main__:116\t6     \t4.52828\t0.350257\t4.02333\t4.97471\n"
     ]
    },
    {
     "name": "stdout",
     "output_type": "stream",
     "text": [
      "true minimum 2.57566379294\n"
     ]
    },
    {
     "name": "stderr",
     "output_type": "stream",
     "text": [
      "INFO:__main__:117\t6     \t3.79893\t0.733294\t2.57566\t4.73152\n"
     ]
    },
    {
     "name": "stdout",
     "output_type": "stream",
     "text": [
      "true minimum 2.57566379294\n"
     ]
    },
    {
     "name": "stderr",
     "output_type": "stream",
     "text": [
      "INFO:__main__:118\t6     \t4.12033\t0.43679 \t3.5553 \t4.78582\n"
     ]
    },
    {
     "name": "stdout",
     "output_type": "stream",
     "text": [
      "true minimum 2.57566379294\n"
     ]
    },
    {
     "name": "stderr",
     "output_type": "stream",
     "text": [
      "INFO:__main__:119\t6     \t4.30814\t0.606473\t3.27424\t5.11783\n"
     ]
    },
    {
     "name": "stdout",
     "output_type": "stream",
     "text": [
      "true minimum 2.57566379294\n"
     ]
    },
    {
     "name": "stderr",
     "output_type": "stream",
     "text": [
      "INFO:__main__:120\t6     \t4.65842\t0.417121\t4.20234\t5.26784\n"
     ]
    },
    {
     "name": "stdout",
     "output_type": "stream",
     "text": [
      "true minimum 2.57566379294\n"
     ]
    },
    {
     "name": "stderr",
     "output_type": "stream",
     "text": [
      "INFO:__main__:121\t4     \t3.82854\t1.2548  \t2.57566\t5.30091\n"
     ]
    },
    {
     "name": "stdout",
     "output_type": "stream",
     "text": [
      "true minimum 2.57566379294\n"
     ]
    },
    {
     "name": "stderr",
     "output_type": "stream",
     "text": [
      "INFO:__main__:122\t6     \t4.02754\t0.928535\t2.60214\t5.08902\n"
     ]
    },
    {
     "name": "stdout",
     "output_type": "stream",
     "text": [
      "true minimum 2.57566379294\n"
     ]
    },
    {
     "name": "stderr",
     "output_type": "stream",
     "text": [
      "INFO:__main__:123\t5     \t3.73497\t0.660277\t2.92228\t4.96072\n"
     ]
    },
    {
     "name": "stdout",
     "output_type": "stream",
     "text": [
      "true minimum 2.57566379294\n"
     ]
    },
    {
     "name": "stderr",
     "output_type": "stream",
     "text": [
      "INFO:__main__:124\t6     \t3.19457\t0.771896\t2.57566\t4.68117\n"
     ]
    },
    {
     "name": "stdout",
     "output_type": "stream",
     "text": [
      "true minimum 2.57566379294\n"
     ]
    },
    {
     "name": "stderr",
     "output_type": "stream",
     "text": [
      "INFO:__main__:125\t5     \t3.10875\t0.368865\t2.75811\t3.88946\n"
     ]
    },
    {
     "name": "stdout",
     "output_type": "stream",
     "text": [
      "true minimum 2.57566379294\n"
     ]
    },
    {
     "name": "stderr",
     "output_type": "stream",
     "text": [
      "INFO:__main__:126\t6     \t3.48925\t0.482242\t2.52307\t3.99873\n"
     ]
    },
    {
     "name": "stdout",
     "output_type": "stream",
     "text": [
      "true minimum 2.52307142918\n"
     ]
    },
    {
     "name": "stderr",
     "output_type": "stream",
     "text": [
      "INFO:__main__:127\t5     \t4.19127\t0.339083\t3.74789\t4.64646\n"
     ]
    },
    {
     "name": "stdout",
     "output_type": "stream",
     "text": [
      "true minimum 2.52307142918\n"
     ]
    },
    {
     "name": "stderr",
     "output_type": "stream",
     "text": [
      "INFO:__main__:128\t6     \t4.40673\t0.395357\t3.65162\t4.75879\n"
     ]
    },
    {
     "name": "stdout",
     "output_type": "stream",
     "text": [
      "true minimum 2.52307142918\n"
     ]
    },
    {
     "name": "stderr",
     "output_type": "stream",
     "text": [
      "INFO:__main__:129\t6     \t4.16878\t0.66866 \t3.24772\t5.17818\n"
     ]
    },
    {
     "name": "stdout",
     "output_type": "stream",
     "text": [
      "true minimum 2.52307142918\n"
     ]
    },
    {
     "name": "stderr",
     "output_type": "stream",
     "text": [
      "INFO:__main__:130\t5     \t4.27789\t0.459872\t3.78188\t4.96411\n"
     ]
    },
    {
     "name": "stdout",
     "output_type": "stream",
     "text": [
      "true minimum 2.52307142918\n"
     ]
    },
    {
     "name": "stderr",
     "output_type": "stream",
     "text": [
      "INFO:__main__:131\t6     \t4.56138\t0.395438\t3.7653 \t4.96354\n"
     ]
    },
    {
     "name": "stdout",
     "output_type": "stream",
     "text": [
      "true minimum 2.52307142918\n"
     ]
    },
    {
     "name": "stderr",
     "output_type": "stream",
     "text": [
      "INFO:__main__:132\t5     \t4.43038\t0.394408\t3.81467\t4.85663\n"
     ]
    },
    {
     "name": "stdout",
     "output_type": "stream",
     "text": [
      "true minimum 2.52307142918\n"
     ]
    },
    {
     "name": "stderr",
     "output_type": "stream",
     "text": [
      "/home/jovyan/neuronunit/neuronunit/tests/passive.py:85: RuntimeWarning: overflow encountered in exp\n",
      "  vm_fit[offset:,0] = a * np.exp(-t[offset:]/b) + c\n",
      "/home/jovyan/neuronunit/neuronunit/tests/passive.py:85: RuntimeWarning: overflow encountered in multiply\n",
      "  vm_fit[offset:,0] = a * np.exp(-t[offset:]/b) + c\n",
      "INFO:__main__:133\t6     \t4.14342\t0.644854\t2.82012\t4.6975 \n"
     ]
    },
    {
     "name": "stdout",
     "output_type": "stream",
     "text": [
      "true minimum 2.52307142918\n"
     ]
    },
    {
     "name": "stderr",
     "output_type": "stream",
     "text": [
      "INFO:__main__:134\t6     \t4.25484\t0.387427\t3.90716\t4.97103\n"
     ]
    },
    {
     "name": "stdout",
     "output_type": "stream",
     "text": [
      "true minimum 2.52307142918\n"
     ]
    },
    {
     "name": "stderr",
     "output_type": "stream",
     "text": [
      "/home/jovyan/neuronunit/neuronunit/tests/passive.py:85: RuntimeWarning: overflow encountered in exp\n",
      "  vm_fit[offset:,0] = a * np.exp(-t[offset:]/b) + c\n",
      "/home/jovyan/neuronunit/neuronunit/tests/passive.py:85: RuntimeWarning: overflow encountered in multiply\n",
      "  vm_fit[offset:,0] = a * np.exp(-t[offset:]/b) + c\n",
      "INFO:__main__:135\t6     \t3.48361\t0.807436\t2.52307\t4.6866 \n"
     ]
    },
    {
     "name": "stdout",
     "output_type": "stream",
     "text": [
      "true minimum 2.52307142918\n"
     ]
    },
    {
     "name": "stderr",
     "output_type": "stream",
     "text": [
      "INFO:__main__:136\t4     \t3.98643\t0.897139\t2.82012\t5.02655\n"
     ]
    },
    {
     "name": "stdout",
     "output_type": "stream",
     "text": [
      "true minimum 2.52307142918\n"
     ]
    },
    {
     "name": "stderr",
     "output_type": "stream",
     "text": [
      "INFO:__main__:137\t3     \t3.68158\t0.525409\t2.82012\t4.36394\n"
     ]
    },
    {
     "name": "stdout",
     "output_type": "stream",
     "text": [
      "true minimum 2.52307142918\n"
     ]
    },
    {
     "name": "stderr",
     "output_type": "stream",
     "text": [
      "/home/jovyan/neuronunit/neuronunit/tests/passive.py:85: RuntimeWarning: overflow encountered in exp\n",
      "  vm_fit[offset:,0] = a * np.exp(-t[offset:]/b) + c\n",
      "/home/jovyan/neuronunit/neuronunit/tests/passive.py:85: RuntimeWarning: overflow encountered in multiply\n",
      "  vm_fit[offset:,0] = a * np.exp(-t[offset:]/b) + c\n",
      "INFO:__main__:138\t6     \t4.05625\t0.440638\t3.3411 \t4.51551\n"
     ]
    },
    {
     "name": "stdout",
     "output_type": "stream",
     "text": [
      "true minimum 2.52307142918\n"
     ]
    },
    {
     "name": "stderr",
     "output_type": "stream",
     "text": [
      "/home/jovyan/neuronunit/neuronunit/tests/passive.py:85: RuntimeWarning: overflow encountered in exp\n",
      "  vm_fit[offset:,0] = a * np.exp(-t[offset:]/b) + c\n",
      "/home/jovyan/neuronunit/neuronunit/tests/passive.py:85: RuntimeWarning: overflow encountered in multiply\n",
      "  vm_fit[offset:,0] = a * np.exp(-t[offset:]/b) + c\n",
      "/home/jovyan/neuronunit/neuronunit/tests/passive.py:85: RuntimeWarning: overflow encountered in exp\n",
      "  vm_fit[offset:,0] = a * np.exp(-t[offset:]/b) + c\n",
      "/home/jovyan/neuronunit/neuronunit/tests/passive.py:85: RuntimeWarning: overflow encountered in multiply\n",
      "  vm_fit[offset:,0] = a * np.exp(-t[offset:]/b) + c\n",
      "INFO:__main__:139\t6     \t3.91535\t0.503572\t3.03509\t4.36077\n"
     ]
    },
    {
     "name": "stdout",
     "output_type": "stream",
     "text": [
      "true minimum 2.52307142918\n"
     ]
    },
    {
     "name": "stderr",
     "output_type": "stream",
     "text": [
      "INFO:__main__:140\t5     \t3.87695\t0.58941 \t2.96266\t4.5847 \n"
     ]
    },
    {
     "name": "stdout",
     "output_type": "stream",
     "text": [
      "true minimum 2.52307142918\n"
     ]
    },
    {
     "name": "stderr",
     "output_type": "stream",
     "text": [
      "INFO:__main__:141\t6     \t3.69296\t0.565951\t3.03827\t4.46658\n"
     ]
    },
    {
     "name": "stdout",
     "output_type": "stream",
     "text": [
      "true minimum 2.52307142918\n"
     ]
    },
    {
     "name": "stderr",
     "output_type": "stream",
     "text": [
      "INFO:__main__:142\t6     \t3.29519\t0.437201\t2.71273\t3.98314\n"
     ]
    },
    {
     "name": "stdout",
     "output_type": "stream",
     "text": [
      "true minimum 2.52307142918\n"
     ]
    },
    {
     "name": "stderr",
     "output_type": "stream",
     "text": [
      "INFO:__main__:143\t6     \t4.07268\t0.334234\t3.35507\t4.36123\n"
     ]
    },
    {
     "name": "stdout",
     "output_type": "stream",
     "text": [
      "true minimum 2.52307142918\n"
     ]
    },
    {
     "name": "stderr",
     "output_type": "stream",
     "text": [
      "INFO:__main__:144\t5     \t3.96881\t0.702166\t2.68926\t4.74622\n"
     ]
    },
    {
     "name": "stdout",
     "output_type": "stream",
     "text": [
      "true minimum 2.52307142918\n"
     ]
    },
    {
     "name": "stderr",
     "output_type": "stream",
     "text": [
      "INFO:__main__:145\t6     \t4.0623 \t0.283412\t3.50879\t4.41424\n"
     ]
    },
    {
     "name": "stdout",
     "output_type": "stream",
     "text": [
      "true minimum 2.52307142918\n"
     ]
    },
    {
     "name": "stderr",
     "output_type": "stream",
     "text": [
      "INFO:__main__:146\t6     \t4.21897\t0.474539\t3.18645\t4.58636\n"
     ]
    },
    {
     "name": "stdout",
     "output_type": "stream",
     "text": [
      "true minimum 2.52307142918\n"
     ]
    },
    {
     "name": "stderr",
     "output_type": "stream",
     "text": [
      "INFO:__main__:147\t5     \t4.28308\t0.376596\t3.66355\t4.82235\n"
     ]
    },
    {
     "name": "stdout",
     "output_type": "stream",
     "text": [
      "true minimum 2.52307142918\n"
     ]
    },
    {
     "name": "stderr",
     "output_type": "stream",
     "text": [
      "INFO:__main__:148\t5     \t4.11082\t0.0954588\t4.06037\t4.32177\n"
     ]
    },
    {
     "name": "stdout",
     "output_type": "stream",
     "text": [
      "true minimum 2.52307142918\n"
     ]
    },
    {
     "name": "stderr",
     "output_type": "stream",
     "text": [
      "INFO:__main__:149\t6     \t3.87063\t0.657622 \t2.80581\t4.47962\n"
     ]
    },
    {
     "name": "stdout",
     "output_type": "stream",
     "text": [
      "true minimum 2.52307142918\n"
     ]
    },
    {
     "name": "stderr",
     "output_type": "stream",
     "text": [
      "INFO:__main__:150\t6     \t3.95304\t0.490059 \t3.23952\t4.40974\n"
     ]
    },
    {
     "name": "stdout",
     "output_type": "stream",
     "text": [
      "true minimum 2.52307142918\n"
     ]
    }
   ],
   "source": [
    "key = str('Neocortex pyramidal cell layer 5-6')\n",
    "\n",
    "\n",
    "try:\n",
    "    with open('multi_objective_izhi'+str(key)+'.p','rb') as f:\n",
    "        test_opt = pickle.load(f)\n",
    "except:\n",
    "    MU = 6\n",
    "    NGEN = 150\n",
    "    seed = seeds[key]\n",
    "    use_test = test_frame[key]\n",
    "    print(seed)\n",
    "    ga_out, _ = om.run_ga(explore_param,NGEN,use_test,free_params=free_params, NSGA = True, MU = MU,seed_pop = seed, model_type = str('RAW'))\n",
    "\n",
    "    test_opt =  {str('multi_objective_izhi')+str(key):ga_out}\n",
    "    with open('multi_objective_izhi'+str(key)+'.p','wb') as f:\n",
    "        pickle.dump(test_opt,f)\n",
    "\n"
   ]
  },
  {
   "cell_type": "markdown",
   "metadata": {},
   "source": [
    "The optimizer needs to find a parameter set much better than 4.66 in order to be worthwhile, for the case of the Neo Cortical Pyramidal neuron. In only 10 generations the optimizer finds a parameter set 3.24. In 23 generations it finds a model with score 2.99."
   ]
  },
  {
   "cell_type": "code",
   "execution_count": 77,
   "metadata": {
    "collapsed": false
   },
   "outputs": [
    {
     "name": "stdout",
     "output_type": "stream",
     "text": [
      "its True that 2.523071429176899 is significantly less than 5.47\n",
      "Neocortex pyramidal cell layer 5-6\n"
     ]
    }
   ],
   "source": [
    "for k,v in test_opt.items():\n",
    "    #list_best = []\n",
    "    best_model = v['pf'][0]\n",
    "    second_best_model = v['pf'][1]\n",
    "    third_best_model = v['pf'][2]\n",
    "    list_best = [best_model,second_best_model,third_best_model]\n",
    "summed = best_model.dtc.get_ss()\n",
    "print('its {2} that {0} is significantly less than {1}'.format(summed,5.47,summed<5.47))\n",
    "print(key)"
   ]
  },
  {
   "cell_type": "code",
   "execution_count": 44,
   "metadata": {
    "collapsed": false
   },
   "outputs": [
    {
     "data": {
      "text/plain": [
       "{'C': 80.32327976522879,\n",
       " 'a': 0.017035973642268745,\n",
       " 'b': -1.995763503718458,\n",
       " 'c': -56.110284353607987,\n",
       " 'd': 39.870524431534278,\n",
       " 'k': 0.52366419898375982,\n",
       " 'vPeak': 3.4684930072840432,\n",
       " 'vr': -67.290036991963049}"
      ]
     },
     "execution_count": 44,
     "metadata": {},
     "output_type": "execute_result"
    }
   ],
   "source": [
    "best_model.dtc.attrs"
   ]
  },
  {
   "cell_type": "code",
   "execution_count": 45,
   "metadata": {
    "collapsed": false
   },
   "outputs": [
    {
     "data": {
      "text/plain": [
       "{'CapacitanceTest': 0.14163892773420128,\n",
       " 'InjectedCurrentAPAmplitudeTest': 0.9999999997243523,\n",
       " 'InjectedCurrentAPThresholdTest': 0.3846682140841715,\n",
       " 'InjectedCurrentAPWidthTest': 0.10023627982283978,\n",
       " 'InputResistanceTest': 0.08782389566447724,\n",
       " 'RestingPotentialTest': 0.02152619567192071,\n",
       " 'RheobaseTestP': 0.7321282418074668,\n",
       " 'TimeConstantTest': 0.05504967466746935}"
      ]
     },
     "execution_count": 45,
     "metadata": {},
     "output_type": "execute_result"
    }
   ],
   "source": [
    "best_model.dtc.scores\n"
   ]
  },
  {
   "cell_type": "code",
   "execution_count": 50,
   "metadata": {
    "collapsed": false
   },
   "outputs": [
    {
     "data": {
      "text/plain": [
       "{'CapacitanceTest': {'value': 0.8583610722657987},\n",
       " 'InjectedCurrentAPAmplitudeTest': {'value': 2.7564772686616834e-10},\n",
       " 'InjectedCurrentAPThresholdTest': {'value': 0.6153317859158285},\n",
       " 'InjectedCurrentAPWidthTest': {'value': 0.8997637201771602},\n",
       " 'InputResistanceTest': {'value': 0.9121761043355228},\n",
       " 'RestingPotentialTest': {'value': 0.9784738043280793},\n",
       " 'RheobaseTestP': {'value': 0.26787175819253317},\n",
       " 'TimeConstantTest': {'value': 0.9449503253325306}}"
      ]
     },
     "execution_count": 50,
     "metadata": {},
     "output_type": "execute_result"
    }
   ],
   "source": [
    "best_model.dtc.score"
   ]
  },
  {
   "cell_type": "code",
   "execution_count": 49,
   "metadata": {
    "collapsed": false
   },
   "outputs": [
    {
     "name": "stdout",
     "output_type": "stream",
     "text": [
      "{'mean': array(213.849583333333) * pA, 'n': 32, 'std': array(170.452454715608) * pA}\n",
      "{'mean': array(120.672073643411) * Mohm, 'n': 86, 'std': array(77.6331608333564) * Mohm}\n",
      "{'mean': array(15.7342424242424) * ms, 'n': 33, 'std': array(7.31162636832495) * ms}\n",
      "{'mean': array(150.584166666667) * pF, 'n': 12, 'std': array(139.683884626343) * pF}\n",
      "{'mean': array(-68.2481434599156) * mV, 'n': 79, 'std': array(6.53234788156637) * mV}\n",
      "{'mean': array(1.20769387755102) * ms, 'n': 49, 'std': array(0.534345918375033) * ms}\n",
      "{'mean': array(80.4351020408164) * mV, 'n': 49, 'std': array(12.7488030357545) * mV}\n",
      "{'mean': array(-42.7357232704403) * mV, 'n': 53, 'std': array(8.04073233409085) * mV}\n"
     ]
    }
   ],
   "source": [
    "for row in test_frame['Neocortex pyramidal cell layer 5-6']:\n",
    "    print(row.observation)\n"
   ]
  },
  {
   "cell_type": "code",
   "execution_count": 51,
   "metadata": {
    "collapsed": true
   },
   "outputs": [],
   "source": [
    "key = str('Neocortex pyramidal cell layer 5-6')\n",
    "\n",
    "\n",
    "\n",
    "'''\n",
    "dtc = dtc_to_rheo(dtc)\n",
    "dtc = format_test(dtc)\n",
    "if dtc.rheobase is not None:\n",
    "    if dtc.rheobase!=-1.0:\n",
    "        dtc = nunit_evaluation(dtc)\n",
    "'''        \n",
    "    \n"
   ]
  },
  {
   "cell_type": "code",
   "execution_count": 76,
   "metadata": {
    "collapsed": false
   },
   "outputs": [],
   "source": [
    "#df"
   ]
  },
  {
   "cell_type": "code",
   "execution_count": 83,
   "metadata": {
    "collapsed": false
   },
   "outputs": [
    {
     "data": {
      "text/html": [
       "<div>\n",
       "<style scoped>\n",
       "    .dataframe tbody tr th:only-of-type {\n",
       "        vertical-align: middle;\n",
       "    }\n",
       "\n",
       "    .dataframe tbody tr th {\n",
       "        vertical-align: top;\n",
       "    }\n",
       "\n",
       "    .dataframe thead th {\n",
       "        text-align: right;\n",
       "    }\n",
       "</style>\n",
       "<table border=\"1\" class=\"dataframe\">\n",
       "  <thead>\n",
       "    <tr style=\"text-align: right;\">\n",
       "      <th></th>\n",
       "      <th>observation</th>\n",
       "      <th>prediction</th>\n",
       "      <th>disagreement</th>\n",
       "    </tr>\n",
       "  </thead>\n",
       "  <tbody>\n",
       "    <tr>\n",
       "      <th>RheobaseTestP</th>\n",
       "      <td>213.849583333333 pA</td>\n",
       "      <td>24.9921875 pA</td>\n",
       "      <td>188.857395833333 pA</td>\n",
       "    </tr>\n",
       "    <tr>\n",
       "      <th>InputResistanceTest</th>\n",
       "      <td>120.672073643411 Mohm</td>\n",
       "      <td>129234556.37052076 kg*m**2/(s**3*A**2)</td>\n",
       "      <td>8.562482727109753 Mohm</td>\n",
       "    </tr>\n",
       "    <tr>\n",
       "      <th>TimeConstantTest</th>\n",
       "      <td>15.7342424242424 ms</td>\n",
       "      <td>0.016239105584981928 s</td>\n",
       "      <td>0.5048631607395286 ms</td>\n",
       "    </tr>\n",
       "    <tr>\n",
       "      <th>CapacitanceTest</th>\n",
       "      <td>150.584166666667 pF</td>\n",
       "      <td>1.2565606321596948e-10 s**4*A**2/(kg*m**2)</td>\n",
       "      <td>24.92810345069752 pF</td>\n",
       "    </tr>\n",
       "    <tr>\n",
       "      <th>RestingPotentialTest</th>\n",
       "      <td>-68.2481434599156 mV</td>\n",
       "      <td>-0.06842440161605753 V</td>\n",
       "      <td>0.17625815614194096 mV</td>\n",
       "    </tr>\n",
       "    <tr>\n",
       "      <th>InjectedCurrentAPWidthTest</th>\n",
       "      <td>1.20769387755102 ms</td>\n",
       "      <td>0.001275 s</td>\n",
       "      <td>0.06730612244898015 ms</td>\n",
       "    </tr>\n",
       "    <tr>\n",
       "      <th>InjectedCurrentAPAmplitudeTest</th>\n",
       "      <td>80.4351020408164 mV</td>\n",
       "      <td>-3.394359574052097e-05 V</td>\n",
       "      <td>80.46904563655693 mV</td>\n",
       "    </tr>\n",
       "    <tr>\n",
       "      <th>InjectedCurrentAPThresholdTest</th>\n",
       "      <td>-42.7357232704403 mV</td>\n",
       "      <td>-0.03869543745051891 V</td>\n",
       "      <td>4.040285819921387 mV</td>\n",
       "    </tr>\n",
       "    <tr>\n",
       "      <th>RheobaseTestP</th>\n",
       "      <td>213.849583333333 pA</td>\n",
       "      <td>25.154296875 pA</td>\n",
       "      <td>188.695286458333 pA</td>\n",
       "    </tr>\n",
       "    <tr>\n",
       "      <th>InputResistanceTest</th>\n",
       "      <td>120.672073643411 Mohm</td>\n",
       "      <td>127521728.72962098 kg*m**2/(s**3*A**2)</td>\n",
       "      <td>6.849655086209978 Mohm</td>\n",
       "    </tr>\n",
       "    <tr>\n",
       "      <th>TimeConstantTest</th>\n",
       "      <td>15.7342424242424 ms</td>\n",
       "      <td>0.015195661560195011 s</td>\n",
       "      <td>0.5385808640473879 ms</td>\n",
       "    </tr>\n",
       "    <tr>\n",
       "      <th>CapacitanceTest</th>\n",
       "      <td>150.584166666667 pF</td>\n",
       "      <td>1.1916135165022537e-10 s**4*A**2/(kg*m**2)</td>\n",
       "      <td>31.422815016441632 pF</td>\n",
       "    </tr>\n",
       "    <tr>\n",
       "      <th>RestingPotentialTest</th>\n",
       "      <td>-68.2481434599156 mV</td>\n",
       "      <td>-0.068399020199018 V</td>\n",
       "      <td>0.15087673910240085 mV</td>\n",
       "    </tr>\n",
       "    <tr>\n",
       "      <th>InjectedCurrentAPWidthTest</th>\n",
       "      <td>1.20769387755102 ms</td>\n",
       "      <td>0.001275 s</td>\n",
       "      <td>0.06730612244898015 ms</td>\n",
       "    </tr>\n",
       "    <tr>\n",
       "      <th>InjectedCurrentAPAmplitudeTest</th>\n",
       "      <td>80.4351020408164 mV</td>\n",
       "      <td>-0.0003786137860437716 V</td>\n",
       "      <td>80.81371582686018 mV</td>\n",
       "    </tr>\n",
       "    <tr>\n",
       "      <th>InjectedCurrentAPThresholdTest</th>\n",
       "      <td>-42.7357232704403 mV</td>\n",
       "      <td>-0.03830641512782343 V</td>\n",
       "      <td>4.429308142616875 mV</td>\n",
       "    </tr>\n",
       "    <tr>\n",
       "      <th>RheobaseTestP</th>\n",
       "      <td>213.849583333333 pA</td>\n",
       "      <td>24.9921875 pA</td>\n",
       "      <td>188.857395833333 pA</td>\n",
       "    </tr>\n",
       "    <tr>\n",
       "      <th>InputResistanceTest</th>\n",
       "      <td>120.672073643411 Mohm</td>\n",
       "      <td>129375643.30537802 kg*m**2/(s**3*A**2)</td>\n",
       "      <td>8.703569661967023 Mohm</td>\n",
       "    </tr>\n",
       "    <tr>\n",
       "      <th>TimeConstantTest</th>\n",
       "      <td>15.7342424242424 ms</td>\n",
       "      <td>0.01617715819692096 s</td>\n",
       "      <td>0.4429157726785604 ms</td>\n",
       "    </tr>\n",
       "    <tr>\n",
       "      <th>CapacitanceTest</th>\n",
       "      <td>150.584166666667 pF</td>\n",
       "      <td>1.2504021455365e-10 s**4*A**2/(kg*m**2)</td>\n",
       "      <td>25.543952113017 pF</td>\n",
       "    </tr>\n",
       "    <tr>\n",
       "      <th>RestingPotentialTest</th>\n",
       "      <td>-68.2481434599156 mV</td>\n",
       "      <td>-0.06839796225443817 V</td>\n",
       "      <td>0.14981879452257374 mV</td>\n",
       "    </tr>\n",
       "    <tr>\n",
       "      <th>InjectedCurrentAPWidthTest</th>\n",
       "      <td>1.20769387755102 ms</td>\n",
       "      <td>0.0012000000000000001 s</td>\n",
       "      <td>0.007693877551019801 ms</td>\n",
       "    </tr>\n",
       "    <tr>\n",
       "      <th>InjectedCurrentAPAmplitudeTest</th>\n",
       "      <td>80.4351020408164 mV</td>\n",
       "      <td>-0.001715732173261715 V</td>\n",
       "      <td>82.15083421407812 mV</td>\n",
       "    </tr>\n",
       "    <tr>\n",
       "      <th>InjectedCurrentAPThresholdTest</th>\n",
       "      <td>-42.7357232704403 mV</td>\n",
       "      <td>-0.03680516308404327 V</td>\n",
       "      <td>5.930560186397038 mV</td>\n",
       "    </tr>\n",
       "  </tbody>\n",
       "</table>\n",
       "</div>"
      ],
      "text/plain": [
       "                                          observation  \\\n",
       "RheobaseTestP                     213.849583333333 pA   \n",
       "InputResistanceTest             120.672073643411 Mohm   \n",
       "TimeConstantTest                  15.7342424242424 ms   \n",
       "CapacitanceTest                   150.584166666667 pF   \n",
       "RestingPotentialTest             -68.2481434599156 mV   \n",
       "InjectedCurrentAPWidthTest        1.20769387755102 ms   \n",
       "InjectedCurrentAPAmplitudeTest    80.4351020408164 mV   \n",
       "InjectedCurrentAPThresholdTest   -42.7357232704403 mV   \n",
       "RheobaseTestP                     213.849583333333 pA   \n",
       "InputResistanceTest             120.672073643411 Mohm   \n",
       "TimeConstantTest                  15.7342424242424 ms   \n",
       "CapacitanceTest                   150.584166666667 pF   \n",
       "RestingPotentialTest             -68.2481434599156 mV   \n",
       "InjectedCurrentAPWidthTest        1.20769387755102 ms   \n",
       "InjectedCurrentAPAmplitudeTest    80.4351020408164 mV   \n",
       "InjectedCurrentAPThresholdTest   -42.7357232704403 mV   \n",
       "RheobaseTestP                     213.849583333333 pA   \n",
       "InputResistanceTest             120.672073643411 Mohm   \n",
       "TimeConstantTest                  15.7342424242424 ms   \n",
       "CapacitanceTest                   150.584166666667 pF   \n",
       "RestingPotentialTest             -68.2481434599156 mV   \n",
       "InjectedCurrentAPWidthTest        1.20769387755102 ms   \n",
       "InjectedCurrentAPAmplitudeTest    80.4351020408164 mV   \n",
       "InjectedCurrentAPThresholdTest   -42.7357232704403 mV   \n",
       "\n",
       "                                                                prediction  \\\n",
       "RheobaseTestP                                                24.9921875 pA   \n",
       "InputResistanceTest                 129234556.37052076 kg*m**2/(s**3*A**2)   \n",
       "TimeConstantTest                                    0.016239105584981928 s   \n",
       "CapacitanceTest                 1.2565606321596948e-10 s**4*A**2/(kg*m**2)   \n",
       "RestingPotentialTest                                -0.06842440161605753 V   \n",
       "InjectedCurrentAPWidthTest                                      0.001275 s   \n",
       "InjectedCurrentAPAmplitudeTest                    -3.394359574052097e-05 V   \n",
       "InjectedCurrentAPThresholdTest                      -0.03869543745051891 V   \n",
       "RheobaseTestP                                              25.154296875 pA   \n",
       "InputResistanceTest                 127521728.72962098 kg*m**2/(s**3*A**2)   \n",
       "TimeConstantTest                                    0.015195661560195011 s   \n",
       "CapacitanceTest                 1.1916135165022537e-10 s**4*A**2/(kg*m**2)   \n",
       "RestingPotentialTest                                  -0.068399020199018 V   \n",
       "InjectedCurrentAPWidthTest                                      0.001275 s   \n",
       "InjectedCurrentAPAmplitudeTest                    -0.0003786137860437716 V   \n",
       "InjectedCurrentAPThresholdTest                      -0.03830641512782343 V   \n",
       "RheobaseTestP                                                24.9921875 pA   \n",
       "InputResistanceTest                 129375643.30537802 kg*m**2/(s**3*A**2)   \n",
       "TimeConstantTest                                     0.01617715819692096 s   \n",
       "CapacitanceTest                    1.2504021455365e-10 s**4*A**2/(kg*m**2)   \n",
       "RestingPotentialTest                                -0.06839796225443817 V   \n",
       "InjectedCurrentAPWidthTest                         0.0012000000000000001 s   \n",
       "InjectedCurrentAPAmplitudeTest                     -0.001715732173261715 V   \n",
       "InjectedCurrentAPThresholdTest                      -0.03680516308404327 V   \n",
       "\n",
       "                                           disagreement  \n",
       "RheobaseTestP                       188.857395833333 pA  \n",
       "InputResistanceTest              8.562482727109753 Mohm  \n",
       "TimeConstantTest                  0.5048631607395286 ms  \n",
       "CapacitanceTest                    24.92810345069752 pF  \n",
       "RestingPotentialTest             0.17625815614194096 mV  \n",
       "InjectedCurrentAPWidthTest       0.06730612244898015 ms  \n",
       "InjectedCurrentAPAmplitudeTest     80.46904563655693 mV  \n",
       "InjectedCurrentAPThresholdTest     4.040285819921387 mV  \n",
       "RheobaseTestP                       188.695286458333 pA  \n",
       "InputResistanceTest              6.849655086209978 Mohm  \n",
       "TimeConstantTest                  0.5385808640473879 ms  \n",
       "CapacitanceTest                   31.422815016441632 pF  \n",
       "RestingPotentialTest             0.15087673910240085 mV  \n",
       "InjectedCurrentAPWidthTest       0.06730612244898015 ms  \n",
       "InjectedCurrentAPAmplitudeTest     80.81371582686018 mV  \n",
       "InjectedCurrentAPThresholdTest     4.429308142616875 mV  \n",
       "RheobaseTestP                       188.857395833333 pA  \n",
       "InputResistanceTest              8.703569661967023 Mohm  \n",
       "TimeConstantTest                  0.4429157726785604 ms  \n",
       "CapacitanceTest                      25.543952113017 pF  \n",
       "RestingPotentialTest             0.14981879452257374 mV  \n",
       "InjectedCurrentAPWidthTest      0.007693877551019801 ms  \n",
       "InjectedCurrentAPAmplitudeTest     82.15083421407812 mV  \n",
       "InjectedCurrentAPThresholdTest     5.930560186397038 mV  "
      ]
     },
     "execution_count": 83,
     "metadata": {},
     "output_type": "execute_result"
    }
   ],
   "source": [
    "from neuronunit.optimization.optimization_management import bridge_judge\n",
    "dfs = []\n",
    "for model in list_best:\n",
    "    df = pd.DataFrame(index=list(dtc.tests),columns=['observation','prediction','disagreement'])#,columns=list(reduced_cells.keys()))\n",
    "\n",
    "    dtc = DataTC()\n",
    "    dtc.tests = use_test\n",
    "    dtc.attrs = model.dtc.attrs\n",
    "    dtc.backend = 'RAW'\n",
    "    dtc.cell_name = 'vanilla'\n",
    "    #for key, use_test in test_frame.items():\n",
    "    dtc.tests = test_frame[key]\n",
    "    dtc = dtc_to_rheo(dtc)\n",
    "    dtc = format_test(dtc)\n",
    "    for k,t in enumerate(dtc.tests):\n",
    "        t.params = dtc.vtest[k]\n",
    "        score,pred = bridge_judge((t,dtc))\n",
    "        #print(score,pred)       \n",
    "        df.iloc[k]['observation'] = t.observation['mean'] \n",
    "        try:\n",
    "            agreement = np.abs(t.observation['mean'] - pred['value'])\n",
    "            df.iloc[k]['prediction'] = pred['value']\n",
    "            df.iloc[k]['disagreement'] = agreement\n",
    "\n",
    "        except:\n",
    "            agreement = np.abs(t.observation['mean'] - pred['mean'])\n",
    "            df.iloc[k]['prediction'] = pred['mean']\n",
    "            df.iloc[k]['disagreement'] = agreement\n",
    "    dfs.append(df)\n",
    "result = pd.concat(dfs)\n",
    "result         "
   ]
  },
  {
   "cell_type": "code",
   "execution_count": null,
   "metadata": {
    "collapsed": true
   },
   "outputs": [],
   "source": [
    "df\n",
    "from neuronunit.models.reduced import ReducedModel\n",
    "from neuronunit.optimization.data_transport_container import DataTC\n",
    "from neuronunit.optimization.model_parameters import model_params, path_params, transcribe_units\n",
    "from neuronunit.optimization.optimization_management import mint_generic_model\n",
    "LEMS_MODEL_PATH = path_params['model_path']\n",
    "\n",
    "\n",
    "model = ReducedModel(LEMS_MODEL_PATH,name = str('vanilla'),backend = ('RAW'))\n",
    "dtc = DataTC()\n",
    "dtc.attrs = model.attrs"
   ]
  }
 ],
 "metadata": {
  "kernelspec": {
   "display_name": "Python 3",
   "language": "python",
   "name": "python3"
  },
  "language_info": {
   "codemirror_mode": {
    "name": "ipython",
    "version": 3
   },
   "file_extension": ".py",
   "mimetype": "text/x-python",
   "name": "python",
   "nbconvert_exporter": "python",
   "pygments_lexer": "ipython3",
   "version": "3.5.2"
  }
 },
 "nbformat": 4,
 "nbformat_minor": 2
}
