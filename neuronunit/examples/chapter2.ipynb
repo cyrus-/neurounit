{
 "cells": [
  {
   "cell_type": "markdown",
   "metadata": {},
   "source": [
    "# Chapter 2\n",
    "## Use Allen SDK to perform checks of internal consistency\n",
    "In this notebook We demonstrate optimizing adaptive Exponential Model and an Izhikitich model\n",
    "against simulated firing rate and waveform shape data.\n",
    "\n",
    "In the following optimization we use the Allen SDK to do spike train statistics and waveform feature extraction.\n",
    "\n",
    "In this case as in all cases previous, we are performing multi-objective optimization in a high dimensional feature space. The primary function of this notebook is to show that it can be easier to optimize with respet to spike train statistics combined with waveform feature shapes.\n",
    "\n",
    "In [chapter 3](chapter3.ipynb) (a closely related notebook see hyperlink) We will take a closer at the data used to perform the fits in chapter1 notebook. \n",
    "\n",
    "import warnings\n",
    "warnings.filterwarnings(\"ignore\")\n",
    "\n",
    "## Set up environment:\n",
    "In the cells below we load data, and set up an environment that supports visualizing optimization outputs."
   ]
  },
  {
   "cell_type": "code",
   "execution_count": 1,
   "metadata": {},
   "outputs": [
    {
     "data": {
      "text/plain": [
       "<Figure size 640x480 with 1 Axes>"
      ]
     },
     "metadata": {},
     "output_type": "display_data"
    }
   ],
   "source": [
    "import matplotlib as mpl\n",
    "import matplotlib.pyplot as plt\n",
    "plt.plot([0],[1])\n",
    "plt.show()\n",
    "import warnings\n",
    "warnings.filterwarnings(\"ignore\")"
   ]
  },
  {
   "cell_type": "code",
   "execution_count": 2,
   "metadata": {},
   "outputs": [],
   "source": [
    "from neuronunit.optimisation.data_transport_container import DataTC"
   ]
  },
  {
   "cell_type": "code",
   "execution_count": 3,
   "metadata": {},
   "outputs": [],
   "source": [
    "%%capture\n",
    "from allensdk.ephys.extract_cell_features import extract_cell_features\n",
    "import pickle\n",
    "from neuronunit.optimisation.optimization_management import OptMan, TSD\n",
    "from neuronunit.optimisation import model_parameters\n",
    "from neuronunit.optimisation.model_parameters import MODEL_PARAMS\n",
    "import pandas as pd\n",
    "\n",
    "try:\n",
    "    with open('jd.p','rb') as f:\n",
    "        res = pickle.load(f)\n",
    "\n",
    "except:\n",
    "    try:\n",
    "        with open('allen_test_data.p','rb') as f:\n",
    "            pre_obs = pickle.load(f)    \n",
    "    except:\n",
    "        from neuronunit.tests.allen_tests import pre_obs#, test_collection   \n",
    "        with open('allen_test_data.p','wb') as f:\n",
    "            pickle.dump(pre_obs,f)\n",
    "\n",
    "    local_tests = pre_obs[2][1]\n",
    "    local_tests.update(pre_obs[2][1]['spikes'][0])\n",
    "    local_tests['current_test'] = pre_obs[1][0]\n",
    "    spk = local_tests['spk_count'] = len(pre_obs[2][1]['spikes'])+10\n",
    "    spk_range = [spk-6,spk+6]\n",
    "    OM = OptMan(local_tests,protocol={'elephant':False,'allen':True,'dm':False,'tsr':spk_range})\n",
    "    res = OM.round_trip_test(local_tests,str('RAW'),MU=10,NGEN=20)#,stds = easy_standards)\n",
    "\n",
    "    with open('jd.p','wb') as f:\n",
    "        pickle.dump(res,f)\n"
   ]
  },
  {
   "cell_type": "code",
   "execution_count": 4,
   "metadata": {},
   "outputs": [
    {
     "data": {
      "text/plain": [
       "<neuronunit.optimisation.data_transport_container.DataTC at 0x1c2067a5f8>"
      ]
     },
     "execution_count": 4,
     "metadata": {},
     "output_type": "execute_result"
    }
   ],
   "source": [
    "try:\n",
    "    results,converged,target,simulated_tests,tsr = res\n",
    "except:\n",
    "    results,converged,target,simulated_tests = res\n",
    "\n",
    "results['pf'][0].dtc\n",
    "\n",
    "\n"
   ]
  },
  {
   "cell_type": "markdown",
   "metadata": {},
   "source": [
    "# Load data for other optimized model\n",
    "Specifically, load data for the adaptive exponential cells."
   ]
  },
  {
   "cell_type": "code",
   "execution_count": 36,
   "metadata": {},
   "outputs": [
    {
     "ename": "TypeError",
     "evalue": "'DataTC' object is not subscriptable",
     "output_type": "error",
     "traceback": [
      "\u001b[0;31m---------------------------------------------------------------------------\u001b[0m",
      "\u001b[0;31mAssertionError\u001b[0m                            Traceback (most recent call last)",
      "\u001b[0;32m<ipython-input-36-1ad7a3e6fdb0>\u001b[0m in \u001b[0;36m<module>\u001b[0;34m()\u001b[0m\n\u001b[1;32m      1\u001b[0m \u001b[0;32mtry\u001b[0m\u001b[0;34m:\u001b[0m\u001b[0;34m\u001b[0m\u001b[0m\n\u001b[0;32m----> 2\u001b[0;31m     \u001b[0;32massert\u001b[0m \u001b[0;36m1\u001b[0m\u001b[0;34m==\u001b[0m\u001b[0;36m2\u001b[0m\u001b[0;34m\u001b[0m\u001b[0m\n\u001b[0m\u001b[1;32m      3\u001b[0m \u001b[0;34m\u001b[0m\u001b[0m\n",
      "\u001b[0;31mAssertionError\u001b[0m: ",
      "\nDuring handling of the above exception, another exception occurred:\n",
      "\u001b[0;31mTypeError\u001b[0m                                 Traceback (most recent call last)",
      "\u001b[0;32m<ipython-input-36-1ad7a3e6fdb0>\u001b[0m in \u001b[0;36m<module>\u001b[0;34m()\u001b[0m\n\u001b[1;32m     11\u001b[0m \u001b[0;34m\u001b[0m\u001b[0m\n\u001b[1;32m     12\u001b[0m     \u001b[0;32mwith\u001b[0m \u001b[0mopen\u001b[0m\u001b[0;34m(\u001b[0m\u001b[0;34m'similar_rate.p'\u001b[0m\u001b[0;34m,\u001b[0m\u001b[0;34m'wb'\u001b[0m\u001b[0;34m)\u001b[0m \u001b[0;32mas\u001b[0m \u001b[0mf\u001b[0m\u001b[0;34m:\u001b[0m\u001b[0;34m\u001b[0m\u001b[0m\n\u001b[0;32m---> 13\u001b[0;31m         \u001b[0mpickle\u001b[0m\u001b[0;34m.\u001b[0m\u001b[0mdump\u001b[0m\u001b[0;34m(\u001b[0m\u001b[0msimilar\u001b[0m\u001b[0;34m[\u001b[0m\u001b[0;36m0\u001b[0m\u001b[0;34m]\u001b[0m\u001b[0;34m[\u001b[0m\u001b[0;34m'dtc_pop'\u001b[0m\u001b[0;34m]\u001b[0m\u001b[0;34m,\u001b[0m\u001b[0mf\u001b[0m\u001b[0;34m)\u001b[0m\u001b[0;34m\u001b[0m\u001b[0m\n\u001b[0m",
      "\u001b[0;31mTypeError\u001b[0m: 'DataTC' object is not subscriptable"
     ]
    }
   ],
   "source": [
    "%%capture\n",
    "try:\n",
    "    assert 1==2\n",
    "\n",
    "    with open('similar_rate.p','rb') as f:\n",
    "        similar = pickle.load(f)\n",
    "\n",
    "except:\n",
    "    sim_tests = TSD(simulated_tests)\n",
    "    backend = str('ADEXP')\n",
    "    dtcpop = sim_tests.optimize(model_parameters.MODEL_PARAMS[backend], NGEN=50, \\\n",
    "                                 backend=backend, MU=24, protocol={'allen': True, 'elephant': False,'tsr':results['dtc_pop'][0].tsr})\n",
    "\n",
    "    with open('similar_rate.p','wb') as f:\n",
    "        pickle.dump(similar['dtc_pop'],f)\n"
   ]
  },
  {
   "cell_type": "code",
   "execution_count": 37,
   "metadata": {},
   "outputs": [],
   "source": []
  },
  {
   "cell_type": "code",
   "execution_count": 44,
   "metadata": {},
   "outputs": [
    {
     "ename": "TypeError",
     "evalue": "list indices must be integers or slices, not str",
     "output_type": "error",
     "traceback": [
      "\u001b[0;31m---------------------------------------------------------------------------\u001b[0m",
      "\u001b[0;31mTypeError\u001b[0m                                 Traceback (most recent call last)",
      "\u001b[0;32m<ipython-input-44-548393517ee9>\u001b[0m in \u001b[0;36m<module>\u001b[0;34m()\u001b[0m\n\u001b[0;32m----> 1\u001b[0;31m \u001b[0mdtcpop\u001b[0m \u001b[0;34m=\u001b[0m \u001b[0msimilar\u001b[0m \u001b[0;34m=\u001b[0m \u001b[0msimilar\u001b[0m\u001b[0;34m[\u001b[0m\u001b[0;34m'dtc_pop'\u001b[0m\u001b[0;34m]\u001b[0m\u001b[0;34m\u001b[0m\u001b[0m\n\u001b[0m",
      "\u001b[0;31mTypeError\u001b[0m: list indices must be integers or slices, not str"
     ]
    }
   ],
   "source": [
    "dtcpop = similar = similar['dtc_pop']"
   ]
  },
  {
   "cell_type": "code",
   "execution_count": 41,
   "metadata": {},
   "outputs": [
    {
     "name": "stdout",
     "output_type": "stream",
     "text": [
      "12\n"
     ]
    }
   ],
   "source": [
    "from neuronunit.optimisation.optimization_management import inject_and_plot, nuunit_allen_evaluation, prediction_current_and_features\n",
    "\n",
    "print(target.spike_number)"
   ]
  },
  {
   "cell_type": "markdown",
   "metadata": {},
   "source": [
    "# Same model simulated data/Optimized model\n",
    "In the cell below you can see that when a model is optimized to match data that was simulated using the same model, the spike train statistics are a good fit."
   ]
  },
  {
   "cell_type": "code",
   "execution_count": 42,
   "metadata": {},
   "outputs": [
    {
     "data": {
      "image/png": "[encoded data removed]",
      "text/plain": [
       "<Figure size 1100x1100 with 1 Axes>"
      ]
     },
     "metadata": {},
     "output_type": "display_data"
    },
    {
     "name": "stdout",
     "output_type": "stream",
     "text": [
      "13\n",
      "12\n"
     ]
    }
   ],
   "source": [
    "vm = inject_and_plot([results['pf'][0].dtc],second_pop=[results['pf'][0].dtc],third_pop=[target],snippets=False)#,second_pop=[results['dtc_pop']],third_pop=converged,snippets=False)\n",
    "print(results['pf'][0].dtc.spike_number)\n",
    "print(target.spike_number)\n"
   ]
  },
  {
   "cell_type": "markdown",
   "metadata": {},
   "source": [
    "# Different model simulated data/Optimized model\n",
    "In the cell below you can see that when a model is optimized to match data that was simulated using a different  model, the spike train statistics are an okay good fit. It's likely that with more intensive application of optimization algorithm, that the observation prediction agreement would be much better."
   ]
  },
  {
   "cell_type": "code",
   "execution_count": 43,
   "metadata": {},
   "outputs": [
    {
     "ename": "AttributeError",
     "evalue": "'dict' object has no attribute 'backend'",
     "output_type": "error",
     "traceback": [
      "\u001b[0;31m---------------------------------------------------------------------------\u001b[0m",
      "\u001b[0;31mAttributeError\u001b[0m                            Traceback (most recent call last)",
      "\u001b[0;32m<ipython-input-43-f7e6c778edcc>\u001b[0m in \u001b[0;36m<module>\u001b[0;34m()\u001b[0m\n\u001b[0;32m----> 1\u001b[0;31m \u001b[0mvm\u001b[0m \u001b[0;34m=\u001b[0m \u001b[0minject_and_plot\u001b[0m\u001b[0;34m(\u001b[0m\u001b[0;34m[\u001b[0m\u001b[0mdtcpop\u001b[0m\u001b[0;34m[\u001b[0m\u001b[0;36m0\u001b[0m\u001b[0;34m]\u001b[0m\u001b[0;34m]\u001b[0m\u001b[0;34m,\u001b[0m\u001b[0msecond_pop\u001b[0m\u001b[0;34m=\u001b[0m\u001b[0;34m[\u001b[0m\u001b[0mtarget\u001b[0m\u001b[0;34m]\u001b[0m\u001b[0;34m,\u001b[0m\u001b[0mthird_pop\u001b[0m\u001b[0;34m=\u001b[0m\u001b[0;34m[\u001b[0m\u001b[0mdtcpop\u001b[0m\u001b[0;34m[\u001b[0m\u001b[0;36m0\u001b[0m\u001b[0;34m]\u001b[0m\u001b[0;34m]\u001b[0m\u001b[0;34m,\u001b[0m\u001b[0msnippets\u001b[0m\u001b[0;34m=\u001b[0m\u001b[0;32mFalse\u001b[0m\u001b[0;34m)\u001b[0m\u001b[0;31m#,second_pop=[results['dtc_pop']],third_pop=converged,snippets=False)\u001b[0m\u001b[0;34m\u001b[0m\u001b[0m\n\u001b[0m",
      "\u001b[0;32m~/git/safe/neuronunit/neuronunit/optimisation/optimization_management.py\u001b[0m in \u001b[0;36minject_and_plot\u001b[0;34m(dtc, second_pop, third_pop, figname, snippets, experimental_cell_type)\u001b[0m\n\u001b[1;32m    212\u001b[0m \u001b[0;34m\u001b[0m\u001b[0m\n\u001b[1;32m    213\u001b[0m             \u001b[0;32mfor\u001b[0m \u001b[0mdtc\u001b[0m \u001b[0;32min\u001b[0m \u001b[0mdtcpop\u001b[0m\u001b[0;34m:\u001b[0m\u001b[0;34m\u001b[0m\u001b[0m\n\u001b[0;32m--> 214\u001b[0;31m                 \u001b[0mmodel\u001b[0m \u001b[0;34m=\u001b[0m \u001b[0mmint_generic_model\u001b[0m\u001b[0;34m(\u001b[0m\u001b[0mdtc\u001b[0m\u001b[0;34m.\u001b[0m\u001b[0mbackend\u001b[0m\u001b[0;34m)\u001b[0m\u001b[0;34m\u001b[0m\u001b[0m\n\u001b[0m\u001b[1;32m    215\u001b[0m                 \u001b[0;32mif\u001b[0m \u001b[0mhasattr\u001b[0m\u001b[0;34m(\u001b[0m\u001b[0mdtc\u001b[0m\u001b[0;34m,\u001b[0m\u001b[0;34m'rheobase'\u001b[0m\u001b[0;34m)\u001b[0m\u001b[0;34m:\u001b[0m\u001b[0;34m\u001b[0m\u001b[0m\n\u001b[1;32m    216\u001b[0m                     \u001b[0;32mtry\u001b[0m\u001b[0;34m:\u001b[0m\u001b[0;34m\u001b[0m\u001b[0m\n",
      "\u001b[0;31mAttributeError\u001b[0m: 'dict' object has no attribute 'backend'"
     ]
    },
    {
     "data": {
      "image/png": "[encoded data removed]",
      "text/plain": [
       "<Figure size 1100x1100 with 1 Axes>"
      ]
     },
     "metadata": {},
     "output_type": "display_data"
    }
   ],
   "source": [
    "vm = inject_and_plot([dtcpop[0]],second_pop=[target],third_pop=[dtcpop[0]],snippets=False)#,second_pop=[results['dtc_pop']],third_pop=converged,snippets=False)\n"
   ]
  },
  {
   "cell_type": "markdown",
   "metadata": {},
   "source": [
    "## In the figures below:\n",
    "Green denotes an adaptive exponential cell type."
   ]
  },
  {
   "cell_type": "code",
   "execution_count": null,
   "metadata": {},
   "outputs": [],
   "source": [
    "vm = inject_and_plot([dtcpop[1]],second_pop=[target],third_pop=[dtcpop[1]],snippets=False)#,second_pop=[results['dtc_pop']],third_pop=converged,snippets=False)\n"
   ]
  },
  {
   "cell_type": "code",
   "execution_count": null,
   "metadata": {},
   "outputs": [],
   "source": [
    "vm = inject_and_plot([dtcpop[1]],second_pop=[target],third_pop=[dtcpop[1]],snippets=False)#,second_pop=[results['dtc_pop']],third_pop=converged,snippets=False)\n"
   ]
  },
  {
   "cell_type": "code",
   "execution_count": null,
   "metadata": {},
   "outputs": [],
   "source": [
    "vm = inject_and_plot([dtcpop[-3]],second_pop=[target],third_pop=[dtcpop[-3]],snippets=False)#,second_pop=[results['dtc_pop']],third_pop=converged,snippets=False)\n"
   ]
  },
  {
   "cell_type": "code",
   "execution_count": null,
   "metadata": {},
   "outputs": [],
   "source": [
    "dfpt = pd.DataFrame([target.preds])\n",
    "dfpt.T"
   ]
  },
  {
   "cell_type": "code",
   "execution_count": 18,
   "metadata": {},
   "outputs": [
    {
     "data": {
      "text/html": [
       "<div>\n",
       "<style scoped>\n",
       "    .dataframe tbody tr th:only-of-type {\n",
       "        vertical-align: middle;\n",
       "    }\n",
       "\n",
       "    .dataframe tbody tr th {\n",
       "        vertical-align: top;\n",
       "    }\n",
       "\n",
       "    .dataframe thead th {\n",
       "        text-align: right;\n",
       "    }\n",
       "</style>\n",
       "<table border=\"1\" class=\"dataframe\">\n",
       "  <thead>\n",
       "    <tr style=\"text-align: right;\">\n",
       "      <th></th>\n",
       "      <th>0</th>\n",
       "    </tr>\n",
       "  </thead>\n",
       "  <tbody>\n",
       "    <tr>\n",
       "      <th>adapt</th>\n",
       "      <td>{'mean': 0.19823085576034102, 'std': 0.0132153...</td>\n",
       "    </tr>\n",
       "    <tr>\n",
       "      <th>adp_index</th>\n",
       "      <td>{'mean': 0.19823085576034102, 'std': 0.0132153...</td>\n",
       "    </tr>\n",
       "    <tr>\n",
       "      <th>adp_t</th>\n",
       "      <td>{'mean': 0.19823085576034102, 'std': 0.0132153...</td>\n",
       "    </tr>\n",
       "    <tr>\n",
       "      <th>adp_v</th>\n",
       "      <td>{'mean': 0.19823085576034102, 'std': 0.0132153...</td>\n",
       "    </tr>\n",
       "    <tr>\n",
       "      <th>avg_rate</th>\n",
       "      <td>{'mean': 0.19823085576034102, 'std': 0.0132153...</td>\n",
       "    </tr>\n",
       "    <tr>\n",
       "      <th>clipped</th>\n",
       "      <td>{'mean': 0.19823085576034102, 'std': 0.0132153...</td>\n",
       "    </tr>\n",
       "    <tr>\n",
       "      <th>current</th>\n",
       "      <td>{'mean': 0.19823085576034102, 'std': 0.0132153...</td>\n",
       "    </tr>\n",
       "    <tr>\n",
       "      <th>downstroke</th>\n",
       "      <td>{'mean': 0.19823085576034102, 'std': 0.0132153...</td>\n",
       "    </tr>\n",
       "    <tr>\n",
       "      <th>downstroke_index</th>\n",
       "      <td>{'mean': 0.19823085576034102, 'std': 0.0132153...</td>\n",
       "    </tr>\n",
       "    <tr>\n",
       "      <th>downstroke_t</th>\n",
       "      <td>{'mean': 0.19823085576034102, 'std': 0.0132153...</td>\n",
       "    </tr>\n",
       "    <tr>\n",
       "      <th>downstroke_v</th>\n",
       "      <td>{'mean': 0.19823085576034102, 'std': 0.0132153...</td>\n",
       "    </tr>\n",
       "    <tr>\n",
       "      <th>fast_trough_index</th>\n",
       "      <td>{'mean': 0.19823085576034102, 'std': 0.0132153...</td>\n",
       "    </tr>\n",
       "    <tr>\n",
       "      <th>fast_trough_t</th>\n",
       "      <td>{'mean': 0.19823085576034102, 'std': 0.0132153...</td>\n",
       "    </tr>\n",
       "    <tr>\n",
       "      <th>fast_trough_v</th>\n",
       "      <td>{'mean': 0.19823085576034102, 'std': 0.0132153...</td>\n",
       "    </tr>\n",
       "    <tr>\n",
       "      <th>first_isi</th>\n",
       "      <td>{'mean': 0.19823085576034102, 'std': 0.0132153...</td>\n",
       "    </tr>\n",
       "    <tr>\n",
       "      <th>isi_cv</th>\n",
       "      <td>{'mean': 0.19823085576034102, 'std': 0.0132153...</td>\n",
       "    </tr>\n",
       "    <tr>\n",
       "      <th>isi_type</th>\n",
       "      <td>{'mean': 0.19823085576034102, 'std': 0.0132153...</td>\n",
       "    </tr>\n",
       "    <tr>\n",
       "      <th>latency</th>\n",
       "      <td>{'mean': 0.19823085576034102, 'std': 0.0132153...</td>\n",
       "    </tr>\n",
       "    <tr>\n",
       "      <th>mean_isi</th>\n",
       "      <td>{'mean': 0.19823085576034102, 'std': 0.0132153...</td>\n",
       "    </tr>\n",
       "    <tr>\n",
       "      <th>median_isi</th>\n",
       "      <td>{'mean': 0.19823085576034102, 'std': 0.0132153...</td>\n",
       "    </tr>\n",
       "    <tr>\n",
       "      <th>peak_index</th>\n",
       "      <td>{'mean': 0.19823085576034102, 'std': 0.0132153...</td>\n",
       "    </tr>\n",
       "    <tr>\n",
       "      <th>peak_t</th>\n",
       "      <td>{'mean': 0.19823085576034102, 'std': 0.0132153...</td>\n",
       "    </tr>\n",
       "    <tr>\n",
       "      <th>peak_v</th>\n",
       "      <td>{'mean': 0.19823085576034102, 'std': 0.0132153...</td>\n",
       "    </tr>\n",
       "    <tr>\n",
       "      <th>slow_trough_index</th>\n",
       "      <td>{'mean': 0.19823085576034102, 'std': 0.0132153...</td>\n",
       "    </tr>\n",
       "    <tr>\n",
       "      <th>slow_trough_t</th>\n",
       "      <td>{'mean': 0.19823085576034102, 'std': 0.0132153...</td>\n",
       "    </tr>\n",
       "    <tr>\n",
       "      <th>slow_trough_v</th>\n",
       "      <td>{'mean': 0.19823085576034102, 'std': 0.0132153...</td>\n",
       "    </tr>\n",
       "    <tr>\n",
       "      <th>spike_count</th>\n",
       "      <td>{'mean': 0.19823085576034102, 'std': 0.0132153...</td>\n",
       "    </tr>\n",
       "    <tr>\n",
       "      <th>threshold_index</th>\n",
       "      <td>{'mean': 0.19823085576034102, 'std': 0.0132153...</td>\n",
       "    </tr>\n",
       "    <tr>\n",
       "      <th>threshold_t</th>\n",
       "      <td>{'mean': 0.19823085576034102, 'std': 0.0132153...</td>\n",
       "    </tr>\n",
       "    <tr>\n",
       "      <th>threshold_v</th>\n",
       "      <td>{'mean': 0.19823085576034102, 'std': 0.0132153...</td>\n",
       "    </tr>\n",
       "    <tr>\n",
       "      <th>trough_index</th>\n",
       "      <td>{'mean': 0.19823085576034102, 'std': 0.0132153...</td>\n",
       "    </tr>\n",
       "    <tr>\n",
       "      <th>trough_t</th>\n",
       "      <td>{'mean': 0.19823085576034102, 'std': 0.0132153...</td>\n",
       "    </tr>\n",
       "    <tr>\n",
       "      <th>trough_v</th>\n",
       "      <td>{'mean': 0.19823085576034102, 'std': 0.0132153...</td>\n",
       "    </tr>\n",
       "    <tr>\n",
       "      <th>upstroke</th>\n",
       "      <td>{'mean': 0.19823085576034102, 'std': 0.0132153...</td>\n",
       "    </tr>\n",
       "    <tr>\n",
       "      <th>upstroke_downstroke_ratio</th>\n",
       "      <td>{'mean': 0.19823085576034102, 'std': 0.0132153...</td>\n",
       "    </tr>\n",
       "    <tr>\n",
       "      <th>upstroke_index</th>\n",
       "      <td>{'mean': 0.19823085576034102, 'std': 0.0132153...</td>\n",
       "    </tr>\n",
       "    <tr>\n",
       "      <th>upstroke_t</th>\n",
       "      <td>{'mean': 0.19823085576034102, 'std': 0.0132153...</td>\n",
       "    </tr>\n",
       "    <tr>\n",
       "      <th>upstroke_v</th>\n",
       "      <td>{'mean': 0.19823085576034102, 'std': 0.0132153...</td>\n",
       "    </tr>\n",
       "    <tr>\n",
       "      <th>width</th>\n",
       "      <td>{'mean': 0.19823085576034102, 'std': 0.0132153...</td>\n",
       "    </tr>\n",
       "  </tbody>\n",
       "</table>\n",
       "</div>"
      ],
      "text/plain": [
       "                                                                           0\n",
       "adapt                      {'mean': 0.19823085576034102, 'std': 0.0132153...\n",
       "adp_index                  {'mean': 0.19823085576034102, 'std': 0.0132153...\n",
       "adp_t                      {'mean': 0.19823085576034102, 'std': 0.0132153...\n",
       "adp_v                      {'mean': 0.19823085576034102, 'std': 0.0132153...\n",
       "avg_rate                   {'mean': 0.19823085576034102, 'std': 0.0132153...\n",
       "clipped                    {'mean': 0.19823085576034102, 'std': 0.0132153...\n",
       "current                    {'mean': 0.19823085576034102, 'std': 0.0132153...\n",
       "downstroke                 {'mean': 0.19823085576034102, 'std': 0.0132153...\n",
       "downstroke_index           {'mean': 0.19823085576034102, 'std': 0.0132153...\n",
       "downstroke_t               {'mean': 0.19823085576034102, 'std': 0.0132153...\n",
       "downstroke_v               {'mean': 0.19823085576034102, 'std': 0.0132153...\n",
       "fast_trough_index          {'mean': 0.19823085576034102, 'std': 0.0132153...\n",
       "fast_trough_t              {'mean': 0.19823085576034102, 'std': 0.0132153...\n",
       "fast_trough_v              {'mean': 0.19823085576034102, 'std': 0.0132153...\n",
       "first_isi                  {'mean': 0.19823085576034102, 'std': 0.0132153...\n",
       "isi_cv                     {'mean': 0.19823085576034102, 'std': 0.0132153...\n",
       "isi_type                   {'mean': 0.19823085576034102, 'std': 0.0132153...\n",
       "latency                    {'mean': 0.19823085576034102, 'std': 0.0132153...\n",
       "mean_isi                   {'mean': 0.19823085576034102, 'std': 0.0132153...\n",
       "median_isi                 {'mean': 0.19823085576034102, 'std': 0.0132153...\n",
       "peak_index                 {'mean': 0.19823085576034102, 'std': 0.0132153...\n",
       "peak_t                     {'mean': 0.19823085576034102, 'std': 0.0132153...\n",
       "peak_v                     {'mean': 0.19823085576034102, 'std': 0.0132153...\n",
       "slow_trough_index          {'mean': 0.19823085576034102, 'std': 0.0132153...\n",
       "slow_trough_t              {'mean': 0.19823085576034102, 'std': 0.0132153...\n",
       "slow_trough_v              {'mean': 0.19823085576034102, 'std': 0.0132153...\n",
       "spike_count                {'mean': 0.19823085576034102, 'std': 0.0132153...\n",
       "threshold_index            {'mean': 0.19823085576034102, 'std': 0.0132153...\n",
       "threshold_t                {'mean': 0.19823085576034102, 'std': 0.0132153...\n",
       "threshold_v                {'mean': 0.19823085576034102, 'std': 0.0132153...\n",
       "trough_index               {'mean': 0.19823085576034102, 'std': 0.0132153...\n",
       "trough_t                   {'mean': 0.19823085576034102, 'std': 0.0132153...\n",
       "trough_v                   {'mean': 0.19823085576034102, 'std': 0.0132153...\n",
       "upstroke                   {'mean': 0.19823085576034102, 'std': 0.0132153...\n",
       "upstroke_downstroke_ratio  {'mean': 0.19823085576034102, 'std': 0.0132153...\n",
       "upstroke_index             {'mean': 0.19823085576034102, 'std': 0.0132153...\n",
       "upstroke_t                 {'mean': 0.19823085576034102, 'std': 0.0132153...\n",
       "upstroke_v                 {'mean': 0.19823085576034102, 'std': 0.0132153...\n",
       "width                      {'mean': 0.19823085576034102, 'std': 0.0132153..."
      ]
     },
     "execution_count": 18,
     "metadata": {},
     "output_type": "execute_result"
    }
   ],
   "source": [
    "dfp1 = pd.DataFrame([results['pf'][0].dtc.preds])\n",
    "dfp1.T\n",
    "#dir(results['pf'][0].dtc.tests['adapt'])\n",
    "#print(results['pf'][0].dtc.tests['adapt'].score_type)"
   ]
  },
  {
   "cell_type": "markdown",
   "metadata": {},
   "source": [
    "\n",
    "This concludes chapter 3, next see chapter 4.\n",
    "# Change sciunit score type\n"
   ]
  },
  {
   "cell_type": "code",
   "execution_count": 19,
   "metadata": {},
   "outputs": [
    {
     "data": {
      "text/plain": [
       "{'adapt': {'mean': 0.19823085576034102, 'std': 0.013215390384022734},\n",
       " 'latency': {'mean': 0.19823085576034102, 'std': 0.013215390384022734},\n",
       " 'isi_cv': {'mean': 0.19823085576034102, 'std': 0.013215390384022734},\n",
       " 'mean_isi': {'mean': 0.19823085576034102, 'std': 0.013215390384022734},\n",
       " 'median_isi': {'mean': 0.19823085576034102, 'std': 0.013215390384022734},\n",
       " 'first_isi': {'mean': 0.19823085576034102, 'std': 0.013215390384022734},\n",
       " 'avg_rate': {'mean': 0.19823085576034102, 'std': 0.013215390384022734},\n",
       " 'threshold_index': {'mean': 0.19823085576034102, 'std': 0.013215390384022734},\n",
       " 'clipped': {'mean': 0.19823085576034102, 'std': 0.013215390384022734},\n",
       " 'threshold_t': {'mean': 0.19823085576034102, 'std': 0.013215390384022734},\n",
       " 'threshold_v': {'mean': 0.19823085576034102, 'std': 0.013215390384022734},\n",
       " 'peak_index': {'mean': 0.19823085576034102, 'std': 0.013215390384022734},\n",
       " 'peak_t': {'mean': 0.19823085576034102, 'std': 0.013215390384022734},\n",
       " 'peak_v': {'mean': 0.19823085576034102, 'std': 0.013215390384022734},\n",
       " 'trough_index': {'mean': 0.19823085576034102, 'std': 0.013215390384022734},\n",
       " 'trough_t': {'mean': 0.19823085576034102, 'std': 0.013215390384022734},\n",
       " 'trough_v': {'mean': 0.19823085576034102, 'std': 0.013215390384022734},\n",
       " 'upstroke_index': {'mean': 0.19823085576034102, 'std': 0.013215390384022734},\n",
       " 'upstroke': {'mean': 0.19823085576034102, 'std': 0.013215390384022734},\n",
       " 'upstroke_t': {'mean': 0.19823085576034102, 'std': 0.013215390384022734},\n",
       " 'upstroke_v': {'mean': 0.19823085576034102, 'std': 0.013215390384022734},\n",
       " 'downstroke_index': {'mean': 0.19823085576034102,\n",
       "  'std': 0.013215390384022734},\n",
       " 'downstroke': {'mean': 0.19823085576034102, 'std': 0.013215390384022734},\n",
       " 'downstroke_t': {'mean': 0.19823085576034102, 'std': 0.013215390384022734},\n",
       " 'downstroke_v': {'mean': 0.19823085576034102, 'std': 0.013215390384022734},\n",
       " 'isi_type': {'mean': 0.19823085576034102, 'std': 0.013215390384022734},\n",
       " 'fast_trough_index': {'mean': 0.19823085576034102,\n",
       "  'std': 0.013215390384022734},\n",
       " 'fast_trough_t': {'mean': 0.19823085576034102, 'std': 0.013215390384022734},\n",
       " 'fast_trough_v': {'mean': 0.19823085576034102, 'std': 0.013215390384022734},\n",
       " 'adp_index': {'mean': 0.19823085576034102, 'std': 0.013215390384022734},\n",
       " 'adp_t': {'mean': 0.19823085576034102, 'std': 0.013215390384022734},\n",
       " 'adp_v': {'mean': 0.19823085576034102, 'std': 0.013215390384022734},\n",
       " 'slow_trough_index': {'mean': 0.19823085576034102,\n",
       "  'std': 0.013215390384022734},\n",
       " 'slow_trough_t': {'mean': 0.19823085576034102, 'std': 0.013215390384022734},\n",
       " 'slow_trough_v': {'mean': 0.19823085576034102, 'std': 0.013215390384022734},\n",
       " 'width': {'mean': 0.19823085576034102, 'std': 0.013215390384022734},\n",
       " 'upstroke_downstroke_ratio': {'mean': 0.19823085576034102,\n",
       "  'std': 0.013215390384022734},\n",
       " 'spike_count': {'mean': 0.19823085576034102, 'std': 0.013215390384022734},\n",
       " 'current': {'mean': 0.19823085576034102, 'std': 0.013215390384022734}}"
      ]
     },
     "execution_count": 19,
     "metadata": {},
     "output_type": "execute_result"
    }
   ],
   "source": [
    "from sciunit import scores\n",
    "scores.RatioScore\n",
    "for k,v in results['pf'][0].dtc.tests.items():\n",
    "    v.score_type = scores.RatioScore\n",
    "    res_score = results['pf'][0].dtc.judge_test(v)\n",
    "res_score    \n",
    "    "
   ]
  },
  {
   "cell_type": "code",
   "execution_count": 23,
   "metadata": {},
   "outputs": [
    {
     "data": {
      "text/html": [
       "<div>\n",
       "<style scoped>\n",
       "    .dataframe tbody tr th:only-of-type {\n",
       "        vertical-align: middle;\n",
       "    }\n",
       "\n",
       "    .dataframe tbody tr th {\n",
       "        vertical-align: top;\n",
       "    }\n",
       "\n",
       "    .dataframe thead th {\n",
       "        text-align: right;\n",
       "    }\n",
       "</style>\n",
       "<table border=\"1\" class=\"dataframe\">\n",
       "  <thead>\n",
       "    <tr style=\"text-align: right;\">\n",
       "      <th></th>\n",
       "      <th>0</th>\n",
       "      <th>0</th>\n",
       "    </tr>\n",
       "  </thead>\n",
       "  <tbody>\n",
       "    <tr>\n",
       "      <th>0</th>\n",
       "      <td>None</td>\n",
       "      <td>NaN</td>\n",
       "    </tr>\n",
       "    <tr>\n",
       "      <th>adapt</th>\n",
       "      <td>NaN</td>\n",
       "      <td>1</td>\n",
       "    </tr>\n",
       "    <tr>\n",
       "      <th>adp_index</th>\n",
       "      <td>NaN</td>\n",
       "      <td>1</td>\n",
       "    </tr>\n",
       "    <tr>\n",
       "      <th>adp_t</th>\n",
       "      <td>NaN</td>\n",
       "      <td>1</td>\n",
       "    </tr>\n",
       "    <tr>\n",
       "      <th>adp_v</th>\n",
       "      <td>NaN</td>\n",
       "      <td>1</td>\n",
       "    </tr>\n",
       "    <tr>\n",
       "      <th>avg_rate</th>\n",
       "      <td>NaN</td>\n",
       "      <td>1</td>\n",
       "    </tr>\n",
       "    <tr>\n",
       "      <th>clipped</th>\n",
       "      <td>NaN</td>\n",
       "      <td>1</td>\n",
       "    </tr>\n",
       "    <tr>\n",
       "      <th>current</th>\n",
       "      <td>NaN</td>\n",
       "      <td>1</td>\n",
       "    </tr>\n",
       "    <tr>\n",
       "      <th>downstroke</th>\n",
       "      <td>NaN</td>\n",
       "      <td>1</td>\n",
       "    </tr>\n",
       "    <tr>\n",
       "      <th>downstroke_index</th>\n",
       "      <td>NaN</td>\n",
       "      <td>1</td>\n",
       "    </tr>\n",
       "    <tr>\n",
       "      <th>downstroke_t</th>\n",
       "      <td>NaN</td>\n",
       "      <td>1</td>\n",
       "    </tr>\n",
       "    <tr>\n",
       "      <th>downstroke_v</th>\n",
       "      <td>NaN</td>\n",
       "      <td>1</td>\n",
       "    </tr>\n",
       "    <tr>\n",
       "      <th>fast_trough_index</th>\n",
       "      <td>NaN</td>\n",
       "      <td>1</td>\n",
       "    </tr>\n",
       "    <tr>\n",
       "      <th>fast_trough_t</th>\n",
       "      <td>NaN</td>\n",
       "      <td>1</td>\n",
       "    </tr>\n",
       "    <tr>\n",
       "      <th>fast_trough_v</th>\n",
       "      <td>NaN</td>\n",
       "      <td>1</td>\n",
       "    </tr>\n",
       "    <tr>\n",
       "      <th>first_isi</th>\n",
       "      <td>NaN</td>\n",
       "      <td>0.982917</td>\n",
       "    </tr>\n",
       "    <tr>\n",
       "      <th>isi_cv</th>\n",
       "      <td>NaN</td>\n",
       "      <td>1</td>\n",
       "    </tr>\n",
       "    <tr>\n",
       "      <th>isi_type</th>\n",
       "      <td>NaN</td>\n",
       "      <td>1</td>\n",
       "    </tr>\n",
       "    <tr>\n",
       "      <th>latency</th>\n",
       "      <td>NaN</td>\n",
       "      <td>1</td>\n",
       "    </tr>\n",
       "    <tr>\n",
       "      <th>mean_isi</th>\n",
       "      <td>NaN</td>\n",
       "      <td>0.160069</td>\n",
       "    </tr>\n",
       "    <tr>\n",
       "      <th>median_isi</th>\n",
       "      <td>NaN</td>\n",
       "      <td>0.00487773</td>\n",
       "    </tr>\n",
       "    <tr>\n",
       "      <th>peak_index</th>\n",
       "      <td>NaN</td>\n",
       "      <td>1</td>\n",
       "    </tr>\n",
       "    <tr>\n",
       "      <th>peak_t</th>\n",
       "      <td>NaN</td>\n",
       "      <td>1</td>\n",
       "    </tr>\n",
       "    <tr>\n",
       "      <th>peak_v</th>\n",
       "      <td>NaN</td>\n",
       "      <td>1</td>\n",
       "    </tr>\n",
       "    <tr>\n",
       "      <th>slow_trough_index</th>\n",
       "      <td>NaN</td>\n",
       "      <td>1</td>\n",
       "    </tr>\n",
       "    <tr>\n",
       "      <th>slow_trough_t</th>\n",
       "      <td>NaN</td>\n",
       "      <td>1</td>\n",
       "    </tr>\n",
       "    <tr>\n",
       "      <th>slow_trough_v</th>\n",
       "      <td>NaN</td>\n",
       "      <td>1</td>\n",
       "    </tr>\n",
       "    <tr>\n",
       "      <th>spike_count</th>\n",
       "      <td>NaN</td>\n",
       "      <td>1</td>\n",
       "    </tr>\n",
       "    <tr>\n",
       "      <th>threshold_index</th>\n",
       "      <td>NaN</td>\n",
       "      <td>1</td>\n",
       "    </tr>\n",
       "    <tr>\n",
       "      <th>threshold_t</th>\n",
       "      <td>NaN</td>\n",
       "      <td>1</td>\n",
       "    </tr>\n",
       "    <tr>\n",
       "      <th>threshold_v</th>\n",
       "      <td>NaN</td>\n",
       "      <td>1</td>\n",
       "    </tr>\n",
       "    <tr>\n",
       "      <th>trough_index</th>\n",
       "      <td>NaN</td>\n",
       "      <td>1</td>\n",
       "    </tr>\n",
       "    <tr>\n",
       "      <th>trough_t</th>\n",
       "      <td>NaN</td>\n",
       "      <td>1</td>\n",
       "    </tr>\n",
       "    <tr>\n",
       "      <th>trough_v</th>\n",
       "      <td>NaN</td>\n",
       "      <td>1</td>\n",
       "    </tr>\n",
       "    <tr>\n",
       "      <th>upstroke</th>\n",
       "      <td>NaN</td>\n",
       "      <td>1</td>\n",
       "    </tr>\n",
       "    <tr>\n",
       "      <th>upstroke_downstroke_ratio</th>\n",
       "      <td>NaN</td>\n",
       "      <td>1</td>\n",
       "    </tr>\n",
       "    <tr>\n",
       "      <th>upstroke_index</th>\n",
       "      <td>NaN</td>\n",
       "      <td>1</td>\n",
       "    </tr>\n",
       "    <tr>\n",
       "      <th>upstroke_t</th>\n",
       "      <td>NaN</td>\n",
       "      <td>1</td>\n",
       "    </tr>\n",
       "    <tr>\n",
       "      <th>upstroke_v</th>\n",
       "      <td>NaN</td>\n",
       "      <td>1</td>\n",
       "    </tr>\n",
       "    <tr>\n",
       "      <th>width</th>\n",
       "      <td>NaN</td>\n",
       "      <td>1</td>\n",
       "    </tr>\n",
       "  </tbody>\n",
       "</table>\n",
       "</div>"
      ],
      "text/plain": [
       "                              0           0\n",
       "0                          None         NaN\n",
       "adapt                       NaN           1\n",
       "adp_index                   NaN           1\n",
       "adp_t                       NaN           1\n",
       "adp_v                       NaN           1\n",
       "avg_rate                    NaN           1\n",
       "clipped                     NaN           1\n",
       "current                     NaN           1\n",
       "downstroke                  NaN           1\n",
       "downstroke_index            NaN           1\n",
       "downstroke_t                NaN           1\n",
       "downstroke_v                NaN           1\n",
       "fast_trough_index           NaN           1\n",
       "fast_trough_t               NaN           1\n",
       "fast_trough_v               NaN           1\n",
       "first_isi                   NaN    0.982917\n",
       "isi_cv                      NaN           1\n",
       "isi_type                    NaN           1\n",
       "latency                     NaN           1\n",
       "mean_isi                    NaN    0.160069\n",
       "median_isi                  NaN  0.00487773\n",
       "peak_index                  NaN           1\n",
       "peak_t                      NaN           1\n",
       "peak_v                      NaN           1\n",
       "slow_trough_index           NaN           1\n",
       "slow_trough_t               NaN           1\n",
       "slow_trough_v               NaN           1\n",
       "spike_count                 NaN           1\n",
       "threshold_index             NaN           1\n",
       "threshold_t                 NaN           1\n",
       "threshold_v                 NaN           1\n",
       "trough_index                NaN           1\n",
       "trough_t                    NaN           1\n",
       "trough_v                    NaN           1\n",
       "upstroke                    NaN           1\n",
       "upstroke_downstroke_ratio   NaN           1\n",
       "upstroke_index              NaN           1\n",
       "upstroke_t                  NaN           1\n",
       "upstroke_v                  NaN           1\n",
       "width                       NaN           1"
      ]
     },
     "execution_count": 23,
     "metadata": {},
     "output_type": "execute_result"
    }
   ],
   "source": [
    "import pandas as pd\n",
    "df = pd.DataFrame([target.scores])\n",
    "df1 = pd.DataFrame([results['pf'][0].dtc.scores])\n",
    "df = df.append(df1)\n",
    "          \n",
    "df.T"
   ]
  },
  {
   "cell_type": "code",
   "execution_count": 21,
   "metadata": {},
   "outputs": [
    {
     "data": {
      "text/plain": [
       "<neuronunit.optimisation.data_transport_container.DataTC at 0x1c20cda9b0>"
      ]
     },
     "execution_count": 21,
     "metadata": {},
     "output_type": "execute_result"
    }
   ],
   "source": [
    "results['pf'][0].dtc\n",
    "target"
   ]
  },
  {
   "cell_type": "markdown",
   "metadata": {},
   "source": [
    "# To do:\n",
    "use allensdk real cell data, to do data driven optimization of cells"
   ]
  },
  {
   "cell_type": "code",
   "execution_count": 32,
   "metadata": {},
   "outputs": [
    {
     "ename": "ModuleNotFoundError",
     "evalue": "No module named 'get_three_feature_sets_from_nml_db'",
     "output_type": "error",
     "traceback": [
      "\u001b[0;31m---------------------------------------------------------------------------\u001b[0m",
      "\u001b[0;31mModuleNotFoundError\u001b[0m                       Traceback (most recent call last)",
      "\u001b[0;32m<ipython-input-32-986cfeb2616f>\u001b[0m in \u001b[0;36m<module>\u001b[0;34m()\u001b[0m\n\u001b[0;32m----> 1\u001b[0;31m \u001b[0;32mfrom\u001b[0m \u001b[0mneuronunit\u001b[0m\u001b[0;34m.\u001b[0m\u001b[0moptimisation\u001b[0m \u001b[0;32mimport\u001b[0m \u001b[0mget_three_features_from_allen_data\u001b[0m\u001b[0;34m\u001b[0m\u001b[0m\n\u001b[0m",
      "\u001b[0;32m~/git/safe/neuronunit/neuronunit/optimisation/get_three_features_from_allen_data.py\u001b[0m in \u001b[0;36m<module>\u001b[0;34m()\u001b[0m\n\u001b[1;32m     92\u001b[0m \u001b[0;34m\u001b[0m\u001b[0m\n\u001b[1;32m     93\u001b[0m \u001b[0;34m\u001b[0m\u001b[0m\n\u001b[0;32m---> 94\u001b[0;31m \u001b[0;32mfrom\u001b[0m \u001b[0mget_three_feature_sets_from_nml_db\u001b[0m \u001b[0;32mimport\u001b[0m \u001b[0mthree_feature_sets_on_static_models\u001b[0m\u001b[0;34m\u001b[0m\u001b[0m\n\u001b[0m\u001b[1;32m     95\u001b[0m \u001b[0;32mimport\u001b[0m \u001b[0mquantities\u001b[0m \u001b[0;32mas\u001b[0m \u001b[0mqt\u001b[0m\u001b[0;34m\u001b[0m\u001b[0m\n\u001b[1;32m     96\u001b[0m \u001b[0;32mimport\u001b[0m \u001b[0mcopy\u001b[0m\u001b[0;34m\u001b[0m\u001b[0m\n",
      "\u001b[0;31mModuleNotFoundError\u001b[0m: No module named 'get_three_feature_sets_from_nml_db'"
     ]
    }
   ],
   "source": [
    "from neuronunit.optimisation import get_three_features_from_allen_data"
   ]
  },
  {
   "cell_type": "code",
   "execution_count": null,
   "metadata": {},
   "outputs": [],
   "source": []
  },
  {
   "cell_type": "code",
   "execution_count": null,
   "metadata": {},
   "outputs": [],
   "source": []
  }
 ],
 "metadata": {
  "kernelspec": {
   "display_name": "Python 3",
   "language": "python",
   "name": "python3"
  }
 },
 "nbformat": 4,
 "nbformat_minor": 2
}
