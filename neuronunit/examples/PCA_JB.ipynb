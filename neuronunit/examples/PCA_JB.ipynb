{
 "cells": [
  {
   "cell_type": "code",
   "execution_count": 1,
   "metadata": {
    "collapsed": false
   },
   "outputs": [
    {
     "name": "stdout",
     "output_type": "stream",
     "text": [
      "Running on Python version: 3.5.2 |Continuum Analytics, Inc.| (default, Jul  2 2016, 17:53:06) \n",
      "[GCC 4.4.7 20120313 (Red Hat 4.4.7-1)]\n"
     ]
    }
   ],
   "source": [
    "import sys    \n",
    "print('Running on Python version: {}'.format(sys.version))\n",
    "\n",
    "try:\n",
    "    import lazyarray\n",
    "except:\n",
    "    !pip install lazyarray\n",
    "    !pip install hdbscan \n",
    "    !pip install scipy --upgrade\n",
    "    !pip install numpy numba --upgrade \n",
    "    !pip install lmfit "
   ]
  },
  {
   "cell_type": "code",
   "execution_count": 2,
   "metadata": {
    "collapsed": false
   },
   "outputs": [
    {
     "name": "stderr",
     "output_type": "stream",
     "text": [
      "/opt/conda/lib/python3.5/site-packages/matplotlib/__init__.py:1405: UserWarning: \n",
      "This call to matplotlib.use() has no effect because the backend has already\n",
      "been chosen; matplotlib.use() must be called *before* pylab, matplotlib.pyplot,\n",
      "or matplotlib.backends is imported for the first time.\n",
      "\n",
      "  warnings.warn(_use_error_msg)\n",
      "/opt/conda/lib/python3.5/site-packages/pyNN/neuron/__init__.py:14: UserWarning: mpi4py not available\n",
      "  warnings.warn(\"mpi4py not available\")\n"
     ]
    }
   ],
   "source": [
    "import os\n",
    "import pickle\n",
    "\n",
    "try:\n",
    "    izhi_opt = pickle.load(open('protected/multi_objective_izhi.p','rb')) \n",
    "except:\n",
    "    \n",
    "    os.system('wget wget -O ncp_cell_layer_5_6.p https://osf.io/6yba2/download')\n",
    "    os.system('wget -O multi_objective_izhi https://osf.io/3vp8d/download')\n",
    "    izhi_opt = pickle.load(open('multi_objective_izhi.p','rb')) \n",
    "\n",
    "\n",
    "\n"
   ]
  },
  {
   "cell_type": "markdown",
   "metadata": {},
   "source": [
    "# Get Data\n",
    "If content is not available locally, wget the files from the Open Science Frame Work."
   ]
  },
  {
   "cell_type": "code",
   "execution_count": 5,
   "metadata": {
    "collapsed": false
   },
   "outputs": [],
   "source": [
    "from neuronunit.tests.druckmann2013 import *\n"
   ]
  },
  {
   "cell_type": "code",
   "execution_count": 6,
   "metadata": {
    "collapsed": false
   },
   "outputs": [
    {
     "name": "stdout",
     "output_type": "stream",
     "text": [
      "{'InjectedCurrentAPThresholdTest': 0.9999383647108253, 'RestingPotentialTest': 0.0010068761003825255, 'InputResistanceTest': 0.5162167574928647, 'InjectedCurrentAPAmplitudeTest': 1.0, 'RheobaseTest': 0.43475020334261383, 'TimeConstantTest': 0.19463622334314878, 'InjectedCurrentAPWidthTest': 0.004511111383472155}\n",
      "{'InjectedCurrentAPThresholdTest': 0.9957958143881491, 'RestingPotentialTest': 0.9743806289694379, 'InputResistanceTest': 0.7583867186758638, 'InjectedCurrentAPAmplitudeTest': 1.0, 'RheobaseTest': 0.27439091965608964, 'TimeConstantTest': 0.9985452095287137, 'InjectedCurrentAPWidthTest': 0.8045887465032604}\n",
      "{'InjectedCurrentAPThresholdTest': 0.9999999998992437, 'RestingPotentialTest': 0.046204212239741804, 'InputResistanceTest': 0.5587581971196718, 'InjectedCurrentAPAmplitudeTest': 1.0, 'RheobaseTest': 0.34361838339745054, 'TimeConstantTest': 0.07139840065746239, 'InjectedCurrentAPWidthTest': 0.16128647828914078}\n",
      "{'InjectedCurrentAPThresholdTest': 0.9999999999994738, 'RestingPotentialTest': 0.1084234062376297, 'InputResistanceTest': 0.5408201556655916, 'InjectedCurrentAPAmplitudeTest': 1.0, 'RheobaseTest': 0.3790062106554366, 'TimeConstantTest': 0.07844538201231388, 'InjectedCurrentAPWidthTest': 0.04959051887629906}\n",
      "28.38592529296875 pA\n"
     ]
    }
   ],
   "source": [
    "\n",
    "dtc0 = list(izhi_opt.values())[0]['pf'][0].dtc\n",
    "print(list(izhi_opt.values())[0]['pf'][0].dtc.scores)\n",
    "print(list(izhi_opt.values())[0]['pf'][-1].dtc.scores)\n",
    "print(list(izhi_opt.values())[0]['pf'][2].dtc.scores)\n",
    "print(list(izhi_opt.values())[0]['pf'][1].dtc.scores)\n",
    "list(izhi_opt.values())[0]['pf'][0].dtc.attrs\n",
    "\n",
    "print(dtc0.rheobase)\n",
    "ir_currents = {}\n",
    "ir_currents = dtc0.rheobase\n",
    "standard = 1.5*ir_currents\n",
    "standard*=1.5\n",
    "strong = 3*ir_currents"
   ]
  },
  {
   "cell_type": "code",
   "execution_count": 7,
   "metadata": {
    "collapsed": false
   },
   "outputs": [],
   "source": [
    "\n",
    "tests = [AP12AmplitudeDropTest(standard), \n",
    "    AP1SSAmplitudeChangeTest(standard), \n",
    "    AP1AmplitudeTest(standard), \n",
    "    AP1WidthHalfHeightTest(standard), \n",
    "    AP1WidthPeakToTroughTest(standard), \n",
    "    AP1RateOfChangePeakToTroughTest(standard), \n",
    "    AP1AHPDepthTest(standard), \n",
    "    AP2AmplitudeTest(standard), \n",
    "    AP2WidthHalfHeightTest(standard), \n",
    "    AP2WidthPeakToTroughTest(standard), \n",
    "    AP2RateOfChangePeakToTroughTest(standard), \n",
    "    AP2AHPDepthTest(standard), \n",
    "    AP12AmplitudeChangePercentTest(standard), \n",
    "    AP12HalfWidthChangePercentTest(standard), \n",
    "    AP12RateOfChangePeakToTroughPercentChangeTest(standard), \n",
    "    AP12AHPDepthPercentChangeTest(standard), \n",
    "    AP1DelayMeanTest(standard), \n",
    "    AP1DelaySDTest(standard), \n",
    "    AP2DelayMeanTest(standard), \n",
    "    AP2DelaySDTest(standard), \n",
    "    Burst1ISIMeanTest(standard), \n",
    "    Burst1ISISDTest(standard), \n",
    "    InitialAccommodationMeanTest(standard), \n",
    "    SSAccommodationMeanTest(standard), \n",
    "    AccommodationRateToSSTest(standard), \n",
    "    AccommodationAtSSMeanTest(standard), \n",
    "    AccommodationRateMeanAtSSTest(standard), \n",
    "    ISICVTest(standard), \n",
    "    ISIMedianTest(standard), \n",
    "    ISIBurstMeanChangeTest(standard), \n",
    "    SpikeRateStrongStimTest(strong), \n",
    "    AP1DelayMeanStrongStimTest(strong), \n",
    "    AP1DelaySDStrongStimTest(strong), \n",
    "    AP2DelayMeanStrongStimTest(strong), \n",
    "    AP2DelaySDStrongStimTest(strong), \n",
    "    Burst1ISISDStrongStimTest(strong),\n",
    "    Burst1ISIMeanStrongStimTest(strong)]\n",
    "\n",
    "AHP_list = [AP1AHPDepthTest(standard), \n",
    "    AP2AHPDepthTest(standard), \n",
    "    AP12AHPDepthPercentChangeTest(standard) ] \n"
   ]
  },
  {
   "cell_type": "code",
   "execution_count": null,
   "metadata": {
    "collapsed": false
   },
   "outputs": [],
   "source": [
    "print(list(izhi_opt.values())[0]['pf'][1].dtc.scores)\n",
    "list(izhi_opt.values())[0]['pf'][0].dtc.attrs\n",
    "\n",
    "print(dtc0.rheobase)\n",
    "ir_currents = {}\n",
    "ir_currents = dtc0.rheobase\n",
    "standard = 1.5*ir_currents\n",
    "standard*=1.5\n",
    "strong = 3*ir_currents\n",
    "print(strong)\n",
    "np.isin = np.in1d\n",
    "\n",
    "from neuronunit.optimisation.optimisation_management import mint_generic_model\n",
    "\n",
    "import quantities as pq\n",
    "current_amplitude = {'mean': ir_currents, 'n': 1, 'std': 0.0 * pq.pA}\n",
    "test = AP12AmplitudeChangePercentTest(current_amplitude*100)\n",
    "\n",
    "\n",
    "model = mint_generic_model(dtc0.backend)\n",
    "model.set_attrs(dtc0.attrs)\n",
    "model = ReducedModel(LEMS_MODEL_PATH, name= str('vanilla'), backend=('RAW'),dtc)\n",
    "model\n",
    "    \n",
    "for i, test in enumerate(tests):\n",
    "    mean = test.generate_prediction(model)['mean']\n",
    "    \n",
    "    \n"
   ]
  },
  {
   "cell_type": "code",
   "execution_count": null,
   "metadata": {
    "collapsed": false
   },
   "outputs": [],
   "source": []
  },
  {
   "cell_type": "code",
   "execution_count": null,
   "metadata": {
    "collapsed": false
   },
   "outputs": [],
   "source": [
    "\n",
    "from pandas import DataFrame\n",
    "import numpy as np\n",
    "import pandas\n",
    "from matplotlib import pyplot as plt\n",
    "\n",
    "import string \n",
    "from scipy.stats import pearsonr\n",
    "import statsmodels.formula.api as smf\n",
    "import hdbscan\n",
    "from sklearn.cluster import KMeans\n",
    "from scipy.spatial.distance import euclidean\n",
    "\n",
    "pandas.set_option('display.max_columns', None)\n",
    "pandas.set_option('display.max_rows', 20)\n",
    "from manager import ModelManager\n",
    "mgr = ModelManager()\n",
    "mgr.server.connect()"
   ]
  },
  {
   "cell_type": "code",
   "execution_count": null,
   "metadata": {
    "collapsed": true
   },
   "outputs": [],
   "source": [
    "protocol_cost = {\n",
    "    'Steady State':       1, # 1s\n",
    "    'Standard':         5*2, # 5 repetitions of 1s SS 1s stim\n",
    "    'Strong':           5*2, # 5 repetitions of 1s SS 1s strong stim\n",
    "    'Input Resistance': 2*2, # 2 levels of 1s SS 1s stim\n",
    "}\n",
    "\n",
    "prop_protocol = {\n",
    "    'AP1Amplitude': 'Standard',\n",
    "    'AP2Amplitude': 'Standard',\n",
    "    'AP12AmplitudeDrop': 'Standard',\n",
    "    'AP12AmplitudeChangePercent': 'Standard',\n",
    "    'AP1SSAmplitudeChange': 'Standard'  ,\n",
    "    \n",
    "    'AP1WidthHalfHeight': 'Standard',\n",
    "    'AP2WidthHalfHeight': 'Standard',\n",
    "    'AP12HalfWidthChangePercent': 'Standard',\n",
    "    \n",
    "    'AP1WidthPeakToTrough': 'Standard',\n",
    "    'AP2WidthPeakToTrough': 'Standard',\n",
    "    \n",
    "    'AP1RateOfChangePeakToTrough': 'Standard',\n",
    "    'AP2RateOfChangePeakToTrough': 'Standard', \n",
    "    'AP12RateOfChangePeakToTroughPercentChange': 'Standard',\n",
    "    \n",
    "    'AP1AHPDepth': 'Standard',\n",
    "    'AP2AHPDepth': 'Standard',\n",
    "    'AP12AHPDepthPercentChange': 'Standard',\n",
    "    \n",
    "    'AP1DelayMean': 'Standard',\n",
    "    'AP2DelayMean': 'Standard',\n",
    "    \n",
    "    'AP1DelaySD': 'Standard',\n",
    "    'AP2DelaySD': 'Standard',\n",
    "    \n",
    "    'AP1DelayMeanStrongStim': 'Strong',\n",
    "    'AP2DelayMeanStrongStim': 'Strong',\n",
    "    \n",
    "    'AP1DelaySDStrongStim': 'Strong',\n",
    "    'AP2DelaySDStrongStim': 'Strong',\n",
    "    \n",
    "    'Burst1ISIMean': 'Standard',\n",
    "    'Burst1ISIMeanStrongStim': 'Strong',\n",
    "    \n",
    "    'Burst1ISISD': 'Standard',\n",
    "    'Burst1ISISDStrongStim': 'Strong',\n",
    "    \n",
    "    'InitialAccommodationMean': 'Standard',\n",
    "    'SSAccommodationMean': 'Standard',\n",
    "    'AccommodationRateToSS': 'Standard',\n",
    "    'AccommodationAtSSMean': 'Standard',\n",
    "    'AccommodationRateMeanAtSS': 'Standard',\n",
    "    \n",
    "    \n",
    "    'ISIMedian': 'Standard',\n",
    "    'ISICV': 'Standard',\n",
    "    'ISIBurstMeanChange': 'Standard',\n",
    "    \n",
    "    'SpikeRateStrongStim': 'Strong',\n",
    "    \n",
    "    'InputResistance': 'Input Resistance',\n",
    "    \n",
    "    'SteadyStateAPs': 'Steady State',\n",
    "}\n",
    "\n",
    "prop_names = [\n",
    "    'AP1Amplitude',\n",
    "    'AP2Amplitude',\n",
    "    'AP12AmplitudeDrop',\n",
    "    'AP12AmplitudeChangePercent',\n",
    "    'AP1SSAmplitudeChange',  \n",
    "    \n",
    "    'AP1WidthHalfHeight',\n",
    "    'AP2WidthHalfHeight',\n",
    "    'AP12HalfWidthChangePercent',\n",
    "    \n",
    "    'AP1WidthPeakToTrough',\n",
    "    'AP2WidthPeakToTrough',\n",
    "    \n",
    "    'AP1RateOfChangePeakToTrough',\n",
    "    'AP2RateOfChangePeakToTrough',    \n",
    "    'AP12RateOfChangePeakToTroughPercentChange',\n",
    "    \n",
    "    'AP1AHPDepth',\n",
    "    'AP2AHPDepth',\n",
    "    'AP12AHPDepthPercentChange',\n",
    "    \n",
    "    'AP1DelayMean',\n",
    "    'AP2DelayMean',\n",
    "    \n",
    "    'AP1DelaySD',\n",
    "    'AP2DelaySD',\n",
    "    \n",
    "    'AP1DelayMeanStrongStim',\n",
    "    'AP2DelayMeanStrongStim',\n",
    "    \n",
    "    'AP1DelaySDStrongStim',\n",
    "    'AP2DelaySDStrongStim',\n",
    "    \n",
    "    'Burst1ISIMean',\n",
    "    'Burst1ISIMeanStrongStim',\n",
    "    \n",
    "    'Burst1ISISD',\n",
    "    'Burst1ISISDStrongStim',\n",
    "    \n",
    "    'InitialAccommodationMean',\n",
    "    'SSAccommodationMean',\n",
    "    'AccommodationRateToSS',\n",
    "    'AccommodationAtSSMean',\n",
    "    'AccommodationRateMeanAtSS',\n",
    "    \n",
    "    \n",
    "    'ISIMedian',\n",
    "    'ISICV',\n",
    "    'ISIBurstMeanChange',\n",
    "    \n",
    "    'SpikeRateStrongStim',\n",
    "    \n",
    "    'InputResistance',\n",
    "    \n",
    "    'SteadyStateAPs',\n",
    "    \n",
    "    'FrequencyPassAbove',\n",
    "    'FrequencyPassBelow',\n",
    "    \n",
    "    'RampFirstSpike',\n",
    "]"
   ]
  },
  {
   "cell_type": "code",
   "execution_count": null,
   "metadata": {
    "collapsed": true
   },
   "outputs": [],
   "source": []
  }
 ],
 "metadata": {
  "kernelspec": {
   "display_name": "Python 3",
   "language": "python",
   "name": "python3"
  },
  "language_info": {
   "codemirror_mode": {
    "name": "ipython",
    "version": 3
   },
   "file_extension": ".py",
   "mimetype": "text/x-python",
   "name": "python",
   "nbconvert_exporter": "python",
   "pygments_lexer": "ipython3",
   "version": "3.5.2"
  }
 },
 "nbformat": 4,
 "nbformat_minor": 2
}
