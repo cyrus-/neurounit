{
 "cells": [
  {
   "cell_type": "code",
   "execution_count": 9,
   "metadata": {
    "collapsed": false
   },
   "outputs": [
    {
     "name": "stdout",
     "output_type": "stream",
     "text": [
      "Running on Python version: 3.5.2 |Continuum Analytics, Inc.| (default, Jul  2 2016, 17:53:06) \n",
      "[GCC 4.4.7 20120313 (Red Hat 4.4.7-1)]\n",
      "Collecting hdbscan\n",
      "Collecting cython>=0.27 (from hdbscan)\n",
      "  Using cached https://files.pythonhosted.org/packages/c2/34/99ced126b3f41a908d8883570a67fbf900f10eea3cfdd11e388eb8ae9aac/Cython-0.29.6-cp35-cp35m-manylinux1_x86_64.whl\n",
      "Requirement already satisfied: scikit-learn>=0.17 in /opt/conda/lib/python3.5/site-packages (from hdbscan) (0.19.1)\n",
      "Requirement already satisfied: scipy>=0.9 in /opt/conda/lib/python3.5/site-packages (from hdbscan) (1.1.0)\n",
      "Requirement already satisfied: numpy>=1.9 in /opt/conda/lib/python3.5/site-packages (from hdbscan) (1.12.1)\n",
      "\u001b[31mcryptography 2.2.1 requires asn1crypto>=0.21.0, which is not installed.\u001b[0m\n",
      "\u001b[31mcffi 1.11.5 requires pycparser, which is not installed.\u001b[0m\n",
      "\u001b[31mallensdk 0.14.2 has requirement pandas<0.20.0,>=0.16.2, but you'll have pandas 0.23.1 which is incompatible.\u001b[0m\n",
      "Installing collected packages: cython, hdbscan\n",
      "  Found existing installation: Cython 0.23.5\n",
      "\u001b[31mCannot uninstall 'Cython'. It is a distutils installed project and thus we cannot accurately determine which files belong to it which would lead to only a partial uninstall.\u001b[0m\n",
      "\u001b[33mYou are using pip version 10.0.1, however version 19.0.3 is available.\n",
      "You should consider upgrading via the 'pip install --upgrade pip' command.\u001b[0m\n",
      "Requirement already satisfied: lazyarray in /opt/conda/lib/python3.5/site-packages (0.3.2)\n",
      "Requirement already satisfied: numpy>=1.8 in /opt/conda/lib/python3.5/site-packages (from lazyarray) (1.12.1)\n",
      "\u001b[31mcffi 1.11.5 requires pycparser, which is not installed.\u001b[0m\n",
      "\u001b[31mcryptography 2.2.1 requires asn1crypto>=0.21.0, which is not installed.\u001b[0m\n",
      "\u001b[31mallensdk 0.14.2 has requirement pandas<0.20.0,>=0.16.2, but you'll have pandas 0.23.1 which is incompatible.\u001b[0m\n",
      "\u001b[33mYou are using pip version 10.0.1, however version 19.0.3 is available.\n",
      "You should consider upgrading via the 'pip install --upgrade pip' command.\u001b[0m\n",
      "Collecting hdbscan\n",
      "Requirement already satisfied: scikit-learn>=0.17 in /opt/conda/lib/python3.5/site-packages (from hdbscan) (0.19.1)\n",
      "Collecting cython>=0.27 (from hdbscan)\n",
      "  Using cached https://files.pythonhosted.org/packages/c2/34/99ced126b3f41a908d8883570a67fbf900f10eea3cfdd11e388eb8ae9aac/Cython-0.29.6-cp35-cp35m-manylinux1_x86_64.whl\n",
      "Requirement already satisfied: scipy>=0.9 in /opt/conda/lib/python3.5/site-packages (from hdbscan) (1.1.0)\n",
      "Requirement already satisfied: numpy>=1.9 in /opt/conda/lib/python3.5/site-packages (from hdbscan) (1.12.1)\n",
      "\u001b[31mcffi 1.11.5 requires pycparser, which is not installed.\u001b[0m\n",
      "\u001b[31mcryptography 2.2.1 requires asn1crypto>=0.21.0, which is not installed.\u001b[0m\n",
      "\u001b[31mallensdk 0.14.2 has requirement pandas<0.20.0,>=0.16.2, but you'll have pandas 0.23.1 which is incompatible.\u001b[0m\n",
      "Installing collected packages: cython, hdbscan\n",
      "  Found existing installation: Cython 0.23.5\n",
      "\u001b[31mCannot uninstall 'Cython'. It is a distutils installed project and thus we cannot accurately determine which files belong to it which would lead to only a partial uninstall.\u001b[0m\n",
      "\u001b[33mYou are using pip version 10.0.1, however version 19.0.3 is available.\n",
      "You should consider upgrading via the 'pip install --upgrade pip' command.\u001b[0m\n",
      "Collecting scipy\n",
      "  Using cached https://files.pythonhosted.org/packages/f0/30/526bee2ce18c066f9ff13ba89603f6c2b96c9fd406b57a21a7ba14bf5679/scipy-1.2.1-cp35-cp35m-manylinux1_x86_64.whl\n",
      "Requirement not upgraded as not directly required: numpy>=1.8.2 in /opt/conda/lib/python3.5/site-packages (from scipy) (1.12.1)\n",
      "\u001b[31mcffi 1.11.5 requires pycparser, which is not installed.\u001b[0m\n",
      "\u001b[31mcryptography 2.2.1 requires asn1crypto>=0.21.0, which is not installed.\u001b[0m\n",
      "\u001b[31mallensdk 0.14.2 has requirement pandas<0.20.0,>=0.16.2, but you'll have pandas 0.23.1 which is incompatible.\u001b[0m\n",
      "Installing collected packages: scipy\n",
      "  Found existing installation: scipy 1.1.0\n",
      "    Uninstalling scipy-1.1.0:\n",
      "\u001b[31mCould not install packages due to an EnvironmentError: [Errno 13] Permission denied: 'trf_linear.py'\n",
      "Consider using the `--user` option or check the permissions.\n",
      "\u001b[0m\n",
      "\u001b[33mYou are using pip version 10.0.1, however version 19.0.3 is available.\n",
      "You should consider upgrading via the 'pip install --upgrade pip' command.\u001b[0m\n",
      "Collecting numpy\n",
      "  Using cached https://files.pythonhosted.org/packages/e3/18/4f013c3c3051f4e0ffbaa4bf247050d6d5e527fe9cb1907f5975b172f23f/numpy-1.16.2-cp35-cp35m-manylinux1_x86_64.whl\n",
      "Collecting numba\n",
      "  Using cached https://files.pythonhosted.org/packages/36/b2/e5da7c1397614fd6c23179f61481c209670eb0a0b50fc6254480baa20b92/numba-0.42.0-cp35-cp35m-manylinux1_x86_64.whl\n",
      "Collecting llvmlite>=0.27.0dev0 (from numba)\n",
      "\u001b[?25l  Downloading https://files.pythonhosted.org/packages/76/56/6808629ea05c592639abb04b4a8489d90badfd1c2bf2d618b188ba7d4721/llvmlite-0.27.0-cp35-cp35m-manylinux1_x86_64.whl (16.8MB)\n",
      "\u001b[K    100% |████████████████████████████████| 16.8MB 153kB/s ta 0:00:011   53% |█████████████████▏              | 9.0MB 113kB/s eta 0:01:10\n",
      "\u001b[31mcryptography 2.2.1 requires asn1crypto>=0.21.0, which is not installed.\u001b[0m\n",
      "\u001b[31mcffi 1.11.5 requires pycparser, which is not installed.\u001b[0m\n",
      "\u001b[31mallensdk 0.14.2 has requirement pandas<0.20.0,>=0.16.2, but you'll have pandas 0.23.1 which is incompatible.\u001b[0m\n",
      "\u001b[?25hInstalling collected packages: numpy, llvmlite, numba\n",
      "  Found existing installation: numpy 1.12.1\n",
      "    Uninstalling numpy-1.12.1:\n",
      "\u001b[31mCould not install packages due to an EnvironmentError: [Errno 13] Permission denied: 'fftpack.cpython-35.pyc'\n",
      "Consider using the `--user` option or check the permissions.\n",
      "\u001b[0m\n",
      "\u001b[33mYou are using pip version 10.0.1, however version 19.0.3 is available.\n",
      "You should consider upgrading via the 'pip install --upgrade pip' command.\u001b[0m\n",
      "Requirement already satisfied: lmfit in /opt/conda/lib/python3.5/site-packages (0.9.12)\n",
      "Requirement already satisfied: uncertainties>=3.0 in /opt/conda/lib/python3.5/site-packages (from lmfit) (3.0.3)\n",
      "Requirement already satisfied: asteval>=0.9.12 in /opt/conda/lib/python3.5/site-packages (from lmfit) (0.9.13)\n",
      "Requirement already satisfied: numpy>=1.10 in /opt/conda/lib/python3.5/site-packages (from lmfit) (1.12.1)\n",
      "Requirement already satisfied: scipy>=0.17 in /opt/conda/lib/python3.5/site-packages (from lmfit) (1.1.0)\n",
      "Requirement already satisfied: six>1.10 in /opt/conda/lib/python3.5/site-packages (from lmfit) (1.12.0)\n",
      "\u001b[31mcryptography 2.2.1 requires asn1crypto>=0.21.0, which is not installed.\u001b[0m\n",
      "\u001b[31mcffi 1.11.5 requires pycparser, which is not installed.\u001b[0m\n",
      "\u001b[31mallensdk 0.14.2 has requirement pandas<0.20.0,>=0.16.2, but you'll have pandas 0.23.1 which is incompatible.\u001b[0m\n",
      "\u001b[33mYou are using pip version 10.0.1, however version 19.0.3 is available.\n",
      "You should consider upgrading via the 'pip install --upgrade pip' command.\u001b[0m\n"
     ]
    },
    {
     "data": {
      "text/plain": [
       "<module 'scipy.stats' from '/opt/conda/lib/python3.5/site-packages/scipy/stats/__init__.py'>"
      ]
     },
     "execution_count": 9,
     "metadata": {},
     "output_type": "execute_result"
    }
   ],
   "source": [
    "import sys    \n",
    "print('Running on Python version: {}'.format(sys.version))\n",
    "!pip install hdbscan \n",
    "\n",
    "try:\n",
    "    import lazyarray\n",
    "    import lmfit\n",
    "    import scipy\n",
    "    import hdbscan\n",
    "\n",
    "except:\n",
    "    !pip install lazyarray\n",
    "    !pip install hdbscan \n",
    "    !pip install scipy --upgrade\n",
    "    !pip install numpy numba --upgrade \n",
    "    !pip install lmfit \n",
    "    \n",
    "import lmfit\n",
    "scipy.stats"
   ]
  },
  {
   "cell_type": "code",
   "execution_count": 10,
   "metadata": {
    "collapsed": false
   },
   "outputs": [],
   "source": [
    "import os\n",
    "import pickle\n",
    "\n",
    "try:\n",
    "    izhi_opt = pickle.load(open('protected/multi_objective_izhi.p','rb')) \n",
    "except:\n",
    "    \n",
    "    os.system('wget wget -O ncp_cell_layer_5_6.p https://osf.io/6yba2/download')\n",
    "    os.system('wget -O multi_objective_izhi https://osf.io/3vp8d/download')\n",
    "    izhi_opt = pickle.load(open('multi_objective_izhi.p','rb')) \n",
    "\n",
    "\n",
    "\n"
   ]
  },
  {
   "cell_type": "markdown",
   "metadata": {},
   "source": [
    "# Get Data\n",
    "If content is not available locally, wget the files from the Open Science Frame Work."
   ]
  },
  {
   "cell_type": "code",
   "execution_count": 11,
   "metadata": {
    "collapsed": false
   },
   "outputs": [],
   "source": [
    "from neuronunit.tests.druckmann2013 import *\n"
   ]
  },
  {
   "cell_type": "code",
   "execution_count": 12,
   "metadata": {
    "collapsed": false
   },
   "outputs": [
    {
     "name": "stdout",
     "output_type": "stream",
     "text": [
      "{'RheobaseTest': 0.43475020334261383, 'InjectedCurrentAPAmplitudeTest': 1.0, 'InputResistanceTest': 0.5162167574928647, 'TimeConstantTest': 0.19463622334314878, 'InjectedCurrentAPWidthTest': 0.004511111383472155, 'RestingPotentialTest': 0.0010068761003825255, 'InjectedCurrentAPThresholdTest': 0.9999383647108253}\n",
      "{'RheobaseTest': 0.27439091965608964, 'InjectedCurrentAPAmplitudeTest': 1.0, 'InputResistanceTest': 0.7583867186758638, 'TimeConstantTest': 0.9985452095287137, 'InjectedCurrentAPWidthTest': 0.8045887465032604, 'RestingPotentialTest': 0.9743806289694379, 'InjectedCurrentAPThresholdTest': 0.9957958143881491}\n",
      "{'RheobaseTest': 0.34361838339745054, 'InjectedCurrentAPAmplitudeTest': 1.0, 'InputResistanceTest': 0.5587581971196718, 'TimeConstantTest': 0.07139840065746239, 'InjectedCurrentAPWidthTest': 0.16128647828914078, 'RestingPotentialTest': 0.046204212239741804, 'InjectedCurrentAPThresholdTest': 0.9999999998992437}\n",
      "{'RheobaseTest': 0.3790062106554366, 'InjectedCurrentAPAmplitudeTest': 1.0, 'InputResistanceTest': 0.5408201556655916, 'TimeConstantTest': 0.07844538201231388, 'InjectedCurrentAPWidthTest': 0.04959051887629906, 'RestingPotentialTest': 0.1084234062376297, 'InjectedCurrentAPThresholdTest': 0.9999999999994738}\n",
      "28.38592529296875 pA\n",
      "63.86833190917969 pA\n"
     ]
    }
   ],
   "source": [
    "\n",
    "dtc0 = list(izhi_opt.values())[0]['pf'][0].dtc\n",
    "dtc1 = list(izhi_opt.values())[0]['pf'][1].dtc\n",
    "dtc2 = list(izhi_opt.values())[0]['pf'][2].dtc\n",
    "dtc_1 = list(izhi_opt.values())[0]['pf'][-1].dtc\n",
    "\n",
    "print(list(izhi_opt.values())[0]['pf'][0].dtc.scores)\n",
    "print(list(izhi_opt.values())[0]['pf'][-1].dtc.scores)\n",
    "print(list(izhi_opt.values())[0]['pf'][2].dtc.scores)\n",
    "print(list(izhi_opt.values())[0]['pf'][1].dtc.scores)\n",
    "list(izhi_opt.values())[0]['pf'][0].dtc.attrs\n",
    "\n",
    "print(dtc0.rheobase)\n",
    "ir_currents = {}\n",
    "ir_currents = dtc0.rheobase\n",
    "standard = 1.5*ir_currents\n",
    "standard*=1.5\n",
    "strong = 3*ir_currents\n",
    "print(standard)\n"
   ]
  },
  {
   "cell_type": "code",
   "execution_count": 13,
   "metadata": {
    "collapsed": false
   },
   "outputs": [],
   "source": [
    "\n",
    "tests = [AP12AmplitudeDropTest(standard), \n",
    "    AP1SSAmplitudeChangeTest(standard), \n",
    "    AP1AmplitudeTest(standard), \n",
    "    AP1WidthHalfHeightTest(standard), \n",
    "    AP1WidthPeakToTroughTest(standard), \n",
    "    AP1RateOfChangePeakToTroughTest(standard), \n",
    "    AP1AHPDepthTest(standard), \n",
    "    AP2AmplitudeTest(standard), \n",
    "    AP2WidthHalfHeightTest(standard), \n",
    "    AP2WidthPeakToTroughTest(standard), \n",
    "    AP2RateOfChangePeakToTroughTest(standard), \n",
    "    AP2AHPDepthTest(standard), \n",
    "    AP12AmplitudeChangePercentTest(standard), \n",
    "    AP12HalfWidthChangePercentTest(standard), \n",
    "    AP12RateOfChangePeakToTroughPercentChangeTest(standard), \n",
    "    AP12AHPDepthPercentChangeTest(standard), \n",
    "    AP1DelayMeanTest(standard), \n",
    "    AP1DelaySDTest(standard), \n",
    "    AP2DelayMeanTest(standard), \n",
    "    AP2DelaySDTest(standard), \n",
    "    Burst1ISIMeanTest(standard), \n",
    "    Burst1ISISDTest(standard), \n",
    "    InitialAccommodationMeanTest(standard), \n",
    "    SSAccommodationMeanTest(standard), \n",
    "    AccommodationRateToSSTest(standard), \n",
    "    AccommodationAtSSMeanTest(standard), \n",
    "    AccommodationRateMeanAtSSTest(standard), \n",
    "    ISICVTest(standard), \n",
    "    ISIMedianTest(standard), \n",
    "    ISIBurstMeanChangeTest(standard), \n",
    "    SpikeRateStrongStimTest(strong), \n",
    "    AP1DelayMeanStrongStimTest(strong), \n",
    "    AP1DelaySDStrongStimTest(strong), \n",
    "    AP2DelayMeanStrongStimTest(strong), \n",
    "    AP2DelaySDStrongStimTest(strong), \n",
    "    Burst1ISISDStrongStimTest(strong),\n",
    "    Burst1ISIMeanStrongStimTest(strong)]\n",
    "\n",
    "AHP_list = [AP1AHPDepthTest(standard), \n",
    "    AP2AHPDepthTest(standard), \n",
    "    AP12AHPDepthPercentChangeTest(standard) ] \n"
   ]
  },
  {
   "cell_type": "code",
   "execution_count": 14,
   "metadata": {
    "collapsed": false
   },
   "outputs": [
    {
     "data": {
      "text/plain": [
       "{0: {'injected_square_current': {'amplitude': array(28.38592529296875) * pA,\n",
       "   'delay': array(100.0) * ms,\n",
       "   'duration': array(1000.0) * ms}},\n",
       " 1: {'injected_square_current': {'amplitude': array(-10.0) * pA,\n",
       "   'delay': array(200.0) * ms,\n",
       "   'duration': array(500.0) * ms}},\n",
       " 2: {'injected_square_current': {'amplitude': array(-10.0) * pA,\n",
       "   'delay': array(200.0) * ms,\n",
       "   'duration': array(500.0) * ms}},\n",
       " 3: {'injected_square_current': {'amplitude': array(-10.0) * pA,\n",
       "   'delay': array(200.0) * ms,\n",
       "   'duration': array(500.0) * ms}},\n",
       " 4: {'injected_square_current': {'amplitude': array(28.38592529296875) * pA,\n",
       "   'delay': array(100.0) * ms,\n",
       "   'duration': array(1000.0) * ms}},\n",
       " 5: {'injected_square_current': {'amplitude': array(28.38592529296875) * pA,\n",
       "   'delay': array(100.0) * ms,\n",
       "   'duration': array(1000.0) * ms}},\n",
       " 6: {'injected_square_current': {'amplitude': array(28.38592529296875) * pA,\n",
       "   'delay': array(100.0) * ms,\n",
       "   'duration': array(1000.0) * ms}}}"
      ]
     },
     "execution_count": 14,
     "metadata": {},
     "output_type": "execute_result"
    }
   ],
   "source": [
    "dtc0.vtest"
   ]
  },
  {
   "cell_type": "code",
   "execution_count": 15,
   "metadata": {
    "collapsed": false
   },
   "outputs": [
    {
     "name": "stdout",
     "output_type": "stream",
     "text": [
      "{'RheobaseTest': 0.3790062106554366, 'InjectedCurrentAPAmplitudeTest': 1.0, 'InputResistanceTest': 0.5408201556655916, 'TimeConstantTest': 0.07844538201231388, 'InjectedCurrentAPWidthTest': 0.04959051887629906, 'RestingPotentialTest': 0.1084234062376297, 'InjectedCurrentAPThresholdTest': 0.9999999999994738}\n",
      "28.38592529296875 pA\n",
      "85.15777587890625 pA\n"
     ]
    },
    {
     "data": {
      "image/png": "[encoded data removed]",
      "text/plain": [
       "<matplotlib.figure.Figure at 0x7f56374c5ac8>"
      ]
     },
     "metadata": {},
     "output_type": "display_data"
    },
    {
     "name": "stdout",
     "output_type": "stream",
     "text": [
      "[  7.28245272e-05] V\n",
      "[  4.54515429e-05] mV\n",
      "[ 0.0560128] V\n",
      "0.8500000000000001 ms\n",
      "[ 0.] ms\n",
      "-3816.7083822004943 V/s\n",
      "[ 0.03940491] V\n",
      "[ 0.05593998] V\n",
      "0.8500000000000001 ms\n",
      "[ 0.] ms\n",
      "-3816.7083822004943 V/s\n",
      "[ 0.03947773] V\n",
      "[-0.13001407] dimensionless\n",
      "0.0 dimensionless\n",
      "-0.0 dimensionless\n",
      "[ 0.18481081] dimensionless\n",
      "52.850000000000136 ms\n",
      "0.0 ms\n",
      "111.75 ms\n",
      "0.0 ms\n",
      "59.67499999999984 ms\n",
      "0.0 ms\n",
      "0.0\n",
      "16.666666666666664\n",
      "0.14914243102162564 1/ms\n",
      "-2.96633408668\n",
      "30.482752645093903 ms\n",
      "192.693714278\n",
      "60.69999999999993 ms\n",
      "2.63157894737\n",
      "22.5 Hz\n",
      "38.875 ms\n",
      "0.0 ms\n",
      "81.54999999999995 ms\n",
      "0.0 ms\n",
      "0.0 ms\n",
      "43.33749999999998 ms\n"
     ]
    }
   ],
   "source": [
    "from neuronunit.optimisation.optimisation_management import mint_generic_model, inject_and_plot\n",
    "\n",
    "import quantities as pq\n",
    "print(list(izhi_opt.values())[0]['pf'][1].dtc.scores)\n",
    "list(izhi_opt.values())[0]['pf'][0].dtc.attrs\n",
    "\n",
    "print(dtc0.rheobase)\n",
    "ir_currents = {}\n",
    "ir_currents = dtc0.rheobase\n",
    "standard = 1.5*ir_currents\n",
    "standard*=1.5\n",
    "strong = 3*ir_currents\n",
    "print(strong)\n",
    "np.isin = np.in1d\n",
    "\n",
    "inject_and_plot(dtc0,figname='problem')\n",
    "current_amplitude = {'mean': ir_currents, 'n': 1, 'std': 0.0 * pq.pA}\n",
    "test = AP12AmplitudeChangePercentTest(current_amplitude)\n",
    "\n",
    "\n",
    "model = mint_generic_model(dtc0.backend)\n",
    "model.set_attrs(dtc0.attrs)\n",
    "model\n",
    "    \n",
    "for i, test in enumerate(tests):\n",
    "    mean = test.generate_prediction(model)['mean']\n",
    "    print(mean)\n",
    "    \n"
   ]
  },
  {
   "cell_type": "code",
   "execution_count": null,
   "metadata": {
    "collapsed": true
   },
   "outputs": [],
   "source": []
  },
  {
   "cell_type": "code",
   "execution_count": null,
   "metadata": {
    "collapsed": false
   },
   "outputs": [],
   "source": []
  },
  {
   "cell_type": "code",
   "execution_count": 16,
   "metadata": {
    "collapsed": false
   },
   "outputs": [
    {
     "ename": "ImportError",
     "evalue": "No module named 'hdbscan'",
     "output_type": "error",
     "traceback": [
      "\u001b[0;31m---------------------------------------------------------------------------\u001b[0m",
      "\u001b[0;31mImportError\u001b[0m                               Traceback (most recent call last)",
      "\u001b[0;32m<ipython-input-16-c8bdd2bd683c>\u001b[0m in \u001b[0;36m<module>\u001b[0;34m()\u001b[0m\n\u001b[1;32m     14\u001b[0m \u001b[0;32mfrom\u001b[0m \u001b[0mscipy\u001b[0m \u001b[0;32mimport\u001b[0m \u001b[0moptimize\u001b[0m\u001b[0;34m\u001b[0m\u001b[0m\n\u001b[1;32m     15\u001b[0m \u001b[0;34m\u001b[0m\u001b[0m\n\u001b[0;32m---> 16\u001b[0;31m \u001b[0;32mimport\u001b[0m \u001b[0mhdbscan\u001b[0m\u001b[0;34m\u001b[0m\u001b[0m\n\u001b[0m\u001b[1;32m     17\u001b[0m \u001b[0;32mfrom\u001b[0m \u001b[0msklearn\u001b[0m\u001b[0;34m.\u001b[0m\u001b[0mcluster\u001b[0m \u001b[0;32mimport\u001b[0m \u001b[0mKMeans\u001b[0m\u001b[0;34m\u001b[0m\u001b[0m\n\u001b[1;32m     18\u001b[0m \u001b[0;32mfrom\u001b[0m \u001b[0mscipy\u001b[0m\u001b[0;34m.\u001b[0m\u001b[0mspatial\u001b[0m\u001b[0;34m.\u001b[0m\u001b[0mdistance\u001b[0m \u001b[0;32mimport\u001b[0m \u001b[0meuclidean\u001b[0m\u001b[0;34m\u001b[0m\u001b[0m\n",
      "\u001b[0;31mImportError\u001b[0m: No module named 'hdbscan'"
     ]
    }
   ],
   "source": [
    "\n",
    "from pandas import DataFrame\n",
    "import numpy as np\n",
    "import pandas\n",
    "from matplotlib import pyplot as plt\n",
    "\n",
    "import string \n",
    "from scipy.stats import pearsonr\n",
    "#import statsmodels.formula.api as smf\n",
    "\n",
    "\n",
    "from scipy.linalg import toeplitz\n",
    "from scipy import stats\n",
    "from scipy import optimize\n",
    "\n",
    "import hdbscan\n",
    "from sklearn.cluster import KMeans\n",
    "from scipy.spatial.distance import euclidean\n",
    "\n",
    "pandas.set_option('display.max_columns', None)\n",
    "pandas.set_option('display.max_rows', 20)\n",
    "from manager import ModelManager\n",
    "mgr = ModelManager()\n",
    "mgr.server.connect()"
   ]
  },
  {
   "cell_type": "code",
   "execution_count": null,
   "metadata": {
    "collapsed": true
   },
   "outputs": [],
   "source": [
    "protocol_cost = {\n",
    "    'Steady State':       1, # 1s\n",
    "    'Standard':         5*2, # 5 repetitions of 1s SS 1s stim\n",
    "    'Strong':           5*2, # 5 repetitions of 1s SS 1s strong stim\n",
    "    'Input Resistance': 2*2, # 2 levels of 1s SS 1s stim\n",
    "}\n",
    "\n",
    "prop_protocol = {\n",
    "    'AP1Amplitude': 'Standard',\n",
    "    'AP2Amplitude': 'Standard',\n",
    "    'AP12AmplitudeDrop': 'Standard',\n",
    "    'AP12AmplitudeChangePercent': 'Standard',\n",
    "    'AP1SSAmplitudeChange': 'Standard'  ,\n",
    "    \n",
    "    'AP1WidthHalfHeight': 'Standard',\n",
    "    'AP2WidthHalfHeight': 'Standard',\n",
    "    'AP12HalfWidthChangePercent': 'Standard',\n",
    "    \n",
    "    'AP1WidthPeakToTrough': 'Standard',\n",
    "    'AP2WidthPeakToTrough': 'Standard',\n",
    "    \n",
    "    'AP1RateOfChangePeakToTrough': 'Standard',\n",
    "    'AP2RateOfChangePeakToTrough': 'Standard', \n",
    "    'AP12RateOfChangePeakToTroughPercentChange': 'Standard',\n",
    "    \n",
    "    'AP1AHPDepth': 'Standard',\n",
    "    'AP2AHPDepth': 'Standard',\n",
    "    'AP12AHPDepthPercentChange': 'Standard',\n",
    "    \n",
    "    'AP1DelayMean': 'Standard',\n",
    "    'AP2DelayMean': 'Standard',\n",
    "    \n",
    "    'AP1DelaySD': 'Standard',\n",
    "    'AP2DelaySD': 'Standard',\n",
    "    \n",
    "    'AP1DelayMeanStrongStim': 'Strong',\n",
    "    'AP2DelayMeanStrongStim': 'Strong',\n",
    "    \n",
    "    'AP1DelaySDStrongStim': 'Strong',\n",
    "    'AP2DelaySDStrongStim': 'Strong',\n",
    "    \n",
    "    'Burst1ISIMean': 'Standard',\n",
    "    'Burst1ISIMeanStrongStim': 'Strong',\n",
    "    \n",
    "    'Burst1ISISD': 'Standard',\n",
    "    'Burst1ISISDStrongStim': 'Strong',\n",
    "    \n",
    "    'InitialAccommodationMean': 'Standard',\n",
    "    'SSAccommodationMean': 'Standard',\n",
    "    'AccommodationRateToSS': 'Standard',\n",
    "    'AccommodationAtSSMean': 'Standard',\n",
    "    'AccommodationRateMeanAtSS': 'Standard',\n",
    "    \n",
    "    \n",
    "    'ISIMedian': 'Standard',\n",
    "    'ISICV': 'Standard',\n",
    "    'ISIBurstMeanChange': 'Standard',\n",
    "    \n",
    "    'SpikeRateStrongStim': 'Strong',\n",
    "    \n",
    "    'InputResistance': 'Input Resistance',\n",
    "    \n",
    "    'SteadyStateAPs': 'Steady State',\n",
    "}\n",
    "\n",
    "prop_names = [\n",
    "    'AP1Amplitude',\n",
    "    'AP2Amplitude',\n",
    "    'AP12AmplitudeDrop',\n",
    "    'AP12AmplitudeChangePercent',\n",
    "    'AP1SSAmplitudeChange',  \n",
    "    \n",
    "    'AP1WidthHalfHeight',\n",
    "    'AP2WidthHalfHeight',\n",
    "    'AP12HalfWidthChangePercent',\n",
    "    \n",
    "    'AP1WidthPeakToTrough',\n",
    "    'AP2WidthPeakToTrough',\n",
    "    \n",
    "    'AP1RateOfChangePeakToTrough',\n",
    "    'AP2RateOfChangePeakToTrough',    \n",
    "    'AP12RateOfChangePeakToTroughPercentChange',\n",
    "    \n",
    "    'AP1AHPDepth',\n",
    "    'AP2AHPDepth',\n",
    "    'AP12AHPDepthPercentChange',\n",
    "    \n",
    "    'AP1DelayMean',\n",
    "    'AP2DelayMean',\n",
    "    \n",
    "    'AP1DelaySD',\n",
    "    'AP2DelaySD',\n",
    "    \n",
    "    'AP1DelayMeanStrongStim',\n",
    "    'AP2DelayMeanStrongStim',\n",
    "    \n",
    "    'AP1DelaySDStrongStim',\n",
    "    'AP2DelaySDStrongStim',\n",
    "    \n",
    "    'Burst1ISIMean',\n",
    "    'Burst1ISIMeanStrongStim',\n",
    "    \n",
    "    'Burst1ISISD',\n",
    "    'Burst1ISISDStrongStim',\n",
    "    \n",
    "    'InitialAccommodationMean',\n",
    "    'SSAccommodationMean',\n",
    "    'AccommodationRateToSS',\n",
    "    'AccommodationAtSSMean',\n",
    "    'AccommodationRateMeanAtSS',\n",
    "    \n",
    "    \n",
    "    'ISIMedian',\n",
    "    'ISICV',\n",
    "    'ISIBurstMeanChange',\n",
    "    \n",
    "    'SpikeRateStrongStim',\n",
    "    \n",
    "    'InputResistance',\n",
    "    \n",
    "    'SteadyStateAPs',\n",
    "    \n",
    "    'FrequencyPassAbove',\n",
    "    'FrequencyPassBelow',\n",
    "    \n",
    "    'RampFirstSpike',\n",
    "]"
   ]
  },
  {
   "cell_type": "code",
   "execution_count": null,
   "metadata": {
    "collapsed": true
   },
   "outputs": [],
   "source": []
  },
  {
   "cell_type": "code",
   "execution_count": null,
   "metadata": {
    "collapsed": true
   },
   "outputs": [],
   "source": []
  },
  {
   "cell_type": "code",
   "execution_count": null,
   "metadata": {
    "collapsed": true
   },
   "outputs": [],
   "source": []
  },
  {
   "cell_type": "code",
   "execution_count": null,
   "metadata": {
    "collapsed": true
   },
   "outputs": [],
   "source": []
  }
 ],
 "metadata": {
  "kernelspec": {
   "display_name": "Python 3",
   "language": "python",
   "name": "python3"
  },
  "language_info": {
   "codemirror_mode": {
    "name": "ipython",
    "version": 3
   },
   "file_extension": ".py",
   "mimetype": "text/x-python",
   "name": "python",
   "nbconvert_exporter": "python",
   "pygments_lexer": "ipython3",
   "version": "3.5.2"
  }
 },
 "nbformat": 4,
 "nbformat_minor": 2
}
