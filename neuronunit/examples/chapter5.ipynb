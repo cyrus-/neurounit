{
 "cells": [
  {
   "cell_type": "code",
   "execution_count": 1,
   "metadata": {},
   "outputs": [
    {
     "name": "stdout",
     "output_type": "stream",
     "text": [
      "consider installing pynn a heavier backend\n",
      "glif python Error\n"
     ]
    }
   ],
   "source": [
    "import os\n",
    "import pickle\n",
    "result_RAW = pickle.load(open('RAWall_data_tests.p','rb'))\n",
    "result_ADEXP = pickle.load(open('ADEXPall_data_tests.p','rb'))\n",
    "result_RAW = result_RAW['RAW']"
   ]
  },
  {
   "cell_type": "code",
   "execution_count": 2,
   "metadata": {},
   "outputs": [
    {
     "data": {
      "text/plain": [
       "{'Cerebellum Purkinje cell': [<neuronunit.optimisation.data_transport_container.DataTC at 0x1c286ae358>,\n",
       "  <neuronunit.optimisation.data_transport_container.DataTC at 0x1c286ae8d0>],\n",
       " 'Olfactory bulb (main) mitral cell': [<neuronunit.optimisation.data_transport_container.DataTC at 0x103cc8240>,\n",
       "  <neuronunit.optimisation.data_transport_container.DataTC at 0x1c1e8fe390>,\n",
       "  <neuronunit.optimisation.data_transport_container.DataTC at 0x1c1e8fea90>,\n",
       "  <neuronunit.optimisation.data_transport_container.DataTC at 0x1c1f5842b0>,\n",
       "  <neuronunit.optimisation.data_transport_container.DataTC at 0x1c1f5849b0>,\n",
       "  <neuronunit.optimisation.data_transport_container.DataTC at 0x1c22b560f0>,\n",
       "  <neuronunit.optimisation.data_transport_container.DataTC at 0x1c22b567f0>,\n",
       "  <neuronunit.optimisation.data_transport_container.DataTC at 0x1c22b56ef0>,\n",
       "  <neuronunit.optimisation.data_transport_container.DataTC at 0x1c25787630>,\n",
       "  <neuronunit.optimisation.data_transport_container.DataTC at 0x1c25787d30>,\n",
       "  <neuronunit.optimisation.data_transport_container.DataTC at 0x1c257bd470>,\n",
       "  <neuronunit.optimisation.data_transport_container.DataTC at 0x1c257bdb70>],\n",
       " 'Hippocampus CA1 pyramidal cell': [<neuronunit.optimisation.data_transport_container.DataTC at 0x1c286aee80>,\n",
       "  <neuronunit.optimisation.data_transport_container.DataTC at 0x1c2b859860>,\n",
       "  <neuronunit.optimisation.data_transport_container.DataTC at 0x1c2b859fd0>,\n",
       "  <neuronunit.optimisation.data_transport_container.DataTC at 0x1c2e109780>,\n",
       "  <neuronunit.optimisation.data_transport_container.DataTC at 0x1c2e109ef0>],\n",
       " 'Neocortex pyramidal cell layer 5-6': [<neuronunit.optimisation.data_transport_container.DataTC at 0x1c36d47da0>,\n",
       "  <neuronunit.optimisation.data_transport_container.DataTC at 0x1c36d7f5f8>,\n",
       "  <neuronunit.optimisation.data_transport_container.DataTC at 0x1c36d7fd68>,\n",
       "  <neuronunit.optimisation.data_transport_container.DataTC at 0x1c3a1a9518>],\n",
       " 'Hippocampus CA1 basket cell': [<neuronunit.optimisation.data_transport_container.DataTC at 0x1c30e766a0>,\n",
       "  <neuronunit.optimisation.data_transport_container.DataTC at 0x1c30e76ef0>,\n",
       "  <neuronunit.optimisation.data_transport_container.DataTC at 0x1c343d76a0>,\n",
       "  <neuronunit.optimisation.data_transport_container.DataTC at 0x1c343d7e10>,\n",
       "  <neuronunit.optimisation.data_transport_container.DataTC at 0x1c36d475c0>]}"
      ]
     },
     "execution_count": 2,
     "metadata": {},
     "output_type": "execute_result"
    }
   ],
   "source": [
    "\n",
    "def result_to_dict(result_ADEXP,result_RAW):\n",
    "    RAW_dtc = {}\n",
    "    ADEXP_dtc = {}\n",
    "    RAW_dtc = {}\n",
    "    try:\n",
    "        RAW_dtc['Cerebellum Purkinje cell'] = result_RAW['purkine']\n",
    "    except:\n",
    "        RAW_dtc['Cerebellum Purkinje cell'] = result_RAW['purkinje']        \n",
    "    RAW_dtc['Olfactory bulb (main) mitral cell'] = result_RAW['olf']\n",
    "    RAW_dtc['Hippocampus CA1 pyramidal cell'] = result_RAW['ca1pyr']\n",
    "    RAW_dtc['Neocortex pyramidal cell layer 5-6'] = result_RAW['neo']\n",
    "    RAW_dtc['Hippocampus CA1 basket cell'] = result_RAW['ca1basket']\n",
    "    ADEXP_dtc = {}\n",
    "    try:\n",
    "        ADEXP_dtc['Cerebellum Purkinje cell'] = [d.dtc for d in result_ADEXP['ADEXP']['purkine']]\n",
    "    except:\n",
    "        ADEXP_dtc['Cerebellum Purkinje cell'] = [d.dtc for d in result_ADEXP['ADEXP']['purkinje']]        \n",
    "    ADEXP_dtc['Olfactory bulb (main) mitral cell'] = [d.dtc for d in result_ADEXP['ADEXP']['olf']]\n",
    "    ADEXP_dtc['Hippocampus CA1 pyramidal cell'] = [d.dtc for d in result_ADEXP['ADEXP']['ca1pyr']]\n",
    "    ADEXP_dtc['Neocortex pyramidal cell layer 5-6'] = [d.dtc for d in result_ADEXP['ADEXP']['neo']]\n",
    "    ADEXP_dtc['Hippocampus CA1 basket cell'] = [d.dtc for d in result_ADEXP['ADEXP']['ca1basket']]\n",
    "    return ADEXP_dtc,RAW_dtc\n",
    "\n",
    "ADEXP_dtc,RAW_dtc = result_to_dict(result_ADEXP,result_RAW)\n",
    "\n",
    "RAW_dtc"
   ]
  },
  {
   "cell_type": "code",
   "execution_count": 3,
   "metadata": {},
   "outputs": [],
   "source": [
    "for cell in RAW_dtc.keys():\n",
    "    compare0 = {t.name:t.observation for t in RAW_dtc[cell][0].tests.values() }\n",
    "    compare0 = {k:(v,RAW_dtc[cell][0].predictions[k]) for k,v in compare0.items() }\n",
    "\n",
    "    compare1 = {t.name:t.observation for t in ADEXP_dtc[cell][0].tests.values() }\n",
    "    #print(compare1.keys())\n",
    "    #print(ADEXP_dtc[cell][0].predictions.keys())\n",
    "    compare1 = {k:(v,ADEXP_dtc[cell][0].predictions[k]) for k,v in compare1.items() if k in ADEXP_dtc[cell][0].predictions.keys()}\n",
    "\n"
   ]
  },
  {
   "cell_type": "code",
   "execution_count": 4,
   "metadata": {},
   "outputs": [
    {
     "name": "stdout",
     "output_type": "stream",
     "text": [
      "Importing Jupyter notebook from chapter1.ipynb\n",
      "Importing Jupyter notebook from chapter5.ipynb\n"
     ]
    },
    {
     "data": {
      "text/html": [
       "<div>\n",
       "<style scoped>\n",
       "    .dataframe tbody tr th:only-of-type {\n",
       "        vertical-align: middle;\n",
       "    }\n",
       "\n",
       "    .dataframe tbody tr th {\n",
       "        vertical-align: top;\n",
       "    }\n",
       "\n",
       "    .dataframe thead th {\n",
       "        text-align: right;\n",
       "    }\n",
       "</style>\n",
       "<table border=\"1\" class=\"dataframe\">\n",
       "  <thead>\n",
       "    <tr style=\"text-align: right;\">\n",
       "      <th></th>\n",
       "      <th>CapacitanceTest</th>\n",
       "      <th>InjectedCurrentAPAmplitudeTest</th>\n",
       "      <th>InjectedCurrentAPThresholdTest</th>\n",
       "      <th>InjectedCurrentAPWidthTest</th>\n",
       "      <th>InputResistanceTest</th>\n",
       "      <th>RestingPotentialTest</th>\n",
       "      <th>RheobaseTest</th>\n",
       "      <th>TimeConstantTest</th>\n",
       "    </tr>\n",
       "  </thead>\n",
       "  <tbody>\n",
       "    <tr>\n",
       "      <th>0</th>\n",
       "      <td>(4.450000000000001e-11 s**4*A**2/(kg*m**2), 1....</td>\n",
       "      <td>(0.05702 V, 0.05005971458960177 V, 0.855300000...</td>\n",
       "      <td>(-38.72 mV, -0.00774734639432745 mV, -580.8 mV)</td>\n",
       "      <td>(0.0004 s, 0.00055 s, 0.006 s)</td>\n",
       "      <td>(69700000.0 kg*m**2/(s**3*A**2), 6738105036.81...</td>\n",
       "      <td>(-0.06425 V, -0.056 V, -0.96375 V)</td>\n",
       "      <td>(50.0 pA, 0.1910277762192436 pA, 750.0 pA)</td>\n",
       "      <td>(0.009000000000000001 s, 0.0008107699250056406...</td>\n",
       "    </tr>\n",
       "  </tbody>\n",
       "</table>\n",
       "</div>"
      ],
      "text/plain": [
       "                                     CapacitanceTest  \\\n",
       "0  (4.450000000000001e-11 s**4*A**2/(kg*m**2), 1....   \n",
       "\n",
       "                      InjectedCurrentAPAmplitudeTest  \\\n",
       "0  (0.05702 V, 0.05005971458960177 V, 0.855300000...   \n",
       "\n",
       "                    InjectedCurrentAPThresholdTest  \\\n",
       "0  (-38.72 mV, -0.00774734639432745 mV, -580.8 mV)   \n",
       "\n",
       "       InjectedCurrentAPWidthTest  \\\n",
       "0  (0.0004 s, 0.00055 s, 0.006 s)   \n",
       "\n",
       "                                 InputResistanceTest  \\\n",
       "0  (69700000.0 kg*m**2/(s**3*A**2), 6738105036.81...   \n",
       "\n",
       "                 RestingPotentialTest  \\\n",
       "0  (-0.06425 V, -0.056 V, -0.96375 V)   \n",
       "\n",
       "                                 RheobaseTest  \\\n",
       "0  (50.0 pA, 0.1910277762192436 pA, 750.0 pA)   \n",
       "\n",
       "                                    TimeConstantTest  \n",
       "0  (0.009000000000000001 s, 0.0008107699250056406...  "
      ]
     },
     "execution_count": 4,
     "metadata": {},
     "output_type": "execute_result"
    }
   ],
   "source": [
    "pre_df = {}\n",
    "try:\n",
    "    import nbimporter\n",
    "except:\n",
    "    !pip install nbimporter\n",
    "    import nbimporter\n",
    "from importlib import reload\n",
    "import chapter1 as chapter1\n",
    "\n",
    "df6 = chapter1.format_nice_frame(compare0)\n",
    "df6"
   ]
  },
  {
   "cell_type": "markdown",
   "metadata": {},
   "source": []
  },
  {
   "cell_type": "code",
   "execution_count": 5,
   "metadata": {},
   "outputs": [
    {
     "data": {
      "text/html": [
       "<div>\n",
       "<style scoped>\n",
       "    .dataframe tbody tr th:only-of-type {\n",
       "        vertical-align: middle;\n",
       "    }\n",
       "\n",
       "    .dataframe tbody tr th {\n",
       "        vertical-align: top;\n",
       "    }\n",
       "\n",
       "    .dataframe thead th {\n",
       "        text-align: right;\n",
       "    }\n",
       "</style>\n",
       "<table border=\"1\" class=\"dataframe\">\n",
       "  <thead>\n",
       "    <tr style=\"text-align: right;\">\n",
       "      <th></th>\n",
       "      <th>0</th>\n",
       "    </tr>\n",
       "  </thead>\n",
       "  <tbody>\n",
       "    <tr>\n",
       "      <th>CapacitanceTest</th>\n",
       "      <td>(4.450000000000001e-11 s**4*A**2/(kg*m**2), -7...</td>\n",
       "    </tr>\n",
       "    <tr>\n",
       "      <th>InputResistanceTest</th>\n",
       "      <td>(69700000.0 kg*m**2/(s**3*A**2), 378830061.774...</td>\n",
       "    </tr>\n",
       "    <tr>\n",
       "      <th>RestingPotentialTest</th>\n",
       "      <td>(-0.06425 V, -0.06999942989522692 V, 0.0065160...</td>\n",
       "    </tr>\n",
       "    <tr>\n",
       "      <th>TimeConstantTest</th>\n",
       "      <td>(0.009000000000000001 s, 0.0034448357305207145...</td>\n",
       "    </tr>\n",
       "  </tbody>\n",
       "</table>\n",
       "</div>"
      ],
      "text/plain": [
       "                                                                      0\n",
       "CapacitanceTest       (4.450000000000001e-11 s**4*A**2/(kg*m**2), -7...\n",
       "InputResistanceTest   (69700000.0 kg*m**2/(s**3*A**2), 378830061.774...\n",
       "RestingPotentialTest  (-0.06425 V, -0.06999942989522692 V, 0.0065160...\n",
       "TimeConstantTest      (0.009000000000000001 s, 0.0034448357305207145..."
      ]
     },
     "execution_count": 5,
     "metadata": {},
     "output_type": "execute_result"
    }
   ],
   "source": [
    "df7 = chapter1.format_nice_frame(compare1)#compare1\n",
    "df7.T"
   ]
  },
  {
   "cell_type": "markdown",
   "metadata": {},
   "source": [
    "# In notebook cells below we compute Druckman and Allen SDK\n",
    "Features on the optimized cells, in order to see if the optimized cells fall into pre-defined clusters, differentally  associated with experimental data, and model output data.\n",
    "\n",
    "To say this another way, it has previously been observed that experimental cell data, and model data, falls into easily seperated categories in feature space. This probably reflects deficits in simple model realism.\n",
    "\n",
    "By using optimized cells as new data points, and plotting their positions in a reduced dimension feature space we will be able to see if optimized models, are more convincing imitations of experimental data, by testing if new data points are harder to seperate from the experimental data.\n",
    "### Get Druckman features using a parallel algorithm to save time"
   ]
  },
  {
   "cell_type": "code",
   "execution_count": 6,
   "metadata": {},
   "outputs": [],
   "source": [
    "#ADEXP_dtc"
   ]
  },
  {
   "cell_type": "code",
   "execution_count": 7,
   "metadata": {},
   "outputs": [],
   "source": [
    "import dask.bag as db\n",
    "from neuronunit.optimisation.optimization_management import inject_and_plot, nuunit_dm_evaluation \n",
    "dfeatures={}\n",
    "druckman_feature_coordinatesadexp = {}\n",
    "for k,v in ADEXP_dtc.items():\n",
    "    bagged = db.from_sequence(ADEXP_dtc[k])\n",
    "    druckman_feature_coordinatesadexp[k] = list(bagged.map(nuunit_dm_evaluation).compute())\n",
    "    dfeatures[k] = [d.dm_test_features for d in  druckman_feature_coordinatesadexp[k] ]\n"
   ]
  },
  {
   "cell_type": "code",
   "execution_count": 8,
   "metadata": {},
   "outputs": [
    {
     "data": {
      "text/html": [
       "<div>\n",
       "<style scoped>\n",
       "    .dataframe tbody tr th:only-of-type {\n",
       "        vertical-align: middle;\n",
       "    }\n",
       "\n",
       "    .dataframe tbody tr th {\n",
       "        vertical-align: top;\n",
       "    }\n",
       "\n",
       "    .dataframe thead th {\n",
       "        text-align: right;\n",
       "    }\n",
       "</style>\n",
       "<table border=\"1\" class=\"dataframe\">\n",
       "  <thead>\n",
       "    <tr style=\"text-align: right;\">\n",
       "      <th></th>\n",
       "      <th>0</th>\n",
       "    </tr>\n",
       "  </thead>\n",
       "  <tbody>\n",
       "    <tr>\n",
       "      <th>0</th>\n",
       "      <td>{'AP12AmplitudeDropTest': [0.0 V], 'AP1SSAmpli...</td>\n",
       "    </tr>\n",
       "    <tr>\n",
       "      <th>1</th>\n",
       "      <td>{'AP12AmplitudeDropTest': [0.0 V], 'AP1SSAmpli...</td>\n",
       "    </tr>\n",
       "    <tr>\n",
       "      <th>2</th>\n",
       "      <td>{'AP12AmplitudeDropTest': [0.0 V], 'AP1SSAmpli...</td>\n",
       "    </tr>\n",
       "    <tr>\n",
       "      <th>3</th>\n",
       "      <td>{'AP12AmplitudeDropTest': [0.0 V], 'AP1SSAmpli...</td>\n",
       "    </tr>\n",
       "    <tr>\n",
       "      <th>4</th>\n",
       "      <td>{'AP12AmplitudeDropTest': [0.0 V], 'AP1SSAmpli...</td>\n",
       "    </tr>\n",
       "    <tr>\n",
       "      <th>5</th>\n",
       "      <td>{'AP12AmplitudeDropTest': [0.0 V], 'AP1SSAmpli...</td>\n",
       "    </tr>\n",
       "    <tr>\n",
       "      <th>6</th>\n",
       "      <td>{'AP12AmplitudeDropTest': [0.0 V], 'AP1SSAmpli...</td>\n",
       "    </tr>\n",
       "    <tr>\n",
       "      <th>7</th>\n",
       "      <td>{'AP12AmplitudeDropTest': [0.0 V], 'AP1SSAmpli...</td>\n",
       "    </tr>\n",
       "    <tr>\n",
       "      <th>8</th>\n",
       "      <td>{'AP12AmplitudeDropTest': [0.0 V], 'AP1SSAmpli...</td>\n",
       "    </tr>\n",
       "    <tr>\n",
       "      <th>9</th>\n",
       "      <td>{'AP12AmplitudeDropTest': [0.0 V], 'AP1SSAmpli...</td>\n",
       "    </tr>\n",
       "    <tr>\n",
       "      <th>10</th>\n",
       "      <td>{'AP12AmplitudeDropTest': [0.0 V], 'AP1SSAmpli...</td>\n",
       "    </tr>\n",
       "    <tr>\n",
       "      <th>11</th>\n",
       "      <td>{'AP12AmplitudeDropTest': [0.0 V], 'AP1SSAmpli...</td>\n",
       "    </tr>\n",
       "  </tbody>\n",
       "</table>\n",
       "</div>"
      ],
      "text/plain": [
       "                                                    0\n",
       "0   {'AP12AmplitudeDropTest': [0.0 V], 'AP1SSAmpli...\n",
       "1   {'AP12AmplitudeDropTest': [0.0 V], 'AP1SSAmpli...\n",
       "2   {'AP12AmplitudeDropTest': [0.0 V], 'AP1SSAmpli...\n",
       "3   {'AP12AmplitudeDropTest': [0.0 V], 'AP1SSAmpli...\n",
       "4   {'AP12AmplitudeDropTest': [0.0 V], 'AP1SSAmpli...\n",
       "5   {'AP12AmplitudeDropTest': [0.0 V], 'AP1SSAmpli...\n",
       "6   {'AP12AmplitudeDropTest': [0.0 V], 'AP1SSAmpli...\n",
       "7   {'AP12AmplitudeDropTest': [0.0 V], 'AP1SSAmpli...\n",
       "8   {'AP12AmplitudeDropTest': [0.0 V], 'AP1SSAmpli...\n",
       "9   {'AP12AmplitudeDropTest': [0.0 V], 'AP1SSAmpli...\n",
       "10  {'AP12AmplitudeDropTest': [0.0 V], 'AP1SSAmpli...\n",
       "11  {'AP12AmplitudeDropTest': [0.0 V], 'AP1SSAmpli..."
      ]
     },
     "execution_count": 8,
     "metadata": {},
     "output_type": "execute_result"
    }
   ],
   "source": [
    "import pandas as pd\n",
    "druck1 = pd.DataFrame([dfeatures[k]])\n",
    "druck1.T"
   ]
  },
  {
   "cell_type": "code",
   "execution_count": 9,
   "metadata": {},
   "outputs": [
    {
     "ename": "AttributeError",
     "evalue": "'list' object has no attribute 'rename'",
     "output_type": "error",
     "traceback": [
      "\u001b[0;31m---------------------------------------------------------------------------\u001b[0m",
      "\u001b[0;31mAttributeError\u001b[0m                            Traceback (most recent call last)",
      "\u001b[0;32m<ipython-input-9-9773cb7ff729>\u001b[0m in \u001b[0;36m<module>\u001b[0;34m()\u001b[0m\n\u001b[1;32m     10\u001b[0m     \u001b[0mdruck0\u001b[0m \u001b[0;34m=\u001b[0m \u001b[0mdruck0\u001b[0m\u001b[0;34m.\u001b[0m\u001b[0mrename\u001b[0m\u001b[0;34m(\u001b[0m\u001b[0mindex\u001b[0m\u001b[0;34m=\u001b[0m\u001b[0;34m{\u001b[0m\u001b[0;36m0\u001b[0m\u001b[0;34m:\u001b[0m \u001b[0mstr\u001b[0m\u001b[0;34m(\u001b[0m\u001b[0;34m'Izhikivitch'\u001b[0m\u001b[0;34m)\u001b[0m\u001b[0;34m}\u001b[0m\u001b[0;34m)\u001b[0m\u001b[0;34m\u001b[0m\u001b[0m\n\u001b[1;32m     11\u001b[0m     \u001b[0mdruck1\u001b[0m \u001b[0;34m=\u001b[0m \u001b[0mdfeatures\u001b[0m\u001b[0;34m[\u001b[0m\u001b[0mk\u001b[0m\u001b[0;34m]\u001b[0m\u001b[0;34m\u001b[0m\u001b[0m\n\u001b[0;32m---> 12\u001b[0;31m     \u001b[0mdruck1\u001b[0m \u001b[0;34m=\u001b[0m \u001b[0mdruck1\u001b[0m\u001b[0;34m.\u001b[0m\u001b[0mrename\u001b[0m\u001b[0;34m(\u001b[0m\u001b[0mindex\u001b[0m\u001b[0;34m=\u001b[0m\u001b[0;34m{\u001b[0m\u001b[0;36m0\u001b[0m\u001b[0;34m:\u001b[0m \u001b[0mstr\u001b[0m\u001b[0;34m(\u001b[0m\u001b[0;34m'ADEXP'\u001b[0m\u001b[0;34m)\u001b[0m\u001b[0;34m}\u001b[0m\u001b[0;34m)\u001b[0m\u001b[0;34m\u001b[0m\u001b[0m\n\u001b[0m\u001b[1;32m     13\u001b[0m \u001b[0;34m\u001b[0m\u001b[0m\n\u001b[1;32m     14\u001b[0m     \u001b[0;31m#druck4 = pd.DataFrame([izhidfeatures[k][-1]])\u001b[0m\u001b[0;34m\u001b[0m\u001b[0;34m\u001b[0m\u001b[0m\n",
      "\u001b[0;31mAttributeError\u001b[0m: 'list' object has no attribute 'rename'"
     ]
    }
   ],
   "source": [
    "import dask.bag as db\n",
    "izhidfeatures={}\n",
    "df_container = {}\n",
    "druckman_feature_coordinates_izhi ={}\n",
    "for k,v in RAW_dtc.items():\n",
    "    bagged = db.from_sequence(RAW_dtc[k])\n",
    "    druckman_feature_coordinates_izhi[k] = list(bagged.map(nuunit_dm_evaluation).compute())\n",
    "    izhidfeatures[k] = [d.dm_test_features for d in druckman_feature_coordinates_izhi[k] ]\n",
    "    druck0 = pd.DataFrame([izhidfeatures[k][0]])\n",
    "    druck0 = druck0.rename(index={0: str('Izhikivitch')})\n",
    "    druck1 = dfeatures[k]\n",
    "    druck1 = druck1.rename(index={0: str('ADEXP')})\n",
    "    \n",
    "    #druck4 = pd.DataFrame([izhidfeatures[k][-1]])\n",
    "    #druck4 = druck4.rename(index={0: str('Izhi_last')})\n",
    "    #druck3 = pd.DataFrame([dfeatures[k][-1]])\n",
    "    #druck3 = druck3.rename(index={0: str('ADEXP_last')})\n",
    "    #druck2 = druck1\n",
    "    druck2 = druck1.append(druck0)\n",
    "    #druck2 = druck2.append(druck3)\n",
    "    #druck2 = druck2.append(druck4)\n",
    "    df_container[k] = druck2\n",
    "df_container[k]    "
   ]
  },
  {
   "cell_type": "code",
   "execution_count": null,
   "metadata": {},
   "outputs": [],
   "source": [
    "cwd = os.getcwd()\n",
    "import numpy as np\n",
    "# Open the 1.5x rheobase file\n",
    "filename = os.path.join(cwd,'onefive_df.pkl')\n",
    "with open(filename, 'rb') as f:\n",
    "    df = pickle.load(f)\n",
    "    \n",
    "df.iloc[0][192:195]"
   ]
  },
  {
   "cell_type": "code",
   "execution_count": null,
   "metadata": {},
   "outputs": [],
   "source": [
    "#RAW_dtc = [d.dtc for d in RAW[k]]\n",
    "\n",
    "from neuronunit.optimisation.optimization_management import just_allen_predictions\n",
    "RAW_dtc = [d.dtc for d in RAW[k]]\n",
    "RAW_dtc[0].protocols[1].keys()\n",
    "\n",
    "RAW_dtc[0].ampl = RAW_dtc[0].protocols[1]['injected_square_current']['amplitude']*1.5\n",
    "RAW_dtc[0].ampl\n",
    "#for i in RAW_dtc:\n",
    "    \n",
    "def cell_to_allen(dtc):    \n",
    "    dtc.pre_obs = None\n",
    "    dtc.ampl = dtc.protocols[1]['injected_square_current']['amplitude']*3.0\n",
    "    dtc = just_allen_predictions(dtc)\n",
    "    return dtc\n",
    "bagged = db.from_sequence(RAW_dtc)\n",
    "RAW_dtc = list(bagged.map(cell_to_allen).compute())"
   ]
  },
  {
   "cell_type": "code",
   "execution_count": null,
   "metadata": {},
   "outputs": [],
   "source": [
    "preds = RAW_dtc[1][0].preds\n",
    "RAW_dtc[1][0].preds.pop('spikes',None)\n",
    "preds = {k:v['mean'] for k,v in RAW_dtc[1][0].preds.items()}\n",
    "preds\n",
    "allen_df = pd.DataFrame([preds])\n",
    "allen_df.T\n",
    "\n"
   ]
  },
  {
   "cell_type": "code",
   "execution_count": null,
   "metadata": {},
   "outputs": [],
   "source": []
  }
 ],
 "metadata": {
  "kernelspec": {
   "display_name": "Python 3",
   "language": "python",
   "name": "python3"
  },
  "language_info": {
   "codemirror_mode": {
    "name": "ipython",
    "version": 3
   },
   "file_extension": ".py",
   "mimetype": "text/x-python",
   "name": "python",
   "nbconvert_exporter": "python",
   "pygments_lexer": "ipython3",
   "version": "3.6.5"
  }
 },
 "nbformat": 4,
 "nbformat_minor": 2
}
