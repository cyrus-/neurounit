{
 "cells": [
  {
   "cell_type": "markdown",
   "metadata": {},
   "source": [
    "# Chapter 10\n",
    "In this chapter we look at:\n",
    "\n",
    "* Grid/Exhaustive search\n",
    "* Previous Chapters\n",
    "\n",
    "In [chapter 1](chapter1.ipynb) (a closely related notebook see hyperlink) We look at optimization outputs that came from an optimization using spike waveform shape. \n",
    "\n",
    "In [chapter 2](chapter2.ipynb) (a closely related notebook see hyperlink) I demonstrate optimization using spike time statistics via the allen SDK Chapter 2\n",
    "\n",
    "In [chapter 3](chapter3.ipynb) (a closely related notebook see hyperlink) We will take a closer at the neuroelectro data used to perform the fits in notebook1/Chapter 1. Specifically we will look at where optimized model behavior fits back onto the distribution of neuroelectro data.\n",
    "\n",
    "In [chapter 5](chapter5.ipynb) (a closely related notebook see hyperlink) We will look at projections of Optimized cells onto a Druckman feature space, we will also look at extracting Allen SDK features from the optimized cells. Chapter 3\n"
   ]
  },
  {
   "cell_type": "code",
   "execution_count": 1,
   "metadata": {},
   "outputs": [
    {
     "data": {
      "text/plain": [
       "<Figure size 640x480 with 1 Axes>"
      ]
     },
     "metadata": {},
     "output_type": "display_data"
    }
   ],
   "source": [
    "import matplotlib as mpl\n",
    "import matplotlib.pyplot as plt\n",
    "plt.plot([0],[1])\n",
    "plt.show()"
   ]
  },
  {
   "cell_type": "markdown",
   "metadata": {},
   "source": []
  },
  {
   "cell_type": "markdown",
   "metadata": {},
   "source": [
    "In a very simple example below. The OptMan class is instanced and used to perform simple optimization jobs including:\n",
    "Exhaustive Search, running a genetic algorithm (nsga3), or round trip testing with simulated data\n"
   ]
  },
  {
   "cell_type": "code",
   "execution_count": 2,
   "metadata": {},
   "outputs": [],
   "source": [
    "\n",
    "%%capture\n",
    "from allensdk.ephys.extract_cell_features import extract_cell_features\n",
    "import pickle\n",
    "from neuronunit.optimisation.optimization_management import OptMan, TSD\n",
    "from neuronunit.optimisation import model_parameters\n",
    "from neuronunit.optimisation.model_parameters import MODEL_PARAMS\n",
    "import pandas as pd\n",
    "import os\n",
    "\n"
   ]
  },
  {
   "cell_type": "code",
   "execution_count": null,
   "metadata": {},
   "outputs": [],
   "source": []
  },
  {
   "cell_type": "code",
   "execution_count": 3,
   "metadata": {},
   "outputs": [],
   "source": [
    "import os\n",
    "electro_path = str(os.getcwd())+'/../tests/russell_tests.p'\n",
    "\n",
    "assert os.path.isfile(electro_path) == True\n",
    "with open(electro_path,'rb') as f:\n",
    "    (test_frame,obs_frame) = pickle.load(f)\n",
    "local_tests = test_frame['Hippocampus CA1 pyramidal cell']\n",
    "local_tests = TSD(local_tests)\n",
    "local_tests.use_rheobase_score = True    \n"
   ]
  },
  {
   "cell_type": "markdown",
   "metadata": {},
   "source": [
    "# Use Hogkin Huxley model\n",
    "* via brian2/neural dynamics codes as a backend"
   ]
  },
  {
   "cell_type": "code",
   "execution_count": 4,
   "metadata": {},
   "outputs": [],
   "source": [
    "from neuronunit.models.backends import bhh\n"
   ]
  },
  {
   "cell_type": "code",
   "execution_count": 5,
   "metadata": {},
   "outputs": [
    {
     "name": "stdout",
     "output_type": "stream",
     "text": [
      "{'EK': -0.012, 'El': 0.0106, 'gl': 0.0003}\n",
      "Runtime taken to evaluate function <function OptMan.init_pop at 0x7f7747c6ef28> 0.05037689208984375 seconds\n",
      "Runtime taken to evaluate function <function OptMan.format_test at 0x7f7747c6ec80> 0.0005068778991699219 seconds\n",
      "Runtime taken to evaluate function <function OptMan.format_test at 0x7f7747c6ec80> 0.0003819465637207031 seconds\n",
      "Runtime taken to evaluate function <function OptMan.format_test at 0x7f7747c6ec80> 0.00036597251892089844 seconds\n",
      "Runtime taken to evaluate function <function OptMan.format_test at 0x7f7747c6ec80> 0.0003647804260253906 seconds\n",
      "Runtime taken to evaluate function <function OptMan.obtain_rheobase at 0x7f7747c6f0d0> 75.58448886871338 seconds\n",
      "Runtime taken to evaluate function <function OptMan.boot_new_genes at 0x7f7747c6f620> 43.502256631851196 seconds\n",
      "Runtime taken to evaluate function <function OptMan.format_test at 0x7f7747c6ec80> 0.0002624988555908203 seconds\n",
      "Runtime taken to evaluate function <function OptMan.format_test at 0x7f7747c6ec80> 0.00018739700317382812 seconds\n",
      "Runtime taken to evaluate function <function OptMan.make_up_lost at 0x7f7747c6f400> 43.50302457809448 seconds\n",
      "Runtime taken to evaluate function <function OptMan.parallel_route at 0x7f7747c6f268> 7.009506225585938e-05 seconds\n",
      "Runtime taken to evaluate function <function OptMan.update_deap_pop at 0x7f7747c6f510> 119.08791851997375 seconds\n",
      "Runtime taken to evaluate function <function OptMan.init_pop at 0x7f7747c6ef28> 0.11701750755310059 seconds\n",
      "Runtime taken to evaluate function <function OptMan.format_test at 0x7f7747c6ec80> 0.0002396106719970703 seconds\n",
      "Runtime taken to evaluate function <function OptMan.format_test at 0x7f7747c6ec80> 0.00017881393432617188 seconds\n",
      "Runtime taken to evaluate function <function OptMan.format_test at 0x7f7747c6ec80> 0.0001723766326904297 seconds\n",
      "Runtime taken to evaluate function <function OptMan.format_test at 0x7f7747c6ec80> 0.0001704692840576172 seconds\n",
      "Runtime taken to evaluate function <function OptMan.obtain_rheobase at 0x7f7747c6f0d0> 41.59604549407959 seconds\n",
      "Runtime taken to evaluate function <function OptMan.make_up_lost at 0x7f7747c6f400> 1.0251998901367188e-05 seconds\n",
      "Runtime taken to evaluate function <function OptMan.parallel_route at 0x7f7747c6f268> 5.5789947509765625e-05 seconds\n",
      "Runtime taken to evaluate function <function OptMan.update_deap_pop at 0x7f7747c6f510> 41.59628510475159 seconds\n",
      "4\n",
      "Runtime taken to evaluate function <function OptMan.init_pop at 0x7f7747c6ef28> 0.08803939819335938 seconds\n",
      "Runtime taken to evaluate function <function OptMan.format_test at 0x7f7747c6ec80> 0.0002522468566894531 seconds\n",
      "Runtime taken to evaluate function <function OptMan.format_test at 0x7f7747c6ec80> 0.00019550323486328125 seconds\n",
      "Runtime taken to evaluate function <function OptMan.format_test at 0x7f7747c6ec80> 0.0001857280731201172 seconds\n",
      "Runtime taken to evaluate function <function OptMan.format_test at 0x7f7747c6ec80> 0.00018072128295898438 seconds\n",
      "Runtime taken to evaluate function <function OptMan.obtain_rheobase at 0x7f7747c6f0d0> 39.73235011100769 seconds\n",
      "Runtime taken to evaluate function <function OptMan.make_up_lost at 0x7f7747c6f400> 1.33514404296875e-05 seconds\n",
      "Runtime taken to evaluate function <function OptMan.parallel_route at 0x7f7747c6f268> 5.9604644775390625e-05 seconds\n",
      "Runtime taken to evaluate function <function OptMan.update_deap_pop at 0x7f7747c6f510> 39.73260521888733 seconds\n",
      "4\n",
      "Runtime taken to evaluate function <function OptMan.init_pop at 0x7f7747c6ef28> 0.07650613784790039 seconds\n",
      "Runtime taken to evaluate function <function OptMan.format_test at 0x7f7747c6ec80> 0.0002560615539550781 seconds\n",
      "Runtime taken to evaluate function <function OptMan.format_test at 0x7f7747c6ec80> 0.00018930435180664062 seconds\n",
      "Runtime taken to evaluate function <function OptMan.format_test at 0x7f7747c6ec80> 0.00019812583923339844 seconds\n",
      "Runtime taken to evaluate function <function OptMan.format_test at 0x7f7747c6ec80> 0.00017380714416503906 seconds\n",
      "Runtime taken to evaluate function <function OptMan.obtain_rheobase at 0x7f7747c6f0d0> 34.44707179069519 seconds\n",
      "Runtime taken to evaluate function <function OptMan.make_up_lost at 0x7f7747c6f400> 1.3113021850585938e-05 seconds\n",
      "Runtime taken to evaluate function <function OptMan.parallel_route at 0x7f7747c6f268> 6.461143493652344e-05 seconds\n",
      "Runtime taken to evaluate function <function OptMan.update_deap_pop at 0x7f7747c6f510> 34.44734859466553 seconds\n",
      "4\n",
      "Runtime taken to evaluate function <function OptMan.init_pop at 0x7f7747c6ef28> 0.059584856033325195 seconds\n",
      "Runtime taken to evaluate function <function OptMan.format_test at 0x7f7747c6ec80> 0.00048732757568359375 seconds\n",
      "Runtime taken to evaluate function <function OptMan.obtain_rheobase at 0x7f7747c6f0d0> 9.83003306388855 seconds\n",
      "Runtime taken to evaluate function <function OptMan.make_up_lost at 0x7f7747c6f400> 2.6226043701171875e-05 seconds\n",
      "Runtime taken to evaluate function <function OptMan.parallel_route at 0x7f7747c6f268> 0.00010585784912109375 seconds\n"
     ]
    }
   ],
   "source": [
    "%%capture\n",
    "free_params=['gK','gNa','ENa','C']\n",
    "import copy\n",
    "for f in free_params:\n",
    "    hold_constant = copy.copy(MODEL_PARAMS['BHH'])\n",
    "    hold_constant.pop(f,'None')\n",
    "\n",
    "    OM = OptMan(local_tests,backend=str('BHH'),\\\n",
    "        boundary_dict=MODEL_PARAMS['BHH'],\\\n",
    "        protocol={'elephant':True,'allen':False,'dm':False},hc=hold_constant)#'tsr':spk_range})\n",
    "\n",
    "ga_results = OM.optimize(free_params=['gK','gNa','ENa','C'],MU=8,NGEN=8)#,hold_constant=hold_constant)\n"
   ]
  },
  {
   "cell_type": "code",
   "execution_count": 13,
   "metadata": {},
   "outputs": [
    {
     "data": {
      "image/png": "[encoded data removed]",
      "text/plain": [
       "<Figure size 432x288 with 1 Axes>"
      ]
     },
     "metadata": {},
     "output_type": "display_data"
    }
   ],
   "source": [
    "from neuronunit.plottools import inject_and_plot\n",
    "\n",
    "dtcpop = [d.dtc for d in ga_results['pf']]\n",
    "dtcpop = inject_and_plot(dtcpop)\n",
    "\n",
    "#vm_pop = [d.vm for d in dtcpop]"
   ]
  },
  {
   "cell_type": "code",
   "execution_count": null,
   "metadata": {},
   "outputs": [
    {
     "name": "stdout",
     "output_type": "stream",
     "text": [
      "Ratio = 0.00\n",
      "{'std': array(-1185.) * mV, 'n': 2578, 'value': array(-79.) * mV, 'mean': array(-79.) * mV} {'std': array(-1.29090303e-07) * V, 'mean': array(-3.63826856e-06) * V}\n",
      "{'delay': array(100.) * ms, 'duration': array(1000.) * ms, 'amplitude': array(3.1102816) * pA}\n",
      "{'delay': array(100.) * ms, 'duration': array(1000.) * ms, 'amplitude': array(3.1102816) * pA}\n",
      "{'delay': array(100.) * ms, 'duration': array(1000.) * ms, 'amplitude': array(3.1102816) * pA}\n",
      "{'delay': array(100.) * ms, 'duration': array(1000.) * ms, 'amplitude': array(3.1102816) * pA}\n",
      "Runtime taken to evaluate function <function bridge_judge at 0x7f774cbd2e18> 4.400141716003418 seconds\n",
      "failed at:  True InputResistanceTest <class 'sciunit.scores.complete.ZScore'> None 384.45 megaohm\n",
      "failed at:  True CapacitanceTest <class 'sciunit.scores.complete.ZScore'> None 256.5 pF\n",
      "Runtime taken to evaluate function <function bridge_judge at 0x7f774cbd2e18> 0.18441367149353027 seconds\n",
      "Runtime taken to evaluate function <function bridge_judge at 0x7f774cbd2e18> 0.17155098915100098 seconds\n",
      "failed at:  True TimeConstantTest <class 'sciunit.scores.complete.ZScore'> None 307.5 ms\n",
      "Runtime taken to evaluate function <function bridge_judge at 0x7f774cbd2e18> 8.120750904083252 seconds\n",
      "Ratio = 0.00\n",
      "{'std': array(-1185.) * mV, 'n': 2578, 'value': array(-79.) * mV, 'mean': array(-79.) * mV} {'std': array(-1.29090303e-07) * V, 'mean': array(-3.63826856e-06) * V}\n",
      "{'delay': array(100.) * ms, 'duration': array(1000.) * ms, 'amplitude': array(3.1102816) * pA}\n",
      "{'delay': array(100.) * ms, 'duration': array(1000.) * ms, 'amplitude': array(3.1102816) * pA}\n",
      "{'delay': array(100.) * ms, 'duration': array(1000.) * ms, 'amplitude': array(3.1102816) * pA}\n",
      "{'delay': array(100.) * ms, 'duration': array(1000.) * ms, 'amplitude': array(3.1102816) * pA}\n",
      "Runtime taken to evaluate function <function bridge_judge at 0x7f774cbd2e18> 0.19579243659973145 seconds\n",
      "failed at:  True InputResistanceTest <class 'sciunit.scores.complete.ZScore'> None 384.45 megaohm\n",
      "failed at:  True CapacitanceTest <class 'sciunit.scores.complete.ZScore'> None 256.5 pF\n",
      "Runtime taken to evaluate function <function bridge_judge at 0x7f774cbd2e18> 6.402570486068726 seconds\n",
      "Runtime taken to evaluate function <function bridge_judge at 0x7f774cbd2e18> 4.697627305984497 seconds\n",
      "failed at:  True TimeConstantTest <class 'sciunit.scores.complete.ZScore'> None 307.5 ms\n",
      "Runtime taken to evaluate function <function bridge_judge at 0x7f774cbd2e18> 4.637224197387695 seconds\n",
      "Ratio = 0.00\n",
      "{'std': array(-1185.) * mV, 'n': 2578, 'value': array(-79.) * mV, 'mean': array(-79.) * mV} {'std': array(-1.29090303e-07) * V, 'mean': array(-3.63826856e-06) * V}\n",
      "{'delay': array(100.) * ms, 'duration': array(1000.) * ms, 'amplitude': array(3.1102816) * pA}\n",
      "{'delay': array(100.) * ms, 'duration': array(1000.) * ms, 'amplitude': array(3.1102816) * pA}\n",
      "{'delay': array(100.) * ms, 'duration': array(1000.) * ms, 'amplitude': array(3.1102816) * pA}\n",
      "{'delay': array(100.) * ms, 'duration': array(1000.) * ms, 'amplitude': array(3.1102816) * pA}\n",
      "Runtime taken to evaluate function <function bridge_judge at 0x7f774cbd2e18> 0.1791367530822754 seconds\n",
      "failed at:  True InputResistanceTest <class 'sciunit.scores.complete.ZScore'> None 384.45 megaohm\n",
      "failed at:  True CapacitanceTest <class 'sciunit.scores.complete.ZScore'> None 256.5 pF\n",
      "Runtime taken to evaluate function <function bridge_judge at 0x7f774cbd2e18> 0.1692180633544922 seconds\n",
      "Runtime taken to evaluate function <function bridge_judge at 0x7f774cbd2e18> 4.165486574172974 seconds\n",
      "failed at:  True TimeConstantTest <class 'sciunit.scores.complete.ZScore'> None 307.5 ms\n",
      "Runtime taken to evaluate function <function bridge_judge at 0x7f774cbd2e18> 14.82789158821106 seconds\n"
     ]
    }
   ],
   "source": [
    "ga_results['pf'][0].dtc.attrs\n",
    "ga_results['pf'][0].dtc.scores\n",
    "ga_results['pf'][0].dtc.tests\n",
    "dtcpop = [ga_results['pf'][0].dtc for i in range(0,10) ]\n",
    "dtcpop = list(map(OM.elephant_evaluation,dtcpop))\n",
    "#ga_results['pop'][0].dtc.tests\n"
   ]
  },
  {
   "cell_type": "code",
   "execution_count": null,
   "metadata": {},
   "outputs": [],
   "source": [
    "[dtc.scores for dtc in dtcpop]"
   ]
  },
  {
   "cell_type": "code",
   "execution_count": null,
   "metadata": {},
   "outputs": [],
   "source": [
    "#%%capture#\n",
    "free_params=['b','C','peak_v']\n",
    "import copy\n",
    "for f in free_params:\n",
    "    hold_constant = copy.copy(MODEL_PARAMS['ADEXP'])\n",
    "    hold_constant.pop(f,'None')\n",
    "\n",
    "OM = OptMan(local_tests,backend=str('ADEXP'),\\\n",
    "            boundary_dict=MODEL_PARAMS['ADEXP'],\\\n",
    "            protocol={'elephant':True,'allen':False,'dm':False},hc=hold_constant)\n",
    "ga_results = OM.optimize(free_params=['b','C','peak_v'],MU=5,NGEN=5)\n"
   ]
  },
  {
   "cell_type": "code",
   "execution_count": null,
   "metadata": {},
   "outputs": [],
   "source": [
    "# res = OM.round_trip_test(local_tests,str('RAW'),MU=1,NGEN=1)#,stds = easy_standards)\n",
    "ga_results['pf'][0].dtc.scores\n",
    "ga_results['pf'][0].dtc.scores_ratio\n",
    "print(ga_results['dtc_pop'][0].scores)\n",
    "local_tests"
   ]
  },
  {
   "cell_type": "code",
   "execution_count": null,
   "metadata": {},
   "outputs": [],
   "source": [
    "%%capture\n",
    "# restrict the number of free parameters to 3, to make the grid search computationally tractable.\n",
    "#MODEL_PARAMS['ADEXP']\n",
    "%%timeit grid_results,sorted_pop = OM.run_simple_grid(2,free_params=['b','C','peak_v'])"
   ]
  },
  {
   "cell_type": "code",
   "execution_count": null,
   "metadata": {},
   "outputs": [],
   "source": [
    "opt=ga_results['pf'][0].dtc.scores_ratio\n",
    "opt"
   ]
  },
  {
   "cell_type": "code",
   "execution_count": null,
   "metadata": {},
   "outputs": [],
   "source": [
    "if type(opt) is not type(None):\n",
    "    print('its {0}, that ga beat grid'.format(opt<grid_results[0].dtc.scores))\n",
    "    grid_results[-1].dtc.scores\n",
    "    len(grid_results)\n",
    "    print(grid_results[-1].dtc.scores_ratio)\n",
    "    print(grid_results[0].dtc.scores_ratio)\n"
   ]
  },
  {
   "cell_type": "code",
   "execution_count": null,
   "metadata": {},
   "outputs": [],
   "source": [
    "\n",
    "%%capture\n",
    "%%timeit OM = OptMan(local_tests,backend=str('RAW'),boundary_dict=MODEL_PARAMS['RAW'],protocol={'elephant':True,'allen':False,'dm':False})#'tsr':spk_range})\n",
    "# restrict the number of free parameters to 3, to make the grid search computationally tractable.\n",
    "grid_results,sp = OM.run_simple_grid(5,free_params=['a','b','C'])\n"
   ]
  },
  {
   "cell_type": "code",
   "execution_count": null,
   "metadata": {},
   "outputs": [],
   "source": [
    "%%capture\n",
    "\n",
    "%%timeit ga_results_izh = OM.optimize(free_params=['a','b','C'],MU=3,NGEN=3)\n",
    "\n",
    "len([ (gr.dtc.scores,gr.dtc.attrs) for gr in grid_results ])"
   ]
  },
  {
   "cell_type": "code",
   "execution_count": null,
   "metadata": {},
   "outputs": [],
   "source": [
    "#[ (gr.dtc.scores,gr.dtc.attrs,gr) for gr in grid_results ] "
   ]
  },
  {
   "cell_type": "markdown",
   "metadata": {},
   "source": [
    "# Sort this list to find optimal solution from grid search.\n",
    "* Use optimal solution to seed a genetic algorithm.\n",
    "\n",
    "This will be a fast way of showing that the genetic algorithm can find a better solution. Alternatively we could start the GA from scratch, but if the genetic algorithm was not working at all, this would be a faster way to demonstrate it. Since time is short, let us do it the fast way first.\n",
    "\n"
   ]
  },
  {
   "cell_type": "code",
   "execution_count": null,
   "metadata": {},
   "outputs": [],
   "source": [
    "dtc_pop = sorted([ (gr.dtc.scores_ratio,gr.dtc.attrs,gr) for gr in grid_results ], key=lambda tup: tup[0])"
   ]
  },
  {
   "cell_type": "markdown",
   "metadata": {},
   "source": [
    "# Ground truth via exhaustive search is:\n"
   ]
  },
  {
   "cell_type": "code",
   "execution_count": null,
   "metadata": {},
   "outputs": [],
   "source": [
    "print('The model implied by parameters: {0}'.format(dtc_pop[0][1]))\n",
    "print('Yields the scores: {0}'.format(dtc_pop[0][2].dtc.scores))\n",
    "print('Yields the ratio scores: {0}'.format(dtc_pop[0][2].dtc.scores_ratio))"
   ]
  },
  {
   "cell_type": "markdown",
   "metadata": {},
   "source": [
    "* Now lets create a seed population from the top 10 exhaustive search results.\n"
   ]
  },
  {
   "cell_type": "code",
   "execution_count": null,
   "metadata": {},
   "outputs": [],
   "source": [
    "gene_pop = [d[2] for d in dtc_pop[0:10]]\n",
    "len(dtc_pop)"
   ]
  },
  {
   "cell_type": "code",
   "execution_count": null,
   "metadata": {},
   "outputs": [],
   "source": [
    "%%capture \n",
    "%%timeit results = local_tests.optimize(MODEL_PARAMS['RAW'],backend='RAW',protocol={'allen': False, 'elephant': True},\\\n",
    "                               NGEN=len(gene_pop)+len(gene_pop),MU=len(gene_pop)+len(gene_pop), free_params=dtc_pop[0][1].keys(), \\\n",
    "                               seed_pop=gene_pop)\n",
    "#(NGEN = 10, MU=len(gene_pop), seed_pop = gene_pop,backend='RAW',)\n",
    "#[ (gr.dtc.scores,gr.dtc.attrs) for gr in grid_results ] "
   ]
  },
  {
   "cell_type": "markdown",
   "metadata": {},
   "source": [
    "# Optimization management classes: \n",
    "* can also do things like round-trip testing (test the simulators internal performance, as if to bench mark itself with simulated neural data)."
   ]
  },
  {
   "cell_type": "code",
   "execution_count": null,
   "metadata": {},
   "outputs": [],
   "source": [
    "results[0]['dtc_pop'][0].scores\n",
    "opt_out = results[0]['dtc_pop'][0].scores_ratio\n",
    "opt_out"
   ]
  },
  {
   "cell_type": "code",
   "execution_count": null,
   "metadata": {},
   "outputs": [],
   "source": [
    "grid_out = dtc_pop[0][2].dtc.scores_ratio\n",
    "\n",
    "print('its true that ga beat exhaustive search {0}'.format(opt_out<grid_out))\n",
    "print('its true that ga was no worse than exhaustive search {0}'.format(opt_out==grid_out))\n",
    "\n",
    "print(results[0]['dtc_pop'][0].attrs,'grid best parameters')\n",
    "print(dtc_pop[0][2].dtc.attrs,'grid best parameters')\n",
    "grid_out"
   ]
  },
  {
   "cell_type": "code",
   "execution_count": null,
   "metadata": {},
   "outputs": [],
   "source": [
    "grid_out = dtc_pop[0][2].dtc.scores_ratio\n",
    "opt_out"
   ]
  },
  {
   "cell_type": "code",
   "execution_count": null,
   "metadata": {},
   "outputs": [],
   "source": [
    "results_no_seed = local_tests.optimize(MODEL_PARAMS['RAW'],backend='RAW',protocol={'allen': False, 'elephant': True},\\\n",
    "                               NGEN=len(gene_pop)+len(gene_pop),MU=len(gene_pop)+len(gene_pop),\\\n",
    "                               free_params=dtc_pop[0][1].keys())\n"
   ]
  },
  {
   "cell_type": "code",
   "execution_count": null,
   "metadata": {},
   "outputs": [],
   "source": [
    "grid_results_4 = OM.run_simple_grid(4,free_params=['a','b','c','C'])\n",
    "results_no_seed_4 = local_tests.optimize(MODEL_PARAMS['RAW'],backend='RAW',protocol={'allen': False, 'elephant': True},\\\n",
    "                               NGEN=len(gene_pop)+len(gene_pop),MU=len(gene_pop)+len(gene_pop),\\\n",
    "                               free_params=dtc_pop[0][1].keys())\n",
    "\n"
   ]
  },
  {
   "cell_type": "code",
   "execution_count": null,
   "metadata": {},
   "outputs": [],
   "source": [
    "%%capture\n"
   ]
  },
  {
   "cell_type": "code",
   "execution_count": null,
   "metadata": {},
   "outputs": [],
   "source": [
    "results_no_seed_4"
   ]
  },
  {
   "cell_type": "code",
   "execution_count": null,
   "metadata": {},
   "outputs": [],
   "source": [
    "print('Yields the scores: {0}'.format(results_no_seed_4[0]['pf'][0].dtc.scores))\n",
    "print('Yields the ratio scores: {0}'.format(results_no_seed_4[0]['pf'][0].dtc.scores_ratio))\n",
    "print('The model implied by parameters: {0}'.format(grid_results_4[0][1].dtc.scores_ratio))\n",
    "print('it seems like the optimizer can often beat the grid search but it really depends')"
   ]
  },
  {
   "cell_type": "code",
   "execution_count": null,
   "metadata": {},
   "outputs": [],
   "source": []
  },
  {
   "cell_type": "code",
   "execution_count": null,
   "metadata": {},
   "outputs": [],
   "source": []
  },
  {
   "cell_type": "code",
   "execution_count": null,
   "metadata": {},
   "outputs": [],
   "source": []
  }
 ],
 "metadata": {
  "kernelspec": {
   "display_name": "Python 3",
   "language": "python",
   "name": "python3"
  },
  "language_info": {
   "codemirror_mode": {
    "name": "ipython",
    "version": 3
   },
   "file_extension": ".py",
   "mimetype": "text/x-python",
   "name": "python",
   "nbconvert_exporter": "python",
   "pygments_lexer": "ipython3",
   "version": "3.5.2"
  }
 },
 "nbformat": 4,
 "nbformat_minor": 4
}
