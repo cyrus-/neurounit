{
 "cells": [
  {
   "cell_type": "markdown",
   "metadata": {},
   "source": [
    "Below I show that for many classes of neuron models using a parallel Rheobase algorithm adds a significant speed up to model evaluation. It is important to consider that determinig rheobase usually involves between 10-35 model simulations at different current injection strengths. Where is the remaining error score calculations only invole at most one simulation each. Consider an optimization problem where there are only eight error scores to calculate, and four of the eight errors are for non spiking simulations of less than 500ms, a rheobase simulation is for 1200ms, and it involves both non-spiking and multi-spiking behavior. Multi-spiking models take longer to simulate than non spiking models for technical reasons. In this particular instance where finding the unique rheobase value for each different gene is important, that rheobase determination is the biggest computational bottleneck.\n",
    "\n",
    "It is also important to consider that the speed of model simulation is often determined by the exact parameterization of the model in question. During optimization parameterization frequently changes. Multi-spiking models that are slower to evaluate are frequently sampled by a genetic algorithm optimizer. "
   ]
  },
  {
   "cell_type": "code",
   "execution_count": 4,
   "metadata": {},
   "outputs": [],
   "source": [
    "from neuronunit.tests.fi import RheobaseTestP\n",
    "import pickle\n",
    "tests = pickle.load(open(\"processed_multicellular_constraints.p\",\"rb\"))\n",
    "nu_tests = tests['Hippocampus CA1 pyramidal cell'].tests\n",
    "from bluepyopt.ephys.models import ReducedCellModel\n",
    "import numpy\n",
    "from neuronunit.optimisation.model_parameters import MODEL_PARAMS\n",
    "from bluepyopt.ephys.models import ReducedCellModel\n",
    "import bluepyopt.ephys as ephys\n",
    "from neuronunit.optimisation.brian_glif_model_parameters import transcribe_units\n",
    "import sciunit, neuronunit, quantities\n",
    "from neuronunit.tests.dm import *\n",
    "import time\n",
    "from neuronunit.tests import dm #this is me importing the Druckman tests\n",
    "from neuronunit.tests import RheobaseTestP, fi, RheobaseTest \n",
    "from neuronunit.models.reduced import ReducedModel\n",
    "from neuronunit.optimisation.data_transport_container import DataTC\n"
   ]
  },
  {
   "cell_type": "code",
   "execution_count": 11,
   "metadata": {},
   "outputs": [
    {
     "name": "stdout",
     "output_type": "stream",
     "text": [
      "time taken on block 4.555711984634399 \n",
      "time taken on block 18.55247473716736 \n",
      "parallel Rheobase search time NEURON  4.831164836883545\n",
      "serial Rheobase search time NEURON  18.69422459602356\n",
      "speed up 3.8695066774170974\n"
     ]
    }
   ],
   "source": [
    "\n",
    "tests = pickle.load(open(\"processed_multicellular_constraints.p\",\"rb\"))\n",
    "nu_tests = tests['Hippocampus CA1 pyramidal cell'].tests\n",
    "#rp = RheobaseTestP(observation = nu_tests[0].observation)\n",
    "\n",
    "from neuronunit.optimisation.brian_glif_model_parameters import MODEL_PARAMS as MODEL_PARAMS_depreciated\n",
    "\n",
    "IZHI_cell = ephys.models.ReducedCellModel(\n",
    "        name='NEURON',\n",
    "        params=MODEL_PARAMS_depreciated[\"NEURON_IZHI\"],backend=\"NEURON\") \n",
    "dtc = DataTC()\n",
    "dtc.attrs = IZHI_cell.attrs\n",
    "dtc.ampl=0\n",
    "dtc.attrs_raw = {'C':89.7960714285714, 'a':0.01, 'b':15, 'c':-60, 'd':10,\\\n",
    "         'k':1.6, 'vPeak':(86.364525297619-65.2261863636364),\\\n",
    "         'vr':-65.2261863636364, 'vt':-50}\n",
    "\n",
    "\n",
    "dtc.attrs = transcribe_units(dtc.attrs_raw)\n",
    "IZHI_cell.attrs = dtc.attrs\n",
    "start0 = time.time()\n",
    "rtp = RheobaseTestP(observation = nu_tests[0].observation)\n",
    "pred0 = rtp.generate_prediction(IZHI_cell)\n",
    "end0 = time.time()\n",
    "#print(IZHI_cell.attrs)\n",
    "\n",
    "start1 = time.time()\n",
    "rt = fi.RheobaseTest(observation = nu_tests[0].observation)\n",
    "pred1 = rt.generate_prediction(IZHI_cell)\n",
    "end1 = time.time()\n",
    "\n",
    "print('parallel Rheobase search time NEURON ', end0-start0)\n",
    "print('serial Rheobase search time NEURON ',end1-start1)\n",
    "\n",
    "\n",
    "print('speed up {0}'.format((end1-start1)/(end0-start0)))"
   ]
  },
  {
   "cell_type": "code",
   "execution_count": 10,
   "metadata": {
    "scrolled": true
   },
   "outputs": [
    {
     "name": "stdout",
     "output_type": "stream",
     "text": [
      "time taken on block 0.7909517288208008 \n",
      "elapsed serial:  0.7914438247680664\n",
      "time taken on block 0.2581171989440918 \n",
      "elapsed parallel:  0.2590057849884033\n",
      "speed up parallel:  3.055699411515084\n"
     ]
    }
   ],
   "source": [
    "explore_ranges = {'E_Na' : (40,70), 'E_K': (-90.0,-75.0)}\n",
    "\n",
    "attrs = { 'g_K' : 36.0, 'g_Na' : 120.0, 'g_L' : 0.3, \\\n",
    "         'C_m' : 1.0, 'E_L' : -54.387, 'E_K' : -77.0, 'E_Na' : 50.0, 'vr':-65.0 } \n",
    "\n",
    "cond_model = ephys.models.ReducedCellModel(\n",
    "        name='HH',\n",
    "        params=MODEL_PARAMS_depreciated[\"HH\"],backend=\"HH\") \n",
    "\n",
    "\n",
    "#model = ReducedModel(LEMS_MODEL_PATH,name = str('vanilla'),backend = ('HH'))\n",
    "cond_model.attrs = attrs\n",
    "cond_model.attrs = attrs\n",
    "iparams = {}\n",
    "iparams['injected_square_current'] = {}\n",
    "iparams['injected_square_current']['amplitude'] = 1.98156805*pq.pA\n",
    "iparams['injected_square_current']['amplitude'] = 2.98156805*pq.pA\n",
    "\n",
    "DELAY = 100.0*pq.ms\n",
    "DURATION = 1000.0*pq.ms\n",
    "iparams['injected_square_current']['delay'] = DELAY\n",
    "iparams['injected_square_current']['duration'] = int(DURATION)\n",
    "bf = time.time()\n",
    "cond_model.inject_square_current(iparams)\n",
    "vm = cond_model.get_membrane_potential()\n",
    "af = time.time()\n",
    "\n",
    "#volts = [v[0] for v in vm ]\n",
    "#print(len(vm[0]),len(vm.times))\n",
    "\n",
    "\n",
    "bfs = time.time()\n",
    "#model = ReducedModel(LEMS_MODEL_PATH, name= str('vanilla'), backend=('HH', {'DTC':dtc}))\n",
    "#model._backend.cell_name = str('vanilla')\n",
    "#rt = RheobaseTestP(obs_frame['Dentate gyrus basket cell']['Rheobase'])\n",
    "pred0 = rt.generate_prediction(cond_model)\n",
    "afs = time.time()\n",
    "print('elapsed serial: ',afs-bfs)\n",
    "\n",
    "\n",
    "bfp = time.time()\n",
    "#model = ReducedModel(LEMS_MODEL_PATH, name= str('vanilla'), backend=('HH', {'DTC':dtc}))\n",
    "#model._backend.cell_name = str('vanilla')\n",
    "\n",
    "#rt = RheobaseTest(obs_frame['Dentate gyrus basket cell']['Rheobase'])\n",
    "pred0 = rtp.generate_prediction(cond_model)\n",
    "afp = time.time()\n",
    "print('elapsed parallel: ',afp-bfp)\n",
    "print('speed up parallel: ',(afs-bfs)/(afp-bfp))\n"
   ]
  },
  {
   "cell_type": "code",
   "execution_count": null,
   "metadata": {
    "collapsed": true
   },
   "outputs": [],
   "source": []
  }
 ],
 "metadata": {
  "kernelspec": {
   "display_name": "Python 3",
   "language": "python",
   "name": "python3"
  },
  "language_info": {
   "codemirror_mode": {
    "name": "ipython",
    "version": 3
   },
   "file_extension": ".py",
   "mimetype": "text/x-python",
   "name": "python",
   "nbconvert_exporter": "python",
   "pygments_lexer": "ipython3",
   "version": "3.7.4"
  }
 },
 "nbformat": 4,
 "nbformat_minor": 2
}
