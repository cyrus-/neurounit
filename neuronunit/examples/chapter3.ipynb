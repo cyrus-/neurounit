{
 "cells": [
  {
   "cell_type": "markdown",
   "metadata": {},
   "source": [
    "# Chapter 3\n",
    "In this chapter we take a closer look at neuroelectro data, and we also look at the quality of chapter 1 optimizer fits from this perspective\n",
    "\n",
    "In [chapter 4](chapter4.ipynb) (a closely related notebook see hyperlink) We will take a closer using Docker environments to access commonly used simulator backends NEURON/PyNN/Allen Glif/Brian and waveform feature extraction tools: EFEL, Allen etc."
   ]
  },
  {
   "cell_type": "code",
   "execution_count": 1,
   "metadata": {},
   "outputs": [
    {
     "name": "stdout",
     "output_type": "stream",
     "text": [
      "consider installing pynn a heavier backend\n"
     ]
    }
   ],
   "source": [
    "from neuronunit.optimisation.optimization_management import data_versus_optimal"
   ]
  },
  {
   "cell_type": "code",
   "execution_count": 2,
   "metadata": {},
   "outputs": [
    {
     "name": "stderr",
     "output_type": "stream",
     "text": [
      "WARNING    /usr/local/lib/python3.5/dist-packages/matplotlib/figure.py:445: UserWarning: Matplotlib is currently using agg, which is a non-GUI backend, so cannot show the figure.\n",
      "  % get_backend())\n",
      " [py.warnings]\n",
      "WARNING:py.warnings:/usr/local/lib/python3.5/dist-packages/matplotlib/figure.py:445: UserWarning: Matplotlib is currently using agg, which is a non-GUI backend, so cannot show the figure.\n",
      "  % get_backend())\n",
      "\n"
     ]
    },
    {
     "ename": "FileNotFoundError",
     "evalue": "[Errno 2] No such file or directory: 'RAWall_data_tests.p'",
     "output_type": "error",
     "traceback": [
      "\u001b[0;31m---------------------------------------------------------------------------\u001b[0m",
      "\u001b[0;31mFileNotFoundError\u001b[0m                         Traceback (most recent call last)",
      "\u001b[0;32m<ipython-input-2-4cb1337499c4>\u001b[0m in \u001b[0;36m<module>\u001b[0;34m()\u001b[0m\n\u001b[1;32m      8\u001b[0m \u001b[0;32mimport\u001b[0m \u001b[0mpickle\u001b[0m\u001b[0;34m\u001b[0m\u001b[0m\n\u001b[1;32m      9\u001b[0m \u001b[0;32mimport\u001b[0m \u001b[0mos\u001b[0m\u001b[0;34m\u001b[0m\u001b[0m\n\u001b[0;32m---> 10\u001b[0;31m \u001b[0mresult_RAW\u001b[0m \u001b[0;34m=\u001b[0m \u001b[0mpickle\u001b[0m\u001b[0;34m.\u001b[0m\u001b[0mload\u001b[0m\u001b[0;34m(\u001b[0m\u001b[0mopen\u001b[0m\u001b[0;34m(\u001b[0m\u001b[0;34m'RAWall_data_tests.p'\u001b[0m\u001b[0;34m,\u001b[0m\u001b[0;34m'rb'\u001b[0m\u001b[0;34m)\u001b[0m\u001b[0;34m)\u001b[0m\u001b[0;34m\u001b[0m\u001b[0m\n\u001b[0m\u001b[1;32m     11\u001b[0m \u001b[0mresult_ADEXP\u001b[0m \u001b[0;34m=\u001b[0m \u001b[0mpickle\u001b[0m\u001b[0;34m.\u001b[0m\u001b[0mload\u001b[0m\u001b[0;34m(\u001b[0m\u001b[0mopen\u001b[0m\u001b[0;34m(\u001b[0m\u001b[0;34m'ADEXPall_data_tests.p'\u001b[0m\u001b[0;34m,\u001b[0m\u001b[0;34m'rb'\u001b[0m\u001b[0;34m)\u001b[0m\u001b[0;34m)\u001b[0m\u001b[0;34m\u001b[0m\u001b[0m\n\u001b[1;32m     12\u001b[0m \u001b[0mresult_RAW\u001b[0m \u001b[0;34m=\u001b[0m \u001b[0mresult_RAW\u001b[0m\u001b[0;34m[\u001b[0m\u001b[0;34m'RAW'\u001b[0m\u001b[0;34m]\u001b[0m\u001b[0;34m\u001b[0m\u001b[0m\n",
      "\u001b[0;31mFileNotFoundError\u001b[0m: [Errno 2] No such file or directory: 'RAWall_data_tests.p'"
     ]
    }
   ],
   "source": [
    "import matplotlib as mpl\n",
    "import matplotlib.pyplot as plt\n",
    "plt.plot([0],[1])\n",
    "plt.show()\n",
    "import warnings\n",
    "warnings.filterwarnings(\"ignore\")\n",
    "\n",
    "import pickle\n",
    "import os\n",
    "result_RAW = pickle.load(open('RAWall_data_tests.p','rb'))\n",
    "result_ADEXP = pickle.load(open('ADEXPall_data_tests.p','rb'))\n",
    "result_RAW = result_RAW['RAW']\n"
   ]
  },
  {
   "cell_type": "code",
   "execution_count": null,
   "metadata": {},
   "outputs": [],
   "source": [
    "#type(result_ADEXP['ADEXP']['olf'][0])\n",
    "ad_olf_dtc = result_ADEXP['ADEXP']['olf'][0].dtc\n",
    "ad_purkine_dtc = result_ADEXP['ADEXP']['purkine'][0].dtc\n",
    "ad_ca1pyr_dtc = result_ADEXP['ADEXP']['ca1pyr'][0].dtc\n",
    "ad_ca1basket_dtc = result_ADEXP['ADEXP']['ca1basket'][0].dtc\n",
    "ad_neo_dtc = result_ADEXP['ADEXP']['neo'][0].dtc"
   ]
  },
  {
   "cell_type": "code",
   "execution_count": null,
   "metadata": {},
   "outputs": [],
   "source": [
    "#type(result_ADEXP['ADEXP']['olf'][0])\n",
    "olf_dtc = result_RAW['olf'][0]\n",
    "purkine_dtc = result_RAW['purkine'][0]\n",
    "ca1pyr_dtc = result_RAW['ca1pyr'][0]\n",
    "ca1basket_dtc = result_RAW['ca1basket'][0]\n",
    "neo_dtc = result_RAW['neo'][0]\n",
    "\n",
    "\n",
    "RAW_dtc = {}\n",
    "ADEXP_dtc = {}\n",
    "#type(result_ADEXP['ADEXP']['olf'][0])\n",
    "RAW_dtc = {}\n",
    "RAW_dtc['Cerebellum Purkinje cell'] = result_RAW['purkine']\n",
    "RAW_dtc['Olfactory bulb (main) mitral cell'] = result_RAW['olf']\n",
    "RAW_dtc['Hippocampus CA1 pyramidal cell'] = result_RAW['ca1pyr']\n",
    "RAW_dtc['Neocortex pyramidal cell layer 5-6'] = result_RAW['neo']\n",
    "RAW_dtc['Hippocampus CA1 basket cell'] = result_RAW['ca1basket']\n",
    "\n",
    "ADEXP_dtc = {}\n",
    "ADEXP_dtc['Cerebellum Purkinje cell'] = [d.dtc for d in result_ADEXP['ADEXP']['purkine']]\n",
    "ADEXP_dtc['Olfactory bulb (main) mitral cell'] = [d.dtc for d in result_ADEXP['ADEXP']['olf']]\n",
    "ADEXP_dtc['Hippocampus CA1 pyramidal cell'] = [d.dtc for d in result_ADEXP['ADEXP']['ca1pyr']]\n",
    "ADEXP_dtc['Neocortex pyramidal cell layer 5-6'] = [d.dtc for d in result_ADEXP['ADEXP']['neo']]\n",
    "ADEXP_dtc['Hippocampus CA1 basket cell'] = [d.dtc for d in result_ADEXP['ADEXP']['ca1basket']]\n",
    "\n",
    "\n",
    "\n"
   ]
  },
  {
   "cell_type": "code",
   "execution_count": null,
   "metadata": {},
   "outputs": [],
   "source": [
    "rts,complete_map = pickle.load(open('../tests/russell_tests.p','rb'))\n"
   ]
  },
  {
   "cell_type": "code",
   "execution_count": null,
   "metadata": {},
   "outputs": [],
   "source": [
    "import matplotlib\n",
    "matplotlib.use('Agg')\n",
    "import seaborn as sns\n",
    "import urllib.request, json\n",
    "import matplotlib.pyplot as plt\n",
    "import numpy as np\n",
    "import pickle\n",
    "import os\n",
    "\n",
    "\n",
    "import pandas\n",
    "\n",
    "try:\n",
    "    ne_raw = pandas.read_csv('article_ephys_metadata_curated.csv', delimiter='\\t')\n",
    "except:\n",
    "    !wget https://neuroelectro.org/static/src/article_ephys_metadata_curated.csv\n",
    "    ne_raw = pandas.read_csv('article_ephys_metadata_curated.csv', delimiter='\\t')\n",
    "\n",
    "hip = ne_raw[ne_raw['NeuronName'].str.match('Hippocampus CA1 pyramidal cell')]\n",
    "here = ne_raw[ne_raw['TableID']==18]\n",
    "\n",
    "from scipy.signal import find_peaks_cwt\n",
    "\n",
    "\n",
    "from neuronunit import tests as _, neuroelectro\n",
    "from neuronunit.tests import passive, waveform, fi\n",
    "from neuronunit.tests.fi import RheobaseTestP\n",
    "from neuronunit.tests import passive, waveform#, druckmann2013\n",
    "import sciunit\n",
    "from neuronunit.tests import bi_modal_test as bmt\n",
    "import quantities as pq\n",
    "import seaborn\n",
    "\n",
    "try:\n",
    "    with open('specific_test_data.p','rb') as f:\n",
    "        contents = pickle.load(f)\n",
    "        cell_name_map = contents[1]\n",
    "        neuron_values = contents[0]\n",
    "except:\n",
    "    neuron_values, cell_name_map = bmt.specific_properties(name_map,test_map)\n",
    "    with open('specific_test_data.p','wb') as f:\n",
    "        pickle.dump(f,[neuron_values, cell_name_map])\n",
    "\n",
    "test_map = {1:'CapacitanceTest',2:'InputResistanceTest',3:'RestingPotentialTest',4:'TimeConstantTest',\\\n",
    "            5:'InjectedCurrentAPAmplitudeTest',6:'InjectedCurrentAPWidthTest',\\\n",
    "            7:'InjectedCurrentAPThresholdTest',8:'RheobaseTest'}\n",
    "\n",
    "units_map = {1:pq.pF,2:pq.MOhm,3:pq.mV,4:pq.ms,\\\n",
    "            5:pq.mV,6:pq.ms,\\\n",
    "            7:pq.mV,8:pq.pA}\n",
    "\n",
    "complete_map = {}\n",
    "for k,v in units_map.items():\n",
    "    complete_map[test_map[k]] = units_map[k]\n",
    "\n",
    "name_map ={}\n",
    "name_map[\"Cerebellum Purkinje cell\"] = \"sao471801888\"\n",
    "name_map[\"Dentate gyrus basket cell\"] = \"nlx_cell_100201\"\n",
    "name_map[\"Hippocampus CA1 basket cell\"] = \"nlx_cell_091205\"\n",
    "name_map[\"Neocortex pyramidal cell layer 5-6\"] = \"nifext_50\"\n",
    "name_map[\"Olfactory bulb (main) mitral cell\"] = \"nlx_anat_100201\"\n",
    "name_map[\"Hippocampus CA1 pyramidal cell\"] = \"sao830368389\"\n",
    "#ax = sns.violinplot(x=\"day\", y=\"total_bill\", data=tips)\n",
    "inv_name_map = {v: k for k, v in name_map.items()}\n",
    "executable_tests = {}\n",
    "russell_tests = {}\n",
    "\n",
    "\n"
   ]
  },
  {
   "cell_type": "markdown",
   "metadata": {},
   "source": [
    "## Below is instructions for making NU tests used in Chapter1.\n",
    "\n",
    "``` python\n",
    "\n",
    "for tt in test_classes:\n",
    "    if test_map[i] in str(tt):\n",
    "\n",
    "        ipe_tests_path = str(os.getcwd())+'/pipe_tests.p'\n",
    "        assert os.path.isfile(pipe_tests_path) == True\n",
    "        with open(pipe_tests_path,'rb') as f:\n",
    "            pipe_tests = pickle.load(f)\n",
    "\n",
    "        t = tt()\n",
    "        t.observation = {}\n",
    "        t.observation['mean'] = neuron_values[nlex_ids][i]['modes'][0]*units_map[i]\n",
    "        t.observation['value'] = neuron_values[nlex_ids][i]['modes'][0]*units_map[i]\n",
    "        t.observation['std'] = neuron_values[nlex_ids][i]['std']*units_map[i]\n",
    "        t.observation['n'] = neuron_values[nlex_ids][i]['n']\n",
    "        executable_tests[cell_name][test_map[i]] =  t\n",
    "        print(test_map[i],t.name)\n",
    "\n",
    "        assert test_map[i] == t.name\n",
    "        executable_tests[cell_name][test_map[i]].data = None\n",
    "        executable_tests[cell_name][test_map[i]].data = neuron_values[nlex_ids][i]['values']\n",
    "```\n"
   ]
  },
  {
   "cell_type": "markdown",
   "metadata": {},
   "source": [
    "# In the cells below we show experimental/model agreement\n",
    "In terms of tests centered about modes of data distributions"
   ]
  },
  {
   "cell_type": "code",
   "execution_count": null,
   "metadata": {},
   "outputs": [],
   "source": [
    "# ADEXP_dtc\n",
    "RAW_dtc['Cerebellum Purkinje cell'][0].tests['CapacitanceTest'].observation"
   ]
  },
  {
   "cell_type": "code",
   "execution_count": null,
   "metadata": {},
   "outputs": [],
   "source": [
    "#import matplotlib.pyplot as plt\n",
    "#%inline\n",
    "\n",
    "%matplotlib inline\n",
    "import matplotlib.pyplot as plt\n",
    "# Make the figures big enough for the optically challenged.\n",
    "plt.rcParams['figure.figsize'] = (10.0, 8.0)\n",
    "import pylab\n",
    "import seaborn as sns\n",
    "\n",
    "\n",
    "def plot_opt_vs_distribution(neuron_values,inv_name_map,executable_tests,pop_dtc):\n",
    "    for nlex_ids,values in neuron_values.items():\n",
    "        cell_name = inv_name_map[nlex_ids]\n",
    "\n",
    "        executable_tests[cell_name] = {}#[test_map[i]]\n",
    "        #russell_tests[cell_name] = {}\n",
    "        for i in neuron_values[nlex_ids].keys():\n",
    "            neuron_values[nlex_ids][i]['modes'] = []\n",
    "            if test_map[i] in pop_dtc[cell_name][0].predictions.keys():\n",
    "                temp = pop_dtc[cell_name][0].predictions[test_map[i]]\n",
    "                takefirst = list(temp.keys())[0]\n",
    "                opt_found = float(temp[takefirst].rescale(units_map[i]))\n",
    "            else:\n",
    "                continue\n",
    "            if pop_dtc[cell_name][0].scores[test_map[i]]<0.90:\n",
    "                data = sorted(neuron_values[nlex_ids][i]['values'])\n",
    "                data = [ float(d*units_map[i]) for d in data ]\n",
    "                #plt.clf()\n",
    "                #fig, axes = plt.subplots(figsize=(10, 10),nrows=2, ncols=1, sharex=True, dpi=100)\n",
    "\n",
    "                #fig, ax = plt.subplots(4,1)\n",
    "                fig, ax = plt.subplots(figsize=(10, 10),nrows=4, ncols=1, sharex=True, dpi=100)\n",
    "\n",
    "                ax[0].title.set_text('test name: '+str(test_map[i])+'Cell type: '+str(cell_name))\n",
    "                ax[0] = sns.violinplot(data=data, palette=\"Set2\", split=True,\n",
    "                             scale=\"count\", inner=\"stick\",orient=\"h\")\n",
    "                #n, bins, patches = plt.hist(data, label=str(cell_name)+str(test_map[i]))\n",
    "                n, bins, patches = ax[1].hist(data, label=str(cell_name)+str(test_map[i]))\n",
    "                half = (bins[1]-bins[0])/2.0\n",
    "                opt_found = (opt_found+half)*units_map[i]\n",
    "\n",
    "                ax[0].axvline(x=opt_found,linewidth=2, color='r',label='opt solution found')\n",
    "                n, bins, patches = ax[1].hist(data, label=str(cell_name)+str(test_map[i]))\n",
    "                half = (bins[1]-bins[0])/2.0\n",
    "\n",
    "                mode0 = (bins[np.where(n==np.max(n))[0][0]]+half)*units_map[i]\n",
    "                if np.abs(opt_found) < 0.001 or np.abs(mode0)<0.001:\n",
    "                    import pdb\n",
    "                    pdb.set_trace()\n",
    "                    \n",
    "                ax[0].axvline(x=mode0,linewidth=2, color='b',label='target that guides optimization')\n",
    "\n",
    "        \n",
    "                # the histogram of the data\n",
    "                ax[1].axvline(x=opt_found,linewidth=2, color='r')\n",
    "\n",
    "                ax[1].axvline(x=mode0,linewidth=2, color='b')\n",
    "                ax[2].title.set_text('opt score: '+str(pop_dtc[cell_name][0].scores[test_map[i]]))\n",
    "\n",
    "\n",
    "                ax[2].boxplot(data,vert=False)\n",
    "                ax[2].axvline(x=opt_found,linewidth=2, color='r')\n",
    "                ax[2].axvline(x=mode0,linewidth=2, color='b')\n",
    "\n",
    "                plt.xlabel('units: '+str(units_map[i]))\n",
    "\n",
    "                plt.ylabel('Expected value: ')#+str(units_map[i]))\n",
    "                plt.legend()\n",
    "                plt.show()\n",
    "\n",
    "                mode0 = bins[np.where(n==np.max(n))[0][0]]+half\n",
    "                neuron_values[nlex_ids][i]['modes'].append(mode0)\n",
    "\n",
    "\n",
    "\n",
    "            try:\n",
    "\n",
    "                mode1 = bins[np.where(n==sorted(n)[-2])[0][0]]\n",
    "                neuron_values[nlex_ids][i]['modes'].append(mode1)\n",
    "\n",
    "            except:\n",
    "                pass\n"
   ]
  },
  {
   "cell_type": "markdown",
   "metadata": {},
   "source": [
    "\n",
    "# In the visualization below:\n",
    "\n",
    "\n",
    "When the gap between observation and prediction is ridiculously big, I think its because of a bug in quantities re-scaling. Or my use of quantities re-scaling in the method above. The thing that gives this away is that opt solution found is infinitessimly small.\n",
    "\n",
    "* ***It's important to remember***, that the optimization target has been switched from the mean of the underlying data distribution to the mean."
   ]
  },
  {
   "cell_type": "code",
   "execution_count": null,
   "metadata": {},
   "outputs": [],
   "source": [
    "plot_opt_vs_distribution(neuron_values,inv_name_map,executable_tests,ADEXP_dtc)"
   ]
  },
  {
   "cell_type": "code",
   "execution_count": null,
   "metadata": {},
   "outputs": [],
   "source": [
    "plot_opt_vs_distribution(neuron_values,inv_name_map,executable_tests,RAW_dtc)\n"
   ]
  },
  {
   "cell_type": "markdown",
   "metadata": {},
   "source": [
    "# Minor Visualization Bug \n",
    "It is not clear how to reduce the subplot number from 3, to 4, and to still retain tbe three relevant plots\n"
   ]
  },
  {
   "cell_type": "code",
   "execution_count": null,
   "metadata": {},
   "outputs": [],
   "source": [
    "conventional_mean_based_tests\n",
    "ct = {i.name:i for i in conventional_mean_based_tests[1]}\n",
    "result_RAW['ca1pyr']\n",
    "\n",
    "from neuronunit.optimisation.optimization_management import WSListIndividual\n",
    "genes = []\n",
    "for i in result_RAW['ca1pyr']:\n",
    "    \n",
    "    gene = WSListIndividual(list(i.attrs.values()))\n",
    "    genes.append(gene)\n",
    "    #print(len(genes[-1]))\n",
    "ct    "
   ]
  },
  {
   "cell_type": "code",
   "execution_count": null,
   "metadata": {},
   "outputs": [],
   "source": [
    "#%%capture\n",
    "from neuronunit.optimisation.optimisations import run_ga\n",
    "from neuronunit.optimisation import model_parameters\n",
    "from neuronunit.optimisation.optimization_management import TSD\n",
    "\n",
    "test = TSD(ct)\n",
    "test.use_rheobase_score = True\n",
    "backend = str(\"RAW\")\n",
    "MODEL_PARAMS=model_parameters.MODEL_PARAMS['RAW']\n",
    "\n",
    "out = run_ga(MODEL_PARAMS, 1, test, \\\n",
    "        free_params = MODEL_PARAMS.keys(), hc = None, MU = len(genes),\n",
    "           seed_pop = genes, \\\n",
    "           backend = backend, protocol={'use_rheobase_score':True,'allen':False,'elephant':True})\n",
    "\n",
    "filtered_tests.keys()\n",
    "out"
   ]
  },
  {
   "cell_type": "code",
   "execution_count": null,
   "metadata": {},
   "outputs": [],
   "source": []
  }
 ],
 "metadata": {
  "kernelspec": {
   "display_name": "Python 3",
   "language": "python",
   "name": "python3"
  },
  "language_info": {
   "codemirror_mode": {
    "name": "ipython",
    "version": 3
   },
   "file_extension": ".py",
   "mimetype": "text/x-python",
   "name": "python",
   "nbconvert_exporter": "python",
   "pygments_lexer": "ipython3",
   "version": "3.5.2"
  }
 },
 "nbformat": 4,
 "nbformat_minor": 2
}
