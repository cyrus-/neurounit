{
 "cells": [
  {
   "cell_type": "code",
   "execution_count": 1,
   "metadata": {},
   "outputs": [],
   "source": [
    "%matplotlib inline\n",
    "import numpy as np\n",
    "import quantities as pq\n",
    "import os\n",
    "#os.environ['NEURON_HOME'] = '/Applications/NEURON-7.6/nrn/x86_64'"
   ]
  },
  {
   "cell_type": "markdown",
   "metadata": {},
   "source": [
    "### All of these will use the default 'jNeuroML backend'.  You should set `backend` in the line where the model is instantiation line to your backend."
   ]
  },
  {
   "cell_type": "markdown",
   "metadata": {},
   "source": [
    "## OpenWorm ion channel model"
   ]
  },
  {
   "cell_type": "code",
   "execution_count": 2,
   "metadata": {},
   "outputs": [
    {
     "name": "stderr",
     "output_type": "stream",
     "text": [
      "/Users/rgerkin/miniconda3/lib/python3.7/site-packages/airspeed/__init__.py:505: FutureWarning: Possible nested set at position 8\n",
      "  KEYVALSEP = re.compile(r'[ \\t]*:[[ \\t]*(.*)$', re.S)\n"
     ]
    }
   ],
   "source": [
    "# A model of one ion channel type from C. elegans\n",
    "from neuronunit.models.channel import ChannelModel\n",
    "model_url = (\"https://raw.githubusercontent.com/openworm/ChannelWorm2\"\n",
    "             \"/master/NML2_models/EGL-19.channel.nml\")\n",
    "# model_url = (\"/home/rgerkin/EGL-19.channel.nml\")\n",
    "model = ChannelModel(model_url, channel_index=0)"
   ]
  },
  {
   "cell_type": "code",
   "execution_count": 3,
   "metadata": {},
   "outputs": [
    {
     "name": "stderr",
     "output_type": "stream",
     "text": [
      "/Users/rgerkin/miniconda3/lib/python3.7/importlib/_bootstrap.py:219: ImportWarning: can't resolve package from __spec__ or __package__, falling back on __name__ and __path__\n",
      "  return f(*args, **kwds)\n"
     ]
    }
   ],
   "source": [
    "# A test for the ion channel's IV curve (current vs voltage relationship)\n",
    "from neuronunit.tests.channel import IVCurveSSTest\n",
    "# Made up observations\n",
    "voltage = np.array([-80, -60, -40, -20, 0, 20, 40, 60]) * pq.mV\n",
    "current = np.array([10, 0, -30, -50, -20, 20, 50, 100]) * pq.pA\n",
    "test = IVCurveSSTest(observation = {'v': voltage, \n",
    "                                    'i': current})"
   ]
  },
  {
   "cell_type": "code",
   "execution_count": 4,
   "metadata": {},
   "outputs": [
    {
     "name": "stdout",
     "output_type": "stream",
     "text": [
      "pyNeuroML >>> Reloading data specified in LEMS file: /Users/rgerkin/Dropbox/dev/scidash/neuronunit/neuronunit/examples/model_zoo/LEMS_Test_ca_boyle.xml (/Users/rgerkin/Dropbox/dev/scidash/neuronunit/neuronunit/examples/model_zoo/LEMS_Test_ca_boyle.xml), base_dir: ., cwd: /Users/rgerkin/Dropbox/dev/scidash/neuronunit/neuronunit/examples/model_zoo\n",
      "pyNeuroML >>> Looking at holding voltage -0.1 V, and currents between times 0.01 s and 0.09 s\n",
      "pyNeuroML >>> Looking at holding voltage -0.08 V, and currents between times 0.01 s and 0.09 s\n",
      "pyNeuroML >>> Looking at holding voltage -0.06 V, and currents between times 0.01 s and 0.09 s\n",
      "pyNeuroML >>> Looking at holding voltage -0.04 V, and currents between times 0.01 s and 0.09 s\n",
      "pyNeuroML >>> Looking at holding voltage -0.02 V, and currents between times 0.01 s and 0.09 s\n",
      "pyNeuroML >>> Looking at holding voltage 0.0 V, and currents between times 0.01 s and 0.09 s\n",
      "pyNeuroML >>> Looking at holding voltage 0.02 V, and currents between times 0.01 s and 0.09 s\n",
      "pyNeuroML >>> Looking at holding voltage 0.04 V, and currents between times 0.01 s and 0.09 s\n",
      "pyNeuroML >>> Looking at holding voltage 0.06 V, and currents between times 0.01 s and 0.09 s\n",
      "pyNeuroML >>> Looking at holding voltage 0.08 V, and currents between times 0.01 s and 0.09 s\n",
      "pyNeuroML >>> Looking at holding voltage 0.1 V, and currents between times 0.01 s and 0.09 s\n"
     ]
    },
    {
     "data": {
      "text/html": [
       "=== Model EGL-19 achieved score Fail on test 'IV Curve Test'. ===\n"
      ],
      "text/plain": [
       "<IPython.core.display.HTML object>"
      ]
     },
     "metadata": {},
     "output_type": "display_data"
    }
   ],
   "source": [
    "score = test.judge(model)\n",
    "score.summarize()\n",
    "# This test should be a BooleanScore(False) because this made-up date does not much resemble\n",
    "# the model's output\n",
    "assert score.score == False\n",
    "# The raw measure of disagreement should be ~1.5e5 pA^2\n",
    "assert 1e5 * pq.pA**2 < score._raw < 2e5 * pq.pA**2"
   ]
  },
  {
   "cell_type": "markdown",
   "metadata": {},
   "source": [
    "## Izhikevich reduced neuron model"
   ]
  },
  {
   "cell_type": "code",
   "execution_count": 5,
   "metadata": {},
   "outputs": [],
   "source": [
    "from neuronunit.models.reduced import ReducedModel\n",
    "# The 2007 Izhikevich model with units\n",
    "model_url = (\"https://raw.githubusercontent.com/scidash/neuronunit\"\n",
    "             \"/dev/neuronunit/models/NeuroML2/LEMS_2007One.xml\")\n",
    "model = ReducedModel(model_url)#, backend='NEURON')"
   ]
  },
  {
   "cell_type": "code",
   "execution_count": 6,
   "metadata": {},
   "outputs": [],
   "source": [
    "# An input resistance test\n",
    "from neuronunit.tests.passive import InputResistanceTest\n",
    "# Made up observations\n",
    "test = InputResistanceTest(observation={'mean': 100*pq.MOhm, \n",
    "                                        'std': 50*pq.MOhm})"
   ]
  },
  {
   "cell_type": "code",
   "execution_count": 7,
   "metadata": {},
   "outputs": [
    {
     "data": {
      "text/html": [
       "=== Model LEMS_2007One achieved score Z = -0.41 on test 'InputResistanceTest'. ===\n"
      ],
      "text/plain": [
       "<IPython.core.display.HTML object>"
      ]
     },
     "metadata": {},
     "output_type": "display_data"
    }
   ],
   "source": [
    "score = test.judge(model)\n",
    "score.summarize()\n",
    "# The Z-score should be around -0.4\n",
    "assert -0.5 < score.score < -0.3"
   ]
  },
  {
   "cell_type": "code",
   "execution_count": 8,
   "metadata": {},
   "outputs": [],
   "source": [
    "# A serial rheobase test\n",
    "from neuronunit.tests.fi import RheobaseTest\n",
    "# Made up observations\n",
    "test = RheobaseTest(observation={'mean': 100*pq.pA, \n",
    "                                 'std': 25*pq.pA})"
   ]
  },
  {
   "cell_type": "code",
   "execution_count": 9,
   "metadata": {},
   "outputs": [
    {
     "name": "stdout",
     "output_type": "stream",
     "text": [
      "Highest subthreshold current is 51.5625 pA\n",
      "Lowest suprathreshold current is 52.1484375 pA\n"
     ]
    },
    {
     "data": {
      "text/html": [
       "=== Model LEMS_2007One achieved score Ratio = 0.52 on test 'RheobaseTest'. ===\n"
      ],
      "text/plain": [
       "<IPython.core.display.HTML object>"
      ]
     },
     "metadata": {},
     "output_type": "display_data"
    }
   ],
   "source": [
    "score = test.judge(model)\n",
    "score.summarize()\n",
    "# The RatioScore should be around 0.5\n",
    "assert 0.4 < score.score < 0.6"
   ]
  },
  {
   "cell_type": "code",
   "execution_count": 10,
   "metadata": {},
   "outputs": [
    {
     "data": {
      "image/png": "[encoded data removed]",
      "text/plain": [
       "<Figure size 432x288 with 1 Axes>"
      ]
     },
     "metadata": {
      "needs_background": "light"
     },
     "output_type": "display_data"
    }
   ],
   "source": [
    "# There should be one or a small number of action potentials in this plot\n",
    "score.plot_vm()"
   ]
  },
  {
   "cell_type": "code",
   "execution_count": 11,
   "metadata": {},
   "outputs": [],
   "source": [
    "# A parallel rheobase test (runs on multiple cores at once)\n",
    "from neuronunit.tests.fi import RheobaseTestP\n",
    "# Made up observations\n",
    "test = RheobaseTestP(observation={'mean': 100*pq.pA, \n",
    "                                 'std': 25*pq.pA})"
   ]
  },
  {
   "cell_type": "code",
   "execution_count": 12,
   "metadata": {},
   "outputs": [
    {
     "name": "stderr",
     "output_type": "stream",
     "text": [
      "/Users/rgerkin/miniconda3/lib/python3.7/tempfile.py:796: ResourceWarning: Implicitly cleaning up <TemporaryDirectory '/var/folders/_j/vg2m860n23d_9ty1h2z9_2880000gn/T/tmpbwhvq9mm'>\n",
      "  _warnings.warn(warn_message, ResourceWarning)\n",
      "/Users/rgerkin/miniconda3/lib/python3.7/tempfile.py:796: ResourceWarning: Implicitly cleaning up <TemporaryDirectory '/var/folders/_j/vg2m860n23d_9ty1h2z9_2880000gn/T/tmpy1vnssqv'>\n",
      "  _warnings.warn(warn_message, ResourceWarning)\n",
      "/Users/rgerkin/miniconda3/lib/python3.7/tempfile.py:796: ResourceWarning: Implicitly cleaning up <TemporaryDirectory '/var/folders/_j/vg2m860n23d_9ty1h2z9_2880000gn/T/tmpdi7u_m3n'>\n",
      "  _warnings.warn(warn_message, ResourceWarning)\n",
      "/Users/rgerkin/miniconda3/lib/python3.7/tempfile.py:796: ResourceWarning: Implicitly cleaning up <TemporaryDirectory '/var/folders/_j/vg2m860n23d_9ty1h2z9_2880000gn/T/tmpm1ug303v'>\n",
      "  _warnings.warn(warn_message, ResourceWarning)\n",
      "/Users/rgerkin/miniconda3/lib/python3.7/tempfile.py:796: ResourceWarning: Implicitly cleaning up <TemporaryDirectory '/var/folders/_j/vg2m860n23d_9ty1h2z9_2880000gn/T/tmp6h_sv_s9'>\n",
      "  _warnings.warn(warn_message, ResourceWarning)\n",
      "/Users/rgerkin/miniconda3/lib/python3.7/tempfile.py:796: ResourceWarning: Implicitly cleaning up <TemporaryDirectory '/var/folders/_j/vg2m860n23d_9ty1h2z9_2880000gn/T/tmpaw9q8bov'>\n",
      "  _warnings.warn(warn_message, ResourceWarning)\n"
     ]
    },
    {
     "name": "stdout",
     "output_type": "stream",
     "text": [
      "Getting rheobase vm\n"
     ]
    },
    {
     "data": {
      "text/html": [
       "=== Model LEMS_2007One achieved score Ratio = 0.54 on test 'RheobaseTestP'. ===\n"
      ],
      "text/plain": [
       "<IPython.core.display.HTML object>"
      ]
     },
     "metadata": {},
     "output_type": "display_data"
    }
   ],
   "source": [
    "score = test.judge(model)\n",
    "score.summarize()\n",
    "# The RatioScore should be around 0.5\n",
    "assert 0.4 < score.score < 0.6"
   ]
  },
  {
   "cell_type": "code",
   "execution_count": 13,
   "metadata": {},
   "outputs": [
    {
     "data": {
      "image/png": "[encoded data removed]",
      "text/plain": [
       "<Figure size 432x288 with 1 Axes>"
      ]
     },
     "metadata": {
      "needs_background": "light"
     },
     "output_type": "display_data"
    }
   ],
   "source": [
    "# There should be one or a small number of action potentials in this plot\n",
    "score.plot_vm()"
   ]
  },
  {
   "cell_type": "markdown",
   "metadata": {},
   "source": [
    "## Allen Institute GLIF Model"
   ]
  },
  {
   "cell_type": "code",
   "execution_count": 14,
   "metadata": {},
   "outputs": [],
   "source": [
    "from neuronunit.models.reduced import ReducedModel\n",
    "model_url = (\"https://raw.githubusercontent.com/OpenSourceBrain/AllenInstituteNeuroML\"\n",
    "             \"/master/CellTypesDatabase/models/NeuroML2/LEMS_472424854.xml\")\n",
    "model = ReducedModel(model_url)"
   ]
  },
  {
   "cell_type": "code",
   "execution_count": 15,
   "metadata": {},
   "outputs": [
    {
     "name": "stdout",
     "output_type": "stream",
     "text": [
      "No results returned: buffered error, warning, and notice messages follow:\n",
      "\n",
      "pyNeuroML >>> *** Problem running command: \n",
      "pyNeuroML >>>        Command 'java -Xmx400M  -Djava.awt.headless=true -jar  \"/Users/rgerkin/miniconda3/lib/python3.7/site-packages/pyneuroml/lib/jNeuroML-0.8.4-jar-with-dependencies.jar\"  \"/var/folders/_j/vg2m860n23d_9ty1h2z9_2880000gn/T/tmpjd65xte7/LEMS_472424854.xml\"  -nogui -I '/Users/rgerkin/Dropbox/dev/scidash/neuronunit/neuronunit/examples/model_zoo'' returned non-zero exit status 1.\n",
      "pyNeuroML >>>  jNeuroML >>   jNeuroML v0.8.4\n",
      "pyNeuroML >>>  jNeuroML >>  Loading: /var/folders/_j/vg2m860n23d_9ty1h2z9_2880000gn/T/tmpjd65xte7/LEMS_472424854.xml with jLEMS, NO GUI mode...\n",
      "pyNeuroML >>>  jNeuroML >>  org.neuroml.export.exceptions.ModelFeatureSupportException: Feature not supported in LEMS: MULTICOMPARTMENTAL_CELL_MODEL (Model with multicompartmental cell(s))\n",
      "pyNeuroML >>>  jNeuroML >>      Level of support for MULTICOMPARTMENTAL_CELL_MODEL in LEMS is insufficient: NONE\n",
      "pyNeuroML >>>  jNeuroML >>  \n",
      "pyNeuroML >>>  jNeuroML >>  Info on supported features:\n",
      "pyNeuroML >>>  jNeuroML >>  Format: LEMS\n",
      "pyNeuroML >>>  jNeuroML >>      ✓ SINGLE_COMP_MODEL (Model with only a single component (no network)): HIGH\n",
      "pyNeuroML >>>  jNeuroML >>      ✓ NETWORK_MODEL (Network model): HIGH\n",
      "pyNeuroML >>>  jNeuroML >>      ✓ MULTI_CELL_MODEL (Network model with more than one cell in any population): HIGH\n",
      "pyNeuroML >>>  jNeuroML >>      ✓ MULTI_POPULATION_MODEL (Network model with multiple populations of cells): HIGH\n",
      "pyNeuroML >>>  jNeuroML >>      ✓ NETWORK_WITH_INPUTS_MODEL (Network model with external inputs to cells): HIGH\n",
      "pyNeuroML >>>  jNeuroML >>      ✓ NETWORK_WITH_PROJECTIONS_MODEL (Network model with projections between populations): HIGH\n",
      "pyNeuroML >>>  jNeuroML >>      ✓ NETWORK_WITH_GAP_JUNCTIONS_MODEL (Network model with gap junctions/electrical connections between cells): HIGH\n",
      "pyNeuroML >>>  jNeuroML >>      ✓ NETWORK_WITH_ANALOG_CONNS_MODEL (Network model with analog/continuously communicating connections between cells): HIGH\n",
      "pyNeuroML >>>  jNeuroML >>      ✓ ABSTRACT_CELL_MODEL (Model with abstract (non conductance based) cell(s)): HIGH\n",
      "pyNeuroML >>>  jNeuroML >>      ✓ COND_BASED_CELL_MODEL (Model with conductance based cell(s)): HIGH\n",
      "pyNeuroML >>>  jNeuroML >>      x MULTICOMPARTMENTAL_CELL_MODEL (Model with multicompartmental cell(s)): NONE\n",
      "pyNeuroML >>>  jNeuroML >>      ✓ CHANNEL_POPULATIONS_CELL_MODEL (Model with channel populations): HIGH\n",
      "pyNeuroML >>>  jNeuroML >>      x CHANNEL_DENSITY_ON_SEGMENT (Model with channel density specified per segment (aot segmentGroup)): NONE\n",
      "pyNeuroML >>>  jNeuroML >>      ✓ HH_CHANNEL_MODEL (Model with HH based ion channel(s)): HIGH\n",
      "pyNeuroML >>>  jNeuroML >>      ✓ KS_CHANNEL_MODEL (Model with kinetic scheme based ion channel(s)): MEDIUM\n",
      "pyNeuroML >>>  jNeuroML >>  \n",
      "pyNeuroML >>>  jNeuroML >>  \tat org.neuroml.export.utils.support.SupportLevelInfo.checkConversionSupported(SupportLevelInfo.java:144)\n",
      "pyNeuroML >>>  jNeuroML >>  \tat org.neuroml.export.utils.Utils.loadLemsFile(Utils.java:514)\n",
      "pyNeuroML >>>  jNeuroML >>  \tat org.neuroml.export.utils.Utils.runLemsFile(Utils.java:481)\n",
      "pyNeuroML >>>  jNeuroML >>  \tat org.neuroml.JNeuroML.main(JNeuroML.java:576)\n",
      "pyNeuroML >>>  jNeuroML >>  INFO Apr 17,2019 22:06  (INFO) Loading LEMS file from: /var/folders/_j/vg2m860n23d_9ty1h2z9_2880000gn/T/tmpjd65xte7/LEMS_472424854.xml\n",
      "pyNeuroML >>>  jNeuroML >>  INFO Apr 17,2019 22:06  (INFO) Reading from: /var/folders/_j/vg2m860n23d_9ty1h2z9_2880000gn/T/tmpjd65xte7/LEMS_472424854.xml\n",
      "pyNeuroML >>>  jNeuroML >>  \n",
      "\n"
     ]
    },
    {
     "ename": "AttributeError",
     "evalue": "'bool' object has no attribute 'keys'",
     "output_type": "error",
     "traceback": [
      "\u001b[0;31m---------------------------------------------------------------------------\u001b[0m",
      "\u001b[0;31mAttributeError\u001b[0m                            Traceback (most recent call last)",
      "\u001b[0;32m<ipython-input-15-fb6c8ef3b92e>\u001b[0m in \u001b[0;36m<module>\u001b[0;34m\u001b[0m\n\u001b[1;32m      5\u001b[0m \u001b[0;31m# I don't know what to expect here because jNeuroML isn't working for this model and my NEURON installation is broken.\u001b[0m\u001b[0;34m\u001b[0m\u001b[0;34m\u001b[0m\u001b[0;34m\u001b[0m\u001b[0m\n\u001b[1;32m      6\u001b[0m \u001b[0;31m# But maybe it works in Geppetto?\u001b[0m\u001b[0;34m\u001b[0m\u001b[0;34m\u001b[0m\u001b[0;34m\u001b[0m\u001b[0m\n\u001b[0;32m----> 7\u001b[0;31m \u001b[0mtest\u001b[0m\u001b[0;34m.\u001b[0m\u001b[0mjudge\u001b[0m\u001b[0;34m(\u001b[0m\u001b[0mmodel\u001b[0m\u001b[0;34m)\u001b[0m\u001b[0;34m\u001b[0m\u001b[0;34m\u001b[0m\u001b[0m\n\u001b[0m",
      "\u001b[0;32m~/Dropbox/dev/scidash/sciunit/sciunit/tests.py\u001b[0m in \u001b[0;36mjudge\u001b[0;34m(self, model, skip_incapable, stop_on_error, deep_error)\u001b[0m\n\u001b[1;32m    303\u001b[0m                 \u001b[0mscore\u001b[0m\u001b[0;34m.\u001b[0m\u001b[0mtest\u001b[0m \u001b[0;34m=\u001b[0m \u001b[0mself\u001b[0m\u001b[0;34m\u001b[0m\u001b[0;34m\u001b[0m\u001b[0m\n\u001b[1;32m    304\u001b[0m         \u001b[0;32mif\u001b[0m \u001b[0misinstance\u001b[0m\u001b[0;34m(\u001b[0m\u001b[0mscore\u001b[0m\u001b[0;34m,\u001b[0m \u001b[0mErrorScore\u001b[0m\u001b[0;34m)\u001b[0m \u001b[0;32mand\u001b[0m \u001b[0mstop_on_error\u001b[0m\u001b[0;34m:\u001b[0m\u001b[0;34m\u001b[0m\u001b[0;34m\u001b[0m\u001b[0m\n\u001b[0;32m--> 305\u001b[0;31m             \u001b[0;32mraise\u001b[0m \u001b[0mscore\u001b[0m\u001b[0;34m.\u001b[0m\u001b[0mscore\u001b[0m  \u001b[0;31m# An exception.\u001b[0m\u001b[0;34m\u001b[0m\u001b[0;34m\u001b[0m\u001b[0m\n\u001b[0m\u001b[1;32m    306\u001b[0m         \u001b[0;32mreturn\u001b[0m \u001b[0mscore\u001b[0m\u001b[0;34m\u001b[0m\u001b[0;34m\u001b[0m\u001b[0m\n\u001b[1;32m    307\u001b[0m \u001b[0;34m\u001b[0m\u001b[0m\n",
      "\u001b[0;32m~/Dropbox/dev/scidash/sciunit/sciunit/tests.py\u001b[0m in \u001b[0;36mjudge\u001b[0;34m(self, model, skip_incapable, stop_on_error, deep_error)\u001b[0m\n\u001b[1;32m    292\u001b[0m         \u001b[0;32melse\u001b[0m\u001b[0;34m:\u001b[0m\u001b[0;34m\u001b[0m\u001b[0;34m\u001b[0m\u001b[0m\n\u001b[1;32m    293\u001b[0m             \u001b[0;32mtry\u001b[0m\u001b[0;34m:\u001b[0m\u001b[0;34m\u001b[0m\u001b[0;34m\u001b[0m\u001b[0m\n\u001b[0;32m--> 294\u001b[0;31m                 \u001b[0mscore\u001b[0m \u001b[0;34m=\u001b[0m \u001b[0mself\u001b[0m\u001b[0;34m.\u001b[0m\u001b[0m_judge\u001b[0m\u001b[0;34m(\u001b[0m\u001b[0mmodel\u001b[0m\u001b[0;34m,\u001b[0m \u001b[0mskip_incapable\u001b[0m\u001b[0;34m=\u001b[0m\u001b[0mskip_incapable\u001b[0m\u001b[0;34m)\u001b[0m\u001b[0;34m\u001b[0m\u001b[0;34m\u001b[0m\u001b[0m\n\u001b[0m\u001b[1;32m    295\u001b[0m             \u001b[0;32mexcept\u001b[0m \u001b[0mCapabilityError\u001b[0m \u001b[0;32mas\u001b[0m \u001b[0me\u001b[0m\u001b[0;34m:\u001b[0m\u001b[0;34m\u001b[0m\u001b[0;34m\u001b[0m\u001b[0m\n\u001b[1;32m    296\u001b[0m                 \u001b[0mscore\u001b[0m \u001b[0;34m=\u001b[0m \u001b[0mNAScore\u001b[0m\u001b[0;34m(\u001b[0m\u001b[0mstr\u001b[0m\u001b[0;34m(\u001b[0m\u001b[0me\u001b[0m\u001b[0;34m)\u001b[0m\u001b[0;34m)\u001b[0m\u001b[0;34m\u001b[0m\u001b[0;34m\u001b[0m\u001b[0m\n",
      "\u001b[0;32m~/Dropbox/dev/scidash/sciunit/sciunit/tests.py\u001b[0m in \u001b[0;36m_judge\u001b[0;34m(self, model, skip_incapable)\u001b[0m\n\u001b[1;32m    232\u001b[0m \u001b[0;34m\u001b[0m\u001b[0m\n\u001b[1;32m    233\u001b[0m         \u001b[0;31m# 2.\u001b[0m\u001b[0;34m\u001b[0m\u001b[0;34m\u001b[0m\u001b[0;34m\u001b[0m\u001b[0m\n\u001b[0;32m--> 234\u001b[0;31m         \u001b[0mprediction\u001b[0m \u001b[0;34m=\u001b[0m \u001b[0mself\u001b[0m\u001b[0;34m.\u001b[0m\u001b[0mgenerate_prediction\u001b[0m\u001b[0;34m(\u001b[0m\u001b[0mmodel\u001b[0m\u001b[0;34m)\u001b[0m\u001b[0;34m\u001b[0m\u001b[0;34m\u001b[0m\u001b[0m\n\u001b[0m\u001b[1;32m    235\u001b[0m         \u001b[0mself\u001b[0m\u001b[0;34m.\u001b[0m\u001b[0mcheck_prediction\u001b[0m\u001b[0;34m(\u001b[0m\u001b[0mprediction\u001b[0m\u001b[0;34m)\u001b[0m\u001b[0;34m\u001b[0m\u001b[0;34m\u001b[0m\u001b[0m\n\u001b[1;32m    236\u001b[0m         \u001b[0mself\u001b[0m\u001b[0;34m.\u001b[0m\u001b[0mlast_model\u001b[0m \u001b[0;34m=\u001b[0m \u001b[0mmodel\u001b[0m\u001b[0;34m\u001b[0m\u001b[0;34m\u001b[0m\u001b[0m\n",
      "\u001b[0;32m~/Dropbox/dev/scidash/neuronunit/neuronunit/tests/dynamics.py\u001b[0m in \u001b[0;36mgenerate_prediction\u001b[0;34m(self, model)\u001b[0m\n\u001b[1;32m    166\u001b[0m \u001b[0;34m\u001b[0m\u001b[0m\n\u001b[1;32m    167\u001b[0m     \u001b[0;32mdef\u001b[0m \u001b[0mgenerate_prediction\u001b[0m\u001b[0;34m(\u001b[0m\u001b[0mself\u001b[0m\u001b[0;34m,\u001b[0m \u001b[0mmodel\u001b[0m\u001b[0;34m=\u001b[0m\u001b[0;32mNone\u001b[0m\u001b[0;34m)\u001b[0m\u001b[0;34m:\u001b[0m\u001b[0;34m\u001b[0m\u001b[0;34m\u001b[0m\u001b[0m\n\u001b[0;32m--> 168\u001b[0;31m         \u001b[0mst\u001b[0m \u001b[0;34m=\u001b[0m \u001b[0mmodel\u001b[0m\u001b[0;34m.\u001b[0m\u001b[0mget_spike_train\u001b[0m\u001b[0;34m(\u001b[0m\u001b[0;34m)\u001b[0m\u001b[0;34m\u001b[0m\u001b[0;34m\u001b[0m\u001b[0m\n\u001b[0m\u001b[1;32m    169\u001b[0m         \u001b[0misis\u001b[0m \u001b[0;34m=\u001b[0m \u001b[0misi\u001b[0m\u001b[0;34m(\u001b[0m\u001b[0mst\u001b[0m\u001b[0;34m)\u001b[0m\u001b[0;34m\u001b[0m\u001b[0;34m\u001b[0m\u001b[0m\n\u001b[1;32m    170\u001b[0m         \u001b[0mvalue\u001b[0m \u001b[0;34m=\u001b[0m \u001b[0mfloat\u001b[0m\u001b[0;34m(\u001b[0m\u001b[0mnp\u001b[0m\u001b[0;34m.\u001b[0m\u001b[0mmean\u001b[0m\u001b[0;34m(\u001b[0m\u001b[0misis\u001b[0m\u001b[0;34m)\u001b[0m\u001b[0;34m)\u001b[0m\u001b[0;34m*\u001b[0m\u001b[0;36m1000.0\u001b[0m\u001b[0;34m*\u001b[0m\u001b[0mpq\u001b[0m\u001b[0;34m.\u001b[0m\u001b[0mms\u001b[0m\u001b[0;34m\u001b[0m\u001b[0;34m\u001b[0m\u001b[0m\n",
      "\u001b[0;32m~/Dropbox/dev/scidash/neuronunit/neuronunit/models/reduced.py\u001b[0m in \u001b[0;36mget_spike_train\u001b[0;34m(self, **run_params)\u001b[0m\n\u001b[1;32m     45\u001b[0m \u001b[0;34m\u001b[0m\u001b[0m\n\u001b[1;32m     46\u001b[0m     \u001b[0;32mdef\u001b[0m \u001b[0mget_spike_train\u001b[0m\u001b[0;34m(\u001b[0m\u001b[0mself\u001b[0m\u001b[0;34m,\u001b[0m \u001b[0;34m**\u001b[0m\u001b[0mrun_params\u001b[0m\u001b[0;34m)\u001b[0m\u001b[0;34m:\u001b[0m\u001b[0;34m\u001b[0m\u001b[0;34m\u001b[0m\u001b[0m\n\u001b[0;32m---> 47\u001b[0;31m         \u001b[0mvm\u001b[0m \u001b[0;34m=\u001b[0m \u001b[0mself\u001b[0m\u001b[0;34m.\u001b[0m\u001b[0mget_membrane_potential\u001b[0m\u001b[0;34m(\u001b[0m\u001b[0;34m**\u001b[0m\u001b[0mrun_params\u001b[0m\u001b[0;34m)\u001b[0m\u001b[0;34m\u001b[0m\u001b[0;34m\u001b[0m\u001b[0m\n\u001b[0m\u001b[1;32m     48\u001b[0m         \u001b[0mspike_train\u001b[0m \u001b[0;34m=\u001b[0m \u001b[0msf\u001b[0m\u001b[0;34m.\u001b[0m\u001b[0mget_spike_train\u001b[0m\u001b[0;34m(\u001b[0m\u001b[0mvm\u001b[0m\u001b[0;34m)\u001b[0m\u001b[0;34m\u001b[0m\u001b[0;34m\u001b[0m\u001b[0m\n\u001b[1;32m     49\u001b[0m         \u001b[0;32mreturn\u001b[0m \u001b[0mspike_train\u001b[0m\u001b[0;34m\u001b[0m\u001b[0;34m\u001b[0m\u001b[0m\n",
      "\u001b[0;32m~/Dropbox/dev/scidash/neuronunit/neuronunit/models/reduced.py\u001b[0m in \u001b[0;36mget_membrane_potential\u001b[0;34m(self, **run_params)\u001b[0m\n\u001b[1;32m     31\u001b[0m     \u001b[0;32mdef\u001b[0m \u001b[0mget_membrane_potential\u001b[0m\u001b[0;34m(\u001b[0m\u001b[0mself\u001b[0m\u001b[0;34m,\u001b[0m \u001b[0;34m**\u001b[0m\u001b[0mrun_params\u001b[0m\u001b[0;34m)\u001b[0m\u001b[0;34m:\u001b[0m\u001b[0;34m\u001b[0m\u001b[0;34m\u001b[0m\u001b[0m\n\u001b[1;32m     32\u001b[0m         \u001b[0mself\u001b[0m\u001b[0;34m.\u001b[0m\u001b[0mrun\u001b[0m\u001b[0;34m(\u001b[0m\u001b[0;34m**\u001b[0m\u001b[0mrun_params\u001b[0m\u001b[0;34m)\u001b[0m\u001b[0;34m\u001b[0m\u001b[0;34m\u001b[0m\u001b[0m\n\u001b[0;32m---> 33\u001b[0;31m         \u001b[0;32mfor\u001b[0m \u001b[0mrkey\u001b[0m \u001b[0;32min\u001b[0m \u001b[0mself\u001b[0m\u001b[0;34m.\u001b[0m\u001b[0mresults\u001b[0m\u001b[0;34m.\u001b[0m\u001b[0mkeys\u001b[0m\u001b[0;34m(\u001b[0m\u001b[0;34m)\u001b[0m\u001b[0;34m:\u001b[0m\u001b[0;34m\u001b[0m\u001b[0;34m\u001b[0m\u001b[0m\n\u001b[0m\u001b[1;32m     34\u001b[0m             \u001b[0;32mif\u001b[0m \u001b[0;34m'v'\u001b[0m \u001b[0;32min\u001b[0m \u001b[0mrkey\u001b[0m \u001b[0;32mor\u001b[0m \u001b[0;34m'vm'\u001b[0m \u001b[0;32min\u001b[0m \u001b[0mrkey\u001b[0m\u001b[0;34m:\u001b[0m\u001b[0;34m\u001b[0m\u001b[0;34m\u001b[0m\u001b[0m\n\u001b[1;32m     35\u001b[0m                 \u001b[0mv\u001b[0m \u001b[0;34m=\u001b[0m \u001b[0mnp\u001b[0m\u001b[0;34m.\u001b[0m\u001b[0marray\u001b[0m\u001b[0;34m(\u001b[0m\u001b[0mself\u001b[0m\u001b[0;34m.\u001b[0m\u001b[0mresults\u001b[0m\u001b[0;34m[\u001b[0m\u001b[0mrkey\u001b[0m\u001b[0;34m]\u001b[0m\u001b[0;34m)\u001b[0m\u001b[0;34m\u001b[0m\u001b[0;34m\u001b[0m\u001b[0m\n",
      "\u001b[0;31mAttributeError\u001b[0m: 'bool' object has no attribute 'keys'"
     ]
    }
   ],
   "source": [
    "from neuronunit.tests.dynamics import ISITest\n",
    "# Made up observation for inter-spike interval statistics\n",
    "test = ISITest(observation={'mean': 100*pq.ms, \n",
    "                            'std': 50*pq.ms})\n",
    "# I don't know what to expect here because jNeuroML isn't working for this model and my NEURON installation is broken.  \n",
    "# But maybe it works in Geppetto?\n",
    "test.judge(model)"
   ]
  },
  {
   "cell_type": "code",
   "execution_count": null,
   "metadata": {},
   "outputs": [],
   "source": [
    "# Other models you could try\n",
    "#url = (\"https://raw.githubusercontent.com/OpenSourceBrain/PinskyRinzelModel\"\n",
    "#       \"/master/NeuroML2/twoCompartment/twoCompartmentCell.cell.nml\")\n",
    "#url = (\"https://raw.githubusercontent.com/OpenSourceBrain/PyloricNetwork\"\n",
    "#       \"/master/NeuroML2/LP_1.cell.nml\")\n",
    "#url = ('LEMS_2007One.xml')"
   ]
  }
 ],
 "metadata": {
  "kernelspec": {
   "display_name": "Python 3",
   "language": "python",
   "name": "python3"
  },
  "language_info": {
   "codemirror_mode": {
    "name": "ipython",
    "version": 3
   },
   "file_extension": ".py",
   "mimetype": "text/x-python",
   "name": "python",
   "nbconvert_exporter": "python",
   "pygments_lexer": "ipython3",
   "version": "3.7.1"
  }
 },
 "nbformat": 4,
 "nbformat_minor": 2
}
