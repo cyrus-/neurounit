{
 "cells": [
  {
   "cell_type": "markdown",
   "metadata": {},
   "source": [
    "# The Izhiketich model is instanced using some well researched parameter sets."
   ]
  },
  {
   "cell_type": "code",
   "execution_count": 1,
   "metadata": {
    "collapsed": false
   },
   "outputs": [
    {
     "name": "stdout",
     "output_type": "stream",
     "text": [
      "Collecting pip\n",
      "  Downloading https://files.pythonhosted.org/packages/c2/d7/90f34cb0d83a6c5631cf71dfe64cc1054598c843a92b400e55675cc2ac37/pip-18.1-py2.py3-none-any.whl (1.3MB)\n",
      "\u001b[K    100% |████████████████████████████████| 1.3MB 937kB/s ta 0:00:01\n",
      "\u001b[?25hInstalling collected packages: pip\n",
      "  Found existing installation: pip 9.0.1\n",
      "    Uninstalling pip-9.0.1:\n",
      "      Successfully uninstalled pip-9.0.1\n",
      "Successfully installed pip-18.1\n",
      "Requirement already up-to-date: pandas in /opt/conda/lib/python3.5/site-packages (0.23.4)\n",
      "Requirement already satisfied, skipping upgrade: python-dateutil>=2.5.0 in /opt/conda/lib/python3.5/site-packages (from pandas) (2.7.5)\n",
      "Requirement already satisfied, skipping upgrade: pytz>=2011k in /opt/conda/lib/python3.5/site-packages (from pandas) (2018.7)\n",
      "Requirement already satisfied, skipping upgrade: numpy>=1.9.0 in /opt/conda/lib/python3.5/site-packages (from pandas) (1.15.4)\n",
      "Requirement already satisfied, skipping upgrade: six>=1.5 in /opt/conda/lib/python3.5/site-packages (from python-dateutil>=2.5.0->pandas) (1.12.0)\n",
      "Collecting pandas==0.22\n",
      "\u001b[?25l  Downloading https://files.pythonhosted.org/packages/99/0a/37930bbee7a06bb5ce7e12f7970b29a17a49605d0b08a72dee7ab76135bb/pandas-0.22.0-cp35-cp35m-manylinux1_x86_64.whl (25.7MB)\n",
      "\u001b[K    100% |████████████████████████████████| 25.7MB 1.3MB/s ta 0:00:011  7% |██▍                             | 1.9MB 4.4MB/s eta 0:00:06    13% |████▎                           | 3.5MB 3.7MB/s eta 0:00:07    20% |██████▋                         | 5.3MB 5.6MB/s eta 0:00:04    21% |██████▉                         | 5.5MB 3.8MB/s eta 0:00:06    23% |███████▋                        | 6.1MB 515kB/s eta 0:00:39    27% |█████████                       | 7.1MB 1.8MB/s eta 0:00:11    29% |█████████▌                      | 7.7MB 2.8MB/s eta 0:00:07    42% |█████████████▋                  | 10.9MB 2.2MB/s eta 0:00:07    50% |████████████████▏               | 13.0MB 3.2MB/s eta 0:00:04    63% |████████████████████▍           | 16.4MB 4.6MB/s eta 0:00:03    66% |█████████████████████▎          | 17.1MB 5.5MB/s eta 0:00:02    71% |██████████████████████▉         | 18.4MB 5.5MB/s eta 0:00:02    80% |█████████████████████████▉      | 20.7MB 1.5MB/s eta 0:00:04    82% |██████████████████████████▍     | 21.2MB 4.6MB/s eta 0:00:01    85% |███████████████████████████▏    | 21.8MB 3.6MB/s eta 0:00:02    86% |███████████████████████████▊    | 22.3MB 3.5MB/s eta 0:00:01    92% |█████████████████████████████▋  | 23.8MB 3.5MB/s eta 0:00:01\n",
      "\u001b[?25hRequirement already satisfied: pytz>=2011k in /opt/conda/lib/python3.5/site-packages (from pandas==0.22) (2018.7)\n",
      "Requirement already satisfied: numpy>=1.9.0 in /opt/conda/lib/python3.5/site-packages (from pandas==0.22) (1.15.4)\n",
      "Requirement already satisfied: python-dateutil>=2 in /opt/conda/lib/python3.5/site-packages (from pandas==0.22) (2.7.5)\n",
      "Requirement already satisfied: six>=1.5 in /opt/conda/lib/python3.5/site-packages (from python-dateutil>=2->pandas==0.22) (1.12.0)\n",
      "Installing collected packages: pandas\n",
      "  Found existing installation: pandas 0.23.4\n",
      "    Uninstalling pandas-0.23.4:\n",
      "\u001b[31mCould not install packages due to an EnvironmentError: [Errno 13] Permission denied: '/opt/conda/lib/python3.5/site-packages/pandas-0.23.4.dist-info/INSTALLER'\n",
      "Consider using the `--user` option or check the permissions.\n",
      "\u001b[0m\n"
     ]
    }
   ],
   "source": [
    "!pip install pip --upgrade\n",
    "!pip install pandas --upgrade\n",
    "!pip install pandas==0.22"
   ]
  },
  {
   "cell_type": "code",
   "execution_count": 2,
   "metadata": {
    "collapsed": false
   },
   "outputs": [],
   "source": [
    "electro_tests = []\n",
    "obs_frame = {}\n",
    "test_frame = {}\n",
    "import os\n",
    "import pickle\n",
    "electro_path = str(os.getcwd())+'/pipe_tests.p'\n",
    "with open(electro_path,'rb') as f:\n",
    "    contents = pickle.load(f)"
   ]
  },
  {
   "cell_type": "code",
   "execution_count": null,
   "metadata": {
    "collapsed": true
   },
   "outputs": [],
   "source": []
  },
  {
   "cell_type": "code",
   "execution_count": null,
   "metadata": {
    "collapsed": true
   },
   "outputs": [],
   "source": []
  }
 ],
 "metadata": {
  "kernelspec": {
   "display_name": "Python 3",
   "language": "python",
   "name": "python3"
  },
  "language_info": {
   "codemirror_mode": {
    "name": "ipython",
    "version": 3
   },
   "file_extension": ".py",
   "mimetype": "text/x-python",
   "name": "python",
   "nbconvert_exporter": "python",
   "pygments_lexer": "ipython3",
   "version": "3.5.2"
  }
 },
 "nbformat": 4,
 "nbformat_minor": 2
}
