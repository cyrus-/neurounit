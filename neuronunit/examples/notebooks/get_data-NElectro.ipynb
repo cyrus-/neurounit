{
 "cells": [
  {
   "cell_type": "code",
   "execution_count": 2,
   "metadata": {
    "collapsed": true
   },
   "outputs": [],
   "source": [
    "import sys    \n",
    "print('Running on Python version: {}'.format(sys.version))\n",
    "\n",
    "from neuronunit.optimization import get_neab\n",
    "# http://www.physics.usyd.edu.au/teach_res/mp/mscripts/\n",
    "# ns_izh002.m\n",
    "import collections\n",
    "from collections import OrderedDict\n",
    "\n",
    "# Fast spiking cannot be reproduced as it requires modifications to the standard Izhi equation,\n",
    "# which are expressed in this mod file.\n",
    "# https://github.com/OpenSourceBrain/IzhikevichModel/blob/master/NEURON/izhi2007b.mod\n",
    "\n",
    "reduced2007 = collections.OrderedDict([\n",
    "  #              C    k     vr  vt vpeak   a      b   c    d  celltype\n",
    "  ('RS',        (100, 0.7,  -60, -40, 35, 0.03,   -2, -50,  100,  1)),\n",
    "  ('IB',        (150, 1.2,  -75, -45, 50, 0.01,   5, -56,  130,   2)),\n",
    "  ('LTS',       (100, 1.0,  -56, -42, 40, 0.03,   8, -53,   20,   4)),\n",
    "  ('TC',        (200, 1.6,  -60, -50, 35, 0.01,  15, -60,   10,   6)),\n",
    "  ('TC_burst',  (200, 1.6,  -60, -50, 35, 0.01,  15, -60,   10,   6)),\n",
    "  ('RTN',       (40,  0.25, -65, -45,  0, 0.015, 10, -55,   50,   7)),\n",
    "  ('RTN_burst', (40,  0.25, -65, -45,  0, 0.015, 10, -55,   50,   7))])\n",
    "\n",
    "import numpy as np\n",
    "reduced_dict = OrderedDict([(k,[]) for k in ['C','k','vr','vt','vPeak','a','b','c','d']])\n",
    "\n",
    "#OrderedDict\n",
    "for i,k in enumerate(reduced_dict.keys()):\n",
    "    for v in reduced2007.values():\n",
    "        reduced_dict[k].append(v[i])\n",
    "\n",
    "explore_param = {k:(np.min(v),np.max(v)) for k,v in reduced_dict.items()}"
   ]
  },
  {
   "cell_type": "code",
   "execution_count": 3,
   "metadata": {
    "collapsed": false
   },
   "outputs": [],
   "source": [
    "purkinje ={\"id\": 18, \"name\": \"Cerebellum Purkinje cell\", \"neuron_db_id\": 271, \"nlex_id\": \"sao471801888\"}\n",
    "fi_basket = {\"id\": 65, \"name\": \"Dentate gyrus basket cell\", \"neuron_db_id\": None, \"nlex_id\": \"nlx_cell_100201\"}\n",
    "pvis_cortex = {\"id\": 111, \"name\": \"Neocortex pyramidal cell layer 5-6\", \"neuron_db_id\": 265, \"nlex_id\": \"nifext_50\"}\n",
    "#olf_mitral = {\"id\": 129, \"name\": \"Olfactory bulb (main) mitral cell\", \"neuron_db_id\": 267, \"nlex_id\": \"nlx_anat_100201\"}\n",
    "ca1_pyr = {\"id\": 85, \"name\": \"Hippocampus CA1 pyramidal cell\", \"neuron_db_id\": 258, \"nlex_id\": \"sao830368389\"}\n",
    "pipe = [ fi_basket, ca1_pyr, purkinje,  pvis_cortex]"
   ]
  },
  {
   "cell_type": "code",
   "execution_count": 4,
   "metadata": {
    "collapsed": false
   },
   "outputs": [],
   "source": [
    "electro_tests = []\n",
    "electro_frame = {}\n",
    "\n",
    "#p_tests, p_observations = get_neab.get_neuron_criteria(olf_mitral)\n",
    "#electro_frame[p[\"name\"]] = p_observations#, p_tests))\n"
   ]
  },
  {
   "cell_type": "code",
   "execution_count": 5,
   "metadata": {
    "collapsed": false
   },
   "outputs": [
    {
     "name": "stdout",
     "output_type": "stream",
     "text": [
      "{'Neocortex pyramidal cell layer 5-6': [<neuronunit.tests.fi.RheobaseTest object at 0x7f3afb236ef0>, <neuronunit.tests.passive.InputResistanceTest object at 0x7f3afb236f28>, <neuronunit.tests.passive.TimeConstantTest object at 0x7f3afb236f60>, <neuronunit.tests.passive.CapacitanceTest object at 0x7f3afb236f98>, <neuronunit.tests.passive.RestingPotentialTest object at 0x7f3afb236fd0>, <neuronunit.tests.waveform.InjectedCurrentAPWidthTest object at 0x7f3afb247048>, <neuronunit.tests.waveform.InjectedCurrentAPAmplitudeTest object at 0x7f3afb247080>, <neuronunit.tests.waveform.InjectedCurrentAPThresholdTest object at 0x7f3afb2470b8>], 'Cerebellum Purkinje cell': [<neuronunit.tests.fi.RheobaseTest object at 0x7f3afc344780>, <neuronunit.tests.passive.InputResistanceTest object at 0x7f3afb236be0>, <neuronunit.tests.passive.CapacitanceTest object at 0x7f3afb236c18>, <neuronunit.tests.passive.RestingPotentialTest object at 0x7f3afb236c50>, <neuronunit.tests.waveform.InjectedCurrentAPWidthTest object at 0x7f3afb236c88>, <neuronunit.tests.waveform.InjectedCurrentAPAmplitudeTest object at 0x7f3afb236cc0>, <neuronunit.tests.waveform.InjectedCurrentAPThresholdTest object at 0x7f3afb236cf8>], 'Hippocampus CA1 pyramidal cell': [<neuronunit.tests.fi.RheobaseTest object at 0x7f3afb236d30>, <neuronunit.tests.passive.InputResistanceTest object at 0x7f3afb236d68>, <neuronunit.tests.passive.TimeConstantTest object at 0x7f3afb236da0>, <neuronunit.tests.passive.CapacitanceTest object at 0x7f3afb236dd8>, <neuronunit.tests.passive.RestingPotentialTest object at 0x7f3afb236e10>, <neuronunit.tests.waveform.InjectedCurrentAPWidthTest object at 0x7f3afb236e48>, <neuronunit.tests.waveform.InjectedCurrentAPAmplitudeTest object at 0x7f3afb236e80>, <neuronunit.tests.waveform.InjectedCurrentAPThresholdTest object at 0x7f3afb236eb8>], 'Dentate gyrus basket cell': [<neuronunit.tests.fi.RheobaseTest object at 0x7f3afb2470f0>, <neuronunit.tests.passive.InputResistanceTest object at 0x7f3afb247128>, <neuronunit.tests.passive.TimeConstantTest object at 0x7f3afb247160>, <neuronunit.tests.passive.RestingPotentialTest object at 0x7f3afb247198>, <neuronunit.tests.waveform.InjectedCurrentAPWidthTest object at 0x7f3afb2471d0>, <neuronunit.tests.waveform.InjectedCurrentAPAmplitudeTest object at 0x7f3afb247208>, <neuronunit.tests.waveform.InjectedCurrentAPThresholdTest object at 0x7f3afb247240>]}\n"
     ]
    }
   ],
   "source": [
    "electro_tests = []\n",
    "obs_frame = {}\n",
    "test_frame = {}\n",
    "import os\n",
    "import pickle\n",
    "try: \n",
    "\n",
    "    electro_path = str(os.getcwd())+'all_tests.p'\n",
    "    assert os.path.isfile(electro_path) == True\n",
    "    with open(electro_path,'rb') as f:\n",
    "        (obs_frame,test_frame) = pickle.load(f)\n",
    "\n",
    "except:\n",
    "    for p in pipe:\n",
    "        p_tests, p_observations = get_neab.get_neuron_criteria(p)\n",
    "        obs_frame[p[\"name\"]] = p_observations#, p_tests))\n",
    "        test_frame[p[\"name\"]] = p_tests#, p_tests))\n",
    "\n",
    "\n",
    "print(test_frame)\n",
    "    "
   ]
  },
  {
   "cell_type": "code",
   "execution_count": 12,
   "metadata": {
    "collapsed": false
   },
   "outputs": [
    {
     "name": "stdout",
     "output_type": "stream",
     "text": [
      "Getting Rheobase data values from neuroelectro.org\n",
      "http://www.neuroelectro.org/api/1/nes/?n=129&e__name=Rheobase\n",
      "Getting Input Resistance data values from neuroelectro.org\n",
      "http://www.neuroelectro.org/api/1/nes/?n=129&e__name=Input+Resistance\n",
      "Getting Membrane Time Constant data values from neuroelectro.org\n",
      "http://www.neuroelectro.org/api/1/nes/?n=129&e__name=Membrane+Time+Constant\n",
      "Getting Cell Capacitance data values from neuroelectro.org\n",
      "http://www.neuroelectro.org/api/1/nes/?n=129&e__name=Cell+Capacitance\n",
      "Getting Resting membrane potential data values from neuroelectro.org\n",
      "http://www.neuroelectro.org/api/1/nes/?n=129&e__name=Resting+membrane+potential\n",
      "Getting Spike Half-Width data values from neuroelectro.org\n",
      "http://www.neuroelectro.org/api/1/nes/?n=129&e__name=Spike+Half-Width\n",
      "Getting Spike Amplitude data values from neuroelectro.org\n",
      "http://www.neuroelectro.org/api/1/nes/?n=129&e__name=Spike+Amplitude\n",
      "Getting Spike Threshold data values from neuroelectro.org\n",
      "http://www.neuroelectro.org/api/1/nes/?n=129&e__name=Spike+Threshold\n"
     ]
    }
   ],
   "source": [
    "#https://www.neuroelectro.org/neuron/129/data/\n",
    "    \n",
    "p_tests, p_observations = get_neab.get_neuron_criteria({\"id\": 129})    \n",
    "obs_frame[\"olf_mit\"] = p_observations#, p_tests))\n",
    "test_frame[\"olf_mit\"] = p_tests#, p_tests))\n",
    "\n",
    "\n",
    "electro_path = str(os.getcwd())+'all_tests.p'\n",
    "with open(electro_path,'wb') as f:\n",
    "    pickle.dump((obs_frame,test_frame),f)\n",
    "#print(p_observations.keys())\n"
   ]
  },
  {
   "cell_type": "code",
   "execution_count": 14,
   "metadata": {
    "collapsed": false
   },
   "outputs": [
    {
     "name": "stdout",
     "output_type": "stream",
     "text": [
      "dict_keys(['Neocortex pyramidal cell layer 5-6', 'Cerebellum Purkinje cell', 'Hippocampus CA1 pyramidal cell', 'Dentate gyrus basket cell'])\n"
     ]
    },
    {
     "data": {
      "text/plain": [
       "Cell Capacitance              {'n': 14, 'mean': 89.7960714285714 pF, 'std': ...\n",
       "Input Resistance              {'n': 113, 'mean': 107.080327644332 Mohm, 'std...\n",
       "Membrane Time Constant        {'n': 46, 'mean': 24.5021946169772 ms, 'std': ...\n",
       "Resting membrane potential    {'n': 110, 'mean': -65.2261863636364 mV, 'std'...\n",
       "Rheobase                      {'n': 17, 'mean': 189.24 pA, 'std': 287.163664...\n",
       "Spike Amplitude               {'n': 64, 'mean': 86.364525297619 mV, 'std': 1...\n",
       "Spike Half-Width              {'n': 59, 'mean': 1.31895278450363 ms, 'std': ...\n",
       "Spike Threshold               {'n': 70, 'mean': -47.5985714285714 mV, 'std':...\n",
       "Name: Hippocampus CA1 pyramidal cell, dtype: object"
      ]
     },
     "execution_count": 14,
     "metadata": {},
     "output_type": "execute_result"
    }
   ],
   "source": [
    "import pandas as pd\n",
    "from neuronunit.tests.fi import RheobaseTestP\n",
    "obs_frame.pop(\"olf_mit\", 0)\n",
    "test_frame.pop(\"olf_mit\", 0)\n",
    "\n",
    "for k,v in test_frame.items():\n",
    "    obs = obs_frame[k]\n",
    "    v[0] = RheobaseTestP(obs['Rheobase'])\n",
    "\n",
    "\n",
    "df = pd.DataFrame.from_dict(obs_frame)\n",
    "\n",
    "print(test_frame.keys())\n",
    "df['Hippocampus CA1 pyramidal cell']"
   ]
  },
  {
   "cell_type": "code",
   "execution_count": null,
   "metadata": {
    "collapsed": false
   },
   "outputs": [
    {
     "name": "stderr",
     "output_type": "stream",
     "text": [
      "/home/jovyan/neuronunit/neuronunit/tests/passive.py:83: RuntimeWarning: overflow encountered in exp\n",
      "  vm_fit[offset:,0] = a * np.exp(-t[offset:]/b) + c\n",
      "/home/jovyan/neuronunit/neuronunit/tests/passive.py:83: RuntimeWarning: overflow encountered in multiply\n",
      "  vm_fit[offset:,0] = a * np.exp(-t[offset:]/b) + c\n",
      "/opt/conda/lib/python3.5/site-packages/scipy/optimize/minpack.py:794: OptimizeWarning: Covariance of the parameters could not be estimated\n",
      "  category=OptimizeWarning)\n",
      "/opt/conda/lib/python3.5/site-packages/scipy/optimize/minpack.py:794: OptimizeWarning: Covariance of the parameters could not be estimated\n",
      "  category=OptimizeWarning)\n"
     ]
    }
   ],
   "source": [
    "\n",
    "\n",
    "from neuronunit.optimization import optimization_management as om\n",
    "free_params = ['a','b','vr','vt','k','C'] # this can only be odd numbers.\n",
    "hc = {}\n",
    "for k,v in explore_param.items():\n",
    "    if k not in free_params:\n",
    "        hc[k] = v\n",
    "import pickle\n",
    "\n",
    "ca1_out, _ = om.run_ga(explore_param,15,test_frame[\"Hippocampus CA1 pyramidal cell\"],free_params=free_params,hc = hc, NSGA = True)\n"
   ]
  },
  {
   "cell_type": "code",
   "execution_count": null,
   "metadata": {
    "collapsed": false
   },
   "outputs": [],
   "source": [
    "import pandas\n",
    "    \n",
    "try:\n",
    "    ne_raw = pandas.read_csv('article_ephys_metadata_curated.csv', delimiter='\\t')\n",
    "    !ls -ltr *.csv\n",
    "except:\n",
    "    !wget https://neuroelectro.org/static/src/article_ephys_metadata_curated.csv\n",
    "    ne_raw = pandas.read_csv('article_ephys_metadata_curated.csv', delimiter='\\t')\n",
    "\n",
    "blah = ne_raw[ne_raw['NeuronName'].str.match('Hippocampus CA1 pyramidal cell')]\n",
    "#ne_raw['NeuronName']\n",
    "#ne_raw['cell\\ capacitance']\n",
    "#blah = ne_raw[ne_raw['NeuronName'].str.match('Hippocampus CA1 pyramidal cell')]\n",
    "\n",
    "print([i for i in blah.columns])\n",
    "#rint(blah['rheobase'])\n",
    "#print(blah)\n",
    "#for i in ne_raw.columns:#['NeuronName']:\n",
    "#    print(i)\n",
    "\n",
    "#ne_raw['NeuronName'][85]\n",
    "#blah = ne_raw[ne_raw['TableID'].str.match('85')]\n",
    "#ne_raw['n'] = 84\n",
    "#here = ne_raw[ne_raw['Index']==85]\n",
    "here = ne_raw[ne_raw['TableID']==18]\n",
    "\n",
    "print(here['rheo_raw'])\n",
    "#!wget https://neuroelectro.org/apica/1/n/"
   ]
  },
  {
   "cell_type": "code",
   "execution_count": null,
   "metadata": {
    "collapsed": false
   },
   "outputs": [],
   "source": [
    "ca1 = ne_raw[ne_raw['NeuronName'].str.match('Hippocampus CA1 pyramidal cell')]\n",
    "ca1['rheo']"
   ]
  },
  {
   "cell_type": "code",
   "execution_count": null,
   "metadata": {
    "collapsed": false
   },
   "outputs": [],
   "source": []
  }
 ],
 "metadata": {
  "kernelspec": {
   "display_name": "Python 3",
   "language": "python",
   "name": "python3"
  },
  "language_info": {
   "codemirror_mode": {
    "name": "ipython",
    "version": 3
   },
   "file_extension": ".py",
   "mimetype": "text/x-python",
   "name": "python",
   "nbconvert_exporter": "python",
   "pygments_lexer": "ipython3",
   "version": "3.5.2"
  }
 },
 "nbformat": 4,
 "nbformat_minor": 2
}
