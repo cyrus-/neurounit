{
 "cells": [
  {
   "cell_type": "code",
   "execution_count": 2,
   "metadata": {},
   "outputs": [
    {
     "name": "stderr",
     "output_type": "stream",
     "text": [
      "/home/user/anaconda3/lib/python3.7/site-packages/airspeed/__init__.py:505: FutureWarning: Possible nested set at position 8\n",
      "  KEYVALSEP = re.compile(r'[ \\t]*:[[ \\t]*(.*)$', re.S)\n"
     ]
    },
    {
     "ename": "ModuleNotFoundError",
     "evalue": "No module named 'neuronunit.optimization'",
     "output_type": "error",
     "traceback": [
      "\u001b[0;31m---------------------------------------------------------------------------\u001b[0m",
      "\u001b[0;31mModuleNotFoundError\u001b[0m                       Traceback (most recent call last)",
      "\u001b[0;32m<ipython-input-2-00945cb05e53>\u001b[0m in \u001b[0;36m<module>\u001b[0;34m\u001b[0m\n\u001b[1;32m      9\u001b[0m \u001b[0;32mimport\u001b[0m \u001b[0mmatplotlib\u001b[0m\u001b[0;34m.\u001b[0m\u001b[0mpyplot\u001b[0m \u001b[0;32mas\u001b[0m \u001b[0mplt\u001b[0m\u001b[0;34m\u001b[0m\u001b[0;34m\u001b[0m\u001b[0m\n\u001b[1;32m     10\u001b[0m \u001b[0;34m\u001b[0m\u001b[0m\n\u001b[0;32m---> 11\u001b[0;31m \u001b[0;32mfrom\u001b[0m \u001b[0mneuronunit\u001b[0m\u001b[0;34m.\u001b[0m\u001b[0moptimization\u001b[0m \u001b[0;32mimport\u001b[0m \u001b[0mget_neab\u001b[0m\u001b[0;34m\u001b[0m\u001b[0;34m\u001b[0m\u001b[0m\n\u001b[0m\u001b[1;32m     12\u001b[0m \u001b[0;32mfrom\u001b[0m \u001b[0mneuronunit\u001b[0m\u001b[0;34m.\u001b[0m\u001b[0mmodels\u001b[0m\u001b[0;34m.\u001b[0m\u001b[0mreduced\u001b[0m \u001b[0;32mimport\u001b[0m \u001b[0mReducedModel\u001b[0m\u001b[0;34m\u001b[0m\u001b[0;34m\u001b[0m\u001b[0m\n\u001b[1;32m     13\u001b[0m \u001b[0;32mfrom\u001b[0m \u001b[0mneuronunit\u001b[0m\u001b[0;34m.\u001b[0m\u001b[0moptimization\u001b[0m\u001b[0;34m.\u001b[0m\u001b[0mmodel_parameters\u001b[0m \u001b[0;32mimport\u001b[0m \u001b[0mmodel_params\u001b[0m\u001b[0;34m,\u001b[0m \u001b[0mpath_params\u001b[0m\u001b[0;34m\u001b[0m\u001b[0;34m\u001b[0m\u001b[0m\n",
      "\u001b[0;31mModuleNotFoundError\u001b[0m: No module named 'neuronunit.optimization'"
     ]
    }
   ],
   "source": [
    "\n",
    "import seaborn as sns\n",
    "import quantities as pq\n",
    "from neuronunit.optimisation.data_transport_container import DataTC\n",
    "import os\n",
    "import pickle\n",
    "import copy\n",
    "import numpy as np\n",
    "import pandas as pd\n",
    "import matplotlib.pyplot as plt\n",
    "\n",
    "from neuronunit.optimization import get_neab\n",
    "from neuronunit.models.reduced import ReducedModel\n",
    "from neuronunit.optimization.model_parameters import model_params, path_params\n",
    "from neuronunit.optimization import model_parameters as modelp\n",
    "\n",
    "from neuronunit.optimization import model_parameters as modelp\n",
    "mp = modelp.model_params\n",
    "\n",
    "mp['k'] = [1e-3-1e-6,1e-3+1e-6]\n",
    "\n",
    "\n",
    "mp['a'] = 0.1\n",
    "mp['b'] = 0.01\n",
    "mp['vr'] = -65.0\n",
    "#mp['vr'] = [-90.0,-60.0]\n",
    "#print(mp['k'],mp['vr'])\n",
    "\n",
    "\n",
    "free_params = ['k']\n",
    "from neuronunit.optimization import optimization_management as om\n",
    "mp = modelp.model_params\n",
    "\n",
    "import sciunit\n",
    "import neuronunit.optimization as opt\n",
    "tests_,all_tests, observation,suite = opt.get_neab.get_tests()\n",
    "passive  = [ str('RestingPotentialTest'), str('CapacitanceTest'), str('TimeConstantTest'), str('InputResistanceTest') ]\n",
    "firing_tests =  [ t for t in all_tests if str(t) not in passive ]\n",
    "first_two = all_tests[0:2]\n",
    "import pickle\n",
    "    \n",
    "try:\n",
    "    ga_out = pickle.load(open('gaout.p','rb'))\n",
    "except:\n",
    "    # 10*4 gene evaluations\n",
    "    ga_out, DO = om.run_ga(mp,3,first_two,free_params=free_params)\n",
    "    print(ga_out)\n",
    "    pickle.dump(ga_out,open('gaout.p','wb'))\n"
   ]
  },
  {
   "cell_type": "code",
   "execution_count": null,
   "metadata": {},
   "outputs": [],
   "source": [
    "print(ga_out['hof'][0].dtc.attrs)\n",
    "print(ga_out['hof'][0].dtc.scores)\n",
    "print(ga_out['hof'][0].dtc.rheobase)\n",
    "\n"
   ]
  },
  {
   "cell_type": "code",
   "execution_count": null,
   "metadata": {},
   "outputs": [],
   "source": [
    "#attrs = {'k':1e-4}#{'a': 1e-2, 'b': 1e-2, 'vpeak':40, 'k':5e-5}\n",
    "attrs = ga_out['hof'][0].dtc.attrs\n",
    "current = {'amplitude':-10.0*pq.pA, 'delay':200.0*pq.ms, 'duration':500.0*pq.ms}\n",
    "sim_length = 1000.0 * pq.ms\n",
    "\n",
    "LEMS_MODEL_PATH = path_params['model_path']\n",
    "from neuronunit.optimization.model_parameters import model_params, path_params\n",
    "\n",
    "model = ReducedModel(LEMS_MODEL_PATH,name=str('vanilla'),backend='NEURON')\n",
    "model.set_attrs(attrs)\n",
    "model.inject_square_current(current)\n",
    "#model.get_backend().set_stop_time(sim_length)\n",
    "vm = copy.copy(model.get_membrane_potential())\n",
    "plt.plot(vm.times,vm*1000,label=str(attrs))\n",
    "plt.ylim(-90,-50)"
   ]
  },
  {
   "cell_type": "code",
   "execution_count": null,
   "metadata": {},
   "outputs": [],
   "source": [
    "dtc = ga_out['hof'][0].dtc\n",
    "\n",
    "LEMS_MODEL_PATH = path_params['model_path']\n",
    "model = None\n",
    "model = ReducedModel(LEMS_MODEL_PATH,name=str('vanilla'),backend='NEURON')\n",
    "model.set_attrs(dtc.attrs)\n",
    "scores = []\n",
    "for t in first_two:\n",
    "    scores.append(t.judge(model,stop_on_error = False, deep_error = False))\n",
    "print(scores)\n",
    "\n",
    "## Does the same thing in parallel\n",
    "#from neuronunit.optimization.optimization_management import nunit_evaluation as nue\n",
    "\n",
    "# xargs = (dtc,first_two)\n",
    "# dtc = nue(xargs)\n",
    "# print(dtc.scores)"
   ]
  },
  {
   "cell_type": "code",
   "execution_count": null,
   "metadata": {},
   "outputs": [],
   "source": [
    "#attrs = {'k':1e-4}#{'a': 1e-2, 'b': 1e-2, 'vpeak':40, 'k':5e-5}\n",
    "attrs = ga_out['hof'][0].dtc.attrs\n",
    "print(ga_out['hof'][0].dtc.rheobase)\n",
    "ampl = ga_out['hof'][0].dtc.rheobase['value']\n",
    "current = {'amplitude':ampl, 'delay':200.0*pq.ms, 'duration':500.0*pq.ms}\n",
    "sim_length = 1000.0 * pq.ms\n",
    "\n",
    "LEMS_MODEL_PATH = path_params['model_path']\n",
    "from neuronunit.optimization.model_parameters import model_params, path_params\n",
    "\n",
    "model = ReducedModel(LEMS_MODEL_PATH,name=str('vanilla'),backend='NEURON')\n",
    "model.set_attrs(attrs)\n",
    "model.inject_square_current(current)\n",
    "#model.get_backend().set_stop_time(sim_length)\n",
    "vm = copy.copy(model.get_membrane_potential())\n",
    "plt.plot(vm.times,vm*1000,label=str(attrs))\n",
    "plt.ylim(-90,20)"
   ]
  },
  {
   "cell_type": "code",
   "execution_count": null,
   "metadata": {},
   "outputs": [],
   "source": []
  }
 ],
 "metadata": {
  "kernelspec": {
   "display_name": "Python 3",
   "language": "python",
   "name": "python3"
  },
  "language_info": {
   "codemirror_mode": {
    "name": "ipython",
    "version": 3
   },
   "file_extension": ".py",
   "mimetype": "text/x-python",
   "name": "python",
   "nbconvert_exporter": "python",
   "pygments_lexer": "ipython3",
   "version": "3.7.4"
  }
 },
 "nbformat": 4,
 "nbformat_minor": 2
}
