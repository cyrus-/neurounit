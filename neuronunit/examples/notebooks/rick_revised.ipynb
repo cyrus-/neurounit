{
 "cells": [
  {
   "cell_type": "code",
   "execution_count": 1,
   "metadata": {
    "collapsed": false
   },
   "outputs": [
    {
     "name": "stdout",
     "output_type": "stream",
     "text": [
      "{'injected_square_current': {'amplitude': array(-10.0) * pA, 'delay': array(200.0) * ms, 'duration': array(500.0) * ms}}\n",
      "{'k': [0.000999, 0.001001]}\n",
      "[] []\n"
     ]
    },
    {
     "name": "stderr",
     "output_type": "stream",
     "text": [
      "/opt/conda/lib/python3.5/site-packages/sklearn/cross_validation.py:41: DeprecationWarning: This module was deprecated in version 0.18 in favor of the model_selection module into which all the refactored classes and functions are moved. Also note that the interface of the new CV iterators are different from that of this module. This module will be removed in 0.20.\n",
      "  \"This module will be removed in 0.20.\", DeprecationWarning)\n",
      "/opt/conda/lib/python3.5/site-packages/sklearn/grid_search.py:42: DeprecationWarning: This module was deprecated in version 0.18 in favor of the model_selection module into which all the refactored classes and functions are moved. This module will be removed in 0.20.\n",
      "  DeprecationWarning)\n"
     ]
    },
    {
     "name": "stdout",
     "output_type": "stream",
     "text": [
      "Try 1: SubMax = 41.7; SupraMin = 83.3\n",
      "Try 2: SubMax = 69.5; SupraMin = 83.3\n",
      "Try 3: SubMax = 78.7; SupraMin = 83.3\n",
      "Z = -1.86\n",
      "Try 1: SubMax = 41.7; SupraMin = 83.3\n",
      "Try 2: SubMax = 69.5; SupraMin = 83.3\n",
      "Try 3: SubMax = 78.7; SupraMin = 83.3\n",
      "Z = -1.86\n",
      "len tests 2 tests [<neuronunit.tests.fi.RheobaseTestP object at 0x7effb86289e8>, <neuronunit.tests.passive.InputResistanceTest object at 0x7effb861bdd8>]\n",
      "tests, completed, now gene computations\n",
      "[[0.000999], [0.001001]]\n",
      "Try 1: SubMax = 41.7; SupraMin = 83.3\n",
      "Try 2: SubMax = 69.5; SupraMin = 83.3\n",
      "Try 3: SubMax = 78.7; SupraMin = 83.3\n",
      "Z = -1.86\n",
      "Try 1: SubMax = 41.7; SupraMin = 83.3\n",
      "Try 2: SubMax = 69.5; SupraMin = 83.3\n",
      "Try 3: SubMax = 78.7; SupraMin = 83.3\n"
     ]
    },
    {
     "name": "stderr",
     "output_type": "stream",
     "text": [
      "INFO:__main__:gen\tnevals\tavg     \tstd\tmin     \tmax     \n",
      "1  \t2     \t0.937378\t0  \t0.937378\t0.937378\n",
      "2  \t2     \t0.937378\t0  \t0.937378\t0.937378\n"
     ]
    },
    {
     "name": "stdout",
     "output_type": "stream",
     "text": [
      "Z = -1.86\n",
      "len tests 2 tests [<neuronunit.tests.fi.RheobaseTestP object at 0x7effb86289e8>, <neuronunit.tests.passive.InputResistanceTest object at 0x7effb861bdd8>]\n",
      "tests, completed, now gene computations\n",
      "[[0.0010009381483599346], [0.0009992543652523919]]\n",
      "Try 1: SubMax = 41.7; SupraMin = 83.3\n",
      "Try 2: SubMax = 69.5; SupraMin = 83.3\n",
      "Try 3: SubMax = 78.7; SupraMin = 83.3\n",
      "Z = -1.86\n",
      "Try 1: SubMax = 41.7; SupraMin = 83.3\n",
      "Try 2: SubMax = 69.5; SupraMin = 83.3\n",
      "Try 3: SubMax = 78.7; SupraMin = 83.3\n"
     ]
    },
    {
     "name": "stderr",
     "output_type": "stream",
     "text": [
      "INFO:__main__:3  \t2     \t0.937378\t0  \t0.937378\t0.937378\n"
     ]
    },
    {
     "name": "stdout",
     "output_type": "stream",
     "text": [
      "Z = -1.86\n",
      "len tests 2 tests [<neuronunit.tests.fi.RheobaseTestP object at 0x7effb86289e8>, <neuronunit.tests.passive.InputResistanceTest object at 0x7effb861bdd8>]\n",
      "tests, completed, now gene computations\n",
      "[[0.000999103642354488], [0.0009992543652523919]]\n",
      "{'dhof': [<neuronunit.optimization.data_transport_container.DataTC object at 0x7effb85d1860>, <neuronunit.optimization.data_transport_container.DataTC object at 0x7effb65274a8>], 'pf': <deap.tools.support.ParetoFront object at 0x7f000293ac50>, 'dbest': <neuronunit.optimization.data_transport_container.DataTC object at 0x7effb85d1860>, 'td': ['k'], 'gen_vs_pop': [[[0.000999], [0.001001]], [[0.0010009381483599346], [0.0009992543652523919]], [[0.000999103642354488], [0.0009992543652523919]]], 'hof': <deap.tools.support.HallOfFame object at 0x7effb8628518>, 'bd': <neuronunit.optimization.data_transport_container.DataTC object at 0x7effb85d1860>, 'pop': [[0.000999], [0.0009992543652523919], [0.000999103642354488], [0.0009992543652523919]], 'history': <deap.tools.support.History object at 0x7effb8457f98>, 'log': [{'gen': 1, 'std': 0.0, 'min': 0.93737798762411861, 'avg': 0.93737798762411861, 'nevals': 2, 'max': 0.93737798762411861}, {'gen': 2, 'std': 0.0, 'min': 0.93737798762411861, 'avg': 0.93737798762411861, 'nevals': 2, 'max': 0.93737798762411861}, {'gen': 3, 'std': 0.0, 'min': 0.93737798762411861, 'avg': 0.93737798762411861, 'nevals': 2, 'max': 0.93737798762411861}]}\n"
     ]
    }
   ],
   "source": [
    "\n",
    "import seaborn as sns\n",
    "import quantities as pq\n",
    "from neuronunit.optimization.data_transport_container import DataTC\n",
    "import os\n",
    "import pickle\n",
    "import copy\n",
    "import numpy as np\n",
    "import pandas as pd\n",
    "import matplotlib.pyplot as plt\n",
    "\n",
    "from neuronunit.optimization import get_neab\n",
    "from neuronunit.models.reduced import ReducedModel\n",
    "from neuronunit.optimization.model_parameters import model_params, path_params\n",
    "from neuronunit.optimization import model_parameters as modelp\n",
    "\n",
    "from neuronunit.optimization import model_parameters as modelp\n",
    "mp = modelp.model_params\n",
    "\n",
    "mp['k'] = [1e-3-1e-6,1e-3+1e-6]\n",
    "\n",
    "\n",
    "mp['a'] = 0.1\n",
    "mp['b'] = 0.01\n",
    "mp['vr'] = -65.0\n",
    "#mp['vr'] = [-90.0,-60.0]\n",
    "#print(mp['k'],mp['vr'])\n",
    "\n",
    "\n",
    "free_params = ['k']\n",
    "from neuronunit.optimization import optimization_management as om\n",
    "mp = modelp.model_params\n",
    "\n",
    "import sciunit\n",
    "import neuronunit.optimization as opt\n",
    "tests_,all_tests, observation,suite = opt.get_neab.get_tests()\n",
    "passive  = [ str('RestingPotentialTest'), str('CapacitanceTest'), str('TimeConstantTest'), str('InputResistanceTest') ]\n",
    "firing_tests =  [ t for t in all_tests if str(t) not in passive ]\n",
    "first_two = all_tests[0:2]\n",
    "import pickle\n",
    "    \n",
    "try:\n",
    "    ga_out = pickle.load(open('gaout.p','rb'))\n",
    "except:\n",
    "    # 10*4 gene evaluations\n",
    "    ga_out, DO = om.run_ga(mp,3,first_two,free_params=free_params)\n",
    "    print(ga_out)\n",
    "    pickle.dump(ga_out,open('gaout.p','wb'))\n"
   ]
  },
  {
   "cell_type": "code",
   "execution_count": 5,
   "metadata": {
    "collapsed": false
   },
   "outputs": [
    {
     "name": "stdout",
     "output_type": "stream",
     "text": [
      "{'k': 0.001001}\n",
      "{'RheobaseTestP': 0.9373779876241186}\n",
      "{'value': array(83.34) * pA}\n"
     ]
    }
   ],
   "source": [
    "print(ga_out['hof'][0].dtc.attrs)\n",
    "print(ga_out['hof'][0].dtc.scores)\n",
    "print(ga_out['hof'][0].dtc.rheobase)\n",
    "\n"
   ]
  },
  {
   "cell_type": "code",
   "execution_count": null,
   "metadata": {
    "collapsed": false
   },
   "outputs": [],
   "source": [
    "#attrs = {'k':1e-4}#{'a': 1e-2, 'b': 1e-2, 'vpeak':40, 'k':5e-5}\n",
    "attrs = ga_out['hof'][0].dtc.attrs\n",
    "current = {'amplitude':-10.0*pq.pA, 'delay':200.0*pq.ms, 'duration':500.0*pq.ms}\n",
    "sim_length = 1000.0 * pq.ms\n",
    "\n",
    "LEMS_MODEL_PATH = path_params['model_path']\n",
    "from neuronunit.optimization.model_parameters import model_params, path_params\n",
    "\n",
    "model = ReducedModel(LEMS_MODEL_PATH,name=str('vanilla'),backend='NEURON')\n",
    "model.set_attrs(attrs)\n",
    "model.inject_square_current(current)\n",
    "#model.get_backend().set_stop_time(sim_length)\n",
    "vm = copy.copy(model.get_membrane_potential())\n",
    "plt.plot(vm.times,vm*1000,label=str(attrs))\n",
    "plt.ylim(-90,-50)"
   ]
  },
  {
   "cell_type": "code",
   "execution_count": null,
   "metadata": {
    "collapsed": false
   },
   "outputs": [],
   "source": [
    "dtc = ga_out['hof'][0].dtc\n",
    "\n",
    "LEMS_MODEL_PATH = path_params['model_path']\n",
    "model = None\n",
    "model = ReducedModel(LEMS_MODEL_PATH,name=str('vanilla'),backend='NEURON')\n",
    "model.set_attrs(dtc.attrs)\n",
    "scores = []\n",
    "for t in first_two:\n",
    "    scores.append(t.judge(model,stop_on_error = False, deep_error = False))\n",
    "print(scores)\n",
    "\n",
    "## Does the same thing in parallel\n",
    "#from neuronunit.optimization.optimization_management import nunit_evaluation as nue\n",
    "\n",
    "# xargs = (dtc,first_two)\n",
    "# dtc = nue(xargs)\n",
    "# print(dtc.scores)"
   ]
  },
  {
   "cell_type": "code",
   "execution_count": null,
   "metadata": {
    "collapsed": false
   },
   "outputs": [],
   "source": [
    "#attrs = {'k':1e-4}#{'a': 1e-2, 'b': 1e-2, 'vpeak':40, 'k':5e-5}\n",
    "attrs = ga_out['hof'][0].dtc.attrs\n",
    "print(ga_out['hof'][0].dtc.rheobase)\n",
    "ampl = ga_out['hof'][0].dtc.rheobase['value']\n",
    "current = {'amplitude':ampl, 'delay':200.0*pq.ms, 'duration':500.0*pq.ms}\n",
    "sim_length = 1000.0 * pq.ms\n",
    "\n",
    "LEMS_MODEL_PATH = path_params['model_path']\n",
    "from neuronunit.optimization.model_parameters import model_params, path_params\n",
    "\n",
    "model = ReducedModel(LEMS_MODEL_PATH,name=str('vanilla'),backend='NEURON')\n",
    "model.set_attrs(attrs)\n",
    "model.inject_square_current(current)\n",
    "#model.get_backend().set_stop_time(sim_length)\n",
    "vm = copy.copy(model.get_membrane_potential())\n",
    "plt.plot(vm.times,vm*1000,label=str(attrs))\n",
    "plt.ylim(-90,20)"
   ]
  },
  {
   "cell_type": "code",
   "execution_count": null,
   "metadata": {
    "collapsed": true
   },
   "outputs": [],
   "source": []
  }
 ],
 "metadata": {
  "kernelspec": {
   "display_name": "Python 3",
   "language": "python",
   "name": "python3"
  },
  "language_info": {
   "codemirror_mode": {
    "name": "ipython",
    "version": 3
   },
   "file_extension": ".py",
   "mimetype": "text/x-python",
   "name": "python",
   "nbconvert_exporter": "python",
   "pygments_lexer": "ipython3",
   "version": "3.5.2"
  }
 },
 "nbformat": 4,
 "nbformat_minor": 2
}
