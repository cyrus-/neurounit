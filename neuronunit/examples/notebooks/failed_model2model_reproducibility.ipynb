{
 "cells": [
  {
   "cell_type": "markdown",
   "metadata": {},
   "source": [
    "# This notebook demonstrates: \n",
    "* failure of model to model reproducibility in the Izhikitich model eminating from parameter C (capacitance)"
   ]
  },
  {
   "cell_type": "code",
   "execution_count": 1,
   "metadata": {
    "collapsed": false
   },
   "outputs": [],
   "source": [
    "import numpy as np\n",
    "import time"
   ]
  },
  {
   "cell_type": "markdown",
   "metadata": {},
   "source": [
    "## Set up an appropriate environment.\n",
    "\n",
    "* demonstrate that both backends work, before preceeding to a more specific backend versus backend results test/overlay."
   ]
  },
  {
   "cell_type": "code",
   "execution_count": 2,
   "metadata": {
    "collapsed": false
   },
   "outputs": [],
   "source": [
    "\n",
    "import copy\n",
    "import numpy as np\n",
    "import pandas as pd\n",
    "import matplotlib.pyplot as plt\n",
    "\n",
    "from neuronunit.models.reduced import ReducedModel\n",
    "from neuronunit.optimization.model_parameters import model_params, path_params\n",
    "from neuronunit.optimization import model_parameters as modelp\n",
    "\n",
    "LEMS_MODEL_PATH = path_params['model_path']\n",
    "import neuronunit.optimization as opt\n",
    "import quantities as pq\n",
    "\n"
   ]
  },
  {
   "cell_type": "code",
   "execution_count": 3,
   "metadata": {
    "collapsed": false
   },
   "outputs": [],
   "source": [
    "\n",
    "# From OSB models\n",
    "mparams = {}\n",
    "mparams['a'] = 0.03\n",
    "mparams['b'] = -2\n",
    "mparams['C'] = 100\n",
    "mparams['c'] = -50 \n",
    "mparams['vr'] = -60\n",
    "mparams['vt'] = -40\n",
    "mparams['vpeak'] = 35\n",
    "mparams['k'] = 0.7\n",
    "mparams['d'] = 100\n",
    "\n",
    "\n",
    "\n",
    "# FROM the MOD file.\n",
    "vanilla_NRN = {}\n",
    "#vanilla_NRN['v0'] = -60# (mV)\n",
    "vanilla_NRN['k'] = 7.0E-4# (uS / mV)\n",
    "vanilla_NRN['vr'] = -60# (mV)\n",
    "vanilla_NRN['vt'] = -40# (mV)\n",
    "vanilla_NRN['vpeak'] = 35# (mV)\n",
    "vanilla_NRN['a'] = 0.03# (kHz)\n",
    "vanilla_NRN['b'] = -0.002# (uS)\n",
    "vanilla_NRN['c'] = -50# (mV)\n",
    "vanilla_NRN['d'] = 0.1# (nA)\n",
    "vanilla_NRN['C'] = 1.0E-5# (microfarads)\n",
    "\n",
    "m2m = {}\n",
    "for k,v in vanilla_NRN.items():\n",
    "    m2m[k] = vanilla_NRN[k]/mparams[k]\n",
    "\n",
    "\n",
    "def translate(input_dic,m2m):\n",
    "    input_dic['vpeak'] = input_dic['vPeak']\n",
    "    input_dic.pop('vPeak', None)     \n",
    "    input_dic.pop('dt', None)        \n",
    "    for k,v in input_dic.items():\n",
    "        input_dic[k] = v * m2m[k]\n",
    "    return input_dic\n",
    "\n",
    "\n",
    "\n",
    "\n",
    "# From OSB models\n",
    "\n"
   ]
  },
  {
   "cell_type": "markdown",
   "metadata": {},
   "source": [
    "# A more specific Backend versus backend test/overlay.\n",
    "Starting with default parameters, and agreement"
   ]
  },
  {
   "cell_type": "code",
   "execution_count": 4,
   "metadata": {
    "collapsed": false
   },
   "outputs": [
    {
     "name": "stdout",
     "output_type": "stream",
     "text": [
      "1e-05\n",
      "1e-05\n",
      "520.0 0.0\n"
     ]
    },
    {
     "data": {
      "text/plain": [
       "<matplotlib.legend.Legend at 0x7f53d404b5c0>"
      ]
     },
     "execution_count": 4,
     "metadata": {},
     "output_type": "execute_result"
    },
    {
     "data": {
      "image/png": "[encoded data removed]",
      "text/plain": [
       "<matplotlib.figure.Figure at 0x7f53d4990da0>"
      ]
     },
     "metadata": {},
     "output_type": "display_data"
    }
   ],
   "source": [
    "\n",
    "iparams = {}\n",
    "iparams['injected_square_current'] = {}\n",
    "iparams['injected_square_current']['amplitude'] = 53*pq.pA\n",
    "DELAY = 0\n",
    "DURATION = 520\n",
    "iparams['injected_square_current']['delay'] = DELAY*pq.ms\n",
    "iparams['injected_square_current']['duration'] = DURATION*pq.ms\n",
    "\n",
    "mparams['vPeak'] = 35\n",
    "\n",
    "model1 = None\n",
    "model1 = ReducedModel(LEMS_MODEL_PATH,name = str('vanilla'),backend = ('RAW'))\n",
    "model1.set_attrs(mparams)\n",
    "model1.inject_square_current(iparams)\n",
    "\n",
    "model2 = None\n",
    "model2 = ReducedModel(LEMS_MODEL_PATH,name = str('vanilla'),backend = ('NEURON'))\n",
    "vanilla = translate(mparams,m2m)\n",
    "model2.set_attrs(vanilla)\n",
    "model2.inject_square_current(iparams)\n",
    "\n",
    "\n",
    "plt.plot(model1.get_membrane_potential().times,model1.get_membrane_potential(),label='RAW')\n",
    "plt.plot(model2.get_membrane_potential().times,model2.get_membrane_potential(),label='NEURON')\n",
    "plt.legend()"
   ]
  },
  {
   "cell_type": "code",
   "execution_count": 5,
   "metadata": {
    "collapsed": false
   },
   "outputs": [
    {
     "name": "stdout",
     "output_type": "stream",
     "text": [
      "[  3.51250000e-06   1.32377084e-06   1.32330773e-06 ...,   2.77570696e-09\n",
      "   2.77553601e-09   2.77536506e-09]\n"
     ]
    }
   ],
   "source": [
    "from numba import jit\n",
    "@jit\n",
    "def get_diff(vm):\n",
    "    differentiated = np.diff(vm)\n",
    "    return differentiated\n",
    "\n",
    "vm_ = []\n",
    "for v in model2.get_membrane_potential():\n",
    "    vm_.append(float(v))\n",
    "max_spike = get_diff(vm_)\n",
    "print(max_spike)\n",
    "    "
   ]
  },
  {
   "cell_type": "code",
   "execution_count": 6,
   "metadata": {
    "collapsed": false
   },
   "outputs": [
    {
     "name": "stdout",
     "output_type": "stream",
     "text": [
      "[  3.51250000e-06   1.32377084e-06   1.32330773e-06 ...,   2.77570696e-09\n",
      "   2.77553601e-09   2.77536506e-09]\n"
     ]
    }
   ],
   "source": [
    "max_spike = get_diff(vm_)\n",
    "print(max_spike)\n",
    "    "
   ]
  },
  {
   "cell_type": "code",
   "execution_count": 7,
   "metadata": {
    "collapsed": false
   },
   "outputs": [
    {
     "name": "stdout",
     "output_type": "stream",
     "text": [
      "1e-05\n",
      "1e-05\n",
      "520.0 0.0\n"
     ]
    },
    {
     "data": {
      "text/plain": [
       "<matplotlib.legend.Legend at 0x7f53c723f9e8>"
      ]
     },
     "execution_count": 7,
     "metadata": {},
     "output_type": "execute_result"
    },
    {
     "data": {
      "image/png": "[encoded data removed]",
      "text/plain": [
       "<matplotlib.figure.Figure at 0x7f53c890d198>"
      ]
     },
     "metadata": {},
     "output_type": "display_data"
    }
   ],
   "source": [
    "\n",
    "# From OSB models\n",
    "mparams = {}\n",
    "mparams['a'] = 0.03\n",
    "mparams['b'] = -2\n",
    "mparams['C'] = 100\n",
    "mparams['c'] = -50 \n",
    "mparams['vr'] = -60\n",
    "mparams['vt'] = -40\n",
    "mparams['vpeak'] = 35\n",
    "mparams['k'] = 0.7\n",
    "mparams['d'] = 100\n",
    "\n",
    "\n",
    "# FROM the MOD file.\n",
    "vanilla_NRN = {}\n",
    "#vanilla_NRN['v0'] = -60# (mV)\n",
    "vanilla_NRN['k'] = 7.0E-4# (uS / mV)\n",
    "vanilla_NRN['vr'] = -60# (mV)\n",
    "vanilla_NRN['vt'] = -40# (mV)\n",
    "vanilla_NRN['vpeak'] = 35# (mV)\n",
    "vanilla_NRN['a'] = 0.03# (kHz)\n",
    "vanilla_NRN['b'] = -0.002# (uS)\n",
    "vanilla_NRN['c'] = -50# (mV)\n",
    "vanilla_NRN['d'] = 0.1# (nA)\n",
    "vanilla_NRN['C'] = 1.0E-5# (microfarads)\n",
    "\n",
    "m2m = {}\n",
    "for k,v in vanilla_NRN.items():\n",
    "    m2m[k] = vanilla_NRN[k]/mparams[k]\n",
    "\n",
    "\n",
    "def translate(input_dic,m2m):\n",
    "    input_dic['vpeak'] = input_dic['vPeak']\n",
    "    input_dic.pop('vPeak', None)     \n",
    "    input_dic.pop('dt', None)        \n",
    "    for k,v in input_dic.items():\n",
    "        input_dic[k] = v * m2m[k]\n",
    "    return input_dic\n",
    "\n",
    "\n",
    "\n",
    "model1 = None\n",
    "model1 = ReducedModel(LEMS_MODEL_PATH,name = str('vanilla'),backend = ('RAW'))\n",
    "mparams['C'] = 100\n",
    "mparams['a'] = 0.06\n",
    "\n",
    "#mparams['a'] = 0.03\n",
    "mparams['b'] = -3\n",
    "#mparams['C'] = 100\n",
    "mparams['c'] = -55 \n",
    "mparams['vr'] = -60\n",
    "mparams['vt'] = -35\n",
    "#mparams['vPeak'] = 45\n",
    "\n",
    "mparams['vPeak'] = mparams['vpeak'] = 45\n",
    "mparams['k'] = 0.8\n",
    "mparams['d'] = 150\n",
    "\n",
    "\n",
    "\n",
    "model1.set_attrs(mparams)\n",
    "model1.inject_square_current(iparams)\n",
    "\n",
    "model2 = None\n",
    "model2 = ReducedModel(LEMS_MODEL_PATH,name = str('vanilla'),backend = ('NEURON'))\n",
    "#mparams['vpeak'] = 35\n",
    "#mparams['C'] = 2.0E-4\n",
    "td = translate(mparams,m2m)\n",
    "\n",
    "model2.set_attrs(td)\n",
    "model2.inject_square_current(iparams)\n",
    "\n",
    "\n",
    "\n",
    "plt.plot(model1.get_membrane_potential().times,model1.get_membrane_potential(),label='RAW')\n",
    "plt.plot(model2.get_membrane_potential().times,model2.get_membrane_potential(),label='NEURON')\n",
    "plt.legend()\n"
   ]
  },
  {
   "cell_type": "code",
   "execution_count": 8,
   "metadata": {
    "collapsed": false
   },
   "outputs": [
    {
     "name": "stdout",
     "output_type": "stream",
     "text": [
      "[  1.32500000e-05   1.31838000e-05   1.31180154e-05 ...,  -7.98967836e-11\n",
      "  -7.98005828e-11  -7.97045069e-11]\n"
     ]
    }
   ],
   "source": [
    "\n",
    "vm_ = []\n",
    "for v in model1.get_membrane_potential():\n",
    "    vm_.append(float(v))\n",
    "max_spike = get_diff(vm_)\n",
    "print(max_spike)\n",
    "\n"
   ]
  },
  {
   "cell_type": "markdown",
   "metadata": {},
   "source": [
    "## The problem is parameter C"
   ]
  },
  {
   "cell_type": "code",
   "execution_count": 9,
   "metadata": {
    "collapsed": false
   },
   "outputs": [
    {
     "name": "stdout",
     "output_type": "stream",
     "text": [
      "1.5000000000000002e-05\n",
      "1.5000000000000002e-05\n",
      "1.5000000000000002e-05\n",
      "520.0 0.0\n",
      "1.6000000000000003e-05\n",
      "1.6000000000000003e-05\n",
      "1.6000000000000003e-05\n",
      "520.0 0.0\n",
      "1.7e-05\n",
      "1.7e-05\n",
      "1.7e-05\n",
      "520.0 0.0\n",
      "2e-05\n",
      "2e-05\n",
      "2e-05\n",
      "520.0 0.0\n",
      "2.5e-05\n",
      "2.5e-05\n",
      "2.5e-05\n",
      "520.0 0.0\n",
      "3.0000000000000004e-05\n",
      "3.0000000000000004e-05\n",
      "3.0000000000000004e-05\n",
      "520.0 0.0\n"
     ]
    },
    {
     "data": {
      "image/png": "[encoded data removed]",
      "text/plain": [
       "<matplotlib.figure.Figure at 0x7f53c88fcf28>"
      ]
     },
     "metadata": {},
     "output_type": "display_data"
    }
   ],
   "source": [
    "\n",
    "iparams = {}\n",
    "iparams['injected_square_current'] = {}\n",
    "iparams['injected_square_current']['amplitude'] = 60*pq.pA\n",
    "DELAY = 0\n",
    "DURATION = 520\n",
    "iparams['injected_square_current']['delay'] = DELAY*pq.ms\n",
    "iparams['injected_square_current']['duration'] = DURATION*pq.ms\n",
    "\n",
    "\n",
    "for C in [150,160,170,200,250,300]:\n",
    "    mparams['C'] = C\n",
    "    mparams['a'] = 0.06\n",
    "\n",
    "    mparams['b'] = -3\n",
    "    mparams['c'] = -55 \n",
    "    mparams['vr'] = -60\n",
    "    mparams['vt'] = -35\n",
    "\n",
    "    mparams['vPeak'] = 45\n",
    "    mparams['k'] = 0.8\n",
    "    mparams['d'] = 150\n",
    "\n",
    "    model1 = None\n",
    "    model1 = ReducedModel(LEMS_MODEL_PATH,name = str('vanilla'),backend = ('RAW'))\n",
    "    model1.set_attrs(mparams)\n",
    "    model1.inject_square_current(iparams)\n",
    "\n",
    "    td = translate(mparams,m2m)\n",
    "\n",
    "    model2.set_attrs(td)\n",
    "    model2 = ReducedModel(LEMS_MODEL_PATH,name = str('vanilla'),backend = ('NEURON'))\n",
    "    model2.set_attrs(mparams)\n",
    "    model2.inject_square_current(iparams)\n",
    "\n",
    "\n",
    "    plt.plot(model1.get_membrane_potential().times,model1.get_membrane_potential(),label='RAW')\n",
    "    plt.plot(model2.get_membrane_potential().times,model2.get_membrane_potential(),label='NEURON')\n",
    "plt.legend()\n",
    "plt.show()"
   ]
  },
  {
   "cell_type": "markdown",
   "metadata": {},
   "source": [
    "V0 and VR in NEURON is another problem, but it's not the problem. As when they are made to be the same problems persist"
   ]
  },
  {
   "cell_type": "code",
   "execution_count": 10,
   "metadata": {
    "collapsed": false
   },
   "outputs": [
    {
     "name": "stdout",
     "output_type": "stream",
     "text": [
      "1.5000000000000002e-05\n",
      "1.5000000000000002e-05\n",
      "1.5000000000000002e-05\n",
      "520.0 0.0\n",
      "1.6000000000000003e-05\n",
      "1.6000000000000003e-05\n",
      "1.6000000000000003e-05\n",
      "520.0 0.0\n",
      "1.7e-05\n",
      "1.7e-05\n",
      "1.7e-05\n",
      "520.0 0.0\n",
      "2e-05\n",
      "2e-05\n",
      "2e-05\n",
      "520.0 0.0\n",
      "2.5e-05\n",
      "2.5e-05\n",
      "2.5e-05\n",
      "520.0 0.0\n",
      "3.0000000000000004e-05\n",
      "3.0000000000000004e-05\n",
      "3.0000000000000004e-05\n",
      "520.0 0.0\n"
     ]
    },
    {
     "data": {
      "image/png": "[encoded data removed]",
      "text/plain": [
       "<matplotlib.figure.Figure at 0x7f53c5fb3240>"
      ]
     },
     "metadata": {},
     "output_type": "display_data"
    }
   ],
   "source": [
    "iparams = {}\n",
    "iparams['injected_square_current'] = {}\n",
    "iparams['injected_square_current']['amplitude'] = 60*pq.pA\n",
    "DELAY = 0\n",
    "DURATION = 520\n",
    "iparams['injected_square_current']['delay'] = DELAY*pq.ms\n",
    "iparams['injected_square_current']['duration'] = DURATION*pq.ms\n",
    "\n",
    "\n",
    "for C in [150,160,170,200,250,300]:\n",
    "    mparams['C'] = C\n",
    "    mparams['a'] = 0.06\n",
    "\n",
    "    mparams['b'] = -3\n",
    "    mparams['c'] = -55 \n",
    "    mparams['vr'] = -70\n",
    "    mparams['vt'] = -35\n",
    "\n",
    "    mparams['vPeak'] = 45\n",
    "    mparams['k'] = 0.8\n",
    "    mparams['d'] = 150\n",
    "\n",
    "    model1 = None\n",
    "    model1 = ReducedModel(LEMS_MODEL_PATH,name = str('vanilla'),backend = ('RAW'))\n",
    "    model1.set_attrs(mparams)\n",
    "    model1.inject_square_current(iparams)\n",
    "\n",
    "    td = translate(mparams,m2m)\n",
    "\n",
    "    model2.set_attrs(td)\n",
    "    model2 = ReducedModel(LEMS_MODEL_PATH,name = str('vanilla'),backend = ('NEURON'))\n",
    "    model2.set_attrs(mparams)\n",
    "    model2.inject_square_current(iparams)\n",
    "\n",
    "\n",
    "    plt.plot(model1.get_membrane_potential().times,model1.get_membrane_potential(),label='RAW')\n",
    "    plt.plot(model2.get_membrane_potential().times,model2.get_membrane_potential(),label='NEURON')\n",
    "plt.legend()\n",
    "plt.show()"
   ]
  },
  {
   "cell_type": "code",
   "execution_count": 11,
   "metadata": {
    "collapsed": false
   },
   "outputs": [
    {
     "name": "stdout",
     "output_type": "stream",
     "text": [
      "2.5e-05\n",
      "2.5e-05\n",
      "2.5e-05\n",
      "520.0 0.0\n"
     ]
    },
    {
     "data": {
      "image/png": "[encoded data removed]",
      "text/plain": [
       "<matplotlib.figure.Figure at 0x7f53c70bceb8>"
      ]
     },
     "metadata": {},
     "output_type": "display_data"
    }
   ],
   "source": [
    "\n",
    "iparams = {}\n",
    "iparams['injected_square_current'] = {}\n",
    "iparams['injected_square_current']['amplitude'] = 155*pq.pA\n",
    "DELAY = 0\n",
    "DURATION = 520\n",
    "iparams['injected_square_current']['delay'] = DELAY*pq.ms\n",
    "iparams['injected_square_current']['duration'] = DURATION*pq.ms\n",
    "\n",
    "\n",
    "#for C in [250]:\n",
    "mparams['C'] = 250\n",
    "mparams['a'] = 0.06\n",
    "\n",
    "mparams['b'] = -3\n",
    "mparams['c'] = -55 \n",
    "mparams['vr'] = -60\n",
    "mparams['vt'] = -35\n",
    "\n",
    "mparams['vPeak'] = 45\n",
    "mparams['k'] = 0.8\n",
    "mparams['d'] = 150\n",
    "\n",
    "model1 = None\n",
    "model1 = ReducedModel(LEMS_MODEL_PATH,name = str('vanilla'),backend = ('RAW'))\n",
    "model1.set_attrs(mparams)\n",
    "model1.inject_square_current(iparams)\n",
    "\n",
    "td = translate(mparams,m2m)\n",
    "\n",
    "model2.set_attrs(td)\n",
    "model2 = ReducedModel(LEMS_MODEL_PATH,name = str('vanilla'),backend = ('NEURON'))\n",
    "model2.set_attrs(mparams)\n",
    "model2.inject_square_current(iparams)\n",
    "\n",
    "\n",
    "plt.plot(model1.get_membrane_potential().times,model1.get_membrane_potential(),label='RAW')\n",
    "plt.plot(model2.get_membrane_potential().times,model2.get_membrane_potential(),label='NEURON')\n",
    "plt.legend()\n",
    "plt.show()"
   ]
  },
  {
   "cell_type": "markdown",
   "metadata": {
    "collapsed": true
   },
   "source": [
    "# A summary of NEURON backend units (left), versus NeuroML parameters right. "
   ]
  },
  {
   "cell_type": "markdown",
   "metadata": {},
   "source": [
    "\n",
    "NEURON units                                           NeuroML units   \n",
    "\n",
    "v0 = -60 (mV),  vr = -60 (mV) ,                        mparams['vr'] = -60\n",
    "\n",
    "k = 7.0E-4 (uS / mV),                                  mparams['k'] = 0.7                ***different\n",
    "\n",
    "vt = -40 (mV)\n",
    "\n",
    "vpeak = 35 (mV)                 mparams['vPeak'] = 35\n",
    "\n",
    "a = 0.030000001 (kHz) [ms-1],   mparams['a'] = 0.03\n",
    "\n",
    "b = -0.002 (uS),                mparams['b'] = -2  ***different   \n",
    "\n",
    "c = -50 (mV),                   mparams['c'] = -50  \n",
    "\n",
    "d = 0.1 (nA) --MATLAB pA        mparams['d'] = 100  ******** pA\n",
    "\n",
    "C = 1.0E-4 (microfarads)        mparams['C'] = 100 ******** co faraday)"
   ]
  },
  {
   "cell_type": "markdown",
   "metadata": {},
   "source": [
    "# A dictionary in code, that these model tests where based on."
   ]
  },
  {
   "cell_type": "code",
   "execution_count": 12,
   "metadata": {
    "collapsed": false
   },
   "outputs": [
    {
     "name": "stdout",
     "output_type": "stream",
     "text": [
      "{'vr': -60, 'vt': -40, 'a': 0.03, 'vPeak': 25, 'd': 150, 'k': 1.5, 'C': 50, 'b': 1, 'c': -40}\n",
      "{'d': 0.15, 'vt': -40.0, 'a': 0.03, 'k': 0.0015, 'C': 4.9999999999999996e-05, 'b': 0.001, 'vr': -60.0, 'vpeak': 25.0, 'c': -40.0}\n",
      "{'vr': -75, 'vt': -45, 'a': 0.01, 'vPeak': 50, 'd': 130, 'k': 1.2, 'C': 150, 'b': 5, 'c': -56}\n",
      "{'d': 0.13, 'vt': -45.0, 'a': 0.01, 'k': 0.0012, 'C': 0.00015, 'b': 0.005, 'vr': -75.0, 'vpeak': 50.0, 'c': -56.0}\n",
      "{'vr': -60, 'vt': -50, 'a': 0.01, 'vPeak': 35, 'd': 10, 'k': 1.6, 'C': 200, 'b': 15, 'c': -60}\n",
      "{'d': 0.01, 'vt': -50.0, 'a': 0.01, 'k': 0.0016, 'C': 0.00019999999999999998, 'b': 0.015, 'vr': -60.0, 'vpeak': 35.0, 'c': -60.0}\n"
     ]
    }
   ],
   "source": [
    "import collections\n",
    "# Fast spiking cannot be reproduced as it requires modifications to the standard Izhi equation,\n",
    "# which are expressed in this mod file.\n",
    "# https://github.com/OpenSourceBrain/IzhikevichModel/blob/master/NEURON/izhi2007b.mod\n",
    "\n",
    "from collections import OrderedDict\n",
    "type2007 = collections.OrderedDict([\n",
    "  #              C    k     vr  vt vpeak   a      b   c    d  celltype\n",
    "  ('RS',        (100, 0.7,  -60, -40, 35, 0.03,   -2, -50,  100,  1)),\n",
    "  ('IB',        (150, 1.2,  -75, -45, 50, 0.01,   5, -56,  130,   2)),\n",
    "  ('CH',        (50,  1.5,  -60, -40, 25, 0.03,   1, -40,  150,   3)),\n",
    "  ('LTS',       (100, 1.0,  -56, -42, 40, 0.03,   8, -53,   20,   4)),\n",
    "  ('FS',        (20,  1.0,  -55, -40, 25, 0.2,   -2, -45,  -55,   5)),\n",
    "  ('TC',        (200, 1.6,  -60, -50, 35, 0.01,  15, -60,   10,   6)),\n",
    "  ('TC_burst',  (200, 1.6,  -60, -50, 35, 0.01,  15, -60,   10,   6)),\n",
    "  ('RTN',       (40,  0.25, -65, -45,  0, 0.015, 10, -55,   50,   7)),\n",
    "  ('RTN_burst', (40,  0.25, -65, -45,  0, 0.015, 10, -55,   50,   7))])\n",
    "\n",
    "import numpy as np\n",
    "param_dict = OrderedDict([(k,[]) for k in ['C','k','vr','vt','vPeak','a','b','c','d']])\n",
    "#OrderedDict\n",
    "for i,k in enumerate(param_dict.keys()):\n",
    "    for v in type2007.values():\n",
    "        param_dict[k].append(v[i])\n",
    "\n",
    "explore_param = {k:(np.min(v),np.max(v)) for k,v in param_dict.items()}\n",
    "param_ranges = OrderedDict(explore_param)\n",
    "\n",
    "\n",
    "#IB = mparams[param_dict['IB']]\n",
    "IB = {}\n",
    "TC = {}\n",
    "CH = {}\n",
    "RTN_burst = {}\n",
    "for k,v in param_dict.items():\n",
    "    IB[k] = v[1]\n",
    "    CH[k] = v[2]\n",
    "    TC[k] = v[5]\n",
    "    RTN_burst[k] = v[-2]\n",
    "    \n",
    "RTN_burstN = copy.copy(RTN_burst)\n",
    "TCN = copy.copy(TC)\n",
    "IBN = copy.copy(IB)\n",
    "CHN = copy.copy(CH)\n",
    "\n",
    "\n",
    "# From OSB models\n",
    "mparams = {}\n",
    "mparams['a'] = 0.03\n",
    "mparams['b'] = -2\n",
    "mparams['C'] = 100\n",
    "mparams['c'] = -50 \n",
    "mparams['vr'] = -60\n",
    "mparams['vt'] = -40\n",
    "mparams['vpeak'] = 35\n",
    "mparams['k'] = 0.7\n",
    "mparams['d'] = 100\n",
    "\n",
    "\n",
    "# FROM the MOD file.\n",
    "vanilla_NRN = {}\n",
    "#vanilla_NRN['v0'] = -60# (mV)\n",
    "vanilla_NRN['k'] = 7.0E-4# (uS / mV)\n",
    "vanilla_NRN['vr'] = -60# (mV)\n",
    "vanilla_NRN['vt'] = -40# (mV)\n",
    "vanilla_NRN['vpeak'] = 35# (mV)\n",
    "vanilla_NRN['a'] = 0.03# (kHz)\n",
    "vanilla_NRN['b'] = -0.002# (uS)\n",
    "vanilla_NRN['c'] = -50# (mV)\n",
    "vanilla_NRN['d'] = 0.1# (nA)\n",
    "vanilla_NRN['C'] = 1.0E-4# (microfarads)\n",
    "\n",
    "m2m = {}\n",
    "for k,v in vanilla_NRN.items():\n",
    "    m2m[k] = vanilla_NRN[k]/mparams[k]\n",
    "\n",
    "\n",
    "def translate(input_dic,m2m):\n",
    "    input_dic['vpeak'] = input_dic['vPeak']\n",
    "    input_dic.pop('vPeak', None)     \n",
    "    input_dic.pop('dt', None)        \n",
    "    for k,v in input_dic.items():\n",
    "        input_dic[k] = v * m2m[k]\n",
    "    return input_dic\n",
    "IBN = translate(IBN,m2m)\n",
    "CHN = translate(CHN,m2m)\n",
    "TCN = translate(TCN,m2m)\n",
    "print(CH)\n",
    "print(CHN)\n",
    "print(IB)\n",
    "print(IBN)\n",
    "print(TC)\n",
    "print(TCN)"
   ]
  },
  {
   "cell_type": "markdown",
   "metadata": {},
   "source": [
    "The following cells follow the Backend pattern RAW, NEURON, RAW, NEURON."
   ]
  },
  {
   "cell_type": "code",
   "execution_count": null,
   "metadata": {
    "collapsed": true
   },
   "outputs": [],
   "source": []
  },
  {
   "cell_type": "code",
   "execution_count": null,
   "metadata": {
    "collapsed": true
   },
   "outputs": [],
   "source": []
  }
 ],
 "metadata": {
  "kernelspec": {
   "display_name": "Python 3",
   "language": "python",
   "name": "python3"
  },
  "language_info": {
   "codemirror_mode": {
    "name": "ipython",
    "version": 3
   },
   "file_extension": ".py",
   "mimetype": "text/x-python",
   "name": "python",
   "nbconvert_exporter": "python",
   "pygments_lexer": "ipython3",
   "version": "3.5.2"
  }
 },
 "nbformat": 4,
 "nbformat_minor": 2
}
