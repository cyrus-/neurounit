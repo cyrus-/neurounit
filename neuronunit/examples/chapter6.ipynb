{
 "cells": [
  {
   "cell_type": "markdown",
   "metadata": {},
   "source": [
    "# Chapter 6\n",
    "## Internal Consistency\n",
    "In the optimizer demonstration below, we demonstrate that there is good reason to trust optimizer outputs, even when the optimizer is not able to match experimental cell behavior always.\n",
    "\n",
    "The business of matching experimental cell behavior is tricky, as neuronal model simulators are by nature artificially constrained. Neural model simulators are not arbitary waveform generators, they can't match every waveform, even realistic ones.\n",
    "\n",
    "Additionally in chapter 3 we saw that some of the data we used to optimize is bi-modal.\n",
    "\n",
    "### Below: setup environment"
   ]
  },
  {
   "cell_type": "code",
   "execution_count": 1,
   "metadata": {},
   "outputs": [
    {
     "name": "stdout",
     "output_type": "stream",
     "text": [
      "consider installing pynn a heavier backend\n",
      "glif python Error\n"
     ]
    }
   ],
   "source": [
    "import pickle\n",
    "from neuronunit.optimisation.optimization_management import OptMan, TSD\n"
   ]
  },
  {
   "cell_type": "code",
   "execution_count": 2,
   "metadata": {},
   "outputs": [],
   "source": [
    "%%capture\n",
    "rts,complete_map = pickle.load(open('../tests/russell_tests.p','rb'))\n",
    "use_test = TSD(rts['Hippocampus CA1 pyramidal cell'])#['RheobaseTest']]\n",
    "use_test.use_rheobase_score = True\n",
    "\n",
    "\n",
    "easy_standards = {ut.name:ut.observation['std'] for ut in use_test.values()}\n",
    "\n",
    "[(value.name,value.observation) for value in use_test.values()]\n",
    "try:\n",
    "    with open('jd_.p','rb') as f:\n",
    "        results,converged,target,simulated_tests = pickle.load(f)\n",
    "except:\n",
    "    OM = OptMan(use_test,protocol={'elephant':True,'allen':False,'dm':False})\n",
    "    results,converged,target,simulated_tests = OM.round_trip_test(use_test,\n",
    "                                                                  str('RAW'),\\\n",
    "                                                                  MU=10,NGEN=10,stds = easy_standards)\n",
    "with open('jd_.p','wb') as f:\n",
    "    pickle.dump([results,converged,target,simulated_tests],f)    "
   ]
  },
  {
   "cell_type": "markdown",
   "metadata": {},
   "source": [
    "# In the above notebook cell\n",
    "we simulated some data, constructed ***NeuronUnit*** tests from the data.\n",
    "Then showed that the optimizer can find good agreement between simulated data, and model behavior."
   ]
  },
  {
   "cell_type": "code",
   "execution_count": null,
   "metadata": {},
   "outputs": [
    {
     "name": "stderr",
     "output_type": "stream",
     "text": [
      "INFO:__main__:gen\tnevals\tavg    \tstd    \tmin    \tmax    \n",
      "1  \t8     \t6.35337\t0.12868\t6.15457\t6.53191\n",
      "2  \t8     \t0      \t0      \t0      \t0      \n"
     ]
    }
   ],
   "source": [
    "\n",
    "%%capture\n",
    "from neuronunit.optimisation import model_parameters\n",
    "try:\n",
    "    assert 1==2\n",
    "    with open('similar.p','rb') as f:\n",
    "        similar = pickle.load(f)\n",
    "\n",
    "except:\n",
    "    sim_tests = TSD(simulated_tests)\n",
    "    sim_tests.use_rheobase_score = True\n",
    "\n",
    "    backend = str('ADEXP')\n",
    "    similar = sim_tests.optimize(model_parameters.MODEL_PARAMS[backend], NGEN=10, \\\n",
    "                                 backend=backend, MU=10, \\\n",
    "                                 protocol={'allen': False, 'elephant': True})\n",
    "\n",
    "    with open('similar.p','wb') as f:\n",
    "        pickle.dump(similar[0]['dtc_pop'],f)"
   ]
  },
  {
   "cell_type": "markdown",
   "metadata": {},
   "source": [
    "# In the above notebook cell\n",
    "\n",
    "we took the simulated data used from one model class Izhikitich with its pre-constructed ***NeuronUnit*** tests of the data from the previous cell, then we showed that the optimizer can find good agreement between simulated data generated from one model class, and model behavior from a different class."
   ]
  },
  {
   "cell_type": "code",
   "execution_count": null,
   "metadata": {},
   "outputs": [],
   "source": [
    "OM = OptMan(use_test,protocol={'elephant':True,'allen':False,'dm':False})\n",
    "final_simulated_mutated_tests = copy.copy(sim_tests)\n",
    "\n",
    "final_simulated_mutated_tests.use_rheobase_score = True\n",
    "results,converged,target,simulated_tests = OM.round_trip_test(final_simulated_mutated_tests,\n",
    "                                                              str('ADEXP'),\\\n",
    "                                                              MU=1,NGEN=1,stds = easy_standards)\n",
    "\n",
    "final_simulated_mutated_tests = TSD(final_simulated_mutated_tests)\n",
    "final_simulated_mutated_tests.use_rheobase_score = True\n",
    "\n",
    "backend = str('RAW')\n",
    "similar = final_simulated_mutated_tests.optimize(model_parameters.MODEL_PARAMS[backend], NGEN=10, \\\n",
    "                             backend=backend, MU=10, \\\n",
    "                             protocol={'allen': False, 'elephant': True})\n"
   ]
  }
 ],
 "metadata": {
  "kernelspec": {
   "display_name": "Python 3",
   "language": "python",
   "name": "python3"
  },
  "language_info": {
   "codemirror_mode": {
    "name": "ipython",
    "version": 3
   },
   "file_extension": ".py",
   "mimetype": "text/x-python",
   "name": "python",
   "nbconvert_exporter": "python",
   "pygments_lexer": "ipython3",
   "version": "3.6.5"
  }
 },
 "nbformat": 4,
 "nbformat_minor": 2
}
