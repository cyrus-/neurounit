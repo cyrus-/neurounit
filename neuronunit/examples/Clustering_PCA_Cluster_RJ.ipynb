{
 "cells": [
  {
   "cell_type": "code",
   "execution_count": 3,
   "metadata": {},
   "outputs": [
    {
     "name": "stdout",
     "output_type": "stream",
     "text": [
      "Requirement already up-to-date: sklearn in /opt/conda/envs/python2/lib/python2.7/site-packages\n",
      "Requirement already up-to-date: scikit-learn in /opt/conda/envs/python2/lib/python2.7/site-packages (from sklearn)\n",
      "Requirement already up-to-date: numpy>=1.8.2 in /opt/conda/envs/python2/lib/python2.7/site-packages (from scikit-learn->sklearn)\n",
      "Requirement already up-to-date: scipy>=0.13.3 in /opt/conda/envs/python2/lib/python2.7/site-packages (from scikit-learn->sklearn)\n",
      "\u001b[33mYou are using pip version 9.0.1, however version 19.0.3 is available.\n",
      "You should consider upgrading via the 'pip install --upgrade pip' command.\u001b[0m\n",
      "Requirement already up-to-date: numpy in /opt/conda/envs/python2/lib/python2.7/site-packages\n",
      "\u001b[33mYou are using pip version 9.0.1, however version 19.0.3 is available.\n",
      "You should consider upgrading via the 'pip install --upgrade pip' command.\u001b[0m\n",
      "Requirement already up-to-date: pandas in /opt/conda/envs/python2/lib/python2.7/site-packages\n",
      "Requirement already up-to-date: python-dateutil>=2.5.0 in /opt/conda/envs/python2/lib/python2.7/site-packages (from pandas)\n",
      "Requirement already up-to-date: pytz>=2011k in /opt/conda/envs/python2/lib/python2.7/site-packages (from pandas)\n",
      "Requirement already up-to-date: numpy>=1.12.0 in /opt/conda/envs/python2/lib/python2.7/site-packages (from pandas)\n",
      "Requirement already up-to-date: six>=1.5 in /opt/conda/envs/python2/lib/python2.7/site-packages (from python-dateutil>=2.5.0->pandas)\n",
      "\u001b[33mYou are using pip version 9.0.1, however version 19.0.3 is available.\n",
      "You should consider upgrading via the 'pip install --upgrade pip' command.\u001b[0m\n",
      "Solving environment: - \b\b\\ \b\b| \b\b/ \b\b- \b\b\\ \b\b| \b\b/ \b\b- \b\b\\ \b\b| \b\b/ \b\b- \b\b\\ \b\b| \b\b/ \b\b- \b\b\\ \b\b| \b\b/ \b\b- \b\b\\ \b\b| \b\b/ \b\b- \b\b\\ \b\b| \b\b/ \b\b- \b\b\\ \b\b| \b\b/ \b\b- \b\b\\ \b\b| \b\b/ \b\b- \b\b\\ \b\b| \b\b/ \b\b- \b\b\\ \b\b| \b\b/ \b\b- \b\b\\ \b\b| \b\b/ \b\b- \b\b\\ \b\b| \b\b/ \b\b- \b\b\\ \b\b| \b\b/ \b\b- \b\b\\ \b\b| \b\b/ \b\b- \b\b\\ \b\b| \b\b/ \b\b- \b\b\\ \b\b| \b\b/ \b\b- \b\b\\ \b\b| \b\b/ \b\b- \b\b\\ \b\b| \b\b/ \b\b- \b\b\\ \b\b| \b\b/ \b\b- \b\b\\ \b\b| \b\b/ \b\b- \b\b\\ \b\b| \b\b/ \b\b- \b\b\\ \b\b| \b\b/ \b\b- \b\b\\ \b\b| \b\b/ \b\b- \b\b\\ \b\b| \b\b/ \b\b- \b\b\\ \b\b| \b\b/ \b\b- \b\b\\ \b\b| \b\b/ \b\b- \b\b\\ \b\b| \b\b/ \b\b- \b\b\\ \b\b| \b\b/ \b\b- \b\b\\ \b\b| \b\b/ \b\b- \b\b\\ \b\b| \b\b/ \b\b- \b\b\\ \b\b| \b\b/ \b\b- \b\b\\ \b\b| \b\b/ \b\b- \b\b\\ \b\b| \b\b/ \b\b- \b\b\\ \b\b| \b\b/ \b\b- \b\b\\ \b\b| \b\b/ \b\b- \b\b\\ \b\b| \b\b/ \b\b- \b\b\\ \b\b| \b\b/ \b\b- \b\b\\ \b\b| \b\b/ \b\b- \b\b\\ \b\b| \b\b/ \b\b- \b\b\\ \b\b| \b\b/ \b\b- \b\b\\ \b\b| \b\b/ \b\b- \b\b\\ \b\b| \b\b/ \b\b- \b\b\\ \b\b| \b\b/ \b\b- \b\b\\ \b\b| \b\b/ \b\b- \b\b\\ \b\b| \b\b/ \b\b- \b\b\\ \b\b| \b\b/ \b\b- \b\b\\ \b\b| \b\b/ \b\b- \b\b\\ \b\b| \b\b/ \b\b- \b\b\\ \b\b| \b\b/ \b\b- \b\b\\ \b\b| \b\b/ \b\b- \b\b\\ \b\b| \b\b/ \b\b- \b\b\\ \b\b| \b\b/ \b\b- \b\b\\ \b\b| \b\b/ \b\b- \b\b\\ \b\b| \b\b/ \b\b- \b\b\\ \b\b| \b\b/ \b\b- \b\b\\ \b\b| \b\b/ \b\b- \b\b\\ \b\b| \b\b/ \b\b- \b\b\\ \b\b| \b\b/ \b\b- \b\b\\ \b\b| \b\b/ \b\b- \b\b\\ \b\b| \b\b/ \b\b- \b\b\\ \b\b| \b\b/ \b\b- \b\b\\ \b\b| \b\b/ \b\b- \b\b\\ \b\b| \b\b/ \b\b- \b\b\\ \b\b| \b\b/ \b\b- \b\b\\ \b\b| \b\b/ \b\b- \b\b\\ \b\b| \b\b/ \b\b- \b\b\\ \b\b| \b\b/ \b\b- \b\b\\ \b\b| \b\b/ \b\b- \b\b\\ \b\b| \b\b/ \b\b- \b\b\\ \b\b| \b\b/ \b\b- \b\b\\ \b\b| \b\b/ \b\b- \b\b\\ \b\b| \b\b/ \b\b- \b\b\\ \b\b| \b\b/ \b\b- \b\b\\ \b\b| \b\b/ \b\b- \b\b\\ \b\b| \b\b/ \b\b- \b\b\\ \b\b| \b\b/ \b\b- \b\b\\ \b\b| \b\b/ \b\b- \b\b\\ \b\b| \b\b/ \b\b- \b\b\\ \b\b| \b\b/ \b\b- \b\b\\ \b\b| \b\b/ \b\b- \b\b\\ \b\b| \b\b/ \b\b- \b\b\\ \b\b| \b\b/ \b\b- \b\b\\ \b\b| \b\b/ \b\b- \b\b\\ \b\b| \b\b/ \b\b- \b\b\\ \b\b| \b\b/ \b\b- \b\b\\ \b\b| \b\b/ \b\b- \b\b\\ \b\b| \b\b/ \b\b- \b\b\\ \b\b| \b\b/ \b\b- \b\b\\ \b\b| \b\b/ \b\b- \b\b\\ \b\b| \b\b/ \b\b- \b\b\\ \b\b| \b\b/ \b\b- \b\b\\ \b\b| \b\b/ \b\b- \b\b\\ \b\b| \b\b/ \b\b- \b\b\\ \b\b| \b\b/ \b\b- \b\b\\ \b\b| \b\b/ \b\b- \b\b\\ \b\b| \b\b/ \b\b- \b\b\\ \b\b| \b\b/ \b\b- \b\b\\ \b\b| \b\b/ \b\b- \b\b\\ \b\b| \b\b/ \b\b- \b\b\\ \b\b| \b\b/ \b\b- \b\b\\ \b\b| \b\b/ \b\b- \b\b\\ \b\b| \b\b/ \b\b- \b\b\\ \b\b| \b\b/ \b\b- \b\b\\ \b\b| \b\b/ \b\b- \b\b\\ \b\b| \b\b/ \b\b- \b\b\\ \b\b| \b\b/ \b\b- \b\b\\ \b\b| \b\b/ \b\b- \b\b\\ \b\b| \b\b/ \b\b- \b\b\\ \b\b| \b\b/ \b\b- \b\b\\ \b\b| \b\b/ \b\b- \b\b\\ \b\b| \b\b/ \b\b- \b\b\\ \b\b| \b\b/ \b\b- \b\b\\ \b\b| \b\b/ \b\b- \b\b\\ \b\b| \b\b/ \b\b- \b\b\\ \b\b| \b\b/ \b\b- \b\b\\ \b\b| \b\b/ \b\b- \b\b\\ \b\b| \b\b/ \b\b- \b\b\\ \b\b| \b\b/ \b\b- \b\b\\ \b\b| \b\b/ \b\b- \b\b\\ \b\b| \b\b/ \b\b- \b\b\\ \b\b| \b\b/ \b\b- \b\b\\ \b\b| \b\b/ \b\b- \b\b\\ \b\b| \b\b/ \b\b- \b\b\\ \b\b| \b\b/ \b\b- \b\b\\ \b\b| \b\b/ \b\b- \b\b\\ \b\b| \b\b/ \b\b- \b\b\\ \b\b| \b\b/ \b\b- \b\b\\ \b\b| \b\b/ \b\b- \b\b\\ \b\b| \b\b/ \b\b- \b\b\\ \b\b| \b\b/ \b\b- \b\b\\ \b\b| \b\b/ \b\b- \b\b\\ \b\b| \b\b/ \b\b- \b\b\\ \b\b| \b\b/ \b\b- \b\b\\ \b\b| \b\b/ \b\b- \b\b\\ \b\b| \b\b/ \b\b- \b\b\\ \b\b| \b\b/ \b\b- \b\b\\ \b\b| \b\b/ \b\b- \b\b\\ \b\b| \b\b/ \b\b- \b\b\\ \b\b| \b\b/ \b\b- \b\b\\ \b\b| \b\b/ \b\b- \b\b\\ \b\b| \b\b/ \b\b- \b\b\\ \b\b| \b\b/ \b\b- \b\b\\ \b\b| \b\b/ \b\b- \b\b\\ \b\b| \b\b/ \b\b- \b\b\\ \b\b| \b\b/ \b\b- \b\b\\ \b\b| \b\b/ \b\b- \b\b\\ \b\b| \b\b/ \b\b- \b\b\\ \b\b| \b\bfailed\n",
      "\n",
      "PackagesNotFoundError: The following packages are not available from current channels:\n",
      "\n",
      "  - reinstall\n",
      "\n",
      "Current channels:\n",
      "\n",
      "  - https://conda.anaconda.org/conda-forge/linux-64\n",
      "  - https://conda.anaconda.org/conda-forge/noarch\n",
      "  - https://repo.anaconda.com/pkgs/main/linux-64\n",
      "  - https://repo.anaconda.com/pkgs/main/noarch\n",
      "  - https://repo.anaconda.com/pkgs/free/linux-64\n",
      "  - https://repo.anaconda.com/pkgs/free/noarch\n",
      "  - https://repo.anaconda.com/pkgs/r/linux-64\n",
      "  - https://repo.anaconda.com/pkgs/r/noarch\n",
      "  - https://repo.anaconda.com/pkgs/pro/linux-64\n",
      "  - https://repo.anaconda.com/pkgs/pro/noarch\n",
      "\n",
      "To search for alternate channels that may provide the conda package you're\n",
      "looking for, navigate to\n",
      "\n",
      "    https://anaconda.org\n",
      "\n",
      "and use the search bar at the top of the page.\n",
      "\n",
      "\n"
     ]
    }
   ],
   "source": [
    "!pip install sklearn --upgrade\n",
    "!pip install numpy --upgrade\n",
    "!pip install pandas --upgrade\n"
   ]
  },
  {
   "cell_type": "code",
   "execution_count": 5,
   "metadata": {},
   "outputs": [
    {
     "name": "stdout",
     "output_type": "stream",
     "text": [
      "\u001b[33mCache entry deserialization failed, entry ignored\u001b[0m\n",
      "Collecting pip\n",
      "  Downloading https://files.pythonhosted.org/packages/d8/f3/413bab4ff08e1fc4828dfc59996d721917df8e8583ea85385d51125dceff/pip-19.0.3-py2.py3-none-any.whl (1.4MB)\n",
      "\u001b[K    100% |████████████████████████████████| 1.4MB 170kB/s ta 0:00:011\n",
      "\u001b[?25hInstalling collected packages: pip\n",
      "  Found existing installation: pip 9.0.1\n",
      "    Uninstalling pip-9.0.1:\n",
      "      Successfully uninstalled pip-9.0.1\n",
      "Successfully installed pip-19.0.3\n",
      "Solving environment: - \b\b\\ \b\b| \b\b/ \b\b- \b\b\\ \b\b| \b\b/ \b\b- \b\b\\ \b\b| \b\b/ \b\b- \b\b\\ \b\b| \b\b/ \b\b- \b\b\\ \b\b| \b\b/ \b\b- \b\b\\ \b\b| \b\b/ \b\b- \b\b\\ \b\b| \b\b/ \b\b- \b\b\\ \b\b| \b\b/ \b\b- \b\b\\ \b\b| \b\b/ \b\b- \b\b\\ \b\b| \b\b/ \b\b- \b\b\\ \b\b| \b\b/ \b\b- \b\b\\ \b\b| \b\b/ \b\b- \b\b\\ \b\b| \b\b/ \b\b- \b\b\\ \b\b| \b\b/ \b\b- \b\b\\ \b\b| \b\b/ \b\b- \b\b\\ \b\b| \b\b/ \b\b- \b\b\\ \b\b| \b\b/ \b\b- \b\b\\ \b\b| \b\b/ \b\b- \b\b\\ \b\b| \b\b/ \b\b- \b\b\\ \b\b| \b\b/ \b\b- \b\b\\ \b\b| \b\b/ \b\b- \b\b\\ \b\b| \b\b/ \b\b- \b\b\\ \b\b| \b\b/ \b\b- \b\b\\ \b\b| \b\b/ \b\b- \b\b\\ \b\b| \b\b/ \b\b- \b\b\\ \b\b| \b\b/ \b\b- \b\b\\ \b\b| \b\b/ \b\b- \b\b\\ \b\b| \b\b/ \b\b- \b\b\\ \b\b| \b\b/ \b\b- \b\b\\ \b\b| \b\b/ \b\b- \b\b\\ \b\b| \b\b/ \b\b- \b\b\\ \b\b| \b\b/ \b\b- \b\b\\ \b\b| \b\b/ \b\b- \b\b\\ \b\b| \b\b/ \b\b- \b\b\\ \b\b| \b\b/ \b\b- \b\b\\ \b\b| \b\b/ \b\b- \b\b\\ \b\b| \b\b/ \b\b- \b\b\\ \b\b| \b\b/ \b\b- \b\b\\ \b\b| \b\b/ \b\b- \b\b\\ \b\b| \b\b/ \b\b- \b\b\\ \b\b| \b\b/ \b\b- \b\b\\ \b\b| \b\b/ \b\b- \b\b\\ \b\b| \b\b/ \b\b- \b\b\\ \b\b| \b\b/ \b\b- \b\b\\ \b\b| \b\b/ \b\b- \b\b\\ \b\b| \b\b/ \b\b- \b\b\\ \b\b| \b\b/ \b\b- \b\b\\ \b\b| \b\b/ \b\b- \b\b\\ \b\b| \b\b/ \b\b- \b\b\\ \b\b| \b\b/ \b\b- \b\b\\ \b\b| \b\b/ \b\b- \b\b\\ \b\b| \b\b/ \b\b- \b\b\\ \b\b| \b\b/ \b\b- \b\b\\ \b\b| \b\b/ \b\b- \b\b\\ \b\b| \b\b/ \b\b- \b\b\\ \b\b| \b\b/ \b\b- \b\b\\ \b\b| \b\b/ \b\b- \b\b\\ \b\b| \b\b/ \b\b- \b\b\\ \b\b| \b\b/ \b\b- \b\b\\ \b\b| \b\b/ \b\b- \b\b\\ \b\b| \b\b/ \b\b- \b\b\\ \b\b| \b\b/ \b\b- \b\b\\ \b\b| \b\b/ \b\b- \b\b\\ \b\b| \b\b/ \b\b- \b\b\\ \b\b| \b\b/ \b\b- \b\b\\ \b\b| \b\b/ \b\bfailed\n",
      "\n",
      "PackagesNotFoundError: The following packages are not available from current channels:\n",
      "\n",
      "  - reinstall\n",
      "\n",
      "Current channels:\n",
      "\n",
      "  - https://conda.anaconda.org/conda-forge/linux-64\n",
      "  - https://conda.anaconda.org/conda-forge/noarch\n",
      "  - https://repo.anaconda.com/pkgs/main/linux-64\n",
      "  - https://repo.anaconda.com/pkgs/main/noarch\n",
      "  - https://repo.anaconda.com/pkgs/free/linux-64\n",
      "  - https://repo.anaconda.com/pkgs/free/noarch\n",
      "  - https://repo.anaconda.com/pkgs/r/linux-64\n",
      "  - https://repo.anaconda.com/pkgs/r/noarch\n",
      "  - https://repo.anaconda.com/pkgs/pro/linux-64\n",
      "  - https://repo.anaconda.com/pkgs/pro/noarch\n",
      "\n",
      "To search for alternate channels that may provide the conda package you're\n",
      "looking for, navigate to\n",
      "\n",
      "    https://anaconda.org\n",
      "\n",
      "and use the search bar at the top of the page.\n",
      "\n",
      "\n"
     ]
    }
   ],
   "source": [
    "!pip install pip --upgrade\n",
    "\n",
    "!conda install numpy \n"
   ]
  },
  {
   "cell_type": "code",
   "execution_count": 4,
   "metadata": {
    "scrolled": false
   },
   "outputs": [
    {
     "ename": "ImportError",
     "evalue": "Missing required dependencies ['numpy']",
     "output_type": "error",
     "traceback": [
      "\u001b[1;31m\u001b[0m",
      "\u001b[1;31mImportError\u001b[0mTraceback (most recent call last)",
      "\u001b[1;32m<ipython-input-4-18da6b0643af>\u001b[0m in \u001b[0;36m<module>\u001b[1;34m()\u001b[0m\n\u001b[1;32m----> 1\u001b[1;33m \u001b[1;32mfrom\u001b[0m \u001b[0mpandas\u001b[0m \u001b[1;32mimport\u001b[0m \u001b[0mDataFrame\u001b[0m\u001b[1;33m\u001b[0m\u001b[0m\n\u001b[0m\u001b[0;32m      2\u001b[0m \u001b[1;32mimport\u001b[0m \u001b[0mnumpy\u001b[0m \u001b[1;32mas\u001b[0m \u001b[0mnp\u001b[0m\u001b[1;33m\u001b[0m\u001b[0m\n\u001b[0;32m      3\u001b[0m \u001b[1;32mimport\u001b[0m \u001b[0mpandas\u001b[0m\u001b[1;33m\u001b[0m\u001b[0m\n\u001b[0;32m      4\u001b[0m \u001b[1;32mfrom\u001b[0m \u001b[0mmatplotlib\u001b[0m \u001b[1;32mimport\u001b[0m \u001b[0mpyplot\u001b[0m \u001b[1;32mas\u001b[0m \u001b[0mplt\u001b[0m\u001b[1;33m\u001b[0m\u001b[0m\n\u001b[0;32m      5\u001b[0m \u001b[1;33m\u001b[0m\u001b[0m\n",
      "\u001b[1;32m/opt/conda/envs/python2/lib/python2.7/site-packages/pandas/__init__.py\u001b[0m in \u001b[0;36m<module>\u001b[1;34m()\u001b[0m\n\u001b[0;32m     17\u001b[0m \u001b[1;32mif\u001b[0m \u001b[0mmissing_dependencies\u001b[0m\u001b[1;33m:\u001b[0m\u001b[1;33m\u001b[0m\u001b[0m\n\u001b[0;32m     18\u001b[0m     raise ImportError(\n\u001b[1;32m---> 19\u001b[1;33m         \"Missing required dependencies {0}\".format(missing_dependencies))\n\u001b[0m\u001b[0;32m     20\u001b[0m \u001b[1;32mdel\u001b[0m \u001b[0mhard_dependencies\u001b[0m\u001b[1;33m,\u001b[0m \u001b[0mdependency\u001b[0m\u001b[1;33m,\u001b[0m \u001b[0mmissing_dependencies\u001b[0m\u001b[1;33m\u001b[0m\u001b[0m\n\u001b[0;32m     21\u001b[0m \u001b[1;33m\u001b[0m\u001b[0m\n",
      "\u001b[1;31mImportError\u001b[0m: Missing required dependencies ['numpy']"
     ]
    }
   ],
   "source": [
    "from pandas import DataFrame\n",
    "import numpy as np\n",
    "import pandas\n",
    "from matplotlib import pyplot as plt\n",
    "\n",
    "import string \n",
    "from scipy.stats import pearsonr\n",
    "from scipy import stats\n",
    "import statsmodels.formula.api as smf\n",
    "import hdbscan\n",
    "from sklearn.cluster import KMeans\n",
    "from scipy.spatial.distance import euclidean\n",
    "\n",
    "pandas.set_option('display.max_columns', None)\n",
    "pandas.set_option('display.max_rows', 20)"
   ]
  },
  {
   "cell_type": "code",
   "execution_count": null,
   "metadata": {
    "scrolled": false
   },
   "outputs": [],
   "source": [
    "# Read raw and bi-symmetric log transformed values\n",
    "df_no_trans = pandas.read_csv(\"cell-ephyz-raw.csv\")\n",
    "df_all =      pandas.read_csv(\"cell-ephyz-transformed.csv\")\n",
    "\n",
    "#Set index to be the model ID\n",
    "df_no_trans.set_index('Unnamed: 0', inplace=True)\n",
    "df_all.set_index('Unnamed: 0', inplace=True)\n",
    "df_no_trans.index.name = df_all.index.name = \"Cell_ID\"\n",
    "\n",
    "#create default cluster path\n",
    "df_all[\"ClusterPath\"] = \"/\"\n",
    "df_all[\"Cluster\"] = -1\n",
    "df_all[\"WasNoise\"] = False"
   ]
  },
  {
   "cell_type": "code",
   "execution_count": null,
   "metadata": {
    "collapsed": true,
    "scrolled": false
   },
   "outputs": [],
   "source": [
    "prop_names = [\n",
    "    'AP1Amplitude',\n",
    "    'AP2Amplitude',\n",
    "    'AP12AmplitudeDrop',\n",
    "    'AP12AmplitudeChangePercent',\n",
    "    'AP1SSAmplitudeChange',  \n",
    "    \n",
    "    'AP1WidthHalfHeight',\n",
    "    'AP2WidthHalfHeight',\n",
    "    'AP12HalfWidthChangePercent',\n",
    "    \n",
    "    'AP1WidthPeakToTrough',\n",
    "    'AP2WidthPeakToTrough',\n",
    "    \n",
    "    'AP1RateOfChangePeakToTrough',\n",
    "    'AP2RateOfChangePeakToTrough',    \n",
    "    'AP12RateOfChangePeakToTroughPercentChange',\n",
    "    \n",
    "    'AP1AHPDepth',\n",
    "    'AP2AHPDepth',\n",
    "    'AP12AHPDepthPercentChange',\n",
    "    \n",
    "    'AP1DelayMean',\n",
    "    'AP2DelayMean',\n",
    "    \n",
    "    'AP1DelaySD',\n",
    "    'AP2DelaySD',\n",
    "    \n",
    "    'AP1DelayMeanStrongStim',\n",
    "    'AP2DelayMeanStrongStim',\n",
    "    \n",
    "    'AP1DelaySDStrongStim',\n",
    "    'AP2DelaySDStrongStim',\n",
    "    \n",
    "    'Burst1ISIMean',\n",
    "    'Burst1ISIMeanStrongStim',\n",
    "    \n",
    "    'Burst1ISISD',\n",
    "    'Burst1ISISDStrongStim',\n",
    "    \n",
    "    'InitialAccommodationMean',\n",
    "    'SSAccommodationMean',\n",
    "    'AccommodationRateToSS',\n",
    "    'AccommodationAtSSMean',\n",
    "    'AccommodationRateMeanAtSS',\n",
    "    \n",
    "    \n",
    "    'ISIMedian',\n",
    "    'ISICV',\n",
    "    'ISIBurstMeanChange',\n",
    "    \n",
    "    'SpikeRateStrongStim',\n",
    "    \n",
    "    'InputResistance',\n",
    "    \n",
    "    'SteadyStateAPs',\n",
    "    \n",
    "    'FrequencyPassAbove',\n",
    "    'FrequencyPassBelow',\n",
    "    \n",
    "    'RampFirstSpike',\n",
    "]"
   ]
  },
  {
   "cell_type": "code",
   "execution_count": null,
   "metadata": {
    "collapsed": true,
    "scrolled": false
   },
   "outputs": [],
   "source": [
    "-\n"
   ]
  },
  {
   "cell_type": "code",
   "execution_count": null,
   "metadata": {},
   "outputs": [],
   "source": [
    "PCA_and_Cluster(parent_path = \"/\", \n",
    "                hide_noise = True, \n",
    "                remove_noise = False, \n",
    "                k_means = False, \n",
    "                interactive=False,\n",
    "                cluster_captions=['AS','npRB','RA','MS'],\n",
    "                axis_captions=['PC1 ~Delay to 1st AP (StDevs)', 'PC2 ~2nd AP Amplitude Change (StDevs)', 'PC3 ~AP Width (StDevs)'])"
   ]
  },
  {
   "cell_type": "code",
   "execution_count": null,
   "metadata": {
    "scrolled": true
   },
   "outputs": [],
   "source": [
    "PCA_and_Cluster(parent_path = \"/3/\", \n",
    "                hide_noise = True, \n",
    "                remove_noise = True, \n",
    "                k_means = False, \n",
    "                interactive=False,\n",
    "                cluster_captions=['awMS','rMS'],\n",
    "                axis_captions=['PC1 ~Delay to 1st AP (StDevs)', 'PC2 ~Accommodation (StDevs)', 'PC3 ~AP Width (StDevs)'])"
   ]
  },
  {
   "cell_type": "code",
   "execution_count": null,
   "metadata": {
    "collapsed": true
   },
   "outputs": [],
   "source": [
    "%matplotlib notebook\n",
    "%matplotlib notebook"
   ]
  },
  {
   "cell_type": "code",
   "execution_count": null,
   "metadata": {},
   "outputs": [],
   "source": [
    "PCA_and_Cluster(parent_path = \"/3/1/\", \n",
    "                hide_noise = False, \n",
    "                remove_noise = True, \n",
    "                k_means = True, \n",
    "                interactive=False,\n",
    "                cluster_captions=['aFS','dRS','naRS','RS','B','FS'],\n",
    "                axis_captions=['PC1 ~Delay to 1st AP (StDevs)', 'PC2 ~Mean ISI (StDevs)', 'PC3 ~Accommodation (StDevs)'])"
   ]
  },
  {
   "cell_type": "code",
   "execution_count": null,
   "metadata": {
    "collapsed": true
   },
   "outputs": [],
   "source": [
    "%matplotlib inline"
   ]
  },
  {
   "cell_type": "code",
   "execution_count": null,
   "metadata": {
    "collapsed": true
   },
   "outputs": [],
   "source": [
    "%matplotlib notebook\n",
    "%matplotlib notebook"
   ]
  },
  {
   "cell_type": "code",
   "execution_count": null,
   "metadata": {},
   "outputs": [],
   "source": [
    "# 3D plot of clusters in RAW feature space\n",
    "source_df = df_all[df_all[\"ClusterPath\"].str.startswith(\"/3/1/\")]\n",
    "#source_df = source_df[source_df[\"WasNoise\"] == False]\n",
    "clusters = source_df[\"Cluster\"]\n",
    "\n",
    "source_df = df_no_trans.ix[source_df.index]\n",
    "\n",
    "cluster_captions=['aFS','dRS','naRS','RS','B','FS']\n",
    "display_props = [\"ISIMedian\",\"AccommodationAtSSMean\",\"AP1DelayMeanStrongStim\"]\n",
    "#display_props = [\"AP1DelayMeanStrongStim\",\"ISIMedian\",\"AccommodationAtSSMean\"]\n",
    "\n",
    "fig = plt.figure(figsize=(12, 10))\n",
    "ax = fig.add_subplot(111, projection='3d')\n",
    "\n",
    "ax.scatter(\n",
    "    source_df[display_props[0]],\n",
    "    source_df[display_props[1]], \n",
    "    source_df[display_props[2]], \n",
    "    depthshade=False,\n",
    "    marker='o', \n",
    "    c=clusters, \n",
    "    cmap='rainbow')\n",
    "\n",
    "ax.set_xlabel(\"Median Interspike Interval (ms)\")\n",
    "ax.set_ylabel(\"Mean Accomodation at Steady State (%)\")\n",
    "ax.set_zlabel(\"Delay to 1st AP (ms)\")\n",
    "\n",
    "ax.set_xlim([0,250])\n",
    "ax.set_ylim([-100,0])\n",
    "ax.set_zlim([0,50])\n",
    "\n",
    "labels = np.unique(clusters)\n",
    "\n",
    "for i, l in enumerate(labels):\n",
    "    X_label = source_df[clusters == l]\n",
    "    center = [np.mean(X_label[prop]) for prop in display_props]\n",
    "    ax.text(center[0],center[1],center[2],cluster_captions[i],size=20)\n",
    "\n",
    "plt.tight_layout()\n",
    "\n",
    "plt.show() "
   ]
  },
  {
   "cell_type": "code",
   "execution_count": null,
   "metadata": {
    "collapsed": true
   },
   "outputs": [],
   "source": [
    "def plot_tetrahedron_projection(dim_x = 1, dim_y = 2, invert_x=False):\n",
    "    %matplotlib inline\n",
    "\n",
    "    ax_labels = [\"Median Interspike Interval (ms)\", \n",
    "                 \"Mean Accomodation at Steady State (%)\", \n",
    "                 \"Delay to 1st AP (ms)\"]\n",
    "\n",
    "    fig = plt.figure()#figsize=(12, 10))\n",
    "    ax = fig.add_subplot(111)\n",
    "\n",
    "    ax.scatter(\n",
    "        source_df[display_props[dim_x]],\n",
    "        source_df[display_props[dim_y]], \n",
    "        marker='o', \n",
    "        c=clusters, \n",
    "        cmap='rainbow')\n",
    "\n",
    "    ax.set_xlabel(ax_labels[dim_x])\n",
    "    ax.set_ylabel(ax_labels[dim_y])\n",
    "\n",
    "    labels = np.unique(clusters)\n",
    "\n",
    "    for i, l in enumerate(labels):\n",
    "        X_label = source_df[clusters == l]\n",
    "        center = [np.mean(X_label[prop]) for prop in display_props]\n",
    "        ax.text(center[dim_x],center[dim_y],cluster_captions[i],size=12,backgroundcolor=\"#2E917A\",color=\"w\",bbox={'linewidth':0,'alpha':0.75})\n",
    "        \n",
    "\n",
    "    plt.tight_layout()\n",
    "\n",
    "    if invert_x:\n",
    "        plt.gca().invert_xaxis()\n",
    "\n",
    "    plt.show() "
   ]
  },
  {
   "cell_type": "code",
   "execution_count": null,
   "metadata": {},
   "outputs": [],
   "source": [
    "plot_tetrahedron_projection(0,1)\n",
    "plot_tetrahedron_projection(0,2)\n",
    "plot_tetrahedron_projection(1,2,True)"
   ]
  },
  {
   "cell_type": "code",
   "execution_count": null,
   "metadata": {
    "scrolled": false
   },
   "outputs": [],
   "source": [
    "#CLUSTER naRS RELATIONSHIP EXAMPLES\n",
    "#display_props = [\"ISIMedian\",\"AccommodationAtSSMean\",\"AP1DelayMeanStrongStim\"]\n",
    "\n",
    "min_x = source_df.ix[np.where(clusters == 1)][\"AccommodationAtSSMean\"].min()\n",
    "print(source_df[source_df[\"AccommodationAtSSMean\"] == min_x][\"AP1DelayMeanStrongStim\"])\n",
    "\n",
    "max_x = source_df.ix[np.where(clusters == 1)][\"AccommodationAtSSMean\"].max()\n",
    "print(source_df[source_df[\"AccommodationAtSSMean\"] == max_x][\"AP1DelayMeanStrongStim\"])"
   ]
  },
  {
   "cell_type": "code",
   "execution_count": null,
   "metadata": {
    "scrolled": false
   },
   "outputs": [],
   "source": [
    "#CLUSTER dRS RELATIONSHIP EXAMPLES\n",
    "#display_props = [\"ISIMedian\",\"AccommodationAtSSMean\",\"AP1DelayMeanStrongStim\"]\n",
    "\n",
    "min_x = source_df.ix[np.where(clusters == 2)][\"ISIMedian\"].min()\n",
    "print(source_df[source_df[\"ISIMedian\"] == min_x][\"AP1DelayMeanStrongStim\"])\n",
    "\n",
    "max_x = source_df.ix[np.where(clusters == 2)][\"ISIMedian\"].max()\n",
    "print(source_df[source_df[\"ISIMedian\"] == max_x][\"AP1DelayMeanStrongStim\"])"
   ]
  },
  {
   "cell_type": "code",
   "execution_count": null,
   "metadata": {},
   "outputs": [],
   "source": [
    "from manager import ModelManager\n",
    "from tables import Cells, Model_Waveforms, Models\n",
    "\n",
    "import manager\n",
    "reload(manager)\n",
    "mgr = ModelManager()\n",
    "mgr.server.connect()"
   ]
  },
  {
   "cell_type": "code",
   "execution_count": null,
   "metadata": {
    "collapsed": true
   },
   "outputs": [],
   "source": [
    "# Update database with cluster assignments\n",
    "cell_records = list(Cells\\\n",
    "    .select(Cells,Model_Waveforms.Spikes,Models.Name)\\\n",
    "    .join(Model_Waveforms, on=(Cells.Model_ID == Model_Waveforms.Model_id))\\\n",
    "    .join(Models, on=(Cells.Model_ID == Models.Model_ID))\\\n",
    "    .where((Model_Waveforms.Protocol == \"STEADY_STATE\") & (Model_Waveforms.Variable_Name == \"Voltage\"))\\\n",
    "    .order_by(Cells.Model_ID)\n",
    ")\n",
    "   \n",
    "for cell_id in df_all.index:\n",
    "    cell = next(cell for cell in cell_records if cell.Model_ID == cell_id)\n",
    "    cell.Ephyz_Cluster_ID = df_all.loc[cell_id][\"ClusterPath\"]\n",
    "    \n",
    "with mgr.server.db.atomic():\n",
    "    for cell_id in df_all.index:\n",
    "        cell = next(cell for cell in cell_records if cell.Model_ID == cell_id)\n",
    "        cell.save()\n",
    "        print(cell_id)\n",
    "    \n",
    "    print('saving...')"
   ]
  },
  {
   "cell_type": "code",
   "execution_count": null,
   "metadata": {
    "collapsed": true
   },
   "outputs": [],
   "source": []
  },
  {
   "cell_type": "code",
   "execution_count": null,
   "metadata": {
    "collapsed": true
   },
   "outputs": [],
   "source": []
  }
 ],
 "metadata": {
  "kernelspec": {
   "display_name": "Python 3",
   "language": "python",
   "name": "python3"
  },
  "language_info": {
   "codemirror_mode": {
    "name": "ipython",
    "version": 3
   },
   "file_extension": ".py",
   "mimetype": "text/x-python",
   "name": "python",
   "nbconvert_exporter": "python",
   "pygments_lexer": "ipython3",
   "version": "3.6.5"
  }
 },
 "nbformat": 4,
 "nbformat_minor": 2
}
