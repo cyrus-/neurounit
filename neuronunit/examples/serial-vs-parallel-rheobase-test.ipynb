{
 "cells": [
  {
   "cell_type": "code",
   "execution_count": 1,
   "metadata": {},
   "outputs": [
    {
     "name": "stderr",
     "output_type": "stream",
     "text": [
      "/home/rgerkin/miniconda3/lib/python3.6/site-packages/PyNN-0.9.3-py3.6.egg/pyNN/neuron/__init__.py:14: UserWarning: mpi4py not available\n",
      "  warnings.warn(\"mpi4py not available\")\n"
     ]
    }
   ],
   "source": [
    "%matplotlib inline\n",
    "%load_ext autoreload\n",
    "%autoreload 2\n",
    "import quantities as pq\n",
    "import neuronunit.unit_test.test_tests as x"
   ]
  },
  {
   "cell_type": "markdown",
   "metadata": {},
   "source": [
    "### Serial rheobase test"
   ]
  },
  {
   "cell_type": "code",
   "execution_count": 2,
   "metadata": {},
   "outputs": [
    {
     "ename": "AttributeError",
     "evalue": "'HHpyNNBackend' object has no attribute 'dt'",
     "output_type": "error",
     "traceback": [
      "\u001b[0;31m---------------------------------------------------------------------------\u001b[0m",
      "\u001b[0;31mAttributeError\u001b[0m                            Traceback (most recent call last)",
      "\u001b[0;32m<ipython-input-2-3daa6ec2452d>\u001b[0m in \u001b[0;36m<module>\u001b[0;34m\u001b[0m\n\u001b[1;32m      1\u001b[0m modelS, testS = x.quick_test_builder(test_class=\"RheobaseTest\", \n\u001b[0;32m----> 2\u001b[0;31m                                      backend='HHpyNN')\n\u001b[0m\u001b[1;32m      3\u001b[0m \u001b[0mscoreS\u001b[0m \u001b[0;34m=\u001b[0m \u001b[0mtestS\u001b[0m\u001b[0;34m.\u001b[0m\u001b[0mjudge\u001b[0m\u001b[0;34m(\u001b[0m\u001b[0mmodelS\u001b[0m\u001b[0;34m)\u001b[0m\u001b[0;34m\u001b[0m\u001b[0;34m\u001b[0m\u001b[0m\n\u001b[1;32m      4\u001b[0m \u001b[0mscoreS\u001b[0m\u001b[0;34m,\u001b[0m \u001b[0mscoreS\u001b[0m\u001b[0;34m.\u001b[0m\u001b[0mprediction\u001b[0m\u001b[0;34m\u001b[0m\u001b[0;34m\u001b[0m\u001b[0m\n",
      "\u001b[0;32m/mnt/d/Dropbox (ASU)/dev/scidash/neuronunit/neuronunit/unit_test/test_tests.py\u001b[0m in \u001b[0;36mquick_test_builder\u001b[0;34m(test_class, backend)\u001b[0m\n\u001b[1;32m     14\u001b[0m             \u001b[0mtest_class\u001b[0m \u001b[0;34m=\u001b[0m \u001b[0mnu_tests\u001b[0m\u001b[0;34m.\u001b[0m\u001b[0m__dict__\u001b[0m\u001b[0;34m[\u001b[0m\u001b[0mtest_class\u001b[0m\u001b[0;34m]\u001b[0m\u001b[0;34m\u001b[0m\u001b[0;34m\u001b[0m\u001b[0m\n\u001b[1;32m     15\u001b[0m     \u001b[0mpath\u001b[0m \u001b[0;34m=\u001b[0m \u001b[0mos\u001b[0m\u001b[0;34m.\u001b[0m\u001b[0mpath\u001b[0m\u001b[0;34m.\u001b[0m\u001b[0mjoin\u001b[0m\u001b[0;34m(\u001b[0m\u001b[0mNU_HOME\u001b[0m\u001b[0;34m,\u001b[0m \u001b[0;34m'models/NeuroML2/LEMS_2007One.xml'\u001b[0m\u001b[0;34m)\u001b[0m\u001b[0;34m\u001b[0m\u001b[0;34m\u001b[0m\u001b[0m\n\u001b[0;32m---> 16\u001b[0;31m     \u001b[0mmodel\u001b[0m \u001b[0;34m=\u001b[0m \u001b[0mReducedModel\u001b[0m\u001b[0;34m(\u001b[0m\u001b[0mpath\u001b[0m\u001b[0;34m,\u001b[0m \u001b[0mbackend\u001b[0m\u001b[0;34m=\u001b[0m\u001b[0mbackend\u001b[0m\u001b[0;34m)\u001b[0m\u001b[0;34m\u001b[0m\u001b[0;34m\u001b[0m\u001b[0m\n\u001b[0m\u001b[1;32m     17\u001b[0m     observation = test_class.neuroelectro_summary_observation(\n\u001b[1;32m     18\u001b[0m                   {'nlex_id': 'nifext_50'})\n",
      "\u001b[0;32m/mnt/d/Dropbox (ASU)/dev/scidash/neuronunit/neuronunit/models/reduced.py\u001b[0m in \u001b[0;36m__init__\u001b[0;34m(self, LEMS_file_path, name, backend, attrs)\u001b[0m\n\u001b[1;32m     25\u001b[0m \u001b[0;34m\u001b[0m\u001b[0m\n\u001b[1;32m     26\u001b[0m         super(ReducedModel, self).__init__(LEMS_file_path, name=name,\n\u001b[0;32m---> 27\u001b[0;31m                                            backend=backend, attrs=attrs)\n\u001b[0m\u001b[1;32m     28\u001b[0m         \u001b[0mself\u001b[0m\u001b[0;34m.\u001b[0m\u001b[0mrun_number\u001b[0m \u001b[0;34m=\u001b[0m \u001b[0;36m0\u001b[0m\u001b[0;34m\u001b[0m\u001b[0;34m\u001b[0m\u001b[0m\n\u001b[1;32m     29\u001b[0m         \u001b[0mself\u001b[0m\u001b[0;34m.\u001b[0m\u001b[0mtstop\u001b[0m \u001b[0;34m=\u001b[0m \u001b[0;32mNone\u001b[0m\u001b[0;34m\u001b[0m\u001b[0;34m\u001b[0m\u001b[0m\n",
      "\u001b[0;32m/mnt/d/Dropbox (ASU)/dev/scidash/neuronunit/neuronunit/models/lems.py\u001b[0m in \u001b[0;36m__init__\u001b[0;34m(self, LEMS_file_path, name, backend, attrs)\u001b[0m\n\u001b[1;32m     32\u001b[0m         \u001b[0;32mif\u001b[0m \u001b[0mbackend\u001b[0m \u001b[0;32mis\u001b[0m \u001b[0;32mNone\u001b[0m\u001b[0;34m:\u001b[0m\u001b[0;34m\u001b[0m\u001b[0;34m\u001b[0m\u001b[0m\n\u001b[1;32m     33\u001b[0m             \u001b[0mbackend\u001b[0m \u001b[0;34m=\u001b[0m \u001b[0;34m'jNeuroML'\u001b[0m\u001b[0;34m\u001b[0m\u001b[0;34m\u001b[0m\u001b[0m\n\u001b[0;32m---> 34\u001b[0;31m         \u001b[0msuper\u001b[0m\u001b[0;34m(\u001b[0m\u001b[0mLEMSModel\u001b[0m\u001b[0;34m,\u001b[0m \u001b[0mself\u001b[0m\u001b[0;34m)\u001b[0m\u001b[0;34m.\u001b[0m\u001b[0m__init__\u001b[0m\u001b[0;34m(\u001b[0m\u001b[0mname\u001b[0m\u001b[0;34m,\u001b[0m \u001b[0mbackend\u001b[0m\u001b[0;34m=\u001b[0m\u001b[0mbackend\u001b[0m\u001b[0;34m,\u001b[0m \u001b[0mattrs\u001b[0m\u001b[0;34m=\u001b[0m\u001b[0mattrs\u001b[0m\u001b[0;34m)\u001b[0m\u001b[0;34m\u001b[0m\u001b[0;34m\u001b[0m\u001b[0m\n\u001b[0m\u001b[1;32m     35\u001b[0m         \u001b[0mself\u001b[0m\u001b[0;34m.\u001b[0m\u001b[0mset_default_run_params\u001b[0m\u001b[0;34m(\u001b[0m\u001b[0;34m**\u001b[0m\u001b[0mpynml\u001b[0m\u001b[0;34m.\u001b[0m\u001b[0mDEFAULTS\u001b[0m\u001b[0;34m)\u001b[0m\u001b[0;34m\u001b[0m\u001b[0;34m\u001b[0m\u001b[0m\n\u001b[1;32m     36\u001b[0m         \u001b[0mself\u001b[0m\u001b[0;34m.\u001b[0m\u001b[0mset_default_run_params\u001b[0m\u001b[0;34m(\u001b[0m\u001b[0mnogui\u001b[0m\u001b[0;34m=\u001b[0m\u001b[0;32mTrue\u001b[0m\u001b[0;34m)\u001b[0m\u001b[0;34m\u001b[0m\u001b[0;34m\u001b[0m\u001b[0m\n",
      "\u001b[0;32m/mnt/d/Dropbox (ASU)/dev/scidash/sciunit/sciunit/models/runnable.py\u001b[0m in \u001b[0;36m__init__\u001b[0;34m(self, name, backend, attrs)\u001b[0m\n\u001b[1;32m     24\u001b[0m             \u001b[0;32mraise\u001b[0m \u001b[0mTypeError\u001b[0m\u001b[0;34m(\u001b[0m\u001b[0;34m\"Model 'attrs' must be a dictionary.\"\u001b[0m\u001b[0;34m)\u001b[0m\u001b[0;34m\u001b[0m\u001b[0;34m\u001b[0m\u001b[0m\n\u001b[1;32m     25\u001b[0m         \u001b[0mself\u001b[0m\u001b[0;34m.\u001b[0m\u001b[0mattrs\u001b[0m \u001b[0;34m=\u001b[0m \u001b[0mattrs\u001b[0m \u001b[0;32mif\u001b[0m \u001b[0mattrs\u001b[0m \u001b[0;32melse\u001b[0m \u001b[0;34m{\u001b[0m\u001b[0;34m}\u001b[0m\u001b[0;34m\u001b[0m\u001b[0;34m\u001b[0m\u001b[0m\n\u001b[0;32m---> 26\u001b[0;31m         \u001b[0mself\u001b[0m\u001b[0;34m.\u001b[0m\u001b[0mset_backend\u001b[0m\u001b[0;34m(\u001b[0m\u001b[0mbackend\u001b[0m\u001b[0;34m)\u001b[0m\u001b[0;34m\u001b[0m\u001b[0;34m\u001b[0m\u001b[0m\n\u001b[0m\u001b[1;32m     27\u001b[0m         \u001b[0mself\u001b[0m\u001b[0;34m.\u001b[0m\u001b[0muse_default_run_params\u001b[0m\u001b[0;34m(\u001b[0m\u001b[0;34m)\u001b[0m\u001b[0;34m\u001b[0m\u001b[0;34m\u001b[0m\u001b[0m\n\u001b[1;32m     28\u001b[0m \u001b[0;34m\u001b[0m\u001b[0m\n",
      "\u001b[0;32m/mnt/d/Dropbox (ASU)/dev/scidash/sciunit/sciunit/models/runnable.py\u001b[0m in \u001b[0;36mset_backend\u001b[0;34m(self, backend)\u001b[0m\n\u001b[1;32m     62\u001b[0m                             % name)\n\u001b[1;32m     63\u001b[0m         \u001b[0mself\u001b[0m\u001b[0;34m.\u001b[0m\u001b[0m_backend\u001b[0m\u001b[0;34m.\u001b[0m\u001b[0mmodel\u001b[0m \u001b[0;34m=\u001b[0m \u001b[0mself\u001b[0m\u001b[0;34m\u001b[0m\u001b[0;34m\u001b[0m\u001b[0m\n\u001b[0;32m---> 64\u001b[0;31m         \u001b[0mself\u001b[0m\u001b[0;34m.\u001b[0m\u001b[0m_backend\u001b[0m\u001b[0;34m.\u001b[0m\u001b[0minit_backend\u001b[0m\u001b[0;34m(\u001b[0m\u001b[0;34m*\u001b[0m\u001b[0margs\u001b[0m\u001b[0;34m,\u001b[0m \u001b[0;34m**\u001b[0m\u001b[0mkwargs\u001b[0m\u001b[0;34m)\u001b[0m\u001b[0;34m\u001b[0m\u001b[0;34m\u001b[0m\u001b[0m\n\u001b[0m\u001b[1;32m     65\u001b[0m \u001b[0;34m\u001b[0m\u001b[0m\n\u001b[1;32m     66\u001b[0m     \u001b[0;32mdef\u001b[0m \u001b[0mrun\u001b[0m\u001b[0;34m(\u001b[0m\u001b[0mself\u001b[0m\u001b[0;34m,\u001b[0m \u001b[0;34m**\u001b[0m\u001b[0mrun_params\u001b[0m\u001b[0;34m)\u001b[0m\u001b[0;34m:\u001b[0m\u001b[0;34m\u001b[0m\u001b[0;34m\u001b[0m\u001b[0m\n",
      "\u001b[0;32m/mnt/d/Dropbox (ASU)/dev/scidash/neuronunit/neuronunit/models/backends/general_pyNN.py\u001b[0m in \u001b[0;36minit_backend\u001b[0;34m(self, attrs, cell_name, current_src_name, DTC, dt)\u001b[0m\n\u001b[1;32m     66\u001b[0m         \u001b[0;31m#if DTC is not None:\u001b[0m\u001b[0;34m\u001b[0m\u001b[0;34m\u001b[0m\u001b[0;34m\u001b[0m\u001b[0m\n\u001b[1;32m     67\u001b[0m         \u001b[0;31m#    self.set_attrs(**DTC.attrs)\u001b[0m\u001b[0;34m\u001b[0m\u001b[0;34m\u001b[0m\u001b[0;34m\u001b[0m\u001b[0m\n\u001b[0;32m---> 68\u001b[0;31m         \u001b[0msuper\u001b[0m\u001b[0;34m(\u001b[0m\u001b[0mHHpyNNBackend\u001b[0m\u001b[0;34m,\u001b[0m \u001b[0mself\u001b[0m\u001b[0;34m)\u001b[0m\u001b[0;34m.\u001b[0m\u001b[0minit_backend\u001b[0m\u001b[0;34m(\u001b[0m\u001b[0;34m)\u001b[0m\u001b[0;31m#*args, **kwargs)\u001b[0m\u001b[0;34m\u001b[0m\u001b[0;34m\u001b[0m\u001b[0m\n\u001b[0m\u001b[1;32m     69\u001b[0m \u001b[0;34m\u001b[0m\u001b[0m\n\u001b[1;32m     70\u001b[0m     \u001b[0;32mdef\u001b[0m \u001b[0mget_membrane_potential\u001b[0m\u001b[0;34m(\u001b[0m\u001b[0mself\u001b[0m\u001b[0;34m)\u001b[0m\u001b[0;34m:\u001b[0m\u001b[0;34m\u001b[0m\u001b[0;34m\u001b[0m\u001b[0m\n",
      "\u001b[0;32m/mnt/d/Dropbox (ASU)/dev/scidash/sciunit/sciunit/models/backends.py\u001b[0m in \u001b[0;36minit_backend\u001b[0;34m(self, *args, **kwargs)\u001b[0m\n\u001b[1;32m     41\u001b[0m         \u001b[0;32mif\u001b[0m \u001b[0mself\u001b[0m\u001b[0;34m.\u001b[0m\u001b[0muse_disk_cache\u001b[0m\u001b[0;34m:\u001b[0m\u001b[0;34m\u001b[0m\u001b[0;34m\u001b[0m\u001b[0m\n\u001b[1;32m     42\u001b[0m             \u001b[0mself\u001b[0m\u001b[0;34m.\u001b[0m\u001b[0minit_disk_cache\u001b[0m\u001b[0;34m(\u001b[0m\u001b[0;34m)\u001b[0m\u001b[0;34m\u001b[0m\u001b[0;34m\u001b[0m\u001b[0m\n\u001b[0;32m---> 43\u001b[0;31m         \u001b[0mself\u001b[0m\u001b[0;34m.\u001b[0m\u001b[0mload_model\u001b[0m\u001b[0;34m(\u001b[0m\u001b[0;34m)\u001b[0m\u001b[0;34m\u001b[0m\u001b[0;34m\u001b[0m\u001b[0m\n\u001b[0m\u001b[1;32m     44\u001b[0m         \u001b[0mself\u001b[0m\u001b[0;34m.\u001b[0m\u001b[0mmodel\u001b[0m\u001b[0;34m.\u001b[0m\u001b[0munpicklable\u001b[0m \u001b[0;34m+=\u001b[0m \u001b[0;34m[\u001b[0m\u001b[0;34m'_backend'\u001b[0m\u001b[0;34m]\u001b[0m\u001b[0;34m\u001b[0m\u001b[0;34m\u001b[0m\u001b[0m\n\u001b[1;32m     45\u001b[0m \u001b[0;34m\u001b[0m\u001b[0m\n",
      "\u001b[0;32m/mnt/d/Dropbox (ASU)/dev/scidash/neuronunit/neuronunit/models/backends/general_pyNN.py\u001b[0m in \u001b[0;36mload_model\u001b[0;34m(self)\u001b[0m\n\u001b[1;32m    118\u001b[0m         \u001b[0;32melif\u001b[0m \u001b[0mself\u001b[0m\u001b[0;34m.\u001b[0m\u001b[0mIz\u001b[0m\u001b[0;34m:\u001b[0m\u001b[0;34m\u001b[0m\u001b[0;34m\u001b[0m\u001b[0m\n\u001b[1;32m    119\u001b[0m             \u001b[0mself\u001b[0m\u001b[0;34m.\u001b[0m\u001b[0mhhcell\u001b[0m \u001b[0;34m=\u001b[0m \u001b[0mneuron\u001b[0m\u001b[0;34m.\u001b[0m\u001b[0mcreate\u001b[0m\u001b[0;34m(\u001b[0m\u001b[0mEIF_cond_exp_isfa_ista\u001b[0m\u001b[0;34m(\u001b[0m\u001b[0;34m)\u001b[0m\u001b[0;34m)\u001b[0m\u001b[0;34m\u001b[0m\u001b[0;34m\u001b[0m\u001b[0m\n\u001b[0;32m--> 120\u001b[0;31m         \u001b[0mneuron\u001b[0m\u001b[0;34m.\u001b[0m\u001b[0msetup\u001b[0m\u001b[0;34m(\u001b[0m\u001b[0mtimestep\u001b[0m\u001b[0;34m=\u001b[0m\u001b[0mself\u001b[0m\u001b[0;34m.\u001b[0m\u001b[0mdt\u001b[0m\u001b[0;34m,\u001b[0m \u001b[0mmin_delay\u001b[0m\u001b[0;34m=\u001b[0m\u001b[0;36m1.0\u001b[0m\u001b[0;34m)\u001b[0m\u001b[0;34m\u001b[0m\u001b[0;34m\u001b[0m\u001b[0m\n\u001b[0m\u001b[1;32m    121\u001b[0m \u001b[0;34m\u001b[0m\u001b[0m\n\u001b[1;32m    122\u001b[0m \u001b[0;34m\u001b[0m\u001b[0m\n",
      "\u001b[0;31mAttributeError\u001b[0m: 'HHpyNNBackend' object has no attribute 'dt'"
     ]
    }
   ],
   "source": [
    "modelS, testS = x.quick_test_builder(test_class=\"RheobaseTest\", \n",
    "                                     backend='HHpyNN')\n",
    "scoreS = testS.judge(modelS)\n",
    "scoreS, scoreS.prediction"
   ]
  },
  {
   "cell_type": "code",
   "execution_count": 8,
   "metadata": {},
   "outputs": [
    {
     "ename": "NameError",
     "evalue": "name 'modelS' is not defined",
     "output_type": "error",
     "traceback": [
      "\u001b[0;31m---------------------------------------------------------------------------\u001b[0m",
      "\u001b[0;31mNameError\u001b[0m                                 Traceback (most recent call last)",
      "\u001b[0;32m<ipython-input-8-11d538780c06>\u001b[0m in \u001b[0;36m<module>\u001b[0;34m\u001b[0m\n\u001b[0;32m----> 1\u001b[0;31m \u001b[0mmodelS\u001b[0m\u001b[0;34m\u001b[0m\u001b[0;34m\u001b[0m\u001b[0m\n\u001b[0m",
      "\u001b[0;31mNameError\u001b[0m: name 'modelS' is not defined"
     ]
    }
   ],
   "source": [
    "modelS"
   ]
  },
  {
   "cell_type": "code",
   "execution_count": 3,
   "metadata": {},
   "outputs": [
    {
     "data": {
      "image/png": "[encoded data removed]",
      "text/plain": [
       "<matplotlib.figure.Figure at 0x7f6a7439a240>"
      ]
     },
     "metadata": {},
     "output_type": "display_data"
    }
   ],
   "source": [
    "scoreS.plot_vm()"
   ]
  },
  {
   "cell_type": "code",
   "execution_count": 4,
   "metadata": {},
   "outputs": [
    {
     "name": "stdout",
     "output_type": "stream",
     "text": [
      "Getting Rheobase data values from neuroelectro.org\n",
      "http://neuroelectro.org/api/1/nes/?nlex=nifext_50&e__name=Rheobase\n"
     ]
    },
    {
     "name": "stderr",
     "output_type": "stream",
     "text": [
      "INFO:PyNN:Initializing membrane potential of 0 cells and 0 Populations.\n"
     ]
    },
    {
     "name": "stdout",
     "output_type": "stream",
     "text": [
      "RS_pop[0] { nseg=1  L=10  Ra=35.4\n",
      "\t/*location 0 attached to cell 0*/\n",
      "\t/* First segment only */\n",
      "\tinsert morphology { diam=10}\n",
      "\tinsert capacitance { cm=31.831}\n",
      "\tinsert RS { v0=-60 k=0.0007 vr=-60 vt=-40 vpeak=35 a=0.03 b=-0.002 c=-50 d=0.1 C=0.0001}\n",
      "\tinsert RS_Iext { weight=1 delay=100 duration=1000 amplitude=0.3}\n",
      "}\n",
      "RS_pop[0] { nseg=1  L=10  Ra=35.4\n",
      "\t/*location 0 attached to cell 0*/\n",
      "\t/* First segment only */\n",
      "\tinsert morphology { diam=10}\n",
      "\tinsert capacitance { cm=31.831}\n",
      "\tinsert RS { v0=-60 k=0.0007 vr=-60 vt=-40 vpeak=35 a=0.03 b=-0.002 c=-50 d=0.1 C=0.0001}\n",
      "\tinsert RS_Iext { weight=1 delay=100 duration=1000 amplitude=0.3}\n",
      "}\n"
     ]
    },
    {
     "name": "stderr",
     "output_type": "stream",
     "text": [
      "INFO:PyNN:Initializing membrane potential of 0 cells and 0 Populations.\n",
      "INFO:PyNN:Initializing membrane potential of 0 cells and 0 Populations.\n",
      "INFO:PyNN:Initializing membrane potential of 0 cells and 0 Populations.\n"
     ]
    },
    {
     "name": "stdout",
     "output_type": "stream",
     "text": [
      "RS_pop[0] { nseg=1  L=10  Ra=35.4\n",
      "\t/*location 0 attached to cell 0*/\n",
      "\t/* First segment only */\n",
      "\tinsert morphology { diam=10}\n",
      "\tinsert capacitance { cm=31.831}\n",
      "\tinsert RS { v0=-60 k=0.0007 vr=-60 vt=-40 vpeak=35 a=0.03 b=-0.002 c=-50 d=0.1 C=0.0001}\n",
      "\tinsert RS_Iext { weight=1 delay=100 duration=1000 amplitude=-0}\n",
      "}\n",
      "RS_pop[0] { nseg=1  L=10  Ra=35.4\n",
      "\t/*location 0 attached to cell 0*/\n",
      "\t/* First segment only */\n",
      "\tinsert morphology { diam=10}\n",
      "\tinsert capacitance { cm=31.831}\n",
      "\tinsert RS { v0=-60 k=0.0007 vr=-60 vt=-40 vpeak=35 a=0.03 b=-0.002 c=-50 d=0.1 C=0.0001}\n",
      "\tinsert RS_Iext { weight=1 delay=100 duration=1000 amplitude=-0}\n",
      "}\n"
     ]
    },
    {
     "name": "stderr",
     "output_type": "stream",
     "text": [
      "INFO:PyNN:Initializing membrane potential of 0 cells and 0 Populations.\n",
      "INFO:PyNN:Initializing membrane potential of 0 cells and 0 Populations.\n"
     ]
    },
    {
     "name": "stdout",
     "output_type": "stream",
     "text": [
      "RS_pop[0] { nseg=1  L=10  Ra=35.4\n",
      "\t/*location 0 attached to cell 0*/\n",
      "\t/* First segment only */\n",
      "\tinsert morphology { diam=10}\n",
      "\tinsert capacitance { cm=31.831}\n",
      "\tinsert RS { v0=-60 k=0.0007 vr=-60 vt=-40 vpeak=35 a=0.03 b=-0.002 c=-50 d=0.1 C=0.0001}\n",
      "\tinsert RS_Iext { weight=1 delay=100 duration=1000 amplitude=0.15}\n",
      "}\n",
      "RS_pop[0] { nseg=1  L=10  Ra=35.4\n",
      "\t/*location 0 attached to cell 0*/\n",
      "\t/* First segment only */\n",
      "\tinsert morphology { diam=10}\n",
      "\tinsert capacitance { cm=31.831}\n",
      "\tinsert RS { v0=-60 k=0.0007 vr=-60 vt=-40 vpeak=35 a=0.03 b=-0.002 c=-50 d=0.1 C=0.0001}\n",
      "\tinsert RS_Iext { weight=1 delay=100 duration=1000 amplitude=0.15}\n",
      "}\n"
     ]
    },
    {
     "name": "stderr",
     "output_type": "stream",
     "text": [
      "INFO:PyNN:Initializing membrane potential of 0 cells and 0 Populations.\n",
      "INFO:PyNN:Initializing membrane potential of 0 cells and 0 Populations.\n",
      "INFO:PyNN:Initializing membrane potential of 0 cells and 0 Populations.\n"
     ]
    },
    {
     "name": "stdout",
     "output_type": "stream",
     "text": [
      "RS_pop[0] { nseg=1  L=10  Ra=35.4\n",
      "\t/*location 0 attached to cell 0*/\n",
      "\t/* First segment only */\n",
      "\tinsert morphology { diam=10}\n",
      "\tinsert capacitance { cm=31.831}\n",
      "\tinsert RS { v0=-60 k=0.0007 vr=-60 vt=-40 vpeak=35 a=0.03 b=-0.002 c=-50 d=0.1 C=0.0001}\n",
      "\tinsert RS_Iext { weight=1 delay=100 duration=1000 amplitude=0.075}\n",
      "}\n",
      "RS_pop[0] { nseg=1  L=10  Ra=35.4\n",
      "\t/*location 0 attached to cell 0*/\n",
      "\t/* First segment only */\n",
      "\tinsert morphology { diam=10}\n",
      "\tinsert capacitance { cm=31.831}\n",
      "\tinsert RS { v0=-60 k=0.0007 vr=-60 vt=-40 vpeak=35 a=0.03 b=-0.002 c=-50 d=0.1 C=0.0001}\n",
      "\tinsert RS_Iext { weight=1 delay=100 duration=1000 amplitude=0.075}\n",
      "}\n"
     ]
    },
    {
     "name": "stderr",
     "output_type": "stream",
     "text": [
      "INFO:PyNN:Initializing membrane potential of 0 cells and 0 Populations.\n",
      "INFO:PyNN:Initializing membrane potential of 0 cells and 0 Populations.\n",
      "INFO:PyNN:Initializing membrane potential of 0 cells and 0 Populations.\n"
     ]
    },
    {
     "name": "stdout",
     "output_type": "stream",
     "text": [
      "RS_pop[0] { nseg=1  L=10  Ra=35.4\n",
      "\t/*location 0 attached to cell 0*/\n",
      "\t/* First segment only */\n",
      "\tinsert morphology { diam=10}\n",
      "\tinsert capacitance { cm=31.831}\n",
      "\tinsert RS { v0=-60 k=0.0007 vr=-60 vt=-40 vpeak=35 a=0.03 b=-0.002 c=-50 d=0.1 C=0.0001}\n",
      "\tinsert RS_Iext { weight=1 delay=100 duration=1000 amplitude=0.0375}\n",
      "}\n",
      "RS_pop[0] { nseg=1  L=10  Ra=35.4\n",
      "\t/*location 0 attached to cell 0*/\n",
      "\t/* First segment only */\n",
      "\tinsert morphology { diam=10}\n",
      "\tinsert capacitance { cm=31.831}\n",
      "\tinsert RS { v0=-60 k=0.0007 vr=-60 vt=-40 vpeak=35 a=0.03 b=-0.002 c=-50 d=0.1 C=0.0001}\n",
      "\tinsert RS_Iext { weight=1 delay=100 duration=1000 amplitude=0.0375}\n",
      "}\n"
     ]
    },
    {
     "name": "stderr",
     "output_type": "stream",
     "text": [
      "INFO:PyNN:Initializing membrane potential of 0 cells and 0 Populations.\n",
      "INFO:PyNN:Initializing membrane potential of 0 cells and 0 Populations.\n"
     ]
    },
    {
     "name": "stdout",
     "output_type": "stream",
     "text": [
      "RS_pop[0] { nseg=1  L=10  Ra=35.4\n",
      "\t/*location 0 attached to cell 0*/\n",
      "\t/* First segment only */\n",
      "\tinsert morphology { diam=10}\n",
      "\tinsert capacitance { cm=31.831}\n",
      "\tinsert RS { v0=-60 k=0.0007 vr=-60 vt=-40 vpeak=35 a=0.03 b=-0.002 c=-50 d=0.1 C=0.0001}\n",
      "\tinsert RS_Iext { weight=1 delay=100 duration=1000 amplitude=0.05625}\n",
      "}\n",
      "RS_pop[0] { nseg=1  L=10  Ra=35.4\n",
      "\t/*location 0 attached to cell 0*/\n",
      "\t/* First segment only */\n",
      "\tinsert morphology { diam=10}\n",
      "\tinsert capacitance { cm=31.831}\n",
      "\tinsert RS { v0=-60 k=0.0007 vr=-60 vt=-40 vpeak=35 a=0.03 b=-0.002 c=-50 d=0.1 C=0.0001}\n",
      "\tinsert RS_Iext { weight=1 delay=100 duration=1000 amplitude=0.05625}\n",
      "}\n"
     ]
    },
    {
     "name": "stderr",
     "output_type": "stream",
     "text": [
      "INFO:PyNN:Initializing membrane potential of 0 cells and 0 Populations.\n",
      "INFO:PyNN:Initializing membrane potential of 0 cells and 0 Populations.\n",
      "INFO:PyNN:Initializing membrane potential of 0 cells and 0 Populations.\n"
     ]
    },
    {
     "name": "stdout",
     "output_type": "stream",
     "text": [
      "RS_pop[0] { nseg=1  L=10  Ra=35.4\n",
      "\t/*location 0 attached to cell 0*/\n",
      "\t/* First segment only */\n",
      "\tinsert morphology { diam=10}\n",
      "\tinsert capacitance { cm=31.831}\n",
      "\tinsert RS { v0=-60 k=0.0007 vr=-60 vt=-40 vpeak=35 a=0.03 b=-0.002 c=-50 d=0.1 C=0.0001}\n",
      "\tinsert RS_Iext { weight=1 delay=100 duration=1000 amplitude=0.046875}\n",
      "}\n",
      "RS_pop[0] { nseg=1  L=10  Ra=35.4\n",
      "\t/*location 0 attached to cell 0*/\n",
      "\t/* First segment only */\n",
      "\tinsert morphology { diam=10}\n",
      "\tinsert capacitance { cm=31.831}\n",
      "\tinsert RS { v0=-60 k=0.0007 vr=-60 vt=-40 vpeak=35 a=0.03 b=-0.002 c=-50 d=0.1 C=0.0001}\n",
      "\tinsert RS_Iext { weight=1 delay=100 duration=1000 amplitude=0.046875}\n",
      "}\n"
     ]
    },
    {
     "name": "stderr",
     "output_type": "stream",
     "text": [
      "INFO:PyNN:Initializing membrane potential of 0 cells and 0 Populations.\n",
      "INFO:PyNN:Initializing membrane potential of 0 cells and 0 Populations.\n"
     ]
    },
    {
     "name": "stdout",
     "output_type": "stream",
     "text": [
      "RS_pop[0] { nseg=1  L=10  Ra=35.4\n",
      "\t/*location 0 attached to cell 0*/\n",
      "\t/* First segment only */\n",
      "\tinsert morphology { diam=10}\n",
      "\tinsert capacitance { cm=31.831}\n",
      "\tinsert RS { v0=-60 k=0.0007 vr=-60 vt=-40 vpeak=35 a=0.03 b=-0.002 c=-50 d=0.1 C=0.0001}\n",
      "\tinsert RS_Iext { weight=1 delay=100 duration=1000 amplitude=0.0515625}\n",
      "}\n",
      "RS_pop[0] { nseg=1  L=10  Ra=35.4\n",
      "\t/*location 0 attached to cell 0*/\n",
      "\t/* First segment only */\n",
      "\tinsert morphology { diam=10}\n",
      "\tinsert capacitance { cm=31.831}\n",
      "\tinsert RS { v0=-60 k=0.0007 vr=-60 vt=-40 vpeak=35 a=0.03 b=-0.002 c=-50 d=0.1 C=0.0001}\n",
      "\tinsert RS_Iext { weight=1 delay=100 duration=1000 amplitude=0.0515625}\n",
      "}\n"
     ]
    },
    {
     "name": "stderr",
     "output_type": "stream",
     "text": [
      "INFO:PyNN:Initializing membrane potential of 0 cells and 0 Populations.\n",
      "INFO:PyNN:Initializing membrane potential of 0 cells and 0 Populations.\n"
     ]
    },
    {
     "name": "stdout",
     "output_type": "stream",
     "text": [
      "RS_pop[0] { nseg=1  L=10  Ra=35.4\n",
      "\t/*location 0 attached to cell 0*/\n",
      "\t/* First segment only */\n",
      "\tinsert morphology { diam=10}\n",
      "\tinsert capacitance { cm=31.831}\n",
      "\tinsert RS { v0=-60 k=0.0007 vr=-60 vt=-40 vpeak=35 a=0.03 b=-0.002 c=-50 d=0.1 C=0.0001}\n",
      "\tinsert RS_Iext { weight=1 delay=100 duration=1000 amplitude=0.0539063}\n",
      "}\n",
      "RS_pop[0] { nseg=1  L=10  Ra=35.4\n",
      "\t/*location 0 attached to cell 0*/\n",
      "\t/* First segment only */\n",
      "\tinsert morphology { diam=10}\n",
      "\tinsert capacitance { cm=31.831}\n",
      "\tinsert RS { v0=-60 k=0.0007 vr=-60 vt=-40 vpeak=35 a=0.03 b=-0.002 c=-50 d=0.1 C=0.0001}\n",
      "\tinsert RS_Iext { weight=1 delay=100 duration=1000 amplitude=0.0539063}\n",
      "}\n"
     ]
    },
    {
     "name": "stderr",
     "output_type": "stream",
     "text": [
      "INFO:PyNN:Initializing membrane potential of 0 cells and 0 Populations.\n",
      "INFO:PyNN:Initializing membrane potential of 0 cells and 0 Populations.\n",
      "INFO:PyNN:Initializing membrane potential of 0 cells and 0 Populations.\n"
     ]
    },
    {
     "name": "stdout",
     "output_type": "stream",
     "text": [
      "RS_pop[0] { nseg=1  L=10  Ra=35.4\n",
      "\t/*location 0 attached to cell 0*/\n",
      "\t/* First segment only */\n",
      "\tinsert morphology { diam=10}\n",
      "\tinsert capacitance { cm=31.831}\n",
      "\tinsert RS { v0=-60 k=0.0007 vr=-60 vt=-40 vpeak=35 a=0.03 b=-0.002 c=-50 d=0.1 C=0.0001}\n",
      "\tinsert RS_Iext { weight=1 delay=100 duration=1000 amplitude=0.0527344}\n",
      "}\n",
      "RS_pop[0] { nseg=1  L=10  Ra=35.4\n",
      "\t/*location 0 attached to cell 0*/\n",
      "\t/* First segment only */\n",
      "\tinsert morphology { diam=10}\n",
      "\tinsert capacitance { cm=31.831}\n",
      "\tinsert RS { v0=-60 k=0.0007 vr=-60 vt=-40 vpeak=35 a=0.03 b=-0.002 c=-50 d=0.1 C=0.0001}\n",
      "\tinsert RS_Iext { weight=1 delay=100 duration=1000 amplitude=0.0527344}\n",
      "}\n"
     ]
    },
    {
     "name": "stderr",
     "output_type": "stream",
     "text": [
      "INFO:PyNN:Initializing membrane potential of 0 cells and 0 Populations.\n",
      "INFO:PyNN:Initializing membrane potential of 0 cells and 0 Populations.\n",
      "INFO:PyNN:Initializing membrane potential of 0 cells and 0 Populations.\n"
     ]
    },
    {
     "name": "stdout",
     "output_type": "stream",
     "text": [
      "RS_pop[0] { nseg=1  L=10  Ra=35.4\n",
      "\t/*location 0 attached to cell 0*/\n",
      "\t/* First segment only */\n",
      "\tinsert morphology { diam=10}\n",
      "\tinsert capacitance { cm=31.831}\n",
      "\tinsert RS { v0=-60 k=0.0007 vr=-60 vt=-40 vpeak=35 a=0.03 b=-0.002 c=-50 d=0.1 C=0.0001}\n",
      "\tinsert RS_Iext { weight=1 delay=100 duration=1000 amplitude=0.0521484}\n",
      "}\n",
      "RS_pop[0] { nseg=1  L=10  Ra=35.4\n",
      "\t/*location 0 attached to cell 0*/\n",
      "\t/* First segment only */\n",
      "\tinsert morphology { diam=10}\n",
      "\tinsert capacitance { cm=31.831}\n",
      "\tinsert RS { v0=-60 k=0.0007 vr=-60 vt=-40 vpeak=35 a=0.03 b=-0.002 c=-50 d=0.1 C=0.0001}\n",
      "\tinsert RS_Iext { weight=1 delay=100 duration=1000 amplitude=0.0521484}\n",
      "}\n"
     ]
    },
    {
     "name": "stderr",
     "output_type": "stream",
     "text": [
      "INFO:PyNN:Initializing membrane potential of 0 cells and 0 Populations.\n",
      "INFO:PyNN:Initializing membrane potential of 0 cells and 0 Populations.\n",
      "INFO:PyNN:Initializing membrane potential of 0 cells and 0 Populations.\n"
     ]
    },
    {
     "name": "stdout",
     "output_type": "stream",
     "text": [
      "Highest subthreshold current is 51.5625 pA\n",
      "Lowest suprathreshold current is 52.1484375 pA\n"
     ]
    },
    {
     "data": {
      "text/plain": [
       "(Ratio = 0.24, {'value': array(52.1484375) * pA})"
      ]
     },
     "execution_count": 4,
     "metadata": {},
     "output_type": "execute_result"
    }
   ],
   "source": [
    "modelSn, testSn = x.quick_test_builder(test_class=\"RheobaseTest\", backend='NEURON')\n",
    "scoreSn = testSn.judge(modelSn)\n",
    "scoreSn, scoreSn.prediction"
   ]
  },
  {
   "cell_type": "code",
   "execution_count": 5,
   "metadata": {},
   "outputs": [
    {
     "data": {
      "image/png": "[encoded data removed]",
      "text/plain": [
       "<matplotlib.figure.Figure at 0x7f6a11749898>"
      ]
     },
     "metadata": {},
     "output_type": "display_data"
    }
   ],
   "source": [
    "scoreSn.plot_vm()"
   ]
  },
  {
   "cell_type": "code",
   "execution_count": 6,
   "metadata": {},
   "outputs": [
    {
     "name": "stdout",
     "output_type": "stream",
     "text": [
      "Getting Spike Half-Width data values from neuroelectro.org\n",
      "http://neuroelectro.org/api/1/nes/?nlex=nifext_50&e__name=Spike+Half-Width\n"
     ]
    },
    {
     "data": {
      "text/plain": [
       "(Z = -0.60, {'mean': array(0.0008875) * s, 'std': array(0.) * s, 'n': 4})"
      ]
     },
     "execution_count": 6,
     "metadata": {},
     "output_type": "execute_result"
    }
   ],
   "source": [
    "modelS, testS = x.quick_test_builder(test_class=\"InjectedCurrentAPWidthTest\")\n",
    "scoreS = testS.judge(modelS)\n",
    "scoreS, scoreS.prediction"
   ]
  },
  {
   "cell_type": "code",
   "execution_count": 13,
   "metadata": {},
   "outputs": [
    {
     "data": {
      "text/plain": [
       "'-0.599226'"
      ]
     },
     "execution_count": 13,
     "metadata": {},
     "output_type": "execute_result"
    }
   ],
   "source": [
    "'%f' % scoreS.score"
   ]
  },
  {
   "cell_type": "code",
   "execution_count": 7,
   "metadata": {},
   "outputs": [
    {
     "data": {
      "image/png": "[encoded data removed]",
      "text/plain": [
       "<matplotlib.figure.Figure at 0x7f6a052b2978>"
      ]
     },
     "metadata": {},
     "output_type": "display_data"
    }
   ],
   "source": [
    "scoreS.plot_vm()"
   ]
  },
  {
   "cell_type": "code",
   "execution_count": 8,
   "metadata": {},
   "outputs": [
    {
     "name": "stdout",
     "output_type": "stream",
     "text": [
      "Getting Spike Half-Width data values from neuroelectro.org\n",
      "http://neuroelectro.org/api/1/nes/?nlex=nifext_50&e__name=Spike+Half-Width\n"
     ]
    },
    {
     "name": "stderr",
     "output_type": "stream",
     "text": [
      "INFO:PyNN:Initializing membrane potential of 0 cells and 0 Populations.\n"
     ]
    },
    {
     "name": "stdout",
     "output_type": "stream",
     "text": [
      "RS_pop[0] { nseg=1  L=10  Ra=35.4\n",
      "\t/*location 0 attached to cell 0*/\n",
      "\t/* First segment only */\n",
      "\tinsert morphology { diam=10}\n",
      "\tinsert capacitance { cm=31.831}\n",
      "\tinsert RS { v0=-60 k=0.0007 vr=-60 vt=-40 vpeak=35 a=0.03 b=-0.002 c=-50 d=0.1 C=0.0001}\n",
      "\tinsert RS_Iext { weight=1 delay=100 duration=300 amplitude=0.1}\n",
      "}\n",
      "RS_pop[0] { nseg=1  L=10  Ra=35.4\n",
      "\t/*location 0 attached to cell 0*/\n",
      "\t/* First segment only */\n",
      "\tinsert morphology { diam=10}\n",
      "\tinsert capacitance { cm=31.831}\n",
      "\tinsert RS { v0=-60 k=0.0007 vr=-60 vt=-40 vpeak=35 a=0.03 b=-0.002 c=-50 d=0.1 C=0.0001}\n",
      "\tinsert RS_Iext { weight=1 delay=100 duration=300 amplitude=0.1}\n",
      "}\n"
     ]
    },
    {
     "name": "stderr",
     "output_type": "stream",
     "text": [
      "INFO:PyNN:Initializing membrane potential of 0 cells and 0 Populations.\n"
     ]
    },
    {
     "name": "stdout",
     "output_type": "stream",
     "text": [
      "RS_pop[0] { nseg=1  L=10  Ra=35.4\n",
      "\t/*location 0 attached to cell 0*/\n",
      "\t/* First segment only */\n",
      "\tinsert morphology { diam=10}\n",
      "\tinsert capacitance { cm=31.831}\n",
      "\tinsert RS { v0=-60 k=0.0007 vr=-60 vt=-40 vpeak=35 a=0.03 b=-0.002 c=-50 d=0.1 C=0.0001}\n",
      "\tinsert RS_Iext { weight=1 delay=100 duration=300 amplitude=0.1}\n",
      "}\n",
      "RS_pop[0] { nseg=1  L=10  Ra=35.4\n",
      "\t/*location 0 attached to cell 0*/\n",
      "\t/* First segment only */\n",
      "\tinsert morphology { diam=10}\n",
      "\tinsert capacitance { cm=31.831}\n",
      "\tinsert RS { v0=-60 k=0.0007 vr=-60 vt=-40 vpeak=35 a=0.03 b=-0.002 c=-50 d=0.1 C=0.0001}\n",
      "\tinsert RS_Iext { weight=1 delay=100 duration=300 amplitude=0.1}\n",
      "}\n"
     ]
    },
    {
     "name": "stderr",
     "output_type": "stream",
     "text": [
      "INFO:PyNN:Initializing membrane potential of 0 cells and 0 Populations.\n",
      "INFO:PyNN:Initializing membrane potential of 0 cells and 0 Populations.\n"
     ]
    },
    {
     "data": {
      "text/plain": [
       "(Z = -0.60,\n",
       " {'mean': array(0.00088625) * s, 'std': array(1.25e-06) * s, 'n': 4})"
      ]
     },
     "execution_count": 8,
     "metadata": {},
     "output_type": "execute_result"
    }
   ],
   "source": [
    "modelSn, testSn = x.quick_test_builder(test_class=\"InjectedCurrentAPWidthTest\", backend='NEURON')\n",
    "scoreSn = testSn.judge(modelSn)\n",
    "scoreSn, scoreSn.prediction"
   ]
  },
  {
   "cell_type": "code",
   "execution_count": 10,
   "metadata": {},
   "outputs": [
    {
     "data": {
      "image/png": "[encoded data removed]",
      "text/plain": [
       "<matplotlib.figure.Figure at 0x7f69ff99cb00>"
      ]
     },
     "metadata": {},
     "output_type": "display_data"
    }
   ],
   "source": [
    "scoreSn.plot_vm()"
   ]
  },
  {
   "cell_type": "code",
   "execution_count": 14,
   "metadata": {},
   "outputs": [
    {
     "data": {
      "text/plain": [
       "'-0.601565'"
      ]
     },
     "execution_count": 14,
     "metadata": {},
     "output_type": "execute_result"
    }
   ],
   "source": [
    "'%f' % scoreSn.score"
   ]
  },
  {
   "cell_type": "markdown",
   "metadata": {},
   "source": [
    "### Parallel rheobase test"
   ]
  },
  {
   "cell_type": "code",
   "execution_count": 4,
   "metadata": {},
   "outputs": [
    {
     "name": "stdout",
     "output_type": "stream",
     "text": [
      "Getting Rheobase data values from neuroelectro.org\n",
      "http://neuroelectro.org/api/1/nes/?nlex=nifext_50&e__name=Rheobase\n",
      "Getting rheobase vm\n"
     ]
    },
    {
     "data": {
      "text/plain": [
       "(Ratio = 0.25, {'value': array(53.5234375) * pA})"
      ]
     },
     "execution_count": 4,
     "metadata": {},
     "output_type": "execute_result"
    }
   ],
   "source": [
    "modelP, testP = x.quick_test_builder(test_class=\"RheobaseTestP\")\n",
    "scoreP = testP.judge(modelP)\n",
    "scoreP, scoreP.prediction"
   ]
  },
  {
   "cell_type": "code",
   "execution_count": 5,
   "metadata": {},
   "outputs": [
    {
     "data": {
      "image/png": "[encoded data removed]",
      "text/plain": [
       "<Figure size 432x288 with 1 Axes>"
      ]
     },
     "metadata": {
      "needs_background": "light"
     },
     "output_type": "display_data"
    }
   ],
   "source": [
    "scoreP.plot_vm()"
   ]
  }
 ],
 "metadata": {
  "kernelspec": {
   "display_name": "Python 3",
   "language": "python",
   "name": "python3"
  },
  "language_info": {
   "codemirror_mode": {
    "name": "ipython",
    "version": 3
   },
   "file_extension": ".py",
   "mimetype": "text/x-python",
   "name": "python",
   "nbconvert_exporter": "python",
   "pygments_lexer": "ipython3",
   "version": "3.6.7"
  }
 },
 "nbformat": 4,
 "nbformat_minor": 2
}
