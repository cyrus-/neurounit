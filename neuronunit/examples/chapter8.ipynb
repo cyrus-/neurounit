{
 "cells": [
  {
   "cell_type": "markdown",
   "metadata": {},
   "source": [
    "# Chapter8\n",
    "## Getting Neuro-Electro Data, and modifying it to optimize against means and modes of data"
   ]
  },
  {
   "cell_type": "code",
   "execution_count": 1,
   "metadata": {},
   "outputs": [],
   "source": [
    "\n",
    "import quantities as pq\n",
    "test_map = {1:'CapacitanceTest',2:'InputResistanceTest',3:'RestingPotentialTest',4:'TimeConstantTest',\\\n",
    "            5:'InjectedCurrentAPAmplitudeTest',6:'InjectedCurrentAPWidthTest',\\\n",
    "            7:'InjectedCurrentAPThresholdTest',8:'RheobaseTest'}\n",
    "\n",
    "units_map = {1:pq.pF,2:pq.MOhm,3:pq.mV,4:pq.ms,\\\n",
    "            5:pq.mV,6:pq.ms,\\\n",
    "            7:pq.mV,8:pq.pA}\n",
    "\n",
    "complete_map = {}\n",
    "for k,v in units_map.items():\n",
    "    complete_map[test_map[k]] = units_map[k]\n",
    "\n",
    "name_map ={}\n",
    "name_map[\"Cerebellum Purkinje cell\"] = \"sao471801888\"\n",
    "name_map[\"Dentate gyrus basket cell\"] = \"nlx_cell_100201\"\n",
    "name_map[\"Hippocampus CA1 basket cell\"] = \"nlx_cell_091205\"\n",
    "name_map[\"Neocortex pyramidal cell layer 5-6\"] = \"nifext_50\"\n",
    "name_map[\"Olfactory bulb (main) mitral cell\"] = \"nlx_anat_100201\"\n",
    "name_map[\"Hippocampus CA1 pyramidal cell\"] = \"sao830368389\"\n",
    "                                                                                                                                                                                   \n",
    "inv_name_map = {v: k for k, v in name_map.items()}\n",
    "executable_tests = {}\n",
    "#russell_tests = {}\n"
   ]
  },
  {
   "cell_type": "code",
   "execution_count": 2,
   "metadata": {},
   "outputs": [
    {
     "name": "stderr",
     "output_type": "stream",
     "text": [
      "/Users/rjjarvis/git/safe/neuronunit/neuronunit/tests/fi.py:30: UserWarning: \n",
      "This call to matplotlib.use() has no effect because the backend has already\n",
      "been chosen; matplotlib.use() must be called *before* pylab, matplotlib.pyplot,\n",
      "or matplotlib.backends is imported for the first time.\n",
      "\n",
      "The backend was *originally* set to 'module://ipykernel.pylab.backend_inline' by the following code:\n",
      "  File \"/anaconda3/lib/python3.6/runpy.py\", line 193, in _run_module_as_main\n",
      "    \"__main__\", mod_spec)\n",
      "  File \"/anaconda3/lib/python3.6/runpy.py\", line 85, in _run_code\n",
      "    exec(code, run_globals)\n",
      "  File \"/anaconda3/lib/python3.6/site-packages/ipykernel_launcher.py\", line 16, in <module>\n",
      "    app.launch_new_instance()\n",
      "  File \"/anaconda3/lib/python3.6/site-packages/traitlets/config/application.py\", line 658, in launch_instance\n",
      "    app.start()\n",
      "  File \"/anaconda3/lib/python3.6/site-packages/ipykernel/kernelapp.py\", line 486, in start\n",
      "    self.io_loop.start()\n",
      "  File \"/anaconda3/lib/python3.6/site-packages/tornado/platform/asyncio.py\", line 127, in start\n",
      "    self.asyncio_loop.run_forever()\n",
      "  File \"/anaconda3/lib/python3.6/asyncio/base_events.py\", line 422, in run_forever\n",
      "    self._run_once()\n",
      "  File \"/anaconda3/lib/python3.6/asyncio/base_events.py\", line 1432, in _run_once\n",
      "    handle._run()\n",
      "  File \"/anaconda3/lib/python3.6/asyncio/events.py\", line 145, in _run\n",
      "    self._callback(*self._args)\n",
      "  File \"/anaconda3/lib/python3.6/site-packages/tornado/ioloop.py\", line 759, in _run_callback\n",
      "    ret = callback()\n",
      "  File \"/anaconda3/lib/python3.6/site-packages/tornado/stack_context.py\", line 276, in null_wrapper\n",
      "    return fn(*args, **kwargs)\n",
      "  File \"/anaconda3/lib/python3.6/site-packages/zmq/eventloop/zmqstream.py\", line 536, in <lambda>\n",
      "    self.io_loop.add_callback(lambda : self._handle_events(self.socket, 0))\n",
      "  File \"/anaconda3/lib/python3.6/site-packages/zmq/eventloop/zmqstream.py\", line 450, in _handle_events\n",
      "    self._handle_recv()\n",
      "  File \"/anaconda3/lib/python3.6/site-packages/zmq/eventloop/zmqstream.py\", line 480, in _handle_recv\n",
      "    self._run_callback(callback, msg)\n",
      "  File \"/anaconda3/lib/python3.6/site-packages/zmq/eventloop/zmqstream.py\", line 432, in _run_callback\n",
      "    callback(*args, **kwargs)\n",
      "  File \"/anaconda3/lib/python3.6/site-packages/tornado/stack_context.py\", line 276, in null_wrapper\n",
      "    return fn(*args, **kwargs)\n",
      "  File \"/anaconda3/lib/python3.6/site-packages/ipykernel/kernelbase.py\", line 283, in dispatcher\n",
      "    return self.dispatch_shell(stream, msg)\n",
      "  File \"/anaconda3/lib/python3.6/site-packages/ipykernel/kernelbase.py\", line 233, in dispatch_shell\n",
      "    handler(stream, idents, msg)\n",
      "  File \"/anaconda3/lib/python3.6/site-packages/ipykernel/kernelbase.py\", line 399, in execute_request\n",
      "    user_expressions, allow_stdin)\n",
      "  File \"/anaconda3/lib/python3.6/site-packages/ipykernel/ipkernel.py\", line 208, in do_execute\n",
      "    res = shell.run_cell(code, store_history=store_history, silent=silent)\n",
      "  File \"/anaconda3/lib/python3.6/site-packages/ipykernel/zmqshell.py\", line 537, in run_cell\n",
      "    return super(ZMQInteractiveShell, self).run_cell(*args, **kwargs)\n",
      "  File \"/anaconda3/lib/python3.6/site-packages/IPython/core/interactiveshell.py\", line 2662, in run_cell\n",
      "    raw_cell, store_history, silent, shell_futures)\n",
      "  File \"/anaconda3/lib/python3.6/site-packages/IPython/core/interactiveshell.py\", line 2785, in _run_cell\n",
      "    interactivity=interactivity, compiler=compiler, result=result)\n",
      "  File \"/anaconda3/lib/python3.6/site-packages/IPython/core/interactiveshell.py\", line 2903, in run_ast_nodes\n",
      "    if self.run_code(code, result):\n",
      "  File \"/anaconda3/lib/python3.6/site-packages/IPython/core/interactiveshell.py\", line 2963, in run_code\n",
      "    exec(code_obj, self.user_global_ns, self.user_ns)\n",
      "  File \"<ipython-input-2-200cd407be1a>\", line 1, in <module>\n",
      "    from neuronunit.optimisation import get_neab as gn\n",
      "  File \"/Users/rjjarvis/git/safe/neuronunit/neuronunit/optimisation/get_neab.py\", line 6, in <module>\n",
      "    from neuronunit import tests as _, neuroelectro\n",
      "  File \"/Users/rjjarvis/git/safe/neuronunit/neuronunit/tests/__init__.py\", line 3, in <module>\n",
      "    from .passive import *\n",
      "  File \"/Users/rjjarvis/git/safe/neuronunit/neuronunit/tests/passive.py\", line 3, in <module>\n",
      "    from .base import np, pq, ncap, VmTest, scores\n",
      "  File \"/Users/rjjarvis/git/safe/neuronunit/neuronunit/tests/base.py\", line 14, in <module>\n",
      "    import neuronunit.capabilities as ncap\n",
      "  File \"/Users/rjjarvis/git/safe/neuronunit/neuronunit/capabilities/__init__.py\", line 10, in <module>\n",
      "    import matplotlib.pyplot as plt\n",
      "  File \"/anaconda3/lib/python3.6/site-packages/matplotlib/pyplot.py\", line 71, in <module>\n",
      "    from matplotlib.backends import pylab_setup\n",
      "  File \"/anaconda3/lib/python3.6/site-packages/matplotlib/backends/__init__.py\", line 16, in <module>\n",
      "    line for line in traceback.format_stack()\n",
      "\n",
      "\n",
      "  mpl.use('Agg')\n"
     ]
    }
   ],
   "source": [
    "from neuronunit.optimisation import get_neab as gn\n",
    "\n",
    "# get some mean based tests instead of mode based tests:\n",
    "#conventional_mean_based_tests = gn.get_tests()#backend=str('RAW'))#"
   ]
  },
  {
   "cell_type": "code",
   "execution_count": 3,
   "metadata": {},
   "outputs": [
    {
     "name": "stderr",
     "output_type": "stream",
     "text": [
      "/Users/rjjarvis/git/safe/neuronunit/neuronunit/tests/use_bi_tests.py:2: UserWarning: \n",
      "This call to matplotlib.use() has no effect because the backend has already\n",
      "been chosen; matplotlib.use() must be called *before* pylab, matplotlib.pyplot,\n",
      "or matplotlib.backends is imported for the first time.\n",
      "\n",
      "The backend was *originally* set to 'module://ipykernel.pylab.backend_inline' by the following code:\n",
      "  File \"/anaconda3/lib/python3.6/runpy.py\", line 193, in _run_module_as_main\n",
      "    \"__main__\", mod_spec)\n",
      "  File \"/anaconda3/lib/python3.6/runpy.py\", line 85, in _run_code\n",
      "    exec(code, run_globals)\n",
      "  File \"/anaconda3/lib/python3.6/site-packages/ipykernel_launcher.py\", line 16, in <module>\n",
      "    app.launch_new_instance()\n",
      "  File \"/anaconda3/lib/python3.6/site-packages/traitlets/config/application.py\", line 658, in launch_instance\n",
      "    app.start()\n",
      "  File \"/anaconda3/lib/python3.6/site-packages/ipykernel/kernelapp.py\", line 486, in start\n",
      "    self.io_loop.start()\n",
      "  File \"/anaconda3/lib/python3.6/site-packages/tornado/platform/asyncio.py\", line 127, in start\n",
      "    self.asyncio_loop.run_forever()\n",
      "  File \"/anaconda3/lib/python3.6/asyncio/base_events.py\", line 422, in run_forever\n",
      "    self._run_once()\n",
      "  File \"/anaconda3/lib/python3.6/asyncio/base_events.py\", line 1432, in _run_once\n",
      "    handle._run()\n",
      "  File \"/anaconda3/lib/python3.6/asyncio/events.py\", line 145, in _run\n",
      "    self._callback(*self._args)\n",
      "  File \"/anaconda3/lib/python3.6/site-packages/tornado/ioloop.py\", line 759, in _run_callback\n",
      "    ret = callback()\n",
      "  File \"/anaconda3/lib/python3.6/site-packages/tornado/stack_context.py\", line 276, in null_wrapper\n",
      "    return fn(*args, **kwargs)\n",
      "  File \"/anaconda3/lib/python3.6/site-packages/zmq/eventloop/zmqstream.py\", line 536, in <lambda>\n",
      "    self.io_loop.add_callback(lambda : self._handle_events(self.socket, 0))\n",
      "  File \"/anaconda3/lib/python3.6/site-packages/zmq/eventloop/zmqstream.py\", line 450, in _handle_events\n",
      "    self._handle_recv()\n",
      "  File \"/anaconda3/lib/python3.6/site-packages/zmq/eventloop/zmqstream.py\", line 480, in _handle_recv\n",
      "    self._run_callback(callback, msg)\n",
      "  File \"/anaconda3/lib/python3.6/site-packages/zmq/eventloop/zmqstream.py\", line 432, in _run_callback\n",
      "    callback(*args, **kwargs)\n",
      "  File \"/anaconda3/lib/python3.6/site-packages/tornado/stack_context.py\", line 276, in null_wrapper\n",
      "    return fn(*args, **kwargs)\n",
      "  File \"/anaconda3/lib/python3.6/site-packages/ipykernel/kernelbase.py\", line 283, in dispatcher\n",
      "    return self.dispatch_shell(stream, msg)\n",
      "  File \"/anaconda3/lib/python3.6/site-packages/ipykernel/kernelbase.py\", line 233, in dispatch_shell\n",
      "    handler(stream, idents, msg)\n",
      "  File \"/anaconda3/lib/python3.6/site-packages/ipykernel/kernelbase.py\", line 399, in execute_request\n",
      "    user_expressions, allow_stdin)\n",
      "  File \"/anaconda3/lib/python3.6/site-packages/ipykernel/ipkernel.py\", line 208, in do_execute\n",
      "    res = shell.run_cell(code, store_history=store_history, silent=silent)\n",
      "  File \"/anaconda3/lib/python3.6/site-packages/ipykernel/zmqshell.py\", line 537, in run_cell\n",
      "    return super(ZMQInteractiveShell, self).run_cell(*args, **kwargs)\n",
      "  File \"/anaconda3/lib/python3.6/site-packages/IPython/core/interactiveshell.py\", line 2666, in run_cell\n",
      "    self.events.trigger('post_run_cell', result)\n",
      "  File \"/anaconda3/lib/python3.6/site-packages/IPython/core/events.py\", line 88, in trigger\n",
      "    func(*args, **kwargs)\n",
      "  File \"/anaconda3/lib/python3.6/site-packages/ipykernel/pylab/backend_inline.py\", line 160, in configure_once\n",
      "    activate_matplotlib(backend)\n",
      "  File \"/anaconda3/lib/python3.6/site-packages/IPython/core/pylabtools.py\", line 311, in activate_matplotlib\n",
      "    matplotlib.pyplot.switch_backend(backend)\n",
      "  File \"/anaconda3/lib/python3.6/site-packages/matplotlib/pyplot.py\", line 231, in switch_backend\n",
      "    matplotlib.use(newbackend, warn=False, force=True)\n",
      "  File \"/anaconda3/lib/python3.6/site-packages/matplotlib/__init__.py\", line 1410, in use\n",
      "    reload(sys.modules['matplotlib.backends'])\n",
      "  File \"/anaconda3/lib/python3.6/importlib/__init__.py\", line 166, in reload\n",
      "    _bootstrap._exec(spec, module)\n",
      "  File \"/anaconda3/lib/python3.6/site-packages/matplotlib/backends/__init__.py\", line 16, in <module>\n",
      "    line for line in traceback.format_stack()\n",
      "\n",
      "\n",
      "  matplotlib.use('Agg')\n"
     ]
    },
    {
     "name": "stdout",
     "output_type": "stream",
     "text": [
      "['Index', 'Title', 'Pmid', 'PubYear', 'LastAuthor', 'ArticleID', 'TableID', 'NeuronName', 'NeuronLongName', 'NeuronPrefName', 'NeuroNERAnnots', 'BrainRegion', 'MetadataCurated', 'Species', 'Strain', 'ElectrodeType', 'PrepType', 'JxnPotential', 'JxnOffset', 'RecTemp', 'AnimalAge', 'AnimalWeight', 'FlagSoln', 'ExternalSolution', 'ExternalSolution_conf', 'external_0_Mg', 'external_0_Ca', 'external_0_Na', 'external_0_Cl', 'external_0_K', 'external_0_pH', 'InternalSolution', 'InternalSolution_conf', 'internal_0_Mg', 'internal_0_Ca', 'internal_0_Na', 'internal_0_Cl', 'internal_0_K', 'internal_0_pH', 'MetadataNote', 'TableNote', 'rin', 'rin_raw', 'rin_err', 'rin_n', 'rin_sd', 'rin_note', 'rmp', 'rmp_raw', 'rmp_err', 'rmp_n', 'rmp_sd', 'rmp_note', 'apthr', 'apthr_raw', 'apthr_err', 'apthr_n', 'apthr_sd', 'apthr_note', 'apamp', 'apamp_raw', 'apamp_err', 'apamp_n', 'apamp_sd', 'apamp_note', 'aphw', 'aphw_raw', 'aphw_err', 'aphw_n', 'aphw_sd', 'aphw_note', 'tau', 'tau_raw', 'tau_err', 'tau_n', 'tau_sd', 'tau_note', 'ahpamp', 'ahpamp_raw', 'ahpamp_err', 'ahpamp_n', 'ahpamp_sd', 'ahpamp_note', 'cap', 'cap_raw', 'cap_err', 'cap_n', 'cap_sd', 'cap_note', 'apwidth', 'apwidth_raw', 'apwidth_err', 'apwidth_n', 'apwidth_sd', 'apwidth_note', 'apfreq', 'apfreq_raw', 'apfreq_err', 'apfreq_n', 'apfreq_sd', 'apfreq_note', 'rheo', 'rheo_raw', 'rheo_err', 'rheo_n', 'rheo_sd', 'rheo_note', 'ahpdur', 'ahpdur_raw', 'ahpdur_err', 'ahpdur_n', 'ahpdur_sd', 'ahpdur_note', 'sagratio', 'sagratio_raw', 'sagratio_err', 'sagratio_n', 'sagratio_sd', 'sagratio_note', 'maxfreq', 'maxfreq_raw', 'maxfreq_err', 'maxfreq_n', 'maxfreq_sd', 'maxfreq_note', 'apriseslope', 'apriseslope_raw', 'apriseslope_err', 'apriseslope_n', 'apriseslope_sd', 'apriseslope_note', 'fahpamp', 'fahpamp_raw', 'fahpamp_err', 'fahpamp_n', 'fahpamp_sd', 'fahpamp_note', 'spontfreq', 'spontfreq_raw', 'spontfreq_err', 'spontfreq_n', 'spontfreq_sd', 'spontfreq_note', 'appeak', 'appeak_raw', 'appeak_err', 'appeak_n', 'appeak_sd', 'appeak_note', 'apriset', 'apriset_raw', 'apriset_err', 'apriset_n', 'apriset_sd', 'apriset_note', 'apdecayslope', 'apdecayslope_raw', 'apdecayslope_err', 'apdecayslope_n', 'apdecayslope_sd', 'apdecayslope_note', 'apdelay', 'apdelay_raw', 'apdelay_err', 'apdelay_n', 'apdelay_sd', 'apdelay_note', 'fislope', 'fislope_raw', 'fislope_err', 'fislope_n', 'fislope_sd', 'fislope_note', 'adratio', 'adratio_raw', 'adratio_err', 'adratio_n', 'adratio_sd', 'adratio_note', 'apamprest', 'apamprest_raw', 'apamprest_err', 'apamprest_n', 'apamprest_sd', 'apamprest_note', 'other', 'other_raw', 'other_err', 'other_n', 'other_sd', 'other_note', 'sagamp', 'sagamp_raw', 'sagamp_err', 'sagamp_n', 'sagamp_sd', 'sagamp_note', 'sahpamp', 'sahpamp_raw', 'sahpamp_err', 'sahpamp_n', 'sahpamp_sd', 'sahpamp_note', 'apdecayt', 'apdecayt_raw', 'apdecayt_err', 'apdecayt_n', 'apdecayt_sd', 'apdecayt_note', 'accres', 'accres_raw', 'accres_err', 'accres_n', 'accres_sd', 'accres_note', 'adratioinv', 'adratioinv_raw', 'adratioinv_err', 'adratioinv_n', 'adratioinv_sd', 'adratioinv_note', 'adpamp', 'adpamp_raw', 'adpamp_err', 'adpamp_n', 'adpamp_sd', 'adpamp_note', 'ahpamprest', 'ahpamprest_raw', 'ahpamprest_err', 'ahpamprest_n', 'ahpamprest_sd', 'ahpamprest_note', 'mahpamp', 'mahpamp_raw', 'mahpamp_err', 'mahpamp_n', 'mahpamp_sd', 'mahpamp_note', 'fahpdur', 'fahpdur_raw', 'fahpdur_err', 'fahpdur_n', 'fahpdur_sd', 'fahpdur_note', 'ahpvolt', 'ahpvolt_raw', 'ahpvolt_err', 'ahpvolt_n', 'ahpvolt_sd', 'ahpvolt_note', 'sahpdur', 'sahpdur_raw', 'sahpdur_err', 'sahpdur_n', 'sahpdur_sd', 'sahpdur_note', 'celldiam', 'celldiam_raw', 'celldiam_err', 'celldiam_n', 'celldiam_sd', 'celldiam_note', 'adpctother', 'adpctother_raw', 'adpctother_err', 'adpctother_n', 'adpctother_sd', 'adpctother_note', 'adpct', 'adpct_raw', 'adpct_err', 'adpct_n', 'adpct_sd', 'adpct_note', 'adpctminus', 'adpctminus_raw', 'adpctminus_err', 'adpctminus_n', 'adpctminus_sd', 'adpctminus_note', 'surfarea', 'surfarea_raw', 'surfarea_err', 'surfarea_n', 'surfarea_sd', 'surfarea_note', 'mahpdur', 'mahpdur_raw', 'mahpdur_err', 'mahpdur_n', 'mahpdur_sd', 'mahpdur_note', 'adratiominus', 'adratiominus_raw', 'adratiominus_err', 'adratiominus_n', 'adratiominus_sd', 'adratiominus_note', 'adpctinv', 'adpctinv_raw', 'adpctinv_err', 'adpctinv_n', 'adpctinv_sd', 'adpctinv_note', 'adpdur', 'adpdur_raw', 'adpdur_err', 'adpdur_n', 'adpdur_sd', 'adpdur_note', 'fahpvolt', 'fahpvolt_raw', 'fahpvolt_err', 'fahpvolt_n', 'fahpvolt_sd', 'fahpvolt_note', 'mahpamprest', 'mahpamprest_raw', 'mahpamprest_err', 'mahpamprest_n', 'mahpamprest_sd', 'mahpamprest_note', 'apamptrough', 'apamptrough_raw', 'apamptrough_err', 'apamptrough_n', 'apamptrough_sd', 'apamptrough_note', 'sahpamprest', 'sahpamprest_raw', 'sahpamprest_err', 'sahpamprest_n', 'sahpamprest_sd', 'sahpamprest_note', 'fahpamprest', 'fahpamprest_raw', 'fahpamprest_err', 'fahpamprest_n', 'fahpamprest_sd', 'fahpamprest_note', 'sahpvolt', 'sahpvolt_raw', 'sahpvolt_err', 'sahpvolt_n', 'sahpvolt_sd', 'sahpvolt_note', 'mahpvolt', 'mahpvolt_raw', 'mahpvolt_err', 'mahpvolt_n', 'mahpvolt_sd', 'mahpvolt_note']\n",
      "Series([], Name: rheo_raw, dtype: float64)\n"
     ]
    },
    {
     "name": "stderr",
     "output_type": "stream",
     "text": [
      "No handles with labels found to put in legend.\n",
      "No handles with labels found to put in legend.\n"
     ]
    },
    {
     "name": "stdout",
     "output_type": "stream",
     "text": [
      "CapacitanceTest\n"
     ]
    },
    {
     "name": "stderr",
     "output_type": "stream",
     "text": [
      "No handles with labels found to put in legend.\n"
     ]
    },
    {
     "name": "stdout",
     "output_type": "stream",
     "text": [
      "InputResistanceTest\n"
     ]
    },
    {
     "name": "stderr",
     "output_type": "stream",
     "text": [
      "No handles with labels found to put in legend.\n"
     ]
    },
    {
     "name": "stdout",
     "output_type": "stream",
     "text": [
      "RestingPotentialTest\n"
     ]
    },
    {
     "name": "stderr",
     "output_type": "stream",
     "text": [
      "No handles with labels found to put in legend.\n"
     ]
    },
    {
     "name": "stdout",
     "output_type": "stream",
     "text": [
      "CapacitanceTest\n"
     ]
    },
    {
     "name": "stderr",
     "output_type": "stream",
     "text": [
      "No handles with labels found to put in legend.\n"
     ]
    },
    {
     "name": "stdout",
     "output_type": "stream",
     "text": [
      "InputResistanceTest\n"
     ]
    },
    {
     "name": "stderr",
     "output_type": "stream",
     "text": [
      "No handles with labels found to put in legend.\n"
     ]
    },
    {
     "name": "stdout",
     "output_type": "stream",
     "text": [
      "RestingPotentialTest\n"
     ]
    },
    {
     "name": "stderr",
     "output_type": "stream",
     "text": [
      "No handles with labels found to put in legend.\n"
     ]
    },
    {
     "name": "stdout",
     "output_type": "stream",
     "text": [
      "TimeConstantTest\n"
     ]
    },
    {
     "name": "stderr",
     "output_type": "stream",
     "text": [
      "No handles with labels found to put in legend.\n"
     ]
    },
    {
     "name": "stdout",
     "output_type": "stream",
     "text": [
      "InjectedCurrentAPAmplitudeTest\n",
      "{}\n",
      "InjectedCurrentAPWidthTest\n"
     ]
    },
    {
     "ename": "TypeError",
     "evalue": "__init__() argument after ** must be a mapping, not tuple",
     "output_type": "error",
     "traceback": [
      "\u001b[0;31m---------------------------------------------------------------------------\u001b[0m",
      "\u001b[0;31mTypeError\u001b[0m                                 Traceback (most recent call last)",
      "\u001b[0;32m<ipython-input-3-eb2912633279>\u001b[0m in \u001b[0;36m<module>\u001b[0;34m()\u001b[0m\n\u001b[0;32m----> 1\u001b[0;31m \u001b[0;32mfrom\u001b[0m \u001b[0mneuronunit\u001b[0m\u001b[0;34m.\u001b[0m\u001b[0mtests\u001b[0m\u001b[0;34m.\u001b[0m\u001b[0muse_bi_tests\u001b[0m \u001b[0;32mimport\u001b[0m \u001b[0mname_map\u001b[0m\u001b[0;34m,\u001b[0m \u001b[0mtest_map\u001b[0m\u001b[0;34m,\u001b[0m \u001b[0munits_map\u001b[0m\u001b[0;34m\u001b[0m\u001b[0m\n\u001b[0m\u001b[1;32m      2\u001b[0m \u001b[0;32mfrom\u001b[0m \u001b[0mneuronunit\u001b[0m \u001b[0;32mimport\u001b[0m \u001b[0mtests\u001b[0m \u001b[0;32mas\u001b[0m \u001b[0m_\u001b[0m\u001b[0;34m,\u001b[0m \u001b[0mneuroelectro\u001b[0m\u001b[0;34m\u001b[0m\u001b[0m\n\u001b[1;32m      3\u001b[0m \u001b[0;32mimport\u001b[0m \u001b[0murllib\u001b[0m\u001b[0;34m\u001b[0m\u001b[0m\n",
      "\u001b[0;32m~/git/safe/neuronunit/neuronunit/tests/use_bi_tests.py\u001b[0m in \u001b[0;36m<module>\u001b[0;34m()\u001b[0m\n\u001b[1;32m    136\u001b[0m                 \u001b[0mprint\u001b[0m\u001b[0;34m(\u001b[0m\u001b[0mtest_map\u001b[0m\u001b[0;34m[\u001b[0m\u001b[0mi\u001b[0m\u001b[0;34m]\u001b[0m\u001b[0;34m)\u001b[0m\u001b[0;34m\u001b[0m\u001b[0m\n\u001b[1;32m    137\u001b[0m \u001b[0;34m\u001b[0m\u001b[0m\n\u001b[0;32m--> 138\u001b[0;31m                 \u001b[0mt\u001b[0m \u001b[0;34m=\u001b[0m \u001b[0mtt\u001b[0m\u001b[0;34m(\u001b[0m\u001b[0;34m)\u001b[0m\u001b[0;31m#observation)#neuron_values[nlex_ids][i]['modes'][0]*units_map[i])\u001b[0m\u001b[0;34m\u001b[0m\u001b[0m\n\u001b[0m\u001b[1;32m    139\u001b[0m                 \u001b[0mt\u001b[0m\u001b[0;34m.\u001b[0m\u001b[0mobservation\u001b[0m \u001b[0;34m=\u001b[0m \u001b[0mobservation\u001b[0m\u001b[0;34m\u001b[0m\u001b[0m\n\u001b[1;32m    140\u001b[0m                 \u001b[0mexecutable_tests\u001b[0m\u001b[0;34m[\u001b[0m\u001b[0mcell_name\u001b[0m\u001b[0;34m]\u001b[0m\u001b[0;34m[\u001b[0m\u001b[0mtest_map\u001b[0m\u001b[0;34m[\u001b[0m\u001b[0mi\u001b[0m\u001b[0;34m]\u001b[0m\u001b[0;34m]\u001b[0m \u001b[0;34m=\u001b[0m  \u001b[0mt\u001b[0m\u001b[0;34m\u001b[0m\u001b[0m\n",
      "\u001b[0;32m~/git/safe/neuronunit/neuronunit/tests/waveform.py\u001b[0m in \u001b[0;36m__init__\u001b[0;34m(self, *args, **kwargs)\u001b[0m\n\u001b[1;32m     65\u001b[0m \u001b[0;34m\u001b[0m\u001b[0m\n\u001b[1;32m     66\u001b[0m     \u001b[0;32mdef\u001b[0m \u001b[0m__init__\u001b[0m\u001b[0;34m(\u001b[0m\u001b[0mself\u001b[0m\u001b[0;34m,\u001b[0m \u001b[0;34m*\u001b[0m\u001b[0margs\u001b[0m\u001b[0;34m,\u001b[0m \u001b[0;34m**\u001b[0m\u001b[0mkwargs\u001b[0m\u001b[0;34m)\u001b[0m\u001b[0;34m:\u001b[0m\u001b[0;34m\u001b[0m\u001b[0m\n\u001b[0;32m---> 67\u001b[0;31m         \u001b[0msuper\u001b[0m\u001b[0;34m(\u001b[0m\u001b[0mInjectedCurrentAPWidthTest\u001b[0m\u001b[0;34m,\u001b[0m \u001b[0mself\u001b[0m\u001b[0;34m)\u001b[0m\u001b[0;34m.\u001b[0m\u001b[0m__init__\u001b[0m\u001b[0;34m(\u001b[0m\u001b[0;34m**\u001b[0m\u001b[0margs\u001b[0m\u001b[0;34m,\u001b[0m\u001b[0;34m**\u001b[0m\u001b[0mkwargs\u001b[0m\u001b[0;34m)\u001b[0m\u001b[0;31m#*args, **kwargs)\u001b[0m\u001b[0;34m\u001b[0m\u001b[0m\n\u001b[0m\u001b[1;32m     68\u001b[0m         \u001b[0;32mif\u001b[0m \u001b[0mstr\u001b[0m\u001b[0;34m(\u001b[0m\u001b[0;34m'params'\u001b[0m\u001b[0;34m)\u001b[0m \u001b[0;32min\u001b[0m \u001b[0mkwargs\u001b[0m\u001b[0;34m.\u001b[0m\u001b[0mkeys\u001b[0m\u001b[0;34m(\u001b[0m\u001b[0;34m)\u001b[0m\u001b[0;34m:\u001b[0m\u001b[0;34m\u001b[0m\u001b[0m\n\u001b[1;32m     69\u001b[0m             \u001b[0mself\u001b[0m\u001b[0;34m.\u001b[0m\u001b[0mparams\u001b[0m \u001b[0;34m=\u001b[0m \u001b[0mkwargs\u001b[0m\u001b[0;34m[\u001b[0m\u001b[0;34m'params'\u001b[0m\u001b[0;34m]\u001b[0m\u001b[0;34m\u001b[0m\u001b[0m\n",
      "\u001b[0;31mTypeError\u001b[0m: __init__() argument after ** must be a mapping, not tuple"
     ]
    },
    {
     "data": {
      "text/plain": [
       "<Figure size 432x288 with 0 Axes>"
      ]
     },
     "metadata": {},
     "output_type": "display_data"
    },
    {
     "data": {
      "text/plain": [
       "<Figure size 432x288 with 0 Axes>"
      ]
     },
     "metadata": {},
     "output_type": "display_data"
    },
    {
     "data": {
      "text/plain": [
       "<Figure size 432x288 with 0 Axes>"
      ]
     },
     "metadata": {},
     "output_type": "display_data"
    },
    {
     "data": {
      "text/plain": [
       "<Figure size 432x288 with 0 Axes>"
      ]
     },
     "metadata": {},
     "output_type": "display_data"
    },
    {
     "data": {
      "text/plain": [
       "<Figure size 432x288 with 0 Axes>"
      ]
     },
     "metadata": {},
     "output_type": "display_data"
    },
    {
     "data": {
      "text/plain": [
       "<Figure size 432x288 with 0 Axes>"
      ]
     },
     "metadata": {},
     "output_type": "display_data"
    },
    {
     "data": {
      "text/plain": [
       "<Figure size 432x288 with 0 Axes>"
      ]
     },
     "metadata": {},
     "output_type": "display_data"
    },
    {
     "data": {
      "text/plain": [
       "<Figure size 432x288 with 0 Axes>"
      ]
     },
     "metadata": {},
     "output_type": "display_data"
    },
    {
     "data": {
      "text/plain": [
       "<Figure size 432x288 with 0 Axes>"
      ]
     },
     "metadata": {},
     "output_type": "display_data"
    },
    {
     "data": {
      "image/png": "[encoded data removed]",
      "text/plain": [
       "<Figure size 432x288 with 1 Axes>"
      ]
     },
     "metadata": {},
     "output_type": "display_data"
    }
   ],
   "source": [
    "from neuronunit.tests.use_bi_tests import name_map, test_map, units_map\n",
    "from neuronunit import tests as _, neuroelectro\n",
    "import urllib"
   ]
  },
  {
   "cell_type": "code",
   "execution_count": null,
   "metadata": {},
   "outputs": [],
   "source": [
    "with urllib.request.urlopen(\"https://neuroelectro.org/api/1/e/\") as url:\n",
    "    ontologies = json.loads(url.read().decode())\n",
    "    #print(ontologies)                                                                                                                                                                                                                    \n",
    "#with urllib.request.urlopen(\"https://neuroelectro.org/api/1/e/\") as url:                                                                                                                                                                 \n",
    "#    ontologies = json.loads(url.read().decode())                                                                                                                                                                                         \n",
    "obs = []\n",
    "for name,id_code in name_map.items():\n",
    "    for l in ontologies['objects']:\n",
    "        print(p,l)\n",
    "        try:\n",
    "            print('obs.append(neuroelectro_summary_observation(p,l))')\n",
    "            obs.append(neuroelectro_summary_observation(p,l))\n",
    "            print('worked')\n",
    "        except:\n",
    "            print('did not work')\n",
    "return obs\n"
   ]
  },
  {
   "cell_type": "code",
   "execution_count": null,
   "metadata": {},
   "outputs": [],
   "source": []
  }
 ],
 "metadata": {
  "kernelspec": {
   "display_name": "Python 3",
   "language": "python",
   "name": "python3"
  },
  "language_info": {
   "codemirror_mode": {
    "name": "ipython",
    "version": 3
   },
   "file_extension": ".py",
   "mimetype": "text/x-python",
   "name": "python",
   "nbconvert_exporter": "python",
   "pygments_lexer": "ipython3",
   "version": "3.6.5"
  }
 },
 "nbformat": 4,
 "nbformat_minor": 2
}
