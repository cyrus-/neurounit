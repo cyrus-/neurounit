{
 "cells": [
  {
   "cell_type": "markdown",
   "metadata": {},
   "source": [
    "# Chapter8\n",
    "## Getting Neuro-Electro Data, and modifying it to optimize against means and modes of data"
   ]
  },
  {
   "cell_type": "code",
   "execution_count": 7,
   "metadata": {},
   "outputs": [],
   "source": [
    "\n",
    "import quantities as pq\n",
    "test_map = {1:'CapacitanceTest',2:'InputResistanceTest',3:'RestingPotentialTest',4:'TimeConstantTest',\\\n",
    "            5:'InjectedCurrentAPAmplitudeTest',6:'InjectedCurrentAPWidthTest',\\\n",
    "            7:'InjectedCurrentAPThresholdTest',8:'RheobaseTest'}\n",
    "\n",
    "units_map = {1:pq.pF,2:pq.MOhm,3:pq.mV,4:pq.ms,\\\n",
    "            5:pq.mV,6:pq.ms,\\\n",
    "            7:pq.mV,8:pq.pA}\n",
    "\n",
    "complete_map = {}\n",
    "for k,v in units_map.items():\n",
    "    complete_map[test_map[k]] = units_map[k]\n",
    "\n",
    "name_map ={}\n",
    "name_map[\"Cerebellum Purkinje cell\"] = \"sao471801888\"\n",
    "name_map[\"Dentate gyrus basket cell\"] = \"nlx_cell_100201\"\n",
    "name_map[\"Hippocampus CA1 basket cell\"] = \"nlx_cell_091205\"\n",
    "name_map[\"Neocortex pyramidal cell layer 5-6\"] = \"nifext_50\"\n",
    "name_map[\"Olfactory bulb (main) mitral cell\"] = \"nlx_anat_100201\"\n",
    "name_map[\"Hippocampus CA1 pyramidal cell\"] = \"sao830368389\"\n",
    "                                                                                                                                                                                   \n",
    "inv_name_map = {v: k for k, v in name_map.items()}\n",
    "executable_tests = {}\n",
    "#russell_tests = {}\n"
   ]
  },
  {
   "cell_type": "code",
   "execution_count": null,
   "metadata": {},
   "outputs": [],
   "source": [
    "from neuronunit.optimisation import get_neab as gn\n",
    "\n",
    "# get some mean based tests instead of mode based tests:\n",
    "conventional_mean_based_tests = gn.get_tests()#backend=str('RAW'))"
   ]
  },
  {
   "cell_type": "code",
   "execution_count": 4,
   "metadata": {},
   "outputs": [],
   "source": [
    "from neuronunit.tests.use_bi_tests import name_map, test_map, units_map"
   ]
  },
  {
   "cell_type": "code",
   "execution_count": null,
   "metadata": {},
   "outputs": [],
   "source": []
  }
 ],
 "metadata": {
  "kernelspec": {
   "display_name": "Python 3",
   "language": "python",
   "name": "python3"
  },
  "language_info": {
   "codemirror_mode": {
    "name": "ipython",
    "version": 3
   },
   "file_extension": ".py",
   "mimetype": "text/x-python",
   "name": "python",
   "nbconvert_exporter": "python",
   "pygments_lexer": "ipython3",
   "version": "3.6.5"
  }
 },
 "nbformat": 4,
 "nbformat_minor": 2
}
