{
 "cells": [
  {
   "cell_type": "code",
   "execution_count": 1,
   "metadata": {},
   "outputs": [
    {
     "data": {
      "image/png": "[encoded data removed]",
      "text/plain": [
       "<Figure size 432x288 with 1 Axes>"
      ]
     },
     "metadata": {
      "needs_background": "light"
     },
     "output_type": "display_data"
    },
    {
     "name": "stderr",
     "output_type": "stream",
     "text": [
      "/home/russell/safe2/neuronunit/neuronunit/optimisation/optimization_management.py:8: UserWarning: X11 plotting backend not available, consider installing\n",
      "  warnings.warn('X11 plotting backend not available, consider installing')\n"
     ]
    },
    {
     "name": "stdout",
     "output_type": "stream",
     "text": [
      "consider installing pynn a heavier backend\n"
     ]
    },
    {
     "name": "stderr",
     "output_type": "stream",
     "text": [
      "INFO       Cache size for target \"cython\": 4765 MB.\n",
      "You can call \"clear_cache('cython')\" to delete all files from the cache or manually delete files in the \"/home/russell/.cython/brian_extensions\" directory. [brian2]\n"
     ]
    },
    {
     "name": "stdout",
     "output_type": "stream",
     "text": [
      "pynn python Error\n",
      "glif python Error\n",
      "/home/russell/safe2/neuronunit/neuronunit/tests/multicellular_constraints.p\n"
     ]
    }
   ],
   "source": [
    "import matplotlib.pyplot as plt\n",
    "plt.plot([0,1],[1,0])\n",
    "plt.show()\n",
    "from neuronunit.optimisation.optimization_management import inject_and_plot_model, dtc_to_rheo, inject_and_plot_passive_model\n",
    "import numpy as np\n",
    "from neuronunit.optimisation.data_transport_container import DataTC\n"
   ]
  },
  {
   "cell_type": "code",
   "execution_count": null,
   "metadata": {},
   "outputs": [],
   "source": []
  },
  {
   "cell_type": "code",
   "execution_count": null,
   "metadata": {},
   "outputs": [],
   "source": []
  },
  {
   "cell_type": "code",
   "execution_count": null,
   "metadata": {},
   "outputs": [],
   "source": [
    "from neuronunit.optimisation import model_parameters\n",
    "model_parameters.MODEL_PARAMS.keys()\n",
    "backends = [\"RAW\", \"ADEXP\", \"HH\",\"BHH\"]#\"GLIF\",\"NEURON\"]\n",
    "fig, axs = plt.subplots(len(backends)+1,figsize=(40, 40))\n",
    "cnt=0\n",
    "for b in backends:\n",
    "    raw_attrs = {k:np.mean(v) for k,v in model_parameters.MODEL_PARAMS[b].items()}\n",
    "    pre_model = DataTC()\n",
    "    if str(\"V_REST\") in raw_attrs.keys():\n",
    "        raw_attrs[\"V_REST\"] = -75.0\n",
    "    pre_model.attrs = raw_attrs\n",
    "\n",
    "    pre_model.backend = b\n",
    "    \n",
    "\n",
    "    vm,_ = inject_and_plot_passive_model(raw_attrs,b)\n",
    "    #axs[cnt].clf()\n",
    "    axs[cnt].plot(vm.times,vm.magnitude)\n",
    "    axs[cnt].set_title(b)\n",
    "\n",
    "    cnt+=1\n",
    "#fig.show()  "
   ]
  },
  {
   "cell_type": "code",
   "execution_count": null,
   "metadata": {},
   "outputs": [],
   "source": []
  },
  {
   "cell_type": "code",
   "execution_count": null,
   "metadata": {},
   "outputs": [],
   "source": []
  },
  {
   "cell_type": "code",
   "execution_count": null,
   "metadata": {},
   "outputs": [],
   "source": []
  },
  {
   "cell_type": "code",
   "execution_count": null,
   "metadata": {},
   "outputs": [],
   "source": [
    "from neuronunit.optimisation import model_parameters\n",
    "model_parameters.MODEL_PARAMS.keys()\n",
    "backends = [\"RAW\", \"ADEXP\", \"HH\",\"BHH\"]\n",
    "fig, axs = plt.subplots(len(backends)+1,figsize=(30, 30))\n",
    "cnt=0\n",
    "for b in backends:\n",
    "    print(b)\n",
    "    raw_attrs = {k:np.mean(v) for k,v in model_parameters.MODEL_PARAMS[b].items()}\n",
    "    pre_model = DataTC()\n",
    "    if str(\"V_REST\") in raw_attrs.keys():\n",
    "        raw_attrs[\"V_REST\"] = -75.0\n",
    "\n",
    "    pre_model.attrs = raw_attrs\n",
    "    pre_model.backend = b\n",
    "    dtc = dtc_to_rheo(pre_model)\n",
    "    print(dtc.rheobase)\n",
    "    \n",
    "    vm,_ = inject_and_plot_model(raw_attrs,b)\n",
    "    #vm,_ = inject_and_plot_passive_model(raw_attrs,b)\n",
    "    axs[cnt].plot(vm.times,vm.magnitude)\n",
    "    axs[cnt].set_title(b)\n",
    "\n",
    "    cnt+=1\n",
    "#fig.show()  \n",
    "    #inject_and_plot_passive_model(raw_attrs,b)\n"
   ]
  },
  {
   "cell_type": "code",
   "execution_count": null,
   "metadata": {},
   "outputs": [],
   "source": []
  },
  {
   "cell_type": "code",
   "execution_count": 4,
   "metadata": {},
   "outputs": [],
   "source": [
    "import brian2 as b2\n",
    "\n",
    "b2.A = 1000000000000*b2.pA"
   ]
  },
  {
   "cell_type": "code",
   "execution_count": 5,
   "metadata": {},
   "outputs": [],
   "source": [
    "from neuronunit.optimisation import model_parameters\n",
    "model_parameters.MODEL_PARAMS.keys()\n",
    "backend = \"RAW\"\n",
    "raw_attrs = {k:np.mean(v) for k,v in model_parameters.MODEL_PARAMS[backend].items()}\n"
   ]
  },
  {
   "cell_type": "code",
   "execution_count": 6,
   "metadata": {},
   "outputs": [
    {
     "name": "stdout",
     "output_type": "stream",
     "text": [
      "{'amplitude': array(0.16132593154907227) * pA, 'duration': array(1000.0) * ms, 'delay': array(100.0) * ms}\n"
     ]
    },
    {
     "data": {
      "text/plain": [
       "(AnalogSignal with 1 channels of length 260000; units mV; datatype float64 \n",
       " sampling rate: 200.0 1/ms\n",
       " time: 0.0 s to 1.3 s,\n",
       " <module 'matplotlib.pyplot' from '/usr/local/lib/python3.6/dist-packages/matplotlib/pyplot.py'>)"
      ]
     },
     "execution_count": 6,
     "metadata": {},
     "output_type": "execute_result"
    },
    {
     "data": {
      "image/png": "[encoded data removed]",
      "text/plain": [
       "<Figure size 432x288 with 1 Axes>"
      ]
     },
     "metadata": {
      "needs_background": "light"
     },
     "output_type": "display_data"
    }
   ],
   "source": [
    "inject_and_plot_model(raw_attrs,backend)\n"
   ]
  },
  {
   "cell_type": "code",
   "execution_count": 7,
   "metadata": {},
   "outputs": [
    {
     "data": {
      "text/plain": [
       "array(3.408712148666382) * pA"
      ]
     },
     "execution_count": 7,
     "metadata": {},
     "output_type": "execute_result"
    }
   ],
   "source": [
    "pre_model.rheobase"
   ]
  },
  {
   "cell_type": "code",
   "execution_count": 8,
   "metadata": {},
   "outputs": [
    {
     "name": "stdout",
     "output_type": "stream",
     "text": [
      "/home/russell/safe2/neuronunit/neuronunit/examples/../tests/multicellular_constraints.p\n"
     ]
    },
    {
     "data": {
      "text/plain": [
       "dict_keys(['Cerebellum Purkinje cell', 'Neocortex pyramidal cell layer 5-6'])"
      ]
     },
     "execution_count": 8,
     "metadata": {},
     "output_type": "execute_result"
    }
   ],
   "source": [
    "\n",
    "from neuronunit.optimisation.optimization_management import TSD\n",
    "from neuronunit.optimisation.optimization_management import OptMan\n",
    "from neuronunit.optimisation import mint_tests\n",
    "\n",
    "import os\n",
    "import pickle\n",
    "electro_path = str(os.getcwd())+'/../tests/multicellular_constraints.p'\n",
    "print(electro_path)\n",
    "os.path.isfile(electro_path)\n",
    "assert os.path.isfile(electro_path) == True\n",
    "with open(electro_path,'rb') as f:\n",
    "    test_frame = pickle.load(f)\n",
    "filtered_tests = {key:val for key,val in test_frame.items()}\n",
    "filtered_tests.keys()"
   ]
  },
  {
   "cell_type": "code",
   "execution_count": null,
   "metadata": {},
   "outputs": [
    {
     "name": "stdout",
     "output_type": "stream",
     "text": [
      "> /home/russell/safe2/neuronunit/neuronunit/optimisation/optimization_management.py(215)__init__()\n",
      "-> super(TSD,self).__init__(tests)\n"
     ]
    },
    {
     "name": "stdin",
     "output_type": "stream",
     "text": [
      "(Pdb)  tests\n"
     ]
    },
    {
     "name": "stdout",
     "output_type": "stream",
     "text": [
      "{'Injected current AP width test': <neuronunit.tests.waveform.InjectedCurrentAPWidthTest object at 0x7ff0f1cb2f60>, 'Injected current AP threshold test': <neuronunit.tests.waveform.InjectedCurrentAPThresholdTest object at 0x7ff0f1cb2080>, 'Resting potential test': <neuronunit.tests.passive.RestingPotentialTest object at 0x7ff0f1cb2588>, 'Input resistance test': <neuronunit.tests.passive.InputResistanceTest object at 0x7ff0f1cb2898>, 'Injected current AP amplitude test': <neuronunit.tests.waveform.InjectedCurrentAPAmplitudeTest object at 0x7ff0f1cb27f0>, 'Time constant test': <neuronunit.tests.passive.TimeConstantTest object at 0x7ff0f1cb2c88>, 'Rheobase test': <neuronunit.tests.fi.RheobaseTest object at 0x7ff0f1cb26a0>, 'Capacitance test': <neuronunit.tests.passive.CapacitanceTest object at 0x7ff0f2b02dd8>, 'name': 'Neocortex pyramidal cell layer 5-6'}\n"
     ]
    },
    {
     "name": "stdin",
     "output_type": "stream",
     "text": [
      "(Pdb)  dir()\n"
     ]
    },
    {
     "name": "stdout",
     "output_type": "stream",
     "text": [
      "['__class__', 'pdb', 'self', 'tests', 'use_rheobase_score']\n"
     ]
    },
    {
     "name": "stdin",
     "output_type": "stream",
     "text": [
      "(Pdb)  super(TSD,self).__init__(tests)\n"
     ]
    },
    {
     "name": "stdout",
     "output_type": "stream",
     "text": [
      "*** TypeError: Test suite was not provided with a test or iterable.\n"
     ]
    },
    {
     "name": "stdin",
     "output_type": "stream",
     "text": [
      "(Pdb)  super(TSD,self).__init__(tests)\n"
     ]
    },
    {
     "name": "stdout",
     "output_type": "stream",
     "text": [
      "*** TypeError: Test suite was not provided with a test or iterable.\n"
     ]
    },
    {
     "name": "stdin",
     "output_type": "stream",
     "text": [
      "(Pdb)  tests\n"
     ]
    },
    {
     "name": "stdout",
     "output_type": "stream",
     "text": [
      "{'Injected current AP width test': <neuronunit.tests.waveform.InjectedCurrentAPWidthTest object at 0x7ff0f1cb2f60>, 'Injected current AP threshold test': <neuronunit.tests.waveform.InjectedCurrentAPThresholdTest object at 0x7ff0f1cb2080>, 'Resting potential test': <neuronunit.tests.passive.RestingPotentialTest object at 0x7ff0f1cb2588>, 'Input resistance test': <neuronunit.tests.passive.InputResistanceTest object at 0x7ff0f1cb2898>, 'Injected current AP amplitude test': <neuronunit.tests.waveform.InjectedCurrentAPAmplitudeTest object at 0x7ff0f1cb27f0>, 'Time constant test': <neuronunit.tests.passive.TimeConstantTest object at 0x7ff0f1cb2c88>, 'Rheobase test': <neuronunit.tests.fi.RheobaseTest object at 0x7ff0f1cb26a0>, 'Capacitance test': <neuronunit.tests.passive.CapacitanceTest object at 0x7ff0f2b02dd8>, 'name': 'Neocortex pyramidal cell layer 5-6'}\n"
     ]
    },
    {
     "name": "stdin",
     "output_type": "stream",
     "text": [
      "(Pdb)  tests.to_list()\n"
     ]
    },
    {
     "name": "stdout",
     "output_type": "stream",
     "text": [
      "*** AttributeError: 'dict' object has no attribute 'to_list'\n"
     ]
    },
    {
     "name": "stdin",
     "output_type": "stream",
     "text": [
      "(Pdb)  dir(tests)\n"
     ]
    },
    {
     "name": "stdout",
     "output_type": "stream",
     "text": [
      "['__class__', '__contains__', '__delattr__', '__delitem__', '__dir__', '__doc__', '__eq__', '__format__', '__ge__', '__getattribute__', '__getitem__', '__gt__', '__hash__', '__init__', '__init_subclass__', '__iter__', '__le__', '__len__', '__lt__', '__ne__', '__new__', '__reduce__', '__reduce_ex__', '__repr__', '__setattr__', '__setitem__', '__sizeof__', '__str__', '__subclasshook__', 'clear', 'copy', 'fromkeys', 'get', 'items', 'keys', 'pop', 'popitem', 'setdefault', 'update', 'values']\n"
     ]
    },
    {
     "name": "stdin",
     "output_type": "stream",
     "text": [
      "(Pdb)  list(test.values())\n"
     ]
    },
    {
     "name": "stdout",
     "output_type": "stream",
     "text": [
      "*** Error in argument: '(test.values())'\n"
     ]
    },
    {
     "name": "stdin",
     "output_type": "stream",
     "text": [
      "(Pdb)  list(tests.values())\n"
     ]
    },
    {
     "name": "stdout",
     "output_type": "stream",
     "text": [
      "*** Error in argument: '(tests.values())'\n"
     ]
    },
    {
     "name": "stdin",
     "output_type": "stream",
     "text": [
      "(Pdb)  tests\n"
     ]
    },
    {
     "name": "stdout",
     "output_type": "stream",
     "text": [
      "{'Injected current AP width test': <neuronunit.tests.waveform.InjectedCurrentAPWidthTest object at 0x7ff0f1cb2f60>, 'Injected current AP threshold test': <neuronunit.tests.waveform.InjectedCurrentAPThresholdTest object at 0x7ff0f1cb2080>, 'Resting potential test': <neuronunit.tests.passive.RestingPotentialTest object at 0x7ff0f1cb2588>, 'Input resistance test': <neuronunit.tests.passive.InputResistanceTest object at 0x7ff0f1cb2898>, 'Injected current AP amplitude test': <neuronunit.tests.waveform.InjectedCurrentAPAmplitudeTest object at 0x7ff0f1cb27f0>, 'Time constant test': <neuronunit.tests.passive.TimeConstantTest object at 0x7ff0f1cb2c88>, 'Rheobase test': <neuronunit.tests.fi.RheobaseTest object at 0x7ff0f1cb26a0>, 'Capacitance test': <neuronunit.tests.passive.CapacitanceTest object at 0x7ff0f2b02dd8>, 'name': 'Neocortex pyramidal cell layer 5-6'}\n"
     ]
    },
    {
     "name": "stdin",
     "output_type": "stream",
     "text": [
      "(Pdb)  tests.values\n"
     ]
    },
    {
     "name": "stdout",
     "output_type": "stream",
     "text": [
      "<built-in method values of dict object at 0x7ff0f0f5b948>\n"
     ]
    },
    {
     "name": "stdin",
     "output_type": "stream",
     "text": [
      "(Pdb)  tests.values()\n"
     ]
    },
    {
     "name": "stdout",
     "output_type": "stream",
     "text": [
      "dict_values([<neuronunit.tests.waveform.InjectedCurrentAPWidthTest object at 0x7ff0f1cb2f60>, <neuronunit.tests.waveform.InjectedCurrentAPThresholdTest object at 0x7ff0f1cb2080>, <neuronunit.tests.passive.RestingPotentialTest object at 0x7ff0f1cb2588>, <neuronunit.tests.passive.InputResistanceTest object at 0x7ff0f1cb2898>, <neuronunit.tests.waveform.InjectedCurrentAPAmplitudeTest object at 0x7ff0f1cb27f0>, <neuronunit.tests.passive.TimeConstantTest object at 0x7ff0f1cb2c88>, <neuronunit.tests.fi.RheobaseTest object at 0x7ff0f1cb26a0>, <neuronunit.tests.passive.CapacitanceTest object at 0x7ff0f2b02dd8>, 'Neocortex pyramidal cell layer 5-6'])\n"
     ]
    }
   ],
   "source": [
    "\n",
    "try:\n",
    "    assert os.path.isfile(electro_path) == True\n",
    "    with open(electro_path,'rb') as f:\n",
    "        test_frame = pickle.load(f)\n",
    "    filtered_tests = {key:val for key,val in test_frame.items()}\n",
    "except:\n",
    "    \n",
    "    filtered_tests = mint_tests.get_cell_constraints()\n",
    "\n",
    "def precursive_testing(test_frame):\n",
    "    NGEN = 8\n",
    "    MU = 4\n",
    "    \n",
    "    tests= test_frame['Neocortex pyramidal cell layer 5-6']\n",
    "    tests['name'] = 'Neocortex pyramidal cell layer 5-6'\n",
    "    place_holder = TSD(tests,use_rheobase_score=True)\n",
    "    OM = OptMan(ca1,protocol={'elephant':True,'allen':False})\n",
    "    out = OM.simulated_data_tests(place_holder,backend,model_parameters.MODEL_PARAMS[backend], NGEN=NGEN, MU=MU)\n",
    "    return out\n",
    "out = precursive_testing(filtered_tests)"
   ]
  },
  {
   "cell_type": "code",
   "execution_count": null,
   "metadata": {},
   "outputs": [],
   "source": [
    "from sciunit import TestSuite\n",
    "from types import MethodType\n",
    "\n",
    "def optimize_selection(cell_id,backend): \n",
    "    #code; \n",
    "    NGEN = 8\n",
    "    MU = 4\n",
    "    tests= self.test_frame['Hippocampus CA1 pyramidal cell']\n",
    "    tests['name'] = 'Hippocampus CA1 pyramidal cell'\n",
    "    a = TestSuite(tests)\n",
    "\n",
    "    a.optimize = MethodType(optimize,a)\n",
    "    tests = TSD(tests = tests,use_rheobase_score=True)\n",
    "    tests.optimize(param_edges,backend=None,protocol={'allen': False, 'elephant': True},\\\n",
    "        MU=5,NGEN=5,free_params=None,seed_pop=None,hold_constant=None)\n",
    "\n",
    "    return optimized_models, passive_vm, spiking_vm, observations, predictions \n"
   ]
  },
  {
   "cell_type": "code",
   "execution_count": null,
   "metadata": {},
   "outputs": [],
   "source": []
  }
 ],
 "metadata": {
  "kernelspec": {
   "display_name": "Python 3",
   "language": "python",
   "name": "python3"
  },
  "language_info": {
   "codemirror_mode": {
    "name": "ipython",
    "version": 3
   },
   "file_extension": ".py",
   "mimetype": "text/x-python",
   "name": "python",
   "nbconvert_exporter": "python",
   "pygments_lexer": "ipython3",
   "version": "3.6.9"
  }
 },
 "nbformat": 4,
 "nbformat_minor": 4
}
