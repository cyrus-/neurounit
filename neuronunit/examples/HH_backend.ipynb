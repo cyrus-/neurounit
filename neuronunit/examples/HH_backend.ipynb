{
 "cells": [
  {
   "cell_type": "code",
   "execution_count": 1,
   "metadata": {},
   "outputs": [
    {
     "name": "stderr",
     "output_type": "stream",
     "text": [
      "/usr/local/lib/python3.5/dist-packages/dask/config.py:168: YAMLLoadWarning: calling yaml.load() without Loader=... is deprecated, as the default Loader is unsafe. Please read https://msg.pyyaml.org/load for full details.\n",
      "  data = yaml.load(f.read()) or {}\n",
      "/home/russell/safe2/neuronunit/neuronunit/optimisation/optimization_management.py:8: UserWarning: X11 plotting backend not available, consider installing\n",
      "  warnings.warn('X11 plotting backend not available, consider installing')\n"
     ]
    },
    {
     "name": "stdout",
     "output_type": "stream",
     "text": [
      "consider installing pynn a heavier backend\n"
     ]
    },
    {
     "name": "stderr",
     "output_type": "stream",
     "text": [
      "INFO       Cache size for target \"cython\": 3424 MB.\n",
      "You can call \"clear_cache('cython')\" to delete all files from the cache or manually delete files in the \"/home/russell/.cython/brian_extensions\" directory. [brian2]\n"
     ]
    },
    {
     "name": "stdout",
     "output_type": "stream",
     "text": [
      "pynn python Error\n",
      "18256.938660275067 pA\n",
      "{'amplitude': 18256.938660275067, 'duration': array(1000.) * ms, 'delay': array(100.) * ms} 18256.938660275067 pA\n"
     ]
    },
    {
     "name": "stderr",
     "output_type": "stream",
     "text": [
      "WARNING    /usr/local/lib/python3.5/dist-packages/matplotlib/figure.py:445: UserWarning: Matplotlib is currently using agg, which is a non-GUI backend, so cannot show the figure.\n",
      "  % get_backend())\n",
      " [py.warnings]\n",
      "WARNING:py.warnings:/usr/local/lib/python3.5/dist-packages/matplotlib/figure.py:445: UserWarning: Matplotlib is currently using agg, which is a non-GUI backend, so cannot show the figure.\n",
      "  % get_backend())\n",
      "\n"
     ]
    }
   ],
   "source": [
    "import matplotlib.pyplot as plt\n",
    "plt.show()\n",
    "#fig = plt.\n",
    "from neuronunit.tests import DELAY, DURATION\n",
    "from neuronunit.optimisation.data_transport_container import DataTC    \n",
    "from neuronunit.optimisation.optimization_management import dtc_to_rheo  \n",
    "from neuronunit.capabilities.spike_functions import get_spike_waveforms\n",
    "\n",
    "def inject_and_plot_model(attrs,backend,snippets=False):\n",
    "    pre_model = DataTC()             \n",
    "    pre_model.attrs = attrs\n",
    "    pre_model.backend = backend\n",
    "    # get rheobase injection value\n",
    "    pre_model = dtc_to_rheo(pre_model)\n",
    "    print(pre_model.rheobase)\n",
    "    # get an object of class ReducedModel with known attributes and known rheobase current injection value.\n",
    "    model = pre_model.dtc_to_model()\n",
    "    uc = {'amplitude':float(model.rheobase),'duration':DURATION,'delay':DELAY} \n",
    "    print(uc,model.rheobase)\n",
    "    model.inject_square_current(uc)\n",
    "    vm = model.get_membrane_potential()\n",
    "    if snippets == True:\n",
    "        snippets_ = get_spike_waveforms(vm)\n",
    "        plt.plot(snippets_.times,snippets_.magnitude)\n",
    "    else:\n",
    "        plt.plot(vm.times,vm.magnitude)\n",
    "    plt.show()\n",
    "    return vm,pre_model\n",
    "\n",
    "attrs = { 'El' : 10.6,\n",
    "        'EK' : -12,\n",
    "        'ENa' : 115,\n",
    "        'gl' : 0.3,\n",
    "        'gK' : 36,\n",
    "        'gNa' : 120,\n",
    "        'C' : 1,\n",
    "        'Vr':-55.0 }\n",
    "backend = str(\"BHH\")  \n",
    "vm,dtc = inject_and_plot_model(attrs,backend,snippets=False)"
   ]
  },
  {
   "cell_type": "code",
   "execution_count": 3,
   "metadata": {},
   "outputs": [
    {
     "name": "stdout",
     "output_type": "stream",
     "text": [
      "1 spikes\n",
      "1 spikes\n",
      "None\n"
     ]
    },
    {
     "ename": "TypeError",
     "evalue": "float() argument must be a string or a number, not 'NoneType'",
     "output_type": "error",
     "traceback": [
      "\u001b[0;31m---------------------------------------------------------------------------\u001b[0m",
      "\u001b[0;31mTypeError\u001b[0m                                 Traceback (most recent call last)",
      "\u001b[0;32m<ipython-input-3-9de6c10b9ec7>\u001b[0m in \u001b[0;36m<module>\u001b[0;34m()\u001b[0m\n\u001b[1;32m      9\u001b[0m         'vr':-65.0}\n\u001b[1;32m     10\u001b[0m \u001b[0;34m\u001b[0m\u001b[0m\n\u001b[0;32m---> 11\u001b[0;31m \u001b[0mvm\u001b[0m\u001b[0;34m,\u001b[0m\u001b[0mdtc\u001b[0m \u001b[0;34m=\u001b[0m \u001b[0minject_and_plot_model\u001b[0m\u001b[0;34m(\u001b[0m\u001b[0mattrs\u001b[0m\u001b[0;34m,\u001b[0m\u001b[0mstr\u001b[0m\u001b[0;34m(\u001b[0m\u001b[0;34m\"HH\"\u001b[0m\u001b[0;34m)\u001b[0m\u001b[0;34m,\u001b[0m\u001b[0msnippets\u001b[0m\u001b[0;34m=\u001b[0m\u001b[0;32mFalse\u001b[0m\u001b[0;34m)\u001b[0m\u001b[0;34m\u001b[0m\u001b[0m\n\u001b[0m",
      "\u001b[0;32m<ipython-input-1-d2597500b4d5>\u001b[0m in \u001b[0;36minject_and_plot_model\u001b[0;34m(attrs, backend, snippets)\u001b[0m\n\u001b[1;32m     16\u001b[0m     \u001b[0;31m# get an object of class ReducedModel with known attributes and known rheobase current injection value.\u001b[0m\u001b[0;34m\u001b[0m\u001b[0;34m\u001b[0m\u001b[0m\n\u001b[1;32m     17\u001b[0m     \u001b[0mmodel\u001b[0m \u001b[0;34m=\u001b[0m \u001b[0mpre_model\u001b[0m\u001b[0;34m.\u001b[0m\u001b[0mdtc_to_model\u001b[0m\u001b[0;34m(\u001b[0m\u001b[0;34m)\u001b[0m\u001b[0;34m\u001b[0m\u001b[0m\n\u001b[0;32m---> 18\u001b[0;31m     \u001b[0muc\u001b[0m \u001b[0;34m=\u001b[0m \u001b[0;34m{\u001b[0m\u001b[0;34m'amplitude'\u001b[0m\u001b[0;34m:\u001b[0m\u001b[0mfloat\u001b[0m\u001b[0;34m(\u001b[0m\u001b[0mmodel\u001b[0m\u001b[0;34m.\u001b[0m\u001b[0mrheobase\u001b[0m\u001b[0;34m)\u001b[0m\u001b[0;34m,\u001b[0m\u001b[0;34m'duration'\u001b[0m\u001b[0;34m:\u001b[0m\u001b[0mDURATION\u001b[0m\u001b[0;34m,\u001b[0m\u001b[0;34m'delay'\u001b[0m\u001b[0;34m:\u001b[0m\u001b[0mDELAY\u001b[0m\u001b[0;34m}\u001b[0m\u001b[0;34m\u001b[0m\u001b[0m\n\u001b[0m\u001b[1;32m     19\u001b[0m     \u001b[0mprint\u001b[0m\u001b[0;34m(\u001b[0m\u001b[0muc\u001b[0m\u001b[0;34m,\u001b[0m\u001b[0mmodel\u001b[0m\u001b[0;34m.\u001b[0m\u001b[0mrheobase\u001b[0m\u001b[0;34m)\u001b[0m\u001b[0;34m\u001b[0m\u001b[0m\n\u001b[1;32m     20\u001b[0m     \u001b[0mmodel\u001b[0m\u001b[0;34m.\u001b[0m\u001b[0minject_square_current\u001b[0m\u001b[0;34m(\u001b[0m\u001b[0muc\u001b[0m\u001b[0;34m)\u001b[0m\u001b[0;34m\u001b[0m\u001b[0m\n",
      "\u001b[0;31mTypeError\u001b[0m: float() argument must be a string or a number, not 'NoneType'"
     ]
    }
   ],
   "source": [
    "#from neuronunit.optimisation.optimization_management import inject_and_plot_model\n",
    "attrs = { 'E_L' : 9.6,\n",
    "        'E_K' : -12,\n",
    "        'E_Na' : 115,\n",
    "        'g_L' : 0.3,\n",
    "        'g_K' : 36,\n",
    "        'g_Na' : 120,\n",
    "        'C_m' : 1,\n",
    "        'vr':-65.0}\n",
    "\n",
    "vm,dtc = inject_and_plot_model(attrs,str(\"HH\"),snippets=False)"
   ]
  },
  {
   "cell_type": "code",
   "execution_count": null,
   "metadata": {},
   "outputs": [],
   "source": []
  },
  {
   "cell_type": "code",
   "execution_count": 4,
   "metadata": {},
   "outputs": [
    {
     "data": {
      "image/png": "[encoded data removed]",
      "text/plain": [
       "<Figure size 432x288 with 1 Axes>"
      ]
     },
     "metadata": {},
     "output_type": "display_data"
    },
    {
     "data": {
      "text/plain": [
       "[<neuronunit.optimisation.data_transport_container.DataTC at 0x7f0fc0b56208>,\n",
       " None,\n",
       " None]"
      ]
     },
     "execution_count": 4,
     "metadata": {},
     "output_type": "execute_result"
    }
   ],
   "source": [
    "'''\n",
    "from neuronunit.plottools import inject_and_plot\n",
    "inject_and_plot(dtc,snippets=False)\n",
    "'''"
   ]
  },
  {
   "cell_type": "code",
   "execution_count": null,
   "metadata": {},
   "outputs": [],
   "source": [
    "dtc.rheobase"
   ]
  },
  {
   "cell_type": "code",
   "execution_count": null,
   "metadata": {},
   "outputs": [],
   "source": [
    "inject_and_plot(dtc,snippets=False)"
   ]
  },
  {
   "cell_type": "code",
   "execution_count": null,
   "metadata": {},
   "outputs": [],
   "source": []
  },
  {
   "cell_type": "code",
   "execution_count": null,
   "metadata": {},
   "outputs": [],
   "source": []
  }
 ],
 "metadata": {
  "kernelspec": {
   "display_name": "Python 3",
   "language": "python",
   "name": "python3"
  },
  "language_info": {
   "codemirror_mode": {
    "name": "ipython",
    "version": 3
   },
   "file_extension": ".py",
   "mimetype": "text/x-python",
   "name": "python",
   "nbconvert_exporter": "python",
   "pygments_lexer": "ipython3",
   "version": "3.5.2"
  }
 },
 "nbformat": 4,
 "nbformat_minor": 4
}
