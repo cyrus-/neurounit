{
 "cells": [
  {
   "cell_type": "markdown",
   "metadata": {},
   "source": [
    "### Demonstration of using `Test.setup_protocol` to rewrite the NeuroML file before sending it to a remote Geppetto server."
   ]
  },
  {
   "cell_type": "code",
   "execution_count": 10,
   "metadata": {},
   "outputs": [],
   "source": [
    "import quantities as pq\n",
    "from neuronunit.tests.passive import InputResistanceTest\n",
    "from neuronunit.models.reduced import ReducedModel\n",
    "# Don't worry about not being able to load the NEURONBackend"
   ]
  },
  {
   "cell_type": "code",
   "execution_count": 2,
   "metadata": {},
   "outputs": [],
   "source": [
    "test = InputResistanceTest(observation={'mean':200.0*pq.MOhm, \n",
    "                                        'std':50.0*pq.MOhm})\n",
    "model_url = (\"https://raw.githubusercontent.com/scidash/neuronunit\"\n",
    "             \"/dev/neuronunit/models/NeuroML2/LEMS_2007One.xml\")\n",
    "\n",
    "# A new Backend which is just like the jNeuroMLBackend, in that it writes nml files, \n",
    "# but does not actually so simulation\n",
    "model = ReducedModel(model_url, backend='Geppetto') "
   ]
  },
  {
   "cell_type": "code",
   "execution_count": 3,
   "metadata": {},
   "outputs": [],
   "source": [
    "# Actually do current injection.  In the Geppetto (or jNeuroMLBackend, this will write new nml files)\n",
    "# For the InputResistanceTest, it should change the amplitude to -10.0 pA.  \n",
    "test.setup_protocol(model) "
   ]
  },
  {
   "cell_type": "code",
   "execution_count": 4,
   "metadata": {},
   "outputs": [],
   "source": [
    "# Get paths to the files (same path before and after writing, but these are the ones edited)\n",
    "nml_paths = model.get_nml_paths() \n",
    "# In this examples there is only one nml file, which is an include of the LEMS file at `model_url`.  \n",
    "path = nml_paths[0] "
   ]
  },
  {
   "cell_type": "code",
   "execution_count": 7,
   "metadata": {},
   "outputs": [
    {
     "name": "stdout",
     "output_type": "stream",
     "text": [
      "\u001b[0m\u001b[01;32m/tmp/tmpt6muan44/Izh2007One.net.nml\u001b[0m*\n"
     ]
    }
   ],
   "source": [
    "ls /tmp/tmpt6muan44/Izh2007One.net.nml"
   ]
  },
  {
   "cell_type": "code",
   "execution_count": 9,
   "metadata": {},
   "outputs": [
    {
     "data": {
      "text/plain": [
       "<neuroml id=\"WhichModel\">\n",
       "\n",
       "\n",
       "<izhikevich2007Cell id=\"RS\" v0=\"-60mV\" C=\"100 pF\" k=\"0.7 nS_per_mV\" vr=\"-60 mV\" vt=\"-40 mV\" vpeak=\"35 mV\" a=\"0.03 per_ms\" b=\"-2 nS\" c=\"-50 mV\" d=\"100 pA\"/>\n",
       "\n",
       "<pulseGenerator id=\"RS_Iext\" delay=\"200.0 ms\" duration=\"500.0 ms\" amplitude=\"-10.0 pA\"/>\n",
       "\n",
       "\n",
       "<network id=\"net1\">\n",
       "    <population id=\"RS_pop\" component=\"RS\" size=\"1\"/>\n",
       "    \n",
       "    <explicitInput target=\"RS_pop[0]\" input=\"RS_Iext\" destination=\"synapses\"/>\n",
       "    \n",
       "</network>\n",
       "\n",
       "</neuroml>"
      ]
     },
     "metadata": {},
     "output_type": "display_data"
    }
   ],
   "source": [
    "# IPython line magic to display the contents of the nml file at this path.  \n",
    "# It displays the correct, new current amplitude (-10 pA) for me.\n",
    "%more $path"
   ]
  },
  {
   "cell_type": "code",
   "execution_count": null,
   "metadata": {},
   "outputs": [],
   "source": []
  }
 ],
 "metadata": {
  "kernelspec": {
   "display_name": "Python 3",
   "language": "python",
   "name": "python3"
  },
  "language_info": {
   "codemirror_mode": {
    "name": "ipython",
    "version": 3
   },
   "file_extension": ".py",
   "mimetype": "text/x-python",
   "name": "python",
   "nbconvert_exporter": "python",
   "pygments_lexer": "ipython3",
   "version": "3.6.7"
  }
 },
 "nbformat": 4,
 "nbformat_minor": 2
}
