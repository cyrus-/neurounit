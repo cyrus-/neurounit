{
 "cells": [
  {
   "cell_type": "markdown",
   "metadata": {},
   "source": [
    "# Chapter9\n",
    "In this chapter we look at:\n",
    "* Syntax, code-idioms, and exhaustive search\n"
   ]
  },
  {
   "cell_type": "markdown",
   "metadata": {},
   "source": [
    "# Syntax and Idioms\n",
    "## Data Transport Container\n",
    "The main way of storing model attributes and moving non-parallel models tests around on different CPUs\n",
    "\n",
    "Class Definition is in /neuronunit/neuronunit/optimisation/data_transport_container.py"
   ]
  },
  {
   "cell_type": "markdown",
   "metadata": {},
   "source": [
    "## Test Suite Dictionary\n",
    "An extension of pythons dictionary class. It is capable of calling a method ```optimize``` on itself.\n",
    "\n",
    "* This type also has an attribute, use_rheobase in scores.\n",
    "\n",
    "* Since not all experimental cell test suites, use rheobase to judge model fitness (Allen SDK does not). It's simpler to decide if rheobase calculations will contribute to Neuronunit scores at the users entrypoint to optimization.\n",
    "\n",
    " /neuronunit/neuronunit/optimisation/optimization_management.py"
   ]
  },
  {
   "cell_type": "markdown",
   "metadata": {},
   "source": [
    "## Class OptMan\n",
    "* An Optimization Management Object\n",
    "Located at\n",
    " /neuronunit/neuronunit/optimisation/optimization_management.py\n",
    "\n",
    "This object contains the method ```run_ga```, ```round_trip_test``` and ```run_grid```.\n",
    "The object contains logic for switching between elephant and allen based measurements of waveform and firing. This object also contains logic for rheobase guided searches, or many firing waveform searches.\n",
    "\n",
    "Once an optimization has been described using the Optmization management object a secondary object is constructed.\n",
    "\n",
    "The ```OptMan``` object also performs tasks like creating new genes to replace models that had unstable parameters\n",
    "\n",
    "This Object constructs another object called  ```SciUnitOptimization``` that takes care of deap configuration. This file is departs from BluePyOpts base class, but it is similar to it.\n",
    "\n",
    "The class sciunitoptimization largely calls methods in the files:\n",
    "* ***/neuronunit/optimisation/algorithms.py***\n",
    "* ***/neuronunit/optimisation/optimisations.py***\n",
    "\n",
    "## These two files still largely follow BluePyOpt and DEAP conventions (expressed in DEAPS nsga2.py example file):\n",
    "\n",
    "* ***/neuronunit/optimisation/algorithms.py***\n",
    "* ***/neuronunit/optimisation/optimisations.py***\n",
    "\n",
    "* With the differences: dask.bag.map is used to parallel map instead of scoop etc.\n",
    "\n",
    "* nsga3 is used in the place of nsga2\n",
    "\n",
    "* algorithms -> optimization_management.py ```def evaluate()``` \n"
   ]
  },
  {
   "cell_type": "code",
   "execution_count": null,
   "metadata": {},
   "outputs": [],
   "source": [
    "%%capture\n",
    "from allensdk.ephys.extract_cell_features import extract_cell_features\n",
    "import pickle\n",
    "from neuronunit.optimisation.optimization_management import OptMan, TSD\n",
    "from neuronunit.optimisation import model_parameters\n",
    "from neuronunit.optimisation.model_parameters import MODEL_PARAMS\n",
    "import pandas as pd\n",
    "import os\n",
    "\n"
   ]
  },
  {
   "cell_type": "code",
   "execution_count": null,
   "metadata": {},
   "outputs": [],
   "source": [
    "\n",
    "electro_path = str(os.getcwd())+'/../tests/russell_tests.p'\n",
    "\n",
    "assert os.path.isfile(electro_path) == True\n",
    "with open(electro_path,'rb') as f:\n",
    "    (test_frame,obs_frame) = pickle.load(f)"
   ]
  },
  {
   "cell_type": "code",
   "execution_count": null,
   "metadata": {},
   "outputs": [],
   "source": [
    "#filtered_tests = {key:val for key,val in test_frame.items()}\n",
    "#spk_range = [spk-6,spk+6]\n",
    "local_tests = test_frame['Hippocampus CA1 pyramidal cell']\n",
    "local_tests = TSD(local_tests)\n",
    "local_tests.use_rheobase_score = True\n",
    "OM = OptMan(local_tests,backend=str('RAW'),boundary_dict=MODEL_PARAMS['RAW'],protocol={'elephant':True,'allen':False,'dm':False})#'tsr':spk_range})\n",
    "grid_results = OM.run_simple_grid(5,free_params=['a','b','c'])\n",
    "#res = OM.round_trip_test(local_tests,str('RAW'),MU=1,NGEN=1)#,stds = easy_standards)\n",
    "[ (gr.dtc.scores,gr.dtc.attrs) for gr in grid_results ] "
   ]
  },
  {
   "cell_type": "code",
   "execution_count": null,
   "metadata": {},
   "outputs": [],
   "source": []
  },
  {
   "cell_type": "code",
   "execution_count": null,
   "metadata": {},
   "outputs": [],
   "source": []
  },
  {
   "cell_type": "code",
   "execution_count": null,
   "metadata": {},
   "outputs": [],
   "source": [
    "#grid_results[1].fitness"
   ]
  },
  {
   "cell_type": "code",
   "execution_count": null,
   "metadata": {},
   "outputs": [],
   "source": [
    "#grid_results[1].dtc = OM.elephant_evaluation(grid_results[1].dtc)"
   ]
  },
  {
   "cell_type": "code",
   "execution_count": null,
   "metadata": {},
   "outputs": [],
   "source": [
    "#grid_results[1].dtc.scores"
   ]
  },
  {
   "cell_type": "code",
   "execution_count": null,
   "metadata": {},
   "outputs": [],
   "source": []
  }
 ],
 "metadata": {
  "kernelspec": {
   "display_name": "Python 3",
   "language": "python",
   "name": "python3"
  },
  "language_info": {
   "codemirror_mode": {
    "name": "ipython",
    "version": 3
   },
   "file_extension": ".py",
   "mimetype": "text/x-python",
   "name": "python",
   "nbconvert_exporter": "python",
   "pygments_lexer": "ipython3",
   "version": "3.6.5"
  }
 },
 "nbformat": 4,
 "nbformat_minor": 2
}
