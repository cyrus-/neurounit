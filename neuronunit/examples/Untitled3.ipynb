{
 "cells": [
  {
   "cell_type": "code",
   "execution_count": 1,
   "metadata": {},
   "outputs": [
    {
     "name": "stderr",
     "output_type": "stream",
     "text": [
      "/home/russell/safe2/neuronunit/neuronunit/optimisation/optimization_management.py:8: UserWarning: X11 plotting backend not available, consider installing\n",
      "  warnings.warn('X11 plotting backend not available, consider installing')\n"
     ]
    },
    {
     "name": "stdout",
     "output_type": "stream",
     "text": [
      "consider installing pynn a heavier backend\n"
     ]
    },
    {
     "name": "stderr",
     "output_type": "stream",
     "text": [
      "INFO       Cache size for target \"cython\": 4249 MB.\n",
      "You can call \"clear_cache('cython')\" to delete all files from the cache or manually delete files in the \"/home/russell/.cython/brian_extensions\" directory. [brian2]\n"
     ]
    }
   ],
   "source": [
    "from neuronunit.optimisation.optimization_management import inject_and_plot_model, dtc_to_rheo\n",
    "\n",
    "import numpy as np\n",
    "from neuronunit.optimisation.data_transport_container import DataTC\n"
   ]
  },
  {
   "cell_type": "code",
   "execution_count": 2,
   "metadata": {},
   "outputs": [
    {
     "name": "stdout",
     "output_type": "stream",
     "text": [
      "{'k': 1.15, 'c': -50.0, 'b': 6.5, 'C': 125.0, 'a': 0.02, 'vPeak': 37.5, 'vt': -45.0, 'dt': 0.005, 'd': 80.0, 'vr': -65.5}\n",
      "0.16132593154907227 pA\n",
      "{'vt': -45.0, 'vr': -65.5, 'd': 80.0, 'a': 0.02, 'b': 6.5, 'dt': 0.005, 'k': 1.15, 'c': -50.0, 'Iext': array([0., 0., 0., ..., 0., 0., 0.]), 'C': 125.0, 'vPeak': 37.5}\n"
     ]
    },
    {
     "data": {
      "image/png": "[encoded data removed]",
      "text/plain": [
       "<Figure size 432x288 with 1 Axes>"
      ]
     },
     "metadata": {},
     "output_type": "display_data"
    },
    {
     "name": "stdout",
     "output_type": "stream",
     "text": [
      "{'ADAPTATION_TIME_CONSTANT_tau_w': 100.0, 'MEMBRANE_TIME_SCALE_tau_m': 5.0, 'peak_v': 0.034999999999999996, 'b': 0.09, 'C': 1.0, 'SPIKE_TRIGGERED_ADAPTATION_INCREMENT_b': 7.0, 'ADAPTATION_VOLTAGE_COUPLING_a': 0.5, 'SHARPNESS_delta_T': 1.0, 'MEMBRANE_RESISTANCE_R': 0.234375, 'RHEOBASE_THRESHOLD_v_rh': -50.0, 'FIRING_THRESHOLD_v_spike': -30.0, 'V_RESET': -57.375, 'V_REST': -105.0}\n",
      "92.5 pA\n",
      "275.5 pA\n",
      "1.0 pA\n",
      "184.0 pA\n",
      "367.0 pA\n",
      "458.5 pA\n",
      "550.0 pA\n",
      "1168.75 pA\n",
      "1787.5 pA\n",
      "2406.25 pA\n",
      "3025.0 pA\n",
      "3643.75 pA\n",
      "4262.5 pA\n",
      "4881.25 pA\n",
      "10372.65625 pA\n",
      "15864.0625 pA\n",
      "21355.46875 pA\n",
      "43321.09375 pA\n",
      "37829.6875 pA\n",
      "32338.28125 pA\n",
      "26846.875 pA\n",
      "92057.32421875 pA\n",
      "140793.5546875 pA\n",
      "189529.78515625 pA\n",
      "238266.015625 pA\n",
      "287002.24609375 pA\n",
      "335738.4765625 pA\n",
      "384474.70703125 pA\n",
      "1249542.7978515625 pA\n",
      "817008.7524414062 pA\n",
      "1682076.8432617188 pA\n",
      "2114610.888671875 pA\n",
      "2547144.9340820312 pA\n",
      "2979678.9794921875 pA\n",
      "3412213.0249023438 pA\n",
      "7250952.6779174805 pA\n",
      "11089692.330932617 pA\n",
      "14928431.983947754 pA\n",
      "30283390.5960083 pA\n",
      "26444650.942993164 pA\n",
      "18767171.63696289 pA\n",
      "22605911.289978027 pA\n",
      "64352205.01651764 pA\n",
      "166558648.27804565 pA\n",
      "98421019.43702698 pA\n",
      "234696277.11906433 pA\n",
      "132489833.85753632 pA\n",
      "200627462.698555 pA\n",
      "268765091.53957367 pA\n",
      "238954878.921628 pA\n",
      "243213480.72419167 pA\n",
      "247472082.52675533 pA\n",
      "251730684.329319 pA\n",
      "255989286.13188267 pA\n",
      "260247887.93444633 pA\n",
      "264506489.73701 pA\n",
      "238954878.921628 pA\n",
      "{'ADAPTATION_TIME_CONSTANT_tau_w': 100.0, 'MEMBRANE_TIME_SCALE_tau_m': 5.0, 'peak_v': 0.034999999999999996, 'b': 0.09, 'C': 1.0, 'SPIKE_TRIGGERED_ADAPTATION_INCREMENT_b': 7.0, 'ADAPTATION_VOLTAGE_COUPLING_a': 0.5, 'SHARPNESS_delta_T': 1.0, 'MEMBRANE_RESISTANCE_R': 0.234375, 'RHEOBASE_THRESHOLD_v_rh': -50.0, 'FIRING_THRESHOLD_v_spike': -30.0, 'V_RESET': -57.375, 'V_REST': -105.0}\n",
      "1.0 pA\n",
      "184.0 pA\n",
      "367.0 pA\n",
      "458.5 pA\n",
      "92.5 pA\n",
      "550.0 pA\n",
      "275.5 pA\n",
      "1168.75 pA\n",
      "1787.5 pA\n",
      "2406.25 pA\n",
      "3025.0 pA\n",
      "4881.25 pA\n",
      "3643.75 pA\n",
      "4262.5 pA\n",
      "10372.65625 pA\n",
      "21355.46875 pA\n",
      "15864.0625 pA\n",
      "26846.875 pA\n",
      "32338.28125 pA\n",
      "37829.6875 pA\n",
      "43321.09375 pA\n",
      "92057.32421875 pA\n",
      "140793.5546875 pA\n",
      "189529.78515625 pA\n",
      "238266.015625 pA\n",
      "287002.24609375 pA\n",
      "384474.70703125 pA\n",
      "335738.4765625 pA\n",
      "817008.7524414062 pA\n",
      "1249542.7978515625 pA\n",
      "1682076.8432617188 pA\n",
      "2547144.9340820312 pA\n",
      "2979678.9794921875 pA\n",
      "2114610.888671875 pA\n",
      "3412213.0249023438 pA\n",
      "7250952.6779174805 pA\n",
      "14928431.983947754 pA\n",
      "11089692.330932617 pA\n",
      "18767171.63696289 pA\n",
      "22605911.289978027 pA\n",
      "26444650.942993164 pA\n",
      "30283390.5960083 pA\n",
      "64352205.01651764 pA\n",
      "98421019.43702698 pA\n",
      "132489833.85753632 pA\n",
      "200627462.698555 pA\n",
      "166558648.27804565 pA\n",
      "234696277.11906433 pA\n",
      "268765091.53957367 pA\n",
      "243213480.72419167 pA\n",
      "238954878.921628 pA\n",
      "247472082.52675533 pA\n",
      "251730684.329319 pA\n",
      "255989286.13188267 pA\n",
      "260247887.93444633 pA\n",
      "264506489.73701 pA\n"
     ]
    },
    {
     "data": {
      "image/png": "[encoded data removed]",
      "text/plain": [
       "<Figure size 432x288 with 1 Axes>"
      ]
     },
     "metadata": {},
     "output_type": "display_data"
    },
    {
     "name": "stdout",
     "output_type": "stream",
     "text": [
      "{'ENa': 0.11500000000000002, 'gK': 0.036000000000000004, 'C': 1e-06, 'gl': 0.0003, 'EK': -0.012, 'Vr': -65.0, 'El': 0.0106, 'gNa': 0.12}\n",
      "None\n",
      "{'Vr': -65.0, 'EK': -0.012, 'gNa': 0.12, 'ENa': 0.11500000000000002, 'gl': 0.0003, 'gK': 0.036000000000000004, 'C': 1e-06, 'El': 0.0106}\n"
     ]
    },
    {
     "ename": "TypeError",
     "evalue": "float() argument must be a string or a number, not 'NoneType'",
     "output_type": "error",
     "traceback": [
      "\u001b[0;31m---------------------------------------------------------------------------\u001b[0m",
      "\u001b[0;31mTypeError\u001b[0m                                 Traceback (most recent call last)",
      "\u001b[0;32m<ipython-input-2-14dada127913>\u001b[0m in \u001b[0;36m<module>\u001b[0;34m()\u001b[0m\n\u001b[1;32m      9\u001b[0m     \u001b[0mdtc\u001b[0m \u001b[0;34m=\u001b[0m \u001b[0mdtc_to_rheo\u001b[0m\u001b[0;34m(\u001b[0m\u001b[0mpre_model\u001b[0m\u001b[0;34m)\u001b[0m\u001b[0;34m\u001b[0m\u001b[0m\n\u001b[1;32m     10\u001b[0m     \u001b[0mprint\u001b[0m\u001b[0;34m(\u001b[0m\u001b[0mdtc\u001b[0m\u001b[0;34m.\u001b[0m\u001b[0mrheobase\u001b[0m\u001b[0;34m)\u001b[0m\u001b[0;34m\u001b[0m\u001b[0m\n\u001b[0;32m---> 11\u001b[0;31m     \u001b[0minject_and_plot_model\u001b[0m\u001b[0;34m(\u001b[0m\u001b[0mraw_attrs\u001b[0m\u001b[0;34m,\u001b[0m\u001b[0mb\u001b[0m\u001b[0;34m)\u001b[0m\u001b[0;34m\u001b[0m\u001b[0m\n\u001b[0m",
      "\u001b[0;32m~/safe2/neuronunit/neuronunit/optimisation/optimization_management.py\u001b[0m in \u001b[0;36minject_and_plot_model\u001b[0;34m(attrs, backend)\u001b[0m\n\u001b[1;32m    718\u001b[0m     \u001b[0muc\u001b[0m \u001b[0;34m=\u001b[0m \u001b[0;34m{\u001b[0m\u001b[0;34m'amplitude'\u001b[0m\u001b[0;34m:\u001b[0m\u001b[0mmodel\u001b[0m\u001b[0;34m.\u001b[0m\u001b[0mrheobase\u001b[0m\u001b[0;34m,\u001b[0m\u001b[0;34m'duration'\u001b[0m\u001b[0;34m:\u001b[0m\u001b[0mDURATION\u001b[0m\u001b[0;34m,\u001b[0m\u001b[0;34m'delay'\u001b[0m\u001b[0;34m:\u001b[0m\u001b[0mDELAY\u001b[0m\u001b[0;34m}\u001b[0m\u001b[0;34m\u001b[0m\u001b[0m\n\u001b[1;32m    719\u001b[0m \u001b[0;34m\u001b[0m\u001b[0m\n\u001b[0;32m--> 720\u001b[0;31m     \u001b[0mmodel\u001b[0m\u001b[0;34m.\u001b[0m\u001b[0minject_square_current\u001b[0m\u001b[0;34m(\u001b[0m\u001b[0muc\u001b[0m\u001b[0;34m)\u001b[0m\u001b[0;34m\u001b[0m\u001b[0m\n\u001b[0m\u001b[1;32m    721\u001b[0m     \u001b[0mvm\u001b[0m \u001b[0;34m=\u001b[0m \u001b[0mmodel\u001b[0m\u001b[0;34m.\u001b[0m\u001b[0mget_membrane_potential\u001b[0m\u001b[0;34m(\u001b[0m\u001b[0;34m)\u001b[0m\u001b[0;34m\u001b[0m\u001b[0m\n\u001b[1;32m    722\u001b[0m     \u001b[0mplt\u001b[0m\u001b[0;34m.\u001b[0m\u001b[0mplot\u001b[0m\u001b[0;34m(\u001b[0m\u001b[0mvm\u001b[0m\u001b[0;34m.\u001b[0m\u001b[0mtimes\u001b[0m\u001b[0;34m,\u001b[0m\u001b[0mvm\u001b[0m\u001b[0;34m.\u001b[0m\u001b[0mmagnitude\u001b[0m\u001b[0;34m)\u001b[0m\u001b[0;34m\u001b[0m\u001b[0m\n",
      "\u001b[0;32m~/safe2/neuronunit/neuronunit/models/very_reduced_sans_lems.py\u001b[0m in \u001b[0;36minject_square_current\u001b[0;34m(self, current)\u001b[0m\n\u001b[1;32m     42\u001b[0m     \u001b[0;32mdef\u001b[0m \u001b[0minject_square_current\u001b[0m\u001b[0;34m(\u001b[0m\u001b[0mself\u001b[0m\u001b[0;34m,\u001b[0m \u001b[0mcurrent\u001b[0m\u001b[0;34m)\u001b[0m\u001b[0;34m:\u001b[0m\u001b[0;34m\u001b[0m\u001b[0m\n\u001b[1;32m     43\u001b[0m         \u001b[0;31m#pass\u001b[0m\u001b[0;34m\u001b[0m\u001b[0;34m\u001b[0m\u001b[0m\n\u001b[0;32m---> 44\u001b[0;31m         \u001b[0mvm\u001b[0m \u001b[0;34m=\u001b[0m \u001b[0mself\u001b[0m\u001b[0;34m.\u001b[0m\u001b[0m_backend\u001b[0m\u001b[0;34m.\u001b[0m\u001b[0minject_square_current\u001b[0m\u001b[0;34m(\u001b[0m\u001b[0mcurrent\u001b[0m\u001b[0;34m)\u001b[0m\u001b[0;34m\u001b[0m\u001b[0m\n\u001b[0m\u001b[1;32m     45\u001b[0m         \u001b[0;32mreturn\u001b[0m \u001b[0mvm\u001b[0m\u001b[0;34m\u001b[0m\u001b[0m\n\u001b[1;32m     46\u001b[0m \u001b[0;34m\u001b[0m\u001b[0m\n",
      "\u001b[0;32m~/safe2/neuronunit/neuronunit/models/backends/bhh.py\u001b[0m in \u001b[0;36minject_square_current\u001b[0;34m(self, current)\u001b[0m\n\u001b[1;32m    224\u001b[0m         \u001b[0mdelay\u001b[0m \u001b[0;34m=\u001b[0m \u001b[0mint\u001b[0m\u001b[0;34m(\u001b[0m\u001b[0mc\u001b[0m\u001b[0;34m[\u001b[0m\u001b[0;34m'delay'\u001b[0m\u001b[0;34m]\u001b[0m\u001b[0;34m)\u001b[0m\u001b[0;31m#/dt#.rescale('ms')\u001b[0m\u001b[0;34m\u001b[0m\u001b[0m\n\u001b[1;32m    225\u001b[0m         \u001b[0mpre_current\u001b[0m \u001b[0;34m=\u001b[0m \u001b[0mint\u001b[0m\u001b[0;34m(\u001b[0m\u001b[0mduration\u001b[0m\u001b[0;34m)\u001b[0m\u001b[0;34m+\u001b[0m\u001b[0;36m100\u001b[0m\u001b[0;34m\u001b[0m\u001b[0m\n\u001b[0;32m--> 226\u001b[0;31m         \u001b[0mamp\u001b[0m \u001b[0;34m=\u001b[0m \u001b[0mfloat\u001b[0m\u001b[0;34m(\u001b[0m\u001b[0mc\u001b[0m\u001b[0;34m[\u001b[0m\u001b[0;34m'amplitude'\u001b[0m\u001b[0;34m]\u001b[0m\u001b[0;34m)\u001b[0m\u001b[0;31m#.rescale('uA')\u001b[0m\u001b[0;34m\u001b[0m\u001b[0m\n\u001b[0m\u001b[1;32m    227\u001b[0m         \u001b[0;31m#print(amp,'should this be rescaled?')\u001b[0m\u001b[0;34m\u001b[0m\u001b[0;34m\u001b[0m\u001b[0m\n\u001b[1;32m    228\u001b[0m         \u001b[0;31m#amplitude = amp.simplified\u001b[0m\u001b[0;34m\u001b[0m\u001b[0;34m\u001b[0m\u001b[0m\n",
      "\u001b[0;31mTypeError\u001b[0m: float() argument must be a string or a number, not 'NoneType'"
     ]
    }
   ],
   "source": [
    "from neuronunit.optimisation import model_parameters\n",
    "model_parameters.MODEL_PARAMS.keys()\n",
    "backends = \"RAW\", \"ADEXP\", \"HH\", \"BHH\"\n",
    "for b in backends:\n",
    "    raw_attrs = {k:np.mean(v) for k,v in model_parameters.MODEL_PARAMS[b].items()}\n",
    "    pre_model = DataTC()\n",
    "    pre_model.attrs = raw_attrs\n",
    "    pre_model.backend = b\n",
    "    dtc = dtc_to_rheo(pre_model)\n",
    "    print(dtc.rheobase)\n",
    "    inject_and_plot_model(raw_attrs,b)\n"
   ]
  },
  {
   "cell_type": "code",
   "execution_count": null,
   "metadata": {},
   "outputs": [],
   "source": []
  },
  {
   "cell_type": "code",
   "execution_count": null,
   "metadata": {},
   "outputs": [],
   "source": [
    "from neuronunit.optimisation import model_parameters\n",
    "model_parameters.MODEL_PARAMS.keys()\n",
    "backend = \"RAW\"\n",
    "raw_attrs = {k:np.mean(v) for k,v in model_parameters.MODEL_PARAMS[backend].items()}\n"
   ]
  },
  {
   "cell_type": "code",
   "execution_count": null,
   "metadata": {},
   "outputs": [],
   "source": [
    "inject_and_plot_model(raw_attrs,backend)\n"
   ]
  },
  {
   "cell_type": "code",
   "execution_count": null,
   "metadata": {},
   "outputs": [],
   "source": [
    "pre_model.rheobase"
   ]
  },
  {
   "cell_type": "code",
   "execution_count": null,
   "metadata": {},
   "outputs": [],
   "source": []
  }
 ],
 "metadata": {
  "kernelspec": {
   "display_name": "Python 3",
   "language": "python",
   "name": "python3"
  },
  "language_info": {
   "codemirror_mode": {
    "name": "ipython",
    "version": 3
   },
   "file_extension": ".py",
   "mimetype": "text/x-python",
   "name": "python",
   "nbconvert_exporter": "python",
   "pygments_lexer": "ipython3",
   "version": "3.5.2"
  }
 },
 "nbformat": 4,
 "nbformat_minor": 4
}
