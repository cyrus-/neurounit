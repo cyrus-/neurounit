{
 "cells": [
  {
   "cell_type": "code",
   "execution_count": 1,
   "metadata": {
    "collapsed": false
   },
   "outputs": [
    {
     "name": "stdout",
     "output_type": "stream",
     "text": [
      "Running on Python version: 3.5.2 |Continuum Analytics, Inc.| (default, Jul  2 2016, 17:53:06) \n",
      "[GCC 4.4.7 20120313 (Red Hat 4.4.7-1)]\n"
     ]
    }
   ],
   "source": [
    "import sys    \n",
    "print('Running on Python version: {}'.format(sys.version))\n"
   ]
  },
  {
   "cell_type": "markdown",
   "metadata": {},
   "source": [
    "The point of this NB is to show that relative to certain models, certain models, some NU error criteria are in conflict with each other.\n",
    "The way I show this is to optimize a model with all parameters free to vary, while resulting models are compared against only NU error measurement at a time. In this way I show that the parameter sets of non conflicted (compatible) waveform measurements correspond to model parameter sets that are clustered togethor."
   ]
  },
  {
   "cell_type": "markdown",
   "metadata": {},
   "source": [
    "Note: on reproducing this environment. This env is supposed to be dependency light, since we are potentially only analysing data, as opposed to generating it. \n",
    "\n",
    "# Problem:\n",
    "The pickle file contains backend content.\n",
    "neuronunit.model.backend.__init__ is called which attempts to load complex dependencies: pyNN, NEURON etc.\n",
    "How to stop this from happening.\n"
   ]
  },
  {
   "cell_type": "markdown",
   "metadata": {},
   "source": [
    "Assumptions, the environment for running this notebook was arrived at by building a dedicated docker file.\n",
    "\n",
    "https://cloud.docker.com/repository/registry-1.docker.io/russelljarvis/nuo\n",
    "\n",
    "You can run use dockerhub to get the appropriate file, and launch this notebook using Kitematic."
   ]
  },
  {
   "cell_type": "markdown",
   "metadata": {},
   "source": [
    "# Import libraries\n",
    "To keep the standard running version of minimal and memory efficient, not all available packages are loaded by default. In the cell below I import a mixture common python modules, and custom developed modules associated with NeuronUnit (NU) development"
   ]
  },
  {
   "cell_type": "code",
   "execution_count": 2,
   "metadata": {
    "collapsed": false
   },
   "outputs": [
    {
     "name": "stdout",
     "output_type": "stream",
     "text": [
      "Running on Python version: 3.5.2 |Continuum Analytics, Inc.| (default, Jul  2 2016, 17:53:06) \n",
      "[GCC 4.4.7 20120313 (Red Hat 4.4.7-1)]\n"
     ]
    },
    {
     "name": "stderr",
     "output_type": "stream",
     "text": [
      "/opt/conda/lib/python3.5/site-packages/pyNN/neuron/__init__.py:14: UserWarning: mpi4py not available\n",
      "  warnings.warn(\"mpi4py not available\")\n"
     ]
    },
    {
     "name": "stdout",
     "output_type": "stream",
     "text": [
      "glif python Error\n"
     ]
    }
   ],
   "source": [
    "import sys    \n",
    "print('Running on Python version: {}'.format(sys.version))\n",
    "\n",
    "import numpy as np\n",
    "import os\n",
    "import pickle\n",
    "import pandas as pd\n",
    "from neuronunit.tests.fi import RheobaseTestP\n",
    "from neuronunit.optimization.model_parameters import reduced_dict, reduced_cells  \n",
    "from neuronunit.optimization import optimization_management as om\n",
    "from sciunit import scores# score_type \n",
    "\n",
    "from neuronunit.optimization.data_transport_container import DataTC\n",
    "from neuronunit.tests.fi import RheobaseTestP# as discovery\n",
    "from neuronunit.optimization.optimization_management import dtc_to_rheo, format_test, nunit_evaluation\n",
    "import quantities as pq\n",
    "from neuronunit.models.reduced import ReducedModel\n",
    "from neuronunit.optimization.model_parameters import model_params, path_params\n",
    "LEMS_MODEL_PATH = path_params['model_path']\n",
    "list_to_frame = []\n",
    "from neuronunit.tests.fi import RheobaseTestP\n",
    "\n",
    "    \n",
    "from IPython.display import HTML, display\n",
    "import seaborn as sns\n"
   ]
  },
  {
   "cell_type": "markdown",
   "metadata": {
    "collapsed": false
   },
   "source": [
    "# The Izhiketich model is instanced using some well researched parameter sets.\n"
   ]
  },
  {
   "cell_type": "markdown",
   "metadata": {},
   "source": [
    "First lets get the points in parameter space, that Izhikich himself has published about. These points are often used by the open source brain project to establish between model reproducibility. The itial motivating factor for choosing these points as constellations, of all possible parameter space subsets, is that these points where initially tuned and used as best guesses for matching real observed experimental recordings."
   ]
  },
  {
   "cell_type": "code",
   "execution_count": 3,
   "metadata": {
    "collapsed": false
   },
   "outputs": [],
   "source": [
    "explore_param = {k:(np.min(v),np.max(v)) for k,v in reduced_dict.items()}"
   ]
  },
  {
   "cell_type": "markdown",
   "metadata": {
    "collapsed": false
   },
   "source": [
    "## Get the experimental Data pertaining to four different classes or neurons, that can constrain models.\n",
    "Next we get some electro physiology data for four different classes of cells that are very common targets of scientific neuronal modelling. We are interested in finding out what are the most minimal, and detail reduced, low complexity model equations, that are able to satisfy "
   ]
  },
  {
   "cell_type": "markdown",
   "metadata": {
    "collapsed": false
   },
   "source": [
    "Below are some of the data set ID's I used to query neuroelectro.\n",
    "To save time for the reader, I prepared some data earlier to save time, and saved the data as a pickle, pythons preferred serialisation format.\n",
    "\n",
    "The interested reader can find some methods for getting cell specific ephys data from neuroelectro in a code file (neuronunit/optimization/get_neab.py) \n"
   ]
  },
  {
   "cell_type": "code",
   "execution_count": 4,
   "metadata": {
    "collapsed": false
   },
   "outputs": [],
   "source": [
    "purkinje ={\"id\": 18, \"name\": \"Cerebellum Purkinje cell\", \"neuron_db_id\": 271, \"nlex_id\": \"sao471801888\"}\n",
    "fi_basket = {\"id\": 65, \"name\": \"Dentate gyrus basket cell\", \"neuron_db_id\": None, \"nlex_id\": \"nlx_cell_100201\"}\n",
    "pvis_cortex = {\"id\": 111, \"name\": \"Neocortex pyramidal cell layer 5-6\", \"neuron_db_id\": 265, \"nlex_id\": \"nifext_50\"}\n",
    "#This olfactory mitral cell does not have datum about rheobase, current injection values.\n",
    "olf_mitral = {\"id\": 129, \"name\": \"Olfactory bulb (main) mitral cell\", \"neuron_db_id\": 267, \"nlex_id\": \"nlx_anat_100201\"}\n",
    "ca1_pyr = {\"id\": 85, \"name\": \"Hippocampus CA1 pyramidal cell\", \"neuron_db_id\": 258, \"nlex_id\": \"sao830368389\"}\n",
    "pipe = [ fi_basket, ca1_pyr, purkinje,  pvis_cortex]"
   ]
  },
  {
   "cell_type": "code",
   "execution_count": 5,
   "metadata": {
    "collapsed": false
   },
   "outputs": [],
   "source": [
    "electro_tests = []\n",
    "obs_frame = {}\n",
    "test_frame = {}\n",
    "\n",
    "from neuronunit.optimization import get_neab\n",
    "try: \n",
    "\n",
    "    electro_path = str(os.getcwd())+'all_tests.p'\n",
    "\n",
    "    assert os.path.isfile(electro_path) == True\n",
    "    with open(electro_path,'rb') as f:\n",
    "        (obs_frame,test_frame) = pickle.load(f)\n",
    "\n",
    "except:\n",
    "    for p in pipe:\n",
    "        p_tests, p_observations = get_neab.get_neuron_criteria(p)\n",
    "        obs_frame[p[\"name\"]] = p_observations#, p_tests))\n",
    "        test_frame[p[\"name\"]] = p_tests#, p_tests))\n",
    "    electro_path = str(os.getcwd())+'all_tests.p'\n",
    "    with open(electro_path,'wb') as f:\n",
    "        pickle.dump((obs_frame,test_frame),f)"
   ]
  },
  {
   "cell_type": "markdown",
   "metadata": {},
   "source": [
    "# Cast the tabulatable data to pandas data frame\n",
    "There are many among us who prefer potentially tabulatable data to be encoded in pandas data frame."
   ]
  },
  {
   "cell_type": "code",
   "execution_count": 6,
   "metadata": {
    "collapsed": false,
    "scrolled": false
   },
   "outputs": [
    {
     "name": "stdout",
     "output_type": "stream",
     "text": [
      "dict_keys(['Hippocampus CA1 pyramidal cell', 'Dentate gyrus basket cell', 'Neocortex pyramidal cell layer 5-6', 'Cerebellum Purkinje cell'])\n"
     ]
    }
   ],
   "source": [
    "for k,v in test_frame.items():\n",
    "    if \"olf_mit\" not in k:\n",
    "        obs = obs_frame[k]\n",
    "        v[0] = RheobaseTestP(obs['Rheobase'])\n",
    "df = pd.DataFrame.from_dict(obs_frame)\n",
    "print(test_frame.keys())"
   ]
  },
  {
   "cell_type": "markdown",
   "metadata": {},
   "source": [
    "In the data frame below, you can see many different cell types"
   ]
  },
  {
   "cell_type": "code",
   "execution_count": 7,
   "metadata": {
    "collapsed": false
   },
   "outputs": [
    {
     "data": {
      "text/html": [
       "<div>\n",
       "<style scoped>\n",
       "    .dataframe tbody tr th:only-of-type {\n",
       "        vertical-align: middle;\n",
       "    }\n",
       "\n",
       "    .dataframe tbody tr th {\n",
       "        vertical-align: top;\n",
       "    }\n",
       "\n",
       "    .dataframe thead th {\n",
       "        text-align: right;\n",
       "    }\n",
       "</style>\n",
       "<table border=\"1\" class=\"dataframe\">\n",
       "  <thead>\n",
       "    <tr style=\"text-align: right;\">\n",
       "      <th></th>\n",
       "      <th>Cerebellum Purkinje cell</th>\n",
       "      <th>Dentate gyrus basket cell</th>\n",
       "      <th>Hippocampus CA1 pyramidal cell</th>\n",
       "      <th>Neocortex pyramidal cell layer 5-6</th>\n",
       "    </tr>\n",
       "  </thead>\n",
       "  <tbody>\n",
       "    <tr>\n",
       "      <th>Cell Capacitance</th>\n",
       "      <td>{'n': 4, 'std': 261.303030538779 pF, 'mean': 6...</td>\n",
       "      <td>NaN</td>\n",
       "      <td>{'n': 14, 'std': 53.6497639516366 pF, 'mean': ...</td>\n",
       "      <td>{'n': 12, 'std': 139.683884626343 pF, 'mean': ...</td>\n",
       "    </tr>\n",
       "    <tr>\n",
       "      <th>Input Resistance</th>\n",
       "      <td>{'n': 13, 'std': 68.9775175856699 Mohm, 'mean'...</td>\n",
       "      <td>{'n': 4, 'std': 168.291196665185 Mohm, 'mean':...</td>\n",
       "      <td>{'n': 113, 'std': 77.577415348574 Mohm, 'mean'...</td>\n",
       "      <td>{'n': 86, 'std': 77.6331608333564 Mohm, 'mean'...</td>\n",
       "    </tr>\n",
       "    <tr>\n",
       "      <th>Membrane Time Constant</th>\n",
       "      <td>NaN</td>\n",
       "      <td>{'n': 2, 'std': 3.25 ms, 'mean': 13.25 ms}</td>\n",
       "      <td>{'n': 46, 'std': 21.4877858716633 ms, 'mean': ...</td>\n",
       "      <td>{'n': 33, 'std': 7.31162636832495 ms, 'mean': ...</td>\n",
       "    </tr>\n",
       "    <tr>\n",
       "      <th>Resting membrane potential</th>\n",
       "      <td>{'n': 6, 'std': 5.63326553213636 mV, 'mean': -...</td>\n",
       "      <td>{'n': 3, 'std': 4.04722126896961 mV, 'mean': -...</td>\n",
       "      <td>{'n': 110, 'std': 4.88864451466597 mV, 'mean':...</td>\n",
       "      <td>{'n': 79, 'std': 6.53234788156637 mV, 'mean': ...</td>\n",
       "    </tr>\n",
       "    <tr>\n",
       "      <th>Rheobase</th>\n",
       "      <td>{'n': 3, 'std': 454.390111462674 pA, 'mean': 6...</td>\n",
       "      <td>{'n': 1, 'std': 0.0 pA, 'mean': 106.7 pA}</td>\n",
       "      <td>{'n': 17, 'std': 287.163664156461 pA, 'mean': ...</td>\n",
       "      <td>{'n': 32, 'std': 170.452454715608 pA, 'mean': ...</td>\n",
       "    </tr>\n",
       "    <tr>\n",
       "      <th>Spike Amplitude</th>\n",
       "      <td>{'n': 6, 'std': 9.83222186515111 mV, 'mean': 7...</td>\n",
       "      <td>{'n': 2, 'std': 5.7 mV, 'mean': 78.6 mV}</td>\n",
       "      <td>{'n': 64, 'std': 12.2626088055275 mV, 'mean': ...</td>\n",
       "      <td>{'n': 49, 'std': 12.7488030357545 mV, 'mean': ...</td>\n",
       "    </tr>\n",
       "    <tr>\n",
       "      <th>Spike Half-Width</th>\n",
       "      <td>{'n': 9, 'std': 0.189931725513809 ms, 'mean': ...</td>\n",
       "      <td>{'n': 4, 'std': 0.442175021908746 ms, 'mean': ...</td>\n",
       "      <td>{'n': 59, 'std': 0.608307582372384 ms, 'mean':...</td>\n",
       "      <td>{'n': 49, 'std': 0.534345918375033 ms, 'mean':...</td>\n",
       "    </tr>\n",
       "    <tr>\n",
       "      <th>Spike Threshold</th>\n",
       "      <td>{'n': 7, 'std': 6.95090078829409 mV, 'mean': -...</td>\n",
       "      <td>{'n': 2, 'std': 3.4 mV, 'mean': -38.4 mV}</td>\n",
       "      <td>{'n': 70, 'std': 7.7267055100184 mV, 'mean': -...</td>\n",
       "      <td>{'n': 53, 'std': 8.04073233409085 mV, 'mean': ...</td>\n",
       "    </tr>\n",
       "  </tbody>\n",
       "</table>\n",
       "</div>"
      ],
      "text/plain": [
       "                                                     Cerebellum Purkinje cell  \\\n",
       "Cell Capacitance            {'n': 4, 'std': 261.303030538779 pF, 'mean': 6...   \n",
       "Input Resistance            {'n': 13, 'std': 68.9775175856699 Mohm, 'mean'...   \n",
       "Membrane Time Constant                                                    NaN   \n",
       "Resting membrane potential  {'n': 6, 'std': 5.63326553213636 mV, 'mean': -...   \n",
       "Rheobase                    {'n': 3, 'std': 454.390111462674 pA, 'mean': 6...   \n",
       "Spike Amplitude             {'n': 6, 'std': 9.83222186515111 mV, 'mean': 7...   \n",
       "Spike Half-Width            {'n': 9, 'std': 0.189931725513809 ms, 'mean': ...   \n",
       "Spike Threshold             {'n': 7, 'std': 6.95090078829409 mV, 'mean': -...   \n",
       "\n",
       "                                                    Dentate gyrus basket cell  \\\n",
       "Cell Capacitance                                                          NaN   \n",
       "Input Resistance            {'n': 4, 'std': 168.291196665185 Mohm, 'mean':...   \n",
       "Membrane Time Constant             {'n': 2, 'std': 3.25 ms, 'mean': 13.25 ms}   \n",
       "Resting membrane potential  {'n': 3, 'std': 4.04722126896961 mV, 'mean': -...   \n",
       "Rheobase                            {'n': 1, 'std': 0.0 pA, 'mean': 106.7 pA}   \n",
       "Spike Amplitude                      {'n': 2, 'std': 5.7 mV, 'mean': 78.6 mV}   \n",
       "Spike Half-Width            {'n': 4, 'std': 0.442175021908746 ms, 'mean': ...   \n",
       "Spike Threshold                     {'n': 2, 'std': 3.4 mV, 'mean': -38.4 mV}   \n",
       "\n",
       "                                               Hippocampus CA1 pyramidal cell  \\\n",
       "Cell Capacitance            {'n': 14, 'std': 53.6497639516366 pF, 'mean': ...   \n",
       "Input Resistance            {'n': 113, 'std': 77.577415348574 Mohm, 'mean'...   \n",
       "Membrane Time Constant      {'n': 46, 'std': 21.4877858716633 ms, 'mean': ...   \n",
       "Resting membrane potential  {'n': 110, 'std': 4.88864451466597 mV, 'mean':...   \n",
       "Rheobase                    {'n': 17, 'std': 287.163664156461 pA, 'mean': ...   \n",
       "Spike Amplitude             {'n': 64, 'std': 12.2626088055275 mV, 'mean': ...   \n",
       "Spike Half-Width            {'n': 59, 'std': 0.608307582372384 ms, 'mean':...   \n",
       "Spike Threshold             {'n': 70, 'std': 7.7267055100184 mV, 'mean': -...   \n",
       "\n",
       "                                           Neocortex pyramidal cell layer 5-6  \n",
       "Cell Capacitance            {'n': 12, 'std': 139.683884626343 pF, 'mean': ...  \n",
       "Input Resistance            {'n': 86, 'std': 77.6331608333564 Mohm, 'mean'...  \n",
       "Membrane Time Constant      {'n': 33, 'std': 7.31162636832495 ms, 'mean': ...  \n",
       "Resting membrane potential  {'n': 79, 'std': 6.53234788156637 mV, 'mean': ...  \n",
       "Rheobase                    {'n': 32, 'std': 170.452454715608 pA, 'mean': ...  \n",
       "Spike Amplitude             {'n': 49, 'std': 12.7488030357545 mV, 'mean': ...  \n",
       "Spike Half-Width            {'n': 49, 'std': 0.534345918375033 ms, 'mean':...  \n",
       "Spike Threshold             {'n': 53, 'std': 8.04073233409085 mV, 'mean': ...  "
      ]
     },
     "execution_count": 7,
     "metadata": {},
     "output_type": "execute_result"
    }
   ],
   "source": [
    "df\n"
   ]
  },
  {
   "cell_type": "code",
   "execution_count": 8,
   "metadata": {
    "collapsed": false
   },
   "outputs": [
    {
     "data": {
      "text/plain": [
       "Cell Capacitance              {'n': 14, 'std': 53.6497639516366 pF, 'mean': ...\n",
       "Input Resistance              {'n': 113, 'std': 77.577415348574 Mohm, 'mean'...\n",
       "Membrane Time Constant        {'n': 46, 'std': 21.4877858716633 ms, 'mean': ...\n",
       "Resting membrane potential    {'n': 110, 'std': 4.88864451466597 mV, 'mean':...\n",
       "Rheobase                      {'n': 17, 'std': 287.163664156461 pA, 'mean': ...\n",
       "Spike Amplitude               {'n': 64, 'std': 12.2626088055275 mV, 'mean': ...\n",
       "Spike Half-Width              {'n': 59, 'std': 0.608307582372384 ms, 'mean':...\n",
       "Spike Threshold               {'n': 70, 'std': 7.7267055100184 mV, 'mean': -...\n",
       "Name: Hippocampus CA1 pyramidal cell, dtype: object"
      ]
     },
     "execution_count": 8,
     "metadata": {},
     "output_type": "execute_result"
    }
   ],
   "source": [
    "df['Hippocampus CA1 pyramidal cell']\n",
    "\n",
    "# enable R style caching.\n",
    "#!pip install git+https://github.com/rossant/ipycache\n",
    "#%load_ext ipycache"
   ]
  },
  {
   "cell_type": "markdown",
   "metadata": {},
   "source": [
    "# Tweak Izhikitich equations\n",
    "with educated guesses based on information that is already encoded in the predefined experimental observations.\n",
    "\n",
    "In otherwords use information that is readily amenable into hardcoding into equations \n",
    "\n",
    "Select out the 'Neocortex pyramidal cell layer 5-6' below, as a target for optimization"
   ]
  },
  {
   "cell_type": "code",
   "execution_count": 9,
   "metadata": {
    "collapsed": false,
    "scrolled": false
   },
   "outputs": [],
   "source": [
    "free_params = ['a','b','k','c','C','d','vPeak','vr']\n",
    "hc_ = reduced_cells['RS']\n",
    "hc_['vr'] = -65.2261863636364\n",
    "hc_['vPeak'] = hc_['vr'] + 86.364525297619\n",
    "explore_param['C'] = (hc_['C']-20,hc_['C']+20)\n",
    "explore_param['vr'] = (hc_['vr']-5,hc_['vr']+5)\n",
    "use_test = test_frame[\"Neocortex pyramidal cell layer 5-6\"]\n",
    "\n",
    "test_opt = {}\n",
    "\n",
    "with open('data_dump.p','wb') as f:\n",
    "    pickle.dump(test_opt,f)"
   ]
  },
  {
   "cell_type": "code",
   "execution_count": 10,
   "metadata": {
    "collapsed": false
   },
   "outputs": [
    {
     "name": "stdout",
     "output_type": "stream",
     "text": [
      "RheobaseTestP\n",
      "{'n': 32, 'std': array(170.452454715608) * pA, 'mean': array(213.849583333333) * pA}\n"
     ]
    }
   ],
   "source": [
    "\n",
    "use_test[0].observation\n",
    "print(use_test[0].name)\n",
    "\n",
    "rtp = RheobaseTestP(use_test[0].observation)\n",
    "use_test[0] = rtp\n",
    "print(use_test[0].observation)"
   ]
  },
  {
   "cell_type": "code",
   "execution_count": 11,
   "metadata": {
    "collapsed": false
   },
   "outputs": [
    {
     "name": "stdout",
     "output_type": "stream",
     "text": [
      "['a', 'b', 'k', 'c', 'C', 'd', 'vPeak', 'vr']\n"
     ]
    }
   ],
   "source": [
    "MU = 6\n",
    "NGEN = 200\n",
    "\n",
    "import pickle\n",
    "import numpy as np\n",
    "print(free_params)\n",
    "    \n",
    "MU = 6\n",
    "NGEN = 25\n",
    "\n",
    "import pickle\n",
    "test_opt = {}\n",
    "import numpy as np\n",
    "try:\n",
    "    #assert 1==2\n",
    "    with open('multi_objective_per_single_criteria.p','rb') as f:\n",
    "        test_opt = pickle.load(f)\n",
    "except:\n",
    "\n",
    "    for index,test in enumerate(use_test):\n",
    "\n",
    "        ga_out, DO = om.run_ga(explore_param,NGEN,[test],free_params=free_params, NSGA = True, MU = MU)\n",
    "\n",
    "        test_opt[test] = ga_out\n",
    "        with open('multi_objective_per_single_criteria.p','wb') as f:\n",
    "            pickle.dump(test_opt,f)\n",
    "\n"
   ]
  },
  {
   "cell_type": "code",
   "execution_count": 12,
   "metadata": {
    "collapsed": false
   },
   "outputs": [
    {
     "name": "stdout",
     "output_type": "stream",
     "text": [
      "{'c': -45.516541061281238, 'vr': -61.119202416319254, 'C': 113.60297552573536, 'a': 0.010210019083461037, 'b': -1.9892926619335416, 'vPeak': 30.772728668072318, 'd': 119.97187173835393, 'k': 0.91614699331990002}\n",
      "{'c': -57.190494080324214, 'vr': -60.520093948364874, 'C': 88.310671907516962, 'a': 0.090613099316947068, 'b': 12.448404637579349, 'vPeak': 10.837249378697779, 'd': 49.632772621499555, 'k': 0.2895573733582254}\n",
      "{'c': -56.002641943577451, 'vr': -67.381805481672231, 'C': 88.047839774144322, 'a': 0.048219218369197028, 'b': 3.0053471092740032, 'vPeak': 10.199044768197234, 'd': -8.4628004890420652, 'k': 0.4669489797322261}\n",
      "{'c': -52.607533840708435, 'vr': -67.301726885064795, 'C': 80.37593917453502, 'a': 0.097817333442251575, 'b': 0.25044177803030165, 'vPeak': 41.759614790884847, 'd': -28.38804522043981, 'k': 0.55841909590116323}\n",
      "{'c': -41.083597273943361, 'vr': -64.049552563887531, 'C': 119.68959133170991, 'a': 0.18085039142430476, 'b': 15.0, 'vPeak': 47.120164258730007, 'd': 126.4187374882512, 'k': 1.5508508889732588}\n",
      "{'c': -53.809486171443126, 'vr': -64.786201683839167, 'C': 101.09933893803471, 'a': 0.022682814530988402, 'b': -0.62504501141041524, 'vPeak': 21.79534166521146, 'd': -46.414792942214568, 'k': 0.43017476337602512}\n",
      "{'c': -52.820460701222672, 'vr': -64.461655677967457, 'C': 123.98863647667002, 'a': 0.24159871689184997, 'b': -4.3620653499511004, 'vPeak': 23.817186732530722, 'd': 68.563555256290087, 'k': -0.18422982805389876}\n",
      "{'c': -44.507610132331287, 'vr': -65.27739063486257, 'C': 81.042171725334669, 'a': 0.076029272752582255, 'b': -2, 'vPeak': 26.606952645717499, 'd': -41.121582969713174, 'k': 0.60787893229881329}\n"
     ]
    }
   ],
   "source": []
  },
  {
   "cell_type": "code",
   "execution_count": 13,
   "metadata": {
    "collapsed": false
   },
   "outputs": [
    {
     "data": {
      "text/plain": [
       "dict_keys([<neuronunit.tests.passive.CapacitanceTest object at 0x7f90e6a9eb38>, <neuronunit.tests.waveform.InjectedCurrentAPAmplitudeTest object at 0x7f90e7d31c50>, <neuronunit.tests.waveform.InjectedCurrentAPWidthTest object at 0x7f90e5bb7550>, <neuronunit.tests.passive.RestingPotentialTest object at 0x7f90e6119e80>, <neuronunit.tests.fi.RheobaseTestP object at 0x7f90e6e094a8>, <neuronunit.tests.passive.TimeConstantTest object at 0x7f90e76ff9b0>, <neuronunit.tests.passive.InputResistanceTest object at 0x7f9109a8e2e8>, <neuronunit.tests.waveform.InjectedCurrentAPThresholdTest object at 0x7f90e743b550>])"
      ]
     },
     "execution_count": 13,
     "metadata": {},
     "output_type": "execute_result"
    }
   ],
   "source": [
    "test_opt.keys()"
   ]
  },
  {
   "cell_type": "code",
   "execution_count": 33,
   "metadata": {
    "collapsed": false
   },
   "outputs": [],
   "source": [
    "\n",
    "X = []\n",
    "ranges = {}\n",
    "best = {}\n",
    "all_val = {}\n",
    "for key,value in test_opt.items():\n",
    "    ranges[key] = {}\n",
    "    best[key] = {}\n",
    "    all_val[key] = {}\n",
    "    for k in value['hof'][0].dtc.attrs.keys():\n",
    "        \n",
    "        best[key][k] = value['hof'][0].dtc.attrs[k]\n",
    "\n",
    "        temp = [i.dtc.attrs[k] for i in value['hof']]\n",
    "\n",
    "        all_val[key][k] = temp\n",
    "        ranges[key][k] = (np.min(temp), np.max(temp))"
   ]
  },
  {
   "cell_type": "code",
   "execution_count": 53,
   "metadata": {
    "collapsed": false
   },
   "outputs": [
    {
     "name": "stderr",
     "output_type": "stream",
     "text": [
      "/opt/conda/lib/python3.5/site-packages/matplotlib/font_manager.py:1297: UserWarning: findfont: Font family ['sans-serif'] not found. Falling back to DejaVu Sans\n",
      "  (prop.get_family(), self.defaultFamily[fontext]))\n"
     ]
    },
    {
     "data": {
      "image/png": "[encoded data removed]",
      "text/plain": [
       "<matplotlib.figure.Figure at 0x7f90d9440c88>"
      ]
     },
     "metadata": {},
     "output_type": "display_data"
    },
    {
     "data": {
      "image/png": "[encoded data removed]",
      "text/plain": [
       "<matplotlib.figure.Figure at 0x7f90d957af28>"
      ]
     },
     "metadata": {},
     "output_type": "display_data"
    },
    {
     "data": {
      "image/png": "[encoded data removed]",
      "text/plain": [
       "<matplotlib.figure.Figure at 0x7f90d8e8bf60>"
      ]
     },
     "metadata": {},
     "output_type": "display_data"
    },
    {
     "data": {
      "image/png": "[encoded data removed]",
      "text/plain": [
       "<matplotlib.figure.Figure at 0x7f90d8e26b70>"
      ]
     },
     "metadata": {},
     "output_type": "display_data"
    },
    {
     "data": {
      "image/png": "[encoded data removed]",
      "text/plain": [
       "<matplotlib.figure.Figure at 0x7f90d8d365f8>"
      ]
     },
     "metadata": {},
     "output_type": "display_data"
    },
    {
     "data": {
      "image/png": "[encoded data removed]",
      "text/plain": [
       "<matplotlib.figure.Figure at 0x7f90d8cdf2e8>"
      ]
     },
     "metadata": {},
     "output_type": "display_data"
    },
    {
     "data": {
      "image/png": "[encoded data removed]",
      "text/plain": [
       "<matplotlib.figure.Figure at 0x7f90d8d6ee48>"
      ]
     },
     "metadata": {},
     "output_type": "display_data"
    },
    {
     "data": {
      "image/png": "[encoded data removed]",
      "text/plain": [
       "<matplotlib.figure.Figure at 0x7f90d8dd7518>"
      ]
     },
     "metadata": {},
     "output_type": "display_data"
    }
   ],
   "source": [
    "import seaborn as sns\n",
    "from matplotlib.pyplot import errorbar\n",
    "import matplotlib.pyplot as plt\n",
    "\n",
    "#fig0,ax0 = plt.subplots(len(test_opt),1,figsize=(10,10))\n",
    "#plt.figure(num=None, figsize=(11, 11), dpi=80, facecolor='w', edgecolor='k')\n",
    "\n",
    "cnt=0\n",
    "for key,value in test_opt.items():\n",
    "\n",
    "    x = 0\n",
    "    labels = []\n",
    "    plt.clf()\n",
    "    for k in value['hof'][0].dtc.attrs.keys():\n",
    "        \n",
    "        value = ranges[key][k]\n",
    "\n",
    "        y = np.mean(value)\n",
    "        err = max(value)-min(value)\n",
    "        errorbar(x, y, err, marker='s', mfc='red',\n",
    "                 mec='green', ms=2, mew=4,label='in '+str(k))\n",
    "        x+=1\n",
    "        labels.append(k)\n",
    "    plt.xticks(np.arange(len(labels)), labels)\n",
    "    ax0[cnt] = plt\n",
    "    cnt+=1\n",
    "    plt.show()\n",
    "\n"
   ]
  },
  {
   "cell_type": "markdown",
   "metadata": {},
   "source": [
    "# Visualize the clusters"
   ]
  },
  {
   "cell_type": "code",
   "execution_count": 54,
   "metadata": {
    "collapsed": false
   },
   "outputs": [],
   "source": [
    "X = list(all_val[list(all_val.keys())[0]].values())\n",
    "X_labels = list(all_val[list(all_val.keys())[0]].keys())"
   ]
  },
  {
   "cell_type": "code",
   "execution_count": 55,
   "metadata": {
    "collapsed": false
   },
   "outputs": [
    {
     "name": "stderr",
     "output_type": "stream",
     "text": [
      "/opt/conda/lib/python3.5/site-packages/matplotlib/font_manager.py:1297: UserWarning: findfont: Font family ['sans-serif'] not found. Falling back to DejaVu Sans\n",
      "  (prop.get_family(), self.defaultFamily[fontext]))\n"
     ]
    },
    {
     "data": {
      "image/png": "[encoded data removed]",
      "text/plain": [
       "<matplotlib.figure.Figure at 0x7f90d93bd0b8>"
      ]
     },
     "metadata": {},
     "output_type": "display_data"
    }
   ],
   "source": [
    "import matplotlib.pyplot as plt\n",
    "from mpl_toolkits.mplot3d import Axes3D\n",
    "from sklearn.cluster import KMeans\n",
    "from sklearn import datasets\n",
    "import seaborn as sns; sns.set()  # for plot styling\n",
    "#dfs.replace([np.inf, -np.inf], np.nan)\n",
    "#dfs = dfs.dropna()\n",
    "#X = X.as_matrix()\n",
    "X = np.array(X)\n",
    "est = KMeans(n_clusters=3)\n",
    "\n",
    "est.fit(X)\n",
    "\n",
    "y_kmeans = est.predict(X)\n",
    "centers = est.cluster_centers_\n",
    "\n",
    "fignum = 1\n",
    "fig = plt.figure(fignum, figsize=(4, 3))\n",
    "ax = Axes3D(fig, rect=[0, 0, .95, 1], elev=48, azim=134)\n",
    "ax.scatter(X[:, 0], X[:, 1], X[:, 2], c=y_kmeans, s=50)\n",
    "ax.scatter(centers[:, 0], centers[:, 1], centers[:, 2], c='black', s=200, alpha=0.5);\n",
    "ax.w_xaxis.set_ticklabels([])\n",
    "ax.w_yaxis.set_ticklabels([])\n",
    "ax.w_zaxis.set_ticklabels([])\n",
    "ax.set_xlabel('cluster 0')\n",
    "ax.set_ylabel('cluster 1')\n",
    "ax.set_zlabel('cluster 2')\n",
    "fig.savefig('3dCluster.png')"
   ]
  },
  {
   "cell_type": "code",
   "execution_count": null,
   "metadata": {
    "collapsed": true
   },
   "outputs": [],
   "source": []
  },
  {
   "cell_type": "code",
   "execution_count": null,
   "metadata": {
    "collapsed": true
   },
   "outputs": [],
   "source": []
  },
  {
   "cell_type": "markdown",
   "metadata": {},
   "source": [
    "As can be seen none of these well researched parameter sets correspond to good fits, with experimental data about waveform shape. These bad fit's warrant the use of an optimizer, which can efficiently, sparsely, and intelligently explore the parameter space for better model fits."
   ]
  },
  {
   "cell_type": "code",
   "execution_count": null,
   "metadata": {
    "collapsed": false
   },
   "outputs": [],
   "source": []
  },
  {
   "cell_type": "code",
   "execution_count": null,
   "metadata": {
    "collapsed": false
   },
   "outputs": [],
   "source": []
  },
  {
   "cell_type": "code",
   "execution_count": null,
   "metadata": {
    "collapsed": false
   },
   "outputs": [],
   "source": []
  },
  {
   "cell_type": "code",
   "execution_count": null,
   "metadata": {
    "collapsed": false
   },
   "outputs": [],
   "source": []
  },
  {
   "cell_type": "code",
   "execution_count": null,
   "metadata": {
    "collapsed": false
   },
   "outputs": [],
   "source": [
    "\n"
   ]
  },
  {
   "cell_type": "code",
   "execution_count": null,
   "metadata": {
    "collapsed": false
   },
   "outputs": [],
   "source": []
  },
  {
   "cell_type": "code",
   "execution_count": null,
   "metadata": {
    "collapsed": false
   },
   "outputs": [],
   "source": []
  },
  {
   "cell_type": "code",
   "execution_count": null,
   "metadata": {
    "collapsed": true
   },
   "outputs": [],
   "source": [
    "with open('data_dump.p','rb') as f:\n",
    "    test_opt = pickle.load(f)"
   ]
  },
  {
   "cell_type": "code",
   "execution_count": null,
   "metadata": {
    "collapsed": true
   },
   "outputs": [],
   "source": []
  },
  {
   "cell_type": "code",
   "execution_count": null,
   "metadata": {
    "collapsed": false
   },
   "outputs": [],
   "source": [
    "test_opt"
   ]
  },
  {
   "cell_type": "code",
   "execution_count": null,
   "metadata": {
    "collapsed": false
   },
   "outputs": [],
   "source": [
    "import seaborn as sns\n",
    "from matplotlib.pyplot import errorbar\n",
    "import matplotlib.pyplot as plt\n",
    "\n",
    "fig0,ax0 = plt.subplots(dim,dim,figsize=(10,10))\n",
    "plt.figure(num=None, figsize=(11, 11), dpi=80, facecolor='w', edgecolor='k')\n",
    "\n",
    "for v in test_opt.values():\n",
    "    x = 0\n",
    "    labels = []\n",
    "    plt.clf()\n",
    "    for k_,v_ in v['ranges'].items(): \n",
    "        value = v_\n",
    "\n",
    "        y = np.mean(value)\n",
    "        err = max(value)-min(value)\n",
    "        errorbar(x, y, err, marker='s', mfc='red',\n",
    "                 mec='green', ms=2, mew=4,label='in '+str(k_))\n",
    "        x+=1\n",
    "        labels.append(k_)\n",
    "    plt.xticks(np.arange(len(labels)), labels)\n",
    "    ax0[i] = plt\n",
    "\n",
    "plt.show()\n"
   ]
  },
  {
   "cell_type": "code",
   "execution_count": null,
   "metadata": {
    "collapsed": false
   },
   "outputs": [],
   "source": []
  },
  {
   "cell_type": "markdown",
   "metadata": {},
   "source": [
    "# the parameter 'd' only seems important\n",
    "# C does not have to be too precise within a range."
   ]
  },
  {
   "cell_type": "markdown",
   "metadata": {},
   "source": [
    "I consider the final gene populations for each of the eight tests. I compute the variance in each of the converged populations, I see that variance is low in many of the gene populations.\n",
    "\n",
    "When all variables are used to optomize only against one set of parameters, you expect their would be high variance in parameters, that don't matter much with respect to that error criteria (you expect redundancy of solutions).\n",
    "\n",
    "I compute std on errors over all the tests in order to estimate how amenable the problem is to multiobjective optimization."
   ]
  },
  {
   "cell_type": "code",
   "execution_count": null,
   "metadata": {
    "collapsed": false
   },
   "outputs": [],
   "source": [
    "from neuronunit.models.reduced import ReducedModel\n",
    "from neuronunit.optimization.model_parameters import model_params, path_params\n",
    "LEMS_MODEL_PATH = path_params['model_path']\n",
    "import quantities as pq\n",
    "plt.figure(num=None, figsize=(11, 11), dpi=80, facecolor='w', edgecolor='k')\n",
    "\n",
    "for k,v in test_opt.items():    \n",
    "    model = ReducedModel(LEMS_MODEL_PATH, name= str('vanilla'), backend=('RAW'))\n",
    "    model.attrs = v['out']['pf'][1].dtc.attrs\n",
    "    print(str(k), v['out']['pf'][1].dtc.get_ss())#fitness)\n",
    "    iparams = {}\n",
    "    iparams['injected_square_current'] = {}\n",
    "    iparams['injected_square_current']['amplitude'] =v['out']['pf'][1].rheobase['value']*pq.pA\n",
    "    #['amplitude']  = dtc.vtest[k]['injected_square_current']['amplitude']\n",
    "    DELAY = 100.0*pq.ms\n",
    "    DURATION = 1000.0*pq.ms\n",
    "    iparams['injected_square_current']['delay'] = DELAY\n",
    "    iparams['injected_square_current']['duration'] = int(DURATION)\n",
    "\n",
    "    model.inject_square_current(iparams)\n",
    "\n",
    "    plt.plot(model.get_membrane_potential().times,model.get_membrane_potential(),label=str(k))\n",
    "    plt.legend()\n",
    "plt.show()\n"
   ]
  },
  {
   "cell_type": "code",
   "execution_count": null,
   "metadata": {
    "collapsed": false
   },
   "outputs": [],
   "source": []
  },
  {
   "cell_type": "code",
   "execution_count": null,
   "metadata": {
    "collapsed": false
   },
   "outputs": [],
   "source": []
  },
  {
   "cell_type": "code",
   "execution_count": null,
   "metadata": {
    "collapsed": false
   },
   "outputs": [],
   "source": [
    "\n",
    "DO.seed_pop = npcl['pf'][0:MU]\n",
    "npcl, DO = om.run_ga(explore_param,10,reduced_tests,free_params=free_params,hc = hc, NSGA = False, MU = MU, seed_pop = DO.seed_pop)\n"
   ]
  },
  {
   "cell_type": "code",
   "execution_count": null,
   "metadata": {
    "collapsed": false
   },
   "outputs": [],
   "source": []
  },
  {
   "cell_type": "code",
   "execution_count": null,
   "metadata": {
    "collapsed": false
   },
   "outputs": [],
   "source": [
    "attrs_here = npcl['hardened'][0][0].attrs\n",
    "attrs_here.update(hc)\n",
    "attrs_here\n",
    "scores = npcl['hof'][0].dtc.scores\n",
    "print(scores)"
   ]
  },
  {
   "cell_type": "code",
   "execution_count": null,
   "metadata": {
    "collapsed": false
   },
   "outputs": [],
   "source": [
    "#\n",
    "use_test = test_frame[\"Neocortex pyramidal cell layer 5-6\"]\n",
    "reduced_tests = [use_test[0], use_test[-1], use_test[len(use_test)-1]]\n",
    "bigger_tests = use_test[1:-2]\n",
    "bigger_tests.insert(0,use_test[0])"
   ]
  },
  {
   "cell_type": "code",
   "execution_count": null,
   "metadata": {
    "collapsed": false
   },
   "outputs": [],
   "source": [
    "#bigger_tests = bigger_tests[-1::]\n",
    "print(bigger_tests)"
   ]
  },
  {
   "cell_type": "code",
   "execution_count": null,
   "metadata": {
    "collapsed": false
   },
   "outputs": [],
   "source": [
    "DO.seed_pop = npcl['hof'][0:MU]\n",
    "reduced_tests = [use_test[0], use_test[-1], use_test[len(use_test)-1]]\n",
    "npcl, DO = om.run_ga(explore_param,10,bigger_tests,free_params=free_params,hc = hc, NSGA = False, MU = MU)#, seed_pop = DO.seed_pop)\n"
   ]
  },
  {
   "cell_type": "code",
   "execution_count": null,
   "metadata": {
    "collapsed": false
   },
   "outputs": [],
   "source": [
    "print(npcl['hardened'][0][0].attrs)\n",
    "print(npcl['hardened'][0][0].scores)\n",
    "print(npcl['pf'][0].fitness.values)\n",
    "print(npcl['hof'][0].dtc.scores)\n",
    "\n",
    "#for t in use_test:\n",
    "#    print(t.name)\n",
    "    \n",
    "    \n",
    "pop"
   ]
  },
  {
   "cell_type": "markdown",
   "metadata": {},
   "source": [
    "# From the scores printed above, it looks like certain error criteria, are in conflict with each other.\n",
    "\n",
    "Tests, that are amenable to co-optimization appear to be:\n",
    "* Width test\n",
    "* Input resistance tets\n",
    "* Resting Potential Test,\n",
    "* Capicitance test.\n",
    "* Time constant\n",
    "\n",
    "Tests/criteria that seem in compatible with the above include: \n",
    "* Rheobase, \n",
    "* InjectedCurrentAPThresholdTest\n",
    "* InjectedCurrentAPAmplitudeTest\n",
    "\n",
    "Therefore a reduced set of lists is made to check if the bottom three are at least amenable to optimization togethor."
   ]
  },
  {
   "cell_type": "code",
   "execution_count": null,
   "metadata": {
    "collapsed": false
   },
   "outputs": [],
   "source": [
    "from sklearn.cluster import KMeans\n",
    "est = KMeans(n_clusters=2)\n",
    "est.fit(X)\n",
    "y_kmeans = est.predict(X)\n",
    "\n",
    "centers = est.cluster_centers_\n",
    "\n",
    "fig = plt.figure(fignum,figsize=(4,3))\n",
    "ax = Axes3D(fig,rect=[0,0,.95,1],elav=48,azim=134)\n",
    "ax.scatter(X[:,0],X[:,1],X[:,2],c=y_kmeans,s=50),\n",
    "ax.scatter(centres[:,0],centres[:,1],centres[:,2],c='black',s=200,alpha=0.5)"
   ]
  },
  {
   "cell_type": "code",
   "execution_count": null,
   "metadata": {
    "collapsed": false
   },
   "outputs": [],
   "source": [
    "\n",
    "print(reduced_tests)\n",
    "print(bigger_tests)\n",
    "\n",
    "DO.seed_pop = npcl['pf'][0:MU]\n",
    "npcl, DO = om.run_ga(explore_param,10,reduced_tests,free_params=free_params,hc = hc, NSGA = True, MU = 12)#, seed_pop = DO.seed_pop)\n"
   ]
  },
  {
   "cell_type": "code",
   "execution_count": null,
   "metadata": {
    "collapsed": false
   },
   "outputs": [],
   "source": [
    "import pickle\n",
    "import copy\n",
    "import numpy as np\n",
    "import pandas as pd\n",
    "import matplotlib.pyplot as plt\n",
    "#from neuronunit.optimization.optimization_management import wave_measure\n",
    "from neuronunit.models.reduced import ReducedModel\n",
    "from neuronunit.optimization.model_parameters import model_params, path_params\n",
    "LEMS_MODEL_PATH = path_params['model_path']\n",
    "import neuronunit.optimization as opt\n",
    "import quantities as pq\n",
    "fig = plt.figure()\n",
    "\n",
    "plt.clf()\n",
    "\n",
    "from neuronunit.optimization.data_transport_container import DataTC\n",
    "model = ReducedModel(LEMS_MODEL_PATH,name = str('vanilla'),backend = ('RAW'))\n",
    "for i in npcl['pf'][0:2]:\n",
    "    iparams = {}\n",
    "    iparams['injected_square_current'] = {}\n",
    "    iparams['injected_square_current']['amplitude'] =i.dtc.rheobase\n",
    "    model = None\n",
    "    model = ReducedModel(LEMS_MODEL_PATH,name = str('vanilla'),backend = ('RAW'))\n",
    "    model.set_attrs(i.dtc.attrs)\n",
    "\n",
    "    #['amplitude']  = dtc.vtest[k]['injected_square_current']['amplitude']\n",
    "    DELAY = 100.0*pq.ms\n",
    "    DURATION = 1000.0*pq.ms\n",
    "    iparams['injected_square_current']['delay'] = DELAY\n",
    "    iparams['injected_square_current']['duration'] = int(DURATION)\n",
    "    model.inject_square_current(iparams)\n",
    "    n_spikes = len(model.get_spike_train())\n",
    "    if n_spikes:\n",
    "        print(n_spikes)\n",
    "        #print(i[0].scores['RheobaseTestP']*pq.pA)\n",
    "        plt.plot(model.get_membrane_potential().times,model.get_membrane_potential())#,label='ground truth')\n",
    "        plt.legend()\n",
    "\n",
    "#gca().set_axis_off()\n",
    "#subplots_adjust(top = 1, bottom = 0, right = 1, left = 0, \n",
    "#            hspace = 0, wspace = 0)\n",
    "#margins(0,0)\n",
    "#gca().xaxis.set_major_locator(NullLocator())\n",
    "#gca().yaxis.set_major_locator(NullLocator())\n",
    "\n",
    "plt.subplots_adjust(left=0.0, right=1.0, top=0.9, bottom=0.1)\n",
    "fig.tight_layout()\n",
    "plt.show()\n",
    "\n",
    "fig.savefig(\"single_trace.png\", bbox_inches = 'tight',\n",
    "    pad_inches = 0)\n"
   ]
  },
  {
   "cell_type": "code",
   "execution_count": null,
   "metadata": {
    "collapsed": false
   },
   "outputs": [],
   "source": [
    "import pickle\n",
    "import copy\n",
    "import numpy as np\n",
    "import pandas as pd\n",
    "import matplotlib.pyplot\n",
    "\n",
    "\n",
    "from neuronunit.models.reduced import ReducedModel\n",
    "from neuronunit.optimization.model_parameters import model_params, path_params\n",
    "LEMS_MODEL_PATH = path_params['model_path']\n",
    "import neuronunit.optimization as opt\n",
    "import quantities as pq\n",
    "fig = plt.figure()\n",
    "\n",
    "plt.clf()\n",
    "\n",
    "from neuronunit.optimization.data_transport_container import DataTC\n",
    "for i in npcl['hardened']:\n",
    "    iparams = {}\n",
    "    iparams['injected_square_current'] = {}\n",
    "    iparams['injected_square_current']['amplitude'] = i[0].rheobase\n",
    "    model = None\n",
    "    model = ReducedModel(LEMS_MODEL_PATH,name = str('vanilla'),backend = ('RAW'))\n",
    "    model.set_attrs(i[0].attrs)\n",
    "\n",
    "    #['amplitude']  = dtc.vtest[k]['injected_square_current']['amplitude']\n",
    "    DELAY = 100.0*pq.ms\n",
    "    DURATION = 1000.0*pq.ms\n",
    "    iparams['injected_square_current']['delay'] = DELAY\n",
    "    iparams['injected_square_current']['duration'] = int(DURATION)\n",
    "    model.inject_square_current(iparams)\n",
    "    n_spikes = len(model.get_spike_train())\n",
    "    if n_spikes:\n",
    "        print(n_spikes)\n",
    "        print(i[0].scores['RheobaseTestP']*pq.pA)\n",
    "        plt.plot(model.get_membrane_potential().times,model.get_membrane_potential())#,label='ground truth')\n",
    "        plt.legend()\n",
    "\n",
    "#gca().set_axis_off()\n",
    "#subplots_adjust(top = 1, bottom = 0, right = 1, left = 0, \n",
    "#            hspace = 0, wspace = 0)\n",
    "#margins(0,0)\n",
    "#gca().xaxis.set_major_locator(NullLocator())\n",
    "#gca().yaxis.set_major_locator(NullLocator())\n",
    "\n",
    "plt.subplots_adjust(left=0.0, right=1.0, top=0.9, bottom=0.1)\n",
    "fig.tight_layout()\n",
    "plt.show()\n",
    "\n",
    "fig.savefig(\"single_trace.png\", bbox_inches = 'tight',\n",
    "    pad_inches = 0)\n",
    "\n",
    "\n",
    "'''\n",
    "hc = {}\n",
    "\n",
    "#free_params = ['c','k']\n",
    "for k,v in explore_param.items():\n",
    "    if k not in free_params:\n",
    "        hc[k] = v\n",
    "constants = npcl['hardened'][0][0].attrs\n",
    "hc.update(constants) \n",
    "npcl, _ = om.run_ga(explore_param,20,test_frame[\"Neocortex pyramidal cell layer 5-6\"],free_params=free_params,hc = hc, NSGA = True)\n",
    "'''"
   ]
  },
  {
   "cell_type": "code",
   "execution_count": null,
   "metadata": {
    "collapsed": false
   },
   "outputs": [],
   "source": [
    "\n",
    "free_params = ['a','b','k']#vt','c','k','d']#,'vt','k','c','C']#,'C'] # this can only be odd numbers.\n",
    "\n",
    "##\n",
    "# Use information that is available\n",
    "##\n",
    "hc = reduced_cells['RS']\n",
    "\n",
    "hc['vr'] = -65.2261863636364\n",
    "\n",
    "hc['vPeak'] = hc['vr'] + 86.364525297619\n",
    "hc['C'] = 89.7960714285714\n",
    "hc.pop('a',0)\n",
    "hc.pop('b',0)\n",
    "hc.pop('k',0)\n",
    "hc.pop('c',0)\n",
    "hc.pop('d',0)\n",
    "        \n",
    "use_test = test_frame[\"Neocortex pyramidal cell layer 5-6\"]\n",
    "#DO.seed_pop = npcl['pf']\n",
    "#ga_out = DO.run(max_ngen = 15)\n"
   ]
  },
  {
   "cell_type": "code",
   "execution_count": null,
   "metadata": {
    "collapsed": false
   },
   "outputs": [],
   "source": [
    "'''\n",
    "import pandas\n",
    "    \n",
    "try:\n",
    "    ne_raw = pandas.read_csv('article_ephys_metadata_curated.csv', delimiter='\\t')\n",
    "    !ls -ltr *.csv\n",
    "except:\n",
    "    !wget https://neuroelectro.org/static/src/article_ephys_metadata_curated.csv\n",
    "    ne_raw = pandas.read_csv('article_ephys_metadata_curated.csv', delimiter='\\t')\n",
    "\n",
    "blah = ne_raw[ne_raw['NeuronName'].str.match('Hippocampus CA1 pyramidal cell')]\n",
    "#ne_raw['NeuronName']\n",
    "#ne_raw['cell\\ capacitance']\n",
    "#blah = ne_raw[ne_raw['NeuronName'].str.match('Hippocampus CA1 pyramidal cell')]\n",
    "\n",
    "print([i for i in blah.columns])\n",
    "#rint(blah['rheobase'])\n",
    "#print(blah)\n",
    "#for i in ne_raw.columns:#['NeuronName']:\n",
    "#    print(i)\n",
    "\n",
    "#ne_raw['NeuronName'][85]\n",
    "#blah = ne_raw[ne_raw['TableID'].str.match('85')]\n",
    "#ne_raw['n'] = 84\n",
    "#here = ne_raw[ne_raw['Index']==85]\n",
    "here = ne_raw[ne_raw['TableID']==18]\n",
    "\n",
    "print(here['rheo_raw'])\n",
    "#!wget https://neuroelectro.org/apica/1/n/\n",
    "'''"
   ]
  },
  {
   "cell_type": "code",
   "execution_count": null,
   "metadata": {
    "collapsed": false
   },
   "outputs": [],
   "source": [
    "ca1 = ne_raw[ne_raw['NeuronName'].str.match('Hippocampus CA1 pyramidal cell')]\n",
    "ca1['rheo']"
   ]
  },
  {
   "cell_type": "code",
   "execution_count": null,
   "metadata": {
    "collapsed": false
   },
   "outputs": [],
   "source": [
    "\n",
    "    \n",
    "test_frame[\"Dentate gyrus basket cell\"][0].observation['std'] = test_frame[\"Dentate gyrus basket cell\"][0].observation['mean']\n",
    "for t in test_frame[\"Dentate gyrus basket cell\"]:\n",
    "    print(t.name)\n",
    "\n",
    "    print(t.observation)\n",
    "    "
   ]
  },
  {
   "cell_type": "markdown",
   "metadata": {},
   "source": [
    "\n",
    "'''\n",
    "Inibitory Neuron\n",
    "This can't pass the Rheobase test\n",
    "'''    "
   ]
  },
  {
   "cell_type": "code",
   "execution_count": null,
   "metadata": {
    "collapsed": false
   },
   "outputs": [],
   "source": [
    "\n",
    "from neuronunit.optimization import optimization_management as om\n",
    "import pickle\n",
    "\n",
    "free_params = ['a','vr','b','vt','vPeak','c','k']\n",
    "for k,v in explore_param.items():\n",
    "    if k not in free_params:\n",
    "        hc[k] = v\n",
    "use_test = test_frame[\"Dentate gyrus basket cell\"]\n",
    "bcell, _ = om.run_ga(explore_param,20,use_test,free_params=free_params,hc = hc, NSGA = True, MU = 4)\n"
   ]
  },
  {
   "cell_type": "code",
   "execution_count": null,
   "metadata": {
    "collapsed": false
   },
   "outputs": [],
   "source": [
    "\n",
    "    \n",
    "#test_frame[\"Dentate gyrus basket cell\"][0].observation['std'] = test_frame[\"Dentate gyrus basket cell\"][0].observation['mean']\n",
    "for t in test_frame[\"Hippocampus CA1 pyramidal cell\"]:\n",
    "    print(t.name)\n",
    "\n",
    "    print(t.observation)"
   ]
  },
  {
   "cell_type": "code",
   "execution_count": null,
   "metadata": {
    "collapsed": false
   },
   "outputs": [],
   "source": [
    "use_test = test_frame[\"Hippocampus CA1 pyramidal cell\"]\n",
    "bcell, _ = om.run_ga(explore_param,20,use_test,free_params=free_params,hc = hc, NSGA = True, MU = 10)\n"
   ]
  },
  {
   "cell_type": "code",
   "execution_count": null,
   "metadata": {
    "collapsed": false
   },
   "outputs": [],
   "source": [
    "import pickle\n",
    "import copy\n",
    "import numpy as np\n",
    "import pandas as pd\n",
    "import matplotlib.pyplot as plt\n",
    "\n",
    "from neuronunit.models.reduced import ReducedModel\n",
    "from neuronunit.optimization.model_parameters import model_params, path_params\n",
    "LEMS_MODEL_PATH = path_params['model_path']\n",
    "import neuronunit.optimization as opt\n",
    "import quantities as pq\n",
    "fig = plt.figure()\n",
    "\n",
    "plt.clf()\n",
    "\n",
    "from neuronunit.optimization.data_transport_container import DataTC\n",
    "for i in bcell['hardened'][0:6]:\n",
    "    iparams = {}\n",
    "    iparams['injected_square_current'] = {}\n",
    "    iparams['injected_square_current']['amplitude'] =i[0].rheobase\n",
    "    model = None\n",
    "    model = ReducedModel(LEMS_MODEL_PATH,name = str('vanilla'),backend = ('RAW'))\n",
    "    model.set_attrs(i[0].attrs)\n",
    "\n",
    "    #['amplitude']  = dtc.vtest[k]['injected_square_current']['amplitude']\n",
    "    DELAY = 100.0*pq.ms\n",
    "    DURATION = 1000.0*pq.ms\n",
    "    iparams['injected_square_current']['delay'] = DELAY\n",
    "    iparams['injected_square_current']['duration'] = int(DURATION)\n",
    "    model.inject_square_current(iparams)\n",
    "    n_spikes = len(model.get_spike_train())\n",
    "    if n_spikes:\n",
    "        print(n_spikes)\n",
    "        print(i[0].scores['RheobaseTestP']*pq.pA)\n",
    "        plt.plot(model.get_membrane_potential().times,model.get_membrane_potential())#,label='ground truth')\n",
    "        plt.legend()\n",
    "\n",
    "#gca().set_axis_off()\n",
    "#subplots_adjust(top = 1, bottom = 0, right = 1, left = 0, \n",
    "#            hspace = 0, wspace = 0)\n",
    "#margins(0,0)\n",
    "#gca().xaxis.set_major_locator(NullLocator())\n",
    "#gca().yaxis.set_major_locator(NullLocator())\n",
    "\n",
    "plt.subplots_adjust(left=0.0, right=1.0, top=0.9, bottom=0.1)\n",
    "fig.tight_layout()\n",
    "plt.show()\n",
    "\n",
    "fig.savefig(\"single_trace.png\", bbox_inches = 'tight',\n",
    "    pad_inches = 0)\n"
   ]
  },
  {
   "cell_type": "code",
   "execution_count": null,
   "metadata": {
    "collapsed": true
   },
   "outputs": [],
   "source": []
  },
  {
   "cell_type": "code",
   "execution_count": null,
   "metadata": {
    "collapsed": true
   },
   "outputs": [],
   "source": [
    "use_test = test_frame[\"Hippocampus CA1 pyramidal cell\"]\n",
    "bcell, _ = om.run_ga(explore_param,20,use_test,free_params=free_params,hc = hc, NSGA = True, MU = 10)\n"
   ]
  },
  {
   "cell_type": "markdown",
   "metadata": {},
   "source": [
    "# This cell is in markdown, but it won't be later.\n",
    "Later optimize a whole heap of cells in a loop.\n",
    "\n",
    "try:\n",
    "    import pickle\n",
    "    with open('data_dump.p','rb') as f:\n",
    "        test_opt = pickle.load(f)\n",
    "except:\n",
    "    MU = 12\n",
    "    NGEN = 25\n",
    "    cnt = 1\n",
    "    for t in use_test:        \n",
    "        if cnt==len(use_test):\n",
    "            MU = 12\n",
    "            NGEN = 20\n",
    "\n",
    "            npcl, DO = om.run_ga(explore_param,NGEN,[t],free_params=free_params, NSGA = True, MU = MU)\n",
    "        else:\n",
    "\n",
    "            npcl, DO = om.run_ga(explore_param,NGEN,[t],free_params=free_params, NSGA = True, MU = MU)\n",
    "\n",
    "        test_opt[str(t)] =  {'out':npcl}\n",
    "\n",
    "        ranges = {}\n",
    "        stds = npcl['pop'][0].dtc.attrs\n",
    "        for k in npcl['pop'][0].dtc.attrs.keys():    \n",
    "            stds[k] = []\n",
    "            ranges[k] = []\n",
    "\n",
    "\n",
    "        for i in npcl['pop'][::5]:\n",
    "            for k,v in i.dtc.attrs.items():\n",
    "                stds[k].append(v)\n",
    "                ranges[k].append(v)\n",
    "\n",
    "        for k in npcl['pop'][0].dtc.attrs.keys():\n",
    "            ranges[k] = (np.min(ranges[k][1::]),np.max(ranges[k][1::]))\n",
    "\n",
    "            stds[k] = np.std(stds[k][1::])\n",
    "        test_opt[str(t)]['stds'] = stds \n",
    "        test_opt[str(t)]['ranges'] = ranges \n",
    "\n",
    "        cnt+=1\n",
    "    \n",
    "    with open('data_dump.p','wb') as f:\n",
    "        pickle.dump(test_opt,f)\n",
    "       "
   ]
  },
  {
   "cell_type": "code",
   "execution_count": null,
   "metadata": {
    "collapsed": true
   },
   "outputs": [],
   "source": []
  }
 ],
 "metadata": {
  "kernelspec": {
   "display_name": "Python 3",
   "language": "python",
   "name": "python3"
  },
  "language_info": {
   "codemirror_mode": {
    "name": "ipython",
    "version": 3
   },
   "file_extension": ".py",
   "mimetype": "text/x-python",
   "name": "python",
   "nbconvert_exporter": "python",
   "pygments_lexer": "ipython3",
   "version": "3.5.2"
  }
 },
 "nbformat": 4,
 "nbformat_minor": 2
}
