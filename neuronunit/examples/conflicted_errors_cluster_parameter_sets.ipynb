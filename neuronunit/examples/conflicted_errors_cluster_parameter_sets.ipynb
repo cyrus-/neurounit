{
 "cells": [
  {
   "cell_type": "code",
   "execution_count": 1,
   "metadata": {
    "collapsed": false
   },
   "outputs": [
    {
     "name": "stdout",
     "output_type": "stream",
     "text": [
      "Running on Python version: 3.5.2 |Continuum Analytics, Inc.| (default, Jul  2 2016, 17:53:06) \n",
      "[GCC 4.4.7 20120313 (Red Hat 4.4.7-1)]\n"
     ]
    }
   ],
   "source": [
    "import sys    \n",
    "print('Running on Python version: {}'.format(sys.version))\n"
   ]
  },
  {
   "cell_type": "markdown",
   "metadata": {},
   "source": [
    "The point of this NB is to show that relative to certain models, certain models, some NU error criteria are in conflict with each other.\n",
    "The way I show this is to optimize a model with all parameters free to vary, while resulting models are compared against only NU error measurement at a time. In this way I show that the parameter sets of non conflicted (compatible) waveform measurements correspond to model parameter sets that are clustered togethor."
   ]
  },
  {
   "cell_type": "markdown",
   "metadata": {},
   "source": [
    "Note: on reproducing this environment. This env is supposed to be dependency light, since we are potentially only analysing data, as opposed to generating it. \n",
    "\n",
    "# Pickle Data Files\n",
    "* As publically available at:\n",
    "* https://osf.io/7xn2m/\n",
    "\n",
    "The older pickle file contains backend content.\n",
    "The newer one does not.\n",
    "neuronunit.model.backend.__init__ is called which attempts to load complex dependencies: pyNN, NEURON etc.\n",
    "How to stop this from happening? \n",
    "\n",
    "I propose a NU version light, with a light __init__ \n"
   ]
  },
  {
   "cell_type": "markdown",
   "metadata": {},
   "source": [
    "Assumptions, the environment for running this notebook was arrived at by building a dedicated docker files.\n",
    "\n",
    "https://cloud.docker.com/repository/registry-1.docker.io/russelljarvis/nuo\n",
    "\n",
    "\n",
    "\n",
    "You can run use dockerhub to get the appropriate file, and launch this notebook using Kitematic."
   ]
  },
  {
   "cell_type": "markdown",
   "metadata": {},
   "source": [
    "# Import libraries\n",
    "To keep the standard running version of minimal and memory efficient, not all available packages are loaded by default. In the cell below I import a mixture common python modules, and custom developed modules associated with NeuronUnit (NU) development"
   ]
  },
  {
   "cell_type": "code",
   "execution_count": 2,
   "metadata": {
    "collapsed": false
   },
   "outputs": [
    {
     "name": "stdout",
     "output_type": "stream",
     "text": [
      "Running on Python version: 3.5.2 |Continuum Analytics, Inc.| (default, Jul  2 2016, 17:53:06) \n",
      "[GCC 4.4.7 20120313 (Red Hat 4.4.7-1)]\n"
     ]
    },
    {
     "name": "stderr",
     "output_type": "stream",
     "text": [
      "/opt/conda/lib/python3.5/site-packages/pyNN/neuron/__init__.py:14: UserWarning: mpi4py not available\n",
      "  warnings.warn(\"mpi4py not available\")\n"
     ]
    }
   ],
   "source": [
    "import sys    \n",
    "print('Running on Python version: {}'.format(sys.version))\n",
    "\n",
    "import numpy as np\n",
    "import os\n",
    "import pickle\n",
    "import pandas as pd\n",
    "from neuronunit.tests.fi import RheobaseTestP\n",
    "from neuronunit.optimization.model_parameters import reduced_dict, reduced_cells  \n",
    "from neuronunit.optimization import optimization_management as om\n",
    "from sciunit import scores# score_type \n",
    "\n",
    "from neuronunit.optimization.data_transport_container import DataTC\n",
    "from neuronunit.tests.fi import RheobaseTestP# as discovery\n",
    "from neuronunit.optimization.optimization_management import dtc_to_rheo, format_test, nunit_evaluation\n",
    "import quantities as pq\n",
    "from neuronunit.models.reduced import ReducedModel\n",
    "from neuronunit.optimization.model_parameters import model_params, path_params\n",
    "LEMS_MODEL_PATH = path_params['model_path']\n",
    "list_to_frame = []\n",
    "from neuronunit.tests.fi import RheobaseTestP\n",
    "\n",
    "    \n",
    "from IPython.display import HTML, display\n",
    "import seaborn as sns\n"
   ]
  },
  {
   "cell_type": "markdown",
   "metadata": {
    "collapsed": false
   },
   "source": [
    "# The Izhiketich model is instanced using some well researched parameter sets.\n"
   ]
  },
  {
   "cell_type": "markdown",
   "metadata": {},
   "source": [
    "First lets get the points in parameter space, that Izhikich himself has published about. These points are often used by the open source brain project to establish between model reproducibility. The itial motivating factor for choosing these points as constellations, of all possible parameter space subsets, is that these points where initially tuned and used as best guesses for matching real observed experimental recordings."
   ]
  },
  {
   "cell_type": "code",
   "execution_count": 3,
   "metadata": {
    "collapsed": false
   },
   "outputs": [],
   "source": [
    "explore_param = {k:(np.min(v),np.max(v)) for k,v in reduced_dict.items()}"
   ]
  },
  {
   "cell_type": "markdown",
   "metadata": {
    "collapsed": false
   },
   "source": [
    "## Get the experimental Data pertaining to four different classes or neurons, that can constrain models.\n",
    "Next we get some electro physiology data for four different classes of cells that are very common targets of scientific neuronal modelling. We are interested in finding out what are the most minimal, and detail reduced, low complexity model equations, that are able to satisfy "
   ]
  },
  {
   "cell_type": "markdown",
   "metadata": {
    "collapsed": false
   },
   "source": [
    "Below are some of the data set ID's I used to query neuroelectro.\n",
    "To save time for the reader, I prepared some data earlier to save time, and saved the data as a pickle, pythons preferred serialisation format.\n",
    "\n",
    "The interested reader can find some methods for getting cell specific ephys data from neuroelectro in a code file (neuronunit/optimization/get_neab.py) \n"
   ]
  },
  {
   "cell_type": "code",
   "execution_count": 4,
   "metadata": {
    "collapsed": false
   },
   "outputs": [],
   "source": [
    "purkinje ={\"id\": 18, \"name\": \"Cerebellum Purkinje cell\", \"neuron_db_id\": 271, \"nlex_id\": \"sao471801888\"}\n",
    "fi_basket = {\"id\": 65, \"name\": \"Dentate gyrus basket cell\", \"neuron_db_id\": None, \"nlex_id\": \"nlx_cell_100201\"}\n",
    "pvis_cortex = {\"id\": 111, \"name\": \"Neocortex pyramidal cell layer 5-6\", \"neuron_db_id\": 265, \"nlex_id\": \"nifext_50\"}\n",
    "#This olfactory mitral cell does not have datum about rheobase, current injection values.\n",
    "olf_mitral = {\"id\": 129, \"name\": \"Olfactory bulb (main) mitral cell\", \"neuron_db_id\": 267, \"nlex_id\": \"nlx_anat_100201\"}\n",
    "ca1_pyr = {\"id\": 85, \"name\": \"Hippocampus CA1 pyramidal cell\", \"neuron_db_id\": 258, \"nlex_id\": \"sao830368389\"}\n",
    "pipe = [ fi_basket, ca1_pyr, purkinje,  pvis_cortex]"
   ]
  },
  {
   "cell_type": "code",
   "execution_count": 5,
   "metadata": {
    "collapsed": false
   },
   "outputs": [],
   "source": [
    "electro_tests = []\n",
    "obs_frame = {}\n",
    "test_frame = {}\n",
    "\n",
    "from neuronunit.optimization import get_neab\n",
    "try: \n",
    "\n",
    "    electro_path = str(os.getcwd())+'all_tests.p'\n",
    "\n",
    "    assert os.path.isfile(electro_path) == True\n",
    "    with open(electro_path,'rb') as f:\n",
    "        (obs_frame,test_frame) = pickle.load(f)\n",
    "\n",
    "except:\n",
    "    for p in pipe:\n",
    "        p_tests, p_observations = get_neab.get_neuron_criteria(p)\n",
    "        obs_frame[p[\"name\"]] = p_observations#, p_tests))\n",
    "        test_frame[p[\"name\"]] = p_tests#, p_tests))\n",
    "    electro_path = str(os.getcwd())+'all_tests.p'\n",
    "    with open(electro_path,'wb') as f:\n",
    "        pickle.dump((obs_frame,test_frame),f)"
   ]
  },
  {
   "cell_type": "markdown",
   "metadata": {},
   "source": [
    "# Cast the tabulatable data to pandas data frame\n",
    "There are many among us who prefer potentially tabulatable data to be encoded in pandas data frame."
   ]
  },
  {
   "cell_type": "code",
   "execution_count": 6,
   "metadata": {
    "collapsed": false,
    "scrolled": false
   },
   "outputs": [
    {
     "name": "stdout",
     "output_type": "stream",
     "text": [
      "dict_keys(['Hippocampus CA1 pyramidal cell', 'Cerebellum Purkinje cell', 'Neocortex pyramidal cell layer 5-6', 'Dentate gyrus basket cell'])\n"
     ]
    }
   ],
   "source": [
    "\n",
    "for k,v in test_frame.items():\n",
    "    if \"olf_mit\" not in k:\n",
    "        obs = obs_frame[k]\n",
    "        v[0] = RheobaseTestP(obs['Rheobase'])\n",
    "df = pd.DataFrame.from_dict(obs_frame)\n",
    "print(test_frame.keys())\n"
   ]
  },
  {
   "cell_type": "markdown",
   "metadata": {},
   "source": [
    "In the data frame below, you can see many different cell types"
   ]
  },
  {
   "cell_type": "code",
   "execution_count": 7,
   "metadata": {
    "collapsed": false
   },
   "outputs": [
    {
     "data": {
      "text/html": [
       "<div>\n",
       "<style scoped>\n",
       "    .dataframe tbody tr th:only-of-type {\n",
       "        vertical-align: middle;\n",
       "    }\n",
       "\n",
       "    .dataframe tbody tr th {\n",
       "        vertical-align: top;\n",
       "    }\n",
       "\n",
       "    .dataframe thead th {\n",
       "        text-align: right;\n",
       "    }\n",
       "</style>\n",
       "<table border=\"1\" class=\"dataframe\">\n",
       "  <thead>\n",
       "    <tr style=\"text-align: right;\">\n",
       "      <th></th>\n",
       "      <th>Cerebellum Purkinje cell</th>\n",
       "      <th>Dentate gyrus basket cell</th>\n",
       "      <th>Hippocampus CA1 pyramidal cell</th>\n",
       "      <th>Neocortex pyramidal cell layer 5-6</th>\n",
       "    </tr>\n",
       "  </thead>\n",
       "  <tbody>\n",
       "    <tr>\n",
       "      <th>Cell Capacitance</th>\n",
       "      <td>{'mean': 620.2725 pF, 'n': 4, 'std': 261.30303...</td>\n",
       "      <td>NaN</td>\n",
       "      <td>{'mean': 89.7960714285714 pF, 'n': 14, 'std': ...</td>\n",
       "      <td>{'mean': 150.584166666667 pF, 'n': 12, 'std': ...</td>\n",
       "    </tr>\n",
       "    <tr>\n",
       "      <th>Input Resistance</th>\n",
       "      <td>{'mean': 142.057692307692 Mohm, 'n': 13, 'std'...</td>\n",
       "      <td>{'mean': 222.475 Mohm, 'n': 4, 'std': 168.2911...</td>\n",
       "      <td>{'mean': 107.080327644332 Mohm, 'n': 113, 'std...</td>\n",
       "      <td>{'mean': 120.672073643411 Mohm, 'n': 86, 'std'...</td>\n",
       "    </tr>\n",
       "    <tr>\n",
       "      <th>Membrane Time Constant</th>\n",
       "      <td>NaN</td>\n",
       "      <td>{'mean': 13.25 ms, 'n': 2, 'std': 3.25 ms}</td>\n",
       "      <td>{'mean': 24.5021946169772 ms, 'n': 46, 'std': ...</td>\n",
       "      <td>{'mean': 15.7342424242424 ms, 'n': 33, 'std': ...</td>\n",
       "    </tr>\n",
       "    <tr>\n",
       "      <th>Resting membrane potential</th>\n",
       "      <td>{'mean': -61.5916666666667 mV, 'n': 6, 'std': ...</td>\n",
       "      <td>{'mean': -62.3 mV, 'n': 3, 'std': 4.0472212689...</td>\n",
       "      <td>{'mean': -65.2261863636364 mV, 'n': 110, 'std'...</td>\n",
       "      <td>{'mean': -68.2481434599156 mV, 'n': 79, 'std':...</td>\n",
       "    </tr>\n",
       "    <tr>\n",
       "      <th>Rheobase</th>\n",
       "      <td>{'mean': 680.794444444444 pA, 'n': 3, 'std': 4...</td>\n",
       "      <td>{'mean': 106.7 pA, 'n': 1, 'std': 0.0 pA}</td>\n",
       "      <td>{'mean': 189.24 pA, 'n': 17, 'std': 287.163664...</td>\n",
       "      <td>{'mean': 213.849583333333 pA, 'n': 32, 'std': ...</td>\n",
       "    </tr>\n",
       "    <tr>\n",
       "      <th>Spike Amplitude</th>\n",
       "      <td>{'mean': 71.2308333333333 mV, 'n': 6, 'std': 9...</td>\n",
       "      <td>{'mean': 78.6 mV, 'n': 2, 'std': 5.7 mV}</td>\n",
       "      <td>{'mean': 86.364525297619 mV, 'n': 64, 'std': 1...</td>\n",
       "      <td>{'mean': 80.4351020408164 mV, 'n': 49, 'std': ...</td>\n",
       "    </tr>\n",
       "    <tr>\n",
       "      <th>Spike Half-Width</th>\n",
       "      <td>{'mean': 0.41412962962963 ms, 'n': 9, 'std': 0...</td>\n",
       "      <td>{'mean': 0.9975 ms, 'n': 4, 'std': 0.442175021...</td>\n",
       "      <td>{'mean': 1.31895278450363 ms, 'n': 59, 'std': ...</td>\n",
       "      <td>{'mean': 1.20769387755102 ms, 'n': 49, 'std': ...</td>\n",
       "    </tr>\n",
       "    <tr>\n",
       "      <th>Spike Threshold</th>\n",
       "      <td>{'mean': -46.8947619047619 mV, 'n': 7, 'std': ...</td>\n",
       "      <td>{'mean': -38.4 mV, 'n': 2, 'std': 3.4 mV}</td>\n",
       "      <td>{'mean': -47.5985714285714 mV, 'n': 70, 'std':...</td>\n",
       "      <td>{'mean': -42.7357232704403 mV, 'n': 53, 'std':...</td>\n",
       "    </tr>\n",
       "  </tbody>\n",
       "</table>\n",
       "</div>"
      ],
      "text/plain": [
       "                                                     Cerebellum Purkinje cell  \\\n",
       "Cell Capacitance            {'mean': 620.2725 pF, 'n': 4, 'std': 261.30303...   \n",
       "Input Resistance            {'mean': 142.057692307692 Mohm, 'n': 13, 'std'...   \n",
       "Membrane Time Constant                                                    NaN   \n",
       "Resting membrane potential  {'mean': -61.5916666666667 mV, 'n': 6, 'std': ...   \n",
       "Rheobase                    {'mean': 680.794444444444 pA, 'n': 3, 'std': 4...   \n",
       "Spike Amplitude             {'mean': 71.2308333333333 mV, 'n': 6, 'std': 9...   \n",
       "Spike Half-Width            {'mean': 0.41412962962963 ms, 'n': 9, 'std': 0...   \n",
       "Spike Threshold             {'mean': -46.8947619047619 mV, 'n': 7, 'std': ...   \n",
       "\n",
       "                                                    Dentate gyrus basket cell  \\\n",
       "Cell Capacitance                                                          NaN   \n",
       "Input Resistance            {'mean': 222.475 Mohm, 'n': 4, 'std': 168.2911...   \n",
       "Membrane Time Constant             {'mean': 13.25 ms, 'n': 2, 'std': 3.25 ms}   \n",
       "Resting membrane potential  {'mean': -62.3 mV, 'n': 3, 'std': 4.0472212689...   \n",
       "Rheobase                            {'mean': 106.7 pA, 'n': 1, 'std': 0.0 pA}   \n",
       "Spike Amplitude                      {'mean': 78.6 mV, 'n': 2, 'std': 5.7 mV}   \n",
       "Spike Half-Width            {'mean': 0.9975 ms, 'n': 4, 'std': 0.442175021...   \n",
       "Spike Threshold                     {'mean': -38.4 mV, 'n': 2, 'std': 3.4 mV}   \n",
       "\n",
       "                                               Hippocampus CA1 pyramidal cell  \\\n",
       "Cell Capacitance            {'mean': 89.7960714285714 pF, 'n': 14, 'std': ...   \n",
       "Input Resistance            {'mean': 107.080327644332 Mohm, 'n': 113, 'std...   \n",
       "Membrane Time Constant      {'mean': 24.5021946169772 ms, 'n': 46, 'std': ...   \n",
       "Resting membrane potential  {'mean': -65.2261863636364 mV, 'n': 110, 'std'...   \n",
       "Rheobase                    {'mean': 189.24 pA, 'n': 17, 'std': 287.163664...   \n",
       "Spike Amplitude             {'mean': 86.364525297619 mV, 'n': 64, 'std': 1...   \n",
       "Spike Half-Width            {'mean': 1.31895278450363 ms, 'n': 59, 'std': ...   \n",
       "Spike Threshold             {'mean': -47.5985714285714 mV, 'n': 70, 'std':...   \n",
       "\n",
       "                                           Neocortex pyramidal cell layer 5-6  \n",
       "Cell Capacitance            {'mean': 150.584166666667 pF, 'n': 12, 'std': ...  \n",
       "Input Resistance            {'mean': 120.672073643411 Mohm, 'n': 86, 'std'...  \n",
       "Membrane Time Constant      {'mean': 15.7342424242424 ms, 'n': 33, 'std': ...  \n",
       "Resting membrane potential  {'mean': -68.2481434599156 mV, 'n': 79, 'std':...  \n",
       "Rheobase                    {'mean': 213.849583333333 pA, 'n': 32, 'std': ...  \n",
       "Spike Amplitude             {'mean': 80.4351020408164 mV, 'n': 49, 'std': ...  \n",
       "Spike Half-Width            {'mean': 1.20769387755102 ms, 'n': 49, 'std': ...  \n",
       "Spike Threshold             {'mean': -42.7357232704403 mV, 'n': 53, 'std':...  "
      ]
     },
     "execution_count": 7,
     "metadata": {},
     "output_type": "execute_result"
    }
   ],
   "source": [
    "df"
   ]
  },
  {
   "cell_type": "code",
   "execution_count": 8,
   "metadata": {
    "collapsed": false
   },
   "outputs": [
    {
     "data": {
      "text/plain": [
       "Cell Capacitance              {'mean': 89.7960714285714 pF, 'n': 14, 'std': ...\n",
       "Input Resistance              {'mean': 107.080327644332 Mohm, 'n': 113, 'std...\n",
       "Membrane Time Constant        {'mean': 24.5021946169772 ms, 'n': 46, 'std': ...\n",
       "Resting membrane potential    {'mean': -65.2261863636364 mV, 'n': 110, 'std'...\n",
       "Rheobase                      {'mean': 189.24 pA, 'n': 17, 'std': 287.163664...\n",
       "Spike Amplitude               {'mean': 86.364525297619 mV, 'n': 64, 'std': 1...\n",
       "Spike Half-Width              {'mean': 1.31895278450363 ms, 'n': 59, 'std': ...\n",
       "Spike Threshold               {'mean': -47.5985714285714 mV, 'n': 70, 'std':...\n",
       "Name: Hippocampus CA1 pyramidal cell, dtype: object"
      ]
     },
     "execution_count": 8,
     "metadata": {},
     "output_type": "execute_result"
    }
   ],
   "source": [
    "df['Hippocampus CA1 pyramidal cell']\n",
    "\n",
    "# enable R style caching.\n",
    "#!pip install git+https://github.com/rossant/ipycache\n",
    "#%load_ext ipycache"
   ]
  },
  {
   "cell_type": "markdown",
   "metadata": {},
   "source": [
    "# Tweak Izhikitich equations\n",
    "with educated guesses based on information that is already encoded in the predefined experimental observations.\n",
    "\n",
    "In otherwords use information that is readily amenable into hardcoding into equations \n",
    "\n",
    "Select out the 'Neocortex pyramidal cell layer 5-6' below, as a target for optimization"
   ]
  },
  {
   "cell_type": "code",
   "execution_count": 9,
   "metadata": {
    "collapsed": false,
    "scrolled": false
   },
   "outputs": [],
   "source": [
    "free_params = ['a','b','k','c','C','d','vPeak','vr']\n",
    "hc_ = reduced_cells['RS']\n",
    "hc_['vr'] = -65.2261863636364\n",
    "hc_['vPeak'] = hc_['vr'] + 86.364525297619\n",
    "explore_param['C'] = (hc_['C']-20,hc_['C']+20)\n",
    "explore_param['vr'] = (hc_['vr']-5,hc_['vr']+5)\n",
    "#use_test = collections.OrderedDict()\n",
    "use_test = test_frame[\"Neocortex pyramidal cell layer 5-6\"]\n",
    "\n",
    "test_opt = {}\n",
    "\n",
    "with open('data_dump.p','wb') as f:\n",
    "    pickle.dump(test_opt,f)"
   ]
  },
  {
   "cell_type": "code",
   "execution_count": 10,
   "metadata": {
    "collapsed": false
   },
   "outputs": [
    {
     "name": "stdout",
     "output_type": "stream",
     "text": [
      "RheobaseTestP\n",
      "{'mean': array(213.849583333333) * pA, 'n': 32, 'std': array(170.452454715608) * pA}\n"
     ]
    }
   ],
   "source": [
    "\n",
    "use_test[0].observation\n",
    "print(use_test[0].name)\n",
    "\n",
    "rtp = RheobaseTestP(use_test[0].observation)\n",
    "use_test[0] = rtp\n",
    "print(use_test[0].observation)"
   ]
  },
  {
   "cell_type": "code",
   "execution_count": 11,
   "metadata": {
    "collapsed": false
   },
   "outputs": [
    {
     "name": "stdout",
     "output_type": "stream",
     "text": [
      "['a', 'b', 'k', 'c', 'C', 'd', 'vPeak', 'vr']\n"
     ]
    }
   ],
   "source": [
    "MU = 6\n",
    "NGEN = 10\n",
    "\n",
    "import pickle\n",
    "import numpy as np\n",
    "print(free_params)\n",
    "    \n",
    "import pickle\n",
    "test_opt = {}\n",
    "import numpy as np\n",
    "try:\n",
    "\n",
    "    with open('multi_dimension_per_single_criteria.p','rb') as f:\n",
    "        test_opt = pickle.load(f)\n",
    "except:\n",
    "\n",
    "    for index,test in enumerate(use_test):\n",
    "\n",
    "        ga_out, DO = om.run_ga(explore_param,NGEN,[test],free_params=free_params, NSGA = True, MU = MU)\n",
    "\n",
    "        test_opt[test] = ga_out\n",
    "        with open('multi_dimension_per_single_criteria.p','wb') as f:\n",
    "            pickle.dump(test_opt,f)\n",
    "\n"
   ]
  },
  {
   "cell_type": "code",
   "execution_count": 12,
   "metadata": {
    "collapsed": false
   },
   "outputs": [
    {
     "data": {
      "text/plain": [
       "dict_keys([<neuronunit.tests.fi.RheobaseTestP object at 0x7f7861aa4828>, <neuronunit.tests.waveform.InjectedCurrentAPWidthTest object at 0x7f7861919eb8>, <neuronunit.tests.waveform.InjectedCurrentAPAmplitudeTest object at 0x7f7861645860>, <neuronunit.tests.passive.CapacitanceTest object at 0x7f78620c3d68>, <neuronunit.tests.waveform.InjectedCurrentAPThresholdTest object at 0x7f7862808080>, <neuronunit.tests.passive.InputResistanceTest object at 0x7f7861e8c198>, <neuronunit.tests.passive.TimeConstantTest object at 0x7f78617f3da0>, <neuronunit.tests.passive.RestingPotentialTest object at 0x7f7861cf3eb8>])"
      ]
     },
     "execution_count": 12,
     "metadata": {},
     "output_type": "execute_result"
    }
   ],
   "source": [
    "\n",
    "test_opt.keys()"
   ]
  },
  {
   "cell_type": "code",
   "execution_count": 13,
   "metadata": {
    "collapsed": false
   },
   "outputs": [
    {
     "name": "stdout",
     "output_type": "stream",
     "text": [
      "{'injected_square_current': {'amplitude': array(99.5625) * pA, 'delay': array(100.0) * ms, 'duration': array(1000.0) * ms}}\n",
      "1\n"
     ]
    },
    {
     "name": "stderr",
     "output_type": "stream",
     "text": [
      "/opt/conda/lib/python3.5/site-packages/matplotlib/font_manager.py:1297: UserWarning: findfont: Font family ['sans-serif'] not found. Falling back to DejaVu Sans\n",
      "  (prop.get_family(), self.defaultFamily[fontext]))\n"
     ]
    },
    {
     "data": {
      "image/png": "[encoded data removed]",
      "text/plain": [
       "<matplotlib.figure.Figure at 0x7f786168c438>"
      ]
     },
     "metadata": {},
     "output_type": "display_data"
    },
    {
     "name": "stdout",
     "output_type": "stream",
     "text": [
      "{'injected_square_current': {'amplitude': array(295.6113815307617) * pA, 'delay': array(100.0) * ms, 'duration': array(1000.0) * ms}}\n",
      "210\n"
     ]
    },
    {
     "data": {
      "image/png": "[encoded data removed]",
      "text/plain": [
       "<matplotlib.figure.Figure at 0x7f7861fcd828>"
      ]
     },
     "metadata": {},
     "output_type": "display_data"
    },
    {
     "name": "stdout",
     "output_type": "stream",
     "text": [
      "{'injected_square_current': {'amplitude': array(100.18180847167969) * pA, 'delay': array(200.0) * ms, 'duration': array(1000.0) * ms}}\n",
      "1\n"
     ]
    },
    {
     "data": {
      "image/png": "[encoded data removed]",
      "text/plain": [
       "<matplotlib.figure.Figure at 0x7f7861dbcac8>"
      ]
     },
     "metadata": {},
     "output_type": "display_data"
    },
    {
     "name": "stdout",
     "output_type": "stream",
     "text": [
      "{'injected_square_current': {'amplitude': array(63.878173828125) * pA, 'delay': array(100.0) * ms, 'duration': array(1000.0) * ms}}\n",
      "1\n"
     ]
    },
    {
     "data": {
      "image/png": "[encoded data removed]",
      "text/plain": [
       "<matplotlib.figure.Figure at 0x7f78603ae4a8>"
      ]
     },
     "metadata": {},
     "output_type": "display_data"
    },
    {
     "name": "stdout",
     "output_type": "stream",
     "text": [
      "{'injected_square_current': {'amplitude': array(52.875) * pA, 'delay': array(200.0) * ms, 'duration': array(1000.0) * ms}}\n",
      "1\n"
     ]
    },
    {
     "data": {
      "image/png": "[encoded data removed]",
      "text/plain": [
       "<matplotlib.figure.Figure at 0x7f78602ce438>"
      ]
     },
     "metadata": {},
     "output_type": "display_data"
    },
    {
     "name": "stdout",
     "output_type": "stream",
     "text": [
      "{'injected_square_current': {'amplitude': array(20.311279296875) * pA, 'delay': array(200.0) * ms, 'duration': array(1000.0) * ms}}\n",
      "1\n"
     ]
    },
    {
     "data": {
      "image/png": "[encoded data removed]",
      "text/plain": [
       "<matplotlib.figure.Figure at 0x7f78602d80b8>"
      ]
     },
     "metadata": {},
     "output_type": "display_data"
    },
    {
     "name": "stdout",
     "output_type": "stream",
     "text": [
      "{'injected_square_current': {'amplitude': array(109.9375) * pA, 'delay': array(200.0) * ms, 'duration': array(1000.0) * ms}}\n",
      "1\n"
     ]
    },
    {
     "data": {
      "image/png": "[encoded data removed]",
      "text/plain": [
       "<matplotlib.figure.Figure at 0x7f78602e6e80>"
      ]
     },
     "metadata": {},
     "output_type": "display_data"
    }
   ],
   "source": [
    "from neuronunit.optimization.optimization_management import mint_generic_model, dtc_to_rheo\n",
    "import matplotlib.pyplot as plt\n",
    "#import \n",
    "X = []\n",
    "ranges = {}\n",
    "best = {}\n",
    "all_val = {}\n",
    "\n",
    "for key,value in test_opt.items():\n",
    "    model = None\n",
    "    dtc = value['pf'][0].dtc\n",
    "    model = mint_generic_model(str('RAW'))\n",
    "    model.set_attrs(dtc.attrs)\n",
    "    try:\n",
    "        dtc = dtc_to_rheo(dtc)\n",
    "        \n",
    "        dtc.vtest[0]['injected_square_current']['amplitude'] = dtc.rheobase['value']\n",
    "        dtc.vtest[0]['injected_square_current']['duration'] = 1000*pq.ms\n",
    "\n",
    "        print(dtc.vtest[0])\n",
    "        \n",
    "        model.inject_square_current(dtc.vtest[0])\n",
    "        #print(dtc.vtest[0],key)\n",
    "        print(len(model.get_spike_train()))\n",
    "        plt.plot(model.get_membrane_potential().times,model.get_membrane_potential())#,label='ground truth')\n",
    "        plt.show()\n",
    "    except:\n",
    "        pass\n"
   ]
  },
  {
   "cell_type": "code",
   "execution_count": 14,
   "metadata": {
    "collapsed": false
   },
   "outputs": [],
   "source": [
    "\n",
    "X = []\n",
    "ranges = {}\n",
    "best = {}\n",
    "all_val = {}\n",
    "for key,value in test_opt.items():\n",
    "    ranges[key] = {}\n",
    "    best[key] = {}\n",
    "    all_val[key] = {}\n",
    "    for k in value['pf'][0].dtc.attrs.keys():\n",
    "        \n",
    "        best[key][k] = value['pf'][0].dtc.attrs[k]\n",
    "\n",
    "        temp = [i.dtc.attrs[k] for i in value['hof']]\n",
    "\n",
    "        all_val[key][k] = temp\n",
    "        ranges[key][k] = (np.min(temp), np.max(temp))\n",
    "        \n",
    "data_dump = [best,all_val,ranges]        \n",
    "pickle.dump(data_dump,open('conflicted_params.p','wb'))\n"
   ]
  },
  {
   "cell_type": "markdown",
   "metadata": {},
   "source": [
    "# Visualization \n",
    "the amount the amount of freedom to vary left in models optimized per single tests\n",
    "This plot shows how much freedom does each parameter have, after it has been constrained by individual tests\n",
    "Tests, with complimentary parameter freedoms, should not be in conflict.\n",
    "Consistanty 'd' is often unconstrained.\n",
    "\n",
    "Intermittantly 'c', 'vPeak', and 'C' are."
   ]
  },
  {
   "cell_type": "code",
   "execution_count": 15,
   "metadata": {
    "collapsed": false
   },
   "outputs": [
    {
     "name": "stderr",
     "output_type": "stream",
     "text": [
      "/opt/conda/lib/python3.5/site-packages/matplotlib/font_manager.py:1297: UserWarning: findfont: Font family ['sans-serif'] not found. Falling back to DejaVu Sans\n",
      "  (prop.get_family(), self.defaultFamily[fontext]))\n"
     ]
    },
    {
     "data": {
      "image/png": "[encoded data removed]",
      "text/plain": [
       "<matplotlib.figure.Figure at 0x7f7860349cf8>"
      ]
     },
     "metadata": {},
     "output_type": "display_data"
    },
    {
     "data": {
      "image/png": "[encoded data removed]",
      "text/plain": [
       "<matplotlib.figure.Figure at 0x7f7860355d68>"
      ]
     },
     "metadata": {},
     "output_type": "display_data"
    },
    {
     "data": {
      "image/png": "[encoded data removed]",
      "text/plain": [
       "<matplotlib.figure.Figure at 0x7f7860398cf8>"
      ]
     },
     "metadata": {},
     "output_type": "display_data"
    },
    {
     "data": {
      "image/png": "[encoded data removed]",
      "text/plain": [
       "<matplotlib.figure.Figure at 0x7f786180d6d8>"
      ]
     },
     "metadata": {},
     "output_type": "display_data"
    },
    {
     "data": {
      "image/png": "[encoded data removed]",
      "text/plain": [
       "<matplotlib.figure.Figure at 0x7f785851cb70>"
      ]
     },
     "metadata": {},
     "output_type": "display_data"
    },
    {
     "data": {
      "image/png": "[encoded data removed]",
      "text/plain": [
       "<matplotlib.figure.Figure at 0x7f78602c9ef0>"
      ]
     },
     "metadata": {},
     "output_type": "display_data"
    },
    {
     "data": {
      "image/png": "[encoded data removed]",
      "text/plain": [
       "<matplotlib.figure.Figure at 0x7f785bda07f0>"
      ]
     },
     "metadata": {},
     "output_type": "display_data"
    },
    {
     "data": {
      "image/png": "[encoded data removed]",
      "text/plain": [
       "<matplotlib.figure.Figure at 0x7f785bd654a8>"
      ]
     },
     "metadata": {},
     "output_type": "display_data"
    }
   ],
   "source": [
    "import seaborn as sns\n",
    "from matplotlib.pyplot import errorbar\n",
    "import matplotlib.pyplot as plt\n",
    "\n",
    "fig0,ax0 = plt.subplots(len(test_opt),1,figsize=(10,10))\n",
    "\n",
    "cnt=0\n",
    "for key,value in test_opt.items():\n",
    "\n",
    "    x = 0\n",
    "    labels = []\n",
    "    plt.clf()\n",
    "    for k in value['pf'][0].dtc.attrs.keys():\n",
    "        \n",
    "        value = ranges[key][k]\n",
    "\n",
    "        y = np.mean(value)\n",
    "        err = max(value)-min(value)\n",
    "        errorbar(x, y, err, marker='s', mfc='red',\n",
    "                 mec='green', ms=2, mew=4,label='in '+str(k))\n",
    "        x+=1\n",
    "        labels.append(k)\n",
    "    plt.xticks(np.arange(len(labels)), labels)\n",
    "    ax0[cnt] = plt\n",
    "    cnt+=1\n",
    "    plt.show()\n",
    "\n"
   ]
  },
  {
   "cell_type": "markdown",
   "metadata": {},
   "source": [
    "# Visualize the clusters"
   ]
  },
  {
   "cell_type": "code",
   "execution_count": 16,
   "metadata": {
    "collapsed": false
   },
   "outputs": [
    {
     "data": {
      "text/html": [
       "<div>\n",
       "<style scoped>\n",
       "    .dataframe tbody tr th:only-of-type {\n",
       "        vertical-align: middle;\n",
       "    }\n",
       "\n",
       "    .dataframe tbody tr th {\n",
       "        vertical-align: top;\n",
       "    }\n",
       "\n",
       "    .dataframe thead th {\n",
       "        text-align: right;\n",
       "    }\n",
       "</style>\n",
       "<table border=\"1\" class=\"dataframe\">\n",
       "  <thead>\n",
       "    <tr style=\"text-align: right;\">\n",
       "      <th></th>\n",
       "      <th>0</th>\n",
       "      <th>1</th>\n",
       "      <th>2</th>\n",
       "      <th>3</th>\n",
       "      <th>4</th>\n",
       "      <th>5</th>\n",
       "    </tr>\n",
       "  </thead>\n",
       "  <tbody>\n",
       "    <tr>\n",
       "      <th>a</th>\n",
       "      <td>0.200000</td>\n",
       "      <td>0.198962</td>\n",
       "      <td>0.200000</td>\n",
       "      <td>0.200000</td>\n",
       "      <td>0.200000</td>\n",
       "      <td>0.200000</td>\n",
       "    </tr>\n",
       "    <tr>\n",
       "      <th>b</th>\n",
       "      <td>12.547241</td>\n",
       "      <td>12.463155</td>\n",
       "      <td>12.346548</td>\n",
       "      <td>12.346704</td>\n",
       "      <td>12.547241</td>\n",
       "      <td>12.346704</td>\n",
       "    </tr>\n",
       "    <tr>\n",
       "      <th>k</th>\n",
       "      <td>0.580569</td>\n",
       "      <td>0.896644</td>\n",
       "      <td>0.896644</td>\n",
       "      <td>0.896644</td>\n",
       "      <td>0.896644</td>\n",
       "      <td>0.896644</td>\n",
       "    </tr>\n",
       "    <tr>\n",
       "      <th>vPeak</th>\n",
       "      <td>1.816482</td>\n",
       "      <td>3.118787</td>\n",
       "      <td>3.908257</td>\n",
       "      <td>3.908257</td>\n",
       "      <td>3.908257</td>\n",
       "      <td>3.908257</td>\n",
       "    </tr>\n",
       "    <tr>\n",
       "      <th>vr</th>\n",
       "      <td>-67.272253</td>\n",
       "      <td>-67.272253</td>\n",
       "      <td>-67.272253</td>\n",
       "      <td>-67.272253</td>\n",
       "      <td>-67.272253</td>\n",
       "      <td>-67.272253</td>\n",
       "    </tr>\n",
       "    <tr>\n",
       "      <th>d</th>\n",
       "      <td>101.684443</td>\n",
       "      <td>109.438326</td>\n",
       "      <td>102.523588</td>\n",
       "      <td>94.725236</td>\n",
       "      <td>106.922105</td>\n",
       "      <td>102.542865</td>\n",
       "    </tr>\n",
       "    <tr>\n",
       "      <th>c</th>\n",
       "      <td>-40.698396</td>\n",
       "      <td>-58.762816</td>\n",
       "      <td>-40.698396</td>\n",
       "      <td>-40.698396</td>\n",
       "      <td>-40.698396</td>\n",
       "      <td>-40.698396</td>\n",
       "    </tr>\n",
       "    <tr>\n",
       "      <th>C</th>\n",
       "      <td>86.652769</td>\n",
       "      <td>89.344042</td>\n",
       "      <td>88.669291</td>\n",
       "      <td>89.355227</td>\n",
       "      <td>86.334799</td>\n",
       "      <td>88.500571</td>\n",
       "    </tr>\n",
       "  </tbody>\n",
       "</table>\n",
       "</div>"
      ],
      "text/plain": [
       "                0           1           2          3           4           5\n",
       "a        0.200000    0.198962    0.200000   0.200000    0.200000    0.200000\n",
       "b       12.547241   12.463155   12.346548  12.346704   12.547241   12.346704\n",
       "k        0.580569    0.896644    0.896644   0.896644    0.896644    0.896644\n",
       "vPeak    1.816482    3.118787    3.908257   3.908257    3.908257    3.908257\n",
       "vr     -67.272253  -67.272253  -67.272253 -67.272253  -67.272253  -67.272253\n",
       "d      101.684443  109.438326  102.523588  94.725236  106.922105  102.542865\n",
       "c      -40.698396  -58.762816  -40.698396 -40.698396  -40.698396  -40.698396\n",
       "C       86.652769   89.344042   88.669291  89.355227   86.334799   88.500571"
      ]
     },
     "execution_count": 16,
     "metadata": {},
     "output_type": "execute_result"
    }
   ],
   "source": [
    "first_test = all_val[list(all_val.keys())[0]].values()\n",
    "ft = all_val[list(all_val.keys())[0]]\n",
    "\n",
    "X = list(first_test)\n",
    "X_labels = all_val[list(all_val.keys())[0]].keys()\n",
    "\n",
    "df1 = pd.DataFrame(X)\n",
    "#df1 = df.T\n",
    "#X_labels\n",
    "df1 = pd.DataFrame(X,index=X_labels)\n",
    "\n",
    "\n",
    "#df1 = df1.T \n",
    "df1"
   ]
  },
  {
   "cell_type": "code",
   "execution_count": 17,
   "metadata": {
    "collapsed": false
   },
   "outputs": [
    {
     "name": "stderr",
     "output_type": "stream",
     "text": [
      "/opt/conda/lib/python3.5/site-packages/matplotlib/font_manager.py:1297: UserWarning: findfont: Font family ['sans-serif'] not found. Falling back to DejaVu Sans\n",
      "  (prop.get_family(), self.defaultFamily[fontext]))\n"
     ]
    },
    {
     "data": {
      "image/png": "[encoded data removed]",
      "text/plain": [
       "<matplotlib.figure.Figure at 0x7f785bb9e550>"
      ]
     },
     "metadata": {},
     "output_type": "display_data"
    }
   ],
   "source": [
    "import matplotlib.pyplot as plt\n",
    "from mpl_toolkits.mplot3d import Axes3D\n",
    "from sklearn.cluster import KMeans\n",
    "from sklearn import datasets\n",
    "import seaborn as sns; sns.set()  # for plot styling\n",
    "X = np.array(X)\n",
    "#X = X.T\n",
    "est = KMeans(n_clusters=3)\n",
    "\n",
    "est.fit(X)\n",
    "\n",
    "y_kmeans = est.predict(X)\n",
    "centers = est.cluster_centers_\n",
    "\n",
    "fignum = 1\n",
    "fig = plt.figure(fignum, figsize=(4, 3))\n",
    "ax = Axes3D(fig, rect=[0, 0, .95, 1], elev=48, azim=134)\n",
    "ax.scatter(X[:, 0], X[:, 1], X[:, 2], c=y_kmeans, s=50)\n",
    "ax.scatter(centers[:, 0], centers[:, 1], centers[:, 2], c='black', s=200, alpha=0.5);\n",
    "ax.w_xaxis.set_ticklabels([])\n",
    "ax.w_yaxis.set_ticklabels([])\n",
    "ax.w_zaxis.set_ticklabels([])\n",
    "ax.set_xlabel('cluster 0')\n",
    "ax.set_ylabel('cluster 1')\n",
    "ax.set_zlabel('cluster 2')\n",
    "fig.savefig('3dCluster.png')\n",
    "\n",
    "# todo evaluate models at the cluster centre\n"
   ]
  },
  {
   "cell_type": "code",
   "execution_count": 18,
   "metadata": {
    "collapsed": false
   },
   "outputs": [
    {
     "name": "stdout",
     "output_type": "stream",
     "text": [
      "{0: [<neuronunit.tests.passive.InputResistanceTest object at 0x7f7861e8c198>, <neuronunit.tests.passive.RestingPotentialTest object at 0x7f7861cf3eb8>], 1: [<neuronunit.tests.fi.RheobaseTestP object at 0x7f7861aa4828>, <neuronunit.tests.waveform.InjectedCurrentAPWidthTest object at 0x7f7861919eb8>, <neuronunit.tests.waveform.InjectedCurrentAPAmplitudeTest object at 0x7f7861645860>, <neuronunit.tests.passive.CapacitanceTest object at 0x7f78620c3d68>], 2: [<neuronunit.tests.waveform.InjectedCurrentAPThresholdTest object at 0x7f7862808080>, <neuronunit.tests.passive.TimeConstantTest object at 0x7f78617f3da0>]}\n",
      "{0: ['InputResistanceTest', 'RestingPotentialTest'], 1: ['RheobaseTestP', 'InjectedCurrentAPWidthTest', 'InjectedCurrentAPAmplitudeTest', 'CapacitanceTest'], 2: ['InjectedCurrentAPThresholdTest', 'TimeConstantTest']}\n"
     ]
    }
   ],
   "source": [
    "#for groups in range(0,2):\n",
    "y_kmeans\n",
    "#X*.y_kmeans\n",
    "first_test = test_opt[list(test_opt.keys())[0]].values()\n",
    "test_names = [t.name for t in test_opt.keys()]\n",
    "test_classes = [t for t in test_opt.keys()]\n",
    "\n",
    "grouped_testsn = {}\n",
    "grouped_tests = {}\n",
    "\n",
    "for i,k in enumerate(y_kmeans):        \n",
    "    grouped_testsn[k] = []\n",
    "    grouped_tests[k] = []\n",
    "for i,k in enumerate(y_kmeans):        \n",
    "    grouped_testsn[k].append(test_names[i])\n",
    "    grouped_tests[k].append(test_classes[i])\n",
    "\n",
    "print(grouped_tests)    \n",
    "\n",
    "print(grouped_testsn)"
   ]
  },
  {
   "cell_type": "code",
   "execution_count": null,
   "metadata": {
    "collapsed": false
   },
   "outputs": [
    {
     "name": "stdout",
     "output_type": "stream",
     "text": [
      "['a', 'b', 'k', 'c', 'C', 'd', 'vPeak', 'vr']\n",
      "['InputResistanceTest', 'RestingPotentialTest']\n"
     ]
    },
    {
     "name": "stderr",
     "output_type": "stream",
     "text": [
      "INFO:__main__:gen\tnevals\tavg     \tstd     \tmin     \tmax    \n",
      "1  \t6     \t0.995683\t0.366128\t0.428902\t1.51191\n",
      "2  \t5     \t0.964619\t0.398022\t0.347598\t1.51191\n"
     ]
    },
    {
     "name": "stdout",
     "output_type": "stream",
     "text": [
      "true minimum 0.347598107001\n"
     ]
    },
    {
     "name": "stderr",
     "output_type": "stream",
     "text": [
      "INFO:__main__:3  \t6     \t0.702512\t0.130651\t0.533093\t0.88351\n"
     ]
    },
    {
     "name": "stdout",
     "output_type": "stream",
     "text": [
      "true minimum 0.347598107001\n"
     ]
    },
    {
     "name": "stderr",
     "output_type": "stream",
     "text": [
      "INFO:__main__:4  \t5     \t0.503505\t0.133246\t0.342028\t0.680992\n"
     ]
    },
    {
     "name": "stdout",
     "output_type": "stream",
     "text": [
      "true minimum 0.347598107001\n"
     ]
    },
    {
     "name": "stderr",
     "output_type": "stream",
     "text": [
      "INFO:__main__:5  \t6     \t0.429418\t0.114613\t0.274183\t0.638697\n"
     ]
    },
    {
     "name": "stdout",
     "output_type": "stream",
     "text": [
      "true minimum 0.27418342358\n"
     ]
    },
    {
     "name": "stderr",
     "output_type": "stream",
     "text": [
      "INFO:__main__:6  \t5     \t0.492573\t0.220568\t0.228661\t0.732631\n"
     ]
    },
    {
     "name": "stdout",
     "output_type": "stream",
     "text": [
      "true minimum 0.27418342358\n"
     ]
    },
    {
     "name": "stderr",
     "output_type": "stream",
     "text": [
      "INFO:__main__:7  \t4     \t0.277489\t0.0883509\t0.112674\t0.379978\n"
     ]
    },
    {
     "name": "stdout",
     "output_type": "stream",
     "text": [
      "true minimum 0.11267383096\n"
     ]
    },
    {
     "name": "stderr",
     "output_type": "stream",
     "text": [
      "INFO:__main__:8  \t6     \t0.310674\t0.121284 \t0.164231\t0.485735\n"
     ]
    },
    {
     "name": "stdout",
     "output_type": "stream",
     "text": [
      "true minimum 0.11267383096\n"
     ]
    },
    {
     "name": "stderr",
     "output_type": "stream",
     "text": [
      "INFO:__main__:9  \t6     \t0.230096\t0.143191 \t0.116065\t0.543643\n"
     ]
    },
    {
     "name": "stdout",
     "output_type": "stream",
     "text": [
      "true minimum 0.11267383096\n"
     ]
    },
    {
     "name": "stderr",
     "output_type": "stream",
     "text": [
      "INFO:__main__:10 \t3     \t0.168286\t0.081908 \t0.103376\t0.342028\n"
     ]
    },
    {
     "name": "stdout",
     "output_type": "stream",
     "text": [
      "true minimum 0.11267383096\n"
     ]
    },
    {
     "name": "stderr",
     "output_type": "stream",
     "text": [
      "INFO:__main__:11 \t4     \t0.136974\t0.0382334\t0.0816452\t0.192784\n"
     ]
    },
    {
     "name": "stdout",
     "output_type": "stream",
     "text": [
      "true minimum 0.11267383096\n"
     ]
    },
    {
     "name": "stderr",
     "output_type": "stream",
     "text": [
      "INFO:__main__:12 \t5     \t0.18271 \t0.128201 \t0.0463722\t0.444397\n"
     ]
    },
    {
     "name": "stdout",
     "output_type": "stream",
     "text": [
      "true minimum 0.0463721764021\n"
     ]
    },
    {
     "name": "stderr",
     "output_type": "stream",
     "text": [
      "INFO:__main__:13 \t5     \t0.434395\t0.267852 \t0.0816452\t0.933329\n"
     ]
    },
    {
     "name": "stdout",
     "output_type": "stream",
     "text": [
      "true minimum 0.0463721764021\n"
     ]
    },
    {
     "name": "stderr",
     "output_type": "stream",
     "text": [
      "INFO:__main__:14 \t6     \t0.252617\t0.104533 \t0.103376 \t0.381686\n"
     ]
    },
    {
     "name": "stdout",
     "output_type": "stream",
     "text": [
      "true minimum 0.0463721764021\n"
     ]
    },
    {
     "name": "stderr",
     "output_type": "stream",
     "text": [
      "INFO:__main__:15 \t4     \t0.225764\t0.185632 \t0.0463722\t0.550893\n"
     ]
    },
    {
     "name": "stdout",
     "output_type": "stream",
     "text": [
      "true minimum 0.0463721764021\n"
     ]
    },
    {
     "name": "stderr",
     "output_type": "stream",
     "text": [
      "INFO:__main__:16 \t5     \t0.196783\t0.148074 \t0.0816452\t0.500184\n"
     ]
    },
    {
     "name": "stdout",
     "output_type": "stream",
     "text": [
      "true minimum 0.0463721764021\n"
     ]
    },
    {
     "name": "stderr",
     "output_type": "stream",
     "text": [
      "INFO:__main__:17 \t6     \t0.273787\t0.254507 \t0.0643857\t0.716221\n"
     ]
    },
    {
     "name": "stdout",
     "output_type": "stream",
     "text": [
      "true minimum 0.0463721764021\n"
     ]
    },
    {
     "name": "stderr",
     "output_type": "stream",
     "text": [
      "INFO:__main__:18 \t6     \t0.523064\t0.296399 \t0.0326204\t0.880757\n"
     ]
    },
    {
     "name": "stdout",
     "output_type": "stream",
     "text": [
      "true minimum 0.0326203886092\n"
     ]
    },
    {
     "name": "stderr",
     "output_type": "stream",
     "text": [
      "INFO:__main__:19 \t6     \t0.190406\t0.136931 \t0.0119748\t0.410876\n"
     ]
    },
    {
     "name": "stdout",
     "output_type": "stream",
     "text": [
      "true minimum 0.0119747830002\n"
     ]
    },
    {
     "name": "stderr",
     "output_type": "stream",
     "text": [
      "INFO:__main__:20 \t4     \t0.156797\t0.0759472\t0.0119748\t0.270539\n"
     ]
    },
    {
     "name": "stdout",
     "output_type": "stream",
     "text": [
      "true minimum 0.0119747830002\n"
     ]
    },
    {
     "name": "stderr",
     "output_type": "stream",
     "text": [
      "INFO:__main__:21 \t5     \t0.343087\t0.302838 \t0.150225 \t1.01004 \n"
     ]
    },
    {
     "name": "stdout",
     "output_type": "stream",
     "text": [
      "true minimum 0.0119747830002\n"
     ]
    },
    {
     "name": "stderr",
     "output_type": "stream",
     "text": [
      "INFO:__main__:22 \t6     \t0.254314\t0.0636273\t0.158565 \t0.32649 \n"
     ]
    },
    {
     "name": "stdout",
     "output_type": "stream",
     "text": [
      "true minimum 0.0119747830002\n"
     ]
    },
    {
     "name": "stderr",
     "output_type": "stream",
     "text": [
      "INFO:__main__:23 \t5     \t0.143116\t0.101284 \t0.0119748\t0.31696 \n"
     ]
    },
    {
     "name": "stdout",
     "output_type": "stream",
     "text": [
      "true minimum 0.0119747830002\n"
     ]
    },
    {
     "name": "stderr",
     "output_type": "stream",
     "text": [
      "INFO:__main__:24 \t4     \t0.154683\t0.110841 \t0.0119748\t0.362421\n"
     ]
    },
    {
     "name": "stdout",
     "output_type": "stream",
     "text": [
      "true minimum 0.0119747830002\n"
     ]
    },
    {
     "name": "stderr",
     "output_type": "stream",
     "text": [
      "INFO:__main__:25 \t5     \t0.179906\t0.126023 \t0.0119748\t0.347429\n"
     ]
    },
    {
     "name": "stdout",
     "output_type": "stream",
     "text": [
      "true minimum 0.0119747830002\n"
     ]
    },
    {
     "name": "stderr",
     "output_type": "stream",
     "text": [
      "INFO:__main__:26 \t6     \t0.239133\t0.113349 \t0.0947898\t0.409106\n"
     ]
    },
    {
     "name": "stdout",
     "output_type": "stream",
     "text": [
      "true minimum 0.0119747830002\n"
     ]
    },
    {
     "name": "stderr",
     "output_type": "stream",
     "text": [
      "INFO:__main__:27 \t6     \t0.204105\t0.110503 \t0.0119748\t0.330901\n"
     ]
    },
    {
     "name": "stdout",
     "output_type": "stream",
     "text": [
      "true minimum 0.0119747830002\n"
     ]
    },
    {
     "name": "stderr",
     "output_type": "stream",
     "text": [
      "INFO:__main__:28 \t6     \t0.399221\t0.0627863\t0.305545 \t0.494869\n"
     ]
    },
    {
     "name": "stdout",
     "output_type": "stream",
     "text": [
      "true minimum 0.0119747830002\n"
     ]
    },
    {
     "name": "stderr",
     "output_type": "stream",
     "text": [
      "INFO:__main__:29 \t6     \t0.209918\t0.172447 \t0.0217478\t0.571755\n"
     ]
    },
    {
     "name": "stdout",
     "output_type": "stream",
     "text": [
      "true minimum 0.0119747830002\n"
     ]
    },
    {
     "name": "stderr",
     "output_type": "stream",
     "text": [
      "INFO:__main__:30 \t4     \t0.130307\t0.128064 \t0.0119748\t0.345725\n"
     ]
    },
    {
     "name": "stdout",
     "output_type": "stream",
     "text": [
      "true minimum 0.0119747830002\n"
     ]
    },
    {
     "name": "stderr",
     "output_type": "stream",
     "text": [
      "INFO:__main__:31 \t5     \t0.0631377\t0.0630681\t0.0119748\t0.18291 \n"
     ]
    },
    {
     "name": "stdout",
     "output_type": "stream",
     "text": [
      "true minimum 0.0119747830002\n"
     ]
    },
    {
     "name": "stderr",
     "output_type": "stream",
     "text": [
      "INFO:__main__:32 \t6     \t0.0951829\t0.105771 \t0.0209563\t0.312716\n"
     ]
    },
    {
     "name": "stdout",
     "output_type": "stream",
     "text": [
      "true minimum 0.0119747830002\n"
     ]
    },
    {
     "name": "stderr",
     "output_type": "stream",
     "text": [
      "INFO:__main__:33 \t4     \t0.160057 \t0.126514 \t0.0319009\t0.405746\n"
     ]
    },
    {
     "name": "stdout",
     "output_type": "stream",
     "text": [
      "true minimum 0.0119747830002\n"
     ]
    },
    {
     "name": "stderr",
     "output_type": "stream",
     "text": [
      "INFO:__main__:34 \t6     \t0.10794  \t0.0927071\t0.013034 \t0.295896\n"
     ]
    },
    {
     "name": "stdout",
     "output_type": "stream",
     "text": [
      "true minimum 0.0119747830002\n"
     ]
    },
    {
     "name": "stderr",
     "output_type": "stream",
     "text": [
      "INFO:__main__:35 \t6     \t0.23774  \t0.32379  \t0.0119607\t0.953715\n"
     ]
    },
    {
     "name": "stdout",
     "output_type": "stream",
     "text": [
      "true minimum 0.0119606988649\n"
     ]
    },
    {
     "name": "stderr",
     "output_type": "stream",
     "text": [
      "INFO:__main__:36 \t5     \t0.202501 \t0.184775 \t0.0395504\t0.543425\n"
     ]
    },
    {
     "name": "stdout",
     "output_type": "stream",
     "text": [
      "true minimum 0.0119606988649\n"
     ]
    },
    {
     "name": "stderr",
     "output_type": "stream",
     "text": [
      "INFO:__main__:37 \t6     \t0.291502 \t0.258125 \t0.0425167\t0.806932\n"
     ]
    },
    {
     "name": "stdout",
     "output_type": "stream",
     "text": [
      "true minimum 0.0119606988649\n"
     ]
    },
    {
     "name": "stderr",
     "output_type": "stream",
     "text": [
      "INFO:__main__:38 \t3     \t0.197264 \t0.112753 \t0.0850921\t0.333955\n"
     ]
    },
    {
     "name": "stdout",
     "output_type": "stream",
     "text": [
      "true minimum 0.0119606988649\n"
     ]
    },
    {
     "name": "stderr",
     "output_type": "stream",
     "text": [
      "INFO:__main__:39 \t6     \t0.162484 \t0.0901861\t0.0136506\t0.295105\n"
     ]
    },
    {
     "name": "stdout",
     "output_type": "stream",
     "text": [
      "true minimum 0.0119606988649\n"
     ]
    },
    {
     "name": "stderr",
     "output_type": "stream",
     "text": [
      "INFO:__main__:40 \t6     \t0.152575 \t0.090115 \t0.0527333\t0.315314\n"
     ]
    },
    {
     "name": "stdout",
     "output_type": "stream",
     "text": [
      "true minimum 0.0119606988649\n"
     ]
    },
    {
     "name": "stderr",
     "output_type": "stream",
     "text": [
      "INFO:__main__:41 \t6     \t0.11386  \t0.0836437\t0.0119606\t0.274423\n"
     ]
    },
    {
     "name": "stdout",
     "output_type": "stream",
     "text": [
      "true minimum 0.011960608671\n"
     ]
    },
    {
     "name": "stderr",
     "output_type": "stream",
     "text": [
      "INFO:__main__:42 \t6     \t0.183913 \t0.0781194\t0.0872864\t0.291797\n"
     ]
    },
    {
     "name": "stdout",
     "output_type": "stream",
     "text": [
      "true minimum 0.011960608671\n"
     ]
    },
    {
     "name": "stderr",
     "output_type": "stream",
     "text": [
      "INFO:__main__:43 \t5     \t0.208956 \t0.125653 \t0.0366768\t0.390158\n"
     ]
    },
    {
     "name": "stdout",
     "output_type": "stream",
     "text": [
      "true minimum 0.011960608671\n"
     ]
    },
    {
     "name": "stderr",
     "output_type": "stream",
     "text": [
      "INFO:__main__:44 \t6     \t0.317218 \t0.216339 \t0.0503392\t0.67619 \n"
     ]
    },
    {
     "name": "stdout",
     "output_type": "stream",
     "text": [
      "true minimum 0.011960608671\n"
     ]
    },
    {
     "name": "stderr",
     "output_type": "stream",
     "text": [
      "INFO:__main__:45 \t5     \t0.308941 \t0.159218 \t0.0876365\t0.610104\n"
     ]
    },
    {
     "name": "stdout",
     "output_type": "stream",
     "text": [
      "true minimum 0.011960608671\n"
     ]
    },
    {
     "name": "stderr",
     "output_type": "stream",
     "text": [
      "INFO:__main__:46 \t5     \t0.111949 \t0.10201  \t0.0119607\t0.255631\n"
     ]
    },
    {
     "name": "stdout",
     "output_type": "stream",
     "text": [
      "true minimum 0.011960608671\n"
     ]
    },
    {
     "name": "stderr",
     "output_type": "stream",
     "text": [
      "INFO:__main__:47 \t5     \t0.202208 \t0.163062 \t0.0119607\t0.455652\n"
     ]
    },
    {
     "name": "stdout",
     "output_type": "stream",
     "text": [
      "true minimum 0.011960608671\n"
     ]
    },
    {
     "name": "stderr",
     "output_type": "stream",
     "text": [
      "INFO:__main__:48 \t5     \t0.120531 \t0.0749189\t0.0119607\t0.217732\n"
     ]
    },
    {
     "name": "stdout",
     "output_type": "stream",
     "text": [
      "true minimum 0.011960608671\n"
     ]
    },
    {
     "name": "stderr",
     "output_type": "stream",
     "text": [
      "INFO:__main__:49 \t6     \t0.192254 \t0.225822 \t0.0119607\t0.681133\n"
     ]
    },
    {
     "name": "stdout",
     "output_type": "stream",
     "text": [
      "true minimum 0.011960608671\n"
     ]
    },
    {
     "name": "stderr",
     "output_type": "stream",
     "text": [
      "INFO:__main__:50 \t6     \t0.161964 \t0.170641 \t0.00658852\t0.468389\n"
     ]
    },
    {
     "name": "stdout",
     "output_type": "stream",
     "text": [
      "true minimum 0.0065885207188\n"
     ]
    },
    {
     "name": "stderr",
     "output_type": "stream",
     "text": [
      "INFO:__main__:51 \t6     \t0.286144 \t0.272413 \t0.0417375 \t0.748322\n"
     ]
    },
    {
     "name": "stdout",
     "output_type": "stream",
     "text": [
      "true minimum 0.0065885207188\n"
     ]
    },
    {
     "name": "stderr",
     "output_type": "stream",
     "text": [
      "INFO:__main__:52 \t5     \t0.198753 \t0.178449 \t0.01793   \t0.491632\n"
     ]
    },
    {
     "name": "stdout",
     "output_type": "stream",
     "text": [
      "true minimum 0.0065885207188\n"
     ]
    },
    {
     "name": "stderr",
     "output_type": "stream",
     "text": [
      "INFO:__main__:53 \t4     \t0.220833 \t0.169834 \t0.00658852\t0.454718\n"
     ]
    },
    {
     "name": "stdout",
     "output_type": "stream",
     "text": [
      "true minimum 0.0065885207188\n"
     ]
    },
    {
     "name": "stderr",
     "output_type": "stream",
     "text": [
      "INFO:__main__:54 \t6     \t0.245128 \t0.171609 \t0.0126127 \t0.498809\n"
     ]
    },
    {
     "name": "stdout",
     "output_type": "stream",
     "text": [
      "true minimum 0.0065885207188\n"
     ]
    },
    {
     "name": "stderr",
     "output_type": "stream",
     "text": [
      "INFO:__main__:55 \t5     \t0.10055  \t0.129202 \t0.0125899 \t0.383086\n"
     ]
    },
    {
     "name": "stdout",
     "output_type": "stream",
     "text": [
      "true minimum 0.0065885207188\n"
     ]
    },
    {
     "name": "stderr",
     "output_type": "stream",
     "text": [
      "INFO:__main__:56 \t6     \t0.166951 \t0.109431 \t0.0287236 \t0.332684\n"
     ]
    },
    {
     "name": "stdout",
     "output_type": "stream",
     "text": [
      "true minimum 0.0065885207188\n"
     ]
    },
    {
     "name": "stderr",
     "output_type": "stream",
     "text": [
      "INFO:__main__:57 \t5     \t0.202674 \t0.155061 \t0.028723  \t0.428354\n"
     ]
    },
    {
     "name": "stdout",
     "output_type": "stream",
     "text": [
      "true minimum 0.0065885207188\n"
     ]
    },
    {
     "name": "stderr",
     "output_type": "stream",
     "text": [
      "INFO:__main__:58 \t4     \t0.22839  \t0.287367 \t0.00658852\t0.842265\n"
     ]
    },
    {
     "name": "stdout",
     "output_type": "stream",
     "text": [
      "true minimum 0.0065885207188\n"
     ]
    },
    {
     "name": "stderr",
     "output_type": "stream",
     "text": [
      "INFO:__main__:59 \t6     \t0.238436 \t0.126183 \t0.0917548 \t0.407215\n"
     ]
    },
    {
     "name": "stdout",
     "output_type": "stream",
     "text": [
      "true minimum 0.0065885207188\n"
     ]
    },
    {
     "name": "stderr",
     "output_type": "stream",
     "text": [
      "INFO:__main__:60 \t5     \t0.171661 \t0.161467 \t0.0258363 \t0.493127\n"
     ]
    },
    {
     "name": "stdout",
     "output_type": "stream",
     "text": [
      "true minimum 0.0065885207188\n"
     ]
    },
    {
     "name": "stderr",
     "output_type": "stream",
     "text": [
      "INFO:__main__:61 \t5     \t0.375805 \t0.325391 \t0.0487241 \t0.944918\n"
     ]
    },
    {
     "name": "stdout",
     "output_type": "stream",
     "text": [
      "true minimum 0.0065885207188\n"
     ]
    },
    {
     "name": "stderr",
     "output_type": "stream",
     "text": [
      "INFO:__main__:62 \t5     \t0.160458 \t0.103535 \t0.00685187\t0.259898\n"
     ]
    },
    {
     "name": "stdout",
     "output_type": "stream",
     "text": [
      "true minimum 0.0065885207188\n"
     ]
    },
    {
     "name": "stderr",
     "output_type": "stream",
     "text": [
      "INFO:__main__:63 \t6     \t0.132403 \t0.0734885\t0.0149786 \t0.233082\n"
     ]
    },
    {
     "name": "stdout",
     "output_type": "stream",
     "text": [
      "true minimum 0.0065885207188\n"
     ]
    },
    {
     "name": "stderr",
     "output_type": "stream",
     "text": [
      "INFO:__main__:64 \t5     \t0.0613914\t0.0523392\t0.0124439 \t0.165792\n"
     ]
    },
    {
     "name": "stdout",
     "output_type": "stream",
     "text": [
      "true minimum 0.0065885207188\n"
     ]
    },
    {
     "name": "stderr",
     "output_type": "stream",
     "text": [
      "INFO:__main__:65 \t6     \t0.104016 \t0.108762 \t0.00656005\t0.321579\n"
     ]
    },
    {
     "name": "stdout",
     "output_type": "stream",
     "text": [
      "true minimum 0.00656005234438\n"
     ]
    },
    {
     "name": "stderr",
     "output_type": "stream",
     "text": [
      "INFO:__main__:66 \t5     \t0.0945892\t0.139516 \t0.00652086\t0.400801\n"
     ]
    },
    {
     "name": "stdout",
     "output_type": "stream",
     "text": [
      "true minimum 0.00656005234438\n"
     ]
    },
    {
     "name": "stderr",
     "output_type": "stream",
     "text": [
      "INFO:__main__:67 \t6     \t0.325585 \t0.163105 \t0.0264233 \t0.513745\n"
     ]
    },
    {
     "name": "stdout",
     "output_type": "stream",
     "text": [
      "true minimum 0.00656005234438\n"
     ]
    },
    {
     "name": "stderr",
     "output_type": "stream",
     "text": [
      "INFO:__main__:68 \t5     \t0.192292 \t0.181733 \t0.00682763\t0.494367\n"
     ]
    },
    {
     "name": "stdout",
     "output_type": "stream",
     "text": [
      "true minimum 0.00656005234438\n"
     ]
    },
    {
     "name": "stderr",
     "output_type": "stream",
     "text": [
      "INFO:__main__:69 \t2     \t0.0918485\t0.0792205\t0.00652086\t0.227615\n"
     ]
    },
    {
     "name": "stdout",
     "output_type": "stream",
     "text": [
      "true minimum 0.00652085624077\n"
     ]
    },
    {
     "name": "stderr",
     "output_type": "stream",
     "text": [
      "INFO:__main__:70 \t6     \t0.202391 \t0.219955 \t0.0162358 \t0.577392\n"
     ]
    },
    {
     "name": "stdout",
     "output_type": "stream",
     "text": [
      "true minimum 0.00652085624077\n"
     ]
    },
    {
     "name": "stderr",
     "output_type": "stream",
     "text": [
      "INFO:__main__:71 \t6     \t0.235446 \t0.156346 \t0.0430803 \t0.487584\n"
     ]
    },
    {
     "name": "stdout",
     "output_type": "stream",
     "text": [
      "true minimum 0.00652085624077\n"
     ]
    },
    {
     "name": "stderr",
     "output_type": "stream",
     "text": [
      "INFO:__main__:72 \t6     \t0.121282 \t0.0765494\t0.0107101 \t0.227239\n"
     ]
    },
    {
     "name": "stdout",
     "output_type": "stream",
     "text": [
      "true minimum 0.00652085624077\n"
     ]
    },
    {
     "name": "stderr",
     "output_type": "stream",
     "text": [
      "INFO:__main__:73 \t4     \t0.0999009\t0.0813076\t0.00682763\t0.217675\n"
     ]
    },
    {
     "name": "stdout",
     "output_type": "stream",
     "text": [
      "true minimum 0.00652085624077\n"
     ]
    },
    {
     "name": "stderr",
     "output_type": "stream",
     "text": [
      "INFO:__main__:74 \t6     \t0.154035 \t0.116987 \t0.0159566 \t0.377553\n"
     ]
    },
    {
     "name": "stdout",
     "output_type": "stream",
     "text": [
      "true minimum 0.00652085624077\n"
     ]
    },
    {
     "name": "stderr",
     "output_type": "stream",
     "text": [
      "INFO:__main__:75 \t5     \t0.085428 \t0.110994 \t0.00682763\t0.32581 \n"
     ]
    },
    {
     "name": "stdout",
     "output_type": "stream",
     "text": [
      "true minimum 0.00652085624077\n"
     ]
    },
    {
     "name": "stderr",
     "output_type": "stream",
     "text": [
      "INFO:__main__:76 \t6     \t0.0924864\t0.0832477\t0.0200036 \t0.270944\n"
     ]
    },
    {
     "name": "stdout",
     "output_type": "stream",
     "text": [
      "true minimum 0.00652085624077\n"
     ]
    },
    {
     "name": "stderr",
     "output_type": "stream",
     "text": [
      "INFO:__main__:77 \t6     \t0.272904 \t0.248269 \t0.0140635 \t0.658621\n"
     ]
    },
    {
     "name": "stdout",
     "output_type": "stream",
     "text": [
      "true minimum 0.00652085624077\n"
     ]
    },
    {
     "name": "stderr",
     "output_type": "stream",
     "text": [
      "INFO:__main__:78 \t6     \t0.227147 \t0.148657 \t0.0350424 \t0.407387\n"
     ]
    },
    {
     "name": "stdout",
     "output_type": "stream",
     "text": [
      "true minimum 0.00652085624077\n"
     ]
    },
    {
     "name": "stderr",
     "output_type": "stream",
     "text": [
      "INFO:__main__:79 \t6     \t0.184258 \t0.195741 \t0.0135338 \t0.532832\n"
     ]
    },
    {
     "name": "stdout",
     "output_type": "stream",
     "text": [
      "true minimum 0.00652085624077\n"
     ]
    },
    {
     "name": "stderr",
     "output_type": "stream",
     "text": [
      "INFO:__main__:80 \t5     \t0.206214 \t0.221349 \t0.0420672 \t0.680722\n"
     ]
    },
    {
     "name": "stdout",
     "output_type": "stream",
     "text": [
      "true minimum 0.00652085624077\n"
     ]
    },
    {
     "name": "stderr",
     "output_type": "stream",
     "text": [
      "INFO:__main__:81 \t5     \t0.20998  \t0.148043 \t0.0280823 \t0.494493\n"
     ]
    },
    {
     "name": "stdout",
     "output_type": "stream",
     "text": [
      "true minimum 0.00652085624077\n"
     ]
    },
    {
     "name": "stderr",
     "output_type": "stream",
     "text": [
      "INFO:__main__:82 \t6     \t0.117732 \t0.144454 \t0.00689184\t0.411965\n"
     ]
    },
    {
     "name": "stdout",
     "output_type": "stream",
     "text": [
      "true minimum 0.00652085624077\n"
     ]
    },
    {
     "name": "stderr",
     "output_type": "stream",
     "text": [
      "INFO:__main__:83 \t6     \t0.183957 \t0.133983 \t0.0122719 \t0.365   \n"
     ]
    },
    {
     "name": "stdout",
     "output_type": "stream",
     "text": [
      "true minimum 0.00652085624077\n"
     ]
    },
    {
     "name": "stderr",
     "output_type": "stream",
     "text": [
      "INFO:__main__:84 \t6     \t0.350205 \t0.174837 \t0.0262378 \t0.507373\n"
     ]
    },
    {
     "name": "stdout",
     "output_type": "stream",
     "text": [
      "true minimum 0.00652085624077\n"
     ]
    },
    {
     "name": "stderr",
     "output_type": "stream",
     "text": [
      "INFO:__main__:85 \t5     \t0.228675 \t0.208238 \t0.0262378 \t0.521978\n"
     ]
    },
    {
     "name": "stdout",
     "output_type": "stream",
     "text": [
      "true minimum 0.00652085624077\n"
     ]
    },
    {
     "name": "stderr",
     "output_type": "stream",
     "text": [
      "INFO:__main__:86 \t5     \t0.148086 \t0.146953 \t0.00670987\t0.464738\n"
     ]
    },
    {
     "name": "stdout",
     "output_type": "stream",
     "text": [
      "true minimum 0.00652085624077\n"
     ]
    },
    {
     "name": "stderr",
     "output_type": "stream",
     "text": [
      "INFO:__main__:87 \t6     \t0.192901 \t0.130871 \t0.0498948 \t0.37412 \n"
     ]
    },
    {
     "name": "stdout",
     "output_type": "stream",
     "text": [
      "true minimum 0.00652085624077\n"
     ]
    },
    {
     "name": "stderr",
     "output_type": "stream",
     "text": [
      "INFO:__main__:88 \t6     \t0.278543 \t0.174815 \t0.0163138 \t0.568182\n"
     ]
    },
    {
     "name": "stdout",
     "output_type": "stream",
     "text": [
      "true minimum 0.00652085624077\n"
     ]
    },
    {
     "name": "stderr",
     "output_type": "stream",
     "text": [
      "INFO:__main__:89 \t6     \t0.174871 \t0.170509 \t0.0104118 \t0.514633\n"
     ]
    },
    {
     "name": "stdout",
     "output_type": "stream",
     "text": [
      "true minimum 0.00652085624077\n"
     ]
    },
    {
     "name": "stderr",
     "output_type": "stream",
     "text": [
      "INFO:__main__:90 \t6     \t0.256602 \t0.165871 \t0.077302  \t0.563584\n"
     ]
    },
    {
     "name": "stdout",
     "output_type": "stream",
     "text": [
      "true minimum 0.00652085624077\n"
     ]
    },
    {
     "name": "stderr",
     "output_type": "stream",
     "text": [
      "INFO:__main__:91 \t6     \t0.0742318\t0.0531156\t0.0247852 \t0.183625\n"
     ]
    },
    {
     "name": "stdout",
     "output_type": "stream",
     "text": [
      "true minimum 0.00652085624077\n"
     ]
    },
    {
     "name": "stderr",
     "output_type": "stream",
     "text": [
      "INFO:__main__:92 \t6     \t0.166436 \t0.184747 \t0.0336173 \t0.565227\n"
     ]
    },
    {
     "name": "stdout",
     "output_type": "stream",
     "text": [
      "true minimum 0.00652085624077\n"
     ]
    },
    {
     "name": "stderr",
     "output_type": "stream",
     "text": [
      "INFO:__main__:93 \t5     \t0.0983017\t0.0583255\t0.0241268 \t0.168834\n"
     ]
    },
    {
     "name": "stdout",
     "output_type": "stream",
     "text": [
      "true minimum 0.00652085624077\n"
     ]
    },
    {
     "name": "stderr",
     "output_type": "stream",
     "text": [
      "INFO:__main__:94 \t5     \t0.0720719\t0.0957206\t0.00861014\t0.280026\n"
     ]
    },
    {
     "name": "stdout",
     "output_type": "stream",
     "text": [
      "true minimum 0.00652085624077\n"
     ]
    },
    {
     "name": "stderr",
     "output_type": "stream",
     "text": [
      "INFO:__main__:95 \t6     \t0.126122 \t0.150589 \t0.0104258 \t0.454534\n"
     ]
    },
    {
     "name": "stdout",
     "output_type": "stream",
     "text": [
      "true minimum 0.00652085624077\n"
     ]
    },
    {
     "name": "stderr",
     "output_type": "stream",
     "text": [
      "INFO:__main__:96 \t6     \t0.0858924\t0.0664289\t0.0104864 \t0.213909\n"
     ]
    },
    {
     "name": "stdout",
     "output_type": "stream",
     "text": [
      "true minimum 0.00652085624077\n"
     ]
    },
    {
     "name": "stderr",
     "output_type": "stream",
     "text": [
      "INFO:__main__:97 \t6     \t0.178698 \t0.187491 \t0.00391692\t0.531703\n"
     ]
    },
    {
     "name": "stdout",
     "output_type": "stream",
     "text": [
      "true minimum 0.00391691992269\n"
     ]
    },
    {
     "name": "stderr",
     "output_type": "stream",
     "text": [
      "INFO:__main__:98 \t6     \t0.187911 \t0.229285 \t0.00519228\t0.522182\n"
     ]
    },
    {
     "name": "stdout",
     "output_type": "stream",
     "text": [
      "true minimum 0.00391691992269\n"
     ]
    },
    {
     "name": "stderr",
     "output_type": "stream",
     "text": [
      "INFO:__main__:99 \t6     \t0.252423 \t0.195305 \t0.00391688\t0.53251 \n"
     ]
    },
    {
     "name": "stdout",
     "output_type": "stream",
     "text": [
      "true minimum 0.00391687562458\n"
     ]
    },
    {
     "name": "stderr",
     "output_type": "stream",
     "text": [
      "INFO:__main__:100\t5     \t0.0963499\t0.0538313\t0.0241268 \t0.157402\n"
     ]
    },
    {
     "name": "stdout",
     "output_type": "stream",
     "text": [
      "true minimum 0.00391687562458\n",
      "['RheobaseTestP', 'InjectedCurrentAPWidthTest', 'InjectedCurrentAPAmplitudeTest', 'CapacitanceTest']\n"
     ]
    },
    {
     "name": "stderr",
     "output_type": "stream",
     "text": [
      "/home/jovyan/neuronunit/neuronunit/tests/passive.py:85: RuntimeWarning: overflow encountered in exp\n",
      "  vm_fit[offset:,0] = a * np.exp(-t[offset:]/b) + c\n",
      "/home/jovyan/neuronunit/neuronunit/tests/passive.py:85: RuntimeWarning: overflow encountered in multiply\n",
      "  vm_fit[offset:,0] = a * np.exp(-t[offset:]/b) + c\n",
      "INFO:__main__:gen\tnevals\tavg    \tstd     \tmin    \tmax    \n",
      "1  \t6     \t2.55369\t0.15608 \t2.21621\t2.66417\n",
      "2  \t5     \t2.53726\t0.109313\t2.3174 \t2.67905\n"
     ]
    },
    {
     "name": "stdout",
     "output_type": "stream",
     "text": [
      "true minimum 2.21620906784\n"
     ]
    },
    {
     "name": "stderr",
     "output_type": "stream",
     "text": [
      "INFO:__main__:3  \t6     \t2.53538\t0.183987\t2.13901\t2.66691\n"
     ]
    },
    {
     "name": "stdout",
     "output_type": "stream",
     "text": [
      "true minimum 2.13900927441\n"
     ]
    },
    {
     "name": "stderr",
     "output_type": "stream",
     "text": [
      "/home/jovyan/neuronunit/neuronunit/tests/passive.py:85: RuntimeWarning: overflow encountered in exp\n",
      "  vm_fit[offset:,0] = a * np.exp(-t[offset:]/b) + c\n",
      "/home/jovyan/neuronunit/neuronunit/tests/passive.py:85: RuntimeWarning: overflow encountered in multiply\n",
      "  vm_fit[offset:,0] = a * np.exp(-t[offset:]/b) + c\n",
      "INFO:__main__:4  \t6     \t2.49227\t0.131653\t2.22385\t2.65926\n"
     ]
    },
    {
     "name": "stdout",
     "output_type": "stream",
     "text": [
      "true minimum 2.13900927441\n"
     ]
    },
    {
     "name": "stderr",
     "output_type": "stream",
     "text": [
      "INFO:__main__:5  \t4     \t2.34271\t0.260982\t2.0745 \t2.82088\n"
     ]
    },
    {
     "name": "stdout",
     "output_type": "stream",
     "text": [
      "true minimum 2.07450310773\n"
     ]
    },
    {
     "name": "stderr",
     "output_type": "stream",
     "text": [
      "INFO:__main__:6  \t5     \t2.41187\t0.237025\t2.16135\t2.82772\n"
     ]
    },
    {
     "name": "stdout",
     "output_type": "stream",
     "text": [
      "true minimum 2.07450310773\n"
     ]
    },
    {
     "name": "stderr",
     "output_type": "stream",
     "text": [
      "/opt/conda/lib/python3.5/site-packages/deap/tools/crossover.py:333: RuntimeWarning: invalid value encountered in double_scalars\n",
      "  beta_q = (1.0 / (2.0 - rand * alpha))**(1.0 / (eta + 1))\n",
      "/home/jovyan/neuronunit/neuronunit/tests/passive.py:85: RuntimeWarning: overflow encountered in exp\n",
      "  vm_fit[offset:,0] = a * np.exp(-t[offset:]/b) + c\n",
      "/home/jovyan/neuronunit/neuronunit/tests/passive.py:85: RuntimeWarning: overflow encountered in multiply\n",
      "  vm_fit[offset:,0] = a * np.exp(-t[offset:]/b) + c\n",
      "INFO:__main__:7  \t6     \t2.35574\t0.352627\t1.9627 \t2.87824\n"
     ]
    },
    {
     "name": "stdout",
     "output_type": "stream",
     "text": [
      "true minimum 1.96270122959\n"
     ]
    },
    {
     "name": "stderr",
     "output_type": "stream",
     "text": [
      "INFO:__main__:8  \t5     \t2.28051\t0.329526\t1.81332\t2.70191\n"
     ]
    },
    {
     "name": "stdout",
     "output_type": "stream",
     "text": [
      "true minimum 1.96270122959\n"
     ]
    },
    {
     "name": "stderr",
     "output_type": "stream",
     "text": [
      "INFO:__main__:9  \t3     \t2.34489\t0.329193\t1.81332\t2.66881\n"
     ]
    },
    {
     "name": "stdout",
     "output_type": "stream",
     "text": [
      "true minimum 1.96270122959\n"
     ]
    },
    {
     "name": "stderr",
     "output_type": "stream",
     "text": [
      "/home/jovyan/neuronunit/neuronunit/tests/passive.py:85: RuntimeWarning: overflow encountered in exp\n",
      "  vm_fit[offset:,0] = a * np.exp(-t[offset:]/b) + c\n",
      "/home/jovyan/neuronunit/neuronunit/tests/passive.py:85: RuntimeWarning: overflow encountered in multiply\n",
      "  vm_fit[offset:,0] = a * np.exp(-t[offset:]/b) + c\n",
      "INFO:__main__:10 \t5     \t2.36004\t0.328344\t1.80339\t2.70176\n"
     ]
    },
    {
     "name": "stdout",
     "output_type": "stream",
     "text": [
      "true minimum 1.8033889339\n"
     ]
    },
    {
     "name": "stderr",
     "output_type": "stream",
     "text": [
      "INFO:__main__:11 \t6     \t2.35344\t0.272551\t2.00902\t2.72388\n"
     ]
    },
    {
     "name": "stdout",
     "output_type": "stream",
     "text": [
      "true minimum 1.8033889339\n"
     ]
    },
    {
     "name": "stderr",
     "output_type": "stream",
     "text": [
      "INFO:__main__:12 \t6     \t2.34724\t0.309865\t1.96395\t2.84172\n"
     ]
    },
    {
     "name": "stdout",
     "output_type": "stream",
     "text": [
      "true minimum 1.8033889339\n"
     ]
    },
    {
     "name": "stderr",
     "output_type": "stream",
     "text": [
      "INFO:__main__:13 \t5     \t2.39065\t0.367986\t1.87992\t2.88687\n"
     ]
    },
    {
     "name": "stdout",
     "output_type": "stream",
     "text": [
      "true minimum 1.8033889339\n"
     ]
    },
    {
     "name": "stderr",
     "output_type": "stream",
     "text": [
      "INFO:__main__:14 \t5     \t2.45996\t0.256644\t2.08826\t2.82967\n"
     ]
    },
    {
     "name": "stdout",
     "output_type": "stream",
     "text": [
      "true minimum 1.8033889339\n"
     ]
    },
    {
     "name": "stderr",
     "output_type": "stream",
     "text": [
      "INFO:__main__:15 \t5     \t2.40197\t0.237518\t2.07746\t2.66952\n"
     ]
    },
    {
     "name": "stdout",
     "output_type": "stream",
     "text": [
      "true minimum 1.8033889339\n"
     ]
    },
    {
     "name": "stderr",
     "output_type": "stream",
     "text": [
      "INFO:__main__:16 \t6     \t2.46931\t0.376593\t1.75668\t2.82267\n"
     ]
    },
    {
     "name": "stdout",
     "output_type": "stream",
     "text": [
      "true minimum 1.75668249371\n"
     ]
    },
    {
     "name": "stderr",
     "output_type": "stream",
     "text": [
      "INFO:__main__:17 \t6     \t2.64264\t0.166058\t2.35019\t2.80332\n"
     ]
    },
    {
     "name": "stdout",
     "output_type": "stream",
     "text": [
      "true minimum 1.75668249371\n"
     ]
    },
    {
     "name": "stderr",
     "output_type": "stream",
     "text": [
      "INFO:__main__:18 \t6     \t2.41064\t0.423843\t1.65769\t2.87177\n"
     ]
    },
    {
     "name": "stdout",
     "output_type": "stream",
     "text": [
      "true minimum 1.65768867942\n"
     ]
    },
    {
     "name": "stderr",
     "output_type": "stream",
     "text": [
      "INFO:__main__:19 \t4     \t2.35712\t0.324218\t1.99289\t2.92911\n"
     ]
    },
    {
     "name": "stdout",
     "output_type": "stream",
     "text": [
      "true minimum 1.65768867942\n"
     ]
    },
    {
     "name": "stderr",
     "output_type": "stream",
     "text": [
      "INFO:__main__:20 \t6     \t2.60509\t0.142941\t2.33003\t2.7625 \n"
     ]
    },
    {
     "name": "stdout",
     "output_type": "stream",
     "text": [
      "true minimum 1.65768867942\n"
     ]
    },
    {
     "name": "stderr",
     "output_type": "stream",
     "text": [
      "INFO:__main__:21 \t6     \t2.48063\t0.263731\t2.11481\t2.84484\n"
     ]
    },
    {
     "name": "stdout",
     "output_type": "stream",
     "text": [
      "true minimum 1.65768867942\n"
     ]
    },
    {
     "name": "stderr",
     "output_type": "stream",
     "text": [
      "INFO:__main__:22 \t4     \t2.38612\t0.241743\t2.11091\t2.77052\n"
     ]
    },
    {
     "name": "stdout",
     "output_type": "stream",
     "text": [
      "true minimum 1.65768867942\n"
     ]
    },
    {
     "name": "stderr",
     "output_type": "stream",
     "text": [
      "INFO:__main__:23 \t5     \t2.47057\t0.183401\t2.15517\t2.67436\n"
     ]
    },
    {
     "name": "stdout",
     "output_type": "stream",
     "text": [
      "true minimum 1.65768867942\n"
     ]
    },
    {
     "name": "stderr",
     "output_type": "stream",
     "text": [
      "INFO:__main__:24 \t6     \t2.497  \t0.208721\t2.24296\t2.75856\n"
     ]
    },
    {
     "name": "stdout",
     "output_type": "stream",
     "text": [
      "true minimum 1.65768867942\n"
     ]
    },
    {
     "name": "stderr",
     "output_type": "stream",
     "text": [
      "INFO:__main__:25 \t4     \t2.36488\t0.266708\t1.99289\t2.74157\n"
     ]
    },
    {
     "name": "stdout",
     "output_type": "stream",
     "text": [
      "true minimum 1.65768867942\n"
     ]
    },
    {
     "name": "stderr",
     "output_type": "stream",
     "text": [
      "INFO:__main__:26 \t5     \t2.49645\t0.397048\t1.9021 \t2.92848\n"
     ]
    },
    {
     "name": "stdout",
     "output_type": "stream",
     "text": [
      "true minimum 1.65768867942\n"
     ]
    },
    {
     "name": "stderr",
     "output_type": "stream",
     "text": [
      "/home/jovyan/neuronunit/neuronunit/tests/passive.py:85: RuntimeWarning: overflow encountered in exp\n",
      "  vm_fit[offset:,0] = a * np.exp(-t[offset:]/b) + c\n",
      "/home/jovyan/neuronunit/neuronunit/tests/passive.py:85: RuntimeWarning: overflow encountered in multiply\n",
      "  vm_fit[offset:,0] = a * np.exp(-t[offset:]/b) + c\n",
      "INFO:__main__:27 \t6     \t2.407  \t0.390272\t1.88373\t2.99652\n"
     ]
    },
    {
     "name": "stdout",
     "output_type": "stream",
     "text": [
      "true minimum 1.65768867942\n"
     ]
    },
    {
     "name": "stderr",
     "output_type": "stream",
     "text": [
      "INFO:__main__:28 \t6     \t2.40954\t0.213137\t2.07978\t2.74778\n"
     ]
    },
    {
     "name": "stdout",
     "output_type": "stream",
     "text": [
      "true minimum 1.65768867942\n"
     ]
    },
    {
     "name": "stderr",
     "output_type": "stream",
     "text": [
      "/home/jovyan/neuronunit/neuronunit/tests/passive.py:85: RuntimeWarning: overflow encountered in exp\n",
      "  vm_fit[offset:,0] = a * np.exp(-t[offset:]/b) + c\n",
      "/home/jovyan/neuronunit/neuronunit/tests/passive.py:85: RuntimeWarning: overflow encountered in multiply\n",
      "  vm_fit[offset:,0] = a * np.exp(-t[offset:]/b) + c\n",
      "INFO:__main__:29 \t6     \t2.28719\t0.303878\t1.90988\t2.72707\n"
     ]
    },
    {
     "name": "stdout",
     "output_type": "stream",
     "text": [
      "true minimum 1.65768867942\n"
     ]
    },
    {
     "name": "stderr",
     "output_type": "stream",
     "text": [
      "INFO:__main__:30 \t4     \t2.41191\t0.200309\t2.17256\t2.75733\n"
     ]
    },
    {
     "name": "stdout",
     "output_type": "stream",
     "text": [
      "true minimum 1.65768867942\n"
     ]
    },
    {
     "name": "stderr",
     "output_type": "stream",
     "text": [
      "INFO:__main__:31 \t6     \t2.39168\t0.34328 \t1.84551\t2.79431\n"
     ]
    },
    {
     "name": "stdout",
     "output_type": "stream",
     "text": [
      "true minimum 1.65768867942\n"
     ]
    },
    {
     "name": "stderr",
     "output_type": "stream",
     "text": [
      "INFO:__main__:32 \t6     \t2.50547\t0.236697\t2.07035\t2.85865\n"
     ]
    },
    {
     "name": "stdout",
     "output_type": "stream",
     "text": [
      "true minimum 1.65768867942\n"
     ]
    },
    {
     "name": "stderr",
     "output_type": "stream",
     "text": [
      "INFO:__main__:33 \t6     \t2.35263\t0.186129\t2.14253\t2.73521\n"
     ]
    },
    {
     "name": "stdout",
     "output_type": "stream",
     "text": [
      "true minimum 1.65768867942\n"
     ]
    },
    {
     "name": "stderr",
     "output_type": "stream",
     "text": [
      "INFO:__main__:34 \t5     \t2.29338\t0.34431 \t1.96584\t2.98992\n"
     ]
    },
    {
     "name": "stdout",
     "output_type": "stream",
     "text": [
      "true minimum 1.65768867942\n"
     ]
    },
    {
     "name": "stderr",
     "output_type": "stream",
     "text": [
      "INFO:__main__:35 \t5     \t2.36425\t0.262986\t1.86827\t2.70716\n"
     ]
    },
    {
     "name": "stdout",
     "output_type": "stream",
     "text": [
      "true minimum 1.65768867942\n"
     ]
    },
    {
     "name": "stderr",
     "output_type": "stream",
     "text": [
      "INFO:__main__:36 \t6     \t2.485  \t0.224206\t2.25036\t2.81028\n"
     ]
    },
    {
     "name": "stdout",
     "output_type": "stream",
     "text": [
      "true minimum 1.65768867942\n"
     ]
    },
    {
     "name": "stderr",
     "output_type": "stream",
     "text": [
      "INFO:__main__:37 \t6     \t2.26412\t0.407758\t1.76452\t2.86081\n"
     ]
    },
    {
     "name": "stdout",
     "output_type": "stream",
     "text": [
      "true minimum 1.65768867942\n"
     ]
    },
    {
     "name": "stderr",
     "output_type": "stream",
     "text": [
      "/home/jovyan/neuronunit/neuronunit/tests/passive.py:85: RuntimeWarning: overflow encountered in exp\n",
      "  vm_fit[offset:,0] = a * np.exp(-t[offset:]/b) + c\n",
      "/home/jovyan/neuronunit/neuronunit/tests/passive.py:85: RuntimeWarning: overflow encountered in multiply\n",
      "  vm_fit[offset:,0] = a * np.exp(-t[offset:]/b) + c\n",
      "INFO:__main__:38 \t6     \t2.35055\t0.268608\t2.00987\t2.7923 \n"
     ]
    },
    {
     "name": "stdout",
     "output_type": "stream",
     "text": [
      "true minimum 1.65768867942\n"
     ]
    },
    {
     "name": "stderr",
     "output_type": "stream",
     "text": [
      "INFO:__main__:39 \t6     \t2.47029\t0.235617\t2.1473 \t2.7878 \n"
     ]
    },
    {
     "name": "stdout",
     "output_type": "stream",
     "text": [
      "true minimum 1.65768867942\n"
     ]
    },
    {
     "name": "stderr",
     "output_type": "stream",
     "text": [
      "INFO:__main__:40 \t6     \t2.19253\t0.213719\t1.95532\t2.60348\n"
     ]
    },
    {
     "name": "stdout",
     "output_type": "stream",
     "text": [
      "true minimum 1.65768867942\n"
     ]
    },
    {
     "name": "stderr",
     "output_type": "stream",
     "text": [
      "/home/jovyan/neuronunit/neuronunit/tests/passive.py:85: RuntimeWarning: overflow encountered in exp\n",
      "  vm_fit[offset:,0] = a * np.exp(-t[offset:]/b) + c\n",
      "/home/jovyan/neuronunit/neuronunit/tests/passive.py:85: RuntimeWarning: overflow encountered in multiply\n",
      "  vm_fit[offset:,0] = a * np.exp(-t[offset:]/b) + c\n",
      "INFO:__main__:41 \t6     \t2.15592\t0.405287\t1.67681\t2.92186\n"
     ]
    },
    {
     "name": "stdout",
     "output_type": "stream",
     "text": [
      "true minimum 1.65768867942\n"
     ]
    },
    {
     "name": "stderr",
     "output_type": "stream",
     "text": [
      "/home/jovyan/neuronunit/neuronunit/tests/passive.py:85: RuntimeWarning: overflow encountered in exp\n",
      "  vm_fit[offset:,0] = a * np.exp(-t[offset:]/b) + c\n",
      "/home/jovyan/neuronunit/neuronunit/tests/passive.py:85: RuntimeWarning: overflow encountered in multiply\n",
      "  vm_fit[offset:,0] = a * np.exp(-t[offset:]/b) + c\n",
      "INFO:__main__:42 \t6     \t2.60438\t0.305654\t1.9708 \t2.93178\n"
     ]
    },
    {
     "name": "stdout",
     "output_type": "stream",
     "text": [
      "true minimum 1.65768867942\n"
     ]
    },
    {
     "name": "stderr",
     "output_type": "stream",
     "text": [
      "INFO:__main__:43 \t4     \t2.36254\t0.239755\t1.95532\t2.74157\n"
     ]
    },
    {
     "name": "stdout",
     "output_type": "stream",
     "text": [
      "true minimum 1.65768867942\n"
     ]
    },
    {
     "name": "stderr",
     "output_type": "stream",
     "text": [
      "INFO:__main__:44 \t6     \t2.25869\t0.226268\t1.94154\t2.62313\n"
     ]
    },
    {
     "name": "stdout",
     "output_type": "stream",
     "text": [
      "true minimum 1.65768867942\n"
     ]
    },
    {
     "name": "stderr",
     "output_type": "stream",
     "text": [
      "/home/jovyan/neuronunit/neuronunit/tests/passive.py:85: RuntimeWarning: overflow encountered in exp\n",
      "  vm_fit[offset:,0] = a * np.exp(-t[offset:]/b) + c\n",
      "/home/jovyan/neuronunit/neuronunit/tests/passive.py:85: RuntimeWarning: overflow encountered in multiply\n",
      "  vm_fit[offset:,0] = a * np.exp(-t[offset:]/b) + c\n",
      "INFO:__main__:45 \t6     \t2.4136 \t0.20694 \t2.02286\t2.69644\n"
     ]
    },
    {
     "name": "stdout",
     "output_type": "stream",
     "text": [
      "true minimum 1.65768867942\n"
     ]
    },
    {
     "name": "stderr",
     "output_type": "stream",
     "text": [
      "INFO:__main__:46 \t4     \t2.30703\t0.285118\t1.87451\t2.58217\n"
     ]
    },
    {
     "name": "stdout",
     "output_type": "stream",
     "text": [
      "true minimum 1.65768867942\n"
     ]
    },
    {
     "name": "stderr",
     "output_type": "stream",
     "text": [
      "INFO:__main__:47 \t6     \t2.30819\t0.407903\t1.54115\t2.66295\n"
     ]
    },
    {
     "name": "stdout",
     "output_type": "stream",
     "text": [
      "true minimum 1.54114585002\n"
     ]
    },
    {
     "name": "stderr",
     "output_type": "stream",
     "text": [
      "INFO:__main__:48 \t6     \t2.47408\t0.168181\t2.26564\t2.75941\n"
     ]
    },
    {
     "name": "stdout",
     "output_type": "stream",
     "text": [
      "true minimum 1.54114585002\n"
     ]
    },
    {
     "name": "stderr",
     "output_type": "stream",
     "text": [
      "INFO:__main__:49 \t6     \t2.39021\t0.146195\t2.17476\t2.5834 \n"
     ]
    },
    {
     "name": "stdout",
     "output_type": "stream",
     "text": [
      "true minimum 1.54114585002\n"
     ]
    },
    {
     "name": "stderr",
     "output_type": "stream",
     "text": [
      "INFO:__main__:50 \t6     \t2.39504\t0.215116\t2.03647\t2.62604\n"
     ]
    },
    {
     "name": "stdout",
     "output_type": "stream",
     "text": [
      "true minimum 1.54114585002\n"
     ]
    },
    {
     "name": "stderr",
     "output_type": "stream",
     "text": [
      "INFO:__main__:51 \t5     \t2.35388\t0.174093\t2.03647\t2.507  \n"
     ]
    },
    {
     "name": "stdout",
     "output_type": "stream",
     "text": [
      "true minimum 1.54114585002\n"
     ]
    },
    {
     "name": "stderr",
     "output_type": "stream",
     "text": [
      "INFO:__main__:52 \t6     \t2.23136\t0.400968\t1.65716\t2.81785\n"
     ]
    },
    {
     "name": "stdout",
     "output_type": "stream",
     "text": [
      "true minimum 1.54114585002\n"
     ]
    },
    {
     "name": "stderr",
     "output_type": "stream",
     "text": [
      "INFO:__main__:53 \t6     \t2.45863\t0.172494\t2.22834\t2.73871\n"
     ]
    },
    {
     "name": "stdout",
     "output_type": "stream",
     "text": [
      "true minimum 1.54114585002\n"
     ]
    },
    {
     "name": "stderr",
     "output_type": "stream",
     "text": [
      "INFO:__main__:54 \t6     \t2.2349 \t0.343144\t1.712  \t2.58185\n"
     ]
    },
    {
     "name": "stdout",
     "output_type": "stream",
     "text": [
      "true minimum 1.54114585002\n"
     ]
    },
    {
     "name": "stderr",
     "output_type": "stream",
     "text": [
      "INFO:__main__:55 \t6     \t2.37471\t0.162944\t2.17633\t2.66313\n"
     ]
    },
    {
     "name": "stdout",
     "output_type": "stream",
     "text": [
      "true minimum 1.54114585002\n"
     ]
    },
    {
     "name": "stderr",
     "output_type": "stream",
     "text": [
      "INFO:__main__:56 \t6     \t2.39178\t0.193895\t1.98261\t2.60908\n"
     ]
    },
    {
     "name": "stdout",
     "output_type": "stream",
     "text": [
      "true minimum 1.54114585002\n"
     ]
    },
    {
     "name": "stderr",
     "output_type": "stream",
     "text": [
      "INFO:__main__:57 \t5     \t2.30913\t0.212622\t1.9826 \t2.54017\n"
     ]
    },
    {
     "name": "stdout",
     "output_type": "stream",
     "text": [
      "true minimum 1.54114585002\n"
     ]
    },
    {
     "name": "stderr",
     "output_type": "stream",
     "text": [
      "INFO:__main__:58 \t5     \t2.24294\t0.384859\t1.54115\t2.69827\n"
     ]
    },
    {
     "name": "stdout",
     "output_type": "stream",
     "text": [
      "true minimum 1.54114585002\n"
     ]
    },
    {
     "name": "stderr",
     "output_type": "stream",
     "text": [
      "INFO:__main__:59 \t6     \t2.51197\t0.207216\t2.06402\t2.66831\n"
     ]
    },
    {
     "name": "stdout",
     "output_type": "stream",
     "text": [
      "true minimum 1.54114585002\n"
     ]
    },
    {
     "name": "stderr",
     "output_type": "stream",
     "text": [
      "INFO:__main__:60 \t4     \t2.26631\t0.327249\t1.65716\t2.64306\n"
     ]
    },
    {
     "name": "stdout",
     "output_type": "stream",
     "text": [
      "true minimum 1.54114585002\n"
     ]
    },
    {
     "name": "stderr",
     "output_type": "stream",
     "text": [
      "INFO:__main__:61 \t3     \t2.28024\t0.298737\t1.73662\t2.64306\n"
     ]
    },
    {
     "name": "stdout",
     "output_type": "stream",
     "text": [
      "true minimum 1.54114585002\n"
     ]
    },
    {
     "name": "stderr",
     "output_type": "stream",
     "text": [
      "INFO:__main__:62 \t6     \t2.33095\t0.261519\t1.9721 \t2.60135\n"
     ]
    },
    {
     "name": "stdout",
     "output_type": "stream",
     "text": [
      "true minimum 1.54114585002\n"
     ]
    },
    {
     "name": "stderr",
     "output_type": "stream",
     "text": [
      "INFO:__main__:63 \t3     \t2.20489\t0.370367\t1.54963\t2.72194\n"
     ]
    },
    {
     "name": "stdout",
     "output_type": "stream",
     "text": [
      "true minimum 1.54114585002\n"
     ]
    },
    {
     "name": "stderr",
     "output_type": "stream",
     "text": [
      "INFO:__main__:64 \t6     \t2.43172\t0.23057 \t2.01151\t2.78353\n"
     ]
    },
    {
     "name": "stdout",
     "output_type": "stream",
     "text": [
      "true minimum 1.54114585002\n"
     ]
    },
    {
     "name": "stderr",
     "output_type": "stream",
     "text": [
      "INFO:__main__:65 \t4     \t2.21476\t0.374075\t1.53531\t2.55999\n"
     ]
    },
    {
     "name": "stdout",
     "output_type": "stream",
     "text": [
      "true minimum 1.54114585002\n"
     ]
    },
    {
     "name": "stderr",
     "output_type": "stream",
     "text": [
      "INFO:__main__:66 \t6     \t2.48909\t0.204058\t2.22746\t2.78242\n"
     ]
    },
    {
     "name": "stdout",
     "output_type": "stream",
     "text": [
      "true minimum 1.54114585002\n"
     ]
    },
    {
     "name": "stderr",
     "output_type": "stream",
     "text": [
      "INFO:__main__:67 \t5     \t2.40801\t0.229257\t2.07245\t2.66181\n"
     ]
    },
    {
     "name": "stdout",
     "output_type": "stream",
     "text": [
      "true minimum 1.54114585002\n"
     ]
    },
    {
     "name": "stderr",
     "output_type": "stream",
     "text": [
      "/home/jovyan/neuronunit/neuronunit/tests/passive.py:85: RuntimeWarning: overflow encountered in exp\n",
      "  vm_fit[offset:,0] = a * np.exp(-t[offset:]/b) + c\n",
      "/home/jovyan/neuronunit/neuronunit/tests/passive.py:85: RuntimeWarning: overflow encountered in multiply\n",
      "  vm_fit[offset:,0] = a * np.exp(-t[offset:]/b) + c\n",
      "INFO:__main__:68 \t6     \t2.424  \t0.402318\t1.69244\t2.89845\n"
     ]
    },
    {
     "name": "stdout",
     "output_type": "stream",
     "text": [
      "true minimum 1.54114585002\n"
     ]
    },
    {
     "name": "stderr",
     "output_type": "stream",
     "text": [
      "INFO:__main__:69 \t6     \t2.3671 \t0.170721\t2.16758\t2.65308\n"
     ]
    },
    {
     "name": "stdout",
     "output_type": "stream",
     "text": [
      "true minimum 1.54114585002\n"
     ]
    },
    {
     "name": "stderr",
     "output_type": "stream",
     "text": [
      "INFO:__main__:70 \t5     \t2.60109\t0.129972\t2.37628\t2.74839\n"
     ]
    },
    {
     "name": "stdout",
     "output_type": "stream",
     "text": [
      "true minimum 1.54114585002\n"
     ]
    },
    {
     "name": "stderr",
     "output_type": "stream",
     "text": [
      "INFO:__main__:71 \t6     \t2.42234\t0.282171\t1.81467\t2.6081 \n"
     ]
    },
    {
     "name": "stdout",
     "output_type": "stream",
     "text": [
      "true minimum 1.54114585002\n"
     ]
    },
    {
     "name": "stderr",
     "output_type": "stream",
     "text": [
      "INFO:__main__:72 \t5     \t2.42219\t0.359984\t1.81467\t2.88251\n"
     ]
    },
    {
     "name": "stdout",
     "output_type": "stream",
     "text": [
      "true minimum 1.54114585002\n"
     ]
    },
    {
     "name": "stderr",
     "output_type": "stream",
     "text": [
      "INFO:__main__:73 \t6     \t2.34714\t0.305471\t1.69443\t2.6274 \n"
     ]
    },
    {
     "name": "stdout",
     "output_type": "stream",
     "text": [
      "true minimum 1.54114585002\n"
     ]
    },
    {
     "name": "stderr",
     "output_type": "stream",
     "text": [
      "INFO:__main__:74 \t6     \t2.52339\t0.126826\t2.34457\t2.75747\n"
     ]
    },
    {
     "name": "stdout",
     "output_type": "stream",
     "text": [
      "true minimum 1.54114585002\n"
     ]
    },
    {
     "name": "stderr",
     "output_type": "stream",
     "text": [
      "/home/jovyan/neuronunit/neuronunit/tests/passive.py:85: RuntimeWarning: overflow encountered in exp\n",
      "  vm_fit[offset:,0] = a * np.exp(-t[offset:]/b) + c\n",
      "/home/jovyan/neuronunit/neuronunit/tests/passive.py:85: RuntimeWarning: overflow encountered in multiply\n",
      "  vm_fit[offset:,0] = a * np.exp(-t[offset:]/b) + c\n",
      "INFO:__main__:75 \t5     \t2.3174 \t0.302996\t1.69443\t2.61105\n"
     ]
    },
    {
     "name": "stdout",
     "output_type": "stream",
     "text": [
      "true minimum 1.54114585002\n"
     ]
    },
    {
     "name": "stderr",
     "output_type": "stream",
     "text": [
      "INFO:__main__:76 \t5     \t2.48348\t0.101363\t2.37628\t2.66118\n"
     ]
    },
    {
     "name": "stdout",
     "output_type": "stream",
     "text": [
      "true minimum 1.54114585002\n"
     ]
    },
    {
     "name": "stderr",
     "output_type": "stream",
     "text": [
      "INFO:__main__:77 \t5     \t2.48029\t0.152402\t2.24618\t2.64645\n"
     ]
    },
    {
     "name": "stdout",
     "output_type": "stream",
     "text": [
      "true minimum 1.54114585002\n"
     ]
    },
    {
     "name": "stderr",
     "output_type": "stream",
     "text": [
      "INFO:__main__:78 \t4     \t2.28489\t0.34909 \t1.69793\t2.61924\n"
     ]
    },
    {
     "name": "stdout",
     "output_type": "stream",
     "text": [
      "true minimum 1.54114585002\n"
     ]
    },
    {
     "name": "stderr",
     "output_type": "stream",
     "text": [
      "INFO:__main__:79 \t5     \t2.25085\t0.248326\t1.80975\t2.53155\n"
     ]
    },
    {
     "name": "stdout",
     "output_type": "stream",
     "text": [
      "true minimum 1.54114585002\n"
     ]
    },
    {
     "name": "stderr",
     "output_type": "stream",
     "text": [
      "INFO:__main__:80 \t6     \t2.38565\t0.244214\t1.91538\t2.63052\n"
     ]
    },
    {
     "name": "stdout",
     "output_type": "stream",
     "text": [
      "true minimum 1.54114585002\n"
     ]
    },
    {
     "name": "stderr",
     "output_type": "stream",
     "text": [
      "/home/jovyan/neuronunit/neuronunit/tests/passive.py:85: RuntimeWarning: overflow encountered in exp\n",
      "  vm_fit[offset:,0] = a * np.exp(-t[offset:]/b) + c\n",
      "/home/jovyan/neuronunit/neuronunit/tests/passive.py:85: RuntimeWarning: overflow encountered in multiply\n",
      "  vm_fit[offset:,0] = a * np.exp(-t[offset:]/b) + c\n",
      "INFO:__main__:81 \t5     \t2.33772\t0.242927\t1.91488\t2.61924\n"
     ]
    },
    {
     "name": "stdout",
     "output_type": "stream",
     "text": [
      "true minimum 1.54114585002\n"
     ]
    },
    {
     "name": "stderr",
     "output_type": "stream",
     "text": [
      "INFO:__main__:82 \t5     \t2.29188\t0.353544\t1.69443\t2.71539\n"
     ]
    },
    {
     "name": "stdout",
     "output_type": "stream",
     "text": [
      "true minimum 1.54114585002\n"
     ]
    },
    {
     "name": "stderr",
     "output_type": "stream",
     "text": [
      "INFO:__main__:83 \t4     \t2.30943\t0.41226 \t1.4408 \t2.75287\n"
     ]
    },
    {
     "name": "stdout",
     "output_type": "stream",
     "text": [
      "true minimum 1.44080324453\n"
     ]
    },
    {
     "name": "stderr",
     "output_type": "stream",
     "text": [
      "INFO:__main__:84 \t6     \t2.35038\t0.195467\t2.13987\t2.72013\n"
     ]
    },
    {
     "name": "stdout",
     "output_type": "stream",
     "text": [
      "true minimum 1.44080324453\n"
     ]
    },
    {
     "name": "stderr",
     "output_type": "stream",
     "text": [
      "INFO:__main__:85 \t6     \t2.59738\t0.140069\t2.41877\t2.82892\n"
     ]
    },
    {
     "name": "stdout",
     "output_type": "stream",
     "text": [
      "true minimum 1.44080324453\n"
     ]
    },
    {
     "name": "stderr",
     "output_type": "stream",
     "text": [
      "INFO:__main__:86 \t6     \t2.33084\t0.237261\t1.90207\t2.56331\n"
     ]
    },
    {
     "name": "stdout",
     "output_type": "stream",
     "text": [
      "true minimum 1.44080324453\n"
     ]
    },
    {
     "name": "stderr",
     "output_type": "stream",
     "text": [
      "INFO:__main__:87 \t6     \t2.43639\t0.361265\t1.94261\t2.86489\n"
     ]
    },
    {
     "name": "stdout",
     "output_type": "stream",
     "text": [
      "true minimum 1.44080324453\n"
     ]
    },
    {
     "name": "stderr",
     "output_type": "stream",
     "text": [
      "INFO:__main__:88 \t6     \t2.09102\t0.244578\t1.86315\t2.57754\n"
     ]
    },
    {
     "name": "stdout",
     "output_type": "stream",
     "text": [
      "true minimum 1.44080324453\n"
     ]
    },
    {
     "name": "stderr",
     "output_type": "stream",
     "text": [
      "INFO:__main__:89 \t6     \t2.16705\t0.279736\t1.83891\t2.60355\n"
     ]
    },
    {
     "name": "stdout",
     "output_type": "stream",
     "text": [
      "true minimum 1.44080324453\n"
     ]
    },
    {
     "name": "stderr",
     "output_type": "stream",
     "text": [
      "/home/jovyan/neuronunit/neuronunit/tests/passive.py:85: RuntimeWarning: overflow encountered in exp\n",
      "  vm_fit[offset:,0] = a * np.exp(-t[offset:]/b) + c\n",
      "/home/jovyan/neuronunit/neuronunit/tests/passive.py:85: RuntimeWarning: overflow encountered in multiply\n",
      "  vm_fit[offset:,0] = a * np.exp(-t[offset:]/b) + c\n",
      "INFO:__main__:90 \t6     \t2.17863\t0.287165\t1.61804\t2.44332\n"
     ]
    },
    {
     "name": "stdout",
     "output_type": "stream",
     "text": [
      "true minimum 1.44080324453\n"
     ]
    },
    {
     "name": "stderr",
     "output_type": "stream",
     "text": [
      "INFO:__main__:91 \t6     \t2.3527 \t0.207635\t1.96056\t2.65896\n"
     ]
    },
    {
     "name": "stdout",
     "output_type": "stream",
     "text": [
      "true minimum 1.44080324453\n"
     ]
    },
    {
     "name": "stderr",
     "output_type": "stream",
     "text": [
      "INFO:__main__:92 \t4     \t2.25202\t0.253208\t1.80809\t2.55717\n"
     ]
    },
    {
     "name": "stdout",
     "output_type": "stream",
     "text": [
      "true minimum 1.44080324453\n"
     ]
    },
    {
     "name": "stderr",
     "output_type": "stream",
     "text": [
      "INFO:__main__:93 \t5     \t2.37436\t0.397024\t1.79925\t2.97828\n"
     ]
    },
    {
     "name": "stdout",
     "output_type": "stream",
     "text": [
      "true minimum 1.44080324453\n"
     ]
    },
    {
     "name": "stderr",
     "output_type": "stream",
     "text": [
      "/home/jovyan/neuronunit/neuronunit/tests/passive.py:85: RuntimeWarning: overflow encountered in exp\n",
      "  vm_fit[offset:,0] = a * np.exp(-t[offset:]/b) + c\n",
      "/home/jovyan/neuronunit/neuronunit/tests/passive.py:85: RuntimeWarning: overflow encountered in multiply\n",
      "  vm_fit[offset:,0] = a * np.exp(-t[offset:]/b) + c\n",
      "INFO:__main__:94 \t6     \t2.48656\t0.323677\t1.8343 \t2.81784\n"
     ]
    },
    {
     "name": "stdout",
     "output_type": "stream",
     "text": [
      "true minimum 1.44080324453\n"
     ]
    },
    {
     "name": "stderr",
     "output_type": "stream",
     "text": [
      "INFO:__main__:95 \t5     \t2.21693\t0.194842\t1.92734\t2.47765\n"
     ]
    },
    {
     "name": "stdout",
     "output_type": "stream",
     "text": [
      "true minimum 1.44080324453\n"
     ]
    },
    {
     "name": "stderr",
     "output_type": "stream",
     "text": [
      "INFO:__main__:96 \t6     \t2.28592\t0.260961\t1.79485\t2.53279\n"
     ]
    },
    {
     "name": "stdout",
     "output_type": "stream",
     "text": [
      "true minimum 1.44080324453\n"
     ]
    },
    {
     "name": "stderr",
     "output_type": "stream",
     "text": [
      "INFO:__main__:97 \t6     \t2.35955\t0.291073\t1.79485\t2.69197\n"
     ]
    },
    {
     "name": "stdout",
     "output_type": "stream",
     "text": [
      "true minimum 1.44080324453\n"
     ]
    },
    {
     "name": "stderr",
     "output_type": "stream",
     "text": [
      "INFO:__main__:98 \t6     \t2.40953\t0.266272\t1.97353\t2.72712\n"
     ]
    },
    {
     "name": "stdout",
     "output_type": "stream",
     "text": [
      "true minimum 1.44080324453\n"
     ]
    },
    {
     "name": "stderr",
     "output_type": "stream",
     "text": [
      "INFO:__main__:99 \t6     \t2.37171\t0.171284\t2.19859\t2.69304\n"
     ]
    },
    {
     "name": "stdout",
     "output_type": "stream",
     "text": [
      "true minimum 1.44080324453\n"
     ]
    },
    {
     "name": "stderr",
     "output_type": "stream",
     "text": [
      "INFO:__main__:100\t6     \t2.35573\t0.369242\t1.91762\t2.90308\n"
     ]
    },
    {
     "name": "stdout",
     "output_type": "stream",
     "text": [
      "true minimum 1.44080324453\n",
      "['InjectedCurrentAPThresholdTest', 'TimeConstantTest']\n"
     ]
    },
    {
     "name": "stderr",
     "output_type": "stream",
     "text": [
      "/home/jovyan/neuronunit/neuronunit/tests/passive.py:85: RuntimeWarning: overflow encountered in exp\n",
      "  vm_fit[offset:,0] = a * np.exp(-t[offset:]/b) + c\n",
      "/home/jovyan/neuronunit/neuronunit/tests/passive.py:85: RuntimeWarning: overflow encountered in multiply\n",
      "  vm_fit[offset:,0] = a * np.exp(-t[offset:]/b) + c\n",
      "INFO:__main__:gen\tnevals\tavg    \tstd      \tmin    \tmax    \n",
      "1  \t6     \t1.85648\t0.112845 \t1.60883\t1.93263\n",
      "2  \t5     \t1.85025\t0.0890467\t1.7215 \t1.93068\n"
     ]
    },
    {
     "name": "stdout",
     "output_type": "stream",
     "text": [
      "true minimum 1.60882566928\n"
     ]
    },
    {
     "name": "stderr",
     "output_type": "stream",
     "text": [
      "INFO:__main__:3  \t5     \t1.65223\t0.366592 \t0.871103\t1.92252\n"
     ]
    },
    {
     "name": "stdout",
     "output_type": "stream",
     "text": [
      "true minimum 0.871102987326\n"
     ]
    },
    {
     "name": "stderr",
     "output_type": "stream",
     "text": [
      "INFO:__main__:4  \t4     \t1.59573\t0.179171 \t1.34206 \t1.89756\n"
     ]
    },
    {
     "name": "stdout",
     "output_type": "stream",
     "text": [
      "true minimum 0.871102987326\n"
     ]
    },
    {
     "name": "stderr",
     "output_type": "stream",
     "text": [
      "INFO:__main__:5  \t6     \t1.39896\t0.387644 \t0.759318\t1.81526\n"
     ]
    },
    {
     "name": "stdout",
     "output_type": "stream",
     "text": [
      "true minimum 0.759317806985\n"
     ]
    },
    {
     "name": "stderr",
     "output_type": "stream",
     "text": [
      "INFO:__main__:6  \t6     \t1.2204 \t0.366197 \t0.717125\t1.6097 \n"
     ]
    },
    {
     "name": "stdout",
     "output_type": "stream",
     "text": [
      "true minimum 0.717124514134\n"
     ]
    },
    {
     "name": "stderr",
     "output_type": "stream",
     "text": [
      "INFO:__main__:7  \t6     \t1.0156 \t0.279166 \t0.634984\t1.48843\n"
     ]
    },
    {
     "name": "stdout",
     "output_type": "stream",
     "text": [
      "true minimum 0.634984012989\n"
     ]
    },
    {
     "name": "stderr",
     "output_type": "stream",
     "text": [
      "INFO:__main__:8  \t6     \t0.850918\t0.20488  \t0.530998\t1.17852\n"
     ]
    },
    {
     "name": "stdout",
     "output_type": "stream",
     "text": [
      "true minimum 0.53099800225\n"
     ]
    },
    {
     "name": "stderr",
     "output_type": "stream",
     "text": [
      "INFO:__main__:9  \t6     \t0.887004\t0.347393 \t0.339058\t1.44998\n"
     ]
    },
    {
     "name": "stdout",
     "output_type": "stream",
     "text": [
      "true minimum 0.339057708839\n"
     ]
    },
    {
     "name": "stderr",
     "output_type": "stream",
     "text": [
      "INFO:__main__:10 \t6     \t0.80416 \t0.314929 \t0.552576\t1.44006\n"
     ]
    },
    {
     "name": "stdout",
     "output_type": "stream",
     "text": [
      "true minimum 0.339057708839\n"
     ]
    },
    {
     "name": "stderr",
     "output_type": "stream",
     "text": [
      "INFO:__main__:11 \t6     \t0.709558\t0.363437 \t0.0266915\t1.25458\n"
     ]
    },
    {
     "name": "stdout",
     "output_type": "stream",
     "text": [
      "true minimum 0.0266915150572\n"
     ]
    },
    {
     "name": "stderr",
     "output_type": "stream",
     "text": [
      "INFO:__main__:12 \t6     \t0.785938\t0.465974 \t0.0465117\t1.43533\n"
     ]
    },
    {
     "name": "stdout",
     "output_type": "stream",
     "text": [
      "true minimum 0.0266915150572\n"
     ]
    },
    {
     "name": "stderr",
     "output_type": "stream",
     "text": [
      "INFO:__main__:13 \t6     \t0.814654\t0.305059 \t0.464785 \t1.43763\n"
     ]
    },
    {
     "name": "stdout",
     "output_type": "stream",
     "text": [
      "true minimum 0.0266915150572\n"
     ]
    },
    {
     "name": "stderr",
     "output_type": "stream",
     "text": [
      "INFO:__main__:14 \t5     \t0.606783\t0.540028 \t0.0493924\t1.76534\n"
     ]
    },
    {
     "name": "stdout",
     "output_type": "stream",
     "text": [
      "true minimum 0.0266915150572\n"
     ]
    },
    {
     "name": "stderr",
     "output_type": "stream",
     "text": [
      "INFO:__main__:15 \t6     \t0.834159\t0.522795 \t0.186749 \t1.81744\n"
     ]
    },
    {
     "name": "stdout",
     "output_type": "stream",
     "text": [
      "true minimum 0.0266915150572\n"
     ]
    },
    {
     "name": "stderr",
     "output_type": "stream",
     "text": [
      "INFO:__main__:16 \t4     \t0.723237\t0.58431  \t0.0465117\t1.76508\n"
     ]
    },
    {
     "name": "stdout",
     "output_type": "stream",
     "text": [
      "true minimum 0.0266915150572\n"
     ]
    },
    {
     "name": "stderr",
     "output_type": "stream",
     "text": [
      "INFO:__main__:17 \t6     \t0.883043\t0.545757 \t0.302224 \t1.66108\n"
     ]
    },
    {
     "name": "stdout",
     "output_type": "stream",
     "text": [
      "true minimum 0.0266915150572\n"
     ]
    },
    {
     "name": "stderr",
     "output_type": "stream",
     "text": [
      "INFO:__main__:18 \t6     \t0.621804\t0.42698  \t0.0826769\t1.27368\n"
     ]
    },
    {
     "name": "stdout",
     "output_type": "stream",
     "text": [
      "true minimum 0.0266915150572\n"
     ]
    },
    {
     "name": "stderr",
     "output_type": "stream",
     "text": [
      "INFO:__main__:19 \t6     \t1.10286 \t0.433621 \t0.541009 \t1.82124\n"
     ]
    },
    {
     "name": "stdout",
     "output_type": "stream",
     "text": [
      "true minimum 0.0266915150572\n"
     ]
    },
    {
     "name": "stderr",
     "output_type": "stream",
     "text": [
      "INFO:__main__:20 \t4     \t0.492163\t0.52079  \t0.0493924\t1.53667\n"
     ]
    },
    {
     "name": "stdout",
     "output_type": "stream",
     "text": [
      "true minimum 0.0266915150572\n"
     ]
    },
    {
     "name": "stderr",
     "output_type": "stream",
     "text": [
      "INFO:__main__:21 \t6     \t0.372027\t0.240793 \t0.0875435\t0.861542\n"
     ]
    },
    {
     "name": "stdout",
     "output_type": "stream",
     "text": [
      "true minimum 0.0266915150572\n"
     ]
    },
    {
     "name": "stderr",
     "output_type": "stream",
     "text": [
      "INFO:__main__:22 \t5     \t0.310749\t0.238478 \t0.0315155\t0.663086\n"
     ]
    },
    {
     "name": "stdout",
     "output_type": "stream",
     "text": [
      "true minimum 0.0266915150572\n"
     ]
    },
    {
     "name": "stderr",
     "output_type": "stream",
     "text": [
      "INFO:__main__:23 \t6     \t0.379455\t0.29503  \t0.0067972\t0.871116\n"
     ]
    },
    {
     "name": "stdout",
     "output_type": "stream",
     "text": [
      "true minimum 0.00679719986223\n"
     ]
    },
    {
     "name": "stderr",
     "output_type": "stream",
     "text": [
      "INFO:__main__:24 \t5     \t0.287764\t0.154917 \t0.0465117\t0.508432\n"
     ]
    },
    {
     "name": "stdout",
     "output_type": "stream",
     "text": [
      "true minimum 0.00679719986223\n"
     ]
    },
    {
     "name": "stderr",
     "output_type": "stream",
     "text": [
      "INFO:__main__:25 \t6     \t0.458836\t0.172407 \t0.173172 \t0.71151 \n"
     ]
    },
    {
     "name": "stdout",
     "output_type": "stream",
     "text": [
      "true minimum 0.00679719986223\n"
     ]
    },
    {
     "name": "stderr",
     "output_type": "stream",
     "text": [
      "INFO:__main__:26 \t6     \t0.61378 \t0.568788 \t0.0753776\t1.76372 \n"
     ]
    },
    {
     "name": "stdout",
     "output_type": "stream",
     "text": [
      "true minimum 0.00679719986223\n"
     ]
    },
    {
     "name": "stderr",
     "output_type": "stream",
     "text": [
      "INFO:__main__:27 \t5     \t0.500834\t0.56017  \t0.0067972\t1.48252 \n"
     ]
    },
    {
     "name": "stdout",
     "output_type": "stream",
     "text": [
      "true minimum 0.00679719986223\n"
     ]
    },
    {
     "name": "stderr",
     "output_type": "stream",
     "text": [
      "INFO:__main__:28 \t5     \t0.521319\t0.305498 \t0.212169 \t1.09695 \n"
     ]
    },
    {
     "name": "stdout",
     "output_type": "stream",
     "text": [
      "true minimum 0.00679719986223\n"
     ]
    },
    {
     "name": "stderr",
     "output_type": "stream",
     "text": [
      "INFO:__main__:29 \t4     \t0.323694\t0.218989 \t0.129138 \t0.773659\n"
     ]
    },
    {
     "name": "stdout",
     "output_type": "stream",
     "text": [
      "true minimum 0.00679719986223\n"
     ]
    },
    {
     "name": "stderr",
     "output_type": "stream",
     "text": [
      "INFO:__main__:30 \t5     \t0.463549\t0.279174 \t0.0753776\t1.0161  \n"
     ]
    },
    {
     "name": "stdout",
     "output_type": "stream",
     "text": [
      "true minimum 0.00679719986223\n"
     ]
    },
    {
     "name": "stderr",
     "output_type": "stream",
     "text": [
      "INFO:__main__:31 \t4     \t0.713439\t0.537596 \t0.0753776\t1.57683 \n"
     ]
    },
    {
     "name": "stdout",
     "output_type": "stream",
     "text": [
      "true minimum 0.00679719986223\n"
     ]
    },
    {
     "name": "stderr",
     "output_type": "stream",
     "text": [
      "INFO:__main__:32 \t5     \t0.720613\t0.495947 \t0.176184 \t1.33781 \n"
     ]
    },
    {
     "name": "stdout",
     "output_type": "stream",
     "text": [
      "true minimum 0.00679719986223\n"
     ]
    },
    {
     "name": "stderr",
     "output_type": "stream",
     "text": [
      "INFO:__main__:33 \t4     \t0.574652\t0.460087 \t0.129138 \t1.38424 \n"
     ]
    },
    {
     "name": "stdout",
     "output_type": "stream",
     "text": [
      "true minimum 0.00679719986223\n"
     ]
    },
    {
     "name": "stderr",
     "output_type": "stream",
     "text": [
      "INFO:__main__:34 \t6     \t0.500815\t0.259262 \t0.238825 \t0.955052\n"
     ]
    },
    {
     "name": "stdout",
     "output_type": "stream",
     "text": [
      "true minimum 0.00679719986223\n"
     ]
    },
    {
     "name": "stderr",
     "output_type": "stream",
     "text": [
      "INFO:__main__:35 \t6     \t0.598301\t0.195807 \t0.426753 \t1.00647 \n"
     ]
    },
    {
     "name": "stdout",
     "output_type": "stream",
     "text": [
      "true minimum 0.00679719986223\n"
     ]
    },
    {
     "name": "stderr",
     "output_type": "stream",
     "text": [
      "INFO:__main__:36 \t5     \t0.42277 \t0.415716 \t0.0973705\t1.06047 \n"
     ]
    },
    {
     "name": "stdout",
     "output_type": "stream",
     "text": [
      "true minimum 0.00679719986223\n"
     ]
    },
    {
     "name": "stderr",
     "output_type": "stream",
     "text": [
      "INFO:__main__:37 \t5     \t0.756202\t0.489271 \t0.242377 \t1.4812  \n"
     ]
    },
    {
     "name": "stdout",
     "output_type": "stream",
     "text": [
      "true minimum 0.00679719986223\n"
     ]
    },
    {
     "name": "stderr",
     "output_type": "stream",
     "text": [
      "INFO:__main__:38 \t6     \t0.664982\t0.330095 \t0.0777415\t1.14224 \n"
     ]
    },
    {
     "name": "stdout",
     "output_type": "stream",
     "text": [
      "true minimum 0.00679719986223\n"
     ]
    },
    {
     "name": "stderr",
     "output_type": "stream",
     "text": [
      "INFO:__main__:39 \t6     \t0.257979\t0.176781 \t0.0105814\t0.496304\n"
     ]
    },
    {
     "name": "stdout",
     "output_type": "stream",
     "text": [
      "true minimum 0.00679719986223\n"
     ]
    },
    {
     "name": "stderr",
     "output_type": "stream",
     "text": [
      "INFO:__main__:40 \t6     \t0.681242\t0.62252  \t0.0142693\t1.64495 \n"
     ]
    },
    {
     "name": "stdout",
     "output_type": "stream",
     "text": [
      "true minimum 0.00679719986223\n"
     ]
    },
    {
     "name": "stderr",
     "output_type": "stream",
     "text": [
      "INFO:__main__:41 \t6     \t0.615693\t0.566823 \t0.0660146\t1.48153 \n"
     ]
    },
    {
     "name": "stdout",
     "output_type": "stream",
     "text": [
      "true minimum 0.00679719986223\n"
     ]
    },
    {
     "name": "stderr",
     "output_type": "stream",
     "text": [
      "INFO:__main__:42 \t6     \t1.10042 \t0.67517  \t0.187452 \t1.92313 \n"
     ]
    },
    {
     "name": "stdout",
     "output_type": "stream",
     "text": [
      "true minimum 0.00679719986223\n"
     ]
    },
    {
     "name": "stderr",
     "output_type": "stream",
     "text": [
      "INFO:__main__:43 \t5     \t0.621783\t0.387986 \t0.0105814\t1.01369 \n"
     ]
    },
    {
     "name": "stdout",
     "output_type": "stream",
     "text": [
      "true minimum 0.00679719986223\n"
     ]
    },
    {
     "name": "stderr",
     "output_type": "stream",
     "text": [
      "INFO:__main__:44 \t6     \t0.53421 \t0.36607  \t0.0567221\t1.04886 \n"
     ]
    },
    {
     "name": "stdout",
     "output_type": "stream",
     "text": [
      "true minimum 0.00679719986223\n"
     ]
    },
    {
     "name": "stderr",
     "output_type": "stream",
     "text": [
      "INFO:__main__:45 \t6     \t0.68499 \t0.268943 \t0.278885 \t1.06858 \n"
     ]
    },
    {
     "name": "stdout",
     "output_type": "stream",
     "text": [
      "true minimum 0.00679719986223\n"
     ]
    },
    {
     "name": "stderr",
     "output_type": "stream",
     "text": [
      "INFO:__main__:46 \t6     \t0.871855\t0.614026 \t0.049583 \t1.57192 \n"
     ]
    },
    {
     "name": "stdout",
     "output_type": "stream",
     "text": [
      "true minimum 0.00679719986223\n"
     ]
    },
    {
     "name": "stderr",
     "output_type": "stream",
     "text": [
      "INFO:__main__:47 \t4     \t0.788943\t0.72478  \t0.0105814\t1.82217 \n"
     ]
    },
    {
     "name": "stdout",
     "output_type": "stream",
     "text": [
      "true minimum 0.00679719986223\n"
     ]
    },
    {
     "name": "stderr",
     "output_type": "stream",
     "text": [
      "INFO:__main__:48 \t5     \t0.564206\t0.380634 \t0.106928 \t1.12504 \n"
     ]
    },
    {
     "name": "stdout",
     "output_type": "stream",
     "text": [
      "true minimum 0.00679719986223\n"
     ]
    },
    {
     "name": "stderr",
     "output_type": "stream",
     "text": [
      "INFO:__main__:49 \t6     \t0.593079\t0.544406 \t0.0126311\t1.24726 \n"
     ]
    },
    {
     "name": "stdout",
     "output_type": "stream",
     "text": [
      "true minimum 0.00679719986223\n"
     ]
    },
    {
     "name": "stderr",
     "output_type": "stream",
     "text": [
      "INFO:__main__:50 \t5     \t0.247509\t0.213973 \t0.0142693\t0.530113\n"
     ]
    },
    {
     "name": "stdout",
     "output_type": "stream",
     "text": [
      "true minimum 0.00679719986223\n"
     ]
    },
    {
     "name": "stderr",
     "output_type": "stream",
     "text": [
      "INFO:__main__:51 \t5     \t0.444419\t0.436479 \t0.0105814\t1.07282 \n"
     ]
    },
    {
     "name": "stdout",
     "output_type": "stream",
     "text": [
      "true minimum 0.00679719986223\n"
     ]
    },
    {
     "name": "stderr",
     "output_type": "stream",
     "text": [
      "INFO:__main__:52 \t6     \t0.627593\t0.346575 \t0.060957 \t1.10659 \n"
     ]
    },
    {
     "name": "stdout",
     "output_type": "stream",
     "text": [
      "true minimum 0.00679719986223\n"
     ]
    },
    {
     "name": "stderr",
     "output_type": "stream",
     "text": [
      "INFO:__main__:53 \t5     \t0.62543 \t0.500638 \t0.0067972\t1.3937  \n"
     ]
    },
    {
     "name": "stdout",
     "output_type": "stream",
     "text": [
      "true minimum 0.00679719986223\n"
     ]
    },
    {
     "name": "stderr",
     "output_type": "stream",
     "text": [
      "INFO:__main__:54 \t6     \t0.530037\t0.44707  \t0.0125081\t1.31984 \n"
     ]
    },
    {
     "name": "stdout",
     "output_type": "stream",
     "text": [
      "true minimum 0.00679719986223\n"
     ]
    },
    {
     "name": "stderr",
     "output_type": "stream",
     "text": [
      "INFO:__main__:55 \t6     \t0.190801\t0.234538 \t0.0168389\t0.53086 \n"
     ]
    },
    {
     "name": "stdout",
     "output_type": "stream",
     "text": [
      "true minimum 0.00679719986223\n"
     ]
    },
    {
     "name": "stderr",
     "output_type": "stream",
     "text": [
      "INFO:__main__:56 \t6     \t0.350954\t0.315656 \t0.0712529\t1.00703 \n"
     ]
    },
    {
     "name": "stdout",
     "output_type": "stream",
     "text": [
      "true minimum 0.00679719986223\n"
     ]
    },
    {
     "name": "stderr",
     "output_type": "stream",
     "text": [
      "INFO:__main__:57 \t6     \t0.227122\t0.138484 \t0.05282  \t0.486751\n"
     ]
    },
    {
     "name": "stdout",
     "output_type": "stream",
     "text": [
      "true minimum 0.00679719986223\n"
     ]
    },
    {
     "name": "stderr",
     "output_type": "stream",
     "text": [
      "INFO:__main__:58 \t5     \t0.549372\t0.620327 \t0.0125081\t1.76198 \n"
     ]
    },
    {
     "name": "stdout",
     "output_type": "stream",
     "text": [
      "true minimum 0.00679719986223\n"
     ]
    },
    {
     "name": "stderr",
     "output_type": "stream",
     "text": [
      "INFO:__main__:59 \t6     \t1.04317 \t0.668606 \t0.215626 \t1.78723 \n"
     ]
    },
    {
     "name": "stdout",
     "output_type": "stream",
     "text": [
      "true minimum 0.00679719986223\n"
     ]
    },
    {
     "name": "stderr",
     "output_type": "stream",
     "text": [
      "INFO:__main__:60 \t6     \t0.673627\t0.530927 \t0.0776243\t1.65108 \n"
     ]
    },
    {
     "name": "stdout",
     "output_type": "stream",
     "text": [
      "true minimum 0.00679719986223\n"
     ]
    },
    {
     "name": "stderr",
     "output_type": "stream",
     "text": [
      "INFO:__main__:61 \t6     \t0.503376\t0.428148 \t0.0268583\t1.36917 \n"
     ]
    },
    {
     "name": "stdout",
     "output_type": "stream",
     "text": [
      "true minimum 0.00679719986223\n"
     ]
    },
    {
     "name": "stderr",
     "output_type": "stream",
     "text": [
      "INFO:__main__:62 \t4     \t0.332466\t0.357973 \t0.0105814\t1.0752  \n"
     ]
    },
    {
     "name": "stdout",
     "output_type": "stream",
     "text": [
      "true minimum 0.00679719986223\n"
     ]
    },
    {
     "name": "stderr",
     "output_type": "stream",
     "text": [
      "INFO:__main__:63 \t6     \t0.697738\t0.579053 \t0.0843248\t1.72569 \n"
     ]
    },
    {
     "name": "stdout",
     "output_type": "stream",
     "text": [
      "true minimum 0.00679719986223\n"
     ]
    },
    {
     "name": "stderr",
     "output_type": "stream",
     "text": [
      "INFO:__main__:64 \t5     \t0.493991\t0.452055 \t0.0242563\t1.13516 \n"
     ]
    },
    {
     "name": "stdout",
     "output_type": "stream",
     "text": [
      "true minimum 0.00679719986223\n"
     ]
    }
   ],
   "source": [
    "MU = 6\n",
    "NGEN = 60\n",
    "\n",
    "import pickle\n",
    "import numpy as np\n",
    "print(free_params)\n",
    "    \n",
    "import pickle\n",
    "test_opt = {}\n",
    "import numpy as np\n",
    "try:\n",
    "    assert 1==2\n",
    "    with open('clustered_multi_dimension_per_single_criteria.p','rb') as f:\n",
    "        test_opt = pickle.load(f)\n",
    "except:\n",
    "\n",
    "    for key,test in grouped_tests.items():\n",
    "        tn = grouped_testsn[key]\n",
    "        \n",
    "        print(tn)\n",
    "        ga_out, DO = om.run_ga(explore_param,NGEN,test,free_params=free_params, NSGA = True, MU = MU)\n",
    "        test_opt[str(tn)] = ga_out\n",
    "        \n",
    "        with open('clustered_multi_dimension_per_single_criteria.p','wb') as f:\n",
    "            pickle.dump(test_opt,f)\n"
   ]
  },
  {
   "cell_type": "code",
   "execution_count": 20,
   "metadata": {
    "collapsed": false
   },
   "outputs": [
    {
     "name": "stdout",
     "output_type": "stream",
     "text": [
      "[ 94.16860585  99.39118411  95.59643945  92.04023159  96.62845197\n",
      "  95.52171796]\n",
      "[ 3.78607329  4.16938711  4.33786225  4.33790149  4.38803569  4.33790149]\n",
      "[-53.98532468 -63.01753445 -53.98532468 -53.98532468 -53.98532468\n",
      " -53.98532468]\n"
     ]
    }
   ],
   "source": [
    "len(centers)\n",
    "print(centers[0])\n",
    "print(centers[1])\n",
    "print(centers[2])\n"
   ]
  },
  {
   "cell_type": "code",
   "execution_count": 21,
   "metadata": {
    "collapsed": false
   },
   "outputs": [
    {
     "data": {
      "text/plain": [
       "Index(['principal component 1', 'principal component 2'], dtype='object')"
      ]
     },
     "execution_count": 21,
     "metadata": {},
     "output_type": "execute_result"
    }
   ],
   "source": [
    "from sklearn.decomposition import PCA\n",
    "\n",
    "pca = PCA(n_components=2)\n",
    "\n",
    "principalComponents = pca.fit_transform(X)\n",
    "\n",
    "principalDf = pd.DataFrame(data = principalComponents\n",
    "             , columns = ['principal component 1', 'principal component 2'])\n",
    "principalDf.columns\n",
    "#finalDf = pd.concat([principalDf, df[['target']]], axis = 1)"
   ]
  },
  {
   "cell_type": "code",
   "execution_count": 22,
   "metadata": {
    "collapsed": false
   },
   "outputs": [
    {
     "data": {
      "text/html": [
       "<div>\n",
       "<style scoped>\n",
       "    .dataframe tbody tr th:only-of-type {\n",
       "        vertical-align: middle;\n",
       "    }\n",
       "\n",
       "    .dataframe tbody tr th {\n",
       "        vertical-align: top;\n",
       "    }\n",
       "\n",
       "    .dataframe thead th {\n",
       "        text-align: right;\n",
       "    }\n",
       "</style>\n",
       "<table border=\"1\" class=\"dataframe\">\n",
       "  <thead>\n",
       "    <tr style=\"text-align: right;\">\n",
       "      <th></th>\n",
       "      <th>principal component 1</th>\n",
       "      <th>principal component 2</th>\n",
       "    </tr>\n",
       "  </thead>\n",
       "  <tbody>\n",
       "    <tr>\n",
       "      <th>0</th>\n",
       "      <td>-29.189379</td>\n",
       "      <td>-1.782634</td>\n",
       "    </tr>\n",
       "    <tr>\n",
       "      <th>1</th>\n",
       "      <td>0.763205</td>\n",
       "      <td>-0.942639</td>\n",
       "    </tr>\n",
       "    <tr>\n",
       "      <th>2</th>\n",
       "      <td>-27.610221</td>\n",
       "      <td>-1.789846</td>\n",
       "    </tr>\n",
       "    <tr>\n",
       "      <th>3</th>\n",
       "      <td>-21.292533</td>\n",
       "      <td>-1.188633</td>\n",
       "    </tr>\n",
       "    <tr>\n",
       "      <th>4</th>\n",
       "      <td>-194.383172</td>\n",
       "      <td>-6.723945</td>\n",
       "    </tr>\n",
       "    <tr>\n",
       "      <th>5</th>\n",
       "      <td>222.733360</td>\n",
       "      <td>-2.556531</td>\n",
       "    </tr>\n",
       "    <tr>\n",
       "      <th>6</th>\n",
       "      <td>-137.164813</td>\n",
       "      <td>11.298365</td>\n",
       "    </tr>\n",
       "    <tr>\n",
       "      <th>7</th>\n",
       "      <td>186.143553</td>\n",
       "      <td>3.685863</td>\n",
       "    </tr>\n",
       "  </tbody>\n",
       "</table>\n",
       "</div>"
      ],
      "text/plain": [
       "   principal component 1  principal component 2\n",
       "0             -29.189379              -1.782634\n",
       "1               0.763205              -0.942639\n",
       "2             -27.610221              -1.789846\n",
       "3             -21.292533              -1.188633\n",
       "4            -194.383172              -6.723945\n",
       "5             222.733360              -2.556531\n",
       "6            -137.164813              11.298365\n",
       "7             186.143553               3.685863"
      ]
     },
     "execution_count": 22,
     "metadata": {},
     "output_type": "execute_result"
    }
   ],
   "source": [
    "principalDf"
   ]
  },
  {
   "cell_type": "code",
   "execution_count": 23,
   "metadata": {
    "collapsed": false
   },
   "outputs": [
    {
     "ename": "KeyError",
     "evalue": "'a'",
     "output_type": "error",
     "traceback": [
      "\u001b[0;31m---------------------------------------------------------------------------\u001b[0m",
      "\u001b[0;31mKeyError\u001b[0m                                  Traceback (most recent call last)",
      "\u001b[0;32m/opt/conda/lib/python3.5/site-packages/pandas/core/indexes/base.py\u001b[0m in \u001b[0;36mget_loc\u001b[0;34m(self, key, method, tolerance)\u001b[0m\n\u001b[1;32m   3063\u001b[0m             \u001b[0;32mtry\u001b[0m\u001b[0;34m:\u001b[0m\u001b[0;34m\u001b[0m\u001b[0m\n\u001b[0;32m-> 3064\u001b[0;31m                 \u001b[0;32mreturn\u001b[0m \u001b[0mself\u001b[0m\u001b[0;34m.\u001b[0m\u001b[0m_engine\u001b[0m\u001b[0;34m.\u001b[0m\u001b[0mget_loc\u001b[0m\u001b[0;34m(\u001b[0m\u001b[0mkey\u001b[0m\u001b[0;34m)\u001b[0m\u001b[0;34m\u001b[0m\u001b[0m\n\u001b[0m\u001b[1;32m   3065\u001b[0m             \u001b[0;32mexcept\u001b[0m \u001b[0mKeyError\u001b[0m\u001b[0;34m:\u001b[0m\u001b[0;34m\u001b[0m\u001b[0m\n",
      "\u001b[0;32mpandas/_libs/index.pyx\u001b[0m in \u001b[0;36mpandas._libs.index.IndexEngine.get_loc\u001b[0;34m()\u001b[0m\n",
      "\u001b[0;32mpandas/_libs/index.pyx\u001b[0m in \u001b[0;36mpandas._libs.index.IndexEngine.get_loc\u001b[0;34m()\u001b[0m\n",
      "\u001b[0;32mpandas/_libs/hashtable_class_helper.pxi\u001b[0m in \u001b[0;36mpandas._libs.hashtable.PyObjectHashTable.get_item\u001b[0;34m()\u001b[0m\n",
      "\u001b[0;32mpandas/_libs/hashtable_class_helper.pxi\u001b[0m in \u001b[0;36mpandas._libs.hashtable.PyObjectHashTable.get_item\u001b[0;34m()\u001b[0m\n",
      "\u001b[0;31mKeyError\u001b[0m: 'a'",
      "\nDuring handling of the above exception, another exception occurred:\n",
      "\u001b[0;31mKeyError\u001b[0m                                  Traceback (most recent call last)",
      "\u001b[0;32m<ipython-input-23-6cdc37f3d5ed>\u001b[0m in \u001b[0;36m<module>\u001b[0;34m()\u001b[0m\n\u001b[1;32m      7\u001b[0m principalDf = pd.DataFrame(data = principalComponents\n\u001b[1;32m      8\u001b[0m              , columns = ['principal component 1', 'principal component 2'])\n\u001b[0;32m----> 9\u001b[0;31m \u001b[0mfinalDf\u001b[0m \u001b[0;34m=\u001b[0m \u001b[0mpd\u001b[0m\u001b[0;34m.\u001b[0m\u001b[0mconcat\u001b[0m\u001b[0;34m(\u001b[0m\u001b[0;34m[\u001b[0m\u001b[0mprincipalDf\u001b[0m\u001b[0;34m,\u001b[0m \u001b[0mdf\u001b[0m\u001b[0;34m[\u001b[0m\u001b[0;34m'a'\u001b[0m\u001b[0;34m]\u001b[0m\u001b[0;34m,\u001b[0m \u001b[0mdf\u001b[0m\u001b[0;34m[\u001b[0m\u001b[0;34m'b'\u001b[0m\u001b[0;34m]\u001b[0m\u001b[0;34m,\u001b[0m \u001b[0mdf\u001b[0m\u001b[0;34m[\u001b[0m\u001b[0;34m'C'\u001b[0m\u001b[0;34m]\u001b[0m\u001b[0;34m]\u001b[0m\u001b[0;34m,\u001b[0m \u001b[0maxis\u001b[0m \u001b[0;34m=\u001b[0m \u001b[0;36m1\u001b[0m\u001b[0;34m)\u001b[0m\u001b[0;34m\u001b[0m\u001b[0m\n\u001b[0m\u001b[1;32m     10\u001b[0m \u001b[0mfinalDf\u001b[0m\u001b[0;34m.\u001b[0m\u001b[0mcolumns\u001b[0m\u001b[0;34m\u001b[0m\u001b[0m\n",
      "\u001b[0;32m/opt/conda/lib/python3.5/site-packages/pandas/core/frame.py\u001b[0m in \u001b[0;36m__getitem__\u001b[0;34m(self, key)\u001b[0m\n\u001b[1;32m   2686\u001b[0m             \u001b[0;32mreturn\u001b[0m \u001b[0mself\u001b[0m\u001b[0;34m.\u001b[0m\u001b[0m_getitem_multilevel\u001b[0m\u001b[0;34m(\u001b[0m\u001b[0mkey\u001b[0m\u001b[0;34m)\u001b[0m\u001b[0;34m\u001b[0m\u001b[0m\n\u001b[1;32m   2687\u001b[0m         \u001b[0;32melse\u001b[0m\u001b[0;34m:\u001b[0m\u001b[0;34m\u001b[0m\u001b[0m\n\u001b[0;32m-> 2688\u001b[0;31m             \u001b[0;32mreturn\u001b[0m \u001b[0mself\u001b[0m\u001b[0;34m.\u001b[0m\u001b[0m_getitem_column\u001b[0m\u001b[0;34m(\u001b[0m\u001b[0mkey\u001b[0m\u001b[0;34m)\u001b[0m\u001b[0;34m\u001b[0m\u001b[0m\n\u001b[0m\u001b[1;32m   2689\u001b[0m \u001b[0;34m\u001b[0m\u001b[0m\n\u001b[1;32m   2690\u001b[0m     \u001b[0;32mdef\u001b[0m \u001b[0m_getitem_column\u001b[0m\u001b[0;34m(\u001b[0m\u001b[0mself\u001b[0m\u001b[0;34m,\u001b[0m \u001b[0mkey\u001b[0m\u001b[0;34m)\u001b[0m\u001b[0;34m:\u001b[0m\u001b[0;34m\u001b[0m\u001b[0m\n",
      "\u001b[0;32m/opt/conda/lib/python3.5/site-packages/pandas/core/frame.py\u001b[0m in \u001b[0;36m_getitem_column\u001b[0;34m(self, key)\u001b[0m\n\u001b[1;32m   2693\u001b[0m         \u001b[0;31m# get column\u001b[0m\u001b[0;34m\u001b[0m\u001b[0;34m\u001b[0m\u001b[0m\n\u001b[1;32m   2694\u001b[0m         \u001b[0;32mif\u001b[0m \u001b[0mself\u001b[0m\u001b[0;34m.\u001b[0m\u001b[0mcolumns\u001b[0m\u001b[0;34m.\u001b[0m\u001b[0mis_unique\u001b[0m\u001b[0;34m:\u001b[0m\u001b[0;34m\u001b[0m\u001b[0m\n\u001b[0;32m-> 2695\u001b[0;31m             \u001b[0;32mreturn\u001b[0m \u001b[0mself\u001b[0m\u001b[0;34m.\u001b[0m\u001b[0m_get_item_cache\u001b[0m\u001b[0;34m(\u001b[0m\u001b[0mkey\u001b[0m\u001b[0;34m)\u001b[0m\u001b[0;34m\u001b[0m\u001b[0m\n\u001b[0m\u001b[1;32m   2696\u001b[0m \u001b[0;34m\u001b[0m\u001b[0m\n\u001b[1;32m   2697\u001b[0m         \u001b[0;31m# duplicate columns & possible reduce dimensionality\u001b[0m\u001b[0;34m\u001b[0m\u001b[0;34m\u001b[0m\u001b[0m\n",
      "\u001b[0;32m/opt/conda/lib/python3.5/site-packages/pandas/core/generic.py\u001b[0m in \u001b[0;36m_get_item_cache\u001b[0;34m(self, item)\u001b[0m\n\u001b[1;32m   2484\u001b[0m         \u001b[0mres\u001b[0m \u001b[0;34m=\u001b[0m \u001b[0mcache\u001b[0m\u001b[0;34m.\u001b[0m\u001b[0mget\u001b[0m\u001b[0;34m(\u001b[0m\u001b[0mitem\u001b[0m\u001b[0;34m)\u001b[0m\u001b[0;34m\u001b[0m\u001b[0m\n\u001b[1;32m   2485\u001b[0m         \u001b[0;32mif\u001b[0m \u001b[0mres\u001b[0m \u001b[0;32mis\u001b[0m \u001b[0;32mNone\u001b[0m\u001b[0;34m:\u001b[0m\u001b[0;34m\u001b[0m\u001b[0m\n\u001b[0;32m-> 2486\u001b[0;31m             \u001b[0mvalues\u001b[0m \u001b[0;34m=\u001b[0m \u001b[0mself\u001b[0m\u001b[0;34m.\u001b[0m\u001b[0m_data\u001b[0m\u001b[0;34m.\u001b[0m\u001b[0mget\u001b[0m\u001b[0;34m(\u001b[0m\u001b[0mitem\u001b[0m\u001b[0;34m)\u001b[0m\u001b[0;34m\u001b[0m\u001b[0m\n\u001b[0m\u001b[1;32m   2487\u001b[0m             \u001b[0mres\u001b[0m \u001b[0;34m=\u001b[0m \u001b[0mself\u001b[0m\u001b[0;34m.\u001b[0m\u001b[0m_box_item_values\u001b[0m\u001b[0;34m(\u001b[0m\u001b[0mitem\u001b[0m\u001b[0;34m,\u001b[0m \u001b[0mvalues\u001b[0m\u001b[0;34m)\u001b[0m\u001b[0;34m\u001b[0m\u001b[0m\n\u001b[1;32m   2488\u001b[0m             \u001b[0mcache\u001b[0m\u001b[0;34m[\u001b[0m\u001b[0mitem\u001b[0m\u001b[0;34m]\u001b[0m \u001b[0;34m=\u001b[0m \u001b[0mres\u001b[0m\u001b[0;34m\u001b[0m\u001b[0m\n",
      "\u001b[0;32m/opt/conda/lib/python3.5/site-packages/pandas/core/internals.py\u001b[0m in \u001b[0;36mget\u001b[0;34m(self, item, fastpath)\u001b[0m\n\u001b[1;32m   4113\u001b[0m \u001b[0;34m\u001b[0m\u001b[0m\n\u001b[1;32m   4114\u001b[0m             \u001b[0;32mif\u001b[0m \u001b[0;32mnot\u001b[0m \u001b[0misna\u001b[0m\u001b[0;34m(\u001b[0m\u001b[0mitem\u001b[0m\u001b[0;34m)\u001b[0m\u001b[0;34m:\u001b[0m\u001b[0;34m\u001b[0m\u001b[0m\n\u001b[0;32m-> 4115\u001b[0;31m                 \u001b[0mloc\u001b[0m \u001b[0;34m=\u001b[0m \u001b[0mself\u001b[0m\u001b[0;34m.\u001b[0m\u001b[0mitems\u001b[0m\u001b[0;34m.\u001b[0m\u001b[0mget_loc\u001b[0m\u001b[0;34m(\u001b[0m\u001b[0mitem\u001b[0m\u001b[0;34m)\u001b[0m\u001b[0;34m\u001b[0m\u001b[0m\n\u001b[0m\u001b[1;32m   4116\u001b[0m             \u001b[0;32melse\u001b[0m\u001b[0;34m:\u001b[0m\u001b[0;34m\u001b[0m\u001b[0m\n\u001b[1;32m   4117\u001b[0m                 \u001b[0mindexer\u001b[0m \u001b[0;34m=\u001b[0m \u001b[0mnp\u001b[0m\u001b[0;34m.\u001b[0m\u001b[0marange\u001b[0m\u001b[0;34m(\u001b[0m\u001b[0mlen\u001b[0m\u001b[0;34m(\u001b[0m\u001b[0mself\u001b[0m\u001b[0;34m.\u001b[0m\u001b[0mitems\u001b[0m\u001b[0;34m)\u001b[0m\u001b[0;34m)\u001b[0m\u001b[0;34m[\u001b[0m\u001b[0misna\u001b[0m\u001b[0;34m(\u001b[0m\u001b[0mself\u001b[0m\u001b[0;34m.\u001b[0m\u001b[0mitems\u001b[0m\u001b[0;34m)\u001b[0m\u001b[0;34m]\u001b[0m\u001b[0;34m\u001b[0m\u001b[0m\n",
      "\u001b[0;32m/opt/conda/lib/python3.5/site-packages/pandas/core/indexes/base.py\u001b[0m in \u001b[0;36mget_loc\u001b[0;34m(self, key, method, tolerance)\u001b[0m\n\u001b[1;32m   3064\u001b[0m                 \u001b[0;32mreturn\u001b[0m \u001b[0mself\u001b[0m\u001b[0;34m.\u001b[0m\u001b[0m_engine\u001b[0m\u001b[0;34m.\u001b[0m\u001b[0mget_loc\u001b[0m\u001b[0;34m(\u001b[0m\u001b[0mkey\u001b[0m\u001b[0;34m)\u001b[0m\u001b[0;34m\u001b[0m\u001b[0m\n\u001b[1;32m   3065\u001b[0m             \u001b[0;32mexcept\u001b[0m \u001b[0mKeyError\u001b[0m\u001b[0;34m:\u001b[0m\u001b[0;34m\u001b[0m\u001b[0m\n\u001b[0;32m-> 3066\u001b[0;31m                 \u001b[0;32mreturn\u001b[0m \u001b[0mself\u001b[0m\u001b[0;34m.\u001b[0m\u001b[0m_engine\u001b[0m\u001b[0;34m.\u001b[0m\u001b[0mget_loc\u001b[0m\u001b[0;34m(\u001b[0m\u001b[0mself\u001b[0m\u001b[0;34m.\u001b[0m\u001b[0m_maybe_cast_indexer\u001b[0m\u001b[0;34m(\u001b[0m\u001b[0mkey\u001b[0m\u001b[0;34m)\u001b[0m\u001b[0;34m)\u001b[0m\u001b[0;34m\u001b[0m\u001b[0m\n\u001b[0m\u001b[1;32m   3067\u001b[0m \u001b[0;34m\u001b[0m\u001b[0m\n\u001b[1;32m   3068\u001b[0m         \u001b[0mindexer\u001b[0m \u001b[0;34m=\u001b[0m \u001b[0mself\u001b[0m\u001b[0;34m.\u001b[0m\u001b[0mget_indexer\u001b[0m\u001b[0;34m(\u001b[0m\u001b[0;34m[\u001b[0m\u001b[0mkey\u001b[0m\u001b[0;34m]\u001b[0m\u001b[0;34m,\u001b[0m \u001b[0mmethod\u001b[0m\u001b[0;34m=\u001b[0m\u001b[0mmethod\u001b[0m\u001b[0;34m,\u001b[0m \u001b[0mtolerance\u001b[0m\u001b[0;34m=\u001b[0m\u001b[0mtolerance\u001b[0m\u001b[0;34m)\u001b[0m\u001b[0;34m\u001b[0m\u001b[0m\n",
      "\u001b[0;32mpandas/_libs/index.pyx\u001b[0m in \u001b[0;36mpandas._libs.index.IndexEngine.get_loc\u001b[0;34m()\u001b[0m\n",
      "\u001b[0;32mpandas/_libs/index.pyx\u001b[0m in \u001b[0;36mpandas._libs.index.IndexEngine.get_loc\u001b[0;34m()\u001b[0m\n",
      "\u001b[0;32mpandas/_libs/hashtable_class_helper.pxi\u001b[0m in \u001b[0;36mpandas._libs.hashtable.PyObjectHashTable.get_item\u001b[0;34m()\u001b[0m\n",
      "\u001b[0;32mpandas/_libs/hashtable_class_helper.pxi\u001b[0m in \u001b[0;36mpandas._libs.hashtable.PyObjectHashTable.get_item\u001b[0;34m()\u001b[0m\n",
      "\u001b[0;31mKeyError\u001b[0m: 'a'"
     ]
    }
   ],
   "source": [
    "from sklearn.decomposition import PCA\n",
    "\n",
    "pca = PCA(n_components=2)\n",
    "\n",
    "principalComponents = pca.fit_transform(X)\n",
    "\n",
    "principalDf = pd.DataFrame(data = principalComponents\n",
    "             , columns = ['principal component 1', 'principal component 2'])\n",
    "finalDf = pd.concat([principalDf, df['a'], df['b'], df['C']], axis = 1)\n",
    "finalDf.columns"
   ]
  },
  {
   "cell_type": "code",
   "execution_count": null,
   "metadata": {
    "collapsed": false
   },
   "outputs": [],
   "source": [
    "finalDf"
   ]
  },
  {
   "cell_type": "code",
   "execution_count": null,
   "metadata": {
    "collapsed": false
   },
   "outputs": [],
   "source": [
    "fig = plt.figure(figsize = (8,8))\n",
    "ax = fig.add_subplot(1,1,1) \n",
    "ax.set_xlabel('Principal Component 1', fontsize = 15)\n",
    "ax.set_ylabel('Principal Component 2', fontsize = 15)\n",
    "ax.set_title('2 component PCA', fontsize = 20)\n",
    "\n",
    "targets = ['a', 'b', 'C']\n",
    "colors = ['r', 'g', 'b']\n",
    "for target, color in zip(targets,colors):\n",
    "    \n",
    "    ax.scatter(finalDf.loc[indicesToKeep, 'principal component 1']\n",
    "               , finalDf.loc[indicesToKeep, 'principal component 2']\n",
    "               , c = color\n",
    "               , s = 50)\n",
    "ax.legend(targets)\n",
    "ax.grid()"
   ]
  },
  {
   "cell_type": "code",
   "execution_count": null,
   "metadata": {
    "collapsed": false
   },
   "outputs": [],
   "source": [
    "pca.explained_variance_ratio_"
   ]
  },
  {
   "cell_type": "code",
   "execution_count": null,
   "metadata": {
    "collapsed": false
   },
   "outputs": [],
   "source": []
  },
  {
   "cell_type": "code",
   "execution_count": null,
   "metadata": {
    "collapsed": false
   },
   "outputs": [],
   "source": []
  },
  {
   "cell_type": "code",
   "execution_count": null,
   "metadata": {
    "collapsed": false
   },
   "outputs": [],
   "source": []
  },
  {
   "cell_type": "code",
   "execution_count": null,
   "metadata": {
    "collapsed": false
   },
   "outputs": [],
   "source": [
    "\n"
   ]
  },
  {
   "cell_type": "code",
   "execution_count": null,
   "metadata": {
    "collapsed": false
   },
   "outputs": [],
   "source": []
  },
  {
   "cell_type": "code",
   "execution_count": null,
   "metadata": {
    "collapsed": false
   },
   "outputs": [],
   "source": []
  },
  {
   "cell_type": "code",
   "execution_count": null,
   "metadata": {
    "collapsed": true
   },
   "outputs": [],
   "source": [
    "with open('data_dump.p','rb') as f:\n",
    "    test_opt = pickle.load(f)"
   ]
  },
  {
   "cell_type": "code",
   "execution_count": null,
   "metadata": {
    "collapsed": true
   },
   "outputs": [],
   "source": []
  },
  {
   "cell_type": "code",
   "execution_count": null,
   "metadata": {
    "collapsed": false
   },
   "outputs": [],
   "source": [
    "test_opt"
   ]
  },
  {
   "cell_type": "code",
   "execution_count": null,
   "metadata": {
    "collapsed": false
   },
   "outputs": [],
   "source": [
    "import seaborn as sns\n",
    "from matplotlib.pyplot import errorbar\n",
    "import matplotlib.pyplot as plt\n",
    "\n",
    "fig0,ax0 = plt.subplots(dim,dim,figsize=(10,10))\n",
    "plt.figure(num=None, figsize=(11, 11), dpi=80, facecolor='w', edgecolor='k')\n",
    "\n",
    "for v in test_opt.values():\n",
    "    x = 0\n",
    "    labels = []\n",
    "    plt.clf()\n",
    "    for k_,v_ in v['ranges'].items(): \n",
    "        value = v_\n",
    "\n",
    "        y = np.mean(value)\n",
    "        err = max(value)-min(value)\n",
    "        errorbar(x, y, err, marker='s', mfc='red',\n",
    "                 mec='green', ms=2, mew=4,label='in '+str(k_))\n",
    "        x+=1\n",
    "        labels.append(k_)\n",
    "    plt.xticks(np.arange(len(labels)), labels)\n",
    "    ax0[i] = plt\n",
    "\n",
    "plt.show()\n"
   ]
  },
  {
   "cell_type": "code",
   "execution_count": null,
   "metadata": {
    "collapsed": false
   },
   "outputs": [],
   "source": []
  },
  {
   "cell_type": "markdown",
   "metadata": {},
   "source": [
    "# the parameter 'd' only seems important\n",
    "# C does not have to be too precise within a range."
   ]
  },
  {
   "cell_type": "markdown",
   "metadata": {},
   "source": [
    "I consider the final gene populations for each of the eight tests. I compute the variance in each of the converged populations, I see that variance is low in many of the gene populations.\n",
    "\n",
    "When all variables are used to optomize only against one set of parameters, you expect their would be high variance in parameters, that don't matter much with respect to that error criteria (you expect redundancy of solutions).\n",
    "\n",
    "I compute std on errors over all the tests in order to estimate how amenable the problem is to multiobjective optimization."
   ]
  },
  {
   "cell_type": "code",
   "execution_count": null,
   "metadata": {
    "collapsed": false
   },
   "outputs": [],
   "source": [
    "from neuronunit.models.reduced import ReducedModel\n",
    "from neuronunit.optimization.model_parameters import model_params, path_params\n",
    "LEMS_MODEL_PATH = path_params['model_path']\n",
    "import quantities as pq\n",
    "plt.figure(num=None, figsize=(11, 11), dpi=80, facecolor='w', edgecolor='k')\n",
    "\n",
    "for k,v in test_opt.items():    \n",
    "    model = ReducedModel(LEMS_MODEL_PATH, name= str('vanilla'), backend=('RAW'))\n",
    "    model.attrs = v['out']['pf'][1].dtc.attrs\n",
    "    print(str(k), v['out']['pf'][1].dtc.get_ss())#fitness)\n",
    "    iparams = {}\n",
    "    iparams['injected_square_current'] = {}\n",
    "    iparams['injected_square_current']['amplitude'] =v['out']['pf'][1].rheobase['value']*pq.pA\n",
    "    #['amplitude']  = dtc.vtest[k]['injected_square_current']['amplitude']\n",
    "    DELAY = 100.0*pq.ms\n",
    "    DURATION = 1000.0*pq.ms\n",
    "    iparams['injected_square_current']['delay'] = DELAY\n",
    "    iparams['injected_square_current']['duration'] = int(DURATION)\n",
    "\n",
    "    model.inject_square_current(iparams)\n",
    "\n",
    "    plt.plot(model.get_membrane_potential().times,model.get_membrane_potential(),label=str(k))\n",
    "    plt.legend()\n",
    "plt.show()\n"
   ]
  },
  {
   "cell_type": "code",
   "execution_count": null,
   "metadata": {
    "collapsed": false
   },
   "outputs": [],
   "source": []
  },
  {
   "cell_type": "code",
   "execution_count": null,
   "metadata": {
    "collapsed": false
   },
   "outputs": [],
   "source": []
  },
  {
   "cell_type": "code",
   "execution_count": null,
   "metadata": {
    "collapsed": false
   },
   "outputs": [],
   "source": [
    "\n",
    "DO.seed_pop = npcl['pf'][0:MU]\n",
    "npcl, DO = om.run_ga(explore_param,10,reduced_tests,free_params=free_params,hc = hc, NSGA = False, MU = MU, seed_pop = DO.seed_pop)\n"
   ]
  },
  {
   "cell_type": "code",
   "execution_count": null,
   "metadata": {
    "collapsed": false
   },
   "outputs": [],
   "source": []
  },
  {
   "cell_type": "code",
   "execution_count": null,
   "metadata": {
    "collapsed": false
   },
   "outputs": [],
   "source": [
    "attrs_here = npcl['hardened'][0][0].attrs\n",
    "attrs_here.update(hc)\n",
    "attrs_here\n",
    "scores = npcl['hof'][0].dtc.scores\n",
    "print(scores)"
   ]
  },
  {
   "cell_type": "code",
   "execution_count": null,
   "metadata": {
    "collapsed": false
   },
   "outputs": [],
   "source": [
    "#\n",
    "use_test = test_frame[\"Neocortex pyramidal cell layer 5-6\"]\n",
    "reduced_tests = [use_test[0], use_test[-1], use_test[len(use_test)-1]]\n",
    "bigger_tests = use_test[1:-2]\n",
    "bigger_tests.insert(0,use_test[0])"
   ]
  },
  {
   "cell_type": "code",
   "execution_count": null,
   "metadata": {
    "collapsed": false
   },
   "outputs": [],
   "source": [
    "#bigger_tests = bigger_tests[-1::]\n",
    "print(bigger_tests)"
   ]
  },
  {
   "cell_type": "code",
   "execution_count": null,
   "metadata": {
    "collapsed": false
   },
   "outputs": [],
   "source": [
    "DO.seed_pop = npcl['hof'][0:MU]\n",
    "reduced_tests = [use_test[0], use_test[-1], use_test[len(use_test)-1]]\n",
    "npcl, DO = om.run_ga(explore_param,10,bigger_tests,free_params=free_params,hc = hc, NSGA = False, MU = MU)#, seed_pop = DO.seed_pop)\n"
   ]
  },
  {
   "cell_type": "code",
   "execution_count": null,
   "metadata": {
    "collapsed": false
   },
   "outputs": [],
   "source": [
    "print(npcl['hardened'][0][0].attrs)\n",
    "print(npcl['hardened'][0][0].scores)\n",
    "print(npcl['pf'][0].fitness.values)\n",
    "print(npcl['hof'][0].dtc.scores)\n",
    "\n",
    "#for t in use_test:\n",
    "#    print(t.name)\n",
    "    \n",
    "    \n",
    "pop"
   ]
  },
  {
   "cell_type": "markdown",
   "metadata": {},
   "source": [
    "# From the scores printed above, it looks like certain error criteria, are in conflict with each other.\n",
    "\n",
    "Tests, that are amenable to co-optimization appear to be:\n",
    "* Width test\n",
    "* Input resistance tets\n",
    "* Resting Potential Test,\n",
    "* Capicitance test.\n",
    "* Time constant\n",
    "\n",
    "Tests/criteria that seem in compatible with the above include: \n",
    "* Rheobase, \n",
    "* InjectedCurrentAPThresholdTest\n",
    "* InjectedCurrentAPAmplitudeTest\n",
    "\n",
    "Therefore a reduced set of lists is made to check if the bottom three are at least amenable to optimization togethor."
   ]
  },
  {
   "cell_type": "code",
   "execution_count": null,
   "metadata": {
    "collapsed": false
   },
   "outputs": [],
   "source": [
    "from sklearn.cluster import KMeans\n",
    "est = KMeans(n_clusters=2)\n",
    "est.fit(X)\n",
    "y_kmeans = est.predict(X)\n",
    "\n",
    "centers = est.cluster_centers_\n",
    "\n",
    "fig = plt.figure(fignum,figsize=(4,3))\n",
    "ax = Axes3D(fig,rect=[0,0,.95,1],elav=48,azim=134)\n",
    "ax.scatter(X[:,0],X[:,1],X[:,2],c=y_kmeans,s=50),\n",
    "ax.scatter(centres[:,0],centres[:,1],centres[:,2],c='black',s=200,alpha=0.5)"
   ]
  },
  {
   "cell_type": "code",
   "execution_count": null,
   "metadata": {
    "collapsed": false
   },
   "outputs": [],
   "source": [
    "\n",
    "print(reduced_tests)\n",
    "print(bigger_tests)\n",
    "\n",
    "DO.seed_pop = npcl['pf'][0:MU]\n",
    "npcl, DO = om.run_ga(explore_param,10,reduced_tests,free_params=free_params,hc = hc, NSGA = True, MU = 12)#, seed_pop = DO.seed_pop)\n"
   ]
  },
  {
   "cell_type": "code",
   "execution_count": null,
   "metadata": {
    "collapsed": false
   },
   "outputs": [],
   "source": [
    "import pickle\n",
    "import copy\n",
    "import numpy as np\n",
    "import pandas as pd\n",
    "import matplotlib.pyplot as plt\n",
    "#from neuronunit.optimization.optimization_management import wave_measure\n",
    "from neuronunit.models.reduced import ReducedModel\n",
    "from neuronunit.optimization.model_parameters import model_params, path_params\n",
    "LEMS_MODEL_PATH = path_params['model_path']\n",
    "import neuronunit.optimization as opt\n",
    "import quantities as pq\n",
    "fig = plt.figure()\n",
    "\n",
    "plt.clf()\n",
    "\n",
    "from neuronunit.optimization.data_transport_container import DataTC\n",
    "model = ReducedModel(LEMS_MODEL_PATH,name = str('vanilla'),backend = ('RAW'))\n",
    "for i in npcl['pf'][0:2]:\n",
    "    iparams = {}\n",
    "    iparams['injected_square_current'] = {}\n",
    "    iparams['injected_square_current']['amplitude'] =i.dtc.rheobase\n",
    "    model = None\n",
    "    model = ReducedModel(LEMS_MODEL_PATH,name = str('vanilla'),backend = ('RAW'))\n",
    "    model.set_attrs(i.dtc.attrs)\n",
    "\n",
    "    #['amplitude']  = dtc.vtest[k]['injected_square_current']['amplitude']\n",
    "    DELAY = 100.0*pq.ms\n",
    "    DURATION = 1000.0*pq.ms\n",
    "    iparams['injected_square_current']['delay'] = DELAY\n",
    "    iparams['injected_square_current']['duration'] = int(DURATION)\n",
    "    model.inject_square_current(iparams)\n",
    "    n_spikes = len(model.get_spike_train())\n",
    "    if n_spikes:\n",
    "        print(n_spikes)\n",
    "        #print(i[0].scores['RheobaseTestP']*pq.pA)\n",
    "        plt.plot(model.get_membrane_potential().times,model.get_membrane_potential())#,label='ground truth')\n",
    "        plt.legend()\n",
    "\n",
    "#gca().set_axis_off()\n",
    "#subplots_adjust(top = 1, bottom = 0, right = 1, left = 0, \n",
    "#            hspace = 0, wspace = 0)\n",
    "#margins(0,0)\n",
    "#gca().xaxis.set_major_locator(NullLocator())\n",
    "#gca().yaxis.set_major_locator(NullLocator())\n",
    "\n",
    "plt.subplots_adjust(left=0.0, right=1.0, top=0.9, bottom=0.1)\n",
    "fig.tight_layout()\n",
    "plt.show()\n",
    "\n",
    "fig.savefig(\"single_trace.png\", bbox_inches = 'tight',\n",
    "    pad_inches = 0)\n"
   ]
  },
  {
   "cell_type": "code",
   "execution_count": null,
   "metadata": {
    "collapsed": false
   },
   "outputs": [],
   "source": [
    "import pickle\n",
    "import copy\n",
    "import numpy as np\n",
    "import pandas as pd\n",
    "import matplotlib.pyplot\n",
    "\n",
    "\n",
    "from neuronunit.models.reduced import ReducedModel\n",
    "from neuronunit.optimization.model_parameters import model_params, path_params\n",
    "LEMS_MODEL_PATH = path_params['model_path']\n",
    "import neuronunit.optimization as opt\n",
    "import quantities as pq\n",
    "fig = plt.figure()\n",
    "\n",
    "plt.clf()\n",
    "\n",
    "from neuronunit.optimization.data_transport_container import DataTC\n",
    "for i in npcl['hardened']:\n",
    "    iparams = {}\n",
    "    iparams['injected_square_current'] = {}\n",
    "    iparams['injected_square_current']['amplitude'] = i[0].rheobase\n",
    "    model = None\n",
    "    model = ReducedModel(LEMS_MODEL_PATH,name = str('vanilla'),backend = ('RAW'))\n",
    "    model.set_attrs(i[0].attrs)\n",
    "\n",
    "    #['amplitude']  = dtc.vtest[k]['injected_square_current']['amplitude']\n",
    "    DELAY = 100.0*pq.ms\n",
    "    DURATION = 1000.0*pq.ms\n",
    "    iparams['injected_square_current']['delay'] = DELAY\n",
    "    iparams['injected_square_current']['duration'] = int(DURATION)\n",
    "    model.inject_square_current(iparams)\n",
    "    n_spikes = len(model.get_spike_train())\n",
    "    if n_spikes:\n",
    "        print(n_spikes)\n",
    "        print(i[0].scores['RheobaseTestP']*pq.pA)\n",
    "        plt.plot(model.get_membrane_potential().times,model.get_membrane_potential())#,label='ground truth')\n",
    "        plt.legend()\n",
    "\n",
    "#gca().set_axis_off()\n",
    "#subplots_adjust(top = 1, bottom = 0, right = 1, left = 0, \n",
    "#            hspace = 0, wspace = 0)\n",
    "#margins(0,0)\n",
    "#gca().xaxis.set_major_locator(NullLocator())\n",
    "#gca().yaxis.set_major_locator(NullLocator())\n",
    "\n",
    "plt.subplots_adjust(left=0.0, right=1.0, top=0.9, bottom=0.1)\n",
    "fig.tight_layout()\n",
    "plt.show()\n",
    "\n",
    "fig.savefig(\"single_trace.png\", bbox_inches = 'tight',\n",
    "    pad_inches = 0)\n",
    "\n",
    "\n",
    "'''\n",
    "hc = {}\n",
    "\n",
    "#free_params = ['c','k']\n",
    "for k,v in explore_param.items():\n",
    "    if k not in free_params:\n",
    "        hc[k] = v\n",
    "constants = npcl['hardened'][0][0].attrs\n",
    "hc.update(constants) \n",
    "npcl, _ = om.run_ga(explore_param,20,test_frame[\"Neocortex pyramidal cell layer 5-6\"],free_params=free_params,hc = hc, NSGA = True)\n",
    "'''"
   ]
  },
  {
   "cell_type": "code",
   "execution_count": null,
   "metadata": {
    "collapsed": false
   },
   "outputs": [],
   "source": [
    "\n",
    "free_params = ['a','b','k']#vt','c','k','d']#,'vt','k','c','C']#,'C'] # this can only be odd numbers.\n",
    "\n",
    "##\n",
    "# Use information that is available\n",
    "##\n",
    "hc = reduced_cells['RS']\n",
    "\n",
    "hc['vr'] = -65.2261863636364\n",
    "\n",
    "hc['vPeak'] = hc['vr'] + 86.364525297619\n",
    "hc['C'] = 89.7960714285714\n",
    "hc.pop('a',0)\n",
    "hc.pop('b',0)\n",
    "hc.pop('k',0)\n",
    "hc.pop('c',0)\n",
    "hc.pop('d',0)\n",
    "        \n",
    "use_test = test_frame[\"Neocortex pyramidal cell layer 5-6\"]\n",
    "#DO.seed_pop = npcl['pf']\n",
    "#ga_out = DO.run(max_ngen = 15)\n"
   ]
  },
  {
   "cell_type": "code",
   "execution_count": null,
   "metadata": {
    "collapsed": false
   },
   "outputs": [],
   "source": [
    "'''\n",
    "import pandas\n",
    "    \n",
    "try:\n",
    "    ne_raw = pandas.read_csv('article_ephys_metadata_curated.csv', delimiter='\\t')\n",
    "    !ls -ltr *.csv\n",
    "except:\n",
    "    !wget https://neuroelectro.org/static/src/article_ephys_metadata_curated.csv\n",
    "    ne_raw = pandas.read_csv('article_ephys_metadata_curated.csv', delimiter='\\t')\n",
    "\n",
    "blah = ne_raw[ne_raw['NeuronName'].str.match('Hippocampus CA1 pyramidal cell')]\n",
    "#ne_raw['NeuronName']\n",
    "#ne_raw['cell\\ capacitance']\n",
    "#blah = ne_raw[ne_raw['NeuronName'].str.match('Hippocampus CA1 pyramidal cell')]\n",
    "\n",
    "print([i for i in blah.columns])\n",
    "#rint(blah['rheobase'])\n",
    "#print(blah)\n",
    "#for i in ne_raw.columns:#['NeuronName']:\n",
    "#    print(i)\n",
    "\n",
    "#ne_raw['NeuronName'][85]\n",
    "#blah = ne_raw[ne_raw['TableID'].str.match('85')]\n",
    "#ne_raw['n'] = 84\n",
    "#here = ne_raw[ne_raw['Index']==85]\n",
    "here = ne_raw[ne_raw['TableID']==18]\n",
    "\n",
    "print(here['rheo_raw'])\n",
    "#!wget https://neuroelectro.org/apica/1/n/\n",
    "'''"
   ]
  },
  {
   "cell_type": "code",
   "execution_count": null,
   "metadata": {
    "collapsed": false
   },
   "outputs": [],
   "source": [
    "ca1 = ne_raw[ne_raw['NeuronName'].str.match('Hippocampus CA1 pyramidal cell')]\n",
    "ca1['rheo']"
   ]
  },
  {
   "cell_type": "code",
   "execution_count": null,
   "metadata": {
    "collapsed": false
   },
   "outputs": [],
   "source": [
    "\n",
    "    \n",
    "test_frame[\"Dentate gyrus basket cell\"][0].observation['std'] = test_frame[\"Dentate gyrus basket cell\"][0].observation['mean']\n",
    "for t in test_frame[\"Dentate gyrus basket cell\"]:\n",
    "    print(t.name)\n",
    "\n",
    "    print(t.observation)\n",
    "    "
   ]
  },
  {
   "cell_type": "markdown",
   "metadata": {},
   "source": [
    "\n",
    "'''\n",
    "Inibitory Neuron\n",
    "This can't pass the Rheobase test\n",
    "'''    "
   ]
  },
  {
   "cell_type": "code",
   "execution_count": null,
   "metadata": {
    "collapsed": false
   },
   "outputs": [],
   "source": [
    "\n",
    "from neuronunit.optimization import optimization_management as om\n",
    "import pickle\n",
    "\n",
    "free_params = ['a','vr','b','vt','vPeak','c','k']\n",
    "for k,v in explore_param.items():\n",
    "    if k not in free_params:\n",
    "        hc[k] = v\n",
    "use_test = test_frame[\"Dentate gyrus basket cell\"]\n",
    "bcell, _ = om.run_ga(explore_param,20,use_test,free_params=free_params,hc = hc, NSGA = True, MU = 4)\n"
   ]
  },
  {
   "cell_type": "code",
   "execution_count": null,
   "metadata": {
    "collapsed": false
   },
   "outputs": [],
   "source": [
    "\n",
    "    \n",
    "#test_frame[\"Dentate gyrus basket cell\"][0].observation['std'] = test_frame[\"Dentate gyrus basket cell\"][0].observation['mean']\n",
    "for t in test_frame[\"Hippocampus CA1 pyramidal cell\"]:\n",
    "    print(t.name)\n",
    "\n",
    "    print(t.observation)"
   ]
  },
  {
   "cell_type": "code",
   "execution_count": null,
   "metadata": {
    "collapsed": false
   },
   "outputs": [],
   "source": [
    "use_test = test_frame[\"Hippocampus CA1 pyramidal cell\"]\n",
    "bcell, _ = om.run_ga(explore_param,20,use_test,free_params=free_params,hc = hc, NSGA = True, MU = 10)\n"
   ]
  },
  {
   "cell_type": "code",
   "execution_count": null,
   "metadata": {
    "collapsed": false
   },
   "outputs": [],
   "source": [
    "import pickle\n",
    "import copy\n",
    "import numpy as np\n",
    "import pandas as pd\n",
    "import matplotlib.pyplot as plt\n",
    "\n",
    "from neuronunit.models.reduced import ReducedModel\n",
    "from neuronunit.optimization.model_parameters import model_params, path_params\n",
    "LEMS_MODEL_PATH = path_params['model_path']\n",
    "import neuronunit.optimization as opt\n",
    "import quantities as pq\n",
    "fig = plt.figure()\n",
    "\n",
    "plt.clf()\n",
    "\n",
    "from neuronunit.optimization.data_transport_container import DataTC\n",
    "for i in bcell['hardened'][0:6]:\n",
    "    iparams = {}\n",
    "    iparams['injected_square_current'] = {}\n",
    "    iparams['injected_square_current']['amplitude'] =i[0].rheobase\n",
    "    model = None\n",
    "    model = ReducedModel(LEMS_MODEL_PATH,name = str('vanilla'),backend = ('RAW'))\n",
    "    model.set_attrs(i[0].attrs)\n",
    "\n",
    "    #['amplitude']  = dtc.vtest[k]['injected_square_current']['amplitude']\n",
    "    DELAY = 100.0*pq.ms\n",
    "    DURATION = 1000.0*pq.ms\n",
    "    iparams['injected_square_current']['delay'] = DELAY\n",
    "    iparams['injected_square_current']['duration'] = int(DURATION)\n",
    "    model.inject_square_current(iparams)\n",
    "    n_spikes = len(model.get_spike_train())\n",
    "    if n_spikes:\n",
    "        print(n_spikes)\n",
    "        print(i[0].scores['RheobaseTestP']*pq.pA)\n",
    "        plt.plot(model.get_membrane_potential().times,model.get_membrane_potential())#,label='ground truth')\n",
    "        plt.legend()\n",
    "\n",
    "#gca().set_axis_off()\n",
    "#subplots_adjust(top = 1, bottom = 0, right = 1, left = 0, \n",
    "#            hspace = 0, wspace = 0)\n",
    "#margins(0,0)\n",
    "#gca().xaxis.set_major_locator(NullLocator())\n",
    "#gca().yaxis.set_major_locator(NullLocator())\n",
    "\n",
    "plt.subplots_adjust(left=0.0, right=1.0, top=0.9, bottom=0.1)\n",
    "fig.tight_layout()\n",
    "plt.show()\n",
    "\n",
    "fig.savefig(\"single_trace.png\", bbox_inches = 'tight',\n",
    "    pad_inches = 0)\n"
   ]
  },
  {
   "cell_type": "code",
   "execution_count": null,
   "metadata": {
    "collapsed": true
   },
   "outputs": [],
   "source": []
  },
  {
   "cell_type": "code",
   "execution_count": null,
   "metadata": {
    "collapsed": true
   },
   "outputs": [],
   "source": [
    "use_test = test_frame[\"Hippocampus CA1 pyramidal cell\"]\n",
    "bcell, _ = om.run_ga(explore_param,20,use_test,free_params=free_params,hc = hc, NSGA = True, MU = 10)\n"
   ]
  },
  {
   "cell_type": "markdown",
   "metadata": {},
   "source": [
    "# This cell is in markdown, but it won't be later.\n",
    "Later optimize a whole heap of cells in a loop.\n",
    "\n",
    "try:\n",
    "    import pickle\n",
    "    with open('data_dump.p','rb') as f:\n",
    "        test_opt = pickle.load(f)\n",
    "except:\n",
    "    MU = 12\n",
    "    NGEN = 25\n",
    "    cnt = 1\n",
    "    for t in use_test:        \n",
    "        if cnt==len(use_test):\n",
    "            MU = 12\n",
    "            NGEN = 20\n",
    "\n",
    "            npcl, DO = om.run_ga(explore_param,NGEN,[t],free_params=free_params, NSGA = True, MU = MU)\n",
    "        else:\n",
    "\n",
    "            npcl, DO = om.run_ga(explore_param,NGEN,[t],free_params=free_params, NSGA = True, MU = MU)\n",
    "\n",
    "        test_opt[str(t)] =  {'out':npcl}\n",
    "\n",
    "        ranges = {}\n",
    "        stds = npcl['pop'][0].dtc.attrs\n",
    "        for k in npcl['pop'][0].dtc.attrs.keys():    \n",
    "            stds[k] = []\n",
    "            ranges[k] = []\n",
    "\n",
    "\n",
    "        for i in npcl['pop'][::5]:\n",
    "            for k,v in i.dtc.attrs.items():\n",
    "                stds[k].append(v)\n",
    "                ranges[k].append(v)\n",
    "\n",
    "        for k in npcl['pop'][0].dtc.attrs.keys():\n",
    "            ranges[k] = (np.min(ranges[k][1::]),np.max(ranges[k][1::]))\n",
    "\n",
    "            stds[k] = np.std(stds[k][1::])\n",
    "        test_opt[str(t)]['stds'] = stds \n",
    "        test_opt[str(t)]['ranges'] = ranges \n",
    "\n",
    "        cnt+=1\n",
    "    \n",
    "    with open('data_dump.p','wb') as f:\n",
    "        pickle.dump(test_opt,f)\n",
    "       "
   ]
  },
  {
   "cell_type": "code",
   "execution_count": null,
   "metadata": {
    "collapsed": true
   },
   "outputs": [],
   "source": []
  },
  {
   "cell_type": "code",
   "execution_count": null,
   "metadata": {
    "collapsed": true
   },
   "outputs": [],
   "source": []
  }
 ],
 "metadata": {
  "kernelspec": {
   "display_name": "Python 3",
   "language": "python",
   "name": "python3"
  },
  "language_info": {
   "codemirror_mode": {
    "name": "ipython",
    "version": 3
   },
   "file_extension": ".py",
   "mimetype": "text/x-python",
   "name": "python",
   "nbconvert_exporter": "python",
   "pygments_lexer": "ipython3",
   "version": "3.5.2"
  }
 },
 "nbformat": 4,
 "nbformat_minor": 2
}
