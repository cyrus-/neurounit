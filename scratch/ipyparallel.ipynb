{
 "cells": [
  {
   "cell_type": "code",
   "execution_count": 1,
   "metadata": {
    "collapsed": true
   },
   "outputs": [],
   "source": [
    "import os\n",
    "import ipyparallel\n",
    "import sys\n",
    "import numpy as np\n",
    "sys.path.insert(0,\"/Users/rgerkin/dev/neuroml/pyNeuroML\")\n",
    "sys.path.insert(0,\"/Users/rgerkin/dev/scidash/neuronunit\")"
   ]
  },
  {
   "cell_type": "code",
   "execution_count": 2,
   "metadata": {
    "collapsed": false
   },
   "outputs": [],
   "source": [
    "c = ipyparallel.Client()\n",
    "dview = c[:] # The main object"
   ]
  },
  {
   "cell_type": "code",
   "execution_count": 3,
   "metadata": {
    "collapsed": false
   },
   "outputs": [
    {
     "name": "stdout",
     "output_type": "stream",
     "text": [
      "importing matplotlib on engine(s)\n"
     ]
    }
   ],
   "source": [
    "with dview.sync_imports(): # Causes each of these things to be imported on the workers as well as here.  \n",
    "    import matplotlib\n",
    "    \n",
    "def f():\n",
    "    matplotlib.use('Agg') # Need to do this before importing neuronunit on a Mac, because OSX backend won't work\n",
    "                          # on the worker threads.\n",
    "dview.apply_sync(f);"
   ]
  },
  {
   "cell_type": "code",
   "execution_count": 4,
   "metadata": {
    "collapsed": false
   },
   "outputs": [
    {
     "name": "stdout",
     "output_type": "stream",
     "text": [
      "importing sciunit on engine(s)\n",
      "importing neuronunit on engine(s)\n"
     ]
    }
   ],
   "source": [
    "with dview.sync_imports(): # Causes each of these things to be imported on the workers as well as here.  \n",
    "    import sciunit\n",
    "    import neuronunit\n",
    "import sciunit.scores\n",
    "import numpy as np"
   ]
  },
  {
   "cell_type": "code",
   "execution_count": 5,
   "metadata": {
    "collapsed": true
   },
   "outputs": [],
   "source": [
    "# A trivial model just to demonstrate ipyparallel.\n",
    "class MyModel(sciunit.Model):\n",
    "    def get_membrane_potential(self):\n",
    "        return self.params['vr']\n",
    "    def inject_square_current(self,injected):\n",
    "        pass\n",
    "    \n",
    "# Make a bunch of models like this with different resting potentials.  \n",
    "models = []\n",
    "for vr in np.linspace(-80,-50,4):\n",
    "    model = MyModel(name='V_rest=%dmV' % vr,vr=vr)\n",
    "    models.append(model)"
   ]
  },
  {
   "cell_type": "code",
   "execution_count": 6,
   "metadata": {
    "collapsed": false
   },
   "outputs": [],
   "source": [
    "# A trivial test just to demonstrate ipyparallel.\n",
    "class MyTest(sciunit.Test):\n",
    "    score_type = sciunit.scores.FloatScore\n",
    "    def generate_prediction(self,model):\n",
    "        x = model.get_membrane_potential()\n",
    "        return x\n",
    "    def compute_score(self,prediction,observation):\n",
    "        return self.score_type(prediction-observation)\n",
    "test = MyTest(observation=-65)"
   ]
  },
  {
   "cell_type": "code",
   "execution_count": 7,
   "metadata": {
    "collapsed": false
   },
   "outputs": [
    {
     "data": {
      "text/html": [
       "Executing test <i>MyTest</i> on model <i>V_rest=-80mV</i>... "
      ],
      "text/plain": [
       "<IPython.core.display.HTML object>"
      ]
     },
     "metadata": {},
     "output_type": "display_data"
    },
    {
     "data": {
      "text/html": [
       "Score is <a style=\"color: rgb(0,104,55)\">15</a>\n"
      ],
      "text/plain": [
       "<IPython.core.display.HTML object>"
      ]
     },
     "metadata": {},
     "output_type": "display_data"
    },
    {
     "data": {
      "text/html": [
       "Executing test <i>MyTest</i> on model <i>V_rest=-70mV</i>... "
      ],
      "text/plain": [
       "<IPython.core.display.HTML object>"
      ]
     },
     "metadata": {},
     "output_type": "display_data"
    },
    {
     "data": {
      "text/html": [
       "Score is <a style=\"color: rgb(0,104,55)\">5</a>\n"
      ],
      "text/plain": [
       "<IPython.core.display.HTML object>"
      ]
     },
     "metadata": {},
     "output_type": "display_data"
    },
    {
     "data": {
      "text/html": [
       "Executing test <i>MyTest</i> on model <i>V_rest=-60mV</i>... "
      ],
      "text/plain": [
       "<IPython.core.display.HTML object>"
      ]
     },
     "metadata": {},
     "output_type": "display_data"
    },
    {
     "data": {
      "text/html": [
       "Score is <a style=\"color: rgb(165,0,38)\">-5</a>\n"
      ],
      "text/plain": [
       "<IPython.core.display.HTML object>"
      ]
     },
     "metadata": {},
     "output_type": "display_data"
    },
    {
     "data": {
      "text/html": [
       "Executing test <i>MyTest</i> on model <i>V_rest=-50mV</i>... "
      ],
      "text/plain": [
       "<IPython.core.display.HTML object>"
      ]
     },
     "metadata": {},
     "output_type": "display_data"
    },
    {
     "data": {
      "text/html": [
       "Score is <a style=\"color: rgb(165,0,38)\">-15</a>\n"
      ],
      "text/plain": [
       "<IPython.core.display.HTML object>"
      ]
     },
     "metadata": {},
     "output_type": "display_data"
    },
    {
     "data": {
      "text/html": [
       "<html><body><div>\n",
       "<table border=\"1\" class=\"dataframe\" id=\"-6574808469625568456\">\n",
       "<thead>\n",
       "<tr style=\"text-align: right;\">\n",
       "<th></th>\n",
       "<th title>MyTest</th>\n",
       "</tr>\n",
       "</thead>\n",
       "<tbody>\n",
       "<tr>\n",
       "<th title=\"No description available\">V_rest=-80mV</th>\n",
       "<td style=\"background-color: rgb(0,104,55);\" title=\"A float score. A float with any value.\n",
       "There is no canonical mapping between this score type and a measure of agreement between the observation and the prediction\">15</td>\n",
       "</tr>\n",
       "<tr>\n",
       "<th title=\"No description available\">V_rest=-70mV</th>\n",
       "<td style=\"background-color: rgb(0,104,55);\" title=\"A float score. A float with any value.\n",
       "There is no canonical mapping between this score type and a measure of agreement between the observation and the prediction\">5</td>\n",
       "</tr>\n",
       "<tr>\n",
       "<th title=\"No description available\">V_rest=-60mV</th>\n",
       "<td style=\"background-color: rgb(165,0,38);\" title=\"A float score. A float with any value.\n",
       "There is no canonical mapping between this score type and a measure of agreement between the observation and the prediction\">-5</td>\n",
       "</tr>\n",
       "<tr>\n",
       "<th title=\"No description available\">V_rest=-50mV</th>\n",
       "<td style=\"background-color: rgb(165,0,38);\" title=\"A float score. A float with any value.\n",
       "There is no canonical mapping between this score type and a measure of agreement between the observation and the prediction\">-15</td>\n",
       "</tr>\n",
       "</tbody>\n",
       "</table>\n",
       "</div></body></html>"
      ],
      "text/plain": [
       "             MyTest\n",
       "V_rest=-80mV     15\n",
       "V_rest=-70mV      5\n",
       "V_rest=-60mV     -5\n",
       "V_rest=-50mV    -15"
      ]
     },
     "execution_count": 7,
     "metadata": {},
     "output_type": "execute_result"
    }
   ],
   "source": [
    "# Serial execution of this trivial model without ipyparallel, for reference.  \n",
    "test.judge(models)"
   ]
  },
  {
   "cell_type": "code",
   "execution_count": 8,
   "metadata": {
    "collapsed": false
   },
   "outputs": [
    {
     "data": {
      "text/html": [
       "<html><body><div>\n",
       "<table border=\"1\" class=\"dataframe\" id=\"-8688518283118816838\">\n",
       "<thead>\n",
       "<tr style=\"text-align: right;\">\n",
       "<th></th>\n",
       "<th title>MyTest</th>\n",
       "</tr>\n",
       "</thead>\n",
       "<tbody>\n",
       "<tr>\n",
       "<th title=\"No description available\">V_rest=-80mV</th>\n",
       "<td style=\"background-color: rgb(0,104,55);\" title=\"A float score. A float with any value.\n",
       "There is no canonical mapping between this score type and a measure of agreement between the observation and the prediction\">15</td>\n",
       "</tr>\n",
       "<tr>\n",
       "<th title=\"No description available\">V_rest=-70mV</th>\n",
       "<td style=\"background-color: rgb(0,104,55);\" title=\"A float score. A float with any value.\n",
       "There is no canonical mapping between this score type and a measure of agreement between the observation and the prediction\">5</td>\n",
       "</tr>\n",
       "<tr>\n",
       "<th title=\"No description available\">V_rest=-60mV</th>\n",
       "<td style=\"background-color: rgb(165,0,38);\" title=\"A float score. A float with any value.\n",
       "There is no canonical mapping between this score type and a measure of agreement between the observation and the prediction\">-5</td>\n",
       "</tr>\n",
       "<tr>\n",
       "<th title=\"No description available\">V_rest=-50mV</th>\n",
       "<td style=\"background-color: rgb(165,0,38);\" title=\"A float score. A float with any value.\n",
       "There is no canonical mapping between this score type and a measure of agreement between the observation and the prediction\">-15</td>\n",
       "</tr>\n",
       "</tbody>\n",
       "</table>\n",
       "</div></body></html>"
      ],
      "text/plain": [
       "             MyTest\n",
       "V_rest=-80mV     15\n",
       "V_rest=-70mV      5\n",
       "V_rest=-60mV     -5\n",
       "V_rest=-50mV    -15"
      ]
     },
     "execution_count": 8,
     "metadata": {},
     "output_type": "execute_result"
    }
   ],
   "source": [
    "# Same as above, but with ipyparallel.  \n",
    "dview.push({'MyTest':MyTest,'MyModel':MyModel}) # These classes need to be copied to the workers' namespaces.  \n",
    "scores = dview.map_sync(test.judge, models) # The map function, returning scores.  \n",
    "sciunit.ScoreMatrix([test],models,scores=scores) # Assemble the scores back into a score matrix.  "
   ]
  },
  {
   "cell_type": "code",
   "execution_count": 9,
   "metadata": {
    "collapsed": false
   },
   "outputs": [
    {
     "name": "stdout",
     "output_type": "stream",
     "text": [
      "Getting cached Resting membrane potential data values from neuroelectro.org\n",
      "Using cached value.\n"
     ]
    }
   ],
   "source": [
    "# A real test.  \n",
    "#with dview.sync_imports(): # Not sure how many of these actually need to be imported by the workers.  \n",
    "from neuronunit import tests as nu_tests, neuroelectro\n",
    "\n",
    "neuron = {'nlex_id': 'nifext_50'} # Layer V pyramidal cell\n",
    "cls = nu_tests.RestingPotentialTest\n",
    "observation = cls.neuroelectro_summary_observation(neuron)\n",
    "test = cls(observation)"
   ]
  },
  {
   "cell_type": "code",
   "execution_count": 11,
   "metadata": {
    "collapsed": false
   },
   "outputs": [],
   "source": [
    "# A real model.  \n",
    "#with dview.sync_imports(): # Not sure how many of these actually need to be imported by the workers.  \n",
    "from neuronunit.models.reduced import ReducedModel\n",
    "#from neuronunit.models.backends import jNeuroMLBackend\n",
    "\n",
    "DOCS_PATH = os.getcwd()+'/docs' # Assume this notebook is being executed from inside the neuronunit/docs directory.\n",
    "assert DOCS_PATH.endswith('neuronunit/docs'), \"Change the DOCS_PATH variable to the path to your neuronunit/docs directory\"\n",
    "LEMS_MODEL_PATH = os.path.join(DOCS_PATH,'data/NeuroML2/LEMS_2007One.xml')\n",
    "\n",
    "# We make this version of the model (setting jNeuroMLBackend by multiple inheritance)\n",
    "# because otherwise the version of the ReducedModel class that gets pushed to the workers\n",
    "# will be the vanilla one as defined in neuronunit rather than the one patched with the backend at runtime.  \n",
    "# The vanilla one does not have certain capabilties implemented (e.g. inject_square_current), which will\n",
    "# cause an NotImplementedError on the workers.  By adding jNeuroMLBackend here we create a class where this\n",
    "# method is automatically implemented.  We might consider just implementing backends in this way rather than\n",
    "# at runtime via set_backend, to avoid these kinds of problems (which might plague scoop as well).  \n",
    "\n",
    "models = []\n",
    "for vr in np.linspace(-80,-50,4):\n",
    "    model = ReducedModel(LEMS_MODEL_PATH, \n",
    "                         name='V_rest=%dmV' % vr, \n",
    "                         attrs={'//izhikevich2007Cell':\n",
    "                                    {'vr':'%d mV' % vr}\n",
    "                               },)\n",
    "    models.append(model)"
   ]
  },
  {
   "cell_type": "code",
   "execution_count": 12,
   "metadata": {
    "collapsed": false
   },
   "outputs": [],
   "source": [
    "# Now we run the test.  \n",
    "# I use the synchronous version in which we check to see if the result is finished, \n",
    "# because I think trying to get the result too early may actually screw something up.  \n",
    "scores = dview.map_sync(test.judge, models)"
   ]
  },
  {
   "cell_type": "code",
   "execution_count": 13,
   "metadata": {
    "collapsed": false
   },
   "outputs": [
    {
     "data": {
      "text/html": [
       "<html><body><div>\n",
       "<table border=\"1\" class=\"dataframe\" id=\"6725397475094558632\">\n",
       "<thead>\n",
       "<tr style=\"text-align: right;\">\n",
       "<th></th>\n",
       "<th title=\"A test of the resting potential of a cell where injected current is set to zero.\">RestingPotentialTest</th>\n",
       "</tr>\n",
       "</thead>\n",
       "<tbody>\n",
       "<tr>\n",
       "<th title=\"Base class for reduced models, using LEMS\">V_rest=-80mV</th>\n",
       "<td style=\"background-color: rgb(243,107,66);\" title=\"A Z score. A float indicating standardized difference from a reference mean.\n",
       "The difference between the means of the observation and prediction divided by the standard deviation of the observation\">Z = -1.80</td>\n",
       "</tr>\n",
       "<tr>\n",
       "<th title=\"Base class for reduced models, using LEMS\">V_rest=-70mV</th>\n",
       "<td style=\"background-color: rgb(165,217,106);\" title=\"A Z score. A float indicating standardized difference from a reference mean.\n",
       "The difference between the means of the observation and prediction divided by the standard deviation of the observation\">Z = -0.27</td>\n",
       "</tr>\n",
       "<tr>\n",
       "<th title=\"Base class for reduced models, using LEMS\">V_rest=-60mV</th>\n",
       "<td style=\"background-color: rgb(253,170,95);\" title=\"A Z score. A float indicating standardized difference from a reference mean.\n",
       "The difference between the means of the observation and prediction divided by the standard deviation of the observation\">Z = 1.26</td>\n",
       "</tr>\n",
       "<tr>\n",
       "<th title=\"Base class for reduced models, using LEMS\">V_rest=-50mV</th>\n",
       "<td style=\"background-color: rgb(230,78,52);\" title=\"A Z score. A float indicating standardized difference from a reference mean.\n",
       "The difference between the means of the observation and prediction divided by the standard deviation of the observation\">Z = 2.79</td>\n",
       "</tr>\n",
       "</tbody>\n",
       "</table>\n",
       "</div></body></html>"
      ],
      "text/plain": [
       "             RestingPotentialTest\n",
       "V_rest=-80mV            Z = -1.80\n",
       "V_rest=-70mV            Z = -0.27\n",
       "V_rest=-60mV             Z = 1.26\n",
       "V_rest=-50mV             Z = 2.79"
      ]
     },
     "execution_count": 13,
     "metadata": {},
     "output_type": "execute_result"
    }
   ],
   "source": [
    "sciunit.ScoreMatrix([test],models,scores=result)"
   ]
  },
  {
   "cell_type": "code",
   "execution_count": 14,
   "metadata": {
    "collapsed": false
   },
   "outputs": [
    {
     "data": {
      "text/html": [
       "Executing test <i>RestingPotentialTest</i> on model <i>V_rest=-80mV</i>... "
      ],
      "text/plain": [
       "<IPython.core.display.HTML object>"
      ]
     },
     "metadata": {},
     "output_type": "display_data"
    },
    {
     "name": "stdout",
     "output_type": "stream",
     "text": [
      "/var/folders/fz/8tx2ql0d7273z1kqpkcqcy7w0000gp/T/tmp5j_3es2h\n",
      "/var/folders/fz/8tx2ql0d7273z1kqpkcqcy7w0000gp/T/tmp3ok025g0\n"
     ]
    },
    {
     "data": {
      "text/html": [
       "Score is <a style=\"color: rgb(243,107,66)\">Z = -1.80</a>\n"
      ],
      "text/plain": [
       "<IPython.core.display.HTML object>"
      ]
     },
     "metadata": {},
     "output_type": "display_data"
    },
    {
     "data": {
      "text/html": [
       "Executing test <i>RestingPotentialTest</i> on model <i>V_rest=-70mV</i>... "
      ],
      "text/plain": [
       "<IPython.core.display.HTML object>"
      ]
     },
     "metadata": {},
     "output_type": "display_data"
    },
    {
     "name": "stdout",
     "output_type": "stream",
     "text": [
      "/var/folders/fz/8tx2ql0d7273z1kqpkcqcy7w0000gp/T/tmp9tkvclcc\n",
      "/var/folders/fz/8tx2ql0d7273z1kqpkcqcy7w0000gp/T/tmp7_p8ygzz\n"
     ]
    },
    {
     "data": {
      "text/html": [
       "Score is <a style=\"color: rgb(165,217,106)\">Z = -0.27</a>\n"
      ],
      "text/plain": [
       "<IPython.core.display.HTML object>"
      ]
     },
     "metadata": {},
     "output_type": "display_data"
    },
    {
     "data": {
      "text/html": [
       "Executing test <i>RestingPotentialTest</i> on model <i>V_rest=-60mV</i>... "
      ],
      "text/plain": [
       "<IPython.core.display.HTML object>"
      ]
     },
     "metadata": {},
     "output_type": "display_data"
    },
    {
     "name": "stdout",
     "output_type": "stream",
     "text": [
      "/var/folders/fz/8tx2ql0d7273z1kqpkcqcy7w0000gp/T/tmpxcwfqsat\n",
      "/var/folders/fz/8tx2ql0d7273z1kqpkcqcy7w0000gp/T/tmpsoipixii\n"
     ]
    },
    {
     "data": {
      "text/html": [
       "Score is <a style=\"color: rgb(253,170,95)\">Z = 1.26</a>\n"
      ],
      "text/plain": [
       "<IPython.core.display.HTML object>"
      ]
     },
     "metadata": {},
     "output_type": "display_data"
    },
    {
     "data": {
      "text/html": [
       "Executing test <i>RestingPotentialTest</i> on model <i>V_rest=-50mV</i>... "
      ],
      "text/plain": [
       "<IPython.core.display.HTML object>"
      ]
     },
     "metadata": {},
     "output_type": "display_data"
    },
    {
     "name": "stdout",
     "output_type": "stream",
     "text": [
      "/var/folders/fz/8tx2ql0d7273z1kqpkcqcy7w0000gp/T/tmp4a7vz_0i\n",
      "/var/folders/fz/8tx2ql0d7273z1kqpkcqcy7w0000gp/T/tmp4kjf6_4t\n"
     ]
    },
    {
     "data": {
      "text/html": [
       "Score is <a style=\"color: rgb(230,78,52)\">Z = 2.79</a>\n"
      ],
      "text/plain": [
       "<IPython.core.display.HTML object>"
      ]
     },
     "metadata": {},
     "output_type": "display_data"
    },
    {
     "data": {
      "text/html": [
       "<html><body><div>\n",
       "<table border=\"1\" class=\"dataframe\" id=\"-6363009886828792964\">\n",
       "<thead>\n",
       "<tr style=\"text-align: right;\">\n",
       "<th></th>\n",
       "<th title=\"A test of the resting potential of a cell where injected current is set to zero.\">RestingPotentialTest</th>\n",
       "</tr>\n",
       "</thead>\n",
       "<tbody>\n",
       "<tr>\n",
       "<th title=\"Base class for reduced models, using LEMS\">V_rest=-80mV</th>\n",
       "<td style=\"background-color: rgb(243,107,66);\" title=\"A Z score. A float indicating standardized difference from a reference mean.\n",
       "The difference between the means of the observation and prediction divided by the standard deviation of the observation\">Z = -1.80</td>\n",
       "</tr>\n",
       "<tr>\n",
       "<th title=\"Base class for reduced models, using LEMS\">V_rest=-70mV</th>\n",
       "<td style=\"background-color: rgb(165,217,106);\" title=\"A Z score. A float indicating standardized difference from a reference mean.\n",
       "The difference between the means of the observation and prediction divided by the standard deviation of the observation\">Z = -0.27</td>\n",
       "</tr>\n",
       "<tr>\n",
       "<th title=\"Base class for reduced models, using LEMS\">V_rest=-60mV</th>\n",
       "<td style=\"background-color: rgb(253,170,95);\" title=\"A Z score. A float indicating standardized difference from a reference mean.\n",
       "The difference between the means of the observation and prediction divided by the standard deviation of the observation\">Z = 1.26</td>\n",
       "</tr>\n",
       "<tr>\n",
       "<th title=\"Base class for reduced models, using LEMS\">V_rest=-50mV</th>\n",
       "<td style=\"background-color: rgb(230,78,52);\" title=\"A Z score. A float indicating standardized difference from a reference mean.\n",
       "The difference between the means of the observation and prediction divided by the standard deviation of the observation\">Z = 2.79</td>\n",
       "</tr>\n",
       "</tbody>\n",
       "</table>\n",
       "</div></body></html>"
      ],
      "text/plain": [
       "             RestingPotentialTest\n",
       "V_rest=-80mV            Z = -1.80\n",
       "V_rest=-70mV            Z = -0.27\n",
       "V_rest=-60mV             Z = 1.26\n",
       "V_rest=-50mV             Z = 2.79"
      ]
     },
     "execution_count": 14,
     "metadata": {},
     "output_type": "execute_result"
    }
   ],
   "source": [
    "# Serial version without ipyparallel\n",
    "test.judge(models)"
   ]
  }
 ],
 "metadata": {
  "kernelspec": {
   "display_name": "Python 3",
   "language": "python",
   "name": "python3"
  },
  "language_info": {
   "codemirror_mode": {
    "name": "ipython",
    "version": 3
   },
   "file_extension": ".py",
   "mimetype": "text/x-python",
   "name": "python",
   "nbconvert_exporter": "python",
   "pygments_lexer": "ipython3",
   "version": "3.5.2"
  }
 },
 "nbformat": 4,
 "nbformat_minor": 1
}
