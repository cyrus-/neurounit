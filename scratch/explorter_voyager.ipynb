{
 "cells": [
  {
   "cell_type": "code",
   "execution_count": null,
   "metadata": {},
   "outputs": [
    {
     "name": "stdout",
     "output_type": "stream",
     "text": [
      "importing os on engine(s)\n"
     ]
    }
   ],
   "source": [
    "import ipyparallel as ipp\n",
    "rc = ipp.Client(profile='default')\n",
    "\n",
    "rc[:].use_cloudpickle()\n",
    "\n",
    "dview = rc[:]\n",
    "\n",
    "import os\n",
    "with dview.sync_imports():\n",
    "    import os\n",
    "    \n",
    "dview.apply(os.chdir,'/home/jovyan/mnt/neuronunit/neuronunit/optimization')\n",
    "\n",
    "dview.apply(os.chdir,os.getcwd())\n",
    "\n",
    "def modify_path(THIS_DIR):\n",
    "    \n",
    "    this_nu = os.path.join(THIS_DIR,'../../')\n",
    "    sys.path.insert(0,this_nu)\n",
    "\n",
    "THIS_DIR = os.path.dirname(os.path.realpath('nsga_parallel.py'))\n",
    "dview.apply(modify_path,THIS_DIR)\n",
    "\n",
    "with dview.sync_imports():\n",
    "    import nsga_parallel\n",
    "    import get_neab\n",
    "    import utilities\n",
    "    from utilities import VirtualModel\n",
    "    from neuronunit import tests\n",
    "\n",
    "\n",
    "dview.push({'VirtualModel':VirtualModel})\n",
    "print('ehll1')"
   ]
  },
  {
   "cell_type": "code",
   "execution_count": null,
   "metadata": {},
   "outputs": [],
   "source": []
  },
  {
   "cell_type": "code",
   "execution_count": null,
   "metadata": {
    "collapsed": true
   },
   "outputs": [],
   "source": []
  },
  {
   "cell_type": "code",
   "execution_count": null,
   "metadata": {
    "collapsed": true
   },
   "outputs": [],
   "source": []
  },
  {
   "cell_type": "code",
   "execution_count": null,
   "metadata": {
    "collapsed": true
   },
   "outputs": [],
   "source": []
  },
  {
   "cell_type": "code",
   "execution_count": null,
   "metadata": {
    "collapsed": true
   },
   "outputs": [],
   "source": [
    "print(get_neab.__file__)\n",
    "print(utilities.__file__)\n",
    "print('ehll1')"
   ]
  },
  {
   "cell_type": "code",
   "execution_count": null,
   "metadata": {
    "collapsed": true
   },
   "outputs": [],
   "source": [
    "with dview.sync_imports():\n",
    "    import nsga_p_for_nb\n",
    "print('ehll1')"
   ]
  },
  {
   "cell_type": "code",
   "execution_count": null,
   "metadata": {
    "collapsed": true
   },
   "outputs": [],
   "source": [
    "#nsga_p_for_nb\n",
    "\n",
    "#for k,v in pid_map.items():\n",
    "#    print(k,v, os.getpid())\n",
    "\n",
    "from neuronunit.models import backends\n",
    "from neuronunit.models.reduced import ReducedModel\n",
    "import get_neab\n",
    "\n",
    "new_file_path = str(get_neab.LEMS_MODEL_PATH)+str(int(os.getpid()))\n",
    "os.system('cp ' + str(get_neab.LEMS_MODEL_PATH)+str(' ') + new_file_path)\n",
    "#new_file_path = str(get_neab.LEMS_MODEL_PATH)+str(os.getpid())\n",
    "from neuronunit.optimization import model_parameters\n",
    "this_model = ReducedModel( new_file_path, name=str('vanilla'), backend='NEURON')\n",
    "import nsga_p_for_nb as nsgap \n",
    "\n",
    "dview.push({'nsgap.dview':dview})\n",
    "print(nsgap.dview, 'this worked')\n",
    "\n",
    "NGEN = 2\n",
    "MU = 6\n",
    "print('ehll1')"
   ]
  },
  {
   "cell_type": "code",
   "execution_count": null,
   "metadata": {
    "collapsed": true
   },
   "outputs": [],
   "source": [
    "logbook, pf, pop, vmoffspring = nsgap.main(NGEN,MU,this_model,model_parameters)\n"
   ]
  },
  {
   "cell_type": "code",
   "execution_count": null,
   "metadata": {
    "collapsed": true
   },
   "outputs": [],
   "source": []
  },
  {
   "cell_type": "code",
   "execution_count": null,
   "metadata": {
    "collapsed": true
   },
   "outputs": [],
   "source": []
  },
  {
   "cell_type": "code",
   "execution_count": null,
   "metadata": {
    "collapsed": true
   },
   "outputs": [],
   "source": []
  },
  {
   "cell_type": "code",
   "execution_count": null,
   "metadata": {
    "collapsed": true
   },
   "outputs": [],
   "source": []
  },
  {
   "cell_type": "code",
   "execution_count": null,
   "metadata": {
    "collapsed": true
   },
   "outputs": [],
   "source": []
  },
  {
   "cell_type": "code",
   "execution_count": null,
   "metadata": {
    "collapsed": true
   },
   "outputs": [],
   "source": []
  },
  {
   "cell_type": "code",
   "execution_count": null,
   "metadata": {
    "collapsed": true
   },
   "outputs": [],
   "source": []
  }
 ],
 "metadata": {
  "kernelspec": {
   "display_name": "Python 3",
   "language": "python",
   "name": "python3"
  },
  "language_info": {
   "codemirror_mode": {
    "name": "ipython",
    "version": 3
   },
   "file_extension": ".py",
   "mimetype": "text/x-python",
   "name": "python",
   "nbconvert_exporter": "python",
   "pygments_lexer": "ipython3",
   "version": "3.5.2"
  }
 },
 "nbformat": 4,
 "nbformat_minor": 2
}
