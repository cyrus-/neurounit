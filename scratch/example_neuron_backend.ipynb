{
 "cells": [
  {
   "cell_type": "code",
   "execution_count": 1,
   "metadata": {
    "collapsed": true
   },
   "outputs": [],
   "source": [
    "import neuronunit"
   ]
  },
  {
   "cell_type": "code",
   "execution_count": 2,
   "metadata": {},
   "outputs": [],
   "source": [
    "import sys\n",
    "del sys.path[0]\n",
    "del sys.path[0]\n",
    "del sys.path[0]\n"
   ]
  },
  {
   "cell_type": "code",
   "execution_count": 3,
   "metadata": {},
   "outputs": [
    {
     "data": {
      "text/plain": [
       "['/home/jovyan/work/sciunit',\n",
       " '/home/jovyan/mnt/scratch/neuronunit',\n",
       " '/opt/conda/lib/python35.zip',\n",
       " '/opt/conda/lib/python3.5',\n",
       " '/opt/conda/lib/python3.5/plat-linux',\n",
       " '/opt/conda/lib/python3.5/lib-dynload',\n",
       " '/opt/conda/lib/python3.5/site-packages',\n",
       " '/opt/conda/lib/python3.5/site-packages/cycler-0.10.0-py3.5.egg',\n",
       " '/opt/conda/lib/python3.5/site-packages/neuronunit-0.1.8.8-py3.5.egg',\n",
       " '/opt/conda/lib/python3.5/site-packages/allensdk-0.12.4.1-py3.5.egg',\n",
       " '/opt/conda/lib/python3.5/site-packages/sciunit-0.1.5.8-py3.5.egg',\n",
       " '/opt/conda/lib/python3.5/site-packages/elephant-0.4.1-py3.5.egg',\n",
       " '/opt/conda/lib/python3.5/site-packages/argparse-1.1-py3.5.egg',\n",
       " '/opt/conda/lib/python3.5/site-packages/greenlet-0.4.12-py3.5-linux-x86_64.egg',\n",
       " '/opt/conda/lib/python3.5/site-packages/libNeuroML-0.2.30-py3.5.egg',\n",
       " '/opt/conda/lib/python3.5/site-packages/airspeed-0.5.4.dev20150515-py3.5.egg',\n",
       " '/opt/conda/lib/python3.5/site-packages/PyLEMS-0.4.9-py3.5.egg',\n",
       " '/opt/conda/lib/python3.5/site-packages/lxml-3.8.0-py3.5-linux-x86_64.egg',\n",
       " '/opt/conda/lib/python3.5/site-packages/requests_toolbelt-0.8.0-py3.5.egg',\n",
       " '/opt/conda/lib/python3.5/site-packages/pynrrd-0.2.1-py3.5.egg',\n",
       " '/opt/conda/lib/python3.5/site-packages/bs4-0.0.1-py3.5.egg',\n",
       " '/opt/conda/lib/python3.5/site-packages/cypy-0.2.0-py3.5.egg',\n",
       " '/opt/conda/lib/python3.5/site-packages/cachetools-0.8.0-py3.5.egg',\n",
       " '/opt/conda/lib/python3.5/site-packages/setuptools-27.2.0-py3.5.egg',\n",
       " '/opt/conda/lib/python3.5/site-packages/gevent-1.2.2-py3.5-linux-x86_64.egg',\n",
       " '/opt/conda/lib/python3.5/site-packages/scoop-0.7.2.0-py3.5.egg',\n",
       " '/opt/conda/lib/python3.5/site-packages/deap-1.1.0-py3.5-linux-x86_64.egg',\n",
       " '/opt/conda/lib/python3.5/site-packages/bluepyopt-1.1.295-py3.5.egg',\n",
       " '/opt/conda/lib/python3.5/site-packages/future-0.16.0-py3.5.egg',\n",
       " '/opt/conda/lib/python3.5/site-packages/efel-2.11.41-py3.5-linux-x86_64.egg',\n",
       " '/opt/conda/lib/python3.5/site-packages/pyNeuroML-0.3.0-py3.5.egg',\n",
       " '/opt/conda/lib/python3.5/site-packages/IPython/extensions',\n",
       " '/home/jovyan/.ipython']"
      ]
     },
     "execution_count": 3,
     "metadata": {},
     "output_type": "execute_result"
    }
   ],
   "source": [
    "sys.path\n"
   ]
  },
  {
   "cell_type": "code",
   "execution_count": 4,
   "metadata": {
    "collapsed": true
   },
   "outputs": [],
   "source": [
    "import neuronunit\n",
    "import sciunit"
   ]
  },
  {
   "cell_type": "code",
   "execution_count": 5,
   "metadata": {},
   "outputs": [],
   "source": [
    "from neuronunit.models import backends\n",
    "from neuron import h\n",
    "import neuron"
   ]
  },
  {
   "cell_type": "code",
   "execution_count": 6,
   "metadata": {},
   "outputs": [],
   "source": [
    "from neuronunit.tests import *\n",
    "import neuronunit.neuroelectro\n",
    "from quantities import nA, pA, s, ms, mV"
   ]
  },
  {
   "cell_type": "code",
   "execution_count": 7,
   "metadata": {},
   "outputs": [
    {
     "name": "stdout",
     "output_type": "stream",
     "text": [
      "<nrn.Section object at 0x7ff66c7b3f58>\n"
     ]
    }
   ],
   "source": [
    "soma = h.Section()\n",
    "soma.L = 100\n",
    "soma.diam = 100\n",
    "soma.cm = 10\n",
    "soma.Ra = 180\n",
    "soma.insert(\"pas\")\n",
    "soma.insert(\"hh\")\n",
    "print(soma)"
   ]
  },
  {
   "cell_type": "code",
   "execution_count": 8,
   "metadata": {},
   "outputs": [],
   "source": [
    "mod1 = backends.SingleCellModel(neuron,soma)\n",
    "mod1.reset_neuron(neuron)\n",
    "mod1.section = soma \n",
    "mod1.loc = 0.5\n",
    "mod1.name = \"SimpleHHCellModel\"\n",
    "section = soma\n",
    "mod1.set_integration_method(\"fixed\")  # Or \"variable\"\n",
    "mod1.set_time_step(1/128.0 * ms) # 2^-n are preferable\n",
    "mod1.set_tolerance(0.01) # Only needed if \"variable\"\n",
    "mod1.set_stop_time(2*s)"
   ]
  },
  {
   "cell_type": "code",
   "execution_count": null,
   "metadata": {
    "collapsed": true
   },
   "outputs": [],
   "source": []
  }
 ],
 "metadata": {
  "kernelspec": {
   "display_name": "Python 3",
   "language": "python",
   "name": "python3"
  },
  "language_info": {
   "codemirror_mode": {
    "name": "ipython",
    "version": 3
   },
   "file_extension": ".py",
   "mimetype": "text/x-python",
   "name": "python",
   "nbconvert_exporter": "python",
   "pygments_lexer": "ipython3",
   "version": "3.5.2"
  }
 },
 "nbformat": 4,
 "nbformat_minor": 2
}
