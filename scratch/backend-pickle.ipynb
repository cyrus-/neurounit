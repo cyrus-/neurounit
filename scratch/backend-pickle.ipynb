{
 "cells": [
  {
   "cell_type": "code",
   "execution_count": 1,
   "metadata": {
    "collapsed": false,
    "deletable": true,
    "editable": true
   },
   "outputs": [
    {
     "name": "stdout",
     "output_type": "stream",
     "text": [
      "Adding backend\n",
      "Initialized\n",
      "x^2 = 9\n"
     ]
    }
   ],
   "source": [
    "# Some base class that we need for this to work.  \n",
    "class Z:\n",
    "    pass\n",
    "\n",
    "# This is like the model class, e.g. ReducedModel.  \n",
    "class A(Z):\n",
    "    def __new__(cls, backend): # We override the __new__ class with our own.  \n",
    "                               # It does the hard work of setting the backend.  \n",
    "        self = super().__new__(cls)\n",
    "        print(\"Adding backend\")\n",
    "        bases = (backend.__class__,) + self.__class__.__bases__ # Add to the list of classes.  \n",
    "                                                                # The set_backend in NeuronUnit basically does this.\n",
    "        self.__class__.__bases__ = tuple(set(bases))\n",
    "        return self\n",
    "    def __init__(self, backend): # This basically just make sure the backend is stored as an \n",
    "                                 # attribute so the next method can find it.  \n",
    "        self.backend = backend\n",
    "        print(\"Initialized\")\n",
    "    def __getnewargs__(self): # This method is required by pickle to know what arguments to pass to __new__\n",
    "                              # when instances of this class are eventually unpickled.  \n",
    "                              # Otherwise __new__ will have no arguments.  \n",
    "        return (self.backend,) # A tuple containing the extra arguments to pass to __new__.  \n",
    "    \n",
    "# This is the like the backend that we want to set.  \n",
    "class B:\n",
    "    def foo(self,x): # A method that we would like A to have when an instance of B is set as the backend.  \n",
    "        print(\"x^2 = %d\" % x**2)\n",
    "\n",
    "my_backend = B() # Create an instance of the backend (this could be done inside A's __init__ as well).  \n",
    "a = A(my_backend) # Create an instance of A with the backend that we want for it.  \n",
    "a.foo(3) # Test to make sure the backend works.  "
   ]
  },
  {
   "cell_type": "code",
   "execution_count": 2,
   "metadata": {
    "collapsed": false,
    "deletable": true,
    "editable": true
   },
   "outputs": [
    {
     "name": "stdout",
     "output_type": "stream",
     "text": [
      "Adding backend\n",
      "x^2 = 16\n"
     ]
    }
   ],
   "source": [
    "import pickle\n",
    "x = pickle.dumps(a) # Pickle.  \n",
    "a2 = pickle.loads(x) # Unpickle. If we had not set the above cell correctly, this line would not work.  \n",
    "a2.foo(4) # Test to make sure the backend still works.  "
   ]
  },
  {
   "cell_type": "code",
   "execution_count": 8,
   "metadata": {
    "collapsed": false
   },
   "outputs": [],
   "source": [
    "import os\n",
    "import quantities as pq\n",
    "import neuronunit\n",
    "from neuronunit.models.reduced import ReducedModel\n",
    "LEMS_MODEL_PATH = os.path.join(os.getcwd(),'docs/data/NeuroML2/LEMS_2007One.xml')\n",
    "model = ReducedModel(LEMS_MODEL_PATH,name='vanilla',backend='jNeuroML')\n",
    "current = {'amplitude':100*pq.pA}\n",
    "model.inject_square_current(current)"
   ]
  },
  {
   "cell_type": "code",
   "execution_count": 9,
   "metadata": {
    "collapsed": false
   },
   "outputs": [],
   "source": [
    "import pickle\n",
    "x = pickle.dumps(model)\n",
    "model2 = pickle.loads(x)\n",
    "model2.inject_square_current(current)"
   ]
  }
 ],
 "metadata": {
  "kernelspec": {
   "display_name": "Python 3",
   "language": "python",
   "name": "python3"
  },
  "language_info": {
   "codemirror_mode": {
    "name": "ipython",
    "version": 3
   },
   "file_extension": ".py",
   "mimetype": "text/x-python",
   "name": "python",
   "nbconvert_exporter": "python",
   "pygments_lexer": "ipython3",
   "version": "3.5.2"
  }
 },
 "nbformat": 4,
 "nbformat_minor": 2
}
