{
 "cells": [
  {
   "cell_type": "code",
   "execution_count": 1,
   "metadata": {},
   "outputs": [
    {
     "name": "stderr",
     "output_type": "stream",
     "text": [
      "/opt/conda/lib/python3.5/site-packages/matplotlib/__init__.py:1085: UserWarning: Duplicate key in file \"/opt/conda/lib/python3.5/site-packages/matplotlib/mpl-data/matplotlibrc\", line #628\n",
      "  (fname, cnt))\n"
     ]
    }
   ],
   "source": [
    "import neuronunit\n",
    "import pandas as pd\n",
    "import numpy as np\n",
    "import sciunit.scores\n",
    "\n",
    "\n",
    "\n",
    "from scoop import futures, _control, utils, shared\n",
    "from scoop._types import FutureQueue\n",
    "from scoop.broker.structs import BrokerInfo\n",
    "\n",
    "\n",
    "#def multiworker_set(self):\n",
    "global subprocesses\n",
    "worker = subprocess.Popen([sys.executable, \"-m\", \"scoop.bootstrap.__main__\",\n",
    "                                                          \"--brokerHostname\", \"127.0.0.1\", \"--taskPort\", \"5555\",\n",
    "                                                          \"--metaPort\", \"5556\", \"test_optimization.py\"])\n",
    "subprocesses.append(worker)\n"
   ]
  },
  {
   "cell_type": "code",
   "execution_count": 4,
   "metadata": {},
   "outputs": [],
   "source": [
    "#from neuronunit.tests import nsga\n"
   ]
  },
  {
   "cell_type": "code",
   "execution_count": null,
   "metadata": {
    "collapsed": true
   },
   "outputs": [],
   "source": [
    "\n",
    "\n",
    "\n",
    "def multiworker_set():\n",
    "    global subprocesses\n",
    "    worker = subprocess.Popen([sys.executable, \"-m\", \"scoop.bootstrap.__main__\",\n",
    "    \"--brokerHostname\", \"127.0.0.1\", \"--taskPort\", \"5555\",\n",
    "    \"--metaPort\", \"5556\", \"tests.py\"])\n",
    "    subprocesses.append(worker)\n",
    "    return worker\n",
    "multiworker_set()\n",
    "def setUp():\n",
    "    global subprocesses\n",
    "    import socket, datetime, time\n",
    "\n",
    "    # Start the server\n",
    "    server = subprocess.Popen([sys.executable, \"-m\", \"scoop.broker.__main__\",\n",
    "    \"--tPort\", \"5555\", \"--mPort\", \"5556\"])\n",
    "    s = socket.socket(socket.AF_INET, socket.SOCK_STREAM)\n",
    "    begin = datetime.datetime.now()\n",
    "    while not port_ready(5555, s):\n",
    "        if (datetime.datetime.now() - begin > datetime.timedelta(seconds=3)):\n",
    "            raise Exception('Could not start server!')\n",
    "    subprocesses.append(server)\n",
    "\n",
    "    # Setup worker environment\n",
    "    scoop.IS_RUNNING = True\n",
    "    scoop.IS_ORIGIN = True\n",
    "    scoop.WORKER_NAME = 'origin'.encode()\n",
    "    scoop.BROKER_NAME = 'broker'.encode()\n",
    "    scoop.BROKER = BrokerInfo(\"127.0.0.1\",\n",
    "                              5555,\n",
    "                              5556,\n",
    "                              \"127.0.0.1\")\n",
    "    scoop.worker = (scoop.WORKER_NAME, scoop.BROKER_NAME)\n",
    "    scoop.MAIN_MODULE = \"tests.py\"\n",
    "    scoop.VALID = True\n",
    "    scoop.DEBUG = False\n",
    "    scoop.SIZE = 2\n",
    "    _control.execQueue = FutureQueue()\n",
    "setUp()\n"
   ]
  },
  {
   "cell_type": "code",
   "execution_count": null,
   "metadata": {
    "collapsed": true
   },
   "outputs": [],
   "source": [
    "class Score:\n",
    "    def __init__(self, score):\n",
    "        self.score = score\n",
    "\n",
    "class Test:\n",
    "    def _optimize(self, model):\n",
    "        # All the actual calls to optimization, scoop, DEAP, etc.\n",
    "        # All the parallel stuff is in here.\n",
    "\n",
    "        return model, [(1,2,3,4),(3,4,5,6)]\n",
    "        pass\n",
    "\n",
    "    def _get_optimization_parameters(self, some_tuples):\n",
    "        # Your specific unpacking of tuples that _optimize returns\n",
    "        parameters,errors,scores,_ = zip(*some_tuples)\n",
    "        return parameters,scores\n",
    "\n",
    "    def optimize(self, model):\n",
    "        # Do optimization including repeated calls to judge\n",
    "        model, some_tuples = self._optimize(model)\n",
    "        parameters,scores = self._get_optimization_parameters(some_tuples)\n",
    "        # Maybe rebuild the original model\n",
    "        # (i.e. restore the true class from the virtual version)\n",
    "\n",
    "        # Your code keeps parameter sets and associated scores\n",
    "        # All the organizing stuff\n",
    "\n",
    "        models = [model.__class__(p) for p in parameters]\n",
    "\n",
    "        # Make a ScoreArray (which is basically a pandas dataframe)\n",
    "        path = sciunit.ScoreArray(models,scores=scores)\n",
    "        return model, path\n",
    "\n",
    "    def judge(self, model):\n",
    "        # Do stuff\n",
    "        return Score(1)\n"
   ]
  },
  {
   "cell_type": "code",
   "execution_count": null,
   "metadata": {
    "collapsed": true
   },
   "outputs": [],
   "source": [
    "\n",
    "model = sciunit.Model()\n",
    "test = Test()\n",
    "model, path = test.optimize(model)\n"
   ]
  }
 ],
 "metadata": {
  "kernelspec": {
   "display_name": "Python 3",
   "language": "python",
   "name": "python3"
  },
  "language_info": {
   "codemirror_mode": {
    "name": "ipython",
    "version": 3
   },
   "file_extension": ".py",
   "mimetype": "text/x-python",
   "name": "python",
   "nbconvert_exporter": "python",
   "pygments_lexer": "ipython3",
   "version": "3.5.2"
  }
 },
 "nbformat": 4,
 "nbformat_minor": 2
}
