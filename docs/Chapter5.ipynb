{
 "cells": [
  {
   "cell_type": "code",
   "execution_count": 9,
   "metadata": {
    "collapsed": true
   },
   "outputs": [],
   "source": [
    "import os\n",
    "os.chdir('/home/jovyan/mnt/neuronunit/neuronunit/tests')"
   ]
  },
  {
   "cell_type": "code",
   "execution_count": 10,
   "metadata": {},
   "outputs": [
    {
     "ename": "NameError",
     "evalue": "name 'pickle' is not defined",
     "output_type": "error",
     "traceback": [
      "\u001b[1;31m---------------------------------------------------------------------------\u001b[0m",
      "\u001b[1;31mNameError\u001b[0m                                 Traceback (most recent call last)",
      "\u001b[1;32m<ipython-input-10-8e518f74b4a7>\u001b[0m in \u001b[0;36m<module>\u001b[1;34m()\u001b[0m\n\u001b[0;32m      9\u001b[0m \u001b[1;32mimport\u001b[0m \u001b[0mos\u001b[0m\u001b[1;33m\u001b[0m\u001b[0m\n\u001b[0;32m     10\u001b[0m \u001b[0mos\u001b[0m\u001b[1;33m.\u001b[0m\u001b[0msystem\u001b[0m\u001b[1;33m(\u001b[0m\u001b[1;34m'ipython -m scoop nsga.py'\u001b[0m\u001b[1;33m)\u001b[0m\u001b[1;33m\u001b[0m\u001b[0m\n\u001b[1;32m---> 11\u001b[1;33m \u001b[0mground_error\u001b[0m \u001b[1;33m=\u001b[0m \u001b[0mpickle\u001b[0m\u001b[1;33m.\u001b[0m\u001b[0mload\u001b[0m\u001b[1;33m(\u001b[0m\u001b[0mopen\u001b[0m\u001b[1;33m(\u001b[0m\u001b[1;34m'big_model_evaulated.pickle'\u001b[0m\u001b[1;33m,\u001b[0m\u001b[1;34m'wb'\u001b[0m\u001b[1;33m)\u001b[0m\u001b[1;33m)\u001b[0m\u001b[1;33m\u001b[0m\u001b[0m\n\u001b[0m\u001b[0;32m     12\u001b[0m \u001b[0mground_error_nsga\u001b[0m \u001b[1;33m=\u001b[0m \u001b[0mpickle\u001b[0m\u001b[1;33m.\u001b[0m\u001b[0mload\u001b[0m\u001b[1;33m(\u001b[0m\u001b[0mground_error_nsga\u001b[0m\u001b[1;33m,\u001b[0m\u001b[0mopen\u001b[0m\u001b[1;33m(\u001b[0m\u001b[1;34m'nsga_evaulated.pickle'\u001b[0m\u001b[1;33m,\u001b[0m\u001b[1;34m'wb'\u001b[0m\u001b[1;33m)\u001b[0m\u001b[1;33m)\u001b[0m\u001b[1;33m\u001b[0m\u001b[0m\n",
      "\u001b[1;31mNameError\u001b[0m: name 'pickle' is not defined"
     ]
    }
   ],
   "source": [
    "\n",
    "import unittest\n",
    "import scoop\n",
    "import sys\n",
    "import subprocess\n",
    "\n",
    "import sys\n",
    "import subprocess\n",
    "import os\n",
    "os.system('ipython -m scoop nsga.py')\n",
    "ground_error = pickle.load(open('big_model_evaulated.pickle','wb'))\n",
    "ground_error_nsga = pickle.load(ground_error_nsga,open('nsga_evaulated.pickle','wb'))\n"
   ]
  },
  {
   "cell_type": "code",
   "execution_count": 3,
   "metadata": {},
   "outputs": [
    {
     "name": "stdout",
     "output_type": "stream",
     "text": [
      "<module 'neuronunit.tests.model_parameters' from '/home/jovyan/neuronunit/neuronunit/tests/model_parameters.py'>\n",
      "{'v0': array([-75., -45.]), 'vr': array([-75.        , -66.66666667, -58.33333333, -50.        ]), 'k': array([ 0.00063,  0.0014 ]), 'b': array([ -3.50000000e-09,  -4.00000000e-09,  -4.50000000e-09,\n",
      "        -5.00000000e-09]), 'c': array([-55., -60.]), 'd': array([ 0.05,  0.2 ]), 'C': array([  9.00000045e-05,   1.10000005e-04]), 'a': array([ 0.   ,  0.315,  0.63 ,  0.945]), 'vpeak': array([ 30.        ,  33.33333333,  36.66666667,  40.        ]), 'vt': array([-50., -30.])}\n"
     ]
    }
   ],
   "source": [
    "class Score:\n",
    "    def __init__(self, score):\n",
    "        self.score = score\n",
    "\n",
    "class Test:\n",
    "    def _optimize(self, model):\n",
    "        # All the actual calls to optimization, scoop, DEAP, etc.\n",
    "        # All the parallel stuff is in here.\n",
    "\n",
    "        return model, [(1,2,3,4),(3,4,5,6)]\n",
    "        pass\n",
    "\n",
    "    def _get_optimization_parameters(self, some_tuples):\n",
    "        # Your specific unpacking of tuples that _optimize returns\n",
    "        parameters,errors,scores,_ = zip(*some_tuples)\n",
    "        return parameters,scores\n",
    "\n",
    "    def optimize(self, model):\n",
    "        # Do optimization including repeated calls to judge\n",
    "        model, some_tuples = self._optimize(model)\n",
    "        parameters,scores = self._get_optimization_parameters(some_tuples)\n",
    "        # Maybe rebuild the original model\n",
    "        # (i.e. restore the true class from the virtual version)\n",
    "\n",
    "        # Your code keeps parameter sets and associated scores\n",
    "        # All the organizing stuff\n",
    "\n",
    "        models = [model.__class__(p) for p in parameters]\n",
    "\n",
    "        # Make a ScoreArray (which is basically a pandas dataframe)\n",
    "        path = sciunit.ScoreArray(models,scores=scores)\n",
    "        return model, path\n",
    "\n",
    "    def judge(self, model):\n",
    "        # Do stuff\n",
    "        return Score(1)"
   ]
  },
  {
   "cell_type": "code",
   "execution_count": null,
   "metadata": {
    "collapsed": true
   },
   "outputs": [],
   "source": [
    "model = sciunit.Model()\n",
    "test = Test()\n",
    "model, path = test.optimize(model)\n"
   ]
  },
  {
   "cell_type": "code",
   "execution_count": 4,
   "metadata": {},
   "outputs": [
    {
     "name": "stdout",
     "output_type": "stream",
     "text": [
      "<module 'scoop' from '/opt/conda/lib/python3.5/site-packages/scoop-0.7.2.0-py3.5.egg/scoop/__init__.py'>\n",
      "runTest (__main__.TestScoopCommon)\n"
     ]
    }
   ],
   "source": [
    "\n",
    "from scoop import futures, _control, utils, shared\n",
    "from scoop._types import FutureQueue\n",
    "from scoop.broker.structs import BrokerInfo\n",
    "\n",
    "import subprocess\n",
    "import sys\n",
    "\n",
    "import scoop\n",
    "scoop.DEBUG = False\n",
    "scoop.WORKING_DIRECTORY=os.getcwd()\n",
    "import unittest\n",
    "import subprocess\n",
    "import time\n",
    "import copy\n",
    "import os\n",
    "import sys\n",
    "import operator\n",
    "import signal\n",
    "import math\n",
    "#def multiworker_set(self):\n",
    "global subprocesses \n",
    "def port_ready(port, socket):\n",
    "    \"\"\"Checks if a given port is already binded\"\"\"\n",
    "    try:\n",
    "        socket.connect(('127.0.0.1', port))\n",
    "    except IOError:\n",
    "        return False\n",
    "    else:\n",
    "        socket.shutdown(2)\n",
    "        socket.close()\n",
    "        return True\n",
    "\n",
    "\n",
    "class TestScoopCommon(unittest.TestCase):\n",
    "    def __init__(self, *args, **kwargs):\n",
    "        # Parent initialization\n",
    "        super(TestScoopCommon, self).__init__(*args, **kwargs)\n",
    "        global subprocesses\n",
    "        subprocesses = []\n",
    "\n",
    "    def multiworker_set(self):\n",
    "        global subprocesses\n",
    "        #subprocesses = []\n",
    "        worker = subprocess.Popen([sys.executable, \"-m\", \"scoop.bootstrap.__main__\",\n",
    "        \"--brokerHostname\", \"127.0.0.1\", \"--taskPort\", \"5555\",\n",
    "        \"--metaPort\", \"5556\", \"/home/jovyan/mnt/neuronunit/neuronunit/tests/nsga.py\"])\n",
    "        subprocesses.append(worker)\n",
    "        return worker\n",
    "\n",
    "    def setUp(self):\n",
    "        global subprocesses\n",
    "        import socket, datetime, time\n",
    "\n",
    "        # Start the server\n",
    "        self.server = subprocess.Popen([sys.executable, \"-m\", \"scoop.broker.__main__\",\n",
    "        \"--tPort\", \"5555\", \"--mPort\", \"5556\"])\n",
    "        s = socket.socket(socket.AF_INET, socket.SOCK_STREAM)\n",
    "        begin = datetime.datetime.now()\n",
    "        while not port_ready(5555, s):\n",
    "            if (datetime.datetime.now() - begin > datetime.timedelta(seconds=3)):\n",
    "                raise Exception('Could not start server!')\n",
    "        subprocesses.append(self.server)\n",
    "\n",
    "        # Setup worker environment\n",
    "        scoop.IS_RUNNING = True\n",
    "        scoop.IS_ORIGIN = True\n",
    "        scoop.WORKER_NAME = 'origin'.encode()\n",
    "        scoop.BROKER_NAME = 'broker'.encode()\n",
    "        scoop.BROKER = BrokerInfo(\"127.0.0.1\",\n",
    "                                  5555,\n",
    "                                  5556,\n",
    "                                  \"127.0.0.1\")\n",
    "        scoop.worker = (scoop.WORKER_NAME, scoop.BROKER_NAME)\n",
    "        scoop.MAIN_MODULE = \"/home/jovyan/mnt/neuronunit/neuronunit/tests/nsga.py\"\n",
    "        scoop.VALID = True\n",
    "        scoop.DEBUG = False\n",
    "        scoop.SIZE = 2\n",
    "        print(scoop)\n",
    "        _control.execQueue = FutureQueue()\n",
    "a = TestScoopCommon()\n",
    "a.multiworker_set()\n",
    "a.setUp()\n",
    "\n",
    "print(a)"
   ]
  },
  {
   "cell_type": "code",
   "execution_count": 5,
   "metadata": {},
   "outputs": [
    {
     "name": "stdout",
     "output_type": "stream",
     "text": [
      "attempting to recover from pickled file\n",
      "Ignoring included LEMS file: Cells.xml\n",
      "Ignoring included LEMS file: Networks.xml\n",
      "Ignoring included LEMS file: Simulation.xml\n",
      "Mechanisms already loaded from path: /home/jovyan/mnt/neuronunit/neuronunit/tests/NeuroML2.  Aborting.\n",
      "Ignoring included LEMS file: Cells.xml\n",
      "Ignoring included LEMS file: Networks.xml\n",
      "Ignoring included LEMS file: Simulation.xml\n",
      "<socket.socket fd=46, family=AddressFamily.AF_INET, type=SocketKind.SOCK_STREAM, proto=0, laddr=('0.0.0.0', 0)>\n",
      "<subprocess.Popen object at 0x7fa56fb165c0>\n",
      "b'origin'\n",
      "b'broker'\n",
      "<module 'scoop' from '/opt/conda/lib/python3.5/site-packages/scoop-0.7.2.0-py3.5.egg/scoop/__init__.py'>\n",
      "['__class__', '__del__', '__delattr__', '__dict__', '__dir__', '__doc__', '__enter__', '__eq__', '__exit__', '__format__', '__ge__', '__getattribute__', '__gt__', '__hash__', '__init__', '__le__', '__lt__', '__module__', '__ne__', '__new__', '__reduce__', '__reduce_ex__', '__repr__', '__setattr__', '__sizeof__', '__str__', '__subclasshook__', '__weakref__', '_check_timeout', '_child_created', '_closed_child_pipe_fds', '_communicate', '_communication_started', '_execute_child', '_get_devnull', '_get_handles', '_handle_exitstatus', '_input', '_internal_poll', '_remaining_time', '_save_input', '_stdin_write', '_translate_newlines', '_try_wait', '_waitpid_lock', 'args', 'communicate', 'kill', 'pid', 'poll', 'returncode', 'send_signal', 'stderr', 'stdin', 'stdout', 'terminate', 'universal_newlines', 'wait']\n",
      "3283\n",
      "3287\n"
     ]
    }
   ],
   "source": [
    "import neuronunit\n",
    "import pandas as pd\n",
    "import numpy as np\n",
    "import quantities\n",
    "import sciunit.scores\n",
    "\n",
    "from neuronunit.tests import nsga\n",
    "\n",
    "\n",
    "from scoop import futures, _control, utils, shared\n",
    "from scoop._types import FutureQueue\n",
    "from scoop.broker.structs import BrokerInfo\n",
    "\n",
    "import subprocess\n",
    "import sys\n",
    "\n",
    "import scoop\n",
    "scoop.DEBUG = True\n",
    "scoop.WORKING_DIRECTORY=os.getcwd()\n",
    "import unittest\n",
    "import subprocess\n",
    "import time\n",
    "import copy\n",
    "import os\n",
    "import sys\n",
    "import operator\n",
    "import signal\n",
    "import math\n",
    "#def multiworker_set(self):\n",
    "global subprocesses \n",
    "subprocesses = []\n",
    "\n",
    "def port_ready(port, socket):\n",
    "    \"\"\"Checks if a given port is already binded\"\"\"\n",
    "    try:\n",
    "        socket.connect(('127.0.0.1', port))\n",
    "    except IOError:\n",
    "        return False\n",
    "    else:\n",
    "        socket.shutdown(2)\n",
    "        socket.close()\n",
    "        return True\n",
    "\n",
    "def setUp():\n",
    "    global subprocesses\n",
    "    import socket, datetime, time\n",
    "\n",
    "    # Start the server\n",
    "    # It needs to see the main method.\n",
    "    server = subprocess.Popen([sys.executable, \"-m\", \"scoop.broker.__main__\",\n",
    "    \"--tPort\", \"5555\", \"--mPort\", \"5556\"])\n",
    "    s = socket.socket(socket.AF_INET, socket.SOCK_STREAM)\n",
    "    print(s)\n",
    "    print(server)\n",
    "    begin = datetime.datetime.now()\n",
    "    while not port_ready(5555, s):\n",
    "        if (datetime.datetime.now() - begin > datetime.timedelta(seconds=3)):\n",
    "            raise Exception('Could not start server!')\n",
    "    subprocesses.append(server)\n",
    "\n",
    "    # Setup worker environment\n",
    "    scoop.IS_RUNNING = True\n",
    "    scoop.IS_ORIGIN = True\n",
    "    scoop.WORKER_NAME = 'origin'.encode()\n",
    "    print(scoop.WORKER_NAME)\n",
    "    scoop.BROKER_NAME = 'broker'.encode()\n",
    "    print(scoop.BROKER_NAME)\n",
    "    scoop.BROKER = BrokerInfo(\"127.0.0.1\",\n",
    "                              5555,\n",
    "                              5556,\n",
    "                              \"127.0.0.1\")\n",
    "    scoop.worker = (scoop.WORKER_NAME, scoop.BROKER_NAME)\n",
    "    scoop.MAIN_MODULE = \"nsga.py\"\n",
    "    scoop.VALID = True\n",
    "    scoop.DEBUG = True\n",
    "    scoop.SIZE = 2\n",
    "    _control.execQueue = FutureQueue()\n",
    "    print(scoop)\n",
    "setUp()\n",
    "\n",
    "\n",
    "worker = subprocess.Popen([sys.executable, \"-m\", \"scoop.bootstrap.__main__\",\n",
    "                                                          \"--brokerHostname\", \"127.0.0.1\", \"--taskPort\", \"5555\",\n",
    "                                                          \"--metaPort\", \"5556\", \"nsga.py\"])\n",
    "print(dir(worker))\n",
    "subprocesses.append(worker)\n",
    "for sp in subprocesses:\n",
    "    print(sp.pid)"
   ]
  },
  {
   "cell_type": "code",
   "execution_count": null,
   "metadata": {
    "collapsed": true
   },
   "outputs": [],
   "source": []
  },
  {
   "cell_type": "code",
   "execution_count": null,
   "metadata": {
    "collapsed": true
   },
   "outputs": [],
   "source": [
    "\n"
   ]
  },
  {
   "cell_type": "code",
   "execution_count": 6,
   "metadata": {
    "collapsed": true
   },
   "outputs": [],
   "source": []
  },
  {
   "cell_type": "code",
   "execution_count": 7,
   "metadata": {
    "collapsed": true
   },
   "outputs": [],
   "source": []
  },
  {
   "cell_type": "code",
   "execution_count": null,
   "metadata": {
    "collapsed": true
   },
   "outputs": [],
   "source": []
  },
  {
   "cell_type": "code",
   "execution_count": null,
   "metadata": {
    "collapsed": true
   },
   "outputs": [],
   "source": []
  }
 ],
 "metadata": {
  "kernelspec": {
   "display_name": "Python 3",
   "language": "python",
   "name": "python3"
  },
  "language_info": {
   "codemirror_mode": {
    "name": "ipython",
    "version": 3
   },
   "file_extension": ".py",
   "mimetype": "text/x-python",
   "name": "python",
   "nbconvert_exporter": "python",
   "pygments_lexer": "ipython3",
   "version": "3.5.2"
  }
 },
 "nbformat": 4,
 "nbformat_minor": 2
}
