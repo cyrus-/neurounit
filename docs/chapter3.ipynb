{
 "cells": [
  {
   "cell_type": "markdown",
   "metadata": {},
   "source": [
    "![NeuronUnit Logo](https://raw.githubusercontent.com/scidash/assets/master/logos/neuronunit-logo-text.png)\n",
    "# Chapter 3\n",
    "Back to [Chapter 2](chapter2.ipynb)"
   ]
  },
  {
   "cell_type": "markdown",
   "metadata": {},
   "source": [
    "In the second chapter we tested a real ion channel model using data from the [OpenWorm](http://openworm.org) project.  Here we'll test a reduced neuron model using data from the [NeuroElectro](http://neuroelectro.org) project and from the [Allen Brain Institute Cell Types](http://celltypes.brain-map.org) database.  \n",
    "### We'll test an Izhikevich model against data from a Layer V pyramidal cell in primary visual cortex"
   ]
  },
  {
   "cell_type": "code",
   "execution_count": 1,
   "metadata": {},
   "outputs": [],
   "source": [
    "%matplotlib inline\n",
    "import os,sys\n",
    "import numpy as np\n",
    "import matplotlib.pyplot as plt\n",
    "import quantities as pq\n",
    "import sciunit\n",
    "import neuronunit\n",
    "from neuronunit import aibs\n",
    "from neuronunit.models.reduced import ReducedModel"
   ]
  },
  {
   "cell_type": "code",
   "execution_count": 2,
   "metadata": {},
   "outputs": [
    {
     "name": "stdout",
     "output_type": "stream",
     "text": [
      "Getting Rheobase cached data value for from AIBS dataset 354190013\n",
      "Getting Input Resistance data values from neuroelectro.org\n",
      "http://neuroelectro.org/api/1/nes/?e__name=Input+Resistance&nlex=nifext_50\n",
      "Getting Membrane Time Constant data values from neuroelectro.org\n",
      "http://neuroelectro.org/api/1/nes/?e__name=Membrane+Time+Constant&nlex=nifext_50\n",
      "Getting Cell Capacitance data values from neuroelectro.org\n",
      "http://neuroelectro.org/api/1/nes/?e__name=Cell+Capacitance&nlex=nifext_50\n",
      "Getting Resting membrane potential data values from neuroelectro.org\n",
      "http://neuroelectro.org/api/1/nes/?e__name=Resting+membrane+potential&nlex=nifext_50\n",
      "Getting Spike Half-Width data values from neuroelectro.org\n",
      "http://neuroelectro.org/api/1/nes/?e__name=Spike+Half-Width&nlex=nifext_50\n",
      "Getting Spike Amplitude data values from neuroelectro.org\n",
      "http://neuroelectro.org/api/1/nes/?e__name=Spike+Amplitude&nlex=nifext_50\n",
      "Getting Spike Threshold data values from neuroelectro.org\n",
      "http://neuroelectro.org/api/1/nes/?e__name=Spike+Threshold&nlex=nifext_50\n"
     ]
    }
   ],
   "source": [
    "import quantities as pq\n",
    "from neuronunit import tests as nu_tests, neuroelectro\n",
    "neuron = {'nlex_id': 'nifext_50'} # Layer V pyramidal cell\n",
    "tests = []\n",
    "\n",
    "dataset_id = 354190013  # Internal ID that AIBS uses for a particular Scnn1a-Tg2-Cre \n",
    "                        # Primary visual area, layer 5 neuron.\n",
    "    \n",
    "# Obtain the empirical rheobase current from the Allen Brain Insitute Cell Types database.  \n",
    "observation = aibs.get_observation(dataset_id,'rheobase')\n",
    "rheobase_test = nu_tests.RheobaseTest(observation=observation)\n",
    "tests += [rheobase_test]\n",
    "    \n",
    "test_class_params = [(nu_tests.InputResistanceTest,None),\n",
    "                     (nu_tests.TimeConstantTest,None),\n",
    "                     (nu_tests.CapacitanceTest,None),\n",
    "                     (nu_tests.RestingPotentialTest,None),\n",
    "                     (nu_tests.InjectedCurrentAPWidthTest,None),\n",
    "                     (nu_tests.InjectedCurrentAPAmplitudeTest,None),\n",
    "                     (nu_tests.InjectedCurrentAPThresholdTest,None)\n",
    "                    ]\n",
    "\n",
    "# Obtain all other parameters from neuroelectro.org.\n",
    "for cls,params in test_class_params:\n",
    "    observation = cls.neuroelectro_summary_observation(neuron)\n",
    "    tests += [cls(observation,params=params)]\n",
    "    \n",
    "# A hook to update all tests after the RheobaseTest to use the rheobase current (to produce exactly one AP)\n",
    "def update_amplitude(test,tests,score):\n",
    "    rheobase = score.prediction['value']\n",
    "    for test in tests[1:]:\n",
    "        if 'Injected' in test.name:\n",
    "            # Set current injection to just suprathreshold\n",
    "            test.params['injected_square_current']['amplitude'] = rheobase*1.01 \n",
    "    \n",
    "hooks = {tests[0]:{'f':update_amplitude}}\n",
    "suite = sciunit.TestSuite(tests,name=\"vm_suite\",hooks=hooks)"
   ]
  },
  {
   "cell_type": "markdown",
   "metadata": {},
   "source": [
    "### The Izhikevich model here is defined in an NeuroML2/LEMS file.  \n",
    "### We will run it using the jNeuroML backend for simplicity, although this is *much* slower than the native NEURON backend.  "
   ]
  },
  {
   "cell_type": "code",
   "execution_count": 3,
   "metadata": {},
   "outputs": [],
   "source": [
    "# This example is from https://github.com/OpenSourceBrain/IzhikevichModel.\n",
    "for rel_path in ['.','docs','../docs']:\n",
    "    # Check to see if this is the neuronunit/docs directory.\n",
    "    DOCS_PATH = os.path.abspath(os.path.join(os.getcwd(),rel_path)) \n",
    "    if DOCS_PATH.endswith('neuronunit/docs'):\n",
    "        break\n",
    "assert DOCS_PATH.endswith('neuronunit/docs'), (\"Could not find the path to neuronunit/docs. \"\n",
    "                                               \"Change the DOCS_PATH variable to the path to \"\n",
    "                                               \"your neuronunit/docs directory.\")\n",
    "LEMS_MODEL_PATH = os.path.join(DOCS_PATH,'data/NeuroML2/LEMS_2007One.xml')\n",
    "model = ReducedModel(LEMS_MODEL_PATH,name='vanilla',backend='jNeuroML')"
   ]
  },
  {
   "cell_type": "markdown",
   "metadata": {},
   "source": [
    "### Run a series of tests.  The RheobaseTest is run first to obtain the rheobase current to use in all the other tests."
   ]
  },
  {
   "cell_type": "code",
   "execution_count": 4,
   "metadata": {},
   "outputs": [
    {
     "data": {
      "text/html": [
       "Executing test <i>RheobaseTest</i> on model <i>vanilla</i>... "
      ],
      "text/plain": [
       "<IPython.core.display.HTML object>"
      ]
     },
     "metadata": {},
     "output_type": "display_data"
    },
    {
     "name": "stdout",
     "output_type": "stream",
     "text": [
      "pyNeuroML >>> Reloading data specified in LEMS file: /var/folders/_j/vg2m860n23d_9ty1h2z9_2880000gn/T/tmpa_c2e9xh/vanilla.xml (/private/var/folders/_j/vg2m860n23d_9ty1h2z9_2880000gn/T/tmpa_c2e9xh/vanilla.xml), base_dir: /var/folders/_j/vg2m860n23d_9ty1h2z9_2880000gn/T/tmp46doda0y, cwd: /Users/rgerkin/Dropbox/dev/scidash/neuronunit/docs\n",
      "Injected 300.0 pA current and got 17 spikes\n",
      "pyNeuroML >>> Reloading data specified in LEMS file: /var/folders/_j/vg2m860n23d_9ty1h2z9_2880000gn/T/tmpa_c2e9xh/vanilla.xml (/private/var/folders/_j/vg2m860n23d_9ty1h2z9_2880000gn/T/tmpa_c2e9xh/vanilla.xml), base_dir: /var/folders/_j/vg2m860n23d_9ty1h2z9_2880000gn/T/tmp0bu0m549, cwd: /Users/rgerkin/Dropbox/dev/scidash/neuronunit/docs\n",
      "Injected -0.0 pA current and got 0 spikes\n",
      "pyNeuroML >>> Reloading data specified in LEMS file: /var/folders/_j/vg2m860n23d_9ty1h2z9_2880000gn/T/tmpa_c2e9xh/vanilla.xml (/private/var/folders/_j/vg2m860n23d_9ty1h2z9_2880000gn/T/tmpa_c2e9xh/vanilla.xml), base_dir: /var/folders/_j/vg2m860n23d_9ty1h2z9_2880000gn/T/tmpw_sq9rvf, cwd: /Users/rgerkin/Dropbox/dev/scidash/neuronunit/docs\n",
      "Injected 150.0 pA current and got 8 spikes\n",
      "pyNeuroML >>> Reloading data specified in LEMS file: /var/folders/_j/vg2m860n23d_9ty1h2z9_2880000gn/T/tmpa_c2e9xh/vanilla.xml (/private/var/folders/_j/vg2m860n23d_9ty1h2z9_2880000gn/T/tmpa_c2e9xh/vanilla.xml), base_dir: /var/folders/_j/vg2m860n23d_9ty1h2z9_2880000gn/T/tmpiamt417a, cwd: /Users/rgerkin/Dropbox/dev/scidash/neuronunit/docs\n",
      "Injected 75.0 pA current and got 2 spikes\n",
      "pyNeuroML >>> Reloading data specified in LEMS file: /var/folders/_j/vg2m860n23d_9ty1h2z9_2880000gn/T/tmpa_c2e9xh/vanilla.xml (/private/var/folders/_j/vg2m860n23d_9ty1h2z9_2880000gn/T/tmpa_c2e9xh/vanilla.xml), base_dir: /var/folders/_j/vg2m860n23d_9ty1h2z9_2880000gn/T/tmpo0kcmr_l, cwd: /Users/rgerkin/Dropbox/dev/scidash/neuronunit/docs\n",
      "Injected 37.5 pA current and got 0 spikes\n",
      "pyNeuroML >>> Reloading data specified in LEMS file: /var/folders/_j/vg2m860n23d_9ty1h2z9_2880000gn/T/tmpa_c2e9xh/vanilla.xml (/private/var/folders/_j/vg2m860n23d_9ty1h2z9_2880000gn/T/tmpa_c2e9xh/vanilla.xml), base_dir: /var/folders/_j/vg2m860n23d_9ty1h2z9_2880000gn/T/tmpjwzjqckr, cwd: /Users/rgerkin/Dropbox/dev/scidash/neuronunit/docs\n",
      "Injected 56.25 pA current and got 1 spikes\n",
      "pyNeuroML >>> Reloading data specified in LEMS file: /var/folders/_j/vg2m860n23d_9ty1h2z9_2880000gn/T/tmpa_c2e9xh/vanilla.xml (/private/var/folders/_j/vg2m860n23d_9ty1h2z9_2880000gn/T/tmpa_c2e9xh/vanilla.xml), base_dir: /var/folders/_j/vg2m860n23d_9ty1h2z9_2880000gn/T/tmpui008j85, cwd: /Users/rgerkin/Dropbox/dev/scidash/neuronunit/docs\n",
      "Injected 46.875 pA current and got 0 spikes\n",
      "pyNeuroML >>> Reloading data specified in LEMS file: /var/folders/_j/vg2m860n23d_9ty1h2z9_2880000gn/T/tmpa_c2e9xh/vanilla.xml (/private/var/folders/_j/vg2m860n23d_9ty1h2z9_2880000gn/T/tmpa_c2e9xh/vanilla.xml), base_dir: /var/folders/_j/vg2m860n23d_9ty1h2z9_2880000gn/T/tmpytyp7uk0, cwd: /Users/rgerkin/Dropbox/dev/scidash/neuronunit/docs\n",
      "Injected 51.5625 pA current and got 0 spikes\n",
      "pyNeuroML >>> Reloading data specified in LEMS file: /var/folders/_j/vg2m860n23d_9ty1h2z9_2880000gn/T/tmpa_c2e9xh/vanilla.xml (/private/var/folders/_j/vg2m860n23d_9ty1h2z9_2880000gn/T/tmpa_c2e9xh/vanilla.xml), base_dir: /var/folders/_j/vg2m860n23d_9ty1h2z9_2880000gn/T/tmpa6uwqpuc, cwd: /Users/rgerkin/Dropbox/dev/scidash/neuronunit/docs\n",
      "Injected 53.90625 pA current and got 0 spikes\n",
      "pyNeuroML >>> Reloading data specified in LEMS file: /var/folders/_j/vg2m860n23d_9ty1h2z9_2880000gn/T/tmpa_c2e9xh/vanilla.xml (/private/var/folders/_j/vg2m860n23d_9ty1h2z9_2880000gn/T/tmpa_c2e9xh/vanilla.xml), base_dir: /var/folders/_j/vg2m860n23d_9ty1h2z9_2880000gn/T/tmp_jcnkhg9, cwd: /Users/rgerkin/Dropbox/dev/scidash/neuronunit/docs\n",
      "Injected 55.078125 pA current and got 1 spikes\n",
      "pyNeuroML >>> Reloading data specified in LEMS file: /var/folders/_j/vg2m860n23d_9ty1h2z9_2880000gn/T/tmpa_c2e9xh/vanilla.xml (/private/var/folders/_j/vg2m860n23d_9ty1h2z9_2880000gn/T/tmpa_c2e9xh/vanilla.xml), base_dir: /var/folders/_j/vg2m860n23d_9ty1h2z9_2880000gn/T/tmptbco_cpa, cwd: /Users/rgerkin/Dropbox/dev/scidash/neuronunit/docs\n",
      "Injected 54.4921875 pA current and got 0 spikes\n",
      "Highest subthreshold current is 54.49 pA\n",
      "Lowest suprathreshold current is 55.08 pA\n"
     ]
    },
    {
     "data": {
      "text/html": [
       "Score is <a style=\"color: rgb(193,229,123)\">Ratio = 0.42</a>\n"
      ],
      "text/plain": [
       "<IPython.core.display.HTML object>"
      ]
     },
     "metadata": {},
     "output_type": "display_data"
    },
    {
     "data": {
      "text/html": [
       "Executing test <i>InputResistanceTest</i> on model <i>vanilla</i>... "
      ],
      "text/plain": [
       "<IPython.core.display.HTML object>"
      ]
     },
     "metadata": {},
     "output_type": "display_data"
    },
    {
     "name": "stdout",
     "output_type": "stream",
     "text": [
      "pyNeuroML >>> Reloading data specified in LEMS file: /var/folders/_j/vg2m860n23d_9ty1h2z9_2880000gn/T/tmpa_c2e9xh/vanilla.xml (/private/var/folders/_j/vg2m860n23d_9ty1h2z9_2880000gn/T/tmpa_c2e9xh/vanilla.xml), base_dir: /var/folders/_j/vg2m860n23d_9ty1h2z9_2880000gn/T/tmpi192r5ow, cwd: /Users/rgerkin/Dropbox/dev/scidash/neuronunit/docs\n",
      "pyNeuroML >>> Reloading data specified in LEMS file: /var/folders/_j/vg2m860n23d_9ty1h2z9_2880000gn/T/tmpa_c2e9xh/vanilla.xml (/private/var/folders/_j/vg2m860n23d_9ty1h2z9_2880000gn/T/tmpa_c2e9xh/vanilla.xml), base_dir: /var/folders/_j/vg2m860n23d_9ty1h2z9_2880000gn/T/tmpjwi8z4by, cwd: /Users/rgerkin/Dropbox/dev/scidash/neuronunit/docs\n"
     ]
    },
    {
     "data": {
      "text/html": [
       "Score is <a style=\"color: rgb(232,246,160)\">Z = -0.55</a>\n"
      ],
      "text/plain": [
       "<IPython.core.display.HTML object>"
      ]
     },
     "metadata": {},
     "output_type": "display_data"
    },
    {
     "data": {
      "text/html": [
       "Executing test <i>TimeConstantTest</i> on model <i>vanilla</i>... "
      ],
      "text/plain": [
       "<IPython.core.display.HTML object>"
      ]
     },
     "metadata": {},
     "output_type": "display_data"
    },
    {
     "data": {
      "text/html": [
       "Score is <a style=\"color: rgb(250,152,87)\">Z = -1.38</a>\n"
      ],
      "text/plain": [
       "<IPython.core.display.HTML object>"
      ]
     },
     "metadata": {},
     "output_type": "display_data"
    },
    {
     "data": {
      "text/html": [
       "Executing test <i>CapacitanceTest</i> on model <i>vanilla</i>... "
      ],
      "text/plain": [
       "<IPython.core.display.HTML object>"
      ]
     },
     "metadata": {},
     "output_type": "display_data"
    },
    {
     "data": {
      "text/html": [
       "Score is <a style=\"color: rgb(235,247,164)\">Z = -0.56</a>\n"
      ],
      "text/plain": [
       "<IPython.core.display.HTML object>"
      ]
     },
     "metadata": {},
     "output_type": "display_data"
    },
    {
     "data": {
      "text/html": [
       "Executing test <i>RestingPotentialTest</i> on model <i>vanilla</i>... "
      ],
      "text/plain": [
       "<IPython.core.display.HTML object>"
      ]
     },
     "metadata": {},
     "output_type": "display_data"
    },
    {
     "name": "stdout",
     "output_type": "stream",
     "text": [
      "pyNeuroML >>> Reloading data specified in LEMS file: /var/folders/_j/vg2m860n23d_9ty1h2z9_2880000gn/T/tmpa_c2e9xh/vanilla.xml (/private/var/folders/_j/vg2m860n23d_9ty1h2z9_2880000gn/T/tmpa_c2e9xh/vanilla.xml), base_dir: /var/folders/_j/vg2m860n23d_9ty1h2z9_2880000gn/T/tmprc9xx5ja, cwd: /Users/rgerkin/Dropbox/dev/scidash/neuronunit/docs\n"
     ]
    },
    {
     "data": {
      "text/html": [
       "Score is <a style=\"color: rgb(253,170,95)\">Z = 1.26</a>\n"
      ],
      "text/plain": [
       "<IPython.core.display.HTML object>"
      ]
     },
     "metadata": {},
     "output_type": "display_data"
    },
    {
     "data": {
      "text/html": [
       "Executing test <i>InjectedCurrentAPWidthTest</i> on model <i>vanilla</i>... "
      ],
      "text/plain": [
       "<IPython.core.display.HTML object>"
      ]
     },
     "metadata": {},
     "output_type": "display_data"
    },
    {
     "name": "stdout",
     "output_type": "stream",
     "text": [
      "pyNeuroML >>> Reloading data specified in LEMS file: /var/folders/_j/vg2m860n23d_9ty1h2z9_2880000gn/T/tmpa_c2e9xh/vanilla.xml (/private/var/folders/_j/vg2m860n23d_9ty1h2z9_2880000gn/T/tmpa_c2e9xh/vanilla.xml), base_dir: /var/folders/_j/vg2m860n23d_9ty1h2z9_2880000gn/T/tmpu_mgo1lc, cwd: /Users/rgerkin/Dropbox/dev/scidash/neuronunit/docs\n"
     ]
    },
    {
     "data": {
      "text/html": [
       "Score is <a style=\"color: rgb(244,251,176)\">Z = -0.61</a>\n"
      ],
      "text/plain": [
       "<IPython.core.display.HTML object>"
      ]
     },
     "metadata": {},
     "output_type": "display_data"
    },
    {
     "data": {
      "text/html": [
       "Executing test <i>InjectedCurrentAPAmplitudeTest</i> on model <i>vanilla</i>... "
      ],
      "text/plain": [
       "<IPython.core.display.HTML object>"
      ]
     },
     "metadata": {},
     "output_type": "display_data"
    },
    {
     "data": {
      "text/html": [
       "Score is <a style=\"color: rgb(245,114,69)\">Z = -1.72</a>\n"
      ],
      "text/plain": [
       "<IPython.core.display.HTML object>"
      ]
     },
     "metadata": {},
     "output_type": "display_data"
    },
    {
     "data": {
      "text/html": [
       "Executing test <i>InjectedCurrentAPThresholdTest</i> on model <i>vanilla</i>... "
      ],
      "text/plain": [
       "<IPython.core.display.HTML object>"
      ]
     },
     "metadata": {},
     "output_type": "display_data"
    },
    {
     "data": {
      "text/html": [
       "Score is <a style=\"color: rgb(233,85,56)\">Z = 2.38</a>\n"
      ],
      "text/plain": [
       "<IPython.core.display.HTML object>"
      ]
     },
     "metadata": {},
     "output_type": "display_data"
    }
   ],
   "source": [
    "score_matrix = suite.judge(model)"
   ]
  },
  {
   "cell_type": "markdown",
   "metadata": {},
   "source": [
    "### Now we can sweep across a parameter (the resting potential) and run the same test suite on a model corresponding to each value of this parameter."
   ]
  },
  {
   "cell_type": "code",
   "execution_count": 5,
   "metadata": {},
   "outputs": [],
   "source": [
    "models = []\n",
    "for vr in np.linspace(-80,-50,4):\n",
    "    model = ReducedModel(LEMS_MODEL_PATH, \n",
    "                         name='V_rest=%dmV' % vr, \n",
    "                         attrs={'//izhikevich2007Cell':\n",
    "                                    {'vr':'%d mV' % vr}\n",
    "                               })\n",
    "    #model.skip_run = True\n",
    "    models.append(model)\n",
    "suite.set_verbose(False) # Turn off most print statements.  "
   ]
  },
  {
   "cell_type": "code",
   "execution_count": 6,
   "metadata": {},
   "outputs": [
    {
     "data": {
      "text/html": [
       "Executing test <i>RheobaseTest</i> on model <i>V_rest=-80mV</i>... "
      ],
      "text/plain": [
       "<IPython.core.display.HTML object>"
      ]
     },
     "metadata": {},
     "output_type": "display_data"
    },
    {
     "name": "stdout",
     "output_type": "stream",
     "text": [
      "pyNeuroML >>> Reloading data specified in LEMS file: /var/folders/_j/vg2m860n23d_9ty1h2z9_2880000gn/T/tmpt7q8xdbr/V_rest=-80mV.xml (/private/var/folders/_j/vg2m860n23d_9ty1h2z9_2880000gn/T/tmpt7q8xdbr/V_rest=-80mV.xml), base_dir: /var/folders/_j/vg2m860n23d_9ty1h2z9_2880000gn/T/tmpp_fgr6s3, cwd: /Users/rgerkin/Dropbox/dev/scidash/neuronunit/docs\n",
      "pyNeuroML >>> Reloading data specified in LEMS file: /var/folders/_j/vg2m860n23d_9ty1h2z9_2880000gn/T/tmpt7q8xdbr/V_rest=-80mV.xml (/private/var/folders/_j/vg2m860n23d_9ty1h2z9_2880000gn/T/tmpt7q8xdbr/V_rest=-80mV.xml), base_dir: /var/folders/_j/vg2m860n23d_9ty1h2z9_2880000gn/T/tmpp871lxef, cwd: /Users/rgerkin/Dropbox/dev/scidash/neuronunit/docs\n",
      "pyNeuroML >>> Reloading data specified in LEMS file: /var/folders/_j/vg2m860n23d_9ty1h2z9_2880000gn/T/tmpt7q8xdbr/V_rest=-80mV.xml (/private/var/folders/_j/vg2m860n23d_9ty1h2z9_2880000gn/T/tmpt7q8xdbr/V_rest=-80mV.xml), base_dir: /var/folders/_j/vg2m860n23d_9ty1h2z9_2880000gn/T/tmphocuyv2n, cwd: /Users/rgerkin/Dropbox/dev/scidash/neuronunit/docs\n",
      "pyNeuroML >>> Reloading data specified in LEMS file: /var/folders/_j/vg2m860n23d_9ty1h2z9_2880000gn/T/tmpt7q8xdbr/V_rest=-80mV.xml (/private/var/folders/_j/vg2m860n23d_9ty1h2z9_2880000gn/T/tmpt7q8xdbr/V_rest=-80mV.xml), base_dir: /var/folders/_j/vg2m860n23d_9ty1h2z9_2880000gn/T/tmpe77b1jhl, cwd: /Users/rgerkin/Dropbox/dev/scidash/neuronunit/docs\n",
      "pyNeuroML >>> Reloading data specified in LEMS file: /var/folders/_j/vg2m860n23d_9ty1h2z9_2880000gn/T/tmpt7q8xdbr/V_rest=-80mV.xml (/private/var/folders/_j/vg2m860n23d_9ty1h2z9_2880000gn/T/tmpt7q8xdbr/V_rest=-80mV.xml), base_dir: /var/folders/_j/vg2m860n23d_9ty1h2z9_2880000gn/T/tmpcmg1ik_g, cwd: /Users/rgerkin/Dropbox/dev/scidash/neuronunit/docs\n",
      "pyNeuroML >>> Reloading data specified in LEMS file: /var/folders/_j/vg2m860n23d_9ty1h2z9_2880000gn/T/tmpt7q8xdbr/V_rest=-80mV.xml (/private/var/folders/_j/vg2m860n23d_9ty1h2z9_2880000gn/T/tmpt7q8xdbr/V_rest=-80mV.xml), base_dir: /var/folders/_j/vg2m860n23d_9ty1h2z9_2880000gn/T/tmpyp1ntz3g, cwd: /Users/rgerkin/Dropbox/dev/scidash/neuronunit/docs\n",
      "pyNeuroML >>> Reloading data specified in LEMS file: /var/folders/_j/vg2m860n23d_9ty1h2z9_2880000gn/T/tmpt7q8xdbr/V_rest=-80mV.xml (/private/var/folders/_j/vg2m860n23d_9ty1h2z9_2880000gn/T/tmpt7q8xdbr/V_rest=-80mV.xml), base_dir: /var/folders/_j/vg2m860n23d_9ty1h2z9_2880000gn/T/tmp30p49bl4, cwd: /Users/rgerkin/Dropbox/dev/scidash/neuronunit/docs\n",
      "pyNeuroML >>> Reloading data specified in LEMS file: /var/folders/_j/vg2m860n23d_9ty1h2z9_2880000gn/T/tmpt7q8xdbr/V_rest=-80mV.xml (/private/var/folders/_j/vg2m860n23d_9ty1h2z9_2880000gn/T/tmpt7q8xdbr/V_rest=-80mV.xml), base_dir: /var/folders/_j/vg2m860n23d_9ty1h2z9_2880000gn/T/tmppmys7gf3, cwd: /Users/rgerkin/Dropbox/dev/scidash/neuronunit/docs\n",
      "pyNeuroML >>> Reloading data specified in LEMS file: /var/folders/_j/vg2m860n23d_9ty1h2z9_2880000gn/T/tmpt7q8xdbr/V_rest=-80mV.xml (/private/var/folders/_j/vg2m860n23d_9ty1h2z9_2880000gn/T/tmpt7q8xdbr/V_rest=-80mV.xml), base_dir: /var/folders/_j/vg2m860n23d_9ty1h2z9_2880000gn/T/tmp99a7fpwx, cwd: /Users/rgerkin/Dropbox/dev/scidash/neuronunit/docs\n",
      "pyNeuroML >>> Reloading data specified in LEMS file: /var/folders/_j/vg2m860n23d_9ty1h2z9_2880000gn/T/tmpt7q8xdbr/V_rest=-80mV.xml (/private/var/folders/_j/vg2m860n23d_9ty1h2z9_2880000gn/T/tmpt7q8xdbr/V_rest=-80mV.xml), base_dir: /var/folders/_j/vg2m860n23d_9ty1h2z9_2880000gn/T/tmp72tne2z8, cwd: /Users/rgerkin/Dropbox/dev/scidash/neuronunit/docs\n",
      "pyNeuroML >>> Reloading data specified in LEMS file: /var/folders/_j/vg2m860n23d_9ty1h2z9_2880000gn/T/tmpt7q8xdbr/V_rest=-80mV.xml (/private/var/folders/_j/vg2m860n23d_9ty1h2z9_2880000gn/T/tmpt7q8xdbr/V_rest=-80mV.xml), base_dir: /var/folders/_j/vg2m860n23d_9ty1h2z9_2880000gn/T/tmpgmwji7g8, cwd: /Users/rgerkin/Dropbox/dev/scidash/neuronunit/docs\n"
     ]
    },
    {
     "data": {
      "text/html": [
       "Score is <a style=\"color: rgb(167,218,107)\">Ratio = 1.89</a>\n"
      ],
      "text/plain": [
       "<IPython.core.display.HTML object>"
      ]
     },
     "metadata": {},
     "output_type": "display_data"
    },
    {
     "data": {
      "text/html": [
       "Executing test <i>InputResistanceTest</i> on model <i>V_rest=-80mV</i>... "
      ],
      "text/plain": [
       "<IPython.core.display.HTML object>"
      ]
     },
     "metadata": {},
     "output_type": "display_data"
    },
    {
     "name": "stdout",
     "output_type": "stream",
     "text": [
      "pyNeuroML >>> Reloading data specified in LEMS file: /var/folders/_j/vg2m860n23d_9ty1h2z9_2880000gn/T/tmpt7q8xdbr/V_rest=-80mV.xml (/private/var/folders/_j/vg2m860n23d_9ty1h2z9_2880000gn/T/tmpt7q8xdbr/V_rest=-80mV.xml), base_dir: /var/folders/_j/vg2m860n23d_9ty1h2z9_2880000gn/T/tmp3dz6u66j, cwd: /Users/rgerkin/Dropbox/dev/scidash/neuronunit/docs\n"
     ]
    },
    {
     "data": {
      "text/html": [
       "Score is <a style=\"color: rgb(254,203,121)\">Z = -1.04</a>\n"
      ],
      "text/plain": [
       "<IPython.core.display.HTML object>"
      ]
     },
     "metadata": {},
     "output_type": "display_data"
    },
    {
     "data": {
      "text/html": [
       "Executing test <i>TimeConstantTest</i> on model <i>V_rest=-80mV</i>... "
      ],
      "text/plain": [
       "<IPython.core.display.HTML object>"
      ]
     },
     "metadata": {},
     "output_type": "display_data"
    },
    {
     "data": {
      "text/html": [
       "Score is <a style=\"color: rgb(245,111,68)\">Z = -1.74</a>\n"
      ],
      "text/plain": [
       "<IPython.core.display.HTML object>"
      ]
     },
     "metadata": {},
     "output_type": "display_data"
    },
    {
     "data": {
      "text/html": [
       "Executing test <i>CapacitanceTest</i> on model <i>V_rest=-80mV</i>... "
      ],
      "text/plain": [
       "<IPython.core.display.HTML object>"
      ]
     },
     "metadata": {},
     "output_type": "display_data"
    },
    {
     "data": {
      "text/html": [
       "Score is <a style=\"color: rgb(231,245,157)\">Z = -0.54</a>\n"
      ],
      "text/plain": [
       "<IPython.core.display.HTML object>"
      ]
     },
     "metadata": {},
     "output_type": "display_data"
    },
    {
     "data": {
      "text/html": [
       "Executing test <i>RestingPotentialTest</i> on model <i>V_rest=-80mV</i>... "
      ],
      "text/plain": [
       "<IPython.core.display.HTML object>"
      ]
     },
     "metadata": {},
     "output_type": "display_data"
    },
    {
     "name": "stdout",
     "output_type": "stream",
     "text": [
      "pyNeuroML >>> Reloading data specified in LEMS file: /var/folders/_j/vg2m860n23d_9ty1h2z9_2880000gn/T/tmpt7q8xdbr/V_rest=-80mV.xml (/private/var/folders/_j/vg2m860n23d_9ty1h2z9_2880000gn/T/tmpt7q8xdbr/V_rest=-80mV.xml), base_dir: /var/folders/_j/vg2m860n23d_9ty1h2z9_2880000gn/T/tmpcfwsfqbu, cwd: /Users/rgerkin/Dropbox/dev/scidash/neuronunit/docs\n"
     ]
    },
    {
     "data": {
      "text/html": [
       "Score is <a style=\"color: rgb(243,107,66)\">Z = -1.80</a>\n"
      ],
      "text/plain": [
       "<IPython.core.display.HTML object>"
      ]
     },
     "metadata": {},
     "output_type": "display_data"
    },
    {
     "data": {
      "text/html": [
       "Executing test <i>InjectedCurrentAPWidthTest</i> on model <i>V_rest=-80mV</i>... "
      ],
      "text/plain": [
       "<IPython.core.display.HTML object>"
      ]
     },
     "metadata": {},
     "output_type": "display_data"
    },
    {
     "name": "stdout",
     "output_type": "stream",
     "text": [
      "pyNeuroML >>> Reloading data specified in LEMS file: /var/folders/_j/vg2m860n23d_9ty1h2z9_2880000gn/T/tmpt7q8xdbr/V_rest=-80mV.xml (/private/var/folders/_j/vg2m860n23d_9ty1h2z9_2880000gn/T/tmpt7q8xdbr/V_rest=-80mV.xml), base_dir: /var/folders/_j/vg2m860n23d_9ty1h2z9_2880000gn/T/tmp8xwvdnur, cwd: /Users/rgerkin/Dropbox/dev/scidash/neuronunit/docs\n"
     ]
    },
    {
     "data": {
      "text/html": [
       "Score is <a style=\"color: rgb(255,239,164)\">Z = -0.80</a>\n"
      ],
      "text/plain": [
       "<IPython.core.display.HTML object>"
      ]
     },
     "metadata": {},
     "output_type": "display_data"
    },
    {
     "data": {
      "text/html": [
       "Executing test <i>InjectedCurrentAPAmplitudeTest</i> on model <i>V_rest=-80mV</i>... "
      ],
      "text/plain": [
       "<IPython.core.display.HTML object>"
      ]
     },
     "metadata": {},
     "output_type": "display_data"
    },
    {
     "data": {
      "text/html": [
       "Score is <a style=\"color: rgb(254,175,98)\">Z = -1.22</a>\n"
      ],
      "text/plain": [
       "<IPython.core.display.HTML object>"
      ]
     },
     "metadata": {},
     "output_type": "display_data"
    },
    {
     "data": {
      "text/html": [
       "Executing test <i>InjectedCurrentAPThresholdTest</i> on model <i>V_rest=-80mV</i>... "
      ],
      "text/plain": [
       "<IPython.core.display.HTML object>"
      ]
     },
     "metadata": {},
     "output_type": "display_data"
    },
    {
     "data": {
      "text/html": [
       "Score is <a style=\"color: rgb(247,127,75)\">Z = 1.59</a>\n"
      ],
      "text/plain": [
       "<IPython.core.display.HTML object>"
      ]
     },
     "metadata": {},
     "output_type": "display_data"
    }
   ],
   "source": [
    "score_matrix = suite.judge(models[0])"
   ]
  },
  {
   "cell_type": "code",
   "execution_count": 7,
   "metadata": {},
   "outputs": [
    {
     "data": {
      "application/javascript": [
       "$(\"head\").append($(\"<link/>\").attr({\n",
       "  rel:  \"stylesheet\",\n",
       "  type: \"text/css\",\n",
       "  href: \"//ajax.aspnetcdn.com/ajax/jquery.dataTables/1.9.0/css/jquery.dataTables.css\"\n",
       "}));\n",
       "$.getScript(\"//ajax.aspnetcdn.com/ajax/jquery.dataTables/1.9.0/jquery.dataTables.min.js\", function () {\n",
       "$('#1336104884797179007').dataTable();});\n"
      ],
      "text/plain": [
       "<IPython.core.display.Javascript object>"
      ]
     },
     "metadata": {},
     "output_type": "display_data"
    },
    {
     "data": {
      "text/html": [
       "<html><body><div>\n",
       "<table border=\"1\" class=\"dataframe\" id=\"1336104884797179007\">\n",
       "<thead>\n",
       "<tr style=\"text-align: right;\">\n",
       "<th></th>\n",
       "<th title=\"Mean sort key value across tests\">Mean</th>\n",
       "<th title=\"A test of the rheobase, i.e. the minimum injected current needed to evoke at least one spike.\">RheobaseTest</th>\n",
       "<th title=\"A test of the input resistance of a cell.\">InputResistanceTest</th>\n",
       "<th title=\"A test of membrane time constant of a cell.\">TimeConstantTest</th>\n",
       "<th title=\"A test of the membrane capacitance of a cell.\">CapacitanceTest</th>\n",
       "<th title=\"A test of the resting potential of a cell where injected current is set to zero.\">RestingPotentialTest</th>\n",
       "<th title=\"A test of the widths of action potentials at half of their maximum height when current is injected into cell.\">InjectedCurrentAPWidthTest</th>\n",
       "<th title=\"A test of the heights (peak amplitudes) of action potentials when current is injected into cell.\">InjectedCurrentAPAmplitudeTest</th>\n",
       "<th title=\"A test of the membrane potential threshold at which action potentials are produced under current injection.\">InjectedCurrentAPThresholdTest</th>\n",
       "</tr>\n",
       "</thead>\n",
       "<tbody>\n",
       "<tr>\n",
       "<th title=\"Base class for reduced models, using LEMS\">V_rest=-80mV</th>\n",
       "<td style=\"background-color: rgb(254,213,129);\" title=\"Mean sort key value across tests\">0.323</td>\n",
       "<td style=\"background-color: rgb(167,218,107);\" title=\"A ratio of two numbers score. Usually the prediction divided bythe observation.\n",
       "The ratio between the prediction and the observation\">Ratio = 1.89</td>\n",
       "<td style=\"background-color: rgb(254,203,121);\" title=\"A Z score. A float indicating standardized difference from a reference mean.\n",
       "The difference between the means of the observation and prediction divided by the standard deviation of the observation\">Z = -1.04</td>\n",
       "<td style=\"background-color: rgb(245,111,68);\" title=\"A Z score. A float indicating standardized difference from a reference mean.\n",
       "The difference between the means of the observation and prediction divided by the standard deviation of the observation\">Z = -1.74</td>\n",
       "<td style=\"background-color: rgb(231,245,157);\" title=\"A Z score. A float indicating standardized difference from a reference mean.\n",
       "The difference between the means of the observation and prediction divided by the standard deviation of the observation\">Z = -0.54</td>\n",
       "<td style=\"background-color: rgb(243,107,66);\" title=\"A Z score. A float indicating standardized difference from a reference mean.\n",
       "The difference between the means of the observation and prediction divided by the standard deviation of the observation\">Z = -1.80</td>\n",
       "<td style=\"background-color: rgb(255,239,164);\" title=\"A Z score. A float indicating standardized difference from a reference mean.\n",
       "The difference between the means of the observation and prediction divided by the standard deviation of the observation\">Z = -0.80</td>\n",
       "<td style=\"background-color: rgb(254,175,98);\" title=\"A Z score. A float indicating standardized difference from a reference mean.\n",
       "The difference between the means of the observation and prediction divided by the standard deviation of the observation\">Z = -1.22</td>\n",
       "<td style=\"background-color: rgb(247,127,75);\" title=\"A Z score. A float indicating standardized difference from a reference mean.\n",
       "The difference between the means of the observation and prediction divided by the standard deviation of the observation\">Z = 1.59</td>\n",
       "</tr>\n",
       "</tbody>\n",
       "</table>\n",
       "</div></body></html>"
      ],
      "text/plain": [
       "              RheobaseTest InputResistanceTest TimeConstantTest  \\\n",
       "V_rest=-80mV  Ratio = 1.89           Z = -1.04        Z = -1.74   \n",
       "\n",
       "             CapacitanceTest RestingPotentialTest InjectedCurrentAPWidthTest  \\\n",
       "V_rest=-80mV       Z = -0.54            Z = -1.80                  Z = -0.80   \n",
       "\n",
       "             InjectedCurrentAPAmplitudeTest InjectedCurrentAPThresholdTest  \n",
       "V_rest=-80mV                      Z = -1.22                       Z = 1.59  "
      ]
     },
     "execution_count": 7,
     "metadata": {},
     "output_type": "execute_result"
    }
   ],
   "source": [
    "score_matrix.show_mean = True # Show the mean value across test scores. \n",
    "                              # The mean is computed using the sort_key attribute, which is in the range [0,1] for\n",
    "                              # all Score types\n",
    "score_matrix.sortable = True # Make the ScoreMatrix sortable (and searchable)\n",
    "score_matrix"
   ]
  },
  {
   "cell_type": "markdown",
   "metadata": {},
   "source": [
    "### Let's take a look at a sweep from one of these models ($V_{rest} = -55 mV$) obtained at the rheobase current.  "
   ]
  },
  {
   "cell_type": "code",
   "execution_count": 8,
   "metadata": {},
   "outputs": [
    {
     "ename": "KeyError",
     "evalue": "\"No model or test with name 'None'\"",
     "output_type": "error",
     "traceback": [
      "\u001b[0;31m---------------------------------------------------------------------------\u001b[0m",
      "\u001b[0;31mKeyError\u001b[0m                                  Traceback (most recent call last)",
      "\u001b[0;32m<ipython-input-8-c38768267428>\u001b[0m in \u001b[0;36m<module>\u001b[0;34m()\u001b[0m\n\u001b[1;32m      1\u001b[0m \u001b[0;32mimport\u001b[0m \u001b[0mmatplotlib\u001b[0m \u001b[0;32mas\u001b[0m \u001b[0mmpl\u001b[0m\u001b[0;34m\u001b[0m\u001b[0m\n\u001b[1;32m      2\u001b[0m \u001b[0mmpl\u001b[0m\u001b[0;34m.\u001b[0m\u001b[0mrcParams\u001b[0m\u001b[0;34m[\u001b[0m\u001b[0;34m'font.size'\u001b[0m\u001b[0;34m]\u001b[0m \u001b[0;34m=\u001b[0m \u001b[0;36m18\u001b[0m\u001b[0;34m\u001b[0m\u001b[0m\n\u001b[0;32m----> 3\u001b[0;31m \u001b[0mscore_matrix\u001b[0m\u001b[0;34m[\u001b[0m\u001b[0;34m'RheobaseTest'\u001b[0m\u001b[0;34m]\u001b[0m\u001b[0;34m[\u001b[0m\u001b[0;34m'V_rest=-60mV'\u001b[0m\u001b[0;34m]\u001b[0m\u001b[0;34m.\u001b[0m\u001b[0mplot_vm\u001b[0m\u001b[0;34m(\u001b[0m\u001b[0;34m)\u001b[0m \u001b[0;31m# Plot the rheobase current from the model with V_rest = -60 mV\u001b[0m\u001b[0;34m\u001b[0m\u001b[0m\n\u001b[0m",
      "\u001b[0;32m~/Dropbox (ASU)/dev/scidash/sciunit/sciunit/scores/collections.py\u001b[0m in \u001b[0;36m__getitem__\u001b[0;34m(self, item)\u001b[0m\n\u001b[1;32m     55\u001b[0m     \u001b[0;32mdef\u001b[0m \u001b[0m__getitem__\u001b[0m\u001b[0;34m(\u001b[0m\u001b[0mself\u001b[0m\u001b[0;34m,\u001b[0m \u001b[0mitem\u001b[0m\u001b[0;34m)\u001b[0m\u001b[0;34m:\u001b[0m\u001b[0;34m\u001b[0m\u001b[0m\n\u001b[1;32m     56\u001b[0m         \u001b[0;32mif\u001b[0m \u001b[0misinstance\u001b[0m\u001b[0;34m(\u001b[0m\u001b[0mitem\u001b[0m\u001b[0;34m,\u001b[0m\u001b[0mstr\u001b[0m\u001b[0;34m)\u001b[0m\u001b[0;34m:\u001b[0m\u001b[0;34m\u001b[0m\u001b[0m\n\u001b[0;32m---> 57\u001b[0;31m             \u001b[0mresult\u001b[0m \u001b[0;34m=\u001b[0m \u001b[0mself\u001b[0m\u001b[0;34m.\u001b[0m\u001b[0mget_by_name\u001b[0m\u001b[0;34m(\u001b[0m\u001b[0mitem\u001b[0m\u001b[0;34m)\u001b[0m\u001b[0;34m\u001b[0m\u001b[0m\n\u001b[0m\u001b[1;32m     58\u001b[0m         \u001b[0;32melse\u001b[0m\u001b[0;34m:\u001b[0m\u001b[0;34m\u001b[0m\u001b[0m\n\u001b[1;32m     59\u001b[0m             \u001b[0mresult\u001b[0m \u001b[0;34m=\u001b[0m \u001b[0msuper\u001b[0m\u001b[0;34m(\u001b[0m\u001b[0mScoreArray\u001b[0m\u001b[0;34m,\u001b[0m\u001b[0mself\u001b[0m\u001b[0;34m)\u001b[0m\u001b[0;34m.\u001b[0m\u001b[0m__getitem__\u001b[0m\u001b[0;34m(\u001b[0m\u001b[0mitem\u001b[0m\u001b[0;34m)\u001b[0m\u001b[0;34m\u001b[0m\u001b[0m\n",
      "\u001b[0;32m~/Dropbox (ASU)/dev/scidash/sciunit/sciunit/scores/collections.py\u001b[0m in \u001b[0;36mget_by_name\u001b[0;34m(self, name)\u001b[0m\n\u001b[1;32m     66\u001b[0m                 \u001b[0mitem\u001b[0m \u001b[0;34m=\u001b[0m \u001b[0mself\u001b[0m\u001b[0;34m.\u001b[0m\u001b[0m__getitem__\u001b[0m\u001b[0;34m(\u001b[0m\u001b[0mtest_or_model\u001b[0m\u001b[0;34m)\u001b[0m\u001b[0;34m\u001b[0m\u001b[0m\n\u001b[1;32m     67\u001b[0m         \u001b[0;32mif\u001b[0m \u001b[0mitem\u001b[0m \u001b[0;32mis\u001b[0m \u001b[0;32mNone\u001b[0m\u001b[0;34m:\u001b[0m\u001b[0;34m\u001b[0m\u001b[0m\n\u001b[0;32m---> 68\u001b[0;31m             \u001b[0;32mraise\u001b[0m \u001b[0mKeyError\u001b[0m\u001b[0;34m(\u001b[0m\u001b[0;34m\"No model or test with name '%s'\"\u001b[0m \u001b[0;34m%\u001b[0m \u001b[0mitem\u001b[0m\u001b[0;34m)\u001b[0m\u001b[0;34m\u001b[0m\u001b[0m\n\u001b[0m\u001b[1;32m     69\u001b[0m         \u001b[0;32mreturn\u001b[0m \u001b[0mitem\u001b[0m\u001b[0;34m\u001b[0m\u001b[0m\n\u001b[1;32m     70\u001b[0m \u001b[0;34m\u001b[0m\u001b[0m\n",
      "\u001b[0;31mKeyError\u001b[0m: \"No model or test with name 'None'\""
     ]
    }
   ],
   "source": [
    "import matplotlib as mpl\n",
    "mpl.rcParams['font.size'] = 18\n",
    "score_matrix['RheobaseTest']['V_rest=-60mV'].plot_vm() # Plot the rheobase current from the model with V_rest = -60 mV"
   ]
  }
 ],
 "metadata": {
  "kernelspec": {
   "display_name": "Python 3",
   "language": "python",
   "name": "python3"
  },
  "language_info": {
   "codemirror_mode": {
    "name": "ipython",
    "version": 3
   },
   "file_extension": ".py",
   "mimetype": "text/x-python",
   "name": "python",
   "nbconvert_exporter": "python",
   "pygments_lexer": "ipython3",
   "version": "3.5.2"
  }
 },
 "nbformat": 4,
 "nbformat_minor": 2
}
