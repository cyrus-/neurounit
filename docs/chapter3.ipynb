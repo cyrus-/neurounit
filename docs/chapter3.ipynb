{
 "cells": [
  {
   "cell_type": "markdown",
   "metadata": {
    "collapsed": false,
    "deletable": true,
    "editable": true
   },
   "source": [
    "![NeuronUnit Logo](https://raw.githubusercontent.com/scidash/assets/master/logos/neuronunit-logo-text.png)\n",
    "# Chapter 3\n",
    "Back to [Chapter 2](chapter2.ipynb)"
   ]
  },
  {
   "cell_type": "markdown",
   "metadata": {
    "deletable": true,
    "editable": true
   },
   "source": [
    "In the second chapter we tested a real ion channel model using data from the [OpenWorm](http://openworm.org) project.  Here we'll test a reduced neuron model using data from the [NeuroElectro](http://neuroelectro.org) project and from the [Allen Brain Institute Cell Types](http://celltypes.brain-map.org) database.  \n",
    "### We'll test an Izhikevich model against data from a Layer V pyramidal cell in primary visual cortex"
   ]
  },
  {
   "cell_type": "code",
   "execution_count": 1,
   "metadata": {
    "collapsed": false,
    "deletable": true,
    "editable": true
   },
   "outputs": [],
   "source": [
    "%matplotlib inline\n",
    "import os,sys\n",
    "import numpy as np\n",
    "import matplotlib.pyplot as plt\n",
    "import quantities as pq\n",
    "import sciunit\n",
    "import neuronunit\n",
    "from neuronunit import aibs\n",
    "from neuronunit.models.reduced import ReducedModel"
   ]
  },
  {
   "cell_type": "code",
   "execution_count": 2,
   "metadata": {
    "collapsed": false,
    "deletable": true,
    "editable": true
   },
   "outputs": [
    {
     "name": "stdout",
     "output_type": "stream",
     "text": [
      "Getting data values from neuroelectro.org\n",
      "http://www.neuroelectro.org/api/1/nes/?e__name=Input+Resistance&nlex=nifext_50\n",
      "Getting data values from neuroelectro.org\n",
      "http://www.neuroelectro.org/api/1/nes/?e__name=Membrane+Time+Constant&nlex=nifext_50\n",
      "Getting data values from neuroelectro.org\n",
      "http://www.neuroelectro.org/api/1/nes/?e__name=Cell+Capacitance&nlex=nifext_50\n",
      "Getting data values from neuroelectro.org\n",
      "http://www.neuroelectro.org/api/1/nes/?e__name=Resting+membrane+potential&nlex=nifext_50\n",
      "Getting data values from neuroelectro.org\n",
      "http://www.neuroelectro.org/api/1/nes/?e__name=Spike+Half-Width&nlex=nifext_50\n",
      "Getting data values from neuroelectro.org\n",
      "http://www.neuroelectro.org/api/1/nes/?e__name=Spike+Amplitude&nlex=nifext_50\n",
      "Getting data values from neuroelectro.org\n",
      "http://www.neuroelectro.org/api/1/nes/?e__name=Spike+Threshold&nlex=nifext_50\n"
     ]
    }
   ],
   "source": [
    "import quantities as pq\n",
    "from neuronunit import tests as nu_tests, neuroelectro\n",
    "neuron = {'nlex_id': 'nifext_50'} # Layer V pyramidal cell\n",
    "tests = []\n",
    "\n",
    "dataset_id = 354190013  # Internal ID that AIBS uses for a particular Scnn1a-Tg2-Cre \n",
    "                        # Primary visual area, layer 5 neuron.\n",
    "    \n",
    "# Obtain the empirical rheobase current from the Allen Brain Insitute Cell Types database.  \n",
    "observation = aibs.get_observation(dataset_id,'rheobase')\n",
    "rheobase_test = nu_tests.RheobaseTest(observation=observation)\n",
    "tests += [rheobase_test]\n",
    "    \n",
    "test_class_params = [(nu_tests.InputResistanceTest,None),\n",
    "                     (nu_tests.TimeConstantTest,None),\n",
    "                     (nu_tests.CapacitanceTest,None),\n",
    "                     (nu_tests.RestingPotentialTest,None),\n",
    "                     (nu_tests.InjectedCurrentAPWidthTest,None),\n",
    "                     (nu_tests.InjectedCurrentAPAmplitudeTest,None),\n",
    "                     (nu_tests.InjectedCurrentAPThresholdTest,None)\n",
    "                    ]\n",
    "\n",
    "# Obtain all other parameters from neuroelectro.org.\n",
    "for cls,params in test_class_params:\n",
    "    observation = cls.neuroelectro_summary_observation(neuron)\n",
    "    tests += [cls(observation,params=params)]\n",
    "    \n",
    "# A hook to update all tests after the RheobaseTest to use the rheobase current (to produce exactly one AP)\n",
    "def update_amplitude(test,tests,score):\n",
    "    rheobase = score.prediction['value']\n",
    "    for test in tests[1:]:\n",
    "        if 'Injected' in test.name:\n",
    "            # Set current injection to just suprathreshold\n",
    "            test.params['injected_square_current']['amplitude'] = rheobase*1.01 \n",
    "    \n",
    "hooks = {tests[0]:{'f':update_amplitude}}\n",
    "suite = sciunit.TestSuite(\"vm_suite\",tests,hooks=hooks)"
   ]
  },
  {
   "cell_type": "markdown",
   "metadata": {
    "deletable": true,
    "editable": true
   },
   "source": [
    "### The Izhikevich model here is defined in an NeuroML2/LEMS file.  \n",
    "### We will run it using the jNeuroML backend for simplicity, although this is *much* slower than the native NEURON backend.  "
   ]
  },
  {
   "cell_type": "code",
   "execution_count": 3,
   "metadata": {
    "collapsed": false,
    "deletable": true,
    "editable": true
   },
   "outputs": [],
   "source": [
    "# This example is from https://github.com/OpenSourceBrain/IzhikevichModel.\n",
    "DOCS_PATH = os.getcwd() # Assume this notebook is being executed from inside the neuronunit/docs directory.\n",
    "assert DOCS_PATH.endswith('neuronunit/docs'), \"Change the DOCS_PATH variable to the path to your neuronunit/docs directory\"\n",
    "LEMS_MODEL_PATH = os.path.join(DOCS_PATH,'data/NeuroML2/LEMS_2007One.xml')\n",
    "model = ReducedModel(LEMS_MODEL_PATH,name='vanilla',backend='jNeuroML')"
   ]
  },
  {
   "cell_type": "markdown",
   "metadata": {
    "deletable": true,
    "editable": true
   },
   "source": [
    "### Run a series of tests.  The RheobaseTest is run first to obtain the rheobase current to use in all the other tests."
   ]
  },
  {
   "cell_type": "code",
   "execution_count": 4,
   "metadata": {
    "collapsed": false,
    "deletable": true,
    "editable": true
   },
   "outputs": [
    {
     "data": {
      "text/html": [
       "Executing test <i>RheobaseTest</i> on model <i>vanilla</i>... "
      ],
      "text/plain": [
       "<IPython.core.display.HTML object>"
      ]
     },
     "metadata": {},
     "output_type": "display_data"
    },
    {
     "ename": "InvalidScoreError",
     "evalue": "Score for test 'RheobaseTest' is not of correct type. The test requires type RatioScore but NoneType was provided.",
     "output_type": "error",
     "traceback": [
      "\u001b[0;31m---------------------------------------------------------------------------\u001b[0m",
      "\u001b[0;31mInvalidScoreError\u001b[0m                         Traceback (most recent call last)",
      "\u001b[0;32m<ipython-input-4-6043d3b63aa2>\u001b[0m in \u001b[0;36m<module>\u001b[0;34m()\u001b[0m\n\u001b[0;32m----> 1\u001b[0;31m \u001b[0mscore_matrix\u001b[0m \u001b[0;34m=\u001b[0m \u001b[0msuite\u001b[0m\u001b[0;34m.\u001b[0m\u001b[0mjudge\u001b[0m\u001b[0;34m(\u001b[0m\u001b[0mmodel\u001b[0m\u001b[0;34m)\u001b[0m\u001b[0;34m\u001b[0m\u001b[0m\n\u001b[0m",
      "\u001b[0;32m/Users/rgerkin/Dropbox/miniconda3/lib/python3.5/site-packages/sciunit-0.1.5.8-py3.5.egg/sciunit/__init__.py\u001b[0m in \u001b[0;36mjudge\u001b[0;34m(self, models, skip_incapable, stop_on_error, deep_error)\u001b[0m\n\u001b[1;32m    422\u001b[0m                 \u001b[0;32melse\u001b[0m\u001b[0;34m:\u001b[0m\u001b[0;34m\u001b[0m\u001b[0m\n\u001b[1;32m    423\u001b[0m                     score = self.judge_one(model,test,sm,skip_incapable,\n\u001b[0;32m--> 424\u001b[0;31m                                            stop_on_error,deep_error)\n\u001b[0m\u001b[1;32m    425\u001b[0m                 \u001b[0mself\u001b[0m\u001b[0;34m.\u001b[0m\u001b[0mset_hooks\u001b[0m\u001b[0;34m(\u001b[0m\u001b[0mtest\u001b[0m\u001b[0;34m,\u001b[0m\u001b[0mscore\u001b[0m\u001b[0;34m)\u001b[0m\u001b[0;34m\u001b[0m\u001b[0m\n\u001b[1;32m    426\u001b[0m         \u001b[0;32mreturn\u001b[0m \u001b[0msm\u001b[0m\u001b[0;34m\u001b[0m\u001b[0m\n",
      "\u001b[0;32m/Users/rgerkin/Dropbox/miniconda3/lib/python3.5/site-packages/sciunit-0.1.5.8-py3.5.egg/sciunit/__init__.py\u001b[0m in \u001b[0;36mjudge_one\u001b[0;34m(self, model, test, sm, skip_incapable, stop_on_error, deep_error)\u001b[0m\n\u001b[1;32m    454\u001b[0m         score = test.judge(model, skip_incapable=skip_incapable, \n\u001b[1;32m    455\u001b[0m                                   \u001b[0mstop_on_error\u001b[0m\u001b[0;34m=\u001b[0m\u001b[0mstop_on_error\u001b[0m\u001b[0;34m,\u001b[0m\u001b[0;34m\u001b[0m\u001b[0m\n\u001b[0;32m--> 456\u001b[0;31m                                   deep_error=deep_error)\n\u001b[0m\u001b[1;32m    457\u001b[0m         log('Score is <a style=\"color: rgb(%d,%d,%d)\">' % score.color()\n\u001b[1;32m    458\u001b[0m           + '%s</a>' % score)\n",
      "\u001b[0;32m/Users/rgerkin/Dropbox/miniconda3/lib/python3.5/site-packages/sciunit-0.1.5.8-py3.5.egg/sciunit/__init__.py\u001b[0m in \u001b[0;36mjudge\u001b[0;34m(self, model, skip_incapable, stop_on_error, deep_error)\u001b[0m\n\u001b[1;32m    317\u001b[0m                 \u001b[0mscore\u001b[0m \u001b[0;34m=\u001b[0m \u001b[0mErrorScore\u001b[0m\u001b[0;34m(\u001b[0m\u001b[0me\u001b[0m\u001b[0;34m)\u001b[0m\u001b[0;34m\u001b[0m\u001b[0m\n\u001b[1;32m    318\u001b[0m         \u001b[0;32mif\u001b[0m \u001b[0misinstance\u001b[0m\u001b[0;34m(\u001b[0m\u001b[0mscore\u001b[0m\u001b[0;34m,\u001b[0m\u001b[0mErrorScore\u001b[0m\u001b[0;34m)\u001b[0m \u001b[0;32mand\u001b[0m \u001b[0mstop_on_error\u001b[0m\u001b[0;34m:\u001b[0m\u001b[0;34m\u001b[0m\u001b[0m\n\u001b[0;32m--> 319\u001b[0;31m             \u001b[0;32mraise\u001b[0m \u001b[0mscore\u001b[0m\u001b[0;34m.\u001b[0m\u001b[0mscore\u001b[0m \u001b[0;31m# An exception.\u001b[0m\u001b[0;34m\u001b[0m\u001b[0m\n\u001b[0m\u001b[1;32m    320\u001b[0m         \u001b[0;32mreturn\u001b[0m \u001b[0mscore\u001b[0m\u001b[0;34m\u001b[0m\u001b[0m\n\u001b[1;32m    321\u001b[0m \u001b[0;34m\u001b[0m\u001b[0m\n",
      "\u001b[0;32m/Users/rgerkin/Dropbox/miniconda3/lib/python3.5/site-packages/sciunit-0.1.5.8-py3.5.egg/sciunit/__init__.py\u001b[0m in \u001b[0;36mjudge\u001b[0;34m(self, model, skip_incapable, stop_on_error, deep_error)\u001b[0m\n\u001b[1;32m    311\u001b[0m         \u001b[0;32melse\u001b[0m\u001b[0;34m:\u001b[0m\u001b[0;34m\u001b[0m\u001b[0m\n\u001b[1;32m    312\u001b[0m             \u001b[0;32mtry\u001b[0m\u001b[0;34m:\u001b[0m\u001b[0;34m\u001b[0m\u001b[0m\n\u001b[0;32m--> 313\u001b[0;31m                 \u001b[0mscore\u001b[0m \u001b[0;34m=\u001b[0m \u001b[0mself\u001b[0m\u001b[0;34m.\u001b[0m\u001b[0m_judge\u001b[0m\u001b[0;34m(\u001b[0m\u001b[0mmodel\u001b[0m\u001b[0;34m,\u001b[0m \u001b[0mskip_incapable\u001b[0m\u001b[0;34m=\u001b[0m\u001b[0mskip_incapable\u001b[0m\u001b[0;34m)\u001b[0m\u001b[0;34m\u001b[0m\u001b[0m\n\u001b[0m\u001b[1;32m    314\u001b[0m             \u001b[0;32mexcept\u001b[0m \u001b[0mCapabilityError\u001b[0m \u001b[0;32mas\u001b[0m \u001b[0me\u001b[0m\u001b[0;34m:\u001b[0m\u001b[0;34m\u001b[0m\u001b[0m\n\u001b[1;32m    315\u001b[0m                 \u001b[0mscore\u001b[0m \u001b[0;34m=\u001b[0m \u001b[0mNAScore\u001b[0m\u001b[0;34m(\u001b[0m\u001b[0mstr\u001b[0m\u001b[0;34m(\u001b[0m\u001b[0me\u001b[0m\u001b[0;34m)\u001b[0m\u001b[0;34m)\u001b[0m\u001b[0;34m\u001b[0m\u001b[0m\n",
      "\u001b[0;32m/Users/rgerkin/Dropbox/miniconda3/lib/python3.5/site-packages/sciunit-0.1.5.8-py3.5.egg/sciunit/__init__.py\u001b[0m in \u001b[0;36m_judge\u001b[0;34m(self, model, skip_incapable)\u001b[0m\n\u001b[1;32m    269\u001b[0m                                      \"was provided.\") \\\n\u001b[1;32m    270\u001b[0m                                     % (self.name, self.score_type.__name__,\n\u001b[0;32m--> 271\u001b[0;31m                                        score.__class__.__name__))\n\u001b[0m\u001b[1;32m    272\u001b[0m         \u001b[0;31m# 5.\u001b[0m\u001b[0;34m\u001b[0m\u001b[0;34m\u001b[0m\u001b[0m\n\u001b[1;32m    273\u001b[0m         \u001b[0mself\u001b[0m\u001b[0;34m.\u001b[0m\u001b[0m_bind_score\u001b[0m\u001b[0;34m(\u001b[0m\u001b[0mscore\u001b[0m\u001b[0;34m,\u001b[0m\u001b[0mmodel\u001b[0m\u001b[0;34m,\u001b[0m\u001b[0mobservation\u001b[0m\u001b[0;34m,\u001b[0m\u001b[0mprediction\u001b[0m\u001b[0;34m)\u001b[0m\u001b[0;34m\u001b[0m\u001b[0m\n",
      "\u001b[0;31mInvalidScoreError\u001b[0m: Score for test 'RheobaseTest' is not of correct type. The test requires type RatioScore but NoneType was provided."
     ]
    }
   ],
   "source": [
    "score_matrix = suite.judge(model)"
   ]
  },
  {
   "cell_type": "markdown",
   "metadata": {
    "deletable": true,
    "editable": true
   },
   "source": [
    "### Now we can sweep across a parameter (the resting potential) and run the same test suite on a model corresponding to each value of this parameter."
   ]
  },
  {
   "cell_type": "code",
   "execution_count": 6,
   "metadata": {
    "collapsed": false,
    "deletable": true,
    "editable": true
   },
   "outputs": [
    {
     "data": {
      "text/html": [
       "Executing test <i>RheobaseTest</i> on model <i>V_rest=-80mV</i>... "
      ],
      "text/plain": [
       "<IPython.core.display.HTML object>"
      ]
     },
     "metadata": {},
     "output_type": "display_data"
    },
    {
     "name": "stdout",
     "output_type": "stream",
     "text": [
      "Highest subthreshold current is 241.41 pA\n",
      "Lowest suprathreshold current is 241.99 pA\n"
     ]
    },
    {
     "data": {
      "text/html": [
       "Score is <a style=\"color: rgb(185,226,118)\">Ratio = 1.86</a>\n"
      ],
      "text/plain": [
       "<IPython.core.display.HTML object>"
      ]
     },
     "metadata": {},
     "output_type": "display_data"
    },
    {
     "data": {
      "text/html": [
       "Executing test <i>InputResistanceTest</i> on model <i>V_rest=-80mV</i>... "
      ],
      "text/plain": [
       "<IPython.core.display.HTML object>"
      ]
     },
     "metadata": {},
     "output_type": "display_data"
    },
    {
     "data": {
      "text/html": [
       "Score is <a style=\"color: rgb(254,203,121)\">Z = -1.04</a>\n"
      ],
      "text/plain": [
       "<IPython.core.display.HTML object>"
      ]
     },
     "metadata": {},
     "output_type": "display_data"
    },
    {
     "data": {
      "text/html": [
       "Executing test <i>TimeConstantTest</i> on model <i>V_rest=-80mV</i>... "
      ],
      "text/plain": [
       "<IPython.core.display.HTML object>"
      ]
     },
     "metadata": {},
     "output_type": "display_data"
    },
    {
     "data": {
      "text/html": [
       "Score is <a style=\"color: rgb(248,137,80)\">Z = -1.49</a>\n"
      ],
      "text/plain": [
       "<IPython.core.display.HTML object>"
      ]
     },
     "metadata": {},
     "output_type": "display_data"
    },
    {
     "data": {
      "text/html": [
       "Executing test <i>CapacitanceTest</i> on model <i>V_rest=-80mV</i>... "
      ],
      "text/plain": [
       "<IPython.core.display.HTML object>"
      ]
     },
     "metadata": {},
     "output_type": "display_data"
    },
    {
     "data": {
      "text/html": [
       "Score is <a style=\"color: rgb(107,191,99)\">Z = 0.11</a>\n"
      ],
      "text/plain": [
       "<IPython.core.display.HTML object>"
      ]
     },
     "metadata": {},
     "output_type": "display_data"
    },
    {
     "data": {
      "text/html": [
       "Executing test <i>RestingPotentialTest</i> on model <i>V_rest=-80mV</i>... "
      ],
      "text/plain": [
       "<IPython.core.display.HTML object>"
      ]
     },
     "metadata": {},
     "output_type": "display_data"
    },
    {
     "data": {
      "text/html": [
       "Score is <a style=\"color: rgb(231,80,54)\">Z = -2.58</a>\n"
      ],
      "text/plain": [
       "<IPython.core.display.HTML object>"
      ]
     },
     "metadata": {},
     "output_type": "display_data"
    },
    {
     "data": {
      "text/html": [
       "Executing test <i>InjectedCurrentAPWidthTest</i> on model <i>V_rest=-80mV</i>... "
      ],
      "text/plain": [
       "<IPython.core.display.HTML object>"
      ]
     },
     "metadata": {},
     "output_type": "display_data"
    },
    {
     "data": {
      "text/html": [
       "Score is <a style=\"color: rgb(248,132,77)\">Z = -1.54</a>\n"
      ],
      "text/plain": [
       "<IPython.core.display.HTML object>"
      ]
     },
     "metadata": {},
     "output_type": "display_data"
    },
    {
     "data": {
      "text/html": [
       "Executing test <i>InjectedCurrentAPAmplitudeTest</i> on model <i>V_rest=-80mV</i>... "
      ],
      "text/plain": [
       "<IPython.core.display.HTML object>"
      ]
     },
     "metadata": {},
     "output_type": "display_data"
    },
    {
     "data": {
      "text/html": [
       "Score is <a style=\"color: rgb(255,249,180)\">Z = -0.72</a>\n"
      ],
      "text/plain": [
       "<IPython.core.display.HTML object>"
      ]
     },
     "metadata": {},
     "output_type": "display_data"
    },
    {
     "data": {
      "text/html": [
       "Executing test <i>InjectedCurrentAPThresholdTest</i> on model <i>V_rest=-80mV</i>... "
      ],
      "text/plain": [
       "<IPython.core.display.HTML object>"
      ]
     },
     "metadata": {},
     "output_type": "display_data"
    },
    {
     "data": {
      "text/html": [
       "Score is <a style=\"color: rgb(240,99,62)\">Z = -1.94</a>\n"
      ],
      "text/plain": [
       "<IPython.core.display.HTML object>"
      ]
     },
     "metadata": {},
     "output_type": "display_data"
    },
    {
     "data": {
      "text/html": [
       "Executing test <i>RheobaseTest</i> on model <i>V_rest=-70mV</i>... "
      ],
      "text/plain": [
       "<IPython.core.display.HTML object>"
      ]
     },
     "metadata": {},
     "output_type": "display_data"
    },
    {
     "name": "stdout",
     "output_type": "stream",
     "text": [
      "Injected 300.0 pA current and got 50 spikes\n",
      "Injected -0.0 pA current and got 0 spikes\n",
      "Injected 150.0 pA current and got 8 spikes\n",
      "Injected 75.0 pA current and got 0 spikes\n",
      "Injected 112.5 pA current and got 0 spikes\n",
      "Injected 131.25 pA current and got 2 spikes\n",
      "Injected 121.875 pA current and got 0 spikes\n",
      "Injected 126.5625 pA current and got 0 spikes\n",
      "Injected 128.90625 pA current and got 0 spikes\n",
      "Injected 130.078125 pA current and got 1 spikes\n",
      "Injected 129.4921875 pA current and got 1 spikes\n",
      "Highest subthreshold current is 128.91 pA\n",
      "Lowest suprathreshold current is 129.49 pA\n"
     ]
    },
    {
     "data": {
      "text/html": [
       "Score is <a style=\"color: rgb(63,170,89)\">Ratio = 1.00</a>\n"
      ],
      "text/plain": [
       "<IPython.core.display.HTML object>"
      ]
     },
     "metadata": {},
     "output_type": "display_data"
    },
    {
     "data": {
      "text/html": [
       "Executing test <i>InputResistanceTest</i> on model <i>V_rest=-70mV</i>... "
      ],
      "text/plain": [
       "<IPython.core.display.HTML object>"
      ]
     },
     "metadata": {},
     "output_type": "display_data"
    },
    {
     "data": {
      "text/html": [
       "Score is <a style=\"color: rgb(255,230,149)\">Z = -0.87</a>\n"
      ],
      "text/plain": [
       "<IPython.core.display.HTML object>"
      ]
     },
     "metadata": {},
     "output_type": "display_data"
    },
    {
     "data": {
      "text/html": [
       "Executing test <i>TimeConstantTest</i> on model <i>V_rest=-70mV</i>... "
      ],
      "text/plain": [
       "<IPython.core.display.HTML object>"
      ]
     },
     "metadata": {},
     "output_type": "display_data"
    },
    {
     "data": {
      "text/html": [
       "Score is <a style=\"color: rgb(249,140,81)\">Z = -1.46</a>\n"
      ],
      "text/plain": [
       "<IPython.core.display.HTML object>"
      ]
     },
     "metadata": {},
     "output_type": "display_data"
    },
    {
     "data": {
      "text/html": [
       "Executing test <i>CapacitanceTest</i> on model <i>V_rest=-70mV</i>... "
      ],
      "text/plain": [
       "<IPython.core.display.HTML object>"
      ]
     },
     "metadata": {},
     "output_type": "display_data"
    },
    {
     "data": {
      "text/html": [
       "Score is <a style=\"color: rgb(112,194,100)\">Z = 0.12</a>\n"
      ],
      "text/plain": [
       "<IPython.core.display.HTML object>"
      ]
     },
     "metadata": {},
     "output_type": "display_data"
    },
    {
     "data": {
      "text/html": [
       "Executing test <i>RestingPotentialTest</i> on model <i>V_rest=-70mV</i>... "
      ],
      "text/plain": [
       "<IPython.core.display.HTML object>"
      ]
     },
     "metadata": {},
     "output_type": "display_data"
    },
    {
     "data": {
      "text/html": [
       "Score is <a style=\"color: rgb(232,83,55)\">Z = -2.46</a>\n"
      ],
      "text/plain": [
       "<IPython.core.display.HTML object>"
      ]
     },
     "metadata": {},
     "output_type": "display_data"
    },
    {
     "data": {
      "text/html": [
       "Executing test <i>InjectedCurrentAPWidthTest</i> on model <i>V_rest=-70mV</i>... "
      ],
      "text/plain": [
       "<IPython.core.display.HTML object>"
      ]
     },
     "metadata": {},
     "output_type": "display_data"
    },
    {
     "data": {
      "text/html": [
       "Score is <a style=\"color: rgb(248,132,77)\">Z = -1.54</a>\n"
      ],
      "text/plain": [
       "<IPython.core.display.HTML object>"
      ]
     },
     "metadata": {},
     "output_type": "display_data"
    },
    {
     "data": {
      "text/html": [
       "Executing test <i>InjectedCurrentAPAmplitudeTest</i> on model <i>V_rest=-70mV</i>... "
      ],
      "text/plain": [
       "<IPython.core.display.HTML object>"
      ]
     },
     "metadata": {},
     "output_type": "display_data"
    },
    {
     "data": {
      "text/html": [
       "Score is <a style=\"color: rgb(255,244,172)\">Z = -0.76</a>\n"
      ],
      "text/plain": [
       "<IPython.core.display.HTML object>"
      ]
     },
     "metadata": {},
     "output_type": "display_data"
    },
    {
     "data": {
      "text/html": [
       "Executing test <i>InjectedCurrentAPThresholdTest</i> on model <i>V_rest=-70mV</i>... "
      ],
      "text/plain": [
       "<IPython.core.display.HTML object>"
      ]
     },
     "metadata": {},
     "output_type": "display_data"
    },
    {
     "data": {
      "text/html": [
       "Score is <a style=\"color: rgb(241,102,63)\">Z = -1.90</a>\n"
      ],
      "text/plain": [
       "<IPython.core.display.HTML object>"
      ]
     },
     "metadata": {},
     "output_type": "display_data"
    },
    {
     "data": {
      "text/html": [
       "Executing test <i>RheobaseTest</i> on model <i>V_rest=-60mV</i>... "
      ],
      "text/plain": [
       "<IPython.core.display.HTML object>"
      ]
     },
     "metadata": {},
     "output_type": "display_data"
    },
    {
     "name": "stdout",
     "output_type": "stream",
     "text": [
      "Injected 300.0 pA current and got 54 spikes\n",
      "Injected -0.0 pA current and got 0 spikes\n",
      "Injected 150.0 pA current and got 25 spikes\n",
      "Injected 75.0 pA current and got 8 spikes\n",
      "Injected 37.5 pA current and got 0 spikes\n",
      "Injected 56.25 pA current and got 3 spikes\n",
      "Injected 46.875 pA current and got 0 spikes\n",
      "Injected 51.5625 pA current and got 0 spikes\n",
      "Injected 53.90625 pA current and got 2 spikes\n",
      "Injected 52.734375 pA current and got 1 spikes\n",
      "Injected 52.1484375 pA current and got 1 spikes\n",
      "Highest subthreshold current is 51.56 pA\n",
      "Lowest suprathreshold current is 52.15 pA\n"
     ]
    },
    {
     "data": {
      "text/html": [
       "Score is <a style=\"color: rgb(228,244,153)\">Ratio = 0.40</a>\n"
      ],
      "text/plain": [
       "<IPython.core.display.HTML object>"
      ]
     },
     "metadata": {},
     "output_type": "display_data"
    },
    {
     "data": {
      "text/html": [
       "Executing test <i>InputResistanceTest</i> on model <i>V_rest=-60mV</i>... "
      ],
      "text/plain": [
       "<IPython.core.display.HTML object>"
      ]
     },
     "metadata": {},
     "output_type": "display_data"
    },
    {
     "data": {
      "text/html": [
       "Score is <a style=\"color: rgb(229,244,155)\">Z = -0.53</a>\n"
      ],
      "text/plain": [
       "<IPython.core.display.HTML object>"
      ]
     },
     "metadata": {},
     "output_type": "display_data"
    },
    {
     "data": {
      "text/html": [
       "Executing test <i>TimeConstantTest</i> on model <i>V_rest=-60mV</i>... "
      ],
      "text/plain": [
       "<IPython.core.display.HTML object>"
      ]
     },
     "metadata": {},
     "output_type": "display_data"
    },
    {
     "data": {
      "text/html": [
       "Score is <a style=\"color: rgb(250,147,84)\">Z = -1.42</a>\n"
      ],
      "text/plain": [
       "<IPython.core.display.HTML object>"
      ]
     },
     "metadata": {},
     "output_type": "display_data"
    },
    {
     "data": {
      "text/html": [
       "Executing test <i>CapacitanceTest</i> on model <i>V_rest=-60mV</i>... "
      ],
      "text/plain": [
       "<IPython.core.display.HTML object>"
      ]
     },
     "metadata": {},
     "output_type": "display_data"
    },
    {
     "data": {
      "text/html": [
       "Score is <a style=\"color: rgb(130,201,102)\">Z = 0.17</a>\n"
      ],
      "text/plain": [
       "<IPython.core.display.HTML object>"
      ]
     },
     "metadata": {},
     "output_type": "display_data"
    },
    {
     "data": {
      "text/html": [
       "Executing test <i>RestingPotentialTest</i> on model <i>V_rest=-60mV</i>... "
      ],
      "text/plain": [
       "<IPython.core.display.HTML object>"
      ]
     },
     "metadata": {},
     "output_type": "display_data"
    },
    {
     "data": {
      "text/html": [
       "Score is <a style=\"color: rgb(233,85,56)\">Z = -2.33</a>\n"
      ],
      "text/plain": [
       "<IPython.core.display.HTML object>"
      ]
     },
     "metadata": {},
     "output_type": "display_data"
    },
    {
     "data": {
      "text/html": [
       "Executing test <i>InjectedCurrentAPWidthTest</i> on model <i>V_rest=-60mV</i>... "
      ],
      "text/plain": [
       "<IPython.core.display.HTML object>"
      ]
     },
     "metadata": {},
     "output_type": "display_data"
    },
    {
     "data": {
      "text/html": [
       "Score is <a style=\"color: rgb(248,132,77)\">Z = -1.54</a>\n"
      ],
      "text/plain": [
       "<IPython.core.display.HTML object>"
      ]
     },
     "metadata": {},
     "output_type": "display_data"
    },
    {
     "data": {
      "text/html": [
       "Executing test <i>InjectedCurrentAPAmplitudeTest</i> on model <i>V_rest=-60mV</i>... "
      ],
      "text/plain": [
       "<IPython.core.display.HTML object>"
      ]
     },
     "metadata": {},
     "output_type": "display_data"
    },
    {
     "data": {
      "text/html": [
       "Score is <a style=\"color: rgb(255,239,164)\">Z = -0.80</a>\n"
      ],
      "text/plain": [
       "<IPython.core.display.HTML object>"
      ]
     },
     "metadata": {},
     "output_type": "display_data"
    },
    {
     "data": {
      "text/html": [
       "Executing test <i>InjectedCurrentAPThresholdTest</i> on model <i>V_rest=-60mV</i>... "
      ],
      "text/plain": [
       "<IPython.core.display.HTML object>"
      ]
     },
     "metadata": {},
     "output_type": "display_data"
    },
    {
     "data": {
      "text/html": [
       "Score is <a style=\"color: rgb(242,104,65)\">Z = -1.86</a>\n"
      ],
      "text/plain": [
       "<IPython.core.display.HTML object>"
      ]
     },
     "metadata": {},
     "output_type": "display_data"
    },
    {
     "data": {
      "text/html": [
       "Executing test <i>RheobaseTest</i> on model <i>V_rest=-50mV</i>... "
      ],
      "text/plain": [
       "<IPython.core.display.HTML object>"
      ]
     },
     "metadata": {},
     "output_type": "display_data"
    },
    {
     "name": "stdout",
     "output_type": "stream",
     "text": [
      "Injected 300.0 pA current and got 54 spikes\n",
      "Injected -0.0 pA current and got 0 spikes\n",
      "Injected 150.0 pA current and got 30 spikes\n",
      "Injected 75.0 pA current and got 16 spikes\n",
      "Injected 37.5 pA current and got 9 spikes\n",
      "Injected 18.75 pA current and got 5 spikes\n",
      "Injected 9.375 pA current and got 1 spikes\n",
      "Injected 4.6875 pA current and got 0 spikes\n",
      "Injected 7.03125 pA current and got 0 spikes\n",
      "Injected 8.203125 pA current and got 0 spikes\n",
      "Injected 8.7890625 pA current and got 0 spikes\n",
      "Highest subthreshold current is 8.79 pA\n",
      "Lowest suprathreshold current is 9.38 pA\n"
     ]
    },
    {
     "data": {
      "text/html": [
       "Score is <a style=\"color: rgb(230,78,52)\">Ratio = 0.07</a>\n"
      ],
      "text/plain": [
       "<IPython.core.display.HTML object>"
      ]
     },
     "metadata": {},
     "output_type": "display_data"
    },
    {
     "data": {
      "text/html": [
       "Executing test <i>InputResistanceTest</i> on model <i>V_rest=-50mV</i>... "
      ],
      "text/plain": [
       "<IPython.core.display.HTML object>"
      ]
     },
     "metadata": {},
     "output_type": "display_data"
    },
    {
     "data": {
      "text/html": [
       "Score is <a style=\"color: rgb(169,219,108)\">Z = 0.29</a>\n"
      ],
      "text/plain": [
       "<IPython.core.display.HTML object>"
      ]
     },
     "metadata": {},
     "output_type": "display_data"
    },
    {
     "data": {
      "text/html": [
       "Executing test <i>TimeConstantTest</i> on model <i>V_rest=-50mV</i>... "
      ],
      "text/plain": [
       "<IPython.core.display.HTML object>"
      ]
     },
     "metadata": {},
     "output_type": "display_data"
    },
    {
     "data": {
      "text/html": [
       "Score is <a style=\"color: rgb(252,165,93)\">Z = -1.29</a>\n"
      ],
      "text/plain": [
       "<IPython.core.display.HTML object>"
      ]
     },
     "metadata": {},
     "output_type": "display_data"
    },
    {
     "data": {
      "text/html": [
       "Executing test <i>CapacitanceTest</i> on model <i>V_rest=-50mV</i>... "
      ],
      "text/plain": [
       "<IPython.core.display.HTML object>"
      ]
     },
     "metadata": {},
     "output_type": "display_data"
    },
    {
     "data": {
      "text/html": [
       "Score is <a style=\"color: rgb(167,218,107)\">Z = 0.28</a>\n"
      ],
      "text/plain": [
       "<IPython.core.display.HTML object>"
      ]
     },
     "metadata": {},
     "output_type": "display_data"
    },
    {
     "data": {
      "text/html": [
       "Executing test <i>RestingPotentialTest</i> on model <i>V_rest=-50mV</i>... "
      ],
      "text/plain": [
       "<IPython.core.display.HTML object>"
      ]
     },
     "metadata": {},
     "output_type": "display_data"
    },
    {
     "data": {
      "text/html": [
       "Score is <a style=\"color: rgb(235,90,58)\">Z = -2.20</a>\n"
      ],
      "text/plain": [
       "<IPython.core.display.HTML object>"
      ]
     },
     "metadata": {},
     "output_type": "display_data"
    },
    {
     "data": {
      "text/html": [
       "Executing test <i>InjectedCurrentAPWidthTest</i> on model <i>V_rest=-50mV</i>... "
      ],
      "text/plain": [
       "<IPython.core.display.HTML object>"
      ]
     },
     "metadata": {},
     "output_type": "display_data"
    },
    {
     "data": {
      "text/html": [
       "Score is <a style=\"color: rgb(248,132,77)\">Z = -1.54</a>\n"
      ],
      "text/plain": [
       "<IPython.core.display.HTML object>"
      ]
     },
     "metadata": {},
     "output_type": "display_data"
    },
    {
     "data": {
      "text/html": [
       "Executing test <i>InjectedCurrentAPAmplitudeTest</i> on model <i>V_rest=-50mV</i>... "
      ],
      "text/plain": [
       "<IPython.core.display.HTML object>"
      ]
     },
     "metadata": {},
     "output_type": "display_data"
    },
    {
     "data": {
      "text/html": [
       "Score is <a style=\"color: rgb(255,233,153)\">Z = -0.85</a>\n"
      ],
      "text/plain": [
       "<IPython.core.display.HTML object>"
      ]
     },
     "metadata": {},
     "output_type": "display_data"
    },
    {
     "data": {
      "text/html": [
       "Executing test <i>InjectedCurrentAPThresholdTest</i> on model <i>V_rest=-50mV</i>... "
      ],
      "text/plain": [
       "<IPython.core.display.HTML object>"
      ]
     },
     "metadata": {},
     "output_type": "display_data"
    },
    {
     "data": {
      "text/html": [
       "Score is <a style=\"color: rgb(243,107,66)\">Z = -1.81</a>\n"
      ],
      "text/plain": [
       "<IPython.core.display.HTML object>"
      ]
     },
     "metadata": {},
     "output_type": "display_data"
    }
   ],
   "source": [
    "models = []\n",
    "for vr in np.linspace(-80,-50,4):\n",
    "    model = ReducedModel(LEMS_MODEL_PATH, \n",
    "                         name='V_rest=%dmV' % vr, \n",
    "                         attrs={'//izhikevich2007Cell':\n",
    "                                    {'vr':'%d mV' % vr}\n",
    "                               })\n",
    "    #model.skip_run = True\n",
    "    models.append(model)\n",
    "suite.set_verbose(False) # Turn off most print statements.  \n",
    "score_matrix = suite.judge(models)"
   ]
  },
  {
   "cell_type": "code",
   "execution_count": 7,
   "metadata": {
    "collapsed": false,
    "deletable": true,
    "editable": true
   },
   "outputs": [
    {
     "data": {
      "application/javascript": [
       "$(\"head\").append($(\"<link/>\").attr({\n",
       "  rel:  \"stylesheet\",\n",
       "  type: \"text/css\",\n",
       "  href: \"//ajax.aspnetcdn.com/ajax/jquery.dataTables/1.9.0/css/jquery.dataTables.css\"\n",
       "}));\n",
       "$.getScript(\"//ajax.aspnetcdn.com/ajax/jquery.dataTables/1.9.0/jquery.dataTables.min.js\", function () {\n",
       "$('#5446286687825830019').dataTable();});\n"
      ],
      "text/plain": [
       "<IPython.core.display.Javascript object>"
      ]
     },
     "metadata": {},
     "output_type": "display_data"
    },
    {
     "data": {
      "text/html": [
       "<html><body><div>\n",
       "<table border=\"1\" class=\"dataframe\" id=\"5446286687825830019\">\n",
       "<thead>\n",
       "<tr style=\"text-align: right;\">\n",
       "<th></th>\n",
       "<th title=\"Mean sort key value across tests\">Mean</th>\n",
       "<th title=\"A test of the rheobase, i.e. the minimum injected current needed to evoke at least one spike.\">RheobaseTest</th>\n",
       "<th title=\"A test of the input resistance of a cell.\">InputResistanceTest</th>\n",
       "<th title=\"A test of membrane time constant of a cell.\">TimeConstantTest</th>\n",
       "<th title=\"A test of the membrane capacitance of a cell.\">CapacitanceTest</th>\n",
       "<th title=\"A test of the resting potential of a cell where injected current is set to zero.\">RestingPotentialTest</th>\n",
       "<th title=\"A test of the widths of action potentials at half of their maximum height when current is injected into cell.\">InjectedCurrentAPWidthTest</th>\n",
       "<th title=\"A test of the heights (peak amplitudes) of action potentials when current is injected into cell.\">InjectedCurrentAPAmplitudeTest</th>\n",
       "<th title=\"A test of the membrane potential threshold at which action potentials are produced under current injection.\">InjectedCurrentAPThresholdTest</th>\n",
       "</tr>\n",
       "</thead>\n",
       "<tbody>\n",
       "<tr>\n",
       "<th title=\"Base class for reduced models, using LEMS\">V_rest=-80mV</th>\n",
       "<td style=\"background-color: rgb(254,218,134);\" title=\"Mean sort key value across tests\">0.342</td>\n",
       "<td style=\"background-color: rgb(185,226,118);\" title=\"A ratio of two numbers score. Usually the prediction divided bythe observation.\n",
       "The ratio between the prediction and the observation\">Ratio = 1.86</td>\n",
       "<td style=\"background-color: rgb(254,203,121);\" title=\"A Z score. A float indicating standardized difference from a reference mean.\n",
       "The difference between the means of the observation and prediction divided by the standard deviation of the observation\">Z = -1.04</td>\n",
       "<td style=\"background-color: rgb(248,137,80);\" title=\"A Z score. A float indicating standardized difference from a reference mean.\n",
       "The difference between the means of the observation and prediction divided by the standard deviation of the observation\">Z = -1.49</td>\n",
       "<td style=\"background-color: rgb(107,191,99);\" title=\"A Z score. A float indicating standardized difference from a reference mean.\n",
       "The difference between the means of the observation and prediction divided by the standard deviation of the observation\">Z = 0.11</td>\n",
       "<td style=\"background-color: rgb(231,80,54);\" title=\"A Z score. A float indicating standardized difference from a reference mean.\n",
       "The difference between the means of the observation and prediction divided by the standard deviation of the observation\">Z = -2.58</td>\n",
       "<td style=\"background-color: rgb(248,132,77);\" title=\"A Z score. A float indicating standardized difference from a reference mean.\n",
       "The difference between the means of the observation and prediction divided by the standard deviation of the observation\">Z = -1.54</td>\n",
       "<td style=\"background-color: rgb(255,249,180);\" title=\"A Z score. A float indicating standardized difference from a reference mean.\n",
       "The difference between the means of the observation and prediction divided by the standard deviation of the observation\">Z = -0.72</td>\n",
       "<td style=\"background-color: rgb(240,99,62);\" title=\"A Z score. A float indicating standardized difference from a reference mean.\n",
       "The difference between the means of the observation and prediction divided by the standard deviation of the observation\">Z = -1.94</td>\n",
       "</tr>\n",
       "<tr>\n",
       "<th title=\"Base class for reduced models, using LEMS\">V_rest=-70mV</th>\n",
       "<td style=\"background-color: rgb(255,230,149);\" title=\"Mean sort key value across tests\">0.384</td>\n",
       "<td style=\"background-color: rgb(63,170,89);\" title=\"A ratio of two numbers score. Usually the prediction divided bythe observation.\n",
       "The ratio between the prediction and the observation\">Ratio = 1.00</td>\n",
       "<td style=\"background-color: rgb(255,230,149);\" title=\"A Z score. A float indicating standardized difference from a reference mean.\n",
       "The difference between the means of the observation and prediction divided by the standard deviation of the observation\">Z = -0.87</td>\n",
       "<td style=\"background-color: rgb(249,140,81);\" title=\"A Z score. A float indicating standardized difference from a reference mean.\n",
       "The difference between the means of the observation and prediction divided by the standard deviation of the observation\">Z = -1.46</td>\n",
       "<td style=\"background-color: rgb(112,194,100);\" title=\"A Z score. A float indicating standardized difference from a reference mean.\n",
       "The difference between the means of the observation and prediction divided by the standard deviation of the observation\">Z = 0.12</td>\n",
       "<td style=\"background-color: rgb(232,83,55);\" title=\"A Z score. A float indicating standardized difference from a reference mean.\n",
       "The difference between the means of the observation and prediction divided by the standard deviation of the observation\">Z = -2.46</td>\n",
       "<td style=\"background-color: rgb(248,132,77);\" title=\"A Z score. A float indicating standardized difference from a reference mean.\n",
       "The difference between the means of the observation and prediction divided by the standard deviation of the observation\">Z = -1.54</td>\n",
       "<td style=\"background-color: rgb(255,244,172);\" title=\"A Z score. A float indicating standardized difference from a reference mean.\n",
       "The difference between the means of the observation and prediction divided by the standard deviation of the observation\">Z = -0.76</td>\n",
       "<td style=\"background-color: rgb(241,102,63);\" title=\"A Z score. A float indicating standardized difference from a reference mean.\n",
       "The difference between the means of the observation and prediction divided by the standard deviation of the observation\">Z = -1.90</td>\n",
       "</tr>\n",
       "<tr>\n",
       "<th title=\"Base class for reduced models, using LEMS\">V_rest=-60mV</th>\n",
       "<td style=\"background-color: rgb(254,224,139);\" title=\"Mean sort key value across tests\">0.356</td>\n",
       "<td style=\"background-color: rgb(228,244,153);\" title=\"A ratio of two numbers score. Usually the prediction divided bythe observation.\n",
       "The ratio between the prediction and the observation\">Ratio = 0.40</td>\n",
       "<td style=\"background-color: rgb(229,244,155);\" title=\"A Z score. A float indicating standardized difference from a reference mean.\n",
       "The difference between the means of the observation and prediction divided by the standard deviation of the observation\">Z = -0.53</td>\n",
       "<td style=\"background-color: rgb(250,147,84);\" title=\"A Z score. A float indicating standardized difference from a reference mean.\n",
       "The difference between the means of the observation and prediction divided by the standard deviation of the observation\">Z = -1.42</td>\n",
       "<td style=\"background-color: rgb(130,201,102);\" title=\"A Z score. A float indicating standardized difference from a reference mean.\n",
       "The difference between the means of the observation and prediction divided by the standard deviation of the observation\">Z = 0.17</td>\n",
       "<td style=\"background-color: rgb(233,85,56);\" title=\"A Z score. A float indicating standardized difference from a reference mean.\n",
       "The difference between the means of the observation and prediction divided by the standard deviation of the observation\">Z = -2.33</td>\n",
       "<td style=\"background-color: rgb(248,132,77);\" title=\"A Z score. A float indicating standardized difference from a reference mean.\n",
       "The difference between the means of the observation and prediction divided by the standard deviation of the observation\">Z = -1.54</td>\n",
       "<td style=\"background-color: rgb(255,239,164);\" title=\"A Z score. A float indicating standardized difference from a reference mean.\n",
       "The difference between the means of the observation and prediction divided by the standard deviation of the observation\">Z = -0.80</td>\n",
       "<td style=\"background-color: rgb(242,104,65);\" title=\"A Z score. A float indicating standardized difference from a reference mean.\n",
       "The difference between the means of the observation and prediction divided by the standard deviation of the observation\">Z = -1.86</td>\n",
       "</tr>\n",
       "<tr>\n",
       "<th title=\"Base class for reduced models, using LEMS\">V_rest=-50mV</th>\n",
       "<td style=\"background-color: rgb(254,203,121);\" title=\"Mean sort key value across tests\">0.296</td>\n",
       "<td style=\"background-color: rgb(230,78,52);\" title=\"A ratio of two numbers score. Usually the prediction divided bythe observation.\n",
       "The ratio between the prediction and the observation\">Ratio = 0.07</td>\n",
       "<td style=\"background-color: rgb(169,219,108);\" title=\"A Z score. A float indicating standardized difference from a reference mean.\n",
       "The difference between the means of the observation and prediction divided by the standard deviation of the observation\">Z = 0.29</td>\n",
       "<td style=\"background-color: rgb(252,165,93);\" title=\"A Z score. A float indicating standardized difference from a reference mean.\n",
       "The difference between the means of the observation and prediction divided by the standard deviation of the observation\">Z = -1.29</td>\n",
       "<td style=\"background-color: rgb(167,218,107);\" title=\"A Z score. A float indicating standardized difference from a reference mean.\n",
       "The difference between the means of the observation and prediction divided by the standard deviation of the observation\">Z = 0.28</td>\n",
       "<td style=\"background-color: rgb(235,90,58);\" title=\"A Z score. A float indicating standardized difference from a reference mean.\n",
       "The difference between the means of the observation and prediction divided by the standard deviation of the observation\">Z = -2.20</td>\n",
       "<td style=\"background-color: rgb(248,132,77);\" title=\"A Z score. A float indicating standardized difference from a reference mean.\n",
       "The difference between the means of the observation and prediction divided by the standard deviation of the observation\">Z = -1.54</td>\n",
       "<td style=\"background-color: rgb(255,233,153);\" title=\"A Z score. A float indicating standardized difference from a reference mean.\n",
       "The difference between the means of the observation and prediction divided by the standard deviation of the observation\">Z = -0.85</td>\n",
       "<td style=\"background-color: rgb(243,107,66);\" title=\"A Z score. A float indicating standardized difference from a reference mean.\n",
       "The difference between the means of the observation and prediction divided by the standard deviation of the observation\">Z = -1.81</td>\n",
       "</tr>\n",
       "</tbody>\n",
       "</table>\n",
       "</div></body></html>"
      ],
      "text/plain": [
       "              RheobaseTest InputResistanceTest TimeConstantTest  \\\n",
       "V_rest=-80mV  Ratio = 1.86           Z = -1.04        Z = -1.49   \n",
       "V_rest=-70mV  Ratio = 1.00           Z = -0.87        Z = -1.46   \n",
       "V_rest=-60mV  Ratio = 0.40           Z = -0.53        Z = -1.42   \n",
       "V_rest=-50mV  Ratio = 0.07            Z = 0.29        Z = -1.29   \n",
       "\n",
       "             CapacitanceTest RestingPotentialTest InjectedCurrentAPWidthTest  \\\n",
       "V_rest=-80mV        Z = 0.11            Z = -2.58                  Z = -1.54   \n",
       "V_rest=-70mV        Z = 0.12            Z = -2.46                  Z = -1.54   \n",
       "V_rest=-60mV        Z = 0.17            Z = -2.33                  Z = -1.54   \n",
       "V_rest=-50mV        Z = 0.28            Z = -2.20                  Z = -1.54   \n",
       "\n",
       "             InjectedCurrentAPAmplitudeTest InjectedCurrentAPThresholdTest  \n",
       "V_rest=-80mV                      Z = -0.72                      Z = -1.94  \n",
       "V_rest=-70mV                      Z = -0.76                      Z = -1.90  \n",
       "V_rest=-60mV                      Z = -0.80                      Z = -1.86  \n",
       "V_rest=-50mV                      Z = -0.85                      Z = -1.81  "
      ]
     },
     "execution_count": 7,
     "metadata": {},
     "output_type": "execute_result"
    }
   ],
   "source": [
    "score_matrix.show_mean = True # Show the mean value across test scores. \n",
    "                              # The mean is computed using the sort_key attribute, which is in the range [0,1] for\n",
    "                              # all Score types\n",
    "score_matrix.sortable = True # Make the ScoreMatrix sortable (and searchable)\n",
    "score_matrix"
   ]
  },
  {
   "cell_type": "markdown",
   "metadata": {
    "deletable": true,
    "editable": true
   },
   "source": [
    "### Let's take a look at a sweep from one of these models ($V_{rest} = -55 mV$) obtained at the rheobase current.  "
   ]
  },
  {
   "cell_type": "code",
   "execution_count": 10,
   "metadata": {
    "collapsed": false,
    "deletable": true,
    "editable": true
   },
   "outputs": [
    {
     "data": {
      "image/png": "[encoded data removed]",
      "text/plain": [
       "<matplotlib.figure.Figure at 0x7fa605ff0278>"
      ]
     },
     "metadata": {},
     "output_type": "display_data"
    }
   ],
   "source": [
    "import matplotlib as mpl\n",
    "mpl.rcParams['font.size'] = 18\n",
    "score_matrix['RheobaseTest']['V_rest=-60mV'].plot_vm() # Plot the rheobase current from the model with V_rest = -60 mV"
   ]
  }
 ],
 "metadata": {
  "kernelspec": {
   "display_name": "Python 3",
   "language": "python",
   "name": "python3"
  },
  "language_info": {
   "codemirror_mode": {
    "name": "ipython",
    "version": 3
   },
   "file_extension": ".py",
   "mimetype": "text/x-python",
   "name": "python",
   "nbconvert_exporter": "python",
   "pygments_lexer": "ipython3",
   "version": "3.5.2"
  }
 },
 "nbformat": 4,
 "nbformat_minor": 0
}
