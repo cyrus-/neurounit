{
 "cells": [
  {
   "cell_type": "markdown",
   "metadata": {
    "collapsed": false
   },
   "source": [
    "![NeuronUnit Logo](https://raw.githubusercontent.com/scidash/assets/master/logos/neuronunit.png)\n",
    "# Chapter 3\n",
    "Back to [Chapter 2](chapter2.ipynb)"
   ]
  },
  {
   "cell_type": "markdown",
   "metadata": {},
   "source": [
    "In the second chapter we tested a real ion channel model using data from the [OpenWorm](http://openworm.org) project.  Here we'll test a reduced neuron model using data from the [NeuroElectro](http://neuroelectro.org) project and from the [Allen Brain Institute Cell Types](http://celltypes.brain-map.org) database.  \n",
    "### We'll test an Izhikevich model against data from a Layer V pyramidal cell in primary visual cortex"
   ]
  },
  {
   "cell_type": "code",
   "execution_count": 23,
   "metadata": {
    "collapsed": true
   },
   "outputs": [],
   "source": [
    "#import sys\n",
    "#sys.path.insert(0,'/home/jovyan/work/dev/scidash/sciunit')\n",
    "#sys.path.insert(0,'/home/jovyan/work/dev/scidash/neuronunit')\n",
    "#sys.path.insert(0,'/home/jovyan/work/dev/neuroml/pyneuroml')"
   ]
  },
  {
   "cell_type": "code",
   "execution_count": 2,
   "metadata": {
    "collapsed": false,
    "deletable": true,
    "editable": true
   },
   "outputs": [],
   "source": [
    "%matplotlib inline\n",
    "import os,sys\n",
    "import numpy as np\n",
    "import matplotlib.pyplot as plt\n",
    "import quantities as pq\n",
    "import sciunit\n",
    "import neuronunit\n",
    "from neuronunit import aibs\n",
    "from neuronunit.models.reduced import ReducedModel"
   ]
  },
  {
   "cell_type": "code",
   "execution_count": 3,
   "metadata": {
    "collapsed": false,
    "deletable": true,
    "editable": true
   },
   "outputs": [
    {
     "name": "stdout",
     "output_type": "stream",
     "text": [
      "Getting Rheobase cached data value for from AIBS dataset 354190013\n",
      "Getting Input Resistance data values from neuroelectro.org\n",
      "http://www.neuroelectro.org/api/1/nes/?nlex=nifext_50&e__name=Input+Resistance\n",
      "Getting Membrane Time Constant data values from neuroelectro.org\n",
      "http://www.neuroelectro.org/api/1/nes/?nlex=nifext_50&e__name=Membrane+Time+Constant\n",
      "Getting Cell Capacitance data values from neuroelectro.org\n",
      "http://www.neuroelectro.org/api/1/nes/?nlex=nifext_50&e__name=Cell+Capacitance\n",
      "Getting Resting membrane potential data values from neuroelectro.org\n",
      "http://www.neuroelectro.org/api/1/nes/?nlex=nifext_50&e__name=Resting+membrane+potential\n",
      "Getting Spike Half-Width data values from neuroelectro.org\n",
      "http://www.neuroelectro.org/api/1/nes/?nlex=nifext_50&e__name=Spike+Half-Width\n",
      "Getting Spike Amplitude data values from neuroelectro.org\n",
      "http://www.neuroelectro.org/api/1/nes/?nlex=nifext_50&e__name=Spike+Amplitude\n",
      "Getting Spike Threshold data values from neuroelectro.org\n",
      "http://www.neuroelectro.org/api/1/nes/?nlex=nifext_50&e__name=Spike+Threshold\n"
     ]
    }
   ],
   "source": [
    "import quantities as pq\n",
    "from neuronunit import tests as nu_tests, neuroelectro\n",
    "neuron = {'nlex_id': 'nifext_50'} # Layer V pyramidal cell\n",
    "tests = []\n",
    "\n",
    "dataset_id = 354190013  # Internal ID that AIBS uses for a particular Scnn1a-Tg2-Cre \n",
    "                        # Primary visual area, layer 5 neuron.\n",
    "    \n",
    "# Obtain the empirical rheobase current from the Allen Brain Insitute Cell Types database.  \n",
    "observation = aibs.get_observation(dataset_id,'rheobase')\n",
    "tests += [nu_tests.RheobaseTest(observation=observation)]\n",
    "    \n",
    "test_class_params = [(nu_tests.InputResistanceTest,None),\n",
    "                     (nu_tests.TimeConstantTest,None),\n",
    "                     (nu_tests.CapacitanceTest,None),\n",
    "                     (nu_tests.RestingPotentialTest,None),\n",
    "                     (nu_tests.InjectedCurrentAPWidthTest,None),\n",
    "                     (nu_tests.InjectedCurrentAPAmplitudeTest,None),\n",
    "                     (nu_tests.InjectedCurrentAPThresholdTest,None)\n",
    "                    ]\n",
    "\n",
    "# Obtain all other parameters from neuroelectro.org.\n",
    "for cls,params in test_class_params:\n",
    "    observation = cls.neuroelectro_summary_observation(neuron)\n",
    "    tests += [cls(observation,params=params)]\n",
    "    \n",
    "# A hook to update all tests after the RheobaseTest to use the rheobase current (to produce exactly one AP)\n",
    "def update_amplitude(test,tests,score):\n",
    "    rheobase = score.prediction['value']\n",
    "    for test in tests[1:]:\n",
    "        if 'Injected' in test.name:\n",
    "            # Set current injection to just suprathreshold\n",
    "            test.params['injected_square_current']['amplitude'] = rheobase*1.01 \n",
    "    \n",
    "hooks = {tests[0]:{'f':update_amplitude}}\n",
    "suite = sciunit.TestSuite(\"vm_suite\",tests,hooks=hooks)"
   ]
  },
  {
   "cell_type": "markdown",
   "metadata": {},
   "source": [
    "### The Izhikevich model here is defined in an NeuroML2/LEMS file.  \n",
    "### We will run it using the jNeuroML backend for simplicity, although this is *much* slower than the native NEURON backend.  "
   ]
  },
  {
   "cell_type": "code",
   "execution_count": 4,
   "metadata": {
    "collapsed": false,
    "deletable": true,
    "editable": true
   },
   "outputs": [],
   "source": [
    "# This example is from https://github.com/OpenSourceBrain/IzhikevichModel.\n",
    "IZHIKEVICH_PATH = os.getcwd()\n",
    "LEMS_MODEL_PATH = os.path.join(IZHIKEVICH_PATH,'data/NeuroML2/LEMS_2007One.xml')\n",
    "model = ReducedModel(LEMS_MODEL_PATH,name='vanilla',backend='jNeuroML')"
   ]
  },
  {
   "cell_type": "markdown",
   "metadata": {},
   "source": [
    "### Run a series of tests.  The RheobaseTest is run first to obtain the rheobase current to use in all the other tests."
   ]
  },
  {
   "cell_type": "code",
   "execution_count": 5,
   "metadata": {
    "collapsed": false
   },
   "outputs": [
    {
     "data": {
      "text/html": [
       "Executing test <i>RheobaseTest</i> on model <i>vanilla</i>... "
      ],
      "text/plain": [
       "<IPython.core.display.HTML object>"
      ]
     },
     "metadata": {},
     "output_type": "display_data"
    },
    {
     "name": "stdout",
     "output_type": "stream",
     "text": [
      "Injected 300.0 pA current and got 54 spikes\n",
      "Injected -0.0 pA current and got 0 spikes\n",
      "Injected 150.0 pA current and got 25 spikes\n",
      "Injected 75.0 pA current and got 8 spikes\n",
      "Injected 37.5 pA current and got 0 spikes\n",
      "Injected 56.25 pA current and got 3 spikes\n",
      "Injected 46.875 pA current and got 0 spikes\n",
      "Injected 51.5625 pA current and got 0 spikes\n",
      "Injected 53.90625 pA current and got 2 spikes\n",
      "Injected 52.734375 pA current and got 1 spikes\n",
      "Injected 52.1484375 pA current and got 1 spikes\n",
      "Highest subthreshold current is 51.56 pA\n",
      "Lowest suprathreshold current is 52.15 pA\n"
     ]
    },
    {
     "data": {
      "text/html": [
       "Score is <a style=\"color: rgb(228,244,153)\">Ratio = 0.40</a>\n"
      ],
      "text/plain": [
       "<IPython.core.display.HTML object>"
      ]
     },
     "metadata": {},
     "output_type": "display_data"
    },
    {
     "data": {
      "text/html": [
       "Executing test <i>InputResistanceTest</i> on model <i>vanilla</i>... "
      ],
      "text/plain": [
       "<IPython.core.display.HTML object>"
      ]
     },
     "metadata": {},
     "output_type": "display_data"
    },
    {
     "data": {
      "text/html": [
       "Score is <a style=\"color: rgb(229,244,155)\">Z = -0.53</a>\n"
      ],
      "text/plain": [
       "<IPython.core.display.HTML object>"
      ]
     },
     "metadata": {},
     "output_type": "display_data"
    },
    {
     "data": {
      "text/html": [
       "Executing test <i>TimeConstantTest</i> on model <i>vanilla</i>... "
      ],
      "text/plain": [
       "<IPython.core.display.HTML object>"
      ]
     },
     "metadata": {},
     "output_type": "display_data"
    },
    {
     "data": {
      "text/html": [
       "Score is <a style=\"color: rgb(255,252,186)\">Z = -0.69</a>\n"
      ],
      "text/plain": [
       "<IPython.core.display.HTML object>"
      ]
     },
     "metadata": {},
     "output_type": "display_data"
    },
    {
     "data": {
      "text/html": [
       "Executing test <i>CapacitanceTest</i> on model <i>vanilla</i>... "
      ],
      "text/plain": [
       "<IPython.core.display.HTML object>"
      ]
     },
     "metadata": {},
     "output_type": "display_data"
    },
    {
     "data": {
      "text/html": [
       "Score is <a style=\"color: rgb(112,194,100)\">Z = -0.12</a>\n"
      ],
      "text/plain": [
       "<IPython.core.display.HTML object>"
      ]
     },
     "metadata": {},
     "output_type": "display_data"
    },
    {
     "data": {
      "text/html": [
       "Executing test <i>RestingPotentialTest</i> on model <i>vanilla</i>... "
      ],
      "text/plain": [
       "<IPython.core.display.HTML object>"
      ]
     },
     "metadata": {},
     "output_type": "display_data"
    },
    {
     "data": {
      "text/html": [
       "Score is <a style=\"color: rgb(253,170,95)\">Z = 1.26</a>\n"
      ],
      "text/plain": [
       "<IPython.core.display.HTML object>"
      ]
     },
     "metadata": {},
     "output_type": "display_data"
    },
    {
     "data": {
      "text/html": [
       "Executing test <i>InjectedCurrentAPWidthTest</i> on model <i>vanilla</i>... "
      ],
      "text/plain": [
       "<IPython.core.display.HTML object>"
      ]
     },
     "metadata": {},
     "output_type": "display_data"
    },
    {
     "data": {
      "text/html": [
       "Score is <a style=\"color: rgb(246,251,178)\">Z = -0.62</a>\n"
      ],
      "text/plain": [
       "<IPython.core.display.HTML object>"
      ]
     },
     "metadata": {},
     "output_type": "display_data"
    },
    {
     "data": {
      "text/html": [
       "Executing test <i>InjectedCurrentAPAmplitudeTest</i> on model <i>vanilla</i>... "
      ],
      "text/plain": [
       "<IPython.core.display.HTML object>"
      ]
     },
     "metadata": {},
     "output_type": "display_data"
    },
    {
     "data": {
      "text/html": [
       "Score is <a style=\"color: rgb(245,114,69)\">Z = -1.72</a>\n"
      ],
      "text/plain": [
       "<IPython.core.display.HTML object>"
      ]
     },
     "metadata": {},
     "output_type": "display_data"
    },
    {
     "data": {
      "text/html": [
       "Executing test <i>InjectedCurrentAPThresholdTest</i> on model <i>vanilla</i>... "
      ],
      "text/plain": [
       "<IPython.core.display.HTML object>"
      ]
     },
     "metadata": {},
     "output_type": "display_data"
    },
    {
     "data": {
      "text/html": [
       "Score is <a style=\"color: rgb(233,85,56)\">Z = 2.39</a>\n"
      ],
      "text/plain": [
       "<IPython.core.display.HTML object>"
      ]
     },
     "metadata": {},
     "output_type": "display_data"
    }
   ],
   "source": [
    "score_matrix = suite.judge(model)"
   ]
  },
  {
   "cell_type": "markdown",
   "metadata": {},
   "source": [
    "### Now we can sweep across a parameter (the resting potential) and run the same test suite on a model corresponding to each value of this parameter."
   ]
  },
  {
   "cell_type": "code",
   "execution_count": 6,
   "metadata": {
    "collapsed": false,
    "deletable": true,
    "editable": true
   },
   "outputs": [
    {
     "data": {
      "text/html": [
       "Executing test <i>RheobaseTest</i> on model <i>V_rest=-75mV</i>... "
      ],
      "text/plain": [
       "<IPython.core.display.HTML object>"
      ]
     },
     "metadata": {},
     "output_type": "display_data"
    },
    {
     "name": "stdout",
     "output_type": "stream",
     "text": [
      "Highest subthreshold current is 181.05 pA\n",
      "Lowest suprathreshold current is 181.64 pA\n"
     ]
    },
    {
     "data": {
      "text/html": [
       "Score is <a style=\"color: rgb(135,204,102)\">Ratio = 1.40</a>\n"
      ],
      "text/plain": [
       "<IPython.core.display.HTML object>"
      ]
     },
     "metadata": {},
     "output_type": "display_data"
    },
    {
     "data": {
      "text/html": [
       "Executing test <i>InputResistanceTest</i> on model <i>V_rest=-75mV</i>... "
      ],
      "text/plain": [
       "<IPython.core.display.HTML object>"
      ]
     },
     "metadata": {},
     "output_type": "display_data"
    },
    {
     "data": {
      "text/html": [
       "Score is <a style=\"color: rgb(254,217,132)\">Z = -0.96</a>\n"
      ],
      "text/plain": [
       "<IPython.core.display.HTML object>"
      ]
     },
     "metadata": {},
     "output_type": "display_data"
    },
    {
     "data": {
      "text/html": [
       "Executing test <i>TimeConstantTest</i> on model <i>V_rest=-75mV</i>... "
      ],
      "text/plain": [
       "<IPython.core.display.HTML object>"
      ]
     },
     "metadata": {},
     "output_type": "display_data"
    },
    {
     "data": {
      "text/html": [
       "Score is <a style=\"color: rgb(251,158,89)\">Z = -1.34</a>\n"
      ],
      "text/plain": [
       "<IPython.core.display.HTML object>"
      ]
     },
     "metadata": {},
     "output_type": "display_data"
    },
    {
     "data": {
      "text/html": [
       "Executing test <i>CapacitanceTest</i> on model <i>V_rest=-75mV</i>... "
      ],
      "text/plain": [
       "<IPython.core.display.HTML object>"
      ]
     },
     "metadata": {},
     "output_type": "display_data"
    },
    {
     "data": {
      "text/html": [
       "Score is <a style=\"color: rgb(122,198,101)\">Z = -0.15</a>\n"
      ],
      "text/plain": [
       "<IPython.core.display.HTML object>"
      ]
     },
     "metadata": {},
     "output_type": "display_data"
    },
    {
     "data": {
      "text/html": [
       "Executing test <i>RestingPotentialTest</i> on model <i>V_rest=-75mV</i>... "
      ],
      "text/plain": [
       "<IPython.core.display.HTML object>"
      ]
     },
     "metadata": {},
     "output_type": "display_data"
    },
    {
     "data": {
      "text/html": [
       "Score is <a style=\"color: rgb(254,205,123)\">Z = -1.03</a>\n"
      ],
      "text/plain": [
       "<IPython.core.display.HTML object>"
      ]
     },
     "metadata": {},
     "output_type": "display_data"
    },
    {
     "data": {
      "text/html": [
       "Executing test <i>InjectedCurrentAPWidthTest</i> on model <i>V_rest=-75mV</i>... "
      ],
      "text/plain": [
       "<IPython.core.display.HTML object>"
      ]
     },
     "metadata": {},
     "output_type": "display_data"
    },
    {
     "data": {
      "text/html": [
       "Score is <a style=\"color: rgb(255,245,174)\">Z = -0.75</a>\n"
      ],
      "text/plain": [
       "<IPython.core.display.HTML object>"
      ]
     },
     "metadata": {},
     "output_type": "display_data"
    },
    {
     "data": {
      "text/html": [
       "Executing test <i>InjectedCurrentAPAmplitudeTest</i> on model <i>V_rest=-75mV</i>... "
      ],
      "text/plain": [
       "<IPython.core.display.HTML object>"
      ]
     },
     "metadata": {},
     "output_type": "display_data"
    },
    {
     "data": {
      "text/html": [
       "Score is <a style=\"color: rgb(252,160,90)\">Z = -1.32</a>\n"
      ],
      "text/plain": [
       "<IPython.core.display.HTML object>"
      ]
     },
     "metadata": {},
     "output_type": "display_data"
    },
    {
     "data": {
      "text/html": [
       "Executing test <i>InjectedCurrentAPThresholdTest</i> on model <i>V_rest=-75mV</i>... "
      ],
      "text/plain": [
       "<IPython.core.display.HTML object>"
      ]
     },
     "metadata": {},
     "output_type": "display_data"
    },
    {
     "data": {
      "text/html": [
       "Score is <a style=\"color: rgb(245,111,68)\">Z = 1.75</a>\n"
      ],
      "text/plain": [
       "<IPython.core.display.HTML object>"
      ]
     },
     "metadata": {},
     "output_type": "display_data"
    },
    {
     "data": {
      "text/html": [
       "Executing test <i>RheobaseTest</i> on model <i>V_rest=-70mV</i>... "
      ],
      "text/plain": [
       "<IPython.core.display.HTML object>"
      ]
     },
     "metadata": {},
     "output_type": "display_data"
    },
    {
     "name": "stdout",
     "output_type": "stream",
     "text": [
      "Injected 300.0 pA current and got 50 spikes\n",
      "Injected -0.0 pA current and got 0 spikes\n",
      "Injected 150.0 pA current and got 8 spikes\n",
      "Injected 75.0 pA current and got 0 spikes\n",
      "Injected 112.5 pA current and got 0 spikes\n",
      "Injected 131.25 pA current and got 2 spikes\n",
      "Injected 121.875 pA current and got 0 spikes\n",
      "Injected 126.5625 pA current and got 0 spikes\n",
      "Injected 128.90625 pA current and got 0 spikes\n",
      "Injected 130.078125 pA current and got 1 spikes\n",
      "Injected 129.4921875 pA current and got 1 spikes\n",
      "Highest subthreshold current is 128.91 pA\n",
      "Lowest suprathreshold current is 129.49 pA\n"
     ]
    },
    {
     "data": {
      "text/html": [
       "Score is <a style=\"color: rgb(63,170,89)\">Ratio = 1.00</a>\n"
      ],
      "text/plain": [
       "<IPython.core.display.HTML object>"
      ]
     },
     "metadata": {},
     "output_type": "display_data"
    },
    {
     "data": {
      "text/html": [
       "Executing test <i>InputResistanceTest</i> on model <i>V_rest=-70mV</i>... "
      ],
      "text/plain": [
       "<IPython.core.display.HTML object>"
      ]
     },
     "metadata": {},
     "output_type": "display_data"
    },
    {
     "data": {
      "text/html": [
       "Score is <a style=\"color: rgb(255,230,149)\">Z = -0.87</a>\n"
      ],
      "text/plain": [
       "<IPython.core.display.HTML object>"
      ]
     },
     "metadata": {},
     "output_type": "display_data"
    },
    {
     "data": {
      "text/html": [
       "Executing test <i>TimeConstantTest</i> on model <i>V_rest=-70mV</i>... "
      ],
      "text/plain": [
       "<IPython.core.display.HTML object>"
      ]
     },
     "metadata": {},
     "output_type": "display_data"
    },
    {
     "data": {
      "text/html": [
       "Score is <a style=\"color: rgb(254,179,101)\">Z = -1.20</a>\n"
      ],
      "text/plain": [
       "<IPython.core.display.HTML object>"
      ]
     },
     "metadata": {},
     "output_type": "display_data"
    },
    {
     "data": {
      "text/html": [
       "Executing test <i>CapacitanceTest</i> on model <i>V_rest=-70mV</i>... "
      ],
      "text/plain": [
       "<IPython.core.display.HTML object>"
      ]
     },
     "metadata": {},
     "output_type": "display_data"
    },
    {
     "data": {
      "text/html": [
       "Score is <a style=\"color: rgb(120,197,101)\">Z = -0.15</a>\n"
      ],
      "text/plain": [
       "<IPython.core.display.HTML object>"
      ]
     },
     "metadata": {},
     "output_type": "display_data"
    },
    {
     "data": {
      "text/html": [
       "Executing test <i>RestingPotentialTest</i> on model <i>V_rest=-70mV</i>... "
      ],
      "text/plain": [
       "<IPython.core.display.HTML object>"
      ]
     },
     "metadata": {},
     "output_type": "display_data"
    },
    {
     "data": {
      "text/html": [
       "Score is <a style=\"color: rgb(165,217,106)\">Z = -0.27</a>\n"
      ],
      "text/plain": [
       "<IPython.core.display.HTML object>"
      ]
     },
     "metadata": {},
     "output_type": "display_data"
    },
    {
     "data": {
      "text/html": [
       "Executing test <i>InjectedCurrentAPWidthTest</i> on model <i>V_rest=-70mV</i>... "
      ],
      "text/plain": [
       "<IPython.core.display.HTML object>"
      ]
     },
     "metadata": {},
     "output_type": "display_data"
    },
    {
     "data": {
      "text/html": [
       "Score is <a style=\"color: rgb(255,251,184)\">Z = -0.71</a>\n"
      ],
      "text/plain": [
       "<IPython.core.display.HTML object>"
      ]
     },
     "metadata": {},
     "output_type": "display_data"
    },
    {
     "data": {
      "text/html": [
       "Executing test <i>InjectedCurrentAPAmplitudeTest</i> on model <i>V_rest=-70mV</i>... "
      ],
      "text/plain": [
       "<IPython.core.display.HTML object>"
      ]
     },
     "metadata": {},
     "output_type": "display_data"
    },
    {
     "data": {
      "text/html": [
       "Score is <a style=\"color: rgb(249,142,82)\">Z = -1.45</a>\n"
      ],
      "text/plain": [
       "<IPython.core.display.HTML object>"
      ]
     },
     "metadata": {},
     "output_type": "display_data"
    },
    {
     "data": {
      "text/html": [
       "Executing test <i>InjectedCurrentAPThresholdTest</i> on model <i>V_rest=-70mV</i>... "
      ],
      "text/plain": [
       "<IPython.core.display.HTML object>"
      ]
     },
     "metadata": {},
     "output_type": "display_data"
    },
    {
     "data": {
      "text/html": [
       "Score is <a style=\"color: rgb(239,97,61)\">Z = 1.97</a>\n"
      ],
      "text/plain": [
       "<IPython.core.display.HTML object>"
      ]
     },
     "metadata": {},
     "output_type": "display_data"
    },
    {
     "data": {
      "text/html": [
       "Executing test <i>RheobaseTest</i> on model <i>V_rest=-65mV</i>... "
      ],
      "text/plain": [
       "<IPython.core.display.HTML object>"
      ]
     },
     "metadata": {},
     "output_type": "display_data"
    },
    {
     "name": "stdout",
     "output_type": "stream",
     "text": [
      "Injected 300.0 pA current and got 53 spikes\n",
      "Injected -0.0 pA current and got 0 spikes\n",
      "Injected 150.0 pA current and got 19 spikes\n",
      "Injected 75.0 pA current and got 0 spikes\n",
      "Injected 112.5 pA current and got 9 spikes\n",
      "Injected 93.75 pA current and got 4 spikes\n",
      "Injected 84.375 pA current and got 0 spikes\n",
      "Injected 89.0625 pA current and got 2 spikes\n",
      "Injected 86.71875 pA current and got 1 spikes\n",
      "Injected 85.546875 pA current and got 0 spikes\n",
      "Injected 86.1328125 pA current and got 0 spikes\n",
      "Highest subthreshold current is 86.13 pA\n",
      "Lowest suprathreshold current is 86.72 pA\n"
     ]
    },
    {
     "data": {
      "text/html": [
       "Score is <a style=\"color: rgb(147,209,104)\">Ratio = 0.67</a>\n"
      ],
      "text/plain": [
       "<IPython.core.display.HTML object>"
      ]
     },
     "metadata": {},
     "output_type": "display_data"
    },
    {
     "data": {
      "text/html": [
       "Executing test <i>InputResistanceTest</i> on model <i>V_rest=-65mV</i>... "
      ],
      "text/plain": [
       "<IPython.core.display.HTML object>"
      ]
     },
     "metadata": {},
     "output_type": "display_data"
    },
    {
     "data": {
      "text/html": [
       "Score is <a style=\"color: rgb(255,248,178)\">Z = -0.73</a>\n"
      ],
      "text/plain": [
       "<IPython.core.display.HTML object>"
      ]
     },
     "metadata": {},
     "output_type": "display_data"
    },
    {
     "data": {
      "text/html": [
       "Executing test <i>TimeConstantTest</i> on model <i>V_rest=-65mV</i>... "
      ],
      "text/plain": [
       "<IPython.core.display.HTML object>"
      ]
     },
     "metadata": {},
     "output_type": "display_data"
    },
    {
     "data": {
      "text/html": [
       "Score is <a style=\"color: rgb(254,211,127)\">Z = -1.00</a>\n"
      ],
      "text/plain": [
       "<IPython.core.display.HTML object>"
      ]
     },
     "metadata": {},
     "output_type": "display_data"
    },
    {
     "data": {
      "text/html": [
       "Executing test <i>CapacitanceTest</i> on model <i>V_rest=-65mV</i>... "
      ],
      "text/plain": [
       "<IPython.core.display.HTML object>"
      ]
     },
     "metadata": {},
     "output_type": "display_data"
    },
    {
     "data": {
      "text/html": [
       "Score is <a style=\"color: rgb(117,196,101)\">Z = -0.14</a>\n"
      ],
      "text/plain": [
       "<IPython.core.display.HTML object>"
      ]
     },
     "metadata": {},
     "output_type": "display_data"
    },
    {
     "data": {
      "text/html": [
       "Executing test <i>RestingPotentialTest</i> on model <i>V_rest=-65mV</i>... "
      ],
      "text/plain": [
       "<IPython.core.display.HTML object>"
      ]
     },
     "metadata": {},
     "output_type": "display_data"
    },
    {
     "data": {
      "text/html": [
       "Score is <a style=\"color: rgb(223,242,147)\">Z = 0.50</a>\n"
      ],
      "text/plain": [
       "<IPython.core.display.HTML object>"
      ]
     },
     "metadata": {},
     "output_type": "display_data"
    },
    {
     "data": {
      "text/html": [
       "Executing test <i>InjectedCurrentAPWidthTest</i> on model <i>V_rest=-65mV</i>... "
      ],
      "text/plain": [
       "<IPython.core.display.HTML object>"
      ]
     },
     "metadata": {},
     "output_type": "display_data"
    },
    {
     "data": {
      "text/html": [
       "Score is <a style=\"color: rgb(253,255,188)\">Z = -0.66</a>\n"
      ],
      "text/plain": [
       "<IPython.core.display.HTML object>"
      ]
     },
     "metadata": {},
     "output_type": "display_data"
    },
    {
     "data": {
      "text/html": [
       "Executing test <i>InjectedCurrentAPAmplitudeTest</i> on model <i>V_rest=-65mV</i>... "
      ],
      "text/plain": [
       "<IPython.core.display.HTML object>"
      ]
     },
     "metadata": {},
     "output_type": "display_data"
    },
    {
     "data": {
      "text/html": [
       "Score is <a style=\"color: rgb(247,127,75)\">Z = -1.59</a>\n"
      ],
      "text/plain": [
       "<IPython.core.display.HTML object>"
      ]
     },
     "metadata": {},
     "output_type": "display_data"
    },
    {
     "data": {
      "text/html": [
       "Executing test <i>InjectedCurrentAPThresholdTest</i> on model <i>V_rest=-65mV</i>... "
      ],
      "text/plain": [
       "<IPython.core.display.HTML object>"
      ]
     },
     "metadata": {},
     "output_type": "display_data"
    },
    {
     "data": {
      "text/html": [
       "Score is <a style=\"color: rgb(235,90,58)\">Z = 2.18</a>\n"
      ],
      "text/plain": [
       "<IPython.core.display.HTML object>"
      ]
     },
     "metadata": {},
     "output_type": "display_data"
    },
    {
     "data": {
      "text/html": [
       "Executing test <i>RheobaseTest</i> on model <i>V_rest=-60mV</i>... "
      ],
      "text/plain": [
       "<IPython.core.display.HTML object>"
      ]
     },
     "metadata": {},
     "output_type": "display_data"
    },
    {
     "name": "stdout",
     "output_type": "stream",
     "text": [
      "Injected 300.0 pA current and got 54 spikes\n",
      "Injected -0.0 pA current and got 0 spikes\n",
      "Injected 150.0 pA current and got 25 spikes\n",
      "Injected 75.0 pA current and got 8 spikes\n",
      "Injected 37.5 pA current and got 0 spikes\n",
      "Injected 56.25 pA current and got 3 spikes\n",
      "Injected 46.875 pA current and got 0 spikes\n",
      "Injected 51.5625 pA current and got 0 spikes\n",
      "Injected 53.90625 pA current and got 2 spikes\n",
      "Injected 52.734375 pA current and got 1 spikes\n",
      "Injected 52.1484375 pA current and got 1 spikes\n",
      "Highest subthreshold current is 51.56 pA\n",
      "Lowest suprathreshold current is 52.15 pA\n"
     ]
    },
    {
     "data": {
      "text/html": [
       "Score is <a style=\"color: rgb(228,244,153)\">Ratio = 0.40</a>\n"
      ],
      "text/plain": [
       "<IPython.core.display.HTML object>"
      ]
     },
     "metadata": {},
     "output_type": "display_data"
    },
    {
     "data": {
      "text/html": [
       "Executing test <i>InputResistanceTest</i> on model <i>V_rest=-60mV</i>... "
      ],
      "text/plain": [
       "<IPython.core.display.HTML object>"
      ]
     },
     "metadata": {},
     "output_type": "display_data"
    },
    {
     "data": {
      "text/html": [
       "Score is <a style=\"color: rgb(229,244,155)\">Z = -0.53</a>\n"
      ],
      "text/plain": [
       "<IPython.core.display.HTML object>"
      ]
     },
     "metadata": {},
     "output_type": "display_data"
    },
    {
     "data": {
      "text/html": [
       "Executing test <i>TimeConstantTest</i> on model <i>V_rest=-60mV</i>... "
      ],
      "text/plain": [
       "<IPython.core.display.HTML object>"
      ]
     },
     "metadata": {},
     "output_type": "display_data"
    },
    {
     "data": {
      "text/html": [
       "Score is <a style=\"color: rgb(255,252,186)\">Z = -0.69</a>\n"
      ],
      "text/plain": [
       "<IPython.core.display.HTML object>"
      ]
     },
     "metadata": {},
     "output_type": "display_data"
    },
    {
     "data": {
      "text/html": [
       "Executing test <i>CapacitanceTest</i> on model <i>V_rest=-60mV</i>... "
      ],
      "text/plain": [
       "<IPython.core.display.HTML object>"
      ]
     },
     "metadata": {},
     "output_type": "display_data"
    },
    {
     "data": {
      "text/html": [
       "Score is <a style=\"color: rgb(112,194,100)\">Z = -0.12</a>\n"
      ],
      "text/plain": [
       "<IPython.core.display.HTML object>"
      ]
     },
     "metadata": {},
     "output_type": "display_data"
    },
    {
     "data": {
      "text/html": [
       "Executing test <i>RestingPotentialTest</i> on model <i>V_rest=-60mV</i>... "
      ],
      "text/plain": [
       "<IPython.core.display.HTML object>"
      ]
     },
     "metadata": {},
     "output_type": "display_data"
    },
    {
     "data": {
      "text/html": [
       "Score is <a style=\"color: rgb(253,170,95)\">Z = 1.26</a>\n"
      ],
      "text/plain": [
       "<IPython.core.display.HTML object>"
      ]
     },
     "metadata": {},
     "output_type": "display_data"
    },
    {
     "data": {
      "text/html": [
       "Executing test <i>InjectedCurrentAPWidthTest</i> on model <i>V_rest=-60mV</i>... "
      ],
      "text/plain": [
       "<IPython.core.display.HTML object>"
      ]
     },
     "metadata": {},
     "output_type": "display_data"
    },
    {
     "data": {
      "text/html": [
       "Score is <a style=\"color: rgb(246,251,178)\">Z = -0.62</a>\n"
      ],
      "text/plain": [
       "<IPython.core.display.HTML object>"
      ]
     },
     "metadata": {},
     "output_type": "display_data"
    },
    {
     "data": {
      "text/html": [
       "Executing test <i>InjectedCurrentAPAmplitudeTest</i> on model <i>V_rest=-60mV</i>... "
      ],
      "text/plain": [
       "<IPython.core.display.HTML object>"
      ]
     },
     "metadata": {},
     "output_type": "display_data"
    },
    {
     "data": {
      "text/html": [
       "Score is <a style=\"color: rgb(245,114,69)\">Z = -1.72</a>\n"
      ],
      "text/plain": [
       "<IPython.core.display.HTML object>"
      ]
     },
     "metadata": {},
     "output_type": "display_data"
    },
    {
     "data": {
      "text/html": [
       "Executing test <i>InjectedCurrentAPThresholdTest</i> on model <i>V_rest=-60mV</i>... "
      ],
      "text/plain": [
       "<IPython.core.display.HTML object>"
      ]
     },
     "metadata": {},
     "output_type": "display_data"
    },
    {
     "data": {
      "text/html": [
       "Score is <a style=\"color: rgb(233,85,56)\">Z = 2.39</a>\n"
      ],
      "text/plain": [
       "<IPython.core.display.HTML object>"
      ]
     },
     "metadata": {},
     "output_type": "display_data"
    },
    {
     "data": {
      "text/html": [
       "Executing test <i>RheobaseTest</i> on model <i>V_rest=-55mV</i>... "
      ],
      "text/plain": [
       "<IPython.core.display.HTML object>"
      ]
     },
     "metadata": {},
     "output_type": "display_data"
    },
    {
     "name": "stdout",
     "output_type": "stream",
     "text": [
      "Injected 300.0 pA current and got 55 spikes\n",
      "Injected -0.0 pA current and got 0 spikes\n",
      "Injected 150.0 pA current and got 28 spikes\n",
      "Injected 75.0 pA current and got 13 spikes\n",
      "Injected 37.5 pA current and got 5 spikes\n",
      "Injected 18.75 pA current and got 0 spikes\n",
      "Injected 28.125 pA current and got 2 spikes\n",
      "Injected 23.4375 pA current and got 0 spikes\n",
      "Injected 25.78125 pA current and got 0 spikes\n",
      "Injected 26.953125 pA current and got 1 spikes\n",
      "Injected 26.3671875 pA current and got 1 spikes\n",
      "Highest subthreshold current is 25.78 pA\n",
      "Lowest suprathreshold current is 26.37 pA\n"
     ]
    },
    {
     "data": {
      "text/html": [
       "Score is <a style=\"color: rgb(254,207,124)\">Ratio = 0.20</a>\n"
      ],
      "text/plain": [
       "<IPython.core.display.HTML object>"
      ]
     },
     "metadata": {},
     "output_type": "display_data"
    },
    {
     "data": {
      "text/html": [
       "Executing test <i>InputResistanceTest</i> on model <i>V_rest=-55mV</i>... "
      ],
      "text/plain": [
       "<IPython.core.display.HTML object>"
      ]
     },
     "metadata": {},
     "output_type": "display_data"
    },
    {
     "data": {
      "text/html": [
       "Score is <a style=\"color: rgb(145,208,104)\">Z = -0.21</a>\n"
      ],
      "text/plain": [
       "<IPython.core.display.HTML object>"
      ]
     },
     "metadata": {},
     "output_type": "display_data"
    },
    {
     "data": {
      "text/html": [
       "Executing test <i>TimeConstantTest</i> on model <i>V_rest=-55mV</i>... "
      ],
      "text/plain": [
       "<IPython.core.display.HTML object>"
      ]
     },
     "metadata": {},
     "output_type": "display_data"
    },
    {
     "data": {
      "text/html": [
       "Score is <a style=\"color: rgb(140,206,103)\">Z = -0.20</a>\n"
      ],
      "text/plain": [
       "<IPython.core.display.HTML object>"
      ]
     },
     "metadata": {},
     "output_type": "display_data"
    },
    {
     "data": {
      "text/html": [
       "Executing test <i>CapacitanceTest</i> on model <i>V_rest=-55mV</i>... "
      ],
      "text/plain": [
       "<IPython.core.display.HTML object>"
      ]
     },
     "metadata": {},
     "output_type": "display_data"
    },
    {
     "data": {
      "text/html": [
       "Score is <a style=\"color: rgb(102,189,99)\">Z = -0.10</a>\n"
      ],
      "text/plain": [
       "<IPython.core.display.HTML object>"
      ]
     },
     "metadata": {},
     "output_type": "display_data"
    },
    {
     "data": {
      "text/html": [
       "Executing test <i>RestingPotentialTest</i> on model <i>V_rest=-55mV</i>... "
      ],
      "text/plain": [
       "<IPython.core.display.HTML object>"
      ]
     },
     "metadata": {},
     "output_type": "display_data"
    },
    {
     "data": {
      "text/html": [
       "Score is <a style=\"color: rgb(238,95,60)\">Z = 2.03</a>\n"
      ],
      "text/plain": [
       "<IPython.core.display.HTML object>"
      ]
     },
     "metadata": {},
     "output_type": "display_data"
    },
    {
     "data": {
      "text/html": [
       "Executing test <i>InjectedCurrentAPWidthTest</i> on model <i>V_rest=-55mV</i>... "
      ],
      "text/plain": [
       "<IPython.core.display.HTML object>"
      ]
     },
     "metadata": {},
     "output_type": "display_data"
    },
    {
     "data": {
      "text/html": [
       "Score is <a style=\"color: rgb(237,248,166)\">Z = -0.57</a>\n"
      ],
      "text/plain": [
       "<IPython.core.display.HTML object>"
      ]
     },
     "metadata": {},
     "output_type": "display_data"
    },
    {
     "data": {
      "text/html": [
       "Executing test <i>InjectedCurrentAPAmplitudeTest</i> on model <i>V_rest=-55mV</i>... "
      ],
      "text/plain": [
       "<IPython.core.display.HTML object>"
      ]
     },
     "metadata": {},
     "output_type": "display_data"
    },
    {
     "data": {
      "text/html": [
       "Score is <a style=\"color: rgb(242,104,65)\">Z = -1.86</a>\n"
      ],
      "text/plain": [
       "<IPython.core.display.HTML object>"
      ]
     },
     "metadata": {},
     "output_type": "display_data"
    },
    {
     "data": {
      "text/html": [
       "Executing test <i>InjectedCurrentAPThresholdTest</i> on model <i>V_rest=-55mV</i>... "
      ],
      "text/plain": [
       "<IPython.core.display.HTML object>"
      ]
     },
     "metadata": {},
     "output_type": "display_data"
    },
    {
     "data": {
      "text/html": [
       "Score is <a style=\"color: rgb(231,80,54)\">Z = 2.60</a>\n"
      ],
      "text/plain": [
       "<IPython.core.display.HTML object>"
      ]
     },
     "metadata": {},
     "output_type": "display_data"
    },
    {
     "data": {
      "text/html": [
       "Executing test <i>RheobaseTest</i> on model <i>V_rest=-50mV</i>... "
      ],
      "text/plain": [
       "<IPython.core.display.HTML object>"
      ]
     },
     "metadata": {},
     "output_type": "display_data"
    },
    {
     "name": "stdout",
     "output_type": "stream",
     "text": [
      "Injected 300.0 pA current and got 54 spikes\n",
      "Injected -0.0 pA current and got 0 spikes\n",
      "Injected 150.0 pA current and got 30 spikes\n",
      "Injected 75.0 pA current and got 16 spikes\n",
      "Injected 37.5 pA current and got 9 spikes\n",
      "Injected 18.75 pA current and got 5 spikes\n",
      "Injected 9.375 pA current and got 1 spikes\n",
      "Injected 4.6875 pA current and got 0 spikes\n",
      "Injected 7.03125 pA current and got 0 spikes\n",
      "Injected 8.203125 pA current and got 0 spikes\n",
      "Injected 8.7890625 pA current and got 0 spikes\n",
      "Highest subthreshold current is 8.79 pA\n",
      "Lowest suprathreshold current is 9.38 pA\n"
     ]
    },
    {
     "data": {
      "text/html": [
       "Score is <a style=\"color: rgb(230,78,52)\">Ratio = 0.07</a>\n"
      ],
      "text/plain": [
       "<IPython.core.display.HTML object>"
      ]
     },
     "metadata": {},
     "output_type": "display_data"
    },
    {
     "data": {
      "text/html": [
       "Executing test <i>InputResistanceTest</i> on model <i>V_rest=-50mV</i>... "
      ],
      "text/plain": [
       "<IPython.core.display.HTML object>"
      ]
     },
     "metadata": {},
     "output_type": "display_data"
    },
    {
     "data": {
      "text/html": [
       "Score is <a style=\"color: rgb(169,219,108)\">Z = 0.29</a>\n"
      ],
      "text/plain": [
       "<IPython.core.display.HTML object>"
      ]
     },
     "metadata": {},
     "output_type": "display_data"
    },
    {
     "data": {
      "text/html": [
       "Executing test <i>TimeConstantTest</i> on model <i>V_rest=-50mV</i>... "
      ],
      "text/plain": [
       "<IPython.core.display.HTML object>"
      ]
     },
     "metadata": {},
     "output_type": "display_data"
    },
    {
     "data": {
      "text/html": [
       "Score is <a style=\"color: rgb(247,252,180)\">Z = 0.63</a>\n"
      ],
      "text/plain": [
       "<IPython.core.display.HTML object>"
      ]
     },
     "metadata": {},
     "output_type": "display_data"
    },
    {
     "data": {
      "text/html": [
       "Executing test <i>CapacitanceTest</i> on model <i>V_rest=-50mV</i>... "
      ],
      "text/plain": [
       "<IPython.core.display.HTML object>"
      ]
     },
     "metadata": {},
     "output_type": "display_data"
    },
    {
     "data": {
      "text/html": [
       "Score is <a style=\"color: rgb(87,182,95)\">Z = -0.06</a>\n"
      ],
      "text/plain": [
       "<IPython.core.display.HTML object>"
      ]
     },
     "metadata": {},
     "output_type": "display_data"
    },
    {
     "data": {
      "text/html": [
       "Executing test <i>RestingPotentialTest</i> on model <i>V_rest=-50mV</i>... "
      ],
      "text/plain": [
       "<IPython.core.display.HTML object>"
      ]
     },
     "metadata": {},
     "output_type": "display_data"
    },
    {
     "data": {
      "text/html": [
       "Score is <a style=\"color: rgb(230,78,52)\">Z = 2.79</a>\n"
      ],
      "text/plain": [
       "<IPython.core.display.HTML object>"
      ]
     },
     "metadata": {},
     "output_type": "display_data"
    },
    {
     "data": {
      "text/html": [
       "Executing test <i>InjectedCurrentAPWidthTest</i> on model <i>V_rest=-50mV</i>... "
      ],
      "text/plain": [
       "<IPython.core.display.HTML object>"
      ]
     },
     "metadata": {},
     "output_type": "display_data"
    },
    {
     "data": {
      "text/html": [
       "Score is <a style=\"color: rgb(226,243,151)\">Z = -0.51</a>\n"
      ],
      "text/plain": [
       "<IPython.core.display.HTML object>"
      ]
     },
     "metadata": {},
     "output_type": "display_data"
    },
    {
     "data": {
      "text/html": [
       "Executing test <i>InjectedCurrentAPAmplitudeTest</i> on model <i>V_rest=-50mV</i>... "
      ],
      "text/plain": [
       "<IPython.core.display.HTML object>"
      ]
     },
     "metadata": {},
     "output_type": "display_data"
    },
    {
     "data": {
      "text/html": [
       "Score is <a style=\"color: rgb(239,97,61)\">Z = -2.00</a>\n"
      ],
      "text/plain": [
       "<IPython.core.display.HTML object>"
      ]
     },
     "metadata": {},
     "output_type": "display_data"
    },
    {
     "data": {
      "text/html": [
       "Executing test <i>InjectedCurrentAPThresholdTest</i> on model <i>V_rest=-50mV</i>... "
      ],
      "text/plain": [
       "<IPython.core.display.HTML object>"
      ]
     },
     "metadata": {},
     "output_type": "display_data"
    },
    {
     "data": {
      "text/html": [
       "Score is <a style=\"color: rgb(230,78,52)\">Z = 2.81</a>\n"
      ],
      "text/plain": [
       "<IPython.core.display.HTML object>"
      ]
     },
     "metadata": {},
     "output_type": "display_data"
    },
    {
     "data": {
      "application/javascript": [
       "$(\"head\").append($(\"<link/>\").attr({\n",
       "  rel:  \"stylesheet\",\n",
       "  type: \"text/css\",\n",
       "  href: \"//ajax.aspnetcdn.com/ajax/jquery.dataTables/1.9.0/css/jquery.dataTables.css\"\n",
       "}));\n",
       "$.getScript(\"//ajax.aspnetcdn.com/ajax/jquery.dataTables/1.9.0/jquery.dataTables.min.js\", function () {\n",
       "$('#5792957468957020740').dataTable();});\n"
      ],
      "text/plain": [
       "<IPython.core.display.Javascript object>"
      ]
     },
     "metadata": {},
     "output_type": "display_data"
    },
    {
     "data": {
      "text/html": [
       "<html><body><div>\n",
       "<table border=\"1\" class=\"dataframe\" id=\"5792957468957020740\">\n",
       "<thead>\n",
       "<tr style=\"text-align: right;\">\n",
       "<th></th>\n",
       "<th title=\"Mean sort key value across tests\">Mean</th>\n",
       "<th title=\"A test of the rheobase, i.e. the minimum injected current needed to evoke at least one spike.\">RheobaseTest</th>\n",
       "<th title=\"A test of the input resistance of a cell.\">InputResistanceTest</th>\n",
       "<th title=\"A test of membrane time constant of a cell.\">TimeConstantTest</th>\n",
       "<th title=\"A test of the membrane capacitance of a cell.\">CapacitanceTest</th>\n",
       "<th title=\"A test of the resting potential of a cell where injected current is set to zero.\">RestingPotentialTest</th>\n",
       "<th title=\"A test of the widths of action potentials at half of their maximum height when current is injected into cell.\">InjectedCurrentAPWidthTest</th>\n",
       "<th title=\"A test of the heights (peak amplitudes) of action potentials when current is injected into cell.\">InjectedCurrentAPAmplitudeTest</th>\n",
       "<th title=\"A test of the membrane potential threshold at which action potentials are produced under current injection.\">InjectedCurrentAPThresholdTest</th>\n",
       "</tr>\n",
       "</thead>\n",
       "<tbody>\n",
       "<tr>\n",
       "<th title=\"Base class for reduced models, using LEMS\">V_rest=-75mV</th>\n",
       "<td style=\"background-color: rgb(255,235,157);\" title=\"Mean sort key value across tests\">0.409</td>\n",
       "<td style=\"background-color: rgb(135,204,102);\" title=\"A ratio of two numbers score. Usually the prediction divided bythe observation.\n",
       "The ratio between the prediction and the observation\">Ratio = 1.40</td>\n",
       "<td style=\"background-color: rgb(254,217,132);\" title=\"A Z score. A float indicating standardized difference from a reference mean.\n",
       "The difference between the means of the observation and prediction divided by the standard deviation of the observation\">Z = -0.96</td>\n",
       "<td style=\"background-color: rgb(251,158,89);\" title=\"A Z score. A float indicating standardized difference from a reference mean.\n",
       "The difference between the means of the observation and prediction divided by the standard deviation of the observation\">Z = -1.34</td>\n",
       "<td style=\"background-color: rgb(122,198,101);\" title=\"A Z score. A float indicating standardized difference from a reference mean.\n",
       "The difference between the means of the observation and prediction divided by the standard deviation of the observation\">Z = -0.15</td>\n",
       "<td style=\"background-color: rgb(254,205,123);\" title=\"A Z score. A float indicating standardized difference from a reference mean.\n",
       "The difference between the means of the observation and prediction divided by the standard deviation of the observation\">Z = -1.03</td>\n",
       "<td style=\"background-color: rgb(255,245,174);\" title=\"A Z score. A float indicating standardized difference from a reference mean.\n",
       "The difference between the means of the observation and prediction divided by the standard deviation of the observation\">Z = -0.75</td>\n",
       "<td style=\"background-color: rgb(252,160,90);\" title=\"A Z score. A float indicating standardized difference from a reference mean.\n",
       "The difference between the means of the observation and prediction divided by the standard deviation of the observation\">Z = -1.32</td>\n",
       "<td style=\"background-color: rgb(245,111,68);\" title=\"A Z score. A float indicating standardized difference from a reference mean.\n",
       "The difference between the means of the observation and prediction divided by the standard deviation of the observation\">Z = 1.75</td>\n",
       "</tr>\n",
       "<tr>\n",
       "<th title=\"Base class for reduced models, using LEMS\">V_rest=-70mV</th>\n",
       "<td style=\"background-color: rgb(255,255,190);\" title=\"Mean sort key value across tests\">0.495</td>\n",
       "<td style=\"background-color: rgb(63,170,89);\" title=\"A ratio of two numbers score. Usually the prediction divided bythe observation.\n",
       "The ratio between the prediction and the observation\">Ratio = 1.00</td>\n",
       "<td style=\"background-color: rgb(255,230,149);\" title=\"A Z score. A float indicating standardized difference from a reference mean.\n",
       "The difference between the means of the observation and prediction divided by the standard deviation of the observation\">Z = -0.87</td>\n",
       "<td style=\"background-color: rgb(254,179,101);\" title=\"A Z score. A float indicating standardized difference from a reference mean.\n",
       "The difference between the means of the observation and prediction divided by the standard deviation of the observation\">Z = -1.20</td>\n",
       "<td style=\"background-color: rgb(120,197,101);\" title=\"A Z score. A float indicating standardized difference from a reference mean.\n",
       "The difference between the means of the observation and prediction divided by the standard deviation of the observation\">Z = -0.15</td>\n",
       "<td style=\"background-color: rgb(165,217,106);\" title=\"A Z score. A float indicating standardized difference from a reference mean.\n",
       "The difference between the means of the observation and prediction divided by the standard deviation of the observation\">Z = -0.27</td>\n",
       "<td style=\"background-color: rgb(255,251,184);\" title=\"A Z score. A float indicating standardized difference from a reference mean.\n",
       "The difference between the means of the observation and prediction divided by the standard deviation of the observation\">Z = -0.71</td>\n",
       "<td style=\"background-color: rgb(249,142,82);\" title=\"A Z score. A float indicating standardized difference from a reference mean.\n",
       "The difference between the means of the observation and prediction divided by the standard deviation of the observation\">Z = -1.45</td>\n",
       "<td style=\"background-color: rgb(239,97,61);\" title=\"A Z score. A float indicating standardized difference from a reference mean.\n",
       "The difference between the means of the observation and prediction divided by the standard deviation of the observation\">Z = 1.97</td>\n",
       "</tr>\n",
       "<tr>\n",
       "<th title=\"Base class for reduced models, using LEMS\">V_rest=-65mV</th>\n",
       "<td style=\"background-color: rgb(255,249,180);\" title=\"Mean sort key value across tests\">0.471</td>\n",
       "<td style=\"background-color: rgb(147,209,104);\" title=\"A ratio of two numbers score. Usually the prediction divided bythe observation.\n",
       "The ratio between the prediction and the observation\">Ratio = 0.67</td>\n",
       "<td style=\"background-color: rgb(255,248,178);\" title=\"A Z score. A float indicating standardized difference from a reference mean.\n",
       "The difference between the means of the observation and prediction divided by the standard deviation of the observation\">Z = -0.73</td>\n",
       "<td style=\"background-color: rgb(254,211,127);\" title=\"A Z score. A float indicating standardized difference from a reference mean.\n",
       "The difference between the means of the observation and prediction divided by the standard deviation of the observation\">Z = -1.00</td>\n",
       "<td style=\"background-color: rgb(117,196,101);\" title=\"A Z score. A float indicating standardized difference from a reference mean.\n",
       "The difference between the means of the observation and prediction divided by the standard deviation of the observation\">Z = -0.14</td>\n",
       "<td style=\"background-color: rgb(223,242,147);\" title=\"A Z score. A float indicating standardized difference from a reference mean.\n",
       "The difference between the means of the observation and prediction divided by the standard deviation of the observation\">Z = 0.50</td>\n",
       "<td style=\"background-color: rgb(253,255,188);\" title=\"A Z score. A float indicating standardized difference from a reference mean.\n",
       "The difference between the means of the observation and prediction divided by the standard deviation of the observation\">Z = -0.66</td>\n",
       "<td style=\"background-color: rgb(247,127,75);\" title=\"A Z score. A float indicating standardized difference from a reference mean.\n",
       "The difference between the means of the observation and prediction divided by the standard deviation of the observation\">Z = -1.59</td>\n",
       "<td style=\"background-color: rgb(235,90,58);\" title=\"A Z score. A float indicating standardized difference from a reference mean.\n",
       "The difference between the means of the observation and prediction divided by the standard deviation of the observation\">Z = 2.18</td>\n",
       "</tr>\n",
       "<tr>\n",
       "<th title=\"Base class for reduced models, using LEMS\">V_rest=-60mV</th>\n",
       "<td style=\"background-color: rgb(255,240,166);\" title=\"Mean sort key value across tests\">0.430</td>\n",
       "<td style=\"background-color: rgb(228,244,153);\" title=\"A ratio of two numbers score. Usually the prediction divided bythe observation.\n",
       "The ratio between the prediction and the observation\">Ratio = 0.40</td>\n",
       "<td style=\"background-color: rgb(229,244,155);\" title=\"A Z score. A float indicating standardized difference from a reference mean.\n",
       "The difference between the means of the observation and prediction divided by the standard deviation of the observation\">Z = -0.53</td>\n",
       "<td style=\"background-color: rgb(255,252,186);\" title=\"A Z score. A float indicating standardized difference from a reference mean.\n",
       "The difference between the means of the observation and prediction divided by the standard deviation of the observation\">Z = -0.69</td>\n",
       "<td style=\"background-color: rgb(112,194,100);\" title=\"A Z score. A float indicating standardized difference from a reference mean.\n",
       "The difference between the means of the observation and prediction divided by the standard deviation of the observation\">Z = -0.12</td>\n",
       "<td style=\"background-color: rgb(253,170,95);\" title=\"A Z score. A float indicating standardized difference from a reference mean.\n",
       "The difference between the means of the observation and prediction divided by the standard deviation of the observation\">Z = 1.26</td>\n",
       "<td style=\"background-color: rgb(246,251,178);\" title=\"A Z score. A float indicating standardized difference from a reference mean.\n",
       "The difference between the means of the observation and prediction divided by the standard deviation of the observation\">Z = -0.62</td>\n",
       "<td style=\"background-color: rgb(245,114,69);\" title=\"A Z score. A float indicating standardized difference from a reference mean.\n",
       "The difference between the means of the observation and prediction divided by the standard deviation of the observation\">Z = -1.72</td>\n",
       "<td style=\"background-color: rgb(233,85,56);\" title=\"A Z score. A float indicating standardized difference from a reference mean.\n",
       "The difference between the means of the observation and prediction divided by the standard deviation of the observation\">Z = 2.39</td>\n",
       "</tr>\n",
       "<tr>\n",
       "<th title=\"Base class for reduced models, using LEMS\">V_rest=-55mV</th>\n",
       "<td style=\"background-color: rgb(255,244,172);\" title=\"Mean sort key value across tests\">0.448</td>\n",
       "<td style=\"background-color: rgb(254,207,124);\" title=\"A ratio of two numbers score. Usually the prediction divided bythe observation.\n",
       "The ratio between the prediction and the observation\">Ratio = 0.20</td>\n",
       "<td style=\"background-color: rgb(145,208,104);\" title=\"A Z score. A float indicating standardized difference from a reference mean.\n",
       "The difference between the means of the observation and prediction divided by the standard deviation of the observation\">Z = -0.21</td>\n",
       "<td style=\"background-color: rgb(140,206,103);\" title=\"A Z score. A float indicating standardized difference from a reference mean.\n",
       "The difference between the means of the observation and prediction divided by the standard deviation of the observation\">Z = -0.20</td>\n",
       "<td style=\"background-color: rgb(102,189,99);\" title=\"A Z score. A float indicating standardized difference from a reference mean.\n",
       "The difference between the means of the observation and prediction divided by the standard deviation of the observation\">Z = -0.10</td>\n",
       "<td style=\"background-color: rgb(238,95,60);\" title=\"A Z score. A float indicating standardized difference from a reference mean.\n",
       "The difference between the means of the observation and prediction divided by the standard deviation of the observation\">Z = 2.03</td>\n",
       "<td style=\"background-color: rgb(237,248,166);\" title=\"A Z score. A float indicating standardized difference from a reference mean.\n",
       "The difference between the means of the observation and prediction divided by the standard deviation of the observation\">Z = -0.57</td>\n",
       "<td style=\"background-color: rgb(242,104,65);\" title=\"A Z score. A float indicating standardized difference from a reference mean.\n",
       "The difference between the means of the observation and prediction divided by the standard deviation of the observation\">Z = -1.86</td>\n",
       "<td style=\"background-color: rgb(231,80,54);\" title=\"A Z score. A float indicating standardized difference from a reference mean.\n",
       "The difference between the means of the observation and prediction divided by the standard deviation of the observation\">Z = 2.60</td>\n",
       "</tr>\n",
       "<tr>\n",
       "<th title=\"Base class for reduced models, using LEMS\">V_rest=-50mV</th>\n",
       "<td style=\"background-color: rgb(255,226,141);\" title=\"Mean sort key value across tests\">0.365</td>\n",
       "<td style=\"background-color: rgb(230,78,52);\" title=\"A ratio of two numbers score. Usually the prediction divided bythe observation.\n",
       "The ratio between the prediction and the observation\">Ratio = 0.07</td>\n",
       "<td style=\"background-color: rgb(169,219,108);\" title=\"A Z score. A float indicating standardized difference from a reference mean.\n",
       "The difference between the means of the observation and prediction divided by the standard deviation of the observation\">Z = 0.29</td>\n",
       "<td style=\"background-color: rgb(247,252,180);\" title=\"A Z score. A float indicating standardized difference from a reference mean.\n",
       "The difference between the means of the observation and prediction divided by the standard deviation of the observation\">Z = 0.63</td>\n",
       "<td style=\"background-color: rgb(87,182,95);\" title=\"A Z score. A float indicating standardized difference from a reference mean.\n",
       "The difference between the means of the observation and prediction divided by the standard deviation of the observation\">Z = -0.06</td>\n",
       "<td style=\"background-color: rgb(230,78,52);\" title=\"A Z score. A float indicating standardized difference from a reference mean.\n",
       "The difference between the means of the observation and prediction divided by the standard deviation of the observation\">Z = 2.79</td>\n",
       "<td style=\"background-color: rgb(226,243,151);\" title=\"A Z score. A float indicating standardized difference from a reference mean.\n",
       "The difference between the means of the observation and prediction divided by the standard deviation of the observation\">Z = -0.51</td>\n",
       "<td style=\"background-color: rgb(239,97,61);\" title=\"A Z score. A float indicating standardized difference from a reference mean.\n",
       "The difference between the means of the observation and prediction divided by the standard deviation of the observation\">Z = -2.00</td>\n",
       "<td style=\"background-color: rgb(230,78,52);\" title=\"A Z score. A float indicating standardized difference from a reference mean.\n",
       "The difference between the means of the observation and prediction divided by the standard deviation of the observation\">Z = 2.81</td>\n",
       "</tr>\n",
       "</tbody>\n",
       "</table>\n",
       "</div></body></html>"
      ],
      "text/plain": [
       "              RheobaseTest InputResistanceTest TimeConstantTest  \\\n",
       "V_rest=-75mV  Ratio = 1.40           Z = -0.96        Z = -1.34   \n",
       "V_rest=-70mV  Ratio = 1.00           Z = -0.87        Z = -1.20   \n",
       "V_rest=-65mV  Ratio = 0.67           Z = -0.73        Z = -1.00   \n",
       "V_rest=-60mV  Ratio = 0.40           Z = -0.53        Z = -0.69   \n",
       "V_rest=-55mV  Ratio = 0.20           Z = -0.21        Z = -0.20   \n",
       "V_rest=-50mV  Ratio = 0.07            Z = 0.29         Z = 0.63   \n",
       "\n",
       "             CapacitanceTest RestingPotentialTest InjectedCurrentAPWidthTest  \\\n",
       "V_rest=-75mV       Z = -0.15            Z = -1.03                  Z = -0.75   \n",
       "V_rest=-70mV       Z = -0.15            Z = -0.27                  Z = -0.71   \n",
       "V_rest=-65mV       Z = -0.14             Z = 0.50                  Z = -0.66   \n",
       "V_rest=-60mV       Z = -0.12             Z = 1.26                  Z = -0.62   \n",
       "V_rest=-55mV       Z = -0.10             Z = 2.03                  Z = -0.57   \n",
       "V_rest=-50mV       Z = -0.06             Z = 2.79                  Z = -0.51   \n",
       "\n",
       "             InjectedCurrentAPAmplitudeTest InjectedCurrentAPThresholdTest  \n",
       "V_rest=-75mV                      Z = -1.32                       Z = 1.75  \n",
       "V_rest=-70mV                      Z = -1.45                       Z = 1.97  \n",
       "V_rest=-65mV                      Z = -1.59                       Z = 2.18  \n",
       "V_rest=-60mV                      Z = -1.72                       Z = 2.39  \n",
       "V_rest=-55mV                      Z = -1.86                       Z = 2.60  \n",
       "V_rest=-50mV                      Z = -2.00                       Z = 2.81  "
      ]
     },
     "execution_count": 6,
     "metadata": {},
     "output_type": "execute_result"
    }
   ],
   "source": [
    "models = []\n",
    "for vr in np.linspace(-75,-50,6):\n",
    "    model = ReducedModel(LEMS_MODEL_PATH, \n",
    "                         name='V_rest=%dmV' % vr, \n",
    "                         attrs={'//izhikevich2007Cell':\n",
    "                                    {'vr':'%d mV' % vr}\n",
    "                               })\n",
    "    #model.skip_run = True\n",
    "    models.append(model)\n",
    "suite.set_verbose(False) # Turn off most print statements.  \n",
    "score_matrix = suite.judge(models)"
   ]
  },
  {
   "cell_type": "code",
   "execution_count": 9,
   "metadata": {
    "collapsed": false,
    "deletable": true,
    "editable": true
   },
   "outputs": [
    {
     "data": {
      "application/javascript": [
       "$(\"head\").append($(\"<link/>\").attr({\n",
       "  rel:  \"stylesheet\",\n",
       "  type: \"text/css\",\n",
       "  href: \"//ajax.aspnetcdn.com/ajax/jquery.dataTables/1.9.0/css/jquery.dataTables.css\"\n",
       "}));\n",
       "$.getScript(\"//ajax.aspnetcdn.com/ajax/jquery.dataTables/1.9.0/jquery.dataTables.min.js\", function () {\n",
       "$('#5428736477766326894').dataTable();});\n"
      ],
      "text/plain": [
       "<IPython.core.display.Javascript object>"
      ]
     },
     "metadata": {},
     "output_type": "display_data"
    },
    {
     "data": {
      "text/html": [
       "<html><body><div>\n",
       "<table border=\"1\" class=\"dataframe\" id=\"5428736477766326894\">\n",
       "<thead>\n",
       "<tr style=\"text-align: right;\">\n",
       "<th></th>\n",
       "<th title=\"Mean sort key value across tests\">Mean</th>\n",
       "<th title=\"A test of the rheobase, i.e. the minimum injected current needed to evoke at least one spike.\">RheobaseTest</th>\n",
       "<th title=\"A test of the input resistance of a cell.\">InputResistanceTest</th>\n",
       "<th title=\"A test of membrane time constant of a cell.\">TimeConstantTest</th>\n",
       "<th title=\"A test of the membrane capacitance of a cell.\">CapacitanceTest</th>\n",
       "<th title=\"A test of the resting potential of a cell where injected current is set to zero.\">RestingPotentialTest</th>\n",
       "<th title=\"A test of the widths of action potentials at half of their maximum height when current is injected into cell.\">InjectedCurrentAPWidthTest</th>\n",
       "<th title=\"A test of the heights (peak amplitudes) of action potentials when current is injected into cell.\">InjectedCurrentAPAmplitudeTest</th>\n",
       "<th title=\"A test of the membrane potential threshold at which action potentials are produced under current injection.\">InjectedCurrentAPThresholdTest</th>\n",
       "</tr>\n",
       "</thead>\n",
       "<tbody>\n",
       "<tr>\n",
       "<th title=\"Base class for reduced models, using LEMS\">V_rest=-75mV</th>\n",
       "<td style=\"background-color: rgb(255,235,157);\" title=\"Mean sort key value across tests\">0.409</td>\n",
       "<td style=\"background-color: rgb(135,204,102);\" title=\"A ratio of two numbers score. Usually the prediction divided bythe observation.\n",
       "The ratio between the prediction and the observation\">Ratio = 1.40</td>\n",
       "<td style=\"background-color: rgb(254,217,132);\" title=\"A Z score. A float indicating standardized difference from a reference mean.\n",
       "The difference between the means of the observation and prediction divided by the standard deviation of the observation\">Z = -0.96</td>\n",
       "<td style=\"background-color: rgb(251,158,89);\" title=\"A Z score. A float indicating standardized difference from a reference mean.\n",
       "The difference between the means of the observation and prediction divided by the standard deviation of the observation\">Z = -1.34</td>\n",
       "<td style=\"background-color: rgb(122,198,101);\" title=\"A Z score. A float indicating standardized difference from a reference mean.\n",
       "The difference between the means of the observation and prediction divided by the standard deviation of the observation\">Z = -0.15</td>\n",
       "<td style=\"background-color: rgb(254,205,123);\" title=\"A Z score. A float indicating standardized difference from a reference mean.\n",
       "The difference between the means of the observation and prediction divided by the standard deviation of the observation\">Z = -1.03</td>\n",
       "<td style=\"background-color: rgb(255,245,174);\" title=\"A Z score. A float indicating standardized difference from a reference mean.\n",
       "The difference between the means of the observation and prediction divided by the standard deviation of the observation\">Z = -0.75</td>\n",
       "<td style=\"background-color: rgb(252,160,90);\" title=\"A Z score. A float indicating standardized difference from a reference mean.\n",
       "The difference between the means of the observation and prediction divided by the standard deviation of the observation\">Z = -1.32</td>\n",
       "<td style=\"background-color: rgb(245,111,68);\" title=\"A Z score. A float indicating standardized difference from a reference mean.\n",
       "The difference between the means of the observation and prediction divided by the standard deviation of the observation\">Z = 1.75</td>\n",
       "</tr>\n",
       "<tr>\n",
       "<th title=\"Base class for reduced models, using LEMS\">V_rest=-70mV</th>\n",
       "<td style=\"background-color: rgb(255,255,190);\" title=\"Mean sort key value across tests\">0.495</td>\n",
       "<td style=\"background-color: rgb(63,170,89);\" title=\"A ratio of two numbers score. Usually the prediction divided bythe observation.\n",
       "The ratio between the prediction and the observation\">Ratio = 1.00</td>\n",
       "<td style=\"background-color: rgb(255,230,149);\" title=\"A Z score. A float indicating standardized difference from a reference mean.\n",
       "The difference between the means of the observation and prediction divided by the standard deviation of the observation\">Z = -0.87</td>\n",
       "<td style=\"background-color: rgb(254,179,101);\" title=\"A Z score. A float indicating standardized difference from a reference mean.\n",
       "The difference between the means of the observation and prediction divided by the standard deviation of the observation\">Z = -1.20</td>\n",
       "<td style=\"background-color: rgb(120,197,101);\" title=\"A Z score. A float indicating standardized difference from a reference mean.\n",
       "The difference between the means of the observation and prediction divided by the standard deviation of the observation\">Z = -0.15</td>\n",
       "<td style=\"background-color: rgb(165,217,106);\" title=\"A Z score. A float indicating standardized difference from a reference mean.\n",
       "The difference between the means of the observation and prediction divided by the standard deviation of the observation\">Z = -0.27</td>\n",
       "<td style=\"background-color: rgb(255,251,184);\" title=\"A Z score. A float indicating standardized difference from a reference mean.\n",
       "The difference between the means of the observation and prediction divided by the standard deviation of the observation\">Z = -0.71</td>\n",
       "<td style=\"background-color: rgb(249,142,82);\" title=\"A Z score. A float indicating standardized difference from a reference mean.\n",
       "The difference between the means of the observation and prediction divided by the standard deviation of the observation\">Z = -1.45</td>\n",
       "<td style=\"background-color: rgb(239,97,61);\" title=\"A Z score. A float indicating standardized difference from a reference mean.\n",
       "The difference between the means of the observation and prediction divided by the standard deviation of the observation\">Z = 1.97</td>\n",
       "</tr>\n",
       "<tr>\n",
       "<th title=\"Base class for reduced models, using LEMS\">V_rest=-65mV</th>\n",
       "<td style=\"background-color: rgb(255,249,180);\" title=\"Mean sort key value across tests\">0.471</td>\n",
       "<td style=\"background-color: rgb(147,209,104);\" title=\"A ratio of two numbers score. Usually the prediction divided bythe observation.\n",
       "The ratio between the prediction and the observation\">Ratio = 0.67</td>\n",
       "<td style=\"background-color: rgb(255,248,178);\" title=\"A Z score. A float indicating standardized difference from a reference mean.\n",
       "The difference between the means of the observation and prediction divided by the standard deviation of the observation\">Z = -0.73</td>\n",
       "<td style=\"background-color: rgb(254,211,127);\" title=\"A Z score. A float indicating standardized difference from a reference mean.\n",
       "The difference between the means of the observation and prediction divided by the standard deviation of the observation\">Z = -1.00</td>\n",
       "<td style=\"background-color: rgb(117,196,101);\" title=\"A Z score. A float indicating standardized difference from a reference mean.\n",
       "The difference between the means of the observation and prediction divided by the standard deviation of the observation\">Z = -0.14</td>\n",
       "<td style=\"background-color: rgb(223,242,147);\" title=\"A Z score. A float indicating standardized difference from a reference mean.\n",
       "The difference between the means of the observation and prediction divided by the standard deviation of the observation\">Z = 0.50</td>\n",
       "<td style=\"background-color: rgb(253,255,188);\" title=\"A Z score. A float indicating standardized difference from a reference mean.\n",
       "The difference between the means of the observation and prediction divided by the standard deviation of the observation\">Z = -0.66</td>\n",
       "<td style=\"background-color: rgb(247,127,75);\" title=\"A Z score. A float indicating standardized difference from a reference mean.\n",
       "The difference between the means of the observation and prediction divided by the standard deviation of the observation\">Z = -1.59</td>\n",
       "<td style=\"background-color: rgb(235,90,58);\" title=\"A Z score. A float indicating standardized difference from a reference mean.\n",
       "The difference between the means of the observation and prediction divided by the standard deviation of the observation\">Z = 2.18</td>\n",
       "</tr>\n",
       "<tr>\n",
       "<th title=\"Base class for reduced models, using LEMS\">V_rest=-60mV</th>\n",
       "<td style=\"background-color: rgb(255,240,166);\" title=\"Mean sort key value across tests\">0.430</td>\n",
       "<td style=\"background-color: rgb(228,244,153);\" title=\"A ratio of two numbers score. Usually the prediction divided bythe observation.\n",
       "The ratio between the prediction and the observation\">Ratio = 0.40</td>\n",
       "<td style=\"background-color: rgb(229,244,155);\" title=\"A Z score. A float indicating standardized difference from a reference mean.\n",
       "The difference between the means of the observation and prediction divided by the standard deviation of the observation\">Z = -0.53</td>\n",
       "<td style=\"background-color: rgb(255,252,186);\" title=\"A Z score. A float indicating standardized difference from a reference mean.\n",
       "The difference between the means of the observation and prediction divided by the standard deviation of the observation\">Z = -0.69</td>\n",
       "<td style=\"background-color: rgb(112,194,100);\" title=\"A Z score. A float indicating standardized difference from a reference mean.\n",
       "The difference between the means of the observation and prediction divided by the standard deviation of the observation\">Z = -0.12</td>\n",
       "<td style=\"background-color: rgb(253,170,95);\" title=\"A Z score. A float indicating standardized difference from a reference mean.\n",
       "The difference between the means of the observation and prediction divided by the standard deviation of the observation\">Z = 1.26</td>\n",
       "<td style=\"background-color: rgb(246,251,178);\" title=\"A Z score. A float indicating standardized difference from a reference mean.\n",
       "The difference between the means of the observation and prediction divided by the standard deviation of the observation\">Z = -0.62</td>\n",
       "<td style=\"background-color: rgb(245,114,69);\" title=\"A Z score. A float indicating standardized difference from a reference mean.\n",
       "The difference between the means of the observation and prediction divided by the standard deviation of the observation\">Z = -1.72</td>\n",
       "<td style=\"background-color: rgb(233,85,56);\" title=\"A Z score. A float indicating standardized difference from a reference mean.\n",
       "The difference between the means of the observation and prediction divided by the standard deviation of the observation\">Z = 2.39</td>\n",
       "</tr>\n",
       "<tr>\n",
       "<th title=\"Base class for reduced models, using LEMS\">V_rest=-55mV</th>\n",
       "<td style=\"background-color: rgb(255,244,172);\" title=\"Mean sort key value across tests\">0.448</td>\n",
       "<td style=\"background-color: rgb(254,207,124);\" title=\"A ratio of two numbers score. Usually the prediction divided bythe observation.\n",
       "The ratio between the prediction and the observation\">Ratio = 0.20</td>\n",
       "<td style=\"background-color: rgb(145,208,104);\" title=\"A Z score. A float indicating standardized difference from a reference mean.\n",
       "The difference between the means of the observation and prediction divided by the standard deviation of the observation\">Z = -0.21</td>\n",
       "<td style=\"background-color: rgb(140,206,103);\" title=\"A Z score. A float indicating standardized difference from a reference mean.\n",
       "The difference between the means of the observation and prediction divided by the standard deviation of the observation\">Z = -0.20</td>\n",
       "<td style=\"background-color: rgb(102,189,99);\" title=\"A Z score. A float indicating standardized difference from a reference mean.\n",
       "The difference between the means of the observation and prediction divided by the standard deviation of the observation\">Z = -0.10</td>\n",
       "<td style=\"background-color: rgb(238,95,60);\" title=\"A Z score. A float indicating standardized difference from a reference mean.\n",
       "The difference between the means of the observation and prediction divided by the standard deviation of the observation\">Z = 2.03</td>\n",
       "<td style=\"background-color: rgb(237,248,166);\" title=\"A Z score. A float indicating standardized difference from a reference mean.\n",
       "The difference between the means of the observation and prediction divided by the standard deviation of the observation\">Z = -0.57</td>\n",
       "<td style=\"background-color: rgb(242,104,65);\" title=\"A Z score. A float indicating standardized difference from a reference mean.\n",
       "The difference between the means of the observation and prediction divided by the standard deviation of the observation\">Z = -1.86</td>\n",
       "<td style=\"background-color: rgb(231,80,54);\" title=\"A Z score. A float indicating standardized difference from a reference mean.\n",
       "The difference between the means of the observation and prediction divided by the standard deviation of the observation\">Z = 2.60</td>\n",
       "</tr>\n",
       "<tr>\n",
       "<th title=\"Base class for reduced models, using LEMS\">V_rest=-50mV</th>\n",
       "<td style=\"background-color: rgb(255,226,141);\" title=\"Mean sort key value across tests\">0.365</td>\n",
       "<td style=\"background-color: rgb(230,78,52);\" title=\"A ratio of two numbers score. Usually the prediction divided bythe observation.\n",
       "The ratio between the prediction and the observation\">Ratio = 0.07</td>\n",
       "<td style=\"background-color: rgb(169,219,108);\" title=\"A Z score. A float indicating standardized difference from a reference mean.\n",
       "The difference between the means of the observation and prediction divided by the standard deviation of the observation\">Z = 0.29</td>\n",
       "<td style=\"background-color: rgb(247,252,180);\" title=\"A Z score. A float indicating standardized difference from a reference mean.\n",
       "The difference between the means of the observation and prediction divided by the standard deviation of the observation\">Z = 0.63</td>\n",
       "<td style=\"background-color: rgb(87,182,95);\" title=\"A Z score. A float indicating standardized difference from a reference mean.\n",
       "The difference between the means of the observation and prediction divided by the standard deviation of the observation\">Z = -0.06</td>\n",
       "<td style=\"background-color: rgb(230,78,52);\" title=\"A Z score. A float indicating standardized difference from a reference mean.\n",
       "The difference between the means of the observation and prediction divided by the standard deviation of the observation\">Z = 2.79</td>\n",
       "<td style=\"background-color: rgb(226,243,151);\" title=\"A Z score. A float indicating standardized difference from a reference mean.\n",
       "The difference between the means of the observation and prediction divided by the standard deviation of the observation\">Z = -0.51</td>\n",
       "<td style=\"background-color: rgb(239,97,61);\" title=\"A Z score. A float indicating standardized difference from a reference mean.\n",
       "The difference between the means of the observation and prediction divided by the standard deviation of the observation\">Z = -2.00</td>\n",
       "<td style=\"background-color: rgb(230,78,52);\" title=\"A Z score. A float indicating standardized difference from a reference mean.\n",
       "The difference between the means of the observation and prediction divided by the standard deviation of the observation\">Z = 2.81</td>\n",
       "</tr>\n",
       "</tbody>\n",
       "</table>\n",
       "</div></body></html>"
      ],
      "text/plain": [
       "              RheobaseTest InputResistanceTest TimeConstantTest  \\\n",
       "V_rest=-75mV  Ratio = 1.40           Z = -0.96        Z = -1.34   \n",
       "V_rest=-70mV  Ratio = 1.00           Z = -0.87        Z = -1.20   \n",
       "V_rest=-65mV  Ratio = 0.67           Z = -0.73        Z = -1.00   \n",
       "V_rest=-60mV  Ratio = 0.40           Z = -0.53        Z = -0.69   \n",
       "V_rest=-55mV  Ratio = 0.20           Z = -0.21        Z = -0.20   \n",
       "V_rest=-50mV  Ratio = 0.07            Z = 0.29         Z = 0.63   \n",
       "\n",
       "             CapacitanceTest RestingPotentialTest InjectedCurrentAPWidthTest  \\\n",
       "V_rest=-75mV       Z = -0.15            Z = -1.03                  Z = -0.75   \n",
       "V_rest=-70mV       Z = -0.15            Z = -0.27                  Z = -0.71   \n",
       "V_rest=-65mV       Z = -0.14             Z = 0.50                  Z = -0.66   \n",
       "V_rest=-60mV       Z = -0.12             Z = 1.26                  Z = -0.62   \n",
       "V_rest=-55mV       Z = -0.10             Z = 2.03                  Z = -0.57   \n",
       "V_rest=-50mV       Z = -0.06             Z = 2.79                  Z = -0.51   \n",
       "\n",
       "             InjectedCurrentAPAmplitudeTest InjectedCurrentAPThresholdTest  \n",
       "V_rest=-75mV                      Z = -1.32                       Z = 1.75  \n",
       "V_rest=-70mV                      Z = -1.45                       Z = 1.97  \n",
       "V_rest=-65mV                      Z = -1.59                       Z = 2.18  \n",
       "V_rest=-60mV                      Z = -1.72                       Z = 2.39  \n",
       "V_rest=-55mV                      Z = -1.86                       Z = 2.60  \n",
       "V_rest=-50mV                      Z = -2.00                       Z = 2.81  "
      ]
     },
     "execution_count": 9,
     "metadata": {},
     "output_type": "execute_result"
    }
   ],
   "source": [
    "score_matrix.show_mean = True # Show the mean value across test scores. \n",
    "                              # The mean is computed using the sort_key attribute, which is in the range [0,1] for\n",
    "                              # all Score types\n",
    "score_matrix.sortable = True # Make the ScoreMatrix sortable (and searchable)\n",
    "score_matrix"
   ]
  },
  {
   "cell_type": "markdown",
   "metadata": {},
   "source": [
    "### Let's take a look at a sweep from one of these models ($V_{rest} = -55 mV$) obtained at the rheobase current.  "
   ]
  },
  {
   "cell_type": "code",
   "execution_count": 22,
   "metadata": {
    "collapsed": false,
    "deletable": true,
    "editable": true
   },
   "outputs": [
    {
     "data": {
      "image/png": "[encoded data removed]",
      "text/plain": [
       "<matplotlib.figure.Figure at 0x7f84ce80bbe0>"
      ]
     },
     "metadata": {},
     "output_type": "display_data"
    }
   ],
   "source": [
    "import matplotlib as mpl\n",
    "mpl.rcParams['font.size'] = 18\n",
    "vm = score_matrix[tests[0]][4].related_data['vm'].rescale('mV') # Plot the rheobase current (test 3) \n",
    "                                                                # from v_rest = -55 mV (model 4)\n",
    "ax = plt.gca()\n",
    "ax.plot(vm.times,vm)\n",
    "y_min = float(vm.min()-5.0*pq.mV)\n",
    "y_max = float(vm.max()+5.0*pq.mV)\n",
    "ax.set_xlim(0,1.6)\n",
    "ax.set_ylim(y_min,y_max)\n",
    "ax.set_xlabel('Time (s)',size=22)\n",
    "ax.set_ylabel('$V_m$ (mV)',size=22);\n",
    "plt.tight_layout()"
   ]
  }
 ],
 "metadata": {
  "kernelspec": {
   "display_name": "Python 3",
   "language": "python",
   "name": "python3"
  },
  "language_info": {
   "codemirror_mode": {
    "name": "ipython",
    "version": 3
   },
   "file_extension": ".py",
   "mimetype": "text/x-python",
   "name": "python",
   "nbconvert_exporter": "python",
   "pygments_lexer": "ipython3",
   "version": "3.5.2"
  }
 },
 "nbformat": 4,
 "nbformat_minor": 0
}
