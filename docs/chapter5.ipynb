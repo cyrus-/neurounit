{
 "cells": [
  {
   "cell_type": "code",
   "execution_count": 1,
   "metadata": {},
   "outputs": [],
   "source": [
    "# Force use of development local repository.\n",
    "# The repository must be the russell_dev branch of https://github.com/russelljjarvis/neuronunit\n",
    "# and the docker build is: docker-stacks/neuronunit-optimization\n",
    "# There are more graceful ways of achieving this.\n",
    "# The best way will be to integrate this doc chapter5 and its supporting code \n",
    "# from https://github.com/russelljjarvis/neuronunit -> https://github.com/scidash/neuronunit\n",
    "\n",
    "# On my local machine the development repo of neuronunit is located here:\n",
    "# $HOME/git\n",
    "# I navigate to that directory and execute:\n",
    "\n",
    "# docker run -p 8888:8888 -v \\\n",
    "# `pwd`:/home/jovyan/mnt scidash/neuronunit-optimization \\\n",
    "# jupyter notebook --ip=0.0.0.0 --NotebookApp.token=\\\"\\\" \\ \n",
    "# --NotebookApp.disable_check_xsrf=True \n",
    "\n",
    "import sys\n",
    "import os\n",
    "THIS_DIR = os.path.dirname(os.path.realpath('chapter5.ipynb'))\n",
    "this_nu = os.path.join(THIS_DIR,'../')\n",
    "sys.path.insert(0,this_nu)\n",
    "import neuronunit\n"
   ]
  },
  {
   "cell_type": "code",
   "execution_count": null,
   "metadata": {},
   "outputs": [
    {
     "name": "stdout",
     "output_type": "stream",
     "text": [
      "Getting Rheobase cached data value for from AIBS dataset 354190013\n",
      "attempting to recover from pickled file\n",
      "Ignoring included LEMS file: Cells.xml\n",
      "Ignoring included LEMS file: Networks.xml\n",
      "Ignoring included LEMS file: Simulation.xml\n",
      "Mechanisms already loaded from path: /home/jovyan/mnt/neuronunit/tests/NeuroML2.  Aborting.\n",
      "Ignoring included LEMS file: Cells.xml\n",
      "Ignoring included LEMS file: Networks.xml\n",
      "Ignoring included LEMS file: Simulation.xml\n"
     ]
    }
   ],
   "source": [
    "\n",
    "from neuronunit.tests import get_neab\n",
    "\n",
    "from neuronunit.tests import utilities as outils                                    \n",
    "from neuronunit.tests import model_parameters as modelp\n",
    "import numpy as np\n",
    "model = outils.model          \n",
    "from sciunit import scores\n"
   ]
  },
  {
   "cell_type": "code",
   "execution_count": null,
   "metadata": {},
   "outputs": [
    {
     "name": "stdout",
     "output_type": "stream",
     "text": [
      "<module 'neuronunit.tests.model_parameters' from '/home/jovyan/mnt/docs/../neuronunit/tests/model_parameters.py'>\n",
      "0 -57.6008139654\n",
      "1 -30.1313130423\n",
      "2 0.119270369187\n",
      "3 -3.50310135304e-09\n",
      "4 -55.1384937114\n",
      "5 35.7506709947\n",
      "6 0.000757279791904\n",
      "7 0.000101447133962\n",
      "8 0.132159334129\n",
      "9 -63.6285331396\n",
      "0 -63.8641875221\n",
      "1 -36.2883936303\n",
      "2 0.666379202859\n",
      "3 -4.8282623178e-09\n",
      "4 -57.6748005892\n",
      "5 38.9964389513\n",
      "6 0.00128296738157\n",
      "7 9.50168028557e-05\n",
      "8 0.0527165694785\n",
      "9 -63.9441474743\n",
      "0 -64.6140168849\n",
      "1 -32.2208488945\n",
      "2 0.822547708396\n",
      "3 -3.52924195923e-09\n",
      "4 -56.0202529846\n",
      "5 31.1189610363\n",
      "6 0.000732282738459\n",
      "7 0.000106300376041\n",
      "8 0.184822544895\n",
      "9 -67.0297376846\n",
      "0 -52.5038526973\n",
      "1 -33.1947672995\n",
      "2 0.742546636473\n",
      "3 -4.59816809666e-09\n",
      "4 -57.2654090368\n",
      "5 39.3677780472\n",
      "6 0.000996733121754\n",
      "7 9.92884782329e-05\n",
      "8 0.126760136313\n",
      "9 -68.8887747416\n",
      "0 -67.6634127351\n",
      "1 -37.5734976436\n",
      "2 0.23287860647\n",
      "3 -3.86963851404e-09\n",
      "4 -58.55392644\n",
      "5 37.4584283464\n",
      "6 0.00131608275648\n",
      "7 0.000104946873814\n",
      "8 0.09270359691\n",
      "9 -60.0440659616\n",
      "0 -51.4921039582\n",
      "1 -33.1365820761\n",
      "2 0.662996196458\n",
      "3 -4.9724572175e-09\n",
      "4 -57.4204517036\n",
      "5 36.7766137204\n",
      "6"
     ]
    },
    {
     "name": "stderr",
     "output_type": "stream",
     "text": [
      "/opt/conda/lib/python3.5/site-packages/scoop-0.7.2.0-py3.5.egg/scoop/fallbacks.py:46: RuntimeWarning: SCOOP was not started properly.\n",
      "Be sure to start your program with the '-m scoop' parameter. You can find further information in the documentation.\n",
      "Your map call has been replaced by the builtin serial Python map().\n"
     ]
    },
    {
     "name": "stdout",
     "output_type": "stream",
     "text": [
      " 0.000902086771999\n",
      "7 0.000105562620638\n",
      "8 0.0951299265074\n",
      "9 -65.7042507092\n",
      "0 -45.9933954038\n",
      "1 -30.8308245276\n",
      "2 0.36854394664\n",
      "3 -3.80360182871e-09\n",
      "4 -56.2960421179\n",
      "5 39.0781792068\n",
      "6 0.000819576096568\n",
      "7 9.02054661353e-05\n",
      "8 0.110102403678\n",
      "9 -51.2992775388\n",
      "0 -72.7780779396\n",
      "1 -34.1960333945\n",
      "2 0.656960767758\n",
      "3 -4.11665133239e-09\n",
      "4 -57.5435347142\n",
      "5 33.1744758873\n",
      "6 0.000730651008041\n",
      "7 9.58953192623e-05\n",
      "8 0.070788343779\n",
      "9 -59.9173751965\n",
      "0 -63.7816357857\n",
      "1 -45.012221586\n",
      "2 0.477914019413\n",
      "3 -3.55391908085e-09\n",
      "4 -55.5142565139\n",
      "5 32.8090109689\n",
      "6 0.00118317810079\n",
      "7 9.68184274825e-05\n",
      "8 0.164391755066\n",
      "9 -72.7715594976\n",
      "0 -60.5638159601\n",
      "1 -41.5063191083\n",
      "2 0.599319469522\n",
      "3 -4.74175102426e-09\n",
      "4 -57.641119681\n",
      "5 39.8562828668\n",
      "6 0.000746248588335\n",
      "7 0.000101430038034\n",
      "8 0.100698882434\n",
      "9 -60.8433056353\n",
      "0 -63.0612530862\n",
      "1 -43.1824131201\n",
      "2 0.544064531297\n",
      "3 -3.81484149762e-09\n",
      "4 -55.1854674657\n",
      "5 36.1736517795\n",
      "6 0.00136493165653\n",
      "7 0.000102753780264\n",
      "8 0.0574174050674\n",
      "9 -68.3862879159\n",
      "0 -65.169686728\n",
      "1 -42.8666726643\n",
      "2 0.288732217709\n",
      "3 -4.02539369846e-09\n",
      "4 -58.3175302726\n",
      "5 37.2531174838\n",
      "6 0.000880533413955\n",
      "7 9.77464079954e-05\n",
      "8 0.183131723422\n",
      "9 -55.9372907867\n",
      "{}\n",
      "{}\n",
      "{}\n",
      "{}\n",
      "{}\n",
      "{}\n",
      "{}\n",
      "{}\n",
      "{}\n"
     ]
    }
   ],
   "source": [
    "\n",
    "class Score:\n",
    "    def __init__(self, score):\n",
    "        self.score = score\n",
    "\n",
    "class Test:\n",
    "    def _optimize(self, model,modelp):\n",
    "        '''\n",
    "        The implementation of optimization, consisting of implementation details.\n",
    "        Inputs a model, and model parameter ranges to expore\n",
    "        Private method for programmer designer.\n",
    "        Outputs the optimal model, its attributes and the low error it resulted in.\n",
    "        '''\n",
    "        from neuronunit.tests import nsga\n",
    "        gap = nsga.GAparams(model)\n",
    "        # The number of generations is 3\n",
    "        gap.NGEN = 3\n",
    "        # The population of genes is 12\n",
    "        gap.MU = 12 \n",
    "        gap.BOUND_LOW = [ np.min(i) for i in modelp.model_params.values() ]\n",
    "        gap.BOUND_UP = [ np.max(i) for i in modelp.model_params.values() ]\n",
    "        # call the actual Genetic Algorithm with Optimization parameters: number of generation (NGEN = 3)\n",
    "        # and gene population size (MU = 12)\n",
    "        vmpop, pop, invalid_ind, pf = nsga.main(gap.NGEN,gap.MU,model,modelp)\n",
    "        attributes = [ i.attrs for i in vmpop ]\n",
    "        rheobases = [ i.rheobase for i in vmpop ]\n",
    "        scores = [ i.score for i in vmpop ]        \n",
    "        parameters = [ i.attrs for i in vmpop ]\n",
    "        \n",
    "        data_tuples = (vmpop, parameters, scores, pop, invalid_ind, pf, rheobases)\n",
    "        return pop, data_tuples\n",
    "        \n",
    "    def _get_optimization_parameters(self, data_tuples):\n",
    "        # Your specific unpacking of tuples that _optimize returns\n",
    "        # vmpop, parameters, scores, pop, invalid_ind, pf, rheobases)\n",
    "        _ , parameters , scores, _ , _ , _ , _ = zip(*data_tuples)\n",
    "        return parameters,scores\n",
    "\n",
    "    def optimize(self, model, modelp):\n",
    "        '''\n",
    "        # The Class users version of optimize\n",
    "        # where details are hidden in _optimizae\n",
    "        \n",
    "        # Inputs: \n",
    "        # a Izhihikitch model specified in NML, but implemented with a NEURONbackend type\n",
    "        # from neuronunit. Modelp a formatated dictionary of model parameters\n",
    "        # where keys are Izhikitich parameters, and values are parameter ranges.\n",
    "        # Outputs:\n",
    "        # the optimal model, the scores as pandas data frame.\n",
    "        # data_tuples: other data about models from the converged gene population\n",
    "        # like resulting rheobase values from the converged genes, pandas score arrays\n",
    "        # the genes corresponding to attributes of the pareto front (in a raw format).\n",
    "        '''\n",
    "\n",
    "        # Do optimization including repeated calls to judge\n",
    "        models, data_tuples = self._optimize(model,modelp)\n",
    "        parameters, scores = self._get_optimization_parameters(data_tuples)\n",
    "        # this a way of looking at solved model parameters, ie candidate solutions from \n",
    "        # the pareto front.\n",
    "        # scores is a list of pandas dataframes for the converged gene population.\n",
    "        # It might be good to convert it into one big panda table if I knew how.\n",
    "        return model, scores, data_tuples\n",
    "\n",
    "    \n",
    "t = Test()\n",
    "model,scores,data_tuples = t.optimize(model,modelp)   "
   ]
  },
  {
   "cell_type": "code",
   "execution_count": null,
   "metadata": {
    "collapsed": true
   },
   "outputs": [],
   "source": [
    "modelp\n",
    "import pandas as pd\n",
    "models = data_tuples[1]\n",
    "sc = pd.DataFrame(scores[0])\n",
    "for j,i in enumerate(models):\n",
    "        i.name = attributes[j]\n",
    "sc"
   ]
  },
  {
   "cell_type": "code",
   "execution_count": null,
   "metadata": {
    "collapsed": true
   },
   "outputs": [],
   "source": [
    "data = [ models[0].name ]\n",
    "model_values0 = pd.DataFrame(data)        \n",
    "model_values0"
   ]
  },
  {
   "cell_type": "code",
   "execution_count": null,
   "metadata": {
    "collapsed": true
   },
   "outputs": [],
   "source": [
    "rheobases=data_tuples[5][0]"
   ]
  },
  {
   "cell_type": "code",
   "execution_count": null,
   "metadata": {
    "collapsed": true
   },
   "outputs": [],
   "source": [
    "data = [ models[0].name ]\n",
    "model_values0 = pd.DataFrame(data)        \n",
    "model_values0\n"
   ]
  },
  {
   "cell_type": "code",
   "execution_count": null,
   "metadata": {
    "collapsed": true
   },
   "outputs": [],
   "source": [
    "rheobases[0]\n"
   ]
  },
  {
   "cell_type": "code",
   "execution_count": null,
   "metadata": {
    "collapsed": true
   },
   "outputs": [],
   "source": [
    "\n",
    "sc1 = pd.DataFrame(scores[1])\n",
    "sc1\n"
   ]
  },
  {
   "cell_type": "code",
   "execution_count": null,
   "metadata": {
    "collapsed": true
   },
   "outputs": [],
   "source": [
    "rheobases[1]\n"
   ]
  },
  {
   "cell_type": "code",
   "execution_count": null,
   "metadata": {
    "collapsed": true
   },
   "outputs": [],
   "source": [
    "data=[ models[1].name ]\n",
    "model_values1 = pd.DataFrame(data)        \n",
    "model_values1"
   ]
  },
  {
   "cell_type": "code",
   "execution_count": null,
   "metadata": {
    "collapsed": true
   },
   "outputs": [],
   "source": [
    "models[1].name        "
   ]
  },
  {
   "cell_type": "code",
   "execution_count": null,
   "metadata": {
    "collapsed": true
   },
   "outputs": [],
   "source": [
    "\n",
    "import pickle\n",
    "import pandas as pd\n",
    "\n",
    "# I have knowingly violated Github conventions by adding data (a pickled file, as well as sources to the repository). \n",
    "# The justification being that ground_error (the ground truth to compare against Genetic Algorithm outputs). \n",
    "# Takes a prohibitively long time to generate, and therefore detracts from notebooking philosophy.\n",
    "\n",
    "try:\n",
    "    ground_error = pickle.load(open('big_model_evaulated.pickle','rb'))\n",
    "except:\n",
    "    # The exception code is only skeletal, it would actually work, but its the right principles.\n",
    "    print('{0} it seems the error truth data does not yet exist, lets create it now '.format(str(False)))\n",
    "    ground_error = list(futures.map(outils.func2map, ground_truth))\n",
    "    pickle.dump(ground_error,open('big_model_evaulated.pickle','wb'))\n",
    "\n",
    "# ground_error_nsga=list(zip(vmpop,pop,invalid_ind))\n",
    "# pickle.dump(ground_error_nsga,open('nsga_evaulated.pickle','wb'))\n",
    "# Get the differences between values obtained via brute force, and those obtained otherwise:\n",
    "sum_errors = [ i[0] for i in ground_error ]\n",
    "composite_errors = [ i[1] for i in ground_error ]\n",
    "attrs = [ i[2] for i in ground_error ]\n",
    "rheobase = [ i[3] for i in ground_error ]\n",
    "\n",
    "indexs = [i for i,j in enumerate(sum_errors) if j==np.min(sum_errors) ][0]\n",
    "indexc = [i for i,j in enumerate(composite_errors) if j==np.min(composite_errors) ][0]\n",
    "#assert indexs == indexc\n",
    "vmpop = data_tuples[0]\n",
    "df_0 = pd.DataFrame([ (k,v,vmpop[0].attrs[k],float(v)-float(vmpop[0].attrs[k])) for k,v in ground_error[indexc][2].items() ])\n",
    "df_1 = pd.DataFrame([ (k,v,vmpop[1].attrs[k],float(v)-float(vmpop[1].attrs[k])) for k,v in ground_error[indexc][2].items() ])\n",
    "\n",
    "\n"
   ]
  },
  {
   "cell_type": "code",
   "execution_count": null,
   "metadata": {
    "collapsed": true
   },
   "outputs": [],
   "source": [
    "#These are the differences in attributes found via brute force versus the genetic algorithm. For the top two candidates.\n",
    "\n",
    "df_0"
   ]
  },
  {
   "cell_type": "code",
   "execution_count": null,
   "metadata": {
    "collapsed": true
   },
   "outputs": [],
   "source": [
    "df_1\n"
   ]
  },
  {
   "cell_type": "code",
   "execution_count": null,
   "metadata": {
    "collapsed": true
   },
   "outputs": [],
   "source": []
  },
  {
   "cell_type": "code",
   "execution_count": null,
   "metadata": {
    "collapsed": true
   },
   "outputs": [],
   "source": []
  }
 ],
 "metadata": {
  "kernelspec": {
   "display_name": "Python 3",
   "language": "python",
   "name": "python3"
  },
  "language_info": {
   "codemirror_mode": {
    "name": "ipython",
    "version": 3
   },
   "file_extension": ".py",
   "mimetype": "text/x-python",
   "name": "python",
   "nbconvert_exporter": "python",
   "pygments_lexer": "ipython3",
   "version": "3.5.2"
  }
 },
 "nbformat": 4,
 "nbformat_minor": 2
}
