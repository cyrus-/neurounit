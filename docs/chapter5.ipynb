{
 "cells": [
  {
   "cell_type": "code",
   "execution_count": null,
   "metadata": {},
   "outputs": [
    {
     "name": "stdout",
     "output_type": "stream",
     "text": [
      "Getting Rheobase cached data value for from AIBS dataset 354190013\n",
      "attempting to recover from pickled file\n",
      "/home/jovyan/mnt/neuronunit/neuronunit/tests/__init__.py\n",
      "Ignoring included LEMS file: Cells.xml\n",
      "Ignoring included LEMS file: Networks.xml\n",
      "Ignoring included LEMS file: Simulation.xml\n",
      "Mechanisms already loaded from path: /home/jovyan/mnt/neuronunit/neuronunit/tests/NeuroML2.  Aborting.\n",
      "Ignoring included LEMS file: Cells.xml\n",
      "Ignoring included LEMS file: Networks.xml\n",
      "Ignoring included LEMS file: Simulation.xml\n"
     ]
    }
   ],
   "source": [
    "import sys                                                                                                                                                                                                              \n",
    "sys.path[0]='/home/jovyan/mnt/neuronunit'                                                                                                                                                                                                     \n",
    "from neuronunit.tests import get_neab                                                                                                                                                                                                         \n",
    "import neuronunit                                                                                                                                                                                                                             \n",
    "print(neuronunit.tests.__file__)                                                                                                                                                                                                              \n",
    "from neuronunit.tests import utilities as outils                                                                                                                                                                                              \n",
    "                                                                                                                                                                                                                                              \n",
    "from neuronunit.tests import model_parameters as modelp                                                                                                                                                                                       \n",
    "import numpy as np                                                                                                                                                                                                                            \n",
    "model = outils.model                \n",
    "from sciunit import scores\n"
   ]
  },
  {
   "cell_type": "code",
   "execution_count": null,
   "metadata": {},
   "outputs": [
    {
     "name": "stdout",
     "output_type": "stream",
     "text": [
      "<module 'neuronunit.tests.model_parameters' from '/home/jovyan/mnt/neuronunit/neuronunit/tests/model_parameters.py'>\n",
      "0 35.8798390412\n",
      "1 -57.7247414243\n",
      "2 0.000101810444432\n",
      "3 -35.4038537857\n",
      "4 -4.92543721595e-09\n",
      "5 0.534438209282\n",
      "6 0.126517561325\n",
      "7 -58.2256604723\n",
      "8 -49.5430386436\n",
      "9 0.00139299232484\n",
      "0 34.7669766553\n",
      "1 -72.4680141235\n",
      "2 0.000103201838209\n",
      "3 -39.9945749613\n",
      "4 -4.03805929367e-09\n",
      "5 0.22691988156\n",
      "6 0.139773835721\n",
      "7 -56.134690759\n",
      "8 -70.1714588654\n",
      "9 0.00128519410792\n",
      "0 35.81353006\n",
      "1 -56.778105245\n",
      "2 0.000108056805379\n",
      "3 -48.6652811883\n",
      "4 -3.52389055825e-09\n",
      "5 0.836363715371\n"
     ]
    },
    {
     "name": "stderr",
     "output_type": "stream",
     "text": [
      "/opt/conda/lib/python3.5/site-packages/scoop-0.7.2.0-py3.5.egg/scoop/fallbacks.py:46: RuntimeWarning: SCOOP was not started properly.\n",
      "Be sure to start your program with the '-m scoop' parameter. You can find further information in the documentation.\n",
      "Your map call has been replaced by the builtin serial Python map().\n"
     ]
    },
    {
     "name": "stdout",
     "output_type": "stream",
     "text": [
      "6 0.0637532126724\n",
      "7 -58.2470418091\n",
      "8 -62.8825572622\n",
      "9 0.00102812325425\n",
      "0 33.2762178708\n",
      "1 -66.9252339228\n",
      "2 9.09649182952e-05\n",
      "3 -41.351483459\n",
      "4 -3.60377404106e-09\n",
      "5 0.152613718942\n",
      "6 0.0659157225379\n",
      "7 -58.0524647919\n",
      "8 -48.2935729089\n",
      "9 0.000955975744271\n",
      "{}\n",
      "{}\n",
      "{}\n",
      "{}\n",
      "{}\n",
      "{}\n",
      "{}\n",
      "{}\n",
      "{}\n",
      "{}\n",
      "{}\n",
      "{}\n",
      "{}\n",
      "False\n",
      "{}\n",
      "{}\n",
      "{}\n",
      "{}\n",
      "False\n",
      "{}\n",
      "{}\n",
      "{}\n",
      "{}\n",
      "False\n",
      "{}\n",
      "{}\n",
      "{}\n",
      "<class 'float'>\n",
      "current 173.61111111111111 spikes 1\n",
      "{}\n",
      "<class 'float'>\n",
      "{}\n",
      "{}\n",
      "{}\n",
      "{}\n",
      "{}\n",
      "{}\n",
      "{}\n",
      "{}\n",
      "{}\n",
      "{}\n",
      "{}\n",
      "{}\n",
      "{}\n",
      "{}\n",
      "{}\n",
      "{}\n",
      "{}\n",
      "{}\n",
      "{}\n",
      "False\n",
      "{}\n",
      "{}\n",
      "{}\n",
      "{}\n",
      "False\n",
      "{}\n",
      "{}\n",
      "{}\n",
      "{}\n",
      "False\n",
      "{}\n",
      "{}\n",
      "{}\n",
      "{}\n",
      "False\n",
      "{}\n",
      "<class 'float'>\n",
      "current 338.96604938271605 spikes 1\n",
      "{}\n",
      "<class 'float'>\n",
      "current 339.04320987654324 spikes 1\n",
      "{}\n",
      "{}\n",
      "<class 'float'>\n",
      "{}\n",
      "{}\n",
      "{}\n",
      "{}\n",
      "{}\n",
      "{}\n",
      "{}\n",
      "{}\n",
      "{}\n",
      "{}\n",
      "{}\n",
      "{}\n",
      "{}\n",
      "False\n",
      "{}\n",
      "{}\n",
      "{}\n",
      "{}\n",
      "False\n",
      "{}\n",
      "{}\n",
      "{}\n",
      "{}\n",
      "False\n",
      "{}\n",
      "<class 'float'>\n",
      "current 17.12962962962963 spikes 1\n",
      "{}\n",
      "{}\n",
      "{}\n",
      "<class 'float'>\n",
      "{}\n",
      "{}\n",
      "{}\n",
      "{}\n",
      "{}\n",
      "{}\n",
      "{}\n",
      "{}\n",
      "{}\n",
      "{}\n",
      "{}\n",
      "{}\n",
      "{}\n",
      "False\n",
      "{}\n",
      "{}\n",
      "{}\n",
      "{}\n",
      "False\n",
      "{}\n",
      "{}\n",
      "{}\n",
      "{}\n",
      "False\n",
      "{}\n",
      "<class 'float'>\n",
      "current 156.48148148148147 spikes 1\n",
      "{}\n",
      "{}\n",
      "{}\n",
      "<class 'float'>\n",
      "checkpoint 1 output from parallel map [<neuronunit.tests.utilities.VirtualModel object at 0x7f5241063208>, <neuronunit.tests.utilities.VirtualModel object at 0x7f5241063240>, <neuronunit.tests.utilities.VirtualModel object at 0x7f52411a9e48>, <neuronunit.tests.utilities.VirtualModel object at 0x7f52411a9f98>]\n",
      "[173.61111111111111, 339.04320987654324, 17.12962962962963, 156.48148148148147]\n",
      "173.61111111111111\n",
      "339.04320987654324\n",
      "17.12962962962963\n",
      "156.48148148148147\n",
      "173.61111111111111\n",
      "339.04320987654324\n",
      "17.12962962962963\n",
      "156.48148148148147\n",
      "173.61111111111111\n",
      "339.04320987654324\n",
      "17.12962962962963\n",
      "156.48148148148147\n",
      "173.61111111111111 173.61111111111111\n",
      "339.04320987654324 339.04320987654324\n",
      "17.12962962962963 17.12962962962963\n",
      "156.48148148148147 156.48148148148147\n",
      "<class 'list'> <class 'list'>\n",
      "updatevmpop returns a whole heap of nones suggesting its not working [<neuronunit.tests.utilities.VirtualModel object at 0x7f5241063208>, <neuronunit.tests.utilities.VirtualModel object at 0x7f5241063240>, <neuronunit.tests.utilities.VirtualModel object at 0x7f52411a9e48>, <neuronunit.tests.utilities.VirtualModel object at 0x7f52411a9f98>]\n",
      "<class 'float'>\n",
      "173.61111111111111 vanilla {'injected_square_current': {'delay': '100.0', 'duration': '1000.0', 'amplitude': '157.4074074074074'}} (0, <neuronunit.tests.utilities.VirtualModel object at 0x7f5241063208>, 173.61111111111111)\n",
      "{}\n",
      "{}\n",
      "{}\n"
     ]
    },
    {
     "data": {
      "text/html": [
       "Executing test <i>RheobaseTest</i> on model <i>vanilla</i>... "
      ],
      "text/plain": [
       "<IPython.core.display.HTML object>"
      ]
     },
     "metadata": {},
     "output_type": "display_data"
    },
    {
     "data": {
      "text/html": [
       "Score is <a style=\"color: rgb(125,199,101)\">Ratio = 1.34</a>\n"
      ],
      "text/plain": [
       "<IPython.core.display.HTML object>"
      ]
     },
     "metadata": {},
     "output_type": "display_data"
    },
    {
     "data": {
      "text/html": [
       "Executing test <i>InputResistanceTest</i> on model <i>vanilla</i>... "
      ],
      "text/plain": [
       "<IPython.core.display.HTML object>"
      ]
     },
     "metadata": {},
     "output_type": "display_data"
    },
    {
     "name": "stdout",
     "output_type": "stream",
     "text": [
      "{}\n",
      "<class 'sciunit.scores.ZScore'>\n"
     ]
    },
    {
     "data": {
      "text/html": [
       "Score is <a style=\"color: rgb(201,233,129)\">Z = 0.41</a>\n"
      ],
      "text/plain": [
       "<IPython.core.display.HTML object>"
      ]
     },
     "metadata": {},
     "output_type": "display_data"
    },
    {
     "data": {
      "text/html": [
       "Executing test <i>TimeConstantTest</i> on model <i>vanilla</i>... "
      ],
      "text/plain": [
       "<IPython.core.display.HTML object>"
      ]
     },
     "metadata": {},
     "output_type": "display_data"
    },
    {
     "name": "stdout",
     "output_type": "stream",
     "text": [
      "{}\n"
     ]
    },
    {
     "data": {
      "text/html": [
       "Score is <a style=\"color: rgb(235,90,58)\">Z = -2.15</a>\n"
      ],
      "text/plain": [
       "<IPython.core.display.HTML object>"
      ]
     },
     "metadata": {},
     "output_type": "display_data"
    },
    {
     "data": {
      "text/html": [
       "Executing test <i>CapacitanceTest</i> on model <i>vanilla</i>... "
      ],
      "text/plain": [
       "<IPython.core.display.HTML object>"
      ]
     },
     "metadata": {},
     "output_type": "display_data"
    },
    {
     "name": "stdout",
     "output_type": "stream",
     "text": [
      "{}\n"
     ]
    },
    {
     "data": {
      "text/html": [
       "Score is <a style=\"color: rgb(254,197,116)\">Z = -1.08</a>\n"
      ],
      "text/plain": [
       "<IPython.core.display.HTML object>"
      ]
     },
     "metadata": {},
     "output_type": "display_data"
    },
    {
     "data": {
      "text/html": [
       "Executing test <i>RestingPotentialTest</i> on model <i>vanilla</i>... "
      ],
      "text/plain": [
       "<IPython.core.display.HTML object>"
      ]
     },
     "metadata": {},
     "output_type": "display_data"
    },
    {
     "name": "stdout",
     "output_type": "stream",
     "text": [
      "{}\n"
     ]
    },
    {
     "data": {
      "text/html": [
       "Score is <a style=\"color: rgb(230,78,52)\">Z = 3.07</a>\n"
      ],
      "text/plain": [
       "<IPython.core.display.HTML object>"
      ]
     },
     "metadata": {},
     "output_type": "display_data"
    },
    {
     "data": {
      "text/html": [
       "Executing test <i>InjectedCurrentAPWidthTest</i> on model <i>vanilla</i>... "
      ],
      "text/plain": [
       "<IPython.core.display.HTML object>"
      ]
     },
     "metadata": {},
     "output_type": "display_data"
    },
    {
     "name": "stdout",
     "output_type": "stream",
     "text": [
      "{}\n"
     ]
    },
    {
     "data": {
      "text/html": [
       "Score is <a style=\"color: rgb(230,78,52)\">Z = 7.10</a>\n"
      ],
      "text/plain": [
       "<IPython.core.display.HTML object>"
      ]
     },
     "metadata": {},
     "output_type": "display_data"
    },
    {
     "data": {
      "text/html": [
       "Executing test <i>InjectedCurrentAPAmplitudeTest</i> on model <i>vanilla</i>... "
      ],
      "text/plain": [
       "<IPython.core.display.HTML object>"
      ]
     },
     "metadata": {},
     "output_type": "display_data"
    },
    {
     "name": "stdout",
     "output_type": "stream",
     "text": [
      "{}\n"
     ]
    },
    {
     "data": {
      "text/html": [
       "Score is <a style=\"color: rgb(230,78,52)\">Z = -6.29</a>\n"
      ],
      "text/plain": [
       "<IPython.core.display.HTML object>"
      ]
     },
     "metadata": {},
     "output_type": "display_data"
    },
    {
     "data": {
      "text/html": [
       "Executing test <i>InjectedCurrentAPThresholdTest</i> on model <i>vanilla</i>... "
      ],
      "text/plain": [
       "<IPython.core.display.HTML object>"
      ]
     },
     "metadata": {},
     "output_type": "display_data"
    },
    {
     "name": "stdout",
     "output_type": "stream",
     "text": [
      "{}\n"
     ]
    },
    {
     "data": {
      "text/html": [
       "Score is <a style=\"color: rgb(128,128,128)\">Insufficient Data</a>\n"
      ],
      "text/plain": [
       "<IPython.core.display.HTML object>"
      ]
     },
     "metadata": {},
     "output_type": "display_data"
    },
    {
     "name": "stdout",
     "output_type": "stream",
     "text": [
      "<class 'float'>\n",
      "339.04320987654324 vanilla {'injected_square_current': {'delay': '100.0', 'duration': '1000.0', 'amplitude': '173.61111111111111'}} (0, <neuronunit.tests.utilities.VirtualModel object at 0x7f5241063240>, 339.04320987654324)\n",
      "{}\n",
      "{}\n",
      "{}\n"
     ]
    },
    {
     "data": {
      "text/html": [
       "Executing test <i>RheobaseTest</i> on model <i>vanilla</i>... "
      ],
      "text/plain": [
       "<IPython.core.display.HTML object>"
      ]
     },
     "metadata": {},
     "output_type": "display_data"
    },
    {
     "data": {
      "text/html": [
       "Score is <a style=\"color: rgb(232,246,160)\">Ratio = 2.61</a>\n"
      ],
      "text/plain": [
       "<IPython.core.display.HTML object>"
      ]
     },
     "metadata": {},
     "output_type": "display_data"
    },
    {
     "data": {
      "text/html": [
       "Executing test <i>InputResistanceTest</i> on model <i>vanilla</i>... "
      ],
      "text/plain": [
       "<IPython.core.display.HTML object>"
      ]
     },
     "metadata": {},
     "output_type": "display_data"
    },
    {
     "name": "stdout",
     "output_type": "stream",
     "text": [
      "{}\n",
      "<class 'sciunit.scores.ZScore'>\n"
     ]
    },
    {
     "data": {
      "text/html": [
       "Score is <a style=\"color: rgb(247,252,180)\">Z = -0.63</a>\n"
      ],
      "text/plain": [
       "<IPython.core.display.HTML object>"
      ]
     },
     "metadata": {},
     "output_type": "display_data"
    },
    {
     "data": {
      "text/html": [
       "Executing test <i>TimeConstantTest</i> on model <i>vanilla</i>... "
      ],
      "text/plain": [
       "<IPython.core.display.HTML object>"
      ]
     },
     "metadata": {},
     "output_type": "display_data"
    },
    {
     "name": "stdout",
     "output_type": "stream",
     "text": [
      "{}\n"
     ]
    },
    {
     "data": {
      "text/html": [
       "Score is <a style=\"color: rgb(235,90,58)\">Z = -2.15</a>\n"
      ],
      "text/plain": [
       "<IPython.core.display.HTML object>"
      ]
     },
     "metadata": {},
     "output_type": "display_data"
    },
    {
     "data": {
      "text/html": [
       "Executing test <i>CapacitanceTest</i> on model <i>vanilla</i>... "
      ],
      "text/plain": [
       "<IPython.core.display.HTML object>"
      ]
     },
     "metadata": {},
     "output_type": "display_data"
    },
    {
     "name": "stdout",
     "output_type": "stream",
     "text": [
      "{}\n"
     ]
    },
    {
     "data": {
      "text/html": [
       "Score is <a style=\"color: rgb(254,197,116)\">Z = -1.08</a>\n"
      ],
      "text/plain": [
       "<IPython.core.display.HTML object>"
      ]
     },
     "metadata": {},
     "output_type": "display_data"
    },
    {
     "data": {
      "text/html": [
       "Executing test <i>RestingPotentialTest</i> on model <i>vanilla</i>... "
      ],
      "text/plain": [
       "<IPython.core.display.HTML object>"
      ]
     },
     "metadata": {},
     "output_type": "display_data"
    },
    {
     "name": "stdout",
     "output_type": "stream",
     "text": [
      "{}\n"
     ]
    },
    {
     "data": {
      "text/html": [
       "Score is <a style=\"color: rgb(248,132,77)\">Z = 1.54</a>\n"
      ],
      "text/plain": [
       "<IPython.core.display.HTML object>"
      ]
     },
     "metadata": {},
     "output_type": "display_data"
    },
    {
     "data": {
      "text/html": [
       "Executing test <i>InjectedCurrentAPWidthTest</i> on model <i>vanilla</i>... "
      ],
      "text/plain": [
       "<IPython.core.display.HTML object>"
      ]
     },
     "metadata": {},
     "output_type": "display_data"
    },
    {
     "name": "stdout",
     "output_type": "stream",
     "text": [
      "{}\n"
     ]
    },
    {
     "data": {
      "text/html": [
       "Score is <a style=\"color: rgb(230,78,52)\">Z = 7.10</a>\n"
      ],
      "text/plain": [
       "<IPython.core.display.HTML object>"
      ]
     },
     "metadata": {},
     "output_type": "display_data"
    },
    {
     "data": {
      "text/html": [
       "Executing test <i>InjectedCurrentAPAmplitudeTest</i> on model <i>vanilla</i>... "
      ],
      "text/plain": [
       "<IPython.core.display.HTML object>"
      ]
     },
     "metadata": {},
     "output_type": "display_data"
    },
    {
     "name": "stdout",
     "output_type": "stream",
     "text": [
      "{}\n"
     ]
    },
    {
     "data": {
      "text/html": [
       "Score is <a style=\"color: rgb(230,78,52)\">Z = -6.29</a>\n"
      ],
      "text/plain": [
       "<IPython.core.display.HTML object>"
      ]
     },
     "metadata": {},
     "output_type": "display_data"
    },
    {
     "data": {
      "text/html": [
       "Executing test <i>InjectedCurrentAPThresholdTest</i> on model <i>vanilla</i>... "
      ],
      "text/plain": [
       "<IPython.core.display.HTML object>"
      ]
     },
     "metadata": {},
     "output_type": "display_data"
    },
    {
     "name": "stdout",
     "output_type": "stream",
     "text": [
      "{}\n"
     ]
    },
    {
     "data": {
      "text/html": [
       "Score is <a style=\"color: rgb(128,128,128)\">Insufficient Data</a>\n"
      ],
      "text/plain": [
       "<IPython.core.display.HTML object>"
      ]
     },
     "metadata": {},
     "output_type": "display_data"
    },
    {
     "name": "stdout",
     "output_type": "stream",
     "text": [
      "<class 'float'>\n",
      "17.12962962962963 vanilla {'injected_square_current': {'delay': '100.0', 'duration': '1000.0', 'amplitude': '339.04320987654324'}} (0, <neuronunit.tests.utilities.VirtualModel object at 0x7f52411a9e48>, 17.12962962962963)\n",
      "{}\n",
      "{}\n",
      "{}\n"
     ]
    },
    {
     "data": {
      "text/html": [
       "Executing test <i>RheobaseTest</i> on model <i>vanilla</i>... "
      ],
      "text/plain": [
       "<IPython.core.display.HTML object>"
      ]
     },
     "metadata": {},
     "output_type": "display_data"
    },
    {
     "data": {
      "text/html": [
       "Score is <a style=\"color: rgb(247,129,76)\">Ratio = 0.13</a>\n"
      ],
      "text/plain": [
       "<IPython.core.display.HTML object>"
      ]
     },
     "metadata": {},
     "output_type": "display_data"
    },
    {
     "data": {
      "text/html": [
       "Executing test <i>InputResistanceTest</i> on model <i>vanilla</i>... "
      ],
      "text/plain": [
       "<IPython.core.display.HTML object>"
      ]
     },
     "metadata": {},
     "output_type": "display_data"
    },
    {
     "name": "stdout",
     "output_type": "stream",
     "text": [
      "{}\n",
      "<class 'sciunit.scores.ZScore'>\n"
     ]
    },
    {
     "data": {
      "text/html": [
       "Score is <a style=\"color: rgb(231,80,54)\">Z = -2.58</a>\n"
      ],
      "text/plain": [
       "<IPython.core.display.HTML object>"
      ]
     },
     "metadata": {},
     "output_type": "display_data"
    },
    {
     "data": {
      "text/html": [
       "Executing test <i>TimeConstantTest</i> on model <i>vanilla</i>... "
      ],
      "text/plain": [
       "<IPython.core.display.HTML object>"
      ]
     },
     "metadata": {},
     "output_type": "display_data"
    },
    {
     "name": "stdout",
     "output_type": "stream",
     "text": [
      "{}\n"
     ]
    },
    {
     "name": "stderr",
     "output_type": "stream",
     "text": [
      "/home/jovyan/mnt/neuronunit/neuronunit/tests/__init__.py:273: RuntimeWarning: overflow encountered in exp\n",
      "  vm_fit[offset:] = a * np.exp(-t[offset:]/b) + c\n",
      "/home/jovyan/mnt/neuronunit/neuronunit/tests/__init__.py:273: RuntimeWarning: overflow encountered in multiply\n",
      "  vm_fit[offset:] = a * np.exp(-t[offset:]/b) + c\n"
     ]
    },
    {
     "data": {
      "text/html": [
       "Score is <a style=\"color: rgb(235,90,58)\">Z = -2.15</a>\n"
      ],
      "text/plain": [
       "<IPython.core.display.HTML object>"
      ]
     },
     "metadata": {},
     "output_type": "display_data"
    },
    {
     "data": {
      "text/html": [
       "Executing test <i>CapacitanceTest</i> on model <i>vanilla</i>... "
      ],
      "text/plain": [
       "<IPython.core.display.HTML object>"
      ]
     },
     "metadata": {},
     "output_type": "display_data"
    },
    {
     "name": "stdout",
     "output_type": "stream",
     "text": [
      "{}\n"
     ]
    },
    {
     "data": {
      "text/html": [
       "Score is <a style=\"color: rgb(254,197,116)\">Z = -1.08</a>\n"
      ],
      "text/plain": [
       "<IPython.core.display.HTML object>"
      ]
     },
     "metadata": {},
     "output_type": "display_data"
    },
    {
     "data": {
      "text/html": [
       "Executing test <i>RestingPotentialTest</i> on model <i>vanilla</i>... "
      ],
      "text/plain": [
       "<IPython.core.display.HTML object>"
      ]
     },
     "metadata": {},
     "output_type": "display_data"
    },
    {
     "name": "stdout",
     "output_type": "stream",
     "text": [
      "{}\n"
     ]
    },
    {
     "data": {
      "text/html": [
       "Score is <a style=\"color: rgb(234,87,57)\">Z = 2.25</a>\n"
      ],
      "text/plain": [
       "<IPython.core.display.HTML object>"
      ]
     },
     "metadata": {},
     "output_type": "display_data"
    },
    {
     "data": {
      "text/html": [
       "Executing test <i>InjectedCurrentAPWidthTest</i> on model <i>vanilla</i>... "
      ],
      "text/plain": [
       "<IPython.core.display.HTML object>"
      ]
     },
     "metadata": {},
     "output_type": "display_data"
    },
    {
     "name": "stdout",
     "output_type": "stream",
     "text": [
      "{}\n"
     ]
    },
    {
     "data": {
      "text/html": [
       "Score is <a style=\"color: rgb(230,78,52)\">Z = 7.10</a>\n"
      ],
      "text/plain": [
       "<IPython.core.display.HTML object>"
      ]
     },
     "metadata": {},
     "output_type": "display_data"
    },
    {
     "data": {
      "text/html": [
       "Executing test <i>InjectedCurrentAPAmplitudeTest</i> on model <i>vanilla</i>... "
      ],
      "text/plain": [
       "<IPython.core.display.HTML object>"
      ]
     },
     "metadata": {},
     "output_type": "display_data"
    },
    {
     "name": "stdout",
     "output_type": "stream",
     "text": [
      "{}\n"
     ]
    },
    {
     "data": {
      "text/html": [
       "Score is <a style=\"color: rgb(230,78,52)\">Z = -6.30</a>\n"
      ],
      "text/plain": [
       "<IPython.core.display.HTML object>"
      ]
     },
     "metadata": {},
     "output_type": "display_data"
    },
    {
     "data": {
      "text/html": [
       "Executing test <i>InjectedCurrentAPThresholdTest</i> on model <i>vanilla</i>... "
      ],
      "text/plain": [
       "<IPython.core.display.HTML object>"
      ]
     },
     "metadata": {},
     "output_type": "display_data"
    },
    {
     "name": "stdout",
     "output_type": "stream",
     "text": [
      "{}\n"
     ]
    },
    {
     "data": {
      "text/html": [
       "Score is <a style=\"color: rgb(230,78,52)\">Z = 5.30</a>\n"
      ],
      "text/plain": [
       "<IPython.core.display.HTML object>"
      ]
     },
     "metadata": {},
     "output_type": "display_data"
    },
    {
     "name": "stdout",
     "output_type": "stream",
     "text": [
      "<class 'float'>\n",
      "156.48148148148147 vanilla {'injected_square_current': {'delay': '100.0', 'duration': '1000.0', 'amplitude': '17.12962962962963'}} (0, <neuronunit.tests.utilities.VirtualModel object at 0x7f52411a9f98>, 156.48148148148147)\n",
      "{}\n",
      "{}\n",
      "{}\n"
     ]
    },
    {
     "data": {
      "text/html": [
       "Executing test <i>RheobaseTest</i> on model <i>vanilla</i>... "
      ],
      "text/plain": [
       "<IPython.core.display.HTML object>"
      ]
     },
     "metadata": {},
     "output_type": "display_data"
    },
    {
     "data": {
      "text/html": [
       "Score is <a style=\"color: rgb(104,190,99)\">Ratio = 1.20</a>\n"
      ],
      "text/plain": [
       "<IPython.core.display.HTML object>"
      ]
     },
     "metadata": {},
     "output_type": "display_data"
    },
    {
     "data": {
      "text/html": [
       "Executing test <i>InputResistanceTest</i> on model <i>vanilla</i>... "
      ],
      "text/plain": [
       "<IPython.core.display.HTML object>"
      ]
     },
     "metadata": {},
     "output_type": "display_data"
    },
    {
     "name": "stdout",
     "output_type": "stream",
     "text": [
      "{}\n",
      "<class 'sciunit.scores.ZScore'>\n"
     ]
    },
    {
     "data": {
      "text/html": [
       "Score is <a style=\"color: rgb(117,196,101)\">Z = 0.14</a>\n"
      ],
      "text/plain": [
       "<IPython.core.display.HTML object>"
      ]
     },
     "metadata": {},
     "output_type": "display_data"
    },
    {
     "data": {
      "text/html": [
       "Executing test <i>TimeConstantTest</i> on model <i>vanilla</i>... "
      ],
      "text/plain": [
       "<IPython.core.display.HTML object>"
      ]
     },
     "metadata": {},
     "output_type": "display_data"
    },
    {
     "name": "stdout",
     "output_type": "stream",
     "text": [
      "{}\n"
     ]
    },
    {
     "data": {
      "text/html": [
       "Score is <a style=\"color: rgb(235,90,58)\">Z = -2.15</a>\n"
      ],
      "text/plain": [
       "<IPython.core.display.HTML object>"
      ]
     },
     "metadata": {},
     "output_type": "display_data"
    },
    {
     "data": {
      "text/html": [
       "Executing test <i>CapacitanceTest</i> on model <i>vanilla</i>... "
      ],
      "text/plain": [
       "<IPython.core.display.HTML object>"
      ]
     },
     "metadata": {},
     "output_type": "display_data"
    },
    {
     "name": "stdout",
     "output_type": "stream",
     "text": [
      "{}\n"
     ]
    },
    {
     "data": {
      "text/html": [
       "Score is <a style=\"color: rgb(254,197,116)\">Z = -1.08</a>\n"
      ],
      "text/plain": [
       "<IPython.core.display.HTML object>"
      ]
     },
     "metadata": {},
     "output_type": "display_data"
    },
    {
     "data": {
      "text/html": [
       "Executing test <i>RestingPotentialTest</i> on model <i>vanilla</i>... "
      ],
      "text/plain": [
       "<IPython.core.display.HTML object>"
      ]
     },
     "metadata": {},
     "output_type": "display_data"
    },
    {
     "name": "stdout",
     "output_type": "stream",
     "text": [
      "{}\n"
     ]
    },
    {
     "data": {
      "text/html": [
       "Score is <a style=\"color: rgb(242,104,65)\">Z = 1.86</a>\n"
      ],
      "text/plain": [
       "<IPython.core.display.HTML object>"
      ]
     },
     "metadata": {},
     "output_type": "display_data"
    },
    {
     "data": {
      "text/html": [
       "Executing test <i>InjectedCurrentAPWidthTest</i> on model <i>vanilla</i>... "
      ],
      "text/plain": [
       "<IPython.core.display.HTML object>"
      ]
     },
     "metadata": {},
     "output_type": "display_data"
    },
    {
     "name": "stdout",
     "output_type": "stream",
     "text": [
      "{}\n"
     ]
    },
    {
     "data": {
      "text/html": [
       "Score is <a style=\"color: rgb(230,78,52)\">Z = 7.10</a>\n"
      ],
      "text/plain": [
       "<IPython.core.display.HTML object>"
      ]
     },
     "metadata": {},
     "output_type": "display_data"
    },
    {
     "data": {
      "text/html": [
       "Executing test <i>InjectedCurrentAPAmplitudeTest</i> on model <i>vanilla</i>... "
      ],
      "text/plain": [
       "<IPython.core.display.HTML object>"
      ]
     },
     "metadata": {},
     "output_type": "display_data"
    },
    {
     "name": "stdout",
     "output_type": "stream",
     "text": [
      "{}\n"
     ]
    },
    {
     "data": {
      "text/html": [
       "Score is <a style=\"color: rgb(230,78,52)\">Z = -6.30</a>\n"
      ],
      "text/plain": [
       "<IPython.core.display.HTML object>"
      ]
     },
     "metadata": {},
     "output_type": "display_data"
    },
    {
     "data": {
      "text/html": [
       "Executing test <i>InjectedCurrentAPThresholdTest</i> on model <i>vanilla</i>... "
      ],
      "text/plain": [
       "<IPython.core.display.HTML object>"
      ]
     },
     "metadata": {},
     "output_type": "display_data"
    },
    {
     "name": "stdout",
     "output_type": "stream",
     "text": [
      "{}\n"
     ]
    },
    {
     "data": {
      "text/html": [
       "Score is <a style=\"color: rgb(128,128,128)\">Insufficient Data</a>\n"
      ],
      "text/plain": [
       "<IPython.core.display.HTML object>"
      ]
     },
     "metadata": {},
     "output_type": "display_data"
    },
    {
     "name": "stdout",
     "output_type": "stream",
     "text": [
      "0 35.81353006\n",
      "1 -56.778105245\n",
      "2 0.000108056805379\n",
      "3 -48.6652811883\n",
      "4 -3.52389055825e-09\n",
      "5 0.836363715371\n",
      "6 0.0637532126724\n",
      "7 -58.2470418091\n",
      "8 -62.8825572622\n",
      "9 0.00102812325425\n",
      "0 35.8798390412\n",
      "1 -57.7247414243\n",
      "2 0.000101810444432\n",
      "3 -35.4038537857\n",
      "4 -4.92543721595e-09\n",
      "5 0.534438209282\n",
      "6 0.126517561325\n",
      "7 -58.2256604723\n",
      "8 -49.5430386436\n",
      "9 0.00139299232484\n",
      "0 33.2762178708\n",
      "1 -66.9252339228\n",
      "2 9.09649182952e-05\n",
      "3 -41.351483459\n",
      "4 -3.60377404106e-09\n",
      "5 0.152613718942\n",
      "6 0.0659157225379\n",
      "7 -58.0524647919\n",
      "8 -48.2935729089\n",
      "9 0.000955975744271\n",
      "0 34.7669766553\n",
      "1 -72.4680141235\n",
      "2 0.000103201838209\n",
      "3 -39.9945749613\n",
      "4 -4.03805929367e-09\n",
      "5 0.22691988156\n",
      "6 0.139773835721\n",
      "7 -56.134690759\n",
      "8 -70.1714588654\n",
      "9 0.00128519410792\n",
      "{}\n",
      "{}\n",
      "{}\n",
      "{}\n",
      "{}\n",
      "{}\n",
      "{}\n",
      "{}\n",
      "{}\n",
      "{}\n",
      "{}\n",
      "{}\n",
      "{}\n",
      "False\n",
      "{}\n",
      "{}\n",
      "{}\n",
      "{}\n",
      "False\n",
      "{}\n",
      "{}\n",
      "{}\n",
      "{}\n",
      "False\n",
      "{}\n",
      "<class 'float'>\n",
      "current 17.12962962962963 spikes 1\n",
      "{}\n",
      "{}\n",
      "{}\n",
      "<class 'float'>\n",
      "{}\n",
      "{}\n",
      "{}\n",
      "{}\n",
      "{}\n",
      "{}\n",
      "{}\n"
     ]
    }
   ],
   "source": [
    "\n",
    "class Score:\n",
    "    def __init__(self, score):\n",
    "        self.score = score\n",
    "\n",
    "class Test:\n",
    "    def _optimize(self, model,modelp):\n",
    "        '''\n",
    "        The implementation of optimization, consisting of implementation details.\n",
    "        Inputs a model, and model parameter ranges to expore\n",
    "        Private method for programmer designer.\n",
    "        Outputs the optimal model, its attributes and the low error it resulted in.\n",
    "        '''\n",
    "        from neuronunit.tests import nsga\n",
    "        gap = nsga.GAparams(model)\n",
    "        # The number of generations is 2\n",
    "        gap.NGEN = 2\n",
    "        # The population of genes is 4\n",
    "        gap.MU = 4\n",
    "        \n",
    "        gap.BOUND_LOW = [ np.min(i) for i in modelp.model_params.values() ]\n",
    "        gap.BOUND_UP = [ np.max(i) for i in modelp.model_params.values() ]\n",
    "\n",
    "        vmpop, pop, invalid_ind, pf = nsga.main(gap.NGEN,gap.MU,model,modelp)\n",
    "        some_tuples = (vmpop, pop, invalid_ind, pf)\n",
    "        return pop[0], some_tuples\n",
    "        #return vmpop, pop, invalid_ind, pf\n",
    "        \n",
    "    def _get_optimization_parameters(self, some_tuples):\n",
    "        vmpop = some_tuples[0]\n",
    "        # Your specific unpacking of tuples that _optimize returns\n",
    "        scores = [ i.score for i in vmpop ]\n",
    "        pop = some_tuples[1]\n",
    "        errors = pop[0].fitness\n",
    "        parameters = vmpop[0].attrs\n",
    "        #parameters,errors,scores,_ = zip(*some_tuples)\n",
    "        return parameters,scores\n",
    "\n",
    "    def optimize(self, model, modelp):\n",
    "        '''\n",
    "        The Class users version of optimize\n",
    "        where details are hidden in _optimizae\n",
    "        '''\n",
    "\n",
    "        # Do optimization including repeated calls to judge\n",
    "        models, some_tuples = self._optimize(model,modelp)\n",
    "        parameters, scores = self._get_optimization_parameters(some_tuples)\n",
    "        # Maybe rebuild the original model\n",
    "        # (i.e. restore the true class from the virtual version)\n",
    "\n",
    "        # Your code keeps parameter sets and associated scores\n",
    "        # All the organizing stuff\n",
    "        \n",
    "        \n",
    "        # this a way of looking at solved model parameters, ie candidate solutions from \n",
    "        # the pareto front.\n",
    "\n",
    "        \n",
    "        # Make a ScoreArray (which is basically a pandas dataframe)\n",
    "       \n",
    "        return model, scores, some_tuples\n",
    "\n",
    "    \n",
    "t = Test()\n",
    "\n",
    "\n",
    "model,scores,some_tuples = t.optimize(model,modelp)   "
   ]
  },
  {
   "cell_type": "code",
   "execution_count": null,
   "metadata": {
    "collapsed": true
   },
   "outputs": [],
   "source": [
    "import sciunit\n",
    "modelsp = [model.__class__(p) for p in parameters]\n",
    "models = some_tuples[1]\n",
    "\n",
    "path = sciunit.ScoreArray(models,scores=scores)\n",
    "\n",
    "    "
   ]
  },
  {
   "cell_type": "code",
   "execution_count": null,
   "metadata": {
    "collapsed": true
   },
   "outputs": [],
   "source": [
    "\n",
    "import pickle\n",
    "import pandas as pd\n",
    "\n",
    "\n",
    "try:\n",
    "    ground_error = pickle.load(open('big_model_evaulated.pickle','rb'))\n",
    "except:\n",
    "    print('{0} it seems the error truth data does not yet exist, lets create it now '.format(str(False)))\n",
    "    ground_error = list(futures.map(outils.func2map, ground_truth))\n",
    "    pickle.dump(ground_error,open('big_model_evaulated.pickle','wb'))\n",
    "ground_error_nsga=list(zip(vmpop,pop,invalid_ind))\n",
    "pickle.dump(ground_error_nsga,open('nsga_evaulated.pickle','wb'))\n",
    "\n",
    "#Get the differences between values obtained via brute force, and those obtained otherwise:\n",
    "sum_errors = [ i[0] for i in ground_error ]\n",
    "composite_errors = [ i[1] for i in ground_error ]\n",
    "attrs = [ i[2] for i in ground_error ]\n",
    "rheobase = [ i[3] for i in ground_error ]\n",
    "\n",
    "indexs = [i for i,j in enumerate(sum_errors) if j==np.min(sum_errors) ][0]\n",
    "indexc = [i for i,j in enumerate(composite_errors) if j==np.min(composite_errors) ][0]\n",
    "#assert indexs == indexc\n",
    "vmpop = some_tupeles[0]\n",
    "df_0 = pd.DataFrame([ (k,v,vmpop[0].attrs[k],float(v)-float(vmpop[0].attrs[k])) for k,v in ground_error[indexc][2].items() ])\n",
    "df_1 = pd.DataFrame([ (k,v,vmpop[1].attrs[k],float(v)-float(vmpop[1].attrs[k])) for k,v in ground_error[indexc][2].items() ])\n",
    "\n"
   ]
  },
  {
   "cell_type": "code",
   "execution_count": null,
   "metadata": {
    "collapsed": true
   },
   "outputs": [],
   "source": [
    "\n",
    "\n",
    "df_0"
   ]
  },
  {
   "cell_type": "code",
   "execution_count": null,
   "metadata": {
    "collapsed": true
   },
   "outputs": [],
   "source": [
    "df_1\n"
   ]
  },
  {
   "cell_type": "code",
   "execution_count": null,
   "metadata": {
    "collapsed": true
   },
   "outputs": [],
   "source": []
  }
 ],
 "metadata": {
  "kernelspec": {
   "display_name": "Python 3",
   "language": "python",
   "name": "python3"
  },
  "language_info": {
   "codemirror_mode": {
    "name": "ipython",
    "version": 3
   },
   "file_extension": ".py",
   "mimetype": "text/x-python",
   "name": "python",
   "nbconvert_exporter": "python",
   "pygments_lexer": "ipython3",
   "version": "3.5.2"
  }
 },
 "nbformat": 4,
 "nbformat_minor": 2
}
