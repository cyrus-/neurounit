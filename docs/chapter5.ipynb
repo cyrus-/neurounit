{
 "cells": [
  {
   "cell_type": "code",
   "execution_count": 1,
   "metadata": {},
   "outputs": [
    {
     "name": "stdout",
     "output_type": "stream",
     "text": [
      "Getting Rheobase cached data value for from AIBS dataset 354190013\n",
      "attempting to recover from pickled file\n",
      "/home/jovyan/mnt/neuronunit/neuronunit/tests/__init__.py\n",
      "Ignoring included LEMS file: Cells.xml\n",
      "Ignoring included LEMS file: Networks.xml\n",
      "Ignoring included LEMS file: Simulation.xml\n",
      "Mechanisms already loaded from path: /home/jovyan/mnt/neuronunit/neuronunit/tests/NeuroML2.  Aborting.\n",
      "Ignoring included LEMS file: Cells.xml\n",
      "Ignoring included LEMS file: Networks.xml\n",
      "Ignoring included LEMS file: Simulation.xml\n"
     ]
    }
   ],
   "source": [
    "import sys                                                                                                                                                                                                              \n",
    "sys.path[0]='/home/jovyan/mnt/neuronunit'                                                                                                                                                                                                     \n",
    "from neuronunit.tests import get_neab                                                                                                                                                                                                         \n",
    "import neuronunit                                                                                                                                                                                                                             \n",
    "print(neuronunit.tests.__file__)                                                                                                                                                                                                              \n",
    "from neuronunit.tests import utilities as outils                                                                                                                                                                                              \n",
    "                                                                                                                                                                                                                                              \n",
    "from neuronunit.tests import model_parameters as modelp                                                                                                                                                                                       \n",
    "import numpy as np                                                                                                                                                                                                                            \n",
    "model = outils.model                \n",
    "from sciunit import scores\n"
   ]
  },
  {
   "cell_type": "code",
   "execution_count": 2,
   "metadata": {},
   "outputs": [
    {
     "name": "stdout",
     "output_type": "stream",
     "text": [
      "<module 'neuronunit.tests.model_parameters' from '/home/jovyan/mnt/neuronunit/neuronunit/tests/model_parameters.py'>\n",
      "0 39.3715553272\n",
      "1 0.0518254196574\n",
      "2 9.93194568776e-05\n",
      "3 -67.3740489831\n",
      "4 -59.5125484902\n",
      "5 -4.47762006555e-09\n",
      "6 0.671900527826\n",
      "7 -55.6996968732\n",
      "8 -36.813955781\n",
      "9 0.00115780964351\n",
      "0 31.2834489251\n",
      "1 0.102866164199\n",
      "2 0.000100369035346\n",
      "3 -62.6048389111\n",
      "4 -56.1836270346\n",
      "5 -3.62736259776e-09\n",
      "6 0.876292526286\n",
      "7 -47.9021626852\n",
      "8 -32.8189238319\n",
      "9 0.001221273142\n",
      "0 32.4416452854\n",
      "1 0.165787750135\n",
      "2 9.30449495022e-05\n",
      "3 -65.3603349633\n",
      "4 -57.2497391043\n",
      "5 -4.75915425424e-09\n",
      "6 0.705821414254\n",
      "7 -69.0494324109\n",
      "8 -48.456174567\n",
      "9 0.00094115889357\n",
      "0 30.6983513151\n",
      "1 0.125797651601\n",
      "2 0.000103328342567\n",
      "3 -73.6782396495\n",
      "4 -56.4972671307\n",
      "5 -4.88912359869e-09\n",
      "6 0.285583373448\n",
      "7 -61.2128860714\n"
     ]
    },
    {
     "name": "stderr",
     "output_type": "stream",
     "text": [
      "/opt/conda/lib/python3.5/site-packages/scoop-0.7.2.0-py3.5.egg/scoop/fallbacks.py:46: RuntimeWarning: SCOOP was not started properly.\n",
      "Be sure to start your program with the '-m scoop' parameter. You can find further information in the documentation.\n",
      "Your map call has been replaced by the builtin serial Python map().\n"
     ]
    },
    {
     "name": "stdout",
     "output_type": "stream",
     "text": [
      "8 -32.2511342188\n",
      "9 0.000836911868153\n",
      "{}\n",
      "{}\n",
      "{}\n",
      "{}\n",
      "{}\n",
      "{}\n",
      "{}\n",
      "{}\n",
      "{}\n",
      "{}\n",
      "{}\n",
      "{}\n",
      "{}\n",
      "False\n",
      "{}\n",
      "{}\n",
      "{}\n",
      "{}\n",
      "False\n",
      "{}\n",
      "{}\n",
      "{}\n",
      "{}\n",
      "False\n",
      "{}\n",
      "{}\n",
      "{}\n",
      "{}\n",
      "<class 'float'>\n",
      "current 270.60185185185185 spikes 1\n",
      "<class 'float'>\n",
      "{}\n",
      "{}\n",
      "{}\n",
      "{}\n",
      "{}\n",
      "{}\n",
      "{}\n",
      "{}\n",
      "{}\n",
      "{}\n",
      "{}\n",
      "{}\n",
      "{}\n",
      "False\n",
      "{}\n",
      "{}\n",
      "{}\n",
      "{}\n",
      "False\n",
      "{}\n",
      "{}\n",
      "{}\n",
      "{}\n",
      "False\n",
      "{}\n",
      "{}\n",
      "<class 'float'>\n",
      "current 271.0648148148148 spikes 1\n",
      "{}\n",
      "<class 'float'>\n",
      "current 271.18055555555554 spikes 1\n",
      "{}\n",
      "<class 'float'>\n",
      "{}\n",
      "{}\n",
      "{}\n",
      "{}\n",
      "{}\n",
      "{}\n",
      "{}\n",
      "False\n",
      "{}\n",
      "{}\n",
      "{}\n",
      "{}\n",
      "False\n",
      "{}\n",
      "{}\n",
      "<class 'float'>\n",
      "current 67.5925925925926 spikes 1\n",
      "{}\n",
      "{}\n",
      "<class 'float'>\n",
      "{}\n",
      "{}\n",
      "{}\n",
      "{}\n",
      "{}\n",
      "{}\n",
      "{}\n",
      "{}\n",
      "{}\n",
      "{}\n",
      "{}\n",
      "{}\n",
      "{}\n",
      "{}\n",
      "{}\n",
      "{}\n",
      "{}\n",
      "{}\n",
      "{}\n",
      "False\n",
      "{}\n",
      "{}\n",
      "{}\n",
      "{}\n",
      "False\n",
      "{}\n",
      "{}\n",
      "{}\n",
      "{}\n",
      "False\n",
      "{}\n",
      "{}\n",
      "{}\n",
      "{}\n",
      "<class 'float'>\n",
      "current 359.49074074074076 spikes 1\n",
      "<class 'float'>\n",
      "checkpoint 1 output from parallel map [<neuronunit.tests.utilities.VirtualModel object at 0x7f59f2af8390>, <neuronunit.tests.utilities.VirtualModel object at 0x7f59f2af8d30>, <neuronunit.tests.utilities.VirtualModel object at 0x7f59f29b8048>, <neuronunit.tests.utilities.VirtualModel object at 0x7f59f29b8128>]\n",
      "[270.60185185185185, 271.18055555555554, 67.5925925925926, 359.49074074074076]\n",
      "270.60185185185185\n",
      "271.18055555555554\n",
      "67.5925925925926\n",
      "359.49074074074076\n",
      "270.60185185185185\n",
      "271.18055555555554\n",
      "67.5925925925926\n",
      "359.49074074074076\n",
      "270.60185185185185\n",
      "271.18055555555554\n",
      "67.5925925925926\n",
      "359.49074074074076\n",
      "270.60185185185185 270.60185185185185\n",
      "271.18055555555554 271.18055555555554\n",
      "67.5925925925926 67.5925925925926\n",
      "359.49074074074076 359.49074074074076\n",
      "<class 'list'> <class 'list'>\n",
      "updatevmpop returns a whole heap of nones suggesting its not working [<neuronunit.tests.utilities.VirtualModel object at 0x7f59f2af8390>, <neuronunit.tests.utilities.VirtualModel object at 0x7f59f2af8d30>, <neuronunit.tests.utilities.VirtualModel object at 0x7f59f29b8048>, <neuronunit.tests.utilities.VirtualModel object at 0x7f59f29b8128>]\n",
      "<class 'float'>\n",
      "270.60185185185185 vanilla {'injected_square_current': {'amplitude': '359.49074074074076', 'duration': '1000.0', 'delay': '100.0'}} (0, <neuronunit.tests.utilities.VirtualModel object at 0x7f59f2af8390>, 270.60185185185185)\n",
      "{}\n",
      "{}\n",
      "{}\n"
     ]
    },
    {
     "data": {
      "text/html": [
       "Executing test <i>RheobaseTest</i> on model <i>vanilla</i>... "
      ],
      "text/plain": [
       "<IPython.core.display.HTML object>"
      ]
     },
     "metadata": {},
     "output_type": "display_data"
    },
    {
     "data": {
      "text/html": [
       "Score is <a style=\"color: rgb(203,233,130)\">Ratio = 2.08</a>\n"
      ],
      "text/plain": [
       "<IPython.core.display.HTML object>"
      ]
     },
     "metadata": {},
     "output_type": "display_data"
    },
    {
     "data": {
      "text/html": [
       "Executing test <i>InputResistanceTest</i> on model <i>vanilla</i>... "
      ],
      "text/plain": [
       "<IPython.core.display.HTML object>"
      ]
     },
     "metadata": {},
     "output_type": "display_data"
    },
    {
     "name": "stdout",
     "output_type": "stream",
     "text": [
      "{}\n",
      "<class 'sciunit.scores.ZScore'>\n"
     ]
    },
    {
     "data": {
      "text/html": [
       "Score is <a style=\"color: rgb(248,132,77)\">Z = 1.54</a>\n"
      ],
      "text/plain": [
       "<IPython.core.display.HTML object>"
      ]
     },
     "metadata": {},
     "output_type": "display_data"
    },
    {
     "data": {
      "text/html": [
       "Executing test <i>TimeConstantTest</i> on model <i>vanilla</i>... "
      ],
      "text/plain": [
       "<IPython.core.display.HTML object>"
      ]
     },
     "metadata": {},
     "output_type": "display_data"
    },
    {
     "name": "stdout",
     "output_type": "stream",
     "text": [
      "{}\n"
     ]
    },
    {
     "data": {
      "text/html": [
       "Score is <a style=\"color: rgb(235,90,58)\">Z = -2.15</a>\n"
      ],
      "text/plain": [
       "<IPython.core.display.HTML object>"
      ]
     },
     "metadata": {},
     "output_type": "display_data"
    },
    {
     "data": {
      "text/html": [
       "Executing test <i>CapacitanceTest</i> on model <i>vanilla</i>... "
      ],
      "text/plain": [
       "<IPython.core.display.HTML object>"
      ]
     },
     "metadata": {},
     "output_type": "display_data"
    },
    {
     "name": "stdout",
     "output_type": "stream",
     "text": [
      "{}\n"
     ]
    },
    {
     "data": {
      "text/html": [
       "Score is <a style=\"color: rgb(254,197,116)\">Z = -1.08</a>\n"
      ],
      "text/plain": [
       "<IPython.core.display.HTML object>"
      ]
     },
     "metadata": {},
     "output_type": "display_data"
    },
    {
     "data": {
      "text/html": [
       "Executing test <i>RestingPotentialTest</i> on model <i>vanilla</i>... "
      ],
      "text/plain": [
       "<IPython.core.display.HTML object>"
      ]
     },
     "metadata": {},
     "output_type": "display_data"
    },
    {
     "name": "stdout",
     "output_type": "stream",
     "text": [
      "{}\n"
     ]
    },
    {
     "data": {
      "text/html": [
       "Score is <a style=\"color: rgb(235,90,58)\">Z = 2.19</a>\n"
      ],
      "text/plain": [
       "<IPython.core.display.HTML object>"
      ]
     },
     "metadata": {},
     "output_type": "display_data"
    },
    {
     "data": {
      "text/html": [
       "Executing test <i>InjectedCurrentAPWidthTest</i> on model <i>vanilla</i>... "
      ],
      "text/plain": [
       "<IPython.core.display.HTML object>"
      ]
     },
     "metadata": {},
     "output_type": "display_data"
    },
    {
     "name": "stdout",
     "output_type": "stream",
     "text": [
      "{}\n"
     ]
    },
    {
     "data": {
      "text/html": [
       "Score is <a style=\"color: rgb(230,78,52)\">Z = 7.10</a>\n"
      ],
      "text/plain": [
       "<IPython.core.display.HTML object>"
      ]
     },
     "metadata": {},
     "output_type": "display_data"
    },
    {
     "data": {
      "text/html": [
       "Executing test <i>InjectedCurrentAPAmplitudeTest</i> on model <i>vanilla</i>... "
      ],
      "text/plain": [
       "<IPython.core.display.HTML object>"
      ]
     },
     "metadata": {},
     "output_type": "display_data"
    },
    {
     "name": "stdout",
     "output_type": "stream",
     "text": [
      "{}\n"
     ]
    },
    {
     "data": {
      "text/html": [
       "Score is <a style=\"color: rgb(230,78,52)\">Z = -6.29</a>\n"
      ],
      "text/plain": [
       "<IPython.core.display.HTML object>"
      ]
     },
     "metadata": {},
     "output_type": "display_data"
    },
    {
     "data": {
      "text/html": [
       "Executing test <i>InjectedCurrentAPThresholdTest</i> on model <i>vanilla</i>... "
      ],
      "text/plain": [
       "<IPython.core.display.HTML object>"
      ]
     },
     "metadata": {},
     "output_type": "display_data"
    },
    {
     "name": "stdout",
     "output_type": "stream",
     "text": [
      "{}\n"
     ]
    },
    {
     "data": {
      "text/html": [
       "Score is <a style=\"color: rgb(128,128,128)\">Insufficient Data</a>\n"
      ],
      "text/plain": [
       "<IPython.core.display.HTML object>"
      ]
     },
     "metadata": {},
     "output_type": "display_data"
    },
    {
     "name": "stdout",
     "output_type": "stream",
     "text": [
      "<class 'float'>\n",
      "271.18055555555554 vanilla {'injected_square_current': {'amplitude': '270.60185185185185', 'duration': '1000.0', 'delay': '100.0'}} (0, <neuronunit.tests.utilities.VirtualModel object at 0x7f59f2af8d30>, 271.18055555555554)\n",
      "{}\n",
      "{}\n",
      "{}\n"
     ]
    },
    {
     "data": {
      "text/html": [
       "Executing test <i>RheobaseTest</i> on model <i>vanilla</i>... "
      ],
      "text/plain": [
       "<IPython.core.display.HTML object>"
      ]
     },
     "metadata": {},
     "output_type": "display_data"
    },
    {
     "data": {
      "text/html": [
       "Score is <a style=\"color: rgb(203,233,130)\">Ratio = 2.09</a>\n"
      ],
      "text/plain": [
       "<IPython.core.display.HTML object>"
      ]
     },
     "metadata": {},
     "output_type": "display_data"
    },
    {
     "data": {
      "text/html": [
       "Executing test <i>InputResistanceTest</i> on model <i>vanilla</i>... "
      ],
      "text/plain": [
       "<IPython.core.display.HTML object>"
      ]
     },
     "metadata": {},
     "output_type": "display_data"
    },
    {
     "name": "stdout",
     "output_type": "stream",
     "text": [
      "{}\n",
      "<class 'sciunit.scores.ZScore'>\n"
     ]
    },
    {
     "data": {
      "text/html": [
       "Score is <a style=\"color: rgb(241,102,63)\">Z = 1.88</a>\n"
      ],
      "text/plain": [
       "<IPython.core.display.HTML object>"
      ]
     },
     "metadata": {},
     "output_type": "display_data"
    },
    {
     "data": {
      "text/html": [
       "Executing test <i>TimeConstantTest</i> on model <i>vanilla</i>... "
      ],
      "text/plain": [
       "<IPython.core.display.HTML object>"
      ]
     },
     "metadata": {},
     "output_type": "display_data"
    },
    {
     "name": "stdout",
     "output_type": "stream",
     "text": [
      "{}\n"
     ]
    },
    {
     "data": {
      "text/html": [
       "Score is <a style=\"color: rgb(235,90,58)\">Z = -2.15</a>\n"
      ],
      "text/plain": [
       "<IPython.core.display.HTML object>"
      ]
     },
     "metadata": {},
     "output_type": "display_data"
    },
    {
     "data": {
      "text/html": [
       "Executing test <i>CapacitanceTest</i> on model <i>vanilla</i>... "
      ],
      "text/plain": [
       "<IPython.core.display.HTML object>"
      ]
     },
     "metadata": {},
     "output_type": "display_data"
    },
    {
     "name": "stdout",
     "output_type": "stream",
     "text": [
      "{}\n"
     ]
    },
    {
     "data": {
      "text/html": [
       "Score is <a style=\"color: rgb(254,197,116)\">Z = -1.08</a>\n"
      ],
      "text/plain": [
       "<IPython.core.display.HTML object>"
      ]
     },
     "metadata": {},
     "output_type": "display_data"
    },
    {
     "data": {
      "text/html": [
       "Executing test <i>RestingPotentialTest</i> on model <i>vanilla</i>... "
      ],
      "text/plain": [
       "<IPython.core.display.HTML object>"
      ]
     },
     "metadata": {},
     "output_type": "display_data"
    },
    {
     "name": "stdout",
     "output_type": "stream",
     "text": [
      "{}\n"
     ]
    },
    {
     "data": {
      "text/html": [
       "Score is <a style=\"color: rgb(230,78,52)\">Z = 2.86</a>\n"
      ],
      "text/plain": [
       "<IPython.core.display.HTML object>"
      ]
     },
     "metadata": {},
     "output_type": "display_data"
    },
    {
     "data": {
      "text/html": [
       "Executing test <i>InjectedCurrentAPWidthTest</i> on model <i>vanilla</i>... "
      ],
      "text/plain": [
       "<IPython.core.display.HTML object>"
      ]
     },
     "metadata": {},
     "output_type": "display_data"
    },
    {
     "name": "stdout",
     "output_type": "stream",
     "text": [
      "{}\n"
     ]
    },
    {
     "data": {
      "text/html": [
       "Score is <a style=\"color: rgb(230,78,52)\">Z = 7.10</a>\n"
      ],
      "text/plain": [
       "<IPython.core.display.HTML object>"
      ]
     },
     "metadata": {},
     "output_type": "display_data"
    },
    {
     "data": {
      "text/html": [
       "Executing test <i>InjectedCurrentAPAmplitudeTest</i> on model <i>vanilla</i>... "
      ],
      "text/plain": [
       "<IPython.core.display.HTML object>"
      ]
     },
     "metadata": {},
     "output_type": "display_data"
    },
    {
     "name": "stdout",
     "output_type": "stream",
     "text": [
      "{}\n"
     ]
    },
    {
     "data": {
      "text/html": [
       "Score is <a style=\"color: rgb(230,78,52)\">Z = -6.30</a>\n"
      ],
      "text/plain": [
       "<IPython.core.display.HTML object>"
      ]
     },
     "metadata": {},
     "output_type": "display_data"
    },
    {
     "data": {
      "text/html": [
       "Executing test <i>InjectedCurrentAPThresholdTest</i> on model <i>vanilla</i>... "
      ],
      "text/plain": [
       "<IPython.core.display.HTML object>"
      ]
     },
     "metadata": {},
     "output_type": "display_data"
    },
    {
     "name": "stdout",
     "output_type": "stream",
     "text": [
      "{}\n"
     ]
    },
    {
     "data": {
      "text/html": [
       "Score is <a style=\"color: rgb(128,128,128)\">Insufficient Data</a>\n"
      ],
      "text/plain": [
       "<IPython.core.display.HTML object>"
      ]
     },
     "metadata": {},
     "output_type": "display_data"
    },
    {
     "name": "stdout",
     "output_type": "stream",
     "text": [
      "<class 'float'>\n",
      "67.5925925925926 vanilla {'injected_square_current': {'amplitude': '271.18055555555554', 'duration': '1000.0', 'delay': '100.0'}} (0, <neuronunit.tests.utilities.VirtualModel object at 0x7f59f29b8048>, 67.5925925925926)\n",
      "{}\n",
      "{}\n",
      "{}\n"
     ]
    },
    {
     "data": {
      "text/html": [
       "Executing test <i>RheobaseTest</i> on model <i>vanilla</i>... "
      ],
      "text/plain": [
       "<IPython.core.display.HTML object>"
      ]
     },
     "metadata": {},
     "output_type": "display_data"
    },
    {
     "data": {
      "text/html": [
       "Score is <a style=\"color: rgb(191,228,122)\">Ratio = 0.52</a>\n"
      ],
      "text/plain": [
       "<IPython.core.display.HTML object>"
      ]
     },
     "metadata": {},
     "output_type": "display_data"
    },
    {
     "data": {
      "text/html": [
       "Executing test <i>InputResistanceTest</i> on model <i>vanilla</i>... "
      ],
      "text/plain": [
       "<IPython.core.display.HTML object>"
      ]
     },
     "metadata": {},
     "output_type": "display_data"
    },
    {
     "name": "stdout",
     "output_type": "stream",
     "text": [
      "{}\n",
      "<class 'sciunit.scores.ZScore'>\n"
     ]
    },
    {
     "data": {
      "text/html": [
       "Score is <a style=\"color: rgb(233,85,56)\">Z = -2.36</a>\n"
      ],
      "text/plain": [
       "<IPython.core.display.HTML object>"
      ]
     },
     "metadata": {},
     "output_type": "display_data"
    },
    {
     "data": {
      "text/html": [
       "Executing test <i>TimeConstantTest</i> on model <i>vanilla</i>... "
      ],
      "text/plain": [
       "<IPython.core.display.HTML object>"
      ]
     },
     "metadata": {},
     "output_type": "display_data"
    },
    {
     "name": "stdout",
     "output_type": "stream",
     "text": [
      "{}\n"
     ]
    },
    {
     "name": "stderr",
     "output_type": "stream",
     "text": [
      "/home/jovyan/mnt/neuronunit/neuronunit/tests/__init__.py:273: RuntimeWarning: overflow encountered in exp\n",
      "  vm_fit[offset:] = a * np.exp(-t[offset:]/b) + c\n",
      "/home/jovyan/mnt/neuronunit/neuronunit/tests/__init__.py:273: RuntimeWarning: overflow encountered in multiply\n",
      "  vm_fit[offset:] = a * np.exp(-t[offset:]/b) + c\n"
     ]
    },
    {
     "data": {
      "text/html": [
       "Score is <a style=\"color: rgb(235,90,58)\">Z = -2.15</a>\n"
      ],
      "text/plain": [
       "<IPython.core.display.HTML object>"
      ]
     },
     "metadata": {},
     "output_type": "display_data"
    },
    {
     "data": {
      "text/html": [
       "Executing test <i>CapacitanceTest</i> on model <i>vanilla</i>... "
      ],
      "text/plain": [
       "<IPython.core.display.HTML object>"
      ]
     },
     "metadata": {},
     "output_type": "display_data"
    },
    {
     "name": "stdout",
     "output_type": "stream",
     "text": [
      "{}\n"
     ]
    },
    {
     "data": {
      "text/html": [
       "Score is <a style=\"color: rgb(254,197,116)\">Z = -1.08</a>\n"
      ],
      "text/plain": [
       "<IPython.core.display.HTML object>"
      ]
     },
     "metadata": {},
     "output_type": "display_data"
    },
    {
     "data": {
      "text/html": [
       "Executing test <i>RestingPotentialTest</i> on model <i>vanilla</i>... "
      ],
      "text/plain": [
       "<IPython.core.display.HTML object>"
      ]
     },
     "metadata": {},
     "output_type": "display_data"
    },
    {
     "name": "stdout",
     "output_type": "stream",
     "text": [
      "{}\n"
     ]
    },
    {
     "data": {
      "text/html": [
       "Score is <a style=\"color: rgb(247,127,75)\">Z = 1.59</a>\n"
      ],
      "text/plain": [
       "<IPython.core.display.HTML object>"
      ]
     },
     "metadata": {},
     "output_type": "display_data"
    },
    {
     "data": {
      "text/html": [
       "Executing test <i>InjectedCurrentAPWidthTest</i> on model <i>vanilla</i>... "
      ],
      "text/plain": [
       "<IPython.core.display.HTML object>"
      ]
     },
     "metadata": {},
     "output_type": "display_data"
    },
    {
     "name": "stdout",
     "output_type": "stream",
     "text": [
      "{}\n"
     ]
    },
    {
     "data": {
      "text/html": [
       "Score is <a style=\"color: rgb(230,78,52)\">Z = 7.10</a>\n"
      ],
      "text/plain": [
       "<IPython.core.display.HTML object>"
      ]
     },
     "metadata": {},
     "output_type": "display_data"
    },
    {
     "data": {
      "text/html": [
       "Executing test <i>InjectedCurrentAPAmplitudeTest</i> on model <i>vanilla</i>... "
      ],
      "text/plain": [
       "<IPython.core.display.HTML object>"
      ]
     },
     "metadata": {},
     "output_type": "display_data"
    },
    {
     "name": "stdout",
     "output_type": "stream",
     "text": [
      "{}\n"
     ]
    },
    {
     "data": {
      "text/html": [
       "Score is <a style=\"color: rgb(230,78,52)\">Z = -6.29</a>\n"
      ],
      "text/plain": [
       "<IPython.core.display.HTML object>"
      ]
     },
     "metadata": {},
     "output_type": "display_data"
    },
    {
     "data": {
      "text/html": [
       "Executing test <i>InjectedCurrentAPThresholdTest</i> on model <i>vanilla</i>... "
      ],
      "text/plain": [
       "<IPython.core.display.HTML object>"
      ]
     },
     "metadata": {},
     "output_type": "display_data"
    },
    {
     "name": "stdout",
     "output_type": "stream",
     "text": [
      "{}\n"
     ]
    },
    {
     "data": {
      "text/html": [
       "Score is <a style=\"color: rgb(230,78,52)\">Z = 5.31</a>\n"
      ],
      "text/plain": [
       "<IPython.core.display.HTML object>"
      ]
     },
     "metadata": {},
     "output_type": "display_data"
    },
    {
     "name": "stdout",
     "output_type": "stream",
     "text": [
      "<class 'float'>\n",
      "359.49074074074076 vanilla {'injected_square_current': {'amplitude': '67.5925925925926', 'duration': '1000.0', 'delay': '100.0'}} (0, <neuronunit.tests.utilities.VirtualModel object at 0x7f59f29b8128>, 359.49074074074076)\n",
      "{}\n",
      "{}\n",
      "{}\n"
     ]
    },
    {
     "data": {
      "text/html": [
       "Executing test <i>RheobaseTest</i> on model <i>vanilla</i>... "
      ],
      "text/plain": [
       "<IPython.core.display.HTML object>"
      ]
     },
     "metadata": {},
     "output_type": "display_data"
    },
    {
     "data": {
      "text/html": [
       "Score is <a style=\"color: rgb(240,249,170)\">Ratio = 2.77</a>\n"
      ],
      "text/plain": [
       "<IPython.core.display.HTML object>"
      ]
     },
     "metadata": {},
     "output_type": "display_data"
    },
    {
     "data": {
      "text/html": [
       "Executing test <i>InputResistanceTest</i> on model <i>vanilla</i>... "
      ],
      "text/plain": [
       "<IPython.core.display.HTML object>"
      ]
     },
     "metadata": {},
     "output_type": "display_data"
    },
    {
     "name": "stdout",
     "output_type": "stream",
     "text": [
      "{}\n",
      "<class 'sciunit.scores.ZScore'>\n"
     ]
    },
    {
     "data": {
      "text/html": [
       "Score is <a style=\"color: rgb(239,97,61)\">Z = 2.00</a>\n"
      ],
      "text/plain": [
       "<IPython.core.display.HTML object>"
      ]
     },
     "metadata": {},
     "output_type": "display_data"
    },
    {
     "data": {
      "text/html": [
       "Executing test <i>TimeConstantTest</i> on model <i>vanilla</i>... "
      ],
      "text/plain": [
       "<IPython.core.display.HTML object>"
      ]
     },
     "metadata": {},
     "output_type": "display_data"
    },
    {
     "name": "stdout",
     "output_type": "stream",
     "text": [
      "{}\n"
     ]
    },
    {
     "data": {
      "text/html": [
       "Score is <a style=\"color: rgb(235,90,58)\">Z = -2.15</a>\n"
      ],
      "text/plain": [
       "<IPython.core.display.HTML object>"
      ]
     },
     "metadata": {},
     "output_type": "display_data"
    },
    {
     "data": {
      "text/html": [
       "Executing test <i>CapacitanceTest</i> on model <i>vanilla</i>... "
      ],
      "text/plain": [
       "<IPython.core.display.HTML object>"
      ]
     },
     "metadata": {},
     "output_type": "display_data"
    },
    {
     "name": "stdout",
     "output_type": "stream",
     "text": [
      "{}\n"
     ]
    },
    {
     "data": {
      "text/html": [
       "Score is <a style=\"color: rgb(254,197,116)\">Z = -1.08</a>\n"
      ],
      "text/plain": [
       "<IPython.core.display.HTML object>"
      ]
     },
     "metadata": {},
     "output_type": "display_data"
    },
    {
     "data": {
      "text/html": [
       "Executing test <i>RestingPotentialTest</i> on model <i>vanilla</i>... "
      ],
      "text/plain": [
       "<IPython.core.display.HTML object>"
      ]
     },
     "metadata": {},
     "output_type": "display_data"
    },
    {
     "name": "stdout",
     "output_type": "stream",
     "text": [
      "{}\n"
     ]
    },
    {
     "data": {
      "text/html": [
       "Score is <a style=\"color: rgb(240,99,62)\">Z = 1.96</a>\n"
      ],
      "text/plain": [
       "<IPython.core.display.HTML object>"
      ]
     },
     "metadata": {},
     "output_type": "display_data"
    },
    {
     "data": {
      "text/html": [
       "Executing test <i>InjectedCurrentAPWidthTest</i> on model <i>vanilla</i>... "
      ],
      "text/plain": [
       "<IPython.core.display.HTML object>"
      ]
     },
     "metadata": {},
     "output_type": "display_data"
    },
    {
     "name": "stdout",
     "output_type": "stream",
     "text": [
      "{}\n"
     ]
    },
    {
     "data": {
      "text/html": [
       "Score is <a style=\"color: rgb(230,78,52)\">Z = 7.10</a>\n"
      ],
      "text/plain": [
       "<IPython.core.display.HTML object>"
      ]
     },
     "metadata": {},
     "output_type": "display_data"
    },
    {
     "data": {
      "text/html": [
       "Executing test <i>InjectedCurrentAPAmplitudeTest</i> on model <i>vanilla</i>... "
      ],
      "text/plain": [
       "<IPython.core.display.HTML object>"
      ]
     },
     "metadata": {},
     "output_type": "display_data"
    },
    {
     "name": "stdout",
     "output_type": "stream",
     "text": [
      "{}\n"
     ]
    },
    {
     "data": {
      "text/html": [
       "Score is <a style=\"color: rgb(230,78,52)\">Z = -6.30</a>\n"
      ],
      "text/plain": [
       "<IPython.core.display.HTML object>"
      ]
     },
     "metadata": {},
     "output_type": "display_data"
    },
    {
     "data": {
      "text/html": [
       "Executing test <i>InjectedCurrentAPThresholdTest</i> on model <i>vanilla</i>... "
      ],
      "text/plain": [
       "<IPython.core.display.HTML object>"
      ]
     },
     "metadata": {},
     "output_type": "display_data"
    },
    {
     "name": "stdout",
     "output_type": "stream",
     "text": [
      "{}\n"
     ]
    },
    {
     "data": {
      "text/html": [
       "Score is <a style=\"color: rgb(128,128,128)\">Insufficient Data</a>\n"
      ],
      "text/plain": [
       "<IPython.core.display.HTML object>"
      ]
     },
     "metadata": {},
     "output_type": "display_data"
    },
    {
     "name": "stdout",
     "output_type": "stream",
     "text": [
      "0 32.4416452854\n",
      "1 0.165787750135\n",
      "2 9.30449495022e-05\n",
      "3 -65.3603349633\n",
      "4 -57.2497391043\n",
      "5 -4.75915425424e-09\n",
      "6 0.705821414254\n",
      "7 -69.0494324109\n",
      "8 -48.456174567\n",
      "9 0.00094115889357\n",
      "0 39.3715553272\n",
      "1 0.0518254196574\n",
      "2 9.93194568776e-05\n",
      "3 -67.3740489831\n",
      "4 -59.5125484902\n",
      "5 -4.47762006555e-09\n",
      "6 0.671900527826\n",
      "7 -55.6996968732\n",
      "8 -36.813955781\n",
      "9 0.00115780964351\n",
      "0 30.6983513151\n",
      "1 0.125797651601\n",
      "2 0.000103328342567\n",
      "3 -73.6782396495\n",
      "4 -56.4972671307\n",
      "5 -4.88912359869e-09\n",
      "6 0.285583373448\n",
      "7 -61.2128860714\n",
      "8 -32.2511342188\n",
      "9 0.000836911868153\n",
      "0 31.2834489251\n",
      "1 0.102866164199\n",
      "2 0.000100369035346\n",
      "3 -62.6048389111\n",
      "4 -56.1836270346\n",
      "5 -3.62736259776e-09\n",
      "6 0.876292526286\n",
      "7 -47.9021626852\n",
      "8 -32.8189238319\n",
      "9 0.001221273142\n",
      "{}\n",
      "{}\n",
      "{}\n",
      "{}\n",
      "{}\n",
      "{}\n",
      "{}\n",
      "False\n",
      "{}\n",
      "{}\n",
      "{}\n",
      "{}\n",
      "False\n",
      "{}\n",
      "{}\n",
      "<class 'float'>\n",
      "current 67.5925925925926 spikes 1\n",
      "{}\n",
      "{}\n",
      "<class 'float'>\n",
      "{}\n",
      "{}\n",
      "{}\n",
      "{}\n",
      "{}\n",
      "{}\n",
      "{}\n",
      "{}\n",
      "{}\n",
      "{}\n",
      "{}\n",
      "{}\n",
      "{}\n",
      "False\n",
      "{}\n",
      "{}\n",
      "{}\n",
      "{}\n",
      "False\n",
      "{}\n",
      "{}\n",
      "{}\n",
      "{}\n",
      "False\n",
      "{}\n",
      "{}\n",
      "{}\n",
      "{}\n",
      "<class 'float'>\n",
      "current 270.60185185185185 spikes 1\n",
      "<class 'float'>\n",
      "{}\n",
      "{}\n",
      "{}\n",
      "{}\n",
      "{}\n",
      "{}\n",
      "{}\n",
      "{}\n",
      "{}\n",
      "{}\n",
      "{}\n",
      "{}\n",
      "{}\n",
      "{}\n",
      "{}\n",
      "{}\n",
      "{}\n",
      "{}\n",
      "{}\n",
      "False\n",
      "{}\n",
      "{}\n",
      "{}\n",
      "{}\n",
      "False\n",
      "{}\n",
      "{}\n",
      "{}\n",
      "{}\n",
      "False\n",
      "{}\n",
      "{}\n",
      "{}\n",
      "{}\n",
      "<class 'float'>\n",
      "current 359.49074074074076 spikes 1\n",
      "<class 'float'>\n",
      "{}\n",
      "{}\n",
      "{}\n",
      "{}\n",
      "{}\n",
      "{}\n",
      "{}\n",
      "{}\n",
      "{}\n",
      "{}\n",
      "{}\n",
      "{}\n",
      "{}\n",
      "False\n",
      "{}\n",
      "{}\n",
      "{}\n",
      "{}\n",
      "False\n",
      "{}\n",
      "{}\n",
      "{}\n",
      "{}\n",
      "False\n",
      "{}\n",
      "{}\n",
      "<class 'float'>\n",
      "current 271.0648148148148 spikes 1\n",
      "{}\n",
      "<class 'float'>\n",
      "current 271.18055555555554 spikes 1\n",
      "{}\n",
      "<class 'float'>\n",
      "checkpoint 1 output from parallel map [<neuronunit.tests.utilities.VirtualModel object at 0x7f59ee34b198>, <neuronunit.tests.utilities.VirtualModel object at 0x7f59ee34b160>, <neuronunit.tests.utilities.VirtualModel object at 0x7f59ee34bcf8>, <neuronunit.tests.utilities.VirtualModel object at 0x7f59ee345860>]\n",
      "[67.5925925925926, 270.60185185185185, 359.49074074074076, 271.18055555555554]\n",
      "67.5925925925926\n",
      "270.60185185185185\n",
      "359.49074074074076\n",
      "271.18055555555554\n",
      "67.5925925925926\n",
      "270.60185185185185\n",
      "359.49074074074076\n",
      "271.18055555555554\n",
      "67.5925925925926\n",
      "270.60185185185185\n",
      "359.49074074074076\n",
      "271.18055555555554\n",
      "0 32.4416452854\n",
      "1 0.165787750135\n",
      "2 9.30449495022e-05\n",
      "3 -65.3603349633\n",
      "4 -57.2497391043\n",
      "5 -4.75915425424e-09\n",
      "6 0.705821414254\n",
      "7 -69.0494324109\n",
      "8 -48.456174567\n",
      "9 0.00094115889357\n",
      "0 39.3715553272\n",
      "1 0.0518254196574\n",
      "2 9.93194568776e-05\n",
      "3 -67.3740489831\n",
      "4 -59.5125484902\n",
      "5 -4.47762006555e-09\n",
      "6 0.671900527826\n",
      "7 -55.6996968732\n",
      "8 -36.813955781\n",
      "9 0.00115780964351\n",
      "0 30.6983513151\n",
      "1 0.125797651601\n",
      "2 0.000103328342567\n",
      "3 -73.6782396495\n",
      "4 -56.4972671307\n",
      "5 -4.88912359869e-09\n",
      "6 0.285583373448\n",
      "7 -61.2128860714\n",
      "8 -32.2511342188\n",
      "9 0.000836911868153\n",
      "0 31.2834489251\n",
      "1 0.102866164199\n",
      "2 0.000100369035346\n",
      "3 -62.6048389111\n",
      "4 -56.1836270346\n",
      "5 -3.62736259776e-09\n",
      "6 0.876292526286\n",
      "7 -47.9021626852\n",
      "8 -32.8189238319\n",
      "9 0.001221273142\n",
      "{}\n",
      "{}\n",
      "{}\n",
      "{}\n",
      "{}\n",
      "{}\n",
      "{}\n",
      "False\n",
      "{}\n",
      "{}\n",
      "{}\n",
      "{}\n",
      "False\n",
      "{}\n",
      "{}\n",
      "<class 'float'>\n",
      "current 67.5925925925926 spikes 1\n",
      "{}\n",
      "{}\n",
      "<class 'float'>\n",
      "{}\n",
      "{}\n",
      "{}\n",
      "{}\n",
      "{}\n",
      "{}\n",
      "{}\n",
      "{}\n",
      "{}\n",
      "{}\n",
      "{}\n",
      "{}\n",
      "{}\n",
      "False\n",
      "{}\n",
      "{}\n",
      "{}\n",
      "{}\n",
      "False\n",
      "{}\n",
      "{}\n",
      "{}\n",
      "{}\n",
      "False\n",
      "{}\n",
      "{}\n",
      "{}\n",
      "{}\n",
      "<class 'float'>\n",
      "current 270.60185185185185 spikes 1\n",
      "<class 'float'>\n",
      "{}\n",
      "{}\n",
      "{}\n",
      "{}\n",
      "{}\n",
      "{}\n",
      "{}\n",
      "{}\n",
      "{}\n",
      "{}\n",
      "{}\n",
      "{}\n",
      "{}\n",
      "{}\n",
      "{}\n",
      "{}\n",
      "{}\n",
      "{}\n",
      "{}\n",
      "False\n",
      "{}\n",
      "{}\n",
      "{}\n",
      "{}\n",
      "False\n",
      "{}\n",
      "{}\n",
      "{}\n",
      "{}\n",
      "False\n",
      "{}\n",
      "{}\n",
      "{}\n",
      "{}\n",
      "<class 'float'>\n",
      "current 359.49074074074076 spikes 1\n",
      "<class 'float'>\n",
      "{}\n",
      "{}\n",
      "{}\n",
      "{}\n",
      "{}\n",
      "{}\n",
      "{}\n",
      "{}\n",
      "{}\n",
      "{}\n",
      "{}\n",
      "{}\n",
      "{}\n",
      "False\n",
      "{}\n",
      "{}\n",
      "{}\n",
      "{}\n",
      "False\n",
      "{}\n",
      "{}\n",
      "{}\n",
      "{}\n",
      "False\n",
      "{}\n",
      "{}\n",
      "<class 'float'>\n",
      "current 271.0648148148148 spikes 1\n",
      "{}\n",
      "<class 'float'>\n",
      "current 271.18055555555554 spikes 1\n",
      "{}\n",
      "<class 'float'>\n",
      "checkpoint 1 output from parallel map [<neuronunit.tests.utilities.VirtualModel object at 0x7f59ee3456a0>, <neuronunit.tests.utilities.VirtualModel object at 0x7f59ee345668>, <neuronunit.tests.utilities.VirtualModel object at 0x7f59ee345080>, <neuronunit.tests.utilities.VirtualModel object at 0x7f59ee34bdd8>]\n",
      "[67.5925925925926, 270.60185185185185, 359.49074074074076, 271.18055555555554]\n",
      "67.5925925925926\n",
      "270.60185185185185\n",
      "359.49074074074076\n",
      "271.18055555555554\n",
      "67.5925925925926\n",
      "270.60185185185185\n",
      "359.49074074074076\n",
      "271.18055555555554\n",
      "67.5925925925926\n",
      "270.60185185185185\n",
      "359.49074074074076\n",
      "271.18055555555554\n",
      "<class 'float'>\n",
      "67.5925925925926 vanilla {'injected_square_current': {'amplitude': '271.412037037037', 'duration': '1000.0', 'delay': '100.0'}} (1, <neuronunit.tests.utilities.VirtualModel object at 0x7f59ee3456a0>, 67.5925925925926)\n",
      "{}\n",
      "{}\n",
      "{}\n"
     ]
    },
    {
     "data": {
      "text/html": [
       "Executing test <i>RheobaseTest</i> on model <i>vanilla</i>... "
      ],
      "text/plain": [
       "<IPython.core.display.HTML object>"
      ]
     },
     "metadata": {},
     "output_type": "display_data"
    },
    {
     "data": {
      "text/html": [
       "Score is <a style=\"color: rgb(191,228,122)\">Ratio = 0.52</a>\n"
      ],
      "text/plain": [
       "<IPython.core.display.HTML object>"
      ]
     },
     "metadata": {},
     "output_type": "display_data"
    },
    {
     "data": {
      "text/html": [
       "Executing test <i>InputResistanceTest</i> on model <i>vanilla</i>... "
      ],
      "text/plain": [
       "<IPython.core.display.HTML object>"
      ]
     },
     "metadata": {},
     "output_type": "display_data"
    },
    {
     "name": "stdout",
     "output_type": "stream",
     "text": [
      "{}\n",
      "<class 'sciunit.scores.ZScore'>\n"
     ]
    },
    {
     "data": {
      "text/html": [
       "Score is <a style=\"color: rgb(233,85,56)\">Z = -2.36</a>\n"
      ],
      "text/plain": [
       "<IPython.core.display.HTML object>"
      ]
     },
     "metadata": {},
     "output_type": "display_data"
    },
    {
     "data": {
      "text/html": [
       "Executing test <i>TimeConstantTest</i> on model <i>vanilla</i>... "
      ],
      "text/plain": [
       "<IPython.core.display.HTML object>"
      ]
     },
     "metadata": {},
     "output_type": "display_data"
    },
    {
     "name": "stdout",
     "output_type": "stream",
     "text": [
      "{}\n"
     ]
    },
    {
     "data": {
      "text/html": [
       "Score is <a style=\"color: rgb(235,90,58)\">Z = -2.15</a>\n"
      ],
      "text/plain": [
       "<IPython.core.display.HTML object>"
      ]
     },
     "metadata": {},
     "output_type": "display_data"
    },
    {
     "data": {
      "text/html": [
       "Executing test <i>CapacitanceTest</i> on model <i>vanilla</i>... "
      ],
      "text/plain": [
       "<IPython.core.display.HTML object>"
      ]
     },
     "metadata": {},
     "output_type": "display_data"
    },
    {
     "name": "stdout",
     "output_type": "stream",
     "text": [
      "{}\n"
     ]
    },
    {
     "data": {
      "text/html": [
       "Score is <a style=\"color: rgb(254,197,116)\">Z = -1.08</a>\n"
      ],
      "text/plain": [
       "<IPython.core.display.HTML object>"
      ]
     },
     "metadata": {},
     "output_type": "display_data"
    },
    {
     "data": {
      "text/html": [
       "Executing test <i>RestingPotentialTest</i> on model <i>vanilla</i>... "
      ],
      "text/plain": [
       "<IPython.core.display.HTML object>"
      ]
     },
     "metadata": {},
     "output_type": "display_data"
    },
    {
     "name": "stdout",
     "output_type": "stream",
     "text": [
      "{}\n"
     ]
    },
    {
     "data": {
      "text/html": [
       "Score is <a style=\"color: rgb(247,127,75)\">Z = 1.59</a>\n"
      ],
      "text/plain": [
       "<IPython.core.display.HTML object>"
      ]
     },
     "metadata": {},
     "output_type": "display_data"
    },
    {
     "data": {
      "text/html": [
       "Executing test <i>InjectedCurrentAPWidthTest</i> on model <i>vanilla</i>... "
      ],
      "text/plain": [
       "<IPython.core.display.HTML object>"
      ]
     },
     "metadata": {},
     "output_type": "display_data"
    },
    {
     "name": "stdout",
     "output_type": "stream",
     "text": [
      "{}\n"
     ]
    },
    {
     "data": {
      "text/html": [
       "Score is <a style=\"color: rgb(230,78,52)\">Z = 7.10</a>\n"
      ],
      "text/plain": [
       "<IPython.core.display.HTML object>"
      ]
     },
     "metadata": {},
     "output_type": "display_data"
    },
    {
     "data": {
      "text/html": [
       "Executing test <i>InjectedCurrentAPAmplitudeTest</i> on model <i>vanilla</i>... "
      ],
      "text/plain": [
       "<IPython.core.display.HTML object>"
      ]
     },
     "metadata": {},
     "output_type": "display_data"
    },
    {
     "name": "stdout",
     "output_type": "stream",
     "text": [
      "{}\n"
     ]
    },
    {
     "data": {
      "text/html": [
       "Score is <a style=\"color: rgb(230,78,52)\">Z = -6.29</a>\n"
      ],
      "text/plain": [
       "<IPython.core.display.HTML object>"
      ]
     },
     "metadata": {},
     "output_type": "display_data"
    },
    {
     "data": {
      "text/html": [
       "Executing test <i>InjectedCurrentAPThresholdTest</i> on model <i>vanilla</i>... "
      ],
      "text/plain": [
       "<IPython.core.display.HTML object>"
      ]
     },
     "metadata": {},
     "output_type": "display_data"
    },
    {
     "name": "stdout",
     "output_type": "stream",
     "text": [
      "{}\n"
     ]
    },
    {
     "data": {
      "text/html": [
       "Score is <a style=\"color: rgb(230,78,52)\">Z = 5.31</a>\n"
      ],
      "text/plain": [
       "<IPython.core.display.HTML object>"
      ]
     },
     "metadata": {},
     "output_type": "display_data"
    },
    {
     "name": "stdout",
     "output_type": "stream",
     "text": [
      "<class 'float'>\n",
      "270.60185185185185 vanilla {'injected_square_current': {'amplitude': '67.5925925925926', 'duration': '1000.0', 'delay': '100.0'}} (1, <neuronunit.tests.utilities.VirtualModel object at 0x7f59ee345668>, 270.60185185185185)\n",
      "{}\n",
      "{}\n",
      "{}\n"
     ]
    },
    {
     "data": {
      "text/html": [
       "Executing test <i>RheobaseTest</i> on model <i>vanilla</i>... "
      ],
      "text/plain": [
       "<IPython.core.display.HTML object>"
      ]
     },
     "metadata": {},
     "output_type": "display_data"
    },
    {
     "data": {
      "text/html": [
       "Score is <a style=\"color: rgb(203,233,130)\">Ratio = 2.08</a>\n"
      ],
      "text/plain": [
       "<IPython.core.display.HTML object>"
      ]
     },
     "metadata": {},
     "output_type": "display_data"
    },
    {
     "data": {
      "text/html": [
       "Executing test <i>InputResistanceTest</i> on model <i>vanilla</i>... "
      ],
      "text/plain": [
       "<IPython.core.display.HTML object>"
      ]
     },
     "metadata": {},
     "output_type": "display_data"
    },
    {
     "name": "stdout",
     "output_type": "stream",
     "text": [
      "{}\n",
      "<class 'sciunit.scores.ZScore'>\n"
     ]
    },
    {
     "data": {
      "text/html": [
       "Score is <a style=\"color: rgb(248,132,77)\">Z = 1.54</a>\n"
      ],
      "text/plain": [
       "<IPython.core.display.HTML object>"
      ]
     },
     "metadata": {},
     "output_type": "display_data"
    },
    {
     "data": {
      "text/html": [
       "Executing test <i>TimeConstantTest</i> on model <i>vanilla</i>... "
      ],
      "text/plain": [
       "<IPython.core.display.HTML object>"
      ]
     },
     "metadata": {},
     "output_type": "display_data"
    },
    {
     "name": "stdout",
     "output_type": "stream",
     "text": [
      "{}\n"
     ]
    },
    {
     "data": {
      "text/html": [
       "Score is <a style=\"color: rgb(235,90,58)\">Z = -2.15</a>\n"
      ],
      "text/plain": [
       "<IPython.core.display.HTML object>"
      ]
     },
     "metadata": {},
     "output_type": "display_data"
    },
    {
     "data": {
      "text/html": [
       "Executing test <i>CapacitanceTest</i> on model <i>vanilla</i>... "
      ],
      "text/plain": [
       "<IPython.core.display.HTML object>"
      ]
     },
     "metadata": {},
     "output_type": "display_data"
    },
    {
     "name": "stdout",
     "output_type": "stream",
     "text": [
      "{}\n"
     ]
    },
    {
     "data": {
      "text/html": [
       "Score is <a style=\"color: rgb(254,197,116)\">Z = -1.08</a>\n"
      ],
      "text/plain": [
       "<IPython.core.display.HTML object>"
      ]
     },
     "metadata": {},
     "output_type": "display_data"
    },
    {
     "data": {
      "text/html": [
       "Executing test <i>RestingPotentialTest</i> on model <i>vanilla</i>... "
      ],
      "text/plain": [
       "<IPython.core.display.HTML object>"
      ]
     },
     "metadata": {},
     "output_type": "display_data"
    },
    {
     "name": "stdout",
     "output_type": "stream",
     "text": [
      "{}\n"
     ]
    },
    {
     "data": {
      "text/html": [
       "Score is <a style=\"color: rgb(235,90,58)\">Z = 2.19</a>\n"
      ],
      "text/plain": [
       "<IPython.core.display.HTML object>"
      ]
     },
     "metadata": {},
     "output_type": "display_data"
    },
    {
     "data": {
      "text/html": [
       "Executing test <i>InjectedCurrentAPWidthTest</i> on model <i>vanilla</i>... "
      ],
      "text/plain": [
       "<IPython.core.display.HTML object>"
      ]
     },
     "metadata": {},
     "output_type": "display_data"
    },
    {
     "name": "stdout",
     "output_type": "stream",
     "text": [
      "{}\n"
     ]
    },
    {
     "data": {
      "text/html": [
       "Score is <a style=\"color: rgb(230,78,52)\">Z = 7.10</a>\n"
      ],
      "text/plain": [
       "<IPython.core.display.HTML object>"
      ]
     },
     "metadata": {},
     "output_type": "display_data"
    },
    {
     "data": {
      "text/html": [
       "Executing test <i>InjectedCurrentAPAmplitudeTest</i> on model <i>vanilla</i>... "
      ],
      "text/plain": [
       "<IPython.core.display.HTML object>"
      ]
     },
     "metadata": {},
     "output_type": "display_data"
    },
    {
     "name": "stdout",
     "output_type": "stream",
     "text": [
      "{}\n"
     ]
    },
    {
     "data": {
      "text/html": [
       "Score is <a style=\"color: rgb(230,78,52)\">Z = -6.29</a>\n"
      ],
      "text/plain": [
       "<IPython.core.display.HTML object>"
      ]
     },
     "metadata": {},
     "output_type": "display_data"
    },
    {
     "data": {
      "text/html": [
       "Executing test <i>InjectedCurrentAPThresholdTest</i> on model <i>vanilla</i>... "
      ],
      "text/plain": [
       "<IPython.core.display.HTML object>"
      ]
     },
     "metadata": {},
     "output_type": "display_data"
    },
    {
     "name": "stdout",
     "output_type": "stream",
     "text": [
      "{}\n"
     ]
    },
    {
     "data": {
      "text/html": [
       "Score is <a style=\"color: rgb(128,128,128)\">Insufficient Data</a>\n"
      ],
      "text/plain": [
       "<IPython.core.display.HTML object>"
      ]
     },
     "metadata": {},
     "output_type": "display_data"
    },
    {
     "name": "stdout",
     "output_type": "stream",
     "text": [
      "<class 'float'>\n",
      "359.49074074074076 vanilla {'injected_square_current': {'amplitude': '270.60185185185185', 'duration': '1000.0', 'delay': '100.0'}} (1, <neuronunit.tests.utilities.VirtualModel object at 0x7f59ee345080>, 359.49074074074076)\n",
      "{}\n",
      "{}\n",
      "{}\n"
     ]
    },
    {
     "data": {
      "text/html": [
       "Executing test <i>RheobaseTest</i> on model <i>vanilla</i>... "
      ],
      "text/plain": [
       "<IPython.core.display.HTML object>"
      ]
     },
     "metadata": {},
     "output_type": "display_data"
    },
    {
     "data": {
      "text/html": [
       "Score is <a style=\"color: rgb(240,249,170)\">Ratio = 2.77</a>\n"
      ],
      "text/plain": [
       "<IPython.core.display.HTML object>"
      ]
     },
     "metadata": {},
     "output_type": "display_data"
    },
    {
     "data": {
      "text/html": [
       "Executing test <i>InputResistanceTest</i> on model <i>vanilla</i>... "
      ],
      "text/plain": [
       "<IPython.core.display.HTML object>"
      ]
     },
     "metadata": {},
     "output_type": "display_data"
    },
    {
     "name": "stdout",
     "output_type": "stream",
     "text": [
      "{}\n",
      "<class 'sciunit.scores.ZScore'>\n"
     ]
    },
    {
     "data": {
      "text/html": [
       "Score is <a style=\"color: rgb(239,97,61)\">Z = 2.00</a>\n"
      ],
      "text/plain": [
       "<IPython.core.display.HTML object>"
      ]
     },
     "metadata": {},
     "output_type": "display_data"
    },
    {
     "data": {
      "text/html": [
       "Executing test <i>TimeConstantTest</i> on model <i>vanilla</i>... "
      ],
      "text/plain": [
       "<IPython.core.display.HTML object>"
      ]
     },
     "metadata": {},
     "output_type": "display_data"
    },
    {
     "name": "stdout",
     "output_type": "stream",
     "text": [
      "{}\n"
     ]
    },
    {
     "data": {
      "text/html": [
       "Score is <a style=\"color: rgb(235,90,58)\">Z = -2.15</a>\n"
      ],
      "text/plain": [
       "<IPython.core.display.HTML object>"
      ]
     },
     "metadata": {},
     "output_type": "display_data"
    },
    {
     "data": {
      "text/html": [
       "Executing test <i>CapacitanceTest</i> on model <i>vanilla</i>... "
      ],
      "text/plain": [
       "<IPython.core.display.HTML object>"
      ]
     },
     "metadata": {},
     "output_type": "display_data"
    },
    {
     "name": "stdout",
     "output_type": "stream",
     "text": [
      "{}\n"
     ]
    },
    {
     "data": {
      "text/html": [
       "Score is <a style=\"color: rgb(254,197,116)\">Z = -1.08</a>\n"
      ],
      "text/plain": [
       "<IPython.core.display.HTML object>"
      ]
     },
     "metadata": {},
     "output_type": "display_data"
    },
    {
     "data": {
      "text/html": [
       "Executing test <i>RestingPotentialTest</i> on model <i>vanilla</i>... "
      ],
      "text/plain": [
       "<IPython.core.display.HTML object>"
      ]
     },
     "metadata": {},
     "output_type": "display_data"
    },
    {
     "name": "stdout",
     "output_type": "stream",
     "text": [
      "{}\n"
     ]
    },
    {
     "data": {
      "text/html": [
       "Score is <a style=\"color: rgb(240,99,62)\">Z = 1.96</a>\n"
      ],
      "text/plain": [
       "<IPython.core.display.HTML object>"
      ]
     },
     "metadata": {},
     "output_type": "display_data"
    },
    {
     "data": {
      "text/html": [
       "Executing test <i>InjectedCurrentAPWidthTest</i> on model <i>vanilla</i>... "
      ],
      "text/plain": [
       "<IPython.core.display.HTML object>"
      ]
     },
     "metadata": {},
     "output_type": "display_data"
    },
    {
     "name": "stdout",
     "output_type": "stream",
     "text": [
      "{}\n"
     ]
    },
    {
     "data": {
      "text/html": [
       "Score is <a style=\"color: rgb(230,78,52)\">Z = 7.10</a>\n"
      ],
      "text/plain": [
       "<IPython.core.display.HTML object>"
      ]
     },
     "metadata": {},
     "output_type": "display_data"
    },
    {
     "data": {
      "text/html": [
       "Executing test <i>InjectedCurrentAPAmplitudeTest</i> on model <i>vanilla</i>... "
      ],
      "text/plain": [
       "<IPython.core.display.HTML object>"
      ]
     },
     "metadata": {},
     "output_type": "display_data"
    },
    {
     "name": "stdout",
     "output_type": "stream",
     "text": [
      "{}\n"
     ]
    },
    {
     "data": {
      "text/html": [
       "Score is <a style=\"color: rgb(230,78,52)\">Z = -6.30</a>\n"
      ],
      "text/plain": [
       "<IPython.core.display.HTML object>"
      ]
     },
     "metadata": {},
     "output_type": "display_data"
    },
    {
     "data": {
      "text/html": [
       "Executing test <i>InjectedCurrentAPThresholdTest</i> on model <i>vanilla</i>... "
      ],
      "text/plain": [
       "<IPython.core.display.HTML object>"
      ]
     },
     "metadata": {},
     "output_type": "display_data"
    },
    {
     "name": "stdout",
     "output_type": "stream",
     "text": [
      "{}\n"
     ]
    },
    {
     "data": {
      "text/html": [
       "Score is <a style=\"color: rgb(128,128,128)\">Insufficient Data</a>\n"
      ],
      "text/plain": [
       "<IPython.core.display.HTML object>"
      ]
     },
     "metadata": {},
     "output_type": "display_data"
    },
    {
     "name": "stdout",
     "output_type": "stream",
     "text": [
      "<class 'float'>\n",
      "271.18055555555554 vanilla {'injected_square_current': {'amplitude': '359.49074074074076', 'duration': '1000.0', 'delay': '100.0'}} (1, <neuronunit.tests.utilities.VirtualModel object at 0x7f59ee34bdd8>, 271.18055555555554)\n",
      "{}\n",
      "{}\n",
      "{}\n"
     ]
    },
    {
     "data": {
      "text/html": [
       "Executing test <i>RheobaseTest</i> on model <i>vanilla</i>... "
      ],
      "text/plain": [
       "<IPython.core.display.HTML object>"
      ]
     },
     "metadata": {},
     "output_type": "display_data"
    },
    {
     "data": {
      "text/html": [
       "Score is <a style=\"color: rgb(203,233,130)\">Ratio = 2.09</a>\n"
      ],
      "text/plain": [
       "<IPython.core.display.HTML object>"
      ]
     },
     "metadata": {},
     "output_type": "display_data"
    },
    {
     "data": {
      "text/html": [
       "Executing test <i>InputResistanceTest</i> on model <i>vanilla</i>... "
      ],
      "text/plain": [
       "<IPython.core.display.HTML object>"
      ]
     },
     "metadata": {},
     "output_type": "display_data"
    },
    {
     "name": "stdout",
     "output_type": "stream",
     "text": [
      "{}\n",
      "<class 'sciunit.scores.ZScore'>\n"
     ]
    },
    {
     "data": {
      "text/html": [
       "Score is <a style=\"color: rgb(241,102,63)\">Z = 1.88</a>\n"
      ],
      "text/plain": [
       "<IPython.core.display.HTML object>"
      ]
     },
     "metadata": {},
     "output_type": "display_data"
    },
    {
     "data": {
      "text/html": [
       "Executing test <i>TimeConstantTest</i> on model <i>vanilla</i>... "
      ],
      "text/plain": [
       "<IPython.core.display.HTML object>"
      ]
     },
     "metadata": {},
     "output_type": "display_data"
    },
    {
     "name": "stdout",
     "output_type": "stream",
     "text": [
      "{}\n"
     ]
    },
    {
     "data": {
      "text/html": [
       "Score is <a style=\"color: rgb(235,90,58)\">Z = -2.15</a>\n"
      ],
      "text/plain": [
       "<IPython.core.display.HTML object>"
      ]
     },
     "metadata": {},
     "output_type": "display_data"
    },
    {
     "data": {
      "text/html": [
       "Executing test <i>CapacitanceTest</i> on model <i>vanilla</i>... "
      ],
      "text/plain": [
       "<IPython.core.display.HTML object>"
      ]
     },
     "metadata": {},
     "output_type": "display_data"
    },
    {
     "name": "stdout",
     "output_type": "stream",
     "text": [
      "{}\n"
     ]
    },
    {
     "data": {
      "text/html": [
       "Score is <a style=\"color: rgb(254,197,116)\">Z = -1.08</a>\n"
      ],
      "text/plain": [
       "<IPython.core.display.HTML object>"
      ]
     },
     "metadata": {},
     "output_type": "display_data"
    },
    {
     "data": {
      "text/html": [
       "Executing test <i>RestingPotentialTest</i> on model <i>vanilla</i>... "
      ],
      "text/plain": [
       "<IPython.core.display.HTML object>"
      ]
     },
     "metadata": {},
     "output_type": "display_data"
    },
    {
     "name": "stdout",
     "output_type": "stream",
     "text": [
      "{}\n"
     ]
    },
    {
     "data": {
      "text/html": [
       "Score is <a style=\"color: rgb(230,78,52)\">Z = 2.86</a>\n"
      ],
      "text/plain": [
       "<IPython.core.display.HTML object>"
      ]
     },
     "metadata": {},
     "output_type": "display_data"
    },
    {
     "data": {
      "text/html": [
       "Executing test <i>InjectedCurrentAPWidthTest</i> on model <i>vanilla</i>... "
      ],
      "text/plain": [
       "<IPython.core.display.HTML object>"
      ]
     },
     "metadata": {},
     "output_type": "display_data"
    },
    {
     "name": "stdout",
     "output_type": "stream",
     "text": [
      "{}\n"
     ]
    },
    {
     "data": {
      "text/html": [
       "Score is <a style=\"color: rgb(230,78,52)\">Z = 7.10</a>\n"
      ],
      "text/plain": [
       "<IPython.core.display.HTML object>"
      ]
     },
     "metadata": {},
     "output_type": "display_data"
    },
    {
     "data": {
      "text/html": [
       "Executing test <i>InjectedCurrentAPAmplitudeTest</i> on model <i>vanilla</i>... "
      ],
      "text/plain": [
       "<IPython.core.display.HTML object>"
      ]
     },
     "metadata": {},
     "output_type": "display_data"
    },
    {
     "name": "stdout",
     "output_type": "stream",
     "text": [
      "{}\n"
     ]
    },
    {
     "data": {
      "text/html": [
       "Score is <a style=\"color: rgb(230,78,52)\">Z = -6.30</a>\n"
      ],
      "text/plain": [
       "<IPython.core.display.HTML object>"
      ]
     },
     "metadata": {},
     "output_type": "display_data"
    },
    {
     "data": {
      "text/html": [
       "Executing test <i>InjectedCurrentAPThresholdTest</i> on model <i>vanilla</i>... "
      ],
      "text/plain": [
       "<IPython.core.display.HTML object>"
      ]
     },
     "metadata": {},
     "output_type": "display_data"
    },
    {
     "name": "stdout",
     "output_type": "stream",
     "text": [
      "{}\n"
     ]
    },
    {
     "data": {
      "text/html": [
       "Score is <a style=\"color: rgb(128,128,128)\">Insufficient Data</a>\n"
      ],
      "text/plain": [
       "<IPython.core.display.HTML object>"
      ]
     },
     "metadata": {},
     "output_type": "display_data"
    },
    {
     "name": "stdout",
     "output_type": "stream",
     "text": [
      "0 [32.441645285436714, 0.16578775013484415, 9.3044949502172592e-05, -65.360334963327048, -57.249739104278476, -4.7591542542417675e-09, 0.70582141425425926, -69.049432410868235, -48.456174567028214, 0.00094115889356982695]\n",
      "<class 'int'> <class 'deap.creator.Individual'>\n",
      "1 [39.371555327244685, 0.05182541965743797, 9.9319456877608665e-05, -67.374048983091399, -59.512548490187804, -4.4776200655456835e-09, 0.67190052782571763, -55.69969687317969, -36.813955780999962, 0.0011578096435100793]\n",
      "<class 'int'> <class 'deap.creator.Individual'>\n",
      "2 [30.698351315120032, 0.12579765160058567, 0.00010332834256650572, -73.678239649537971, -56.49726713070536, -4.8891235986886736e-09, 0.28558337344837531, -61.212886071387821, -32.251134218815551, 0.00083691186815277392]\n",
      "<class 'int'> <class 'deap.creator.Individual'>\n",
      "3 [31.283448925127193, 0.10286616419913919, 0.00010036903534628722, -62.604838911140313, -56.183627034577746, -3.6273625977595579e-09, 0.87629252628631848, -47.902162685178212, -32.818923831929609, 0.0012212731419952274]\n",
      "<class 'int'> <class 'deap.creator.Individual'>\n",
      "the pareto front is: [[30.698351315120032, 0.12579765160058567, 0.00010332834256650572, -73.678239649537971, -56.49726713070536, -4.8891235986886736e-09, 0.28558337344837531, -61.212886071387821, -32.251134218815551, 0.00083691186815277392], [32.441645285436714, 0.16578775013484415, 9.3044949502172592e-05, -65.360334963327048, -57.249739104278476, -4.7591542542417675e-09, 0.70582141425425926, -69.049432410868235, -48.456174567028214, 0.00094115889356982695], [31.283448925127193, 0.10286616419913919, 0.00010036903534628722, -62.604838911140313, -56.183627034577746, -3.6273625977595579e-09, 0.87629252628631848, -47.902162685178212, -32.818923831929609, 0.0012212731419952274], [39.371555327244685, 0.05182541965743797, 9.9319456877608665e-05, -67.374048983091399, -59.512548490187804, -4.4776200655456835e-09, 0.67190052782571763, -55.69969687317969, -36.813955780999962, 0.0011578096435100793]]\n"
     ]
    }
   ],
   "source": [
    "\n",
    "class Score:\n",
    "    def __init__(self, score):\n",
    "        self.score = score\n",
    "\n",
    "class Test:\n",
    "    def _optimize(self, model,modelp):\n",
    "        '''\n",
    "        The implementation of optimization, consisting of implementation details.\n",
    "        Inputs a model, and model parameter ranges to expore\n",
    "        Private method for programmer designer.\n",
    "        Outputs the optimal model, its attributes and the low error it resulted in.\n",
    "        '''\n",
    "        from neuronunit.tests import nsga\n",
    "        gap = nsga.GAparams(model)\n",
    "        # The number of generations is 2\n",
    "        gap.NGEN = 2\n",
    "        # The population of genes is 4\n",
    "        gap.MU = 4\n",
    "        \n",
    "        gap.BOUND_LOW = [ np.min(i) for i in modelp.model_params.values() ]\n",
    "        gap.BOUND_UP = [ np.max(i) for i in modelp.model_params.values() ]\n",
    "\n",
    "        vmpop, pop, invalid_ind, pf = nsga.main(gap.NGEN,gap.MU,model,modelp)\n",
    "        some_tuples = (vmpop, pop, invalid_ind, pf)\n",
    "        return pop[0], some_tuples\n",
    "        \n",
    "    def _get_optimization_parameters(self, some_tuples):\n",
    "        vmpop = some_tuples[0]\n",
    "        # Your specific unpacking of tuples that _optimize returns\n",
    "        scores = [ i.score for i in vmpop ]\n",
    "        pop = some_tuples[1]\n",
    "        \n",
    "        errors = pop[0].fitness\n",
    "        parameters = vmpop[0].attrs\n",
    "      \n",
    "        #parameters,errors,scores,_ = zip(*some_tuples)\n",
    "        return parameters,scores\n",
    "\n",
    "    def optimize(self, model, modelp):\n",
    "        '''\n",
    "        The Class users version of optimize\n",
    "        where details are hidden in _optimizae\n",
    "        '''\n",
    "\n",
    "        # Do optimization including repeated calls to judge\n",
    "        models, some_tuples = self._optimize(model,modelp)\n",
    "        parameters, scores = self._get_optimization_parameters(some_tuples)\n",
    "        # Maybe rebuild the original model\n",
    "        # (i.e. restore the true class from the virtual version)\n",
    "\n",
    "        # Your code keeps parameter sets and associated scores\n",
    "        # All the organizing stuff\n",
    "        \n",
    "        \n",
    "        # this a way of looking at solved model parameters, ie candidate solutions from \n",
    "        # the pareto front.\n",
    "\n",
    "        \n",
    "        # Make a ScoreArray (which is basically a pandas dataframe)\n",
    "       \n",
    "        return model, scores, some_tuples\n",
    "\n",
    "    \n",
    "t = Test()\n",
    "\n",
    "\n",
    "model,scores,some_tuples = t.optimize(model,modelp)   "
   ]
  },
  {
   "cell_type": "code",
   "execution_count": 59,
   "metadata": {},
   "outputs": [
    {
     "data": {
      "text/html": [
       "<div>\n",
       "<table border=\"1\" class=\"dataframe\">\n",
       "  <thead>\n",
       "    <tr style=\"text-align: right;\">\n",
       "      <th></th>\n",
       "      <th>RheobaseTest</th>\n",
       "      <th>InputResistanceTest</th>\n",
       "      <th>TimeConstantTest</th>\n",
       "      <th>CapacitanceTest</th>\n",
       "      <th>RestingPotentialTest</th>\n",
       "      <th>InjectedCurrentAPWidthTest</th>\n",
       "      <th>InjectedCurrentAPAmplitudeTest</th>\n",
       "      <th>InjectedCurrentAPThresholdTest</th>\n",
       "    </tr>\n",
       "  </thead>\n",
       "  <tbody>\n",
       "    <tr>\n",
       "      <th>vanilla</th>\n",
       "      <td>Ratio = 0.52</td>\n",
       "      <td>Z = -2.36</td>\n",
       "      <td>Z = -2.15</td>\n",
       "      <td>Z = -1.08</td>\n",
       "      <td>Z = 1.59</td>\n",
       "      <td>Z = 7.10</td>\n",
       "      <td>Z = -6.29</td>\n",
       "      <td>Z = 5.31</td>\n",
       "    </tr>\n",
       "  </tbody>\n",
       "</table>\n",
       "</div>"
      ],
      "text/plain": [
       "         RheobaseTest InputResistanceTest TimeConstantTest CapacitanceTest  \\\n",
       "vanilla  Ratio = 0.52           Z = -2.36        Z = -2.15       Z = -1.08   \n",
       "\n",
       "        RestingPotentialTest InjectedCurrentAPWidthTest  \\\n",
       "vanilla             Z = 1.59                   Z = 7.10   \n",
       "\n",
       "        InjectedCurrentAPAmplitudeTest InjectedCurrentAPThresholdTest  \n",
       "vanilla                      Z = -6.29                       Z = 5.31  "
      ]
     },
     "execution_count": 59,
     "metadata": {},
     "output_type": "execute_result"
    }
   ],
   "source": [
    "import sciunit\n",
    "modelp\n",
    "import pandas as pd\n",
    "attributes = [ i.attrs for i in some_tuples[0] ]\n",
    "rheobases = [ i.rheobase for i in some_tuples[0] ]\n",
    "#modelsp = [model.__class__(p) for p in parameters]\n",
    "models = some_tuples[1]\n",
    "sc = pd.DataFrame(scores[0])\n",
    "for j,i in enumerate(models):\n",
    "        i.name = attributes[j]\n",
    "sc"
   ]
  },
  {
   "cell_type": "code",
   "execution_count": 74,
   "metadata": {},
   "outputs": [
    {
     "ename": "AttributeError",
     "evalue": "'str' object has no attribute 'keys'",
     "output_type": "error",
     "traceback": [
      "\u001b[1;31m---------------------------------------------------------------------------\u001b[0m",
      "\u001b[1;31mAttributeError\u001b[0m                            Traceback (most recent call last)",
      "\u001b[1;32m<ipython-input-74-59737c987905>\u001b[0m in \u001b[0;36m<module>\u001b[1;34m()\u001b[0m\n\u001b[0;32m      1\u001b[0m \u001b[0mdata\u001b[0m \u001b[1;33m=\u001b[0m \u001b[1;33m[\u001b[0m \u001b[0mmodels\u001b[0m\u001b[1;33m[\u001b[0m\u001b[1;36m0\u001b[0m\u001b[1;33m]\u001b[0m\u001b[1;33m.\u001b[0m\u001b[0mname\u001b[0m \u001b[1;33m]\u001b[0m\u001b[1;33m\u001b[0m\u001b[0m\n\u001b[0;32m      2\u001b[0m \u001b[0mdata\u001b[0m\u001b[1;33m.\u001b[0m\u001b[0mappend\u001b[0m\u001b[1;33m(\u001b[0m\u001b[0mstr\u001b[0m\u001b[1;33m(\u001b[0m\u001b[0mrheobases\u001b[0m\u001b[1;33m[\u001b[0m\u001b[1;36m0\u001b[0m\u001b[1;33m]\u001b[0m\u001b[1;33m)\u001b[0m\u001b[1;33m)\u001b[0m\u001b[1;33m\u001b[0m\u001b[0m\n\u001b[1;32m----> 3\u001b[1;33m \u001b[0mmodel_values0\u001b[0m \u001b[1;33m=\u001b[0m \u001b[0mpd\u001b[0m\u001b[1;33m.\u001b[0m\u001b[0mDataFrame\u001b[0m\u001b[1;33m(\u001b[0m\u001b[0mdata\u001b[0m\u001b[1;33m)\u001b[0m\u001b[1;33m\u001b[0m\u001b[0m\n\u001b[0m\u001b[0;32m      4\u001b[0m \u001b[0mmodel_values0\u001b[0m\u001b[1;33m\u001b[0m\u001b[0m\n\u001b[0;32m      5\u001b[0m \u001b[1;33m\u001b[0m\u001b[0m\n",
      "\u001b[1;32m/opt/conda/lib/python3.5/site-packages/pandas/core/frame.py\u001b[0m in \u001b[0;36m__init__\u001b[1;34m(self, data, index, columns, dtype, copy)\u001b[0m\n\u001b[0;32m    303\u001b[0m                     \u001b[1;32mif\u001b[0m \u001b[0mis_named_tuple\u001b[0m\u001b[1;33m(\u001b[0m\u001b[0mdata\u001b[0m\u001b[1;33m[\u001b[0m\u001b[1;36m0\u001b[0m\u001b[1;33m]\u001b[0m\u001b[1;33m)\u001b[0m \u001b[1;32mand\u001b[0m \u001b[0mcolumns\u001b[0m \u001b[1;32mis\u001b[0m \u001b[1;32mNone\u001b[0m\u001b[1;33m:\u001b[0m\u001b[1;33m\u001b[0m\u001b[0m\n\u001b[0;32m    304\u001b[0m                         \u001b[0mcolumns\u001b[0m \u001b[1;33m=\u001b[0m \u001b[0mdata\u001b[0m\u001b[1;33m[\u001b[0m\u001b[1;36m0\u001b[0m\u001b[1;33m]\u001b[0m\u001b[1;33m.\u001b[0m\u001b[0m_fields\u001b[0m\u001b[1;33m\u001b[0m\u001b[0m\n\u001b[1;32m--> 305\u001b[1;33m                     \u001b[0marrays\u001b[0m\u001b[1;33m,\u001b[0m \u001b[0mcolumns\u001b[0m \u001b[1;33m=\u001b[0m \u001b[0m_to_arrays\u001b[0m\u001b[1;33m(\u001b[0m\u001b[0mdata\u001b[0m\u001b[1;33m,\u001b[0m \u001b[0mcolumns\u001b[0m\u001b[1;33m,\u001b[0m \u001b[0mdtype\u001b[0m\u001b[1;33m=\u001b[0m\u001b[0mdtype\u001b[0m\u001b[1;33m)\u001b[0m\u001b[1;33m\u001b[0m\u001b[0m\n\u001b[0m\u001b[0;32m    306\u001b[0m                     \u001b[0mcolumns\u001b[0m \u001b[1;33m=\u001b[0m \u001b[0m_ensure_index\u001b[0m\u001b[1;33m(\u001b[0m\u001b[0mcolumns\u001b[0m\u001b[1;33m)\u001b[0m\u001b[1;33m\u001b[0m\u001b[0m\n\u001b[0;32m    307\u001b[0m \u001b[1;33m\u001b[0m\u001b[0m\n",
      "\u001b[1;32m/opt/conda/lib/python3.5/site-packages/pandas/core/frame.py\u001b[0m in \u001b[0;36m_to_arrays\u001b[1;34m(data, columns, coerce_float, dtype)\u001b[0m\n\u001b[0;32m   5520\u001b[0m     \u001b[1;32melif\u001b[0m \u001b[0misinstance\u001b[0m\u001b[1;33m(\u001b[0m\u001b[0mdata\u001b[0m\u001b[1;33m[\u001b[0m\u001b[1;36m0\u001b[0m\u001b[1;33m]\u001b[0m\u001b[1;33m,\u001b[0m \u001b[0mcollections\u001b[0m\u001b[1;33m.\u001b[0m\u001b[0mMapping\u001b[0m\u001b[1;33m)\u001b[0m\u001b[1;33m:\u001b[0m\u001b[1;33m\u001b[0m\u001b[0m\n\u001b[0;32m   5521\u001b[0m         return _list_of_dict_to_arrays(data, columns,\n\u001b[1;32m-> 5522\u001b[1;33m                                        coerce_float=coerce_float, dtype=dtype)\n\u001b[0m\u001b[0;32m   5523\u001b[0m     \u001b[1;32melif\u001b[0m \u001b[0misinstance\u001b[0m\u001b[1;33m(\u001b[0m\u001b[0mdata\u001b[0m\u001b[1;33m[\u001b[0m\u001b[1;36m0\u001b[0m\u001b[1;33m]\u001b[0m\u001b[1;33m,\u001b[0m \u001b[0mSeries\u001b[0m\u001b[1;33m)\u001b[0m\u001b[1;33m:\u001b[0m\u001b[1;33m\u001b[0m\u001b[0m\n\u001b[0;32m   5524\u001b[0m         return _list_of_series_to_arrays(data, columns,\n",
      "\u001b[1;32m/opt/conda/lib/python3.5/site-packages/pandas/core/frame.py\u001b[0m in \u001b[0;36m_list_of_dict_to_arrays\u001b[1;34m(data, columns, coerce_float, dtype)\u001b[0m\n\u001b[0;32m   5637\u001b[0m         \u001b[0mgen\u001b[0m \u001b[1;33m=\u001b[0m \u001b[1;33m(\u001b[0m\u001b[0mlist\u001b[0m\u001b[1;33m(\u001b[0m\u001b[0mx\u001b[0m\u001b[1;33m.\u001b[0m\u001b[0mkeys\u001b[0m\u001b[1;33m(\u001b[0m\u001b[1;33m)\u001b[0m\u001b[1;33m)\u001b[0m \u001b[1;32mfor\u001b[0m \u001b[0mx\u001b[0m \u001b[1;32min\u001b[0m \u001b[0mdata\u001b[0m\u001b[1;33m)\u001b[0m\u001b[1;33m\u001b[0m\u001b[0m\n\u001b[0;32m   5638\u001b[0m         \u001b[0msort\u001b[0m \u001b[1;33m=\u001b[0m \u001b[1;32mnot\u001b[0m \u001b[0many\u001b[0m\u001b[1;33m(\u001b[0m\u001b[0misinstance\u001b[0m\u001b[1;33m(\u001b[0m\u001b[0md\u001b[0m\u001b[1;33m,\u001b[0m \u001b[0mOrderedDict\u001b[0m\u001b[1;33m)\u001b[0m \u001b[1;32mfor\u001b[0m \u001b[0md\u001b[0m \u001b[1;32min\u001b[0m \u001b[0mdata\u001b[0m\u001b[1;33m)\u001b[0m\u001b[1;33m\u001b[0m\u001b[0m\n\u001b[1;32m-> 5639\u001b[1;33m         \u001b[0mcolumns\u001b[0m \u001b[1;33m=\u001b[0m \u001b[0mlib\u001b[0m\u001b[1;33m.\u001b[0m\u001b[0mfast_unique_multiple_list_gen\u001b[0m\u001b[1;33m(\u001b[0m\u001b[0mgen\u001b[0m\u001b[1;33m,\u001b[0m \u001b[0msort\u001b[0m\u001b[1;33m=\u001b[0m\u001b[0msort\u001b[0m\u001b[1;33m)\u001b[0m\u001b[1;33m\u001b[0m\u001b[0m\n\u001b[0m\u001b[0;32m   5640\u001b[0m \u001b[1;33m\u001b[0m\u001b[0m\n\u001b[0;32m   5641\u001b[0m     \u001b[1;31m# assure that they are of the base dict class and not of derived\u001b[0m\u001b[1;33m\u001b[0m\u001b[1;33m\u001b[0m\u001b[0m\n",
      "\u001b[1;32mpandas/lib.pyx\u001b[0m in \u001b[0;36mpandas.lib.fast_unique_multiple_list_gen (pandas/lib.c:10686)\u001b[1;34m()\u001b[0m\n",
      "\u001b[1;32m/opt/conda/lib/python3.5/site-packages/pandas/core/frame.py\u001b[0m in \u001b[0;36m<genexpr>\u001b[1;34m(.0)\u001b[0m\n\u001b[0;32m   5635\u001b[0m \u001b[1;32mdef\u001b[0m \u001b[0m_list_of_dict_to_arrays\u001b[0m\u001b[1;33m(\u001b[0m\u001b[0mdata\u001b[0m\u001b[1;33m,\u001b[0m \u001b[0mcolumns\u001b[0m\u001b[1;33m,\u001b[0m \u001b[0mcoerce_float\u001b[0m\u001b[1;33m=\u001b[0m\u001b[1;32mFalse\u001b[0m\u001b[1;33m,\u001b[0m \u001b[0mdtype\u001b[0m\u001b[1;33m=\u001b[0m\u001b[1;32mNone\u001b[0m\u001b[1;33m)\u001b[0m\u001b[1;33m:\u001b[0m\u001b[1;33m\u001b[0m\u001b[0m\n\u001b[0;32m   5636\u001b[0m     \u001b[1;32mif\u001b[0m \u001b[0mcolumns\u001b[0m \u001b[1;32mis\u001b[0m \u001b[1;32mNone\u001b[0m\u001b[1;33m:\u001b[0m\u001b[1;33m\u001b[0m\u001b[0m\n\u001b[1;32m-> 5637\u001b[1;33m         \u001b[0mgen\u001b[0m \u001b[1;33m=\u001b[0m \u001b[1;33m(\u001b[0m\u001b[0mlist\u001b[0m\u001b[1;33m(\u001b[0m\u001b[0mx\u001b[0m\u001b[1;33m.\u001b[0m\u001b[0mkeys\u001b[0m\u001b[1;33m(\u001b[0m\u001b[1;33m)\u001b[0m\u001b[1;33m)\u001b[0m \u001b[1;32mfor\u001b[0m \u001b[0mx\u001b[0m \u001b[1;32min\u001b[0m \u001b[0mdata\u001b[0m\u001b[1;33m)\u001b[0m\u001b[1;33m\u001b[0m\u001b[0m\n\u001b[0m\u001b[0;32m   5638\u001b[0m         \u001b[0msort\u001b[0m \u001b[1;33m=\u001b[0m \u001b[1;32mnot\u001b[0m \u001b[0many\u001b[0m\u001b[1;33m(\u001b[0m\u001b[0misinstance\u001b[0m\u001b[1;33m(\u001b[0m\u001b[0md\u001b[0m\u001b[1;33m,\u001b[0m \u001b[0mOrderedDict\u001b[0m\u001b[1;33m)\u001b[0m \u001b[1;32mfor\u001b[0m \u001b[0md\u001b[0m \u001b[1;32min\u001b[0m \u001b[0mdata\u001b[0m\u001b[1;33m)\u001b[0m\u001b[1;33m\u001b[0m\u001b[0m\n\u001b[0;32m   5639\u001b[0m         \u001b[0mcolumns\u001b[0m \u001b[1;33m=\u001b[0m \u001b[0mlib\u001b[0m\u001b[1;33m.\u001b[0m\u001b[0mfast_unique_multiple_list_gen\u001b[0m\u001b[1;33m(\u001b[0m\u001b[0mgen\u001b[0m\u001b[1;33m,\u001b[0m \u001b[0msort\u001b[0m\u001b[1;33m=\u001b[0m\u001b[0msort\u001b[0m\u001b[1;33m)\u001b[0m\u001b[1;33m\u001b[0m\u001b[0m\n",
      "\u001b[1;31mAttributeError\u001b[0m: 'str' object has no attribute 'keys'"
     ]
    }
   ],
   "source": [
    "data = [ models[0].name ]\n",
    "#data.append(str())\n",
    "model_values0 = pd.DataFrame(data)        \n",
    "model_values0\n",
    "        \n",
    "        #print(i.name)\n",
    "#path = sciunit.ScoreArray(attributes)\n"
   ]
  },
  {
   "cell_type": "code",
   "execution_count": 76,
   "metadata": {},
   "outputs": [
    {
     "data": {
      "text/plain": [
       "67.5925925925926"
      ]
     },
     "execution_count": 76,
     "metadata": {},
     "output_type": "execute_result"
    }
   ],
   "source": [
    "rheobases[0]\n"
   ]
  },
  {
   "cell_type": "code",
   "execution_count": 77,
   "metadata": {},
   "outputs": [
    {
     "data": {
      "text/html": [
       "<div>\n",
       "<table border=\"1\" class=\"dataframe\">\n",
       "  <thead>\n",
       "    <tr style=\"text-align: right;\">\n",
       "      <th></th>\n",
       "      <th>RheobaseTest</th>\n",
       "      <th>InputResistanceTest</th>\n",
       "      <th>TimeConstantTest</th>\n",
       "      <th>CapacitanceTest</th>\n",
       "      <th>RestingPotentialTest</th>\n",
       "      <th>InjectedCurrentAPWidthTest</th>\n",
       "      <th>InjectedCurrentAPAmplitudeTest</th>\n",
       "      <th>InjectedCurrentAPThresholdTest</th>\n",
       "    </tr>\n",
       "  </thead>\n",
       "  <tbody>\n",
       "    <tr>\n",
       "      <th>vanilla</th>\n",
       "      <td>Ratio = 2.08</td>\n",
       "      <td>Z = 1.54</td>\n",
       "      <td>Z = -2.15</td>\n",
       "      <td>Z = -1.08</td>\n",
       "      <td>Z = 2.19</td>\n",
       "      <td>Z = 7.10</td>\n",
       "      <td>Z = -6.29</td>\n",
       "      <td>Insufficient Data</td>\n",
       "    </tr>\n",
       "  </tbody>\n",
       "</table>\n",
       "</div>"
      ],
      "text/plain": [
       "         RheobaseTest InputResistanceTest TimeConstantTest CapacitanceTest  \\\n",
       "vanilla  Ratio = 2.08            Z = 1.54        Z = -2.15       Z = -1.08   \n",
       "\n",
       "        RestingPotentialTest InjectedCurrentAPWidthTest  \\\n",
       "vanilla             Z = 2.19                   Z = 7.10   \n",
       "\n",
       "        InjectedCurrentAPAmplitudeTest InjectedCurrentAPThresholdTest  \n",
       "vanilla                      Z = -6.29              Insufficient Data  "
      ]
     },
     "execution_count": 77,
     "metadata": {},
     "output_type": "execute_result"
    }
   ],
   "source": [
    "\n",
    "sc1 = pd.DataFrame(scores[1])\n",
    "sc1\n"
   ]
  },
  {
   "cell_type": "code",
   "execution_count": 78,
   "metadata": {},
   "outputs": [
    {
     "data": {
      "text/plain": [
       "270.60185185185185"
      ]
     },
     "execution_count": 78,
     "metadata": {},
     "output_type": "execute_result"
    }
   ],
   "source": [
    "rheobases[1]\n"
   ]
  },
  {
   "cell_type": "code",
   "execution_count": 79,
   "metadata": {},
   "outputs": [
    {
     "data": {
      "text/html": [
       "<div>\n",
       "<table border=\"1\" class=\"dataframe\">\n",
       "  <thead>\n",
       "    <tr style=\"text-align: right;\">\n",
       "      <th></th>\n",
       "      <th>C</th>\n",
       "      <th>a</th>\n",
       "      <th>b</th>\n",
       "      <th>c</th>\n",
       "      <th>d</th>\n",
       "      <th>k</th>\n",
       "      <th>v0</th>\n",
       "      <th>vpeak</th>\n",
       "      <th>vr</th>\n",
       "      <th>vt</th>\n",
       "    </tr>\n",
       "  </thead>\n",
       "  <tbody>\n",
       "    <tr>\n",
       "      <th>0</th>\n",
       "      <td>9.93194568776e-05</td>\n",
       "      <td>0.671900527826</td>\n",
       "      <td>-4.47762006555e-09</td>\n",
       "      <td>-59.5125484902</td>\n",
       "      <td>0.0518254196574</td>\n",
       "      <td>0.00115780964351</td>\n",
       "      <td>-55.6996968732</td>\n",
       "      <td>39.3715553272</td>\n",
       "      <td>-67.3740489831</td>\n",
       "      <td>-36.813955781</td>\n",
       "    </tr>\n",
       "  </tbody>\n",
       "</table>\n",
       "</div>"
      ],
      "text/plain": [
       "                   C               a                   b               c  \\\n",
       "0  9.93194568776e-05  0.671900527826  -4.47762006555e-09  -59.5125484902   \n",
       "\n",
       "                 d                 k              v0          vpeak  \\\n",
       "0  0.0518254196574  0.00115780964351  -55.6996968732  39.3715553272   \n",
       "\n",
       "               vr             vt  \n",
       "0  -67.3740489831  -36.813955781  "
      ]
     },
     "execution_count": 79,
     "metadata": {},
     "output_type": "execute_result"
    }
   ],
   "source": [
    "data=[ models[1].name ]\n",
    "#data.append(str(rheobases[1]))\n",
    "model_values1 = pd.DataFrame(data)        \n",
    "model_values1"
   ]
  },
  {
   "cell_type": "code",
   "execution_count": 80,
   "metadata": {},
   "outputs": [],
   "source": [
    "models[1].name        \n",
    "\n",
    "import pickle\n",
    "import pandas as pd\n",
    "\n",
    "\n",
    "try:\n",
    "    ground_error = pickle.load(open('big_model_evaulated.pickle','rb'))\n",
    "except:\n",
    "    print('{0} it seems the error truth data does not yet exist, lets create it now '.format(str(False)))\n",
    "    ground_error = list(futures.map(outils.func2map, ground_truth))\n",
    "    pickle.dump(ground_error,open('big_model_evaulated.pickle','wb'))\n",
    "#ground_error_nsga=list(zip(vmpop,pop,invalid_ind))\n",
    "#pickle.dump(ground_error_nsga,open('nsga_evaulated.pickle','wb'))\n",
    "\n",
    "#Get the differences between values obtained via brute force, and those obtained otherwise:\n",
    "sum_errors = [ i[0] for i in ground_error ]\n",
    "composite_errors = [ i[1] for i in ground_error ]\n",
    "attrs = [ i[2] for i in ground_error ]\n",
    "rheobase = [ i[3] for i in ground_error ]\n",
    "\n",
    "indexs = [i for i,j in enumerate(sum_errors) if j==np.min(sum_errors) ][0]\n",
    "indexc = [i for i,j in enumerate(composite_errors) if j==np.min(composite_errors) ][0]\n",
    "#assert indexs == indexc\n",
    "vmpop = some_tuples[0]\n",
    "df_0 = pd.DataFrame([ (k,v,vmpop[0].attrs[k],float(v)-float(vmpop[0].attrs[k])) for k,v in ground_error[indexc][2].items() ])\n",
    "df_1 = pd.DataFrame([ (k,v,vmpop[1].attrs[k],float(v)-float(vmpop[1].attrs[k])) for k,v in ground_error[indexc][2].items() ])\n",
    "\n"
   ]
  },
  {
   "cell_type": "code",
   "execution_count": 81,
   "metadata": {},
   "outputs": [
    {
     "data": {
      "text/html": [
       "<div>\n",
       "<table border=\"1\" class=\"dataframe\">\n",
       "  <thead>\n",
       "    <tr style=\"text-align: right;\">\n",
       "      <th></th>\n",
       "      <th>0</th>\n",
       "      <th>1</th>\n",
       "      <th>2</th>\n",
       "      <th>3</th>\n",
       "    </tr>\n",
       "  </thead>\n",
       "  <tbody>\n",
       "    <tr>\n",
       "      <th>0</th>\n",
       "      <td>vpeak</td>\n",
       "      <td>3.000000e+01</td>\n",
       "      <td>32.4416452854</td>\n",
       "      <td>-2.441645e+00</td>\n",
       "    </tr>\n",
       "    <tr>\n",
       "      <th>1</th>\n",
       "      <td>a</td>\n",
       "      <td>9.450000e-01</td>\n",
       "      <td>0.705821414254</td>\n",
       "      <td>2.391786e-01</td>\n",
       "    </tr>\n",
       "    <tr>\n",
       "      <th>2</th>\n",
       "      <td>vr</td>\n",
       "      <td>-5.000000e+01</td>\n",
       "      <td>-65.3603349633</td>\n",
       "      <td>1.536033e+01</td>\n",
       "    </tr>\n",
       "    <tr>\n",
       "      <th>3</th>\n",
       "      <td>b</td>\n",
       "      <td>-5.000000e-09</td>\n",
       "      <td>-4.75915425424e-09</td>\n",
       "      <td>-2.408457e-10</td>\n",
       "    </tr>\n",
       "  </tbody>\n",
       "</table>\n",
       "</div>"
      ],
      "text/plain": [
       "       0             1                   2             3\n",
       "0  vpeak  3.000000e+01       32.4416452854 -2.441645e+00\n",
       "1      a  9.450000e-01      0.705821414254  2.391786e-01\n",
       "2     vr -5.000000e+01      -65.3603349633  1.536033e+01\n",
       "3      b -5.000000e-09  -4.75915425424e-09 -2.408457e-10"
      ]
     },
     "execution_count": 81,
     "metadata": {},
     "output_type": "execute_result"
    }
   ],
   "source": [
    "\n",
    "\n",
    "df_0"
   ]
  },
  {
   "cell_type": "code",
   "execution_count": 82,
   "metadata": {},
   "outputs": [
    {
     "data": {
      "text/html": [
       "<div>\n",
       "<table border=\"1\" class=\"dataframe\">\n",
       "  <thead>\n",
       "    <tr style=\"text-align: right;\">\n",
       "      <th></th>\n",
       "      <th>0</th>\n",
       "      <th>1</th>\n",
       "      <th>2</th>\n",
       "      <th>3</th>\n",
       "    </tr>\n",
       "  </thead>\n",
       "  <tbody>\n",
       "    <tr>\n",
       "      <th>0</th>\n",
       "      <td>vpeak</td>\n",
       "      <td>3.000000e+01</td>\n",
       "      <td>39.3715553272</td>\n",
       "      <td>-9.371555e+00</td>\n",
       "    </tr>\n",
       "    <tr>\n",
       "      <th>1</th>\n",
       "      <td>a</td>\n",
       "      <td>9.450000e-01</td>\n",
       "      <td>0.671900527826</td>\n",
       "      <td>2.730995e-01</td>\n",
       "    </tr>\n",
       "    <tr>\n",
       "      <th>2</th>\n",
       "      <td>vr</td>\n",
       "      <td>-5.000000e+01</td>\n",
       "      <td>-67.3740489831</td>\n",
       "      <td>1.737405e+01</td>\n",
       "    </tr>\n",
       "    <tr>\n",
       "      <th>3</th>\n",
       "      <td>b</td>\n",
       "      <td>-5.000000e-09</td>\n",
       "      <td>-4.47762006555e-09</td>\n",
       "      <td>-5.223799e-10</td>\n",
       "    </tr>\n",
       "  </tbody>\n",
       "</table>\n",
       "</div>"
      ],
      "text/plain": [
       "       0             1                   2             3\n",
       "0  vpeak  3.000000e+01       39.3715553272 -9.371555e+00\n",
       "1      a  9.450000e-01      0.671900527826  2.730995e-01\n",
       "2     vr -5.000000e+01      -67.3740489831  1.737405e+01\n",
       "3      b -5.000000e-09  -4.47762006555e-09 -5.223799e-10"
      ]
     },
     "execution_count": 82,
     "metadata": {},
     "output_type": "execute_result"
    }
   ],
   "source": [
    "df_1\n"
   ]
  },
  {
   "cell_type": "code",
   "execution_count": null,
   "metadata": {
    "collapsed": true
   },
   "outputs": [],
   "source": []
  }
 ],
 "metadata": {
  "kernelspec": {
   "display_name": "Python 3",
   "language": "python",
   "name": "python3"
  },
  "language_info": {
   "codemirror_mode": {
    "name": "ipython",
    "version": 3
   },
   "file_extension": ".py",
   "mimetype": "text/x-python",
   "name": "python",
   "nbconvert_exporter": "python",
   "pygments_lexer": "ipython3",
   "version": "3.5.2"
  }
 },
 "nbformat": 4,
 "nbformat_minor": 2
}
