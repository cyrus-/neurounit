{
 "cells": [
  {
   "cell_type": "code",
   "execution_count": null,
   "metadata": {},
   "outputs": [
    {
     "name": "stdout",
     "output_type": "stream",
     "text": [
      "Getting Rheobase cached data value for from AIBS dataset 354190013\n",
      "attempting to recover from pickled file\n",
      "/home/jovyan/mnt/neuronunit/neuronunit/tests/__init__.py\n",
      "Ignoring included LEMS file: Cells.xml\n",
      "Ignoring included LEMS file: Networks.xml\n",
      "Ignoring included LEMS file: Simulation.xml\n",
      "Mechanisms already loaded from path: /home/jovyan/mnt/neuronunit/neuronunit/tests/NeuroML2.  Aborting.\n",
      "Ignoring included LEMS file: Cells.xml\n",
      "Ignoring included LEMS file: Networks.xml\n",
      "Ignoring included LEMS file: Simulation.xml\n"
     ]
    }
   ],
   "source": [
    "import sys                                                                                                                                                                                                              \n",
    "sys.path[0]='/home/jovyan/mnt/neuronunit'                                                                                                                                                                                                     \n",
    "from neuronunit.tests import get_neab                                                                                                                                                                                                         \n",
    "import neuronunit                                                                                                                                                                                                                             \n",
    "print(neuronunit.tests.__file__)                                                                                                                                                                                                              \n",
    "from neuronunit.tests import utilities as outils                                                                                                                                                                                              \n",
    "                                                                                                                                                                                                                                              \n",
    "from neuronunit.tests import model_parameters as modelp                                                                                                                                                                                       \n",
    "import numpy as np                                                                                                                                                                                                                            \n",
    "model = outils.model                \n",
    "\n"
   ]
  },
  {
   "cell_type": "code",
   "execution_count": null,
   "metadata": {},
   "outputs": [
    {
     "name": "stdout",
     "output_type": "stream",
     "text": [
      "<module 'neuronunit.tests.model_parameters' from '/home/jovyan/mnt/neuronunit/neuronunit/tests/model_parameters.py'>\n",
      "0 -3.57645177789e-09\n",
      "1 -31.9386679382\n",
      "2 0.890764979734\n",
      "3 0.0632175406455\n",
      "4 0.000952465799146\n",
      "5 -73.6503025101\n",
      "6 31.7405451542\n",
      "7 -67.2084459608"
     ]
    },
    {
     "name": "stderr",
     "output_type": "stream",
     "text": [
      "/opt/conda/lib/python3.5/site-packages/scoop-0.7.2.0-py3.5.egg/scoop/fallbacks.py:46: RuntimeWarning: SCOOP was not started properly.\n",
      "Be sure to start your program with the '-m scoop' parameter. You can find further information in the documentation.\n",
      "Your map call has been replaced by the builtin serial Python map().\n"
     ]
    },
    {
     "name": "stdout",
     "output_type": "stream",
     "text": [
      "\n",
      "8 -55.21317393\n",
      "9 0.000100776773484\n",
      "0 -4.34443277141e-09\n",
      "1 -33.5999267115\n",
      "2 0.524866206038\n",
      "3 0.0907992704494\n",
      "4 0.00106498946344\n",
      "5 -74.7178759543\n",
      "6 33.315906446\n",
      "7 -69.7064336884\n",
      "8 -56.6746288709\n",
      "9 0.000108576389987\n",
      "0 -4.46432516141e-09\n",
      "1 -46.3070721499\n",
      "2 0.883789150863\n",
      "3 0.189497722426\n",
      "4 0.000647785823933\n",
      "5 -56.946509632\n",
      "6 33.1161430037\n",
      "7 -51.885078509\n",
      "8 -59.4240210977\n",
      "9 0.000108674932458\n",
      "0 -3.81690154348e-09\n",
      "1 -34.1928920782\n",
      "2 0.72747877033\n",
      "3 0.0990248941467\n",
      "4 0.00106950022347\n",
      "5 -69.209558126\n",
      "6 33.5374476621\n",
      "7 -63.924797217\n",
      "8 -55.1604656383\n",
      "9 0.000108521986573\n",
      "{}\n",
      "{}\n",
      "{}\n",
      "{}\n",
      "{}\n",
      "{}\n",
      "{}\n",
      "{}\n",
      "{}\n",
      "{}\n",
      "{}\n",
      "{}\n",
      "{}\n",
      "False\n",
      "{}\n",
      "{}\n",
      "{}\n",
      "{}\n",
      "False\n",
      "{}\n",
      "<class 'float'>\n",
      "current 296.52777777777777 spikes 1\n",
      "{}\n",
      "{}\n",
      "{}\n",
      "<class 'float'>\n",
      "{}\n",
      "{}\n",
      "{}\n",
      "{}\n",
      "{}\n",
      "{}\n",
      "{}\n",
      "{}\n",
      "{}\n",
      "{}\n",
      "{}\n",
      "{}\n",
      "{}\n",
      "{}\n",
      "{}\n",
      "{}\n",
      "{}\n",
      "{}\n",
      "{}\n",
      "False\n",
      "{}\n",
      "{}\n",
      "{}\n",
      "{}\n",
      "False\n",
      "{}\n",
      "{}\n",
      "{}\n",
      "{}\n",
      "False\n",
      "{}\n",
      "{}\n",
      "{}\n",
      "<class 'float'>\n",
      "current 347.22222222222223 spikes 1\n",
      "{}\n",
      "<class 'float'>\n",
      "{}\n",
      "{}\n",
      "{}\n",
      "{}\n",
      "{}\n",
      "{}\n",
      "{}\n",
      "{}\n",
      "{}\n",
      "{}\n",
      "{}\n",
      "{}\n",
      "{}\n",
      "False\n",
      "{}\n",
      "{}\n",
      "{}\n",
      "{}\n",
      "False\n",
      "{}\n",
      "{}\n",
      "{}\n",
      "{}\n",
      "False\n",
      "{}\n",
      "{}\n",
      "{}\n",
      "<class 'float'>\n",
      "current 5.208333333333334 spikes 1\n",
      "{}\n",
      "<class 'float'>\n",
      "current 5.439814814814816 spikes 1\n",
      "<class 'float'>\n",
      "{}\n",
      "{}\n",
      "{}\n",
      "{}\n",
      "{}\n",
      "{}\n",
      "{}\n",
      "{}\n",
      "{}\n",
      "{}\n",
      "{}\n",
      "{}\n",
      "{}\n",
      "False\n",
      "{}\n",
      "{}\n",
      "{}\n",
      "{}\n",
      "False\n",
      "{}\n",
      "{}\n",
      "{}\n",
      "{}\n",
      "False\n",
      "{}\n",
      "{}\n",
      "{}\n",
      "{}\n",
      "<class 'float'>\n",
      "current 236.57407407407408 spikes 1\n",
      "<class 'float'>\n",
      "checkpoint 1 output from parallel map [<neuronunit.tests.utilities.VirtualModel object at 0x7fd68926fe80>, <neuronunit.tests.utilities.VirtualModel object at 0x7fd68926fef0>, <neuronunit.tests.utilities.VirtualModel object at 0x7fd6892f7518>, <neuronunit.tests.utilities.VirtualModel object at 0x7fd6892f7dd8>]\n",
      "[296.52777777777777, 347.22222222222223, 5.439814814814816, 236.57407407407408]\n",
      "296.52777777777777\n",
      "347.22222222222223\n",
      "5.439814814814816\n",
      "236.57407407407408\n",
      "296.52777777777777\n",
      "347.22222222222223\n",
      "5.439814814814816\n",
      "236.57407407407408\n",
      "296.52777777777777\n",
      "347.22222222222223\n",
      "5.439814814814816\n",
      "236.57407407407408\n",
      "296.52777777777777 296.52777777777777\n",
      "347.22222222222223 347.22222222222223\n",
      "5.439814814814816 5.439814814814816\n",
      "236.57407407407408 236.57407407407408\n",
      "<class 'list'> <class 'list'>\n",
      "updatevmpop returns a whole heap of nones suggesting its not working [<neuronunit.tests.utilities.VirtualModel object at 0x7fd68926fe80>, <neuronunit.tests.utilities.VirtualModel object at 0x7fd68926fef0>, <neuronunit.tests.utilities.VirtualModel object at 0x7fd6892f7518>, <neuronunit.tests.utilities.VirtualModel object at 0x7fd6892f7dd8>]\n",
      "<class 'float'>\n",
      "296.52777777777777 vanilla {'injected_square_current': {'delay': '100.0', 'duration': '1000.0', 'amplitude': '236.57407407407408'}} (0, <neuronunit.tests.utilities.VirtualModel object at 0x7fd68926fe80>, 296.52777777777777)\n",
      "{}\n",
      "{}\n",
      "{}\n"
     ]
    },
    {
     "data": {
      "text/html": [
       "Executing test <i>RheobaseTest</i> on model <i>vanilla</i>... "
      ],
      "text/plain": [
       "<IPython.core.display.HTML object>"
      ]
     },
     "metadata": {},
     "output_type": "display_data"
    },
    {
     "data": {
      "text/html": [
       "Score is <a style=\"color: rgb(217,239,139)\">Ratio = 2.28</a>\n"
      ],
      "text/plain": [
       "<IPython.core.display.HTML object>"
      ]
     },
     "metadata": {},
     "output_type": "display_data"
    },
    {
     "data": {
      "text/html": [
       "Executing test <i>InputResistanceTest</i> on model <i>vanilla</i>... "
      ],
      "text/plain": [
       "<IPython.core.display.HTML object>"
      ]
     },
     "metadata": {},
     "output_type": "display_data"
    },
    {
     "name": "stdout",
     "output_type": "stream",
     "text": [
      "{}\n",
      "<class 'sciunit.scores.ZScore'>\n"
     ]
    },
    {
     "data": {
      "text/html": [
       "Score is <a style=\"color: rgb(230,78,52)\">Z = -4.12</a>\n"
      ],
      "text/plain": [
       "<IPython.core.display.HTML object>"
      ]
     },
     "metadata": {},
     "output_type": "display_data"
    },
    {
     "data": {
      "text/html": [
       "Executing test <i>TimeConstantTest</i> on model <i>vanilla</i>... "
      ],
      "text/plain": [
       "<IPython.core.display.HTML object>"
      ]
     },
     "metadata": {},
     "output_type": "display_data"
    },
    {
     "name": "stdout",
     "output_type": "stream",
     "text": [
      "{}\n"
     ]
    },
    {
     "name": "stderr",
     "output_type": "stream",
     "text": [
      "/home/jovyan/mnt/neuronunit/neuronunit/tests/__init__.py:273: RuntimeWarning: overflow encountered in exp\n",
      "  vm_fit[offset:] = a * np.exp(-t[offset:]/b) + c\n",
      "/home/jovyan/mnt/neuronunit/neuronunit/tests/__init__.py:273: RuntimeWarning: overflow encountered in multiply\n",
      "  vm_fit[offset:] = a * np.exp(-t[offset:]/b) + c\n"
     ]
    },
    {
     "data": {
      "text/html": [
       "Score is <a style=\"color: rgb(235,90,58)\">Z = -2.15</a>\n"
      ],
      "text/plain": [
       "<IPython.core.display.HTML object>"
      ]
     },
     "metadata": {},
     "output_type": "display_data"
    }
   ],
   "source": [
    "\n",
    "class Score:\n",
    "    def __init__(self, score):\n",
    "        self.score = score\n",
    "\n",
    "class Test:\n",
    "    def _optimize(self, model,modelp):\n",
    "        '''\n",
    "        The implementation of optimization, consisting of implementation details.\n",
    "        Inputs a model, and model parameter ranges to expore\n",
    "        Private method for programmer designer.\n",
    "        Outputs the optimal model, its attributes and the low error it resulted in.\n",
    "        '''\n",
    "        from neuronunit.tests import nsga\n",
    "        gap = nsga.GAparams(model)\n",
    "        # The number of generations is 2\n",
    "        gap.NGEN = 2\n",
    "        # The population of genes is 4\n",
    "        gap.MU = 4\n",
    "        \n",
    "        gap.BOUND_LOW = [ np.min(i) for i in modelp.model_params.values() ]\n",
    "        gap.BOUND_UP = [ np.max(i) for i in modelp.model_params.values() ]\n",
    "\n",
    "        vmpop, pop, invalid_ind, pf = nsga.main(gap.NGEN,gap.MU,model,modelp)\n",
    "        some_tuples = (vmpop, pop, invalid_ind, pf)\n",
    "        return pop[0], some_tuples\n",
    "        #return vmpop, pop, invalid_ind, pf\n",
    "        \n",
    "    def _get_optimization_parameters(self, some_tuples):\n",
    "        vmpop = some_tuples[0]\n",
    "        # Your specific unpacking of tuples that _optimize returns\n",
    "        scores = vmpop[0].score\n",
    "        pop = some_tuples[1]\n",
    "        errors = -pop[0].fitness\n",
    "        parameters = vmpop[0].attrs\n",
    "        #parameters,errors,scores,_ = zip(*some_tuples)\n",
    "        return parameters,scores\n",
    "\n",
    "    def optimize(self, model, modelp):\n",
    "        '''\n",
    "        The Class users version of optimize\n",
    "        where details are hidden in _optimizae\n",
    "        '''\n",
    "\n",
    "        # Do optimization including repeated calls to judge\n",
    "        model, some_tuples = self._optimize(model,modelp)\n",
    "        parameters, scores = self._get_optimization_parameters(some_tuples)\n",
    "        # Maybe rebuild the original model\n",
    "        # (i.e. restore the true class from the virtual version)\n",
    "\n",
    "        # Your code keeps parameter sets and associated scores\n",
    "        # All the organizing stuff\n",
    "        \n",
    "        \n",
    "        # this a way of looking at solved model parameters, ie candidate solutions from \n",
    "        # the pareto front.\n",
    "\n",
    "        \n",
    "        # Make a ScoreArray (which is basically a pandas dataframe)\n",
    "        path = sciunit.ScoreArray(models,scores=scores)\n",
    "        return model, path, some_tuples\n",
    "\n",
    "    \n",
    "t = Test()\n",
    "\n",
    "\n",
    "model,path,some_tuples = t.optimize(model,modelp)   "
   ]
  },
  {
   "cell_type": "code",
   "execution_count": null,
   "metadata": {
    "collapsed": true
   },
   "outputs": [],
   "source": [
    "path\n",
    "models = [model.__class__(p) for p in parameters]\n",
    "\n",
    "    "
   ]
  },
  {
   "cell_type": "code",
   "execution_count": null,
   "metadata": {
    "collapsed": true
   },
   "outputs": [],
   "source": [
    "\n",
    "import pickle\n",
    "import pandas as pd\n",
    "\n",
    "\n",
    "try:\n",
    "    ground_error = pickle.load(open('big_model_evaulated.pickle','rb'))\n",
    "except:\n",
    "    '{0} it seems the error truth data does not yet exist, lets create it now '.format(str(False))\n",
    "    ground_error = list(futures.map(util.func2map, ground_truth))\n",
    "    pickle.dump(ground_error,open('big_model_evaulated.pickle','wb'))\n",
    "ground_error_nsga=list(zip(vmpop,pop,invalid_ind))\n",
    "pickle.dump(ground_error_nsga,open('nsga_evaulated.pickle','wb'))\n",
    "\n",
    "#Get the differences between values obtained via brute force, and those obtained otherwise:\n",
    "sum_errors = [ i[0] for i in ground_error ]\n",
    "composite_errors = [ i[1] for i in ground_error ]\n",
    "attrs = [ i[2] for i in ground_error ]\n",
    "rheobase = [ i[3] for i in ground_error ]\n",
    "\n",
    "indexs = [i for i,j in enumerate(sum_errors) if j==np.min(sum_errors) ][0]\n",
    "indexc = [i for i,j in enumerate(composite_errors) if j==np.min(composite_errors) ][0]\n",
    "#assert indexs == indexc\n",
    "vmpop = some_tupeles[0]\n",
    "df_0 = pd.DataFrame([ (k,v,vmpop[0].attrs[k],float(v)-float(vmpop[0].attrs[k])) for k,v in ground_error[indexc][2].items() ])\n",
    "df_1 = pd.DataFrame([ (k,v,vmpop[1].attrs[k],float(v)-float(vmpop[1].attrs[k])) for k,v in ground_error[indexc][2].items() ])\n",
    "\n"
   ]
  },
  {
   "cell_type": "code",
   "execution_count": null,
   "metadata": {
    "collapsed": true
   },
   "outputs": [],
   "source": [
    "\n",
    "\n",
    "df_0"
   ]
  },
  {
   "cell_type": "code",
   "execution_count": null,
   "metadata": {
    "collapsed": true
   },
   "outputs": [],
   "source": [
    "df_1\n"
   ]
  },
  {
   "cell_type": "code",
   "execution_count": null,
   "metadata": {
    "collapsed": true
   },
   "outputs": [],
   "source": []
  }
 ],
 "metadata": {
  "kernelspec": {
   "display_name": "Python 3",
   "language": "python",
   "name": "python3"
  },
  "language_info": {
   "codemirror_mode": {
    "name": "ipython",
    "version": 3
   },
   "file_extension": ".py",
   "mimetype": "text/x-python",
   "name": "python",
   "nbconvert_exporter": "python",
   "pygments_lexer": "ipython3",
   "version": "3.5.2"
  }
 },
 "nbformat": 4,
 "nbformat_minor": 2
}
