{
 "cells": [
  {
   "cell_type": "code",
   "execution_count": 1,
   "metadata": {},
   "outputs": [
    {
     "name": "stdout",
     "output_type": "stream",
     "text": [
      "attempting to recover from pickled file\n"
     ]
    },
    {
     "ename": "ImportError",
     "evalue": "No module named 'get_neab'",
     "output_type": "error",
     "traceback": [
      "\u001b[1;31m---------------------------------------------------------------------------\u001b[0m",
      "\u001b[1;31mImportError\u001b[0m                               Traceback (most recent call last)",
      "\u001b[1;32m<ipython-input-1-e9031053d3e9>\u001b[0m in \u001b[0;36m<module>\u001b[1;34m()\u001b[0m\n\u001b[0;32m      9\u001b[0m \u001b[1;32mfrom\u001b[0m \u001b[0mneuronunit\u001b[0m\u001b[1;33m.\u001b[0m\u001b[0mtests\u001b[0m \u001b[1;32mimport\u001b[0m \u001b[0mget_neab\u001b[0m\u001b[1;33m\u001b[0m\u001b[0m\n\u001b[0;32m     10\u001b[0m \u001b[1;32mimport\u001b[0m \u001b[0mneuronunit\u001b[0m\u001b[1;33m\u001b[0m\u001b[0m\n\u001b[1;32m---> 11\u001b[1;33m \u001b[1;32mfrom\u001b[0m \u001b[0mneuronunit\u001b[0m\u001b[1;33m.\u001b[0m\u001b[0mtests\u001b[0m \u001b[1;32mimport\u001b[0m \u001b[0mutilities\u001b[0m \u001b[1;32mas\u001b[0m \u001b[0moutils\u001b[0m\u001b[1;33m\u001b[0m\u001b[0m\n\u001b[0m\u001b[0;32m     12\u001b[0m \u001b[1;32mfrom\u001b[0m \u001b[0mneuronunit\u001b[0m\u001b[1;33m.\u001b[0m\u001b[0mtests\u001b[0m \u001b[1;32mimport\u001b[0m \u001b[0mmodel_parameters\u001b[0m \u001b[1;32mas\u001b[0m \u001b[0mmodelp\u001b[0m\u001b[1;33m\u001b[0m\u001b[0m\n\u001b[0;32m     13\u001b[0m \u001b[1;32mimport\u001b[0m \u001b[0mnumpy\u001b[0m \u001b[1;32mas\u001b[0m \u001b[0mnp\u001b[0m\u001b[1;33m\u001b[0m\u001b[0m\n",
      "\u001b[1;32m/home/jovyan/neuronunit/neuronunit/tests/utilities.py\u001b[0m in \u001b[0;36m<module>\u001b[1;34m()\u001b[0m\n\u001b[0;32m     17\u001b[0m \u001b[1;33m\u001b[0m\u001b[0m\n\u001b[0;32m     18\u001b[0m \u001b[1;33m\u001b[0m\u001b[0m\n\u001b[1;32m---> 19\u001b[1;33m \u001b[1;32mimport\u001b[0m \u001b[0mget_neab\u001b[0m\u001b[1;33m\u001b[0m\u001b[0m\n\u001b[0m\u001b[0;32m     20\u001b[0m \u001b[1;33m\u001b[0m\u001b[0m\n\u001b[0;32m     21\u001b[0m \u001b[1;33m\u001b[0m\u001b[0m\n",
      "\u001b[1;31mImportError\u001b[0m: No module named 'get_neab'"
     ]
    }
   ],
   "source": [
    "# Force use of development local repository.\n",
    "# The repository must be the russell_dev branch of https://github.com/russelljjarvis/neuronunit\n",
    "# and the docker build is: docker-stacks/neuronunit-optimization\n",
    "# There are more graceful ways of achieving this.\n",
    "# The best way will be to integrate this doc chapter5 and its supporting code \n",
    "# from https://github.com/russelljjarvis/neuronunit -> https://github.com/scidash/neuronunit\n",
    "import sys\n",
    "sys.path[0]='/home/jovyan/mnt/neuronunit'\n",
    "from neuronunit.tests import get_neab\n",
    "import neuronunit\n",
    "from neuronunit.tests import utilities as outils                                                                                                                                                                                              \n",
    "from neuronunit.tests import model_parameters as modelp\n",
    "import numpy as np\n",
    "model = outils.model          \n",
    "from sciunit import scores\n"
   ]
  },
  {
   "cell_type": "code",
   "execution_count": null,
   "metadata": {},
   "outputs": [],
   "source": [
    "\n",
    "class Score:\n",
    "    def __init__(self, score):\n",
    "        self.score = score\n",
    "\n",
    "class Test:\n",
    "    def _optimize(self, model,modelp):\n",
    "        '''\n",
    "        The implementation of optimization, consisting of implementation details.\n",
    "        Inputs a model, and model parameter ranges to expore\n",
    "        Private method for programmer designer.\n",
    "        Outputs the optimal model, its attributes and the low error it resulted in.\n",
    "        '''\n",
    "        from neuronunit.tests import nsga\n",
    "        gap = nsga.GAparams(model)\n",
    "        # The number of generations is 3\n",
    "        gap.NGEN = 3\n",
    "        # The population of genes is 12\n",
    "        gap.MU = 12 \n",
    "        gap.BOUND_LOW = [ np.min(i) for i in modelp.model_params.values() ]\n",
    "        gap.BOUND_UP = [ np.max(i) for i in modelp.model_params.values() ]\n",
    "        # call the actual Genetic Algorithm with Optimization parameters: number of generation (NGEN = 3)\n",
    "        # and gene population size (MU = 12)\n",
    "        vmpop, pop, invalid_ind, pf = nsga.main(gap.NGEN,gap.MU,model,modelp)\n",
    "        attributes = [ i.attrs for i in vmpop ]\n",
    "        rheobases = [ i.rheobase for i in vmpop ]\n",
    "        scores = [ i.score for i in vmpop ]        \n",
    "        parameters = [ i.attrs for i in vmpop ]\n",
    "        \n",
    "        data_tuples = (vmpop, parameters, scores, pop, invalid_ind, pf, rheobases)\n",
    "        return pop, data_tuples\n",
    "        \n",
    "    def _get_optimization_parameters(self, data_tuples):\n",
    "        # Your specific unpacking of tuples that _optimize returns\n",
    "        # vmpop, parameters, scores, pop, invalid_ind, pf, rheobases)\n",
    "        _ , parameters , scores, _ , _ , _ , _ = zip(*data_tuples)\n",
    "        return parameters,scores\n",
    "\n",
    "    def optimize(self, model, modelp):\n",
    "        '''\n",
    "        # The Class users version of optimize\n",
    "        # where details are hidden in _optimizae\n",
    "        \n",
    "        # Inputs: \n",
    "        # a Izhihikitch model specified in NML, but implemented with a NEURONbackend type\n",
    "        # from neuronunit. Modelp a formatated dictionary of model parameters\n",
    "        # where keys are Izhikitich parameters, and values are parameter ranges.\n",
    "        # Outputs:\n",
    "        # the optimal model, the scores as pandas data frame.\n",
    "        # data_tuples: other data about models from the converged gene population\n",
    "        # like resulting rheobase values from the converged genes, pandas score arrays\n",
    "        # the genes corresponding to attributes of the pareto front (in a raw format).\n",
    "        '''\n",
    "\n",
    "        # Do optimization including repeated calls to judge\n",
    "        models, data_tuples = self._optimize(model,modelp)\n",
    "        parameters, scores = self._get_optimization_parameters(data_tuples)\n",
    "        # this a way of looking at solved model parameters, ie candidate solutions from \n",
    "        # the pareto front.\n",
    "        # scores is a list of pandas dataframes for the converged gene population.\n",
    "        # It might be good to convert it into one big panda table if I knew how.\n",
    "        return model, scores, data_tuples\n",
    "\n",
    "    \n",
    "t = Test()\n",
    "model,scores,data_tuples = t.optimize(model,modelp)   "
   ]
  },
  {
   "cell_type": "code",
   "execution_count": null,
   "metadata": {
    "collapsed": true
   },
   "outputs": [],
   "source": [
    "modelp\n",
    "import pandas as pd\n",
    "models = data_tuples[1]\n",
    "sc = pd.DataFrame(scores[0])\n",
    "for j,i in enumerate(models):\n",
    "        i.name = attributes[j]\n",
    "sc"
   ]
  },
  {
   "cell_type": "code",
   "execution_count": null,
   "metadata": {
    "collapsed": true
   },
   "outputs": [],
   "source": [
    "data = [ models[0].name ]\n",
    "model_values0 = pd.DataFrame(data)        \n",
    "model_values0"
   ]
  },
  {
   "cell_type": "code",
   "execution_count": null,
   "metadata": {
    "collapsed": true
   },
   "outputs": [],
   "source": [
    "rheobases=data_tuples[5][0]"
   ]
  },
  {
   "cell_type": "code",
   "execution_count": null,
   "metadata": {
    "collapsed": true
   },
   "outputs": [],
   "source": [
    "data = [ models[0].name ]\n",
    "model_values0 = pd.DataFrame(data)        \n",
    "model_values0\n"
   ]
  },
  {
   "cell_type": "code",
   "execution_count": null,
   "metadata": {
    "collapsed": true
   },
   "outputs": [],
   "source": [
    "rheobases[0]\n"
   ]
  },
  {
   "cell_type": "code",
   "execution_count": null,
   "metadata": {
    "collapsed": true
   },
   "outputs": [],
   "source": [
    "\n",
    "sc1 = pd.DataFrame(scores[1])\n",
    "sc1\n"
   ]
  },
  {
   "cell_type": "code",
   "execution_count": null,
   "metadata": {
    "collapsed": true
   },
   "outputs": [],
   "source": [
    "rheobases[1]\n"
   ]
  },
  {
   "cell_type": "code",
   "execution_count": null,
   "metadata": {
    "collapsed": true
   },
   "outputs": [],
   "source": [
    "data=[ models[1].name ]\n",
    "model_values1 = pd.DataFrame(data)        \n",
    "model_values1"
   ]
  },
  {
   "cell_type": "code",
   "execution_count": null,
   "metadata": {
    "collapsed": true
   },
   "outputs": [],
   "source": [
    "models[1].name        "
   ]
  },
  {
   "cell_type": "code",
   "execution_count": null,
   "metadata": {
    "collapsed": true
   },
   "outputs": [],
   "source": [
    "\n",
    "import pickle\n",
    "import pandas as pd\n",
    "\n",
    "# I have knowingly violated Github conventions by adding data (a pickled file, as well as sources to the repository). \n",
    "# The justification being that ground_error (the ground truth to compare against Genetic Algorithm outputs). \n",
    "# Takes a prohibitively long time to generate, and therefore detracts from notebooking philosophy.\n",
    "\n",
    "try:\n",
    "    ground_error = pickle.load(open('big_model_evaulated.pickle','rb'))\n",
    "except:\n",
    "    # The exception code is only skeletal, it would actually work, but its the right principles.\n",
    "    print('{0} it seems the error truth data does not yet exist, lets create it now '.format(str(False)))\n",
    "    ground_error = list(futures.map(outils.func2map, ground_truth))\n",
    "    pickle.dump(ground_error,open('big_model_evaulated.pickle','wb'))\n",
    "\n",
    "# ground_error_nsga=list(zip(vmpop,pop,invalid_ind))\n",
    "# pickle.dump(ground_error_nsga,open('nsga_evaulated.pickle','wb'))\n",
    "# Get the differences between values obtained via brute force, and those obtained otherwise:\n",
    "sum_errors = [ i[0] for i in ground_error ]\n",
    "composite_errors = [ i[1] for i in ground_error ]\n",
    "attrs = [ i[2] for i in ground_error ]\n",
    "rheobase = [ i[3] for i in ground_error ]\n",
    "\n",
    "indexs = [i for i,j in enumerate(sum_errors) if j==np.min(sum_errors) ][0]\n",
    "indexc = [i for i,j in enumerate(composite_errors) if j==np.min(composite_errors) ][0]\n",
    "#assert indexs == indexc\n",
    "vmpop = data_tuples[0]\n",
    "df_0 = pd.DataFrame([ (k,v,vmpop[0].attrs[k],float(v)-float(vmpop[0].attrs[k])) for k,v in ground_error[indexc][2].items() ])\n",
    "df_1 = pd.DataFrame([ (k,v,vmpop[1].attrs[k],float(v)-float(vmpop[1].attrs[k])) for k,v in ground_error[indexc][2].items() ])\n",
    "\n",
    "\n"
   ]
  },
  {
   "cell_type": "code",
   "execution_count": null,
   "metadata": {
    "collapsed": true
   },
   "outputs": [],
   "source": [
    "#These are the differences in attributes found via brute force versus the genetic algorithm. For the top two candidates.\n",
    "\n",
    "df_0"
   ]
  },
  {
   "cell_type": "code",
   "execution_count": null,
   "metadata": {
    "collapsed": true
   },
   "outputs": [],
   "source": [
    "df_1\n"
   ]
  },
  {
   "cell_type": "code",
   "execution_count": null,
   "metadata": {
    "collapsed": true
   },
   "outputs": [],
   "source": []
  },
  {
   "cell_type": "code",
   "execution_count": null,
   "metadata": {
    "collapsed": true
   },
   "outputs": [],
   "source": []
  }
 ],
 "metadata": {
  "kernelspec": {
   "display_name": "Python 3",
   "language": "python",
   "name": "python3"
  },
  "language_info": {
   "codemirror_mode": {
    "name": "ipython",
    "version": 3
   },
   "file_extension": ".py",
   "mimetype": "text/x-python",
   "name": "python",
   "nbconvert_exporter": "python",
   "pygments_lexer": "ipython3",
   "version": "3.5.2"
  }
 },
 "nbformat": 4,
 "nbformat_minor": 2
}
