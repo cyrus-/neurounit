In [1]:
import pandas as pd
import numpy as np
import sciunit.scores
In [2]:
class Score:
    def __init__(self, score):
        self.score = score

class Test:
    def _optimize(self, model):
        # All the actual calls to optimization, scoop, DEAP, etc.
        # All the parallel stuff is in here.

        return model, [(1,2,3,4),(3,4,5,6)]
        pass

    def _get_optimization_parameters(self, some_tuples):
        # Your specific unpacking of tuples that _optimize returns
        parameters,errors,scores,_ = zip(*some_tuples)
        return parameters,scores

    def optimize(self, model):
        # Do optimization including repeated calls to judge
        model, some_tuples = self._optimize(model)
        parameters,scores = self._get_optimization_parameters(some_tuples)
        # Maybe rebuild the original model
        # (i.e. restore the true class from the virtual version)

        # Your code keeps parameter sets and associated scores
        # All the organizing stuff

        models = [model.__class__(p) for p in parameters]

        # Make a ScoreArray (which is basically a pandas dataframe)
        path = sciunit.ScoreArray(models,scores=scores)
        return model, path

    def judge(self, model):
        # Do stuff
        return Score(1)
In [3]:
model = sciunit.Model()
test = Test()
model, path = test.optimize(model)
