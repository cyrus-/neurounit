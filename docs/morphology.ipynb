{
 "cells": [
  {
   "cell_type": "code",
   "execution_count": 1,
   "metadata": {},
   "outputs": [
    {
     "name": "stderr",
     "output_type": "stream",
     "text": [
      "/home/justas/anaconda2/envs/p27/lib/python2.7/site-packages/h5py/__init__.py:36: FutureWarning: Conversion of the second argument of issubdtype from `float` to `np.floating` is deprecated. In future, it will be treated as `np.float64 == np.dtype(float).type`.\n",
      "  from ._conv import register_converters as _register_converters\n"
     ]
    },
    {
     "name": "stdout",
     "output_type": "stream",
     "text": [
      "Could not load HHpyNNBackend.\n"
     ]
    }
   ],
   "source": [
    "from sciunit.suites import TestSuite\n",
    "from neuronunit.models.morphology import SwcCellModel\n",
    "from neuronunit.tests.morphology import *\n",
    "import quantities as pq"
   ]
  },
  {
   "cell_type": "code",
   "execution_count": 2,
   "metadata": {},
   "outputs": [],
   "source": [
    "model = SwcCellModel('../neuronunit/unit_test/morphology/pyramidalCell.swc')"
   ]
  },
  {
   "cell_type": "code",
   "execution_count": 3,
   "metadata": {},
   "outputs": [],
   "source": [
    "tests = [\n",
    "    SomaSurfaceAreaTest({\"mean\":0*pq.um**2, \"std\":1*pq.um**2,\"n\":1}),\n",
    "    NumberofStemsTest({\"mean\":0*pq.dimensionless, \"std\":1*pq.dimensionless,\"n\":1}),\n",
    "    NumberofBifurcationsTest({\"mean\":0*pq.dimensionless, \"std\":1*pq.dimensionless,\"n\":1}),\n",
    "    NumberofBranchesTest({\"mean\":0*pq.dimensionless, \"std\":1*pq.dimensionless,\"n\":1}),\n",
    "    OverallWidthTest({\"mean\":0*pq.um, \"std\":1*pq.um,\"n\":1}),\n",
    "    OverallHeightTest({\"mean\":0*pq.um, \"std\":1*pq.um,\"n\":1}),\n",
    "    OverallDepthTest({\"mean\":0*pq.um, \"std\":1*pq.um,\"n\":1}),\n",
    "    AverageDiameterTest({\"mean\":0*pq.um, \"std\":1*pq.um,\"n\":1}),\n",
    "    TotalLengthTest({\"mean\":0*pq.um, \"std\":1*pq.um,\"n\":1}),\n",
    "    TotalSurfaceTest({\"mean\":0*pq.um**2, \"std\":1*pq.um**2,\"n\":1}),\n",
    "    TotalVolumeTest({\"mean\":0*pq.um**3, \"std\":1*pq.um**3,\"n\":1}),\n",
    "    MaxEuclideanDistanceTest({\"mean\":0*pq.um, \"std\":1*pq.um,\"n\":1}),\n",
    "    MaxPathDistanceTest({\"mean\":0*pq.um, \"std\":1*pq.um,\"n\":1}),\n",
    "    MaxBranchOrderTest({\"mean\":0*pq.dimensionless, \"std\":1*pq.dimensionless,\"n\":1}),\n",
    "    AverageContractionTest({\"mean\":0*pq.dimensionless, \"std\":1*pq.dimensionless,\"n\":1}),\n",
    "    TotalFragmentationTest({\"mean\":0*pq.dimensionless, \"std\":1*pq.dimensionless,\"n\":1}),\n",
    "    PartitionAsymmetryTest({\"mean\":0*pq.dimensionless, \"std\":1*pq.dimensionless,\"n\":1}),\n",
    "    AverageRallsRatioTest({\"mean\":0*pq.dimensionless, \"std\":1*pq.dimensionless,\"n\":1}),\n",
    "    AverageBifurcationAngleLocalTest({\"mean\":0*pq.dimensionless, \"std\":1*pq.dimensionless,\"n\":1}),\n",
    "    AverageBifurcationAngleRemoteTest({\"mean\":0*pq.dimensionless, \"std\":1*pq.dimensionless,\"n\":1}),\n",
    "    FractalDimensionTest({\"mean\":0*pq.dimensionless, \"std\":1*pq.dimensionless,\"n\":1}),\n",
    "]\n",
    "\n",
    "suite = TestSuite(tests)"
   ]
  },
  {
   "cell_type": "code",
   "execution_count": 4,
   "metadata": {},
   "outputs": [
    {
     "data": {
      "text/html": [
       "Executing test <i>SomaSurfaceAreaTest</i> on model <i>pyramidalCell</i>... "
      ],
      "text/plain": [
       "<IPython.core.display.HTML object>"
      ]
     },
     "metadata": {},
     "output_type": "display_data"
    },
    {
     "data": {
      "text/html": [
       "Score is <a style=\"color: rgb(230,78,52)\">Z = 1739.10</a>\n"
      ],
      "text/plain": [
       "<IPython.core.display.HTML object>"
      ]
     },
     "metadata": {},
     "output_type": "display_data"
    },
    {
     "data": {
      "text/html": [
       "Executing test <i>NumberofStemsTest</i> on model <i>pyramidalCell</i>... "
      ],
      "text/plain": [
       "<IPython.core.display.HTML object>"
      ]
     },
     "metadata": {},
     "output_type": "display_data"
    },
    {
     "data": {
      "text/html": [
       "Score is <a style=\"color: rgb(230,78,52)\">Z = 10.00</a>\n"
      ],
      "text/plain": [
       "<IPython.core.display.HTML object>"
      ]
     },
     "metadata": {},
     "output_type": "display_data"
    },
    {
     "data": {
      "text/html": [
       "Executing test <i>NumberofBifurcationsTest</i> on model <i>pyramidalCell</i>... "
      ],
      "text/plain": [
       "<IPython.core.display.HTML object>"
      ]
     },
     "metadata": {},
     "output_type": "display_data"
    },
    {
     "data": {
      "text/html": [
       "Score is <a style=\"color: rgb(230,78,52)\">Z = 138.00</a>\n"
      ],
      "text/plain": [
       "<IPython.core.display.HTML object>"
      ]
     },
     "metadata": {},
     "output_type": "display_data"
    },
    {
     "data": {
      "text/html": [
       "Executing test <i>NumberofBranchesTest</i> on model <i>pyramidalCell</i>... "
      ],
      "text/plain": [
       "<IPython.core.display.HTML object>"
      ]
     },
     "metadata": {},
     "output_type": "display_data"
    },
    {
     "data": {
      "text/html": [
       "Score is <a style=\"color: rgb(230,78,52)\">Z = 286.00</a>\n"
      ],
      "text/plain": [
       "<IPython.core.display.HTML object>"
      ]
     },
     "metadata": {},
     "output_type": "display_data"
    },
    {
     "data": {
      "text/html": [
       "Executing test <i>OverallWidthTest</i> on model <i>pyramidalCell</i>... "
      ],
      "text/plain": [
       "<IPython.core.display.HTML object>"
      ]
     },
     "metadata": {},
     "output_type": "display_data"
    },
    {
     "data": {
      "text/html": [
       "Score is <a style=\"color: rgb(230,78,52)\">Z = 771.20</a>\n"
      ],
      "text/plain": [
       "<IPython.core.display.HTML object>"
      ]
     },
     "metadata": {},
     "output_type": "display_data"
    },
    {
     "data": {
      "text/html": [
       "Executing test <i>OverallHeightTest</i> on model <i>pyramidalCell</i>... "
      ],
      "text/plain": [
       "<IPython.core.display.HTML object>"
      ]
     },
     "metadata": {},
     "output_type": "display_data"
    },
    {
     "data": {
      "text/html": [
       "Score is <a style=\"color: rgb(230,78,52)\">Z = 1672.09</a>\n"
      ],
      "text/plain": [
       "<IPython.core.display.HTML object>"
      ]
     },
     "metadata": {},
     "output_type": "display_data"
    },
    {
     "data": {
      "text/html": [
       "Executing test <i>OverallDepthTest</i> on model <i>pyramidalCell</i>... "
      ],
      "text/plain": [
       "<IPython.core.display.HTML object>"
      ]
     },
     "metadata": {},
     "output_type": "display_data"
    },
    {
     "data": {
      "text/html": [
       "Score is <a style=\"color: rgb(230,78,52)\">Z = 198.75</a>\n"
      ],
      "text/plain": [
       "<IPython.core.display.HTML object>"
      ]
     },
     "metadata": {},
     "output_type": "display_data"
    },
    {
     "data": {
      "text/html": [
       "Executing test <i>AverageDiameterTest</i> on model <i>pyramidalCell</i>... "
      ],
      "text/plain": [
       "<IPython.core.display.HTML object>"
      ]
     },
     "metadata": {},
     "output_type": "display_data"
    },
    {
     "data": {
      "text/html": [
       "Score is <a style=\"color: rgb(193,229,123)\">Z = 0.38</a>\n"
      ],
      "text/plain": [
       "<IPython.core.display.HTML object>"
      ]
     },
     "metadata": {},
     "output_type": "display_data"
    },
    {
     "data": {
      "text/html": [
       "Executing test <i>TotalLengthTest</i> on model <i>pyramidalCell</i>... "
      ],
      "text/plain": [
       "<IPython.core.display.HTML object>"
      ]
     },
     "metadata": {},
     "output_type": "display_data"
    },
    {
     "data": {
      "text/html": [
       "Score is <a style=\"color: rgb(230,78,52)\">Z = 16949.90</a>\n"
      ],
      "text/plain": [
       "<IPython.core.display.HTML object>"
      ]
     },
     "metadata": {},
     "output_type": "display_data"
    },
    {
     "data": {
      "text/html": [
       "Executing test <i>TotalSurfaceTest</i> on model <i>pyramidalCell</i>... "
      ],
      "text/plain": [
       "<IPython.core.display.HTML object>"
      ]
     },
     "metadata": {},
     "output_type": "display_data"
    },
    {
     "data": {
      "text/html": [
       "Score is <a style=\"color: rgb(230,78,52)\">Z = 18620.50</a>\n"
      ],
      "text/plain": [
       "<IPython.core.display.HTML object>"
      ]
     },
     "metadata": {},
     "output_type": "display_data"
    },
    {
     "data": {
      "text/html": [
       "Executing test <i>TotalVolumeTest</i> on model <i>pyramidalCell</i>... "
      ],
      "text/plain": [
       "<IPython.core.display.HTML object>"
      ]
     },
     "metadata": {},
     "output_type": "display_data"
    },
    {
     "data": {
      "text/html": [
       "Score is <a style=\"color: rgb(230,78,52)\">Z = 3558.79</a>\n"
      ],
      "text/plain": [
       "<IPython.core.display.HTML object>"
      ]
     },
     "metadata": {},
     "output_type": "display_data"
    },
    {
     "data": {
      "text/html": [
       "Executing test <i>MaxEuclideanDistanceTest</i> on model <i>pyramidalCell</i>... "
      ],
      "text/plain": [
       "<IPython.core.display.HTML object>"
      ]
     },
     "metadata": {},
     "output_type": "display_data"
    },
    {
     "data": {
      "text/html": [
       "Score is <a style=\"color: rgb(230,78,52)\">Z = 1099.26</a>\n"
      ],
      "text/plain": [
       "<IPython.core.display.HTML object>"
      ]
     },
     "metadata": {},
     "output_type": "display_data"
    },
    {
     "data": {
      "text/html": [
       "Executing test <i>MaxPathDistanceTest</i> on model <i>pyramidalCell</i>... "
      ],
      "text/plain": [
       "<IPython.core.display.HTML object>"
      ]
     },
     "metadata": {},
     "output_type": "display_data"
    },
    {
     "data": {
      "text/html": [
       "Score is <a style=\"color: rgb(230,78,52)\">Z = 1368.54</a>\n"
      ],
      "text/plain": [
       "<IPython.core.display.HTML object>"
      ]
     },
     "metadata": {},
     "output_type": "display_data"
    },
    {
     "data": {
      "text/html": [
       "Executing test <i>MaxBranchOrderTest</i> on model <i>pyramidalCell</i>... "
      ],
      "text/plain": [
       "<IPython.core.display.HTML object>"
      ]
     },
     "metadata": {},
     "output_type": "display_data"
    },
    {
     "data": {
      "text/html": [
       "Score is <a style=\"color: rgb(230,78,52)\">Z = 23.00</a>\n"
      ],
      "text/plain": [
       "<IPython.core.display.HTML object>"
      ]
     },
     "metadata": {},
     "output_type": "display_data"
    },
    {
     "data": {
      "text/html": [
       "Executing test <i>AverageContractionTest</i> on model <i>pyramidalCell</i>... "
      ],
      "text/plain": [
       "<IPython.core.display.HTML object>"
      ]
     },
     "metadata": {},
     "output_type": "display_data"
    },
    {
     "data": {
      "text/html": [
       "Score is <a style=\"color: rgb(255,232,151)\">Z = 0.86</a>\n"
      ],
      "text/plain": [
       "<IPython.core.display.HTML object>"
      ]
     },
     "metadata": {},
     "output_type": "display_data"
    },
    {
     "data": {
      "text/html": [
       "Executing test <i>TotalFragmentationTest</i> on model <i>pyramidalCell</i>... "
      ],
      "text/plain": [
       "<IPython.core.display.HTML object>"
      ]
     },
     "metadata": {},
     "output_type": "display_data"
    },
    {
     "data": {
      "text/html": [
       "Score is <a style=\"color: rgb(230,78,52)\">Z = 4439.00</a>\n"
      ],
      "text/plain": [
       "<IPython.core.display.HTML object>"
      ]
     },
     "metadata": {},
     "output_type": "display_data"
    },
    {
     "data": {
      "text/html": [
       "Executing test <i>PartitionAsymmetryTest</i> on model <i>pyramidalCell</i>... "
      ],
      "text/plain": [
       "<IPython.core.display.HTML object>"
      ]
     },
     "metadata": {},
     "output_type": "display_data"
    },
    {
     "data": {
      "text/html": [
       "Score is <a style=\"color: rgb(225,243,149)\">Z = 0.51</a>\n"
      ],
      "text/plain": [
       "<IPython.core.display.HTML object>"
      ]
     },
     "metadata": {},
     "output_type": "display_data"
    },
    {
     "data": {
      "text/html": [
       "Executing test <i>AverageRallsRatioTest</i> on model <i>pyramidalCell</i>... "
      ],
      "text/plain": [
       "<IPython.core.display.HTML object>"
      ]
     },
     "metadata": {},
     "output_type": "display_data"
    },
    {
     "data": {
      "text/html": [
       "Score is <a style=\"color: rgb(247,124,74)\">Z = 1.60</a>\n"
      ],
      "text/plain": [
       "<IPython.core.display.HTML object>"
      ]
     },
     "metadata": {},
     "output_type": "display_data"
    },
    {
     "data": {
      "text/html": [
       "Executing test <i>AverageBifurcationAngleLocalTest</i> on model <i>pyramidalCell</i>... "
      ],
      "text/plain": [
       "<IPython.core.display.HTML object>"
      ]
     },
     "metadata": {},
     "output_type": "display_data"
    },
    {
     "data": {
      "text/html": [
       "Score is <a style=\"color: rgb(230,78,52)\">Z = 80.94</a>\n"
      ],
      "text/plain": [
       "<IPython.core.display.HTML object>"
      ]
     },
     "metadata": {},
     "output_type": "display_data"
    },
    {
     "data": {
      "text/html": [
       "Executing test <i>AverageBifurcationAngleRemoteTest</i> on model <i>pyramidalCell</i>... "
      ],
      "text/plain": [
       "<IPython.core.display.HTML object>"
      ]
     },
     "metadata": {},
     "output_type": "display_data"
    },
    {
     "data": {
      "text/html": [
       "Score is <a style=\"color: rgb(230,78,52)\">Z = 71.75</a>\n"
      ],
      "text/plain": [
       "<IPython.core.display.HTML object>"
      ]
     },
     "metadata": {},
     "output_type": "display_data"
    },
    {
     "data": {
      "text/html": [
       "Executing test <i>FractalDimensionTest</i> on model <i>pyramidalCell</i>... "
      ],
      "text/plain": [
       "<IPython.core.display.HTML object>"
      ]
     },
     "metadata": {},
     "output_type": "display_data"
    },
    {
     "data": {
      "text/html": [
       "Score is <a style=\"color: rgb(254,203,121)\">Z = 1.05</a>\n"
      ],
      "text/plain": [
       "<IPython.core.display.HTML object>"
      ]
     },
     "metadata": {},
     "output_type": "display_data"
    }
   ],
   "source": [
    "sm = suite.judge(model)"
   ]
  },
  {
   "cell_type": "code",
   "execution_count": 5,
   "metadata": {},
   "outputs": [
    {
     "data": {
      "text/html": [
       "<div>\n",
       "<table border=\"1\" class=\"dataframe\">\n",
       "  <thead>\n",
       "    <tr style=\"text-align: right;\">\n",
       "      <th></th>\n",
       "      <th>SomaSurfaceAreaTest</th>\n",
       "      <th>NumberofStemsTest</th>\n",
       "      <th>NumberofBifurcationsTest</th>\n",
       "      <th>NumberofBranchesTest</th>\n",
       "      <th>OverallWidthTest</th>\n",
       "      <th>OverallHeightTest</th>\n",
       "      <th>OverallDepthTest</th>\n",
       "      <th>AverageDiameterTest</th>\n",
       "      <th>TotalLengthTest</th>\n",
       "      <th>TotalSurfaceTest</th>\n",
       "      <th>...</th>\n",
       "      <th>MaxEuclideanDistanceTest</th>\n",
       "      <th>MaxPathDistanceTest</th>\n",
       "      <th>MaxBranchOrderTest</th>\n",
       "      <th>AverageContractionTest</th>\n",
       "      <th>TotalFragmentationTest</th>\n",
       "      <th>PartitionAsymmetryTest</th>\n",
       "      <th>AverageRallsRatioTest</th>\n",
       "      <th>AverageBifurcationAngleLocalTest</th>\n",
       "      <th>AverageBifurcationAngleRemoteTest</th>\n",
       "      <th>FractalDimensionTest</th>\n",
       "    </tr>\n",
       "  </thead>\n",
       "  <tbody>\n",
       "    <tr>\n",
       "      <th>pyramidalCell</th>\n",
       "      <td>Z = 1739.10</td>\n",
       "      <td>Z = 10.00</td>\n",
       "      <td>Z = 138.00</td>\n",
       "      <td>Z = 286.00</td>\n",
       "      <td>Z = 771.20</td>\n",
       "      <td>Z = 1672.09</td>\n",
       "      <td>Z = 198.75</td>\n",
       "      <td>Z = 0.38</td>\n",
       "      <td>Z = 16949.90</td>\n",
       "      <td>Z = 18620.50</td>\n",
       "      <td>...</td>\n",
       "      <td>Z = 1099.26</td>\n",
       "      <td>Z = 1368.54</td>\n",
       "      <td>Z = 23.00</td>\n",
       "      <td>Z = 0.86</td>\n",
       "      <td>Z = 4439.00</td>\n",
       "      <td>Z = 0.51</td>\n",
       "      <td>Z = 1.60</td>\n",
       "      <td>Z = 80.94</td>\n",
       "      <td>Z = 71.75</td>\n",
       "      <td>Z = 1.05</td>\n",
       "    </tr>\n",
       "  </tbody>\n",
       "</table>\n",
       "<p>1 rows × 21 columns</p>\n",
       "</div>"
      ],
      "text/plain": [
       "              SomaSurfaceAreaTest NumberofStemsTest NumberofBifurcationsTest  \\\n",
       "pyramidalCell         Z = 1739.10         Z = 10.00               Z = 138.00   \n",
       "\n",
       "              NumberofBranchesTest OverallWidthTest OverallHeightTest  \\\n",
       "pyramidalCell           Z = 286.00       Z = 771.20       Z = 1672.09   \n",
       "\n",
       "              OverallDepthTest AverageDiameterTest TotalLengthTest  \\\n",
       "pyramidalCell       Z = 198.75            Z = 0.38    Z = 16949.90   \n",
       "\n",
       "              TotalSurfaceTest         ...          MaxEuclideanDistanceTest  \\\n",
       "pyramidalCell     Z = 18620.50         ...                       Z = 1099.26   \n",
       "\n",
       "              MaxPathDistanceTest MaxBranchOrderTest AverageContractionTest  \\\n",
       "pyramidalCell         Z = 1368.54          Z = 23.00               Z = 0.86   \n",
       "\n",
       "              TotalFragmentationTest PartitionAsymmetryTest  \\\n",
       "pyramidalCell            Z = 4439.00               Z = 0.51   \n",
       "\n",
       "              AverageRallsRatioTest AverageBifurcationAngleLocalTest  \\\n",
       "pyramidalCell              Z = 1.60                        Z = 80.94   \n",
       "\n",
       "              AverageBifurcationAngleRemoteTest FractalDimensionTest  \n",
       "pyramidalCell                         Z = 71.75             Z = 1.05  \n",
       "\n",
       "[1 rows x 21 columns]"
      ]
     },
     "execution_count": 5,
     "metadata": {},
     "output_type": "execute_result"
    }
   ],
   "source": [
    "from pandas import DataFrame\n",
    "DataFrame(sm)"
   ]
  },
  {
   "cell_type": "code",
   "execution_count": null,
   "metadata": {},
   "outputs": [],
   "source": []
  }
 ],
 "metadata": {
  "kernelspec": {
   "display_name": "Python 2",
   "language": "python",
   "name": "python2"
  },
  "language_info": {
   "codemirror_mode": {
    "name": "ipython",
    "version": 2
   },
   "file_extension": ".py",
   "mimetype": "text/x-python",
   "name": "python",
   "nbconvert_exporter": "python",
   "pygments_lexer": "ipython2",
   "version": "2.7.14"
  }
 },
 "nbformat": 4,
 "nbformat_minor": 1
}
