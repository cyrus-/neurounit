{
 "cells": [
  {
   "cell_type": "markdown",
   "metadata": {},
   "source": [
    "# Performing Morphology Tests\n",
    "\n",
    "The examples below show how to compare values of morphology metrics to experimental values.\n",
    "\n",
    "It assumes you converted your model to an [.SWC file](http://www.neuronland.org/NLMorphologyConverter/MorphologyFormats/SWC/Spec.html). The tests use the [pyLMeasure library](https://pypi.org/project/pylmeasure/) to compute the metrics.\n",
    "\n",
    "If you have a NEURON model (.HOC or Python), see the [hoc2swc package](https://pypi.org/project/hoc2swc/) to export model morphology to .SWC."
   ]
  },
  {
   "cell_type": "markdown",
   "metadata": {},
   "source": [
    "## Imports"
   ]
  },
  {
   "cell_type": "code",
   "execution_count": 1,
   "metadata": {},
   "outputs": [
    {
     "name": "stderr",
     "output_type": "stream",
     "text": [
      "/home/justas/anaconda2/envs/p27/lib/python2.7/site-packages/h5py/__init__.py:36: FutureWarning: Conversion of the second argument of issubdtype from `float` to `np.floating` is deprecated. In future, it will be treated as `np.float64 == np.dtype(float).type`.\n",
      "  from ._conv import register_converters as _register_converters\n"
     ]
    },
    {
     "name": "stdout",
     "output_type": "stream",
     "text": [
      "Could not load HHpyNNBackend.\n"
     ]
    }
   ],
   "source": [
    "from neuronunit.models.morphology import SwcCellModel\n",
    "from neuronunit.tests.morphology import *\n",
    "\n",
    "from pandas import DataFrame\n",
    "from sciunit.suites import TestSuite\n",
    "import quantities as pq\n",
    "\n",
    "pass;"
   ]
  },
  {
   "cell_type": "markdown",
   "metadata": {},
   "source": [
    "## Create a SWC model instance\n",
    "\n",
    "Specify the path to the SWC file"
   ]
  },
  {
   "cell_type": "code",
   "execution_count": 2,
   "metadata": {},
   "outputs": [],
   "source": [
    "model = SwcCellModel('/home/justas/Repositories/OlfactoryBulb/prev-ob-models/BhallaBower1993-HOC/mit.swc')"
   ]
  },
  {
   "cell_type": "markdown",
   "metadata": {},
   "source": [
    "## Create a test with expected experimental values\n",
    "\n",
    "Specify the known mean, standard deviation, and sample size"
   ]
  },
  {
   "cell_type": "code",
   "execution_count": 3,
   "metadata": {},
   "outputs": [],
   "source": [
    "test = SomaSurfaceAreaTest({\"mean\":1650*pq.um**2, \"std\":80*pq.um**2,\"n\":26})"
   ]
  },
  {
   "cell_type": "markdown",
   "metadata": {},
   "source": [
    "## Judge the model against the expected distribution"
   ]
  },
  {
   "cell_type": "code",
   "execution_count": 4,
   "metadata": {},
   "outputs": [
    {
     "data": {
      "text/plain": [
       "Z = -0.52"
      ]
     },
     "execution_count": 4,
     "metadata": {},
     "output_type": "execute_result"
    }
   ],
   "source": [
    "score = test.judge(model)\n",
    "score"
   ]
  },
  {
   "cell_type": "markdown",
   "metadata": {},
   "source": [
    "## Build a suite of tests that can be run against one or more models"
   ]
  },
  {
   "cell_type": "code",
   "execution_count": 5,
   "metadata": {},
   "outputs": [],
   "source": [
    "# Values below are arbitrary, for demonstration purposes\n",
    "tests = [\n",
    "    test,\n",
    "    NumberofStemsTest({\"mean\":0, \"std\":1,\"n\":1}),\n",
    "    NumberofBifurcationsTest({\"mean\":0, \"std\":1,\"n\":1}),\n",
    "    NumberofBranchesTest({\"mean\":0, \"std\":1,\"n\":1}),\n",
    "    OverallWidthTest({\"mean\":0*pq.um, \"std\":1*pq.um,\"n\":1}),\n",
    "    OverallHeightTest({\"mean\":0*pq.um, \"std\":1*pq.um,\"n\":1}),\n",
    "    OverallDepthTest({\"mean\":0*pq.um, \"std\":1*pq.um,\"n\":1}),\n",
    "    AverageDiameterTest({\"mean\":0*pq.um, \"std\":1*pq.um,\"n\":1}),\n",
    "    TotalLengthTest({\"mean\":0*pq.um, \"std\":1*pq.um,\"n\":1}),\n",
    "    TotalSurfaceTest({\"mean\":0*pq.um**2, \"std\":1*pq.um**2,\"n\":1}),\n",
    "    TotalVolumeTest({\"mean\":0*pq.um**3, \"std\":1*pq.um**3,\"n\":1}),\n",
    "    MaxEuclideanDistanceTest({\"mean\":0*pq.um, \"std\":1*pq.um,\"n\":1}),\n",
    "    MaxPathDistanceTest({\"mean\":0*pq.um, \"std\":1*pq.um,\"n\":1}),\n",
    "    MaxBranchOrderTest({\"mean\":0, \"std\":1,\"n\":1}),\n",
    "    AverageContractionTest({\"mean\":0, \"std\":1,\"n\":1}),\n",
    "    PartitionAsymmetryTest({\"mean\":0, \"std\":1,\"n\":1}),\n",
    "    AverageRallsRatioTest({\"mean\":0, \"std\":1,\"n\":1}),\n",
    "    AverageBifurcationAngleLocalTest({\"mean\":0, \"std\":1,\"n\":1}),\n",
    "    AverageBifurcationAngleRemoteTest({\"mean\":0, \"std\":1,\"n\":1}),\n",
    "    FractalDimensionTest({\"mean\":0, \"std\":1,\"n\":1}),\n",
    "]\n",
    "\n",
    "suite = TestSuite(tests)"
   ]
  },
  {
   "cell_type": "code",
   "execution_count": 6,
   "metadata": {},
   "outputs": [
    {
     "data": {
      "text/html": [
       "Executing test <i>SomaSurfaceAreaTest</i> on model <i>mit</i>... "
      ],
      "text/plain": [
       "<IPython.core.display.HTML object>"
      ]
     },
     "metadata": {},
     "output_type": "execute_result"
    },
    {
     "data": {
      "text/html": [
       "Score is <a style=\"color: rgb(228,244,153)\">Z = -0.52</a>\n"
      ],
      "text/plain": [
       "<IPython.core.display.HTML object>"
      ]
     },
     "metadata": {},
     "output_type": "execute_result"
    },
    {
     "data": {
      "text/html": [
       "Executing test <i>NumberofStemsTest</i> on model <i>mit</i>... "
      ],
      "text/plain": [
       "<IPython.core.display.HTML object>"
      ]
     },
     "metadata": {},
     "output_type": "execute_result"
    },
    {
     "data": {
      "text/html": [
       "Score is <a style=\"color: rgb(230,78,52)\">Z = 3.00</a>\n"
      ],
      "text/plain": [
       "<IPython.core.display.HTML object>"
      ]
     },
     "metadata": {},
     "output_type": "execute_result"
    },
    {
     "data": {
      "text/html": [
       "Executing test <i>NumberofBifurcationsTest</i> on model <i>mit</i>... "
      ],
      "text/plain": [
       "<IPython.core.display.HTML object>"
      ]
     },
     "metadata": {},
     "output_type": "execute_result"
    },
    {
     "data": {
      "text/html": [
       "Score is <a style=\"color: rgb(230,78,52)\">Z = 65.00</a>\n"
      ],
      "text/plain": [
       "<IPython.core.display.HTML object>"
      ]
     },
     "metadata": {},
     "output_type": "execute_result"
    },
    {
     "data": {
      "text/html": [
       "Executing test <i>NumberofBranchesTest</i> on model <i>mit</i>... "
      ],
      "text/plain": [
       "<IPython.core.display.HTML object>"
      ]
     },
     "metadata": {},
     "output_type": "execute_result"
    },
    {
     "data": {
      "text/html": [
       "Score is <a style=\"color: rgb(230,78,52)\">Z = 133.00</a>\n"
      ],
      "text/plain": [
       "<IPython.core.display.HTML object>"
      ]
     },
     "metadata": {},
     "output_type": "execute_result"
    },
    {
     "data": {
      "text/html": [
       "Executing test <i>OverallWidthTest</i> on model <i>mit</i>... "
      ],
      "text/plain": [
       "<IPython.core.display.HTML object>"
      ]
     },
     "metadata": {},
     "output_type": "execute_result"
    },
    {
     "data": {
      "text/html": [
       "Score is <a style=\"color: rgb(230,78,52)\">Z = 2594.66</a>\n"
      ],
      "text/plain": [
       "<IPython.core.display.HTML object>"
      ]
     },
     "metadata": {},
     "output_type": "execute_result"
    },
    {
     "data": {
      "text/html": [
       "Executing test <i>OverallHeightTest</i> on model <i>mit</i>... "
      ],
      "text/plain": [
       "<IPython.core.display.HTML object>"
      ]
     },
     "metadata": {},
     "output_type": "execute_result"
    },
    {
     "data": {
      "text/html": [
       "Score is <a style=\"color: rgb(230,78,52)\">Z = 1140.88</a>\n"
      ],
      "text/plain": [
       "<IPython.core.display.HTML object>"
      ]
     },
     "metadata": {},
     "output_type": "execute_result"
    },
    {
     "data": {
      "text/html": [
       "Executing test <i>OverallDepthTest</i> on model <i>mit</i>... "
      ],
      "text/plain": [
       "<IPython.core.display.HTML object>"
      ]
     },
     "metadata": {},
     "output_type": "execute_result"
    },
    {
     "data": {
      "text/html": [
       "Score is <a style=\"color: rgb(230,78,52)\">Z = 2077.41</a>\n"
      ],
      "text/plain": [
       "<IPython.core.display.HTML object>"
      ]
     },
     "metadata": {},
     "output_type": "execute_result"
    },
    {
     "data": {
      "text/html": [
       "Executing test <i>AverageDiameterTest</i> on model <i>mit</i>... "
      ],
      "text/plain": [
       "<IPython.core.display.HTML object>"
      ]
     },
     "metadata": {},
     "output_type": "execute_result"
    },
    {
     "data": {
      "text/html": [
       "Score is <a style=\"color: rgb(242,104,65)\">Z = 1.87</a>\n"
      ],
      "text/plain": [
       "<IPython.core.display.HTML object>"
      ]
     },
     "metadata": {},
     "output_type": "execute_result"
    },
    {
     "data": {
      "text/html": [
       "Executing test <i>TotalLengthTest</i> on model <i>mit</i>... "
      ],
      "text/plain": [
       "<IPython.core.display.HTML object>"
      ]
     },
     "metadata": {},
     "output_type": "execute_result"
    },
    {
     "data": {
      "text/html": [
       "Score is <a style=\"color: rgb(230,78,52)\">Z = 16750.60</a>\n"
      ],
      "text/plain": [
       "<IPython.core.display.HTML object>"
      ]
     },
     "metadata": {},
     "output_type": "execute_result"
    },
    {
     "data": {
      "text/html": [
       "Executing test <i>TotalSurfaceTest</i> on model <i>mit</i>... "
      ],
      "text/plain": [
       "<IPython.core.display.HTML object>"
      ]
     },
     "metadata": {},
     "output_type": "execute_result"
    },
    {
     "data": {
      "text/html": [
       "Score is <a style=\"color: rgb(230,78,52)\">Z = 98817.70</a>\n"
      ],
      "text/plain": [
       "<IPython.core.display.HTML object>"
      ]
     },
     "metadata": {},
     "output_type": "execute_result"
    },
    {
     "data": {
      "text/html": [
       "Executing test <i>TotalVolumeTest</i> on model <i>mit</i>... "
      ],
      "text/plain": [
       "<IPython.core.display.HTML object>"
      ]
     },
     "metadata": {},
     "output_type": "execute_result"
    },
    {
     "data": {
      "text/html": [
       "Score is <a style=\"color: rgb(230,78,52)\">Z = 67812.30</a>\n"
      ],
      "text/plain": [
       "<IPython.core.display.HTML object>"
      ]
     },
     "metadata": {},
     "output_type": "execute_result"
    },
    {
     "data": {
      "text/html": [
       "Executing test <i>MaxEuclideanDistanceTest</i> on model <i>mit</i>... "
      ],
      "text/plain": [
       "<IPython.core.display.HTML object>"
      ]
     },
     "metadata": {},
     "output_type": "execute_result"
    },
    {
     "data": {
      "text/html": [
       "Score is <a style=\"color: rgb(230,78,52)\">Z = 1848.33</a>\n"
      ],
      "text/plain": [
       "<IPython.core.display.HTML object>"
      ]
     },
     "metadata": {},
     "output_type": "execute_result"
    },
    {
     "data": {
      "text/html": [
       "Executing test <i>MaxPathDistanceTest</i> on model <i>mit</i>... "
      ],
      "text/plain": [
       "<IPython.core.display.HTML object>"
      ]
     },
     "metadata": {},
     "output_type": "execute_result"
    },
    {
     "data": {
      "text/html": [
       "Score is <a style=\"color: rgb(230,78,52)\">Z = 2109.43</a>\n"
      ],
      "text/plain": [
       "<IPython.core.display.HTML object>"
      ]
     },
     "metadata": {},
     "output_type": "execute_result"
    },
    {
     "data": {
      "text/html": [
       "Executing test <i>MaxBranchOrderTest</i> on model <i>mit</i>... "
      ],
      "text/plain": [
       "<IPython.core.display.HTML object>"
      ]
     },
     "metadata": {},
     "output_type": "execute_result"
    },
    {
     "data": {
      "text/html": [
       "Score is <a style=\"color: rgb(230,78,52)\">Z = 9.00</a>\n"
      ],
      "text/plain": [
       "<IPython.core.display.HTML object>"
      ]
     },
     "metadata": {},
     "output_type": "execute_result"
    },
    {
     "data": {
      "text/html": [
       "Executing test <i>AverageContractionTest</i> on model <i>mit</i>... "
      ],
      "text/plain": [
       "<IPython.core.display.HTML object>"
      ]
     },
     "metadata": {},
     "output_type": "execute_result"
    },
    {
     "data": {
      "text/html": [
       "Score is <a style=\"color: rgb(254,215,131)\">Z = 0.98</a>\n"
      ],
      "text/plain": [
       "<IPython.core.display.HTML object>"
      ]
     },
     "metadata": {},
     "output_type": "execute_result"
    },
    {
     "data": {
      "text/html": [
       "Executing test <i>TotalFragmentationTest</i> on model <i>mit</i>... "
      ],
      "text/plain": [
       "<IPython.core.display.HTML object>"
      ]
     },
     "metadata": {},
     "output_type": "execute_result"
    },
    {
     "data": {
      "text/html": [
       "Score is <a style=\"color: rgb(230,78,52)\">Z = 340.00</a>\n"
      ],
      "text/plain": [
       "<IPython.core.display.HTML object>"
      ]
     },
     "metadata": {},
     "output_type": "execute_result"
    },
    {
     "data": {
      "text/html": [
       "Executing test <i>PartitionAsymmetryTest</i> on model <i>mit</i>... "
      ],
      "text/plain": [
       "<IPython.core.display.HTML object>"
      ]
     },
     "metadata": {},
     "output_type": "execute_result"
    },
    {
     "data": {
      "text/html": [
       "Score is <a style=\"color: rgb(255,252,186)\">Z = 0.70</a>\n"
      ],
      "text/plain": [
       "<IPython.core.display.HTML object>"
      ]
     },
     "metadata": {},
     "output_type": "execute_result"
    },
    {
     "data": {
      "text/html": [
       "Executing test <i>AverageRallsRatioTest</i> on model <i>mit</i>... "
      ],
      "text/plain": [
       "<IPython.core.display.HTML object>"
      ]
     },
     "metadata": {},
     "output_type": "execute_result"
    },
    {
     "data": {
      "text/html": [
       "Score is <a style=\"color: rgb(252,165,93)\">Z = 1.30</a>\n"
      ],
      "text/plain": [
       "<IPython.core.display.HTML object>"
      ]
     },
     "metadata": {},
     "output_type": "execute_result"
    },
    {
     "data": {
      "text/html": [
       "Executing test <i>AverageBifurcationAngleLocalTest</i> on model <i>mit</i>... "
      ],
      "text/plain": [
       "<IPython.core.display.HTML object>"
      ]
     },
     "metadata": {},
     "output_type": "execute_result"
    },
    {
     "data": {
      "text/html": [
       "Score is <a style=\"color: rgb(230,78,52)\">Z = 66.28</a>\n"
      ],
      "text/plain": [
       "<IPython.core.display.HTML object>"
      ]
     },
     "metadata": {},
     "output_type": "execute_result"
    },
    {
     "data": {
      "text/html": [
       "Executing test <i>AverageBifurcationAngleRemoteTest</i> on model <i>mit</i>... "
      ],
      "text/plain": [
       "<IPython.core.display.HTML object>"
      ]
     },
     "metadata": {},
     "output_type": "execute_result"
    },
    {
     "data": {
      "text/html": [
       "Score is <a style=\"color: rgb(230,78,52)\">Z = 77.92</a>\n"
      ],
      "text/plain": [
       "<IPython.core.display.HTML object>"
      ]
     },
     "metadata": {},
     "output_type": "execute_result"
    },
    {
     "data": {
      "text/html": [
       "Executing test <i>FractalDimensionTest</i> on model <i>mit</i>... "
      ],
      "text/plain": [
       "<IPython.core.display.HTML object>"
      ]
     },
     "metadata": {},
     "output_type": "execute_result"
    },
    {
     "data": {
      "text/html": [
       "Score is <a style=\"color: rgb(254,209,126)\">Z = 1.01</a>\n"
      ],
      "text/plain": [
       "<IPython.core.display.HTML object>"
      ]
     },
     "metadata": {},
     "output_type": "execute_result"
    }
   ],
   "source": [
    "sm = suite.judge(model)"
   ]
  },
  {
   "cell_type": "markdown",
   "metadata": {},
   "source": [
    "## View the test suite results in a table"
   ]
  },
  {
   "cell_type": "code",
   "execution_count": 7,
   "metadata": {},
   "outputs": [
    {
     "data": {
      "text/html": [
       "<div>\n",
       "<table border=\"1\" class=\"dataframe\">\n",
       "  <thead>\n",
       "    <tr style=\"text-align: right;\">\n",
       "      <th></th>\n",
       "      <th>SomaSurfaceAreaTest</th>\n",
       "      <th>NumberofStemsTest</th>\n",
       "      <th>NumberofBifurcationsTest</th>\n",
       "      <th>NumberofBranchesTest</th>\n",
       "      <th>OverallWidthTest</th>\n",
       "      <th>OverallHeightTest</th>\n",
       "      <th>OverallDepthTest</th>\n",
       "      <th>AverageDiameterTest</th>\n",
       "      <th>TotalLengthTest</th>\n",
       "      <th>TotalSurfaceTest</th>\n",
       "      <th>...</th>\n",
       "      <th>MaxEuclideanDistanceTest</th>\n",
       "      <th>MaxPathDistanceTest</th>\n",
       "      <th>MaxBranchOrderTest</th>\n",
       "      <th>AverageContractionTest</th>\n",
       "      <th>TotalFragmentationTest</th>\n",
       "      <th>PartitionAsymmetryTest</th>\n",
       "      <th>AverageRallsRatioTest</th>\n",
       "      <th>AverageBifurcationAngleLocalTest</th>\n",
       "      <th>AverageBifurcationAngleRemoteTest</th>\n",
       "      <th>FractalDimensionTest</th>\n",
       "    </tr>\n",
       "  </thead>\n",
       "  <tbody>\n",
       "    <tr>\n",
       "      <th>mit</th>\n",
       "      <td>Z = -0.52</td>\n",
       "      <td>Z = 3.00</td>\n",
       "      <td>Z = 65.00</td>\n",
       "      <td>Z = 133.00</td>\n",
       "      <td>Z = 2594.66</td>\n",
       "      <td>Z = 1140.88</td>\n",
       "      <td>Z = 2077.41</td>\n",
       "      <td>Z = 1.87</td>\n",
       "      <td>Z = 16750.60</td>\n",
       "      <td>Z = 98817.70</td>\n",
       "      <td>...</td>\n",
       "      <td>Z = 1848.33</td>\n",
       "      <td>Z = 2109.43</td>\n",
       "      <td>Z = 9.00</td>\n",
       "      <td>Z = 0.98</td>\n",
       "      <td>Z = 340.00</td>\n",
       "      <td>Z = 0.70</td>\n",
       "      <td>Z = 1.30</td>\n",
       "      <td>Z = 66.28</td>\n",
       "      <td>Z = 77.92</td>\n",
       "      <td>Z = 1.01</td>\n",
       "    </tr>\n",
       "  </tbody>\n",
       "</table>\n",
       "<p>1 rows × 21 columns</p>\n",
       "</div>"
      ],
      "text/plain": [
       "    SomaSurfaceAreaTest NumberofStemsTest NumberofBifurcationsTest  \\\n",
       "mit           Z = -0.52          Z = 3.00                Z = 65.00   \n",
       "\n",
       "    NumberofBranchesTest OverallWidthTest OverallHeightTest OverallDepthTest  \\\n",
       "mit           Z = 133.00      Z = 2594.66       Z = 1140.88      Z = 2077.41   \n",
       "\n",
       "    AverageDiameterTest TotalLengthTest TotalSurfaceTest         ...           \\\n",
       "mit            Z = 1.87    Z = 16750.60     Z = 98817.70         ...            \n",
       "\n",
       "    MaxEuclideanDistanceTest MaxPathDistanceTest MaxBranchOrderTest  \\\n",
       "mit              Z = 1848.33         Z = 2109.43           Z = 9.00   \n",
       "\n",
       "    AverageContractionTest TotalFragmentationTest PartitionAsymmetryTest  \\\n",
       "mit               Z = 0.98             Z = 340.00               Z = 0.70   \n",
       "\n",
       "    AverageRallsRatioTest AverageBifurcationAngleLocalTest  \\\n",
       "mit              Z = 1.30                        Z = 66.28   \n",
       "\n",
       "    AverageBifurcationAngleRemoteTest FractalDimensionTest  \n",
       "mit                         Z = 77.92             Z = 1.01  \n",
       "\n",
       "[1 rows x 21 columns]"
      ]
     },
     "execution_count": 7,
     "metadata": {},
     "output_type": "execute_result"
    }
   ],
   "source": [
    "DataFrame(sm)"
   ]
  }
 ],
 "metadata": {
  "kernelspec": {
   "display_name": "Python 2",
   "language": "python",
   "name": "python2"
  },
  "language_info": {
   "codemirror_mode": {
    "name": "ipython",
    "version": 2.0
   },
   "file_extension": ".py",
   "mimetype": "text/x-python",
   "name": "python",
   "nbconvert_exporter": "python",
   "pygments_lexer": "ipython2",
   "version": "2.7.14"
  }
 },
 "nbformat": 4,
 "nbformat_minor": 0
}