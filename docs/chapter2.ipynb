{
 "cells": [
  {
   "cell_type": "markdown",
   "metadata": {},
   "source": [
    "![NeuronUnit Logo](https://raw.githubusercontent.com/scidash/assets/master/logos/neuronunit.png)\n",
    "# Chapter 2\n",
    "Back to [Chapter 1](chapter1.ipynb)"
   ]
  },
  {
   "cell_type": "markdown",
   "metadata": {},
   "source": [
    "In the first chapter we used a dummy model and simple test to illustrate some basic concepts.  Here we'll use NeuronUnit in a more interesting way: let's validate a real ion channel model's IV (current vs voltage) curve against data from a published experiment."
   ]
  },
  {
   "cell_type": "code",
   "execution_count": 1,
   "metadata": {
    "collapsed": false
   },
   "outputs": [],
   "source": [
    "import os\n",
    "import sys\n",
    "sys.path.insert(1,'/Users/rgerkin/Dropbox/dev/ChannelWorm')\n",
    "import channelworm # ChannelWorm is available at http://github.com/openworm/channelworm\n",
    "channelworm.django_setup() # Adds all channelworm subdirectories to the path, including ion_channel.  \n",
    "from ion_channel.models import GraphData # A class to retrieve digitized data from figures.  \n",
    "from neuronunit.tests.channel import IVCurvePeakTest # A test for the current-voltage relationship \n",
    "                                                     # of a neuron or ion channel.\n",
    "from neuronunit.models.channel import ChannelModel # A SciUnit model class that wraps NeuroML ion channel models.  "
   ]
  },
  {
   "cell_type": "markdown",
   "metadata": {},
   "source": [
    "### Now let's instantite the ion channel `model`.  \n",
    "It will be one from a calcium channel whose subunit is thought to be encoded by the EGL-19 gene in C. elegans."
   ]
  },
  {
   "cell_type": "code",
   "execution_count": 2,
   "metadata": {
    "collapsed": false
   },
   "outputs": [],
   "source": [
    "channel_model_name = 'EGL-19.channel' # Name of a NeuroML channel model (corresponds to the name of a NeuroML file).\n",
    "channel_id = 'ca_boyle' # Identifier for the channel in that NeuroML file.\n",
    "channel_dir_path = '/Users/rgerkin/Dropbox/dev/ChannelWorm/models' # Location of NeuroML channel files.  \n",
    "channel_file_path = os.path.join(channel_dir_path, '%s.nml' % channel_model_name) # Location of the current file.  \n",
    "model = ChannelModel(channel_file_path, channel_index=0, name=channel_model_name) # Instantiate the model.  \n",
    "                                                                    # channel_index=0 in most cases, unless there\n",
    "                                                                    # are multiple channels of the same type\n",
    "                                                                    # in the model file.  "
   ]
  },
  {
   "cell_type": "markdown",
   "metadata": {},
   "source": [
    "`ChannelModel` is a NeuronUnit `model` class that wraps an ion channel model expressed using [NeuroML](http://neuroml.org) and simulates its dynamics using [jNeuroML](https://github.com/NeuroML/jNeuroML).  **You should install both.**\n",
    "### As before, all of the interaction with the model is done through its capabilities.  \n",
    "In this case, those capabilities are inherited in the `ChannelModel` class definition, and implemented in the methods of that class as defined in `neuronunit.models`.  \n",
    "\n",
    "Now we get an observation of real ion channel behavior to use for our test:"
   ]
  },
  {
   "cell_type": "code",
   "execution_count": 3,
   "metadata": {
    "collapsed": false
   },
   "outputs": [],
   "source": [
    "import quantities as pq\n",
    "\n",
    "doi = '10.1083/jcb.200203055' # A Digital Object Identifier for (in this case) a journal article.  \n",
    "fig = '2B' # A reference to a figure in that article.  \n",
    "sample_data = GraphData.objects.get(graph__experiment__reference__doi=doi, \n",
    "                                    graph__figure_ref_address=fig) # If that figure has been digitized by the \n",
    "                                                                   # ChannelWorm team, we load its data here.  \n",
    "voltage, current_per_farad = sample_data.asunitedarray() # Extract the voltage and current with units.  \n",
    "patch_capacitance = pq.Quantity(1e-13,'F') # Assume recorded patch had this capacitance; \n",
    "                                           # an arbitrary scaling factor.  \n",
    "current = current_per_farad * patch_capacitance # Convert from current per unit capacitance into current.  \n",
    "observation = {'v':voltage, \n",
    "               'i':current} # Construct the observation as required by the test.  "
   ]
  },
  {
   "cell_type": "markdown",
   "metadata": {},
   "source": [
    "Now that we have an observation, we can instantiate our test.  \n",
    "### How did we know the observation needs the form above?  \n",
    "It is stated in the tests's docstring, or can be inferred from its optional validate_observation method:\n",
    "```python\n",
    "class IVCurveTest(sciunit.Test):\n",
    "    ...\n",
    "    def validate_observation(self, observation):\n",
    "            assert type(observation) is dict\n",
    "            for item in ['v', 'i']:\n",
    "                assert item in observation\n",
    "                assert type(observation[item]) in [list,tuple] \\\n",
    "                    or isinstance(observation[item],np.ndarray)\n",
    "    ...\n",
    "```"
   ]
  },
  {
   "cell_type": "code",
   "execution_count": 4,
   "metadata": {
    "collapsed": false
   },
   "outputs": [],
   "source": [
    "test = IVCurvePeakTest(observation)"
   ]
  },
  {
   "cell_type": "markdown",
   "metadata": {},
   "source": [
    "### With the test instantiated, we can now judge the model:"
   ]
  },
  {
   "cell_type": "code",
   "execution_count": 5,
   "metadata": {
    "collapsed": false
   },
   "outputs": [],
   "source": [
    "# Judge the model output against the experimental data\n",
    "score = test.judge(model)"
   ]
  },
  {
   "cell_type": "markdown",
   "metadata": {},
   "source": [
    "### A `score` object isn't just a number.###\n",
    "It is also bound to data that allow us to visualize the test result and how the score was reached:"
   ]
  },
  {
   "cell_type": "code",
   "execution_count": 6,
   "metadata": {
    "collapsed": false
   },
   "outputs": [
    {
     "data": {
      "image/png": "[encoded data removed]",
      "text/plain": [
       "<matplotlib.figure.Figure at 0x10d46eba8>"
      ]
     },
     "metadata": {},
     "output_type": "display_data"
    }
   ],
   "source": [
    "%matplotlib inline\n",
    "rd = score.related_data\n",
    "score.plot(rd['v'],rd['i_obs'],color='k',label='Observed (data)')\n",
    "score.plot(rd['v'],rd['i_pred'],same_fig=True,color='r',label='Predicted (model)')"
   ]
  },
  {
   "cell_type": "markdown",
   "metadata": {},
   "source": [
    "And we can still get basic information about our score:"
   ]
  },
  {
   "cell_type": "code",
   "execution_count": 7,
   "metadata": {
    "collapsed": false
   },
   "outputs": [
    {
     "name": "stdout",
     "output_type": "stream",
     "text": [
      "The sum-squared difference in the observed and predicted current values over the range of the tested holding potentials.\n"
     ]
    }
   ],
   "source": [
    "score.describe()"
   ]
  },
  {
   "cell_type": "code",
   "execution_count": 8,
   "metadata": {
    "collapsed": false
   },
   "outputs": [
    {
     "name": "stdout",
     "output_type": "stream",
     "text": [
      "=== Model EGL-19.channel (ChannelModel) achieved score Pass on test 'IV Curve Test (IVCurvePeakTest)'. ===\n"
     ]
    }
   ],
   "source": [
    "score.summarize() "
   ]
  },
  {
   "cell_type": "markdown",
   "metadata": {},
   "source": [
    "Really, that's a pass?  Those curves don't look too similar.  What was the criterion for passing?"
   ]
  },
  {
   "cell_type": "code",
   "execution_count": 9,
   "metadata": {
    "collapsed": false
   },
   "outputs": [
    {
     "data": {
      "text/plain": [
       "'Converts a score to pass if its value is at most 100 pA**2, otherwise False.'"
      ]
     },
     "execution_count": 9,
     "metadata": {},
     "output_type": "execute_result"
    }
   ],
   "source": [
    "score.test.converter.description"
   ]
  },
  {
   "cell_type": "markdown",
   "metadata": {},
   "source": [
    "### Let's change the threshold for a passing score:"
   ]
  },
  {
   "cell_type": "code",
   "execution_count": 10,
   "metadata": {
    "collapsed": false
   },
   "outputs": [],
   "source": [
    "score.test.converter.cutoff = pq.Quantity(0.01,'pA**2')\n",
    "score = test.converter.convert(score)"
   ]
  },
  {
   "cell_type": "markdown",
   "metadata": {},
   "source": [
    "Now the score is changed to reflect the new cutoff.  "
   ]
  },
  {
   "cell_type": "code",
   "execution_count": 11,
   "metadata": {
    "collapsed": false
   },
   "outputs": [
    {
     "name": "stdout",
     "output_type": "stream",
     "text": [
      "=== Model EGL-19.channel (ChannelModel) achieved score Fail on test 'IV Curve Test (IVCurvePeakTest)'. ===\n"
     ]
    }
   ],
   "source": [
    "score.summarize() "
   ]
  },
  {
   "cell_type": "markdown",
   "metadata": {},
   "source": [
    "### On to [Chapter 3](chapter3.ipynb)!"
   ]
  }
 ],
 "metadata": {
  "kernelspec": {
   "display_name": "Python 3",
   "language": "python",
   "name": "python3"
  },
  "language_info": {
   "codemirror_mode": {
    "name": "ipython",
    "version": 3
   },
   "file_extension": ".py",
   "mimetype": "text/x-python",
   "name": "python",
   "nbconvert_exporter": "python",
   "pygments_lexer": "ipython3",
   "version": "3.4.1"
  }
 },
 "nbformat": 4,
 "nbformat_minor": 0
}
