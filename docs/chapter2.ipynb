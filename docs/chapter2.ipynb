{
 "cells": [
  {
   "cell_type": "markdown",
   "metadata": {},
   "source": [
    "![NeuronUnit Logo](https://raw.githubusercontent.com/scidash/assets/master/logos/neuronunit-logo-text.png)\n",
    "# Chapter 2\n",
    "Back to [Chapter 1](chapter1.ipynb)"
   ]
  },
  {
   "cell_type": "markdown",
   "metadata": {},
   "source": [
    "In the second chapter we tested a real ion channel model using data from the [OpenWorm](http://openworm.org) project.  Here we'll test a reduced neuron model using data from the [NeuroElectro](http://neuroelectro.org) project and from the [Allen Brain Institute Cell Types](http://celltypes.brain-map.org) database.  \n",
    "### We'll test an Izhikevich model against data from a Layer V pyramidal cell in primary visual cortex"
   ]
  },
  {
   "cell_type": "code",
   "execution_count": 1,
   "metadata": {},
   "outputs": [],
   "source": [
    "%matplotlib inline\n",
    "import os, sys\n",
    "import numpy as np\n",
    "import matplotlib.pyplot as plt\n",
    "import matplotlib as mpl\n",
    "mpl.rcParams['font.size'] = 18\n",
    "import quantities as pq\n",
    "import sciunit\n",
    "import neuronunit\n",
    "from neuronunit import aibs\n",
    "from neuronunit.models.reduced import ReducedModel"
   ]
  },
  {
   "cell_type": "code",
   "execution_count": 2,
   "metadata": {},
   "outputs": [
    {
     "name": "stdout",
     "output_type": "stream",
     "text": [
      "Getting Rheobase cached data value for from AIBS dataset 354190013\n",
      "Getting Input Resistance data values from neuroelectro.org\n",
      "http://neuroelectro.org/api/1/nes/?nlex=nifext_50&e__name=Input+Resistance\n",
      "Getting Membrane Time Constant data values from neuroelectro.org\n",
      "http://neuroelectro.org/api/1/nes/?nlex=nifext_50&e__name=Membrane+Time+Constant\n",
      "Getting Cell Capacitance data values from neuroelectro.org\n",
      "http://neuroelectro.org/api/1/nes/?nlex=nifext_50&e__name=Cell+Capacitance\n",
      "Getting Resting membrane potential data values from neuroelectro.org\n",
      "http://neuroelectro.org/api/1/nes/?nlex=nifext_50&e__name=Resting+membrane+potential\n",
      "Getting Spike Half-Width data values from neuroelectro.org\n",
      "http://neuroelectro.org/api/1/nes/?nlex=nifext_50&e__name=Spike+Half-Width\n",
      "Getting Spike Amplitude data values from neuroelectro.org\n",
      "http://neuroelectro.org/api/1/nes/?nlex=nifext_50&e__name=Spike+Amplitude\n",
      "Getting Spike Threshold data values from neuroelectro.org\n",
      "http://neuroelectro.org/api/1/nes/?nlex=nifext_50&e__name=Spike+Threshold\n"
     ]
    }
   ],
   "source": [
    "import quantities as pq\n",
    "from neuronunit import tests as nu_tests, neuroelectro\n",
    "neuron = {'nlex_id': 'nifext_50'} # Layer V pyramidal cell\n",
    "tests = []\n",
    "\n",
    "dataset_id = 354190013  # Internal ID that AIBS uses for a particular Scnn1a-Tg2-Cre \n",
    "                        # Primary visual area, layer 5 neuron.\n",
    "    \n",
    "# Obtain the empirical rheobase current from the Allen Brain Insitute Cell Types database.  \n",
    "observation = aibs.get_observation(dataset_id, 'rheobase')\n",
    "rheobase_test = nu_tests.RheobaseTest(observation=observation)\n",
    "tests += [rheobase_test]\n",
    "    \n",
    "test_class_params = [(nu_tests.InputResistanceTest, {}),\n",
    "                     (nu_tests.TimeConstantTest, {}),\n",
    "                     (nu_tests.CapacitanceTest, {}),\n",
    "                     (nu_tests.RestingPotentialTest, {}),\n",
    "                     (nu_tests.InjectedCurrentAPWidthTest, {}),\n",
    "                     (nu_tests.InjectedCurrentAPAmplitudeTest, {}),\n",
    "                     (nu_tests.InjectedCurrentAPThresholdTest, {})\n",
    "                    ]\n",
    "\n",
    "# Obtain all other parameters from neuroelectro.org.\n",
    "for cls, params in test_class_params:\n",
    "    observation = cls.neuroelectro_summary_observation(neuron)\n",
    "    tests += [cls(observation, **params)]\n",
    "    \n",
    "# A hook to update all tests after the RheobaseTest to use the rheobase current (to produce exactly one AP)\n",
    "def update_amplitude(test,tests,score):\n",
    "    rheobase = score.prediction['value']\n",
    "    for test in tests[1:]:\n",
    "        if 'Injected' in test.name:\n",
    "            # Set current injection to just suprathreshold\n",
    "            test.params['injected_square_current']['amplitude'] = rheobase*1.01 \n",
    "    \n",
    "hooks = {tests[0]: {'f': update_amplitude}}\n",
    "suite = sciunit.TestSuite(tests,name=\"vm_suite\", hooks=hooks)"
   ]
  },
  {
   "cell_type": "markdown",
   "metadata": {},
   "source": [
    "### The Izhikevich model here is defined in an NeuroML2/LEMS file.  \n",
    "### We will run it using the jNeuroML backend for simplicity, although this is *much* slower than the native NEURON backend.  "
   ]
  },
  {
   "cell_type": "code",
   "execution_count": 3,
   "metadata": {},
   "outputs": [],
   "source": [
    "# This example is from https://github.com/OpenSourceBrain/IzhikevichModel.\n",
    "from pathlib import Path\n",
    "LEMS_MODEL_PATH = Path(neuronunit.__path__[0]).parent / 'docs' / 'data' / 'NeuroML2' / 'LEMS_2007One.xml'\n",
    "model = ReducedModel(LEMS_MODEL_PATH, name='Vanilla_Model', backend='jNeuroML')"
   ]
  },
  {
   "cell_type": "markdown",
   "metadata": {},
   "source": [
    "### Run a series of tests.  The RheobaseTest is run first to obtain the rheobase current to use in all the other tests."
   ]
  },
  {
   "cell_type": "code",
   "execution_count": 4,
   "metadata": {},
   "outputs": [
    {
     "name": "stdout",
     "output_type": "stream",
     "text": [
      "\u001b[38;2;197;231;126m\u001b[48;2;50;50;50mScore: Ratio = 0.41 for Vanilla_Model on RheobaseTest\u001b[49m\u001b[39m\n",
      "\u001b[38;2;229;244;155m\u001b[48;2;50;50;50mScore: Z = -0.53 for Vanilla_Model on InputResistanceTest\u001b[49m\u001b[39m\n",
      "\u001b[38;2;255;238;162m\u001b[48;2;50;50;50mScore: Z = -0.81 for Vanilla_Model on TimeConstantTest\u001b[49m\u001b[39m\n",
      "\u001b[38;2;137;205;103m\u001b[48;2;50;50;50mScore: Z = -0.19 for Vanilla_Model on CapacitanceTest\u001b[49m\u001b[39m\n",
      "\u001b[38;2;253;170;95m\u001b[48;2;50;50;50mScore: Z = 1.26 for Vanilla_Model on RestingPotentialTest\u001b[49m\u001b[39m\n",
      "\u001b[38;2;246;251;178m\u001b[48;2;50;50;50mScore: Z = -0.62 for Vanilla_Model on InjectedCurrentAPWidthTest\u001b[49m\u001b[39m\n",
      "\u001b[38;2;245;114;69m\u001b[48;2;50;50;50mScore: Z = -1.72 for Vanilla_Model on InjectedCurrentAPAmplitudeTest\u001b[49m\u001b[39m\n",
      "\u001b[38;2;233;85;56m\u001b[48;2;50;50;50mScore: Z = 2.39 for Vanilla_Model on InjectedCurrentAPThresholdTest\u001b[49m\u001b[39m\n"
     ]
    }
   ],
   "source": [
    "score_matrix = suite.judge(model)"
   ]
  },
  {
   "cell_type": "code",
   "execution_count": 5,
   "metadata": {},
   "outputs": [
    {
     "data": {
      "text/html": [
       "<style  type=\"text/css\" >\n",
       "#T_efda27c8_acd3_11eb_b4b3_ac1f6b647d9arow0_col0{\n",
       "            background-color:  rgb(50, 50, 50);\n",
       "             color:  rgb(255, 239, 164);\n",
       "             text-align:  center;\n",
       "        }#T_efda27c8_acd3_11eb_b4b3_ac1f6b647d9arow1_col0{\n",
       "            background-color:  rgb(50, 50, 50);\n",
       "             color:  rgb(197, 231, 126);\n",
       "             text-align:  center;\n",
       "        }#T_efda27c8_acd3_11eb_b4b3_ac1f6b647d9arow2_col0{\n",
       "            background-color:  rgb(50, 50, 50);\n",
       "             color:  rgb(229, 244, 155);\n",
       "             text-align:  center;\n",
       "        }#T_efda27c8_acd3_11eb_b4b3_ac1f6b647d9arow3_col0{\n",
       "            background-color:  rgb(50, 50, 50);\n",
       "             color:  rgb(255, 238, 162);\n",
       "             text-align:  center;\n",
       "        }#T_efda27c8_acd3_11eb_b4b3_ac1f6b647d9arow4_col0{\n",
       "            background-color:  rgb(50, 50, 50);\n",
       "             color:  rgb(137, 205, 103);\n",
       "             text-align:  center;\n",
       "        }#T_efda27c8_acd3_11eb_b4b3_ac1f6b647d9arow5_col0{\n",
       "            background-color:  rgb(50, 50, 50);\n",
       "             color:  rgb(253, 170, 95);\n",
       "             text-align:  center;\n",
       "        }#T_efda27c8_acd3_11eb_b4b3_ac1f6b647d9arow6_col0{\n",
       "            background-color:  rgb(50, 50, 50);\n",
       "             color:  rgb(246, 251, 178);\n",
       "             text-align:  center;\n",
       "        }#T_efda27c8_acd3_11eb_b4b3_ac1f6b647d9arow7_col0{\n",
       "            background-color:  rgb(50, 50, 50);\n",
       "             color:  rgb(245, 114, 69);\n",
       "             text-align:  center;\n",
       "        }#T_efda27c8_acd3_11eb_b4b3_ac1f6b647d9arow8_col0{\n",
       "            background-color:  rgb(50, 50, 50);\n",
       "             color:  rgb(233, 85, 56);\n",
       "             text-align:  center;\n",
       "        }</style><table id=\"T_efda27c8_acd3_11eb_b4b3_ac1f6b647d9a\" ><thead>    <tr>        <th class=\"blank level0\" ></th>        <th class=\"col_heading level0 col0\" >Vanilla_Model</th>    </tr></thead><tbody>\n",
       "                <tr>\n",
       "                        <th id=\"T_efda27c8_acd3_11eb_b4b3_ac1f6b647d9alevel0_row0\" class=\"row_heading level0 row0\" >Mean</th>\n",
       "                        <td id=\"T_efda27c8_acd3_11eb_b4b3_ac1f6b647d9arow0_col0\" class=\"data row0 col0\" >0.426</td>\n",
       "            </tr>\n",
       "            <tr>\n",
       "                        <th id=\"T_efda27c8_acd3_11eb_b4b3_ac1f6b647d9alevel0_row1\" class=\"row_heading level0 row1\" >RheobaseTest</th>\n",
       "                        <td id=\"T_efda27c8_acd3_11eb_b4b3_ac1f6b647d9arow1_col0\" class=\"data row1 col0\" >Ratio = 0.41</td>\n",
       "            </tr>\n",
       "            <tr>\n",
       "                        <th id=\"T_efda27c8_acd3_11eb_b4b3_ac1f6b647d9alevel0_row2\" class=\"row_heading level0 row2\" >InputResistanceTest</th>\n",
       "                        <td id=\"T_efda27c8_acd3_11eb_b4b3_ac1f6b647d9arow2_col0\" class=\"data row2 col0\" >Z = -0.53</td>\n",
       "            </tr>\n",
       "            <tr>\n",
       "                        <th id=\"T_efda27c8_acd3_11eb_b4b3_ac1f6b647d9alevel0_row3\" class=\"row_heading level0 row3\" >TimeConstantTest</th>\n",
       "                        <td id=\"T_efda27c8_acd3_11eb_b4b3_ac1f6b647d9arow3_col0\" class=\"data row3 col0\" >Z = -0.81</td>\n",
       "            </tr>\n",
       "            <tr>\n",
       "                        <th id=\"T_efda27c8_acd3_11eb_b4b3_ac1f6b647d9alevel0_row4\" class=\"row_heading level0 row4\" >CapacitanceTest</th>\n",
       "                        <td id=\"T_efda27c8_acd3_11eb_b4b3_ac1f6b647d9arow4_col0\" class=\"data row4 col0\" >Z = -0.19</td>\n",
       "            </tr>\n",
       "            <tr>\n",
       "                        <th id=\"T_efda27c8_acd3_11eb_b4b3_ac1f6b647d9alevel0_row5\" class=\"row_heading level0 row5\" >RestingPotentialTest</th>\n",
       "                        <td id=\"T_efda27c8_acd3_11eb_b4b3_ac1f6b647d9arow5_col0\" class=\"data row5 col0\" >Z = 1.26</td>\n",
       "            </tr>\n",
       "            <tr>\n",
       "                        <th id=\"T_efda27c8_acd3_11eb_b4b3_ac1f6b647d9alevel0_row6\" class=\"row_heading level0 row6\" >InjectedCurrentAPWidthTest</th>\n",
       "                        <td id=\"T_efda27c8_acd3_11eb_b4b3_ac1f6b647d9arow6_col0\" class=\"data row6 col0\" >Z = -0.62</td>\n",
       "            </tr>\n",
       "            <tr>\n",
       "                        <th id=\"T_efda27c8_acd3_11eb_b4b3_ac1f6b647d9alevel0_row7\" class=\"row_heading level0 row7\" >InjectedCurrentAPAmplitudeTest</th>\n",
       "                        <td id=\"T_efda27c8_acd3_11eb_b4b3_ac1f6b647d9arow7_col0\" class=\"data row7 col0\" >Z = -1.72</td>\n",
       "            </tr>\n",
       "            <tr>\n",
       "                        <th id=\"T_efda27c8_acd3_11eb_b4b3_ac1f6b647d9alevel0_row8\" class=\"row_heading level0 row8\" >InjectedCurrentAPThresholdTest</th>\n",
       "                        <td id=\"T_efda27c8_acd3_11eb_b4b3_ac1f6b647d9arow8_col0\" class=\"data row8 col0\" >Z = 2.39</td>\n",
       "            </tr>\n",
       "    </tbody></table>"
      ],
      "text/plain": [
       "                               Vanilla_Model\n",
       "Mean                                   0.426\n",
       "RheobaseTest                    Ratio = 0.41\n",
       "InputResistanceTest                Z = -0.53\n",
       "TimeConstantTest                   Z = -0.81\n",
       "CapacitanceTest                    Z = -0.19\n",
       "RestingPotentialTest                Z = 1.26\n",
       "InjectedCurrentAPWidthTest         Z = -0.62\n",
       "InjectedCurrentAPAmplitudeTest     Z = -1.72\n",
       "InjectedCurrentAPThresholdTest      Z = 2.39"
      ]
     },
     "execution_count": 5,
     "metadata": {},
     "output_type": "execute_result"
    }
   ],
   "source": [
    "score_matrix.add_mean().T"
   ]
  },
  {
   "cell_type": "markdown",
   "metadata": {},
   "source": [
    "### Now we can sweep across a parameter (the resting potential) and run the same test suite on a model corresponding to each value of this parameter."
   ]
  },
  {
   "cell_type": "code",
   "execution_count": 6,
   "metadata": {},
   "outputs": [
    {
     "data": {
      "text/plain": [
       "[V_rest=-80mV (ReducedModel),\n",
       " V_rest=-70mV (ReducedModel),\n",
       " V_rest=-60mV (ReducedModel),\n",
       " V_rest=-50mV (ReducedModel)]"
      ]
     },
     "execution_count": 6,
     "metadata": {},
     "output_type": "execute_result"
    }
   ],
   "source": [
    "models = []\n",
    "for vr in np.linspace(-80, -50, 4):\n",
    "    model = ReducedModel(LEMS_MODEL_PATH, \n",
    "                         name='V_rest=%dmV' % vr, \n",
    "                         attrs={'//izhikevich2007Cell':\n",
    "                                    {'vr':'%d mV' % vr}\n",
    "                               })\n",
    "    models.append(model)\n",
    "models"
   ]
  },
  {
   "cell_type": "code",
   "execution_count": 7,
   "metadata": {},
   "outputs": [
    {
     "name": "stdout",
     "output_type": "stream",
     "text": [
      "\u001b[38;2;165;217;106m\u001b[48;2;50;50;50mScore: Ratio = 1.87 for V_rest=-80mV on RheobaseTest\u001b[49m\u001b[39m\n",
      "\u001b[38;2;254;203;121m\u001b[48;2;50;50;50mScore: Z = -1.04 for V_rest=-80mV on InputResistanceTest\u001b[49m\u001b[39m\n",
      "\u001b[38;2;248;137;80m\u001b[48;2;50;50;50mScore: Z = -1.50 for V_rest=-80mV on TimeConstantTest\u001b[49m\u001b[39m\n",
      "\u001b[38;2;147;209;104m\u001b[48;2;50;50;50mScore: Z = -0.22 for V_rest=-80mV on CapacitanceTest\u001b[49m\u001b[39m\n",
      "\u001b[38;2;243;107;66m\u001b[48;2;50;50;50mScore: Z = -1.80 for V_rest=-80mV on RestingPotentialTest\u001b[49m\u001b[39m\n",
      "\u001b[38;2;255;239;164m\u001b[48;2;50;50;50mScore: Z = -0.80 for V_rest=-80mV on InjectedCurrentAPWidthTest\u001b[49m\u001b[39m\n",
      "\u001b[38;2;254;175;98m\u001b[48;2;50;50;50mScore: Z = -1.22 for V_rest=-80mV on InjectedCurrentAPAmplitudeTest\u001b[49m\u001b[39m\n",
      "\u001b[38;2;247;124;74m\u001b[48;2;50;50;50mScore: Z = 1.59 for V_rest=-80mV on InjectedCurrentAPThresholdTest\u001b[49m\u001b[39m\n",
      "\u001b[38;2;63;170;89m\u001b[48;2;50;50;50mScore: Ratio = 1.01 for V_rest=-70mV on RheobaseTest\u001b[49m\u001b[39m\n",
      "\u001b[38;2;255;230;149m\u001b[48;2;50;50;50mScore: Z = -0.87 for V_rest=-70mV on InputResistanceTest\u001b[49m\u001b[39m\n",
      "\u001b[38;2;253;168;94m\u001b[48;2;50;50;50mScore: Z = -1.27 for V_rest=-70mV on TimeConstantTest\u001b[49m\u001b[39m\n",
      "\u001b[38;2;145;208;104m\u001b[48;2;50;50;50mScore: Z = -0.22 for V_rest=-70mV on CapacitanceTest\u001b[49m\u001b[39m\n",
      "\u001b[38;2;165;217;106m\u001b[48;2;50;50;50mScore: Z = -0.27 for V_rest=-70mV on RestingPotentialTest\u001b[49m\u001b[39m\n",
      "\u001b[38;2;255;251;184m\u001b[48;2;50;50;50mScore: Z = -0.71 for V_rest=-70mV on InjectedCurrentAPWidthTest\u001b[49m\u001b[39m\n",
      "\u001b[38;2;249;142;82m\u001b[48;2;50;50;50mScore: Z = -1.46 for V_rest=-70mV on InjectedCurrentAPAmplitudeTest\u001b[49m\u001b[39m\n",
      "\u001b[38;2;239;97;61m\u001b[48;2;50;50;50mScore: Z = 1.96 for V_rest=-70mV on InjectedCurrentAPThresholdTest\u001b[49m\u001b[39m\n",
      "\u001b[38;2;197;231;126m\u001b[48;2;50;50;50mScore: Ratio = 0.41 for V_rest=-60mV on RheobaseTest\u001b[49m\u001b[39m\n",
      "\u001b[38;2;229;244;155m\u001b[48;2;50;50;50mScore: Z = -0.53 for V_rest=-60mV on InputResistanceTest\u001b[49m\u001b[39m\n",
      "\u001b[38;2;255;238;162m\u001b[48;2;50;50;50mScore: Z = -0.81 for V_rest=-60mV on TimeConstantTest\u001b[49m\u001b[39m\n",
      "\u001b[38;2;137;205;103m\u001b[48;2;50;50;50mScore: Z = -0.19 for V_rest=-60mV on CapacitanceTest\u001b[49m\u001b[39m\n",
      "\u001b[38;2;253;170;95m\u001b[48;2;50;50;50mScore: Z = 1.26 for V_rest=-60mV on RestingPotentialTest\u001b[49m\u001b[39m\n",
      "\u001b[38;2;246;251;178m\u001b[48;2;50;50;50mScore: Z = -0.62 for V_rest=-60mV on InjectedCurrentAPWidthTest\u001b[49m\u001b[39m\n",
      "\u001b[38;2;245;114;69m\u001b[48;2;50;50;50mScore: Z = -1.72 for V_rest=-60mV on InjectedCurrentAPAmplitudeTest\u001b[49m\u001b[39m\n",
      "\u001b[38;2;233;85;56m\u001b[48;2;50;50;50mScore: Z = 2.39 for V_rest=-60mV on InjectedCurrentAPThresholdTest\u001b[49m\u001b[39m\n",
      "\u001b[38;2;254;191;111m\u001b[48;2;50;50;50mScore: Ratio = 0.08 for V_rest=-50mV on RheobaseTest\u001b[49m\u001b[39m\n",
      "\u001b[38;2;169;219;108m\u001b[48;2;50;50;50mScore: Z = 0.29 for V_rest=-50mV on InputResistanceTest\u001b[49m\u001b[39m\n",
      "\u001b[38;2;201;233;129m\u001b[48;2;50;50;50mScore: Z = 0.40 for V_rest=-50mV on TimeConstantTest\u001b[49m\u001b[39m\n",
      "\u001b[38;2;120;197;101m\u001b[48;2;50;50;50mScore: Z = -0.14 for V_rest=-50mV on CapacitanceTest\u001b[49m\u001b[39m\n",
      "\u001b[38;2;230;78;52m\u001b[48;2;50;50;50mScore: Z = 2.79 for V_rest=-50mV on RestingPotentialTest\u001b[49m\u001b[39m\n",
      "\u001b[38;2;228;244;153m\u001b[48;2;50;50;50mScore: Z = -0.52 for V_rest=-50mV on InjectedCurrentAPWidthTest\u001b[49m\u001b[39m\n",
      "\u001b[38;2;239;97;61m\u001b[48;2;50;50;50mScore: Z = -2.01 for V_rest=-50mV on InjectedCurrentAPAmplitudeTest\u001b[49m\u001b[39m\n",
      "\u001b[38;2;230;78;52m\u001b[48;2;50;50;50mScore: Z = 2.85 for V_rest=-50mV on InjectedCurrentAPThresholdTest\u001b[49m\u001b[39m\n"
     ]
    }
   ],
   "source": [
    "score_matrix = suite.judge(models)"
   ]
  },
  {
   "cell_type": "code",
   "execution_count": 8,
   "metadata": {},
   "outputs": [
    {
     "data": {
      "text/html": [
       "<style  type=\"text/css\" >\n",
       "#T_67999910_acd4_11eb_b4b3_ac1f6b647d9arow0_col0,#T_67999910_acd4_11eb_b4b3_ac1f6b647d9arow4_col1{\n",
       "            background-color:  rgb(50, 50, 50);\n",
       "             color:  rgb(165, 217, 106);\n",
       "             text-align:  center;\n",
       "        }#T_67999910_acd4_11eb_b4b3_ac1f6b647d9arow0_col1{\n",
       "            background-color:  rgb(50, 50, 50);\n",
       "             color:  rgb(63, 170, 89);\n",
       "             text-align:  center;\n",
       "        }#T_67999910_acd4_11eb_b4b3_ac1f6b647d9arow0_col2{\n",
       "            background-color:  rgb(50, 50, 50);\n",
       "             color:  rgb(197, 231, 126);\n",
       "             text-align:  center;\n",
       "        }#T_67999910_acd4_11eb_b4b3_ac1f6b647d9arow0_col3{\n",
       "            background-color:  rgb(50, 50, 50);\n",
       "             color:  rgb(254, 191, 111);\n",
       "             text-align:  center;\n",
       "        }#T_67999910_acd4_11eb_b4b3_ac1f6b647d9arow1_col0{\n",
       "            background-color:  rgb(50, 50, 50);\n",
       "             color:  rgb(254, 203, 121);\n",
       "             text-align:  center;\n",
       "        }#T_67999910_acd4_11eb_b4b3_ac1f6b647d9arow1_col1{\n",
       "            background-color:  rgb(50, 50, 50);\n",
       "             color:  rgb(255, 230, 149);\n",
       "             text-align:  center;\n",
       "        }#T_67999910_acd4_11eb_b4b3_ac1f6b647d9arow1_col2{\n",
       "            background-color:  rgb(50, 50, 50);\n",
       "             color:  rgb(229, 244, 155);\n",
       "             text-align:  center;\n",
       "        }#T_67999910_acd4_11eb_b4b3_ac1f6b647d9arow1_col3{\n",
       "            background-color:  rgb(50, 50, 50);\n",
       "             color:  rgb(169, 219, 108);\n",
       "             text-align:  center;\n",
       "        }#T_67999910_acd4_11eb_b4b3_ac1f6b647d9arow2_col0{\n",
       "            background-color:  rgb(50, 50, 50);\n",
       "             color:  rgb(248, 137, 80);\n",
       "             text-align:  center;\n",
       "        }#T_67999910_acd4_11eb_b4b3_ac1f6b647d9arow2_col1{\n",
       "            background-color:  rgb(50, 50, 50);\n",
       "             color:  rgb(253, 168, 94);\n",
       "             text-align:  center;\n",
       "        }#T_67999910_acd4_11eb_b4b3_ac1f6b647d9arow2_col2{\n",
       "            background-color:  rgb(50, 50, 50);\n",
       "             color:  rgb(255, 238, 162);\n",
       "             text-align:  center;\n",
       "        }#T_67999910_acd4_11eb_b4b3_ac1f6b647d9arow2_col3{\n",
       "            background-color:  rgb(50, 50, 50);\n",
       "             color:  rgb(201, 233, 129);\n",
       "             text-align:  center;\n",
       "        }#T_67999910_acd4_11eb_b4b3_ac1f6b647d9arow3_col0{\n",
       "            background-color:  rgb(50, 50, 50);\n",
       "             color:  rgb(147, 209, 104);\n",
       "             text-align:  center;\n",
       "        }#T_67999910_acd4_11eb_b4b3_ac1f6b647d9arow3_col1{\n",
       "            background-color:  rgb(50, 50, 50);\n",
       "             color:  rgb(145, 208, 104);\n",
       "             text-align:  center;\n",
       "        }#T_67999910_acd4_11eb_b4b3_ac1f6b647d9arow3_col2{\n",
       "            background-color:  rgb(50, 50, 50);\n",
       "             color:  rgb(137, 205, 103);\n",
       "             text-align:  center;\n",
       "        }#T_67999910_acd4_11eb_b4b3_ac1f6b647d9arow3_col3{\n",
       "            background-color:  rgb(50, 50, 50);\n",
       "             color:  rgb(120, 197, 101);\n",
       "             text-align:  center;\n",
       "        }#T_67999910_acd4_11eb_b4b3_ac1f6b647d9arow4_col0{\n",
       "            background-color:  rgb(50, 50, 50);\n",
       "             color:  rgb(243, 107, 66);\n",
       "             text-align:  center;\n",
       "        }#T_67999910_acd4_11eb_b4b3_ac1f6b647d9arow4_col2{\n",
       "            background-color:  rgb(50, 50, 50);\n",
       "             color:  rgb(253, 170, 95);\n",
       "             text-align:  center;\n",
       "        }#T_67999910_acd4_11eb_b4b3_ac1f6b647d9arow4_col3,#T_67999910_acd4_11eb_b4b3_ac1f6b647d9arow7_col3{\n",
       "            background-color:  rgb(50, 50, 50);\n",
       "             color:  rgb(230, 78, 52);\n",
       "             text-align:  center;\n",
       "        }#T_67999910_acd4_11eb_b4b3_ac1f6b647d9arow5_col0{\n",
       "            background-color:  rgb(50, 50, 50);\n",
       "             color:  rgb(255, 239, 164);\n",
       "             text-align:  center;\n",
       "        }#T_67999910_acd4_11eb_b4b3_ac1f6b647d9arow5_col1{\n",
       "            background-color:  rgb(50, 50, 50);\n",
       "             color:  rgb(255, 251, 184);\n",
       "             text-align:  center;\n",
       "        }#T_67999910_acd4_11eb_b4b3_ac1f6b647d9arow5_col2{\n",
       "            background-color:  rgb(50, 50, 50);\n",
       "             color:  rgb(246, 251, 178);\n",
       "             text-align:  center;\n",
       "        }#T_67999910_acd4_11eb_b4b3_ac1f6b647d9arow5_col3{\n",
       "            background-color:  rgb(50, 50, 50);\n",
       "             color:  rgb(228, 244, 153);\n",
       "             text-align:  center;\n",
       "        }#T_67999910_acd4_11eb_b4b3_ac1f6b647d9arow6_col0{\n",
       "            background-color:  rgb(50, 50, 50);\n",
       "             color:  rgb(254, 175, 98);\n",
       "             text-align:  center;\n",
       "        }#T_67999910_acd4_11eb_b4b3_ac1f6b647d9arow6_col1{\n",
       "            background-color:  rgb(50, 50, 50);\n",
       "             color:  rgb(249, 142, 82);\n",
       "             text-align:  center;\n",
       "        }#T_67999910_acd4_11eb_b4b3_ac1f6b647d9arow6_col2{\n",
       "            background-color:  rgb(50, 50, 50);\n",
       "             color:  rgb(245, 114, 69);\n",
       "             text-align:  center;\n",
       "        }#T_67999910_acd4_11eb_b4b3_ac1f6b647d9arow6_col3,#T_67999910_acd4_11eb_b4b3_ac1f6b647d9arow7_col1{\n",
       "            background-color:  rgb(50, 50, 50);\n",
       "             color:  rgb(239, 97, 61);\n",
       "             text-align:  center;\n",
       "        }#T_67999910_acd4_11eb_b4b3_ac1f6b647d9arow7_col0{\n",
       "            background-color:  rgb(50, 50, 50);\n",
       "             color:  rgb(247, 124, 74);\n",
       "             text-align:  center;\n",
       "        }#T_67999910_acd4_11eb_b4b3_ac1f6b647d9arow7_col2{\n",
       "            background-color:  rgb(50, 50, 50);\n",
       "             color:  rgb(233, 85, 56);\n",
       "             text-align:  center;\n",
       "        }</style><table id=\"T_67999910_acd4_11eb_b4b3_ac1f6b647d9a\" ><thead>    <tr>        <th class=\"blank level0\" ></th>        <th class=\"col_heading level0 col0\" >V_rest=-80mV</th>        <th class=\"col_heading level0 col1\" >V_rest=-70mV</th>        <th class=\"col_heading level0 col2\" >V_rest=-60mV</th>        <th class=\"col_heading level0 col3\" >V_rest=-50mV</th>    </tr></thead><tbody>\n",
       "                <tr>\n",
       "                        <th id=\"T_67999910_acd4_11eb_b4b3_ac1f6b647d9alevel0_row0\" class=\"row_heading level0 row0\" >RheobaseTest</th>\n",
       "                        <td id=\"T_67999910_acd4_11eb_b4b3_ac1f6b647d9arow0_col0\" class=\"data row0 col0\" >Ratio = 1.87</td>\n",
       "                        <td id=\"T_67999910_acd4_11eb_b4b3_ac1f6b647d9arow0_col1\" class=\"data row0 col1\" >Ratio = 1.01</td>\n",
       "                        <td id=\"T_67999910_acd4_11eb_b4b3_ac1f6b647d9arow0_col2\" class=\"data row0 col2\" >Ratio = 0.41</td>\n",
       "                        <td id=\"T_67999910_acd4_11eb_b4b3_ac1f6b647d9arow0_col3\" class=\"data row0 col3\" >Ratio = 0.08</td>\n",
       "            </tr>\n",
       "            <tr>\n",
       "                        <th id=\"T_67999910_acd4_11eb_b4b3_ac1f6b647d9alevel0_row1\" class=\"row_heading level0 row1\" >InputResistanceTest</th>\n",
       "                        <td id=\"T_67999910_acd4_11eb_b4b3_ac1f6b647d9arow1_col0\" class=\"data row1 col0\" >Z = -1.04</td>\n",
       "                        <td id=\"T_67999910_acd4_11eb_b4b3_ac1f6b647d9arow1_col1\" class=\"data row1 col1\" >Z = -0.87</td>\n",
       "                        <td id=\"T_67999910_acd4_11eb_b4b3_ac1f6b647d9arow1_col2\" class=\"data row1 col2\" >Z = -0.53</td>\n",
       "                        <td id=\"T_67999910_acd4_11eb_b4b3_ac1f6b647d9arow1_col3\" class=\"data row1 col3\" >Z = 0.29</td>\n",
       "            </tr>\n",
       "            <tr>\n",
       "                        <th id=\"T_67999910_acd4_11eb_b4b3_ac1f6b647d9alevel0_row2\" class=\"row_heading level0 row2\" >TimeConstantTest</th>\n",
       "                        <td id=\"T_67999910_acd4_11eb_b4b3_ac1f6b647d9arow2_col0\" class=\"data row2 col0\" >Z = -1.50</td>\n",
       "                        <td id=\"T_67999910_acd4_11eb_b4b3_ac1f6b647d9arow2_col1\" class=\"data row2 col1\" >Z = -1.27</td>\n",
       "                        <td id=\"T_67999910_acd4_11eb_b4b3_ac1f6b647d9arow2_col2\" class=\"data row2 col2\" >Z = -0.81</td>\n",
       "                        <td id=\"T_67999910_acd4_11eb_b4b3_ac1f6b647d9arow2_col3\" class=\"data row2 col3\" >Z = 0.40</td>\n",
       "            </tr>\n",
       "            <tr>\n",
       "                        <th id=\"T_67999910_acd4_11eb_b4b3_ac1f6b647d9alevel0_row3\" class=\"row_heading level0 row3\" >CapacitanceTest</th>\n",
       "                        <td id=\"T_67999910_acd4_11eb_b4b3_ac1f6b647d9arow3_col0\" class=\"data row3 col0\" >Z = -0.22</td>\n",
       "                        <td id=\"T_67999910_acd4_11eb_b4b3_ac1f6b647d9arow3_col1\" class=\"data row3 col1\" >Z = -0.22</td>\n",
       "                        <td id=\"T_67999910_acd4_11eb_b4b3_ac1f6b647d9arow3_col2\" class=\"data row3 col2\" >Z = -0.19</td>\n",
       "                        <td id=\"T_67999910_acd4_11eb_b4b3_ac1f6b647d9arow3_col3\" class=\"data row3 col3\" >Z = -0.14</td>\n",
       "            </tr>\n",
       "            <tr>\n",
       "                        <th id=\"T_67999910_acd4_11eb_b4b3_ac1f6b647d9alevel0_row4\" class=\"row_heading level0 row4\" >RestingPotentialTest</th>\n",
       "                        <td id=\"T_67999910_acd4_11eb_b4b3_ac1f6b647d9arow4_col0\" class=\"data row4 col0\" >Z = -1.80</td>\n",
       "                        <td id=\"T_67999910_acd4_11eb_b4b3_ac1f6b647d9arow4_col1\" class=\"data row4 col1\" >Z = -0.27</td>\n",
       "                        <td id=\"T_67999910_acd4_11eb_b4b3_ac1f6b647d9arow4_col2\" class=\"data row4 col2\" >Z = 1.26</td>\n",
       "                        <td id=\"T_67999910_acd4_11eb_b4b3_ac1f6b647d9arow4_col3\" class=\"data row4 col3\" >Z = 2.79</td>\n",
       "            </tr>\n",
       "            <tr>\n",
       "                        <th id=\"T_67999910_acd4_11eb_b4b3_ac1f6b647d9alevel0_row5\" class=\"row_heading level0 row5\" >InjectedCurrentAPWidthTest</th>\n",
       "                        <td id=\"T_67999910_acd4_11eb_b4b3_ac1f6b647d9arow5_col0\" class=\"data row5 col0\" >Z = -0.80</td>\n",
       "                        <td id=\"T_67999910_acd4_11eb_b4b3_ac1f6b647d9arow5_col1\" class=\"data row5 col1\" >Z = -0.71</td>\n",
       "                        <td id=\"T_67999910_acd4_11eb_b4b3_ac1f6b647d9arow5_col2\" class=\"data row5 col2\" >Z = -0.62</td>\n",
       "                        <td id=\"T_67999910_acd4_11eb_b4b3_ac1f6b647d9arow5_col3\" class=\"data row5 col3\" >Z = -0.52</td>\n",
       "            </tr>\n",
       "            <tr>\n",
       "                        <th id=\"T_67999910_acd4_11eb_b4b3_ac1f6b647d9alevel0_row6\" class=\"row_heading level0 row6\" >InjectedCurrentAPAmplitudeTest</th>\n",
       "                        <td id=\"T_67999910_acd4_11eb_b4b3_ac1f6b647d9arow6_col0\" class=\"data row6 col0\" >Z = -1.22</td>\n",
       "                        <td id=\"T_67999910_acd4_11eb_b4b3_ac1f6b647d9arow6_col1\" class=\"data row6 col1\" >Z = -1.46</td>\n",
       "                        <td id=\"T_67999910_acd4_11eb_b4b3_ac1f6b647d9arow6_col2\" class=\"data row6 col2\" >Z = -1.72</td>\n",
       "                        <td id=\"T_67999910_acd4_11eb_b4b3_ac1f6b647d9arow6_col3\" class=\"data row6 col3\" >Z = -2.01</td>\n",
       "            </tr>\n",
       "            <tr>\n",
       "                        <th id=\"T_67999910_acd4_11eb_b4b3_ac1f6b647d9alevel0_row7\" class=\"row_heading level0 row7\" >InjectedCurrentAPThresholdTest</th>\n",
       "                        <td id=\"T_67999910_acd4_11eb_b4b3_ac1f6b647d9arow7_col0\" class=\"data row7 col0\" >Z = 1.59</td>\n",
       "                        <td id=\"T_67999910_acd4_11eb_b4b3_ac1f6b647d9arow7_col1\" class=\"data row7 col1\" >Z = 1.96</td>\n",
       "                        <td id=\"T_67999910_acd4_11eb_b4b3_ac1f6b647d9arow7_col2\" class=\"data row7 col2\" >Z = 2.39</td>\n",
       "                        <td id=\"T_67999910_acd4_11eb_b4b3_ac1f6b647d9arow7_col3\" class=\"data row7 col3\" >Z = 2.85</td>\n",
       "            </tr>\n",
       "    </tbody></table>"
      ],
      "text/plain": [
       "                                V_rest=-80mV  V_rest=-70mV  V_rest=-60mV  \\\n",
       "RheobaseTest                    Ratio = 1.87  Ratio = 1.01  Ratio = 0.41   \n",
       "InputResistanceTest                Z = -1.04     Z = -0.87     Z = -0.53   \n",
       "TimeConstantTest                   Z = -1.50     Z = -1.27     Z = -0.81   \n",
       "CapacitanceTest                    Z = -0.22     Z = -0.22     Z = -0.19   \n",
       "RestingPotentialTest               Z = -1.80     Z = -0.27      Z = 1.26   \n",
       "InjectedCurrentAPWidthTest         Z = -0.80     Z = -0.71     Z = -0.62   \n",
       "InjectedCurrentAPAmplitudeTest     Z = -1.22     Z = -1.46     Z = -1.72   \n",
       "InjectedCurrentAPThresholdTest      Z = 1.59      Z = 1.96      Z = 2.39   \n",
       "\n",
       "                                V_rest=-50mV  \n",
       "RheobaseTest                    Ratio = 0.08  \n",
       "InputResistanceTest                 Z = 0.29  \n",
       "TimeConstantTest                    Z = 0.40  \n",
       "CapacitanceTest                    Z = -0.14  \n",
       "RestingPotentialTest                Z = 2.79  \n",
       "InjectedCurrentAPWidthTest         Z = -0.52  \n",
       "InjectedCurrentAPAmplitudeTest     Z = -2.01  \n",
       "InjectedCurrentAPThresholdTest      Z = 2.85  "
      ]
     },
     "execution_count": 8,
     "metadata": {},
     "output_type": "execute_result"
    }
   ],
   "source": [
    "score_matrix.show_mean = True # Show the mean value across test scores. \n",
    "                              # The mean is computed using the norm_score attribute, which is in the range [0,1] for\n",
    "                              # all Score types\n",
    "score_matrix.T"
   ]
  },
  {
   "cell_type": "markdown",
   "metadata": {},
   "source": [
    "### Let's take a look at a sweep from one of these models ($V_{rest} = -60 mV$) obtained at the rheobase current.  "
   ]
  },
  {
   "cell_type": "code",
   "execution_count": 9,
   "metadata": {},
   "outputs": [
    {
     "data": {
      "image/png": "[encoded data removed]",
      "text/plain": [
       "<Figure size 432x288 with 1 Axes>"
      ]
     },
     "metadata": {
      "needs_background": "light"
     },
     "output_type": "display_data"
    }
   ],
   "source": [
    "score_matrix['RheobaseTest']['V_rest=-60mV'].plot_vm() # Plot the rheobase current from the model with V_rest = -60 mV"
   ]
  }
 ],
 "metadata": {
  "kernelspec": {
   "display_name": "Python 3",
   "language": "python",
   "name": "python3"
  },
  "language_info": {
   "codemirror_mode": {
    "name": "ipython",
    "version": 3
   },
   "file_extension": ".py",
   "mimetype": "text/x-python",
   "name": "python",
   "nbconvert_exporter": "python",
   "pygments_lexer": "ipython3",
   "version": "3.8.3"
  }
 },
 "nbformat": 4,
 "nbformat_minor": 4
}
